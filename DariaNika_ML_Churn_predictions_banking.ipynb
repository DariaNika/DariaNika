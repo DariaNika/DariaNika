{
  "cells": [
    {
      "cell_type": "markdown",
      "metadata": {
        "id": "qvh-UszMUtAV"
      },
      "source": [
        "# Отток клиентов"
      ]
    },
    {
      "cell_type": "markdown",
      "metadata": {
        "id": "7xpFtBJJUtAW"
      },
      "source": [
        "Техническое задание:\n",
        "\n",
        "Из «Бета-Банка» стали уходить клиенты. Каждый месяц. Немного, но заметно. Банковские маркетологи посчитали: сохранять текущих клиентов дешевле, чем привлекать новых.\n",
        "\n",
        "Нужно спрогнозировать, уйдёт клиент из банка в ближайшее время или нет. Предоставлены исторические данные о поведении клиентов и расторжении договоров с банком. \n",
        "\n",
        "Необходимо построить модель с предельно большим значением *F1*-меры (не менее 0.59). Также нужно проанализировать *AUC-ROC*.\n",
        "\n",
        "В проекте использованы библиотеки pandas, matplotlib, numpy, sklearn. Данные проаназилированы. Отток клиентов предсказан с помощью моделей дерева решений, случайного леса и логистической регрессии. Предсказание идёт как на числовых, так и на категориальных переменных (перекодированы в дихотомические с помощью OHE). В ходе исследования пришлось работать с дисбалансом классов (отток клиентов происходит значительно реже, чем удержание). Отработано взврешивание классов, ресемплинг, изменение порога. На каждом этапе модели сравниваются по F1, accuracy И AUC-ROC."
      ]
    },
    {
      "cell_type": "markdown",
      "metadata": {
        "id": "6mRsidHUUtAX"
      },
      "source": [
        "## Подготовка данных"
      ]
    },
    {
      "cell_type": "markdown",
      "metadata": {
        "id": "GcqJTeTFUtAY"
      },
      "source": [
        "Импортируем модули, которые нам понадобятся для дальнейшей работы."
      ]
    },
    {
      "cell_type": "code",
      "execution_count": 1,
      "metadata": {
        "id": "frv4XKT5UtAY"
      },
      "outputs": [],
      "source": [
        "import pandas as pd\n",
        "import matplotlib.pyplot as plt\n",
        "import numpy as np\n",
        "from sklearn.tree import DecisionTreeClassifier\n",
        "from sklearn.ensemble import RandomForestClassifier\n",
        "from sklearn.linear_model import LogisticRegression\n",
        "from sklearn.model_selection import train_test_split\n",
        "from sklearn.metrics import accuracy_score, f1_score, roc_auc_score, roc_curve\n",
        "from sklearn import tree\n",
        "from sklearn.utils import shuffle\n",
        "from sklearn.dummy import DummyClassifier\n",
        "import warnings\n",
        "warnings.simplefilter('ignore')"
      ]
    },
    {
      "cell_type": "markdown",
      "metadata": {
        "id": "Om6R11BXUtAa"
      },
      "source": [
        "<div class=\"alert alert-block alert-success\">\n",
        "<b>Успех:</b> Отлично, что все импорты собраны в первой ячейке ноутбука! Если у того, кто будет запускать твой ноутбук будут отсутствовать некоторые библиотеки, то он это увидит сразу, а не в процессе!\n",
        "</div>"
      ]
    },
    {
      "cell_type": "markdown",
      "metadata": {
        "id": "juX9wN8wUtAa"
      },
      "source": [
        "Читаем базу данных."
      ]
    },
    {
      "cell_type": "code",
      "execution_count": 2,
      "metadata": {
        "colab": {
          "base_uri": "https://localhost:8080/",
          "height": 0
        },
        "id": "GzMXFJuwUtAa",
        "outputId": "91fc7f97-12b8-4f03-8ec9-6e4248002c56"
      },
      "outputs": [
        {
          "output_type": "display_data",
          "data": {
            "text/plain": [
              "      RowNumber  CustomerId    Surname  CreditScore Geography  Gender  Age  \\\n",
              "0             1    15634602   Hargrave          619    France  Female   42   \n",
              "1             2    15647311       Hill          608     Spain  Female   41   \n",
              "2             3    15619304       Onio          502    France  Female   42   \n",
              "3             4    15701354       Boni          699    France  Female   39   \n",
              "4             5    15737888   Mitchell          850     Spain  Female   43   \n",
              "...         ...         ...        ...          ...       ...     ...  ...   \n",
              "9995       9996    15606229   Obijiaku          771    France    Male   39   \n",
              "9996       9997    15569892  Johnstone          516    France    Male   35   \n",
              "9997       9998    15584532        Liu          709    France  Female   36   \n",
              "9998       9999    15682355  Sabbatini          772   Germany    Male   42   \n",
              "9999      10000    15628319     Walker          792    France  Female   28   \n",
              "\n",
              "      Tenure    Balance  NumOfProducts  HasCrCard  IsActiveMember  \\\n",
              "0        2.0       0.00              1          1               1   \n",
              "1        1.0   83807.86              1          0               1   \n",
              "2        8.0  159660.80              3          1               0   \n",
              "3        1.0       0.00              2          0               0   \n",
              "4        2.0  125510.82              1          1               1   \n",
              "...      ...        ...            ...        ...             ...   \n",
              "9995     5.0       0.00              2          1               0   \n",
              "9996    10.0   57369.61              1          1               1   \n",
              "9997     7.0       0.00              1          0               1   \n",
              "9998     3.0   75075.31              2          1               0   \n",
              "9999     NaN  130142.79              1          1               0   \n",
              "\n",
              "      EstimatedSalary  Exited  \n",
              "0           101348.88       1  \n",
              "1           112542.58       0  \n",
              "2           113931.57       1  \n",
              "3            93826.63       0  \n",
              "4            79084.10       0  \n",
              "...               ...     ...  \n",
              "9995         96270.64       0  \n",
              "9996        101699.77       0  \n",
              "9997         42085.58       1  \n",
              "9998         92888.52       1  \n",
              "9999         38190.78       0  \n",
              "\n",
              "[10000 rows x 14 columns]"
            ],
            "text/html": [
              "\n",
              "  <div id=\"df-2962590b-63c8-4136-b054-e19ca054d492\">\n",
              "    <div class=\"colab-df-container\">\n",
              "      <div>\n",
              "<style scoped>\n",
              "    .dataframe tbody tr th:only-of-type {\n",
              "        vertical-align: middle;\n",
              "    }\n",
              "\n",
              "    .dataframe tbody tr th {\n",
              "        vertical-align: top;\n",
              "    }\n",
              "\n",
              "    .dataframe thead th {\n",
              "        text-align: right;\n",
              "    }\n",
              "</style>\n",
              "<table border=\"1\" class=\"dataframe\">\n",
              "  <thead>\n",
              "    <tr style=\"text-align: right;\">\n",
              "      <th></th>\n",
              "      <th>RowNumber</th>\n",
              "      <th>CustomerId</th>\n",
              "      <th>Surname</th>\n",
              "      <th>CreditScore</th>\n",
              "      <th>Geography</th>\n",
              "      <th>Gender</th>\n",
              "      <th>Age</th>\n",
              "      <th>Tenure</th>\n",
              "      <th>Balance</th>\n",
              "      <th>NumOfProducts</th>\n",
              "      <th>HasCrCard</th>\n",
              "      <th>IsActiveMember</th>\n",
              "      <th>EstimatedSalary</th>\n",
              "      <th>Exited</th>\n",
              "    </tr>\n",
              "  </thead>\n",
              "  <tbody>\n",
              "    <tr>\n",
              "      <th>0</th>\n",
              "      <td>1</td>\n",
              "      <td>15634602</td>\n",
              "      <td>Hargrave</td>\n",
              "      <td>619</td>\n",
              "      <td>France</td>\n",
              "      <td>Female</td>\n",
              "      <td>42</td>\n",
              "      <td>2.0</td>\n",
              "      <td>0.00</td>\n",
              "      <td>1</td>\n",
              "      <td>1</td>\n",
              "      <td>1</td>\n",
              "      <td>101348.88</td>\n",
              "      <td>1</td>\n",
              "    </tr>\n",
              "    <tr>\n",
              "      <th>1</th>\n",
              "      <td>2</td>\n",
              "      <td>15647311</td>\n",
              "      <td>Hill</td>\n",
              "      <td>608</td>\n",
              "      <td>Spain</td>\n",
              "      <td>Female</td>\n",
              "      <td>41</td>\n",
              "      <td>1.0</td>\n",
              "      <td>83807.86</td>\n",
              "      <td>1</td>\n",
              "      <td>0</td>\n",
              "      <td>1</td>\n",
              "      <td>112542.58</td>\n",
              "      <td>0</td>\n",
              "    </tr>\n",
              "    <tr>\n",
              "      <th>2</th>\n",
              "      <td>3</td>\n",
              "      <td>15619304</td>\n",
              "      <td>Onio</td>\n",
              "      <td>502</td>\n",
              "      <td>France</td>\n",
              "      <td>Female</td>\n",
              "      <td>42</td>\n",
              "      <td>8.0</td>\n",
              "      <td>159660.80</td>\n",
              "      <td>3</td>\n",
              "      <td>1</td>\n",
              "      <td>0</td>\n",
              "      <td>113931.57</td>\n",
              "      <td>1</td>\n",
              "    </tr>\n",
              "    <tr>\n",
              "      <th>3</th>\n",
              "      <td>4</td>\n",
              "      <td>15701354</td>\n",
              "      <td>Boni</td>\n",
              "      <td>699</td>\n",
              "      <td>France</td>\n",
              "      <td>Female</td>\n",
              "      <td>39</td>\n",
              "      <td>1.0</td>\n",
              "      <td>0.00</td>\n",
              "      <td>2</td>\n",
              "      <td>0</td>\n",
              "      <td>0</td>\n",
              "      <td>93826.63</td>\n",
              "      <td>0</td>\n",
              "    </tr>\n",
              "    <tr>\n",
              "      <th>4</th>\n",
              "      <td>5</td>\n",
              "      <td>15737888</td>\n",
              "      <td>Mitchell</td>\n",
              "      <td>850</td>\n",
              "      <td>Spain</td>\n",
              "      <td>Female</td>\n",
              "      <td>43</td>\n",
              "      <td>2.0</td>\n",
              "      <td>125510.82</td>\n",
              "      <td>1</td>\n",
              "      <td>1</td>\n",
              "      <td>1</td>\n",
              "      <td>79084.10</td>\n",
              "      <td>0</td>\n",
              "    </tr>\n",
              "    <tr>\n",
              "      <th>...</th>\n",
              "      <td>...</td>\n",
              "      <td>...</td>\n",
              "      <td>...</td>\n",
              "      <td>...</td>\n",
              "      <td>...</td>\n",
              "      <td>...</td>\n",
              "      <td>...</td>\n",
              "      <td>...</td>\n",
              "      <td>...</td>\n",
              "      <td>...</td>\n",
              "      <td>...</td>\n",
              "      <td>...</td>\n",
              "      <td>...</td>\n",
              "      <td>...</td>\n",
              "    </tr>\n",
              "    <tr>\n",
              "      <th>9995</th>\n",
              "      <td>9996</td>\n",
              "      <td>15606229</td>\n",
              "      <td>Obijiaku</td>\n",
              "      <td>771</td>\n",
              "      <td>France</td>\n",
              "      <td>Male</td>\n",
              "      <td>39</td>\n",
              "      <td>5.0</td>\n",
              "      <td>0.00</td>\n",
              "      <td>2</td>\n",
              "      <td>1</td>\n",
              "      <td>0</td>\n",
              "      <td>96270.64</td>\n",
              "      <td>0</td>\n",
              "    </tr>\n",
              "    <tr>\n",
              "      <th>9996</th>\n",
              "      <td>9997</td>\n",
              "      <td>15569892</td>\n",
              "      <td>Johnstone</td>\n",
              "      <td>516</td>\n",
              "      <td>France</td>\n",
              "      <td>Male</td>\n",
              "      <td>35</td>\n",
              "      <td>10.0</td>\n",
              "      <td>57369.61</td>\n",
              "      <td>1</td>\n",
              "      <td>1</td>\n",
              "      <td>1</td>\n",
              "      <td>101699.77</td>\n",
              "      <td>0</td>\n",
              "    </tr>\n",
              "    <tr>\n",
              "      <th>9997</th>\n",
              "      <td>9998</td>\n",
              "      <td>15584532</td>\n",
              "      <td>Liu</td>\n",
              "      <td>709</td>\n",
              "      <td>France</td>\n",
              "      <td>Female</td>\n",
              "      <td>36</td>\n",
              "      <td>7.0</td>\n",
              "      <td>0.00</td>\n",
              "      <td>1</td>\n",
              "      <td>0</td>\n",
              "      <td>1</td>\n",
              "      <td>42085.58</td>\n",
              "      <td>1</td>\n",
              "    </tr>\n",
              "    <tr>\n",
              "      <th>9998</th>\n",
              "      <td>9999</td>\n",
              "      <td>15682355</td>\n",
              "      <td>Sabbatini</td>\n",
              "      <td>772</td>\n",
              "      <td>Germany</td>\n",
              "      <td>Male</td>\n",
              "      <td>42</td>\n",
              "      <td>3.0</td>\n",
              "      <td>75075.31</td>\n",
              "      <td>2</td>\n",
              "      <td>1</td>\n",
              "      <td>0</td>\n",
              "      <td>92888.52</td>\n",
              "      <td>1</td>\n",
              "    </tr>\n",
              "    <tr>\n",
              "      <th>9999</th>\n",
              "      <td>10000</td>\n",
              "      <td>15628319</td>\n",
              "      <td>Walker</td>\n",
              "      <td>792</td>\n",
              "      <td>France</td>\n",
              "      <td>Female</td>\n",
              "      <td>28</td>\n",
              "      <td>NaN</td>\n",
              "      <td>130142.79</td>\n",
              "      <td>1</td>\n",
              "      <td>1</td>\n",
              "      <td>0</td>\n",
              "      <td>38190.78</td>\n",
              "      <td>0</td>\n",
              "    </tr>\n",
              "  </tbody>\n",
              "</table>\n",
              "<p>10000 rows × 14 columns</p>\n",
              "</div>\n",
              "      <button class=\"colab-df-convert\" onclick=\"convertToInteractive('df-2962590b-63c8-4136-b054-e19ca054d492')\"\n",
              "              title=\"Convert this dataframe to an interactive table.\"\n",
              "              style=\"display:none;\">\n",
              "        \n",
              "  <svg xmlns=\"http://www.w3.org/2000/svg\" height=\"24px\"viewBox=\"0 0 24 24\"\n",
              "       width=\"24px\">\n",
              "    <path d=\"M0 0h24v24H0V0z\" fill=\"none\"/>\n",
              "    <path d=\"M18.56 5.44l.94 2.06.94-2.06 2.06-.94-2.06-.94-.94-2.06-.94 2.06-2.06.94zm-11 1L8.5 8.5l.94-2.06 2.06-.94-2.06-.94L8.5 2.5l-.94 2.06-2.06.94zm10 10l.94 2.06.94-2.06 2.06-.94-2.06-.94-.94-2.06-.94 2.06-2.06.94z\"/><path d=\"M17.41 7.96l-1.37-1.37c-.4-.4-.92-.59-1.43-.59-.52 0-1.04.2-1.43.59L10.3 9.45l-7.72 7.72c-.78.78-.78 2.05 0 2.83L4 21.41c.39.39.9.59 1.41.59.51 0 1.02-.2 1.41-.59l7.78-7.78 2.81-2.81c.8-.78.8-2.07 0-2.86zM5.41 20L4 18.59l7.72-7.72 1.47 1.35L5.41 20z\"/>\n",
              "  </svg>\n",
              "      </button>\n",
              "      \n",
              "  <style>\n",
              "    .colab-df-container {\n",
              "      display:flex;\n",
              "      flex-wrap:wrap;\n",
              "      gap: 12px;\n",
              "    }\n",
              "\n",
              "    .colab-df-convert {\n",
              "      background-color: #E8F0FE;\n",
              "      border: none;\n",
              "      border-radius: 50%;\n",
              "      cursor: pointer;\n",
              "      display: none;\n",
              "      fill: #1967D2;\n",
              "      height: 32px;\n",
              "      padding: 0 0 0 0;\n",
              "      width: 32px;\n",
              "    }\n",
              "\n",
              "    .colab-df-convert:hover {\n",
              "      background-color: #E2EBFA;\n",
              "      box-shadow: 0px 1px 2px rgba(60, 64, 67, 0.3), 0px 1px 3px 1px rgba(60, 64, 67, 0.15);\n",
              "      fill: #174EA6;\n",
              "    }\n",
              "\n",
              "    [theme=dark] .colab-df-convert {\n",
              "      background-color: #3B4455;\n",
              "      fill: #D2E3FC;\n",
              "    }\n",
              "\n",
              "    [theme=dark] .colab-df-convert:hover {\n",
              "      background-color: #434B5C;\n",
              "      box-shadow: 0px 1px 3px 1px rgba(0, 0, 0, 0.15);\n",
              "      filter: drop-shadow(0px 1px 2px rgba(0, 0, 0, 0.3));\n",
              "      fill: #FFFFFF;\n",
              "    }\n",
              "  </style>\n",
              "\n",
              "      <script>\n",
              "        const buttonEl =\n",
              "          document.querySelector('#df-2962590b-63c8-4136-b054-e19ca054d492 button.colab-df-convert');\n",
              "        buttonEl.style.display =\n",
              "          google.colab.kernel.accessAllowed ? 'block' : 'none';\n",
              "\n",
              "        async function convertToInteractive(key) {\n",
              "          const element = document.querySelector('#df-2962590b-63c8-4136-b054-e19ca054d492');\n",
              "          const dataTable =\n",
              "            await google.colab.kernel.invokeFunction('convertToInteractive',\n",
              "                                                     [key], {});\n",
              "          if (!dataTable) return;\n",
              "\n",
              "          const docLinkHtml = 'Like what you see? Visit the ' +\n",
              "            '<a target=\"_blank\" href=https://colab.research.google.com/notebooks/data_table.ipynb>data table notebook</a>'\n",
              "            + ' to learn more about interactive tables.';\n",
              "          element.innerHTML = '';\n",
              "          dataTable['output_type'] = 'display_data';\n",
              "          await google.colab.output.renderOutput(dataTable, element);\n",
              "          const docLink = document.createElement('div');\n",
              "          docLink.innerHTML = docLinkHtml;\n",
              "          element.appendChild(docLink);\n",
              "        }\n",
              "      </script>\n",
              "    </div>\n",
              "  </div>\n",
              "  "
            ]
          },
          "metadata": {}
        },
        {
          "output_type": "stream",
          "name": "stdout",
          "text": [
            "<class 'pandas.core.frame.DataFrame'>\n",
            "RangeIndex: 10000 entries, 0 to 9999\n",
            "Data columns (total 14 columns):\n",
            " #   Column           Non-Null Count  Dtype  \n",
            "---  ------           --------------  -----  \n",
            " 0   RowNumber        10000 non-null  int64  \n",
            " 1   CustomerId       10000 non-null  int64  \n",
            " 2   Surname          10000 non-null  object \n",
            " 3   CreditScore      10000 non-null  int64  \n",
            " 4   Geography        10000 non-null  object \n",
            " 5   Gender           10000 non-null  object \n",
            " 6   Age              10000 non-null  int64  \n",
            " 7   Tenure           9091 non-null   float64\n",
            " 8   Balance          10000 non-null  float64\n",
            " 9   NumOfProducts    10000 non-null  int64  \n",
            " 10  HasCrCard        10000 non-null  int64  \n",
            " 11  IsActiveMember   10000 non-null  int64  \n",
            " 12  EstimatedSalary  10000 non-null  float64\n",
            " 13  Exited           10000 non-null  int64  \n",
            "dtypes: float64(3), int64(8), object(3)\n",
            "memory usage: 1.1+ MB\n"
          ]
        }
      ],
      "source": [
        "df_0 = pd.read_csv('Churn.csv', sep= ',')\n",
        "display(df_0)\n",
        "df_0.info()"
      ]
    },
    {
      "cell_type": "markdown",
      "metadata": {
        "id": "AUij-RhSUtAb"
      },
      "source": [
        "В предоставленной базе данных 14 столбцов, но только 10 из них будут предикторами: мы не будем использовать номер строки (RowNumber), ID пользователя (CustomerId) и фамилию (Surname), т.к. эти значения уникальны для каждого объекта и не относятся к причинам прекращения пользования услугами банка. Будем работать с таблицей без этих столбцов:"
      ]
    },
    {
      "cell_type": "code",
      "execution_count": 3,
      "metadata": {
        "id": "vbAYAHvAUtAc"
      },
      "outputs": [],
      "source": [
        "df = df_0.drop(['RowNumber','CustomerId','Surname'], axis=1)"
      ]
    },
    {
      "cell_type": "markdown",
      "metadata": {
        "id": "dCxiE58TUtAc"
      },
      "source": [
        "Есть пропуски в переменной длительности пользования услугами банка ('Tenure'), но восстановить их по прочим признакам не представляется возможным, нет ни корреляции, ни какой-либо связи с другими признаками. Заполнить отсутствующие значения 0 мы не можем, т.к. это не верно с точки зрения значения переменной. Оставить пропуски тоже нельзя, т.к. обучаемые модели требуют 100% заполнения данных. В результате эксперимента было обнаружено, что качество модели выше, если использовать только 9091 записей, где есть 100% данных, чем качество модели, в которой не учитывается признак Tenure, поэтому принято решение оставить в базе для анализа только 9091 объектов."
      ]
    },
    {
      "cell_type": "code",
      "execution_count": 4,
      "metadata": {
        "colab": {
          "base_uri": "https://localhost:8080/"
        },
        "id": "8E86Bie4UtAd",
        "outputId": "09e5fc8b-c0cb-4371-83a7-af9efa6810f3"
      },
      "outputs": [
        {
          "output_type": "execute_result",
          "data": {
            "text/plain": [
              "(9091, 11)"
            ]
          },
          "metadata": {},
          "execution_count": 4
        }
      ],
      "source": [
        "df = df.dropna()\n",
        "df.shape"
      ]
    },
    {
      "cell_type": "markdown",
      "metadata": {
        "id": "srjNMNePUtAd"
      },
      "source": [
        "По прочим характеристикам каждого пользователя мы постараемся предсказать признак остановки обслуживания (Exited).\n",
        "\n",
        "Столбцы таблицы названы не в соответствии со \"snake case\", но без пробелом, сочтём это некритичным.\n",
        "\n",
        "Посмотрим на распределения данных визуально."
      ]
    },
    {
      "cell_type": "code",
      "execution_count": 5,
      "metadata": {
        "colab": {
          "base_uri": "https://localhost:8080/",
          "height": 0
        },
        "id": "Vv73hw0SUtAf",
        "outputId": "63e93c79-ed21-4018-d4f4-70ca14bf42d4"
      },
      "outputs": [
        {
          "output_type": "display_data",
          "data": {
            "text/plain": [
              "<Figure size 1080x864 with 9 Axes>"
            ],
            "image/png": "[encoded data removed]"
          },
          "metadata": {
            "needs_background": "light"
          }
        }
      ],
      "source": [
        "df.hist(\n",
        "    bins = 30,\n",
        "    color = 'purple',\n",
        "    figsize = (15,12))\n",
        "plt.show()"
      ]
    },
    {
      "cell_type": "markdown",
      "metadata": {
        "id": "fK7mqHm-UtAg"
      },
      "source": [
        "Добавим распределения текстовых переменных:"
      ]
    },
    {
      "cell_type": "code",
      "execution_count": 6,
      "metadata": {
        "colab": {
          "base_uri": "https://localhost:8080/"
        },
        "id": "B3YSDTo3UtAg",
        "outputId": "071cce85-f96e-4c98-8d79-8d97f810fbad"
      },
      "outputs": [
        {
          "output_type": "stream",
          "name": "stdout",
          "text": [
            "France     4550\n",
            "Germany    2293\n",
            "Spain      2248\n",
            "Name: Geography, dtype: int64\n"
          ]
        },
        {
          "output_type": "execute_result",
          "data": {
            "text/plain": [
              "Male      4974\n",
              "Female    4117\n",
              "Name: Gender, dtype: int64"
            ]
          },
          "metadata": {},
          "execution_count": 6
        }
      ],
      "source": [
        "print(df['Geography'].value_counts())\n",
        "df['Gender'].value_counts()"
      ]
    },
    {
      "cell_type": "markdown",
      "metadata": {
        "id": "kJBpTCxzUtAg"
      },
      "source": [
        "Ряд признаков несбалансирован: существенная часть потребителей имеет нулевой баланс, количество потребителей, имеющих более 2 продуктов, можно было бы приравнять к 2, однако подобные перекодировки приведут к потере объема данных и ухудшению модели. Отметим, что баланс классов целевого признака также не соблюдается: предсказывая 100% удержание клиентов, мы будем правы в 4 из 5 случаев. Посмотрим, нет ли мультиколлинеарности между признаками, чтобы исключить те из них, что по сути являются одним и тем же фактором:"
      ]
    },
    {
      "cell_type": "code",
      "execution_count": 7,
      "metadata": {
        "colab": {
          "base_uri": "https://localhost:8080/",
          "height": 0
        },
        "id": "2GxMaQ8OUtAg",
        "outputId": "6409194b-3f71-477b-8f38-b49436e14c77"
      },
      "outputs": [
        {
          "output_type": "execute_result",
          "data": {
            "text/plain": [
              "                 CreditScore       Age    Tenure   Balance  NumOfProducts  \\\n",
              "CreditScore         1.000000 -0.004504 -0.000062  0.002804       0.011090   \n",
              "Age                -0.004504  1.000000 -0.013134  0.031481      -0.031877   \n",
              "Tenure             -0.000062 -0.013134  1.000000 -0.007911       0.011979   \n",
              "Balance             0.002804  0.031481 -0.007911  1.000000      -0.301858   \n",
              "NumOfProducts       0.011090 -0.031877  0.011979 -0.301858       1.000000   \n",
              "HasCrCard          -0.003937 -0.014129  0.027232 -0.019055       0.005805   \n",
              "IsActiveMember      0.030947  0.082269 -0.032178 -0.003285       0.009084   \n",
              "EstimatedSalary     0.005182 -0.007037  0.010520  0.014351       0.013990   \n",
              "Exited             -0.023950  0.283017 -0.016761  0.117218      -0.050271   \n",
              "\n",
              "                 HasCrCard  IsActiveMember  EstimatedSalary    Exited  \n",
              "CreditScore      -0.003937        0.030947         0.005182 -0.023950  \n",
              "Age              -0.014129        0.082269        -0.007037  0.283017  \n",
              "Tenure            0.027232       -0.032178         0.010520 -0.016761  \n",
              "Balance          -0.019055       -0.003285         0.014351  0.117218  \n",
              "NumOfProducts     0.005805        0.009084         0.013990 -0.050271  \n",
              "HasCrCard         1.000000       -0.008810        -0.006136 -0.005411  \n",
              "IsActiveMember   -0.008810        1.000000        -0.020049 -0.155062  \n",
              "EstimatedSalary  -0.006136       -0.020049         1.000000  0.016029  \n",
              "Exited           -0.005411       -0.155062         0.016029  1.000000  "
            ],
            "text/html": [
              "\n",
              "  <div id=\"df-9406d371-bae9-4a0e-acc5-90a9ca769748\">\n",
              "    <div class=\"colab-df-container\">\n",
              "      <div>\n",
              "<style scoped>\n",
              "    .dataframe tbody tr th:only-of-type {\n",
              "        vertical-align: middle;\n",
              "    }\n",
              "\n",
              "    .dataframe tbody tr th {\n",
              "        vertical-align: top;\n",
              "    }\n",
              "\n",
              "    .dataframe thead th {\n",
              "        text-align: right;\n",
              "    }\n",
              "</style>\n",
              "<table border=\"1\" class=\"dataframe\">\n",
              "  <thead>\n",
              "    <tr style=\"text-align: right;\">\n",
              "      <th></th>\n",
              "      <th>CreditScore</th>\n",
              "      <th>Age</th>\n",
              "      <th>Tenure</th>\n",
              "      <th>Balance</th>\n",
              "      <th>NumOfProducts</th>\n",
              "      <th>HasCrCard</th>\n",
              "      <th>IsActiveMember</th>\n",
              "      <th>EstimatedSalary</th>\n",
              "      <th>Exited</th>\n",
              "    </tr>\n",
              "  </thead>\n",
              "  <tbody>\n",
              "    <tr>\n",
              "      <th>CreditScore</th>\n",
              "      <td>1.000000</td>\n",
              "      <td>-0.004504</td>\n",
              "      <td>-0.000062</td>\n",
              "      <td>0.002804</td>\n",
              "      <td>0.011090</td>\n",
              "      <td>-0.003937</td>\n",
              "      <td>0.030947</td>\n",
              "      <td>0.005182</td>\n",
              "      <td>-0.023950</td>\n",
              "    </tr>\n",
              "    <tr>\n",
              "      <th>Age</th>\n",
              "      <td>-0.004504</td>\n",
              "      <td>1.000000</td>\n",
              "      <td>-0.013134</td>\n",
              "      <td>0.031481</td>\n",
              "      <td>-0.031877</td>\n",
              "      <td>-0.014129</td>\n",
              "      <td>0.082269</td>\n",
              "      <td>-0.007037</td>\n",
              "      <td>0.283017</td>\n",
              "    </tr>\n",
              "    <tr>\n",
              "      <th>Tenure</th>\n",
              "      <td>-0.000062</td>\n",
              "      <td>-0.013134</td>\n",
              "      <td>1.000000</td>\n",
              "      <td>-0.007911</td>\n",
              "      <td>0.011979</td>\n",
              "      <td>0.027232</td>\n",
              "      <td>-0.032178</td>\n",
              "      <td>0.010520</td>\n",
              "      <td>-0.016761</td>\n",
              "    </tr>\n",
              "    <tr>\n",
              "      <th>Balance</th>\n",
              "      <td>0.002804</td>\n",
              "      <td>0.031481</td>\n",
              "      <td>-0.007911</td>\n",
              "      <td>1.000000</td>\n",
              "      <td>-0.301858</td>\n",
              "      <td>-0.019055</td>\n",
              "      <td>-0.003285</td>\n",
              "      <td>0.014351</td>\n",
              "      <td>0.117218</td>\n",
              "    </tr>\n",
              "    <tr>\n",
              "      <th>NumOfProducts</th>\n",
              "      <td>0.011090</td>\n",
              "      <td>-0.031877</td>\n",
              "      <td>0.011979</td>\n",
              "      <td>-0.301858</td>\n",
              "      <td>1.000000</td>\n",
              "      <td>0.005805</td>\n",
              "      <td>0.009084</td>\n",
              "      <td>0.013990</td>\n",
              "      <td>-0.050271</td>\n",
              "    </tr>\n",
              "    <tr>\n",
              "      <th>HasCrCard</th>\n",
              "      <td>-0.003937</td>\n",
              "      <td>-0.014129</td>\n",
              "      <td>0.027232</td>\n",
              "      <td>-0.019055</td>\n",
              "      <td>0.005805</td>\n",
              "      <td>1.000000</td>\n",
              "      <td>-0.008810</td>\n",
              "      <td>-0.006136</td>\n",
              "      <td>-0.005411</td>\n",
              "    </tr>\n",
              "    <tr>\n",
              "      <th>IsActiveMember</th>\n",
              "      <td>0.030947</td>\n",
              "      <td>0.082269</td>\n",
              "      <td>-0.032178</td>\n",
              "      <td>-0.003285</td>\n",
              "      <td>0.009084</td>\n",
              "      <td>-0.008810</td>\n",
              "      <td>1.000000</td>\n",
              "      <td>-0.020049</td>\n",
              "      <td>-0.155062</td>\n",
              "    </tr>\n",
              "    <tr>\n",
              "      <th>EstimatedSalary</th>\n",
              "      <td>0.005182</td>\n",
              "      <td>-0.007037</td>\n",
              "      <td>0.010520</td>\n",
              "      <td>0.014351</td>\n",
              "      <td>0.013990</td>\n",
              "      <td>-0.006136</td>\n",
              "      <td>-0.020049</td>\n",
              "      <td>1.000000</td>\n",
              "      <td>0.016029</td>\n",
              "    </tr>\n",
              "    <tr>\n",
              "      <th>Exited</th>\n",
              "      <td>-0.023950</td>\n",
              "      <td>0.283017</td>\n",
              "      <td>-0.016761</td>\n",
              "      <td>0.117218</td>\n",
              "      <td>-0.050271</td>\n",
              "      <td>-0.005411</td>\n",
              "      <td>-0.155062</td>\n",
              "      <td>0.016029</td>\n",
              "      <td>1.000000</td>\n",
              "    </tr>\n",
              "  </tbody>\n",
              "</table>\n",
              "</div>\n",
              "      <button class=\"colab-df-convert\" onclick=\"convertToInteractive('df-9406d371-bae9-4a0e-acc5-90a9ca769748')\"\n",
              "              title=\"Convert this dataframe to an interactive table.\"\n",
              "              style=\"display:none;\">\n",
              "        \n",
              "  <svg xmlns=\"http://www.w3.org/2000/svg\" height=\"24px\"viewBox=\"0 0 24 24\"\n",
              "       width=\"24px\">\n",
              "    <path d=\"M0 0h24v24H0V0z\" fill=\"none\"/>\n",
              "    <path d=\"M18.56 5.44l.94 2.06.94-2.06 2.06-.94-2.06-.94-.94-2.06-.94 2.06-2.06.94zm-11 1L8.5 8.5l.94-2.06 2.06-.94-2.06-.94L8.5 2.5l-.94 2.06-2.06.94zm10 10l.94 2.06.94-2.06 2.06-.94-2.06-.94-.94-2.06-.94 2.06-2.06.94z\"/><path d=\"M17.41 7.96l-1.37-1.37c-.4-.4-.92-.59-1.43-.59-.52 0-1.04.2-1.43.59L10.3 9.45l-7.72 7.72c-.78.78-.78 2.05 0 2.83L4 21.41c.39.39.9.59 1.41.59.51 0 1.02-.2 1.41-.59l7.78-7.78 2.81-2.81c.8-.78.8-2.07 0-2.86zM5.41 20L4 18.59l7.72-7.72 1.47 1.35L5.41 20z\"/>\n",
              "  </svg>\n",
              "      </button>\n",
              "      \n",
              "  <style>\n",
              "    .colab-df-container {\n",
              "      display:flex;\n",
              "      flex-wrap:wrap;\n",
              "      gap: 12px;\n",
              "    }\n",
              "\n",
              "    .colab-df-convert {\n",
              "      background-color: #E8F0FE;\n",
              "      border: none;\n",
              "      border-radius: 50%;\n",
              "      cursor: pointer;\n",
              "      display: none;\n",
              "      fill: #1967D2;\n",
              "      height: 32px;\n",
              "      padding: 0 0 0 0;\n",
              "      width: 32px;\n",
              "    }\n",
              "\n",
              "    .colab-df-convert:hover {\n",
              "      background-color: #E2EBFA;\n",
              "      box-shadow: 0px 1px 2px rgba(60, 64, 67, 0.3), 0px 1px 3px 1px rgba(60, 64, 67, 0.15);\n",
              "      fill: #174EA6;\n",
              "    }\n",
              "\n",
              "    [theme=dark] .colab-df-convert {\n",
              "      background-color: #3B4455;\n",
              "      fill: #D2E3FC;\n",
              "    }\n",
              "\n",
              "    [theme=dark] .colab-df-convert:hover {\n",
              "      background-color: #434B5C;\n",
              "      box-shadow: 0px 1px 3px 1px rgba(0, 0, 0, 0.15);\n",
              "      filter: drop-shadow(0px 1px 2px rgba(0, 0, 0, 0.3));\n",
              "      fill: #FFFFFF;\n",
              "    }\n",
              "  </style>\n",
              "\n",
              "      <script>\n",
              "        const buttonEl =\n",
              "          document.querySelector('#df-9406d371-bae9-4a0e-acc5-90a9ca769748 button.colab-df-convert');\n",
              "        buttonEl.style.display =\n",
              "          google.colab.kernel.accessAllowed ? 'block' : 'none';\n",
              "\n",
              "        async function convertToInteractive(key) {\n",
              "          const element = document.querySelector('#df-9406d371-bae9-4a0e-acc5-90a9ca769748');\n",
              "          const dataTable =\n",
              "            await google.colab.kernel.invokeFunction('convertToInteractive',\n",
              "                                                     [key], {});\n",
              "          if (!dataTable) return;\n",
              "\n",
              "          const docLinkHtml = 'Like what you see? Visit the ' +\n",
              "            '<a target=\"_blank\" href=https://colab.research.google.com/notebooks/data_table.ipynb>data table notebook</a>'\n",
              "            + ' to learn more about interactive tables.';\n",
              "          element.innerHTML = '';\n",
              "          dataTable['output_type'] = 'display_data';\n",
              "          await google.colab.output.renderOutput(dataTable, element);\n",
              "          const docLink = document.createElement('div');\n",
              "          docLink.innerHTML = docLinkHtml;\n",
              "          element.appendChild(docLink);\n",
              "        }\n",
              "      </script>\n",
              "    </div>\n",
              "  </div>\n",
              "  "
            ]
          },
          "metadata": {},
          "execution_count": 7
        }
      ],
      "source": [
        "df.corr()"
      ]
    },
    {
      "cell_type": "markdown",
      "metadata": {
        "id": "59Z2NcDnUtAg"
      },
      "source": [
        "Мультиколлинеарности нет, что мы также проверяли на диаграммах рассеяния (pd.plotting.scatter_matrix, не будем загромождать отчёт). Переведём текстовые переменные в дихотомические для удобства работы модели и разделим выборку на 60% учебного массива, 20% валидационного и 20% тестового:"
      ]
    },
    {
      "cell_type": "code",
      "execution_count": 8,
      "metadata": {
        "colab": {
          "base_uri": "https://localhost:8080/"
        },
        "id": "oDuhvrjuUtAh",
        "outputId": "9392ae32-08d4-4623-8d41-2cd7f4c71cb4"
      },
      "outputs": [
        {
          "output_type": "stream",
          "name": "stdout",
          "text": [
            "(9091, 11) (9091,)\n",
            "(5454, 11) (5454,)\n",
            "(1818, 11) (1818,)\n",
            "(1819, 11) (1819,)\n"
          ]
        }
      ],
      "source": [
        "df_ohe = pd.get_dummies(df, drop_first=True)\n",
        "\n",
        "X = df_ohe.drop(['Exited'], axis=1)\n",
        "y = df_ohe['Exited']\n",
        "\n",
        "X_train, X_to_split, y_train, y_to_split = train_test_split(\n",
        "    X, y, test_size=0.4, stratify=y, random_state=12345)\n",
        "\n",
        "X_valid, X_test, y_valid, y_test = train_test_split(\n",
        "    X_to_split, y_to_split, test_size=0.5, stratify=y_to_split, random_state=12345)\n",
        "\n",
        "print(X.shape, y.shape)\n",
        "print(X_train.shape, y_train.shape)\n",
        "print(X_valid.shape, y_valid.shape)\n",
        "print(X_test.shape, y_test.shape)"
      ]
    },
    {
      "cell_type": "markdown",
      "metadata": {
        "id": "Vhgag5APUtAh"
      },
      "source": [
        "Данные готовы для моделирования."
      ]
    },
    {
      "cell_type": "markdown",
      "metadata": {
        "id": "oYPhBdQbUtAh"
      },
      "source": [
        "## Исследование задачи"
      ]
    },
    {
      "cell_type": "markdown",
      "metadata": {
        "id": "leYfLgnyUtAh"
      },
      "source": [
        "Применим три модели с простыми параметрами и посмотрим на качество."
      ]
    },
    {
      "cell_type": "markdown",
      "metadata": {
        "id": "Dk_g42ybUtAh"
      },
      "source": [
        "### Дерево решений:"
      ]
    },
    {
      "cell_type": "markdown",
      "metadata": {
        "id": "uqiFgkf8UtAi"
      },
      "source": [
        "Построим дерево решений, автоматически подберём лучшие параметры максимальной глубины дерева, минимального объёма выборки на концах \"ветвей\" и на \"узлах\"."
      ]
    },
    {
      "cell_type": "code",
      "execution_count": 9,
      "metadata": {
        "colab": {
          "base_uri": "https://localhost:8080/",
          "height": 0
        },
        "id": "_QpOF_v5UtAi",
        "outputId": "9b8cb22d-e16d-4477-fff8-e93d75bdd958"
      },
      "outputs": [
        {
          "output_type": "stream",
          "name": "stdout",
          "text": [
            "accuracy: 0.87\n",
            "f1_score: 0.60\n",
            "AUC-ROC: 0.85\n"
          ]
        },
        {
          "output_type": "display_data",
          "data": {
            "text/plain": [
              "<Figure size 1800x360 with 1 Axes>"
            ],
            "image/png": "[encoded data removed]"
          },
          "metadata": {
            "needs_background": "light"
          }
        }
      ],
      "source": [
        "best_depth_tree_simple=[]\n",
        "for depth in np.arange(1, 50, 1):\n",
        "    model = DecisionTreeClassifier(\n",
        "        random_state=12345, max_depth=depth)\n",
        "    model.fit(X_train, y_train)\n",
        "    best_depth_tree_simple.append([f1_score(y_valid, model.predict(X_valid)), depth])\n",
        "best_depth_tree_simple = pd.Series(best_depth_tree_simple).max()[1]\n",
        "\n",
        "\n",
        "best_split_simple=[]\n",
        "for split in np.arange(2, 300, 10):\n",
        "    model = DecisionTreeClassifier(\n",
        "        random_state=12345, max_depth=best_depth_tree_simple, min_samples_split=split)\n",
        "    model.fit(X_train, y_train)\n",
        "    best_split_simple.append([f1_score(y_valid, model.predict(X_valid)), split])\n",
        "best_split_simple = pd.Series(best_split_simple).max()[1]\n",
        "\n",
        "best_leaf_simple=[]\n",
        "for leaf in np.arange(2, 300, 10):\n",
        "    model = DecisionTreeClassifier(\n",
        "        random_state=12345, max_depth=best_depth_tree_simple, min_samples_split=best_split_simple, min_samples_leaf=leaf)\n",
        "    model.fit(X_train, y_train)\n",
        "    best_leaf_simple.append([f1_score(y_valid, model.predict(X_valid)), leaf])\n",
        "best_leaf_simple = pd.Series(best_leaf_simple).max()[1]\n",
        "\n",
        "\n",
        "model_tree = DecisionTreeClassifier(\n",
        "    random_state=12345,\n",
        "    max_depth=best_depth_tree_simple,\n",
        "    min_samples_split=best_split_simple,\n",
        "    min_samples_leaf=best_leaf_simple)\n",
        "model_tree.fit(X_train, y_train)\n",
        "predictions_valid = model_tree.predict(X_valid)\n",
        "print('accuracy: {:.2f}'.format(accuracy_score(y_valid, predictions_valid)))\n",
        "print('f1_score: {:.2f}'.format(f1_score(y_valid, predictions_valid)))\n",
        "print('AUC-ROC: {:.2f}'.format(roc_auc_score(y_valid, model_tree.predict_proba(X_valid)[:, 1])))\n",
        "plt.figure(figsize=(25, 5))\n",
        "tree.plot_tree(model_tree, feature_names=X.columns, class_names = ['Ехited', 'Stayed'], fontsize=12)\n",
        "plt.show()"
      ]
    },
    {
      "cell_type": "markdown",
      "metadata": {
        "id": "ndPX9o0CUtAi"
      },
      "source": [
        "Похоже, что возраст, количество используемых продуктов и активность пользователя важные признаки - они стоят на верхних узлах дерева. Они же обладают высокой корреляцией с целевым признаком.\n",
        "\n",
        "Качество полученной модели сравнимо с монеткой, у которой вероятность выпадения одной стороны равна частоте ухода клиентов от банка, то есть эта модель предсказывает уход клиентов практически случайно."
      ]
    },
    {
      "cell_type": "markdown",
      "metadata": {
        "id": "bkIVOCOGUtAj"
      },
      "source": [
        "### Случайный лес:"
      ]
    },
    {
      "cell_type": "markdown",
      "metadata": {
        "id": "yJCpmMH2UtAj"
      },
      "source": [
        "Построим случайный лес, автоматически подберём лучшие параметры максимальной глубины деревьев и их количества"
      ]
    },
    {
      "cell_type": "code",
      "execution_count": 10,
      "metadata": {
        "colab": {
          "base_uri": "https://localhost:8080/"
        },
        "id": "ldslVbPHUtAj",
        "outputId": "bf8f165f-752e-4773-9ec1-69deb11d1ec9"
      },
      "outputs": [
        {
          "output_type": "stream",
          "name": "stdout",
          "text": [
            "accuracy: 0.87\n",
            "f1_score: 0.61\n",
            "AUC-ROC: 0.87\n"
          ]
        }
      ],
      "source": [
        "best_est_simple=[]\n",
        "for est in np.arange(50, 251, 10):\n",
        "    model = RandomForestClassifier(random_state=12345, n_estimators=est)\n",
        "    model.fit(X_train, y_train)\n",
        "    best_est_simple.append([f1_score(y_valid, model.predict(X_valid)), est])\n",
        "best_est_simple = pd.Series(best_est_simple).max()[1]\n",
        "\n",
        "best_depth_simple=[]\n",
        "for depth in np.arange(1, 20, 1):\n",
        "    model = RandomForestClassifier(random_state=12345, n_estimators=best_est_simple, max_depth=depth)\n",
        "    model.fit(X_train, y_train)\n",
        "    best_depth_simple.append([f1_score(y_valid, model.predict(X_valid)), depth])\n",
        "best_depth_simple = pd.Series(best_depth_simple).max()[1]\n",
        "\n",
        "model_forest = RandomForestClassifier(random_state=12345, n_estimators=best_est_simple, max_depth=best_depth_simple)\n",
        "model_forest.fit(X_train, y_train)\n",
        "predictions_valid = model_forest.predict(X_valid)\n",
        "print('accuracy: {:.2f}'.format(accuracy_score(y_valid, predictions_valid)))\n",
        "print('f1_score: {:.2f}'.format(f1_score(y_valid, predictions_valid)))\n",
        "print('AUC-ROC: {:.2f}'.format(roc_auc_score(y_valid, model_forest.predict_proba(X_valid)[:, 1])))"
      ]
    },
    {
      "cell_type": "markdown",
      "metadata": {
        "id": "99BzBJ1XUtAk"
      },
      "source": [
        "Показатели качества модели лучше, но все равно всё ещё близки к случайной."
      ]
    },
    {
      "cell_type": "markdown",
      "metadata": {
        "id": "OABGO0PqUtAk"
      },
      "source": [
        "### Логистическая регрессия:"
      ]
    },
    {
      "cell_type": "code",
      "execution_count": 11,
      "metadata": {
        "colab": {
          "base_uri": "https://localhost:8080/"
        },
        "id": "r1ji_RW_UtAl",
        "outputId": "a582a461-a9b7-45ca-e1ff-85d56b131710"
      },
      "outputs": [
        {
          "output_type": "stream",
          "name": "stdout",
          "text": [
            "accuracy: 0.79\n",
            "f1_score: 0.08\n",
            "AUC-ROC: 0.68\n"
          ]
        }
      ],
      "source": [
        "model_regression = LogisticRegression(random_state=12345, solver='liblinear')\n",
        "model_regression.fit(X_train, y_train)\n",
        "predictions_valid = model_regression.predict(X_valid)\n",
        "print('accuracy: {:.2f}'.format(model_regression.score(X_valid, y_valid)))\n",
        "print('f1_score: {:.2f}'.format(f1_score(y_valid, predictions_valid)))\n",
        "print('AUC-ROC: {:.2f}'.format(roc_auc_score(y_valid, model_regression.predict_proba(X_valid)[:, 1])))"
      ]
    },
    {
      "cell_type": "markdown",
      "metadata": {
        "id": "yRiDqcE4UtAl"
      },
      "source": [
        "Качество хуже, и сменой гиперпараметров дерева решений и случайного леса существенно повысить её не удастся, необходимо преобразовать саму выборку.\n",
        "\n",
        "Соберём полученные показатели качества в одну таблицу:"
      ]
    },
    {
      "cell_type": "code",
      "execution_count": 12,
      "metadata": {
        "colab": {
          "base_uri": "https://localhost:8080/",
          "height": 0
        },
        "id": "pJrL88feUtAl",
        "outputId": "29a4aa01-3d39-4a37-ffa4-36795feab7a2"
      },
      "outputs": [
        {
          "output_type": "execute_result",
          "data": {
            "text/plain": [
              "           metrics      tree    forest  log_regression\n",
              "0  accuracy_simple  0.865787  0.869087        0.787129\n",
              "1  f1_score_simple  0.600000  0.611111        0.076372\n",
              "2   AUC-ROC_simple  0.852667  0.865979        0.682272"
            ],
            "text/html": [
              "\n",
              "  <div id=\"df-0ca58172-641c-4f91-9a39-e2eec00a3d63\">\n",
              "    <div class=\"colab-df-container\">\n",
              "      <div>\n",
              "<style scoped>\n",
              "    .dataframe tbody tr th:only-of-type {\n",
              "        vertical-align: middle;\n",
              "    }\n",
              "\n",
              "    .dataframe tbody tr th {\n",
              "        vertical-align: top;\n",
              "    }\n",
              "\n",
              "    .dataframe thead th {\n",
              "        text-align: right;\n",
              "    }\n",
              "</style>\n",
              "<table border=\"1\" class=\"dataframe\">\n",
              "  <thead>\n",
              "    <tr style=\"text-align: right;\">\n",
              "      <th></th>\n",
              "      <th>metrics</th>\n",
              "      <th>tree</th>\n",
              "      <th>forest</th>\n",
              "      <th>log_regression</th>\n",
              "    </tr>\n",
              "  </thead>\n",
              "  <tbody>\n",
              "    <tr>\n",
              "      <th>0</th>\n",
              "      <td>accuracy_simple</td>\n",
              "      <td>0.865787</td>\n",
              "      <td>0.869087</td>\n",
              "      <td>0.787129</td>\n",
              "    </tr>\n",
              "    <tr>\n",
              "      <th>1</th>\n",
              "      <td>f1_score_simple</td>\n",
              "      <td>0.600000</td>\n",
              "      <td>0.611111</td>\n",
              "      <td>0.076372</td>\n",
              "    </tr>\n",
              "    <tr>\n",
              "      <th>2</th>\n",
              "      <td>AUC-ROC_simple</td>\n",
              "      <td>0.852667</td>\n",
              "      <td>0.865979</td>\n",
              "      <td>0.682272</td>\n",
              "    </tr>\n",
              "  </tbody>\n",
              "</table>\n",
              "</div>\n",
              "      <button class=\"colab-df-convert\" onclick=\"convertToInteractive('df-0ca58172-641c-4f91-9a39-e2eec00a3d63')\"\n",
              "              title=\"Convert this dataframe to an interactive table.\"\n",
              "              style=\"display:none;\">\n",
              "        \n",
              "  <svg xmlns=\"http://www.w3.org/2000/svg\" height=\"24px\"viewBox=\"0 0 24 24\"\n",
              "       width=\"24px\">\n",
              "    <path d=\"M0 0h24v24H0V0z\" fill=\"none\"/>\n",
              "    <path d=\"M18.56 5.44l.94 2.06.94-2.06 2.06-.94-2.06-.94-.94-2.06-.94 2.06-2.06.94zm-11 1L8.5 8.5l.94-2.06 2.06-.94-2.06-.94L8.5 2.5l-.94 2.06-2.06.94zm10 10l.94 2.06.94-2.06 2.06-.94-2.06-.94-.94-2.06-.94 2.06-2.06.94z\"/><path d=\"M17.41 7.96l-1.37-1.37c-.4-.4-.92-.59-1.43-.59-.52 0-1.04.2-1.43.59L10.3 9.45l-7.72 7.72c-.78.78-.78 2.05 0 2.83L4 21.41c.39.39.9.59 1.41.59.51 0 1.02-.2 1.41-.59l7.78-7.78 2.81-2.81c.8-.78.8-2.07 0-2.86zM5.41 20L4 18.59l7.72-7.72 1.47 1.35L5.41 20z\"/>\n",
              "  </svg>\n",
              "      </button>\n",
              "      \n",
              "  <style>\n",
              "    .colab-df-container {\n",
              "      display:flex;\n",
              "      flex-wrap:wrap;\n",
              "      gap: 12px;\n",
              "    }\n",
              "\n",
              "    .colab-df-convert {\n",
              "      background-color: #E8F0FE;\n",
              "      border: none;\n",
              "      border-radius: 50%;\n",
              "      cursor: pointer;\n",
              "      display: none;\n",
              "      fill: #1967D2;\n",
              "      height: 32px;\n",
              "      padding: 0 0 0 0;\n",
              "      width: 32px;\n",
              "    }\n",
              "\n",
              "    .colab-df-convert:hover {\n",
              "      background-color: #E2EBFA;\n",
              "      box-shadow: 0px 1px 2px rgba(60, 64, 67, 0.3), 0px 1px 3px 1px rgba(60, 64, 67, 0.15);\n",
              "      fill: #174EA6;\n",
              "    }\n",
              "\n",
              "    [theme=dark] .colab-df-convert {\n",
              "      background-color: #3B4455;\n",
              "      fill: #D2E3FC;\n",
              "    }\n",
              "\n",
              "    [theme=dark] .colab-df-convert:hover {\n",
              "      background-color: #434B5C;\n",
              "      box-shadow: 0px 1px 3px 1px rgba(0, 0, 0, 0.15);\n",
              "      filter: drop-shadow(0px 1px 2px rgba(0, 0, 0, 0.3));\n",
              "      fill: #FFFFFF;\n",
              "    }\n",
              "  </style>\n",
              "\n",
              "      <script>\n",
              "        const buttonEl =\n",
              "          document.querySelector('#df-0ca58172-641c-4f91-9a39-e2eec00a3d63 button.colab-df-convert');\n",
              "        buttonEl.style.display =\n",
              "          google.colab.kernel.accessAllowed ? 'block' : 'none';\n",
              "\n",
              "        async function convertToInteractive(key) {\n",
              "          const element = document.querySelector('#df-0ca58172-641c-4f91-9a39-e2eec00a3d63');\n",
              "          const dataTable =\n",
              "            await google.colab.kernel.invokeFunction('convertToInteractive',\n",
              "                                                     [key], {});\n",
              "          if (!dataTable) return;\n",
              "\n",
              "          const docLinkHtml = 'Like what you see? Visit the ' +\n",
              "            '<a target=\"_blank\" href=https://colab.research.google.com/notebooks/data_table.ipynb>data table notebook</a>'\n",
              "            + ' to learn more about interactive tables.';\n",
              "          element.innerHTML = '';\n",
              "          dataTable['output_type'] = 'display_data';\n",
              "          await google.colab.output.renderOutput(dataTable, element);\n",
              "          const docLink = document.createElement('div');\n",
              "          docLink.innerHTML = docLinkHtml;\n",
              "          element.appendChild(docLink);\n",
              "        }\n",
              "      </script>\n",
              "    </div>\n",
              "  </div>\n",
              "  "
            ]
          },
          "metadata": {},
          "execution_count": 12
        }
      ],
      "source": [
        "simple_models= pd.DataFrame({'metrics': ['accuracy_simple', 'f1_score_simple', 'AUC-ROC_simple'],\n",
        "              'tree': [accuracy_score(y_valid, model_tree.predict(X_valid)),\n",
        "                       f1_score(y_valid, model_tree.predict(X_valid)),\n",
        "                       roc_auc_score(y_valid, model_tree.predict_proba(X_valid)[:, 1])],\n",
        "              'forest': [accuracy_score(y_valid, model_forest.predict(X_valid)),\n",
        "                       f1_score(y_valid, model_forest.predict(X_valid)),\n",
        "                       roc_auc_score(y_valid, model_forest.predict_proba(X_valid)[:, 1])],\n",
        "              'log_regression': [model_regression.score(X_valid, y_valid),\n",
        "                       f1_score(y_valid, model_regression.predict(X_valid)),\n",
        "                       roc_auc_score(y_valid, model_regression.predict_proba(X_valid)[:, 1])]})\n",
        "simple_models"
      ]
    },
    {
      "cell_type": "markdown",
      "metadata": {
        "id": "QRmQxpQ-UtAm"
      },
      "source": [
        "Вывод: нам не удалось достингуть требуемого качества модели (F1-мера должна быть не менее 0,59). Частота возниновения события \"клиент ушёл\" существенно ниже частоты события \"клиент остался\", что вызывает дисбаланс классов. Необходимо использовать несколько способов борьбы с ним."
      ]
    },
    {
      "cell_type": "markdown",
      "metadata": {
        "id": "aH9l2NxDUtAm"
      },
      "source": [
        "## Борьба с дисбалансом"
      ]
    },
    {
      "cell_type": "markdown",
      "metadata": {
        "id": "c6aczlsOUtAm"
      },
      "source": [
        "### Взвешивание классов"
      ]
    },
    {
      "cell_type": "markdown",
      "metadata": {
        "id": "rpdD5-wcUtAn"
      },
      "source": [
        "Применим данный метод сразу к трём моделям, автоматически подобрав наилучшие параметры:"
      ]
    },
    {
      "cell_type": "code",
      "execution_count": 13,
      "metadata": {
        "colab": {
          "base_uri": "https://localhost:8080/",
          "height": 0
        },
        "id": "40yistH7UtAn",
        "outputId": "6c0d6b8b-6e71-4e29-a834-121d7ad235ce"
      },
      "outputs": [
        {
          "output_type": "execute_result",
          "data": {
            "text/plain": [
              "             metrics      tree    forest  log_regression\n",
              "0  accuracy_weighted  0.771727  0.849285        0.700770\n",
              "1  f1_score_weighted  0.591133  0.652284        0.498155\n",
              "2   AUC-ROC_weighted  0.852618  0.876085        0.784935\n",
              "3    accuracy_simple  0.865787  0.869087        0.787129\n",
              "4    f1_score_simple  0.600000  0.611111        0.076372\n",
              "5     AUC-ROC_simple  0.852667  0.865979        0.682272"
            ],
            "text/html": [
              "\n",
              "  <div id=\"df-90863f7c-a660-4ae9-9c51-30fc775f890e\">\n",
              "    <div class=\"colab-df-container\">\n",
              "      <div>\n",
              "<style scoped>\n",
              "    .dataframe tbody tr th:only-of-type {\n",
              "        vertical-align: middle;\n",
              "    }\n",
              "\n",
              "    .dataframe tbody tr th {\n",
              "        vertical-align: top;\n",
              "    }\n",
              "\n",
              "    .dataframe thead th {\n",
              "        text-align: right;\n",
              "    }\n",
              "</style>\n",
              "<table border=\"1\" class=\"dataframe\">\n",
              "  <thead>\n",
              "    <tr style=\"text-align: right;\">\n",
              "      <th></th>\n",
              "      <th>metrics</th>\n",
              "      <th>tree</th>\n",
              "      <th>forest</th>\n",
              "      <th>log_regression</th>\n",
              "    </tr>\n",
              "  </thead>\n",
              "  <tbody>\n",
              "    <tr>\n",
              "      <th>0</th>\n",
              "      <td>accuracy_weighted</td>\n",
              "      <td>0.771727</td>\n",
              "      <td>0.849285</td>\n",
              "      <td>0.700770</td>\n",
              "    </tr>\n",
              "    <tr>\n",
              "      <th>1</th>\n",
              "      <td>f1_score_weighted</td>\n",
              "      <td>0.591133</td>\n",
              "      <td>0.652284</td>\n",
              "      <td>0.498155</td>\n",
              "    </tr>\n",
              "    <tr>\n",
              "      <th>2</th>\n",
              "      <td>AUC-ROC_weighted</td>\n",
              "      <td>0.852618</td>\n",
              "      <td>0.876085</td>\n",
              "      <td>0.784935</td>\n",
              "    </tr>\n",
              "    <tr>\n",
              "      <th>3</th>\n",
              "      <td>accuracy_simple</td>\n",
              "      <td>0.865787</td>\n",
              "      <td>0.869087</td>\n",
              "      <td>0.787129</td>\n",
              "    </tr>\n",
              "    <tr>\n",
              "      <th>4</th>\n",
              "      <td>f1_score_simple</td>\n",
              "      <td>0.600000</td>\n",
              "      <td>0.611111</td>\n",
              "      <td>0.076372</td>\n",
              "    </tr>\n",
              "    <tr>\n",
              "      <th>5</th>\n",
              "      <td>AUC-ROC_simple</td>\n",
              "      <td>0.852667</td>\n",
              "      <td>0.865979</td>\n",
              "      <td>0.682272</td>\n",
              "    </tr>\n",
              "  </tbody>\n",
              "</table>\n",
              "</div>\n",
              "      <button class=\"colab-df-convert\" onclick=\"convertToInteractive('df-90863f7c-a660-4ae9-9c51-30fc775f890e')\"\n",
              "              title=\"Convert this dataframe to an interactive table.\"\n",
              "              style=\"display:none;\">\n",
              "        \n",
              "  <svg xmlns=\"http://www.w3.org/2000/svg\" height=\"24px\"viewBox=\"0 0 24 24\"\n",
              "       width=\"24px\">\n",
              "    <path d=\"M0 0h24v24H0V0z\" fill=\"none\"/>\n",
              "    <path d=\"M18.56 5.44l.94 2.06.94-2.06 2.06-.94-2.06-.94-.94-2.06-.94 2.06-2.06.94zm-11 1L8.5 8.5l.94-2.06 2.06-.94-2.06-.94L8.5 2.5l-.94 2.06-2.06.94zm10 10l.94 2.06.94-2.06 2.06-.94-2.06-.94-.94-2.06-.94 2.06-2.06.94z\"/><path d=\"M17.41 7.96l-1.37-1.37c-.4-.4-.92-.59-1.43-.59-.52 0-1.04.2-1.43.59L10.3 9.45l-7.72 7.72c-.78.78-.78 2.05 0 2.83L4 21.41c.39.39.9.59 1.41.59.51 0 1.02-.2 1.41-.59l7.78-7.78 2.81-2.81c.8-.78.8-2.07 0-2.86zM5.41 20L4 18.59l7.72-7.72 1.47 1.35L5.41 20z\"/>\n",
              "  </svg>\n",
              "      </button>\n",
              "      \n",
              "  <style>\n",
              "    .colab-df-container {\n",
              "      display:flex;\n",
              "      flex-wrap:wrap;\n",
              "      gap: 12px;\n",
              "    }\n",
              "\n",
              "    .colab-df-convert {\n",
              "      background-color: #E8F0FE;\n",
              "      border: none;\n",
              "      border-radius: 50%;\n",
              "      cursor: pointer;\n",
              "      display: none;\n",
              "      fill: #1967D2;\n",
              "      height: 32px;\n",
              "      padding: 0 0 0 0;\n",
              "      width: 32px;\n",
              "    }\n",
              "\n",
              "    .colab-df-convert:hover {\n",
              "      background-color: #E2EBFA;\n",
              "      box-shadow: 0px 1px 2px rgba(60, 64, 67, 0.3), 0px 1px 3px 1px rgba(60, 64, 67, 0.15);\n",
              "      fill: #174EA6;\n",
              "    }\n",
              "\n",
              "    [theme=dark] .colab-df-convert {\n",
              "      background-color: #3B4455;\n",
              "      fill: #D2E3FC;\n",
              "    }\n",
              "\n",
              "    [theme=dark] .colab-df-convert:hover {\n",
              "      background-color: #434B5C;\n",
              "      box-shadow: 0px 1px 3px 1px rgba(0, 0, 0, 0.15);\n",
              "      filter: drop-shadow(0px 1px 2px rgba(0, 0, 0, 0.3));\n",
              "      fill: #FFFFFF;\n",
              "    }\n",
              "  </style>\n",
              "\n",
              "      <script>\n",
              "        const buttonEl =\n",
              "          document.querySelector('#df-90863f7c-a660-4ae9-9c51-30fc775f890e button.colab-df-convert');\n",
              "        buttonEl.style.display =\n",
              "          google.colab.kernel.accessAllowed ? 'block' : 'none';\n",
              "\n",
              "        async function convertToInteractive(key) {\n",
              "          const element = document.querySelector('#df-90863f7c-a660-4ae9-9c51-30fc775f890e');\n",
              "          const dataTable =\n",
              "            await google.colab.kernel.invokeFunction('convertToInteractive',\n",
              "                                                     [key], {});\n",
              "          if (!dataTable) return;\n",
              "\n",
              "          const docLinkHtml = 'Like what you see? Visit the ' +\n",
              "            '<a target=\"_blank\" href=https://colab.research.google.com/notebooks/data_table.ipynb>data table notebook</a>'\n",
              "            + ' to learn more about interactive tables.';\n",
              "          element.innerHTML = '';\n",
              "          dataTable['output_type'] = 'display_data';\n",
              "          await google.colab.output.renderOutput(dataTable, element);\n",
              "          const docLink = document.createElement('div');\n",
              "          docLink.innerHTML = docLinkHtml;\n",
              "          element.appendChild(docLink);\n",
              "        }\n",
              "      </script>\n",
              "    </div>\n",
              "  </div>\n",
              "  "
            ]
          },
          "metadata": {},
          "execution_count": 13
        }
      ],
      "source": [
        "best_depth_tree=[]\n",
        "for depth in np.arange(1, 50, 1):\n",
        "    model = DecisionTreeClassifier(\n",
        "        random_state=12345, max_depth=depth,\n",
        "        class_weight='balanced')\n",
        "    model.fit(X_train, y_train)\n",
        "    best_depth_tree.append([f1_score(y_valid, model.predict(X_valid)), depth])\n",
        "best_depth_tree = pd.Series(best_depth_tree).max()[1]\n",
        "\n",
        "best_split=[]\n",
        "for split in np.arange(2, 300, 10):\n",
        "    model = DecisionTreeClassifier(\n",
        "        random_state=12345, max_depth=best_depth_tree, min_samples_split=split,\n",
        "        class_weight='balanced')\n",
        "    model.fit(X_train, y_train)\n",
        "    best_split.append([f1_score(y_valid, model.predict(X_valid)), split])\n",
        "best_split = pd.Series(best_split).max()[1]\n",
        "\n",
        "best_leaf=[]\n",
        "for leaf in np.arange(2, 300, 10):\n",
        "    model = DecisionTreeClassifier(\n",
        "        random_state=12345, max_depth=best_depth_tree, min_samples_split=best_split, min_samples_leaf=leaf,\n",
        "        class_weight='balanced')\n",
        "    model.fit(X_train, y_train)\n",
        "    best_leaf.append([f1_score(y_valid, model.predict(X_valid)), leaf])\n",
        "best_leaf = pd.Series(best_leaf).max()[1]\n",
        "\n",
        "model_tree = DecisionTreeClassifier(\n",
        "    random_state=12345,\n",
        "    max_depth=best_depth_tree,\n",
        "    min_samples_split=best_split,\n",
        "    min_samples_leaf=best_leaf,\n",
        "    class_weight='balanced')\n",
        "model_tree.fit(X_train, y_train)\n",
        "\n",
        "\n",
        "best_est_weighted=[]\n",
        "for est in np.arange(50, 251, 10):\n",
        "    model = RandomForestClassifier(\n",
        "        random_state=12345, n_estimators=est, class_weight='balanced')\n",
        "    model.fit(X_train, y_train)\n",
        "    best_est_weighted.append([f1_score(y_valid, model.predict(X_valid)), est])\n",
        "best_est_weighted = pd.Series(best_est_weighted).max()[1]\n",
        "\n",
        "best_depth_weighted=[]\n",
        "for depth in np.arange(1, 20, 1):\n",
        "    model = RandomForestClassifier(\n",
        "        random_state=12345, n_estimators=best_est_weighted, max_depth=depth, class_weight='balanced')\n",
        "    model.fit(X_train, y_train)\n",
        "    best_depth_weighted.append([f1_score(y_valid, model.predict(X_valid)), depth])\n",
        "best_depth_weighted = pd.Series(best_depth_weighted).max()[1]\n",
        "\n",
        "model_forest = RandomForestClassifier(\n",
        "    random_state=12345, n_estimators=best_est_weighted, max_depth=best_depth_weighted, class_weight='balanced')\n",
        "model_forest.fit(X_train, y_train)\n",
        "\n",
        "\n",
        "model_regression = LogisticRegression(random_state=12345, solver='liblinear', class_weight='balanced')\n",
        "model_regression.fit(X_train, y_train)\n",
        "\n",
        "weighted_models = pd.DataFrame({'metrics': ['accuracy_weighted', 'f1_score_weighted', 'AUC-ROC_weighted'],\n",
        "              'tree': [accuracy_score(y_valid, model_tree.predict(X_valid)),\n",
        "                       f1_score(y_valid, model_tree.predict(X_valid)),\n",
        "                       roc_auc_score(y_valid, model_tree.predict_proba(X_valid)[:, 1])],\n",
        "              'forest': [accuracy_score(y_valid, model_forest.predict(X_valid)),\n",
        "                       f1_score(y_valid, model_forest.predict(X_valid)),\n",
        "                       roc_auc_score(y_valid, model_forest.predict_proba(X_valid)[:, 1])],\n",
        "              'log_regression': [model_regression.score(X_valid, y_valid),\n",
        "                       f1_score(y_valid, model_regression.predict(X_valid)),\n",
        "                       roc_auc_score(y_valid, model_regression.predict_proba(X_valid)[:, 1])]})\n",
        "all_models = weighted_models.merge(simple_models, how = 'outer')\n",
        "all_models"
      ]
    },
    {
      "cell_type": "markdown",
      "metadata": {
        "id": "z45VHh7tUtAo"
      },
      "source": [
        "В целом модель стала лучше предсказывать уход клиентов, но можно попробовать ещё улучшить модели. Существенно повысились F1 мера и AUC-ROC логистической регрессии."
      ]
    },
    {
      "cell_type": "markdown",
      "metadata": {
        "id": "5ZiQlkl7UtAo"
      },
      "source": [
        "### Изменение пропорции ушедших и оставшихся клиентов"
      ]
    },
    {
      "cell_type": "markdown",
      "metadata": {
        "id": "kIGVctzSUtAo"
      },
      "source": [
        "Т.к. клиенты уходят реже, чем остаются, можно увеличить их присутствие в выборке, искусственно умножив их число на 2, а число оставшихся клиентов сократить вдвое, так размеры этих групп станут сопоставимы."
      ]
    },
    {
      "cell_type": "code",
      "execution_count": 14,
      "metadata": {
        "colab": {
          "base_uri": "https://localhost:8080/",
          "height": 0
        },
        "id": "BrPhAU-OUtAo",
        "outputId": "c09d8521-998b-4132-d597-a0360015c68c"
      },
      "outputs": [
        {
          "output_type": "execute_result",
          "data": {
            "text/plain": [
              "              metrics      tree    forest  log_regression\n",
              "0   accuracy_weighted  0.771727  0.849285        0.700770\n",
              "1   f1_score_weighted  0.591133  0.652284        0.498155\n",
              "2    AUC-ROC_weighted  0.852618  0.876085        0.784935\n",
              "3     accuracy_simple  0.865787  0.869087        0.787129\n",
              "4     f1_score_simple  0.600000  0.611111        0.076372\n",
              "5      AUC-ROC_simple  0.852667  0.865979        0.682272\n",
              "6  accuracy_resampled  0.769527  0.835534        0.657316\n",
              "7  f1_score_resampled  0.578894  0.641056        0.459670\n",
              "8   AUC-ROC_resampled  0.849898  0.871197        0.729272"
            ],
            "text/html": [
              "\n",
              "  <div id=\"df-bed856f6-8339-4e6a-ba7e-ce97c8980046\">\n",
              "    <div class=\"colab-df-container\">\n",
              "      <div>\n",
              "<style scoped>\n",
              "    .dataframe tbody tr th:only-of-type {\n",
              "        vertical-align: middle;\n",
              "    }\n",
              "\n",
              "    .dataframe tbody tr th {\n",
              "        vertical-align: top;\n",
              "    }\n",
              "\n",
              "    .dataframe thead th {\n",
              "        text-align: right;\n",
              "    }\n",
              "</style>\n",
              "<table border=\"1\" class=\"dataframe\">\n",
              "  <thead>\n",
              "    <tr style=\"text-align: right;\">\n",
              "      <th></th>\n",
              "      <th>metrics</th>\n",
              "      <th>tree</th>\n",
              "      <th>forest</th>\n",
              "      <th>log_regression</th>\n",
              "    </tr>\n",
              "  </thead>\n",
              "  <tbody>\n",
              "    <tr>\n",
              "      <th>0</th>\n",
              "      <td>accuracy_weighted</td>\n",
              "      <td>0.771727</td>\n",
              "      <td>0.849285</td>\n",
              "      <td>0.700770</td>\n",
              "    </tr>\n",
              "    <tr>\n",
              "      <th>1</th>\n",
              "      <td>f1_score_weighted</td>\n",
              "      <td>0.591133</td>\n",
              "      <td>0.652284</td>\n",
              "      <td>0.498155</td>\n",
              "    </tr>\n",
              "    <tr>\n",
              "      <th>2</th>\n",
              "      <td>AUC-ROC_weighted</td>\n",
              "      <td>0.852618</td>\n",
              "      <td>0.876085</td>\n",
              "      <td>0.784935</td>\n",
              "    </tr>\n",
              "    <tr>\n",
              "      <th>3</th>\n",
              "      <td>accuracy_simple</td>\n",
              "      <td>0.865787</td>\n",
              "      <td>0.869087</td>\n",
              "      <td>0.787129</td>\n",
              "    </tr>\n",
              "    <tr>\n",
              "      <th>4</th>\n",
              "      <td>f1_score_simple</td>\n",
              "      <td>0.600000</td>\n",
              "      <td>0.611111</td>\n",
              "      <td>0.076372</td>\n",
              "    </tr>\n",
              "    <tr>\n",
              "      <th>5</th>\n",
              "      <td>AUC-ROC_simple</td>\n",
              "      <td>0.852667</td>\n",
              "      <td>0.865979</td>\n",
              "      <td>0.682272</td>\n",
              "    </tr>\n",
              "    <tr>\n",
              "      <th>6</th>\n",
              "      <td>accuracy_resampled</td>\n",
              "      <td>0.769527</td>\n",
              "      <td>0.835534</td>\n",
              "      <td>0.657316</td>\n",
              "    </tr>\n",
              "    <tr>\n",
              "      <th>7</th>\n",
              "      <td>f1_score_resampled</td>\n",
              "      <td>0.578894</td>\n",
              "      <td>0.641056</td>\n",
              "      <td>0.459670</td>\n",
              "    </tr>\n",
              "    <tr>\n",
              "      <th>8</th>\n",
              "      <td>AUC-ROC_resampled</td>\n",
              "      <td>0.849898</td>\n",
              "      <td>0.871197</td>\n",
              "      <td>0.729272</td>\n",
              "    </tr>\n",
              "  </tbody>\n",
              "</table>\n",
              "</div>\n",
              "      <button class=\"colab-df-convert\" onclick=\"convertToInteractive('df-bed856f6-8339-4e6a-ba7e-ce97c8980046')\"\n",
              "              title=\"Convert this dataframe to an interactive table.\"\n",
              "              style=\"display:none;\">\n",
              "        \n",
              "  <svg xmlns=\"http://www.w3.org/2000/svg\" height=\"24px\"viewBox=\"0 0 24 24\"\n",
              "       width=\"24px\">\n",
              "    <path d=\"M0 0h24v24H0V0z\" fill=\"none\"/>\n",
              "    <path d=\"M18.56 5.44l.94 2.06.94-2.06 2.06-.94-2.06-.94-.94-2.06-.94 2.06-2.06.94zm-11 1L8.5 8.5l.94-2.06 2.06-.94-2.06-.94L8.5 2.5l-.94 2.06-2.06.94zm10 10l.94 2.06.94-2.06 2.06-.94-2.06-.94-.94-2.06-.94 2.06-2.06.94z\"/><path d=\"M17.41 7.96l-1.37-1.37c-.4-.4-.92-.59-1.43-.59-.52 0-1.04.2-1.43.59L10.3 9.45l-7.72 7.72c-.78.78-.78 2.05 0 2.83L4 21.41c.39.39.9.59 1.41.59.51 0 1.02-.2 1.41-.59l7.78-7.78 2.81-2.81c.8-.78.8-2.07 0-2.86zM5.41 20L4 18.59l7.72-7.72 1.47 1.35L5.41 20z\"/>\n",
              "  </svg>\n",
              "      </button>\n",
              "      \n",
              "  <style>\n",
              "    .colab-df-container {\n",
              "      display:flex;\n",
              "      flex-wrap:wrap;\n",
              "      gap: 12px;\n",
              "    }\n",
              "\n",
              "    .colab-df-convert {\n",
              "      background-color: #E8F0FE;\n",
              "      border: none;\n",
              "      border-radius: 50%;\n",
              "      cursor: pointer;\n",
              "      display: none;\n",
              "      fill: #1967D2;\n",
              "      height: 32px;\n",
              "      padding: 0 0 0 0;\n",
              "      width: 32px;\n",
              "    }\n",
              "\n",
              "    .colab-df-convert:hover {\n",
              "      background-color: #E2EBFA;\n",
              "      box-shadow: 0px 1px 2px rgba(60, 64, 67, 0.3), 0px 1px 3px 1px rgba(60, 64, 67, 0.15);\n",
              "      fill: #174EA6;\n",
              "    }\n",
              "\n",
              "    [theme=dark] .colab-df-convert {\n",
              "      background-color: #3B4455;\n",
              "      fill: #D2E3FC;\n",
              "    }\n",
              "\n",
              "    [theme=dark] .colab-df-convert:hover {\n",
              "      background-color: #434B5C;\n",
              "      box-shadow: 0px 1px 3px 1px rgba(0, 0, 0, 0.15);\n",
              "      filter: drop-shadow(0px 1px 2px rgba(0, 0, 0, 0.3));\n",
              "      fill: #FFFFFF;\n",
              "    }\n",
              "  </style>\n",
              "\n",
              "      <script>\n",
              "        const buttonEl =\n",
              "          document.querySelector('#df-bed856f6-8339-4e6a-ba7e-ce97c8980046 button.colab-df-convert');\n",
              "        buttonEl.style.display =\n",
              "          google.colab.kernel.accessAllowed ? 'block' : 'none';\n",
              "\n",
              "        async function convertToInteractive(key) {\n",
              "          const element = document.querySelector('#df-bed856f6-8339-4e6a-ba7e-ce97c8980046');\n",
              "          const dataTable =\n",
              "            await google.colab.kernel.invokeFunction('convertToInteractive',\n",
              "                                                     [key], {});\n",
              "          if (!dataTable) return;\n",
              "\n",
              "          const docLinkHtml = 'Like what you see? Visit the ' +\n",
              "            '<a target=\"_blank\" href=https://colab.research.google.com/notebooks/data_table.ipynb>data table notebook</a>'\n",
              "            + ' to learn more about interactive tables.';\n",
              "          element.innerHTML = '';\n",
              "          dataTable['output_type'] = 'display_data';\n",
              "          await google.colab.output.renderOutput(dataTable, element);\n",
              "          const docLink = document.createElement('div');\n",
              "          docLink.innerHTML = docLinkHtml;\n",
              "          element.appendChild(docLink);\n",
              "        }\n",
              "      </script>\n",
              "    </div>\n",
              "  </div>\n",
              "  "
            ]
          },
          "metadata": {},
          "execution_count": 14
        }
      ],
      "source": [
        "X_zeros = X_train[y == 0]\n",
        "X_ones = X_train[y == 1]\n",
        "y_zeros = y_train[y == 0]\n",
        "y_ones = y_train[y == 1]\n",
        "\n",
        "X_resampled = pd.concat([X_zeros.sample(frac=0.5, random_state=12345)] + [X_ones] * 2)\n",
        "y_resampled = pd.concat([y_zeros.sample(frac=0.5, random_state=12345)] + [y_ones] * 2)\n",
        "    \n",
        "X_resampled, y_resampled = shuffle(X_resampled, y_resampled, random_state=12345)\n",
        "\n",
        "best_depth_tree=[]\n",
        "for depth in np.arange(1, 50, 1):\n",
        "    model = DecisionTreeClassifier(\n",
        "        random_state=12345, max_depth=depth)\n",
        "    model.fit(X_resampled, y_resampled)\n",
        "    best_depth_tree.append([f1_score(y_valid, model.predict(X_valid)), depth])\n",
        "best_depth_tree = pd.Series(best_depth_tree).max()[1]\n",
        "\n",
        "best_split=[]\n",
        "for split in np.arange(2, 300, 10):\n",
        "    model = DecisionTreeClassifier(\n",
        "        random_state=12345, max_depth=best_depth_tree, min_samples_split=split)\n",
        "    model.fit(X_resampled, y_resampled)\n",
        "    best_split.append([f1_score(y_valid, model.predict(X_valid)), split])\n",
        "best_split = pd.Series(best_split).max()[1]\n",
        "\n",
        "best_leaf=[]\n",
        "for leaf in np.arange(2, 300, 10):\n",
        "    model = DecisionTreeClassifier(\n",
        "        random_state=12345, max_depth=best_depth_tree, min_samples_split=best_split, min_samples_leaf=leaf)\n",
        "    model.fit(X_resampled, y_resampled)\n",
        "    best_leaf.append([f1_score(y_valid, model.predict(X_valid)), leaf])\n",
        "best_leaf = pd.Series(best_leaf).max()[1]\n",
        "\n",
        "model_tree = DecisionTreeClassifier(\n",
        "    random_state=12345,\n",
        "    max_depth=best_depth_tree,\n",
        "    min_samples_split=best_split,\n",
        "    min_samples_leaf=best_leaf)\n",
        "model_tree.fit(X_resampled, y_resampled)\n",
        "\n",
        "\n",
        "best_est=[]\n",
        "for est in np.arange(50, 251, 10):\n",
        "    model = RandomForestClassifier(\n",
        "        random_state=12345, n_estimators=est)\n",
        "    model.fit(X_resampled, y_resampled)\n",
        "    best_est.append([f1_score(y_valid, model.predict(X_valid)), est])\n",
        "best_est = pd.Series(best_est).max()[1]\n",
        "\n",
        "best_depth=[]\n",
        "for depth in np.arange(1, 20, 1):\n",
        "    model = RandomForestClassifier(\n",
        "        random_state=12345, n_estimators=best_est, max_depth=depth)\n",
        "    model.fit(X_resampled, y_resampled)\n",
        "    best_depth.append([f1_score(y_valid, model.predict(X_valid)), depth])\n",
        "best_depth = pd.Series(best_depth).max()[1]\n",
        "\n",
        "model_forest = RandomForestClassifier(\n",
        "    random_state=12345, n_estimators=best_est, max_depth=best_depth)\n",
        "model_forest.fit(X_resampled, y_resampled)\n",
        "\n",
        "\n",
        "model_regression = LogisticRegression(random_state=12345, solver='liblinear')\n",
        "model_regression.fit(X_resampled, y_resampled)\n",
        "\n",
        "\n",
        "resampled_models = pd.DataFrame({'metrics': ['accuracy_resampled', 'f1_score_resampled', 'AUC-ROC_resampled'],\n",
        "              'tree': [accuracy_score(y_valid, model_tree.predict(X_valid)),\n",
        "                       f1_score(y_valid, model_tree.predict(X_valid)),\n",
        "                       roc_auc_score(y_valid, model_tree.predict_proba(X_valid)[:, 1])],\n",
        "              'forest': [accuracy_score(y_valid, model_forest.predict(X_valid)),\n",
        "                       f1_score(y_valid, model_forest.predict(X_valid)),\n",
        "                       roc_auc_score(y_valid, model_forest.predict_proba(X_valid)[:, 1])],\n",
        "              'log_regression': [model_regression.score(X_valid, y_valid),\n",
        "                       f1_score(y_valid, model_regression.predict(X_valid)),\n",
        "                       roc_auc_score(y_valid, model_regression.predict_proba(X_valid)[:, 1])]})\n",
        "all_models = all_models.merge(resampled_models, how = 'outer')\n",
        "all_models"
      ]
    },
    {
      "cell_type": "markdown",
      "metadata": {
        "id": "0CvOKaIqUtAp"
      },
      "source": [
        "Существенных улучшений не произошло, в основном показатели ухудшились. Не будем использовать увеличение частоты редких классов и уменьшение частых."
      ]
    },
    {
      "cell_type": "markdown",
      "metadata": {
        "id": "D1IxMfPnUtAp"
      },
      "source": [
        "### Изменение порога"
      ]
    },
    {
      "cell_type": "markdown",
      "metadata": {
        "id": "BZkTeLOcUtAp"
      },
      "source": [
        "В целевой переменной граница, где начинается отрицательный (клиент остался) и заканчивается положительный (клиент ушёл) класс, далека от 0,5. Найдём порог, для которого мера F1 принимает максимальное значение, и сообщим его модели. Дерево решений (возьмём лучшие параметры модели дерева решений из п 2.1):"
      ]
    },
    {
      "cell_type": "code",
      "execution_count": 15,
      "metadata": {
        "colab": {
          "base_uri": "https://localhost:8080/"
        },
        "id": "GCWE280KUtAq",
        "outputId": "f95ce1bc-d06d-48a8-9cf2-6cc2557b9ee0"
      },
      "outputs": [
        {
          "output_type": "stream",
          "name": "stdout",
          "text": [
            "Порог = 0.00 | F1 = 0.34\n",
            "Порог = 0.05 | F1 = 0.41\n",
            "Порог = 0.10 | F1 = 0.56\n",
            "Порог = 0.15 | F1 = 0.58\n",
            "Порог = 0.20 | F1 = 0.58\n",
            "Порог = 0.25 | F1 = 0.59\n",
            "Порог = 0.30 | F1 = 0.60\n",
            "Порог = 0.35 | F1 = 0.61\n",
            "Порог = 0.40 | F1 = 0.61\n",
            "Порог = 0.45 | F1 = 0.60\n",
            "Порог = 0.50 | F1 = 0.60\n",
            "Порог = 0.55 | F1 = 0.60\n",
            "Порог = 0.60 | F1 = 0.56\n",
            "Порог = 0.65 | F1 = 0.53\n",
            "Порог = 0.70 | F1 = 0.53\n",
            "Порог = 0.75 | F1 = 0.50\n",
            "Порог = 0.80 | F1 = 0.37\n",
            "Порог = 0.85 | F1 = 0.29\n",
            "Порог = 0.90 | F1 = 0.22\n",
            "Порог = 0.95 | F1 = 0.22\n"
          ]
        }
      ],
      "source": [
        "model_tree = DecisionTreeClassifier(\n",
        "    random_state=12345,\n",
        "    max_depth=best_depth_tree_simple,\n",
        "    min_samples_split=best_split_simple,\n",
        "    min_samples_leaf=best_leaf_simple)\n",
        "model_tree.fit(X_train, y_train)\n",
        "\n",
        "for threshold in np.arange(0, 1, 0.05):\n",
        "    predicted_valid = model_tree.predict_proba(X_valid)[:, 1] > threshold\n",
        "    f1 = f1_score(y_valid, predicted_valid)\n",
        "    \n",
        "    print(\"Порог = {:.2f} | F1 = {:.2f}\".format(threshold, f1))"
      ]
    },
    {
      "cell_type": "markdown",
      "metadata": {
        "id": "YGGECum1UtAq"
      },
      "source": [
        "Здесь F1-мера максимальна на пороге в 0.4. Случайный лес:"
      ]
    },
    {
      "cell_type": "code",
      "execution_count": 16,
      "metadata": {
        "colab": {
          "base_uri": "https://localhost:8080/"
        },
        "id": "beZ1X5c4UtAq",
        "outputId": "627450ef-6f4d-4911-a601-b3a8520f22f0"
      },
      "outputs": [
        {
          "output_type": "stream",
          "name": "stdout",
          "text": [
            "Порог = 0.00 | F1 = 0.361\n",
            "Порог = 0.05 | F1 = 0.436\n",
            "Порог = 0.10 | F1 = 0.496\n",
            "Порог = 0.15 | F1 = 0.544\n",
            "Порог = 0.20 | F1 = 0.586\n",
            "Порог = 0.25 | F1 = 0.609\n",
            "Порог = 0.30 | F1 = 0.640\n",
            "Порог = 0.35 | F1 = 0.639\n",
            "Порог = 0.40 | F1 = 0.642\n",
            "Порог = 0.45 | F1 = 0.637\n",
            "Порог = 0.50 | F1 = 0.611\n",
            "Порог = 0.55 | F1 = 0.599\n",
            "Порог = 0.60 | F1 = 0.545\n",
            "Порог = 0.65 | F1 = 0.498\n",
            "Порог = 0.70 | F1 = 0.436\n",
            "Порог = 0.75 | F1 = 0.395\n",
            "Порог = 0.80 | F1 = 0.321\n",
            "Порог = 0.85 | F1 = 0.232\n",
            "Порог = 0.90 | F1 = 0.107\n",
            "Порог = 0.95 | F1 = 0.032\n"
          ]
        }
      ],
      "source": [
        "model_forest = RandomForestClassifier(\n",
        "    random_state=12345, \n",
        "    n_estimators=best_est_simple, \n",
        "    max_depth=best_depth_simple)\n",
        "model_forest.fit(X_train, y_train)\n",
        "\n",
        "for threshold in np.arange(0, 1, 0.05):\n",
        "    predicted_valid = model_forest.predict_proba(X_valid)[:, 1] > threshold\n",
        "    f1 = f1_score(y_valid, predicted_valid)\n",
        "    \n",
        "    print(\"Порог = {:.2f} | F1 = {:.3f}\".format(threshold, f1))"
      ]
    },
    {
      "cell_type": "markdown",
      "metadata": {
        "id": "BRVmEKkYUtAq"
      },
      "source": [
        "Здесь следует задать порог 0.4. И логистическая регрессия:"
      ]
    },
    {
      "cell_type": "code",
      "execution_count": 17,
      "metadata": {
        "colab": {
          "base_uri": "https://localhost:8080/"
        },
        "id": "AQ-if-R9UtAr",
        "outputId": "5666dfa4-98c9-4eb9-b9db-57d326195005"
      },
      "outputs": [
        {
          "output_type": "stream",
          "name": "stdout",
          "text": [
            "Порог = 0.00 | F1 = 0.34\n",
            "Порог = 0.05 | F1 = 0.34\n",
            "Порог = 0.10 | F1 = 0.36\n",
            "Порог = 0.15 | F1 = 0.39\n",
            "Порог = 0.20 | F1 = 0.41\n",
            "Порог = 0.25 | F1 = 0.41\n",
            "Порог = 0.30 | F1 = 0.39\n",
            "Порог = 0.35 | F1 = 0.33\n",
            "Порог = 0.40 | F1 = 0.24\n",
            "Порог = 0.45 | F1 = 0.15\n",
            "Порог = 0.50 | F1 = 0.08\n",
            "Порог = 0.55 | F1 = 0.04\n",
            "Порог = 0.60 | F1 = 0.02\n",
            "Порог = 0.65 | F1 = 0.01\n",
            "Порог = 0.70 | F1 = 0.00\n",
            "Порог = 0.75 | F1 = 0.00\n",
            "Порог = 0.80 | F1 = 0.00\n",
            "Порог = 0.85 | F1 = 0.00\n",
            "Порог = 0.90 | F1 = 0.00\n",
            "Порог = 0.95 | F1 = 0.00\n"
          ]
        }
      ],
      "source": [
        "model_regression = LogisticRegression(random_state=12345, solver='liblinear')\n",
        "model_regression.fit(X_train, y_train)\n",
        "\n",
        "for threshold in np.arange(0, 1, 0.05):\n",
        "    predicted_valid = model_regression.predict_proba(X_valid)[:, 1] > threshold\n",
        "    f1 = f1_score(y_valid, predicted_valid)\n",
        "    \n",
        "    print(\"Порог = {:.2f} | F1 = {:.2f}\".format(threshold, f1))"
      ]
    },
    {
      "cell_type": "markdown",
      "metadata": {
        "id": "CwuIohxpUtAr"
      },
      "source": [
        "Здесь максимальные F1 при пороге 0.2. Применим новые пороги к модели:"
      ]
    },
    {
      "cell_type": "code",
      "execution_count": 18,
      "metadata": {
        "colab": {
          "base_uri": "https://localhost:8080/",
          "height": 0
        },
        "id": "Ck1oiSo3UtAr",
        "outputId": "1ce90447-be3c-4a49-8962-462495a6566f"
      },
      "outputs": [
        {
          "output_type": "execute_result",
          "data": {
            "text/plain": [
              "                       metrics      tree    forest  log_regression\n",
              "0            accuracy_weighted  0.771727  0.849285        0.700770\n",
              "1            f1_score_weighted  0.591133  0.652284        0.498155\n",
              "2             AUC-ROC_weighted  0.852618  0.876085        0.784935\n",
              "3              accuracy_simple  0.865787  0.869087        0.787129\n",
              "4              f1_score_simple  0.600000  0.611111        0.076372\n",
              "5               AUC-ROC_simple  0.852667  0.865979        0.682272\n",
              "6           accuracy_resampled  0.769527  0.835534        0.657316\n",
              "7           f1_score_resampled  0.578894  0.641056        0.459670\n",
              "8            AUC-ROC_resampled  0.849898  0.871197        0.729272\n",
              "9   accuracy_changed_threshold  0.863036  0.862486        0.566007\n",
              "10  f1_score_changed_threshold  0.609105  0.641834        0.410596\n",
              "11   AUC-ROC_changed_threshold  0.736576  0.766296        0.630707"
            ],
            "text/html": [
              "\n",
              "  <div id=\"df-8f4bc481-7f7f-4786-91a9-c3f6d42eaf44\">\n",
              "    <div class=\"colab-df-container\">\n",
              "      <div>\n",
              "<style scoped>\n",
              "    .dataframe tbody tr th:only-of-type {\n",
              "        vertical-align: middle;\n",
              "    }\n",
              "\n",
              "    .dataframe tbody tr th {\n",
              "        vertical-align: top;\n",
              "    }\n",
              "\n",
              "    .dataframe thead th {\n",
              "        text-align: right;\n",
              "    }\n",
              "</style>\n",
              "<table border=\"1\" class=\"dataframe\">\n",
              "  <thead>\n",
              "    <tr style=\"text-align: right;\">\n",
              "      <th></th>\n",
              "      <th>metrics</th>\n",
              "      <th>tree</th>\n",
              "      <th>forest</th>\n",
              "      <th>log_regression</th>\n",
              "    </tr>\n",
              "  </thead>\n",
              "  <tbody>\n",
              "    <tr>\n",
              "      <th>0</th>\n",
              "      <td>accuracy_weighted</td>\n",
              "      <td>0.771727</td>\n",
              "      <td>0.849285</td>\n",
              "      <td>0.700770</td>\n",
              "    </tr>\n",
              "    <tr>\n",
              "      <th>1</th>\n",
              "      <td>f1_score_weighted</td>\n",
              "      <td>0.591133</td>\n",
              "      <td>0.652284</td>\n",
              "      <td>0.498155</td>\n",
              "    </tr>\n",
              "    <tr>\n",
              "      <th>2</th>\n",
              "      <td>AUC-ROC_weighted</td>\n",
              "      <td>0.852618</td>\n",
              "      <td>0.876085</td>\n",
              "      <td>0.784935</td>\n",
              "    </tr>\n",
              "    <tr>\n",
              "      <th>3</th>\n",
              "      <td>accuracy_simple</td>\n",
              "      <td>0.865787</td>\n",
              "      <td>0.869087</td>\n",
              "      <td>0.787129</td>\n",
              "    </tr>\n",
              "    <tr>\n",
              "      <th>4</th>\n",
              "      <td>f1_score_simple</td>\n",
              "      <td>0.600000</td>\n",
              "      <td>0.611111</td>\n",
              "      <td>0.076372</td>\n",
              "    </tr>\n",
              "    <tr>\n",
              "      <th>5</th>\n",
              "      <td>AUC-ROC_simple</td>\n",
              "      <td>0.852667</td>\n",
              "      <td>0.865979</td>\n",
              "      <td>0.682272</td>\n",
              "    </tr>\n",
              "    <tr>\n",
              "      <th>6</th>\n",
              "      <td>accuracy_resampled</td>\n",
              "      <td>0.769527</td>\n",
              "      <td>0.835534</td>\n",
              "      <td>0.657316</td>\n",
              "    </tr>\n",
              "    <tr>\n",
              "      <th>7</th>\n",
              "      <td>f1_score_resampled</td>\n",
              "      <td>0.578894</td>\n",
              "      <td>0.641056</td>\n",
              "      <td>0.459670</td>\n",
              "    </tr>\n",
              "    <tr>\n",
              "      <th>8</th>\n",
              "      <td>AUC-ROC_resampled</td>\n",
              "      <td>0.849898</td>\n",
              "      <td>0.871197</td>\n",
              "      <td>0.729272</td>\n",
              "    </tr>\n",
              "    <tr>\n",
              "      <th>9</th>\n",
              "      <td>accuracy_changed_threshold</td>\n",
              "      <td>0.863036</td>\n",
              "      <td>0.862486</td>\n",
              "      <td>0.566007</td>\n",
              "    </tr>\n",
              "    <tr>\n",
              "      <th>10</th>\n",
              "      <td>f1_score_changed_threshold</td>\n",
              "      <td>0.609105</td>\n",
              "      <td>0.641834</td>\n",
              "      <td>0.410596</td>\n",
              "    </tr>\n",
              "    <tr>\n",
              "      <th>11</th>\n",
              "      <td>AUC-ROC_changed_threshold</td>\n",
              "      <td>0.736576</td>\n",
              "      <td>0.766296</td>\n",
              "      <td>0.630707</td>\n",
              "    </tr>\n",
              "  </tbody>\n",
              "</table>\n",
              "</div>\n",
              "      <button class=\"colab-df-convert\" onclick=\"convertToInteractive('df-8f4bc481-7f7f-4786-91a9-c3f6d42eaf44')\"\n",
              "              title=\"Convert this dataframe to an interactive table.\"\n",
              "              style=\"display:none;\">\n",
              "        \n",
              "  <svg xmlns=\"http://www.w3.org/2000/svg\" height=\"24px\"viewBox=\"0 0 24 24\"\n",
              "       width=\"24px\">\n",
              "    <path d=\"M0 0h24v24H0V0z\" fill=\"none\"/>\n",
              "    <path d=\"M18.56 5.44l.94 2.06.94-2.06 2.06-.94-2.06-.94-.94-2.06-.94 2.06-2.06.94zm-11 1L8.5 8.5l.94-2.06 2.06-.94-2.06-.94L8.5 2.5l-.94 2.06-2.06.94zm10 10l.94 2.06.94-2.06 2.06-.94-2.06-.94-.94-2.06-.94 2.06-2.06.94z\"/><path d=\"M17.41 7.96l-1.37-1.37c-.4-.4-.92-.59-1.43-.59-.52 0-1.04.2-1.43.59L10.3 9.45l-7.72 7.72c-.78.78-.78 2.05 0 2.83L4 21.41c.39.39.9.59 1.41.59.51 0 1.02-.2 1.41-.59l7.78-7.78 2.81-2.81c.8-.78.8-2.07 0-2.86zM5.41 20L4 18.59l7.72-7.72 1.47 1.35L5.41 20z\"/>\n",
              "  </svg>\n",
              "      </button>\n",
              "      \n",
              "  <style>\n",
              "    .colab-df-container {\n",
              "      display:flex;\n",
              "      flex-wrap:wrap;\n",
              "      gap: 12px;\n",
              "    }\n",
              "\n",
              "    .colab-df-convert {\n",
              "      background-color: #E8F0FE;\n",
              "      border: none;\n",
              "      border-radius: 50%;\n",
              "      cursor: pointer;\n",
              "      display: none;\n",
              "      fill: #1967D2;\n",
              "      height: 32px;\n",
              "      padding: 0 0 0 0;\n",
              "      width: 32px;\n",
              "    }\n",
              "\n",
              "    .colab-df-convert:hover {\n",
              "      background-color: #E2EBFA;\n",
              "      box-shadow: 0px 1px 2px rgba(60, 64, 67, 0.3), 0px 1px 3px 1px rgba(60, 64, 67, 0.15);\n",
              "      fill: #174EA6;\n",
              "    }\n",
              "\n",
              "    [theme=dark] .colab-df-convert {\n",
              "      background-color: #3B4455;\n",
              "      fill: #D2E3FC;\n",
              "    }\n",
              "\n",
              "    [theme=dark] .colab-df-convert:hover {\n",
              "      background-color: #434B5C;\n",
              "      box-shadow: 0px 1px 3px 1px rgba(0, 0, 0, 0.15);\n",
              "      filter: drop-shadow(0px 1px 2px rgba(0, 0, 0, 0.3));\n",
              "      fill: #FFFFFF;\n",
              "    }\n",
              "  </style>\n",
              "\n",
              "      <script>\n",
              "        const buttonEl =\n",
              "          document.querySelector('#df-8f4bc481-7f7f-4786-91a9-c3f6d42eaf44 button.colab-df-convert');\n",
              "        buttonEl.style.display =\n",
              "          google.colab.kernel.accessAllowed ? 'block' : 'none';\n",
              "\n",
              "        async function convertToInteractive(key) {\n",
              "          const element = document.querySelector('#df-8f4bc481-7f7f-4786-91a9-c3f6d42eaf44');\n",
              "          const dataTable =\n",
              "            await google.colab.kernel.invokeFunction('convertToInteractive',\n",
              "                                                     [key], {});\n",
              "          if (!dataTable) return;\n",
              "\n",
              "          const docLinkHtml = 'Like what you see? Visit the ' +\n",
              "            '<a target=\"_blank\" href=https://colab.research.google.com/notebooks/data_table.ipynb>data table notebook</a>'\n",
              "            + ' to learn more about interactive tables.';\n",
              "          element.innerHTML = '';\n",
              "          dataTable['output_type'] = 'display_data';\n",
              "          await google.colab.output.renderOutput(dataTable, element);\n",
              "          const docLink = document.createElement('div');\n",
              "          docLink.innerHTML = docLinkHtml;\n",
              "          element.appendChild(docLink);\n",
              "        }\n",
              "      </script>\n",
              "    </div>\n",
              "  </div>\n",
              "  "
            ]
          },
          "metadata": {},
          "execution_count": 18
        }
      ],
      "source": [
        "model_tree = DecisionTreeClassifier(\n",
        "    random_state=12345,\n",
        "    max_depth=best_depth_tree_simple,\n",
        "    min_samples_split=best_split_simple,\n",
        "    min_samples_leaf=best_leaf_simple)\n",
        "model_tree.fit(X_train, y_train)\n",
        "\n",
        "model_forest = RandomForestClassifier(\n",
        "    random_state=12345, \n",
        "    n_estimators=best_est_simple, \n",
        "    max_depth=best_depth_simple)\n",
        "model_forest.fit(X_train, y_train)\n",
        "model_forest.fit(X_train, y_train)\n",
        "\n",
        "model_regression = LogisticRegression(random_state=12345, solver='liblinear')\n",
        "model_regression.fit(X_train, y_train)\n",
        "\n",
        "changed_threshold_models = pd.DataFrame({'metrics': ['accuracy_changed_threshold',\n",
        "                                                     'f1_score_changed_threshold',\n",
        "                                                     'AUC-ROC_changed_threshold'],\n",
        "              'tree': [accuracy_score(y_valid, model_tree.predict_proba(X_valid)[:, 1] > 0.4),\n",
        "                       f1_score(y_valid, model_tree.predict_proba(X_valid)[:, 1] > 0.4),\n",
        "                       roc_auc_score(y_valid, model_tree.predict_proba(X_valid)[:, 1] > 0.4)],\n",
        "              'forest': [accuracy_score(y_valid, model_forest.predict_proba(X_valid)[:, 1] > 0.4),\n",
        "                       f1_score(y_valid, model_forest.predict_proba(X_valid)[:, 1] > 0.4),\n",
        "                       roc_auc_score(y_valid, model_forest.predict_proba(X_valid)[:, 1] > 0.4)],\n",
        "              'log_regression': [model_regression.score(X_valid, model_regression.predict_proba(X_valid)[:, 1] > 0.2),\n",
        "                       f1_score(y_valid, model_regression.predict_proba(X_valid)[:, 1] > 0.2),\n",
        "                       roc_auc_score(y_valid, model_regression.predict_proba(X_valid)[:, 1] > 0.2)]})\n",
        "all_models = all_models.merge(changed_threshold_models, how = 'outer')\n",
        "all_models"
      ]
    },
    {
      "cell_type": "markdown",
      "metadata": {
        "id": "-UaNOhUmUtAr"
      },
      "source": [
        "Так мы смогли улучшить показатели модели логистической регрессии, однако лучшие показатели осталисьу модели Случайный лес с параметром взвешенных классов. Для данной модели изменение порога не повысило метрики F1 и AUC-ROC."
      ]
    },
    {
      "cell_type": "markdown",
      "metadata": {
        "id": "sIQN-S4uUtAr"
      },
      "source": [
        "### Определение ключевых параметров успешной модели"
      ]
    },
    {
      "cell_type": "markdown",
      "metadata": {
        "id": "yUHMlhytUtAs"
      },
      "source": [
        "Итак, наилучшая модель - случайный лес. Определим наиболее успешные параметры:"
      ]
    },
    {
      "cell_type": "code",
      "execution_count": 19,
      "metadata": {
        "colab": {
          "base_uri": "https://localhost:8080/"
        },
        "id": "_rUxh5PKUtAs",
        "outputId": "8784f608-2851-4c4b-a214-7dbc567afc7c"
      },
      "outputs": [
        {
          "output_type": "stream",
          "name": "stdout",
          "text": [
            "Оптимальное количество estimators: 150\n",
            "Оптимальная глубина: 9\n"
          ]
        }
      ],
      "source": [
        "print('Оптимальное количество estimators:', best_est_weighted)\n",
        "print('Оптимальная глубина:', best_depth_weighted)"
      ]
    },
    {
      "cell_type": "code",
      "execution_count": 20,
      "metadata": {
        "colab": {
          "base_uri": "https://localhost:8080/"
        },
        "id": "XZR_jPqTUtAs",
        "outputId": "f585356a-ffeb-43ea-9671-fe0f8f2d0def"
      },
      "outputs": [
        {
          "output_type": "stream",
          "name": "stdout",
          "text": [
            "accuracy: 0.8492849284928493 F1: 0.652284263959391 AUC-ROC: 0.876085292183661\n"
          ]
        }
      ],
      "source": [
        "model_forest = RandomForestClassifier(\n",
        "    random_state=12345,\n",
        "    n_estimators=best_est_weighted,\n",
        "    max_depth=best_depth_weighted,\n",
        "    class_weight='balanced')\n",
        "model_forest.fit(X_train, y_train)\n",
        "predictions_valid = model_forest.predict(X_valid)\n",
        "print('accuracy:', accuracy_score(y_valid, predictions_valid),\n",
        "      'F1:', f1_score(y_valid, predictions_valid),\n",
        "      'AUC-ROC:', roc_auc_score(y_valid, model_forest.predict_proba(X_valid)[:, 1]))"
      ]
    },
    {
      "cell_type": "markdown",
      "metadata": {
        "id": "9cQnPRP0UtAt"
      },
      "source": [
        "## Тестирование модели"
      ]
    },
    {
      "cell_type": "markdown",
      "metadata": {
        "id": "n5LLKET9UtAt"
      },
      "source": [
        "Проверим модель случайного леса на тестовом наборе данных."
      ]
    },
    {
      "cell_type": "code",
      "execution_count": 21,
      "metadata": {
        "colab": {
          "base_uri": "https://localhost:8080/"
        },
        "id": "Hq1V9U6GUtAt",
        "outputId": "93e87751-38bb-4834-a3ce-e3ec8f1cd003"
      },
      "outputs": [
        {
          "output_type": "stream",
          "name": "stdout",
          "text": [
            "accuracy: 0.8361737218251787 F1: 0.6005361930294906 AUC-ROC: 0.8502405027475392\n"
          ]
        }
      ],
      "source": [
        "predictions_test = model_forest.predict(X_test)\n",
        "print('accuracy:', accuracy_score(y_test, predictions_test),\n",
        "      'F1:', f1_score(y_test, predictions_test),\n",
        "      'AUC-ROC:', roc_auc_score(y_test, model_forest.predict_proba(X_test)[:, 1]))"
      ]
    },
    {
      "cell_type": "markdown",
      "metadata": {
        "id": "hMPUT3DxUtAt"
      },
      "source": [
        "Дообучим выбранную модель случайного леса на увеличенной тестовой выборке, объединив тестовую и валидационную выборку и проверим её работу на тестовой выборке."
      ]
    },
    {
      "cell_type": "code",
      "execution_count": 22,
      "metadata": {
        "colab": {
          "base_uri": "https://localhost:8080/"
        },
        "id": "3TS9yr1PUtAt",
        "outputId": "70ff89d6-849f-457f-cfed-146954b74982"
      },
      "outputs": [
        {
          "output_type": "stream",
          "name": "stdout",
          "text": [
            "accuracy: 0.845519516217702 F1: 0.6036671368124118 AUC-ROC: 0.8502405027475392\n"
          ]
        }
      ],
      "source": [
        "X_enlarged = X_train.append(X_valid)\n",
        "y_enlarged = y_train.append(y_valid)\n",
        "\n",
        "model_forest_reeducated = RandomForestClassifier(random_state=12345,\n",
        "                                                 n_estimators=210,\n",
        "                                                 max_depth=11,\n",
        "                                                 class_weight='balanced')\n",
        "model_forest_reeducated.fit(X_enlarged, y_enlarged)\n",
        "predictions_test = model_forest_reeducated.predict(X_test)\n",
        "print('accuracy:', accuracy_score(y_test, predictions_test),\n",
        "      'F1:', f1_score(y_test, predictions_test),\n",
        "      'AUC-ROC:', roc_auc_score(y_test, model_forest.predict_proba(X_test)[:, 1]))"
      ]
    },
    {
      "cell_type": "markdown",
      "metadata": {
        "id": "lCusuow_UtAu"
      },
      "source": [
        "Наш лучший результат - 85% accuracy, F1-мера на уровне 0,62, AUC-ROC 0,85 на тестовой выборке. ROC-кривая для тестовой выборки выглядит так:"
      ]
    },
    {
      "cell_type": "code",
      "execution_count": 23,
      "metadata": {
        "colab": {
          "base_uri": "https://localhost:8080/",
          "height": 404
        },
        "id": "zHI_4M7qUtAu",
        "outputId": "dc5a3b10-c20f-4f05-9d1a-b6484a4ea54c"
      },
      "outputs": [
        {
          "output_type": "display_data",
          "data": {
            "text/plain": [
              "<Figure size 432x432 with 1 Axes>"
            ],
            "image/png": "[encoded data removed]"
          },
          "metadata": {
            "needs_background": "light"
          }
        }
      ],
      "source": [
        "fpr, tpr, thresholds = roc_curve(y_test,  model_forest.predict_proba(X_test)[:, 1])\n",
        "plt.figure(figsize=(6, 6))\n",
        "plt.plot(fpr, tpr)\n",
        "plt.plot([0, 1], [0, 1], linestyle='--')\n",
        "plt.ylim([0.0, 1.0])\n",
        "plt.xlim([0.0, 1.0])\n",
        "plt.xlabel('False Positive Rate')\n",
        "plt.ylabel('True Positive Rate')\n",
        "plt.title('ROC-кривая')\n",
        "plt.show()"
      ]
    },
    {
      "cell_type": "markdown",
      "metadata": {
        "id": "Ga0LtecSUtAu"
      },
      "source": [
        "Модель отличается от случайных предсказаний, но всё же предоставленных данных для высокоточного предсказания используемыми методами не достаточно.\n",
        "\n",
        "Посмотрим, чего можно добиться, случайно предсказывая прекращение пользования услугами банка просто на основании распространённости данного события в выборке:"
      ]
    },
    {
      "cell_type": "code",
      "execution_count": 24,
      "metadata": {
        "colab": {
          "base_uri": "https://localhost:8080/"
        },
        "id": "zoU0mQgMUtAu",
        "outputId": "e5267b16-bb75-4881-b122-52a151b71e1c"
      },
      "outputs": [
        {
          "output_type": "stream",
          "name": "stdout",
          "text": [
            "accuracy: 0.7960417811984607 F1: 0.0\n"
          ]
        }
      ],
      "source": [
        "frequent_clf = DummyClassifier(strategy = 'most_frequent').fit(X_train, y_train)\n",
        "y_predicted_by_frequency = frequent_clf.predict(X_test)\n",
        "print('accuracy:', accuracy_score(y_test, y_predicted_by_frequency), 'F1:', f1_score(y_test, y_predicted_by_frequency))"
      ]
    },
    {
      "cell_type": "markdown",
      "metadata": {
        "id": "EomhDYv8UtAv"
      },
      "source": [
        "Несмотря на то, что accuracy нашей модели не существенно выше частоты распространения ключевого признака в выборке, мера F1 показывает, что в большинстве случаев модель предсказывает верно, есть экономический смысл пользовать ею при прогнозировании ухода клиента из банка."
      ]
    },
    {
      "cell_type": "markdown",
      "metadata": {
        "id": "S-mjefy-UtAv"
      },
      "source": [
        "## Вывод"
      ]
    },
    {
      "cell_type": "markdown",
      "metadata": {
        "id": "lOvpFJnhUtAv"
      },
      "source": [
        "Мы получили модель случайного леса, которая предсказывает уход клиента от банка на тестовой выборке с точностью 85%, мера F1 находится на уровне 0,62, что выше заданного порога в 0,59. Параметры наилучшей модели случайного леса следующие:\n",
        "- n_estimators=210,\n",
        "- max_depth=11,\n",
        "- class_weight='balanced'.\n",
        "\n",
        "Рабоая с этой моделью, можно предсказывать уход клиентов по тем же причинам, что это сделали пользователи, обладающие схожими характеристиками и практиками. Точность полученной модели не 100%, и можно говорить лишь о высокой вероятности ухода клиента, однако, обратив на него внимание банка, можно повысить лояльность данного клиента и потратить меньше средств на удержание данных групп пользователей, чем на привлечение новых клиентов."
      ]
    }
  ],
  "metadata": {
    "ExecuteTimeLog": [
      {
        "duration": 92,
        "start_time": "2021-11-24T08:21:58.430Z"
      },
      {
        "duration": 357,
        "start_time": "2021-11-24T08:22:06.433Z"
      },
      {
        "duration": 1450,
        "start_time": "2021-11-24T08:22:09.713Z"
      },
      {
        "duration": 72,
        "start_time": "2021-11-24T08:22:11.450Z"
      },
      {
        "duration": 3180,
        "start_time": "2021-11-24T09:02:30.447Z"
      },
      {
        "duration": 3338,
        "start_time": "2021-11-24T09:02:58.652Z"
      },
      {
        "duration": 3459,
        "start_time": "2021-11-24T09:03:12.340Z"
      },
      {
        "duration": 24,
        "start_time": "2021-11-24T09:07:44.300Z"
      },
      {
        "duration": 58134,
        "start_time": "2021-11-24T09:10:05.509Z"
      },
      {
        "duration": 48258,
        "start_time": "2021-11-24T09:11:23.117Z"
      },
      {
        "duration": 40392,
        "start_time": "2021-11-24T09:12:56.420Z"
      },
      {
        "duration": 6,
        "start_time": "2021-11-24T09:21:13.925Z"
      },
      {
        "duration": 490,
        "start_time": "2021-11-24T09:24:08.606Z"
      },
      {
        "duration": 10397,
        "start_time": "2021-11-24T09:24:17.846Z"
      },
      {
        "duration": 3810,
        "start_time": "2021-11-24T09:24:51.877Z"
      },
      {
        "duration": 321,
        "start_time": "2021-11-24T09:27:27.338Z"
      },
      {
        "duration": 67,
        "start_time": "2021-11-24T09:27:32.850Z"
      },
      {
        "duration": 7,
        "start_time": "2021-11-24T09:27:36.221Z"
      },
      {
        "duration": 2958,
        "start_time": "2021-11-24T09:27:39.302Z"
      },
      {
        "duration": 3066,
        "start_time": "2021-11-24T09:27:53.678Z"
      },
      {
        "duration": 3029,
        "start_time": "2021-11-24T09:28:14.222Z"
      },
      {
        "duration": 2964,
        "start_time": "2021-11-24T09:28:33.070Z"
      },
      {
        "duration": 6311,
        "start_time": "2021-11-24T09:29:02.087Z"
      },
      {
        "duration": 23,
        "start_time": "2021-11-24T09:55:41.309Z"
      },
      {
        "duration": 389,
        "start_time": "2021-11-24T09:58:08.825Z"
      },
      {
        "duration": 43,
        "start_time": "2021-11-24T10:01:00.462Z"
      },
      {
        "duration": 320,
        "start_time": "2021-11-24T10:01:03.434Z"
      },
      {
        "duration": 3818,
        "start_time": "2021-11-24T10:01:50.578Z"
      },
      {
        "duration": 6070,
        "start_time": "2021-11-24T10:02:01.571Z"
      },
      {
        "duration": 10038,
        "start_time": "2021-11-24T10:04:08.734Z"
      },
      {
        "duration": 6487,
        "start_time": "2021-11-24T10:04:25.154Z"
      },
      {
        "duration": 9688,
        "start_time": "2021-11-24T10:04:36.106Z"
      },
      {
        "duration": 8197,
        "start_time": "2021-11-24T10:04:47.913Z"
      },
      {
        "duration": 6812,
        "start_time": "2021-11-24T10:05:10.234Z"
      },
      {
        "duration": 8,
        "start_time": "2021-11-24T10:05:37.921Z"
      },
      {
        "duration": 329,
        "start_time": "2021-11-24T10:05:55.593Z"
      },
      {
        "duration": 30,
        "start_time": "2021-11-24T10:06:03.694Z"
      },
      {
        "duration": 3156,
        "start_time": "2021-11-24T10:06:23.830Z"
      },
      {
        "duration": 616,
        "start_time": "2021-11-24T10:06:58.858Z"
      },
      {
        "duration": 363,
        "start_time": "2021-11-24T10:07:10.985Z"
      },
      {
        "duration": 305,
        "start_time": "2021-11-24T10:07:23.025Z"
      },
      {
        "duration": 1221,
        "start_time": "2021-11-24T10:08:12.194Z"
      },
      {
        "duration": 416,
        "start_time": "2021-11-24T10:09:30.914Z"
      },
      {
        "duration": 301,
        "start_time": "2021-11-24T10:09:35.412Z"
      },
      {
        "duration": 383,
        "start_time": "2021-11-24T10:10:20.889Z"
      },
      {
        "duration": 326,
        "start_time": "2021-11-24T10:10:40.065Z"
      },
      {
        "duration": 302,
        "start_time": "2021-11-24T10:11:09.401Z"
      },
      {
        "duration": 325,
        "start_time": "2021-11-24T10:11:26.201Z"
      },
      {
        "duration": 14,
        "start_time": "2021-11-24T10:12:17.765Z"
      },
      {
        "duration": 16,
        "start_time": "2021-11-24T10:12:30.322Z"
      },
      {
        "duration": 373,
        "start_time": "2021-11-24T10:12:55.970Z"
      },
      {
        "duration": 17,
        "start_time": "2021-11-24T10:13:04.426Z"
      },
      {
        "duration": 24,
        "start_time": "2021-11-24T10:13:22.907Z"
      },
      {
        "duration": 24,
        "start_time": "2021-11-24T10:13:56.338Z"
      },
      {
        "duration": 17,
        "start_time": "2021-11-24T10:15:54.956Z"
      },
      {
        "duration": 16,
        "start_time": "2021-11-24T10:16:16.354Z"
      },
      {
        "duration": 19,
        "start_time": "2021-11-24T10:16:33.074Z"
      },
      {
        "duration": 19,
        "start_time": "2021-11-24T10:16:48.826Z"
      },
      {
        "duration": 15,
        "start_time": "2021-11-24T10:17:04.458Z"
      },
      {
        "duration": 145,
        "start_time": "2021-11-24T10:28:59.507Z"
      },
      {
        "duration": 110,
        "start_time": "2021-11-24T10:29:14.083Z"
      },
      {
        "duration": 99,
        "start_time": "2021-11-24T10:29:35.778Z"
      },
      {
        "duration": 23,
        "start_time": "2021-11-24T10:29:41.443Z"
      },
      {
        "duration": 21,
        "start_time": "2021-11-24T10:30:14.379Z"
      },
      {
        "duration": 18,
        "start_time": "2021-11-24T10:30:57.283Z"
      },
      {
        "duration": 19,
        "start_time": "2021-11-24T10:31:26.159Z"
      },
      {
        "duration": 18,
        "start_time": "2021-11-24T10:31:53.355Z"
      },
      {
        "duration": 60,
        "start_time": "2021-11-24T10:35:00.124Z"
      },
      {
        "duration": 2548,
        "start_time": "2021-11-24T10:35:02.748Z"
      },
      {
        "duration": 8747,
        "start_time": "2021-11-24T10:36:29.972Z"
      },
      {
        "duration": 8612,
        "start_time": "2021-11-24T10:36:47.653Z"
      },
      {
        "duration": 320,
        "start_time": "2021-11-24T10:37:11.844Z"
      },
      {
        "duration": 47,
        "start_time": "2021-11-24T10:37:24.723Z"
      },
      {
        "duration": 44,
        "start_time": "2021-11-24T10:37:57.356Z"
      },
      {
        "duration": 1484,
        "start_time": "2021-11-24T10:38:05.276Z"
      },
      {
        "duration": 8,
        "start_time": "2021-11-24T10:46:04.061Z"
      },
      {
        "duration": 10,
        "start_time": "2021-11-24T10:46:23.469Z"
      },
      {
        "duration": 88061,
        "start_time": "2021-11-24T10:49:35.910Z"
      },
      {
        "duration": 12861,
        "start_time": "2021-11-24T10:51:05.678Z"
      },
      {
        "duration": 11132,
        "start_time": "2021-11-24T10:51:41.686Z"
      },
      {
        "duration": 4740,
        "start_time": "2021-11-24T10:52:04.630Z"
      },
      {
        "duration": 5089,
        "start_time": "2021-11-24T10:52:18.879Z"
      },
      {
        "duration": 317,
        "start_time": "2021-11-24T10:56:41.277Z"
      },
      {
        "duration": 2128,
        "start_time": "2021-11-24T10:57:15.885Z"
      },
      {
        "duration": 556,
        "start_time": "2021-11-24T10:58:20.537Z"
      },
      {
        "duration": 558,
        "start_time": "2021-11-24T11:00:55.446Z"
      },
      {
        "duration": 9,
        "start_time": "2021-11-24T11:06:50.617Z"
      },
      {
        "duration": 382,
        "start_time": "2021-11-24T11:06:57.949Z"
      },
      {
        "duration": 9,
        "start_time": "2021-11-24T11:07:03.885Z"
      },
      {
        "duration": 14056,
        "start_time": "2021-11-24T11:07:42.286Z"
      },
      {
        "duration": 11,
        "start_time": "2021-11-24T11:07:58.030Z"
      },
      {
        "duration": 13,
        "start_time": "2021-11-24T11:08:08.893Z"
      },
      {
        "duration": 11347,
        "start_time": "2021-11-24T11:09:16.950Z"
      },
      {
        "duration": 2977,
        "start_time": "2021-11-24T11:09:40.848Z"
      },
      {
        "duration": 107,
        "start_time": "2021-11-24T11:10:13.397Z"
      },
      {
        "duration": 41,
        "start_time": "2021-11-24T11:11:05.749Z"
      },
      {
        "duration": 2260,
        "start_time": "2021-11-24T11:11:10.222Z"
      },
      {
        "duration": 59,
        "start_time": "2021-11-24T11:11:13.446Z"
      },
      {
        "duration": 2282,
        "start_time": "2021-11-24T11:11:20.640Z"
      },
      {
        "duration": 61,
        "start_time": "2021-11-24T11:11:41.276Z"
      },
      {
        "duration": 1497,
        "start_time": "2021-11-24T11:11:44.894Z"
      },
      {
        "duration": 1524,
        "start_time": "2021-11-24T11:12:06.440Z"
      },
      {
        "duration": 73,
        "start_time": "2021-11-24T11:12:07.967Z"
      },
      {
        "duration": 6,
        "start_time": "2021-11-24T11:12:08.042Z"
      },
      {
        "duration": 31,
        "start_time": "2021-11-24T11:12:08.050Z"
      },
      {
        "duration": 3005,
        "start_time": "2021-11-24T11:12:08.083Z"
      },
      {
        "duration": 12,
        "start_time": "2021-11-24T11:12:11.091Z"
      },
      {
        "duration": 23,
        "start_time": "2021-11-24T11:12:11.107Z"
      },
      {
        "duration": 532,
        "start_time": "2021-11-24T11:12:18.509Z"
      },
      {
        "duration": 42,
        "start_time": "2021-11-24T11:12:34.925Z"
      },
      {
        "duration": 1436,
        "start_time": "2021-11-24T11:12:42.701Z"
      },
      {
        "duration": 1553,
        "start_time": "2021-11-24T11:13:35.455Z"
      },
      {
        "duration": 73,
        "start_time": "2021-11-24T11:13:37.011Z"
      },
      {
        "duration": 6,
        "start_time": "2021-11-24T11:13:37.087Z"
      },
      {
        "duration": 24,
        "start_time": "2021-11-24T11:13:37.095Z"
      },
      {
        "duration": 3092,
        "start_time": "2021-11-24T11:13:37.121Z"
      },
      {
        "duration": 19,
        "start_time": "2021-11-24T11:13:40.217Z"
      },
      {
        "duration": 51,
        "start_time": "2021-11-24T11:13:40.238Z"
      },
      {
        "duration": 42,
        "start_time": "2021-11-24T11:13:50.386Z"
      },
      {
        "duration": 1463,
        "start_time": "2021-11-24T11:14:10.867Z"
      },
      {
        "duration": 39,
        "start_time": "2021-11-24T11:14:54.091Z"
      },
      {
        "duration": 3414,
        "start_time": "2021-11-24T11:21:04.579Z"
      },
      {
        "duration": 3044,
        "start_time": "2021-11-24T11:21:39.627Z"
      },
      {
        "duration": 3024,
        "start_time": "2021-11-24T11:28:51.948Z"
      },
      {
        "duration": 43,
        "start_time": "2021-11-24T11:29:11.043Z"
      },
      {
        "duration": 1489,
        "start_time": "2021-11-24T11:29:14.804Z"
      },
      {
        "duration": 1479,
        "start_time": "2021-11-24T11:39:25.699Z"
      },
      {
        "duration": 71,
        "start_time": "2021-11-24T11:39:27.182Z"
      },
      {
        "duration": 7,
        "start_time": "2021-11-24T11:39:27.257Z"
      },
      {
        "duration": 27,
        "start_time": "2021-11-24T11:39:27.268Z"
      },
      {
        "duration": 3049,
        "start_time": "2021-11-24T11:39:27.298Z"
      },
      {
        "duration": 13,
        "start_time": "2021-11-24T11:39:30.350Z"
      },
      {
        "duration": 37,
        "start_time": "2021-11-24T11:39:30.366Z"
      },
      {
        "duration": 41,
        "start_time": "2021-11-24T11:39:30.406Z"
      },
      {
        "duration": 1494,
        "start_time": "2021-11-24T11:39:35.912Z"
      },
      {
        "duration": 474,
        "start_time": "2021-11-24T11:44:33.496Z"
      },
      {
        "duration": 5,
        "start_time": "2021-11-24T11:44:52.560Z"
      },
      {
        "duration": 1513,
        "start_time": "2021-11-24T11:44:57.392Z"
      },
      {
        "duration": 382,
        "start_time": "2021-11-24T11:49:07.657Z"
      },
      {
        "duration": 5,
        "start_time": "2021-11-24T11:49:15.377Z"
      },
      {
        "duration": 408,
        "start_time": "2021-11-24T11:49:20.976Z"
      },
      {
        "duration": 6,
        "start_time": "2021-11-24T11:49:47.305Z"
      },
      {
        "duration": 1459,
        "start_time": "2021-11-24T11:49:52.056Z"
      },
      {
        "duration": 795,
        "start_time": "2021-11-24T11:54:41.146Z"
      },
      {
        "duration": 327,
        "start_time": "2021-11-24T11:56:41.355Z"
      },
      {
        "duration": 848,
        "start_time": "2021-11-24T11:57:08.634Z"
      },
      {
        "duration": 132,
        "start_time": "2021-11-24T11:57:16.257Z"
      },
      {
        "duration": 991,
        "start_time": "2021-11-24T12:18:28.500Z"
      },
      {
        "duration": 142,
        "start_time": "2021-11-24T12:19:13.549Z"
      },
      {
        "duration": 1577,
        "start_time": "2021-11-24T12:21:23.933Z"
      },
      {
        "duration": 1430,
        "start_time": "2021-11-24T12:21:49.757Z"
      },
      {
        "duration": 830,
        "start_time": "2021-11-24T12:23:24.397Z"
      },
      {
        "duration": 87,
        "start_time": "2021-11-24T12:23:27.205Z"
      },
      {
        "duration": 1557,
        "start_time": "2021-11-24T12:30:32.125Z"
      },
      {
        "duration": 1291,
        "start_time": "2021-11-24T12:31:56.697Z"
      },
      {
        "duration": 1512,
        "start_time": "2021-11-24T12:39:28.719Z"
      },
      {
        "duration": 1545,
        "start_time": "2021-11-24T12:41:20.344Z"
      },
      {
        "duration": 76,
        "start_time": "2021-11-24T12:41:21.892Z"
      },
      {
        "duration": 14,
        "start_time": "2021-11-24T12:41:21.971Z"
      },
      {
        "duration": 14,
        "start_time": "2021-11-24T12:41:21.988Z"
      },
      {
        "duration": 2977,
        "start_time": "2021-11-24T12:41:22.005Z"
      },
      {
        "duration": 13,
        "start_time": "2021-11-24T12:41:24.984Z"
      },
      {
        "duration": 26,
        "start_time": "2021-11-24T12:41:24.999Z"
      },
      {
        "duration": 74,
        "start_time": "2021-11-24T12:41:25.030Z"
      },
      {
        "duration": 473,
        "start_time": "2021-11-24T12:41:25.108Z"
      },
      {
        "duration": 634,
        "start_time": "2021-11-24T12:41:24.950Z"
      },
      {
        "duration": 633,
        "start_time": "2021-11-24T12:41:24.954Z"
      },
      {
        "duration": 632,
        "start_time": "2021-11-24T12:41:24.957Z"
      },
      {
        "duration": 632,
        "start_time": "2021-11-24T12:41:24.959Z"
      },
      {
        "duration": 335,
        "start_time": "2021-11-24T12:41:52.584Z"
      },
      {
        "duration": 619,
        "start_time": "2021-11-24T12:41:52.302Z"
      },
      {
        "duration": 618,
        "start_time": "2021-11-24T12:41:52.305Z"
      },
      {
        "duration": 616,
        "start_time": "2021-11-24T12:41:52.308Z"
      },
      {
        "duration": 614,
        "start_time": "2021-11-24T12:41:52.311Z"
      },
      {
        "duration": 1505,
        "start_time": "2021-11-24T12:42:12.693Z"
      },
      {
        "duration": 817,
        "start_time": "2021-11-24T12:42:14.201Z"
      },
      {
        "duration": 162,
        "start_time": "2021-11-24T12:42:15.021Z"
      },
      {
        "duration": 406,
        "start_time": "2021-11-24T12:42:15.187Z"
      },
      {
        "duration": 638,
        "start_time": "2021-11-24T12:42:14.957Z"
      },
      {
        "duration": 381,
        "start_time": "2021-11-24T12:43:17.028Z"
      },
      {
        "duration": 1079,
        "start_time": "2021-11-24T12:43:17.413Z"
      },
      {
        "duration": 406,
        "start_time": "2021-11-24T12:59:00.237Z"
      },
      {
        "duration": 323,
        "start_time": "2021-11-24T12:59:21.148Z"
      },
      {
        "duration": 6,
        "start_time": "2021-11-24T13:00:11.899Z"
      },
      {
        "duration": 1153,
        "start_time": "2021-11-24T13:00:19.532Z"
      },
      {
        "duration": 1279,
        "start_time": "2021-11-24T13:01:52.105Z"
      },
      {
        "duration": 1093,
        "start_time": "2021-11-24T13:04:39.700Z"
      },
      {
        "duration": 8,
        "start_time": "2021-11-24T13:07:20.788Z"
      },
      {
        "duration": 1069,
        "start_time": "2021-11-24T13:07:27.516Z"
      },
      {
        "duration": 1011,
        "start_time": "2021-11-24T13:08:39.772Z"
      },
      {
        "duration": 1196,
        "start_time": "2021-11-24T13:09:16.488Z"
      },
      {
        "duration": 7,
        "start_time": "2021-11-24T13:16:05.765Z"
      },
      {
        "duration": 1196,
        "start_time": "2021-11-24T13:18:36.676Z"
      },
      {
        "duration": 1093,
        "start_time": "2021-11-24T13:18:57.261Z"
      },
      {
        "duration": 1169,
        "start_time": "2021-11-24T13:19:40.749Z"
      },
      {
        "duration": 1015,
        "start_time": "2021-11-24T13:20:42.517Z"
      },
      {
        "duration": 1220,
        "start_time": "2021-11-24T13:20:59.701Z"
      },
      {
        "duration": 1505,
        "start_time": "2021-11-24T13:23:04.198Z"
      },
      {
        "duration": 1167,
        "start_time": "2021-11-24T13:23:39.717Z"
      },
      {
        "duration": 1188,
        "start_time": "2021-11-24T13:23:54.813Z"
      },
      {
        "duration": 1063,
        "start_time": "2021-11-24T13:24:06.582Z"
      },
      {
        "duration": 966,
        "start_time": "2021-11-24T13:51:12.647Z"
      },
      {
        "duration": 975,
        "start_time": "2021-11-24T13:51:48.535Z"
      },
      {
        "duration": 1398,
        "start_time": "2021-11-24T13:52:00.528Z"
      },
      {
        "duration": 1266,
        "start_time": "2021-11-24T13:53:35.928Z"
      },
      {
        "duration": 1133,
        "start_time": "2021-11-24T13:54:10.167Z"
      },
      {
        "duration": 6,
        "start_time": "2021-11-24T13:54:39.359Z"
      },
      {
        "duration": 1099,
        "start_time": "2021-11-24T13:54:45.089Z"
      },
      {
        "duration": 1359,
        "start_time": "2021-11-24T13:55:00.535Z"
      },
      {
        "duration": 537,
        "start_time": "2021-11-24T13:56:54.673Z"
      },
      {
        "duration": 9,
        "start_time": "2021-11-24T13:57:55.591Z"
      },
      {
        "duration": 713,
        "start_time": "2021-11-24T13:58:01.024Z"
      },
      {
        "duration": 590,
        "start_time": "2021-11-24T13:59:29.625Z"
      },
      {
        "duration": 600,
        "start_time": "2021-11-24T13:59:45.136Z"
      },
      {
        "duration": 633,
        "start_time": "2021-11-24T13:59:56.911Z"
      },
      {
        "duration": 525,
        "start_time": "2021-11-24T14:00:40.079Z"
      },
      {
        "duration": 495,
        "start_time": "2021-11-24T14:00:50.735Z"
      },
      {
        "duration": 516,
        "start_time": "2021-11-24T14:01:17.727Z"
      },
      {
        "duration": 543,
        "start_time": "2021-11-24T14:02:00.791Z"
      },
      {
        "duration": 1062,
        "start_time": "2021-11-24T14:07:39.629Z"
      },
      {
        "duration": 562,
        "start_time": "2021-11-24T14:18:53.346Z"
      },
      {
        "duration": 1123,
        "start_time": "2021-11-24T14:19:01.122Z"
      },
      {
        "duration": 974,
        "start_time": "2021-11-24T14:21:37.299Z"
      },
      {
        "duration": 540,
        "start_time": "2021-11-24T14:21:57.594Z"
      },
      {
        "duration": 986,
        "start_time": "2021-11-24T14:22:08.370Z"
      },
      {
        "duration": 1530,
        "start_time": "2021-11-24T14:25:00.211Z"
      },
      {
        "duration": 76,
        "start_time": "2021-11-24T14:25:01.744Z"
      },
      {
        "duration": 7,
        "start_time": "2021-11-24T14:25:01.824Z"
      },
      {
        "duration": 32,
        "start_time": "2021-11-24T14:25:01.834Z"
      },
      {
        "duration": 3173,
        "start_time": "2021-11-24T14:25:01.869Z"
      },
      {
        "duration": 12,
        "start_time": "2021-11-24T14:25:05.045Z"
      },
      {
        "duration": 42,
        "start_time": "2021-11-24T14:25:05.060Z"
      },
      {
        "duration": 42,
        "start_time": "2021-11-24T14:25:05.105Z"
      },
      {
        "duration": 2293,
        "start_time": "2021-11-24T14:25:05.149Z"
      },
      {
        "duration": 1180,
        "start_time": "2021-11-24T14:25:07.445Z"
      },
      {
        "duration": 157,
        "start_time": "2021-11-24T14:25:08.628Z"
      },
      {
        "duration": 494,
        "start_time": "2021-11-24T14:25:08.789Z"
      },
      {
        "duration": 1198,
        "start_time": "2021-11-24T14:25:09.285Z"
      },
      {
        "duration": 446,
        "start_time": "2021-11-24T14:25:10.486Z"
      },
      {
        "duration": 696,
        "start_time": "2021-11-24T14:25:10.239Z"
      },
      {
        "duration": 960,
        "start_time": "2021-11-24T14:25:49.031Z"
      },
      {
        "duration": 996,
        "start_time": "2021-11-24T14:25:56.615Z"
      },
      {
        "duration": 595,
        "start_time": "2021-11-24T14:25:57.613Z"
      },
      {
        "duration": 585,
        "start_time": "2021-11-24T14:33:44.502Z"
      },
      {
        "duration": 507,
        "start_time": "2021-11-24T14:34:03.118Z"
      },
      {
        "duration": 30154,
        "start_time": "2021-11-24T14:59:22.112Z"
      },
      {
        "duration": 38145,
        "start_time": "2021-11-24T15:04:01.288Z"
      },
      {
        "duration": 18664,
        "start_time": "2021-11-24T15:05:53.417Z"
      },
      {
        "duration": 28538,
        "start_time": "2021-11-24T15:06:17.439Z"
      },
      {
        "duration": 19061,
        "start_time": "2021-11-24T15:09:25.640Z"
      },
      {
        "duration": 559,
        "start_time": "2021-11-24T15:12:47.898Z"
      },
      {
        "duration": 442,
        "start_time": "2021-11-24T15:13:17.962Z"
      },
      {
        "duration": 449,
        "start_time": "2021-11-24T15:13:28.106Z"
      },
      {
        "duration": 438,
        "start_time": "2021-11-24T15:14:16.930Z"
      },
      {
        "duration": 1960,
        "start_time": "2021-11-24T15:24:41.505Z"
      },
      {
        "duration": 2102,
        "start_time": "2021-11-24T15:25:38.774Z"
      },
      {
        "duration": 1743,
        "start_time": "2021-11-24T15:25:54.826Z"
      },
      {
        "duration": 436,
        "start_time": "2021-11-24T15:27:25.035Z"
      },
      {
        "duration": 190,
        "start_time": "2021-11-24T15:27:33.618Z"
      },
      {
        "duration": 2175,
        "start_time": "2021-11-24T15:29:25.187Z"
      },
      {
        "duration": 10,
        "start_time": "2021-11-24T15:33:20.475Z"
      },
      {
        "duration": 10,
        "start_time": "2021-11-24T15:33:40.322Z"
      },
      {
        "duration": 8,
        "start_time": "2021-11-24T15:33:55.284Z"
      },
      {
        "duration": 1803,
        "start_time": "2021-11-24T15:48:41.519Z"
      },
      {
        "duration": 76,
        "start_time": "2021-11-24T15:48:43.324Z"
      },
      {
        "duration": 239,
        "start_time": "2021-11-24T15:48:43.404Z"
      },
      {
        "duration": 21,
        "start_time": "2021-11-24T15:48:43.647Z"
      },
      {
        "duration": 3280,
        "start_time": "2021-11-24T15:48:43.672Z"
      },
      {
        "duration": 13,
        "start_time": "2021-11-24T15:48:46.954Z"
      },
      {
        "duration": 25,
        "start_time": "2021-11-24T15:48:46.982Z"
      },
      {
        "duration": 44,
        "start_time": "2021-11-24T15:48:47.012Z"
      },
      {
        "duration": 1910,
        "start_time": "2021-11-24T15:48:47.085Z"
      },
      {
        "duration": 820,
        "start_time": "2021-11-24T15:48:48.998Z"
      },
      {
        "duration": 173,
        "start_time": "2021-11-24T15:48:49.821Z"
      },
      {
        "duration": 413,
        "start_time": "2021-11-24T15:48:50.084Z"
      },
      {
        "duration": 1502,
        "start_time": "2021-11-24T15:48:50.583Z"
      },
      {
        "duration": 1307,
        "start_time": "2021-11-24T15:48:52.088Z"
      },
      {
        "duration": 592,
        "start_time": "2021-11-24T15:48:53.398Z"
      },
      {
        "duration": 1042,
        "start_time": "2021-11-24T15:48:53.993Z"
      },
      {
        "duration": 700,
        "start_time": "2021-11-24T15:48:55.037Z"
      },
      {
        "duration": 36199,
        "start_time": "2021-11-24T15:48:55.740Z"
      },
      {
        "duration": 28153,
        "start_time": "2021-11-24T15:49:31.942Z"
      },
      {
        "duration": 1787,
        "start_time": "2021-11-24T15:50:00.097Z"
      },
      {
        "duration": 212,
        "start_time": "2021-11-24T15:50:01.887Z"
      },
      {
        "duration": 2215,
        "start_time": "2021-11-24T15:50:02.102Z"
      },
      {
        "duration": 9,
        "start_time": "2021-11-24T15:50:04.321Z"
      },
      {
        "duration": 42,
        "start_time": "2021-11-24T15:53:35.107Z"
      },
      {
        "duration": 1442,
        "start_time": "2021-11-24T15:53:35.152Z"
      },
      {
        "duration": 868,
        "start_time": "2021-11-24T15:53:36.597Z"
      },
      {
        "duration": 120,
        "start_time": "2021-11-24T15:53:37.468Z"
      },
      {
        "duration": 597,
        "start_time": "2021-11-24T15:53:37.592Z"
      },
      {
        "duration": 1291,
        "start_time": "2021-11-24T15:53:38.193Z"
      },
      {
        "duration": 1199,
        "start_time": "2021-11-24T15:53:39.487Z"
      },
      {
        "duration": 368,
        "start_time": "2021-11-24T15:53:40.690Z"
      },
      {
        "duration": 993,
        "start_time": "2021-11-24T15:53:41.061Z"
      },
      {
        "duration": 560,
        "start_time": "2021-11-24T15:53:42.057Z"
      },
      {
        "duration": 35725,
        "start_time": "2021-11-24T15:53:42.620Z"
      },
      {
        "duration": 29976,
        "start_time": "2021-11-24T15:54:18.347Z"
      },
      {
        "duration": 1772,
        "start_time": "2021-11-24T15:54:48.325Z"
      },
      {
        "duration": 198,
        "start_time": "2021-11-24T15:54:50.100Z"
      },
      {
        "duration": 2237,
        "start_time": "2021-11-24T15:54:50.300Z"
      },
      {
        "duration": 10,
        "start_time": "2021-11-24T15:54:52.540Z"
      },
      {
        "duration": 2002,
        "start_time": "2021-11-24T15:56:16.344Z"
      },
      {
        "duration": 105,
        "start_time": "2021-11-24T15:56:18.350Z"
      },
      {
        "duration": 19,
        "start_time": "2021-11-24T15:56:18.464Z"
      },
      {
        "duration": 16,
        "start_time": "2021-11-24T15:56:18.486Z"
      },
      {
        "duration": 4572,
        "start_time": "2021-11-24T15:56:18.505Z"
      },
      {
        "duration": 17,
        "start_time": "2021-11-24T15:56:23.083Z"
      },
      {
        "duration": 22,
        "start_time": "2021-11-24T15:56:23.105Z"
      },
      {
        "duration": 79,
        "start_time": "2021-11-24T15:56:23.129Z"
      },
      {
        "duration": 2234,
        "start_time": "2021-11-24T15:56:23.211Z"
      },
      {
        "duration": 739,
        "start_time": "2021-11-24T15:56:25.447Z"
      },
      {
        "duration": 99,
        "start_time": "2021-11-24T15:56:26.189Z"
      },
      {
        "duration": 493,
        "start_time": "2021-11-24T15:56:26.291Z"
      },
      {
        "duration": 1095,
        "start_time": "2021-11-24T15:56:26.789Z"
      },
      {
        "duration": 902,
        "start_time": "2021-11-24T15:56:27.887Z"
      },
      {
        "duration": 436,
        "start_time": "2021-11-24T15:56:28.793Z"
      },
      {
        "duration": 924,
        "start_time": "2021-11-24T15:56:29.231Z"
      },
      {
        "duration": 551,
        "start_time": "2021-11-24T15:56:30.158Z"
      },
      {
        "duration": 33305,
        "start_time": "2021-11-24T15:56:30.711Z"
      },
      {
        "duration": 9472,
        "start_time": "2021-11-24T15:57:04.019Z"
      },
      {
        "duration": 650,
        "start_time": "2021-11-24T15:57:12.844Z"
      },
      {
        "duration": 645,
        "start_time": "2021-11-24T15:57:12.850Z"
      },
      {
        "duration": 641,
        "start_time": "2021-11-24T15:57:12.855Z"
      },
      {
        "duration": 638,
        "start_time": "2021-11-24T15:57:12.860Z"
      },
      {
        "duration": 11534,
        "start_time": "2021-11-24T15:57:23.935Z"
      },
      {
        "duration": 1568,
        "start_time": "2021-11-24T15:58:23.662Z"
      },
      {
        "duration": 74,
        "start_time": "2021-11-24T15:58:25.233Z"
      },
      {
        "duration": 7,
        "start_time": "2021-11-24T15:58:25.310Z"
      },
      {
        "duration": 21,
        "start_time": "2021-11-24T15:58:25.320Z"
      },
      {
        "duration": 3283,
        "start_time": "2021-11-24T15:58:25.343Z"
      },
      {
        "duration": 13,
        "start_time": "2021-11-24T15:58:28.628Z"
      },
      {
        "duration": 54,
        "start_time": "2021-11-24T15:58:28.643Z"
      },
      {
        "duration": 466,
        "start_time": "2021-11-24T15:58:28.701Z"
      },
      {
        "duration": 695,
        "start_time": "2021-11-24T15:58:28.475Z"
      },
      {
        "duration": 688,
        "start_time": "2021-11-24T15:58:28.483Z"
      },
      {
        "duration": 683,
        "start_time": "2021-11-24T15:58:28.489Z"
      },
      {
        "duration": 678,
        "start_time": "2021-11-24T15:58:28.496Z"
      },
      {
        "duration": 673,
        "start_time": "2021-11-24T15:58:28.502Z"
      },
      {
        "duration": 670,
        "start_time": "2021-11-24T15:58:28.507Z"
      },
      {
        "duration": 665,
        "start_time": "2021-11-24T15:58:28.514Z"
      },
      {
        "duration": 654,
        "start_time": "2021-11-24T15:58:28.527Z"
      },
      {
        "duration": 651,
        "start_time": "2021-11-24T15:58:28.531Z"
      },
      {
        "duration": 627,
        "start_time": "2021-11-24T15:58:28.556Z"
      },
      {
        "duration": 623,
        "start_time": "2021-11-24T15:58:28.562Z"
      },
      {
        "duration": 621,
        "start_time": "2021-11-24T15:58:28.565Z"
      },
      {
        "duration": 618,
        "start_time": "2021-11-24T15:58:28.569Z"
      },
      {
        "duration": 617,
        "start_time": "2021-11-24T15:58:28.572Z"
      },
      {
        "duration": 614,
        "start_time": "2021-11-24T15:58:28.576Z"
      },
      {
        "duration": 1679,
        "start_time": "2021-11-24T16:00:05.737Z"
      },
      {
        "duration": 72,
        "start_time": "2021-11-24T16:00:07.418Z"
      },
      {
        "duration": 6,
        "start_time": "2021-11-24T16:00:07.493Z"
      },
      {
        "duration": 17,
        "start_time": "2021-11-24T16:00:07.502Z"
      },
      {
        "duration": 3028,
        "start_time": "2021-11-24T16:00:07.522Z"
      },
      {
        "duration": 10862,
        "start_time": "2021-11-24T16:00:10.553Z"
      },
      {
        "duration": 727,
        "start_time": "2021-11-24T16:00:20.692Z"
      },
      {
        "duration": 682,
        "start_time": "2021-11-24T16:00:20.738Z"
      },
      {
        "duration": 674,
        "start_time": "2021-11-24T16:00:20.747Z"
      },
      {
        "duration": 670,
        "start_time": "2021-11-24T16:00:20.753Z"
      },
      {
        "duration": 665,
        "start_time": "2021-11-24T16:00:20.760Z"
      },
      {
        "duration": 659,
        "start_time": "2021-11-24T16:00:20.767Z"
      },
      {
        "duration": 654,
        "start_time": "2021-11-24T16:00:20.773Z"
      },
      {
        "duration": 641,
        "start_time": "2021-11-24T16:00:20.787Z"
      },
      {
        "duration": 618,
        "start_time": "2021-11-24T16:00:20.812Z"
      },
      {
        "duration": 614,
        "start_time": "2021-11-24T16:00:20.817Z"
      },
      {
        "duration": 612,
        "start_time": "2021-11-24T16:00:20.821Z"
      },
      {
        "duration": 611,
        "start_time": "2021-11-24T16:00:20.824Z"
      },
      {
        "duration": 608,
        "start_time": "2021-11-24T16:00:20.828Z"
      },
      {
        "duration": 607,
        "start_time": "2021-11-24T16:00:20.831Z"
      },
      {
        "duration": 605,
        "start_time": "2021-11-24T16:00:20.834Z"
      },
      {
        "duration": 603,
        "start_time": "2021-11-24T16:00:20.837Z"
      },
      {
        "duration": 601,
        "start_time": "2021-11-24T16:00:20.841Z"
      },
      {
        "duration": 22,
        "start_time": "2021-11-24T16:00:39.634Z"
      },
      {
        "duration": 38,
        "start_time": "2021-11-24T16:00:39.659Z"
      },
      {
        "duration": 1462,
        "start_time": "2021-11-24T16:00:39.700Z"
      },
      {
        "duration": 956,
        "start_time": "2021-11-24T16:00:41.165Z"
      },
      {
        "duration": 171,
        "start_time": "2021-11-24T16:00:42.123Z"
      },
      {
        "duration": 404,
        "start_time": "2021-11-24T16:00:42.384Z"
      },
      {
        "duration": 1202,
        "start_time": "2021-11-24T16:00:42.791Z"
      },
      {
        "duration": 1000,
        "start_time": "2021-11-24T16:00:44.084Z"
      },
      {
        "duration": 354,
        "start_time": "2021-11-24T16:00:45.087Z"
      },
      {
        "duration": 1095,
        "start_time": "2021-11-24T16:00:45.443Z"
      },
      {
        "duration": 700,
        "start_time": "2021-11-24T16:00:46.541Z"
      },
      {
        "duration": 31548,
        "start_time": "2021-11-24T16:00:47.244Z"
      },
      {
        "duration": 13289,
        "start_time": "2021-11-24T16:01:18.795Z"
      },
      {
        "duration": 1905,
        "start_time": "2021-11-24T16:01:32.086Z"
      },
      {
        "duration": 201,
        "start_time": "2021-11-24T16:01:33.994Z"
      },
      {
        "duration": 2478,
        "start_time": "2021-11-24T16:01:34.198Z"
      },
      {
        "duration": 10,
        "start_time": "2021-11-24T16:01:36.682Z"
      },
      {
        "duration": 20116,
        "start_time": "2021-11-24T16:01:48.282Z"
      },
      {
        "duration": 1452,
        "start_time": "2021-11-24T16:02:48.560Z"
      },
      {
        "duration": 75,
        "start_time": "2021-11-24T16:02:50.015Z"
      },
      {
        "duration": 7,
        "start_time": "2021-11-24T16:02:50.092Z"
      },
      {
        "duration": 15,
        "start_time": "2021-11-24T16:02:50.101Z"
      },
      {
        "duration": 4602,
        "start_time": "2021-11-24T16:02:50.119Z"
      },
      {
        "duration": 7941,
        "start_time": "2021-11-24T16:02:54.724Z"
      },
      {
        "duration": 736,
        "start_time": "2021-11-24T16:03:01.932Z"
      },
      {
        "duration": 729,
        "start_time": "2021-11-24T16:03:01.941Z"
      },
      {
        "duration": 727,
        "start_time": "2021-11-24T16:03:01.945Z"
      },
      {
        "duration": 726,
        "start_time": "2021-11-24T16:03:01.948Z"
      },
      {
        "duration": 722,
        "start_time": "2021-11-24T16:03:01.953Z"
      },
      {
        "duration": 712,
        "start_time": "2021-11-24T16:03:01.964Z"
      },
      {
        "duration": 710,
        "start_time": "2021-11-24T16:03:01.968Z"
      },
      {
        "duration": 707,
        "start_time": "2021-11-24T16:03:01.972Z"
      },
      {
        "duration": 698,
        "start_time": "2021-11-24T16:03:01.982Z"
      },
      {
        "duration": 695,
        "start_time": "2021-11-24T16:03:01.986Z"
      },
      {
        "duration": 689,
        "start_time": "2021-11-24T16:03:01.994Z"
      },
      {
        "duration": 687,
        "start_time": "2021-11-24T16:03:01.997Z"
      },
      {
        "duration": 683,
        "start_time": "2021-11-24T16:03:02.002Z"
      },
      {
        "duration": 676,
        "start_time": "2021-11-24T16:03:02.011Z"
      },
      {
        "duration": 674,
        "start_time": "2021-11-24T16:03:02.015Z"
      },
      {
        "duration": 671,
        "start_time": "2021-11-24T16:03:02.019Z"
      },
      {
        "duration": 662,
        "start_time": "2021-11-24T16:03:02.029Z"
      },
      {
        "duration": 21,
        "start_time": "2021-11-24T16:03:14.830Z"
      },
      {
        "duration": 38,
        "start_time": "2021-11-24T16:03:14.854Z"
      },
      {
        "duration": 1485,
        "start_time": "2021-11-24T16:03:14.894Z"
      },
      {
        "duration": 869,
        "start_time": "2021-11-24T16:03:16.382Z"
      },
      {
        "duration": 230,
        "start_time": "2021-11-24T16:03:17.253Z"
      },
      {
        "duration": 495,
        "start_time": "2021-11-24T16:03:17.489Z"
      },
      {
        "duration": 1196,
        "start_time": "2021-11-24T16:03:17.986Z"
      },
      {
        "duration": 1009,
        "start_time": "2021-11-24T16:03:19.186Z"
      },
      {
        "duration": 354,
        "start_time": "2021-11-24T16:03:20.283Z"
      },
      {
        "duration": 1027,
        "start_time": "2021-11-24T16:03:20.640Z"
      },
      {
        "duration": 544,
        "start_time": "2021-11-24T16:03:21.669Z"
      },
      {
        "duration": 31152,
        "start_time": "2021-11-24T16:03:22.215Z"
      },
      {
        "duration": 31229,
        "start_time": "2021-11-24T16:03:53.369Z"
      },
      {
        "duration": 2729,
        "start_time": "2021-11-24T16:04:24.601Z"
      },
      {
        "duration": 278,
        "start_time": "2021-11-24T16:04:27.333Z"
      },
      {
        "duration": 3355,
        "start_time": "2021-11-24T16:04:27.614Z"
      },
      {
        "duration": 18,
        "start_time": "2021-11-24T16:04:30.972Z"
      },
      {
        "duration": 1533,
        "start_time": "2021-11-24T16:05:02.373Z"
      },
      {
        "duration": 82,
        "start_time": "2021-11-24T16:05:03.909Z"
      },
      {
        "duration": 8,
        "start_time": "2021-11-24T16:05:03.995Z"
      },
      {
        "duration": 20,
        "start_time": "2021-11-24T16:05:04.007Z"
      },
      {
        "duration": 4660,
        "start_time": "2021-11-24T16:05:04.030Z"
      },
      {
        "duration": 18,
        "start_time": "2021-11-24T16:05:08.694Z"
      },
      {
        "duration": 21,
        "start_time": "2021-11-24T16:05:08.714Z"
      },
      {
        "duration": 70,
        "start_time": "2021-11-24T16:05:08.739Z"
      },
      {
        "duration": 1444,
        "start_time": "2021-11-24T16:05:08.812Z"
      },
      {
        "duration": 857,
        "start_time": "2021-11-24T16:05:10.259Z"
      },
      {
        "duration": 78,
        "start_time": "2021-11-24T16:05:11.119Z"
      },
      {
        "duration": 395,
        "start_time": "2021-11-24T16:05:11.296Z"
      },
      {
        "duration": 1698,
        "start_time": "2021-11-24T16:05:11.695Z"
      },
      {
        "duration": 1297,
        "start_time": "2021-11-24T16:05:13.396Z"
      },
      {
        "duration": 458,
        "start_time": "2021-11-24T16:05:14.696Z"
      },
      {
        "duration": 943,
        "start_time": "2021-11-24T16:05:15.157Z"
      },
      {
        "duration": 535,
        "start_time": "2021-11-24T16:05:16.102Z"
      },
      {
        "duration": 27210,
        "start_time": "2021-11-24T16:05:16.640Z"
      },
      {
        "duration": 27537,
        "start_time": "2021-11-24T16:05:43.853Z"
      },
      {
        "duration": 1645,
        "start_time": "2021-11-24T16:06:11.393Z"
      },
      {
        "duration": 201,
        "start_time": "2021-11-24T16:06:13.041Z"
      },
      {
        "duration": 2108,
        "start_time": "2021-11-24T16:06:13.244Z"
      },
      {
        "duration": 9,
        "start_time": "2021-11-24T16:06:15.356Z"
      },
      {
        "duration": 1556,
        "start_time": "2021-11-24T16:07:00.862Z"
      },
      {
        "duration": 83,
        "start_time": "2021-11-24T16:07:02.421Z"
      },
      {
        "duration": 7,
        "start_time": "2021-11-24T16:07:02.508Z"
      },
      {
        "duration": 30,
        "start_time": "2021-11-24T16:07:02.519Z"
      },
      {
        "duration": 3011,
        "start_time": "2021-11-24T16:07:02.552Z"
      },
      {
        "duration": 23,
        "start_time": "2021-11-24T16:07:05.566Z"
      },
      {
        "duration": 28,
        "start_time": "2021-11-24T16:07:05.591Z"
      },
      {
        "duration": 70,
        "start_time": "2021-11-24T16:07:05.622Z"
      },
      {
        "duration": 1482,
        "start_time": "2021-11-24T16:07:05.694Z"
      },
      {
        "duration": 853,
        "start_time": "2021-11-24T16:07:07.178Z"
      },
      {
        "duration": 149,
        "start_time": "2021-11-24T16:07:08.034Z"
      },
      {
        "duration": 400,
        "start_time": "2021-11-24T16:07:08.187Z"
      },
      {
        "duration": 1398,
        "start_time": "2021-11-24T16:07:08.590Z"
      },
      {
        "duration": 1391,
        "start_time": "2021-11-24T16:07:09.991Z"
      },
      {
        "duration": 486,
        "start_time": "2021-11-24T16:07:11.385Z"
      },
      {
        "duration": 1013,
        "start_time": "2021-11-24T16:07:11.874Z"
      },
      {
        "duration": 522,
        "start_time": "2021-11-24T16:07:12.890Z"
      },
      {
        "duration": 29861,
        "start_time": "2021-11-24T16:07:13.415Z"
      },
      {
        "duration": 673,
        "start_time": "2021-11-24T16:07:42.606Z"
      },
      {
        "duration": 669,
        "start_time": "2021-11-24T16:07:42.612Z"
      },
      {
        "duration": 667,
        "start_time": "2021-11-24T16:07:42.616Z"
      },
      {
        "duration": 665,
        "start_time": "2021-11-24T16:07:42.620Z"
      },
      {
        "duration": 654,
        "start_time": "2021-11-24T16:07:42.632Z"
      },
      {
        "duration": 1463,
        "start_time": "2021-11-24T16:08:05.396Z"
      },
      {
        "duration": 101,
        "start_time": "2021-11-24T16:08:06.862Z"
      },
      {
        "duration": 17,
        "start_time": "2021-11-24T16:08:06.967Z"
      },
      {
        "duration": 21,
        "start_time": "2021-11-24T16:08:06.987Z"
      },
      {
        "duration": 3042,
        "start_time": "2021-11-24T16:08:07.011Z"
      },
      {
        "duration": 12,
        "start_time": "2021-11-24T16:08:10.056Z"
      },
      {
        "duration": 23,
        "start_time": "2021-11-24T16:08:10.083Z"
      },
      {
        "duration": 41,
        "start_time": "2021-11-24T16:08:10.110Z"
      },
      {
        "duration": 1543,
        "start_time": "2021-11-24T16:08:10.183Z"
      },
      {
        "duration": 822,
        "start_time": "2021-11-24T16:08:11.729Z"
      },
      {
        "duration": 134,
        "start_time": "2021-11-24T16:08:12.554Z"
      },
      {
        "duration": 493,
        "start_time": "2021-11-24T16:08:12.692Z"
      },
      {
        "duration": 1099,
        "start_time": "2021-11-24T16:08:13.187Z"
      },
      {
        "duration": 1095,
        "start_time": "2021-11-24T16:08:14.289Z"
      },
      {
        "duration": 364,
        "start_time": "2021-11-24T16:08:15.386Z"
      },
      {
        "duration": 977,
        "start_time": "2021-11-24T16:08:15.753Z"
      },
      {
        "duration": 681,
        "start_time": "2021-11-24T16:08:16.733Z"
      },
      {
        "duration": 33335,
        "start_time": "2021-11-24T16:08:17.416Z"
      },
      {
        "duration": 36277,
        "start_time": "2021-11-24T16:08:50.753Z"
      },
      {
        "duration": 1950,
        "start_time": "2021-11-24T16:09:27.032Z"
      },
      {
        "duration": 203,
        "start_time": "2021-11-24T16:09:28.984Z"
      },
      {
        "duration": 2218,
        "start_time": "2021-11-24T16:09:29.189Z"
      },
      {
        "duration": 9,
        "start_time": "2021-11-24T16:09:31.412Z"
      },
      {
        "duration": 1004,
        "start_time": "2021-11-24T16:41:31.801Z"
      },
      {
        "duration": 349,
        "start_time": "2021-11-24T16:44:01.017Z"
      },
      {
        "duration": 370,
        "start_time": "2021-11-24T16:44:46.537Z"
      },
      {
        "duration": 675,
        "start_time": "2021-11-24T16:45:13.528Z"
      },
      {
        "duration": 636,
        "start_time": "2021-11-24T16:45:27.920Z"
      },
      {
        "duration": 454,
        "start_time": "2021-11-24T16:47:37.969Z"
      },
      {
        "duration": 475,
        "start_time": "2021-11-24T16:47:55.472Z"
      },
      {
        "duration": 500,
        "start_time": "2021-11-24T16:50:09.253Z"
      },
      {
        "duration": 382,
        "start_time": "2021-11-24T16:50:52.185Z"
      },
      {
        "duration": 160,
        "start_time": "2021-11-24T17:06:38.723Z"
      },
      {
        "duration": 463,
        "start_time": "2021-11-24T17:07:28.211Z"
      },
      {
        "duration": 435,
        "start_time": "2021-11-24T17:08:10.978Z"
      },
      {
        "duration": 452,
        "start_time": "2021-11-24T17:08:29.738Z"
      },
      {
        "duration": 465,
        "start_time": "2021-11-24T17:09:02.459Z"
      },
      {
        "duration": 379,
        "start_time": "2021-11-24T17:09:54.722Z"
      },
      {
        "duration": 70,
        "start_time": "2021-11-24T17:10:22.514Z"
      },
      {
        "duration": 506,
        "start_time": "2021-11-24T17:10:36.458Z"
      },
      {
        "duration": 5,
        "start_time": "2021-11-24T17:11:16.322Z"
      },
      {
        "duration": 73,
        "start_time": "2021-11-24T17:11:31.418Z"
      },
      {
        "duration": 449,
        "start_time": "2021-11-24T17:18:11.850Z"
      },
      {
        "duration": 362,
        "start_time": "2021-11-24T17:21:40.219Z"
      },
      {
        "duration": 5,
        "start_time": "2021-11-24T17:21:57.914Z"
      },
      {
        "duration": 5,
        "start_time": "2021-11-24T17:22:05.562Z"
      },
      {
        "duration": 62,
        "start_time": "2021-11-24T17:22:14.235Z"
      },
      {
        "duration": 517,
        "start_time": "2021-11-24T17:22:27.554Z"
      },
      {
        "duration": 366,
        "start_time": "2021-11-24T17:22:46.529Z"
      },
      {
        "duration": 325,
        "start_time": "2021-11-24T17:22:55.162Z"
      },
      {
        "duration": 421,
        "start_time": "2021-11-24T17:23:02.506Z"
      },
      {
        "duration": 379,
        "start_time": "2021-11-24T17:23:08.506Z"
      },
      {
        "duration": 605,
        "start_time": "2021-11-24T17:23:17.354Z"
      },
      {
        "duration": 6,
        "start_time": "2021-11-24T17:23:39.314Z"
      },
      {
        "duration": 48,
        "start_time": "2021-11-24T17:23:50.747Z"
      },
      {
        "duration": 17,
        "start_time": "2021-11-24T17:24:09.563Z"
      },
      {
        "duration": 11,
        "start_time": "2021-11-24T17:24:15.442Z"
      },
      {
        "duration": 20,
        "start_time": "2021-11-24T17:24:21.203Z"
      },
      {
        "duration": 71,
        "start_time": "2021-11-24T17:24:36.611Z"
      },
      {
        "duration": 506,
        "start_time": "2021-11-24T17:26:14.899Z"
      },
      {
        "duration": 642,
        "start_time": "2021-11-24T17:27:13.411Z"
      },
      {
        "duration": 401,
        "start_time": "2021-11-24T17:27:37.500Z"
      },
      {
        "duration": 370,
        "start_time": "2021-11-24T17:28:07.011Z"
      },
      {
        "duration": 405,
        "start_time": "2021-11-24T17:28:27.499Z"
      },
      {
        "duration": 558,
        "start_time": "2021-11-24T17:28:45.923Z"
      },
      {
        "duration": 7,
        "start_time": "2021-11-24T17:28:51.747Z"
      },
      {
        "duration": 194,
        "start_time": "2021-11-24T17:29:14.523Z"
      },
      {
        "duration": 200,
        "start_time": "2021-11-24T17:30:03.996Z"
      },
      {
        "duration": 266,
        "start_time": "2021-11-24T17:30:56.731Z"
      },
      {
        "duration": 211,
        "start_time": "2021-11-24T17:31:10.284Z"
      },
      {
        "duration": 687,
        "start_time": "2021-11-24T17:32:49.820Z"
      },
      {
        "duration": 69,
        "start_time": "2021-11-24T17:33:03.476Z"
      },
      {
        "duration": 1557,
        "start_time": "2021-11-24T17:39:41.805Z"
      },
      {
        "duration": 994,
        "start_time": "2021-11-24T17:39:56.717Z"
      },
      {
        "duration": 131,
        "start_time": "2021-11-24T17:40:09.397Z"
      },
      {
        "duration": 2939,
        "start_time": "2021-11-24T17:41:10.893Z"
      },
      {
        "duration": 1197,
        "start_time": "2021-11-24T17:43:18.909Z"
      },
      {
        "duration": 123,
        "start_time": "2021-11-24T17:44:01.197Z"
      },
      {
        "duration": 1043,
        "start_time": "2021-11-24T17:44:13.349Z"
      },
      {
        "duration": 2872,
        "start_time": "2021-11-24T17:46:21.814Z"
      },
      {
        "duration": 3615,
        "start_time": "2021-11-24T17:46:34.806Z"
      },
      {
        "duration": 1092,
        "start_time": "2021-11-24T17:46:47.493Z"
      },
      {
        "duration": 1492,
        "start_time": "2021-11-24T17:47:22.797Z"
      },
      {
        "duration": 2491,
        "start_time": "2021-11-24T17:48:42.437Z"
      },
      {
        "duration": 200,
        "start_time": "2021-11-24T17:49:01.470Z"
      },
      {
        "duration": 1110,
        "start_time": "2021-11-24T17:50:43.373Z"
      },
      {
        "duration": 115,
        "start_time": "2021-11-24T17:53:31.078Z"
      },
      {
        "duration": 2962,
        "start_time": "2021-11-24T17:54:14.382Z"
      },
      {
        "duration": 93,
        "start_time": "2021-11-24T17:55:43.639Z"
      },
      {
        "duration": 111,
        "start_time": "2021-11-24T17:56:55.678Z"
      },
      {
        "duration": 1003,
        "start_time": "2021-11-24T17:57:35.335Z"
      },
      {
        "duration": 1614,
        "start_time": "2021-11-24T17:57:38.855Z"
      },
      {
        "duration": 134,
        "start_time": "2021-11-24T17:57:47.126Z"
      },
      {
        "duration": 1649,
        "start_time": "2021-11-24T18:01:02.839Z"
      },
      {
        "duration": 1611,
        "start_time": "2021-11-24T18:01:15.662Z"
      },
      {
        "duration": 2008,
        "start_time": "2021-11-24T18:03:17.270Z"
      },
      {
        "duration": 111,
        "start_time": "2021-11-24T18:03:19.281Z"
      },
      {
        "duration": 8,
        "start_time": "2021-11-24T18:03:19.396Z"
      },
      {
        "duration": 19,
        "start_time": "2021-11-24T18:03:19.407Z"
      },
      {
        "duration": 2950,
        "start_time": "2021-11-24T18:03:19.428Z"
      },
      {
        "duration": 14,
        "start_time": "2021-11-24T18:03:22.382Z"
      },
      {
        "duration": 24,
        "start_time": "2021-11-24T18:03:22.399Z"
      },
      {
        "duration": 96,
        "start_time": "2021-11-24T18:03:22.428Z"
      },
      {
        "duration": 2289,
        "start_time": "2021-11-24T18:03:22.529Z"
      },
      {
        "duration": 1167,
        "start_time": "2021-11-24T18:03:24.822Z"
      },
      {
        "duration": 297,
        "start_time": "2021-11-24T18:03:25.992Z"
      },
      {
        "duration": 497,
        "start_time": "2021-11-24T18:03:26.292Z"
      },
      {
        "duration": 1195,
        "start_time": "2021-11-24T18:03:26.793Z"
      },
      {
        "duration": 1094,
        "start_time": "2021-11-24T18:03:27.992Z"
      },
      {
        "duration": 111,
        "start_time": "2021-11-24T18:03:29.088Z"
      },
      {
        "duration": 1596,
        "start_time": "2021-11-24T18:03:29.201Z"
      },
      {
        "duration": 937,
        "start_time": "2021-11-24T18:03:30.800Z"
      },
      {
        "duration": 1245,
        "start_time": "2021-11-24T18:03:31.739Z"
      },
      {
        "duration": 31158,
        "start_time": "2021-11-24T18:03:32.987Z"
      },
      {
        "duration": 38425,
        "start_time": "2021-11-24T18:04:04.148Z"
      },
      {
        "duration": 2622,
        "start_time": "2021-11-24T18:04:42.583Z"
      },
      {
        "duration": 269,
        "start_time": "2021-11-24T18:04:45.208Z"
      },
      {
        "duration": 3133,
        "start_time": "2021-11-24T18:04:45.486Z"
      },
      {
        "duration": 12,
        "start_time": "2021-11-24T18:04:48.622Z"
      },
      {
        "duration": 411,
        "start_time": "2021-11-25T07:10:51.067Z"
      },
      {
        "duration": 1184,
        "start_time": "2021-11-25T07:10:58.164Z"
      },
      {
        "duration": 55,
        "start_time": "2021-11-25T07:10:59.350Z"
      },
      {
        "duration": 4,
        "start_time": "2021-11-25T07:10:59.407Z"
      },
      {
        "duration": 12,
        "start_time": "2021-11-25T07:10:59.413Z"
      },
      {
        "duration": 1967,
        "start_time": "2021-11-25T07:10:59.426Z"
      },
      {
        "duration": 18,
        "start_time": "2021-11-25T07:11:01.395Z"
      },
      {
        "duration": 32,
        "start_time": "2021-11-25T07:11:01.414Z"
      },
      {
        "duration": 31,
        "start_time": "2021-11-25T07:11:01.448Z"
      },
      {
        "duration": 936,
        "start_time": "2021-11-25T07:11:01.481Z"
      },
      {
        "duration": 778,
        "start_time": "2021-11-25T07:11:02.419Z"
      },
      {
        "duration": 544,
        "start_time": "2021-11-25T07:11:06.302Z"
      },
      {
        "duration": 20459,
        "start_time": "2021-11-25T07:14:01.260Z"
      },
      {
        "duration": 772,
        "start_time": "2021-11-25T07:17:09.556Z"
      },
      {
        "duration": 22650,
        "start_time": "2021-11-25T07:17:45.795Z"
      },
      {
        "duration": 435,
        "start_time": "2021-11-25T07:19:30.428Z"
      },
      {
        "duration": 441,
        "start_time": "2021-11-25T07:19:37.004Z"
      },
      {
        "duration": 462,
        "start_time": "2021-11-25T07:20:05.332Z"
      },
      {
        "duration": 916,
        "start_time": "2021-11-25T07:20:12.516Z"
      },
      {
        "duration": 865,
        "start_time": "2021-11-25T07:20:30.717Z"
      },
      {
        "duration": 436,
        "start_time": "2021-11-25T07:20:38.884Z"
      },
      {
        "duration": 420,
        "start_time": "2021-11-25T07:21:49.084Z"
      },
      {
        "duration": 455,
        "start_time": "2021-11-25T07:23:02.496Z"
      },
      {
        "duration": 409,
        "start_time": "2021-11-25T07:24:51.532Z"
      },
      {
        "duration": 416,
        "start_time": "2021-11-25T07:25:18.973Z"
      },
      {
        "duration": 416,
        "start_time": "2021-11-25T07:25:31.373Z"
      },
      {
        "duration": 410,
        "start_time": "2021-11-25T07:26:59.029Z"
      },
      {
        "duration": 418,
        "start_time": "2021-11-25T07:30:46.006Z"
      },
      {
        "duration": 427,
        "start_time": "2021-11-25T07:31:00.278Z"
      },
      {
        "duration": 720,
        "start_time": "2021-11-25T07:31:24.614Z"
      },
      {
        "duration": 414,
        "start_time": "2021-11-25T07:31:33.285Z"
      },
      {
        "duration": 403,
        "start_time": "2021-11-25T07:32:15.022Z"
      },
      {
        "duration": 402,
        "start_time": "2021-11-25T07:32:33.949Z"
      },
      {
        "duration": 416,
        "start_time": "2021-11-25T07:32:39.141Z"
      },
      {
        "duration": 438,
        "start_time": "2021-11-25T07:32:45.789Z"
      },
      {
        "duration": 449,
        "start_time": "2021-11-25T07:33:30.773Z"
      },
      {
        "duration": 402,
        "start_time": "2021-11-25T07:33:49.230Z"
      },
      {
        "duration": 742,
        "start_time": "2021-11-25T07:34:39.511Z"
      },
      {
        "duration": 2511,
        "start_time": "2021-11-25T07:35:11.671Z"
      },
      {
        "duration": 534,
        "start_time": "2021-11-25T07:35:20.806Z"
      },
      {
        "duration": 404,
        "start_time": "2021-11-25T07:35:43.150Z"
      },
      {
        "duration": 748,
        "start_time": "2021-11-25T07:35:59.269Z"
      },
      {
        "duration": 899,
        "start_time": "2021-11-25T07:36:06.966Z"
      },
      {
        "duration": 401,
        "start_time": "2021-11-25T07:36:14.622Z"
      },
      {
        "duration": 410,
        "start_time": "2021-11-25T07:36:23.342Z"
      },
      {
        "duration": 401,
        "start_time": "2021-11-25T07:36:40.270Z"
      },
      {
        "duration": 590,
        "start_time": "2021-11-25T07:37:29.006Z"
      },
      {
        "duration": 522,
        "start_time": "2021-11-25T07:37:37.294Z"
      },
      {
        "duration": 502,
        "start_time": "2021-11-25T07:37:45.134Z"
      },
      {
        "duration": 21977,
        "start_time": "2021-11-25T07:56:49.944Z"
      },
      {
        "duration": 24994,
        "start_time": "2021-11-25T07:57:32.063Z"
      },
      {
        "duration": 4486,
        "start_time": "2021-11-25T09:04:56.036Z"
      },
      {
        "duration": 4731,
        "start_time": "2021-11-25T09:06:03.389Z"
      },
      {
        "duration": 5286,
        "start_time": "2021-11-25T09:09:59.686Z"
      },
      {
        "duration": 472,
        "start_time": "2021-11-25T09:10:42.362Z"
      },
      {
        "duration": 47,
        "start_time": "2021-11-25T09:10:47.180Z"
      },
      {
        "duration": 1265,
        "start_time": "2021-11-25T09:11:08.090Z"
      },
      {
        "duration": 59,
        "start_time": "2021-11-25T09:11:09.357Z"
      },
      {
        "duration": 4,
        "start_time": "2021-11-25T09:11:09.418Z"
      },
      {
        "duration": 14,
        "start_time": "2021-11-25T09:11:09.424Z"
      },
      {
        "duration": 1988,
        "start_time": "2021-11-25T09:11:09.440Z"
      },
      {
        "duration": 9,
        "start_time": "2021-11-25T09:11:11.430Z"
      },
      {
        "duration": 27,
        "start_time": "2021-11-25T09:11:11.441Z"
      },
      {
        "duration": 41,
        "start_time": "2021-11-25T09:11:11.470Z"
      },
      {
        "duration": 4698,
        "start_time": "2021-11-25T09:11:11.513Z"
      },
      {
        "duration": 25434,
        "start_time": "2021-11-25T09:11:16.213Z"
      },
      {
        "duration": 158,
        "start_time": "2021-11-25T09:11:41.649Z"
      },
      {
        "duration": 165,
        "start_time": "2021-11-25T09:11:48.742Z"
      },
      {
        "duration": 42410,
        "start_time": "2021-11-25T09:26:36.107Z"
      },
      {
        "duration": 340,
        "start_time": "2021-11-25T09:29:00.768Z"
      },
      {
        "duration": 332,
        "start_time": "2021-11-25T09:29:38.376Z"
      },
      {
        "duration": 41984,
        "start_time": "2021-11-25T09:30:58.628Z"
      },
      {
        "duration": 6,
        "start_time": "2021-11-25T09:35:16.440Z"
      },
      {
        "duration": 14,
        "start_time": "2021-11-25T09:35:32.896Z"
      },
      {
        "duration": 435,
        "start_time": "2021-11-25T09:35:46.325Z"
      },
      {
        "duration": 351,
        "start_time": "2021-11-25T09:35:52.377Z"
      },
      {
        "duration": 18,
        "start_time": "2021-11-25T09:36:09.744Z"
      },
      {
        "duration": 13,
        "start_time": "2021-11-25T09:36:48.369Z"
      },
      {
        "duration": 270,
        "start_time": "2021-11-25T09:41:27.338Z"
      },
      {
        "duration": 382,
        "start_time": "2021-11-25T09:42:29.626Z"
      },
      {
        "duration": 280,
        "start_time": "2021-11-25T09:42:47.833Z"
      },
      {
        "duration": 26053,
        "start_time": "2021-11-25T09:50:21.054Z"
      },
      {
        "duration": 1213,
        "start_time": "2021-11-25T09:54:18.249Z"
      },
      {
        "duration": 58,
        "start_time": "2021-11-25T09:54:19.465Z"
      },
      {
        "duration": 5,
        "start_time": "2021-11-25T09:54:19.526Z"
      },
      {
        "duration": 15,
        "start_time": "2021-11-25T09:54:19.533Z"
      },
      {
        "duration": 2059,
        "start_time": "2021-11-25T09:54:19.550Z"
      },
      {
        "duration": 10,
        "start_time": "2021-11-25T09:54:21.611Z"
      },
      {
        "duration": 20,
        "start_time": "2021-11-25T09:54:21.623Z"
      },
      {
        "duration": 27,
        "start_time": "2021-11-25T09:54:21.645Z"
      },
      {
        "duration": 5073,
        "start_time": "2021-11-25T09:54:21.708Z"
      },
      {
        "duration": 25704,
        "start_time": "2021-11-25T09:54:26.783Z"
      },
      {
        "duration": 117,
        "start_time": "2021-11-25T09:54:52.489Z"
      },
      {
        "duration": 302,
        "start_time": "2021-11-25T09:54:52.609Z"
      },
      {
        "duration": 43803,
        "start_time": "2021-11-25T09:54:52.914Z"
      },
      {
        "duration": 26188,
        "start_time": "2021-11-25T09:55:36.719Z"
      },
      {
        "duration": 12,
        "start_time": "2021-11-25T09:56:45.594Z"
      },
      {
        "duration": 14,
        "start_time": "2021-11-25T09:56:51.459Z"
      },
      {
        "duration": 11,
        "start_time": "2021-11-25T09:57:07.891Z"
      },
      {
        "duration": 14,
        "start_time": "2021-11-25T09:59:06.794Z"
      },
      {
        "duration": 1176,
        "start_time": "2021-11-25T10:01:20.666Z"
      },
      {
        "duration": 56,
        "start_time": "2021-11-25T10:01:21.844Z"
      },
      {
        "duration": 8,
        "start_time": "2021-11-25T10:01:21.902Z"
      },
      {
        "duration": 14,
        "start_time": "2021-11-25T10:01:21.912Z"
      },
      {
        "duration": 2145,
        "start_time": "2021-11-25T10:01:21.928Z"
      },
      {
        "duration": 11,
        "start_time": "2021-11-25T10:01:24.075Z"
      },
      {
        "duration": 33,
        "start_time": "2021-11-25T10:01:24.087Z"
      },
      {
        "duration": 28,
        "start_time": "2021-11-25T10:01:24.123Z"
      },
      {
        "duration": 4669,
        "start_time": "2021-11-25T10:01:24.153Z"
      },
      {
        "duration": 26259,
        "start_time": "2021-11-25T10:01:28.824Z"
      },
      {
        "duration": 126,
        "start_time": "2021-11-25T10:01:55.085Z"
      },
      {
        "duration": 300,
        "start_time": "2021-11-25T10:01:55.214Z"
      },
      {
        "duration": 41897,
        "start_time": "2021-11-25T10:01:55.516Z"
      },
      {
        "duration": 25598,
        "start_time": "2021-11-25T10:02:37.415Z"
      },
      {
        "duration": 1141,
        "start_time": "2021-11-25T10:12:41.808Z"
      },
      {
        "duration": 54,
        "start_time": "2021-11-25T10:12:42.951Z"
      },
      {
        "duration": 4,
        "start_time": "2021-11-25T10:12:43.007Z"
      },
      {
        "duration": 31,
        "start_time": "2021-11-25T10:12:43.013Z"
      },
      {
        "duration": 1823,
        "start_time": "2021-11-25T10:12:43.046Z"
      },
      {
        "duration": 9,
        "start_time": "2021-11-25T10:12:44.871Z"
      },
      {
        "duration": 30,
        "start_time": "2021-11-25T10:12:44.881Z"
      },
      {
        "duration": 27,
        "start_time": "2021-11-25T10:12:44.914Z"
      },
      {
        "duration": 4375,
        "start_time": "2021-11-25T10:12:44.943Z"
      },
      {
        "duration": 24636,
        "start_time": "2021-11-25T10:12:49.320Z"
      },
      {
        "duration": 152,
        "start_time": "2021-11-25T10:13:13.957Z"
      },
      {
        "duration": 298,
        "start_time": "2021-11-25T10:13:14.111Z"
      },
      {
        "duration": 40502,
        "start_time": "2021-11-25T10:13:14.411Z"
      },
      {
        "duration": 26498,
        "start_time": "2021-11-25T10:13:54.915Z"
      },
      {
        "duration": 505,
        "start_time": "2021-11-25T10:15:06.909Z"
      },
      {
        "duration": 69,
        "start_time": "2021-11-25T10:15:45.036Z"
      },
      {
        "duration": 74,
        "start_time": "2021-11-25T10:16:35.268Z"
      },
      {
        "duration": 24266,
        "start_time": "2021-11-25T10:21:38.292Z"
      },
      {
        "duration": 695,
        "start_time": "2021-11-25T10:23:11.614Z"
      },
      {
        "duration": 424,
        "start_time": "2021-11-25T10:24:13.902Z"
      },
      {
        "duration": 1133,
        "start_time": "2021-11-25T10:25:21.326Z"
      },
      {
        "duration": 53,
        "start_time": "2021-11-25T10:25:22.461Z"
      },
      {
        "duration": 4,
        "start_time": "2021-11-25T10:25:22.516Z"
      },
      {
        "duration": 21,
        "start_time": "2021-11-25T10:25:22.522Z"
      },
      {
        "duration": 1782,
        "start_time": "2021-11-25T10:25:22.544Z"
      },
      {
        "duration": 10,
        "start_time": "2021-11-25T10:25:24.327Z"
      },
      {
        "duration": 18,
        "start_time": "2021-11-25T10:25:24.339Z"
      },
      {
        "duration": 49,
        "start_time": "2021-11-25T10:25:24.359Z"
      },
      {
        "duration": 4474,
        "start_time": "2021-11-25T10:25:24.410Z"
      },
      {
        "duration": 24295,
        "start_time": "2021-11-25T10:25:28.886Z"
      },
      {
        "duration": 124,
        "start_time": "2021-11-25T10:25:53.183Z"
      },
      {
        "duration": 304,
        "start_time": "2021-11-25T10:25:53.310Z"
      },
      {
        "duration": 41292,
        "start_time": "2021-11-25T10:25:53.616Z"
      },
      {
        "duration": 25804,
        "start_time": "2021-11-25T10:26:34.910Z"
      },
      {
        "duration": 71,
        "start_time": "2021-11-25T10:27:00.716Z"
      },
      {
        "duration": 791,
        "start_time": "2021-11-25T10:27:00.789Z"
      },
      {
        "duration": 446,
        "start_time": "2021-11-25T10:27:01.582Z"
      },
      {
        "duration": 65,
        "start_time": "2021-11-25T10:32:21.927Z"
      },
      {
        "duration": 681,
        "start_time": "2021-11-25T10:32:27.886Z"
      },
      {
        "duration": 444,
        "start_time": "2021-11-25T10:32:45.662Z"
      },
      {
        "duration": 831,
        "start_time": "2021-11-25T10:33:26.879Z"
      },
      {
        "duration": 858,
        "start_time": "2021-11-25T10:39:29.162Z"
      },
      {
        "duration": 1124,
        "start_time": "2021-11-25T10:40:54.484Z"
      },
      {
        "duration": 1326,
        "start_time": "2021-11-25T10:48:50.669Z"
      },
      {
        "duration": 56,
        "start_time": "2021-11-25T10:48:51.996Z"
      },
      {
        "duration": 4,
        "start_time": "2021-11-25T10:48:52.054Z"
      },
      {
        "duration": 15,
        "start_time": "2021-11-25T10:48:52.060Z"
      },
      {
        "duration": 1833,
        "start_time": "2021-11-25T10:48:52.076Z"
      },
      {
        "duration": 9,
        "start_time": "2021-11-25T10:48:53.911Z"
      },
      {
        "duration": 17,
        "start_time": "2021-11-25T10:48:53.922Z"
      },
      {
        "duration": 28,
        "start_time": "2021-11-25T10:48:53.942Z"
      },
      {
        "duration": 4618,
        "start_time": "2021-11-25T10:48:53.972Z"
      },
      {
        "duration": 25678,
        "start_time": "2021-11-25T10:48:58.592Z"
      },
      {
        "duration": 135,
        "start_time": "2021-11-25T10:49:24.272Z"
      },
      {
        "duration": 298,
        "start_time": "2021-11-25T10:49:24.410Z"
      },
      {
        "duration": 41704,
        "start_time": "2021-11-25T10:49:24.710Z"
      },
      {
        "duration": 27595,
        "start_time": "2021-11-25T10:50:06.416Z"
      },
      {
        "duration": 140,
        "start_time": "2021-11-25T10:50:34.014Z"
      },
      {
        "duration": 816,
        "start_time": "2021-11-25T10:50:34.156Z"
      },
      {
        "duration": 553,
        "start_time": "2021-11-25T10:50:34.974Z"
      },
      {
        "duration": 1001,
        "start_time": "2021-11-25T10:50:35.608Z"
      },
      {
        "duration": 871,
        "start_time": "2021-11-25T10:57:52.091Z"
      },
      {
        "duration": 1305,
        "start_time": "2021-11-25T11:01:56.251Z"
      },
      {
        "duration": 55,
        "start_time": "2021-11-25T11:01:57.559Z"
      },
      {
        "duration": 5,
        "start_time": "2021-11-25T11:01:57.616Z"
      },
      {
        "duration": 19,
        "start_time": "2021-11-25T11:01:57.623Z"
      },
      {
        "duration": 2042,
        "start_time": "2021-11-25T11:01:57.644Z"
      },
      {
        "duration": 9,
        "start_time": "2021-11-25T11:01:59.688Z"
      },
      {
        "duration": 16,
        "start_time": "2021-11-25T11:01:59.699Z"
      },
      {
        "duration": 38,
        "start_time": "2021-11-25T11:01:59.718Z"
      },
      {
        "duration": 7176,
        "start_time": "2021-11-25T11:01:59.759Z"
      },
      {
        "duration": 36149,
        "start_time": "2021-11-25T11:02:06.938Z"
      },
      {
        "duration": 117,
        "start_time": "2021-11-25T11:02:43.090Z"
      },
      {
        "duration": 301,
        "start_time": "2021-11-25T11:02:43.210Z"
      },
      {
        "duration": 55298,
        "start_time": "2021-11-25T11:02:43.514Z"
      },
      {
        "duration": 27194,
        "start_time": "2021-11-25T11:03:38.814Z"
      },
      {
        "duration": 111,
        "start_time": "2021-11-25T11:04:06.010Z"
      },
      {
        "duration": 938,
        "start_time": "2021-11-25T11:04:06.123Z"
      },
      {
        "duration": 844,
        "start_time": "2021-11-25T11:04:07.064Z"
      },
      {
        "duration": 1496,
        "start_time": "2021-11-25T11:04:07.911Z"
      },
      {
        "duration": 3,
        "start_time": "2021-11-25T11:04:09.409Z"
      },
      {
        "duration": 1295,
        "start_time": "2021-11-25T11:04:09.415Z"
      },
      {
        "duration": 131,
        "start_time": "2021-11-25T11:07:29.112Z"
      },
      {
        "duration": 1519,
        "start_time": "2021-11-25T11:07:54.793Z"
      },
      {
        "duration": 8,
        "start_time": "2021-11-25T11:08:18.128Z"
      },
      {
        "duration": 4,
        "start_time": "2021-11-25T11:15:45.737Z"
      },
      {
        "duration": 236,
        "start_time": "2021-11-25T11:39:53.906Z"
      },
      {
        "duration": 1272,
        "start_time": "2021-11-25T11:43:27.783Z"
      },
      {
        "duration": 59,
        "start_time": "2021-11-25T11:43:29.057Z"
      },
      {
        "duration": 5,
        "start_time": "2021-11-25T11:43:29.118Z"
      },
      {
        "duration": 13,
        "start_time": "2021-11-25T11:43:29.125Z"
      },
      {
        "duration": 1845,
        "start_time": "2021-11-25T11:43:29.140Z"
      },
      {
        "duration": 10,
        "start_time": "2021-11-25T11:43:30.986Z"
      },
      {
        "duration": 27,
        "start_time": "2021-11-25T11:43:31.006Z"
      },
      {
        "duration": 42,
        "start_time": "2021-11-25T11:43:31.035Z"
      },
      {
        "duration": 4704,
        "start_time": "2021-11-25T11:43:31.079Z"
      },
      {
        "duration": 24983,
        "start_time": "2021-11-25T11:43:35.785Z"
      },
      {
        "duration": 136,
        "start_time": "2021-11-25T11:44:00.770Z"
      },
      {
        "duration": 398,
        "start_time": "2021-11-25T11:44:00.910Z"
      },
      {
        "duration": 43804,
        "start_time": "2021-11-25T11:44:01.309Z"
      },
      {
        "duration": 27408,
        "start_time": "2021-11-25T11:44:45.114Z"
      },
      {
        "duration": 70,
        "start_time": "2021-11-25T11:45:12.607Z"
      },
      {
        "duration": 723,
        "start_time": "2021-11-25T11:45:12.679Z"
      },
      {
        "duration": 812,
        "start_time": "2021-11-25T11:45:13.406Z"
      },
      {
        "duration": 1192,
        "start_time": "2021-11-25T11:45:14.220Z"
      },
      {
        "duration": 4,
        "start_time": "2021-11-25T11:45:15.413Z"
      },
      {
        "duration": 1278,
        "start_time": "2021-11-25T11:45:15.419Z"
      },
      {
        "duration": 139,
        "start_time": "2021-11-25T11:45:16.698Z"
      },
      {
        "duration": 1571,
        "start_time": "2021-11-25T11:45:16.839Z"
      },
      {
        "duration": 266,
        "start_time": "2021-11-25T11:45:18.413Z"
      },
      {
        "duration": 7,
        "start_time": "2021-11-25T11:45:18.681Z"
      }
    ],
    "kernelspec": {
      "display_name": "Python 3 (ipykernel)",
      "language": "python",
      "name": "python3"
    },
    "language_info": {
      "codemirror_mode": {
        "name": "ipython",
        "version": 3
      },
      "file_extension": ".py",
      "mimetype": "text/x-python",
      "name": "python",
      "nbconvert_exporter": "python",
      "pygments_lexer": "ipython3",
      "version": "3.9.5"
    },
    "toc": {
      "base_numbering": 1,
      "nav_menu": {},
      "number_sections": true,
      "sideBar": true,
      "skip_h1_title": true,
      "title_cell": "Содержание",
      "title_sidebar": "Contents",
      "toc_cell": true,
      "toc_position": {
        "height": "calc(100% - 180px)",
        "left": "10px",
        "top": "150px",
        "width": "320.156px"
      },
      "toc_section_display": true,
      "toc_window_display": true
    },
    "colab": {
      "name": "DariaNika_ML_Churn_predictions_banking.ipynb",
      "provenance": [],
      "collapsed_sections": [
        "6mRsidHUUtAX",
        "Dk_g42ybUtAh",
        "bkIVOCOGUtAj",
        "OABGO0PqUtAk",
        "c6aczlsOUtAm",
        "5ZiQlkl7UtAo",
        "D1IxMfPnUtAp",
        "sIQN-S4uUtAr",
        "9cQnPRP0UtAt",
        "S-mjefy-UtAv"
      ]
    }
  },
  "nbformat": 4,
  "nbformat_minor": 0
}