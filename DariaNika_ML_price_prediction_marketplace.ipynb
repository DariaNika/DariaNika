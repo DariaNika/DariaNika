{
  "cells": [
    {
      "cell_type": "markdown",
      "metadata": {
        "id": "zY80CJjdzLQ-"
      },
      "source": [
        "# Определение стоимости автомобилей"
      ]
    },
    {
      "cell_type": "markdown",
      "metadata": {
        "id": "HvGG-WhCzLQ_"
      },
      "source": [
        "Техническое задание:\n",
        "\n",
        "Сервис по продаже автомобилей с пробегом разрабатывает приложение для привлечения новых клиентов. В нём можно быстро узнать рыночную стоимость своего автомобиля. В вашем распоряжении исторические данные: технические характеристики, комплектации и цены автомобилей. Необходимо построить модель для определения стоимости. \n",
        "\n",
        "Заказчику важны:\n",
        "- качество предсказания;\n",
        "- скорость предсказания;\n",
        "- время обучения.\n",
        "\n",
        "В ходе работы подготовлены и обработаны данные, проведён исследовательский анализ. С помощью моделей LGBMRegressor, дерево решений, случайного леса, линейной регрессии и градиентного бустинга CаtBoost предсказана стоимость автомобиля на основании его характериктик. С помощью GridSearchCV подобраны наилучшие параметры моделей. С помощью timeit проанализировано время обучения и предсказания каждой модели. Ключевая метрика, по которой сравнивались модели - MSE. В проекте использованы библиотеки pandas, matplotlib, numpy, seaborn, scipy, missingno, sklearn, lightgbm, catboost."
      ]
    },
    {
      "cell_type": "markdown",
      "metadata": {
        "id": "YZSGbYsWzLQ_"
      },
      "source": [
        "## Подготовка данных"
      ]
    },
    {
      "cell_type": "markdown",
      "metadata": {
        "id": "2cFcsuLxzLRA"
      },
      "source": [
        "Импортируем модули, которые нам понадобятся для дальнейшей работы."
      ]
    },
    {
      "cell_type": "code",
      "execution_count": null,
      "metadata": {
        "scrolled": true,
        "id": "RexK803YzLRA",
        "outputId": "ae807a4f-b791-4a51-d551-bdd94eee86ba"
      },
      "outputs": [
        {
          "name": "stdout",
          "output_type": "stream",
          "text": [
            "Defaulting to user installation because normal site-packages is not writeable\n",
            "Requirement already satisfied: missingno in /home/jovyan/.local/lib/python3.7/site-packages (0.5.0)\n",
            "Requirement already satisfied: seaborn in /opt/conda/lib/python3.7/site-packages (from missingno) (0.9.0)\n",
            "Requirement already satisfied: matplotlib in /opt/conda/lib/python3.7/site-packages (from missingno) (3.1.0)\n",
            "Requirement already satisfied: numpy in /opt/conda/lib/python3.7/site-packages (from missingno) (1.19.5)\n",
            "Requirement already satisfied: scipy in /opt/conda/lib/python3.7/site-packages (from missingno) (1.4.1)\n",
            "Requirement already satisfied: pandas>=0.15.2 in /opt/conda/lib/python3.7/site-packages (from seaborn->missingno) (0.25.1)\n",
            "Requirement already satisfied: pyparsing!=2.0.4,!=2.1.2,!=2.1.6,>=2.0.1 in /opt/conda/lib/python3.7/site-packages (from matplotlib->missingno) (2.4.7)\n",
            "Requirement already satisfied: cycler>=0.10 in /opt/conda/lib/python3.7/site-packages (from matplotlib->missingno) (0.10.0)\n",
            "Requirement already satisfied: python-dateutil>=2.1 in /opt/conda/lib/python3.7/site-packages (from matplotlib->missingno) (2.8.1)\n",
            "Requirement already satisfied: kiwisolver>=1.0.1 in /opt/conda/lib/python3.7/site-packages (from matplotlib->missingno) (1.3.1)\n",
            "Requirement already satisfied: pytz>=2017.2 in /opt/conda/lib/python3.7/site-packages (from pandas>=0.15.2->seaborn->missingno) (2021.1)\n",
            "Requirement already satisfied: six in /opt/conda/lib/python3.7/site-packages (from cycler>=0.10->matplotlib->missingno) (1.15.0)\n"
          ]
        }
      ],
      "source": [
        "import pandas as pd\n",
        "import matplotlib.pyplot as plt\n",
        "import numpy as np\n",
        "import seaborn as sb\n",
        "from scipy import stats as st\n",
        "!pip install missingno\n",
        "import missingno as msno\n",
        "import timeit\n",
        "from lightgbm import LGBMRegressor\n",
        "\n",
        "from sklearn.preprocessing import StandardScaler\n",
        "from sklearn.tree import DecisionTreeRegressor\n",
        "from sklearn.ensemble import RandomForestRegressor\n",
        "from sklearn.linear_model import LinearRegression\n",
        "from catboost import CatBoostRegressor\n",
        "from sklearn.metrics import mean_squared_error\n",
        "from sklearn.model_selection import GridSearchCV\n",
        "\n",
        "import warnings\n",
        "warnings.simplefilter('ignore')\n",
        "from sklearn.model_selection import train_test_split"
      ]
    },
    {
      "cell_type": "markdown",
      "metadata": {
        "id": "eWPyQILFzLRD"
      },
      "source": [
        "Читаем базу данных."
      ]
    },
    {
      "cell_type": "code",
      "execution_count": null,
      "metadata": {
        "id": "CPcOEMC8zLRD",
        "outputId": "461b3ad7-f584-491d-9dec-567ce995944e"
      },
      "outputs": [
        {
          "data": {
            "text/html": [
              "<div>\n",
              "<style scoped>\n",
              "    .dataframe tbody tr th:only-of-type {\n",
              "        vertical-align: middle;\n",
              "    }\n",
              "\n",
              "    .dataframe tbody tr th {\n",
              "        vertical-align: top;\n",
              "    }\n",
              "\n",
              "    .dataframe thead th {\n",
              "        text-align: right;\n",
              "    }\n",
              "</style>\n",
              "<table border=\"1\" class=\"dataframe\">\n",
              "  <thead>\n",
              "    <tr style=\"text-align: right;\">\n",
              "      <th></th>\n",
              "      <th>0</th>\n",
              "      <th>1</th>\n",
              "      <th>2</th>\n",
              "      <th>3</th>\n",
              "      <th>4</th>\n",
              "    </tr>\n",
              "  </thead>\n",
              "  <tbody>\n",
              "    <tr>\n",
              "      <td>DateCrawled</td>\n",
              "      <td>2016-03-24 11:52:17</td>\n",
              "      <td>2016-03-24 10:58:45</td>\n",
              "      <td>2016-03-14 12:52:21</td>\n",
              "      <td>2016-03-17 16:54:04</td>\n",
              "      <td>2016-03-31 17:25:20</td>\n",
              "    </tr>\n",
              "    <tr>\n",
              "      <td>Price</td>\n",
              "      <td>480</td>\n",
              "      <td>18300</td>\n",
              "      <td>9800</td>\n",
              "      <td>1500</td>\n",
              "      <td>3600</td>\n",
              "    </tr>\n",
              "    <tr>\n",
              "      <td>VehicleType</td>\n",
              "      <td>NaN</td>\n",
              "      <td>coupe</td>\n",
              "      <td>suv</td>\n",
              "      <td>small</td>\n",
              "      <td>small</td>\n",
              "    </tr>\n",
              "    <tr>\n",
              "      <td>RegistrationYear</td>\n",
              "      <td>1993</td>\n",
              "      <td>2011</td>\n",
              "      <td>2004</td>\n",
              "      <td>2001</td>\n",
              "      <td>2008</td>\n",
              "    </tr>\n",
              "    <tr>\n",
              "      <td>Gearbox</td>\n",
              "      <td>manual</td>\n",
              "      <td>manual</td>\n",
              "      <td>auto</td>\n",
              "      <td>manual</td>\n",
              "      <td>manual</td>\n",
              "    </tr>\n",
              "    <tr>\n",
              "      <td>Power</td>\n",
              "      <td>0</td>\n",
              "      <td>190</td>\n",
              "      <td>163</td>\n",
              "      <td>75</td>\n",
              "      <td>69</td>\n",
              "    </tr>\n",
              "    <tr>\n",
              "      <td>Model</td>\n",
              "      <td>golf</td>\n",
              "      <td>NaN</td>\n",
              "      <td>grand</td>\n",
              "      <td>golf</td>\n",
              "      <td>fabia</td>\n",
              "    </tr>\n",
              "    <tr>\n",
              "      <td>Kilometer</td>\n",
              "      <td>150000</td>\n",
              "      <td>125000</td>\n",
              "      <td>125000</td>\n",
              "      <td>150000</td>\n",
              "      <td>90000</td>\n",
              "    </tr>\n",
              "    <tr>\n",
              "      <td>RegistrationMonth</td>\n",
              "      <td>0</td>\n",
              "      <td>5</td>\n",
              "      <td>8</td>\n",
              "      <td>6</td>\n",
              "      <td>7</td>\n",
              "    </tr>\n",
              "    <tr>\n",
              "      <td>FuelType</td>\n",
              "      <td>petrol</td>\n",
              "      <td>gasoline</td>\n",
              "      <td>gasoline</td>\n",
              "      <td>petrol</td>\n",
              "      <td>gasoline</td>\n",
              "    </tr>\n",
              "    <tr>\n",
              "      <td>Brand</td>\n",
              "      <td>volkswagen</td>\n",
              "      <td>audi</td>\n",
              "      <td>jeep</td>\n",
              "      <td>volkswagen</td>\n",
              "      <td>skoda</td>\n",
              "    </tr>\n",
              "    <tr>\n",
              "      <td>NotRepaired</td>\n",
              "      <td>NaN</td>\n",
              "      <td>yes</td>\n",
              "      <td>NaN</td>\n",
              "      <td>no</td>\n",
              "      <td>no</td>\n",
              "    </tr>\n",
              "    <tr>\n",
              "      <td>DateCreated</td>\n",
              "      <td>2016-03-24 00:00:00</td>\n",
              "      <td>2016-03-24 00:00:00</td>\n",
              "      <td>2016-03-14 00:00:00</td>\n",
              "      <td>2016-03-17 00:00:00</td>\n",
              "      <td>2016-03-31 00:00:00</td>\n",
              "    </tr>\n",
              "    <tr>\n",
              "      <td>NumberOfPictures</td>\n",
              "      <td>0</td>\n",
              "      <td>0</td>\n",
              "      <td>0</td>\n",
              "      <td>0</td>\n",
              "      <td>0</td>\n",
              "    </tr>\n",
              "    <tr>\n",
              "      <td>PostalCode</td>\n",
              "      <td>70435</td>\n",
              "      <td>66954</td>\n",
              "      <td>90480</td>\n",
              "      <td>91074</td>\n",
              "      <td>60437</td>\n",
              "    </tr>\n",
              "    <tr>\n",
              "      <td>LastSeen</td>\n",
              "      <td>2016-04-07 03:16:57</td>\n",
              "      <td>2016-04-07 01:46:50</td>\n",
              "      <td>2016-04-05 12:47:46</td>\n",
              "      <td>2016-03-17 17:40:17</td>\n",
              "      <td>2016-04-06 10:17:21</td>\n",
              "    </tr>\n",
              "  </tbody>\n",
              "</table>\n",
              "</div>"
            ],
            "text/plain": [
              "                                     0                    1  \\\n",
              "DateCrawled        2016-03-24 11:52:17  2016-03-24 10:58:45   \n",
              "Price                              480                18300   \n",
              "VehicleType                        NaN                coupe   \n",
              "RegistrationYear                  1993                 2011   \n",
              "Gearbox                         manual               manual   \n",
              "Power                                0                  190   \n",
              "Model                             golf                  NaN   \n",
              "Kilometer                       150000               125000   \n",
              "RegistrationMonth                    0                    5   \n",
              "FuelType                        petrol             gasoline   \n",
              "Brand                       volkswagen                 audi   \n",
              "NotRepaired                        NaN                  yes   \n",
              "DateCreated        2016-03-24 00:00:00  2016-03-24 00:00:00   \n",
              "NumberOfPictures                     0                    0   \n",
              "PostalCode                       70435                66954   \n",
              "LastSeen           2016-04-07 03:16:57  2016-04-07 01:46:50   \n",
              "\n",
              "                                     2                    3  \\\n",
              "DateCrawled        2016-03-14 12:52:21  2016-03-17 16:54:04   \n",
              "Price                             9800                 1500   \n",
              "VehicleType                        suv                small   \n",
              "RegistrationYear                  2004                 2001   \n",
              "Gearbox                           auto               manual   \n",
              "Power                              163                   75   \n",
              "Model                            grand                 golf   \n",
              "Kilometer                       125000               150000   \n",
              "RegistrationMonth                    8                    6   \n",
              "FuelType                      gasoline               petrol   \n",
              "Brand                             jeep           volkswagen   \n",
              "NotRepaired                        NaN                   no   \n",
              "DateCreated        2016-03-14 00:00:00  2016-03-17 00:00:00   \n",
              "NumberOfPictures                     0                    0   \n",
              "PostalCode                       90480                91074   \n",
              "LastSeen           2016-04-05 12:47:46  2016-03-17 17:40:17   \n",
              "\n",
              "                                     4  \n",
              "DateCrawled        2016-03-31 17:25:20  \n",
              "Price                             3600  \n",
              "VehicleType                      small  \n",
              "RegistrationYear                  2008  \n",
              "Gearbox                         manual  \n",
              "Power                               69  \n",
              "Model                            fabia  \n",
              "Kilometer                        90000  \n",
              "RegistrationMonth                    7  \n",
              "FuelType                      gasoline  \n",
              "Brand                            skoda  \n",
              "NotRepaired                         no  \n",
              "DateCreated        2016-03-31 00:00:00  \n",
              "NumberOfPictures                     0  \n",
              "PostalCode                       60437  \n",
              "LastSeen           2016-04-06 10:17:21  "
            ]
          },
          "metadata": {},
          "output_type": "display_data"
        },
        {
          "name": "stdout",
          "output_type": "stream",
          "text": [
            "<class 'pandas.core.frame.DataFrame'>\n",
            "RangeIndex: 354369 entries, 0 to 354368\n",
            "Data columns (total 16 columns):\n",
            "DateCrawled          354369 non-null object\n",
            "Price                354369 non-null int64\n",
            "VehicleType          316879 non-null object\n",
            "RegistrationYear     354369 non-null int64\n",
            "Gearbox              334536 non-null object\n",
            "Power                354369 non-null int64\n",
            "Model                334664 non-null object\n",
            "Kilometer            354369 non-null int64\n",
            "RegistrationMonth    354369 non-null int64\n",
            "FuelType             321474 non-null object\n",
            "Brand                354369 non-null object\n",
            "NotRepaired          283215 non-null object\n",
            "DateCreated          354369 non-null object\n",
            "NumberOfPictures     354369 non-null int64\n",
            "PostalCode           354369 non-null int64\n",
            "LastSeen             354369 non-null object\n",
            "dtypes: int64(7), object(9)\n",
            "memory usage: 43.3+ MB\n"
          ]
        }
      ],
      "source": [
        "df = pd.read_csv('/datasets/autos.csv', sep= ',')\n",
        "display(df.head().T)\n",
        "df.info()"
      ]
    },
    {
      "cell_type": "markdown",
      "metadata": {
        "id": "qla32h4szLRE"
      },
      "source": [
        "Мы получили базу данных из 16 признаков. Всего в базе 354 369 записей. Данные содержат пропуски и выбросы. Названия столбцов соответствуют стандарту PEP8, но закодированы не в \"snake case\", исправим названия столбцов:"
      ]
    },
    {
      "cell_type": "code",
      "execution_count": null,
      "metadata": {
        "scrolled": true,
        "id": "WNa5pU98zLRE",
        "outputId": "d13988f4-0cf2-4473-b9ec-d6534ad48348"
      },
      "outputs": [
        {
          "name": "stdout",
          "output_type": "stream",
          "text": [
            "<class 'pandas.core.frame.DataFrame'>\n",
            "RangeIndex: 354369 entries, 0 to 354368\n",
            "Data columns (total 16 columns):\n",
            "date_crawled          354369 non-null object\n",
            "price                 354369 non-null int64\n",
            "vehicle_type          316879 non-null object\n",
            "registration_year     354369 non-null int64\n",
            "gearbox               334536 non-null object\n",
            "power                 354369 non-null int64\n",
            "model                 334664 non-null object\n",
            "kilometer             354369 non-null int64\n",
            "registration_month    354369 non-null int64\n",
            "fuel_type             321474 non-null object\n",
            "brand                 354369 non-null object\n",
            "not_repaired          283215 non-null object\n",
            "date_created          354369 non-null object\n",
            "number_of_pictures    354369 non-null int64\n",
            "postal_code           354369 non-null int64\n",
            "last_seen             354369 non-null object\n",
            "dtypes: int64(7), object(9)\n",
            "memory usage: 43.3+ MB\n"
          ]
        }
      ],
      "source": [
        "result = [] \n",
        "for i in range(len(df.columns)):\n",
        "    word = []\n",
        "    for letter in df.columns[i]:\n",
        "        if letter == letter.lower():\n",
        "            word.append(letter)\n",
        "        else:\n",
        "            word.append('_')\n",
        "            word.append(letter.lower())\n",
        "        a = ''.join(word[1:])\n",
        "    result.append(a)\n",
        "df.columns = result\n",
        "df.info()"
      ]
    },
    {
      "cell_type": "markdown",
      "metadata": {
        "id": "RV-jwbQ9zLRF"
      },
      "source": [
        "Данные содержат дубликаты:"
      ]
    },
    {
      "cell_type": "code",
      "execution_count": null,
      "metadata": {
        "id": "H6k8JK3czLRF",
        "outputId": "408b5f22-d412-416e-907d-cf467ecd4df8"
      },
      "outputs": [
        {
          "data": {
            "text/plain": [
              "4"
            ]
          },
          "execution_count": 4,
          "metadata": {},
          "output_type": "execute_result"
        }
      ],
      "source": [
        "df.duplicated().sum()"
      ]
    },
    {
      "cell_type": "markdown",
      "metadata": {
        "id": "kRcqsZfuzLRF"
      },
      "source": [
        "Удалим дубликаты:"
      ]
    },
    {
      "cell_type": "code",
      "execution_count": null,
      "metadata": {
        "id": "YwPXsw5FzLRF",
        "outputId": "92125531-b0bb-49c9-8b05-27e186fb784f"
      },
      "outputs": [
        {
          "data": {
            "text/plain": [
              "0"
            ]
          },
          "execution_count": 5,
          "metadata": {},
          "output_type": "execute_result"
        }
      ],
      "source": [
        "df = df.drop_duplicates()\n",
        "df.duplicated().sum()"
      ]
    },
    {
      "cell_type": "markdown",
      "metadata": {
        "id": "0GXYj5lzzLRG"
      },
      "source": [
        "Посмотрим на пропуски:"
      ]
    },
    {
      "cell_type": "code",
      "execution_count": null,
      "metadata": {
        "scrolled": true,
        "id": "wi_IKOlAzLRG",
        "outputId": "465042e2-916b-40e5-fd13-a82293886e80"
      },
      "outputs": [
        {
          "data": {
            "image/png": "[encoded data removed]",
            "text/plain": [
              "<Figure size 1800x720 with 2 Axes>"
            ]
          },
          "metadata": {
            "needs_background": "light"
          },
          "output_type": "display_data"
        }
      ],
      "source": [
        "msno.matrix(df.sort_values('date_crawled'))\n",
        "plt.show()"
      ]
    },
    {
      "cell_type": "markdown",
      "metadata": {
        "id": "KnjC8C2GzLRG"
      },
      "source": [
        "Пропусков много, разберёмся с каждой переменной отдельно, заодно удалим выбросы.\n",
        "Посмотрим на переменную цены:"
      ]
    },
    {
      "cell_type": "code",
      "execution_count": null,
      "metadata": {
        "id": "lBSSobESzLRG",
        "outputId": "5e34b382-403f-460d-b480-e74770b088fe"
      },
      "outputs": [
        {
          "data": {
            "image/png": "[encoded data removed]",
            "text/plain": [
              "<Figure size 720x360 with 1 Axes>"
            ]
          },
          "metadata": {
            "needs_background": "light"
          },
          "output_type": "display_data"
        }
      ],
      "source": [
        "df['price'].hist(bins=30, color = 'Purple', figsize = (10,5))\n",
        "plt.show()"
      ]
    },
    {
      "cell_type": "markdown",
      "metadata": {
        "id": "s2h7gYuozLRH"
      },
      "source": [
        "Распределение цены имеет длинный \"хвост\" справа, но убывает оно плавно. Максимальное значение - 20 тыс. евро. Посмотрим, сколько машин стоит 0 евро."
      ]
    },
    {
      "cell_type": "code",
      "execution_count": null,
      "metadata": {
        "id": "N7PMB3v7zLRH",
        "outputId": "0208e9aa-86ba-4328-e68e-656464553559"
      },
      "outputs": [
        {
          "data": {
            "text/plain": [
              "10772"
            ]
          },
          "execution_count": 8,
          "metadata": {},
          "output_type": "execute_result"
        }
      ],
      "source": [
        "len(df.query('price==0'))"
      ]
    },
    {
      "cell_type": "markdown",
      "metadata": {
        "id": "f1WDmL1UzLRH"
      },
      "source": [
        "Примерно 3% машин стоит 0 евро. Такие цены подозрительны, стоит уточнить у поставщика данных природу таких объявлений. На первый взгляд причины низкой стоимости нет: они обладают обычными характеристиками, они не старше других машин в целом."
      ]
    },
    {
      "cell_type": "code",
      "execution_count": null,
      "metadata": {
        "id": "bApYIEZ-zLRH",
        "outputId": "a4e081a4-00d3-4901-89fa-c0e0824b8e19"
      },
      "outputs": [
        {
          "name": "stdout",
          "output_type": "stream",
          "text": [
            "Медиана года выпуска машин стоимостью 1 и более евро 2003.0\n",
            "Медиана года выпуска машин стоимостью 0 евро 2000.0\n"
          ]
        }
      ],
      "source": [
        "print('Медиана года выпуска машин стоимостью 1 и более евро', df.query('price!=0')['registration_year'].median())\n",
        "print('Медиана года выпуска машин стоимостью 0 евро', df.query('price==0')['registration_year'].median())"
      ]
    },
    {
      "cell_type": "markdown",
      "metadata": {
        "id": "BYyb6sjczLRI"
      },
      "source": [
        "Если посмотреть на характер убывания частоты на начальном участке более пристально, мы увидим необычный пик в районе 0 евро. "
      ]
    },
    {
      "cell_type": "code",
      "execution_count": null,
      "metadata": {
        "id": "DA0BH0a7zLRI",
        "outputId": "bf10d241-d354-45d9-de4a-d55e9bd84be8"
      },
      "outputs": [
        {
          "data": {
            "image/png": "[encoded data removed]",
            "text/plain": [
              "<Figure size 720x360 with 1 Axes>"
            ]
          },
          "metadata": {
            "needs_background": "light"
          },
          "output_type": "display_data"
        }
      ],
      "source": [
        "df.query('price<500')['price'].hist(bins=30, color = 'Purple', figsize = (10,5))\n",
        "plt.show()"
      ]
    },
    {
      "cell_type": "markdown",
      "metadata": {
        "id": "01R_sm3DzLRI"
      },
      "source": [
        "Цены явно тяготеют к круглым значениям с шагом в 50 евро, такова природа воприятия цен потребителями. Т.к. убывание цены идёт не плавно и у нас нет данных, объясняющих нулевую стоимость машин, это могут быть объявления в процессе заполнения, ошибочно заполненные и некорректные объявления, поэтому мы примем решение удалить машины дешевле 50 евро. Оставить пропуски мы не можем, т.к. одно из требований проекта - сравнить результаты с простыми моделями, для которых пропуски критичны. Восстанавливать значения цены также некорректно, т.к. это главный целевой признак."
      ]
    },
    {
      "cell_type": "code",
      "execution_count": null,
      "metadata": {
        "id": "9ftfk2zgzLRI",
        "outputId": "02c464cf-8529-4efc-b7fe-efbe397a6455"
      },
      "outputs": [
        {
          "name": "stdout",
          "output_type": "stream",
          "text": [
            "<class 'pandas.core.frame.DataFrame'>\n",
            "Int64Index: 341942 entries, 0 to 354368\n",
            "Data columns (total 16 columns):\n",
            "date_crawled          341942 non-null object\n",
            "price                 341942 non-null int64\n",
            "vehicle_type          308963 non-null object\n",
            "registration_year     341942 non-null int64\n",
            "gearbox               325278 non-null object\n",
            "power                 341942 non-null int64\n",
            "model                 324779 non-null object\n",
            "kilometer             341942 non-null int64\n",
            "registration_month    341942 non-null int64\n",
            "fuel_type             313229 non-null object\n",
            "brand                 341942 non-null object\n",
            "not_repaired          277079 non-null object\n",
            "date_created          341942 non-null object\n",
            "number_of_pictures    341942 non-null int64\n",
            "postal_code           341942 non-null int64\n",
            "last_seen             341942 non-null object\n",
            "dtypes: int64(7), object(9)\n",
            "memory usage: 44.3+ MB\n"
          ]
        }
      ],
      "source": [
        "df = df.query('price >= 50')\n",
        "df.info()"
      ]
    },
    {
      "cell_type": "markdown",
      "metadata": {
        "id": "AxeY-ygbzLRJ"
      },
      "source": [
        "Посмотрим на типы машин:"
      ]
    },
    {
      "cell_type": "code",
      "execution_count": null,
      "metadata": {
        "id": "VuO8tCGUzLRJ",
        "outputId": "96e03f54-8dda-47ea-c07e-a36f88f046ff"
      },
      "outputs": [
        {
          "data": {
            "image/png": "[encoded data removed]",
            "text/plain": [
              "<Figure size 432x288 with 1 Axes>"
            ]
          },
          "metadata": {
            "needs_background": "light"
          },
          "output_type": "display_data"
        },
        {
          "data": {
            "text/plain": [
              "32979"
            ]
          },
          "execution_count": 12,
          "metadata": {},
          "output_type": "execute_result"
        }
      ],
      "source": [
        "sb.barplot(\n",
        "    x = df.vehicle_type.unique(),\n",
        "    y = [(df['vehicle_type']==i).sum() for i in df.vehicle_type.unique()],\n",
        "    color = 'Purple')\n",
        "plt.show()\n",
        "df.vehicle_type.isna().sum()"
      ]
    },
    {
      "cell_type": "markdown",
      "metadata": {
        "id": "oSc_NgeUzLRJ"
      },
      "source": [
        "Пропусков много, почти десятая часть базы. Можно попытаться восстановить тип кузова по модели и бренду, однако тип кузова не определяется моделью неоднозначно. Поэтому присвоим пропускам текстовое значение \"missing\"."
      ]
    },
    {
      "cell_type": "code",
      "execution_count": null,
      "metadata": {
        "id": "uR4w3EywzLRJ",
        "outputId": "ef9351bd-ce1e-462f-dbe0-cf8a34d958af"
      },
      "outputs": [
        {
          "data": {
            "image/png": "[encoded data removed]",
            "text/plain": [
              "<Figure size 432x288 with 1 Axes>"
            ]
          },
          "metadata": {
            "needs_background": "light"
          },
          "output_type": "display_data"
        },
        {
          "data": {
            "text/plain": [
              "0"
            ]
          },
          "execution_count": 13,
          "metadata": {},
          "output_type": "execute_result"
        }
      ],
      "source": [
        "df.vehicle_type = df.vehicle_type.fillna('missing')\n",
        "sb.barplot(\n",
        "    x = df.vehicle_type.unique(),\n",
        "    y = [(df['vehicle_type']==i).sum() for i in df.vehicle_type.unique()],\n",
        "    color = 'Purple')\n",
        "plt.show()\n",
        "df.vehicle_type.isna().sum()"
      ]
    },
    {
      "cell_type": "markdown",
      "metadata": {
        "id": "5wKSB64zzLRJ"
      },
      "source": [
        "Далее переменная года регистрации автомобиля. В ней нет пропусков, но есть выбросы, которые мы удалим, т.к. их крайне немного:"
      ]
    },
    {
      "cell_type": "code",
      "execution_count": null,
      "metadata": {
        "id": "oJZLh-ryzLRJ",
        "outputId": "f5a1e689-3675-4894-d143-16119d6e01d6"
      },
      "outputs": [
        {
          "data": {
            "text/plain": [
              "count    341942.000000\n",
              "mean       2004.079774\n",
              "std          77.070996\n",
              "min        1000.000000\n",
              "25%        1999.000000\n",
              "50%        2003.000000\n",
              "75%        2008.000000\n",
              "max        9999.000000\n",
              "Name: registration_year, dtype: float64"
            ]
          },
          "execution_count": 14,
          "metadata": {},
          "output_type": "execute_result"
        }
      ],
      "source": [
        "df['registration_year'].describe()"
      ]
    },
    {
      "cell_type": "code",
      "execution_count": null,
      "metadata": {
        "id": "cSpZmfRSzLRK",
        "outputId": "257af952-c6c1-49c4-cb1a-ad5589d21c67"
      },
      "outputs": [
        {
          "data": {
            "text/plain": [
              "array([1000.  , 1319.41, 1910.  , 1932.  , 1942.  , 1951.  , 1954.  ,\n",
              "       1956.  , 1958.  , 1959.  ])"
            ]
          },
          "execution_count": 15,
          "metadata": {},
          "output_type": "execute_result"
        }
      ],
      "source": [
        "np.percentile(df['registration_year'], np.arange(0,0.1,0.01))"
      ]
    },
    {
      "cell_type": "code",
      "execution_count": null,
      "metadata": {
        "id": "emVFET4-zLRK",
        "outputId": "65932a17-97ce-4747-e69b-40731c1d2584"
      },
      "outputs": [
        {
          "data": {
            "text/plain": [
              "array([2018., 2018., 2018., 2018., 2018., 2018., 2018., 2018., 3000.,\n",
              "       6000.])"
            ]
          },
          "execution_count": 16,
          "metadata": {},
          "output_type": "execute_result"
        }
      ],
      "source": [
        "np.percentile(df['registration_year'], np.arange(99.9,100,0.01))"
      ]
    },
    {
      "cell_type": "markdown",
      "metadata": {
        "id": "w3iFkhEwzLRK"
      },
      "source": [
        "Удалим машины \"старше\" 1910 года и \"младше\" 2016 года выпуска, т.к. наша база - от 2016 года, а восстановить год выпуска авто будет рискованно, т.к. эта переменная будет сильно влиять на стоимость."
      ]
    },
    {
      "cell_type": "code",
      "execution_count": null,
      "metadata": {
        "id": "6mDl4T-qzLRK",
        "outputId": "a7539bf3-1cd8-4eb8-9cb7-c4c697a99a74"
      },
      "outputs": [
        {
          "name": "stdout",
          "output_type": "stream",
          "text": [
            "<class 'pandas.core.frame.DataFrame'>\n",
            "Int64Index: 328192 entries, 0 to 354368\n",
            "Data columns (total 16 columns):\n",
            "date_crawled          328192 non-null object\n",
            "price                 328192 non-null int64\n",
            "vehicle_type          328192 non-null object\n",
            "registration_year     328192 non-null int64\n",
            "gearbox               313257 non-null object\n",
            "power                 328192 non-null int64\n",
            "model                 312895 non-null object\n",
            "kilometer             328192 non-null int64\n",
            "registration_month    328192 non-null int64\n",
            "fuel_type             304730 non-null object\n",
            "brand                 328192 non-null object\n",
            "not_repaired          269272 non-null object\n",
            "date_created          328192 non-null object\n",
            "number_of_pictures    328192 non-null int64\n",
            "postal_code           328192 non-null int64\n",
            "last_seen             328192 non-null object\n",
            "dtypes: int64(7), object(9)\n",
            "memory usage: 42.6+ MB\n"
          ]
        }
      ],
      "source": [
        "df = df.query('registration_year >= 1910 and registration_year <= 2016')\n",
        "df.info()"
      ]
    },
    {
      "cell_type": "markdown",
      "metadata": {
        "id": "hbS0UradzLRL"
      },
      "source": [
        "Таких машин оказалось примерно 150 штук.\n",
        "\n",
        "В переменной коробки передач также заполним пропуски на \"missing\":"
      ]
    },
    {
      "cell_type": "code",
      "execution_count": null,
      "metadata": {
        "id": "--RCswfAzLRL",
        "outputId": "1ba3e882-0391-4215-d1e8-52a28c914af5"
      },
      "outputs": [
        {
          "data": {
            "image/png": "[encoded data removed]",
            "text/plain": [
              "<Figure size 432x288 with 1 Axes>"
            ]
          },
          "metadata": {
            "needs_background": "light"
          },
          "output_type": "display_data"
        },
        {
          "data": {
            "text/plain": [
              "0"
            ]
          },
          "execution_count": 18,
          "metadata": {},
          "output_type": "execute_result"
        }
      ],
      "source": [
        "df.gearbox = df.gearbox.fillna('missing')\n",
        "sb.barplot(\n",
        "    x = df.gearbox.unique(),\n",
        "    y = [(df['gearbox']==i).sum() for i in df.gearbox.unique()],\n",
        "    color = 'Purple')\n",
        "plt.show()\n",
        "df.gearbox.isna().sum()"
      ]
    },
    {
      "cell_type": "markdown",
      "metadata": {
        "id": "A0tLCZy-zLRL"
      },
      "source": [
        "Далее распределение мощности двигателя. Пропусков здесь нет, но критические минимальные и слишком высокие значения есть:"
      ]
    },
    {
      "cell_type": "code",
      "execution_count": null,
      "metadata": {
        "id": "JCdezBHozLRL",
        "outputId": "515717c9-e8eb-457c-caf5-70a387882f84"
      },
      "outputs": [
        {
          "data": {
            "text/plain": [
              "count    328192.000000\n",
              "mean        112.135055\n",
              "std         185.103679\n",
              "min           0.000000\n",
              "25%          71.000000\n",
              "50%         105.000000\n",
              "75%         143.000000\n",
              "max       20000.000000\n",
              "Name: power, dtype: float64"
            ]
          },
          "execution_count": 19,
          "metadata": {},
          "output_type": "execute_result"
        }
      ],
      "source": [
        "df['power'].describe()"
      ]
    },
    {
      "cell_type": "code",
      "execution_count": null,
      "metadata": {
        "id": "ZyIXGNXfzLRL",
        "outputId": "23793405-a428-482c-d6f7-99064c72c930"
      },
      "outputs": [
        {
          "data": {
            "text/plain": [
              "array([ 0.,  0.,  0.,  0.,  0.,  0.,  0.,  0.,  0.,  0., 27., 45., 50.,\n",
              "       54., 54.])"
            ]
          },
          "execution_count": 20,
          "metadata": {},
          "output_type": "execute_result"
        }
      ],
      "source": [
        "np.percentile(df['power'], np.arange(0,15,1))"
      ]
    },
    {
      "cell_type": "code",
      "execution_count": null,
      "metadata": {
        "id": "ECMA04M1zLRL",
        "outputId": "61989c98-a17f-4d8f-f8b3-3659f3e0345d"
      },
      "outputs": [
        {
          "data": {
            "text/plain": [
              "array([  334.        ,   340.        ,   340.        ,   340.        ,\n",
              "         340.        ,   340.        ,   340.        ,   340.7787    ,\n",
              "         343.        ,   344.        ,   344.        ,   344.        ,\n",
              "         345.        ,   347.        ,   349.        ,   349.        ,\n",
              "         350.        ,   354.        ,   354.        ,   355.        ,\n",
              "         360.        ,   363.        ,   367.        ,   367.        ,\n",
              "         370.7034    ,   385.        ,   387.        ,   387.        ,\n",
              "         394.        ,   400.        ,   400.        ,   420.        ,\n",
              "         435.        ,   442.2259    ,   450.        ,   450.        ,\n",
              "         459.5326    ,   479.86870001,   500.        ,   518.9798    ,\n",
              "         600.        ,   738.90910001,   999.4472    ,  1100.7989    ,\n",
              "        1360.1708    ,  1545.42150002,  1782.4472    ,  2006.0854    ,\n",
              "        5833.81360004, 10746.18000016])"
            ]
          },
          "execution_count": 21,
          "metadata": {},
          "output_type": "execute_result"
        }
      ],
      "source": [
        "np.percentile(df['power'], np.arange(99.5,100,0.01))"
      ]
    },
    {
      "cell_type": "markdown",
      "metadata": {
        "id": "kIM8nRIZzLRM"
      },
      "source": [
        "Отсутствуют данные (стоит 0) у 11% базы, и это много, чтобы удалить данный массив. Однако мы в ходе исследования мы выяснили, что мощность машины сильно зависит от её типа:"
      ]
    },
    {
      "cell_type": "code",
      "execution_count": null,
      "metadata": {
        "id": "Bu9Z-uRAzLRM",
        "outputId": "e0680501-505b-4eb6-ae97-5e12321d30b7"
      },
      "outputs": [
        {
          "data": {
            "text/plain": [
              "vehicle_type\n",
              "bus            111.993951\n",
              "convertible    132.415510\n",
              "coupe          154.209972\n",
              "missing         62.987012\n",
              "other           98.150573\n",
              "sedan          127.857657\n",
              "small           68.787715\n",
              "suv            154.920952\n",
              "wagon          134.215038\n",
              "Name: power, dtype: float64"
            ]
          },
          "execution_count": 22,
          "metadata": {},
          "output_type": "execute_result"
        }
      ],
      "source": [
        "df.groupby('vehicle_type')['power'].mean()"
      ]
    },
    {
      "cell_type": "code",
      "execution_count": null,
      "metadata": {
        "id": "kmlOsI7XzLRM",
        "outputId": "0c3dc5f7-db76-4d1f-b71d-9dcb59ad8a8a"
      },
      "outputs": [
        {
          "name": "stdout",
          "output_type": "stream",
          "text": [
            "0.0\n",
            "Между missing и coupe ЕСТЬ значимые отличия\n",
            "0.0\n",
            "Между missing и suv ЕСТЬ значимые отличия\n",
            "3.1693841618716616e-05\n",
            "Между missing и small ЕСТЬ значимые отличия\n",
            "0.0\n",
            "Между missing и sedan ЕСТЬ значимые отличия\n",
            "0.0\n",
            "Между missing и convertible ЕСТЬ значимые отличия\n",
            "2.325177504290978e-206\n",
            "Между missing и bus ЕСТЬ значимые отличия\n",
            "0.0\n",
            "Между missing и wagon ЕСТЬ значимые отличия\n",
            "2.7118741613430657e-08\n",
            "Между missing и other ЕСТЬ значимые отличия\n",
            "0.706419668513222\n",
            "Между coupe и suv нет значимых отличий\n",
            "0.0\n",
            "Между coupe и small ЕСТЬ значимые отличия\n",
            "6.200690917060457e-47\n",
            "Между coupe и sedan ЕСТЬ значимые отличия\n",
            "1.8061124806549483e-24\n",
            "Между coupe и convertible ЕСТЬ значимые отличия\n",
            "1.2332068135818887e-101\n",
            "Между coupe и bus ЕСТЬ значимые отличия\n",
            "1.2292175160104327e-24\n",
            "Между coupe и wagon ЕСТЬ значимые отличия\n",
            "3.561947918341197e-18\n",
            "Между coupe и other ЕСТЬ значимые отличия\n",
            "0.0\n",
            "Между suv и small ЕСТЬ значимые отличия\n",
            "1.82139687819873e-170\n",
            "Между suv и sedan ЕСТЬ значимые отличия\n",
            "4.494125351344025e-53\n",
            "Между suv и convertible ЕСТЬ значимые отличия\n",
            "1.0077723007552786e-273\n",
            "Между suv и bus ЕСТЬ значимые отличия\n",
            "1.5008244840110885e-68\n",
            "Между suv и wagon ЕСТЬ значимые отличия\n",
            "1.302033714241023e-19\n",
            "Между suv и other ЕСТЬ значимые отличия\n",
            "0.0\n",
            "Между small и sedan ЕСТЬ значимые отличия\n",
            "0.0\n",
            "Между small и convertible ЕСТЬ значимые отличия\n",
            "0.0\n",
            "Между small и bus ЕСТЬ значимые отличия\n",
            "0.0\n",
            "Между small и wagon ЕСТЬ значимые отличия\n",
            "2.2891338191053372e-06\n",
            "Между small и other ЕСТЬ значимые отличия\n",
            "0.001004381173822724\n",
            "Между sedan и convertible ЕСТЬ значимые отличия\n",
            "1.6133985900402508e-46\n",
            "Между sedan и bus ЕСТЬ значимые отличия\n",
            "4.192292947696051e-09\n",
            "Между sedan и wagon ЕСТЬ значимые отличия\n",
            "1.7762398384280313e-06\n",
            "Между sedan и other ЕСТЬ значимые отличия\n",
            "5.085200011762125e-39\n",
            "Между convertible и bus ЕСТЬ значимые отличия\n",
            "0.24370405695779918\n",
            "Между convertible и wagon нет значимых отличий\n",
            "5.844199590841298e-08\n",
            "Между convertible и other ЕСТЬ значимые отличия\n",
            "1.8095079261091223e-65\n",
            "Между bus и wagon ЕСТЬ значимые отличия\n",
            "0.026785058072120872\n",
            "Между bus и other нет значимых отличий\n",
            "8.375217057059466e-09\n",
            "Между wagon и other ЕСТЬ значимые отличия\n"
          ]
        }
      ],
      "source": [
        "from itertools import combinations\n",
        "\n",
        "rating_combinations = [i for i in combinations(df['vehicle_type'].unique(), 2)]\n",
        "num_comb = len(rating_combinations)\n",
        "\n",
        "alpha = 0.05\n",
        "\n",
        "for a, b in rating_combinations:\n",
        "    a_data = df.loc[df['vehicle_type'] == a, 'power']\n",
        "    b_data = df.loc[df['vehicle_type'] == b, 'power']\n",
        "    _, p_value = st.ttest_ind(a_data, b_data, equal_var=False)\n",
        "    \n",
        "    print(p_value)\n",
        "    if p_value > alpha / num_comb:\n",
        "        print(f'Между {a} и {b} нет значимых отличий')\n",
        "    else:\n",
        "        print(f'Между {a} и {b} ЕСТЬ значимые отличия')"
      ]
    },
    {
      "cell_type": "markdown",
      "metadata": {
        "id": "ASJ2DRxizLRM"
      },
      "source": [
        "Заменим мощность машин, у которых указан 0 или значение больше 1000 на медиану мощности данного типа кузова:"
      ]
    },
    {
      "cell_type": "code",
      "execution_count": null,
      "metadata": {
        "id": "QYeozBubzLRM",
        "outputId": "1ee96460-7d20-4c0f-f267-a2c54300d39b"
      },
      "outputs": [
        {
          "data": {
            "text/plain": [
              "0"
            ]
          },
          "execution_count": 24,
          "metadata": {},
          "output_type": "execute_result"
        }
      ],
      "source": [
        "df.power = df.query('power > 0 and power <= 1000').power\n",
        "df.power = df.power.fillna(df.groupby('vehicle_type')['power'].transform('median'))\n",
        "df.power.isna().sum()"
      ]
    },
    {
      "cell_type": "markdown",
      "metadata": {
        "id": "pmUNtWz8zLRN"
      },
      "source": [
        "В переменной модели машины также заполним пропуски на \"missing\". Моделей много, группы наполнены по-разному, кроме заполнения пропусков данную переменную скорректировать сложно."
      ]
    },
    {
      "cell_type": "code",
      "execution_count": null,
      "metadata": {
        "id": "f0kKzq-hzLRN",
        "outputId": "cda67824-dc05-4dda-d051-10bdffc71e7d"
      },
      "outputs": [
        {
          "data": {
            "text/plain": [
              "0"
            ]
          },
          "execution_count": 25,
          "metadata": {},
          "output_type": "execute_result"
        }
      ],
      "source": [
        "df.model = df.model.fillna('missing')\n",
        "df.model.isna().sum()"
      ]
    },
    {
      "cell_type": "markdown",
      "metadata": {
        "id": "X96Uq01dzLRN"
      },
      "source": [
        "Далее переменная пробега авто:"
      ]
    },
    {
      "cell_type": "code",
      "execution_count": null,
      "metadata": {
        "id": "l7SFUruyzLRN",
        "outputId": "7ad8c6ee-1bb8-4076-d21f-ce2ffc066094"
      },
      "outputs": [
        {
          "data": {
            "image/png": "[encoded data removed]",
            "text/plain": [
              "<Figure size 720x360 with 1 Axes>"
            ]
          },
          "metadata": {
            "needs_background": "light"
          },
          "output_type": "display_data"
        }
      ],
      "source": [
        "df['kilometer'].hist(bins=30, color = 'Purple', figsize = (10,5))\n",
        "plt.show()"
      ]
    },
    {
      "cell_type": "code",
      "execution_count": null,
      "metadata": {
        "id": "Lp6rZZcRzLRN",
        "outputId": "7cff35e6-6fc6-4b7f-cdfb-403104129356"
      },
      "outputs": [
        {
          "data": {
            "text/plain": [
              "0"
            ]
          },
          "execution_count": 27,
          "metadata": {},
          "output_type": "execute_result"
        }
      ],
      "source": [
        "df.kilometer.isna().sum()"
      ]
    },
    {
      "cell_type": "markdown",
      "metadata": {
        "id": "0dkvNlThzLRO"
      },
      "source": [
        "Пропусков нет, нулевых значений, тоже, но большая часть базы имеет константное зачение пробега:"
      ]
    },
    {
      "cell_type": "code",
      "execution_count": null,
      "metadata": {
        "id": "YjOUv28izLRO",
        "outputId": "b4447b3c-f87e-4cbf-f480-0933f6f91778"
      },
      "outputs": [
        {
          "data": {
            "text/plain": [
              "150000    219576\n",
              "125000     34338\n",
              "100000     13931\n",
              "90000      11023\n",
              "80000       9590\n",
              "70000       8255\n",
              "60000       7204\n",
              "50000       5985\n",
              "40000       4757\n",
              "5000        4613\n",
              "30000       4209\n",
              "20000       3664\n",
              "10000       1047\n",
              "Name: kilometer, dtype: int64"
            ]
          },
          "execution_count": 28,
          "metadata": {},
          "output_type": "execute_result"
        }
      ],
      "source": [
        "df.kilometer.value_counts()"
      ]
    },
    {
      "cell_type": "markdown",
      "metadata": {
        "id": "Qp4mVH0JzLRO"
      },
      "source": [
        "150 000 км - некритично для машины. Однако доля таких машин в базе кажется странной: на auto.ru количество машин с пробегом до 150 000 км на 13.02.22 г. составляет 2/3 активной базы. В анализируемой базе таких машин 1/3. Также, переменная дискретна: она принимает всего 13 видов значений, что делает её категориальной. Создадим новую переменную, которую будем использовать в моделях."
      ]
    },
    {
      "cell_type": "code",
      "execution_count": null,
      "metadata": {
        "id": "RqsBeM7VzLRO",
        "outputId": "c6536993-4aa7-451c-bd88-5554600c14a3"
      },
      "outputs": [
        {
          "data": {
            "text/html": [
              "<div>\n",
              "<style scoped>\n",
              "    .dataframe tbody tr th:only-of-type {\n",
              "        vertical-align: middle;\n",
              "    }\n",
              "\n",
              "    .dataframe tbody tr th {\n",
              "        vertical-align: top;\n",
              "    }\n",
              "\n",
              "    .dataframe thead th {\n",
              "        text-align: right;\n",
              "    }\n",
              "</style>\n",
              "<table border=\"1\" class=\"dataframe\">\n",
              "  <thead>\n",
              "    <tr style=\"text-align: right;\">\n",
              "      <th></th>\n",
              "      <th>date_crawled</th>\n",
              "      <th>price</th>\n",
              "      <th>vehicle_type</th>\n",
              "      <th>registration_year</th>\n",
              "      <th>gearbox</th>\n",
              "      <th>power</th>\n",
              "      <th>model</th>\n",
              "      <th>kilometer</th>\n",
              "      <th>registration_month</th>\n",
              "      <th>fuel_type</th>\n",
              "      <th>brand</th>\n",
              "      <th>not_repaired</th>\n",
              "      <th>date_created</th>\n",
              "      <th>number_of_pictures</th>\n",
              "      <th>postal_code</th>\n",
              "      <th>last_seen</th>\n",
              "      <th>kilometer_cat</th>\n",
              "    </tr>\n",
              "  </thead>\n",
              "  <tbody>\n",
              "    <tr>\n",
              "      <td>0</td>\n",
              "      <td>2016-03-24 11:52:17</td>\n",
              "      <td>480</td>\n",
              "      <td>missing</td>\n",
              "      <td>1993</td>\n",
              "      <td>manual</td>\n",
              "      <td>100.0</td>\n",
              "      <td>golf</td>\n",
              "      <td>150000</td>\n",
              "      <td>0</td>\n",
              "      <td>petrol</td>\n",
              "      <td>volkswagen</td>\n",
              "      <td>NaN</td>\n",
              "      <td>2016-03-24 00:00:00</td>\n",
              "      <td>0</td>\n",
              "      <td>70435</td>\n",
              "      <td>2016-04-07 03:16:57</td>\n",
              "      <td>125K km and more</td>\n",
              "    </tr>\n",
              "    <tr>\n",
              "      <td>1</td>\n",
              "      <td>2016-03-24 10:58:45</td>\n",
              "      <td>18300</td>\n",
              "      <td>coupe</td>\n",
              "      <td>2011</td>\n",
              "      <td>manual</td>\n",
              "      <td>190.0</td>\n",
              "      <td>missing</td>\n",
              "      <td>125000</td>\n",
              "      <td>5</td>\n",
              "      <td>gasoline</td>\n",
              "      <td>audi</td>\n",
              "      <td>yes</td>\n",
              "      <td>2016-03-24 00:00:00</td>\n",
              "      <td>0</td>\n",
              "      <td>66954</td>\n",
              "      <td>2016-04-07 01:46:50</td>\n",
              "      <td>100-125K km</td>\n",
              "    </tr>\n",
              "    <tr>\n",
              "      <td>2</td>\n",
              "      <td>2016-03-14 12:52:21</td>\n",
              "      <td>9800</td>\n",
              "      <td>suv</td>\n",
              "      <td>2004</td>\n",
              "      <td>auto</td>\n",
              "      <td>163.0</td>\n",
              "      <td>grand</td>\n",
              "      <td>125000</td>\n",
              "      <td>8</td>\n",
              "      <td>gasoline</td>\n",
              "      <td>jeep</td>\n",
              "      <td>NaN</td>\n",
              "      <td>2016-03-14 00:00:00</td>\n",
              "      <td>0</td>\n",
              "      <td>90480</td>\n",
              "      <td>2016-04-05 12:47:46</td>\n",
              "      <td>100-125K km</td>\n",
              "    </tr>\n",
              "    <tr>\n",
              "      <td>3</td>\n",
              "      <td>2016-03-17 16:54:04</td>\n",
              "      <td>1500</td>\n",
              "      <td>small</td>\n",
              "      <td>2001</td>\n",
              "      <td>manual</td>\n",
              "      <td>75.0</td>\n",
              "      <td>golf</td>\n",
              "      <td>150000</td>\n",
              "      <td>6</td>\n",
              "      <td>petrol</td>\n",
              "      <td>volkswagen</td>\n",
              "      <td>no</td>\n",
              "      <td>2016-03-17 00:00:00</td>\n",
              "      <td>0</td>\n",
              "      <td>91074</td>\n",
              "      <td>2016-03-17 17:40:17</td>\n",
              "      <td>125K km and more</td>\n",
              "    </tr>\n",
              "    <tr>\n",
              "      <td>4</td>\n",
              "      <td>2016-03-31 17:25:20</td>\n",
              "      <td>3600</td>\n",
              "      <td>small</td>\n",
              "      <td>2008</td>\n",
              "      <td>manual</td>\n",
              "      <td>69.0</td>\n",
              "      <td>fabia</td>\n",
              "      <td>90000</td>\n",
              "      <td>7</td>\n",
              "      <td>gasoline</td>\n",
              "      <td>skoda</td>\n",
              "      <td>no</td>\n",
              "      <td>2016-03-31 00:00:00</td>\n",
              "      <td>0</td>\n",
              "      <td>60437</td>\n",
              "      <td>2016-04-06 10:17:21</td>\n",
              "      <td>80-90K km</td>\n",
              "    </tr>\n",
              "    <tr>\n",
              "      <td>...</td>\n",
              "      <td>...</td>\n",
              "      <td>...</td>\n",
              "      <td>...</td>\n",
              "      <td>...</td>\n",
              "      <td>...</td>\n",
              "      <td>...</td>\n",
              "      <td>...</td>\n",
              "      <td>...</td>\n",
              "      <td>...</td>\n",
              "      <td>...</td>\n",
              "      <td>...</td>\n",
              "      <td>...</td>\n",
              "      <td>...</td>\n",
              "      <td>...</td>\n",
              "      <td>...</td>\n",
              "      <td>...</td>\n",
              "      <td>...</td>\n",
              "    </tr>\n",
              "    <tr>\n",
              "      <td>354363</td>\n",
              "      <td>2016-03-27 20:36:20</td>\n",
              "      <td>1150</td>\n",
              "      <td>bus</td>\n",
              "      <td>2000</td>\n",
              "      <td>manual</td>\n",
              "      <td>116.0</td>\n",
              "      <td>zafira</td>\n",
              "      <td>150000</td>\n",
              "      <td>3</td>\n",
              "      <td>petrol</td>\n",
              "      <td>opel</td>\n",
              "      <td>no</td>\n",
              "      <td>2016-03-27 00:00:00</td>\n",
              "      <td>0</td>\n",
              "      <td>26624</td>\n",
              "      <td>2016-03-29 10:17:23</td>\n",
              "      <td>125K km and more</td>\n",
              "    </tr>\n",
              "    <tr>\n",
              "      <td>354365</td>\n",
              "      <td>2016-03-14 17:48:27</td>\n",
              "      <td>2200</td>\n",
              "      <td>missing</td>\n",
              "      <td>2005</td>\n",
              "      <td>missing</td>\n",
              "      <td>100.0</td>\n",
              "      <td>missing</td>\n",
              "      <td>20000</td>\n",
              "      <td>1</td>\n",
              "      <td>NaN</td>\n",
              "      <td>sonstige_autos</td>\n",
              "      <td>NaN</td>\n",
              "      <td>2016-03-14 00:00:00</td>\n",
              "      <td>0</td>\n",
              "      <td>39576</td>\n",
              "      <td>2016-04-06 00:46:52</td>\n",
              "      <td>10-20K km</td>\n",
              "    </tr>\n",
              "    <tr>\n",
              "      <td>354366</td>\n",
              "      <td>2016-03-05 19:56:21</td>\n",
              "      <td>1199</td>\n",
              "      <td>convertible</td>\n",
              "      <td>2000</td>\n",
              "      <td>auto</td>\n",
              "      <td>101.0</td>\n",
              "      <td>fortwo</td>\n",
              "      <td>125000</td>\n",
              "      <td>3</td>\n",
              "      <td>petrol</td>\n",
              "      <td>smart</td>\n",
              "      <td>no</td>\n",
              "      <td>2016-03-05 00:00:00</td>\n",
              "      <td>0</td>\n",
              "      <td>26135</td>\n",
              "      <td>2016-03-11 18:17:12</td>\n",
              "      <td>100-125K km</td>\n",
              "    </tr>\n",
              "    <tr>\n",
              "      <td>354367</td>\n",
              "      <td>2016-03-19 18:57:12</td>\n",
              "      <td>9200</td>\n",
              "      <td>bus</td>\n",
              "      <td>1996</td>\n",
              "      <td>manual</td>\n",
              "      <td>102.0</td>\n",
              "      <td>transporter</td>\n",
              "      <td>150000</td>\n",
              "      <td>3</td>\n",
              "      <td>gasoline</td>\n",
              "      <td>volkswagen</td>\n",
              "      <td>no</td>\n",
              "      <td>2016-03-19 00:00:00</td>\n",
              "      <td>0</td>\n",
              "      <td>87439</td>\n",
              "      <td>2016-04-07 07:15:26</td>\n",
              "      <td>125K km and more</td>\n",
              "    </tr>\n",
              "    <tr>\n",
              "      <td>354368</td>\n",
              "      <td>2016-03-20 19:41:08</td>\n",
              "      <td>3400</td>\n",
              "      <td>wagon</td>\n",
              "      <td>2002</td>\n",
              "      <td>manual</td>\n",
              "      <td>100.0</td>\n",
              "      <td>golf</td>\n",
              "      <td>150000</td>\n",
              "      <td>6</td>\n",
              "      <td>gasoline</td>\n",
              "      <td>volkswagen</td>\n",
              "      <td>NaN</td>\n",
              "      <td>2016-03-20 00:00:00</td>\n",
              "      <td>0</td>\n",
              "      <td>40764</td>\n",
              "      <td>2016-03-24 12:45:21</td>\n",
              "      <td>125K km and more</td>\n",
              "    </tr>\n",
              "  </tbody>\n",
              "</table>\n",
              "<p>328192 rows × 17 columns</p>\n",
              "</div>"
            ],
            "text/plain": [
              "               date_crawled  price vehicle_type  registration_year  gearbox  \\\n",
              "0       2016-03-24 11:52:17    480      missing               1993   manual   \n",
              "1       2016-03-24 10:58:45  18300        coupe               2011   manual   \n",
              "2       2016-03-14 12:52:21   9800          suv               2004     auto   \n",
              "3       2016-03-17 16:54:04   1500        small               2001   manual   \n",
              "4       2016-03-31 17:25:20   3600        small               2008   manual   \n",
              "...                     ...    ...          ...                ...      ...   \n",
              "354363  2016-03-27 20:36:20   1150          bus               2000   manual   \n",
              "354365  2016-03-14 17:48:27   2200      missing               2005  missing   \n",
              "354366  2016-03-05 19:56:21   1199  convertible               2000     auto   \n",
              "354367  2016-03-19 18:57:12   9200          bus               1996   manual   \n",
              "354368  2016-03-20 19:41:08   3400        wagon               2002   manual   \n",
              "\n",
              "        power        model  kilometer  registration_month fuel_type  \\\n",
              "0       100.0         golf     150000                   0    petrol   \n",
              "1       190.0      missing     125000                   5  gasoline   \n",
              "2       163.0        grand     125000                   8  gasoline   \n",
              "3        75.0         golf     150000                   6    petrol   \n",
              "4        69.0        fabia      90000                   7  gasoline   \n",
              "...       ...          ...        ...                 ...       ...   \n",
              "354363  116.0       zafira     150000                   3    petrol   \n",
              "354365  100.0      missing      20000                   1       NaN   \n",
              "354366  101.0       fortwo     125000                   3    petrol   \n",
              "354367  102.0  transporter     150000                   3  gasoline   \n",
              "354368  100.0         golf     150000                   6  gasoline   \n",
              "\n",
              "                 brand not_repaired         date_created  number_of_pictures  \\\n",
              "0           volkswagen          NaN  2016-03-24 00:00:00                   0   \n",
              "1                 audi          yes  2016-03-24 00:00:00                   0   \n",
              "2                 jeep          NaN  2016-03-14 00:00:00                   0   \n",
              "3           volkswagen           no  2016-03-17 00:00:00                   0   \n",
              "4                skoda           no  2016-03-31 00:00:00                   0   \n",
              "...                ...          ...                  ...                 ...   \n",
              "354363            opel           no  2016-03-27 00:00:00                   0   \n",
              "354365  sonstige_autos          NaN  2016-03-14 00:00:00                   0   \n",
              "354366           smart           no  2016-03-05 00:00:00                   0   \n",
              "354367      volkswagen           no  2016-03-19 00:00:00                   0   \n",
              "354368      volkswagen          NaN  2016-03-20 00:00:00                   0   \n",
              "\n",
              "        postal_code            last_seen     kilometer_cat  \n",
              "0             70435  2016-04-07 03:16:57  125K km and more  \n",
              "1             66954  2016-04-07 01:46:50       100-125K km  \n",
              "2             90480  2016-04-05 12:47:46       100-125K km  \n",
              "3             91074  2016-03-17 17:40:17  125K km and more  \n",
              "4             60437  2016-04-06 10:17:21         80-90K km  \n",
              "...             ...                  ...               ...  \n",
              "354363        26624  2016-03-29 10:17:23  125K km and more  \n",
              "354365        39576  2016-04-06 00:46:52         10-20K km  \n",
              "354366        26135  2016-03-11 18:17:12       100-125K km  \n",
              "354367        87439  2016-04-07 07:15:26  125K km and more  \n",
              "354368        40764  2016-03-24 12:45:21  125K km and more  \n",
              "\n",
              "[328192 rows x 17 columns]"
            ]
          },
          "execution_count": 29,
          "metadata": {},
          "output_type": "execute_result"
        }
      ],
      "source": [
        "kilometer_map = {\n",
        "    5000: 'up to 5K km',\n",
        "    10000: '5-10K km',\n",
        "    20000: '10-20K km',\n",
        "    30000: '20-30K km',\n",
        "    40000: '30-40K km',\n",
        "    50000: '40-50K km',\n",
        "    60000: '50-60K km',\n",
        "    70000: '60-70K km',\n",
        "    80000: '70-80K km',\n",
        "    90000: '80-90K km',\n",
        "    100000: '90-100K km',\n",
        "    125000: '100-125K km',\n",
        "    150000: '125K km and more'\n",
        "}\n",
        "df['kilometer_cat'] = df['kilometer'].map(kilometer_map)\n",
        "df"
      ]
    },
    {
      "cell_type": "markdown",
      "metadata": {
        "id": "bcwCgzSCzLRO"
      },
      "source": [
        "Переменную месяца регистрации автомобиля мы в прогноз стоимости автомобиля включать не будем, т.к. на цену влияет год, но никак не месяц выпуска авто.\n",
        "\n",
        "Далее переменная типа топлива. Здесь пропусков немного, включим их в категорию \"missing\"."
      ]
    },
    {
      "cell_type": "code",
      "execution_count": null,
      "metadata": {
        "id": "5rZjH0uqzLRO",
        "outputId": "3dfc627b-e76f-49c7-c23c-f90a67b9b980"
      },
      "outputs": [
        {
          "data": {
            "image/png": "[encoded data removed]",
            "text/plain": [
              "<Figure size 432x288 with 1 Axes>"
            ]
          },
          "metadata": {
            "needs_background": "light"
          },
          "output_type": "display_data"
        },
        {
          "data": {
            "text/plain": [
              "0"
            ]
          },
          "execution_count": 30,
          "metadata": {},
          "output_type": "execute_result"
        }
      ],
      "source": [
        "df.fuel_type = df.fuel_type.fillna('missing')\n",
        "sb.barplot(\n",
        "    x = df.fuel_type.unique(),\n",
        "    y = [(df['fuel_type']==i).sum() for i in df.fuel_type.unique()],\n",
        "    color = 'Purple')\n",
        "plt.show()\n",
        "df.fuel_type.isna().sum()"
      ]
    },
    {
      "cell_type": "code",
      "execution_count": null,
      "metadata": {
        "id": "xuk9UUtzzLRO",
        "outputId": "aecc61c7-a243-4404-f892-3234178560fc"
      },
      "outputs": [
        {
          "data": {
            "text/plain": [
              "petrol      204073\n",
              "gasoline     94660\n",
              "missing      23462\n",
              "lpg           5012\n",
              "cng            530\n",
              "hybrid         219\n",
              "other          150\n",
              "electric        86\n",
              "Name: fuel_type, dtype: int64"
            ]
          },
          "execution_count": 31,
          "metadata": {},
          "output_type": "execute_result"
        }
      ],
      "source": [
        "df.fuel_type.value_counts()"
      ]
    },
    {
      "cell_type": "markdown",
      "metadata": {
        "id": "q7qTXi1nzLRO"
      },
      "source": [
        "Категории электрокаров и гибридов объединим ввиду малонаполненности и схожести по сути. Также объединим lpg и cng, т.к. и то, и другое газ. Нам придётся объединить и petrol с gasoline, т.к. и то, и другое - бензин, называемый по-разному в разных странах Европы (в Британии прежде всего)."
      ]
    },
    {
      "cell_type": "code",
      "execution_count": null,
      "metadata": {
        "id": "4ULGBIFXzLRP",
        "outputId": "e7a56652-30d2-496c-890d-c970cda1fd7c"
      },
      "outputs": [
        {
          "data": {
            "text/html": [
              "<div>\n",
              "<style scoped>\n",
              "    .dataframe tbody tr th:only-of-type {\n",
              "        vertical-align: middle;\n",
              "    }\n",
              "\n",
              "    .dataframe tbody tr th {\n",
              "        vertical-align: top;\n",
              "    }\n",
              "\n",
              "    .dataframe thead th {\n",
              "        text-align: right;\n",
              "    }\n",
              "</style>\n",
              "<table border=\"1\" class=\"dataframe\">\n",
              "  <thead>\n",
              "    <tr style=\"text-align: right;\">\n",
              "      <th></th>\n",
              "      <th>date_crawled</th>\n",
              "      <th>price</th>\n",
              "      <th>vehicle_type</th>\n",
              "      <th>registration_year</th>\n",
              "      <th>gearbox</th>\n",
              "      <th>power</th>\n",
              "      <th>model</th>\n",
              "      <th>kilometer</th>\n",
              "      <th>registration_month</th>\n",
              "      <th>fuel_type</th>\n",
              "      <th>brand</th>\n",
              "      <th>not_repaired</th>\n",
              "      <th>date_created</th>\n",
              "      <th>number_of_pictures</th>\n",
              "      <th>postal_code</th>\n",
              "      <th>last_seen</th>\n",
              "      <th>kilometer_cat</th>\n",
              "      <th>fuel_retyped</th>\n",
              "    </tr>\n",
              "  </thead>\n",
              "  <tbody>\n",
              "    <tr>\n",
              "      <td>0</td>\n",
              "      <td>2016-03-24 11:52:17</td>\n",
              "      <td>480</td>\n",
              "      <td>missing</td>\n",
              "      <td>1993</td>\n",
              "      <td>manual</td>\n",
              "      <td>100.0</td>\n",
              "      <td>golf</td>\n",
              "      <td>150000</td>\n",
              "      <td>0</td>\n",
              "      <td>petrol</td>\n",
              "      <td>volkswagen</td>\n",
              "      <td>NaN</td>\n",
              "      <td>2016-03-24 00:00:00</td>\n",
              "      <td>0</td>\n",
              "      <td>70435</td>\n",
              "      <td>2016-04-07 03:16:57</td>\n",
              "      <td>125K km and more</td>\n",
              "      <td>gasoline</td>\n",
              "    </tr>\n",
              "    <tr>\n",
              "      <td>1</td>\n",
              "      <td>2016-03-24 10:58:45</td>\n",
              "      <td>18300</td>\n",
              "      <td>coupe</td>\n",
              "      <td>2011</td>\n",
              "      <td>manual</td>\n",
              "      <td>190.0</td>\n",
              "      <td>missing</td>\n",
              "      <td>125000</td>\n",
              "      <td>5</td>\n",
              "      <td>gasoline</td>\n",
              "      <td>audi</td>\n",
              "      <td>yes</td>\n",
              "      <td>2016-03-24 00:00:00</td>\n",
              "      <td>0</td>\n",
              "      <td>66954</td>\n",
              "      <td>2016-04-07 01:46:50</td>\n",
              "      <td>100-125K km</td>\n",
              "      <td>gasoline</td>\n",
              "    </tr>\n",
              "    <tr>\n",
              "      <td>2</td>\n",
              "      <td>2016-03-14 12:52:21</td>\n",
              "      <td>9800</td>\n",
              "      <td>suv</td>\n",
              "      <td>2004</td>\n",
              "      <td>auto</td>\n",
              "      <td>163.0</td>\n",
              "      <td>grand</td>\n",
              "      <td>125000</td>\n",
              "      <td>8</td>\n",
              "      <td>gasoline</td>\n",
              "      <td>jeep</td>\n",
              "      <td>NaN</td>\n",
              "      <td>2016-03-14 00:00:00</td>\n",
              "      <td>0</td>\n",
              "      <td>90480</td>\n",
              "      <td>2016-04-05 12:47:46</td>\n",
              "      <td>100-125K km</td>\n",
              "      <td>gasoline</td>\n",
              "    </tr>\n",
              "    <tr>\n",
              "      <td>3</td>\n",
              "      <td>2016-03-17 16:54:04</td>\n",
              "      <td>1500</td>\n",
              "      <td>small</td>\n",
              "      <td>2001</td>\n",
              "      <td>manual</td>\n",
              "      <td>75.0</td>\n",
              "      <td>golf</td>\n",
              "      <td>150000</td>\n",
              "      <td>6</td>\n",
              "      <td>petrol</td>\n",
              "      <td>volkswagen</td>\n",
              "      <td>no</td>\n",
              "      <td>2016-03-17 00:00:00</td>\n",
              "      <td>0</td>\n",
              "      <td>91074</td>\n",
              "      <td>2016-03-17 17:40:17</td>\n",
              "      <td>125K km and more</td>\n",
              "      <td>gasoline</td>\n",
              "    </tr>\n",
              "    <tr>\n",
              "      <td>4</td>\n",
              "      <td>2016-03-31 17:25:20</td>\n",
              "      <td>3600</td>\n",
              "      <td>small</td>\n",
              "      <td>2008</td>\n",
              "      <td>manual</td>\n",
              "      <td>69.0</td>\n",
              "      <td>fabia</td>\n",
              "      <td>90000</td>\n",
              "      <td>7</td>\n",
              "      <td>gasoline</td>\n",
              "      <td>skoda</td>\n",
              "      <td>no</td>\n",
              "      <td>2016-03-31 00:00:00</td>\n",
              "      <td>0</td>\n",
              "      <td>60437</td>\n",
              "      <td>2016-04-06 10:17:21</td>\n",
              "      <td>80-90K km</td>\n",
              "      <td>gasoline</td>\n",
              "    </tr>\n",
              "    <tr>\n",
              "      <td>...</td>\n",
              "      <td>...</td>\n",
              "      <td>...</td>\n",
              "      <td>...</td>\n",
              "      <td>...</td>\n",
              "      <td>...</td>\n",
              "      <td>...</td>\n",
              "      <td>...</td>\n",
              "      <td>...</td>\n",
              "      <td>...</td>\n",
              "      <td>...</td>\n",
              "      <td>...</td>\n",
              "      <td>...</td>\n",
              "      <td>...</td>\n",
              "      <td>...</td>\n",
              "      <td>...</td>\n",
              "      <td>...</td>\n",
              "      <td>...</td>\n",
              "      <td>...</td>\n",
              "    </tr>\n",
              "    <tr>\n",
              "      <td>354363</td>\n",
              "      <td>2016-03-27 20:36:20</td>\n",
              "      <td>1150</td>\n",
              "      <td>bus</td>\n",
              "      <td>2000</td>\n",
              "      <td>manual</td>\n",
              "      <td>116.0</td>\n",
              "      <td>zafira</td>\n",
              "      <td>150000</td>\n",
              "      <td>3</td>\n",
              "      <td>petrol</td>\n",
              "      <td>opel</td>\n",
              "      <td>no</td>\n",
              "      <td>2016-03-27 00:00:00</td>\n",
              "      <td>0</td>\n",
              "      <td>26624</td>\n",
              "      <td>2016-03-29 10:17:23</td>\n",
              "      <td>125K km and more</td>\n",
              "      <td>gasoline</td>\n",
              "    </tr>\n",
              "    <tr>\n",
              "      <td>354365</td>\n",
              "      <td>2016-03-14 17:48:27</td>\n",
              "      <td>2200</td>\n",
              "      <td>missing</td>\n",
              "      <td>2005</td>\n",
              "      <td>missing</td>\n",
              "      <td>100.0</td>\n",
              "      <td>missing</td>\n",
              "      <td>20000</td>\n",
              "      <td>1</td>\n",
              "      <td>missing</td>\n",
              "      <td>sonstige_autos</td>\n",
              "      <td>NaN</td>\n",
              "      <td>2016-03-14 00:00:00</td>\n",
              "      <td>0</td>\n",
              "      <td>39576</td>\n",
              "      <td>2016-04-06 00:46:52</td>\n",
              "      <td>10-20K km</td>\n",
              "      <td>missing</td>\n",
              "    </tr>\n",
              "    <tr>\n",
              "      <td>354366</td>\n",
              "      <td>2016-03-05 19:56:21</td>\n",
              "      <td>1199</td>\n",
              "      <td>convertible</td>\n",
              "      <td>2000</td>\n",
              "      <td>auto</td>\n",
              "      <td>101.0</td>\n",
              "      <td>fortwo</td>\n",
              "      <td>125000</td>\n",
              "      <td>3</td>\n",
              "      <td>petrol</td>\n",
              "      <td>smart</td>\n",
              "      <td>no</td>\n",
              "      <td>2016-03-05 00:00:00</td>\n",
              "      <td>0</td>\n",
              "      <td>26135</td>\n",
              "      <td>2016-03-11 18:17:12</td>\n",
              "      <td>100-125K km</td>\n",
              "      <td>gasoline</td>\n",
              "    </tr>\n",
              "    <tr>\n",
              "      <td>354367</td>\n",
              "      <td>2016-03-19 18:57:12</td>\n",
              "      <td>9200</td>\n",
              "      <td>bus</td>\n",
              "      <td>1996</td>\n",
              "      <td>manual</td>\n",
              "      <td>102.0</td>\n",
              "      <td>transporter</td>\n",
              "      <td>150000</td>\n",
              "      <td>3</td>\n",
              "      <td>gasoline</td>\n",
              "      <td>volkswagen</td>\n",
              "      <td>no</td>\n",
              "      <td>2016-03-19 00:00:00</td>\n",
              "      <td>0</td>\n",
              "      <td>87439</td>\n",
              "      <td>2016-04-07 07:15:26</td>\n",
              "      <td>125K km and more</td>\n",
              "      <td>gasoline</td>\n",
              "    </tr>\n",
              "    <tr>\n",
              "      <td>354368</td>\n",
              "      <td>2016-03-20 19:41:08</td>\n",
              "      <td>3400</td>\n",
              "      <td>wagon</td>\n",
              "      <td>2002</td>\n",
              "      <td>manual</td>\n",
              "      <td>100.0</td>\n",
              "      <td>golf</td>\n",
              "      <td>150000</td>\n",
              "      <td>6</td>\n",
              "      <td>gasoline</td>\n",
              "      <td>volkswagen</td>\n",
              "      <td>NaN</td>\n",
              "      <td>2016-03-20 00:00:00</td>\n",
              "      <td>0</td>\n",
              "      <td>40764</td>\n",
              "      <td>2016-03-24 12:45:21</td>\n",
              "      <td>125K km and more</td>\n",
              "      <td>gasoline</td>\n",
              "    </tr>\n",
              "  </tbody>\n",
              "</table>\n",
              "<p>328192 rows × 18 columns</p>\n",
              "</div>"
            ],
            "text/plain": [
              "               date_crawled  price vehicle_type  registration_year  gearbox  \\\n",
              "0       2016-03-24 11:52:17    480      missing               1993   manual   \n",
              "1       2016-03-24 10:58:45  18300        coupe               2011   manual   \n",
              "2       2016-03-14 12:52:21   9800          suv               2004     auto   \n",
              "3       2016-03-17 16:54:04   1500        small               2001   manual   \n",
              "4       2016-03-31 17:25:20   3600        small               2008   manual   \n",
              "...                     ...    ...          ...                ...      ...   \n",
              "354363  2016-03-27 20:36:20   1150          bus               2000   manual   \n",
              "354365  2016-03-14 17:48:27   2200      missing               2005  missing   \n",
              "354366  2016-03-05 19:56:21   1199  convertible               2000     auto   \n",
              "354367  2016-03-19 18:57:12   9200          bus               1996   manual   \n",
              "354368  2016-03-20 19:41:08   3400        wagon               2002   manual   \n",
              "\n",
              "        power        model  kilometer  registration_month fuel_type  \\\n",
              "0       100.0         golf     150000                   0    petrol   \n",
              "1       190.0      missing     125000                   5  gasoline   \n",
              "2       163.0        grand     125000                   8  gasoline   \n",
              "3        75.0         golf     150000                   6    petrol   \n",
              "4        69.0        fabia      90000                   7  gasoline   \n",
              "...       ...          ...        ...                 ...       ...   \n",
              "354363  116.0       zafira     150000                   3    petrol   \n",
              "354365  100.0      missing      20000                   1   missing   \n",
              "354366  101.0       fortwo     125000                   3    petrol   \n",
              "354367  102.0  transporter     150000                   3  gasoline   \n",
              "354368  100.0         golf     150000                   6  gasoline   \n",
              "\n",
              "                 brand not_repaired         date_created  number_of_pictures  \\\n",
              "0           volkswagen          NaN  2016-03-24 00:00:00                   0   \n",
              "1                 audi          yes  2016-03-24 00:00:00                   0   \n",
              "2                 jeep          NaN  2016-03-14 00:00:00                   0   \n",
              "3           volkswagen           no  2016-03-17 00:00:00                   0   \n",
              "4                skoda           no  2016-03-31 00:00:00                   0   \n",
              "...                ...          ...                  ...                 ...   \n",
              "354363            opel           no  2016-03-27 00:00:00                   0   \n",
              "354365  sonstige_autos          NaN  2016-03-14 00:00:00                   0   \n",
              "354366           smart           no  2016-03-05 00:00:00                   0   \n",
              "354367      volkswagen           no  2016-03-19 00:00:00                   0   \n",
              "354368      volkswagen          NaN  2016-03-20 00:00:00                   0   \n",
              "\n",
              "        postal_code            last_seen     kilometer_cat fuel_retyped  \n",
              "0             70435  2016-04-07 03:16:57  125K km and more     gasoline  \n",
              "1             66954  2016-04-07 01:46:50       100-125K km     gasoline  \n",
              "2             90480  2016-04-05 12:47:46       100-125K km     gasoline  \n",
              "3             91074  2016-03-17 17:40:17  125K km and more     gasoline  \n",
              "4             60437  2016-04-06 10:17:21         80-90K km     gasoline  \n",
              "...             ...                  ...               ...          ...  \n",
              "354363        26624  2016-03-29 10:17:23  125K km and more     gasoline  \n",
              "354365        39576  2016-04-06 00:46:52         10-20K km      missing  \n",
              "354366        26135  2016-03-11 18:17:12       100-125K km     gasoline  \n",
              "354367        87439  2016-04-07 07:15:26  125K km and more     gasoline  \n",
              "354368        40764  2016-03-24 12:45:21  125K km and more     gasoline  \n",
              "\n",
              "[328192 rows x 18 columns]"
            ]
          },
          "execution_count": 32,
          "metadata": {},
          "output_type": "execute_result"
        }
      ],
      "source": [
        "fuel_map = {\n",
        "    'petrol': 'gasoline',\n",
        "    'gasoline': 'gasoline',\n",
        "    'missing': 'missing',\n",
        "    'lpg': 'gas',\n",
        "    'cng': 'gas',\n",
        "    'hybrid': 'electric',\n",
        "    'electric': 'electric',\n",
        "    'other': 'missing'    \n",
        "}\n",
        "df['fuel_retyped'] = df['fuel_type'].map(fuel_map)\n",
        "df"
      ]
    },
    {
      "cell_type": "markdown",
      "metadata": {
        "id": "lZbUHjEIzLRP"
      },
      "source": [
        "В переменной бренда нет ни пропусков, ни дублирующихся названий, оставим, как есть."
      ]
    },
    {
      "cell_type": "code",
      "execution_count": null,
      "metadata": {
        "id": "VbA2wWQUzLRP",
        "outputId": "8322a3a7-5c55-44b5-920e-d49d78237c5d"
      },
      "outputs": [
        {
          "name": "stdout",
          "output_type": "stream",
          "text": [
            "0\n"
          ]
        },
        {
          "data": {
            "text/plain": [
              "volkswagen        70508\n",
              "opel              36502\n",
              "bmw               34555\n",
              "mercedes_benz     30213\n",
              "audi              27525\n",
              "ford              23409\n",
              "renault           16367\n",
              "peugeot           10388\n",
              "fiat               8844\n",
              "seat               6336\n",
              "skoda              5294\n",
              "mazda              5239\n",
              "smart              4946\n",
              "citroen            4783\n",
              "nissan             4604\n",
              "toyota             4385\n",
              "hyundai            3390\n",
              "mini               3056\n",
              "volvo              3045\n",
              "mitsubishi         2804\n",
              "sonstige_autos     2599\n",
              "honda              2582\n",
              "kia                2303\n",
              "suzuki             2198\n",
              "alfa_romeo         2140\n",
              "chevrolet          1653\n",
              "chrysler           1318\n",
              "dacia               863\n",
              "daihatsu            747\n",
              "subaru              711\n",
              "porsche             700\n",
              "jeep                630\n",
              "land_rover          526\n",
              "daewoo              502\n",
              "saab                501\n",
              "jaguar              483\n",
              "trabant             470\n",
              "lancia              433\n",
              "rover               433\n",
              "lada                207\n",
              "Name: brand, dtype: int64"
            ]
          },
          "execution_count": 33,
          "metadata": {},
          "output_type": "execute_result"
        }
      ],
      "source": [
        "print(df.brand.isna().sum())\n",
        "df.brand.value_counts()"
      ]
    },
    {
      "cell_type": "markdown",
      "metadata": {
        "id": "Lp2CP93MzLRP"
      },
      "source": [
        "В переменной ремонта машины заполним пропуски на \"missing\":"
      ]
    },
    {
      "cell_type": "code",
      "execution_count": null,
      "metadata": {
        "id": "Ls1rV-nlzLRP",
        "outputId": "aaa416ae-c893-4bef-935f-2d4466ee92e9"
      },
      "outputs": [
        {
          "data": {
            "image/png": "[encoded data removed]",
            "text/plain": [
              "<Figure size 432x288 with 1 Axes>"
            ]
          },
          "metadata": {
            "needs_background": "light"
          },
          "output_type": "display_data"
        },
        {
          "data": {
            "text/plain": [
              "0"
            ]
          },
          "execution_count": 34,
          "metadata": {},
          "output_type": "execute_result"
        }
      ],
      "source": [
        "df.not_repaired = df.not_repaired.fillna('missing')\n",
        "sb.barplot(\n",
        "    x = df.not_repaired.unique(),\n",
        "    y = [(df['not_repaired']==i).sum() for i in df.not_repaired.unique()],\n",
        "    color = 'Purple')\n",
        "plt.show()\n",
        "df.not_repaired.isna().sum()"
      ]
    },
    {
      "cell_type": "markdown",
      "metadata": {
        "id": "VcF4qQbMzLRP"
      },
      "source": [
        "Далее дата создания объявления, она нам тоже не пригодится для прогнозирования цены. Затем переменная количества фотографий, однако она пуста, поэтому мы её не будем использовать."
      ]
    },
    {
      "cell_type": "code",
      "execution_count": null,
      "metadata": {
        "scrolled": false,
        "id": "iw_qdQ10zLRP",
        "outputId": "cd09f5ba-bf6b-4bb9-ee15-b04b85ee9821"
      },
      "outputs": [
        {
          "data": {
            "image/png": "[encoded data removed]",
            "text/plain": [
              "<Figure size 432x288 with 1 Axes>"
            ]
          },
          "metadata": {
            "needs_background": "light"
          },
          "output_type": "display_data"
        },
        {
          "data": {
            "text/plain": [
              "0"
            ]
          },
          "execution_count": 35,
          "metadata": {},
          "output_type": "execute_result"
        }
      ],
      "source": [
        "sb.barplot(\n",
        "    x = df.number_of_pictures.unique(),\n",
        "    y = [(df['number_of_pictures']==i).sum() for i in df.number_of_pictures.unique()],\n",
        "    color = 'Purple')\n",
        "plt.show()\n",
        "df.number_of_pictures.isna().sum()"
      ]
    },
    {
      "cell_type": "markdown",
      "metadata": {
        "id": "_b4Tfk1fzLRQ"
      },
      "source": [
        "Переменные дат в данной базе в модели участвовать не будут, т.к. все объявления зарегистрированы в течение одного месяца, в этом же месяце они собраны в базу, примерно в этом же месяце пользователь последний раз заходил на сайт.\n",
        "\n",
        "Ещё одна переменная, которую мы исключим - почтовый индекс. Известно, что все данные из одной страны (почтовый код в едином формате и информация из внешних источников), а дополнительной базы, которая бы помогла ранжировать почтовые индексы по какому-либо принципу, у нас нет.\n",
        "\n",
        "Разделим данные на тренировочную и тестовую выборку."
      ]
    },
    {
      "cell_type": "code",
      "execution_count": null,
      "metadata": {
        "scrolled": true,
        "id": "UjKK8G8KzLRQ",
        "outputId": "aba6cb61-804c-4a19-d004-843dc2c44ad0"
      },
      "outputs": [
        {
          "name": "stdout",
          "output_type": "stream",
          "text": [
            "(328192, 9) (328192,)\n",
            "(262553, 9) (262553,)\n",
            "(65639, 9) (65639,)\n"
          ]
        }
      ],
      "source": [
        "X = df.drop(['price',\n",
        "             'date_crawled',\n",
        "             'registration_month',\n",
        "             'date_created',\n",
        "             'number_of_pictures',\n",
        "             'postal_code',\n",
        "             'last_seen',\n",
        "             'fuel_type',\n",
        "             'kilometer'], axis=1)\n",
        "y = df.price\n",
        "\n",
        "X_train, X_test, y_train, y_test = train_test_split(X, y, test_size=0.2, random_state=23)\n",
        "print(X.shape, y.shape)\n",
        "print(X_train.shape, y_train.shape)\n",
        "print(X_test.shape, y_test.shape)"
      ]
    },
    {
      "cell_type": "markdown",
      "metadata": {
        "id": "75OPzelazLRQ"
      },
      "source": [
        "Для работы простых моделей нам необходимо перевести категориальные признаки в дихотомические:"
      ]
    },
    {
      "cell_type": "code",
      "execution_count": null,
      "metadata": {
        "id": "mFdM4bovzLRQ",
        "outputId": "e02f70e2-3d2b-4088-c8ef-fd81b7a3f6a9"
      },
      "outputs": [
        {
          "name": "stdout",
          "output_type": "stream",
          "text": [
            "(328192, 318) (328192,)\n",
            "(262553, 318) (262553,)\n",
            "(65639, 318) (65639,)\n"
          ]
        }
      ],
      "source": [
        "X_ohe = pd.get_dummies(X, drop_first=True)\n",
        "X_train_ohe, X_test_ohe, y_train, y_test = train_test_split(X_ohe, y, test_size=0.2, random_state=23)\n",
        "print(X_ohe.shape, y.shape)\n",
        "print(X_train_ohe.shape, y_train.shape)\n",
        "print(X_test_ohe.shape, y_test.shape)"
      ]
    },
    {
      "cell_type": "markdown",
      "metadata": {
        "id": "GPeT4NzuzLRQ"
      },
      "source": [
        "Нормируем два метрических признака - год выпуска авто и мощность - для более корректной работы моделей."
      ]
    },
    {
      "cell_type": "code",
      "execution_count": null,
      "metadata": {
        "id": "zXG8xsgQzLRQ"
      },
      "outputs": [],
      "source": [
        "scaler = StandardScaler()\n",
        "\n",
        "X_train[['registration_year', 'power']] = scaler.fit_transform(X_train[['registration_year', 'power']])\n",
        "X_test[['registration_year', 'power']] = scaler.fit_transform(X_test[['registration_year', 'power']])\n",
        "\n",
        "X_train_ohe[['registration_year', 'power']] = scaler.fit_transform(X_train_ohe[['registration_year', 'power']])\n",
        "X_test_ohe[['registration_year', 'power']] = scaler.fit_transform(X_test_ohe[['registration_year', 'power']])"
      ]
    },
    {
      "cell_type": "markdown",
      "metadata": {
        "id": "w3L_YpEqzLRR"
      },
      "source": [
        "Данные готовы для построения модели. Наиболее существенное преобразование - удаление машин дешевле 50 евро и замена нулевой мощности на среднее для данного типа кузова."
      ]
    },
    {
      "cell_type": "markdown",
      "metadata": {
        "id": "1Hn_D5vjzLRR"
      },
      "source": [
        "## Обучение моделей\n",
        "\n",
        "### Модель линейной регрессии"
      ]
    },
    {
      "cell_type": "code",
      "execution_count": null,
      "metadata": {
        "id": "Y6pXQlUfzLRR",
        "outputId": "1efbf21d-782e-410c-c534-c8fc89378602"
      },
      "outputs": [
        {
          "data": {
            "text/html": [
              "<div>\n",
              "<style scoped>\n",
              "    .dataframe tbody tr th:only-of-type {\n",
              "        vertical-align: middle;\n",
              "    }\n",
              "\n",
              "    .dataframe tbody tr th {\n",
              "        vertical-align: top;\n",
              "    }\n",
              "\n",
              "    .dataframe thead th {\n",
              "        text-align: right;\n",
              "    }\n",
              "</style>\n",
              "<table border=\"1\" class=\"dataframe\">\n",
              "  <thead>\n",
              "    <tr style=\"text-align: right;\">\n",
              "      <th></th>\n",
              "      <th>Model</th>\n",
              "      <th>learning time, sec</th>\n",
              "      <th>prediction time, sec</th>\n",
              "      <th>RMSE, euro</th>\n",
              "    </tr>\n",
              "  </thead>\n",
              "  <tbody>\n",
              "    <tr>\n",
              "      <td>0</td>\n",
              "      <td>Linear Regression</td>\n",
              "      <td>27.96236</td>\n",
              "      <td>0.130547</td>\n",
              "      <td>2651.855799</td>\n",
              "    </tr>\n",
              "  </tbody>\n",
              "</table>\n",
              "</div>"
            ],
            "text/plain": [
              "               Model  learning time, sec  prediction time, sec   RMSE, euro\n",
              "0  Linear Regression            27.96236              0.130547  2651.855799"
            ]
          },
          "execution_count": 39,
          "metadata": {},
          "output_type": "execute_result"
        }
      ],
      "source": [
        "start_time = timeit.default_timer()\n",
        "\n",
        "model = LinearRegression()\n",
        "model.fit(X_train_ohe, y_train)\n",
        "\n",
        "elapsed_fitting = timeit.default_timer() - start_time\n",
        "\n",
        "\n",
        "\n",
        "start_time = timeit.default_timer()\n",
        "\n",
        "predictions = model.predict(X_test_ohe)\n",
        "\n",
        "elapsed_prediction = timeit.default_timer() - start_time\n",
        "\n",
        "\n",
        "\n",
        "current_model = pd.DataFrame({'Model': ['Linear Regression'],\n",
        "              'learning time, sec': [elapsed_fitting],\n",
        "              'prediction time, sec': [elapsed_prediction],\n",
        "              'RMSE, euro': [mean_squared_error(y_test, predictions)**0.5]})\n",
        "all_models = current_model.merge(current_model, how = 'outer')\n",
        "all_models"
      ]
    },
    {
      "cell_type": "markdown",
      "metadata": {
        "id": "0vPb9t3lzLRR"
      },
      "source": [
        "### Модель случайного леса"
      ]
    },
    {
      "cell_type": "code",
      "execution_count": null,
      "metadata": {
        "id": "X0my959xzLRR",
        "outputId": "be853b8e-e00b-4083-9862-ecd85c76456f"
      },
      "outputs": [
        {
          "data": {
            "text/html": [
              "<div>\n",
              "<style scoped>\n",
              "    .dataframe tbody tr th:only-of-type {\n",
              "        vertical-align: middle;\n",
              "    }\n",
              "\n",
              "    .dataframe tbody tr th {\n",
              "        vertical-align: top;\n",
              "    }\n",
              "\n",
              "    .dataframe thead th {\n",
              "        text-align: right;\n",
              "    }\n",
              "</style>\n",
              "<table border=\"1\" class=\"dataframe\">\n",
              "  <thead>\n",
              "    <tr style=\"text-align: right;\">\n",
              "      <th></th>\n",
              "      <th>Model</th>\n",
              "      <th>learning time, sec</th>\n",
              "      <th>prediction time, sec</th>\n",
              "      <th>RMSE, euro</th>\n",
              "    </tr>\n",
              "  </thead>\n",
              "  <tbody>\n",
              "    <tr>\n",
              "      <td>0</td>\n",
              "      <td>Linear Regression</td>\n",
              "      <td>27.962360</td>\n",
              "      <td>0.130547</td>\n",
              "      <td>2651.855799</td>\n",
              "    </tr>\n",
              "    <tr>\n",
              "      <td>1</td>\n",
              "      <td>Random Forest</td>\n",
              "      <td>73.742923</td>\n",
              "      <td>0.542571</td>\n",
              "      <td>1650.873298</td>\n",
              "    </tr>\n",
              "  </tbody>\n",
              "</table>\n",
              "</div>"
            ],
            "text/plain": [
              "               Model  learning time, sec  prediction time, sec   RMSE, euro\n",
              "0  Linear Regression           27.962360              0.130547  2651.855799\n",
              "1      Random Forest           73.742923              0.542571  1650.873298"
            ]
          },
          "execution_count": 40,
          "metadata": {},
          "output_type": "execute_result"
        }
      ],
      "source": [
        "start_time = timeit.default_timer()\n",
        "\n",
        "model = RandomForestRegressor(random_state = 23)\n",
        "model.fit(X_train_ohe, y_train)\n",
        "\n",
        "elapsed_fitting = timeit.default_timer() - start_time\n",
        "\n",
        "\n",
        "\n",
        "start_time = timeit.default_timer()\n",
        "\n",
        "predictions = model.predict(X_test_ohe)\n",
        "\n",
        "elapsed_prediction = timeit.default_timer() - start_time\n",
        "\n",
        "\n",
        "\n",
        "current_model = pd.DataFrame({'Model': ['Random Forest'],\n",
        "              'learning time, sec': [elapsed_fitting],\n",
        "              'prediction time, sec': [elapsed_prediction],\n",
        "              'RMSE, euro': [mean_squared_error(y_test, predictions)**0.5]})\n",
        "all_models = all_models.merge(current_model, how = 'outer')\n",
        "all_models"
      ]
    },
    {
      "cell_type": "markdown",
      "metadata": {
        "id": "2aaXDt7izLRS"
      },
      "source": [
        "### Модель дерева решений"
      ]
    },
    {
      "cell_type": "code",
      "execution_count": null,
      "metadata": {
        "id": "yJbsb6fxzLRS",
        "outputId": "57cfe994-f5a1-4b27-89bb-8770cbf1a1eb"
      },
      "outputs": [
        {
          "data": {
            "text/html": [
              "<div>\n",
              "<style scoped>\n",
              "    .dataframe tbody tr th:only-of-type {\n",
              "        vertical-align: middle;\n",
              "    }\n",
              "\n",
              "    .dataframe tbody tr th {\n",
              "        vertical-align: top;\n",
              "    }\n",
              "\n",
              "    .dataframe thead th {\n",
              "        text-align: right;\n",
              "    }\n",
              "</style>\n",
              "<table border=\"1\" class=\"dataframe\">\n",
              "  <thead>\n",
              "    <tr style=\"text-align: right;\">\n",
              "      <th></th>\n",
              "      <th>Model</th>\n",
              "      <th>learning time, sec</th>\n",
              "      <th>prediction time, sec</th>\n",
              "      <th>RMSE, euro</th>\n",
              "    </tr>\n",
              "  </thead>\n",
              "  <tbody>\n",
              "    <tr>\n",
              "      <td>0</td>\n",
              "      <td>Linear Regression</td>\n",
              "      <td>27.962360</td>\n",
              "      <td>0.130547</td>\n",
              "      <td>2651.855799</td>\n",
              "    </tr>\n",
              "    <tr>\n",
              "      <td>1</td>\n",
              "      <td>Random Forest</td>\n",
              "      <td>73.742923</td>\n",
              "      <td>0.542571</td>\n",
              "      <td>1650.873298</td>\n",
              "    </tr>\n",
              "    <tr>\n",
              "      <td>2</td>\n",
              "      <td>Decision Tree</td>\n",
              "      <td>11.532035</td>\n",
              "      <td>0.162689</td>\n",
              "      <td>1932.501056</td>\n",
              "    </tr>\n",
              "  </tbody>\n",
              "</table>\n",
              "</div>"
            ],
            "text/plain": [
              "               Model  learning time, sec  prediction time, sec   RMSE, euro\n",
              "0  Linear Regression           27.962360              0.130547  2651.855799\n",
              "1      Random Forest           73.742923              0.542571  1650.873298\n",
              "2      Decision Tree           11.532035              0.162689  1932.501056"
            ]
          },
          "execution_count": 41,
          "metadata": {},
          "output_type": "execute_result"
        }
      ],
      "source": [
        "start_time = timeit.default_timer()\n",
        "\n",
        "model = DecisionTreeRegressor(random_state = 23)\n",
        "model.fit(X_train_ohe, y_train)\n",
        "\n",
        "elapsed_fitting = timeit.default_timer() - start_time\n",
        "\n",
        "\n",
        "\n",
        "start_time = timeit.default_timer()\n",
        "\n",
        "predictions = model.predict(X_test_ohe)\n",
        "\n",
        "elapsed_prediction = timeit.default_timer() - start_time\n",
        "\n",
        "\n",
        "\n",
        "current_model = pd.DataFrame({'Model': ['Decision Tree'],\n",
        "              'learning time, sec': [elapsed_fitting],\n",
        "              'prediction time, sec': [elapsed_prediction],\n",
        "              'RMSE, euro': [mean_squared_error(y_test, predictions)**0.5]})\n",
        "all_models = all_models.merge(current_model, how = 'outer')\n",
        "all_models"
      ]
    },
    {
      "cell_type": "markdown",
      "metadata": {
        "id": "gP01Ad7PzLRS"
      },
      "source": [
        "### Градиентный бустинг Catboost"
      ]
    },
    {
      "cell_type": "code",
      "execution_count": null,
      "metadata": {
        "id": "Uxka433tzLRS",
        "outputId": "450aaa88-6d61-4cb3-fca7-b0e52615589e"
      },
      "outputs": [
        {
          "name": "stdout",
          "output_type": "stream",
          "text": [
            "0:\tlearn: 4455.8585866\ttotal: 639ms\tremaining: 56.8s\n",
            "10:\tlearn: 3728.9981382\ttotal: 3.84s\tremaining: 27.6s\n",
            "20:\tlearn: 3225.3827374\ttotal: 6.93s\tremaining: 22.8s\n",
            "30:\tlearn: 2871.5545617\ttotal: 9.93s\tremaining: 18.9s\n",
            "40:\tlearn: 2615.1936183\ttotal: 12.9s\tremaining: 15.5s\n",
            "50:\tlearn: 2428.4042873\ttotal: 16.2s\tremaining: 12.4s\n",
            "60:\tlearn: 2299.8754006\ttotal: 19.1s\tremaining: 9.09s\n",
            "70:\tlearn: 2204.3346345\ttotal: 22.1s\tremaining: 5.91s\n",
            "80:\tlearn: 2124.8885077\ttotal: 25.1s\tremaining: 2.79s\n",
            "89:\tlearn: 2072.3293140\ttotal: 27.8s\tremaining: 0us\n"
          ]
        },
        {
          "data": {
            "text/html": [
              "<div>\n",
              "<style scoped>\n",
              "    .dataframe tbody tr th:only-of-type {\n",
              "        vertical-align: middle;\n",
              "    }\n",
              "\n",
              "    .dataframe tbody tr th {\n",
              "        vertical-align: top;\n",
              "    }\n",
              "\n",
              "    .dataframe thead th {\n",
              "        text-align: right;\n",
              "    }\n",
              "</style>\n",
              "<table border=\"1\" class=\"dataframe\">\n",
              "  <thead>\n",
              "    <tr style=\"text-align: right;\">\n",
              "      <th></th>\n",
              "      <th>Model</th>\n",
              "      <th>learning time, sec</th>\n",
              "      <th>prediction time, sec</th>\n",
              "      <th>RMSE, euro</th>\n",
              "    </tr>\n",
              "  </thead>\n",
              "  <tbody>\n",
              "    <tr>\n",
              "      <td>0</td>\n",
              "      <td>Linear Regression</td>\n",
              "      <td>27.962360</td>\n",
              "      <td>0.130547</td>\n",
              "      <td>2651.855799</td>\n",
              "    </tr>\n",
              "    <tr>\n",
              "      <td>1</td>\n",
              "      <td>Random Forest</td>\n",
              "      <td>73.742923</td>\n",
              "      <td>0.542571</td>\n",
              "      <td>1650.873298</td>\n",
              "    </tr>\n",
              "    <tr>\n",
              "      <td>2</td>\n",
              "      <td>Decision Tree</td>\n",
              "      <td>11.532035</td>\n",
              "      <td>0.162689</td>\n",
              "      <td>1932.501056</td>\n",
              "    </tr>\n",
              "    <tr>\n",
              "      <td>3</td>\n",
              "      <td>Catboost</td>\n",
              "      <td>30.726629</td>\n",
              "      <td>0.151101</td>\n",
              "      <td>2073.914951</td>\n",
              "    </tr>\n",
              "  </tbody>\n",
              "</table>\n",
              "</div>"
            ],
            "text/plain": [
              "               Model  learning time, sec  prediction time, sec   RMSE, euro\n",
              "0  Linear Regression           27.962360              0.130547  2651.855799\n",
              "1      Random Forest           73.742923              0.542571  1650.873298\n",
              "2      Decision Tree           11.532035              0.162689  1932.501056\n",
              "3           Catboost           30.726629              0.151101  2073.914951"
            ]
          },
          "execution_count": 42,
          "metadata": {},
          "output_type": "execute_result"
        }
      ],
      "source": [
        "start_time = timeit.default_timer()\n",
        "\n",
        "cat_features = ['vehicle_type', 'gearbox', 'model',\n",
        "                'brand', 'not_repaired', 'not_repaired', 'kilometer_cat', 'fuel_retyped']\n",
        "model = CatBoostRegressor(loss_function=\"RMSE\", iterations=90)\n",
        "model.fit(X_train, y_train, cat_features=cat_features, verbose=10)\n",
        "\n",
        "elapsed_fitting = timeit.default_timer() - start_time\n",
        "\n",
        "\n",
        "\n",
        "start_time = timeit.default_timer()\n",
        "\n",
        "predictions = model.predict(X_test)\n",
        "\n",
        "elapsed_prediction = timeit.default_timer() - start_time\n",
        "\n",
        "\n",
        "\n",
        "current_model = pd.DataFrame({'Model': ['Catboost'],\n",
        "              'learning time, sec': [elapsed_fitting],\n",
        "              'prediction time, sec': [elapsed_prediction],\n",
        "              'RMSE, euro': [mean_squared_error(y_test, predictions)**0.5]})\n",
        "all_models = all_models.merge(current_model, how = 'outer')\n",
        "all_models"
      ]
    },
    {
      "cell_type": "markdown",
      "metadata": {
        "id": "Nw6Xy5elzLRS"
      },
      "source": [
        "### Градиентный бустинг LightGBM"
      ]
    },
    {
      "cell_type": "code",
      "execution_count": null,
      "metadata": {
        "scrolled": true,
        "id": "FJuPvtXZzLRS",
        "outputId": "96640b08-2582-4709-d719-676a5dd200da"
      },
      "outputs": [
        {
          "name": "stdout",
          "output_type": "stream",
          "text": [
            "[1]\tvalid_0's rmse: 4226.09\tvalid_0's l2: 1.78599e+07\n",
            "[2]\tvalid_0's rmse: 3937.54\tvalid_0's l2: 1.55042e+07\n",
            "[3]\tvalid_0's rmse: 3685.59\tvalid_0's l2: 1.35836e+07\n",
            "[4]\tvalid_0's rmse: 3468.63\tvalid_0's l2: 1.20314e+07\n",
            "[5]\tvalid_0's rmse: 3278.25\tvalid_0's l2: 1.07469e+07\n",
            "[6]\tvalid_0's rmse: 3112.15\tvalid_0's l2: 9.68546e+06\n",
            "[7]\tvalid_0's rmse: 2964.4\tvalid_0's l2: 8.78764e+06\n",
            "[8]\tvalid_0's rmse: 2835.35\tvalid_0's l2: 8.03918e+06\n",
            "[9]\tvalid_0's rmse: 2725.78\tvalid_0's l2: 7.4299e+06\n",
            "[10]\tvalid_0's rmse: 2628.35\tvalid_0's l2: 6.90822e+06\n",
            "[11]\tvalid_0's rmse: 2540.03\tvalid_0's l2: 6.45178e+06\n",
            "[12]\tvalid_0's rmse: 2464.09\tvalid_0's l2: 6.07175e+06\n",
            "[13]\tvalid_0's rmse: 2396.85\tvalid_0's l2: 5.74487e+06\n",
            "[14]\tvalid_0's rmse: 2339.04\tvalid_0's l2: 5.4711e+06\n",
            "[15]\tvalid_0's rmse: 2289.25\tvalid_0's l2: 5.24067e+06\n",
            "[16]\tvalid_0's rmse: 2243.69\tvalid_0's l2: 5.03414e+06\n",
            "[17]\tvalid_0's rmse: 2203.54\tvalid_0's l2: 4.85558e+06\n",
            "[18]\tvalid_0's rmse: 2167.83\tvalid_0's l2: 4.69949e+06\n",
            "[19]\tvalid_0's rmse: 2133.66\tvalid_0's l2: 4.5525e+06\n",
            "[20]\tvalid_0's rmse: 2099.78\tvalid_0's l2: 4.4091e+06\n",
            "[21]\tvalid_0's rmse: 2073.73\tvalid_0's l2: 4.30034e+06\n",
            "[22]\tvalid_0's rmse: 2050.16\tvalid_0's l2: 4.20317e+06\n",
            "[23]\tvalid_0's rmse: 2026.96\tvalid_0's l2: 4.10855e+06\n",
            "[24]\tvalid_0's rmse: 2005.68\tvalid_0's l2: 4.02276e+06\n",
            "[25]\tvalid_0's rmse: 1987.75\tvalid_0's l2: 3.95115e+06\n",
            "[26]\tvalid_0's rmse: 1971.5\tvalid_0's l2: 3.88683e+06\n",
            "[27]\tvalid_0's rmse: 1956.6\tvalid_0's l2: 3.8283e+06\n",
            "[28]\tvalid_0's rmse: 1944.28\tvalid_0's l2: 3.78021e+06\n",
            "[29]\tvalid_0's rmse: 1931.91\tvalid_0's l2: 3.73226e+06\n",
            "[30]\tvalid_0's rmse: 1921.08\tvalid_0's l2: 3.69056e+06\n",
            "[31]\tvalid_0's rmse: 1911.31\tvalid_0's l2: 3.6531e+06\n",
            "[32]\tvalid_0's rmse: 1901.74\tvalid_0's l2: 3.61661e+06\n",
            "[33]\tvalid_0's rmse: 1893.05\tvalid_0's l2: 3.58363e+06\n",
            "[34]\tvalid_0's rmse: 1886.38\tvalid_0's l2: 3.55843e+06\n",
            "[35]\tvalid_0's rmse: 1880.3\tvalid_0's l2: 3.53552e+06\n",
            "[36]\tvalid_0's rmse: 1871.75\tvalid_0's l2: 3.50345e+06\n",
            "[37]\tvalid_0's rmse: 1865.2\tvalid_0's l2: 3.47897e+06\n",
            "[38]\tvalid_0's rmse: 1859.39\tvalid_0's l2: 3.45732e+06\n",
            "[39]\tvalid_0's rmse: 1853.12\tvalid_0's l2: 3.43406e+06\n",
            "[40]\tvalid_0's rmse: 1847.96\tvalid_0's l2: 3.41494e+06\n",
            "[41]\tvalid_0's rmse: 1842.68\tvalid_0's l2: 3.39546e+06\n",
            "[42]\tvalid_0's rmse: 1836.63\tvalid_0's l2: 3.37321e+06\n",
            "[43]\tvalid_0's rmse: 1830.7\tvalid_0's l2: 3.35146e+06\n",
            "[44]\tvalid_0's rmse: 1826.36\tvalid_0's l2: 3.33557e+06\n",
            "[45]\tvalid_0's rmse: 1821.6\tvalid_0's l2: 3.31821e+06\n",
            "[46]\tvalid_0's rmse: 1817.41\tvalid_0's l2: 3.30299e+06\n",
            "[47]\tvalid_0's rmse: 1813.4\tvalid_0's l2: 3.28842e+06\n",
            "[48]\tvalid_0's rmse: 1809.31\tvalid_0's l2: 3.27359e+06\n",
            "[49]\tvalid_0's rmse: 1806.29\tvalid_0's l2: 3.26268e+06\n",
            "[50]\tvalid_0's rmse: 1803.14\tvalid_0's l2: 3.2513e+06\n",
            "[51]\tvalid_0's rmse: 1799.24\tvalid_0's l2: 3.23728e+06\n",
            "[52]\tvalid_0's rmse: 1796.2\tvalid_0's l2: 3.22632e+06\n",
            "[53]\tvalid_0's rmse: 1792.9\tvalid_0's l2: 3.2145e+06\n",
            "[54]\tvalid_0's rmse: 1789.98\tvalid_0's l2: 3.20401e+06\n",
            "[55]\tvalid_0's rmse: 1787.02\tvalid_0's l2: 3.19345e+06\n",
            "[56]\tvalid_0's rmse: 1784\tvalid_0's l2: 3.18267e+06\n",
            "[57]\tvalid_0's rmse: 1781.77\tvalid_0's l2: 3.1747e+06\n",
            "[58]\tvalid_0's rmse: 1779.23\tvalid_0's l2: 3.16567e+06\n",
            "[59]\tvalid_0's rmse: 1776.8\tvalid_0's l2: 3.15702e+06\n",
            "[60]\tvalid_0's rmse: 1774.03\tvalid_0's l2: 3.14717e+06\n",
            "[61]\tvalid_0's rmse: 1772.1\tvalid_0's l2: 3.14033e+06\n",
            "[62]\tvalid_0's rmse: 1769.89\tvalid_0's l2: 3.13251e+06\n",
            "[63]\tvalid_0's rmse: 1767.78\tvalid_0's l2: 3.12503e+06\n",
            "[64]\tvalid_0's rmse: 1766.09\tvalid_0's l2: 3.11908e+06\n",
            "[65]\tvalid_0's rmse: 1763.2\tvalid_0's l2: 3.10886e+06\n",
            "[66]\tvalid_0's rmse: 1761.82\tvalid_0's l2: 3.10401e+06\n",
            "[67]\tvalid_0's rmse: 1759.95\tvalid_0's l2: 3.09743e+06\n",
            "[68]\tvalid_0's rmse: 1757.84\tvalid_0's l2: 3.08998e+06\n",
            "[69]\tvalid_0's rmse: 1756.42\tvalid_0's l2: 3.085e+06\n",
            "[70]\tvalid_0's rmse: 1754.81\tvalid_0's l2: 3.07937e+06\n",
            "[71]\tvalid_0's rmse: 1753.28\tvalid_0's l2: 3.07398e+06\n",
            "[72]\tvalid_0's rmse: 1750.72\tvalid_0's l2: 3.06502e+06\n",
            "[73]\tvalid_0's rmse: 1749.37\tvalid_0's l2: 3.06029e+06\n",
            "[74]\tvalid_0's rmse: 1747.7\tvalid_0's l2: 3.05444e+06\n",
            "[75]\tvalid_0's rmse: 1746.22\tvalid_0's l2: 3.04928e+06\n",
            "[76]\tvalid_0's rmse: 1745.11\tvalid_0's l2: 3.04539e+06\n",
            "[77]\tvalid_0's rmse: 1743.78\tvalid_0's l2: 3.04077e+06\n",
            "[78]\tvalid_0's rmse: 1742.39\tvalid_0's l2: 3.03594e+06\n",
            "[79]\tvalid_0's rmse: 1740.67\tvalid_0's l2: 3.02994e+06\n",
            "[80]\tvalid_0's rmse: 1738.65\tvalid_0's l2: 3.0229e+06\n",
            "[81]\tvalid_0's rmse: 1737.47\tvalid_0's l2: 3.01881e+06\n",
            "[82]\tvalid_0's rmse: 1736.37\tvalid_0's l2: 3.01499e+06\n",
            "[83]\tvalid_0's rmse: 1735.41\tvalid_0's l2: 3.01166e+06\n",
            "[84]\tvalid_0's rmse: 1734.27\tvalid_0's l2: 3.0077e+06\n",
            "[85]\tvalid_0's rmse: 1733.13\tvalid_0's l2: 3.00372e+06\n",
            "[86]\tvalid_0's rmse: 1731.31\tvalid_0's l2: 2.99745e+06\n",
            "[87]\tvalid_0's rmse: 1730.38\tvalid_0's l2: 2.9942e+06\n",
            "[88]\tvalid_0's rmse: 1729.47\tvalid_0's l2: 2.99106e+06\n",
            "[89]\tvalid_0's rmse: 1728.51\tvalid_0's l2: 2.98776e+06\n",
            "[90]\tvalid_0's rmse: 1727.43\tvalid_0's l2: 2.98403e+06\n",
            "[91]\tvalid_0's rmse: 1726.54\tvalid_0's l2: 2.98094e+06\n",
            "[92]\tvalid_0's rmse: 1725.25\tvalid_0's l2: 2.97648e+06\n",
            "[93]\tvalid_0's rmse: 1724.5\tvalid_0's l2: 2.97391e+06\n",
            "[94]\tvalid_0's rmse: 1723.7\tvalid_0's l2: 2.97116e+06\n",
            "[95]\tvalid_0's rmse: 1722.99\tvalid_0's l2: 2.9687e+06\n",
            "[96]\tvalid_0's rmse: 1722.13\tvalid_0's l2: 2.96573e+06\n",
            "[97]\tvalid_0's rmse: 1721.11\tvalid_0's l2: 2.96222e+06\n",
            "[98]\tvalid_0's rmse: 1720.46\tvalid_0's l2: 2.95999e+06\n",
            "[99]\tvalid_0's rmse: 1719.48\tvalid_0's l2: 2.95661e+06\n",
            "[100]\tvalid_0's rmse: 1718.7\tvalid_0's l2: 2.95393e+06\n"
          ]
        },
        {
          "data": {
            "text/html": [
              "<div>\n",
              "<style scoped>\n",
              "    .dataframe tbody tr th:only-of-type {\n",
              "        vertical-align: middle;\n",
              "    }\n",
              "\n",
              "    .dataframe tbody tr th {\n",
              "        vertical-align: top;\n",
              "    }\n",
              "\n",
              "    .dataframe thead th {\n",
              "        text-align: right;\n",
              "    }\n",
              "</style>\n",
              "<table border=\"1\" class=\"dataframe\">\n",
              "  <thead>\n",
              "    <tr style=\"text-align: right;\">\n",
              "      <th></th>\n",
              "      <th>Model</th>\n",
              "      <th>learning time, sec</th>\n",
              "      <th>prediction time, sec</th>\n",
              "      <th>RMSE, euro</th>\n",
              "    </tr>\n",
              "  </thead>\n",
              "  <tbody>\n",
              "    <tr>\n",
              "      <td>0</td>\n",
              "      <td>Linear Regression</td>\n",
              "      <td>27.962360</td>\n",
              "      <td>0.130547</td>\n",
              "      <td>2651.855799</td>\n",
              "    </tr>\n",
              "    <tr>\n",
              "      <td>1</td>\n",
              "      <td>Random Forest</td>\n",
              "      <td>73.742923</td>\n",
              "      <td>0.542571</td>\n",
              "      <td>1650.873298</td>\n",
              "    </tr>\n",
              "    <tr>\n",
              "      <td>2</td>\n",
              "      <td>Decision Tree</td>\n",
              "      <td>11.532035</td>\n",
              "      <td>0.162689</td>\n",
              "      <td>1932.501056</td>\n",
              "    </tr>\n",
              "    <tr>\n",
              "      <td>3</td>\n",
              "      <td>Catboost</td>\n",
              "      <td>30.726629</td>\n",
              "      <td>0.151101</td>\n",
              "      <td>2073.914951</td>\n",
              "    </tr>\n",
              "    <tr>\n",
              "      <td>4</td>\n",
              "      <td>LightGBM</td>\n",
              "      <td>14.986327</td>\n",
              "      <td>0.995269</td>\n",
              "      <td>1718.700250</td>\n",
              "    </tr>\n",
              "  </tbody>\n",
              "</table>\n",
              "</div>"
            ],
            "text/plain": [
              "               Model  learning time, sec  prediction time, sec   RMSE, euro\n",
              "0  Linear Regression           27.962360              0.130547  2651.855799\n",
              "1      Random Forest           73.742923              0.542571  1650.873298\n",
              "2      Decision Tree           11.532035              0.162689  1932.501056\n",
              "3           Catboost           30.726629              0.151101  2073.914951\n",
              "4           LightGBM           14.986327              0.995269  1718.700250"
            ]
          },
          "execution_count": 43,
          "metadata": {},
          "output_type": "execute_result"
        }
      ],
      "source": [
        "start_time = timeit.default_timer()\n",
        "\n",
        "model = LGBMRegressor(random_state=23)\n",
        "model.fit(X_train_ohe, y_train, eval_set=[(X_test_ohe, y_test),], eval_metric=[\"rmse\"])\n",
        "\n",
        "elapsed_fitting = timeit.default_timer() - start_time\n",
        "\n",
        "\n",
        "\n",
        "start_time = timeit.default_timer()\n",
        "\n",
        "predictions = model.predict(X_test_ohe)\n",
        "\n",
        "elapsed_prediction = timeit.default_timer() - start_time\n",
        "\n",
        "\n",
        "\n",
        "current_model = pd.DataFrame({'Model': ['LightGBM'],\n",
        "              'learning time, sec': [elapsed_fitting],\n",
        "              'prediction time, sec': [elapsed_prediction],\n",
        "              'RMSE, euro': [mean_squared_error(y_test, predictions)**0.5]})\n",
        "all_models = all_models.merge(current_model, how = 'outer')\n",
        "all_models"
      ]
    },
    {
      "cell_type": "markdown",
      "metadata": {
        "id": "aNQdxuY8zLRT"
      },
      "source": [
        "## Анализ моделей"
      ]
    },
    {
      "cell_type": "markdown",
      "metadata": {
        "id": "GfHlhkoezLRT"
      },
      "source": [
        "Наилучшая скорость работы - у дерева решений, 12 секунд. Схожие параметры у градиентного бустинга LightGBM. Минимальным RMSE обладает Случайный лест (1651 евро), но и LightGBM показывает корень среднеквадратической ошибки на уровне 1718 евро.\n",
        "\n",
        "Улучшим параметры градиентного бустинга LightGBM с помощью GridSearch:"
      ]
    },
    {
      "cell_type": "code",
      "execution_count": null,
      "metadata": {
        "scrolled": true,
        "id": "OBne33zszLRT",
        "outputId": "52263509-56ac-4e84-afe6-2f186caebdb9"
      },
      "outputs": [
        {
          "name": "stdout",
          "output_type": "stream",
          "text": [
            "[1]\tvalid_0's rmse: 4231.55\tvalid_0's l2: 1.7906e+07\n",
            "[2]\tvalid_0's rmse: 3957.55\tvalid_0's l2: 1.56622e+07\n",
            "[3]\tvalid_0's rmse: 3714.53\tvalid_0's l2: 1.37977e+07\n",
            "[4]\tvalid_0's rmse: 3497.89\tvalid_0's l2: 1.22352e+07\n",
            "[5]\tvalid_0's rmse: 3312.2\tvalid_0's l2: 1.09706e+07\n",
            "[6]\tvalid_0's rmse: 3146.81\tvalid_0's l2: 9.90241e+06\n",
            "[7]\tvalid_0's rmse: 3001.39\tvalid_0's l2: 9.00834e+06\n",
            "[8]\tvalid_0's rmse: 2875.4\tvalid_0's l2: 8.26794e+06\n",
            "[9]\tvalid_0's rmse: 2764.97\tvalid_0's l2: 7.64503e+06\n",
            "[10]\tvalid_0's rmse: 2670.93\tvalid_0's l2: 7.13387e+06\n",
            "[11]\tvalid_0's rmse: 2587.03\tvalid_0's l2: 6.69272e+06\n",
            "[12]\tvalid_0's rmse: 2513.28\tvalid_0's l2: 6.31659e+06\n",
            "[13]\tvalid_0's rmse: 2449.13\tvalid_0's l2: 5.99822e+06\n",
            "[14]\tvalid_0's rmse: 2393.4\tvalid_0's l2: 5.72836e+06\n",
            "[15]\tvalid_0's rmse: 2345.6\tvalid_0's l2: 5.50184e+06\n",
            "[16]\tvalid_0's rmse: 2299.87\tvalid_0's l2: 5.28938e+06\n",
            "[17]\tvalid_0's rmse: 2261.57\tvalid_0's l2: 5.11468e+06\n",
            "[18]\tvalid_0's rmse: 2226.6\tvalid_0's l2: 4.95775e+06\n",
            "[19]\tvalid_0's rmse: 2195.24\tvalid_0's l2: 4.8191e+06\n",
            "[20]\tvalid_0's rmse: 2168.53\tvalid_0's l2: 4.70252e+06\n",
            "[21]\tvalid_0's rmse: 2143.97\tvalid_0's l2: 4.59662e+06\n",
            "[22]\tvalid_0's rmse: 2122.63\tvalid_0's l2: 4.50555e+06\n",
            "[23]\tvalid_0's rmse: 2101.8\tvalid_0's l2: 4.41755e+06\n",
            "[24]\tvalid_0's rmse: 2080.28\tvalid_0's l2: 4.32755e+06\n",
            "[25]\tvalid_0's rmse: 2062.12\tvalid_0's l2: 4.25232e+06\n",
            "[26]\tvalid_0's rmse: 2047.41\tvalid_0's l2: 4.1919e+06\n",
            "[27]\tvalid_0's rmse: 2031.45\tvalid_0's l2: 4.1268e+06\n",
            "[28]\tvalid_0's rmse: 2020.08\tvalid_0's l2: 4.08072e+06\n",
            "[29]\tvalid_0's rmse: 2005.17\tvalid_0's l2: 4.02069e+06\n",
            "[30]\tvalid_0's rmse: 1993.65\tvalid_0's l2: 3.97462e+06\n",
            "[31]\tvalid_0's rmse: 1982\tvalid_0's l2: 3.92832e+06\n",
            "[32]\tvalid_0's rmse: 1972.38\tvalid_0's l2: 3.8903e+06\n",
            "[33]\tvalid_0's rmse: 1963.68\tvalid_0's l2: 3.85603e+06\n",
            "[34]\tvalid_0's rmse: 1956.45\tvalid_0's l2: 3.82768e+06\n",
            "[35]\tvalid_0's rmse: 1945.22\tvalid_0's l2: 3.78389e+06\n",
            "[36]\tvalid_0's rmse: 1937.92\tvalid_0's l2: 3.75553e+06\n",
            "[37]\tvalid_0's rmse: 1930.39\tvalid_0's l2: 3.7264e+06\n",
            "[38]\tvalid_0's rmse: 1925.08\tvalid_0's l2: 3.70593e+06\n",
            "[39]\tvalid_0's rmse: 1917.55\tvalid_0's l2: 3.67698e+06\n",
            "[40]\tvalid_0's rmse: 1912.8\tvalid_0's l2: 3.6588e+06\n",
            "[41]\tvalid_0's rmse: 1907.46\tvalid_0's l2: 3.6384e+06\n",
            "[42]\tvalid_0's rmse: 1902.26\tvalid_0's l2: 3.61858e+06\n",
            "[43]\tvalid_0's rmse: 1898.68\tvalid_0's l2: 3.60499e+06\n",
            "[44]\tvalid_0's rmse: 1894.6\tvalid_0's l2: 3.5895e+06\n",
            "[45]\tvalid_0's rmse: 1887.96\tvalid_0's l2: 3.56439e+06\n",
            "[46]\tvalid_0's rmse: 1884.54\tvalid_0's l2: 3.55149e+06\n",
            "[47]\tvalid_0's rmse: 1880.5\tvalid_0's l2: 3.53627e+06\n",
            "[48]\tvalid_0's rmse: 1875.02\tvalid_0's l2: 3.5157e+06\n",
            "[49]\tvalid_0's rmse: 1871.25\tvalid_0's l2: 3.50156e+06\n",
            "[50]\tvalid_0's rmse: 1867.98\tvalid_0's l2: 3.48934e+06\n",
            "[51]\tvalid_0's rmse: 1865.56\tvalid_0's l2: 3.48032e+06\n",
            "[52]\tvalid_0's rmse: 1863.02\tvalid_0's l2: 3.47084e+06\n",
            "[53]\tvalid_0's rmse: 1861.56\tvalid_0's l2: 3.4654e+06\n",
            "[54]\tvalid_0's rmse: 1856.56\tvalid_0's l2: 3.44681e+06\n",
            "[55]\tvalid_0's rmse: 1854.99\tvalid_0's l2: 3.441e+06\n",
            "[56]\tvalid_0's rmse: 1853.28\tvalid_0's l2: 3.43464e+06\n",
            "[57]\tvalid_0's rmse: 1850.39\tvalid_0's l2: 3.42393e+06\n",
            "[58]\tvalid_0's rmse: 1848.03\tvalid_0's l2: 3.41523e+06\n",
            "[59]\tvalid_0's rmse: 1844.16\tvalid_0's l2: 3.40092e+06\n",
            "[60]\tvalid_0's rmse: 1842.74\tvalid_0's l2: 3.39571e+06\n",
            "[61]\tvalid_0's rmse: 1841.45\tvalid_0's l2: 3.39094e+06\n",
            "[62]\tvalid_0's rmse: 1840.53\tvalid_0's l2: 3.38757e+06\n",
            "[63]\tvalid_0's rmse: 1838.76\tvalid_0's l2: 3.38103e+06\n",
            "[64]\tvalid_0's rmse: 1837.18\tvalid_0's l2: 3.37522e+06\n",
            "[65]\tvalid_0's rmse: 1834.07\tvalid_0's l2: 3.36381e+06\n",
            "[66]\tvalid_0's rmse: 1831.52\tvalid_0's l2: 3.35447e+06\n",
            "[67]\tvalid_0's rmse: 1829.82\tvalid_0's l2: 3.34825e+06\n",
            "[68]\tvalid_0's rmse: 1828.56\tvalid_0's l2: 3.34363e+06\n",
            "[69]\tvalid_0's rmse: 1827.52\tvalid_0's l2: 3.33982e+06\n",
            "[70]\tvalid_0's rmse: 1826.41\tvalid_0's l2: 3.33576e+06\n",
            "[71]\tvalid_0's rmse: 1825.02\tvalid_0's l2: 3.33068e+06\n",
            "[72]\tvalid_0's rmse: 1823.06\tvalid_0's l2: 3.32356e+06\n",
            "[73]\tvalid_0's rmse: 1820.3\tvalid_0's l2: 3.31351e+06\n",
            "[74]\tvalid_0's rmse: 1818.71\tvalid_0's l2: 3.3077e+06\n",
            "[75]\tvalid_0's rmse: 1816.8\tvalid_0's l2: 3.30075e+06\n",
            "[76]\tvalid_0's rmse: 1816\tvalid_0's l2: 3.29785e+06\n",
            "[77]\tvalid_0's rmse: 1815.28\tvalid_0's l2: 3.29525e+06\n",
            "[78]\tvalid_0's rmse: 1814.04\tvalid_0's l2: 3.29074e+06\n",
            "[79]\tvalid_0's rmse: 1813.16\tvalid_0's l2: 3.28754e+06\n",
            "[80]\tvalid_0's rmse: 1811.91\tvalid_0's l2: 3.28302e+06\n",
            "[81]\tvalid_0's rmse: 1810.99\tvalid_0's l2: 3.27969e+06\n",
            "[82]\tvalid_0's rmse: 1810.25\tvalid_0's l2: 3.277e+06\n",
            "[83]\tvalid_0's rmse: 1809.08\tvalid_0's l2: 3.27277e+06\n",
            "[84]\tvalid_0's rmse: 1808.47\tvalid_0's l2: 3.27056e+06\n",
            "[85]\tvalid_0's rmse: 1807.92\tvalid_0's l2: 3.26857e+06\n",
            "[86]\tvalid_0's rmse: 1807.46\tvalid_0's l2: 3.26692e+06\n",
            "[87]\tvalid_0's rmse: 1806.64\tvalid_0's l2: 3.26394e+06\n",
            "[88]\tvalid_0's rmse: 1805.5\tvalid_0's l2: 3.25984e+06\n",
            "[89]\tvalid_0's rmse: 1804\tvalid_0's l2: 3.2544e+06\n",
            "[90]\tvalid_0's rmse: 1802.63\tvalid_0's l2: 3.24947e+06\n",
            "[91]\tvalid_0's rmse: 1801.71\tvalid_0's l2: 3.24616e+06\n",
            "[92]\tvalid_0's rmse: 1800.01\tvalid_0's l2: 3.24003e+06\n",
            "[93]\tvalid_0's rmse: 1799.46\tvalid_0's l2: 3.23805e+06\n",
            "[94]\tvalid_0's rmse: 1798.75\tvalid_0's l2: 3.2355e+06\n",
            "[95]\tvalid_0's rmse: 1798.3\tvalid_0's l2: 3.23387e+06\n",
            "[96]\tvalid_0's rmse: 1797.27\tvalid_0's l2: 3.23019e+06\n",
            "[97]\tvalid_0's rmse: 1796.7\tvalid_0's l2: 3.22812e+06\n",
            "[98]\tvalid_0's rmse: 1795.92\tvalid_0's l2: 3.22534e+06\n",
            "[99]\tvalid_0's rmse: 1795.59\tvalid_0's l2: 3.22414e+06\n",
            "[100]\tvalid_0's rmse: 1794.86\tvalid_0's l2: 3.22152e+06\n",
            "[1]\tvalid_0's rmse: 4236.96\tvalid_0's l2: 1.79518e+07\n",
            "[2]\tvalid_0's rmse: 3956.98\tvalid_0's l2: 1.56577e+07\n",
            "[3]\tvalid_0's rmse: 3712.12\tvalid_0's l2: 1.37799e+07\n",
            "[4]\tvalid_0's rmse: 3500.36\tvalid_0's l2: 1.22525e+07\n",
            "[5]\tvalid_0's rmse: 3315.59\tvalid_0's l2: 1.09931e+07\n",
            "[6]\tvalid_0's rmse: 3149.03\tvalid_0's l2: 9.91641e+06\n",
            "[7]\tvalid_0's rmse: 3005.24\tvalid_0's l2: 9.03147e+06\n",
            "[8]\tvalid_0's rmse: 2876.55\tvalid_0's l2: 8.27455e+06\n",
            "[9]\tvalid_0's rmse: 2767.2\tvalid_0's l2: 7.65741e+06\n",
            "[10]\tvalid_0's rmse: 2671.02\tvalid_0's l2: 7.13437e+06\n",
            "[11]\tvalid_0's rmse: 2586.25\tvalid_0's l2: 6.68868e+06\n",
            "[12]\tvalid_0's rmse: 2513\tvalid_0's l2: 6.31517e+06\n",
            "[13]\tvalid_0's rmse: 2450.51\tvalid_0's l2: 6.00499e+06\n",
            "[14]\tvalid_0's rmse: 2394.69\tvalid_0's l2: 5.73452e+06\n",
            "[15]\tvalid_0's rmse: 2346.42\tvalid_0's l2: 5.5057e+06\n",
            "[16]\tvalid_0's rmse: 2303.19\tvalid_0's l2: 5.30467e+06\n",
            "[17]\tvalid_0's rmse: 2263.53\tvalid_0's l2: 5.12358e+06\n",
            "[18]\tvalid_0's rmse: 2229.27\tvalid_0's l2: 4.96963e+06\n",
            "[19]\tvalid_0's rmse: 2197.99\tvalid_0's l2: 4.83117e+06\n",
            "[20]\tvalid_0's rmse: 2171.21\tvalid_0's l2: 4.71416e+06\n",
            "[21]\tvalid_0's rmse: 2144.03\tvalid_0's l2: 4.59688e+06\n",
            "[22]\tvalid_0's rmse: 2121.78\tvalid_0's l2: 4.50196e+06\n",
            "[23]\tvalid_0's rmse: 2100.67\tvalid_0's l2: 4.41281e+06\n",
            "[24]\tvalid_0's rmse: 2081.41\tvalid_0's l2: 4.33229e+06\n",
            "[25]\tvalid_0's rmse: 2061.77\tvalid_0's l2: 4.25091e+06\n",
            "[26]\tvalid_0's rmse: 2046.13\tvalid_0's l2: 4.18664e+06\n",
            "[27]\tvalid_0's rmse: 2029.97\tvalid_0's l2: 4.12077e+06\n",
            "[28]\tvalid_0's rmse: 2016.85\tvalid_0's l2: 4.06767e+06\n",
            "[29]\tvalid_0's rmse: 2005.56\tvalid_0's l2: 4.02226e+06\n",
            "[30]\tvalid_0's rmse: 1990.04\tvalid_0's l2: 3.96028e+06\n",
            "[31]\tvalid_0's rmse: 1977.97\tvalid_0's l2: 3.91235e+06\n",
            "[32]\tvalid_0's rmse: 1968.22\tvalid_0's l2: 3.8739e+06\n",
            "[33]\tvalid_0's rmse: 1958.64\tvalid_0's l2: 3.83625e+06\n",
            "[34]\tvalid_0's rmse: 1949.18\tvalid_0's l2: 3.79929e+06\n",
            "[35]\tvalid_0's rmse: 1940.57\tvalid_0's l2: 3.76581e+06\n",
            "[36]\tvalid_0's rmse: 1934.09\tvalid_0's l2: 3.74071e+06\n",
            "[37]\tvalid_0's rmse: 1927.46\tvalid_0's l2: 3.7151e+06\n",
            "[38]\tvalid_0's rmse: 1920.43\tvalid_0's l2: 3.68805e+06\n",
            "[39]\tvalid_0's rmse: 1915.67\tvalid_0's l2: 3.66978e+06\n",
            "[40]\tvalid_0's rmse: 1910.06\tvalid_0's l2: 3.64832e+06\n",
            "[41]\tvalid_0's rmse: 1905.44\tvalid_0's l2: 3.63068e+06\n",
            "[42]\tvalid_0's rmse: 1898.74\tvalid_0's l2: 3.60522e+06\n",
            "[43]\tvalid_0's rmse: 1894.51\tvalid_0's l2: 3.58916e+06\n",
            "[44]\tvalid_0's rmse: 1890.05\tvalid_0's l2: 3.57229e+06\n",
            "[45]\tvalid_0's rmse: 1884.69\tvalid_0's l2: 3.55204e+06\n",
            "[46]\tvalid_0's rmse: 1881.23\tvalid_0's l2: 3.53903e+06\n",
            "[47]\tvalid_0's rmse: 1876.57\tvalid_0's l2: 3.5215e+06\n",
            "[48]\tvalid_0's rmse: 1873.37\tvalid_0's l2: 3.5095e+06\n",
            "[49]\tvalid_0's rmse: 1868.05\tvalid_0's l2: 3.48961e+06\n",
            "[50]\tvalid_0's rmse: 1865.1\tvalid_0's l2: 3.47862e+06\n",
            "[51]\tvalid_0's rmse: 1863.03\tvalid_0's l2: 3.47089e+06\n",
            "[52]\tvalid_0's rmse: 1860.34\tvalid_0's l2: 3.46087e+06\n",
            "[53]\tvalid_0's rmse: 1857.59\tvalid_0's l2: 3.45063e+06\n",
            "[54]\tvalid_0's rmse: 1855.9\tvalid_0's l2: 3.44437e+06\n",
            "[55]\tvalid_0's rmse: 1852.08\tvalid_0's l2: 3.43019e+06\n",
            "[56]\tvalid_0's rmse: 1849.18\tvalid_0's l2: 3.41945e+06\n",
            "[57]\tvalid_0's rmse: 1846.13\tvalid_0's l2: 3.40818e+06\n",
            "[58]\tvalid_0's rmse: 1844.2\tvalid_0's l2: 3.40107e+06\n",
            "[59]\tvalid_0's rmse: 1842.5\tvalid_0's l2: 3.39482e+06\n",
            "[60]\tvalid_0's rmse: 1840.34\tvalid_0's l2: 3.38686e+06\n",
            "[61]\tvalid_0's rmse: 1838.82\tvalid_0's l2: 3.38124e+06\n",
            "[62]\tvalid_0's rmse: 1836.91\tvalid_0's l2: 3.37423e+06\n",
            "[63]\tvalid_0's rmse: 1835.24\tvalid_0's l2: 3.36812e+06\n",
            "[64]\tvalid_0's rmse: 1833.47\tvalid_0's l2: 3.36163e+06\n",
            "[65]\tvalid_0's rmse: 1831.94\tvalid_0's l2: 3.356e+06\n",
            "[66]\tvalid_0's rmse: 1830.64\tvalid_0's l2: 3.35123e+06\n",
            "[67]\tvalid_0's rmse: 1829.58\tvalid_0's l2: 3.34736e+06\n",
            "[68]\tvalid_0's rmse: 1826.43\tvalid_0's l2: 3.33583e+06\n",
            "[69]\tvalid_0's rmse: 1825.55\tvalid_0's l2: 3.33264e+06\n",
            "[70]\tvalid_0's rmse: 1824.13\tvalid_0's l2: 3.32745e+06\n",
            "[71]\tvalid_0's rmse: 1822.91\tvalid_0's l2: 3.323e+06\n",
            "[72]\tvalid_0's rmse: 1821.67\tvalid_0's l2: 3.31849e+06\n",
            "[73]\tvalid_0's rmse: 1818.51\tvalid_0's l2: 3.30697e+06\n",
            "[74]\tvalid_0's rmse: 1817.43\tvalid_0's l2: 3.30307e+06\n",
            "[75]\tvalid_0's rmse: 1816.47\tvalid_0's l2: 3.29957e+06\n",
            "[76]\tvalid_0's rmse: 1814.81\tvalid_0's l2: 3.29354e+06\n",
            "[77]\tvalid_0's rmse: 1814.04\tvalid_0's l2: 3.29074e+06\n",
            "[78]\tvalid_0's rmse: 1812.38\tvalid_0's l2: 3.28471e+06\n",
            "[79]\tvalid_0's rmse: 1811.07\tvalid_0's l2: 3.27999e+06\n",
            "[80]\tvalid_0's rmse: 1810.38\tvalid_0's l2: 3.27748e+06\n",
            "[81]\tvalid_0's rmse: 1809.27\tvalid_0's l2: 3.27346e+06\n",
            "[82]\tvalid_0's rmse: 1807.7\tvalid_0's l2: 3.26778e+06\n",
            "[83]\tvalid_0's rmse: 1806.1\tvalid_0's l2: 3.26201e+06\n",
            "[84]\tvalid_0's rmse: 1804.82\tvalid_0's l2: 3.25737e+06\n",
            "[85]\tvalid_0's rmse: 1804.1\tvalid_0's l2: 3.25478e+06\n",
            "[86]\tvalid_0's rmse: 1803.5\tvalid_0's l2: 3.25262e+06\n",
            "[87]\tvalid_0's rmse: 1802.42\tvalid_0's l2: 3.24871e+06\n",
            "[88]\tvalid_0's rmse: 1801.72\tvalid_0's l2: 3.2462e+06\n",
            "[89]\tvalid_0's rmse: 1800.86\tvalid_0's l2: 3.24308e+06\n",
            "[90]\tvalid_0's rmse: 1798.9\tvalid_0's l2: 3.23605e+06\n",
            "[91]\tvalid_0's rmse: 1798.24\tvalid_0's l2: 3.23368e+06\n",
            "[92]\tvalid_0's rmse: 1797.63\tvalid_0's l2: 3.23149e+06\n",
            "[93]\tvalid_0's rmse: 1797.08\tvalid_0's l2: 3.22951e+06\n",
            "[94]\tvalid_0's rmse: 1795.62\tvalid_0's l2: 3.22426e+06\n",
            "[95]\tvalid_0's rmse: 1795.11\tvalid_0's l2: 3.22243e+06\n",
            "[96]\tvalid_0's rmse: 1794.43\tvalid_0's l2: 3.21997e+06\n",
            "[97]\tvalid_0's rmse: 1793.73\tvalid_0's l2: 3.21747e+06\n",
            "[98]\tvalid_0's rmse: 1793.21\tvalid_0's l2: 3.2156e+06\n",
            "[99]\tvalid_0's rmse: 1792.13\tvalid_0's l2: 3.21172e+06\n",
            "[100]\tvalid_0's rmse: 1791.65\tvalid_0's l2: 3.20999e+06\n",
            "[1]\tvalid_0's rmse: 4231.24\tvalid_0's l2: 1.79034e+07\n",
            "[2]\tvalid_0's rmse: 3957.13\tvalid_0's l2: 1.56589e+07\n",
            "[3]\tvalid_0's rmse: 3714.01\tvalid_0's l2: 1.37939e+07\n",
            "[4]\tvalid_0's rmse: 3497.19\tvalid_0's l2: 1.22303e+07\n",
            "[5]\tvalid_0's rmse: 3311.37\tvalid_0's l2: 1.09652e+07\n",
            "[6]\tvalid_0's rmse: 3145.8\tvalid_0's l2: 9.89606e+06\n",
            "[7]\tvalid_0's rmse: 3000.36\tvalid_0's l2: 9.00215e+06\n",
            "[8]\tvalid_0's rmse: 2874.27\tvalid_0's l2: 8.26142e+06\n",
            "[9]\tvalid_0's rmse: 2763.72\tvalid_0's l2: 7.63813e+06\n",
            "[10]\tvalid_0's rmse: 2669.96\tvalid_0's l2: 7.12871e+06\n",
            "[11]\tvalid_0's rmse: 2586.77\tvalid_0's l2: 6.69136e+06\n",
            "[12]\tvalid_0's rmse: 2514.53\tvalid_0's l2: 6.32288e+06\n",
            "[13]\tvalid_0's rmse: 2450.13\tvalid_0's l2: 6.00311e+06\n",
            "[14]\tvalid_0's rmse: 2394.65\tvalid_0's l2: 5.73436e+06\n",
            "[15]\tvalid_0's rmse: 2343.93\tvalid_0's l2: 5.49399e+06\n",
            "[16]\tvalid_0's rmse: 2301.25\tvalid_0's l2: 5.29575e+06\n",
            "[17]\tvalid_0's rmse: 2262.66\tvalid_0's l2: 5.11965e+06\n",
            "[18]\tvalid_0's rmse: 2226.8\tvalid_0's l2: 4.95863e+06\n",
            "[19]\tvalid_0's rmse: 2196.45\tvalid_0's l2: 4.8244e+06\n",
            "[20]\tvalid_0's rmse: 2168.16\tvalid_0's l2: 4.70092e+06\n",
            "[21]\tvalid_0's rmse: 2144.01\tvalid_0's l2: 4.59679e+06\n",
            "[22]\tvalid_0's rmse: 2120.4\tvalid_0's l2: 4.49611e+06\n",
            "[23]\tvalid_0's rmse: 2100.52\tvalid_0's l2: 4.41219e+06\n",
            "[24]\tvalid_0's rmse: 2080.6\tvalid_0's l2: 4.32891e+06\n",
            "[25]\tvalid_0's rmse: 2063.95\tvalid_0's l2: 4.25988e+06\n",
            "[26]\tvalid_0's rmse: 2048.89\tvalid_0's l2: 4.19794e+06\n",
            "[27]\tvalid_0's rmse: 2034.87\tvalid_0's l2: 4.1407e+06\n",
            "[28]\tvalid_0's rmse: 2017.18\tvalid_0's l2: 4.06902e+06\n",
            "[29]\tvalid_0's rmse: 2003.6\tvalid_0's l2: 4.0144e+06\n",
            "[30]\tvalid_0's rmse: 1994.22\tvalid_0's l2: 3.97693e+06\n",
            "[31]\tvalid_0's rmse: 1983.35\tvalid_0's l2: 3.93368e+06\n",
            "[32]\tvalid_0's rmse: 1973.52\tvalid_0's l2: 3.89476e+06\n",
            "[33]\tvalid_0's rmse: 1964.9\tvalid_0's l2: 3.86085e+06\n",
            "[34]\tvalid_0's rmse: 1955.71\tvalid_0's l2: 3.8248e+06\n",
            "[35]\tvalid_0's rmse: 1946.8\tvalid_0's l2: 3.79004e+06\n",
            "[36]\tvalid_0's rmse: 1939.68\tvalid_0's l2: 3.76237e+06\n",
            "[37]\tvalid_0's rmse: 1934.11\tvalid_0's l2: 3.74079e+06\n",
            "[38]\tvalid_0's rmse: 1927.26\tvalid_0's l2: 3.71434e+06\n",
            "[39]\tvalid_0's rmse: 1922.1\tvalid_0's l2: 3.69446e+06\n",
            "[40]\tvalid_0's rmse: 1915.52\tvalid_0's l2: 3.66921e+06\n",
            "[41]\tvalid_0's rmse: 1911.47\tvalid_0's l2: 3.65372e+06\n",
            "[42]\tvalid_0's rmse: 1906.37\tvalid_0's l2: 3.63424e+06\n",
            "[43]\tvalid_0's rmse: 1898.6\tvalid_0's l2: 3.60467e+06\n",
            "[44]\tvalid_0's rmse: 1894.27\tvalid_0's l2: 3.58827e+06\n",
            "[45]\tvalid_0's rmse: 1890.06\tvalid_0's l2: 3.57233e+06\n",
            "[46]\tvalid_0's rmse: 1886.69\tvalid_0's l2: 3.5596e+06\n",
            "[47]\tvalid_0's rmse: 1881.88\tvalid_0's l2: 3.54149e+06\n",
            "[48]\tvalid_0's rmse: 1877.53\tvalid_0's l2: 3.5251e+06\n",
            "[49]\tvalid_0's rmse: 1874.56\tvalid_0's l2: 3.51399e+06\n",
            "[50]\tvalid_0's rmse: 1872.42\tvalid_0's l2: 3.50595e+06\n",
            "[51]\tvalid_0's rmse: 1870.17\tvalid_0's l2: 3.49752e+06\n",
            "[52]\tvalid_0's rmse: 1868.15\tvalid_0's l2: 3.48998e+06\n",
            "[53]\tvalid_0's rmse: 1865.85\tvalid_0's l2: 3.48138e+06\n",
            "[54]\tvalid_0's rmse: 1863.33\tvalid_0's l2: 3.47201e+06\n",
            "[55]\tvalid_0's rmse: 1858.56\tvalid_0's l2: 3.45423e+06\n",
            "[56]\tvalid_0's rmse: 1855.88\tvalid_0's l2: 3.44428e+06\n",
            "[57]\tvalid_0's rmse: 1854.61\tvalid_0's l2: 3.43958e+06\n",
            "[58]\tvalid_0's rmse: 1852.35\tvalid_0's l2: 3.4312e+06\n",
            "[59]\tvalid_0's rmse: 1850.49\tvalid_0's l2: 3.42432e+06\n",
            "[60]\tvalid_0's rmse: 1848.95\tvalid_0's l2: 3.41861e+06\n",
            "[61]\tvalid_0's rmse: 1847.47\tvalid_0's l2: 3.41315e+06\n",
            "[62]\tvalid_0's rmse: 1846.14\tvalid_0's l2: 3.40823e+06\n",
            "[63]\tvalid_0's rmse: 1843.05\tvalid_0's l2: 3.39684e+06\n",
            "[64]\tvalid_0's rmse: 1840.16\tvalid_0's l2: 3.38617e+06\n",
            "[65]\tvalid_0's rmse: 1838.55\tvalid_0's l2: 3.38025e+06\n",
            "[66]\tvalid_0's rmse: 1837.39\tvalid_0's l2: 3.37599e+06\n",
            "[67]\tvalid_0's rmse: 1836.14\tvalid_0's l2: 3.3714e+06\n",
            "[68]\tvalid_0's rmse: 1834.28\tvalid_0's l2: 3.36459e+06\n",
            "[69]\tvalid_0's rmse: 1832.09\tvalid_0's l2: 3.35655e+06\n",
            "[70]\tvalid_0's rmse: 1830.99\tvalid_0's l2: 3.35252e+06\n",
            "[71]\tvalid_0's rmse: 1828.96\tvalid_0's l2: 3.34511e+06\n",
            "[72]\tvalid_0's rmse: 1826.34\tvalid_0's l2: 3.33553e+06\n",
            "[73]\tvalid_0's rmse: 1824.9\tvalid_0's l2: 3.33026e+06\n",
            "[74]\tvalid_0's rmse: 1823.45\tvalid_0's l2: 3.32496e+06\n",
            "[75]\tvalid_0's rmse: 1822.88\tvalid_0's l2: 3.32288e+06\n",
            "[76]\tvalid_0's rmse: 1820.68\tvalid_0's l2: 3.31488e+06\n",
            "[77]\tvalid_0's rmse: 1819.36\tvalid_0's l2: 3.31007e+06\n",
            "[78]\tvalid_0's rmse: 1818.59\tvalid_0's l2: 3.30727e+06\n",
            "[79]\tvalid_0's rmse: 1817.94\tvalid_0's l2: 3.30492e+06\n",
            "[80]\tvalid_0's rmse: 1816.06\tvalid_0's l2: 3.29808e+06\n",
            "[81]\tvalid_0's rmse: 1814.83\tvalid_0's l2: 3.29361e+06\n",
            "[82]\tvalid_0's rmse: 1813.76\tvalid_0's l2: 3.28971e+06\n",
            "[83]\tvalid_0's rmse: 1813.09\tvalid_0's l2: 3.2873e+06\n",
            "[84]\tvalid_0's rmse: 1812.18\tvalid_0's l2: 3.28399e+06\n",
            "[85]\tvalid_0's rmse: 1811.13\tvalid_0's l2: 3.28019e+06\n",
            "[86]\tvalid_0's rmse: 1810.4\tvalid_0's l2: 3.27755e+06\n",
            "[87]\tvalid_0's rmse: 1809.9\tvalid_0's l2: 3.27573e+06\n",
            "[88]\tvalid_0's rmse: 1809.22\tvalid_0's l2: 3.27328e+06\n",
            "[89]\tvalid_0's rmse: 1808.39\tvalid_0's l2: 3.27029e+06\n",
            "[90]\tvalid_0's rmse: 1807.79\tvalid_0's l2: 3.2681e+06\n",
            "[91]\tvalid_0's rmse: 1806.96\tvalid_0's l2: 3.26509e+06\n",
            "[92]\tvalid_0's rmse: 1806.32\tvalid_0's l2: 3.26279e+06\n",
            "[93]\tvalid_0's rmse: 1805.89\tvalid_0's l2: 3.26125e+06\n",
            "[94]\tvalid_0's rmse: 1805.21\tvalid_0's l2: 3.25879e+06\n",
            "[95]\tvalid_0's rmse: 1804.65\tvalid_0's l2: 3.25677e+06\n",
            "[96]\tvalid_0's rmse: 1803.82\tvalid_0's l2: 3.25376e+06\n",
            "[97]\tvalid_0's rmse: 1802.81\tvalid_0's l2: 3.25011e+06\n",
            "[98]\tvalid_0's rmse: 1801.4\tvalid_0's l2: 3.24506e+06\n",
            "[99]\tvalid_0's rmse: 1800.86\tvalid_0's l2: 3.24309e+06\n",
            "[100]\tvalid_0's rmse: 1800.4\tvalid_0's l2: 3.24145e+06\n",
            "[1]\tvalid_0's rmse: 4236.64\tvalid_0's l2: 1.79491e+07\n",
            "[2]\tvalid_0's rmse: 3955.66\tvalid_0's l2: 1.56472e+07\n",
            "[3]\tvalid_0's rmse: 3710.7\tvalid_0's l2: 1.37693e+07\n",
            "[4]\tvalid_0's rmse: 3498.72\tvalid_0's l2: 1.2241e+07\n",
            "[5]\tvalid_0's rmse: 3313.82\tvalid_0's l2: 1.09814e+07\n",
            "[6]\tvalid_0's rmse: 3147.4\tvalid_0's l2: 9.90612e+06\n",
            "[7]\tvalid_0's rmse: 3002.96\tvalid_0's l2: 9.01779e+06\n",
            "[8]\tvalid_0's rmse: 2874.08\tvalid_0's l2: 8.26031e+06\n",
            "[9]\tvalid_0's rmse: 2765.01\tvalid_0's l2: 7.6453e+06\n",
            "[10]\tvalid_0's rmse: 2668.23\tvalid_0's l2: 7.11945e+06\n",
            "[11]\tvalid_0's rmse: 2584.72\tvalid_0's l2: 6.68076e+06\n",
            "[12]\tvalid_0's rmse: 2511.58\tvalid_0's l2: 6.30804e+06\n",
            "[13]\tvalid_0's rmse: 2447.24\tvalid_0's l2: 5.98899e+06\n",
            "[14]\tvalid_0's rmse: 2390.5\tvalid_0's l2: 5.71451e+06\n",
            "[15]\tvalid_0's rmse: 2340.63\tvalid_0's l2: 5.47854e+06\n",
            "[16]\tvalid_0's rmse: 2298.27\tvalid_0's l2: 5.28204e+06\n",
            "[17]\tvalid_0's rmse: 2258.85\tvalid_0's l2: 5.10242e+06\n",
            "[18]\tvalid_0's rmse: 2224.6\tvalid_0's l2: 4.94883e+06\n",
            "[19]\tvalid_0's rmse: 2193.76\tvalid_0's l2: 4.81259e+06\n",
            "[20]\tvalid_0's rmse: 2165.25\tvalid_0's l2: 4.68829e+06\n",
            "[21]\tvalid_0's rmse: 2139.62\tvalid_0's l2: 4.57797e+06\n",
            "[22]\tvalid_0's rmse: 2117.03\tvalid_0's l2: 4.48181e+06\n",
            "[23]\tvalid_0's rmse: 2097.41\tvalid_0's l2: 4.39914e+06\n",
            "[24]\tvalid_0's rmse: 2077.9\tvalid_0's l2: 4.31766e+06\n",
            "[25]\tvalid_0's rmse: 2060.21\tvalid_0's l2: 4.24448e+06\n",
            "[26]\tvalid_0's rmse: 2043.92\tvalid_0's l2: 4.17761e+06\n",
            "[27]\tvalid_0's rmse: 2030.29\tvalid_0's l2: 4.12207e+06\n",
            "[28]\tvalid_0's rmse: 2017.99\tvalid_0's l2: 4.07227e+06\n",
            "[29]\tvalid_0's rmse: 2005.49\tvalid_0's l2: 4.02199e+06\n",
            "[30]\tvalid_0's rmse: 1994.76\tvalid_0's l2: 3.97907e+06\n",
            "[31]\tvalid_0's rmse: 1983.17\tvalid_0's l2: 3.93294e+06\n",
            "[32]\tvalid_0's rmse: 1973.32\tvalid_0's l2: 3.89401e+06\n",
            "[33]\tvalid_0's rmse: 1963.39\tvalid_0's l2: 3.85492e+06\n",
            "[34]\tvalid_0's rmse: 1955.98\tvalid_0's l2: 3.82587e+06\n",
            "[35]\tvalid_0's rmse: 1945.18\tvalid_0's l2: 3.78373e+06\n",
            "[36]\tvalid_0's rmse: 1938.07\tvalid_0's l2: 3.75613e+06\n",
            "[37]\tvalid_0's rmse: 1930.66\tvalid_0's l2: 3.72744e+06\n",
            "[38]\tvalid_0's rmse: 1924.48\tvalid_0's l2: 3.70361e+06\n",
            "[39]\tvalid_0's rmse: 1917.85\tvalid_0's l2: 3.67813e+06\n",
            "[40]\tvalid_0's rmse: 1912.23\tvalid_0's l2: 3.65661e+06\n",
            "[41]\tvalid_0's rmse: 1903.76\tvalid_0's l2: 3.6243e+06\n",
            "[42]\tvalid_0's rmse: 1898.83\tvalid_0's l2: 3.60557e+06\n",
            "[43]\tvalid_0's rmse: 1893.19\tvalid_0's l2: 3.58419e+06\n",
            "[44]\tvalid_0's rmse: 1886.37\tvalid_0's l2: 3.55838e+06\n",
            "[45]\tvalid_0's rmse: 1882.98\tvalid_0's l2: 3.5456e+06\n",
            "[46]\tvalid_0's rmse: 1879.33\tvalid_0's l2: 3.53187e+06\n",
            "[47]\tvalid_0's rmse: 1874.75\tvalid_0's l2: 3.51469e+06\n",
            "[48]\tvalid_0's rmse: 1871.55\tvalid_0's l2: 3.50269e+06\n",
            "[49]\tvalid_0's rmse: 1867.57\tvalid_0's l2: 3.48781e+06\n",
            "[50]\tvalid_0's rmse: 1864.72\tvalid_0's l2: 3.47719e+06\n",
            "[51]\tvalid_0's rmse: 1862.04\tvalid_0's l2: 3.46718e+06\n",
            "[52]\tvalid_0's rmse: 1858.4\tvalid_0's l2: 3.45364e+06\n",
            "[53]\tvalid_0's rmse: 1856.38\tvalid_0's l2: 3.44616e+06\n",
            "[54]\tvalid_0's rmse: 1854.57\tvalid_0's l2: 3.43942e+06\n",
            "[55]\tvalid_0's rmse: 1852.24\tvalid_0's l2: 3.43078e+06\n",
            "[56]\tvalid_0's rmse: 1849.39\tvalid_0's l2: 3.42024e+06\n",
            "[57]\tvalid_0's rmse: 1846.62\tvalid_0's l2: 3.41002e+06\n",
            "[58]\tvalid_0's rmse: 1845.09\tvalid_0's l2: 3.40435e+06\n",
            "[59]\tvalid_0's rmse: 1841.83\tvalid_0's l2: 3.39233e+06\n",
            "[60]\tvalid_0's rmse: 1840.34\tvalid_0's l2: 3.38683e+06\n",
            "[61]\tvalid_0's rmse: 1837.39\tvalid_0's l2: 3.37599e+06\n",
            "[62]\tvalid_0's rmse: 1836.33\tvalid_0's l2: 3.37211e+06\n",
            "[63]\tvalid_0's rmse: 1833.76\tvalid_0's l2: 3.36267e+06\n",
            "[64]\tvalid_0's rmse: 1831.26\tvalid_0's l2: 3.3535e+06\n",
            "[65]\tvalid_0's rmse: 1829.89\tvalid_0's l2: 3.3485e+06\n",
            "[66]\tvalid_0's rmse: 1827.98\tvalid_0's l2: 3.3415e+06\n",
            "[67]\tvalid_0's rmse: 1826.56\tvalid_0's l2: 3.33633e+06\n",
            "[68]\tvalid_0's rmse: 1823.5\tvalid_0's l2: 3.32516e+06\n",
            "[69]\tvalid_0's rmse: 1822.68\tvalid_0's l2: 3.32217e+06\n",
            "[70]\tvalid_0's rmse: 1821.89\tvalid_0's l2: 3.3193e+06\n",
            "[71]\tvalid_0's rmse: 1820.05\tvalid_0's l2: 3.31258e+06\n",
            "[72]\tvalid_0's rmse: 1819.05\tvalid_0's l2: 3.30895e+06\n",
            "[73]\tvalid_0's rmse: 1818.17\tvalid_0's l2: 3.30574e+06\n",
            "[74]\tvalid_0's rmse: 1816.31\tvalid_0's l2: 3.299e+06\n",
            "[75]\tvalid_0's rmse: 1815.2\tvalid_0's l2: 3.29496e+06\n",
            "[76]\tvalid_0's rmse: 1813.33\tvalid_0's l2: 3.28818e+06\n",
            "[77]\tvalid_0's rmse: 1812.65\tvalid_0's l2: 3.28569e+06\n",
            "[78]\tvalid_0's rmse: 1811.94\tvalid_0's l2: 3.28312e+06\n",
            "[79]\tvalid_0's rmse: 1811.06\tvalid_0's l2: 3.27996e+06\n",
            "[80]\tvalid_0's rmse: 1809.76\tvalid_0's l2: 3.27522e+06\n",
            "[81]\tvalid_0's rmse: 1808.95\tvalid_0's l2: 3.27229e+06\n",
            "[82]\tvalid_0's rmse: 1807.82\tvalid_0's l2: 3.2682e+06\n",
            "[83]\tvalid_0's rmse: 1807.11\tvalid_0's l2: 3.26565e+06\n",
            "[84]\tvalid_0's rmse: 1805.91\tvalid_0's l2: 3.2613e+06\n",
            "[85]\tvalid_0's rmse: 1805.24\tvalid_0's l2: 3.2589e+06\n",
            "[86]\tvalid_0's rmse: 1804.62\tvalid_0's l2: 3.25665e+06\n",
            "[87]\tvalid_0's rmse: 1803.93\tvalid_0's l2: 3.25418e+06\n",
            "[88]\tvalid_0's rmse: 1801.4\tvalid_0's l2: 3.24503e+06\n",
            "[89]\tvalid_0's rmse: 1799.89\tvalid_0's l2: 3.23959e+06\n",
            "[90]\tvalid_0's rmse: 1798.93\tvalid_0's l2: 3.23616e+06\n",
            "[91]\tvalid_0's rmse: 1798.19\tvalid_0's l2: 3.23347e+06\n",
            "[92]\tvalid_0's rmse: 1797.54\tvalid_0's l2: 3.23115e+06\n",
            "[93]\tvalid_0's rmse: 1796.03\tvalid_0's l2: 3.22572e+06\n",
            "[94]\tvalid_0's rmse: 1795.17\tvalid_0's l2: 3.22264e+06\n",
            "[95]\tvalid_0's rmse: 1794.67\tvalid_0's l2: 3.22084e+06\n",
            "[96]\tvalid_0's rmse: 1793.93\tvalid_0's l2: 3.2182e+06\n",
            "[97]\tvalid_0's rmse: 1792.96\tvalid_0's l2: 3.21471e+06\n",
            "[98]\tvalid_0's rmse: 1791.97\tvalid_0's l2: 3.21117e+06\n",
            "[99]\tvalid_0's rmse: 1791.17\tvalid_0's l2: 3.20829e+06\n",
            "[100]\tvalid_0's rmse: 1790.54\tvalid_0's l2: 3.20605e+06\n",
            "[1]\tvalid_0's rmse: 4231.55\tvalid_0's l2: 1.7906e+07\n",
            "[2]\tvalid_0's rmse: 3957.55\tvalid_0's l2: 1.56622e+07\n",
            "[3]\tvalid_0's rmse: 3714.53\tvalid_0's l2: 1.37977e+07\n",
            "[4]\tvalid_0's rmse: 3497.89\tvalid_0's l2: 1.22352e+07\n",
            "[5]\tvalid_0's rmse: 3312.2\tvalid_0's l2: 1.09706e+07\n",
            "[6]\tvalid_0's rmse: 3146.81\tvalid_0's l2: 9.90241e+06\n",
            "[7]\tvalid_0's rmse: 3001.39\tvalid_0's l2: 9.00834e+06\n",
            "[8]\tvalid_0's rmse: 2875.4\tvalid_0's l2: 8.26794e+06\n",
            "[9]\tvalid_0's rmse: 2764.97\tvalid_0's l2: 7.64503e+06\n",
            "[10]\tvalid_0's rmse: 2670.85\tvalid_0's l2: 7.13344e+06\n",
            "[11]\tvalid_0's rmse: 2586.88\tvalid_0's l2: 6.69193e+06\n",
            "[12]\tvalid_0's rmse: 2513.15\tvalid_0's l2: 6.31595e+06\n",
            "[13]\tvalid_0's rmse: 2450.36\tvalid_0's l2: 6.00426e+06\n",
            "[14]\tvalid_0's rmse: 2394.99\tvalid_0's l2: 5.73599e+06\n",
            "[15]\tvalid_0's rmse: 2346.67\tvalid_0's l2: 5.50685e+06\n",
            "[16]\tvalid_0's rmse: 2305.19\tvalid_0's l2: 5.31392e+06\n",
            "[17]\tvalid_0's rmse: 2266.5\tvalid_0's l2: 5.13703e+06\n",
            "[18]\tvalid_0's rmse: 2231.52\tvalid_0's l2: 4.97968e+06\n",
            "[19]\tvalid_0's rmse: 2200.39\tvalid_0's l2: 4.84173e+06\n",
            "[20]\tvalid_0's rmse: 2173.62\tvalid_0's l2: 4.72461e+06\n",
            "[21]\tvalid_0's rmse: 2146.99\tvalid_0's l2: 4.60958e+06\n",
            "[22]\tvalid_0's rmse: 2123.7\tvalid_0's l2: 4.51009e+06\n",
            "[23]\tvalid_0's rmse: 2101.97\tvalid_0's l2: 4.4183e+06\n",
            "[24]\tvalid_0's rmse: 2082.35\tvalid_0's l2: 4.33617e+06\n",
            "[25]\tvalid_0's rmse: 2064.3\tvalid_0's l2: 4.26132e+06\n",
            "[26]\tvalid_0's rmse: 2049.67\tvalid_0's l2: 4.20115e+06\n",
            "[27]\tvalid_0's rmse: 2034.24\tvalid_0's l2: 4.13814e+06\n",
            "[28]\tvalid_0's rmse: 2022.86\tvalid_0's l2: 4.09197e+06\n",
            "[29]\tvalid_0's rmse: 2006.23\tvalid_0's l2: 4.02495e+06\n",
            "[30]\tvalid_0's rmse: 1993.99\tvalid_0's l2: 3.97598e+06\n",
            "[31]\tvalid_0's rmse: 1985.1\tvalid_0's l2: 3.94064e+06\n",
            "[32]\tvalid_0's rmse: 1974.94\tvalid_0's l2: 3.90038e+06\n",
            "[33]\tvalid_0's rmse: 1964.61\tvalid_0's l2: 3.85971e+06\n",
            "[34]\tvalid_0's rmse: 1954.94\tvalid_0's l2: 3.82177e+06\n",
            "[35]\tvalid_0's rmse: 1944.42\tvalid_0's l2: 3.78076e+06\n",
            "[36]\tvalid_0's rmse: 1939.11\tvalid_0's l2: 3.76016e+06\n",
            "[37]\tvalid_0's rmse: 1932.07\tvalid_0's l2: 3.73289e+06\n",
            "[38]\tvalid_0's rmse: 1926.32\tvalid_0's l2: 3.71069e+06\n",
            "[39]\tvalid_0's rmse: 1917.07\tvalid_0's l2: 3.67516e+06\n",
            "[40]\tvalid_0's rmse: 1910.3\tvalid_0's l2: 3.64924e+06\n",
            "[41]\tvalid_0's rmse: 1904.67\tvalid_0's l2: 3.62778e+06\n",
            "[42]\tvalid_0's rmse: 1900.6\tvalid_0's l2: 3.61228e+06\n",
            "[43]\tvalid_0's rmse: 1895.89\tvalid_0's l2: 3.59438e+06\n",
            "[44]\tvalid_0's rmse: 1890.36\tvalid_0's l2: 3.57347e+06\n",
            "[45]\tvalid_0's rmse: 1887.34\tvalid_0's l2: 3.56206e+06\n",
            "[46]\tvalid_0's rmse: 1883.43\tvalid_0's l2: 3.54732e+06\n",
            "[47]\tvalid_0's rmse: 1878.99\tvalid_0's l2: 3.53062e+06\n",
            "[48]\tvalid_0's rmse: 1875.8\tvalid_0's l2: 3.51864e+06\n",
            "[49]\tvalid_0's rmse: 1872.6\tvalid_0's l2: 3.50662e+06\n",
            "[50]\tvalid_0's rmse: 1868.83\tvalid_0's l2: 3.49253e+06\n",
            "[51]\tvalid_0's rmse: 1865.41\tvalid_0's l2: 3.47975e+06\n",
            "[52]\tvalid_0's rmse: 1863.51\tvalid_0's l2: 3.47269e+06\n",
            "[53]\tvalid_0's rmse: 1860.72\tvalid_0's l2: 3.46228e+06\n",
            "[54]\tvalid_0's rmse: 1858.84\tvalid_0's l2: 3.45529e+06\n",
            "[55]\tvalid_0's rmse: 1855.91\tvalid_0's l2: 3.44438e+06\n",
            "[56]\tvalid_0's rmse: 1853.9\tvalid_0's l2: 3.43693e+06\n",
            "[57]\tvalid_0's rmse: 1849.82\tvalid_0's l2: 3.42184e+06\n",
            "[58]\tvalid_0's rmse: 1848.53\tvalid_0's l2: 3.41706e+06\n",
            "[59]\tvalid_0's rmse: 1846.37\tvalid_0's l2: 3.40907e+06\n",
            "[60]\tvalid_0's rmse: 1844.93\tvalid_0's l2: 3.40378e+06\n",
            "[61]\tvalid_0's rmse: 1843.54\tvalid_0's l2: 3.39865e+06\n",
            "[62]\tvalid_0's rmse: 1842.73\tvalid_0's l2: 3.39566e+06\n",
            "[63]\tvalid_0's rmse: 1840.98\tvalid_0's l2: 3.38921e+06\n",
            "[64]\tvalid_0's rmse: 1838.74\tvalid_0's l2: 3.38098e+06\n",
            "[65]\tvalid_0's rmse: 1836.27\tvalid_0's l2: 3.3719e+06\n",
            "[66]\tvalid_0's rmse: 1833.1\tvalid_0's l2: 3.36024e+06\n",
            "[67]\tvalid_0's rmse: 1830.22\tvalid_0's l2: 3.34969e+06\n",
            "[68]\tvalid_0's rmse: 1829.14\tvalid_0's l2: 3.34575e+06\n",
            "[69]\tvalid_0's rmse: 1828.21\tvalid_0's l2: 3.34234e+06\n",
            "[70]\tvalid_0's rmse: 1826.99\tvalid_0's l2: 3.3379e+06\n",
            "[71]\tvalid_0's rmse: 1824.16\tvalid_0's l2: 3.32755e+06\n",
            "[72]\tvalid_0's rmse: 1822.58\tvalid_0's l2: 3.32179e+06\n",
            "[73]\tvalid_0's rmse: 1821.58\tvalid_0's l2: 3.31815e+06\n",
            "[74]\tvalid_0's rmse: 1819.27\tvalid_0's l2: 3.30974e+06\n",
            "[75]\tvalid_0's rmse: 1817.91\tvalid_0's l2: 3.30478e+06\n",
            "[76]\tvalid_0's rmse: 1816.07\tvalid_0's l2: 3.29812e+06\n",
            "[77]\tvalid_0's rmse: 1815.36\tvalid_0's l2: 3.29552e+06\n",
            "[78]\tvalid_0's rmse: 1814.89\tvalid_0's l2: 3.29383e+06\n",
            "[79]\tvalid_0's rmse: 1814.06\tvalid_0's l2: 3.29082e+06\n",
            "[80]\tvalid_0's rmse: 1813.14\tvalid_0's l2: 3.28746e+06\n",
            "[81]\tvalid_0's rmse: 1812.2\tvalid_0's l2: 3.28408e+06\n",
            "[82]\tvalid_0's rmse: 1811.17\tvalid_0's l2: 3.28033e+06\n",
            "[83]\tvalid_0's rmse: 1810.38\tvalid_0's l2: 3.27747e+06\n",
            "[84]\tvalid_0's rmse: 1808.49\tvalid_0's l2: 3.27062e+06\n",
            "[85]\tvalid_0's rmse: 1807.76\tvalid_0's l2: 3.268e+06\n",
            "[86]\tvalid_0's rmse: 1805.6\tvalid_0's l2: 3.26018e+06\n",
            "[87]\tvalid_0's rmse: 1803.44\tvalid_0's l2: 3.25241e+06\n",
            "[88]\tvalid_0's rmse: 1802.28\tvalid_0's l2: 3.24821e+06\n",
            "[89]\tvalid_0's rmse: 1801.8\tvalid_0's l2: 3.24649e+06\n",
            "[90]\tvalid_0's rmse: 1801.11\tvalid_0's l2: 3.24401e+06\n",
            "[91]\tvalid_0's rmse: 1800.46\tvalid_0's l2: 3.24165e+06\n",
            "[92]\tvalid_0's rmse: 1799.87\tvalid_0's l2: 3.23952e+06\n",
            "[93]\tvalid_0's rmse: 1799.35\tvalid_0's l2: 3.23767e+06\n",
            "[94]\tvalid_0's rmse: 1797.14\tvalid_0's l2: 3.22972e+06\n",
            "[95]\tvalid_0's rmse: 1796.21\tvalid_0's l2: 3.22637e+06\n",
            "[96]\tvalid_0's rmse: 1794.83\tvalid_0's l2: 3.22142e+06\n",
            "[97]\tvalid_0's rmse: 1792.87\tvalid_0's l2: 3.21437e+06\n",
            "[98]\tvalid_0's rmse: 1792.07\tvalid_0's l2: 3.21151e+06\n",
            "[99]\tvalid_0's rmse: 1791.69\tvalid_0's l2: 3.21017e+06\n",
            "[100]\tvalid_0's rmse: 1791.02\tvalid_0's l2: 3.20774e+06\n",
            "[1]\tvalid_0's rmse: 4236.96\tvalid_0's l2: 1.79518e+07\n",
            "[2]\tvalid_0's rmse: 3956.98\tvalid_0's l2: 1.56577e+07\n",
            "[3]\tvalid_0's rmse: 3712.12\tvalid_0's l2: 1.37799e+07\n",
            "[4]\tvalid_0's rmse: 3500.36\tvalid_0's l2: 1.22525e+07\n",
            "[5]\tvalid_0's rmse: 3315.59\tvalid_0's l2: 1.09931e+07\n",
            "[6]\tvalid_0's rmse: 3149.03\tvalid_0's l2: 9.91641e+06\n",
            "[7]\tvalid_0's rmse: 3005.26\tvalid_0's l2: 9.03158e+06\n",
            "[8]\tvalid_0's rmse: 2876.58\tvalid_0's l2: 8.27472e+06\n",
            "[9]\tvalid_0's rmse: 2767.25\tvalid_0's l2: 7.65767e+06\n",
            "[10]\tvalid_0's rmse: 2671.08\tvalid_0's l2: 7.13469e+06\n",
            "[11]\tvalid_0's rmse: 2586.33\tvalid_0's l2: 6.68912e+06\n",
            "[12]\tvalid_0's rmse: 2513.07\tvalid_0's l2: 6.31553e+06\n",
            "[13]\tvalid_0's rmse: 2450.6\tvalid_0's l2: 6.00543e+06\n",
            "[14]\tvalid_0's rmse: 2394.78\tvalid_0's l2: 5.73497e+06\n",
            "[15]\tvalid_0's rmse: 2346.62\tvalid_0's l2: 5.50664e+06\n",
            "[16]\tvalid_0's rmse: 2303.32\tvalid_0's l2: 5.30528e+06\n",
            "[17]\tvalid_0's rmse: 2263.61\tvalid_0's l2: 5.12393e+06\n",
            "[18]\tvalid_0's rmse: 2229.3\tvalid_0's l2: 4.96977e+06\n",
            "[19]\tvalid_0's rmse: 2198.43\tvalid_0's l2: 4.83309e+06\n",
            "[20]\tvalid_0's rmse: 2171.56\tvalid_0's l2: 4.71568e+06\n",
            "[21]\tvalid_0's rmse: 2146.37\tvalid_0's l2: 4.60692e+06\n",
            "[22]\tvalid_0's rmse: 2122.43\tvalid_0's l2: 4.50472e+06\n",
            "[23]\tvalid_0's rmse: 2101.01\tvalid_0's l2: 4.41424e+06\n",
            "[24]\tvalid_0's rmse: 2081.83\tvalid_0's l2: 4.33401e+06\n",
            "[25]\tvalid_0's rmse: 2064.12\tvalid_0's l2: 4.26058e+06\n",
            "[26]\tvalid_0's rmse: 2046.06\tvalid_0's l2: 4.18637e+06\n",
            "[27]\tvalid_0's rmse: 2032.32\tvalid_0's l2: 4.13032e+06\n",
            "[28]\tvalid_0's rmse: 2017.57\tvalid_0's l2: 4.07058e+06\n",
            "[29]\tvalid_0's rmse: 2006.25\tvalid_0's l2: 4.02505e+06\n",
            "[30]\tvalid_0's rmse: 1992.25\tvalid_0's l2: 3.96907e+06\n",
            "[31]\tvalid_0's rmse: 1983.21\tvalid_0's l2: 3.9331e+06\n",
            "[32]\tvalid_0's rmse: 1970.94\tvalid_0's l2: 3.88461e+06\n",
            "[33]\tvalid_0's rmse: 1960.4\tvalid_0's l2: 3.84318e+06\n",
            "[34]\tvalid_0's rmse: 1952.58\tvalid_0's l2: 3.81258e+06\n",
            "[35]\tvalid_0's rmse: 1945.1\tvalid_0's l2: 3.78341e+06\n",
            "[36]\tvalid_0's rmse: 1936.47\tvalid_0's l2: 3.7499e+06\n",
            "[37]\tvalid_0's rmse: 1928.89\tvalid_0's l2: 3.72061e+06\n",
            "[38]\tvalid_0's rmse: 1923.91\tvalid_0's l2: 3.70143e+06\n",
            "[39]\tvalid_0's rmse: 1918.39\tvalid_0's l2: 3.68021e+06\n",
            "[40]\tvalid_0's rmse: 1911.24\tvalid_0's l2: 3.65286e+06\n",
            "[41]\tvalid_0's rmse: 1906.46\tvalid_0's l2: 3.6346e+06\n",
            "[42]\tvalid_0's rmse: 1901.26\tvalid_0's l2: 3.61477e+06\n",
            "[43]\tvalid_0's rmse: 1896.46\tvalid_0's l2: 3.59658e+06\n",
            "[44]\tvalid_0's rmse: 1893.2\tvalid_0's l2: 3.58422e+06\n",
            "[45]\tvalid_0's rmse: 1888.69\tvalid_0's l2: 3.56715e+06\n",
            "[46]\tvalid_0's rmse: 1885.52\tvalid_0's l2: 3.55519e+06\n",
            "[47]\tvalid_0's rmse: 1881.16\tvalid_0's l2: 3.53877e+06\n",
            "[48]\tvalid_0's rmse: 1877.65\tvalid_0's l2: 3.52558e+06\n",
            "[49]\tvalid_0's rmse: 1875.38\tvalid_0's l2: 3.51705e+06\n",
            "[50]\tvalid_0's rmse: 1873.61\tvalid_0's l2: 3.51041e+06\n",
            "[51]\tvalid_0's rmse: 1870.48\tvalid_0's l2: 3.4987e+06\n",
            "[52]\tvalid_0's rmse: 1867.98\tvalid_0's l2: 3.48933e+06\n",
            "[53]\tvalid_0's rmse: 1863.12\tvalid_0's l2: 3.47123e+06\n",
            "[54]\tvalid_0's rmse: 1861.04\tvalid_0's l2: 3.46348e+06\n",
            "[55]\tvalid_0's rmse: 1857.71\tvalid_0's l2: 3.4511e+06\n",
            "[56]\tvalid_0's rmse: 1853.97\tvalid_0's l2: 3.43721e+06\n",
            "[57]\tvalid_0's rmse: 1851.99\tvalid_0's l2: 3.42985e+06\n",
            "[58]\tvalid_0's rmse: 1849.67\tvalid_0's l2: 3.42129e+06\n",
            "[59]\tvalid_0's rmse: 1846.62\tvalid_0's l2: 3.41002e+06\n",
            "[60]\tvalid_0's rmse: 1844.97\tvalid_0's l2: 3.40393e+06\n",
            "[61]\tvalid_0's rmse: 1841.48\tvalid_0's l2: 3.39106e+06\n",
            "[62]\tvalid_0's rmse: 1840.47\tvalid_0's l2: 3.38733e+06\n",
            "[63]\tvalid_0's rmse: 1839.27\tvalid_0's l2: 3.38293e+06\n",
            "[64]\tvalid_0's rmse: 1837.81\tvalid_0's l2: 3.37755e+06\n",
            "[65]\tvalid_0's rmse: 1835.56\tvalid_0's l2: 3.36927e+06\n",
            "[66]\tvalid_0's rmse: 1832.3\tvalid_0's l2: 3.35732e+06\n",
            "[67]\tvalid_0's rmse: 1830.64\tvalid_0's l2: 3.35126e+06\n",
            "[68]\tvalid_0's rmse: 1828.36\tvalid_0's l2: 3.34288e+06\n",
            "[69]\tvalid_0's rmse: 1827.56\tvalid_0's l2: 3.33996e+06\n",
            "[70]\tvalid_0's rmse: 1826.6\tvalid_0's l2: 3.33645e+06\n",
            "[71]\tvalid_0's rmse: 1825.74\tvalid_0's l2: 3.33334e+06\n",
            "[72]\tvalid_0's rmse: 1824.19\tvalid_0's l2: 3.32766e+06\n",
            "[73]\tvalid_0's rmse: 1822.42\tvalid_0's l2: 3.3212e+06\n",
            "[74]\tvalid_0's rmse: 1821.24\tvalid_0's l2: 3.3169e+06\n",
            "[75]\tvalid_0's rmse: 1820.08\tvalid_0's l2: 3.31271e+06\n",
            "[76]\tvalid_0's rmse: 1819.21\tvalid_0's l2: 3.30952e+06\n",
            "[77]\tvalid_0's rmse: 1817.79\tvalid_0's l2: 3.30435e+06\n",
            "[78]\tvalid_0's rmse: 1817.08\tvalid_0's l2: 3.30178e+06\n",
            "[79]\tvalid_0's rmse: 1816.27\tvalid_0's l2: 3.29885e+06\n",
            "[80]\tvalid_0's rmse: 1815.49\tvalid_0's l2: 3.29601e+06\n",
            "[81]\tvalid_0's rmse: 1814.31\tvalid_0's l2: 3.29171e+06\n",
            "[82]\tvalid_0's rmse: 1812.62\tvalid_0's l2: 3.2856e+06\n",
            "[83]\tvalid_0's rmse: 1811.84\tvalid_0's l2: 3.28276e+06\n",
            "[84]\tvalid_0's rmse: 1810.69\tvalid_0's l2: 3.27859e+06\n",
            "[85]\tvalid_0's rmse: 1810.06\tvalid_0's l2: 3.27631e+06\n",
            "[86]\tvalid_0's rmse: 1809\tvalid_0's l2: 3.27249e+06\n",
            "[87]\tvalid_0's rmse: 1808.01\tvalid_0's l2: 3.26889e+06\n",
            "[88]\tvalid_0's rmse: 1807.32\tvalid_0's l2: 3.26642e+06\n",
            "[89]\tvalid_0's rmse: 1806.26\tvalid_0's l2: 3.26256e+06\n",
            "[90]\tvalid_0's rmse: 1805.27\tvalid_0's l2: 3.25899e+06\n",
            "[91]\tvalid_0's rmse: 1804.42\tvalid_0's l2: 3.25594e+06\n",
            "[92]\tvalid_0's rmse: 1803.12\tvalid_0's l2: 3.25126e+06\n",
            "[93]\tvalid_0's rmse: 1801.92\tvalid_0's l2: 3.24691e+06\n",
            "[94]\tvalid_0's rmse: 1801.3\tvalid_0's l2: 3.24467e+06\n",
            "[95]\tvalid_0's rmse: 1800.46\tvalid_0's l2: 3.24164e+06\n",
            "[96]\tvalid_0's rmse: 1799.94\tvalid_0's l2: 3.23979e+06\n",
            "[97]\tvalid_0's rmse: 1798.93\tvalid_0's l2: 3.23617e+06\n",
            "[98]\tvalid_0's rmse: 1798.31\tvalid_0's l2: 3.23391e+06\n",
            "[99]\tvalid_0's rmse: 1797.74\tvalid_0's l2: 3.23188e+06\n",
            "[100]\tvalid_0's rmse: 1796.87\tvalid_0's l2: 3.22875e+06\n",
            "[1]\tvalid_0's rmse: 4231.24\tvalid_0's l2: 1.79034e+07\n",
            "[2]\tvalid_0's rmse: 3957.13\tvalid_0's l2: 1.56589e+07\n",
            "[3]\tvalid_0's rmse: 3714.01\tvalid_0's l2: 1.37939e+07\n",
            "[4]\tvalid_0's rmse: 3497.19\tvalid_0's l2: 1.22303e+07\n",
            "[5]\tvalid_0's rmse: 3311.41\tvalid_0's l2: 1.09654e+07\n",
            "[6]\tvalid_0's rmse: 3145.84\tvalid_0's l2: 9.89633e+06\n",
            "[7]\tvalid_0's rmse: 3000.37\tvalid_0's l2: 9.00223e+06\n",
            "[8]\tvalid_0's rmse: 2874.29\tvalid_0's l2: 8.26153e+06\n",
            "[9]\tvalid_0's rmse: 2763.64\tvalid_0's l2: 7.63769e+06\n",
            "[10]\tvalid_0's rmse: 2669.9\tvalid_0's l2: 7.12835e+06\n",
            "[11]\tvalid_0's rmse: 2586.7\tvalid_0's l2: 6.69101e+06\n",
            "[12]\tvalid_0's rmse: 2514.46\tvalid_0's l2: 6.32251e+06\n",
            "[13]\tvalid_0's rmse: 2450.01\tvalid_0's l2: 6.00253e+06\n",
            "[14]\tvalid_0's rmse: 2394.66\tvalid_0's l2: 5.73441e+06\n",
            "[15]\tvalid_0's rmse: 2343.94\tvalid_0's l2: 5.49406e+06\n",
            "[16]\tvalid_0's rmse: 2301.29\tvalid_0's l2: 5.29592e+06\n",
            "[17]\tvalid_0's rmse: 2262.77\tvalid_0's l2: 5.12013e+06\n",
            "[18]\tvalid_0's rmse: 2226.89\tvalid_0's l2: 4.95905e+06\n",
            "[19]\tvalid_0's rmse: 2196.55\tvalid_0's l2: 4.82485e+06\n",
            "[20]\tvalid_0's rmse: 2168.34\tvalid_0's l2: 4.70168e+06\n",
            "[21]\tvalid_0's rmse: 2144.14\tvalid_0's l2: 4.59732e+06\n",
            "[22]\tvalid_0's rmse: 2120.7\tvalid_0's l2: 4.49738e+06\n",
            "[23]\tvalid_0's rmse: 2100.67\tvalid_0's l2: 4.41282e+06\n",
            "[24]\tvalid_0's rmse: 2080.87\tvalid_0's l2: 4.33002e+06\n",
            "[25]\tvalid_0's rmse: 2064.35\tvalid_0's l2: 4.26152e+06\n",
            "[26]\tvalid_0's rmse: 2045.1\tvalid_0's l2: 4.18244e+06\n",
            "[27]\tvalid_0's rmse: 2030.81\tvalid_0's l2: 4.12418e+06\n",
            "[28]\tvalid_0's rmse: 2018.33\tvalid_0's l2: 4.07364e+06\n",
            "[29]\tvalid_0's rmse: 2007.14\tvalid_0's l2: 4.0286e+06\n",
            "[30]\tvalid_0's rmse: 1997.11\tvalid_0's l2: 3.98844e+06\n",
            "[31]\tvalid_0's rmse: 1987.05\tvalid_0's l2: 3.94837e+06\n",
            "[32]\tvalid_0's rmse: 1973.15\tvalid_0's l2: 3.89333e+06\n",
            "[33]\tvalid_0's rmse: 1963.23\tvalid_0's l2: 3.85426e+06\n",
            "[34]\tvalid_0's rmse: 1954.09\tvalid_0's l2: 3.81846e+06\n",
            "[35]\tvalid_0's rmse: 1946.44\tvalid_0's l2: 3.78862e+06\n",
            "[36]\tvalid_0's rmse: 1939.07\tvalid_0's l2: 3.75998e+06\n",
            "[37]\tvalid_0's rmse: 1933.22\tvalid_0's l2: 3.73734e+06\n",
            "[38]\tvalid_0's rmse: 1928.51\tvalid_0's l2: 3.71917e+06\n",
            "[39]\tvalid_0's rmse: 1922.17\tvalid_0's l2: 3.69474e+06\n",
            "[40]\tvalid_0's rmse: 1915\tvalid_0's l2: 3.66724e+06\n",
            "[41]\tvalid_0's rmse: 1910.24\tvalid_0's l2: 3.64901e+06\n",
            "[42]\tvalid_0's rmse: 1904.46\tvalid_0's l2: 3.62695e+06\n",
            "[43]\tvalid_0's rmse: 1899.15\tvalid_0's l2: 3.60679e+06\n",
            "[44]\tvalid_0's rmse: 1895.56\tvalid_0's l2: 3.59315e+06\n",
            "[45]\tvalid_0's rmse: 1891.76\tvalid_0's l2: 3.57875e+06\n",
            "[46]\tvalid_0's rmse: 1888.89\tvalid_0's l2: 3.5679e+06\n",
            "[47]\tvalid_0's rmse: 1885.26\tvalid_0's l2: 3.55419e+06\n",
            "[48]\tvalid_0's rmse: 1881.48\tvalid_0's l2: 3.53996e+06\n",
            "[49]\tvalid_0's rmse: 1878.78\tvalid_0's l2: 3.52982e+06\n",
            "[50]\tvalid_0's rmse: 1875.84\tvalid_0's l2: 3.51879e+06\n",
            "[51]\tvalid_0's rmse: 1872.03\tvalid_0's l2: 3.50448e+06\n",
            "[52]\tvalid_0's rmse: 1870.11\tvalid_0's l2: 3.4973e+06\n",
            "[53]\tvalid_0's rmse: 1867.12\tvalid_0's l2: 3.48615e+06\n",
            "[54]\tvalid_0's rmse: 1864.85\tvalid_0's l2: 3.47767e+06\n",
            "[55]\tvalid_0's rmse: 1861.91\tvalid_0's l2: 3.46669e+06\n",
            "[56]\tvalid_0's rmse: 1859.28\tvalid_0's l2: 3.45692e+06\n",
            "[57]\tvalid_0's rmse: 1855.69\tvalid_0's l2: 3.44359e+06\n",
            "[58]\tvalid_0's rmse: 1854.37\tvalid_0's l2: 3.43869e+06\n",
            "[59]\tvalid_0's rmse: 1852.91\tvalid_0's l2: 3.43329e+06\n",
            "[60]\tvalid_0's rmse: 1850.4\tvalid_0's l2: 3.42399e+06\n",
            "[61]\tvalid_0's rmse: 1847.8\tvalid_0's l2: 3.41437e+06\n",
            "[62]\tvalid_0's rmse: 1846.18\tvalid_0's l2: 3.40838e+06\n",
            "[63]\tvalid_0's rmse: 1845.28\tvalid_0's l2: 3.40507e+06\n",
            "[64]\tvalid_0's rmse: 1843.45\tvalid_0's l2: 3.3983e+06\n",
            "[65]\tvalid_0's rmse: 1842.31\tvalid_0's l2: 3.39411e+06\n",
            "[66]\tvalid_0's rmse: 1840\tvalid_0's l2: 3.3856e+06\n",
            "[67]\tvalid_0's rmse: 1838.79\tvalid_0's l2: 3.38115e+06\n",
            "[68]\tvalid_0's rmse: 1837.5\tvalid_0's l2: 3.37642e+06\n",
            "[69]\tvalid_0's rmse: 1834.23\tvalid_0's l2: 3.36442e+06\n",
            "[70]\tvalid_0's rmse: 1833.53\tvalid_0's l2: 3.36184e+06\n",
            "[71]\tvalid_0's rmse: 1831.79\tvalid_0's l2: 3.35546e+06\n",
            "[72]\tvalid_0's rmse: 1830.81\tvalid_0's l2: 3.35185e+06\n",
            "[73]\tvalid_0's rmse: 1829.73\tvalid_0's l2: 3.34792e+06\n",
            "[74]\tvalid_0's rmse: 1828.82\tvalid_0's l2: 3.34457e+06\n",
            "[75]\tvalid_0's rmse: 1827.66\tvalid_0's l2: 3.34035e+06\n",
            "[76]\tvalid_0's rmse: 1825.48\tvalid_0's l2: 3.33236e+06\n",
            "[77]\tvalid_0's rmse: 1824.63\tvalid_0's l2: 3.32927e+06\n",
            "[78]\tvalid_0's rmse: 1823.61\tvalid_0's l2: 3.32556e+06\n",
            "[79]\tvalid_0's rmse: 1822.38\tvalid_0's l2: 3.32109e+06\n",
            "[80]\tvalid_0's rmse: 1821.78\tvalid_0's l2: 3.31887e+06\n",
            "[81]\tvalid_0's rmse: 1820.72\tvalid_0's l2: 3.31502e+06\n",
            "[82]\tvalid_0's rmse: 1818.97\tvalid_0's l2: 3.30864e+06\n",
            "[83]\tvalid_0's rmse: 1818.37\tvalid_0's l2: 3.30645e+06\n",
            "[84]\tvalid_0's rmse: 1817.19\tvalid_0's l2: 3.30219e+06\n",
            "[85]\tvalid_0's rmse: 1816.26\tvalid_0's l2: 3.29881e+06\n",
            "[86]\tvalid_0's rmse: 1815.34\tvalid_0's l2: 3.29546e+06\n",
            "[87]\tvalid_0's rmse: 1814.8\tvalid_0's l2: 3.29352e+06\n",
            "[88]\tvalid_0's rmse: 1814.32\tvalid_0's l2: 3.29175e+06\n",
            "[89]\tvalid_0's rmse: 1812.99\tvalid_0's l2: 3.28693e+06\n",
            "[90]\tvalid_0's rmse: 1812.2\tvalid_0's l2: 3.28406e+06\n",
            "[91]\tvalid_0's rmse: 1811.56\tvalid_0's l2: 3.28174e+06\n",
            "[92]\tvalid_0's rmse: 1810.62\tvalid_0's l2: 3.27836e+06\n",
            "[93]\tvalid_0's rmse: 1809.38\tvalid_0's l2: 3.27385e+06\n",
            "[94]\tvalid_0's rmse: 1808.67\tvalid_0's l2: 3.2713e+06\n",
            "[95]\tvalid_0's rmse: 1807.98\tvalid_0's l2: 3.26878e+06\n",
            "[96]\tvalid_0's rmse: 1807.41\tvalid_0's l2: 3.26673e+06\n",
            "[97]\tvalid_0's rmse: 1806.65\tvalid_0's l2: 3.264e+06\n",
            "[98]\tvalid_0's rmse: 1806.14\tvalid_0's l2: 3.26213e+06\n",
            "[99]\tvalid_0's rmse: 1805.61\tvalid_0's l2: 3.26023e+06\n",
            "[100]\tvalid_0's rmse: 1804.37\tvalid_0's l2: 3.25575e+06\n",
            "[1]\tvalid_0's rmse: 4236.66\tvalid_0's l2: 1.79493e+07\n",
            "[2]\tvalid_0's rmse: 3955.69\tvalid_0's l2: 1.56475e+07\n",
            "[3]\tvalid_0's rmse: 3710.74\tvalid_0's l2: 1.37696e+07\n",
            "[4]\tvalid_0's rmse: 3498.76\tvalid_0's l2: 1.22413e+07\n",
            "[5]\tvalid_0's rmse: 3313.92\tvalid_0's l2: 1.0982e+07\n",
            "[6]\tvalid_0's rmse: 3147.5\tvalid_0's l2: 9.90674e+06\n",
            "[7]\tvalid_0's rmse: 3003.09\tvalid_0's l2: 9.01854e+06\n",
            "[8]\tvalid_0's rmse: 2874.21\tvalid_0's l2: 8.26106e+06\n",
            "[9]\tvalid_0's rmse: 2765.16\tvalid_0's l2: 7.64613e+06\n",
            "[10]\tvalid_0's rmse: 2668.41\tvalid_0's l2: 7.12042e+06\n",
            "[11]\tvalid_0's rmse: 2584.89\tvalid_0's l2: 6.68165e+06\n",
            "[12]\tvalid_0's rmse: 2511.75\tvalid_0's l2: 6.30889e+06\n",
            "[13]\tvalid_0's rmse: 2447.33\tvalid_0's l2: 5.98944e+06\n",
            "[14]\tvalid_0's rmse: 2390.68\tvalid_0's l2: 5.71537e+06\n",
            "[15]\tvalid_0's rmse: 2340.81\tvalid_0's l2: 5.47938e+06\n",
            "[16]\tvalid_0's rmse: 2298.47\tvalid_0's l2: 5.28296e+06\n",
            "[17]\tvalid_0's rmse: 2259.02\tvalid_0's l2: 5.10318e+06\n",
            "[18]\tvalid_0's rmse: 2224.59\tvalid_0's l2: 4.94878e+06\n",
            "[19]\tvalid_0's rmse: 2193.96\tvalid_0's l2: 4.81347e+06\n",
            "[20]\tvalid_0's rmse: 2165.35\tvalid_0's l2: 4.68874e+06\n",
            "[21]\tvalid_0's rmse: 2139.97\tvalid_0's l2: 4.57949e+06\n",
            "[22]\tvalid_0's rmse: 2117.4\tvalid_0's l2: 4.48338e+06\n",
            "[23]\tvalid_0's rmse: 2097.81\tvalid_0's l2: 4.4008e+06\n",
            "[24]\tvalid_0's rmse: 2078.32\tvalid_0's l2: 4.31943e+06\n",
            "[25]\tvalid_0's rmse: 2060.98\tvalid_0's l2: 4.24764e+06\n",
            "[26]\tvalid_0's rmse: 2044.64\tvalid_0's l2: 4.18056e+06\n",
            "[27]\tvalid_0's rmse: 2031.06\tvalid_0's l2: 4.12522e+06\n",
            "[28]\tvalid_0's rmse: 2017.79\tvalid_0's l2: 4.07146e+06\n",
            "[29]\tvalid_0's rmse: 2004.96\tvalid_0's l2: 4.01985e+06\n",
            "[30]\tvalid_0's rmse: 1992.63\tvalid_0's l2: 3.97059e+06\n",
            "[31]\tvalid_0's rmse: 1983.24\tvalid_0's l2: 3.93323e+06\n",
            "[32]\tvalid_0's rmse: 1972.39\tvalid_0's l2: 3.89032e+06\n",
            "[33]\tvalid_0's rmse: 1963.93\tvalid_0's l2: 3.85701e+06\n",
            "[34]\tvalid_0's rmse: 1954.92\tvalid_0's l2: 3.82173e+06\n",
            "[35]\tvalid_0's rmse: 1945.84\tvalid_0's l2: 3.78631e+06\n",
            "[36]\tvalid_0's rmse: 1936.72\tvalid_0's l2: 3.7509e+06\n",
            "[37]\tvalid_0's rmse: 1929.82\tvalid_0's l2: 3.72419e+06\n",
            "[38]\tvalid_0's rmse: 1922.99\tvalid_0's l2: 3.69789e+06\n",
            "[39]\tvalid_0's rmse: 1917.49\tvalid_0's l2: 3.67676e+06\n",
            "[40]\tvalid_0's rmse: 1911.57\tvalid_0's l2: 3.6541e+06\n",
            "[41]\tvalid_0's rmse: 1906.76\tvalid_0's l2: 3.63573e+06\n",
            "[42]\tvalid_0's rmse: 1901.33\tvalid_0's l2: 3.61504e+06\n",
            "[43]\tvalid_0's rmse: 1897.62\tvalid_0's l2: 3.60095e+06\n",
            "[44]\tvalid_0's rmse: 1894.06\tvalid_0's l2: 3.58746e+06\n",
            "[45]\tvalid_0's rmse: 1890.33\tvalid_0's l2: 3.57335e+06\n",
            "[46]\tvalid_0's rmse: 1885.45\tvalid_0's l2: 3.55491e+06\n",
            "[47]\tvalid_0's rmse: 1879.09\tvalid_0's l2: 3.53099e+06\n",
            "[48]\tvalid_0's rmse: 1875.67\tvalid_0's l2: 3.51812e+06\n",
            "[49]\tvalid_0's rmse: 1872.5\tvalid_0's l2: 3.50626e+06\n",
            "[50]\tvalid_0's rmse: 1870.42\tvalid_0's l2: 3.49847e+06\n",
            "[51]\tvalid_0's rmse: 1867.56\tvalid_0's l2: 3.48776e+06\n",
            "[52]\tvalid_0's rmse: 1863.85\tvalid_0's l2: 3.47394e+06\n",
            "[53]\tvalid_0's rmse: 1861.95\tvalid_0's l2: 3.46687e+06\n",
            "[54]\tvalid_0's rmse: 1860.35\tvalid_0's l2: 3.46091e+06\n",
            "[55]\tvalid_0's rmse: 1856.41\tvalid_0's l2: 3.44626e+06\n",
            "[56]\tvalid_0's rmse: 1855.05\tvalid_0's l2: 3.44121e+06\n",
            "[57]\tvalid_0's rmse: 1852.02\tvalid_0's l2: 3.43e+06\n",
            "[58]\tvalid_0's rmse: 1850.62\tvalid_0's l2: 3.42478e+06\n",
            "[59]\tvalid_0's rmse: 1848.65\tvalid_0's l2: 3.41752e+06\n",
            "[60]\tvalid_0's rmse: 1845.81\tvalid_0's l2: 3.407e+06\n",
            "[61]\tvalid_0's rmse: 1843.24\tvalid_0's l2: 3.39752e+06\n",
            "[62]\tvalid_0's rmse: 1841.99\tvalid_0's l2: 3.39293e+06\n",
            "[63]\tvalid_0's rmse: 1839.45\tvalid_0's l2: 3.38357e+06\n",
            "[64]\tvalid_0's rmse: 1838.16\tvalid_0's l2: 3.37883e+06\n",
            "[65]\tvalid_0's rmse: 1835.07\tvalid_0's l2: 3.36747e+06\n",
            "[66]\tvalid_0's rmse: 1831.93\tvalid_0's l2: 3.35598e+06\n",
            "[67]\tvalid_0's rmse: 1830.97\tvalid_0's l2: 3.35247e+06\n",
            "[68]\tvalid_0's rmse: 1830.19\tvalid_0's l2: 3.34959e+06\n",
            "[69]\tvalid_0's rmse: 1828.77\tvalid_0's l2: 3.34439e+06\n",
            "[70]\tvalid_0's rmse: 1826.72\tvalid_0's l2: 3.33691e+06\n",
            "[71]\tvalid_0's rmse: 1825.29\tvalid_0's l2: 3.33169e+06\n",
            "[72]\tvalid_0's rmse: 1823.38\tvalid_0's l2: 3.32473e+06\n",
            "[73]\tvalid_0's rmse: 1822.01\tvalid_0's l2: 3.3197e+06\n",
            "[74]\tvalid_0's rmse: 1820.49\tvalid_0's l2: 3.31418e+06\n",
            "[75]\tvalid_0's rmse: 1819.6\tvalid_0's l2: 3.31094e+06\n",
            "[76]\tvalid_0's rmse: 1817.39\tvalid_0's l2: 3.30291e+06\n",
            "[77]\tvalid_0's rmse: 1815.06\tvalid_0's l2: 3.29443e+06\n",
            "[78]\tvalid_0's rmse: 1814.4\tvalid_0's l2: 3.29205e+06\n",
            "[79]\tvalid_0's rmse: 1812.82\tvalid_0's l2: 3.28633e+06\n",
            "[80]\tvalid_0's rmse: 1811.89\tvalid_0's l2: 3.28295e+06\n",
            "[81]\tvalid_0's rmse: 1811.1\tvalid_0's l2: 3.28008e+06\n",
            "[82]\tvalid_0's rmse: 1810.34\tvalid_0's l2: 3.27735e+06\n",
            "[83]\tvalid_0's rmse: 1809.58\tvalid_0's l2: 3.27458e+06\n",
            "[84]\tvalid_0's rmse: 1808.32\tvalid_0's l2: 3.27e+06\n",
            "[85]\tvalid_0's rmse: 1807.44\tvalid_0's l2: 3.26685e+06\n",
            "[86]\tvalid_0's rmse: 1807.02\tvalid_0's l2: 3.26532e+06\n",
            "[87]\tvalid_0's rmse: 1805.89\tvalid_0's l2: 3.26123e+06\n",
            "[88]\tvalid_0's rmse: 1805.37\tvalid_0's l2: 3.25937e+06\n",
            "[89]\tvalid_0's rmse: 1804.81\tvalid_0's l2: 3.25733e+06\n",
            "[90]\tvalid_0's rmse: 1803.89\tvalid_0's l2: 3.254e+06\n",
            "[91]\tvalid_0's rmse: 1803.16\tvalid_0's l2: 3.25138e+06\n",
            "[92]\tvalid_0's rmse: 1801.81\tvalid_0's l2: 3.24653e+06\n",
            "[93]\tvalid_0's rmse: 1800.61\tvalid_0's l2: 3.2422e+06\n",
            "[94]\tvalid_0's rmse: 1799.99\tvalid_0's l2: 3.23996e+06\n",
            "[95]\tvalid_0's rmse: 1799.17\tvalid_0's l2: 3.23701e+06\n",
            "[96]\tvalid_0's rmse: 1797.39\tvalid_0's l2: 3.23062e+06\n",
            "[97]\tvalid_0's rmse: 1796.88\tvalid_0's l2: 3.22878e+06\n",
            "[98]\tvalid_0's rmse: 1796.07\tvalid_0's l2: 3.22587e+06\n",
            "[99]\tvalid_0's rmse: 1794.81\tvalid_0's l2: 3.22134e+06\n",
            "[100]\tvalid_0's rmse: 1793.91\tvalid_0's l2: 3.2181e+06\n",
            "[1]\tvalid_0's rmse: 4231.55\tvalid_0's l2: 1.7906e+07\n",
            "[2]\tvalid_0's rmse: 3957.55\tvalid_0's l2: 1.56622e+07\n",
            "[3]\tvalid_0's rmse: 3714.53\tvalid_0's l2: 1.37977e+07\n",
            "[4]\tvalid_0's rmse: 3497.65\tvalid_0's l2: 1.22335e+07\n",
            "[5]\tvalid_0's rmse: 3311.94\tvalid_0's l2: 1.09689e+07\n",
            "[6]\tvalid_0's rmse: 3146.51\tvalid_0's l2: 9.90055e+06\n",
            "[7]\tvalid_0's rmse: 3001.11\tvalid_0's l2: 9.00667e+06\n",
            "[8]\tvalid_0's rmse: 2875.12\tvalid_0's l2: 8.26631e+06\n",
            "[9]\tvalid_0's rmse: 2764.68\tvalid_0's l2: 7.64348e+06\n",
            "[10]\tvalid_0's rmse: 2670.58\tvalid_0's l2: 7.13199e+06\n",
            "[11]\tvalid_0's rmse: 2586.49\tvalid_0's l2: 6.68993e+06\n",
            "[12]\tvalid_0's rmse: 2512.79\tvalid_0's l2: 6.31412e+06\n",
            "[13]\tvalid_0's rmse: 2448.69\tvalid_0's l2: 5.99609e+06\n",
            "[14]\tvalid_0's rmse: 2393.01\tvalid_0's l2: 5.72651e+06\n",
            "[15]\tvalid_0's rmse: 2345.13\tvalid_0's l2: 5.49965e+06\n",
            "[16]\tvalid_0's rmse: 2299.69\tvalid_0's l2: 5.28857e+06\n",
            "[17]\tvalid_0's rmse: 2261.3\tvalid_0's l2: 5.11346e+06\n",
            "[18]\tvalid_0's rmse: 2226.94\tvalid_0's l2: 4.95926e+06\n",
            "[19]\tvalid_0's rmse: 2195.81\tvalid_0's l2: 4.8216e+06\n",
            "[20]\tvalid_0's rmse: 2169\tvalid_0's l2: 4.70456e+06\n",
            "[21]\tvalid_0's rmse: 2143.22\tvalid_0's l2: 4.59341e+06\n",
            "[22]\tvalid_0's rmse: 2120.04\tvalid_0's l2: 4.49455e+06\n",
            "[23]\tvalid_0's rmse: 2099.04\tvalid_0's l2: 4.40595e+06\n",
            "[24]\tvalid_0's rmse: 2078.03\tvalid_0's l2: 4.31822e+06\n",
            "[25]\tvalid_0's rmse: 2059.91\tvalid_0's l2: 4.24324e+06\n",
            "[26]\tvalid_0's rmse: 2045.35\tvalid_0's l2: 4.18348e+06\n",
            "[27]\tvalid_0's rmse: 2031.21\tvalid_0's l2: 4.1258e+06\n",
            "[28]\tvalid_0's rmse: 2018.82\tvalid_0's l2: 4.07565e+06\n",
            "[29]\tvalid_0's rmse: 2002.67\tvalid_0's l2: 4.01069e+06\n",
            "[30]\tvalid_0's rmse: 1990.1\tvalid_0's l2: 3.9605e+06\n",
            "[31]\tvalid_0's rmse: 1980.67\tvalid_0's l2: 3.92304e+06\n",
            "[32]\tvalid_0's rmse: 1970.98\tvalid_0's l2: 3.88477e+06\n",
            "[33]\tvalid_0's rmse: 1963.26\tvalid_0's l2: 3.8544e+06\n",
            "[34]\tvalid_0's rmse: 1955.95\tvalid_0's l2: 3.82574e+06\n",
            "[35]\tvalid_0's rmse: 1948.53\tvalid_0's l2: 3.79677e+06\n",
            "[36]\tvalid_0's rmse: 1940.4\tvalid_0's l2: 3.76514e+06\n",
            "[37]\tvalid_0's rmse: 1930\tvalid_0's l2: 3.72489e+06\n",
            "[38]\tvalid_0's rmse: 1922.63\tvalid_0's l2: 3.69652e+06\n",
            "[39]\tvalid_0's rmse: 1916.72\tvalid_0's l2: 3.67383e+06\n",
            "[40]\tvalid_0's rmse: 1910.6\tvalid_0's l2: 3.6504e+06\n",
            "[41]\tvalid_0's rmse: 1903.32\tvalid_0's l2: 3.62263e+06\n",
            "[42]\tvalid_0's rmse: 1898.99\tvalid_0's l2: 3.60617e+06\n",
            "[43]\tvalid_0's rmse: 1894.77\tvalid_0's l2: 3.59016e+06\n",
            "[44]\tvalid_0's rmse: 1890.74\tvalid_0's l2: 3.5749e+06\n",
            "[45]\tvalid_0's rmse: 1888.14\tvalid_0's l2: 3.56508e+06\n",
            "[46]\tvalid_0's rmse: 1884.48\tvalid_0's l2: 3.55125e+06\n",
            "[47]\tvalid_0's rmse: 1878.74\tvalid_0's l2: 3.52967e+06\n",
            "[48]\tvalid_0's rmse: 1875.68\tvalid_0's l2: 3.51817e+06\n",
            "[49]\tvalid_0's rmse: 1872.36\tvalid_0's l2: 3.50572e+06\n",
            "[50]\tvalid_0's rmse: 1866.98\tvalid_0's l2: 3.48562e+06\n",
            "[51]\tvalid_0's rmse: 1864.84\tvalid_0's l2: 3.47764e+06\n",
            "[52]\tvalid_0's rmse: 1861.84\tvalid_0's l2: 3.46646e+06\n",
            "[53]\tvalid_0's rmse: 1858.14\tvalid_0's l2: 3.45269e+06\n",
            "[54]\tvalid_0's rmse: 1855.28\tvalid_0's l2: 3.44205e+06\n",
            "[55]\tvalid_0's rmse: 1852.47\tvalid_0's l2: 3.43166e+06\n",
            "[56]\tvalid_0's rmse: 1850.73\tvalid_0's l2: 3.42522e+06\n",
            "[57]\tvalid_0's rmse: 1849.45\tvalid_0's l2: 3.42047e+06\n",
            "[58]\tvalid_0's rmse: 1847.3\tvalid_0's l2: 3.41252e+06\n",
            "[59]\tvalid_0's rmse: 1845.6\tvalid_0's l2: 3.40625e+06\n",
            "[60]\tvalid_0's rmse: 1843.83\tvalid_0's l2: 3.39971e+06\n",
            "[61]\tvalid_0's rmse: 1840.03\tvalid_0's l2: 3.38571e+06\n",
            "[62]\tvalid_0's rmse: 1839.03\tvalid_0's l2: 3.38202e+06\n",
            "[63]\tvalid_0's rmse: 1837.59\tvalid_0's l2: 3.37674e+06\n",
            "[64]\tvalid_0's rmse: 1836.52\tvalid_0's l2: 3.37281e+06\n",
            "[65]\tvalid_0's rmse: 1835.05\tvalid_0's l2: 3.3674e+06\n",
            "[66]\tvalid_0's rmse: 1832.59\tvalid_0's l2: 3.3584e+06\n",
            "[67]\tvalid_0's rmse: 1830.64\tvalid_0's l2: 3.35123e+06\n",
            "[68]\tvalid_0's rmse: 1827.78\tvalid_0's l2: 3.34078e+06\n",
            "[69]\tvalid_0's rmse: 1826.06\tvalid_0's l2: 3.33449e+06\n",
            "[70]\tvalid_0's rmse: 1824.71\tvalid_0's l2: 3.32958e+06\n",
            "[71]\tvalid_0's rmse: 1823.22\tvalid_0's l2: 3.32413e+06\n",
            "[72]\tvalid_0's rmse: 1821.16\tvalid_0's l2: 3.31664e+06\n",
            "[73]\tvalid_0's rmse: 1819.91\tvalid_0's l2: 3.31208e+06\n",
            "[74]\tvalid_0's rmse: 1819.46\tvalid_0's l2: 3.31042e+06\n",
            "[75]\tvalid_0's rmse: 1818.73\tvalid_0's l2: 3.30776e+06\n",
            "[76]\tvalid_0's rmse: 1817.68\tvalid_0's l2: 3.30397e+06\n",
            "[77]\tvalid_0's rmse: 1816.81\tvalid_0's l2: 3.30081e+06\n",
            "[78]\tvalid_0's rmse: 1814.89\tvalid_0's l2: 3.29383e+06\n",
            "[79]\tvalid_0's rmse: 1813.59\tvalid_0's l2: 3.28911e+06\n",
            "[80]\tvalid_0's rmse: 1812.9\tvalid_0's l2: 3.2866e+06\n",
            "[81]\tvalid_0's rmse: 1812.48\tvalid_0's l2: 3.28509e+06\n",
            "[82]\tvalid_0's rmse: 1811.23\tvalid_0's l2: 3.28055e+06\n",
            "[83]\tvalid_0's rmse: 1810.18\tvalid_0's l2: 3.27676e+06\n",
            "[84]\tvalid_0's rmse: 1809.19\tvalid_0's l2: 3.27319e+06\n",
            "[85]\tvalid_0's rmse: 1808.02\tvalid_0's l2: 3.26893e+06\n",
            "[86]\tvalid_0's rmse: 1807.41\tvalid_0's l2: 3.26674e+06\n",
            "[87]\tvalid_0's rmse: 1806.49\tvalid_0's l2: 3.2634e+06\n",
            "[88]\tvalid_0's rmse: 1805.52\tvalid_0's l2: 3.2599e+06\n",
            "[89]\tvalid_0's rmse: 1804.6\tvalid_0's l2: 3.25657e+06\n",
            "[90]\tvalid_0's rmse: 1804.03\tvalid_0's l2: 3.25453e+06\n",
            "[91]\tvalid_0's rmse: 1803.61\tvalid_0's l2: 3.25301e+06\n",
            "[92]\tvalid_0's rmse: 1802.31\tvalid_0's l2: 3.24833e+06\n",
            "[93]\tvalid_0's rmse: 1801.65\tvalid_0's l2: 3.24594e+06\n",
            "[94]\tvalid_0's rmse: 1801.01\tvalid_0's l2: 3.24365e+06\n",
            "[95]\tvalid_0's rmse: 1800.18\tvalid_0's l2: 3.24063e+06\n",
            "[96]\tvalid_0's rmse: 1798.42\tvalid_0's l2: 3.2343e+06\n",
            "[97]\tvalid_0's rmse: 1797.96\tvalid_0's l2: 3.23267e+06\n",
            "[98]\tvalid_0's rmse: 1796.72\tvalid_0's l2: 3.22819e+06\n",
            "[99]\tvalid_0's rmse: 1796.01\tvalid_0's l2: 3.22564e+06\n",
            "[100]\tvalid_0's rmse: 1794.94\tvalid_0's l2: 3.22179e+06\n",
            "[1]\tvalid_0's rmse: 4236.96\tvalid_0's l2: 1.79518e+07\n",
            "[2]\tvalid_0's rmse: 3956.98\tvalid_0's l2: 1.56577e+07\n",
            "[3]\tvalid_0's rmse: 3712.12\tvalid_0's l2: 1.37799e+07\n",
            "[4]\tvalid_0's rmse: 3500.36\tvalid_0's l2: 1.22525e+07\n",
            "[5]\tvalid_0's rmse: 3315.59\tvalid_0's l2: 1.09931e+07\n",
            "[6]\tvalid_0's rmse: 3149.03\tvalid_0's l2: 9.91641e+06\n",
            "[7]\tvalid_0's rmse: 3005.26\tvalid_0's l2: 9.03158e+06\n",
            "[8]\tvalid_0's rmse: 2876.58\tvalid_0's l2: 8.27472e+06\n",
            "[9]\tvalid_0's rmse: 2767.25\tvalid_0's l2: 7.65767e+06\n",
            "[10]\tvalid_0's rmse: 2671.08\tvalid_0's l2: 7.13469e+06\n",
            "[11]\tvalid_0's rmse: 2586.33\tvalid_0's l2: 6.68912e+06\n",
            "[12]\tvalid_0's rmse: 2513.09\tvalid_0's l2: 6.31564e+06\n",
            "[13]\tvalid_0's rmse: 2450.62\tvalid_0's l2: 6.00555e+06\n",
            "[14]\tvalid_0's rmse: 2394.8\tvalid_0's l2: 5.73507e+06\n",
            "[15]\tvalid_0's rmse: 2346.69\tvalid_0's l2: 5.50696e+06\n",
            "[16]\tvalid_0's rmse: 2303.37\tvalid_0's l2: 5.30553e+06\n",
            "[17]\tvalid_0's rmse: 2263.68\tvalid_0's l2: 5.12425e+06\n",
            "[18]\tvalid_0's rmse: 2229.37\tvalid_0's l2: 4.9701e+06\n",
            "[19]\tvalid_0's rmse: 2198.42\tvalid_0's l2: 4.83306e+06\n",
            "[20]\tvalid_0's rmse: 2171.53\tvalid_0's l2: 4.71552e+06\n",
            "[21]\tvalid_0's rmse: 2146.25\tvalid_0's l2: 4.60639e+06\n",
            "[22]\tvalid_0's rmse: 2122.37\tvalid_0's l2: 4.50443e+06\n",
            "[23]\tvalid_0's rmse: 2101.03\tvalid_0's l2: 4.41431e+06\n",
            "[24]\tvalid_0's rmse: 2082.33\tvalid_0's l2: 4.33608e+06\n",
            "[25]\tvalid_0's rmse: 2064.43\tvalid_0's l2: 4.26186e+06\n",
            "[26]\tvalid_0's rmse: 2048.44\tvalid_0's l2: 4.19609e+06\n",
            "[27]\tvalid_0's rmse: 2030.19\tvalid_0's l2: 4.12168e+06\n",
            "[28]\tvalid_0's rmse: 2017.57\tvalid_0's l2: 4.07058e+06\n",
            "[29]\tvalid_0's rmse: 2006.88\tvalid_0's l2: 4.02758e+06\n",
            "[30]\tvalid_0's rmse: 1995.05\tvalid_0's l2: 3.98024e+06\n",
            "[31]\tvalid_0's rmse: 1984.04\tvalid_0's l2: 3.93643e+06\n",
            "[32]\tvalid_0's rmse: 1973.4\tvalid_0's l2: 3.89429e+06\n",
            "[33]\tvalid_0's rmse: 1962.92\tvalid_0's l2: 3.85304e+06\n",
            "[34]\tvalid_0's rmse: 1954.55\tvalid_0's l2: 3.82026e+06\n",
            "[35]\tvalid_0's rmse: 1946.31\tvalid_0's l2: 3.78812e+06\n",
            "[36]\tvalid_0's rmse: 1939.56\tvalid_0's l2: 3.7619e+06\n",
            "[37]\tvalid_0's rmse: 1931.77\tvalid_0's l2: 3.73174e+06\n",
            "[38]\tvalid_0's rmse: 1925.24\tvalid_0's l2: 3.70657e+06\n",
            "[39]\tvalid_0's rmse: 1919.29\tvalid_0's l2: 3.68368e+06\n",
            "[40]\tvalid_0's rmse: 1911.87\tvalid_0's l2: 3.65526e+06\n",
            "[41]\tvalid_0's rmse: 1906.6\tvalid_0's l2: 3.63513e+06\n",
            "[42]\tvalid_0's rmse: 1900.38\tvalid_0's l2: 3.61144e+06\n",
            "[43]\tvalid_0's rmse: 1895.94\tvalid_0's l2: 3.59459e+06\n",
            "[44]\tvalid_0's rmse: 1890.49\tvalid_0's l2: 3.57394e+06\n",
            "[45]\tvalid_0's rmse: 1886.44\tvalid_0's l2: 3.55865e+06\n",
            "[46]\tvalid_0's rmse: 1882.53\tvalid_0's l2: 3.54391e+06\n",
            "[47]\tvalid_0's rmse: 1878.46\tvalid_0's l2: 3.52861e+06\n",
            "[48]\tvalid_0's rmse: 1875.19\tvalid_0's l2: 3.51633e+06\n",
            "[49]\tvalid_0's rmse: 1871.33\tvalid_0's l2: 3.50186e+06\n",
            "[50]\tvalid_0's rmse: 1867.64\tvalid_0's l2: 3.48807e+06\n",
            "[51]\tvalid_0's rmse: 1865.59\tvalid_0's l2: 3.48043e+06\n",
            "[52]\tvalid_0's rmse: 1863.08\tvalid_0's l2: 3.47106e+06\n",
            "[53]\tvalid_0's rmse: 1859.21\tvalid_0's l2: 3.45667e+06\n",
            "[54]\tvalid_0's rmse: 1857.92\tvalid_0's l2: 3.45185e+06\n",
            "[55]\tvalid_0's rmse: 1854.99\tvalid_0's l2: 3.44097e+06\n",
            "[56]\tvalid_0's rmse: 1852.88\tvalid_0's l2: 3.43316e+06\n",
            "[57]\tvalid_0's rmse: 1850.89\tvalid_0's l2: 3.42581e+06\n",
            "[58]\tvalid_0's rmse: 1848.8\tvalid_0's l2: 3.41805e+06\n",
            "[59]\tvalid_0's rmse: 1845.28\tvalid_0's l2: 3.40505e+06\n",
            "[60]\tvalid_0's rmse: 1843.84\tvalid_0's l2: 3.39975e+06\n",
            "[61]\tvalid_0's rmse: 1842.24\tvalid_0's l2: 3.39385e+06\n",
            "[62]\tvalid_0's rmse: 1840.62\tvalid_0's l2: 3.38789e+06\n",
            "[63]\tvalid_0's rmse: 1839.18\tvalid_0's l2: 3.38259e+06\n",
            "[64]\tvalid_0's rmse: 1838.33\tvalid_0's l2: 3.37946e+06\n",
            "[65]\tvalid_0's rmse: 1837.18\tvalid_0's l2: 3.37523e+06\n",
            "[66]\tvalid_0's rmse: 1834.12\tvalid_0's l2: 3.364e+06\n",
            "[67]\tvalid_0's rmse: 1832.37\tvalid_0's l2: 3.35758e+06\n",
            "[68]\tvalid_0's rmse: 1831.32\tvalid_0's l2: 3.35375e+06\n",
            "[69]\tvalid_0's rmse: 1829.84\tvalid_0's l2: 3.3483e+06\n",
            "[70]\tvalid_0's rmse: 1828.12\tvalid_0's l2: 3.34202e+06\n",
            "[71]\tvalid_0's rmse: 1825.26\tvalid_0's l2: 3.33156e+06\n",
            "[72]\tvalid_0's rmse: 1823.06\tvalid_0's l2: 3.32356e+06\n",
            "[73]\tvalid_0's rmse: 1821.28\tvalid_0's l2: 3.31707e+06\n",
            "[74]\tvalid_0's rmse: 1820.66\tvalid_0's l2: 3.3148e+06\n",
            "[75]\tvalid_0's rmse: 1819.24\tvalid_0's l2: 3.30964e+06\n",
            "[76]\tvalid_0's rmse: 1818.18\tvalid_0's l2: 3.30579e+06\n",
            "[77]\tvalid_0's rmse: 1817.35\tvalid_0's l2: 3.30278e+06\n",
            "[78]\tvalid_0's rmse: 1815.6\tvalid_0's l2: 3.29639e+06\n",
            "[79]\tvalid_0's rmse: 1814.31\tvalid_0's l2: 3.29173e+06\n",
            "[80]\tvalid_0's rmse: 1813.66\tvalid_0's l2: 3.28938e+06\n",
            "[81]\tvalid_0's rmse: 1812.8\tvalid_0's l2: 3.28624e+06\n",
            "[82]\tvalid_0's rmse: 1812.04\tvalid_0's l2: 3.2835e+06\n",
            "[83]\tvalid_0's rmse: 1811.23\tvalid_0's l2: 3.28054e+06\n",
            "[84]\tvalid_0's rmse: 1809.5\tvalid_0's l2: 3.27431e+06\n",
            "[85]\tvalid_0's rmse: 1808.61\tvalid_0's l2: 3.27107e+06\n",
            "[86]\tvalid_0's rmse: 1808.01\tvalid_0's l2: 3.26891e+06\n",
            "[87]\tvalid_0's rmse: 1807.29\tvalid_0's l2: 3.26629e+06\n",
            "[88]\tvalid_0's rmse: 1806.02\tvalid_0's l2: 3.26172e+06\n",
            "[89]\tvalid_0's rmse: 1805.15\tvalid_0's l2: 3.25858e+06\n",
            "[90]\tvalid_0's rmse: 1804.5\tvalid_0's l2: 3.25621e+06\n",
            "[91]\tvalid_0's rmse: 1803.8\tvalid_0's l2: 3.2537e+06\n",
            "[92]\tvalid_0's rmse: 1803.18\tvalid_0's l2: 3.25144e+06\n",
            "[93]\tvalid_0's rmse: 1802.74\tvalid_0's l2: 3.24988e+06\n",
            "[94]\tvalid_0's rmse: 1801.95\tvalid_0's l2: 3.24703e+06\n",
            "[95]\tvalid_0's rmse: 1801.36\tvalid_0's l2: 3.24491e+06\n",
            "[96]\tvalid_0's rmse: 1799.46\tvalid_0's l2: 3.23805e+06\n",
            "[97]\tvalid_0's rmse: 1798.48\tvalid_0's l2: 3.23453e+06\n",
            "[98]\tvalid_0's rmse: 1797.92\tvalid_0's l2: 3.23251e+06\n",
            "[99]\tvalid_0's rmse: 1796.59\tvalid_0's l2: 3.22774e+06\n",
            "[100]\tvalid_0's rmse: 1795.51\tvalid_0's l2: 3.22386e+06\n",
            "[1]\tvalid_0's rmse: 4231.24\tvalid_0's l2: 1.79034e+07\n",
            "[2]\tvalid_0's rmse: 3957.13\tvalid_0's l2: 1.56589e+07\n",
            "[3]\tvalid_0's rmse: 3714.01\tvalid_0's l2: 1.37939e+07\n",
            "[4]\tvalid_0's rmse: 3497.06\tvalid_0's l2: 1.22294e+07\n",
            "[5]\tvalid_0's rmse: 3311.27\tvalid_0's l2: 1.09645e+07\n",
            "[6]\tvalid_0's rmse: 3145.68\tvalid_0's l2: 9.89529e+06\n",
            "[7]\tvalid_0's rmse: 3000.21\tvalid_0's l2: 9.00127e+06\n",
            "[8]\tvalid_0's rmse: 2874.13\tvalid_0's l2: 8.26062e+06\n",
            "[9]\tvalid_0's rmse: 2763.48\tvalid_0's l2: 7.63683e+06\n",
            "[10]\tvalid_0's rmse: 2669.74\tvalid_0's l2: 7.12752e+06\n",
            "[11]\tvalid_0's rmse: 2586.47\tvalid_0's l2: 6.68984e+06\n",
            "[12]\tvalid_0's rmse: 2514.33\tvalid_0's l2: 6.32185e+06\n",
            "[13]\tvalid_0's rmse: 2449.97\tvalid_0's l2: 6.00234e+06\n",
            "[14]\tvalid_0's rmse: 2394.68\tvalid_0's l2: 5.73447e+06\n",
            "[15]\tvalid_0's rmse: 2343.92\tvalid_0's l2: 5.49396e+06\n",
            "[16]\tvalid_0's rmse: 2299.4\tvalid_0's l2: 5.28723e+06\n",
            "[17]\tvalid_0's rmse: 2260.07\tvalid_0's l2: 5.10792e+06\n",
            "[18]\tvalid_0's rmse: 2224.33\tvalid_0's l2: 4.94763e+06\n",
            "[19]\tvalid_0's rmse: 2194.34\tvalid_0's l2: 4.81513e+06\n",
            "[20]\tvalid_0's rmse: 2167.07\tvalid_0's l2: 4.69619e+06\n",
            "[21]\tvalid_0's rmse: 2141.78\tvalid_0's l2: 4.58721e+06\n",
            "[22]\tvalid_0's rmse: 2118.94\tvalid_0's l2: 4.48989e+06\n",
            "[23]\tvalid_0's rmse: 2096.61\tvalid_0's l2: 4.39578e+06\n",
            "[24]\tvalid_0's rmse: 2076.69\tvalid_0's l2: 4.31264e+06\n",
            "[25]\tvalid_0's rmse: 2060.47\tvalid_0's l2: 4.24554e+06\n",
            "[26]\tvalid_0's rmse: 2044.56\tvalid_0's l2: 4.18024e+06\n",
            "[27]\tvalid_0's rmse: 2031.77\tvalid_0's l2: 4.12809e+06\n",
            "[28]\tvalid_0's rmse: 2019.48\tvalid_0's l2: 4.07828e+06\n",
            "[29]\tvalid_0's rmse: 2007.61\tvalid_0's l2: 4.03051e+06\n",
            "[30]\tvalid_0's rmse: 1991.96\tvalid_0's l2: 3.96789e+06\n",
            "[31]\tvalid_0's rmse: 1980.69\tvalid_0's l2: 3.92315e+06\n",
            "[32]\tvalid_0's rmse: 1970.36\tvalid_0's l2: 3.88231e+06\n",
            "[33]\tvalid_0's rmse: 1962.54\tvalid_0's l2: 3.85155e+06\n",
            "[34]\tvalid_0's rmse: 1953.95\tvalid_0's l2: 3.81792e+06\n",
            "[35]\tvalid_0's rmse: 1945.43\tvalid_0's l2: 3.7847e+06\n",
            "[36]\tvalid_0's rmse: 1937.34\tvalid_0's l2: 3.75328e+06\n",
            "[37]\tvalid_0's rmse: 1931.16\tvalid_0's l2: 3.72939e+06\n",
            "[38]\tvalid_0's rmse: 1923.5\tvalid_0's l2: 3.69985e+06\n",
            "[39]\tvalid_0's rmse: 1917.53\tvalid_0's l2: 3.67691e+06\n",
            "[40]\tvalid_0's rmse: 1912.25\tvalid_0's l2: 3.6567e+06\n",
            "[41]\tvalid_0's rmse: 1908.18\tvalid_0's l2: 3.64117e+06\n",
            "[42]\tvalid_0's rmse: 1902.11\tvalid_0's l2: 3.61802e+06\n",
            "[43]\tvalid_0's rmse: 1899.45\tvalid_0's l2: 3.60793e+06\n",
            "[44]\tvalid_0's rmse: 1895.42\tvalid_0's l2: 3.59261e+06\n",
            "[45]\tvalid_0's rmse: 1891.53\tvalid_0's l2: 3.57789e+06\n",
            "[46]\tvalid_0's rmse: 1888.55\tvalid_0's l2: 3.56661e+06\n",
            "[47]\tvalid_0's rmse: 1884.16\tvalid_0's l2: 3.55005e+06\n",
            "[48]\tvalid_0's rmse: 1880.92\tvalid_0's l2: 3.53786e+06\n",
            "[49]\tvalid_0's rmse: 1874.81\tvalid_0's l2: 3.51491e+06\n",
            "[50]\tvalid_0's rmse: 1872.52\tvalid_0's l2: 3.50632e+06\n",
            "[51]\tvalid_0's rmse: 1870.57\tvalid_0's l2: 3.49904e+06\n",
            "[52]\tvalid_0's rmse: 1867.18\tvalid_0's l2: 3.48634e+06\n",
            "[53]\tvalid_0's rmse: 1864.89\tvalid_0's l2: 3.4778e+06\n",
            "[54]\tvalid_0's rmse: 1862.71\tvalid_0's l2: 3.46968e+06\n",
            "[55]\tvalid_0's rmse: 1860.1\tvalid_0's l2: 3.45999e+06\n",
            "[56]\tvalid_0's rmse: 1857.83\tvalid_0's l2: 3.45152e+06\n",
            "[57]\tvalid_0's rmse: 1855.57\tvalid_0's l2: 3.44313e+06\n",
            "[58]\tvalid_0's rmse: 1853.86\tvalid_0's l2: 3.43681e+06\n",
            "[59]\tvalid_0's rmse: 1852.13\tvalid_0's l2: 3.43037e+06\n",
            "[60]\tvalid_0's rmse: 1851.02\tvalid_0's l2: 3.42629e+06\n",
            "[61]\tvalid_0's rmse: 1848.82\tvalid_0's l2: 3.41814e+06\n",
            "[62]\tvalid_0's rmse: 1847.17\tvalid_0's l2: 3.41205e+06\n",
            "[63]\tvalid_0's rmse: 1845.94\tvalid_0's l2: 3.40749e+06\n",
            "[64]\tvalid_0's rmse: 1845.04\tvalid_0's l2: 3.40418e+06\n",
            "[65]\tvalid_0's rmse: 1842.6\tvalid_0's l2: 3.39519e+06\n",
            "[66]\tvalid_0's rmse: 1840.38\tvalid_0's l2: 3.38701e+06\n",
            "[67]\tvalid_0's rmse: 1838.49\tvalid_0's l2: 3.38006e+06\n",
            "[68]\tvalid_0's rmse: 1835.14\tvalid_0's l2: 3.36773e+06\n",
            "[69]\tvalid_0's rmse: 1832.8\tvalid_0's l2: 3.35915e+06\n",
            "[70]\tvalid_0's rmse: 1832.13\tvalid_0's l2: 3.3567e+06\n",
            "[71]\tvalid_0's rmse: 1831.14\tvalid_0's l2: 3.35306e+06\n",
            "[72]\tvalid_0's rmse: 1830.43\tvalid_0's l2: 3.35046e+06\n",
            "[73]\tvalid_0's rmse: 1828.64\tvalid_0's l2: 3.34391e+06\n",
            "[74]\tvalid_0's rmse: 1827.85\tvalid_0's l2: 3.34104e+06\n",
            "[75]\tvalid_0's rmse: 1827.01\tvalid_0's l2: 3.33796e+06\n",
            "[76]\tvalid_0's rmse: 1826.03\tvalid_0's l2: 3.3344e+06\n",
            "[77]\tvalid_0's rmse: 1824.78\tvalid_0's l2: 3.32984e+06\n",
            "[78]\tvalid_0's rmse: 1824.11\tvalid_0's l2: 3.32737e+06\n",
            "[79]\tvalid_0's rmse: 1823.18\tvalid_0's l2: 3.32399e+06\n",
            "[80]\tvalid_0's rmse: 1821.81\tvalid_0's l2: 3.31899e+06\n",
            "[81]\tvalid_0's rmse: 1820.32\tvalid_0's l2: 3.31357e+06\n",
            "[82]\tvalid_0's rmse: 1818.89\tvalid_0's l2: 3.30838e+06\n",
            "[83]\tvalid_0's rmse: 1817.72\tvalid_0's l2: 3.3041e+06\n",
            "[84]\tvalid_0's rmse: 1815.04\tvalid_0's l2: 3.29438e+06\n",
            "[85]\tvalid_0's rmse: 1814.54\tvalid_0's l2: 3.29254e+06\n",
            "[86]\tvalid_0's rmse: 1813.6\tvalid_0's l2: 3.28914e+06\n",
            "[87]\tvalid_0's rmse: 1813.06\tvalid_0's l2: 3.28718e+06\n",
            "[88]\tvalid_0's rmse: 1812.34\tvalid_0's l2: 3.28457e+06\n",
            "[89]\tvalid_0's rmse: 1811.16\tvalid_0's l2: 3.28029e+06\n",
            "[90]\tvalid_0's rmse: 1809.8\tvalid_0's l2: 3.27538e+06\n",
            "[91]\tvalid_0's rmse: 1807.56\tvalid_0's l2: 3.26726e+06\n",
            "[92]\tvalid_0's rmse: 1806.3\tvalid_0's l2: 3.26273e+06\n",
            "[93]\tvalid_0's rmse: 1804.98\tvalid_0's l2: 3.25795e+06\n",
            "[94]\tvalid_0's rmse: 1804.28\tvalid_0's l2: 3.25544e+06\n",
            "[95]\tvalid_0's rmse: 1803.76\tvalid_0's l2: 3.25354e+06\n",
            "[96]\tvalid_0's rmse: 1803.22\tvalid_0's l2: 3.25159e+06\n",
            "[97]\tvalid_0's rmse: 1802.79\tvalid_0's l2: 3.25005e+06\n",
            "[98]\tvalid_0's rmse: 1802.13\tvalid_0's l2: 3.24767e+06\n",
            "[99]\tvalid_0's rmse: 1801.53\tvalid_0's l2: 3.24552e+06\n",
            "[100]\tvalid_0's rmse: 1800.94\tvalid_0's l2: 3.24337e+06\n",
            "[1]\tvalid_0's rmse: 4236.77\tvalid_0's l2: 1.79502e+07\n",
            "[2]\tvalid_0's rmse: 3955.81\tvalid_0's l2: 1.56484e+07\n",
            "[3]\tvalid_0's rmse: 3710.94\tvalid_0's l2: 1.37711e+07\n",
            "[4]\tvalid_0's rmse: 3498.93\tvalid_0's l2: 1.22425e+07\n",
            "[5]\tvalid_0's rmse: 3314.07\tvalid_0's l2: 1.09831e+07\n",
            "[6]\tvalid_0's rmse: 3147.66\tvalid_0's l2: 9.90777e+06\n",
            "[7]\tvalid_0's rmse: 3003.25\tvalid_0's l2: 9.01949e+06\n",
            "[8]\tvalid_0's rmse: 2874.36\tvalid_0's l2: 8.26192e+06\n",
            "[9]\tvalid_0's rmse: 2765.24\tvalid_0's l2: 7.64653e+06\n",
            "[10]\tvalid_0's rmse: 2668.48\tvalid_0's l2: 7.12077e+06\n",
            "[11]\tvalid_0's rmse: 2584.92\tvalid_0's l2: 6.6818e+06\n",
            "[12]\tvalid_0's rmse: 2511.79\tvalid_0's l2: 6.30911e+06\n",
            "[13]\tvalid_0's rmse: 2447.41\tvalid_0's l2: 5.98982e+06\n",
            "[14]\tvalid_0's rmse: 2390.72\tvalid_0's l2: 5.71554e+06\n",
            "[15]\tvalid_0's rmse: 2340.85\tvalid_0's l2: 5.47957e+06\n",
            "[16]\tvalid_0's rmse: 2298.54\tvalid_0's l2: 5.28329e+06\n",
            "[17]\tvalid_0's rmse: 2259.01\tvalid_0's l2: 5.10312e+06\n",
            "[18]\tvalid_0's rmse: 2224.87\tvalid_0's l2: 4.95003e+06\n",
            "[19]\tvalid_0's rmse: 2193.33\tvalid_0's l2: 4.81072e+06\n",
            "[20]\tvalid_0's rmse: 2165.94\tvalid_0's l2: 4.69131e+06\n",
            "[21]\tvalid_0's rmse: 2142.01\tvalid_0's l2: 4.5882e+06\n",
            "[22]\tvalid_0's rmse: 2116.72\tvalid_0's l2: 4.48049e+06\n",
            "[23]\tvalid_0's rmse: 2095.91\tvalid_0's l2: 4.39285e+06\n",
            "[24]\tvalid_0's rmse: 2076.73\tvalid_0's l2: 4.31281e+06\n",
            "[25]\tvalid_0's rmse: 2060.34\tvalid_0's l2: 4.245e+06\n",
            "[26]\tvalid_0's rmse: 2044.84\tvalid_0's l2: 4.18139e+06\n",
            "[27]\tvalid_0's rmse: 2028.73\tvalid_0's l2: 4.11575e+06\n",
            "[28]\tvalid_0's rmse: 2016.42\tvalid_0's l2: 4.06597e+06\n",
            "[29]\tvalid_0's rmse: 2004.45\tvalid_0's l2: 4.0178e+06\n",
            "[30]\tvalid_0's rmse: 1994.99\tvalid_0's l2: 3.97997e+06\n",
            "[31]\tvalid_0's rmse: 1985.3\tvalid_0's l2: 3.94143e+06\n",
            "[32]\tvalid_0's rmse: 1970.95\tvalid_0's l2: 3.88465e+06\n",
            "[33]\tvalid_0's rmse: 1960.89\tvalid_0's l2: 3.84508e+06\n",
            "[34]\tvalid_0's rmse: 1951.63\tvalid_0's l2: 3.80887e+06\n",
            "[35]\tvalid_0's rmse: 1944.45\tvalid_0's l2: 3.78088e+06\n",
            "[36]\tvalid_0's rmse: 1935.01\tvalid_0's l2: 3.74426e+06\n",
            "[37]\tvalid_0's rmse: 1928.49\tvalid_0's l2: 3.71907e+06\n",
            "[38]\tvalid_0's rmse: 1922.9\tvalid_0's l2: 3.69756e+06\n",
            "[39]\tvalid_0's rmse: 1917.44\tvalid_0's l2: 3.67659e+06\n",
            "[40]\tvalid_0's rmse: 1910.83\tvalid_0's l2: 3.65125e+06\n",
            "[41]\tvalid_0's rmse: 1905.9\tvalid_0's l2: 3.63245e+06\n",
            "[42]\tvalid_0's rmse: 1900.9\tvalid_0's l2: 3.61341e+06\n",
            "[43]\tvalid_0's rmse: 1895.97\tvalid_0's l2: 3.59472e+06\n",
            "[44]\tvalid_0's rmse: 1889.56\tvalid_0's l2: 3.57044e+06\n",
            "[45]\tvalid_0's rmse: 1885.35\tvalid_0's l2: 3.55454e+06\n",
            "[46]\tvalid_0's rmse: 1881.53\tvalid_0's l2: 3.54015e+06\n",
            "[47]\tvalid_0's rmse: 1876.96\tvalid_0's l2: 3.52298e+06\n",
            "[48]\tvalid_0's rmse: 1874.22\tvalid_0's l2: 3.51271e+06\n",
            "[49]\tvalid_0's rmse: 1871.13\tvalid_0's l2: 3.50111e+06\n",
            "[50]\tvalid_0's rmse: 1868.29\tvalid_0's l2: 3.4905e+06\n",
            "[51]\tvalid_0's rmse: 1866.55\tvalid_0's l2: 3.48402e+06\n",
            "[52]\tvalid_0's rmse: 1862.38\tvalid_0's l2: 3.46844e+06\n",
            "[53]\tvalid_0's rmse: 1860.72\tvalid_0's l2: 3.46227e+06\n",
            "[54]\tvalid_0's rmse: 1858.92\tvalid_0's l2: 3.45557e+06\n",
            "[55]\tvalid_0's rmse: 1856.09\tvalid_0's l2: 3.44505e+06\n",
            "[56]\tvalid_0's rmse: 1853.28\tvalid_0's l2: 3.43466e+06\n",
            "[57]\tvalid_0's rmse: 1849.16\tvalid_0's l2: 3.4194e+06\n",
            "[58]\tvalid_0's rmse: 1845.86\tvalid_0's l2: 3.4072e+06\n",
            "[59]\tvalid_0's rmse: 1844.16\tvalid_0's l2: 3.40093e+06\n",
            "[60]\tvalid_0's rmse: 1842.85\tvalid_0's l2: 3.39611e+06\n",
            "[61]\tvalid_0's rmse: 1841.13\tvalid_0's l2: 3.38977e+06\n",
            "[62]\tvalid_0's rmse: 1839.36\tvalid_0's l2: 3.38324e+06\n",
            "[63]\tvalid_0's rmse: 1837.94\tvalid_0's l2: 3.37804e+06\n",
            "[64]\tvalid_0's rmse: 1836.06\tvalid_0's l2: 3.3711e+06\n",
            "[65]\tvalid_0's rmse: 1834.52\tvalid_0's l2: 3.36546e+06\n",
            "[66]\tvalid_0's rmse: 1832.56\tvalid_0's l2: 3.35828e+06\n",
            "[67]\tvalid_0's rmse: 1831.49\tvalid_0's l2: 3.35437e+06\n",
            "[68]\tvalid_0's rmse: 1830.13\tvalid_0's l2: 3.34936e+06\n",
            "[69]\tvalid_0's rmse: 1827.9\tvalid_0's l2: 3.34121e+06\n",
            "[70]\tvalid_0's rmse: 1826.79\tvalid_0's l2: 3.33717e+06\n",
            "[71]\tvalid_0's rmse: 1825.77\tvalid_0's l2: 3.33342e+06\n",
            "[72]\tvalid_0's rmse: 1822.93\tvalid_0's l2: 3.32308e+06\n",
            "[73]\tvalid_0's rmse: 1821.56\tvalid_0's l2: 3.3181e+06\n",
            "[74]\tvalid_0's rmse: 1819.97\tvalid_0's l2: 3.31227e+06\n",
            "[75]\tvalid_0's rmse: 1818.29\tvalid_0's l2: 3.30618e+06\n",
            "[76]\tvalid_0's rmse: 1816.86\tvalid_0's l2: 3.30098e+06\n",
            "[77]\tvalid_0's rmse: 1816.25\tvalid_0's l2: 3.29877e+06\n",
            "[78]\tvalid_0's rmse: 1815.45\tvalid_0's l2: 3.29586e+06\n",
            "[79]\tvalid_0's rmse: 1814.65\tvalid_0's l2: 3.29294e+06\n",
            "[80]\tvalid_0's rmse: 1812.21\tvalid_0's l2: 3.28409e+06\n",
            "[81]\tvalid_0's rmse: 1811.21\tvalid_0's l2: 3.2805e+06\n",
            "[82]\tvalid_0's rmse: 1810.71\tvalid_0's l2: 3.27867e+06\n",
            "[83]\tvalid_0's rmse: 1810.1\tvalid_0's l2: 3.27646e+06\n",
            "[84]\tvalid_0's rmse: 1809.15\tvalid_0's l2: 3.27303e+06\n",
            "[85]\tvalid_0's rmse: 1808.42\tvalid_0's l2: 3.27038e+06\n",
            "[86]\tvalid_0's rmse: 1807.78\tvalid_0's l2: 3.26806e+06\n",
            "[87]\tvalid_0's rmse: 1806.58\tvalid_0's l2: 3.26374e+06\n",
            "[88]\tvalid_0's rmse: 1804.89\tvalid_0's l2: 3.25765e+06\n",
            "[89]\tvalid_0's rmse: 1804.41\tvalid_0's l2: 3.25588e+06\n",
            "[90]\tvalid_0's rmse: 1802.09\tvalid_0's l2: 3.24753e+06\n",
            "[91]\tvalid_0's rmse: 1800.52\tvalid_0's l2: 3.24186e+06\n",
            "[92]\tvalid_0's rmse: 1799.98\tvalid_0's l2: 3.23992e+06\n",
            "[93]\tvalid_0's rmse: 1798.41\tvalid_0's l2: 3.23428e+06\n",
            "[94]\tvalid_0's rmse: 1797.9\tvalid_0's l2: 3.23246e+06\n",
            "[95]\tvalid_0's rmse: 1797.23\tvalid_0's l2: 3.23002e+06\n",
            "[96]\tvalid_0's rmse: 1796.06\tvalid_0's l2: 3.22585e+06\n",
            "[97]\tvalid_0's rmse: 1795.56\tvalid_0's l2: 3.22404e+06\n",
            "[98]\tvalid_0's rmse: 1795.11\tvalid_0's l2: 3.22242e+06\n",
            "[99]\tvalid_0's rmse: 1794.26\tvalid_0's l2: 3.21937e+06\n",
            "[100]\tvalid_0's rmse: 1793.37\tvalid_0's l2: 3.21616e+06\n",
            "[1]\tvalid_0's rmse: 4225.46\tvalid_0's l2: 1.78545e+07\n",
            "[2]\tvalid_0's rmse: 3940.09\tvalid_0's l2: 1.55243e+07\n",
            "[3]\tvalid_0's rmse: 3690.36\tvalid_0's l2: 1.36188e+07\n",
            "[4]\tvalid_0's rmse: 3472.19\tvalid_0's l2: 1.20561e+07\n",
            "[5]\tvalid_0's rmse: 3281.3\tvalid_0's l2: 1.07669e+07\n",
            "[6]\tvalid_0's rmse: 3113.22\tvalid_0's l2: 9.69215e+06\n",
            "[7]\tvalid_0's rmse: 2966.37\tvalid_0's l2: 8.79932e+06\n",
            "[8]\tvalid_0's rmse: 2838.78\tvalid_0's l2: 8.05867e+06\n",
            "[9]\tvalid_0's rmse: 2728.09\tvalid_0's l2: 7.44247e+06\n",
            "[10]\tvalid_0's rmse: 2631.15\tvalid_0's l2: 6.92295e+06\n",
            "[11]\tvalid_0's rmse: 2547\tvalid_0's l2: 6.48722e+06\n",
            "[12]\tvalid_0's rmse: 2471.42\tvalid_0's l2: 6.10792e+06\n",
            "[13]\tvalid_0's rmse: 2405\tvalid_0's l2: 5.78401e+06\n",
            "[14]\tvalid_0's rmse: 2348.1\tvalid_0's l2: 5.51356e+06\n",
            "[15]\tvalid_0's rmse: 2296.74\tvalid_0's l2: 5.27501e+06\n",
            "[16]\tvalid_0's rmse: 2249.15\tvalid_0's l2: 5.05869e+06\n",
            "[17]\tvalid_0's rmse: 2209.36\tvalid_0's l2: 4.88127e+06\n",
            "[18]\tvalid_0's rmse: 2171.91\tvalid_0's l2: 4.71718e+06\n",
            "[19]\tvalid_0's rmse: 2138.08\tvalid_0's l2: 4.57138e+06\n",
            "[20]\tvalid_0's rmse: 2106.4\tvalid_0's l2: 4.43692e+06\n",
            "[21]\tvalid_0's rmse: 2080.17\tvalid_0's l2: 4.32711e+06\n",
            "[22]\tvalid_0's rmse: 2056.66\tvalid_0's l2: 4.22987e+06\n",
            "[23]\tvalid_0's rmse: 2035.15\tvalid_0's l2: 4.14184e+06\n",
            "[24]\tvalid_0's rmse: 2016.09\tvalid_0's l2: 4.06463e+06\n",
            "[25]\tvalid_0's rmse: 1998.28\tvalid_0's l2: 3.99312e+06\n",
            "[26]\tvalid_0's rmse: 1980.44\tvalid_0's l2: 3.92214e+06\n",
            "[27]\tvalid_0's rmse: 1965.83\tvalid_0's l2: 3.8645e+06\n",
            "[28]\tvalid_0's rmse: 1953.52\tvalid_0's l2: 3.81626e+06\n",
            "[29]\tvalid_0's rmse: 1941.42\tvalid_0's l2: 3.7691e+06\n",
            "[30]\tvalid_0's rmse: 1930\tvalid_0's l2: 3.72488e+06\n",
            "[31]\tvalid_0's rmse: 1921.87\tvalid_0's l2: 3.69357e+06\n",
            "[32]\tvalid_0's rmse: 1913.93\tvalid_0's l2: 3.66312e+06\n",
            "[33]\tvalid_0's rmse: 1905.76\tvalid_0's l2: 3.6319e+06\n",
            "[34]\tvalid_0's rmse: 1899.65\tvalid_0's l2: 3.60865e+06\n",
            "[35]\tvalid_0's rmse: 1890.59\tvalid_0's l2: 3.57434e+06\n",
            "[36]\tvalid_0's rmse: 1883.23\tvalid_0's l2: 3.54655e+06\n",
            "[37]\tvalid_0's rmse: 1876.25\tvalid_0's l2: 3.5203e+06\n",
            "[38]\tvalid_0's rmse: 1870.09\tvalid_0's l2: 3.49722e+06\n",
            "[39]\tvalid_0's rmse: 1864.24\tvalid_0's l2: 3.47539e+06\n",
            "[40]\tvalid_0's rmse: 1857.57\tvalid_0's l2: 3.45057e+06\n",
            "[41]\tvalid_0's rmse: 1853.18\tvalid_0's l2: 3.43426e+06\n",
            "[42]\tvalid_0's rmse: 1848.67\tvalid_0's l2: 3.41758e+06\n",
            "[43]\tvalid_0's rmse: 1843.63\tvalid_0's l2: 3.39895e+06\n",
            "[44]\tvalid_0's rmse: 1838.48\tvalid_0's l2: 3.38e+06\n",
            "[45]\tvalid_0's rmse: 1832.85\tvalid_0's l2: 3.35935e+06\n",
            "[46]\tvalid_0's rmse: 1829.66\tvalid_0's l2: 3.34767e+06\n",
            "[47]\tvalid_0's rmse: 1825.3\tvalid_0's l2: 3.33172e+06\n",
            "[48]\tvalid_0's rmse: 1822.49\tvalid_0's l2: 3.32148e+06\n",
            "[49]\tvalid_0's rmse: 1819.37\tvalid_0's l2: 3.31012e+06\n",
            "[50]\tvalid_0's rmse: 1815.93\tvalid_0's l2: 3.29761e+06\n",
            "[51]\tvalid_0's rmse: 1812.02\tvalid_0's l2: 3.28342e+06\n",
            "[52]\tvalid_0's rmse: 1808.93\tvalid_0's l2: 3.27223e+06\n",
            "[53]\tvalid_0's rmse: 1807.17\tvalid_0's l2: 3.26587e+06\n",
            "[54]\tvalid_0's rmse: 1803.76\tvalid_0's l2: 3.25354e+06\n",
            "[55]\tvalid_0's rmse: 1800.68\tvalid_0's l2: 3.24243e+06\n",
            "[56]\tvalid_0's rmse: 1797.91\tvalid_0's l2: 3.23247e+06\n",
            "[57]\tvalid_0's rmse: 1796.01\tvalid_0's l2: 3.22566e+06\n",
            "[58]\tvalid_0's rmse: 1794.08\tvalid_0's l2: 3.21873e+06\n",
            "[59]\tvalid_0's rmse: 1792.3\tvalid_0's l2: 3.21233e+06\n",
            "[60]\tvalid_0's rmse: 1789.53\tvalid_0's l2: 3.20242e+06\n",
            "[61]\tvalid_0's rmse: 1787.85\tvalid_0's l2: 3.19641e+06\n",
            "[62]\tvalid_0's rmse: 1785.52\tvalid_0's l2: 3.18807e+06\n",
            "[63]\tvalid_0's rmse: 1783.1\tvalid_0's l2: 3.17946e+06\n",
            "[64]\tvalid_0's rmse: 1781.78\tvalid_0's l2: 3.17473e+06\n",
            "[65]\tvalid_0's rmse: 1779.5\tvalid_0's l2: 3.16663e+06\n",
            "[66]\tvalid_0's rmse: 1777.65\tvalid_0's l2: 3.16004e+06\n",
            "[67]\tvalid_0's rmse: 1775.47\tvalid_0's l2: 3.15231e+06\n",
            "[68]\tvalid_0's rmse: 1773.71\tvalid_0's l2: 3.14604e+06\n",
            "[69]\tvalid_0's rmse: 1772.09\tvalid_0's l2: 3.1403e+06\n",
            "[70]\tvalid_0's rmse: 1771.4\tvalid_0's l2: 3.13786e+06\n",
            "[71]\tvalid_0's rmse: 1770.44\tvalid_0's l2: 3.13444e+06\n",
            "[72]\tvalid_0's rmse: 1769.08\tvalid_0's l2: 3.12963e+06\n",
            "[73]\tvalid_0's rmse: 1768.29\tvalid_0's l2: 3.12685e+06\n",
            "[74]\tvalid_0's rmse: 1766.81\tvalid_0's l2: 3.1216e+06\n",
            "[75]\tvalid_0's rmse: 1765.58\tvalid_0's l2: 3.11727e+06\n",
            "[76]\tvalid_0's rmse: 1764.66\tvalid_0's l2: 3.11404e+06\n",
            "[77]\tvalid_0's rmse: 1764.03\tvalid_0's l2: 3.1118e+06\n",
            "[78]\tvalid_0's rmse: 1763.13\tvalid_0's l2: 3.10862e+06\n",
            "[79]\tvalid_0's rmse: 1761.22\tvalid_0's l2: 3.1019e+06\n",
            "[80]\tvalid_0's rmse: 1759.6\tvalid_0's l2: 3.09618e+06\n",
            "[81]\tvalid_0's rmse: 1758.93\tvalid_0's l2: 3.09385e+06\n",
            "[82]\tvalid_0's rmse: 1757.03\tvalid_0's l2: 3.08716e+06\n",
            "[83]\tvalid_0's rmse: 1755.31\tvalid_0's l2: 3.0811e+06\n",
            "[84]\tvalid_0's rmse: 1754.58\tvalid_0's l2: 3.07856e+06\n",
            "[85]\tvalid_0's rmse: 1753.7\tvalid_0's l2: 3.07546e+06\n",
            "[86]\tvalid_0's rmse: 1753\tvalid_0's l2: 3.07299e+06\n",
            "[87]\tvalid_0's rmse: 1752.29\tvalid_0's l2: 3.07052e+06\n",
            "[88]\tvalid_0's rmse: 1751.04\tvalid_0's l2: 3.06613e+06\n",
            "[89]\tvalid_0's rmse: 1749.68\tvalid_0's l2: 3.06139e+06\n",
            "[90]\tvalid_0's rmse: 1748.8\tvalid_0's l2: 3.05832e+06\n",
            "[91]\tvalid_0's rmse: 1747.48\tvalid_0's l2: 3.05369e+06\n",
            "[92]\tvalid_0's rmse: 1746.21\tvalid_0's l2: 3.04924e+06\n",
            "[93]\tvalid_0's rmse: 1745.57\tvalid_0's l2: 3.04701e+06\n",
            "[94]\tvalid_0's rmse: 1745.14\tvalid_0's l2: 3.0455e+06\n",
            "[95]\tvalid_0's rmse: 1744.17\tvalid_0's l2: 3.04212e+06\n",
            "[96]\tvalid_0's rmse: 1742.74\tvalid_0's l2: 3.03716e+06\n",
            "[97]\tvalid_0's rmse: 1741.85\tvalid_0's l2: 3.03403e+06\n",
            "[98]\tvalid_0's rmse: 1741.11\tvalid_0's l2: 3.03146e+06\n",
            "[99]\tvalid_0's rmse: 1740.09\tvalid_0's l2: 3.0279e+06\n",
            "[100]\tvalid_0's rmse: 1739.56\tvalid_0's l2: 3.02608e+06\n",
            "[1]\tvalid_0's rmse: 4230.78\tvalid_0's l2: 1.78995e+07\n",
            "[2]\tvalid_0's rmse: 3943.87\tvalid_0's l2: 1.55541e+07\n",
            "[3]\tvalid_0's rmse: 3693.25\tvalid_0's l2: 1.36401e+07\n",
            "[4]\tvalid_0's rmse: 3475.52\tvalid_0's l2: 1.20792e+07\n",
            "[5]\tvalid_0's rmse: 3284.74\tvalid_0's l2: 1.07895e+07\n",
            "[6]\tvalid_0's rmse: 3116.21\tvalid_0's l2: 9.71076e+06\n",
            "[7]\tvalid_0's rmse: 2970.42\tvalid_0's l2: 8.82341e+06\n",
            "[8]\tvalid_0's rmse: 2840.97\tvalid_0's l2: 8.07111e+06\n",
            "[9]\tvalid_0's rmse: 2730.37\tvalid_0's l2: 7.45492e+06\n",
            "[10]\tvalid_0's rmse: 2630.93\tvalid_0's l2: 6.92178e+06\n",
            "[11]\tvalid_0's rmse: 2544.88\tvalid_0's l2: 6.47643e+06\n",
            "[12]\tvalid_0's rmse: 2470.96\tvalid_0's l2: 6.10566e+06\n",
            "[13]\tvalid_0's rmse: 2403.98\tvalid_0's l2: 5.7791e+06\n",
            "[14]\tvalid_0's rmse: 2346.72\tvalid_0's l2: 5.5071e+06\n",
            "[15]\tvalid_0's rmse: 2294.36\tvalid_0's l2: 5.26407e+06\n",
            "[16]\tvalid_0's rmse: 2250.54\tvalid_0's l2: 5.06492e+06\n",
            "[17]\tvalid_0's rmse: 2209\tvalid_0's l2: 4.8797e+06\n",
            "[18]\tvalid_0's rmse: 2171.62\tvalid_0's l2: 4.71594e+06\n",
            "[19]\tvalid_0's rmse: 2136.29\tvalid_0's l2: 4.56374e+06\n",
            "[20]\tvalid_0's rmse: 2105.28\tvalid_0's l2: 4.43221e+06\n",
            "[21]\tvalid_0's rmse: 2077.02\tvalid_0's l2: 4.314e+06\n",
            "[22]\tvalid_0's rmse: 2054.26\tvalid_0's l2: 4.21996e+06\n",
            "[23]\tvalid_0's rmse: 2033.98\tvalid_0's l2: 4.13708e+06\n",
            "[24]\tvalid_0's rmse: 2015.12\tvalid_0's l2: 4.06069e+06\n",
            "[25]\tvalid_0's rmse: 1996.22\tvalid_0's l2: 3.98491e+06\n",
            "[26]\tvalid_0's rmse: 1978.35\tvalid_0's l2: 3.91386e+06\n",
            "[27]\tvalid_0's rmse: 1964.96\tvalid_0's l2: 3.86106e+06\n",
            "[28]\tvalid_0's rmse: 1950.37\tvalid_0's l2: 3.80396e+06\n",
            "[29]\tvalid_0's rmse: 1938.15\tvalid_0's l2: 3.75643e+06\n",
            "[30]\tvalid_0's rmse: 1928.29\tvalid_0's l2: 3.71829e+06\n",
            "[31]\tvalid_0's rmse: 1917.61\tvalid_0's l2: 3.67722e+06\n",
            "[32]\tvalid_0's rmse: 1909.14\tvalid_0's l2: 3.6448e+06\n",
            "[33]\tvalid_0's rmse: 1900.42\tvalid_0's l2: 3.61159e+06\n",
            "[34]\tvalid_0's rmse: 1894.12\tvalid_0's l2: 3.58769e+06\n",
            "[35]\tvalid_0's rmse: 1888.1\tvalid_0's l2: 3.56492e+06\n",
            "[36]\tvalid_0's rmse: 1879.27\tvalid_0's l2: 3.53166e+06\n",
            "[37]\tvalid_0's rmse: 1872.75\tvalid_0's l2: 3.50718e+06\n",
            "[38]\tvalid_0's rmse: 1865.93\tvalid_0's l2: 3.48168e+06\n",
            "[39]\tvalid_0's rmse: 1858.86\tvalid_0's l2: 3.45536e+06\n",
            "[40]\tvalid_0's rmse: 1851.96\tvalid_0's l2: 3.42975e+06\n",
            "[41]\tvalid_0's rmse: 1846.76\tvalid_0's l2: 3.41051e+06\n",
            "[42]\tvalid_0's rmse: 1842.29\tvalid_0's l2: 3.39404e+06\n",
            "[43]\tvalid_0's rmse: 1837.8\tvalid_0's l2: 3.37752e+06\n",
            "[44]\tvalid_0's rmse: 1832.74\tvalid_0's l2: 3.35894e+06\n",
            "[45]\tvalid_0's rmse: 1829.4\tvalid_0's l2: 3.34671e+06\n",
            "[46]\tvalid_0's rmse: 1825.8\tvalid_0's l2: 3.33353e+06\n",
            "[47]\tvalid_0's rmse: 1822.3\tvalid_0's l2: 3.32078e+06\n",
            "[48]\tvalid_0's rmse: 1818.29\tvalid_0's l2: 3.30617e+06\n",
            "[49]\tvalid_0's rmse: 1816.06\tvalid_0's l2: 3.29809e+06\n",
            "[50]\tvalid_0's rmse: 1813.07\tvalid_0's l2: 3.28724e+06\n",
            "[51]\tvalid_0's rmse: 1809.97\tvalid_0's l2: 3.27601e+06\n",
            "[52]\tvalid_0's rmse: 1806.53\tvalid_0's l2: 3.26354e+06\n",
            "[53]\tvalid_0's rmse: 1804.61\tvalid_0's l2: 3.25661e+06\n",
            "[54]\tvalid_0's rmse: 1801.91\tvalid_0's l2: 3.24687e+06\n",
            "[55]\tvalid_0's rmse: 1798.6\tvalid_0's l2: 3.23495e+06\n",
            "[56]\tvalid_0's rmse: 1796\tvalid_0's l2: 3.22561e+06\n",
            "[57]\tvalid_0's rmse: 1793.27\tvalid_0's l2: 3.21583e+06\n",
            "[58]\tvalid_0's rmse: 1791.54\tvalid_0's l2: 3.20963e+06\n",
            "[59]\tvalid_0's rmse: 1788.62\tvalid_0's l2: 3.19915e+06\n",
            "[60]\tvalid_0's rmse: 1786.48\tvalid_0's l2: 3.19151e+06\n",
            "[61]\tvalid_0's rmse: 1784.94\tvalid_0's l2: 3.18601e+06\n",
            "[62]\tvalid_0's rmse: 1783.14\tvalid_0's l2: 3.17959e+06\n",
            "[63]\tvalid_0's rmse: 1781.36\tvalid_0's l2: 3.17324e+06\n",
            "[64]\tvalid_0's rmse: 1778.7\tvalid_0's l2: 3.16376e+06\n",
            "[65]\tvalid_0's rmse: 1777.59\tvalid_0's l2: 3.15981e+06\n",
            "[66]\tvalid_0's rmse: 1776.09\tvalid_0's l2: 3.15449e+06\n",
            "[67]\tvalid_0's rmse: 1774.58\tvalid_0's l2: 3.14912e+06\n",
            "[68]\tvalid_0's rmse: 1772.44\tvalid_0's l2: 3.14156e+06\n",
            "[69]\tvalid_0's rmse: 1770.99\tvalid_0's l2: 3.13641e+06\n",
            "[70]\tvalid_0's rmse: 1769.64\tvalid_0's l2: 3.13162e+06\n",
            "[71]\tvalid_0's rmse: 1768.36\tvalid_0's l2: 3.1271e+06\n",
            "[72]\tvalid_0's rmse: 1767.15\tvalid_0's l2: 3.12284e+06\n",
            "[73]\tvalid_0's rmse: 1766.3\tvalid_0's l2: 3.11983e+06\n",
            "[74]\tvalid_0's rmse: 1764.51\tvalid_0's l2: 3.11349e+06\n",
            "[75]\tvalid_0's rmse: 1763.22\tvalid_0's l2: 3.10895e+06\n",
            "[76]\tvalid_0's rmse: 1761.32\tvalid_0's l2: 3.10224e+06\n",
            "[77]\tvalid_0's rmse: 1759.65\tvalid_0's l2: 3.09638e+06\n",
            "[78]\tvalid_0's rmse: 1758.62\tvalid_0's l2: 3.09274e+06\n",
            "[79]\tvalid_0's rmse: 1757.95\tvalid_0's l2: 3.0904e+06\n",
            "[80]\tvalid_0's rmse: 1756.4\tvalid_0's l2: 3.08494e+06\n",
            "[81]\tvalid_0's rmse: 1755.21\tvalid_0's l2: 3.08075e+06\n",
            "[82]\tvalid_0's rmse: 1754.52\tvalid_0's l2: 3.07833e+06\n",
            "[83]\tvalid_0's rmse: 1753.36\tvalid_0's l2: 3.07427e+06\n",
            "[84]\tvalid_0's rmse: 1751.83\tvalid_0's l2: 3.06892e+06\n",
            "[85]\tvalid_0's rmse: 1750.68\tvalid_0's l2: 3.06488e+06\n",
            "[86]\tvalid_0's rmse: 1749.68\tvalid_0's l2: 3.06138e+06\n",
            "[87]\tvalid_0's rmse: 1748.28\tvalid_0's l2: 3.05649e+06\n",
            "[88]\tvalid_0's rmse: 1747.32\tvalid_0's l2: 3.05314e+06\n",
            "[89]\tvalid_0's rmse: 1746.63\tvalid_0's l2: 3.0507e+06\n",
            "[90]\tvalid_0's rmse: 1745.03\tvalid_0's l2: 3.04514e+06\n",
            "[91]\tvalid_0's rmse: 1744.07\tvalid_0's l2: 3.04178e+06\n",
            "[92]\tvalid_0's rmse: 1743.15\tvalid_0's l2: 3.03857e+06\n",
            "[93]\tvalid_0's rmse: 1741.47\tvalid_0's l2: 3.03273e+06\n",
            "[94]\tvalid_0's rmse: 1740.7\tvalid_0's l2: 3.03004e+06\n",
            "[95]\tvalid_0's rmse: 1739.4\tvalid_0's l2: 3.0255e+06\n",
            "[96]\tvalid_0's rmse: 1738.86\tvalid_0's l2: 3.02364e+06\n",
            "[97]\tvalid_0's rmse: 1738.09\tvalid_0's l2: 3.02094e+06\n",
            "[98]\tvalid_0's rmse: 1737.43\tvalid_0's l2: 3.01867e+06\n",
            "[99]\tvalid_0's rmse: 1736.33\tvalid_0's l2: 3.01484e+06\n",
            "[100]\tvalid_0's rmse: 1735.72\tvalid_0's l2: 3.01274e+06\n",
            "[1]\tvalid_0's rmse: 4216.37\tvalid_0's l2: 1.77778e+07\n",
            "[2]\tvalid_0's rmse: 3918.67\tvalid_0's l2: 1.5356e+07\n",
            "[3]\tvalid_0's rmse: 3659.52\tvalid_0's l2: 1.33921e+07\n",
            "[4]\tvalid_0's rmse: 3434.37\tvalid_0's l2: 1.17949e+07\n",
            "[5]\tvalid_0's rmse: 3235.92\tvalid_0's l2: 1.04712e+07\n",
            "[6]\tvalid_0's rmse: 3064.36\tvalid_0's l2: 9.39029e+06\n",
            "[7]\tvalid_0's rmse: 2913.99\tvalid_0's l2: 8.49134e+06\n",
            "[8]\tvalid_0's rmse: 2781.05\tvalid_0's l2: 7.73422e+06\n",
            "[9]\tvalid_0's rmse: 2664.86\tvalid_0's l2: 7.10148e+06\n",
            "[10]\tvalid_0's rmse: 2565.16\tvalid_0's l2: 6.58005e+06\n",
            "[11]\tvalid_0's rmse: 2475.01\tvalid_0's l2: 6.12569e+06\n",
            "[12]\tvalid_0's rmse: 2396.32\tvalid_0's l2: 5.74233e+06\n",
            "[13]\tvalid_0's rmse: 2328.54\tvalid_0's l2: 5.42211e+06\n",
            "[14]\tvalid_0's rmse: 2270.98\tvalid_0's l2: 5.15736e+06\n",
            "[15]\tvalid_0's rmse: 2218.88\tvalid_0's l2: 4.92344e+06\n",
            "[16]\tvalid_0's rmse: 2174.44\tvalid_0's l2: 4.72817e+06\n",
            "[17]\tvalid_0's rmse: 2132.37\tvalid_0's l2: 4.54699e+06\n",
            "[18]\tvalid_0's rmse: 2096.01\tvalid_0's l2: 4.39326e+06\n",
            "[19]\tvalid_0's rmse: 2066.06\tvalid_0's l2: 4.26859e+06\n",
            "[20]\tvalid_0's rmse: 2038.44\tvalid_0's l2: 4.15523e+06\n",
            "[21]\tvalid_0's rmse: 2014.64\tvalid_0's l2: 4.05879e+06\n",
            "[22]\tvalid_0's rmse: 1990.19\tvalid_0's l2: 3.96084e+06\n",
            "[23]\tvalid_0's rmse: 1969.05\tvalid_0's l2: 3.87715e+06\n",
            "[24]\tvalid_0's rmse: 1949.45\tvalid_0's l2: 3.80034e+06\n",
            "[25]\tvalid_0's rmse: 1933.18\tvalid_0's l2: 3.7372e+06\n",
            "[26]\tvalid_0's rmse: 1917.87\tvalid_0's l2: 3.67821e+06\n",
            "[27]\tvalid_0's rmse: 1904.56\tvalid_0's l2: 3.62736e+06\n",
            "[28]\tvalid_0's rmse: 1891.98\tvalid_0's l2: 3.57959e+06\n",
            "[29]\tvalid_0's rmse: 1881.98\tvalid_0's l2: 3.54185e+06\n",
            "[30]\tvalid_0's rmse: 1870.98\tvalid_0's l2: 3.50056e+06\n",
            "[31]\tvalid_0's rmse: 1861.8\tvalid_0's l2: 3.46632e+06\n",
            "[32]\tvalid_0's rmse: 1853.13\tvalid_0's l2: 3.43409e+06\n",
            "[33]\tvalid_0's rmse: 1845.3\tvalid_0's l2: 3.40511e+06\n",
            "[34]\tvalid_0's rmse: 1836.26\tvalid_0's l2: 3.37184e+06\n",
            "[35]\tvalid_0's rmse: 1830.08\tvalid_0's l2: 3.34919e+06\n",
            "[36]\tvalid_0's rmse: 1823.36\tvalid_0's l2: 3.32464e+06\n",
            "[37]\tvalid_0's rmse: 1817.95\tvalid_0's l2: 3.30493e+06\n",
            "[38]\tvalid_0's rmse: 1812.93\tvalid_0's l2: 3.28673e+06\n",
            "[39]\tvalid_0's rmse: 1807.75\tvalid_0's l2: 3.26797e+06\n",
            "[40]\tvalid_0's rmse: 1803.68\tvalid_0's l2: 3.25327e+06\n",
            "[41]\tvalid_0's rmse: 1799.87\tvalid_0's l2: 3.23955e+06\n",
            "[42]\tvalid_0's rmse: 1796\tvalid_0's l2: 3.22563e+06\n",
            "[43]\tvalid_0's rmse: 1791.37\tvalid_0's l2: 3.209e+06\n",
            "[44]\tvalid_0's rmse: 1788.6\tvalid_0's l2: 3.19909e+06\n",
            "[45]\tvalid_0's rmse: 1785.55\tvalid_0's l2: 3.18819e+06\n",
            "[46]\tvalid_0's rmse: 1780.9\tvalid_0's l2: 3.1716e+06\n",
            "[47]\tvalid_0's rmse: 1778.41\tvalid_0's l2: 3.16275e+06\n",
            "[48]\tvalid_0's rmse: 1776.42\tvalid_0's l2: 3.15568e+06\n",
            "[49]\tvalid_0's rmse: 1773.06\tvalid_0's l2: 3.14374e+06\n",
            "[50]\tvalid_0's rmse: 1771.53\tvalid_0's l2: 3.13832e+06\n",
            "[51]\tvalid_0's rmse: 1767.61\tvalid_0's l2: 3.12445e+06\n",
            "[52]\tvalid_0's rmse: 1766.05\tvalid_0's l2: 3.11895e+06\n",
            "[53]\tvalid_0's rmse: 1763.11\tvalid_0's l2: 3.10855e+06\n",
            "[54]\tvalid_0's rmse: 1760.92\tvalid_0's l2: 3.10084e+06\n",
            "[55]\tvalid_0's rmse: 1759.64\tvalid_0's l2: 3.09633e+06\n",
            "[56]\tvalid_0's rmse: 1756.96\tvalid_0's l2: 3.08692e+06\n",
            "[57]\tvalid_0's rmse: 1754.06\tvalid_0's l2: 3.07672e+06\n",
            "[58]\tvalid_0's rmse: 1752.11\tvalid_0's l2: 3.0699e+06\n",
            "[59]\tvalid_0's rmse: 1750.48\tvalid_0's l2: 3.06418e+06\n",
            "[60]\tvalid_0's rmse: 1748.77\tvalid_0's l2: 3.05819e+06\n",
            "[61]\tvalid_0's rmse: 1747.86\tvalid_0's l2: 3.05502e+06\n",
            "[62]\tvalid_0's rmse: 1744.71\tvalid_0's l2: 3.04402e+06\n",
            "[63]\tvalid_0's rmse: 1743.55\tvalid_0's l2: 3.03995e+06\n",
            "[64]\tvalid_0's rmse: 1742.36\tvalid_0's l2: 3.03582e+06\n",
            "[65]\tvalid_0's rmse: 1740.78\tvalid_0's l2: 3.03031e+06\n",
            "[66]\tvalid_0's rmse: 1739.74\tvalid_0's l2: 3.02668e+06\n",
            "[67]\tvalid_0's rmse: 1738.28\tvalid_0's l2: 3.02162e+06\n",
            "[68]\tvalid_0's rmse: 1736.91\tvalid_0's l2: 3.01686e+06\n",
            "[69]\tvalid_0's rmse: 1735.75\tvalid_0's l2: 3.01284e+06\n",
            "[70]\tvalid_0's rmse: 1734.95\tvalid_0's l2: 3.01004e+06\n",
            "[71]\tvalid_0's rmse: 1733.45\tvalid_0's l2: 3.00485e+06\n",
            "[72]\tvalid_0's rmse: 1732.45\tvalid_0's l2: 3.00138e+06\n",
            "[73]\tvalid_0's rmse: 1731.75\tvalid_0's l2: 2.99894e+06\n",
            "[74]\tvalid_0's rmse: 1729.39\tvalid_0's l2: 2.9908e+06\n",
            "[75]\tvalid_0's rmse: 1728.5\tvalid_0's l2: 2.98773e+06\n",
            "[76]\tvalid_0's rmse: 1726.77\tvalid_0's l2: 2.98173e+06\n",
            "[77]\tvalid_0's rmse: 1724.81\tvalid_0's l2: 2.97496e+06\n",
            "[78]\tvalid_0's rmse: 1723.91\tvalid_0's l2: 2.97188e+06\n",
            "[79]\tvalid_0's rmse: 1723.31\tvalid_0's l2: 2.96979e+06\n",
            "[80]\tvalid_0's rmse: 1721.69\tvalid_0's l2: 2.96423e+06\n",
            "[81]\tvalid_0's rmse: 1720.37\tvalid_0's l2: 2.95969e+06\n",
            "[82]\tvalid_0's rmse: 1719.73\tvalid_0's l2: 2.95747e+06\n",
            "[83]\tvalid_0's rmse: 1719.22\tvalid_0's l2: 2.95573e+06\n",
            "[84]\tvalid_0's rmse: 1718.64\tvalid_0's l2: 2.95373e+06\n",
            "[85]\tvalid_0's rmse: 1718.06\tvalid_0's l2: 2.95175e+06\n",
            "[86]\tvalid_0's rmse: 1717.11\tvalid_0's l2: 2.94847e+06\n",
            "[87]\tvalid_0's rmse: 1716.21\tvalid_0's l2: 2.94539e+06\n",
            "[88]\tvalid_0's rmse: 1715.34\tvalid_0's l2: 2.94238e+06\n",
            "[89]\tvalid_0's rmse: 1713.77\tvalid_0's l2: 2.93701e+06\n",
            "[90]\tvalid_0's rmse: 1713.2\tvalid_0's l2: 2.93505e+06\n",
            "[91]\tvalid_0's rmse: 1712.84\tvalid_0's l2: 2.93383e+06\n",
            "[92]\tvalid_0's rmse: 1711.39\tvalid_0's l2: 2.92886e+06\n",
            "[93]\tvalid_0's rmse: 1710.11\tvalid_0's l2: 2.92446e+06\n",
            "[94]\tvalid_0's rmse: 1709.41\tvalid_0's l2: 2.92209e+06\n",
            "[95]\tvalid_0's rmse: 1708.52\tvalid_0's l2: 2.91905e+06\n",
            "[96]\tvalid_0's rmse: 1707.34\tvalid_0's l2: 2.91502e+06\n",
            "[97]\tvalid_0's rmse: 1706.41\tvalid_0's l2: 2.91182e+06\n",
            "[98]\tvalid_0's rmse: 1705.94\tvalid_0's l2: 2.91021e+06\n",
            "[99]\tvalid_0's rmse: 1704.95\tvalid_0's l2: 2.90685e+06\n",
            "[100]\tvalid_0's rmse: 1704.49\tvalid_0's l2: 2.90529e+06\n",
            "[1]\tvalid_0's rmse: 4219.66\tvalid_0's l2: 1.78055e+07\n",
            "[2]\tvalid_0's rmse: 3923.48\tvalid_0's l2: 1.53937e+07\n",
            "[3]\tvalid_0's rmse: 3667.57\tvalid_0's l2: 1.3451e+07\n",
            "[4]\tvalid_0's rmse: 3442.23\tvalid_0's l2: 1.18489e+07\n",
            "[5]\tvalid_0's rmse: 3246.02\tvalid_0's l2: 1.05366e+07\n",
            "[6]\tvalid_0's rmse: 3073.2\tvalid_0's l2: 9.44454e+06\n",
            "[7]\tvalid_0's rmse: 2921.07\tvalid_0's l2: 8.53267e+06\n",
            "[8]\tvalid_0's rmse: 2788.41\tvalid_0's l2: 7.77521e+06\n",
            "[9]\tvalid_0's rmse: 2673.18\tvalid_0's l2: 7.14589e+06\n",
            "[10]\tvalid_0's rmse: 2572.73\tvalid_0's l2: 6.61894e+06\n",
            "[11]\tvalid_0's rmse: 2485.16\tvalid_0's l2: 6.17603e+06\n",
            "[12]\tvalid_0's rmse: 2409.6\tvalid_0's l2: 5.80616e+06\n",
            "[13]\tvalid_0's rmse: 2340.01\tvalid_0's l2: 5.47565e+06\n",
            "[14]\tvalid_0's rmse: 2280.88\tvalid_0's l2: 5.20241e+06\n",
            "[15]\tvalid_0's rmse: 2228.88\tvalid_0's l2: 4.96791e+06\n",
            "[16]\tvalid_0's rmse: 2182.19\tvalid_0's l2: 4.76197e+06\n",
            "[17]\tvalid_0's rmse: 2141.37\tvalid_0's l2: 4.58548e+06\n",
            "[18]\tvalid_0's rmse: 2105.08\tvalid_0's l2: 4.43135e+06\n",
            "[19]\tvalid_0's rmse: 2073.82\tvalid_0's l2: 4.30074e+06\n",
            "[20]\tvalid_0's rmse: 2045.8\tvalid_0's l2: 4.18529e+06\n",
            "[21]\tvalid_0's rmse: 2019.05\tvalid_0's l2: 4.07658e+06\n",
            "[22]\tvalid_0's rmse: 1995.39\tvalid_0's l2: 3.98158e+06\n",
            "[23]\tvalid_0's rmse: 1974.93\tvalid_0's l2: 3.90034e+06\n",
            "[24]\tvalid_0's rmse: 1954.89\tvalid_0's l2: 3.82159e+06\n",
            "[25]\tvalid_0's rmse: 1938.59\tvalid_0's l2: 3.75812e+06\n",
            "[26]\tvalid_0's rmse: 1923.67\tvalid_0's l2: 3.7005e+06\n",
            "[27]\tvalid_0's rmse: 1907.93\tvalid_0's l2: 3.6402e+06\n",
            "[28]\tvalid_0's rmse: 1894.47\tvalid_0's l2: 3.58902e+06\n",
            "[29]\tvalid_0's rmse: 1884.52\tvalid_0's l2: 3.5514e+06\n",
            "[30]\tvalid_0's rmse: 1874.11\tvalid_0's l2: 3.51228e+06\n",
            "[31]\tvalid_0's rmse: 1863.8\tvalid_0's l2: 3.47375e+06\n",
            "[32]\tvalid_0's rmse: 1855.97\tvalid_0's l2: 3.44463e+06\n",
            "[33]\tvalid_0's rmse: 1848.89\tvalid_0's l2: 3.41838e+06\n",
            "[34]\tvalid_0's rmse: 1839.72\tvalid_0's l2: 3.38458e+06\n",
            "[35]\tvalid_0's rmse: 1832.23\tvalid_0's l2: 3.35707e+06\n",
            "[36]\tvalid_0's rmse: 1826.53\tvalid_0's l2: 3.33621e+06\n",
            "[37]\tvalid_0's rmse: 1820.09\tvalid_0's l2: 3.31273e+06\n",
            "[38]\tvalid_0's rmse: 1814.65\tvalid_0's l2: 3.29297e+06\n",
            "[39]\tvalid_0's rmse: 1810.13\tvalid_0's l2: 3.27659e+06\n",
            "[40]\tvalid_0's rmse: 1804.48\tvalid_0's l2: 3.25615e+06\n",
            "[41]\tvalid_0's rmse: 1801.01\tvalid_0's l2: 3.24363e+06\n",
            "[42]\tvalid_0's rmse: 1796.52\tvalid_0's l2: 3.22747e+06\n",
            "[43]\tvalid_0's rmse: 1791.93\tvalid_0's l2: 3.21102e+06\n",
            "[44]\tvalid_0's rmse: 1788.04\tvalid_0's l2: 3.19709e+06\n",
            "[45]\tvalid_0's rmse: 1783.71\tvalid_0's l2: 3.1816e+06\n",
            "[46]\tvalid_0's rmse: 1780.82\tvalid_0's l2: 3.1713e+06\n",
            "[47]\tvalid_0's rmse: 1778.47\tvalid_0's l2: 3.16294e+06\n",
            "[48]\tvalid_0's rmse: 1775.66\tvalid_0's l2: 3.15297e+06\n",
            "[49]\tvalid_0's rmse: 1773.18\tvalid_0's l2: 3.14417e+06\n",
            "[50]\tvalid_0's rmse: 1769.36\tvalid_0's l2: 3.13064e+06\n",
            "[51]\tvalid_0's rmse: 1767.5\tvalid_0's l2: 3.12405e+06\n",
            "[52]\tvalid_0's rmse: 1764.46\tvalid_0's l2: 3.11334e+06\n",
            "[53]\tvalid_0's rmse: 1761.3\tvalid_0's l2: 3.10218e+06\n",
            "[54]\tvalid_0's rmse: 1759.69\tvalid_0's l2: 3.0965e+06\n",
            "[55]\tvalid_0's rmse: 1757.81\tvalid_0's l2: 3.08991e+06\n",
            "[56]\tvalid_0's rmse: 1756.77\tvalid_0's l2: 3.08623e+06\n",
            "[57]\tvalid_0's rmse: 1754.41\tvalid_0's l2: 3.07794e+06\n",
            "[58]\tvalid_0's rmse: 1752.14\tvalid_0's l2: 3.06999e+06\n",
            "[59]\tvalid_0's rmse: 1750.68\tvalid_0's l2: 3.06487e+06\n",
            "[60]\tvalid_0's rmse: 1748.77\tvalid_0's l2: 3.05818e+06\n",
            "[61]\tvalid_0's rmse: 1746.34\tvalid_0's l2: 3.0497e+06\n",
            "[62]\tvalid_0's rmse: 1745.2\tvalid_0's l2: 3.04572e+06\n",
            "[63]\tvalid_0's rmse: 1743.75\tvalid_0's l2: 3.04067e+06\n",
            "[64]\tvalid_0's rmse: 1742.83\tvalid_0's l2: 3.03745e+06\n",
            "[65]\tvalid_0's rmse: 1741.32\tvalid_0's l2: 3.03218e+06\n",
            "[66]\tvalid_0's rmse: 1739.26\tvalid_0's l2: 3.02503e+06\n",
            "[67]\tvalid_0's rmse: 1738.05\tvalid_0's l2: 3.02081e+06\n",
            "[68]\tvalid_0's rmse: 1736.34\tvalid_0's l2: 3.01489e+06\n",
            "[69]\tvalid_0's rmse: 1735.08\tvalid_0's l2: 3.01052e+06\n",
            "[70]\tvalid_0's rmse: 1734.09\tvalid_0's l2: 3.00707e+06\n",
            "[71]\tvalid_0's rmse: 1733.09\tvalid_0's l2: 3.00361e+06\n",
            "[72]\tvalid_0's rmse: 1731.63\tvalid_0's l2: 2.99855e+06\n",
            "[73]\tvalid_0's rmse: 1730.85\tvalid_0's l2: 2.99585e+06\n",
            "[74]\tvalid_0's rmse: 1730.24\tvalid_0's l2: 2.99375e+06\n",
            "[75]\tvalid_0's rmse: 1729.26\tvalid_0's l2: 2.99035e+06\n",
            "[76]\tvalid_0's rmse: 1727.54\tvalid_0's l2: 2.98439e+06\n",
            "[77]\tvalid_0's rmse: 1726.18\tvalid_0's l2: 2.97969e+06\n",
            "[78]\tvalid_0's rmse: 1724.7\tvalid_0's l2: 2.97457e+06\n",
            "[79]\tvalid_0's rmse: 1723.82\tvalid_0's l2: 2.97157e+06\n",
            "[80]\tvalid_0's rmse: 1722.46\tvalid_0's l2: 2.96687e+06\n",
            "[81]\tvalid_0's rmse: 1721.27\tvalid_0's l2: 2.96277e+06\n",
            "[82]\tvalid_0's rmse: 1720.41\tvalid_0's l2: 2.95982e+06\n",
            "[83]\tvalid_0's rmse: 1719.48\tvalid_0's l2: 2.95661e+06\n",
            "[84]\tvalid_0's rmse: 1718.79\tvalid_0's l2: 2.95425e+06\n",
            "[85]\tvalid_0's rmse: 1718.1\tvalid_0's l2: 2.95186e+06\n",
            "[86]\tvalid_0's rmse: 1716.59\tvalid_0's l2: 2.94667e+06\n",
            "[87]\tvalid_0's rmse: 1715.98\tvalid_0's l2: 2.94458e+06\n",
            "[88]\tvalid_0's rmse: 1715.04\tvalid_0's l2: 2.94136e+06\n",
            "[89]\tvalid_0's rmse: 1713.62\tvalid_0's l2: 2.93649e+06\n",
            "[90]\tvalid_0's rmse: 1712.95\tvalid_0's l2: 2.93421e+06\n",
            "[91]\tvalid_0's rmse: 1712.09\tvalid_0's l2: 2.93126e+06\n",
            "[92]\tvalid_0's rmse: 1711.24\tvalid_0's l2: 2.92833e+06\n",
            "[93]\tvalid_0's rmse: 1710.41\tvalid_0's l2: 2.92549e+06\n",
            "[94]\tvalid_0's rmse: 1709.67\tvalid_0's l2: 2.92297e+06\n",
            "[95]\tvalid_0's rmse: 1709.13\tvalid_0's l2: 2.92114e+06\n",
            "[96]\tvalid_0's rmse: 1708.23\tvalid_0's l2: 2.91804e+06\n",
            "[97]\tvalid_0's rmse: 1707.73\tvalid_0's l2: 2.91634e+06\n",
            "[98]\tvalid_0's rmse: 1707.15\tvalid_0's l2: 2.91435e+06\n",
            "[99]\tvalid_0's rmse: 1706.82\tvalid_0's l2: 2.91322e+06\n",
            "[100]\tvalid_0's rmse: 1706.36\tvalid_0's l2: 2.91166e+06\n",
            "[1]\tvalid_0's rmse: 4225.46\tvalid_0's l2: 1.78545e+07\n",
            "[2]\tvalid_0's rmse: 3940.09\tvalid_0's l2: 1.55243e+07\n",
            "[3]\tvalid_0's rmse: 3690.36\tvalid_0's l2: 1.36188e+07\n",
            "[4]\tvalid_0's rmse: 3472.19\tvalid_0's l2: 1.20561e+07\n",
            "[5]\tvalid_0's rmse: 3281.3\tvalid_0's l2: 1.07669e+07\n",
            "[6]\tvalid_0's rmse: 3113.22\tvalid_0's l2: 9.69215e+06\n",
            "[7]\tvalid_0's rmse: 2966.37\tvalid_0's l2: 8.79932e+06\n",
            "[8]\tvalid_0's rmse: 2838.78\tvalid_0's l2: 8.05867e+06\n",
            "[9]\tvalid_0's rmse: 2728.09\tvalid_0's l2: 7.44247e+06\n",
            "[10]\tvalid_0's rmse: 2631.15\tvalid_0's l2: 6.92295e+06\n",
            "[11]\tvalid_0's rmse: 2547\tvalid_0's l2: 6.48722e+06\n",
            "[12]\tvalid_0's rmse: 2471.42\tvalid_0's l2: 6.10792e+06\n",
            "[13]\tvalid_0's rmse: 2405\tvalid_0's l2: 5.78401e+06\n",
            "[14]\tvalid_0's rmse: 2348.15\tvalid_0's l2: 5.51382e+06\n",
            "[15]\tvalid_0's rmse: 2296.44\tvalid_0's l2: 5.27365e+06\n",
            "[16]\tvalid_0's rmse: 2249.78\tvalid_0's l2: 5.06149e+06\n",
            "[17]\tvalid_0's rmse: 2210.01\tvalid_0's l2: 4.88415e+06\n",
            "[18]\tvalid_0's rmse: 2171.7\tvalid_0's l2: 4.71629e+06\n",
            "[19]\tvalid_0's rmse: 2138.1\tvalid_0's l2: 4.57146e+06\n",
            "[20]\tvalid_0's rmse: 2106.74\tvalid_0's l2: 4.43837e+06\n",
            "[21]\tvalid_0's rmse: 2080.69\tvalid_0's l2: 4.32927e+06\n",
            "[22]\tvalid_0's rmse: 2056.99\tvalid_0's l2: 4.2312e+06\n",
            "[23]\tvalid_0's rmse: 2034.97\tvalid_0's l2: 4.14109e+06\n",
            "[24]\tvalid_0's rmse: 2015.64\tvalid_0's l2: 4.06282e+06\n",
            "[25]\tvalid_0's rmse: 1998.28\tvalid_0's l2: 3.99312e+06\n",
            "[26]\tvalid_0's rmse: 1981.87\tvalid_0's l2: 3.92781e+06\n",
            "[27]\tvalid_0's rmse: 1964.32\tvalid_0's l2: 3.85855e+06\n",
            "[28]\tvalid_0's rmse: 1952.65\tvalid_0's l2: 3.81283e+06\n",
            "[29]\tvalid_0's rmse: 1939.24\tvalid_0's l2: 3.76066e+06\n",
            "[30]\tvalid_0's rmse: 1928.51\tvalid_0's l2: 3.71916e+06\n",
            "[31]\tvalid_0's rmse: 1920.05\tvalid_0's l2: 3.68657e+06\n",
            "[32]\tvalid_0's rmse: 1910.93\tvalid_0's l2: 3.65164e+06\n",
            "[33]\tvalid_0's rmse: 1901.68\tvalid_0's l2: 3.6164e+06\n",
            "[34]\tvalid_0's rmse: 1895.04\tvalid_0's l2: 3.59119e+06\n",
            "[35]\tvalid_0's rmse: 1887.52\tvalid_0's l2: 3.56273e+06\n",
            "[36]\tvalid_0's rmse: 1880.93\tvalid_0's l2: 3.53789e+06\n",
            "[37]\tvalid_0's rmse: 1874.83\tvalid_0's l2: 3.51499e+06\n",
            "[38]\tvalid_0's rmse: 1868.18\tvalid_0's l2: 3.49009e+06\n",
            "[39]\tvalid_0's rmse: 1861.61\tvalid_0's l2: 3.46559e+06\n",
            "[40]\tvalid_0's rmse: 1857.08\tvalid_0's l2: 3.44873e+06\n",
            "[41]\tvalid_0's rmse: 1851.16\tvalid_0's l2: 3.42681e+06\n",
            "[42]\tvalid_0's rmse: 1847.2\tvalid_0's l2: 3.41215e+06\n",
            "[43]\tvalid_0's rmse: 1843.01\tvalid_0's l2: 3.39667e+06\n",
            "[44]\tvalid_0's rmse: 1838.24\tvalid_0's l2: 3.37912e+06\n",
            "[45]\tvalid_0's rmse: 1834.47\tvalid_0's l2: 3.36527e+06\n",
            "[46]\tvalid_0's rmse: 1831.22\tvalid_0's l2: 3.35335e+06\n",
            "[47]\tvalid_0's rmse: 1827.44\tvalid_0's l2: 3.33952e+06\n",
            "[48]\tvalid_0's rmse: 1824.21\tvalid_0's l2: 3.32774e+06\n",
            "[49]\tvalid_0's rmse: 1820.29\tvalid_0's l2: 3.31346e+06\n",
            "[50]\tvalid_0's rmse: 1816.43\tvalid_0's l2: 3.29941e+06\n",
            "[51]\tvalid_0's rmse: 1814.07\tvalid_0's l2: 3.29085e+06\n",
            "[52]\tvalid_0's rmse: 1811.39\tvalid_0's l2: 3.28112e+06\n",
            "[53]\tvalid_0's rmse: 1809.94\tvalid_0's l2: 3.27589e+06\n",
            "[54]\tvalid_0's rmse: 1806.61\tvalid_0's l2: 3.26383e+06\n",
            "[55]\tvalid_0's rmse: 1804.58\tvalid_0's l2: 3.25651e+06\n",
            "[56]\tvalid_0's rmse: 1801.68\tvalid_0's l2: 3.24605e+06\n",
            "[57]\tvalid_0's rmse: 1799.5\tvalid_0's l2: 3.23819e+06\n",
            "[58]\tvalid_0's rmse: 1798.22\tvalid_0's l2: 3.23358e+06\n",
            "[59]\tvalid_0's rmse: 1796.26\tvalid_0's l2: 3.22657e+06\n",
            "[60]\tvalid_0's rmse: 1793.28\tvalid_0's l2: 3.21585e+06\n",
            "[61]\tvalid_0's rmse: 1790.56\tvalid_0's l2: 3.2061e+06\n",
            "[62]\tvalid_0's rmse: 1788.35\tvalid_0's l2: 3.19821e+06\n",
            "[63]\tvalid_0's rmse: 1787.06\tvalid_0's l2: 3.19357e+06\n",
            "[64]\tvalid_0's rmse: 1785.65\tvalid_0's l2: 3.18853e+06\n",
            "[65]\tvalid_0's rmse: 1782.96\tvalid_0's l2: 3.17894e+06\n",
            "[66]\tvalid_0's rmse: 1780.11\tvalid_0's l2: 3.16879e+06\n",
            "[67]\tvalid_0's rmse: 1779.39\tvalid_0's l2: 3.16621e+06\n",
            "[68]\tvalid_0's rmse: 1778.25\tvalid_0's l2: 3.16216e+06\n",
            "[69]\tvalid_0's rmse: 1776.28\tvalid_0's l2: 3.15516e+06\n",
            "[70]\tvalid_0's rmse: 1774.67\tvalid_0's l2: 3.14944e+06\n",
            "[71]\tvalid_0's rmse: 1773.51\tvalid_0's l2: 3.14534e+06\n",
            "[72]\tvalid_0's rmse: 1772.68\tvalid_0's l2: 3.14239e+06\n",
            "[73]\tvalid_0's rmse: 1770.22\tvalid_0's l2: 3.13367e+06\n",
            "[74]\tvalid_0's rmse: 1769.09\tvalid_0's l2: 3.12968e+06\n",
            "[75]\tvalid_0's rmse: 1768.17\tvalid_0's l2: 3.12641e+06\n",
            "[76]\tvalid_0's rmse: 1766.16\tvalid_0's l2: 3.11934e+06\n",
            "[77]\tvalid_0's rmse: 1765.37\tvalid_0's l2: 3.11654e+06\n",
            "[78]\tvalid_0's rmse: 1763.84\tvalid_0's l2: 3.11115e+06\n",
            "[79]\tvalid_0's rmse: 1763.06\tvalid_0's l2: 3.10839e+06\n",
            "[80]\tvalid_0's rmse: 1761.89\tvalid_0's l2: 3.10426e+06\n",
            "[81]\tvalid_0's rmse: 1759.69\tvalid_0's l2: 3.09651e+06\n",
            "[82]\tvalid_0's rmse: 1758.66\tvalid_0's l2: 3.0929e+06\n",
            "[83]\tvalid_0's rmse: 1757.05\tvalid_0's l2: 3.08723e+06\n",
            "[84]\tvalid_0's rmse: 1756.27\tvalid_0's l2: 3.0845e+06\n",
            "[85]\tvalid_0's rmse: 1755.9\tvalid_0's l2: 3.0832e+06\n",
            "[86]\tvalid_0's rmse: 1754.8\tvalid_0's l2: 3.07933e+06\n",
            "[87]\tvalid_0's rmse: 1753.43\tvalid_0's l2: 3.07453e+06\n",
            "[88]\tvalid_0's rmse: 1752.2\tvalid_0's l2: 3.07019e+06\n",
            "[89]\tvalid_0's rmse: 1750.99\tvalid_0's l2: 3.06598e+06\n",
            "[90]\tvalid_0's rmse: 1750.11\tvalid_0's l2: 3.06288e+06\n",
            "[91]\tvalid_0's rmse: 1749.07\tvalid_0's l2: 3.05925e+06\n",
            "[92]\tvalid_0's rmse: 1748.55\tvalid_0's l2: 3.05742e+06\n",
            "[93]\tvalid_0's rmse: 1747.89\tvalid_0's l2: 3.05512e+06\n",
            "[94]\tvalid_0's rmse: 1746.22\tvalid_0's l2: 3.0493e+06\n",
            "[95]\tvalid_0's rmse: 1745.41\tvalid_0's l2: 3.04646e+06\n",
            "[96]\tvalid_0's rmse: 1744.6\tvalid_0's l2: 3.04364e+06\n",
            "[97]\tvalid_0's rmse: 1744.08\tvalid_0's l2: 3.04183e+06\n",
            "[98]\tvalid_0's rmse: 1743.27\tvalid_0's l2: 3.039e+06\n",
            "[99]\tvalid_0's rmse: 1742.51\tvalid_0's l2: 3.03635e+06\n",
            "[100]\tvalid_0's rmse: 1742\tvalid_0's l2: 3.03458e+06\n",
            "[1]\tvalid_0's rmse: 4230.78\tvalid_0's l2: 1.78995e+07\n",
            "[2]\tvalid_0's rmse: 3943.87\tvalid_0's l2: 1.55541e+07\n",
            "[3]\tvalid_0's rmse: 3693.25\tvalid_0's l2: 1.36401e+07\n",
            "[4]\tvalid_0's rmse: 3475.52\tvalid_0's l2: 1.20792e+07\n",
            "[5]\tvalid_0's rmse: 3284.74\tvalid_0's l2: 1.07895e+07\n",
            "[6]\tvalid_0's rmse: 3116.21\tvalid_0's l2: 9.71076e+06\n",
            "[7]\tvalid_0's rmse: 2970.42\tvalid_0's l2: 8.82341e+06\n",
            "[8]\tvalid_0's rmse: 2840.97\tvalid_0's l2: 8.07111e+06\n",
            "[9]\tvalid_0's rmse: 2730.37\tvalid_0's l2: 7.45492e+06\n",
            "[10]\tvalid_0's rmse: 2630.93\tvalid_0's l2: 6.92178e+06\n",
            "[11]\tvalid_0's rmse: 2544.88\tvalid_0's l2: 6.47643e+06\n",
            "[12]\tvalid_0's rmse: 2470.96\tvalid_0's l2: 6.10566e+06\n",
            "[13]\tvalid_0's rmse: 2403.98\tvalid_0's l2: 5.7791e+06\n",
            "[14]\tvalid_0's rmse: 2346.72\tvalid_0's l2: 5.5071e+06\n",
            "[15]\tvalid_0's rmse: 2294.36\tvalid_0's l2: 5.26407e+06\n",
            "[16]\tvalid_0's rmse: 2251.06\tvalid_0's l2: 5.06725e+06\n",
            "[17]\tvalid_0's rmse: 2210.07\tvalid_0's l2: 4.88443e+06\n",
            "[18]\tvalid_0's rmse: 2173.08\tvalid_0's l2: 4.72227e+06\n",
            "[19]\tvalid_0's rmse: 2138.29\tvalid_0's l2: 4.57229e+06\n",
            "[20]\tvalid_0's rmse: 2108.46\tvalid_0's l2: 4.44558e+06\n",
            "[21]\tvalid_0's rmse: 2081.87\tvalid_0's l2: 4.33419e+06\n",
            "[22]\tvalid_0's rmse: 2059.68\tvalid_0's l2: 4.24228e+06\n",
            "[23]\tvalid_0's rmse: 2035.86\tvalid_0's l2: 4.14471e+06\n",
            "[24]\tvalid_0's rmse: 2015.99\tvalid_0's l2: 4.06422e+06\n",
            "[25]\tvalid_0's rmse: 1998.75\tvalid_0's l2: 3.99501e+06\n",
            "[26]\tvalid_0's rmse: 1981.24\tvalid_0's l2: 3.92531e+06\n",
            "[27]\tvalid_0's rmse: 1965.49\tvalid_0's l2: 3.86317e+06\n",
            "[28]\tvalid_0's rmse: 1952.43\tvalid_0's l2: 3.812e+06\n",
            "[29]\tvalid_0's rmse: 1940.26\tvalid_0's l2: 3.76459e+06\n",
            "[30]\tvalid_0's rmse: 1929.44\tvalid_0's l2: 3.72273e+06\n",
            "[31]\tvalid_0's rmse: 1916.41\tvalid_0's l2: 3.67263e+06\n",
            "[32]\tvalid_0's rmse: 1908.21\tvalid_0's l2: 3.64128e+06\n",
            "[33]\tvalid_0's rmse: 1899.88\tvalid_0's l2: 3.60954e+06\n",
            "[34]\tvalid_0's rmse: 1893.17\tvalid_0's l2: 3.58411e+06\n",
            "[35]\tvalid_0's rmse: 1885.08\tvalid_0's l2: 3.55352e+06\n",
            "[36]\tvalid_0's rmse: 1877.76\tvalid_0's l2: 3.52597e+06\n",
            "[37]\tvalid_0's rmse: 1872.21\tvalid_0's l2: 3.50516e+06\n",
            "[38]\tvalid_0's rmse: 1866.36\tvalid_0's l2: 3.4833e+06\n",
            "[39]\tvalid_0's rmse: 1859.82\tvalid_0's l2: 3.45891e+06\n",
            "[40]\tvalid_0's rmse: 1853.65\tvalid_0's l2: 3.43603e+06\n",
            "[41]\tvalid_0's rmse: 1848.66\tvalid_0's l2: 3.41754e+06\n",
            "[42]\tvalid_0's rmse: 1845.23\tvalid_0's l2: 3.40486e+06\n",
            "[43]\tvalid_0's rmse: 1841.25\tvalid_0's l2: 3.39019e+06\n",
            "[44]\tvalid_0's rmse: 1836.69\tvalid_0's l2: 3.37343e+06\n",
            "[45]\tvalid_0's rmse: 1832.32\tvalid_0's l2: 3.3574e+06\n",
            "[46]\tvalid_0's rmse: 1828.28\tvalid_0's l2: 3.34259e+06\n",
            "[47]\tvalid_0's rmse: 1825.21\tvalid_0's l2: 3.33139e+06\n",
            "[48]\tvalid_0's rmse: 1822.85\tvalid_0's l2: 3.32278e+06\n",
            "[49]\tvalid_0's rmse: 1818.87\tvalid_0's l2: 3.3083e+06\n",
            "[50]\tvalid_0's rmse: 1815.27\tvalid_0's l2: 3.2952e+06\n",
            "[51]\tvalid_0's rmse: 1811.03\tvalid_0's l2: 3.27983e+06\n",
            "[52]\tvalid_0's rmse: 1808.15\tvalid_0's l2: 3.2694e+06\n",
            "[53]\tvalid_0's rmse: 1804.65\tvalid_0's l2: 3.25677e+06\n",
            "[54]\tvalid_0's rmse: 1802.15\tvalid_0's l2: 3.24776e+06\n",
            "[55]\tvalid_0's rmse: 1798.77\tvalid_0's l2: 3.23558e+06\n",
            "[56]\tvalid_0's rmse: 1796.37\tvalid_0's l2: 3.22694e+06\n",
            "[57]\tvalid_0's rmse: 1794.48\tvalid_0's l2: 3.22017e+06\n",
            "[58]\tvalid_0's rmse: 1792.67\tvalid_0's l2: 3.21367e+06\n",
            "[59]\tvalid_0's rmse: 1790.55\tvalid_0's l2: 3.20608e+06\n",
            "[60]\tvalid_0's rmse: 1789.19\tvalid_0's l2: 3.20121e+06\n",
            "[61]\tvalid_0's rmse: 1786.9\tvalid_0's l2: 3.193e+06\n",
            "[62]\tvalid_0's rmse: 1785.49\tvalid_0's l2: 3.18798e+06\n",
            "[63]\tvalid_0's rmse: 1783.69\tvalid_0's l2: 3.18153e+06\n",
            "[64]\tvalid_0's rmse: 1782.41\tvalid_0's l2: 3.17699e+06\n",
            "[65]\tvalid_0's rmse: 1780.5\tvalid_0's l2: 3.17019e+06\n",
            "[66]\tvalid_0's rmse: 1779.45\tvalid_0's l2: 3.16643e+06\n",
            "[67]\tvalid_0's rmse: 1777.3\tvalid_0's l2: 3.15878e+06\n",
            "[68]\tvalid_0's rmse: 1775.42\tvalid_0's l2: 3.1521e+06\n",
            "[69]\tvalid_0's rmse: 1773.75\tvalid_0's l2: 3.14618e+06\n",
            "[70]\tvalid_0's rmse: 1771.58\tvalid_0's l2: 3.1385e+06\n",
            "[71]\tvalid_0's rmse: 1770.16\tvalid_0's l2: 3.13348e+06\n",
            "[72]\tvalid_0's rmse: 1769\tvalid_0's l2: 3.12937e+06\n",
            "[73]\tvalid_0's rmse: 1767.4\tvalid_0's l2: 3.1237e+06\n",
            "[74]\tvalid_0's rmse: 1766.26\tvalid_0's l2: 3.11966e+06\n",
            "[75]\tvalid_0's rmse: 1765.32\tvalid_0's l2: 3.11636e+06\n",
            "[76]\tvalid_0's rmse: 1764.21\tvalid_0's l2: 3.11245e+06\n",
            "[77]\tvalid_0's rmse: 1762.83\tvalid_0's l2: 3.10757e+06\n",
            "[78]\tvalid_0's rmse: 1761.2\tvalid_0's l2: 3.10184e+06\n",
            "[79]\tvalid_0's rmse: 1760.21\tvalid_0's l2: 3.09835e+06\n",
            "[80]\tvalid_0's rmse: 1759.1\tvalid_0's l2: 3.09443e+06\n",
            "[81]\tvalid_0's rmse: 1758\tvalid_0's l2: 3.09055e+06\n",
            "[82]\tvalid_0's rmse: 1757.34\tvalid_0's l2: 3.08823e+06\n",
            "[83]\tvalid_0's rmse: 1755.34\tvalid_0's l2: 3.08122e+06\n",
            "[84]\tvalid_0's rmse: 1754.21\tvalid_0's l2: 3.07725e+06\n",
            "[85]\tvalid_0's rmse: 1753.32\tvalid_0's l2: 3.07412e+06\n",
            "[86]\tvalid_0's rmse: 1752.64\tvalid_0's l2: 3.07173e+06\n",
            "[87]\tvalid_0's rmse: 1750.67\tvalid_0's l2: 3.06485e+06\n",
            "[88]\tvalid_0's rmse: 1749.17\tvalid_0's l2: 3.0596e+06\n",
            "[89]\tvalid_0's rmse: 1747.92\tvalid_0's l2: 3.05522e+06\n",
            "[90]\tvalid_0's rmse: 1747.06\tvalid_0's l2: 3.05221e+06\n",
            "[91]\tvalid_0's rmse: 1746.32\tvalid_0's l2: 3.04964e+06\n",
            "[92]\tvalid_0's rmse: 1745.15\tvalid_0's l2: 3.04554e+06\n",
            "[93]\tvalid_0's rmse: 1744.49\tvalid_0's l2: 3.04324e+06\n",
            "[94]\tvalid_0's rmse: 1743.44\tvalid_0's l2: 3.03958e+06\n",
            "[95]\tvalid_0's rmse: 1742.6\tvalid_0's l2: 3.03665e+06\n",
            "[96]\tvalid_0's rmse: 1741.56\tvalid_0's l2: 3.03302e+06\n",
            "[97]\tvalid_0's rmse: 1740.81\tvalid_0's l2: 3.03043e+06\n",
            "[98]\tvalid_0's rmse: 1739.81\tvalid_0's l2: 3.02693e+06\n",
            "[99]\tvalid_0's rmse: 1739.15\tvalid_0's l2: 3.02464e+06\n",
            "[100]\tvalid_0's rmse: 1738.46\tvalid_0's l2: 3.02226e+06\n",
            "[1]\tvalid_0's rmse: 4216.37\tvalid_0's l2: 1.77778e+07\n",
            "[2]\tvalid_0's rmse: 3918.67\tvalid_0's l2: 1.5356e+07\n",
            "[3]\tvalid_0's rmse: 3659.52\tvalid_0's l2: 1.33921e+07\n",
            "[4]\tvalid_0's rmse: 3434.37\tvalid_0's l2: 1.17949e+07\n",
            "[5]\tvalid_0's rmse: 3235.92\tvalid_0's l2: 1.04712e+07\n",
            "[6]\tvalid_0's rmse: 3064.36\tvalid_0's l2: 9.39029e+06\n",
            "[7]\tvalid_0's rmse: 2913.99\tvalid_0's l2: 8.49134e+06\n",
            "[8]\tvalid_0's rmse: 2781.05\tvalid_0's l2: 7.73422e+06\n",
            "[9]\tvalid_0's rmse: 2665.05\tvalid_0's l2: 7.10249e+06\n",
            "[10]\tvalid_0's rmse: 2565.26\tvalid_0's l2: 6.58054e+06\n",
            "[11]\tvalid_0's rmse: 2475.13\tvalid_0's l2: 6.12629e+06\n",
            "[12]\tvalid_0's rmse: 2396.14\tvalid_0's l2: 5.74149e+06\n",
            "[13]\tvalid_0's rmse: 2328.38\tvalid_0's l2: 5.42138e+06\n",
            "[14]\tvalid_0's rmse: 2269.89\tvalid_0's l2: 5.15238e+06\n",
            "[15]\tvalid_0's rmse: 2216.68\tvalid_0's l2: 4.91368e+06\n",
            "[16]\tvalid_0's rmse: 2170.83\tvalid_0's l2: 4.71252e+06\n",
            "[17]\tvalid_0's rmse: 2131.31\tvalid_0's l2: 4.5425e+06\n",
            "[18]\tvalid_0's rmse: 2096.26\tvalid_0's l2: 4.39432e+06\n",
            "[19]\tvalid_0's rmse: 2064.81\tvalid_0's l2: 4.26344e+06\n",
            "[20]\tvalid_0's rmse: 2038.1\tvalid_0's l2: 4.15383e+06\n",
            "[21]\tvalid_0's rmse: 2013.44\tvalid_0's l2: 4.05393e+06\n",
            "[22]\tvalid_0's rmse: 1987.76\tvalid_0's l2: 3.95118e+06\n",
            "[23]\tvalid_0's rmse: 1967.39\tvalid_0's l2: 3.8706e+06\n",
            "[24]\tvalid_0's rmse: 1948.59\tvalid_0's l2: 3.79701e+06\n",
            "[25]\tvalid_0's rmse: 1931.52\tvalid_0's l2: 3.73076e+06\n",
            "[26]\tvalid_0's rmse: 1917.87\tvalid_0's l2: 3.67824e+06\n",
            "[27]\tvalid_0's rmse: 1905.03\tvalid_0's l2: 3.62912e+06\n",
            "[28]\tvalid_0's rmse: 1890.78\tvalid_0's l2: 3.57505e+06\n",
            "[29]\tvalid_0's rmse: 1880.77\tvalid_0's l2: 3.53731e+06\n",
            "[30]\tvalid_0's rmse: 1869.29\tvalid_0's l2: 3.49423e+06\n",
            "[31]\tvalid_0's rmse: 1860.37\tvalid_0's l2: 3.46098e+06\n",
            "[32]\tvalid_0's rmse: 1852.5\tvalid_0's l2: 3.43175e+06\n",
            "[33]\tvalid_0's rmse: 1844.6\tvalid_0's l2: 3.40256e+06\n",
            "[34]\tvalid_0's rmse: 1837.65\tvalid_0's l2: 3.37697e+06\n",
            "[35]\tvalid_0's rmse: 1830.81\tvalid_0's l2: 3.35185e+06\n",
            "[36]\tvalid_0's rmse: 1824.82\tvalid_0's l2: 3.32997e+06\n",
            "[37]\tvalid_0's rmse: 1818.34\tvalid_0's l2: 3.30638e+06\n",
            "[38]\tvalid_0's rmse: 1813.11\tvalid_0's l2: 3.28737e+06\n",
            "[39]\tvalid_0's rmse: 1808.52\tvalid_0's l2: 3.27073e+06\n",
            "[40]\tvalid_0's rmse: 1802.39\tvalid_0's l2: 3.24863e+06\n",
            "[41]\tvalid_0's rmse: 1798.25\tvalid_0's l2: 3.23369e+06\n",
            "[42]\tvalid_0's rmse: 1795.14\tvalid_0's l2: 3.22252e+06\n",
            "[43]\tvalid_0's rmse: 1790.89\tvalid_0's l2: 3.20729e+06\n",
            "[44]\tvalid_0's rmse: 1786.92\tvalid_0's l2: 3.19308e+06\n",
            "[45]\tvalid_0's rmse: 1782.28\tvalid_0's l2: 3.17653e+06\n",
            "[46]\tvalid_0's rmse: 1778.05\tvalid_0's l2: 3.16147e+06\n",
            "[47]\tvalid_0's rmse: 1775.37\tvalid_0's l2: 3.15194e+06\n",
            "[48]\tvalid_0's rmse: 1773.46\tvalid_0's l2: 3.14516e+06\n",
            "[49]\tvalid_0's rmse: 1770.86\tvalid_0's l2: 3.13595e+06\n",
            "[50]\tvalid_0's rmse: 1767.59\tvalid_0's l2: 3.12439e+06\n",
            "[51]\tvalid_0's rmse: 1764.47\tvalid_0's l2: 3.11336e+06\n",
            "[52]\tvalid_0's rmse: 1762.86\tvalid_0's l2: 3.10766e+06\n",
            "[53]\tvalid_0's rmse: 1760.91\tvalid_0's l2: 3.1008e+06\n",
            "[54]\tvalid_0's rmse: 1757.71\tvalid_0's l2: 3.08954e+06\n",
            "[55]\tvalid_0's rmse: 1756.13\tvalid_0's l2: 3.084e+06\n",
            "[56]\tvalid_0's rmse: 1754.05\tvalid_0's l2: 3.0767e+06\n",
            "[57]\tvalid_0's rmse: 1751.97\tvalid_0's l2: 3.06941e+06\n",
            "[58]\tvalid_0's rmse: 1749.4\tvalid_0's l2: 3.0604e+06\n",
            "[59]\tvalid_0's rmse: 1748.08\tvalid_0's l2: 3.05577e+06\n",
            "[60]\tvalid_0's rmse: 1747.05\tvalid_0's l2: 3.05219e+06\n",
            "[61]\tvalid_0's rmse: 1745.85\tvalid_0's l2: 3.04799e+06\n",
            "[62]\tvalid_0's rmse: 1745.11\tvalid_0's l2: 3.04542e+06\n",
            "[63]\tvalid_0's rmse: 1742.98\tvalid_0's l2: 3.03798e+06\n",
            "[64]\tvalid_0's rmse: 1740.46\tvalid_0's l2: 3.02919e+06\n",
            "[65]\tvalid_0's rmse: 1738.54\tvalid_0's l2: 3.02251e+06\n",
            "[66]\tvalid_0's rmse: 1736.39\tvalid_0's l2: 3.01506e+06\n",
            "[67]\tvalid_0's rmse: 1735.56\tvalid_0's l2: 3.01216e+06\n",
            "[68]\tvalid_0's rmse: 1734.05\tvalid_0's l2: 3.00691e+06\n",
            "[69]\tvalid_0's rmse: 1733.5\tvalid_0's l2: 3.00501e+06\n",
            "[70]\tvalid_0's rmse: 1732.17\tvalid_0's l2: 3.00041e+06\n",
            "[71]\tvalid_0's rmse: 1731.46\tvalid_0's l2: 2.99795e+06\n",
            "[72]\tvalid_0's rmse: 1730.57\tvalid_0's l2: 2.99488e+06\n",
            "[73]\tvalid_0's rmse: 1728.97\tvalid_0's l2: 2.98934e+06\n",
            "[74]\tvalid_0's rmse: 1727.46\tvalid_0's l2: 2.98412e+06\n",
            "[75]\tvalid_0's rmse: 1725.28\tvalid_0's l2: 2.97659e+06\n",
            "[76]\tvalid_0's rmse: 1724.75\tvalid_0's l2: 2.97476e+06\n",
            "[77]\tvalid_0's rmse: 1724.01\tvalid_0's l2: 2.97222e+06\n",
            "[78]\tvalid_0's rmse: 1723.54\tvalid_0's l2: 2.97058e+06\n",
            "[79]\tvalid_0's rmse: 1721.83\tvalid_0's l2: 2.9647e+06\n",
            "[80]\tvalid_0's rmse: 1720.89\tvalid_0's l2: 2.96146e+06\n",
            "[81]\tvalid_0's rmse: 1720.28\tvalid_0's l2: 2.95935e+06\n",
            "[82]\tvalid_0's rmse: 1718.43\tvalid_0's l2: 2.95301e+06\n",
            "[83]\tvalid_0's rmse: 1717.63\tvalid_0's l2: 2.95027e+06\n",
            "[84]\tvalid_0's rmse: 1717.16\tvalid_0's l2: 2.94864e+06\n",
            "[85]\tvalid_0's rmse: 1716.35\tvalid_0's l2: 2.94587e+06\n",
            "[86]\tvalid_0's rmse: 1715.88\tvalid_0's l2: 2.94425e+06\n",
            "[87]\tvalid_0's rmse: 1715.02\tvalid_0's l2: 2.94128e+06\n",
            "[88]\tvalid_0's rmse: 1714.46\tvalid_0's l2: 2.93936e+06\n",
            "[89]\tvalid_0's rmse: 1713.38\tvalid_0's l2: 2.93567e+06\n",
            "[90]\tvalid_0's rmse: 1712.98\tvalid_0's l2: 2.93429e+06\n",
            "[91]\tvalid_0's rmse: 1712.31\tvalid_0's l2: 2.932e+06\n",
            "[92]\tvalid_0's rmse: 1712.03\tvalid_0's l2: 2.93104e+06\n",
            "[93]\tvalid_0's rmse: 1711.28\tvalid_0's l2: 2.92847e+06\n",
            "[94]\tvalid_0's rmse: 1710.77\tvalid_0's l2: 2.92672e+06\n",
            "[95]\tvalid_0's rmse: 1709.4\tvalid_0's l2: 2.92204e+06\n",
            "[96]\tvalid_0's rmse: 1708.15\tvalid_0's l2: 2.91777e+06\n",
            "[97]\tvalid_0's rmse: 1707.35\tvalid_0's l2: 2.91505e+06\n",
            "[98]\tvalid_0's rmse: 1706.64\tvalid_0's l2: 2.91261e+06\n",
            "[99]\tvalid_0's rmse: 1705.89\tvalid_0's l2: 2.91006e+06\n",
            "[100]\tvalid_0's rmse: 1704.58\tvalid_0's l2: 2.9056e+06\n",
            "[1]\tvalid_0's rmse: 4219.66\tvalid_0's l2: 1.78055e+07\n",
            "[2]\tvalid_0's rmse: 3923.48\tvalid_0's l2: 1.53937e+07\n",
            "[3]\tvalid_0's rmse: 3667.57\tvalid_0's l2: 1.3451e+07\n",
            "[4]\tvalid_0's rmse: 3442.23\tvalid_0's l2: 1.18489e+07\n",
            "[5]\tvalid_0's rmse: 3246.02\tvalid_0's l2: 1.05366e+07\n",
            "[6]\tvalid_0's rmse: 3073.2\tvalid_0's l2: 9.44454e+06\n",
            "[7]\tvalid_0's rmse: 2921.2\tvalid_0's l2: 8.53339e+06\n",
            "[8]\tvalid_0's rmse: 2788.58\tvalid_0's l2: 7.77616e+06\n",
            "[9]\tvalid_0's rmse: 2673.47\tvalid_0's l2: 7.14745e+06\n",
            "[10]\tvalid_0's rmse: 2573.81\tvalid_0's l2: 6.62448e+06\n",
            "[11]\tvalid_0's rmse: 2485.83\tvalid_0's l2: 6.17937e+06\n",
            "[12]\tvalid_0's rmse: 2408.37\tvalid_0's l2: 5.80026e+06\n",
            "[13]\tvalid_0's rmse: 2342.18\tvalid_0's l2: 5.48581e+06\n",
            "[14]\tvalid_0's rmse: 2282.25\tvalid_0's l2: 5.20867e+06\n",
            "[15]\tvalid_0's rmse: 2228.82\tvalid_0's l2: 4.96762e+06\n",
            "[16]\tvalid_0's rmse: 2182.93\tvalid_0's l2: 4.76519e+06\n",
            "[17]\tvalid_0's rmse: 2140.96\tvalid_0's l2: 4.58373e+06\n",
            "[18]\tvalid_0's rmse: 2106.84\tvalid_0's l2: 4.43879e+06\n",
            "[19]\tvalid_0's rmse: 2073.87\tvalid_0's l2: 4.30094e+06\n",
            "[20]\tvalid_0's rmse: 2043.97\tvalid_0's l2: 4.17783e+06\n",
            "[21]\tvalid_0's rmse: 2017.12\tvalid_0's l2: 4.06878e+06\n",
            "[22]\tvalid_0's rmse: 1994.38\tvalid_0's l2: 3.97757e+06\n",
            "[23]\tvalid_0's rmse: 1973.93\tvalid_0's l2: 3.8964e+06\n",
            "[24]\tvalid_0's rmse: 1954.75\tvalid_0's l2: 3.82105e+06\n",
            "[25]\tvalid_0's rmse: 1938\tvalid_0's l2: 3.75583e+06\n",
            "[26]\tvalid_0's rmse: 1923.29\tvalid_0's l2: 3.69903e+06\n",
            "[27]\tvalid_0's rmse: 1907.91\tvalid_0's l2: 3.64013e+06\n",
            "[28]\tvalid_0's rmse: 1894.18\tvalid_0's l2: 3.58792e+06\n",
            "[29]\tvalid_0's rmse: 1882.54\tvalid_0's l2: 3.54394e+06\n",
            "[30]\tvalid_0's rmse: 1873.11\tvalid_0's l2: 3.50854e+06\n",
            "[31]\tvalid_0's rmse: 1863.39\tvalid_0's l2: 3.47222e+06\n",
            "[32]\tvalid_0's rmse: 1854.79\tvalid_0's l2: 3.44026e+06\n",
            "[33]\tvalid_0's rmse: 1846.73\tvalid_0's l2: 3.41043e+06\n",
            "[34]\tvalid_0's rmse: 1839.83\tvalid_0's l2: 3.38499e+06\n",
            "[35]\tvalid_0's rmse: 1831.56\tvalid_0's l2: 3.35462e+06\n",
            "[36]\tvalid_0's rmse: 1824.83\tvalid_0's l2: 3.32999e+06\n",
            "[37]\tvalid_0's rmse: 1819.14\tvalid_0's l2: 3.30927e+06\n",
            "[38]\tvalid_0's rmse: 1813.89\tvalid_0's l2: 3.29019e+06\n",
            "[39]\tvalid_0's rmse: 1809.55\tvalid_0's l2: 3.27447e+06\n",
            "[40]\tvalid_0's rmse: 1803.57\tvalid_0's l2: 3.25286e+06\n",
            "[41]\tvalid_0's rmse: 1799.97\tvalid_0's l2: 3.2399e+06\n",
            "[42]\tvalid_0's rmse: 1795.78\tvalid_0's l2: 3.22482e+06\n",
            "[43]\tvalid_0's rmse: 1790.91\tvalid_0's l2: 3.20737e+06\n",
            "[44]\tvalid_0's rmse: 1787.45\tvalid_0's l2: 3.19497e+06\n",
            "[45]\tvalid_0's rmse: 1783.66\tvalid_0's l2: 3.18144e+06\n",
            "[46]\tvalid_0's rmse: 1780.76\tvalid_0's l2: 3.17111e+06\n",
            "[47]\tvalid_0's rmse: 1777.43\tvalid_0's l2: 3.15925e+06\n",
            "[48]\tvalid_0's rmse: 1775.94\tvalid_0's l2: 3.15396e+06\n",
            "[49]\tvalid_0's rmse: 1772.52\tvalid_0's l2: 3.14183e+06\n",
            "[50]\tvalid_0's rmse: 1769.99\tvalid_0's l2: 3.13285e+06\n",
            "[51]\tvalid_0's rmse: 1766.6\tvalid_0's l2: 3.12089e+06\n",
            "[52]\tvalid_0's rmse: 1764.89\tvalid_0's l2: 3.11484e+06\n",
            "[53]\tvalid_0's rmse: 1762.68\tvalid_0's l2: 3.10705e+06\n",
            "[54]\tvalid_0's rmse: 1761.46\tvalid_0's l2: 3.10275e+06\n",
            "[55]\tvalid_0's rmse: 1758.71\tvalid_0's l2: 3.09306e+06\n",
            "[56]\tvalid_0's rmse: 1757.02\tvalid_0's l2: 3.08711e+06\n",
            "[57]\tvalid_0's rmse: 1754.79\tvalid_0's l2: 3.07928e+06\n",
            "[58]\tvalid_0's rmse: 1752.62\tvalid_0's l2: 3.07167e+06\n",
            "[59]\tvalid_0's rmse: 1751.36\tvalid_0's l2: 3.06724e+06\n",
            "[60]\tvalid_0's rmse: 1748.87\tvalid_0's l2: 3.05855e+06\n",
            "[61]\tvalid_0's rmse: 1747.66\tvalid_0's l2: 3.05431e+06\n",
            "[62]\tvalid_0's rmse: 1745.62\tvalid_0's l2: 3.04719e+06\n",
            "[63]\tvalid_0's rmse: 1743.91\tvalid_0's l2: 3.04124e+06\n",
            "[64]\tvalid_0's rmse: 1742.89\tvalid_0's l2: 3.03766e+06\n",
            "[65]\tvalid_0's rmse: 1742.07\tvalid_0's l2: 3.03482e+06\n",
            "[66]\tvalid_0's rmse: 1740.56\tvalid_0's l2: 3.02954e+06\n",
            "[67]\tvalid_0's rmse: 1739.46\tvalid_0's l2: 3.02572e+06\n",
            "[68]\tvalid_0's rmse: 1738.53\tvalid_0's l2: 3.02248e+06\n",
            "[69]\tvalid_0's rmse: 1737.06\tvalid_0's l2: 3.01738e+06\n",
            "[70]\tvalid_0's rmse: 1735.38\tvalid_0's l2: 3.01156e+06\n",
            "[71]\tvalid_0's rmse: 1733.52\tvalid_0's l2: 3.00508e+06\n",
            "[72]\tvalid_0's rmse: 1732.42\tvalid_0's l2: 3.00128e+06\n",
            "[73]\tvalid_0's rmse: 1731.05\tvalid_0's l2: 2.99652e+06\n",
            "[74]\tvalid_0's rmse: 1730.14\tvalid_0's l2: 2.99339e+06\n",
            "[75]\tvalid_0's rmse: 1728.97\tvalid_0's l2: 2.98935e+06\n",
            "[76]\tvalid_0's rmse: 1727.86\tvalid_0's l2: 2.98549e+06\n",
            "[77]\tvalid_0's rmse: 1727.36\tvalid_0's l2: 2.98378e+06\n",
            "[78]\tvalid_0's rmse: 1726.35\tvalid_0's l2: 2.98029e+06\n",
            "[79]\tvalid_0's rmse: 1725.35\tvalid_0's l2: 2.97682e+06\n",
            "[80]\tvalid_0's rmse: 1723.73\tvalid_0's l2: 2.97125e+06\n",
            "[81]\tvalid_0's rmse: 1722.74\tvalid_0's l2: 2.96785e+06\n",
            "[82]\tvalid_0's rmse: 1722.33\tvalid_0's l2: 2.9664e+06\n",
            "[83]\tvalid_0's rmse: 1721.2\tvalid_0's l2: 2.96252e+06\n",
            "[84]\tvalid_0's rmse: 1719.98\tvalid_0's l2: 2.95833e+06\n",
            "[85]\tvalid_0's rmse: 1718.87\tvalid_0's l2: 2.9545e+06\n",
            "[86]\tvalid_0's rmse: 1718.38\tvalid_0's l2: 2.95285e+06\n",
            "[87]\tvalid_0's rmse: 1717.43\tvalid_0's l2: 2.94956e+06\n",
            "[88]\tvalid_0's rmse: 1717.04\tvalid_0's l2: 2.94823e+06\n",
            "[89]\tvalid_0's rmse: 1716.58\tvalid_0's l2: 2.94664e+06\n",
            "[90]\tvalid_0's rmse: 1716.01\tvalid_0's l2: 2.9447e+06\n",
            "[91]\tvalid_0's rmse: 1715.27\tvalid_0's l2: 2.94215e+06\n",
            "[92]\tvalid_0's rmse: 1714.51\tvalid_0's l2: 2.93954e+06\n",
            "[93]\tvalid_0's rmse: 1713.44\tvalid_0's l2: 2.93587e+06\n",
            "[94]\tvalid_0's rmse: 1713.12\tvalid_0's l2: 2.93477e+06\n",
            "[95]\tvalid_0's rmse: 1712.73\tvalid_0's l2: 2.93345e+06\n",
            "[96]\tvalid_0's rmse: 1712.33\tvalid_0's l2: 2.93208e+06\n",
            "[97]\tvalid_0's rmse: 1711.54\tvalid_0's l2: 2.92937e+06\n",
            "[98]\tvalid_0's rmse: 1711.19\tvalid_0's l2: 2.92817e+06\n",
            "[99]\tvalid_0's rmse: 1710.8\tvalid_0's l2: 2.92683e+06\n",
            "[100]\tvalid_0's rmse: 1709.63\tvalid_0's l2: 2.92282e+06\n",
            "[1]\tvalid_0's rmse: 4225.46\tvalid_0's l2: 1.78545e+07\n",
            "[2]\tvalid_0's rmse: 3940.09\tvalid_0's l2: 1.55243e+07\n",
            "[3]\tvalid_0's rmse: 3690.36\tvalid_0's l2: 1.36188e+07\n",
            "[4]\tvalid_0's rmse: 3472.19\tvalid_0's l2: 1.20561e+07\n",
            "[5]\tvalid_0's rmse: 3281.3\tvalid_0's l2: 1.07669e+07\n",
            "[6]\tvalid_0's rmse: 3113.22\tvalid_0's l2: 9.69215e+06\n",
            "[7]\tvalid_0's rmse: 2966.37\tvalid_0's l2: 8.79932e+06\n",
            "[8]\tvalid_0's rmse: 2838.78\tvalid_0's l2: 8.05867e+06\n",
            "[9]\tvalid_0's rmse: 2728.09\tvalid_0's l2: 7.44247e+06\n",
            "[10]\tvalid_0's rmse: 2631.15\tvalid_0's l2: 6.92295e+06\n",
            "[11]\tvalid_0's rmse: 2547\tvalid_0's l2: 6.48722e+06\n",
            "[12]\tvalid_0's rmse: 2471.42\tvalid_0's l2: 6.10792e+06\n",
            "[13]\tvalid_0's rmse: 2405\tvalid_0's l2: 5.78401e+06\n",
            "[14]\tvalid_0's rmse: 2348.15\tvalid_0's l2: 5.51382e+06\n",
            "[15]\tvalid_0's rmse: 2296.44\tvalid_0's l2: 5.27365e+06\n",
            "[16]\tvalid_0's rmse: 2249.78\tvalid_0's l2: 5.06149e+06\n",
            "[17]\tvalid_0's rmse: 2210.01\tvalid_0's l2: 4.88415e+06\n",
            "[18]\tvalid_0's rmse: 2171.7\tvalid_0's l2: 4.71629e+06\n",
            "[19]\tvalid_0's rmse: 2138.1\tvalid_0's l2: 4.57146e+06\n",
            "[20]\tvalid_0's rmse: 2106.74\tvalid_0's l2: 4.43837e+06\n",
            "[21]\tvalid_0's rmse: 2080.69\tvalid_0's l2: 4.32927e+06\n",
            "[22]\tvalid_0's rmse: 2056.76\tvalid_0's l2: 4.23027e+06\n",
            "[23]\tvalid_0's rmse: 2035.36\tvalid_0's l2: 4.14269e+06\n",
            "[24]\tvalid_0's rmse: 2016.28\tvalid_0's l2: 4.06538e+06\n",
            "[25]\tvalid_0's rmse: 1997.66\tvalid_0's l2: 3.99064e+06\n",
            "[26]\tvalid_0's rmse: 1982.98\tvalid_0's l2: 3.93223e+06\n",
            "[27]\tvalid_0's rmse: 1968.97\tvalid_0's l2: 3.87684e+06\n",
            "[28]\tvalid_0's rmse: 1953.62\tvalid_0's l2: 3.81665e+06\n",
            "[29]\tvalid_0's rmse: 1943.58\tvalid_0's l2: 3.77751e+06\n",
            "[30]\tvalid_0's rmse: 1932.77\tvalid_0's l2: 3.7356e+06\n",
            "[31]\tvalid_0's rmse: 1922.14\tvalid_0's l2: 3.69461e+06\n",
            "[32]\tvalid_0's rmse: 1914.34\tvalid_0's l2: 3.66469e+06\n",
            "[33]\tvalid_0's rmse: 1907.81\tvalid_0's l2: 3.63974e+06\n",
            "[34]\tvalid_0's rmse: 1899.28\tvalid_0's l2: 3.60725e+06\n",
            "[35]\tvalid_0's rmse: 1889.94\tvalid_0's l2: 3.57186e+06\n",
            "[36]\tvalid_0's rmse: 1884.03\tvalid_0's l2: 3.54958e+06\n",
            "[37]\tvalid_0's rmse: 1877.77\tvalid_0's l2: 3.52602e+06\n",
            "[38]\tvalid_0's rmse: 1870.23\tvalid_0's l2: 3.49778e+06\n",
            "[39]\tvalid_0's rmse: 1864.68\tvalid_0's l2: 3.47703e+06\n",
            "[40]\tvalid_0's rmse: 1859.39\tvalid_0's l2: 3.45735e+06\n",
            "[41]\tvalid_0's rmse: 1854.8\tvalid_0's l2: 3.44028e+06\n",
            "[42]\tvalid_0's rmse: 1850.22\tvalid_0's l2: 3.42331e+06\n",
            "[43]\tvalid_0's rmse: 1845.88\tvalid_0's l2: 3.40726e+06\n",
            "[44]\tvalid_0's rmse: 1840.34\tvalid_0's l2: 3.38683e+06\n",
            "[45]\tvalid_0's rmse: 1837.3\tvalid_0's l2: 3.37568e+06\n",
            "[46]\tvalid_0's rmse: 1832.86\tvalid_0's l2: 3.35936e+06\n",
            "[47]\tvalid_0's rmse: 1828.77\tvalid_0's l2: 3.34439e+06\n",
            "[48]\tvalid_0's rmse: 1825.21\tvalid_0's l2: 3.3314e+06\n",
            "[49]\tvalid_0's rmse: 1821.32\tvalid_0's l2: 3.3172e+06\n",
            "[50]\tvalid_0's rmse: 1816.74\tvalid_0's l2: 3.30054e+06\n",
            "[51]\tvalid_0's rmse: 1815.29\tvalid_0's l2: 3.29528e+06\n",
            "[52]\tvalid_0's rmse: 1811.96\tvalid_0's l2: 3.2832e+06\n",
            "[53]\tvalid_0's rmse: 1809.31\tvalid_0's l2: 3.27361e+06\n",
            "[54]\tvalid_0's rmse: 1807.96\tvalid_0's l2: 3.2687e+06\n",
            "[55]\tvalid_0's rmse: 1804.07\tvalid_0's l2: 3.25468e+06\n",
            "[56]\tvalid_0's rmse: 1800.9\tvalid_0's l2: 3.24322e+06\n",
            "[57]\tvalid_0's rmse: 1798.27\tvalid_0's l2: 3.23378e+06\n",
            "[58]\tvalid_0's rmse: 1795.4\tvalid_0's l2: 3.22345e+06\n",
            "[59]\tvalid_0's rmse: 1793.97\tvalid_0's l2: 3.21834e+06\n",
            "[60]\tvalid_0's rmse: 1792.28\tvalid_0's l2: 3.21226e+06\n",
            "[61]\tvalid_0's rmse: 1789.88\tvalid_0's l2: 3.20368e+06\n",
            "[62]\tvalid_0's rmse: 1788.46\tvalid_0's l2: 3.1986e+06\n",
            "[63]\tvalid_0's rmse: 1785.52\tvalid_0's l2: 3.18809e+06\n",
            "[64]\tvalid_0's rmse: 1784.3\tvalid_0's l2: 3.18371e+06\n",
            "[65]\tvalid_0's rmse: 1782.04\tvalid_0's l2: 3.17567e+06\n",
            "[66]\tvalid_0's rmse: 1780.26\tvalid_0's l2: 3.16931e+06\n",
            "[67]\tvalid_0's rmse: 1778.84\tvalid_0's l2: 3.16427e+06\n",
            "[68]\tvalid_0's rmse: 1777.33\tvalid_0's l2: 3.15891e+06\n",
            "[69]\tvalid_0's rmse: 1776.37\tvalid_0's l2: 3.15551e+06\n",
            "[70]\tvalid_0's rmse: 1773.94\tvalid_0's l2: 3.14688e+06\n",
            "[71]\tvalid_0's rmse: 1772.57\tvalid_0's l2: 3.142e+06\n",
            "[72]\tvalid_0's rmse: 1771.99\tvalid_0's l2: 3.13994e+06\n",
            "[73]\tvalid_0's rmse: 1771.17\tvalid_0's l2: 3.13704e+06\n",
            "[74]\tvalid_0's rmse: 1769.56\tvalid_0's l2: 3.13133e+06\n",
            "[75]\tvalid_0's rmse: 1768.6\tvalid_0's l2: 3.12796e+06\n",
            "[76]\tvalid_0's rmse: 1767.26\tvalid_0's l2: 3.12322e+06\n",
            "[77]\tvalid_0's rmse: 1766.31\tvalid_0's l2: 3.11986e+06\n",
            "[78]\tvalid_0's rmse: 1765.35\tvalid_0's l2: 3.11647e+06\n",
            "[79]\tvalid_0's rmse: 1763.45\tvalid_0's l2: 3.10974e+06\n",
            "[80]\tvalid_0's rmse: 1762.68\tvalid_0's l2: 3.10705e+06\n",
            "[81]\tvalid_0's rmse: 1762.09\tvalid_0's l2: 3.10498e+06\n",
            "[82]\tvalid_0's rmse: 1760.54\tvalid_0's l2: 3.09949e+06\n",
            "[83]\tvalid_0's rmse: 1759.89\tvalid_0's l2: 3.09721e+06\n",
            "[84]\tvalid_0's rmse: 1759.09\tvalid_0's l2: 3.09439e+06\n",
            "[85]\tvalid_0's rmse: 1758.34\tvalid_0's l2: 3.09177e+06\n",
            "[86]\tvalid_0's rmse: 1757.22\tvalid_0's l2: 3.08783e+06\n",
            "[87]\tvalid_0's rmse: 1756.44\tvalid_0's l2: 3.08507e+06\n",
            "[88]\tvalid_0's rmse: 1754.88\tvalid_0's l2: 3.07962e+06\n",
            "[89]\tvalid_0's rmse: 1753.41\tvalid_0's l2: 3.07445e+06\n",
            "[90]\tvalid_0's rmse: 1752.99\tvalid_0's l2: 3.07298e+06\n",
            "[91]\tvalid_0's rmse: 1751.84\tvalid_0's l2: 3.06893e+06\n",
            "[92]\tvalid_0's rmse: 1750.22\tvalid_0's l2: 3.06326e+06\n",
            "[93]\tvalid_0's rmse: 1748.71\tvalid_0's l2: 3.058e+06\n",
            "[94]\tvalid_0's rmse: 1748.15\tvalid_0's l2: 3.05603e+06\n",
            "[95]\tvalid_0's rmse: 1747.61\tvalid_0's l2: 3.05413e+06\n",
            "[96]\tvalid_0's rmse: 1746.9\tvalid_0's l2: 3.05165e+06\n",
            "[97]\tvalid_0's rmse: 1746.27\tvalid_0's l2: 3.04945e+06\n",
            "[98]\tvalid_0's rmse: 1745.48\tvalid_0's l2: 3.04671e+06\n",
            "[99]\tvalid_0's rmse: 1744.54\tvalid_0's l2: 3.04341e+06\n",
            "[100]\tvalid_0's rmse: 1744.02\tvalid_0's l2: 3.04162e+06\n",
            "[1]\tvalid_0's rmse: 4230.78\tvalid_0's l2: 1.78995e+07\n",
            "[2]\tvalid_0's rmse: 3943.87\tvalid_0's l2: 1.55541e+07\n",
            "[3]\tvalid_0's rmse: 3693.25\tvalid_0's l2: 1.36401e+07\n",
            "[4]\tvalid_0's rmse: 3475.52\tvalid_0's l2: 1.20792e+07\n",
            "[5]\tvalid_0's rmse: 3284.74\tvalid_0's l2: 1.07895e+07\n",
            "[6]\tvalid_0's rmse: 3116.21\tvalid_0's l2: 9.71076e+06\n",
            "[7]\tvalid_0's rmse: 2970.42\tvalid_0's l2: 8.82341e+06\n",
            "[8]\tvalid_0's rmse: 2840.97\tvalid_0's l2: 8.07111e+06\n",
            "[9]\tvalid_0's rmse: 2730.37\tvalid_0's l2: 7.45492e+06\n",
            "[10]\tvalid_0's rmse: 2630.93\tvalid_0's l2: 6.92178e+06\n",
            "[11]\tvalid_0's rmse: 2544.88\tvalid_0's l2: 6.47643e+06\n",
            "[12]\tvalid_0's rmse: 2470.96\tvalid_0's l2: 6.10566e+06\n",
            "[13]\tvalid_0's rmse: 2403.98\tvalid_0's l2: 5.7791e+06\n",
            "[14]\tvalid_0's rmse: 2346.72\tvalid_0's l2: 5.5071e+06\n",
            "[15]\tvalid_0's rmse: 2294.36\tvalid_0's l2: 5.26407e+06\n",
            "[16]\tvalid_0's rmse: 2251.06\tvalid_0's l2: 5.06725e+06\n",
            "[17]\tvalid_0's rmse: 2210.07\tvalid_0's l2: 4.88443e+06\n",
            "[18]\tvalid_0's rmse: 2173.08\tvalid_0's l2: 4.72227e+06\n",
            "[19]\tvalid_0's rmse: 2138.29\tvalid_0's l2: 4.57229e+06\n",
            "[20]\tvalid_0's rmse: 2108.49\tvalid_0's l2: 4.44575e+06\n",
            "[21]\tvalid_0's rmse: 2081.92\tvalid_0's l2: 4.33438e+06\n",
            "[22]\tvalid_0's rmse: 2057.97\tvalid_0's l2: 4.23525e+06\n",
            "[23]\tvalid_0's rmse: 2034.29\tvalid_0's l2: 4.13832e+06\n",
            "[24]\tvalid_0's rmse: 2014.74\tvalid_0's l2: 4.05916e+06\n",
            "[25]\tvalid_0's rmse: 1997.81\tvalid_0's l2: 3.99126e+06\n",
            "[26]\tvalid_0's rmse: 1982.26\tvalid_0's l2: 3.92936e+06\n",
            "[27]\tvalid_0's rmse: 1966.25\tvalid_0's l2: 3.86614e+06\n",
            "[28]\tvalid_0's rmse: 1953.77\tvalid_0's l2: 3.8172e+06\n",
            "[29]\tvalid_0's rmse: 1938.7\tvalid_0's l2: 3.75854e+06\n",
            "[30]\tvalid_0's rmse: 1927.5\tvalid_0's l2: 3.71524e+06\n",
            "[31]\tvalid_0's rmse: 1918.38\tvalid_0's l2: 3.68018e+06\n",
            "[32]\tvalid_0's rmse: 1908.91\tvalid_0's l2: 3.64393e+06\n",
            "[33]\tvalid_0's rmse: 1901.26\tvalid_0's l2: 3.61478e+06\n",
            "[34]\tvalid_0's rmse: 1893.13\tvalid_0's l2: 3.58393e+06\n",
            "[35]\tvalid_0's rmse: 1885.38\tvalid_0's l2: 3.55467e+06\n",
            "[36]\tvalid_0's rmse: 1877.18\tvalid_0's l2: 3.52381e+06\n",
            "[37]\tvalid_0's rmse: 1870.33\tvalid_0's l2: 3.49814e+06\n",
            "[38]\tvalid_0's rmse: 1864.65\tvalid_0's l2: 3.4769e+06\n",
            "[39]\tvalid_0's rmse: 1858.25\tvalid_0's l2: 3.4531e+06\n",
            "[40]\tvalid_0's rmse: 1852.55\tvalid_0's l2: 3.43194e+06\n",
            "[41]\tvalid_0's rmse: 1846.43\tvalid_0's l2: 3.40931e+06\n",
            "[42]\tvalid_0's rmse: 1842.82\tvalid_0's l2: 3.39599e+06\n",
            "[43]\tvalid_0's rmse: 1837.39\tvalid_0's l2: 3.37601e+06\n",
            "[44]\tvalid_0's rmse: 1832.36\tvalid_0's l2: 3.35753e+06\n",
            "[45]\tvalid_0's rmse: 1828.46\tvalid_0's l2: 3.34325e+06\n",
            "[46]\tvalid_0's rmse: 1824.5\tvalid_0's l2: 3.32879e+06\n",
            "[47]\tvalid_0's rmse: 1820.61\tvalid_0's l2: 3.31462e+06\n",
            "[48]\tvalid_0's rmse: 1817.03\tvalid_0's l2: 3.30159e+06\n",
            "[49]\tvalid_0's rmse: 1813.02\tvalid_0's l2: 3.28703e+06\n",
            "[50]\tvalid_0's rmse: 1810.38\tvalid_0's l2: 3.27746e+06\n",
            "[51]\tvalid_0's rmse: 1808.41\tvalid_0's l2: 3.27033e+06\n",
            "[52]\tvalid_0's rmse: 1805.22\tvalid_0's l2: 3.2588e+06\n",
            "[53]\tvalid_0's rmse: 1803.33\tvalid_0's l2: 3.25199e+06\n",
            "[54]\tvalid_0's rmse: 1801.69\tvalid_0's l2: 3.2461e+06\n",
            "[55]\tvalid_0's rmse: 1799.14\tvalid_0's l2: 3.23692e+06\n",
            "[56]\tvalid_0's rmse: 1796.12\tvalid_0's l2: 3.22606e+06\n",
            "[57]\tvalid_0's rmse: 1793.78\tvalid_0's l2: 3.21765e+06\n",
            "[58]\tvalid_0's rmse: 1790.63\tvalid_0's l2: 3.20634e+06\n",
            "[59]\tvalid_0's rmse: 1788.28\tvalid_0's l2: 3.19793e+06\n",
            "[60]\tvalid_0's rmse: 1786.79\tvalid_0's l2: 3.19262e+06\n",
            "[61]\tvalid_0's rmse: 1784.86\tvalid_0's l2: 3.18574e+06\n",
            "[62]\tvalid_0's rmse: 1782.99\tvalid_0's l2: 3.17905e+06\n",
            "[63]\tvalid_0's rmse: 1781.59\tvalid_0's l2: 3.17406e+06\n",
            "[64]\tvalid_0's rmse: 1780.02\tvalid_0's l2: 3.16847e+06\n",
            "[65]\tvalid_0's rmse: 1778.89\tvalid_0's l2: 3.16445e+06\n",
            "[66]\tvalid_0's rmse: 1776.73\tvalid_0's l2: 3.15678e+06\n",
            "[67]\tvalid_0's rmse: 1775.18\tvalid_0's l2: 3.15126e+06\n",
            "[68]\tvalid_0's rmse: 1773.58\tvalid_0's l2: 3.14558e+06\n",
            "[69]\tvalid_0's rmse: 1771.85\tvalid_0's l2: 3.13945e+06\n",
            "[70]\tvalid_0's rmse: 1770.63\tvalid_0's l2: 3.13513e+06\n",
            "[71]\tvalid_0's rmse: 1770.03\tvalid_0's l2: 3.133e+06\n",
            "[72]\tvalid_0's rmse: 1768.15\tvalid_0's l2: 3.12634e+06\n",
            "[73]\tvalid_0's rmse: 1766.59\tvalid_0's l2: 3.12083e+06\n",
            "[74]\tvalid_0's rmse: 1765.53\tvalid_0's l2: 3.11711e+06\n",
            "[75]\tvalid_0's rmse: 1764.77\tvalid_0's l2: 3.11442e+06\n",
            "[76]\tvalid_0's rmse: 1763.2\tvalid_0's l2: 3.10888e+06\n",
            "[77]\tvalid_0's rmse: 1762.43\tvalid_0's l2: 3.10616e+06\n",
            "[78]\tvalid_0's rmse: 1761.42\tvalid_0's l2: 3.10259e+06\n",
            "[79]\tvalid_0's rmse: 1760.24\tvalid_0's l2: 3.09845e+06\n",
            "[80]\tvalid_0's rmse: 1759.26\tvalid_0's l2: 3.095e+06\n",
            "[81]\tvalid_0's rmse: 1758.63\tvalid_0's l2: 3.09276e+06\n",
            "[82]\tvalid_0's rmse: 1756.89\tvalid_0's l2: 3.08667e+06\n",
            "[83]\tvalid_0's rmse: 1755.9\tvalid_0's l2: 3.08319e+06\n",
            "[84]\tvalid_0's rmse: 1754.63\tvalid_0's l2: 3.07873e+06\n",
            "[85]\tvalid_0's rmse: 1752.74\tvalid_0's l2: 3.07209e+06\n",
            "[86]\tvalid_0's rmse: 1751.86\tvalid_0's l2: 3.06901e+06\n",
            "[87]\tvalid_0's rmse: 1750.73\tvalid_0's l2: 3.06505e+06\n",
            "[88]\tvalid_0's rmse: 1750.03\tvalid_0's l2: 3.06261e+06\n",
            "[89]\tvalid_0's rmse: 1748.72\tvalid_0's l2: 3.05803e+06\n",
            "[90]\tvalid_0's rmse: 1748.24\tvalid_0's l2: 3.05636e+06\n",
            "[91]\tvalid_0's rmse: 1746.96\tvalid_0's l2: 3.05188e+06\n",
            "[92]\tvalid_0's rmse: 1745.51\tvalid_0's l2: 3.0468e+06\n",
            "[93]\tvalid_0's rmse: 1744.31\tvalid_0's l2: 3.04262e+06\n",
            "[94]\tvalid_0's rmse: 1743.72\tvalid_0's l2: 3.04056e+06\n",
            "[95]\tvalid_0's rmse: 1743.06\tvalid_0's l2: 3.03827e+06\n",
            "[96]\tvalid_0's rmse: 1741.9\tvalid_0's l2: 3.03422e+06\n",
            "[97]\tvalid_0's rmse: 1741.02\tvalid_0's l2: 3.03115e+06\n",
            "[98]\tvalid_0's rmse: 1739.67\tvalid_0's l2: 3.02647e+06\n",
            "[99]\tvalid_0's rmse: 1737.94\tvalid_0's l2: 3.02044e+06\n",
            "[100]\tvalid_0's rmse: 1737.34\tvalid_0's l2: 3.01836e+06\n",
            "[1]\tvalid_0's rmse: 4216.37\tvalid_0's l2: 1.77778e+07\n",
            "[2]\tvalid_0's rmse: 3918.67\tvalid_0's l2: 1.5356e+07\n",
            "[3]\tvalid_0's rmse: 3659.52\tvalid_0's l2: 1.33921e+07\n",
            "[4]\tvalid_0's rmse: 3434.37\tvalid_0's l2: 1.17949e+07\n",
            "[5]\tvalid_0's rmse: 3235.92\tvalid_0's l2: 1.04712e+07\n",
            "[6]\tvalid_0's rmse: 3064.36\tvalid_0's l2: 9.39029e+06\n",
            "[7]\tvalid_0's rmse: 2913.99\tvalid_0's l2: 8.49134e+06\n",
            "[8]\tvalid_0's rmse: 2781.02\tvalid_0's l2: 7.73409e+06\n",
            "[9]\tvalid_0's rmse: 2665.07\tvalid_0's l2: 7.10262e+06\n",
            "[10]\tvalid_0's rmse: 2565.41\tvalid_0's l2: 6.58134e+06\n",
            "[11]\tvalid_0's rmse: 2475.52\tvalid_0's l2: 6.12819e+06\n",
            "[12]\tvalid_0's rmse: 2396.8\tvalid_0's l2: 5.74465e+06\n",
            "[13]\tvalid_0's rmse: 2329.42\tvalid_0's l2: 5.42618e+06\n",
            "[14]\tvalid_0's rmse: 2269.58\tvalid_0's l2: 5.151e+06\n",
            "[15]\tvalid_0's rmse: 2217.58\tvalid_0's l2: 4.91766e+06\n",
            "[16]\tvalid_0's rmse: 2172.95\tvalid_0's l2: 4.72172e+06\n",
            "[17]\tvalid_0's rmse: 2132.25\tvalid_0's l2: 4.54649e+06\n",
            "[18]\tvalid_0's rmse: 2098.67\tvalid_0's l2: 4.4044e+06\n",
            "[19]\tvalid_0's rmse: 2066.74\tvalid_0's l2: 4.27142e+06\n",
            "[20]\tvalid_0's rmse: 2038.46\tvalid_0's l2: 4.1553e+06\n",
            "[21]\tvalid_0's rmse: 2011.42\tvalid_0's l2: 4.04581e+06\n",
            "[22]\tvalid_0's rmse: 1988.22\tvalid_0's l2: 3.953e+06\n",
            "[23]\tvalid_0's rmse: 1968.39\tvalid_0's l2: 3.87458e+06\n",
            "[24]\tvalid_0's rmse: 1949.98\tvalid_0's l2: 3.80241e+06\n",
            "[25]\tvalid_0's rmse: 1933.44\tvalid_0's l2: 3.73819e+06\n",
            "[26]\tvalid_0's rmse: 1918.91\tvalid_0's l2: 3.68221e+06\n",
            "[27]\tvalid_0's rmse: 1905.63\tvalid_0's l2: 3.63141e+06\n",
            "[28]\tvalid_0's rmse: 1894.44\tvalid_0's l2: 3.5889e+06\n",
            "[29]\tvalid_0's rmse: 1883.68\tvalid_0's l2: 3.54827e+06\n",
            "[30]\tvalid_0's rmse: 1871.87\tvalid_0's l2: 3.50391e+06\n",
            "[31]\tvalid_0's rmse: 1862.27\tvalid_0's l2: 3.46805e+06\n",
            "[32]\tvalid_0's rmse: 1853.07\tvalid_0's l2: 3.43388e+06\n",
            "[33]\tvalid_0's rmse: 1846.82\tvalid_0's l2: 3.41073e+06\n",
            "[34]\tvalid_0's rmse: 1839.56\tvalid_0's l2: 3.38398e+06\n",
            "[35]\tvalid_0's rmse: 1832.08\tvalid_0's l2: 3.3565e+06\n",
            "[36]\tvalid_0's rmse: 1826.57\tvalid_0's l2: 3.33637e+06\n",
            "[37]\tvalid_0's rmse: 1821.11\tvalid_0's l2: 3.31645e+06\n",
            "[38]\tvalid_0's rmse: 1815.81\tvalid_0's l2: 3.29717e+06\n",
            "[39]\tvalid_0's rmse: 1810.34\tvalid_0's l2: 3.27734e+06\n",
            "[40]\tvalid_0's rmse: 1806.04\tvalid_0's l2: 3.26179e+06\n",
            "[41]\tvalid_0's rmse: 1800.85\tvalid_0's l2: 3.24307e+06\n",
            "[42]\tvalid_0's rmse: 1797.13\tvalid_0's l2: 3.22968e+06\n",
            "[43]\tvalid_0's rmse: 1794.15\tvalid_0's l2: 3.21898e+06\n",
            "[44]\tvalid_0's rmse: 1788.73\tvalid_0's l2: 3.19956e+06\n",
            "[45]\tvalid_0's rmse: 1786.37\tvalid_0's l2: 3.19111e+06\n",
            "[46]\tvalid_0's rmse: 1783.53\tvalid_0's l2: 3.18096e+06\n",
            "[47]\tvalid_0's rmse: 1780.09\tvalid_0's l2: 3.16874e+06\n",
            "[48]\tvalid_0's rmse: 1776.87\tvalid_0's l2: 3.15725e+06\n",
            "[49]\tvalid_0's rmse: 1772.78\tvalid_0's l2: 3.14274e+06\n",
            "[50]\tvalid_0's rmse: 1771.28\tvalid_0's l2: 3.13742e+06\n",
            "[51]\tvalid_0's rmse: 1768.78\tvalid_0's l2: 3.1286e+06\n",
            "[52]\tvalid_0's rmse: 1766.97\tvalid_0's l2: 3.12219e+06\n",
            "[53]\tvalid_0's rmse: 1763.51\tvalid_0's l2: 3.10996e+06\n",
            "[54]\tvalid_0's rmse: 1762.25\tvalid_0's l2: 3.10552e+06\n",
            "[55]\tvalid_0's rmse: 1759.77\tvalid_0's l2: 3.09679e+06\n",
            "[56]\tvalid_0's rmse: 1757.17\tvalid_0's l2: 3.08763e+06\n",
            "[57]\tvalid_0's rmse: 1756.27\tvalid_0's l2: 3.08447e+06\n",
            "[58]\tvalid_0's rmse: 1754.81\tvalid_0's l2: 3.07936e+06\n",
            "[59]\tvalid_0's rmse: 1752.78\tvalid_0's l2: 3.07225e+06\n",
            "[60]\tvalid_0's rmse: 1750.41\tvalid_0's l2: 3.06393e+06\n",
            "[61]\tvalid_0's rmse: 1748.57\tvalid_0's l2: 3.05751e+06\n",
            "[62]\tvalid_0's rmse: 1746.59\tvalid_0's l2: 3.05056e+06\n",
            "[63]\tvalid_0's rmse: 1745.86\tvalid_0's l2: 3.04803e+06\n",
            "[64]\tvalid_0's rmse: 1744.75\tvalid_0's l2: 3.04415e+06\n",
            "[65]\tvalid_0's rmse: 1743.87\tvalid_0's l2: 3.04107e+06\n",
            "[66]\tvalid_0's rmse: 1741.92\tvalid_0's l2: 3.03429e+06\n",
            "[67]\tvalid_0's rmse: 1741.03\tvalid_0's l2: 3.03118e+06\n",
            "[68]\tvalid_0's rmse: 1740.05\tvalid_0's l2: 3.02777e+06\n",
            "[69]\tvalid_0's rmse: 1738.6\tvalid_0's l2: 3.02271e+06\n",
            "[70]\tvalid_0's rmse: 1738.06\tvalid_0's l2: 3.02084e+06\n",
            "[71]\tvalid_0's rmse: 1736.43\tvalid_0's l2: 3.01518e+06\n",
            "[72]\tvalid_0's rmse: 1735.78\tvalid_0's l2: 3.01294e+06\n",
            "[73]\tvalid_0's rmse: 1735.03\tvalid_0's l2: 3.01031e+06\n",
            "[74]\tvalid_0's rmse: 1733.95\tvalid_0's l2: 3.00657e+06\n",
            "[75]\tvalid_0's rmse: 1733.32\tvalid_0's l2: 3.00441e+06\n",
            "[76]\tvalid_0's rmse: 1731.24\tvalid_0's l2: 2.99719e+06\n",
            "[77]\tvalid_0's rmse: 1730.48\tvalid_0's l2: 2.99458e+06\n",
            "[78]\tvalid_0's rmse: 1729.79\tvalid_0's l2: 2.99216e+06\n",
            "[79]\tvalid_0's rmse: 1728.41\tvalid_0's l2: 2.98739e+06\n",
            "[80]\tvalid_0's rmse: 1726.71\tvalid_0's l2: 2.98152e+06\n",
            "[81]\tvalid_0's rmse: 1725.58\tvalid_0's l2: 2.97764e+06\n",
            "[82]\tvalid_0's rmse: 1724.48\tvalid_0's l2: 2.97382e+06\n",
            "[83]\tvalid_0's rmse: 1723.94\tvalid_0's l2: 2.97197e+06\n",
            "[84]\tvalid_0's rmse: 1723.38\tvalid_0's l2: 2.97005e+06\n",
            "[85]\tvalid_0's rmse: 1722.22\tvalid_0's l2: 2.96605e+06\n",
            "[86]\tvalid_0's rmse: 1721.03\tvalid_0's l2: 2.96194e+06\n",
            "[87]\tvalid_0's rmse: 1719.75\tvalid_0's l2: 2.95753e+06\n",
            "[88]\tvalid_0's rmse: 1719.09\tvalid_0's l2: 2.95526e+06\n",
            "[89]\tvalid_0's rmse: 1718.54\tvalid_0's l2: 2.95338e+06\n",
            "[90]\tvalid_0's rmse: 1717.89\tvalid_0's l2: 2.95114e+06\n",
            "[91]\tvalid_0's rmse: 1717.38\tvalid_0's l2: 2.94939e+06\n",
            "[92]\tvalid_0's rmse: 1716.98\tvalid_0's l2: 2.94802e+06\n",
            "[93]\tvalid_0's rmse: 1716.23\tvalid_0's l2: 2.94546e+06\n",
            "[94]\tvalid_0's rmse: 1715.86\tvalid_0's l2: 2.94417e+06\n",
            "[95]\tvalid_0's rmse: 1715.55\tvalid_0's l2: 2.94311e+06\n",
            "[96]\tvalid_0's rmse: 1714.16\tvalid_0's l2: 2.93835e+06\n",
            "[97]\tvalid_0's rmse: 1713.61\tvalid_0's l2: 2.93646e+06\n",
            "[98]\tvalid_0's rmse: 1713.1\tvalid_0's l2: 2.93471e+06\n",
            "[99]\tvalid_0's rmse: 1712.14\tvalid_0's l2: 2.93141e+06\n",
            "[100]\tvalid_0's rmse: 1711.61\tvalid_0's l2: 2.9296e+06\n",
            "[1]\tvalid_0's rmse: 4219.66\tvalid_0's l2: 1.78055e+07\n",
            "[2]\tvalid_0's rmse: 3923.48\tvalid_0's l2: 1.53937e+07\n",
            "[3]\tvalid_0's rmse: 3667.57\tvalid_0's l2: 1.3451e+07\n",
            "[4]\tvalid_0's rmse: 3442.23\tvalid_0's l2: 1.18489e+07\n",
            "[5]\tvalid_0's rmse: 3246.02\tvalid_0's l2: 1.05366e+07\n",
            "[6]\tvalid_0's rmse: 3073.2\tvalid_0's l2: 9.44454e+06\n",
            "[7]\tvalid_0's rmse: 2921.2\tvalid_0's l2: 8.53339e+06\n",
            "[8]\tvalid_0's rmse: 2788.58\tvalid_0's l2: 7.77616e+06\n",
            "[9]\tvalid_0's rmse: 2673.47\tvalid_0's l2: 7.14745e+06\n",
            "[10]\tvalid_0's rmse: 2573.81\tvalid_0's l2: 6.62448e+06\n",
            "[11]\tvalid_0's rmse: 2485.83\tvalid_0's l2: 6.17937e+06\n",
            "[12]\tvalid_0's rmse: 2408.57\tvalid_0's l2: 5.80122e+06\n",
            "[13]\tvalid_0's rmse: 2342.31\tvalid_0's l2: 5.4864e+06\n",
            "[14]\tvalid_0's rmse: 2282.42\tvalid_0's l2: 5.20942e+06\n",
            "[15]\tvalid_0's rmse: 2229.29\tvalid_0's l2: 4.96975e+06\n",
            "[16]\tvalid_0's rmse: 2183.17\tvalid_0's l2: 4.76625e+06\n",
            "[17]\tvalid_0's rmse: 2140.94\tvalid_0's l2: 4.58364e+06\n",
            "[18]\tvalid_0's rmse: 2106.34\tvalid_0's l2: 4.43665e+06\n",
            "[19]\tvalid_0's rmse: 2073.47\tvalid_0's l2: 4.29928e+06\n",
            "[20]\tvalid_0's rmse: 2044.92\tvalid_0's l2: 4.18168e+06\n",
            "[21]\tvalid_0's rmse: 2019.26\tvalid_0's l2: 4.0774e+06\n",
            "[22]\tvalid_0's rmse: 1997.01\tvalid_0's l2: 3.98807e+06\n",
            "[23]\tvalid_0's rmse: 1977.28\tvalid_0's l2: 3.90962e+06\n",
            "[24]\tvalid_0's rmse: 1957.04\tvalid_0's l2: 3.83e+06\n",
            "[25]\tvalid_0's rmse: 1938.49\tvalid_0's l2: 3.75774e+06\n",
            "[26]\tvalid_0's rmse: 1922.52\tvalid_0's l2: 3.69609e+06\n",
            "[27]\tvalid_0's rmse: 1909.73\tvalid_0's l2: 3.64706e+06\n",
            "[28]\tvalid_0's rmse: 1895.52\tvalid_0's l2: 3.593e+06\n",
            "[29]\tvalid_0's rmse: 1884.28\tvalid_0's l2: 3.55052e+06\n",
            "[30]\tvalid_0's rmse: 1873.44\tvalid_0's l2: 3.50979e+06\n",
            "[31]\tvalid_0's rmse: 1864.11\tvalid_0's l2: 3.4749e+06\n",
            "[32]\tvalid_0's rmse: 1855.5\tvalid_0's l2: 3.44288e+06\n",
            "[33]\tvalid_0's rmse: 1848.05\tvalid_0's l2: 3.41529e+06\n",
            "[34]\tvalid_0's rmse: 1839.42\tvalid_0's l2: 3.38345e+06\n",
            "[35]\tvalid_0's rmse: 1833.4\tvalid_0's l2: 3.36136e+06\n",
            "[36]\tvalid_0's rmse: 1826.23\tvalid_0's l2: 3.33511e+06\n",
            "[37]\tvalid_0's rmse: 1820.52\tvalid_0's l2: 3.31428e+06\n",
            "[38]\tvalid_0's rmse: 1815.2\tvalid_0's l2: 3.29494e+06\n",
            "[39]\tvalid_0's rmse: 1809.34\tvalid_0's l2: 3.27372e+06\n",
            "[40]\tvalid_0's rmse: 1805.42\tvalid_0's l2: 3.25953e+06\n",
            "[41]\tvalid_0's rmse: 1800.92\tvalid_0's l2: 3.24332e+06\n",
            "[42]\tvalid_0's rmse: 1797.14\tvalid_0's l2: 3.22972e+06\n",
            "[43]\tvalid_0's rmse: 1794\tvalid_0's l2: 3.21843e+06\n",
            "[44]\tvalid_0's rmse: 1788.88\tvalid_0's l2: 3.20009e+06\n",
            "[45]\tvalid_0's rmse: 1786.14\tvalid_0's l2: 3.19029e+06\n",
            "[46]\tvalid_0's rmse: 1782.84\tvalid_0's l2: 3.17852e+06\n",
            "[47]\tvalid_0's rmse: 1779.71\tvalid_0's l2: 3.16735e+06\n",
            "[48]\tvalid_0's rmse: 1776.6\tvalid_0's l2: 3.15631e+06\n",
            "[49]\tvalid_0's rmse: 1774.83\tvalid_0's l2: 3.15004e+06\n",
            "[50]\tvalid_0's rmse: 1770.97\tvalid_0's l2: 3.13635e+06\n",
            "[51]\tvalid_0's rmse: 1767.98\tvalid_0's l2: 3.12577e+06\n",
            "[52]\tvalid_0's rmse: 1766.25\tvalid_0's l2: 3.11963e+06\n",
            "[53]\tvalid_0's rmse: 1764\tvalid_0's l2: 3.11168e+06\n",
            "[54]\tvalid_0's rmse: 1762.37\tvalid_0's l2: 3.10595e+06\n",
            "[55]\tvalid_0's rmse: 1759.44\tvalid_0's l2: 3.09562e+06\n",
            "[56]\tvalid_0's rmse: 1758.54\tvalid_0's l2: 3.09245e+06\n",
            "[57]\tvalid_0's rmse: 1756.71\tvalid_0's l2: 3.08602e+06\n",
            "[58]\tvalid_0's rmse: 1754.53\tvalid_0's l2: 3.07839e+06\n",
            "[59]\tvalid_0's rmse: 1753.41\tvalid_0's l2: 3.07444e+06\n",
            "[60]\tvalid_0's rmse: 1750.72\tvalid_0's l2: 3.06502e+06\n",
            "[61]\tvalid_0's rmse: 1748.41\tvalid_0's l2: 3.05694e+06\n",
            "[62]\tvalid_0's rmse: 1746.21\tvalid_0's l2: 3.04923e+06\n",
            "[63]\tvalid_0's rmse: 1745.01\tvalid_0's l2: 3.04507e+06\n",
            "[64]\tvalid_0's rmse: 1744\tvalid_0's l2: 3.04153e+06\n",
            "[65]\tvalid_0's rmse: 1743.1\tvalid_0's l2: 3.03839e+06\n",
            "[66]\tvalid_0's rmse: 1741.51\tvalid_0's l2: 3.03284e+06\n",
            "[67]\tvalid_0's rmse: 1740.01\tvalid_0's l2: 3.02763e+06\n",
            "[68]\tvalid_0's rmse: 1738.46\tvalid_0's l2: 3.02224e+06\n",
            "[69]\tvalid_0's rmse: 1737.5\tvalid_0's l2: 3.01892e+06\n",
            "[70]\tvalid_0's rmse: 1736.68\tvalid_0's l2: 3.01605e+06\n",
            "[71]\tvalid_0's rmse: 1735.71\tvalid_0's l2: 3.01269e+06\n",
            "[72]\tvalid_0's rmse: 1734.96\tvalid_0's l2: 3.0101e+06\n",
            "[73]\tvalid_0's rmse: 1733.96\tvalid_0's l2: 3.00662e+06\n",
            "[74]\tvalid_0's rmse: 1733.24\tvalid_0's l2: 3.00414e+06\n",
            "[75]\tvalid_0's rmse: 1731.17\tvalid_0's l2: 2.99695e+06\n",
            "[76]\tvalid_0's rmse: 1730.3\tvalid_0's l2: 2.99392e+06\n",
            "[77]\tvalid_0's rmse: 1728.91\tvalid_0's l2: 2.98913e+06\n",
            "[78]\tvalid_0's rmse: 1728.24\tvalid_0's l2: 2.98681e+06\n",
            "[79]\tvalid_0's rmse: 1727.44\tvalid_0's l2: 2.98406e+06\n",
            "[80]\tvalid_0's rmse: 1726.92\tvalid_0's l2: 2.98225e+06\n",
            "[81]\tvalid_0's rmse: 1726.13\tvalid_0's l2: 2.97954e+06\n",
            "[82]\tvalid_0's rmse: 1725.24\tvalid_0's l2: 2.97646e+06\n",
            "[83]\tvalid_0's rmse: 1724.27\tvalid_0's l2: 2.97311e+06\n",
            "[84]\tvalid_0's rmse: 1722.93\tvalid_0's l2: 2.96849e+06\n",
            "[85]\tvalid_0's rmse: 1721.94\tvalid_0's l2: 2.96507e+06\n",
            "[86]\tvalid_0's rmse: 1720.72\tvalid_0's l2: 2.96088e+06\n",
            "[87]\tvalid_0's rmse: 1720.13\tvalid_0's l2: 2.95886e+06\n",
            "[88]\tvalid_0's rmse: 1719.26\tvalid_0's l2: 2.95585e+06\n",
            "[89]\tvalid_0's rmse: 1718.61\tvalid_0's l2: 2.95364e+06\n",
            "[90]\tvalid_0's rmse: 1717.17\tvalid_0's l2: 2.94866e+06\n",
            "[91]\tvalid_0's rmse: 1716.16\tvalid_0's l2: 2.94521e+06\n",
            "[92]\tvalid_0's rmse: 1715.72\tvalid_0's l2: 2.9437e+06\n",
            "[93]\tvalid_0's rmse: 1715.3\tvalid_0's l2: 2.94227e+06\n",
            "[94]\tvalid_0's rmse: 1714.69\tvalid_0's l2: 2.94018e+06\n",
            "[95]\tvalid_0's rmse: 1713.51\tvalid_0's l2: 2.9361e+06\n",
            "[96]\tvalid_0's rmse: 1712.52\tvalid_0's l2: 2.93273e+06\n",
            "[97]\tvalid_0's rmse: 1712.13\tvalid_0's l2: 2.93139e+06\n",
            "[98]\tvalid_0's rmse: 1711.57\tvalid_0's l2: 2.92948e+06\n",
            "[99]\tvalid_0's rmse: 1711.03\tvalid_0's l2: 2.92762e+06\n",
            "[100]\tvalid_0's rmse: 1710.29\tvalid_0's l2: 2.9251e+06\n",
            "[1]\tvalid_0's rmse: 4216.29\tvalid_0's l2: 1.77771e+07\n",
            "[2]\tvalid_0's rmse: 3919.3\tvalid_0's l2: 1.53609e+07\n",
            "[3]\tvalid_0's rmse: 3660.97\tvalid_0's l2: 1.34027e+07\n",
            "[4]\tvalid_0's rmse: 3433.88\tvalid_0's l2: 1.17915e+07\n",
            "[5]\tvalid_0's rmse: 3235.84\tvalid_0's l2: 1.04707e+07\n",
            "[6]\tvalid_0's rmse: 3066.16\tvalid_0's l2: 9.40134e+06\n",
            "[7]\tvalid_0's rmse: 2913.46\tvalid_0's l2: 8.48824e+06\n",
            "[8]\tvalid_0's rmse: 2781.14\tvalid_0's l2: 7.73476e+06\n",
            "[9]\tvalid_0's rmse: 2665.77\tvalid_0's l2: 7.10631e+06\n",
            "[10]\tvalid_0's rmse: 2564.88\tvalid_0's l2: 6.57863e+06\n",
            "[11]\tvalid_0's rmse: 2477.62\tvalid_0's l2: 6.13859e+06\n",
            "[12]\tvalid_0's rmse: 2401.43\tvalid_0's l2: 5.76684e+06\n",
            "[13]\tvalid_0's rmse: 2330.18\tvalid_0's l2: 5.42974e+06\n",
            "[14]\tvalid_0's rmse: 2269.88\tvalid_0's l2: 5.15235e+06\n",
            "[15]\tvalid_0's rmse: 2217.74\tvalid_0's l2: 4.91837e+06\n",
            "[16]\tvalid_0's rmse: 2173.31\tvalid_0's l2: 4.72327e+06\n",
            "[17]\tvalid_0's rmse: 2134.46\tvalid_0's l2: 4.55591e+06\n",
            "[18]\tvalid_0's rmse: 2097.69\tvalid_0's l2: 4.40031e+06\n",
            "[19]\tvalid_0's rmse: 2064.82\tvalid_0's l2: 4.26349e+06\n",
            "[20]\tvalid_0's rmse: 2037.58\tvalid_0's l2: 4.15174e+06\n",
            "[21]\tvalid_0's rmse: 2010.42\tvalid_0's l2: 4.04179e+06\n",
            "[22]\tvalid_0's rmse: 1988.47\tvalid_0's l2: 3.95401e+06\n",
            "[23]\tvalid_0's rmse: 1967.82\tvalid_0's l2: 3.87232e+06\n",
            "[24]\tvalid_0's rmse: 1949.08\tvalid_0's l2: 3.79892e+06\n",
            "[25]\tvalid_0's rmse: 1932.54\tvalid_0's l2: 3.7347e+06\n",
            "[26]\tvalid_0's rmse: 1917.18\tvalid_0's l2: 3.6756e+06\n",
            "[27]\tvalid_0's rmse: 1902.27\tvalid_0's l2: 3.61865e+06\n",
            "[28]\tvalid_0's rmse: 1888.03\tvalid_0's l2: 3.56466e+06\n",
            "[29]\tvalid_0's rmse: 1877.76\tvalid_0's l2: 3.52598e+06\n",
            "[30]\tvalid_0's rmse: 1866.72\tvalid_0's l2: 3.48464e+06\n",
            "[31]\tvalid_0's rmse: 1856.68\tvalid_0's l2: 3.44726e+06\n",
            "[32]\tvalid_0's rmse: 1849.06\tvalid_0's l2: 3.41903e+06\n",
            "[33]\tvalid_0's rmse: 1842.01\tvalid_0's l2: 3.393e+06\n",
            "[34]\tvalid_0's rmse: 1835.38\tvalid_0's l2: 3.36861e+06\n",
            "[35]\tvalid_0's rmse: 1829.2\tvalid_0's l2: 3.34597e+06\n",
            "[36]\tvalid_0's rmse: 1822.72\tvalid_0's l2: 3.32232e+06\n",
            "[37]\tvalid_0's rmse: 1816.26\tvalid_0's l2: 3.29881e+06\n",
            "[38]\tvalid_0's rmse: 1810.72\tvalid_0's l2: 3.2787e+06\n",
            "[39]\tvalid_0's rmse: 1805.08\tvalid_0's l2: 3.25831e+06\n",
            "[40]\tvalid_0's rmse: 1799.93\tvalid_0's l2: 3.23976e+06\n",
            "[41]\tvalid_0's rmse: 1795.43\tvalid_0's l2: 3.22357e+06\n",
            "[42]\tvalid_0's rmse: 1789.55\tvalid_0's l2: 3.20248e+06\n",
            "[43]\tvalid_0's rmse: 1785\tvalid_0's l2: 3.18621e+06\n",
            "[44]\tvalid_0's rmse: 1781.34\tvalid_0's l2: 3.17318e+06\n",
            "[45]\tvalid_0's rmse: 1776.48\tvalid_0's l2: 3.1559e+06\n",
            "[46]\tvalid_0's rmse: 1772.02\tvalid_0's l2: 3.14005e+06\n",
            "[47]\tvalid_0's rmse: 1769.9\tvalid_0's l2: 3.13255e+06\n",
            "[48]\tvalid_0's rmse: 1766.2\tvalid_0's l2: 3.11947e+06\n",
            "[49]\tvalid_0's rmse: 1763.54\tvalid_0's l2: 3.11007e+06\n",
            "[50]\tvalid_0's rmse: 1760.79\tvalid_0's l2: 3.10039e+06\n",
            "[51]\tvalid_0's rmse: 1759.19\tvalid_0's l2: 3.09475e+06\n",
            "[52]\tvalid_0's rmse: 1756.91\tvalid_0's l2: 3.08673e+06\n",
            "[53]\tvalid_0's rmse: 1755.15\tvalid_0's l2: 3.08054e+06\n",
            "[54]\tvalid_0's rmse: 1752.46\tvalid_0's l2: 3.07111e+06\n",
            "[55]\tvalid_0's rmse: 1749.89\tvalid_0's l2: 3.0621e+06\n",
            "[56]\tvalid_0's rmse: 1748.38\tvalid_0's l2: 3.05685e+06\n",
            "[57]\tvalid_0's rmse: 1745.6\tvalid_0's l2: 3.04711e+06\n",
            "[58]\tvalid_0's rmse: 1742.44\tvalid_0's l2: 3.03611e+06\n",
            "[59]\tvalid_0's rmse: 1741.01\tvalid_0's l2: 3.03111e+06\n",
            "[60]\tvalid_0's rmse: 1738.15\tvalid_0's l2: 3.02116e+06\n",
            "[61]\tvalid_0's rmse: 1736.76\tvalid_0's l2: 3.01632e+06\n",
            "[62]\tvalid_0's rmse: 1735.25\tvalid_0's l2: 3.01108e+06\n",
            "[63]\tvalid_0's rmse: 1732.19\tvalid_0's l2: 3.00048e+06\n",
            "[64]\tvalid_0's rmse: 1729.95\tvalid_0's l2: 2.99273e+06\n",
            "[65]\tvalid_0's rmse: 1729.1\tvalid_0's l2: 2.98979e+06\n",
            "[66]\tvalid_0's rmse: 1727.73\tvalid_0's l2: 2.98506e+06\n",
            "[67]\tvalid_0's rmse: 1725.88\tvalid_0's l2: 2.97868e+06\n",
            "[68]\tvalid_0's rmse: 1724.58\tvalid_0's l2: 2.97417e+06\n",
            "[69]\tvalid_0's rmse: 1723.77\tvalid_0's l2: 2.97137e+06\n",
            "[70]\tvalid_0's rmse: 1723.03\tvalid_0's l2: 2.96883e+06\n",
            "[71]\tvalid_0's rmse: 1722.04\tvalid_0's l2: 2.96542e+06\n",
            "[72]\tvalid_0's rmse: 1721.17\tvalid_0's l2: 2.96244e+06\n",
            "[73]\tvalid_0's rmse: 1719.68\tvalid_0's l2: 2.9573e+06\n",
            "[74]\tvalid_0's rmse: 1718.79\tvalid_0's l2: 2.95424e+06\n",
            "[75]\tvalid_0's rmse: 1717.73\tvalid_0's l2: 2.95058e+06\n",
            "[76]\tvalid_0's rmse: 1716.17\tvalid_0's l2: 2.94524e+06\n",
            "[77]\tvalid_0's rmse: 1714.34\tvalid_0's l2: 2.93895e+06\n",
            "[78]\tvalid_0's rmse: 1712.48\tvalid_0's l2: 2.93257e+06\n",
            "[79]\tvalid_0's rmse: 1711.5\tvalid_0's l2: 2.92922e+06\n",
            "[80]\tvalid_0's rmse: 1710.73\tvalid_0's l2: 2.9266e+06\n",
            "[81]\tvalid_0's rmse: 1710.12\tvalid_0's l2: 2.92452e+06\n",
            "[82]\tvalid_0's rmse: 1709.27\tvalid_0's l2: 2.9216e+06\n",
            "[83]\tvalid_0's rmse: 1708.11\tvalid_0's l2: 2.91763e+06\n",
            "[84]\tvalid_0's rmse: 1707.12\tvalid_0's l2: 2.91425e+06\n",
            "[85]\tvalid_0's rmse: 1706.16\tvalid_0's l2: 2.91097e+06\n",
            "[86]\tvalid_0's rmse: 1705.28\tvalid_0's l2: 2.908e+06\n",
            "[87]\tvalid_0's rmse: 1703.28\tvalid_0's l2: 2.90117e+06\n",
            "[88]\tvalid_0's rmse: 1702.04\tvalid_0's l2: 2.89693e+06\n",
            "[89]\tvalid_0's rmse: 1700.72\tvalid_0's l2: 2.89243e+06\n",
            "[90]\tvalid_0's rmse: 1700.22\tvalid_0's l2: 2.89076e+06\n",
            "[91]\tvalid_0's rmse: 1699.01\tvalid_0's l2: 2.88664e+06\n",
            "[92]\tvalid_0's rmse: 1697.66\tvalid_0's l2: 2.88205e+06\n",
            "[93]\tvalid_0's rmse: 1696.62\tvalid_0's l2: 2.87853e+06\n",
            "[94]\tvalid_0's rmse: 1696.11\tvalid_0's l2: 2.87678e+06\n",
            "[95]\tvalid_0's rmse: 1695.59\tvalid_0's l2: 2.87502e+06\n",
            "[96]\tvalid_0's rmse: 1695.03\tvalid_0's l2: 2.87313e+06\n",
            "[97]\tvalid_0's rmse: 1693.89\tvalid_0's l2: 2.86925e+06\n",
            "[98]\tvalid_0's rmse: 1693.23\tvalid_0's l2: 2.86701e+06\n",
            "[99]\tvalid_0's rmse: 1692.61\tvalid_0's l2: 2.86494e+06\n",
            "[100]\tvalid_0's rmse: 1692.17\tvalid_0's l2: 2.86345e+06\n"
          ]
        },
        {
          "data": {
            "text/plain": [
              "GridSearchCV(cv=2, error_score='raise-deprecating',\n",
              "             estimator=LGBMRegressor(boosting_type='gbdt', class_weight=None,\n",
              "                                     colsample_bytree=1.0,\n",
              "                                     importance_type='split', learning_rate=0.1,\n",
              "                                     max_depth=-1, min_child_samples=20,\n",
              "                                     min_child_weight=0.001, min_split_gain=0.0,\n",
              "                                     n_estimators=100, n_jobs=-1, num_leaves=31,\n",
              "                                     objective=None, random_state=23,\n",
              "                                     reg_alpha=0.0, reg_lambda=0.0, silent=True,\n",
              "                                     subsample=1.0, subsample_for_bin=200000,\n",
              "                                     subsample_freq=0),\n",
              "             iid='warn', n_jobs=-1,\n",
              "             param_grid={'max_depth': [5, 10], 'min_data_in_leaf': [15, 20, 25],\n",
              "                         'num_leaves': [30, 50]},\n",
              "             pre_dispatch='2*n_jobs', refit=True, return_train_score=False,\n",
              "             scoring=None, verbose=0)"
            ]
          },
          "execution_count": 46,
          "metadata": {},
          "output_type": "execute_result"
        }
      ],
      "source": [
        "parameters = {'num_leaves': [30, 50],\n",
        "              'min_data_in_leaf': [15, 20, 25],\n",
        "              'max_depth': [5, 10]}\n",
        "LGBM = LGBMRegressor(random_state=23)\n",
        "\n",
        "Grid_LGBM = GridSearchCV(estimator=LGBM, param_grid = parameters, cv = 2, n_jobs=-1)\n",
        "Grid_LGBM.fit(X_train_ohe, y_train, eval_set=[(X_test_ohe, y_test),], eval_metric=[\"rmse\"])"
      ]
    },
    {
      "cell_type": "code",
      "execution_count": null,
      "metadata": {
        "id": "Io10DqQZzLRT",
        "outputId": "d44abb26-22ba-4aa4-eb28-a98fd95894b5"
      },
      "outputs": [
        {
          "data": {
            "text/plain": [
              "{'max_depth': 10, 'min_data_in_leaf': 15, 'num_leaves': 50}"
            ]
          },
          "execution_count": 47,
          "metadata": {},
          "output_type": "execute_result"
        }
      ],
      "source": [
        "Grid_LGBM.best_params_"
      ]
    },
    {
      "cell_type": "markdown",
      "metadata": {
        "id": "61VcbEm0zLRT"
      },
      "source": [
        "Подставим полученные значения в модель и рассчитаем итоговые показатели среднеквадратической ошибки и скорости обучения."
      ]
    },
    {
      "cell_type": "code",
      "execution_count": null,
      "metadata": {
        "id": "A2By9beuzLRT",
        "outputId": "d0d7ba38-b962-428b-b56f-66aba13ccca9"
      },
      "outputs": [
        {
          "name": "stdout",
          "output_type": "stream",
          "text": [
            "[1]\tvalid_0's rmse: 4249.28\tvalid_0's l2: 1.80564e+07\n",
            "[2]\tvalid_0's rmse: 3985.55\tvalid_0's l2: 1.58846e+07\n",
            "[3]\tvalid_0's rmse: 3754.8\tvalid_0's l2: 1.40985e+07\n",
            "[4]\tvalid_0's rmse: 3549.82\tvalid_0's l2: 1.26012e+07\n",
            "[5]\tvalid_0's rmse: 3376.45\tvalid_0's l2: 1.14004e+07\n",
            "[6]\tvalid_0's rmse: 3216.75\tvalid_0's l2: 1.03475e+07\n",
            "[7]\tvalid_0's rmse: 3079.26\tvalid_0's l2: 9.48184e+06\n",
            "[8]\tvalid_0's rmse: 2956.94\tvalid_0's l2: 8.7435e+06\n",
            "[9]\tvalid_0's rmse: 2847.83\tvalid_0's l2: 8.11015e+06\n",
            "[10]\tvalid_0's rmse: 2756.24\tvalid_0's l2: 7.59686e+06\n",
            "[11]\tvalid_0's rmse: 2672.48\tvalid_0's l2: 7.14213e+06\n",
            "[12]\tvalid_0's rmse: 2599.55\tvalid_0's l2: 6.75768e+06\n",
            "[13]\tvalid_0's rmse: 2533.3\tvalid_0's l2: 6.41763e+06\n",
            "[14]\tvalid_0's rmse: 2471.27\tvalid_0's l2: 6.10718e+06\n",
            "[15]\tvalid_0's rmse: 2421.99\tvalid_0's l2: 5.86604e+06\n",
            "[16]\tvalid_0's rmse: 2380.3\tvalid_0's l2: 5.66585e+06\n",
            "[17]\tvalid_0's rmse: 2338.96\tvalid_0's l2: 5.47073e+06\n",
            "[18]\tvalid_0's rmse: 2304.22\tvalid_0's l2: 5.30945e+06\n",
            "[19]\tvalid_0's rmse: 2266.77\tvalid_0's l2: 5.13826e+06\n",
            "[20]\tvalid_0's rmse: 2234.42\tvalid_0's l2: 4.99261e+06\n",
            "[21]\tvalid_0's rmse: 2205.6\tvalid_0's l2: 4.86465e+06\n",
            "[22]\tvalid_0's rmse: 2181.95\tvalid_0's l2: 4.7609e+06\n",
            "[23]\tvalid_0's rmse: 2150.24\tvalid_0's l2: 4.62355e+06\n",
            "[24]\tvalid_0's rmse: 2128.35\tvalid_0's l2: 4.52987e+06\n",
            "[25]\tvalid_0's rmse: 2108.25\tvalid_0's l2: 4.44474e+06\n",
            "[26]\tvalid_0's rmse: 2091.12\tvalid_0's l2: 4.37277e+06\n",
            "[27]\tvalid_0's rmse: 2070.13\tvalid_0's l2: 4.28542e+06\n",
            "[28]\tvalid_0's rmse: 2054.41\tvalid_0's l2: 4.22062e+06\n",
            "[29]\tvalid_0's rmse: 2041.8\tvalid_0's l2: 4.16896e+06\n",
            "[30]\tvalid_0's rmse: 2029.42\tvalid_0's l2: 4.11856e+06\n",
            "[31]\tvalid_0's rmse: 2018.37\tvalid_0's l2: 4.0738e+06\n",
            "[32]\tvalid_0's rmse: 2007.88\tvalid_0's l2: 4.03159e+06\n",
            "[33]\tvalid_0's rmse: 1995.01\tvalid_0's l2: 3.98006e+06\n",
            "[34]\tvalid_0's rmse: 1986.21\tvalid_0's l2: 3.94505e+06\n",
            "[35]\tvalid_0's rmse: 1975.86\tvalid_0's l2: 3.90402e+06\n",
            "[36]\tvalid_0's rmse: 1968.41\tvalid_0's l2: 3.87465e+06\n",
            "[37]\tvalid_0's rmse: 1958.74\tvalid_0's l2: 3.83666e+06\n",
            "[38]\tvalid_0's rmse: 1952.57\tvalid_0's l2: 3.81254e+06\n",
            "[39]\tvalid_0's rmse: 1946.12\tvalid_0's l2: 3.78739e+06\n",
            "[40]\tvalid_0's rmse: 1938.35\tvalid_0's l2: 3.75721e+06\n",
            "[41]\tvalid_0's rmse: 1933.1\tvalid_0's l2: 3.73687e+06\n",
            "[42]\tvalid_0's rmse: 1927.55\tvalid_0's l2: 3.71543e+06\n",
            "[43]\tvalid_0's rmse: 1922.11\tvalid_0's l2: 3.69451e+06\n",
            "[44]\tvalid_0's rmse: 1917.49\tvalid_0's l2: 3.67678e+06\n",
            "[45]\tvalid_0's rmse: 1912.14\tvalid_0's l2: 3.65629e+06\n",
            "[46]\tvalid_0's rmse: 1907.52\tvalid_0's l2: 3.63864e+06\n",
            "[47]\tvalid_0's rmse: 1902.73\tvalid_0's l2: 3.62038e+06\n",
            "[48]\tvalid_0's rmse: 1897.86\tvalid_0's l2: 3.60188e+06\n",
            "[49]\tvalid_0's rmse: 1894.77\tvalid_0's l2: 3.59016e+06\n",
            "[50]\tvalid_0's rmse: 1890.76\tvalid_0's l2: 3.57498e+06\n",
            "[51]\tvalid_0's rmse: 1887.02\tvalid_0's l2: 3.56085e+06\n",
            "[52]\tvalid_0's rmse: 1882.22\tvalid_0's l2: 3.54276e+06\n",
            "[53]\tvalid_0's rmse: 1878.36\tvalid_0's l2: 3.52825e+06\n",
            "[54]\tvalid_0's rmse: 1874.84\tvalid_0's l2: 3.51502e+06\n",
            "[55]\tvalid_0's rmse: 1871.13\tvalid_0's l2: 3.50114e+06\n",
            "[56]\tvalid_0's rmse: 1868.97\tvalid_0's l2: 3.49304e+06\n",
            "[57]\tvalid_0's rmse: 1865.77\tvalid_0's l2: 3.4811e+06\n",
            "[58]\tvalid_0's rmse: 1862.32\tvalid_0's l2: 3.46822e+06\n",
            "[59]\tvalid_0's rmse: 1858.92\tvalid_0's l2: 3.45558e+06\n",
            "[60]\tvalid_0's rmse: 1855.98\tvalid_0's l2: 3.44465e+06\n",
            "[61]\tvalid_0's rmse: 1853.77\tvalid_0's l2: 3.43647e+06\n",
            "[62]\tvalid_0's rmse: 1851.96\tvalid_0's l2: 3.42974e+06\n",
            "[63]\tvalid_0's rmse: 1849.32\tvalid_0's l2: 3.41998e+06\n",
            "[64]\tvalid_0's rmse: 1847.02\tvalid_0's l2: 3.41148e+06\n",
            "[65]\tvalid_0's rmse: 1844.73\tvalid_0's l2: 3.40304e+06\n",
            "[66]\tvalid_0's rmse: 1842.56\tvalid_0's l2: 3.39503e+06\n",
            "[67]\tvalid_0's rmse: 1840.4\tvalid_0's l2: 3.38707e+06\n",
            "[68]\tvalid_0's rmse: 1838.42\tvalid_0's l2: 3.37981e+06\n",
            "[69]\tvalid_0's rmse: 1836.62\tvalid_0's l2: 3.37319e+06\n",
            "[70]\tvalid_0's rmse: 1834.53\tvalid_0's l2: 3.3655e+06\n",
            "[71]\tvalid_0's rmse: 1833.25\tvalid_0's l2: 3.36081e+06\n",
            "[72]\tvalid_0's rmse: 1831\tvalid_0's l2: 3.35256e+06\n",
            "[73]\tvalid_0's rmse: 1829.34\tvalid_0's l2: 3.3465e+06\n",
            "[74]\tvalid_0's rmse: 1828.13\tvalid_0's l2: 3.34205e+06\n",
            "[75]\tvalid_0's rmse: 1827.02\tvalid_0's l2: 3.338e+06\n",
            "[76]\tvalid_0's rmse: 1824.88\tvalid_0's l2: 3.33019e+06\n",
            "[77]\tvalid_0's rmse: 1822.6\tvalid_0's l2: 3.32188e+06\n",
            "[78]\tvalid_0's rmse: 1821.3\tvalid_0's l2: 3.31714e+06\n",
            "[79]\tvalid_0's rmse: 1819.69\tvalid_0's l2: 3.31127e+06\n",
            "[80]\tvalid_0's rmse: 1817.83\tvalid_0's l2: 3.30449e+06\n",
            "[81]\tvalid_0's rmse: 1816.56\tvalid_0's l2: 3.2999e+06\n",
            "[82]\tvalid_0's rmse: 1815.72\tvalid_0's l2: 3.29683e+06\n",
            "[83]\tvalid_0's rmse: 1814.53\tvalid_0's l2: 3.29252e+06\n",
            "[84]\tvalid_0's rmse: 1813.15\tvalid_0's l2: 3.2875e+06\n",
            "[85]\tvalid_0's rmse: 1810.82\tvalid_0's l2: 3.27905e+06\n",
            "[86]\tvalid_0's rmse: 1809.5\tvalid_0's l2: 3.27428e+06\n",
            "[87]\tvalid_0's rmse: 1808.36\tvalid_0's l2: 3.27016e+06\n",
            "[88]\tvalid_0's rmse: 1807.16\tvalid_0's l2: 3.26583e+06\n",
            "[89]\tvalid_0's rmse: 1806.17\tvalid_0's l2: 3.26224e+06\n",
            "[90]\tvalid_0's rmse: 1805.01\tvalid_0's l2: 3.25805e+06\n",
            "[91]\tvalid_0's rmse: 1803.33\tvalid_0's l2: 3.25202e+06\n",
            "[92]\tvalid_0's rmse: 1801.99\tvalid_0's l2: 3.24715e+06\n",
            "[93]\tvalid_0's rmse: 1801.12\tvalid_0's l2: 3.24402e+06\n",
            "[94]\tvalid_0's rmse: 1799.69\tvalid_0's l2: 3.23887e+06\n",
            "[95]\tvalid_0's rmse: 1798.86\tvalid_0's l2: 3.23591e+06\n",
            "[96]\tvalid_0's rmse: 1797.67\tvalid_0's l2: 3.23161e+06\n",
            "[97]\tvalid_0's rmse: 1796.67\tvalid_0's l2: 3.22804e+06\n",
            "[98]\tvalid_0's rmse: 1795.78\tvalid_0's l2: 3.22482e+06\n",
            "[99]\tvalid_0's rmse: 1794.56\tvalid_0's l2: 3.22045e+06\n",
            "[100]\tvalid_0's rmse: 1793.16\tvalid_0's l2: 3.21543e+06\n"
          ]
        },
        {
          "data": {
            "text/html": [
              "<div>\n",
              "<style scoped>\n",
              "    .dataframe tbody tr th:only-of-type {\n",
              "        vertical-align: middle;\n",
              "    }\n",
              "\n",
              "    .dataframe tbody tr th {\n",
              "        vertical-align: top;\n",
              "    }\n",
              "\n",
              "    .dataframe thead th {\n",
              "        text-align: right;\n",
              "    }\n",
              "</style>\n",
              "<table border=\"1\" class=\"dataframe\">\n",
              "  <thead>\n",
              "    <tr style=\"text-align: right;\">\n",
              "      <th></th>\n",
              "      <th>Model</th>\n",
              "      <th>learning time, sec</th>\n",
              "      <th>prediction time, sec</th>\n",
              "      <th>RMSE, euro</th>\n",
              "    </tr>\n",
              "  </thead>\n",
              "  <tbody>\n",
              "    <tr>\n",
              "      <td>0</td>\n",
              "      <td>Linear Regression</td>\n",
              "      <td>27.962360</td>\n",
              "      <td>0.130547</td>\n",
              "      <td>2651.855799</td>\n",
              "    </tr>\n",
              "    <tr>\n",
              "      <td>1</td>\n",
              "      <td>Random Forest</td>\n",
              "      <td>73.742923</td>\n",
              "      <td>0.542571</td>\n",
              "      <td>1650.873298</td>\n",
              "    </tr>\n",
              "    <tr>\n",
              "      <td>2</td>\n",
              "      <td>Decision Tree</td>\n",
              "      <td>11.532035</td>\n",
              "      <td>0.162689</td>\n",
              "      <td>1932.501056</td>\n",
              "    </tr>\n",
              "    <tr>\n",
              "      <td>3</td>\n",
              "      <td>Catboost</td>\n",
              "      <td>30.726629</td>\n",
              "      <td>0.151101</td>\n",
              "      <td>2073.914951</td>\n",
              "    </tr>\n",
              "    <tr>\n",
              "      <td>4</td>\n",
              "      <td>LightGBM</td>\n",
              "      <td>14.986327</td>\n",
              "      <td>0.995269</td>\n",
              "      <td>1718.700250</td>\n",
              "    </tr>\n",
              "    <tr>\n",
              "      <td>5</td>\n",
              "      <td>LightGBM tuned</td>\n",
              "      <td>14.821785</td>\n",
              "      <td>0.884255</td>\n",
              "      <td>1793.161723</td>\n",
              "    </tr>\n",
              "  </tbody>\n",
              "</table>\n",
              "</div>"
            ],
            "text/plain": [
              "               Model  learning time, sec  prediction time, sec   RMSE, euro\n",
              "0  Linear Regression           27.962360              0.130547  2651.855799\n",
              "1      Random Forest           73.742923              0.542571  1650.873298\n",
              "2      Decision Tree           11.532035              0.162689  1932.501056\n",
              "3           Catboost           30.726629              0.151101  2073.914951\n",
              "4           LightGBM           14.986327              0.995269  1718.700250\n",
              "5     LightGBM tuned           14.821785              0.884255  1793.161723"
            ]
          },
          "execution_count": 48,
          "metadata": {},
          "output_type": "execute_result"
        }
      ],
      "source": [
        "start_time = timeit.default_timer()\n",
        "\n",
        "model = LGBMRegressor(random_state=23, max_depth=10, num_leaves=15, min_data_in_leaf=50)\n",
        "model.fit(X_train_ohe, y_train, eval_set=[(X_test_ohe, y_test),], eval_metric=[\"rmse\"])\n",
        "\n",
        "elapsed_fitting = timeit.default_timer() - start_time\n",
        "\n",
        "\n",
        "\n",
        "start_time = timeit.default_timer()\n",
        "\n",
        "predictions = model.predict(X_test_ohe)\n",
        "\n",
        "elapsed_prediction = timeit.default_timer() - start_time\n",
        "\n",
        "\n",
        "\n",
        "current_model = pd.DataFrame({'Model': ['LightGBM tuned'],\n",
        "              'learning time, sec': [elapsed_fitting],\n",
        "              'prediction time, sec': [elapsed_prediction],\n",
        "              'RMSE, euro': [mean_squared_error(y_test, predictions)**0.5]})\n",
        "all_models = all_models.merge(current_model, how = 'outer')\n",
        "all_models"
      ]
    },
    {
      "cell_type": "markdown",
      "metadata": {
        "id": "cI4tGPUCzLRT"
      },
      "source": [
        "Изменение параметров не привело к улучшению показателей модели. Попробуем настроить градиентный бустинг Catboost."
      ]
    },
    {
      "cell_type": "code",
      "execution_count": null,
      "metadata": {
        "id": "hN4itj9ozLRT",
        "outputId": "b47a6b69-21b9-4288-dee7-16efb395c656"
      },
      "outputs": [
        {
          "name": "stdout",
          "output_type": "stream",
          "text": [
            "0:\tlearn: 4417.8111456\ttotal: 290ms\tremaining: 28.7s\n",
            "10:\tlearn: 3428.4072059\ttotal: 3.08s\tremaining: 24.9s\n",
            "20:\tlearn: 2810.2744279\ttotal: 5.58s\tremaining: 21s\n",
            "30:\tlearn: 2429.7874894\ttotal: 8.28s\tremaining: 18.4s\n",
            "40:\tlearn: 2199.3939231\ttotal: 11.2s\tremaining: 16.1s\n",
            "50:\tlearn: 2048.4843236\ttotal: 13.8s\tremaining: 13.2s\n",
            "60:\tlearn: 1952.3323639\ttotal: 16.4s\tremaining: 10.5s\n",
            "70:\tlearn: 1885.8437191\ttotal: 19s\tremaining: 7.78s\n",
            "80:\tlearn: 1844.2028636\ttotal: 21.7s\tremaining: 5.1s\n",
            "90:\tlearn: 1815.8673031\ttotal: 24.3s\tremaining: 2.4s\n",
            "99:\tlearn: 1793.0107787\ttotal: 26.6s\tremaining: 0us\n",
            "0:\tlearn: 4413.8077323\ttotal: 226ms\tremaining: 22.4s\n",
            "10:\tlearn: 3420.4420803\ttotal: 2.92s\tremaining: 23.7s\n",
            "20:\tlearn: 2816.7187468\ttotal: 5.53s\tremaining: 20.8s\n",
            "30:\tlearn: 2449.0274841\ttotal: 8.21s\tremaining: 18.3s\n",
            "40:\tlearn: 2216.5352602\ttotal: 10.9s\tremaining: 15.7s\n",
            "50:\tlearn: 2061.9225338\ttotal: 13.4s\tremaining: 12.9s\n",
            "60:\tlearn: 1970.9464936\ttotal: 16.1s\tremaining: 10.3s\n",
            "70:\tlearn: 1904.7702066\ttotal: 18.7s\tremaining: 7.63s\n",
            "80:\tlearn: 1860.0750040\ttotal: 21.3s\tremaining: 4.99s\n",
            "90:\tlearn: 1831.7288289\ttotal: 24s\tremaining: 2.37s\n",
            "99:\tlearn: 1808.3785146\ttotal: 26.4s\tremaining: 0us\n",
            "0:\tlearn: 4290.2290067\ttotal: 247ms\tremaining: 24.5s\n",
            "10:\tlearn: 2754.4639985\ttotal: 2.94s\tremaining: 23.8s\n",
            "20:\tlearn: 2174.9163748\ttotal: 5.63s\tremaining: 21.2s\n",
            "30:\tlearn: 1943.4426045\ttotal: 8.23s\tremaining: 18.3s\n",
            "40:\tlearn: 1840.7297213\ttotal: 10.9s\tremaining: 15.7s\n",
            "50:\tlearn: 1793.1236940\ttotal: 13.5s\tremaining: 13s\n",
            "60:\tlearn: 1764.1290671\ttotal: 16.1s\tremaining: 10.3s\n",
            "70:\tlearn: 1745.6459863\ttotal: 18.8s\tremaining: 7.68s\n",
            "80:\tlearn: 1722.7975589\ttotal: 21.5s\tremaining: 5.04s\n",
            "90:\tlearn: 1705.5167549\ttotal: 24.1s\tremaining: 2.38s\n",
            "99:\tlearn: 1689.9716664\ttotal: 26.5s\tremaining: 0us\n",
            "0:\tlearn: 4287.6213715\ttotal: 273ms\tremaining: 27s\n",
            "10:\tlearn: 2753.5945086\ttotal: 2.97s\tremaining: 24s\n",
            "20:\tlearn: 2181.7842573\ttotal: 5.65s\tremaining: 21.3s\n",
            "30:\tlearn: 1953.3187745\ttotal: 8.25s\tremaining: 18.4s\n",
            "40:\tlearn: 1856.3190892\ttotal: 10.9s\tremaining: 15.8s\n",
            "50:\tlearn: 1804.5062099\ttotal: 13.6s\tremaining: 13.1s\n",
            "60:\tlearn: 1775.3103326\ttotal: 16.4s\tremaining: 10.5s\n",
            "70:\tlearn: 1750.4580213\ttotal: 19s\tremaining: 7.78s\n",
            "80:\tlearn: 1726.4850331\ttotal: 21.7s\tremaining: 5.09s\n",
            "90:\tlearn: 1711.8413276\ttotal: 24.4s\tremaining: 2.42s\n",
            "99:\tlearn: 1698.2217803\ttotal: 26.9s\tremaining: 0us\n",
            "0:\tlearn: 4417.8111456\ttotal: 282ms\tremaining: 33.5s\n",
            "10:\tlearn: 3428.4072059\ttotal: 3.07s\tremaining: 30.4s\n",
            "20:\tlearn: 2810.2744279\ttotal: 5.77s\tremaining: 27.2s\n",
            "30:\tlearn: 2429.7874894\ttotal: 8.37s\tremaining: 24s\n",
            "40:\tlearn: 2199.3939231\ttotal: 11.1s\tremaining: 21.3s\n",
            "50:\tlearn: 2048.4843236\ttotal: 13.7s\tremaining: 18.5s\n",
            "60:\tlearn: 1952.3323639\ttotal: 16.5s\tremaining: 16s\n",
            "70:\tlearn: 1885.8437191\ttotal: 19.2s\tremaining: 13.3s\n",
            "80:\tlearn: 1844.2028636\ttotal: 21.9s\tremaining: 10.6s\n",
            "90:\tlearn: 1815.8673031\ttotal: 24.6s\tremaining: 7.85s\n",
            "100:\tlearn: 1790.7460126\ttotal: 27.2s\tremaining: 5.12s\n",
            "110:\tlearn: 1772.0588712\ttotal: 29.9s\tremaining: 2.42s\n",
            "119:\tlearn: 1759.3323666\ttotal: 32.3s\tremaining: 0us\n",
            "0:\tlearn: 4413.8077323\ttotal: 253ms\tremaining: 30.1s\n",
            "10:\tlearn: 3420.4420803\ttotal: 3.05s\tremaining: 30.2s\n",
            "20:\tlearn: 2816.7187468\ttotal: 5.74s\tremaining: 27.1s\n",
            "30:\tlearn: 2449.0274841\ttotal: 8.44s\tremaining: 24.2s\n",
            "40:\tlearn: 2216.5352602\ttotal: 11s\tremaining: 21.3s\n",
            "50:\tlearn: 2061.9225338\ttotal: 13.7s\tremaining: 18.6s\n",
            "60:\tlearn: 1970.9464936\ttotal: 16.3s\tremaining: 15.8s\n",
            "70:\tlearn: 1904.7702066\ttotal: 19s\tremaining: 13.1s\n",
            "80:\tlearn: 1860.0750040\ttotal: 21.7s\tremaining: 10.4s\n",
            "90:\tlearn: 1831.7288289\ttotal: 24.4s\tremaining: 7.77s\n",
            "100:\tlearn: 1805.8010227\ttotal: 27.1s\tremaining: 5.1s\n",
            "110:\tlearn: 1785.4655381\ttotal: 29.8s\tremaining: 2.41s\n",
            "119:\tlearn: 1772.3896564\ttotal: 32.3s\tremaining: 0us\n",
            "0:\tlearn: 4290.2290067\ttotal: 162ms\tremaining: 19.3s\n",
            "10:\tlearn: 2754.4639985\ttotal: 2.94s\tremaining: 29.1s\n",
            "20:\tlearn: 2174.9163748\ttotal: 5.54s\tremaining: 26.1s\n",
            "30:\tlearn: 1943.4426045\ttotal: 8.23s\tremaining: 23.6s\n",
            "40:\tlearn: 1840.7297213\ttotal: 10.8s\tremaining: 20.9s\n",
            "50:\tlearn: 1793.1236940\ttotal: 13.5s\tremaining: 18.3s\n",
            "60:\tlearn: 1764.1290671\ttotal: 16.1s\tremaining: 15.6s\n",
            "70:\tlearn: 1745.6459863\ttotal: 18.8s\tremaining: 13s\n",
            "80:\tlearn: 1722.7975589\ttotal: 21.5s\tremaining: 10.4s\n",
            "90:\tlearn: 1705.5167549\ttotal: 24.2s\tremaining: 7.71s\n",
            "100:\tlearn: 1689.1103044\ttotal: 27s\tremaining: 5.08s\n",
            "110:\tlearn: 1674.4585609\ttotal: 29.7s\tremaining: 2.41s\n",
            "119:\tlearn: 1663.1453658\ttotal: 32.1s\tremaining: 0us\n",
            "0:\tlearn: 4287.6213715\ttotal: 269ms\tremaining: 32.1s\n",
            "10:\tlearn: 2753.5945086\ttotal: 3.06s\tremaining: 30.3s\n",
            "20:\tlearn: 2181.7842573\ttotal: 5.84s\tremaining: 27.6s\n",
            "30:\tlearn: 1953.3187745\ttotal: 8.64s\tremaining: 24.8s\n",
            "40:\tlearn: 1856.3190892\ttotal: 11.3s\tremaining: 21.8s\n",
            "50:\tlearn: 1804.5062099\ttotal: 14.1s\tremaining: 19.1s\n",
            "60:\tlearn: 1775.3103326\ttotal: 16.8s\tremaining: 16.3s\n",
            "70:\tlearn: 1750.4580213\ttotal: 19.5s\tremaining: 13.5s\n",
            "80:\tlearn: 1726.4850331\ttotal: 22.3s\tremaining: 10.7s\n",
            "90:\tlearn: 1711.8413276\ttotal: 25s\tremaining: 7.96s\n",
            "100:\tlearn: 1697.2604573\ttotal: 27.7s\tremaining: 5.21s\n",
            "110:\tlearn: 1684.0113652\ttotal: 30.5s\tremaining: 2.47s\n",
            "119:\tlearn: 1672.8430885\ttotal: 33.1s\tremaining: 0us\n",
            "0:\tlearn: 4414.2053554\ttotal: 1.78s\tremaining: 2m 56s\n",
            "10:\tlearn: 3387.1902098\ttotal: 12.5s\tremaining: 1m 41s\n",
            "20:\tlearn: 2750.6494609\ttotal: 24.5s\tremaining: 1m 32s\n",
            "30:\tlearn: 2351.2852169\ttotal: 36.3s\tremaining: 1m 20s\n",
            "40:\tlearn: 2098.4378761\ttotal: 48.4s\tremaining: 1m 9s\n",
            "50:\tlearn: 1928.2390338\ttotal: 1m\tremaining: 57.8s\n",
            "60:\tlearn: 1828.3425015\ttotal: 1m 12s\tremaining: 46.2s\n",
            "70:\tlearn: 1760.7637094\ttotal: 1m 24s\tremaining: 34.4s\n",
            "80:\tlearn: 1702.3529545\ttotal: 1m 36s\tremaining: 22.7s\n",
            "90:\tlearn: 1664.1274980\ttotal: 1m 48s\tremaining: 10.7s\n",
            "99:\tlearn: 1636.3726666\ttotal: 1m 59s\tremaining: 0us\n",
            "0:\tlearn: 4410.3852532\ttotal: 1.27s\tremaining: 2m 5s\n",
            "10:\tlearn: 3390.7769927\ttotal: 11.7s\tremaining: 1m 34s\n",
            "20:\tlearn: 2766.7460691\ttotal: 24.1s\tremaining: 1m 30s\n",
            "30:\tlearn: 2365.0956909\ttotal: 35.8s\tremaining: 1m 19s\n",
            "40:\tlearn: 2113.1369477\ttotal: 47.9s\tremaining: 1m 8s\n",
            "50:\tlearn: 1951.4705448\ttotal: 59.9s\tremaining: 57.6s\n",
            "60:\tlearn: 1849.6986543\ttotal: 1m 11s\tremaining: 45.9s\n",
            "70:\tlearn: 1776.2559332\ttotal: 1m 24s\tremaining: 34.3s\n",
            "80:\tlearn: 1716.4293453\ttotal: 1m 36s\tremaining: 22.6s\n",
            "90:\tlearn: 1675.4032110\ttotal: 1m 48s\tremaining: 10.8s\n",
            "99:\tlearn: 1648.6963297\ttotal: 2m\tremaining: 0us\n",
            "0:\tlearn: 4282.9078120\ttotal: 1.3s\tremaining: 2m 8s\n",
            "10:\tlearn: 2690.5724862\ttotal: 12.8s\tremaining: 1m 43s\n",
            "20:\tlearn: 2061.7219982\ttotal: 24.9s\tremaining: 1m 33s\n",
            "30:\tlearn: 1814.8613182\ttotal: 37s\tremaining: 1m 22s\n",
            "40:\tlearn: 1692.9940696\ttotal: 49.3s\tremaining: 1m 10s\n",
            "50:\tlearn: 1630.3950013\ttotal: 1m 1s\tremaining: 59s\n",
            "60:\tlearn: 1586.0284497\ttotal: 1m 13s\tremaining: 47.1s\n",
            "70:\tlearn: 1554.4862978\ttotal: 1m 25s\tremaining: 35.1s\n",
            "80:\tlearn: 1532.3224159\ttotal: 1m 38s\tremaining: 23s\n",
            "90:\tlearn: 1512.9349654\ttotal: 1m 49s\tremaining: 10.8s\n",
            "99:\tlearn: 1496.4091076\ttotal: 2m 1s\tremaining: 0us\n",
            "0:\tlearn: 4280.6992386\ttotal: 1.08s\tremaining: 1m 46s\n",
            "10:\tlearn: 2700.3321743\ttotal: 12.4s\tremaining: 1m 40s\n",
            "20:\tlearn: 2094.3977527\ttotal: 24.3s\tremaining: 1m 31s\n",
            "30:\tlearn: 1836.4407151\ttotal: 36.1s\tremaining: 1m 20s\n",
            "40:\tlearn: 1712.6143717\ttotal: 48.1s\tremaining: 1m 9s\n",
            "50:\tlearn: 1642.8477127\ttotal: 1m\tremaining: 58.1s\n",
            "60:\tlearn: 1603.3952125\ttotal: 1m 13s\tremaining: 46.8s\n",
            "70:\tlearn: 1575.1136373\ttotal: 1m 24s\tremaining: 34.7s\n",
            "80:\tlearn: 1550.2763203\ttotal: 1m 36s\tremaining: 22.6s\n",
            "90:\tlearn: 1520.1104622\ttotal: 1m 48s\tremaining: 10.8s\n",
            "99:\tlearn: 1498.9082544\ttotal: 1m 59s\tremaining: 0us\n",
            "0:\tlearn: 4414.2053554\ttotal: 1.19s\tremaining: 2m 22s\n",
            "10:\tlearn: 3387.1902098\ttotal: 12.1s\tremaining: 1m 59s\n",
            "20:\tlearn: 2750.6494609\ttotal: 23.9s\tremaining: 1m 52s\n",
            "30:\tlearn: 2351.2852169\ttotal: 35.8s\tremaining: 1m 42s\n",
            "40:\tlearn: 2098.4378761\ttotal: 48s\tremaining: 1m 32s\n",
            "50:\tlearn: 1928.2390338\ttotal: 59.9s\tremaining: 1m 21s\n",
            "60:\tlearn: 1828.3425015\ttotal: 1m 11s\tremaining: 1m 9s\n",
            "70:\tlearn: 1760.7637094\ttotal: 1m 23s\tremaining: 57.7s\n",
            "80:\tlearn: 1702.3529545\ttotal: 1m 35s\tremaining: 46.2s\n",
            "90:\tlearn: 1664.1274980\ttotal: 1m 48s\tremaining: 34.5s\n",
            "100:\tlearn: 1634.0531896\ttotal: 2m\tremaining: 22.6s\n",
            "110:\tlearn: 1610.0616315\ttotal: 2m 12s\tremaining: 10.7s\n",
            "119:\tlearn: 1591.4084379\ttotal: 2m 23s\tremaining: 0us\n",
            "0:\tlearn: 4410.3852532\ttotal: 1.28s\tremaining: 2m 32s\n",
            "10:\tlearn: 3390.7769927\ttotal: 11.7s\tremaining: 1m 55s\n",
            "20:\tlearn: 2766.7460691\ttotal: 23.6s\tremaining: 1m 51s\n",
            "30:\tlearn: 2365.0956909\ttotal: 34.8s\tremaining: 1m 40s\n",
            "40:\tlearn: 2113.1369477\ttotal: 46.7s\tremaining: 1m 30s\n",
            "50:\tlearn: 1951.4705448\ttotal: 59.1s\tremaining: 1m 19s\n",
            "60:\tlearn: 1849.6986543\ttotal: 1m 11s\tremaining: 1m 9s\n",
            "70:\tlearn: 1776.2559332\ttotal: 1m 23s\tremaining: 57.9s\n",
            "80:\tlearn: 1716.4293453\ttotal: 1m 36s\tremaining: 46.5s\n",
            "90:\tlearn: 1675.4032110\ttotal: 1m 48s\tremaining: 34.6s\n",
            "100:\tlearn: 1646.5078692\ttotal: 2m\tremaining: 22.8s\n",
            "110:\tlearn: 1620.9333632\ttotal: 2m 13s\tremaining: 10.8s\n",
            "119:\tlearn: 1601.5733349\ttotal: 2m 25s\tremaining: 0us\n",
            "0:\tlearn: 4282.9078120\ttotal: 1.17s\tremaining: 2m 18s\n",
            "10:\tlearn: 2690.5724862\ttotal: 13.1s\tremaining: 2m 9s\n",
            "20:\tlearn: 2061.7219982\ttotal: 25.9s\tremaining: 2m 2s\n",
            "30:\tlearn: 1814.8613182\ttotal: 38.4s\tremaining: 1m 50s\n",
            "40:\tlearn: 1692.9940696\ttotal: 51s\tremaining: 1m 38s\n",
            "50:\tlearn: 1630.3950013\ttotal: 1m 3s\tremaining: 1m 26s\n",
            "60:\tlearn: 1586.0284497\ttotal: 1m 16s\tremaining: 1m 14s\n",
            "70:\tlearn: 1554.4862978\ttotal: 1m 28s\tremaining: 1m 1s\n",
            "80:\tlearn: 1532.3224159\ttotal: 1m 41s\tremaining: 49.1s\n",
            "90:\tlearn: 1512.9349654\ttotal: 1m 53s\tremaining: 36.2s\n",
            "100:\tlearn: 1494.5248848\ttotal: 2m 6s\tremaining: 23.7s\n",
            "110:\tlearn: 1474.0224381\ttotal: 2m 18s\tremaining: 11.2s\n",
            "119:\tlearn: 1460.3644362\ttotal: 2m 28s\tremaining: 0us\n",
            "0:\tlearn: 4280.6992386\ttotal: 1.17s\tremaining: 2m 18s\n",
            "10:\tlearn: 2700.3321743\ttotal: 12.8s\tremaining: 2m 6s\n",
            "20:\tlearn: 2094.3977527\ttotal: 25.6s\tremaining: 2m\n",
            "30:\tlearn: 1836.4407151\ttotal: 38.1s\tremaining: 1m 49s\n",
            "40:\tlearn: 1712.6143717\ttotal: 50.9s\tremaining: 1m 38s\n",
            "50:\tlearn: 1642.8477127\ttotal: 1m 3s\tremaining: 1m 26s\n",
            "60:\tlearn: 1603.3952125\ttotal: 1m 16s\tremaining: 1m 13s\n",
            "70:\tlearn: 1575.1136373\ttotal: 1m 27s\tremaining: 1m\n",
            "80:\tlearn: 1550.2763203\ttotal: 1m 38s\tremaining: 47.7s\n",
            "90:\tlearn: 1520.1104622\ttotal: 1m 51s\tremaining: 35.6s\n",
            "100:\tlearn: 1497.0288172\ttotal: 2m 4s\tremaining: 23.4s\n",
            "110:\tlearn: 1476.2708727\ttotal: 2m 17s\tremaining: 11.1s\n",
            "119:\tlearn: 1459.3545863\ttotal: 2m 27s\tremaining: 0us\n",
            "0:\tlearn: 4279.3425173\ttotal: 1.54s\tremaining: 3m 2s\n",
            "10:\tlearn: 2678.8165564\ttotal: 16.9s\tremaining: 2m 47s\n",
            "20:\tlearn: 2058.4193565\ttotal: 32.3s\tremaining: 2m 32s\n",
            "30:\tlearn: 1822.5220361\ttotal: 48s\tremaining: 2m 17s\n",
            "40:\tlearn: 1711.4392494\ttotal: 1m 4s\tremaining: 2m 3s\n",
            "50:\tlearn: 1652.0353929\ttotal: 1m 19s\tremaining: 1m 47s\n",
            "60:\tlearn: 1611.5908448\ttotal: 1m 35s\tremaining: 1m 32s\n",
            "70:\tlearn: 1584.6054886\ttotal: 1m 51s\tremaining: 1m 17s\n",
            "80:\tlearn: 1563.7883927\ttotal: 2m 7s\tremaining: 1m 1s\n",
            "90:\tlearn: 1544.9089337\ttotal: 2m 23s\tremaining: 45.7s\n",
            "100:\tlearn: 1528.6729272\ttotal: 2m 38s\tremaining: 29.9s\n",
            "110:\tlearn: 1514.3130615\ttotal: 2m 54s\tremaining: 14.2s\n",
            "119:\tlearn: 1502.1893843\ttotal: 3m 9s\tremaining: 0us\n"
          ]
        },
        {
          "data": {
            "text/plain": [
              "{'depth': 15, 'iterations': 120, 'learning_rate': 0.08}"
            ]
          },
          "execution_count": 49,
          "metadata": {},
          "output_type": "execute_result"
        }
      ],
      "source": [
        "parameters = {'iterations': [100, 120],\n",
        "              'depth': [10, 15],\n",
        "              'learning_rate': [0.04, 0.08]}\n",
        "CBR = CatBoostRegressor(loss_function=\"RMSE\")\n",
        "\n",
        "Grid_CBR = GridSearchCV(estimator=CBR, param_grid = parameters, cv = 2, n_jobs=-1)\n",
        "Grid_CBR.fit(X_train, y_train, cat_features=cat_features, verbose=10)\n",
        "Grid_CBR.best_params_"
      ]
    },
    {
      "cell_type": "code",
      "execution_count": null,
      "metadata": {
        "id": "FIO12p1fzLRU",
        "outputId": "d4b3e67e-d5c2-4104-e01d-f02d791d7102"
      },
      "outputs": [
        {
          "name": "stdout",
          "output_type": "stream",
          "text": [
            "0:\tlearn: 4279.3425173\ttotal: 1.58s\tremaining: 3m 8s\n",
            "10:\tlearn: 2678.8165564\ttotal: 17.2s\tremaining: 2m 50s\n",
            "20:\tlearn: 2058.4193565\ttotal: 33.1s\tremaining: 2m 35s\n",
            "30:\tlearn: 1822.5220361\ttotal: 48.6s\tremaining: 2m 19s\n",
            "40:\tlearn: 1711.4392494\ttotal: 1m 4s\tremaining: 2m 3s\n",
            "50:\tlearn: 1652.0353929\ttotal: 1m 19s\tremaining: 1m 47s\n",
            "60:\tlearn: 1611.5908448\ttotal: 1m 35s\tremaining: 1m 32s\n",
            "70:\tlearn: 1584.6054886\ttotal: 1m 51s\tremaining: 1m 16s\n",
            "80:\tlearn: 1563.7883927\ttotal: 2m 6s\tremaining: 1m 1s\n",
            "90:\tlearn: 1544.9089337\ttotal: 2m 23s\tremaining: 45.6s\n",
            "100:\tlearn: 1528.6729272\ttotal: 2m 38s\tremaining: 29.9s\n",
            "110:\tlearn: 1514.3130615\ttotal: 2m 54s\tremaining: 14.1s\n",
            "119:\tlearn: 1502.1893843\ttotal: 3m 7s\tremaining: 0us\n"
          ]
        },
        {
          "data": {
            "text/html": [
              "<div>\n",
              "<style scoped>\n",
              "    .dataframe tbody tr th:only-of-type {\n",
              "        vertical-align: middle;\n",
              "    }\n",
              "\n",
              "    .dataframe tbody tr th {\n",
              "        vertical-align: top;\n",
              "    }\n",
              "\n",
              "    .dataframe thead th {\n",
              "        text-align: right;\n",
              "    }\n",
              "</style>\n",
              "<table border=\"1\" class=\"dataframe\">\n",
              "  <thead>\n",
              "    <tr style=\"text-align: right;\">\n",
              "      <th></th>\n",
              "      <th>Model</th>\n",
              "      <th>learning time, sec</th>\n",
              "      <th>prediction time, sec</th>\n",
              "      <th>RMSE, euro</th>\n",
              "    </tr>\n",
              "  </thead>\n",
              "  <tbody>\n",
              "    <tr>\n",
              "      <td>0</td>\n",
              "      <td>Linear Regression</td>\n",
              "      <td>27.962360</td>\n",
              "      <td>0.130547</td>\n",
              "      <td>2651.855799</td>\n",
              "    </tr>\n",
              "    <tr>\n",
              "      <td>1</td>\n",
              "      <td>Random Forest</td>\n",
              "      <td>73.742923</td>\n",
              "      <td>0.542571</td>\n",
              "      <td>1650.873298</td>\n",
              "    </tr>\n",
              "    <tr>\n",
              "      <td>2</td>\n",
              "      <td>Decision Tree</td>\n",
              "      <td>11.532035</td>\n",
              "      <td>0.162689</td>\n",
              "      <td>1932.501056</td>\n",
              "    </tr>\n",
              "    <tr>\n",
              "      <td>3</td>\n",
              "      <td>Catboost</td>\n",
              "      <td>30.726629</td>\n",
              "      <td>0.151101</td>\n",
              "      <td>2073.914951</td>\n",
              "    </tr>\n",
              "    <tr>\n",
              "      <td>4</td>\n",
              "      <td>LightGBM</td>\n",
              "      <td>14.986327</td>\n",
              "      <td>0.995269</td>\n",
              "      <td>1718.700250</td>\n",
              "    </tr>\n",
              "    <tr>\n",
              "      <td>5</td>\n",
              "      <td>LightGBM tuned</td>\n",
              "      <td>14.821785</td>\n",
              "      <td>0.884255</td>\n",
              "      <td>1793.161723</td>\n",
              "    </tr>\n",
              "    <tr>\n",
              "      <td>6</td>\n",
              "      <td>Catboost tuned</td>\n",
              "      <td>190.594275</td>\n",
              "      <td>0.333270</td>\n",
              "      <td>1637.482782</td>\n",
              "    </tr>\n",
              "  </tbody>\n",
              "</table>\n",
              "</div>"
            ],
            "text/plain": [
              "               Model  learning time, sec  prediction time, sec   RMSE, euro\n",
              "0  Linear Regression           27.962360              0.130547  2651.855799\n",
              "1      Random Forest           73.742923              0.542571  1650.873298\n",
              "2      Decision Tree           11.532035              0.162689  1932.501056\n",
              "3           Catboost           30.726629              0.151101  2073.914951\n",
              "4           LightGBM           14.986327              0.995269  1718.700250\n",
              "5     LightGBM tuned           14.821785              0.884255  1793.161723\n",
              "6     Catboost tuned          190.594275              0.333270  1637.482782"
            ]
          },
          "execution_count": 50,
          "metadata": {},
          "output_type": "execute_result"
        }
      ],
      "source": [
        "start_time = timeit.default_timer()\n",
        "\n",
        "model = CatBoostRegressor(loss_function=\"RMSE\", depth=15, learning_rate=0.08, iterations=120)\n",
        "model.fit(X_train, y_train, cat_features=cat_features, verbose=10)\n",
        "\n",
        "elapsed_fitting = timeit.default_timer() - start_time\n",
        "\n",
        "\n",
        "\n",
        "start_time = timeit.default_timer()\n",
        "\n",
        "predictions = model.predict(X_test)\n",
        "\n",
        "elapsed_prediction = timeit.default_timer() - start_time\n",
        "\n",
        "\n",
        "\n",
        "current_model = pd.DataFrame({'Model': ['Catboost tuned'],\n",
        "              'learning time, sec': [elapsed_fitting],\n",
        "              'prediction time, sec': [elapsed_prediction],\n",
        "              'RMSE, euro': [mean_squared_error(y_test, predictions)**0.5]})\n",
        "all_models = all_models.merge(current_model, how = 'outer')\n",
        "all_models"
      ]
    },
    {
      "cell_type": "markdown",
      "metadata": {
        "id": "Zii2d5g6zLRU"
      },
      "source": [
        "Градиентный бустинг CatBoost дал хорошее снижение RMSE до 1637 евро, однако длительность обучения - 3 минуты - вряд ли устроит заказчика. Посмотрим, что будет, если убрать незначимые признаки:"
      ]
    },
    {
      "cell_type": "code",
      "execution_count": null,
      "metadata": {
        "id": "Ad5aCDURzLRU",
        "outputId": "1808ffee-d8c5-4a61-df6c-aa32f38aa760"
      },
      "outputs": [
        {
          "data": {
            "text/plain": [
              "array([12.43960082, 33.37795244,  3.23603887, 20.17215337,  5.22599649,\n",
              "       13.90312978,  4.84749615,  6.50535272,  0.29227936])"
            ]
          },
          "execution_count": 51,
          "metadata": {},
          "output_type": "execute_result"
        }
      ],
      "source": [
        "model.feature_importances_"
      ]
    },
    {
      "cell_type": "code",
      "execution_count": null,
      "metadata": {
        "id": "gqzbuYDbzLRU",
        "outputId": "acbb06c0-5378-43fb-9103-e42d2c3d1053"
      },
      "outputs": [
        {
          "data": {
            "text/html": [
              "<div>\n",
              "<style scoped>\n",
              "    .dataframe tbody tr th:only-of-type {\n",
              "        vertical-align: middle;\n",
              "    }\n",
              "\n",
              "    .dataframe tbody tr th {\n",
              "        vertical-align: top;\n",
              "    }\n",
              "\n",
              "    .dataframe thead th {\n",
              "        text-align: right;\n",
              "    }\n",
              "</style>\n",
              "<table border=\"1\" class=\"dataframe\">\n",
              "  <thead>\n",
              "    <tr style=\"text-align: right;\">\n",
              "      <th></th>\n",
              "      <th>vehicle_type</th>\n",
              "      <th>registration_year</th>\n",
              "      <th>gearbox</th>\n",
              "      <th>power</th>\n",
              "      <th>model</th>\n",
              "      <th>brand</th>\n",
              "      <th>not_repaired</th>\n",
              "      <th>kilometer_cat</th>\n",
              "      <th>fuel_retyped</th>\n",
              "    </tr>\n",
              "  </thead>\n",
              "  <tbody>\n",
              "    <tr>\n",
              "      <td>135246</td>\n",
              "      <td>small</td>\n",
              "      <td>-0.669341</td>\n",
              "      <td>manual</td>\n",
              "      <td>-0.156082</td>\n",
              "      <td>3er</td>\n",
              "      <td>bmw</td>\n",
              "      <td>no</td>\n",
              "      <td>125K km and more</td>\n",
              "      <td>gasoline</td>\n",
              "    </tr>\n",
              "    <tr>\n",
              "      <td>274681</td>\n",
              "      <td>sedan</td>\n",
              "      <td>0.056825</td>\n",
              "      <td>manual</td>\n",
              "      <td>0.582736</td>\n",
              "      <td>3er</td>\n",
              "      <td>bmw</td>\n",
              "      <td>no</td>\n",
              "      <td>125K km and more</td>\n",
              "      <td>gasoline</td>\n",
              "    </tr>\n",
              "    <tr>\n",
              "      <td>260826</td>\n",
              "      <td>small</td>\n",
              "      <td>-0.088408</td>\n",
              "      <td>manual</td>\n",
              "      <td>-1.122227</td>\n",
              "      <td>c1</td>\n",
              "      <td>citroen</td>\n",
              "      <td>missing</td>\n",
              "      <td>125K km and more</td>\n",
              "      <td>gasoline</td>\n",
              "    </tr>\n",
              "    <tr>\n",
              "      <td>52599</td>\n",
              "      <td>missing</td>\n",
              "      <td>0.347292</td>\n",
              "      <td>auto</td>\n",
              "      <td>2.893907</td>\n",
              "      <td>7er</td>\n",
              "      <td>bmw</td>\n",
              "      <td>yes</td>\n",
              "      <td>125K km and more</td>\n",
              "      <td>missing</td>\n",
              "    </tr>\n",
              "    <tr>\n",
              "      <td>46397</td>\n",
              "      <td>small</td>\n",
              "      <td>-0.814574</td>\n",
              "      <td>manual</td>\n",
              "      <td>-0.553906</td>\n",
              "      <td>civic</td>\n",
              "      <td>honda</td>\n",
              "      <td>no</td>\n",
              "      <td>125K km and more</td>\n",
              "      <td>gasoline</td>\n",
              "    </tr>\n",
              "    <tr>\n",
              "      <td>...</td>\n",
              "      <td>...</td>\n",
              "      <td>...</td>\n",
              "      <td>...</td>\n",
              "      <td>...</td>\n",
              "      <td>...</td>\n",
              "      <td>...</td>\n",
              "      <td>...</td>\n",
              "      <td>...</td>\n",
              "      <td>...</td>\n",
              "    </tr>\n",
              "    <tr>\n",
              "      <td>218990</td>\n",
              "      <td>small</td>\n",
              "      <td>0.637759</td>\n",
              "      <td>manual</td>\n",
              "      <td>-0.516018</td>\n",
              "      <td>swift</td>\n",
              "      <td>suzuki</td>\n",
              "      <td>no</td>\n",
              "      <td>100-125K km</td>\n",
              "      <td>gasoline</td>\n",
              "    </tr>\n",
              "    <tr>\n",
              "      <td>293502</td>\n",
              "      <td>convertible</td>\n",
              "      <td>-0.378875</td>\n",
              "      <td>auto</td>\n",
              "      <td>0.184911</td>\n",
              "      <td>slk</td>\n",
              "      <td>mercedes_benz</td>\n",
              "      <td>missing</td>\n",
              "      <td>70-80K km</td>\n",
              "      <td>gasoline</td>\n",
              "    </tr>\n",
              "    <tr>\n",
              "      <td>241019</td>\n",
              "      <td>sedan</td>\n",
              "      <td>0.347292</td>\n",
              "      <td>auto</td>\n",
              "      <td>-0.193970</td>\n",
              "      <td>a_klasse</td>\n",
              "      <td>mercedes_benz</td>\n",
              "      <td>no</td>\n",
              "      <td>125K km and more</td>\n",
              "      <td>gasoline</td>\n",
              "    </tr>\n",
              "    <tr>\n",
              "      <td>293005</td>\n",
              "      <td>wagon</td>\n",
              "      <td>1.073459</td>\n",
              "      <td>manual</td>\n",
              "      <td>-0.269746</td>\n",
              "      <td>ibiza</td>\n",
              "      <td>seat</td>\n",
              "      <td>no</td>\n",
              "      <td>100-125K km</td>\n",
              "      <td>gasoline</td>\n",
              "    </tr>\n",
              "    <tr>\n",
              "      <td>137827</td>\n",
              "      <td>sedan</td>\n",
              "      <td>-1.976441</td>\n",
              "      <td>auto</td>\n",
              "      <td>2.515027</td>\n",
              "      <td>other</td>\n",
              "      <td>mercedes_benz</td>\n",
              "      <td>no</td>\n",
              "      <td>125K km and more</td>\n",
              "      <td>gasoline</td>\n",
              "    </tr>\n",
              "  </tbody>\n",
              "</table>\n",
              "<p>262553 rows × 9 columns</p>\n",
              "</div>"
            ],
            "text/plain": [
              "       vehicle_type  registration_year gearbox     power     model  \\\n",
              "135246        small          -0.669341  manual -0.156082       3er   \n",
              "274681        sedan           0.056825  manual  0.582736       3er   \n",
              "260826        small          -0.088408  manual -1.122227        c1   \n",
              "52599       missing           0.347292    auto  2.893907       7er   \n",
              "46397         small          -0.814574  manual -0.553906     civic   \n",
              "...             ...                ...     ...       ...       ...   \n",
              "218990        small           0.637759  manual -0.516018     swift   \n",
              "293502  convertible          -0.378875    auto  0.184911       slk   \n",
              "241019        sedan           0.347292    auto -0.193970  a_klasse   \n",
              "293005        wagon           1.073459  manual -0.269746     ibiza   \n",
              "137827        sedan          -1.976441    auto  2.515027     other   \n",
              "\n",
              "                brand not_repaired     kilometer_cat fuel_retyped  \n",
              "135246            bmw           no  125K km and more     gasoline  \n",
              "274681            bmw           no  125K km and more     gasoline  \n",
              "260826        citroen      missing  125K km and more     gasoline  \n",
              "52599             bmw          yes  125K km and more      missing  \n",
              "46397           honda           no  125K km and more     gasoline  \n",
              "...               ...          ...               ...          ...  \n",
              "218990         suzuki           no       100-125K km     gasoline  \n",
              "293502  mercedes_benz      missing         70-80K km     gasoline  \n",
              "241019  mercedes_benz           no  125K km and more     gasoline  \n",
              "293005           seat           no       100-125K km     gasoline  \n",
              "137827  mercedes_benz           no  125K km and more     gasoline  \n",
              "\n",
              "[262553 rows x 9 columns]"
            ]
          },
          "execution_count": 52,
          "metadata": {},
          "output_type": "execute_result"
        }
      ],
      "source": [
        "X_train"
      ]
    },
    {
      "cell_type": "markdown",
      "metadata": {
        "id": "lWuaIPcYzLRU"
      },
      "source": [
        "Менее 1% вкладывает в изменение итоговой цены тип топлива. Также до 5% значимость типа коробки передач и наличие информации о пройденном ремонте. Удалим эти 3 признака и посмотрим на изменение модели CatBoost:"
      ]
    },
    {
      "cell_type": "code",
      "execution_count": null,
      "metadata": {
        "id": "X7nNTtY8zLRU",
        "outputId": "14d6ce30-0c83-4c71-a542-a81a6300e4bb"
      },
      "outputs": [
        {
          "name": "stdout",
          "output_type": "stream",
          "text": [
            "0:\tlearn: 4282.0190388\ttotal: 1.24s\tremaining: 2m 27s\n",
            "10:\tlearn: 2712.5273849\ttotal: 14.1s\tremaining: 2m 19s\n",
            "20:\tlearn: 2118.4619982\ttotal: 26.8s\tremaining: 2m 6s\n",
            "30:\tlearn: 1896.9087148\ttotal: 39.2s\tremaining: 1m 52s\n",
            "40:\tlearn: 1792.2647090\ttotal: 52.1s\tremaining: 1m 40s\n",
            "50:\tlearn: 1735.5196484\ttotal: 1m 5s\tremaining: 1m 28s\n",
            "60:\tlearn: 1703.6648923\ttotal: 1m 18s\tremaining: 1m 15s\n",
            "70:\tlearn: 1683.4570858\ttotal: 1m 30s\tremaining: 1m 2s\n",
            "80:\tlearn: 1666.6964653\ttotal: 1m 42s\tremaining: 49.4s\n",
            "90:\tlearn: 1645.6480774\ttotal: 1m 54s\tremaining: 36.6s\n",
            "100:\tlearn: 1628.8938948\ttotal: 2m 6s\tremaining: 23.8s\n",
            "110:\tlearn: 1612.8463863\ttotal: 2m 19s\tremaining: 11.3s\n",
            "119:\tlearn: 1600.5274592\ttotal: 2m 30s\tremaining: 0us\n"
          ]
        },
        {
          "data": {
            "text/html": [
              "<div>\n",
              "<style scoped>\n",
              "    .dataframe tbody tr th:only-of-type {\n",
              "        vertical-align: middle;\n",
              "    }\n",
              "\n",
              "    .dataframe tbody tr th {\n",
              "        vertical-align: top;\n",
              "    }\n",
              "\n",
              "    .dataframe thead th {\n",
              "        text-align: right;\n",
              "    }\n",
              "</style>\n",
              "<table border=\"1\" class=\"dataframe\">\n",
              "  <thead>\n",
              "    <tr style=\"text-align: right;\">\n",
              "      <th></th>\n",
              "      <th>Model</th>\n",
              "      <th>learning time, sec</th>\n",
              "      <th>prediction time, sec</th>\n",
              "      <th>RMSE, euro</th>\n",
              "    </tr>\n",
              "  </thead>\n",
              "  <tbody>\n",
              "    <tr>\n",
              "      <td>0</td>\n",
              "      <td>Linear Regression</td>\n",
              "      <td>27.962360</td>\n",
              "      <td>0.130547</td>\n",
              "      <td>2651.855799</td>\n",
              "    </tr>\n",
              "    <tr>\n",
              "      <td>1</td>\n",
              "      <td>Random Forest</td>\n",
              "      <td>73.742923</td>\n",
              "      <td>0.542571</td>\n",
              "      <td>1650.873298</td>\n",
              "    </tr>\n",
              "    <tr>\n",
              "      <td>2</td>\n",
              "      <td>Decision Tree</td>\n",
              "      <td>11.532035</td>\n",
              "      <td>0.162689</td>\n",
              "      <td>1932.501056</td>\n",
              "    </tr>\n",
              "    <tr>\n",
              "      <td>3</td>\n",
              "      <td>Catboost</td>\n",
              "      <td>30.726629</td>\n",
              "      <td>0.151101</td>\n",
              "      <td>2073.914951</td>\n",
              "    </tr>\n",
              "    <tr>\n",
              "      <td>4</td>\n",
              "      <td>LightGBM</td>\n",
              "      <td>14.986327</td>\n",
              "      <td>0.995269</td>\n",
              "      <td>1718.700250</td>\n",
              "    </tr>\n",
              "    <tr>\n",
              "      <td>5</td>\n",
              "      <td>LightGBM tuned</td>\n",
              "      <td>14.821785</td>\n",
              "      <td>0.884255</td>\n",
              "      <td>1793.161723</td>\n",
              "    </tr>\n",
              "    <tr>\n",
              "      <td>6</td>\n",
              "      <td>Catboost tuned</td>\n",
              "      <td>190.594275</td>\n",
              "      <td>0.333270</td>\n",
              "      <td>1637.482782</td>\n",
              "    </tr>\n",
              "    <tr>\n",
              "      <td>7</td>\n",
              "      <td>Catboost desreased</td>\n",
              "      <td>153.138955</td>\n",
              "      <td>0.190466</td>\n",
              "      <td>1708.249025</td>\n",
              "    </tr>\n",
              "  </tbody>\n",
              "</table>\n",
              "</div>"
            ],
            "text/plain": [
              "                Model  learning time, sec  prediction time, sec   RMSE, euro\n",
              "0   Linear Regression           27.962360              0.130547  2651.855799\n",
              "1       Random Forest           73.742923              0.542571  1650.873298\n",
              "2       Decision Tree           11.532035              0.162689  1932.501056\n",
              "3            Catboost           30.726629              0.151101  2073.914951\n",
              "4            LightGBM           14.986327              0.995269  1718.700250\n",
              "5      LightGBM tuned           14.821785              0.884255  1793.161723\n",
              "6      Catboost tuned          190.594275              0.333270  1637.482782\n",
              "7  Catboost desreased          153.138955              0.190466  1708.249025"
            ]
          },
          "execution_count": 54,
          "metadata": {},
          "output_type": "execute_result"
        }
      ],
      "source": [
        "start_time = timeit.default_timer()\n",
        "cat_features = ['vehicle_type', 'model', 'brand', 'kilometer_cat']\n",
        "model = CatBoostRegressor(loss_function=\"RMSE\", depth=15, learning_rate=0.08, iterations=120)\n",
        "model.fit(X_train.drop(['fuel_retyped', 'gearbox', 'not_repaired'], axis=1), y_train, cat_features=cat_features, verbose=10)\n",
        "\n",
        "elapsed_fitting = timeit.default_timer() - start_time\n",
        "\n",
        "\n",
        "\n",
        "start_time = timeit.default_timer()\n",
        "\n",
        "predictions = model.predict(X_test.drop(['fuel_retyped', 'gearbox', 'not_repaired'], axis=1))\n",
        "\n",
        "elapsed_prediction = timeit.default_timer() - start_time\n",
        "\n",
        "\n",
        "\n",
        "current_model = pd.DataFrame({'Model': ['Catboost desreased'],\n",
        "              'learning time, sec': [elapsed_fitting],\n",
        "              'prediction time, sec': [elapsed_prediction],\n",
        "              'RMSE, euro': [mean_squared_error(y_test, predictions)**0.5]})\n",
        "all_models = all_models.merge(current_model, how = 'outer')\n",
        "all_models"
      ]
    },
    {
      "cell_type": "markdown",
      "metadata": {
        "id": "YdeYnZv7zLRU"
      },
      "source": [
        "Модель стала проще (быстрее) обучаться, RMSE не понизился, но повысился не существенно, однако длительность обучения сократилась недостаточно. Можно ещё настроить гиперпараметры модели и попробовать добавить вычислительных ресурсов, чтобы сократить длительность обучения."
      ]
    },
    {
      "cell_type": "markdown",
      "metadata": {
        "id": "8_w4ZcEmzLRU"
      },
      "source": [
        "## Вывод"
      ]
    },
    {
      "cell_type": "markdown",
      "metadata": {
        "id": "-IPYpsfgzLRV"
      },
      "source": [
        "Мы создали модель предсказания стоимости автомобилей для сервиса \"Не бит, не крашен\". Наилучший вариант - градиентный бустинг  LightGBM, с помощью которого удалось добиться ключевой метрики RMSE на уровне 1719 евро. С подобранными параметрами модель обучается 15 секунд."
      ]
    }
  ],
  "metadata": {
    "ExecuteTimeLog": [
      {
        "duration": 1495,
        "start_time": "2022-01-26T17:55:13.533Z"
      },
      {
        "duration": 1291,
        "start_time": "2022-01-26T17:56:01.496Z"
      },
      {
        "duration": 888,
        "start_time": "2022-01-26T18:00:42.796Z"
      },
      {
        "duration": 5056,
        "start_time": "2022-01-26T18:04:13.625Z"
      },
      {
        "duration": 4184,
        "start_time": "2022-01-26T18:04:23.392Z"
      },
      {
        "duration": 3865,
        "start_time": "2022-01-26T18:05:07.402Z"
      },
      {
        "duration": 1160,
        "start_time": "2022-01-26T18:06:39.402Z"
      },
      {
        "duration": 5931,
        "start_time": "2022-02-12T13:40:16.647Z"
      },
      {
        "duration": 1442,
        "start_time": "2022-02-12T13:40:27.047Z"
      },
      {
        "duration": 632,
        "start_time": "2022-02-12T13:40:43.613Z"
      },
      {
        "duration": 3892,
        "start_time": "2022-02-12T13:40:46.365Z"
      },
      {
        "duration": 1213,
        "start_time": "2022-02-12T13:41:03.614Z"
      },
      {
        "duration": 1353,
        "start_time": "2022-02-12T13:47:59.517Z"
      },
      {
        "duration": 1780,
        "start_time": "2022-02-12T13:48:10.331Z"
      },
      {
        "duration": 116,
        "start_time": "2022-02-12T13:48:54.198Z"
      },
      {
        "duration": 3816,
        "start_time": "2022-02-12T13:49:03.462Z"
      },
      {
        "duration": 84,
        "start_time": "2022-02-12T13:49:41.910Z"
      },
      {
        "duration": 6,
        "start_time": "2022-02-12T13:56:26.619Z"
      },
      {
        "duration": 6,
        "start_time": "2022-02-12T13:56:35.744Z"
      },
      {
        "duration": 5,
        "start_time": "2022-02-12T13:56:42.135Z"
      },
      {
        "duration": 86,
        "start_time": "2022-02-12T13:58:24.992Z"
      },
      {
        "duration": 623,
        "start_time": "2022-02-12T13:58:30.815Z"
      },
      {
        "duration": 7,
        "start_time": "2022-02-12T13:58:41.703Z"
      },
      {
        "duration": 266,
        "start_time": "2022-02-12T13:59:29.601Z"
      },
      {
        "duration": 7,
        "start_time": "2022-02-12T13:59:46.712Z"
      },
      {
        "duration": 84,
        "start_time": "2022-02-12T14:00:18.241Z"
      },
      {
        "duration": 95,
        "start_time": "2022-02-12T14:00:25.687Z"
      },
      {
        "duration": 6,
        "start_time": "2022-02-12T14:00:32.480Z"
      },
      {
        "duration": 7,
        "start_time": "2022-02-12T14:01:09.432Z"
      },
      {
        "duration": 79,
        "start_time": "2022-02-12T14:01:18.000Z"
      },
      {
        "duration": 7,
        "start_time": "2022-02-12T14:01:28.095Z"
      },
      {
        "duration": 262,
        "start_time": "2022-02-12T14:06:05.076Z"
      },
      {
        "duration": 8,
        "start_time": "2022-02-12T14:06:33.249Z"
      },
      {
        "duration": 7,
        "start_time": "2022-02-12T14:06:44.489Z"
      },
      {
        "duration": 7,
        "start_time": "2022-02-12T14:30:04.179Z"
      },
      {
        "duration": 8,
        "start_time": "2022-02-12T14:30:21.563Z"
      },
      {
        "duration": 274,
        "start_time": "2022-02-12T14:30:30.698Z"
      },
      {
        "duration": 7,
        "start_time": "2022-02-12T14:31:28.403Z"
      },
      {
        "duration": 5,
        "start_time": "2022-02-12T14:31:36.195Z"
      },
      {
        "duration": 9,
        "start_time": "2022-02-12T14:31:45.963Z"
      },
      {
        "duration": 7,
        "start_time": "2022-02-12T14:32:05.155Z"
      },
      {
        "duration": 261,
        "start_time": "2022-02-12T14:33:05.308Z"
      },
      {
        "duration": 9,
        "start_time": "2022-02-12T14:33:25.012Z"
      },
      {
        "duration": 91,
        "start_time": "2022-02-12T14:34:18.067Z"
      },
      {
        "duration": 104,
        "start_time": "2022-02-12T14:34:30.036Z"
      },
      {
        "duration": 342,
        "start_time": "2022-02-12T14:34:35.564Z"
      },
      {
        "duration": 282,
        "start_time": "2022-02-12T14:35:14.732Z"
      },
      {
        "duration": 307,
        "start_time": "2022-02-12T14:35:50.227Z"
      },
      {
        "duration": 10,
        "start_time": "2022-02-12T14:36:14.252Z"
      },
      {
        "duration": 10,
        "start_time": "2022-02-12T14:36:36.828Z"
      },
      {
        "duration": 8,
        "start_time": "2022-02-12T14:37:07.148Z"
      },
      {
        "duration": 10,
        "start_time": "2022-02-12T14:37:36.692Z"
      },
      {
        "duration": 11,
        "start_time": "2022-02-12T14:38:03.020Z"
      },
      {
        "duration": 9,
        "start_time": "2022-02-12T14:38:23.204Z"
      },
      {
        "duration": 6,
        "start_time": "2022-02-12T14:39:49.165Z"
      },
      {
        "duration": 8,
        "start_time": "2022-02-12T14:39:58.932Z"
      },
      {
        "duration": 7,
        "start_time": "2022-02-12T14:40:11.532Z"
      },
      {
        "duration": 158,
        "start_time": "2022-02-12T14:40:25.093Z"
      },
      {
        "duration": 162,
        "start_time": "2022-02-12T14:40:55.021Z"
      },
      {
        "duration": 200,
        "start_time": "2022-02-12T14:40:59.388Z"
      },
      {
        "duration": 1222,
        "start_time": "2022-02-12T14:41:06.761Z"
      },
      {
        "duration": 170,
        "start_time": "2022-02-12T14:41:15.316Z"
      },
      {
        "duration": 159,
        "start_time": "2022-02-12T14:41:25.316Z"
      },
      {
        "duration": 298,
        "start_time": "2022-02-12T14:42:30.917Z"
      },
      {
        "duration": 3851,
        "start_time": "2022-02-12T14:42:38.589Z"
      },
      {
        "duration": 9269383,
        "start_time": "2022-02-12T14:42:54.908Z"
      },
      {
        "duration": 1251,
        "start_time": "2022-02-12T17:17:23.046Z"
      },
      {
        "duration": 8,
        "start_time": "2022-02-12T17:17:34.599Z"
      },
      {
        "duration": 962,
        "start_time": "2022-02-12T17:18:07.176Z"
      },
      {
        "duration": 1193,
        "start_time": "2022-02-12T17:18:48.227Z"
      },
      {
        "duration": 551,
        "start_time": "2022-02-12T17:19:43.656Z"
      },
      {
        "duration": 421,
        "start_time": "2022-02-12T17:19:51.832Z"
      },
      {
        "duration": 6572,
        "start_time": "2022-02-12T17:22:56.512Z"
      },
      {
        "duration": 6375,
        "start_time": "2022-02-12T17:23:18.649Z"
      },
      {
        "duration": 6659,
        "start_time": "2022-02-12T17:23:33.602Z"
      },
      {
        "duration": 567,
        "start_time": "2022-02-12T17:23:57.416Z"
      },
      {
        "duration": 24,
        "start_time": "2022-02-12T17:24:14.240Z"
      },
      {
        "duration": 14,
        "start_time": "2022-02-12T17:25:00.328Z"
      },
      {
        "duration": 12,
        "start_time": "2022-02-12T17:25:05.464Z"
      },
      {
        "duration": 10,
        "start_time": "2022-02-12T17:25:14.063Z"
      },
      {
        "duration": 23,
        "start_time": "2022-02-12T17:25:19.768Z"
      },
      {
        "duration": 35,
        "start_time": "2022-02-12T17:28:23.601Z"
      },
      {
        "duration": 41,
        "start_time": "2022-02-12T17:29:18.893Z"
      },
      {
        "duration": 23,
        "start_time": "2022-02-12T17:29:51.553Z"
      },
      {
        "duration": 27,
        "start_time": "2022-02-12T17:30:00.762Z"
      },
      {
        "duration": 101,
        "start_time": "2022-02-12T17:30:08.209Z"
      },
      {
        "duration": 109,
        "start_time": "2022-02-12T17:31:22.154Z"
      },
      {
        "duration": 105,
        "start_time": "2022-02-12T17:31:48.441Z"
      },
      {
        "duration": 108,
        "start_time": "2022-02-12T17:31:58.809Z"
      },
      {
        "duration": 102,
        "start_time": "2022-02-12T17:32:11.497Z"
      },
      {
        "duration": 109,
        "start_time": "2022-02-12T17:32:31.473Z"
      },
      {
        "duration": 1109,
        "start_time": "2022-02-12T17:34:23.513Z"
      },
      {
        "duration": 3900,
        "start_time": "2022-02-12T17:34:54.569Z"
      },
      {
        "duration": 8,
        "start_time": "2022-02-12T17:35:26.263Z"
      },
      {
        "duration": 246,
        "start_time": "2022-02-12T17:35:44.014Z"
      },
      {
        "duration": 13,
        "start_time": "2022-02-12T17:36:21.097Z"
      },
      {
        "duration": 13,
        "start_time": "2022-02-12T17:37:03.562Z"
      },
      {
        "duration": 12,
        "start_time": "2022-02-12T17:37:16.641Z"
      },
      {
        "duration": 426,
        "start_time": "2022-02-12T17:38:32.683Z"
      },
      {
        "duration": 398,
        "start_time": "2022-02-12T17:38:41.419Z"
      },
      {
        "duration": 219,
        "start_time": "2022-02-12T17:46:13.731Z"
      },
      {
        "duration": 10,
        "start_time": "2022-02-12T17:47:31.252Z"
      },
      {
        "duration": 75,
        "start_time": "2022-02-12T17:47:49.923Z"
      },
      {
        "duration": 46,
        "start_time": "2022-02-12T17:47:57.547Z"
      },
      {
        "duration": 49,
        "start_time": "2022-02-12T17:51:30.435Z"
      },
      {
        "duration": 48,
        "start_time": "2022-02-12T17:51:37.315Z"
      },
      {
        "duration": 26,
        "start_time": "2022-02-12T17:52:01.395Z"
      },
      {
        "duration": 361,
        "start_time": "2022-02-12T17:52:34.435Z"
      },
      {
        "duration": 25,
        "start_time": "2022-02-12T17:53:22.836Z"
      },
      {
        "duration": 284,
        "start_time": "2022-02-12T17:55:15.699Z"
      },
      {
        "duration": 243,
        "start_time": "2022-02-12T17:55:26.332Z"
      },
      {
        "duration": 488,
        "start_time": "2022-02-12T17:55:52.543Z"
      },
      {
        "duration": 233,
        "start_time": "2022-02-12T17:55:58.547Z"
      },
      {
        "duration": 275,
        "start_time": "2022-02-12T17:56:14.611Z"
      },
      {
        "duration": 34,
        "start_time": "2022-02-12T17:56:42.861Z"
      },
      {
        "duration": 96,
        "start_time": "2022-02-12T17:59:26.692Z"
      },
      {
        "duration": 576,
        "start_time": "2022-02-12T17:59:37.364Z"
      },
      {
        "duration": 179,
        "start_time": "2022-02-12T18:00:41.438Z"
      },
      {
        "duration": 29,
        "start_time": "2022-02-12T18:01:21.685Z"
      },
      {
        "duration": 451,
        "start_time": "2022-02-12T18:01:57.165Z"
      },
      {
        "duration": 224,
        "start_time": "2022-02-12T18:02:13.204Z"
      },
      {
        "duration": 323,
        "start_time": "2022-02-12T18:02:23.309Z"
      },
      {
        "duration": 480,
        "start_time": "2022-02-12T18:03:24.964Z"
      },
      {
        "duration": 478,
        "start_time": "2022-02-12T18:04:22.254Z"
      },
      {
        "duration": 487,
        "start_time": "2022-02-12T18:04:32.581Z"
      },
      {
        "duration": 748,
        "start_time": "2022-02-12T18:04:47.484Z"
      },
      {
        "duration": 521,
        "start_time": "2022-02-12T18:05:19.156Z"
      },
      {
        "duration": 504,
        "start_time": "2022-02-12T18:05:56.692Z"
      },
      {
        "duration": 507,
        "start_time": "2022-02-12T18:06:31.413Z"
      },
      {
        "duration": 514,
        "start_time": "2022-02-12T18:07:17.558Z"
      },
      {
        "duration": 490,
        "start_time": "2022-02-12T18:08:26.293Z"
      },
      {
        "duration": 29,
        "start_time": "2022-02-12T18:10:13.878Z"
      },
      {
        "duration": 26,
        "start_time": "2022-02-12T18:10:30.365Z"
      },
      {
        "duration": 126,
        "start_time": "2022-02-12T18:12:03.950Z"
      },
      {
        "duration": 142,
        "start_time": "2022-02-12T18:12:12.037Z"
      },
      {
        "duration": 148,
        "start_time": "2022-02-12T18:12:45.334Z"
      },
      {
        "duration": 81,
        "start_time": "2022-02-12T18:15:25.282Z"
      },
      {
        "duration": 401,
        "start_time": "2022-02-12T18:15:34.127Z"
      },
      {
        "duration": 152,
        "start_time": "2022-02-12T18:15:52.093Z"
      },
      {
        "duration": 582,
        "start_time": "2022-02-12T18:18:01.574Z"
      },
      {
        "duration": 151,
        "start_time": "2022-02-12T18:18:55.454Z"
      },
      {
        "duration": 552,
        "start_time": "2022-02-12T18:22:11.056Z"
      },
      {
        "duration": 576,
        "start_time": "2022-02-12T18:22:29.383Z"
      },
      {
        "duration": 407,
        "start_time": "2022-02-12T18:23:11.574Z"
      },
      {
        "duration": 22,
        "start_time": "2022-02-12T18:25:01.343Z"
      },
      {
        "duration": 9,
        "start_time": "2022-02-12T18:26:09.150Z"
      },
      {
        "duration": 11,
        "start_time": "2022-02-12T18:26:20.870Z"
      },
      {
        "duration": 10,
        "start_time": "2022-02-12T18:27:19.142Z"
      },
      {
        "duration": 9,
        "start_time": "2022-02-12T18:27:38.846Z"
      },
      {
        "duration": 9,
        "start_time": "2022-02-12T18:27:45.342Z"
      },
      {
        "duration": 10,
        "start_time": "2022-02-12T18:27:51.918Z"
      },
      {
        "duration": 259,
        "start_time": "2022-02-12T18:29:50.511Z"
      },
      {
        "duration": 338,
        "start_time": "2022-02-12T18:31:35.936Z"
      },
      {
        "duration": 13,
        "start_time": "2022-02-12T18:32:09.423Z"
      },
      {
        "duration": 95,
        "start_time": "2022-02-12T18:32:54.319Z"
      },
      {
        "duration": 280,
        "start_time": "2022-02-12T18:33:00.103Z"
      },
      {
        "duration": 17,
        "start_time": "2022-02-12T18:36:01.633Z"
      },
      {
        "duration": 12,
        "start_time": "2022-02-12T18:36:20.632Z"
      },
      {
        "duration": 216,
        "start_time": "2022-02-12T18:37:59.456Z"
      },
      {
        "duration": 12,
        "start_time": "2022-02-12T18:38:52.247Z"
      },
      {
        "duration": 8,
        "start_time": "2022-02-12T18:39:25.935Z"
      },
      {
        "duration": 10,
        "start_time": "2022-02-12T18:39:58.456Z"
      },
      {
        "duration": 12,
        "start_time": "2022-02-12T18:40:36.496Z"
      },
      {
        "duration": 11,
        "start_time": "2022-02-12T18:40:38.824Z"
      },
      {
        "duration": 249,
        "start_time": "2022-02-12T18:51:00.226Z"
      },
      {
        "duration": 559,
        "start_time": "2022-02-12T18:52:57.953Z"
      },
      {
        "duration": 508,
        "start_time": "2022-02-12T18:53:05.026Z"
      },
      {
        "duration": 471,
        "start_time": "2022-02-12T18:54:06.059Z"
      },
      {
        "duration": 490,
        "start_time": "2022-02-12T18:55:16.185Z"
      },
      {
        "duration": 24,
        "start_time": "2022-02-12T18:55:44.682Z"
      },
      {
        "duration": 29,
        "start_time": "2022-02-12T18:57:57.107Z"
      },
      {
        "duration": 23,
        "start_time": "2022-02-12T18:58:05.803Z"
      },
      {
        "duration": 14,
        "start_time": "2022-02-12T18:59:36.394Z"
      },
      {
        "duration": 13,
        "start_time": "2022-02-12T18:59:45.002Z"
      },
      {
        "duration": 13,
        "start_time": "2022-02-12T18:59:52.163Z"
      },
      {
        "duration": 11,
        "start_time": "2022-02-12T19:00:04.210Z"
      },
      {
        "duration": 11,
        "start_time": "2022-02-12T19:00:10.546Z"
      },
      {
        "duration": 10,
        "start_time": "2022-02-12T19:00:16.906Z"
      },
      {
        "duration": 18,
        "start_time": "2022-02-12T19:00:25.907Z"
      },
      {
        "duration": 11,
        "start_time": "2022-02-12T19:00:32.602Z"
      },
      {
        "duration": 13,
        "start_time": "2022-02-12T19:00:37.026Z"
      },
      {
        "duration": 22,
        "start_time": "2022-02-12T19:00:58.594Z"
      },
      {
        "duration": 68,
        "start_time": "2022-02-12T19:04:02.799Z"
      },
      {
        "duration": 101,
        "start_time": "2022-02-12T19:06:32.232Z"
      },
      {
        "duration": 82,
        "start_time": "2022-02-12T19:07:01.317Z"
      },
      {
        "duration": 38,
        "start_time": "2022-02-12T19:09:19.747Z"
      },
      {
        "duration": 34,
        "start_time": "2022-02-12T19:10:12.403Z"
      },
      {
        "duration": 44,
        "start_time": "2022-02-12T19:10:29.740Z"
      },
      {
        "duration": 41,
        "start_time": "2022-02-12T19:10:50.068Z"
      },
      {
        "duration": 34,
        "start_time": "2022-02-12T19:11:22.911Z"
      },
      {
        "duration": 1774,
        "start_time": "2022-02-12T19:13:04.108Z"
      },
      {
        "duration": 13,
        "start_time": "2022-02-12T19:13:45.691Z"
      },
      {
        "duration": 9,
        "start_time": "2022-02-12T19:15:21.916Z"
      },
      {
        "duration": 12,
        "start_time": "2022-02-12T19:15:30.172Z"
      },
      {
        "duration": 10,
        "start_time": "2022-02-12T19:15:48.443Z"
      },
      {
        "duration": 163,
        "start_time": "2022-02-12T19:24:09.021Z"
      },
      {
        "duration": 18,
        "start_time": "2022-02-12T19:24:35.109Z"
      },
      {
        "duration": 28,
        "start_time": "2022-02-12T19:25:31.316Z"
      },
      {
        "duration": 128,
        "start_time": "2022-02-12T19:26:31.197Z"
      },
      {
        "duration": 4807,
        "start_time": "2022-02-12T19:27:22.288Z"
      },
      {
        "duration": 1312,
        "start_time": "2022-02-12T19:27:27.098Z"
      },
      {
        "duration": 174,
        "start_time": "2022-02-12T19:27:28.413Z"
      },
      {
        "duration": 655,
        "start_time": "2022-02-12T19:27:28.590Z"
      },
      {
        "duration": 1414,
        "start_time": "2022-02-12T19:27:29.247Z"
      },
      {
        "duration": 4107,
        "start_time": "2022-02-12T19:27:30.669Z"
      },
      {
        "duration": 417,
        "start_time": "2022-02-12T19:27:34.779Z"
      },
      {
        "duration": 26,
        "start_time": "2022-02-12T19:27:35.199Z"
      },
      {
        "duration": 128,
        "start_time": "2022-02-12T19:27:35.228Z"
      },
      {
        "duration": 475,
        "start_time": "2022-02-12T19:27:35.359Z"
      },
      {
        "duration": 252,
        "start_time": "2022-02-12T19:27:35.837Z"
      },
      {
        "duration": 500,
        "start_time": "2022-02-12T19:27:36.092Z"
      },
      {
        "duration": 543,
        "start_time": "2022-02-12T19:27:36.594Z"
      },
      {
        "duration": 87,
        "start_time": "2022-02-12T19:27:37.139Z"
      },
      {
        "duration": 1431,
        "start_time": "2022-02-12T19:27:35.798Z"
      },
      {
        "duration": 1427,
        "start_time": "2022-02-12T19:27:35.804Z"
      },
      {
        "duration": 1424,
        "start_time": "2022-02-12T19:27:35.808Z"
      },
      {
        "duration": 1423,
        "start_time": "2022-02-12T19:27:35.811Z"
      },
      {
        "duration": 1421,
        "start_time": "2022-02-12T19:27:35.815Z"
      },
      {
        "duration": 1409,
        "start_time": "2022-02-12T19:27:35.829Z"
      },
      {
        "duration": 1402,
        "start_time": "2022-02-12T19:27:35.838Z"
      },
      {
        "duration": 1400,
        "start_time": "2022-02-12T19:27:35.841Z"
      },
      {
        "duration": 1399,
        "start_time": "2022-02-12T19:27:35.844Z"
      },
      {
        "duration": 1399,
        "start_time": "2022-02-12T19:27:35.846Z"
      },
      {
        "duration": 1391,
        "start_time": "2022-02-12T19:27:35.855Z"
      },
      {
        "duration": 1390,
        "start_time": "2022-02-12T19:27:35.858Z"
      },
      {
        "duration": 22,
        "start_time": "2022-02-12T19:27:58.294Z"
      },
      {
        "duration": 12,
        "start_time": "2022-02-12T19:27:58.319Z"
      },
      {
        "duration": 11,
        "start_time": "2022-02-12T19:27:58.334Z"
      },
      {
        "duration": 266,
        "start_time": "2022-02-12T19:27:58.348Z"
      },
      {
        "duration": 442,
        "start_time": "2022-02-12T19:27:58.617Z"
      },
      {
        "duration": 25,
        "start_time": "2022-02-12T19:27:59.061Z"
      },
      {
        "duration": 10,
        "start_time": "2022-02-12T19:27:59.089Z"
      },
      {
        "duration": 10,
        "start_time": "2022-02-12T19:27:59.103Z"
      },
      {
        "duration": 70,
        "start_time": "2022-02-12T19:27:59.116Z"
      },
      {
        "duration": 1894,
        "start_time": "2022-02-12T19:27:59.189Z"
      },
      {
        "duration": 7,
        "start_time": "2022-02-12T19:28:01.085Z"
      },
      {
        "duration": 28,
        "start_time": "2022-02-12T19:28:01.094Z"
      },
      {
        "duration": 105,
        "start_time": "2022-02-12T19:28:48.223Z"
      },
      {
        "duration": 105,
        "start_time": "2022-02-12T19:29:14.958Z"
      },
      {
        "duration": 94,
        "start_time": "2022-02-12T19:30:12.046Z"
      },
      {
        "duration": 456,
        "start_time": "2022-02-12T19:30:33.774Z"
      },
      {
        "duration": 23,
        "start_time": "2022-02-12T19:30:53.390Z"
      },
      {
        "duration": 241,
        "start_time": "2022-02-12T19:31:20.654Z"
      },
      {
        "duration": 27,
        "start_time": "2022-02-12T19:31:32.415Z"
      },
      {
        "duration": 105,
        "start_time": "2022-02-12T19:32:18.398Z"
      },
      {
        "duration": 119,
        "start_time": "2022-02-12T19:32:37.870Z"
      },
      {
        "duration": 161,
        "start_time": "2022-02-12T19:34:09.999Z"
      },
      {
        "duration": 305,
        "start_time": "2022-02-12T19:36:32.399Z"
      },
      {
        "duration": 10366,
        "start_time": "2022-02-12T19:38:25.072Z"
      },
      {
        "duration": 42,
        "start_time": "2022-02-12T19:38:56.352Z"
      },
      {
        "duration": 530,
        "start_time": "2022-02-12T19:41:06.535Z"
      },
      {
        "duration": 9029,
        "start_time": "2022-02-13T13:24:55.582Z"
      },
      {
        "duration": 1569,
        "start_time": "2022-02-13T13:25:04.614Z"
      },
      {
        "duration": 233,
        "start_time": "2022-02-13T13:25:06.187Z"
      },
      {
        "duration": 677,
        "start_time": "2022-02-13T13:25:06.423Z"
      },
      {
        "duration": 1316,
        "start_time": "2022-02-13T13:25:07.103Z"
      },
      {
        "duration": 4078,
        "start_time": "2022-02-13T13:25:08.421Z"
      },
      {
        "duration": 458,
        "start_time": "2022-02-13T13:25:12.501Z"
      },
      {
        "duration": 173,
        "start_time": "2022-02-13T13:25:12.967Z"
      },
      {
        "duration": 108,
        "start_time": "2022-02-13T13:25:13.142Z"
      },
      {
        "duration": 410,
        "start_time": "2022-02-13T13:25:13.253Z"
      },
      {
        "duration": 247,
        "start_time": "2022-02-13T13:25:13.666Z"
      },
      {
        "duration": 489,
        "start_time": "2022-02-13T13:25:13.916Z"
      },
      {
        "duration": 595,
        "start_time": "2022-02-13T13:25:14.408Z"
      },
      {
        "duration": 22,
        "start_time": "2022-02-13T13:25:15.005Z"
      },
      {
        "duration": 35,
        "start_time": "2022-02-13T13:25:15.030Z"
      },
      {
        "duration": 11,
        "start_time": "2022-02-13T13:25:15.067Z"
      },
      {
        "duration": 258,
        "start_time": "2022-02-13T13:25:15.081Z"
      },
      {
        "duration": 470,
        "start_time": "2022-02-13T13:25:15.342Z"
      },
      {
        "duration": 25,
        "start_time": "2022-02-13T13:25:15.815Z"
      },
      {
        "duration": 14,
        "start_time": "2022-02-13T13:25:15.860Z"
      },
      {
        "duration": 13,
        "start_time": "2022-02-13T13:25:15.877Z"
      },
      {
        "duration": 68,
        "start_time": "2022-02-13T13:25:15.893Z"
      },
      {
        "duration": 1876,
        "start_time": "2022-02-13T13:25:15.966Z"
      },
      {
        "duration": 164,
        "start_time": "2022-02-13T13:25:17.845Z"
      },
      {
        "duration": 56,
        "start_time": "2022-02-13T13:25:18.012Z"
      },
      {
        "duration": 432,
        "start_time": "2022-02-13T13:25:18.071Z"
      },
      {
        "duration": 7,
        "start_time": "2022-02-13T13:25:28.380Z"
      },
      {
        "duration": 12,
        "start_time": "2022-02-13T13:26:36.292Z"
      },
      {
        "duration": 56,
        "start_time": "2022-02-13T13:45:30.491Z"
      },
      {
        "duration": 409,
        "start_time": "2022-02-13T13:49:14.016Z"
      },
      {
        "duration": 10583,
        "start_time": "2022-02-13T13:51:03.312Z"
      },
      {
        "duration": 632,
        "start_time": "2022-02-13T13:52:40.747Z"
      },
      {
        "duration": 474,
        "start_time": "2022-02-13T13:53:09.504Z"
      },
      {
        "duration": 522,
        "start_time": "2022-02-13T13:53:29.601Z"
      },
      {
        "duration": 46,
        "start_time": "2022-02-13T13:54:30.992Z"
      },
      {
        "duration": 81,
        "start_time": "2022-02-13T14:12:25.290Z"
      },
      {
        "duration": 1645,
        "start_time": "2022-02-13T14:13:30.290Z"
      },
      {
        "duration": 68,
        "start_time": "2022-02-13T14:13:57.279Z"
      },
      {
        "duration": 63,
        "start_time": "2022-02-13T14:15:02.531Z"
      },
      {
        "duration": 62,
        "start_time": "2022-02-13T14:15:14.213Z"
      },
      {
        "duration": 63,
        "start_time": "2022-02-13T14:18:22.515Z"
      },
      {
        "duration": 340,
        "start_time": "2022-02-13T14:19:51.311Z"
      },
      {
        "duration": 226,
        "start_time": "2022-02-13T14:24:36.212Z"
      },
      {
        "duration": 210,
        "start_time": "2022-02-13T14:53:27.881Z"
      },
      {
        "duration": 4559,
        "start_time": "2022-02-13T15:14:41.669Z"
      },
      {
        "duration": 204,
        "start_time": "2022-02-13T15:17:04.073Z"
      },
      {
        "duration": 226,
        "start_time": "2022-02-13T15:19:13.986Z"
      },
      {
        "duration": 6,
        "start_time": "2022-02-13T15:22:32.274Z"
      },
      {
        "duration": 211,
        "start_time": "2022-02-14T05:45:52.915Z"
      },
      {
        "duration": 88356,
        "start_time": "2022-02-14T05:45:58.580Z"
      },
      {
        "duration": 2113,
        "start_time": "2022-02-14T05:47:24.826Z"
      },
      {
        "duration": 2083,
        "start_time": "2022-02-14T05:47:24.857Z"
      },
      {
        "duration": 2073,
        "start_time": "2022-02-14T05:47:24.867Z"
      },
      {
        "duration": 2070,
        "start_time": "2022-02-14T05:47:24.871Z"
      },
      {
        "duration": 2068,
        "start_time": "2022-02-14T05:47:24.874Z"
      },
      {
        "duration": 2065,
        "start_time": "2022-02-14T05:47:24.878Z"
      },
      {
        "duration": 2063,
        "start_time": "2022-02-14T05:47:24.881Z"
      },
      {
        "duration": 2060,
        "start_time": "2022-02-14T05:47:24.885Z"
      },
      {
        "duration": 2058,
        "start_time": "2022-02-14T05:47:24.888Z"
      },
      {
        "duration": 2056,
        "start_time": "2022-02-14T05:47:24.891Z"
      },
      {
        "duration": 2054,
        "start_time": "2022-02-14T05:47:24.894Z"
      },
      {
        "duration": 2050,
        "start_time": "2022-02-14T05:47:24.899Z"
      },
      {
        "duration": 2040,
        "start_time": "2022-02-14T05:47:24.910Z"
      },
      {
        "duration": 2038,
        "start_time": "2022-02-14T05:47:24.913Z"
      },
      {
        "duration": 2036,
        "start_time": "2022-02-14T05:47:24.916Z"
      },
      {
        "duration": 2033,
        "start_time": "2022-02-14T05:47:24.920Z"
      },
      {
        "duration": 2032,
        "start_time": "2022-02-14T05:47:24.922Z"
      },
      {
        "duration": 2029,
        "start_time": "2022-02-14T05:47:24.926Z"
      },
      {
        "duration": 2022,
        "start_time": "2022-02-14T05:47:24.934Z"
      },
      {
        "duration": 2019,
        "start_time": "2022-02-14T05:47:24.938Z"
      },
      {
        "duration": 2017,
        "start_time": "2022-02-14T05:47:24.941Z"
      },
      {
        "duration": 2013,
        "start_time": "2022-02-14T05:47:24.945Z"
      },
      {
        "duration": 2010,
        "start_time": "2022-02-14T05:47:24.949Z"
      },
      {
        "duration": 2008,
        "start_time": "2022-02-14T05:47:24.952Z"
      },
      {
        "duration": 1996,
        "start_time": "2022-02-14T05:47:24.965Z"
      },
      {
        "duration": 1993,
        "start_time": "2022-02-14T05:47:24.969Z"
      },
      {
        "duration": 1991,
        "start_time": "2022-02-14T05:47:24.972Z"
      },
      {
        "duration": 1988,
        "start_time": "2022-02-14T05:47:24.976Z"
      },
      {
        "duration": 1985,
        "start_time": "2022-02-14T05:47:24.980Z"
      },
      {
        "duration": 1976,
        "start_time": "2022-02-14T05:47:24.990Z"
      },
      {
        "duration": 1973,
        "start_time": "2022-02-14T05:47:24.994Z"
      },
      {
        "duration": 1971,
        "start_time": "2022-02-14T05:47:24.997Z"
      },
      {
        "duration": 1968,
        "start_time": "2022-02-14T05:47:25.001Z"
      },
      {
        "duration": 1959,
        "start_time": "2022-02-14T05:47:25.011Z"
      },
      {
        "duration": 1955,
        "start_time": "2022-02-14T05:47:25.016Z"
      },
      {
        "duration": 185,
        "start_time": "2022-02-14T05:47:45.175Z"
      },
      {
        "duration": 175,
        "start_time": "2022-02-14T05:47:48.982Z"
      },
      {
        "duration": 7783,
        "start_time": "2022-02-14T05:47:56.573Z"
      },
      {
        "duration": 6978,
        "start_time": "2022-02-14T05:48:14.045Z"
      },
      {
        "duration": 1136,
        "start_time": "2022-02-14T05:48:21.026Z"
      },
      {
        "duration": 118,
        "start_time": "2022-02-14T05:48:22.164Z"
      },
      {
        "duration": 401,
        "start_time": "2022-02-14T05:48:22.285Z"
      },
      {
        "duration": 828,
        "start_time": "2022-02-14T05:48:22.688Z"
      },
      {
        "duration": 2735,
        "start_time": "2022-02-14T05:48:23.518Z"
      },
      {
        "duration": 252,
        "start_time": "2022-02-14T05:48:26.258Z"
      },
      {
        "duration": 18,
        "start_time": "2022-02-14T05:48:26.512Z"
      },
      {
        "duration": 88,
        "start_time": "2022-02-14T05:48:26.532Z"
      },
      {
        "duration": 278,
        "start_time": "2022-02-14T05:48:26.622Z"
      },
      {
        "duration": 173,
        "start_time": "2022-02-14T05:48:26.902Z"
      },
      {
        "duration": 337,
        "start_time": "2022-02-14T05:48:27.077Z"
      },
      {
        "duration": 365,
        "start_time": "2022-02-14T05:48:27.415Z"
      },
      {
        "duration": 18,
        "start_time": "2022-02-14T05:48:27.782Z"
      },
      {
        "duration": 10,
        "start_time": "2022-02-14T05:48:27.802Z"
      },
      {
        "duration": 8,
        "start_time": "2022-02-14T05:48:27.813Z"
      },
      {
        "duration": 191,
        "start_time": "2022-02-14T05:48:27.822Z"
      },
      {
        "duration": 310,
        "start_time": "2022-02-14T05:48:28.015Z"
      },
      {
        "duration": 16,
        "start_time": "2022-02-14T05:48:28.327Z"
      },
      {
        "duration": 21,
        "start_time": "2022-02-14T05:48:28.345Z"
      },
      {
        "duration": 8,
        "start_time": "2022-02-14T05:48:28.367Z"
      },
      {
        "duration": 21,
        "start_time": "2022-02-14T05:48:28.377Z"
      },
      {
        "duration": 1284,
        "start_time": "2022-02-14T05:48:28.401Z"
      },
      {
        "duration": 102,
        "start_time": "2022-02-14T05:48:29.687Z"
      },
      {
        "duration": 31,
        "start_time": "2022-02-14T05:48:29.791Z"
      },
      {
        "duration": 286,
        "start_time": "2022-02-14T05:48:29.823Z"
      },
      {
        "duration": 5,
        "start_time": "2022-02-14T05:48:30.111Z"
      },
      {
        "duration": 17,
        "start_time": "2022-02-14T05:48:30.118Z"
      },
      {
        "duration": 46,
        "start_time": "2022-02-14T05:48:30.137Z"
      },
      {
        "duration": 360,
        "start_time": "2022-02-14T05:48:30.185Z"
      },
      {
        "duration": 40,
        "start_time": "2022-02-14T05:48:30.547Z"
      },
      {
        "duration": 66,
        "start_time": "2022-02-14T05:48:30.589Z"
      },
      {
        "duration": 48,
        "start_time": "2022-02-14T05:48:30.657Z"
      },
      {
        "duration": 244,
        "start_time": "2022-02-14T05:48:30.707Z"
      },
      {
        "duration": 141,
        "start_time": "2022-02-14T05:48:30.952Z"
      },
      {
        "duration": 208,
        "start_time": "2022-02-14T05:48:31.094Z"
      },
      {
        "duration": 15,
        "start_time": "2022-02-14T05:48:31.304Z"
      },
      {
        "duration": 34,
        "start_time": "2022-02-14T05:48:31.321Z"
      },
      {
        "duration": 4407,
        "start_time": "2022-02-14T05:50:09.222Z"
      },
      {
        "duration": 15,
        "start_time": "2022-02-14T05:50:31.566Z"
      },
      {
        "duration": 109,
        "start_time": "2022-02-14T05:51:02.422Z"
      },
      {
        "duration": 98,
        "start_time": "2022-02-14T05:51:50.582Z"
      },
      {
        "duration": 58,
        "start_time": "2022-02-14T05:52:39.581Z"
      },
      {
        "duration": 60,
        "start_time": "2022-02-14T06:00:36.307Z"
      },
      {
        "duration": 719,
        "start_time": "2022-02-14T06:03:08.891Z"
      },
      {
        "duration": 31856,
        "start_time": "2022-02-14T06:11:20.444Z"
      },
      {
        "duration": 31807,
        "start_time": "2022-02-14T06:16:29.868Z"
      },
      {
        "duration": 224,
        "start_time": "2022-02-14T06:21:56.672Z"
      },
      {
        "duration": 19,
        "start_time": "2022-02-14T06:22:35.600Z"
      },
      {
        "duration": 16,
        "start_time": "2022-02-14T06:22:54.876Z"
      },
      {
        "duration": 5,
        "start_time": "2022-02-14T06:23:10.497Z"
      },
      {
        "duration": 4,
        "start_time": "2022-02-14T06:23:36.272Z"
      },
      {
        "duration": 1972,
        "start_time": "2022-02-14T06:28:08.036Z"
      },
      {
        "duration": 31845,
        "start_time": "2022-02-14T06:29:26.713Z"
      },
      {
        "duration": 32996,
        "start_time": "2022-02-14T06:30:04.321Z"
      },
      {
        "duration": 7079,
        "start_time": "2022-02-14T06:35:59.821Z"
      },
      {
        "duration": 35763,
        "start_time": "2022-02-14T06:37:41.809Z"
      },
      {
        "duration": 215,
        "start_time": "2022-02-14T06:42:13.777Z"
      },
      {
        "duration": 935,
        "start_time": "2022-02-14T07:01:37.743Z"
      },
      {
        "duration": 254,
        "start_time": "2022-02-14T07:04:27.612Z"
      },
      {
        "duration": 295,
        "start_time": "2022-02-14T07:04:41.188Z"
      },
      {
        "duration": 280,
        "start_time": "2022-02-14T07:04:53.483Z"
      },
      {
        "duration": 292,
        "start_time": "2022-02-14T07:05:49.787Z"
      },
      {
        "duration": 299,
        "start_time": "2022-02-14T07:06:18.949Z"
      },
      {
        "duration": 274,
        "start_time": "2022-02-14T07:08:13.116Z"
      },
      {
        "duration": 557,
        "start_time": "2022-02-14T07:08:39.973Z"
      },
      {
        "duration": 271,
        "start_time": "2022-02-14T07:09:30.061Z"
      },
      {
        "duration": 293,
        "start_time": "2022-02-14T07:10:21.420Z"
      },
      {
        "duration": 5,
        "start_time": "2022-02-14T07:10:41.276Z"
      },
      {
        "duration": 32,
        "start_time": "2022-02-14T07:10:55.740Z"
      },
      {
        "duration": 53697,
        "start_time": "2022-02-14T07:15:45.217Z"
      },
      {
        "duration": 247,
        "start_time": "2022-02-14T07:17:06.373Z"
      },
      {
        "duration": 263,
        "start_time": "2022-02-14T07:17:51.639Z"
      },
      {
        "duration": 293,
        "start_time": "2022-02-14T07:18:05.190Z"
      },
      {
        "duration": 266,
        "start_time": "2022-02-14T07:18:59.749Z"
      },
      {
        "duration": 247,
        "start_time": "2022-02-14T07:19:09.925Z"
      },
      {
        "duration": 32,
        "start_time": "2022-02-14T07:20:47.893Z"
      },
      {
        "duration": 15,
        "start_time": "2022-02-14T07:21:18.581Z"
      },
      {
        "duration": 11,
        "start_time": "2022-02-14T07:21:40.221Z"
      },
      {
        "duration": 11,
        "start_time": "2022-02-14T07:21:48.557Z"
      },
      {
        "duration": 12,
        "start_time": "2022-02-14T07:21:57.901Z"
      },
      {
        "duration": 4,
        "start_time": "2022-02-14T07:22:36.695Z"
      },
      {
        "duration": 6,
        "start_time": "2022-02-14T07:22:51.190Z"
      },
      {
        "duration": 31,
        "start_time": "2022-02-14T07:23:17.365Z"
      },
      {
        "duration": 123,
        "start_time": "2022-02-14T07:23:30.841Z"
      },
      {
        "duration": 577,
        "start_time": "2022-02-14T07:23:55.079Z"
      },
      {
        "duration": 1914,
        "start_time": "2022-02-14T07:27:17.057Z"
      },
      {
        "duration": 7192,
        "start_time": "2022-02-14T07:27:26.808Z"
      },
      {
        "duration": 1158,
        "start_time": "2022-02-14T07:27:34.002Z"
      },
      {
        "duration": 124,
        "start_time": "2022-02-14T07:27:35.163Z"
      },
      {
        "duration": 438,
        "start_time": "2022-02-14T07:27:35.289Z"
      },
      {
        "duration": 887,
        "start_time": "2022-02-14T07:27:35.729Z"
      },
      {
        "duration": 2849,
        "start_time": "2022-02-14T07:27:36.618Z"
      },
      {
        "duration": 274,
        "start_time": "2022-02-14T07:27:39.468Z"
      },
      {
        "duration": 26,
        "start_time": "2022-02-14T07:27:39.744Z"
      },
      {
        "duration": 69,
        "start_time": "2022-02-14T07:27:39.772Z"
      },
      {
        "duration": 259,
        "start_time": "2022-02-14T07:27:39.843Z"
      },
      {
        "duration": 166,
        "start_time": "2022-02-14T07:27:40.104Z"
      },
      {
        "duration": 334,
        "start_time": "2022-02-14T07:27:40.271Z"
      },
      {
        "duration": 358,
        "start_time": "2022-02-14T07:27:40.606Z"
      },
      {
        "duration": 17,
        "start_time": "2022-02-14T07:27:40.965Z"
      },
      {
        "duration": 8,
        "start_time": "2022-02-14T07:27:40.984Z"
      },
      {
        "duration": 8,
        "start_time": "2022-02-14T07:27:40.994Z"
      },
      {
        "duration": 199,
        "start_time": "2022-02-14T07:27:41.003Z"
      },
      {
        "duration": 218,
        "start_time": "2022-02-14T07:27:41.204Z"
      },
      {
        "duration": 17,
        "start_time": "2022-02-14T07:27:41.424Z"
      },
      {
        "duration": 21,
        "start_time": "2022-02-14T07:27:41.442Z"
      },
      {
        "duration": 9,
        "start_time": "2022-02-14T07:27:41.465Z"
      },
      {
        "duration": 22,
        "start_time": "2022-02-14T07:27:41.475Z"
      },
      {
        "duration": 1264,
        "start_time": "2022-02-14T07:27:41.500Z"
      },
      {
        "duration": 110,
        "start_time": "2022-02-14T07:27:42.766Z"
      },
      {
        "duration": 30,
        "start_time": "2022-02-14T07:27:42.878Z"
      },
      {
        "duration": 261,
        "start_time": "2022-02-14T07:27:42.910Z"
      },
      {
        "duration": 5,
        "start_time": "2022-02-14T07:27:43.172Z"
      },
      {
        "duration": 10,
        "start_time": "2022-02-14T07:27:43.178Z"
      },
      {
        "duration": 34,
        "start_time": "2022-02-14T07:27:43.190Z"
      },
      {
        "duration": 357,
        "start_time": "2022-02-14T07:27:43.225Z"
      },
      {
        "duration": 31,
        "start_time": "2022-02-14T07:27:43.583Z"
      },
      {
        "duration": 67,
        "start_time": "2022-02-14T07:27:43.616Z"
      },
      {
        "duration": 43,
        "start_time": "2022-02-14T07:27:43.685Z"
      },
      {
        "duration": 237,
        "start_time": "2022-02-14T07:27:43.729Z"
      },
      {
        "duration": 131,
        "start_time": "2022-02-14T07:27:43.968Z"
      },
      {
        "duration": 2072,
        "start_time": "2022-02-14T07:27:44.100Z"
      },
      {
        "duration": 28588,
        "start_time": "2022-02-14T07:27:46.174Z"
      },
      {
        "duration": 69925,
        "start_time": "2022-02-14T07:28:22.766Z"
      },
      {
        "duration": 18,
        "start_time": "2022-02-14T07:32:57.248Z"
      },
      {
        "duration": 5116,
        "start_time": "2022-02-14T07:33:14.907Z"
      },
      {
        "duration": 46,
        "start_time": "2022-02-14T07:33:59.808Z"
      },
      {
        "duration": 20,
        "start_time": "2022-02-14T07:34:27.535Z"
      },
      {
        "duration": 45,
        "start_time": "2022-02-14T07:35:28.557Z"
      },
      {
        "duration": 2201,
        "start_time": "2022-02-14T07:38:49.157Z"
      },
      {
        "duration": 349,
        "start_time": "2022-02-14T07:42:20.874Z"
      },
      {
        "duration": 3685,
        "start_time": "2022-02-14T07:42:32.448Z"
      },
      {
        "duration": 1193,
        "start_time": "2022-02-14T07:42:36.135Z"
      },
      {
        "duration": 128,
        "start_time": "2022-02-14T07:42:37.331Z"
      },
      {
        "duration": 423,
        "start_time": "2022-02-14T07:42:37.461Z"
      },
      {
        "duration": 902,
        "start_time": "2022-02-14T07:42:37.886Z"
      },
      {
        "duration": 2806,
        "start_time": "2022-02-14T07:42:38.789Z"
      },
      {
        "duration": 444,
        "start_time": "2022-02-14T07:42:41.598Z"
      },
      {
        "duration": 27,
        "start_time": "2022-02-14T07:42:42.044Z"
      },
      {
        "duration": 68,
        "start_time": "2022-02-14T07:42:42.073Z"
      },
      {
        "duration": 265,
        "start_time": "2022-02-14T07:42:42.143Z"
      },
      {
        "duration": 163,
        "start_time": "2022-02-14T07:42:42.409Z"
      },
      {
        "duration": 333,
        "start_time": "2022-02-14T07:42:42.573Z"
      },
      {
        "duration": 372,
        "start_time": "2022-02-14T07:42:42.908Z"
      },
      {
        "duration": 18,
        "start_time": "2022-02-14T07:42:43.281Z"
      },
      {
        "duration": 10,
        "start_time": "2022-02-14T07:42:43.300Z"
      },
      {
        "duration": 9,
        "start_time": "2022-02-14T07:42:43.312Z"
      },
      {
        "duration": 198,
        "start_time": "2022-02-14T07:42:43.322Z"
      },
      {
        "duration": 227,
        "start_time": "2022-02-14T07:42:43.522Z"
      },
      {
        "duration": 24,
        "start_time": "2022-02-14T07:42:43.751Z"
      },
      {
        "duration": 11,
        "start_time": "2022-02-14T07:42:43.777Z"
      },
      {
        "duration": 10,
        "start_time": "2022-02-14T07:42:43.789Z"
      },
      {
        "duration": 57,
        "start_time": "2022-02-14T07:42:43.801Z"
      },
      {
        "duration": 1270,
        "start_time": "2022-02-14T07:42:43.863Z"
      },
      {
        "duration": 108,
        "start_time": "2022-02-14T07:42:45.136Z"
      },
      {
        "duration": 32,
        "start_time": "2022-02-14T07:42:45.246Z"
      },
      {
        "duration": 267,
        "start_time": "2022-02-14T07:42:45.280Z"
      },
      {
        "duration": 11,
        "start_time": "2022-02-14T07:42:45.549Z"
      },
      {
        "duration": 12,
        "start_time": "2022-02-14T07:42:45.561Z"
      },
      {
        "duration": 35,
        "start_time": "2022-02-14T07:42:45.574Z"
      },
      {
        "duration": 354,
        "start_time": "2022-02-14T07:42:45.611Z"
      },
      {
        "duration": 31,
        "start_time": "2022-02-14T07:42:45.966Z"
      },
      {
        "duration": 68,
        "start_time": "2022-02-14T07:42:45.999Z"
      },
      {
        "duration": 44,
        "start_time": "2022-02-14T07:42:46.069Z"
      },
      {
        "duration": 246,
        "start_time": "2022-02-14T07:42:46.114Z"
      },
      {
        "duration": 130,
        "start_time": "2022-02-14T07:42:46.361Z"
      },
      {
        "duration": 2025,
        "start_time": "2022-02-14T07:42:46.493Z"
      },
      {
        "duration": 28540,
        "start_time": "2022-02-14T07:42:48.520Z"
      },
      {
        "duration": 62503,
        "start_time": "2022-02-14T07:46:45.274Z"
      },
      {
        "duration": 3637,
        "start_time": "2022-02-14T07:49:46.153Z"
      },
      {
        "duration": 1203,
        "start_time": "2022-02-14T07:49:49.792Z"
      },
      {
        "duration": 125,
        "start_time": "2022-02-14T07:49:50.997Z"
      },
      {
        "duration": 437,
        "start_time": "2022-02-14T07:49:51.124Z"
      },
      {
        "duration": 948,
        "start_time": "2022-02-14T07:49:51.563Z"
      },
      {
        "duration": 2793,
        "start_time": "2022-02-14T07:49:52.513Z"
      },
      {
        "duration": 347,
        "start_time": "2022-02-14T07:49:55.308Z"
      },
      {
        "duration": 17,
        "start_time": "2022-02-14T07:49:55.659Z"
      },
      {
        "duration": 81,
        "start_time": "2022-02-14T07:49:55.678Z"
      },
      {
        "duration": 240,
        "start_time": "2022-02-14T07:49:55.760Z"
      },
      {
        "duration": 163,
        "start_time": "2022-02-14T07:49:56.002Z"
      },
      {
        "duration": 315,
        "start_time": "2022-02-14T07:49:56.167Z"
      },
      {
        "duration": 357,
        "start_time": "2022-02-14T07:49:56.484Z"
      },
      {
        "duration": 29,
        "start_time": "2022-02-14T07:49:56.843Z"
      },
      {
        "duration": 9,
        "start_time": "2022-02-14T07:49:56.874Z"
      },
      {
        "duration": 8,
        "start_time": "2022-02-14T07:49:56.885Z"
      },
      {
        "duration": 177,
        "start_time": "2022-02-14T07:49:56.894Z"
      },
      {
        "duration": 216,
        "start_time": "2022-02-14T07:49:57.073Z"
      },
      {
        "duration": 16,
        "start_time": "2022-02-14T07:49:57.291Z"
      },
      {
        "duration": 9,
        "start_time": "2022-02-14T07:49:57.309Z"
      },
      {
        "duration": 8,
        "start_time": "2022-02-14T07:49:57.319Z"
      },
      {
        "duration": 44,
        "start_time": "2022-02-14T07:49:57.329Z"
      },
      {
        "duration": 1223,
        "start_time": "2022-02-14T07:49:57.376Z"
      },
      {
        "duration": 111,
        "start_time": "2022-02-14T07:49:58.601Z"
      },
      {
        "duration": 30,
        "start_time": "2022-02-14T07:49:58.714Z"
      },
      {
        "duration": 256,
        "start_time": "2022-02-14T07:49:58.745Z"
      },
      {
        "duration": 4,
        "start_time": "2022-02-14T07:49:59.003Z"
      },
      {
        "duration": 9,
        "start_time": "2022-02-14T07:49:59.009Z"
      },
      {
        "duration": 48,
        "start_time": "2022-02-14T07:49:59.019Z"
      },
      {
        "duration": 327,
        "start_time": "2022-02-14T07:49:59.069Z"
      },
      {
        "duration": 30,
        "start_time": "2022-02-14T07:49:59.398Z"
      },
      {
        "duration": 63,
        "start_time": "2022-02-14T07:49:59.430Z"
      },
      {
        "duration": 43,
        "start_time": "2022-02-14T07:49:59.494Z"
      },
      {
        "duration": 229,
        "start_time": "2022-02-14T07:49:59.539Z"
      },
      {
        "duration": 127,
        "start_time": "2022-02-14T07:49:59.770Z"
      },
      {
        "duration": 2124,
        "start_time": "2022-02-14T07:49:59.898Z"
      },
      {
        "duration": 28934,
        "start_time": "2022-02-14T07:50:02.024Z"
      },
      {
        "duration": 64620,
        "start_time": "2022-02-14T07:50:32.905Z"
      },
      {
        "duration": 3758,
        "start_time": "2022-02-14T07:55:29.115Z"
      },
      {
        "duration": 1186,
        "start_time": "2022-02-14T07:55:32.875Z"
      },
      {
        "duration": 120,
        "start_time": "2022-02-14T07:55:34.064Z"
      },
      {
        "duration": 450,
        "start_time": "2022-02-14T07:55:34.186Z"
      },
      {
        "duration": 954,
        "start_time": "2022-02-14T07:55:34.638Z"
      },
      {
        "duration": 2841,
        "start_time": "2022-02-14T07:55:35.594Z"
      },
      {
        "duration": 336,
        "start_time": "2022-02-14T07:55:38.436Z"
      },
      {
        "duration": 17,
        "start_time": "2022-02-14T07:55:38.775Z"
      },
      {
        "duration": 93,
        "start_time": "2022-02-14T07:55:38.794Z"
      },
      {
        "duration": 246,
        "start_time": "2022-02-14T07:55:38.889Z"
      },
      {
        "duration": 172,
        "start_time": "2022-02-14T07:55:39.137Z"
      },
      {
        "duration": 314,
        "start_time": "2022-02-14T07:55:39.310Z"
      },
      {
        "duration": 372,
        "start_time": "2022-02-14T07:55:39.626Z"
      },
      {
        "duration": 19,
        "start_time": "2022-02-14T07:55:40.000Z"
      },
      {
        "duration": 10,
        "start_time": "2022-02-14T07:55:40.021Z"
      },
      {
        "duration": 30,
        "start_time": "2022-02-14T07:55:40.032Z"
      },
      {
        "duration": 178,
        "start_time": "2022-02-14T07:55:40.064Z"
      },
      {
        "duration": 230,
        "start_time": "2022-02-14T07:55:40.244Z"
      },
      {
        "duration": 18,
        "start_time": "2022-02-14T07:55:40.476Z"
      },
      {
        "duration": 11,
        "start_time": "2022-02-14T07:55:40.495Z"
      },
      {
        "duration": 9,
        "start_time": "2022-02-14T07:55:40.508Z"
      },
      {
        "duration": 54,
        "start_time": "2022-02-14T07:55:40.518Z"
      },
      {
        "duration": 1251,
        "start_time": "2022-02-14T07:55:40.575Z"
      },
      {
        "duration": 108,
        "start_time": "2022-02-14T07:55:41.828Z"
      },
      {
        "duration": 36,
        "start_time": "2022-02-14T07:55:41.938Z"
      },
      {
        "duration": 248,
        "start_time": "2022-02-14T07:55:41.976Z"
      },
      {
        "duration": 5,
        "start_time": "2022-02-14T07:55:42.225Z"
      },
      {
        "duration": 9,
        "start_time": "2022-02-14T07:55:42.231Z"
      },
      {
        "duration": 44,
        "start_time": "2022-02-14T07:55:42.242Z"
      },
      {
        "duration": 345,
        "start_time": "2022-02-14T07:55:42.287Z"
      },
      {
        "duration": 40,
        "start_time": "2022-02-14T07:55:42.633Z"
      },
      {
        "duration": 49,
        "start_time": "2022-02-14T07:55:42.675Z"
      },
      {
        "duration": 59,
        "start_time": "2022-02-14T07:55:42.726Z"
      },
      {
        "duration": 222,
        "start_time": "2022-02-14T07:55:42.787Z"
      },
      {
        "duration": 131,
        "start_time": "2022-02-14T07:55:43.011Z"
      },
      {
        "duration": 1962,
        "start_time": "2022-02-14T07:55:43.144Z"
      },
      {
        "duration": 28667,
        "start_time": "2022-02-14T07:55:45.108Z"
      },
      {
        "duration": 65284,
        "start_time": "2022-02-14T07:56:13.777Z"
      },
      {
        "duration": 1861,
        "start_time": "2022-02-14T08:03:46.938Z"
      },
      {
        "duration": 295,
        "start_time": "2022-02-14T08:08:02.465Z"
      },
      {
        "duration": 235348,
        "start_time": "2022-02-14T08:08:24.698Z"
      },
      {
        "duration": 2071,
        "start_time": "2022-02-14T08:12:17.978Z"
      },
      {
        "duration": 2067,
        "start_time": "2022-02-14T08:12:17.983Z"
      },
      {
        "duration": 2064,
        "start_time": "2022-02-14T08:12:17.987Z"
      },
      {
        "duration": 2060,
        "start_time": "2022-02-14T08:12:17.992Z"
      },
      {
        "duration": 2058,
        "start_time": "2022-02-14T08:12:17.995Z"
      },
      {
        "duration": 2051,
        "start_time": "2022-02-14T08:12:18.003Z"
      },
      {
        "duration": 2047,
        "start_time": "2022-02-14T08:12:18.008Z"
      },
      {
        "duration": 2044,
        "start_time": "2022-02-14T08:12:18.012Z"
      },
      {
        "duration": 2040,
        "start_time": "2022-02-14T08:12:18.017Z"
      },
      {
        "duration": 2038,
        "start_time": "2022-02-14T08:12:18.020Z"
      },
      {
        "duration": 2036,
        "start_time": "2022-02-14T08:12:18.023Z"
      },
      {
        "duration": 2033,
        "start_time": "2022-02-14T08:12:18.027Z"
      },
      {
        "duration": 2023,
        "start_time": "2022-02-14T08:12:18.038Z"
      },
      {
        "duration": 2019,
        "start_time": "2022-02-14T08:12:18.043Z"
      },
      {
        "duration": 2016,
        "start_time": "2022-02-14T08:12:18.047Z"
      },
      {
        "duration": 2013,
        "start_time": "2022-02-14T08:12:18.051Z"
      },
      {
        "duration": 2010,
        "start_time": "2022-02-14T08:12:18.055Z"
      },
      {
        "duration": 2008,
        "start_time": "2022-02-14T08:12:18.058Z"
      },
      {
        "duration": 2006,
        "start_time": "2022-02-14T08:12:18.061Z"
      },
      {
        "duration": 2004,
        "start_time": "2022-02-14T08:12:18.064Z"
      },
      {
        "duration": 2001,
        "start_time": "2022-02-14T08:12:18.068Z"
      },
      {
        "duration": 1999,
        "start_time": "2022-02-14T08:12:18.071Z"
      },
      {
        "duration": 1997,
        "start_time": "2022-02-14T08:12:18.074Z"
      },
      {
        "duration": 1994,
        "start_time": "2022-02-14T08:12:18.078Z"
      },
      {
        "duration": 1992,
        "start_time": "2022-02-14T08:12:18.081Z"
      },
      {
        "duration": 1990,
        "start_time": "2022-02-14T08:12:18.084Z"
      },
      {
        "duration": 1988,
        "start_time": "2022-02-14T08:12:18.087Z"
      },
      {
        "duration": 1985,
        "start_time": "2022-02-14T08:12:18.091Z"
      },
      {
        "duration": 1984,
        "start_time": "2022-02-14T08:12:18.093Z"
      },
      {
        "duration": 1981,
        "start_time": "2022-02-14T08:12:18.097Z"
      },
      {
        "duration": 1980,
        "start_time": "2022-02-14T08:12:18.099Z"
      },
      {
        "duration": 1977,
        "start_time": "2022-02-14T08:12:18.103Z"
      },
      {
        "duration": 1975,
        "start_time": "2022-02-14T08:12:18.106Z"
      },
      {
        "duration": 1972,
        "start_time": "2022-02-14T08:12:18.110Z"
      },
      {
        "duration": 1970,
        "start_time": "2022-02-14T08:12:18.113Z"
      },
      {
        "duration": 1967,
        "start_time": "2022-02-14T08:12:18.117Z"
      },
      {
        "duration": 1965,
        "start_time": "2022-02-14T08:12:18.120Z"
      },
      {
        "duration": 1884,
        "start_time": "2022-02-14T08:13:47.976Z"
      },
      {
        "duration": 887,
        "start_time": "2022-02-14T08:13:49.863Z"
      },
      {
        "duration": 121,
        "start_time": "2022-02-14T08:13:50.752Z"
      },
      {
        "duration": 379,
        "start_time": "2022-02-14T08:13:50.875Z"
      },
      {
        "duration": 1039,
        "start_time": "2022-02-14T08:13:51.256Z"
      },
      {
        "duration": 3022,
        "start_time": "2022-02-14T08:13:52.297Z"
      },
      {
        "duration": 394,
        "start_time": "2022-02-14T08:13:55.321Z"
      },
      {
        "duration": 16,
        "start_time": "2022-02-14T08:13:55.717Z"
      },
      {
        "duration": 84,
        "start_time": "2022-02-14T08:13:55.735Z"
      },
      {
        "duration": 252,
        "start_time": "2022-02-14T08:13:55.821Z"
      },
      {
        "duration": 158,
        "start_time": "2022-02-14T08:13:56.074Z"
      },
      {
        "duration": 318,
        "start_time": "2022-02-14T08:13:56.234Z"
      },
      {
        "duration": 350,
        "start_time": "2022-02-14T08:13:56.559Z"
      },
      {
        "duration": 17,
        "start_time": "2022-02-14T08:13:56.911Z"
      },
      {
        "duration": 30,
        "start_time": "2022-02-14T08:13:56.929Z"
      },
      {
        "duration": 8,
        "start_time": "2022-02-14T08:13:56.961Z"
      },
      {
        "duration": 163,
        "start_time": "2022-02-14T08:13:56.971Z"
      },
      {
        "duration": 214,
        "start_time": "2022-02-14T08:13:57.135Z"
      },
      {
        "duration": 22,
        "start_time": "2022-02-14T08:13:57.350Z"
      },
      {
        "duration": 9,
        "start_time": "2022-02-14T08:13:57.374Z"
      },
      {
        "duration": 9,
        "start_time": "2022-02-14T08:13:57.384Z"
      },
      {
        "duration": 21,
        "start_time": "2022-02-14T08:13:57.394Z"
      },
      {
        "duration": 1480,
        "start_time": "2022-02-14T08:13:57.418Z"
      },
      {
        "duration": 108,
        "start_time": "2022-02-14T08:13:58.900Z"
      },
      {
        "duration": 31,
        "start_time": "2022-02-14T08:13:59.011Z"
      },
      {
        "duration": 267,
        "start_time": "2022-02-14T08:13:59.044Z"
      },
      {
        "duration": 6,
        "start_time": "2022-02-14T08:13:59.313Z"
      },
      {
        "duration": 9,
        "start_time": "2022-02-14T08:13:59.321Z"
      },
      {
        "duration": 54,
        "start_time": "2022-02-14T08:13:59.332Z"
      },
      {
        "duration": 344,
        "start_time": "2022-02-14T08:13:59.387Z"
      },
      {
        "duration": 40,
        "start_time": "2022-02-14T08:13:59.733Z"
      },
      {
        "duration": 54,
        "start_time": "2022-02-14T08:13:59.774Z"
      },
      {
        "duration": 57,
        "start_time": "2022-02-14T08:13:59.829Z"
      },
      {
        "duration": 241,
        "start_time": "2022-02-14T08:13:59.887Z"
      },
      {
        "duration": 142,
        "start_time": "2022-02-14T08:14:00.130Z"
      },
      {
        "duration": 2207,
        "start_time": "2022-02-14T08:14:00.273Z"
      },
      {
        "duration": 223,
        "start_time": "2022-02-14T08:15:08.825Z"
      },
      {
        "duration": 3086,
        "start_time": "2022-02-14T08:15:42.641Z"
      },
      {
        "duration": 1175,
        "start_time": "2022-02-14T08:15:45.729Z"
      },
      {
        "duration": 124,
        "start_time": "2022-02-14T08:15:46.906Z"
      },
      {
        "duration": 439,
        "start_time": "2022-02-14T08:15:47.032Z"
      },
      {
        "duration": 925,
        "start_time": "2022-02-14T08:15:47.472Z"
      },
      {
        "duration": 2730,
        "start_time": "2022-02-14T08:15:48.399Z"
      },
      {
        "duration": 247,
        "start_time": "2022-02-14T08:15:51.131Z"
      },
      {
        "duration": 19,
        "start_time": "2022-02-14T08:15:51.381Z"
      },
      {
        "duration": 86,
        "start_time": "2022-02-14T08:15:51.402Z"
      },
      {
        "duration": 254,
        "start_time": "2022-02-14T08:15:51.490Z"
      },
      {
        "duration": 170,
        "start_time": "2022-02-14T08:15:51.746Z"
      },
      {
        "duration": 325,
        "start_time": "2022-02-14T08:15:51.918Z"
      },
      {
        "duration": 358,
        "start_time": "2022-02-14T08:15:52.245Z"
      },
      {
        "duration": 17,
        "start_time": "2022-02-14T08:15:52.605Z"
      },
      {
        "duration": 8,
        "start_time": "2022-02-14T08:15:52.624Z"
      },
      {
        "duration": 28,
        "start_time": "2022-02-14T08:15:52.634Z"
      },
      {
        "duration": 177,
        "start_time": "2022-02-14T08:15:52.664Z"
      },
      {
        "duration": 317,
        "start_time": "2022-02-14T08:15:52.842Z"
      },
      {
        "duration": 18,
        "start_time": "2022-02-14T08:15:53.160Z"
      },
      {
        "duration": 9,
        "start_time": "2022-02-14T08:15:53.179Z"
      },
      {
        "duration": 8,
        "start_time": "2022-02-14T08:15:53.190Z"
      },
      {
        "duration": 21,
        "start_time": "2022-02-14T08:15:53.199Z"
      },
      {
        "duration": 1256,
        "start_time": "2022-02-14T08:15:53.223Z"
      },
      {
        "duration": 108,
        "start_time": "2022-02-14T08:15:54.481Z"
      },
      {
        "duration": 32,
        "start_time": "2022-02-14T08:15:54.591Z"
      },
      {
        "duration": 280,
        "start_time": "2022-02-14T08:15:54.625Z"
      },
      {
        "duration": 4,
        "start_time": "2022-02-14T08:15:54.907Z"
      },
      {
        "duration": 9,
        "start_time": "2022-02-14T08:15:54.913Z"
      },
      {
        "duration": 48,
        "start_time": "2022-02-14T08:15:54.924Z"
      },
      {
        "duration": 340,
        "start_time": "2022-02-14T08:15:54.974Z"
      },
      {
        "duration": 46,
        "start_time": "2022-02-14T08:15:55.316Z"
      },
      {
        "duration": 64,
        "start_time": "2022-02-14T08:15:55.364Z"
      },
      {
        "duration": 59,
        "start_time": "2022-02-14T08:15:55.429Z"
      },
      {
        "duration": 223,
        "start_time": "2022-02-14T08:15:55.490Z"
      },
      {
        "duration": 132,
        "start_time": "2022-02-14T08:15:55.715Z"
      },
      {
        "duration": 1987,
        "start_time": "2022-02-14T08:15:55.849Z"
      },
      {
        "duration": 29530,
        "start_time": "2022-02-14T08:15:57.838Z"
      },
      {
        "duration": 2101,
        "start_time": "2022-02-14T08:26:00.633Z"
      },
      {
        "duration": 2096,
        "start_time": "2022-02-14T08:26:00.639Z"
      },
      {
        "duration": 12549,
        "start_time": "2022-02-14T08:26:56.066Z"
      },
      {
        "duration": 79328,
        "start_time": "2022-02-14T08:27:43.082Z"
      },
      {
        "duration": 12604,
        "start_time": "2022-02-14T08:30:08.610Z"
      },
      {
        "duration": 13252,
        "start_time": "2022-02-14T08:31:08.370Z"
      },
      {
        "duration": 2513,
        "start_time": "2022-02-14T08:33:16.715Z"
      },
      {
        "duration": 203,
        "start_time": "2022-02-14T08:41:16.748Z"
      },
      {
        "duration": 5843,
        "start_time": "2022-02-14T08:41:35.555Z"
      },
      {
        "duration": 28850,
        "start_time": "2022-02-14T08:42:43.116Z"
      },
      {
        "duration": 1991,
        "start_time": "2022-02-14T08:47:57.894Z"
      },
      {
        "duration": 1982,
        "start_time": "2022-02-14T08:48:43.939Z"
      },
      {
        "duration": 266,
        "start_time": "2022-02-14T08:50:34.172Z"
      },
      {
        "duration": 2278,
        "start_time": "2022-02-14T08:51:09.092Z"
      },
      {
        "duration": 66,
        "start_time": "2022-02-14T08:53:46.332Z"
      },
      {
        "duration": 2210,
        "start_time": "2022-02-14T08:53:54.621Z"
      },
      {
        "duration": 2321,
        "start_time": "2022-02-14T08:53:59.383Z"
      },
      {
        "duration": 2270,
        "start_time": "2022-02-14T08:54:44.755Z"
      },
      {
        "duration": 189,
        "start_time": "2022-02-14T08:54:52.652Z"
      },
      {
        "duration": 2208,
        "start_time": "2022-02-14T08:55:02.971Z"
      },
      {
        "duration": 2263,
        "start_time": "2022-02-14T08:55:23.468Z"
      },
      {
        "duration": 331,
        "start_time": "2022-02-14T08:55:44.892Z"
      },
      {
        "duration": 2357,
        "start_time": "2022-02-14T08:56:03.852Z"
      },
      {
        "duration": 2190,
        "start_time": "2022-02-14T08:57:31.908Z"
      },
      {
        "duration": 3165,
        "start_time": "2022-02-14T08:57:57.061Z"
      },
      {
        "duration": 953,
        "start_time": "2022-02-14T08:58:00.228Z"
      },
      {
        "duration": 127,
        "start_time": "2022-02-14T08:58:01.184Z"
      },
      {
        "duration": 492,
        "start_time": "2022-02-14T08:58:01.313Z"
      },
      {
        "duration": 1002,
        "start_time": "2022-02-14T08:58:01.807Z"
      },
      {
        "duration": 2876,
        "start_time": "2022-02-14T08:58:02.811Z"
      },
      {
        "duration": 284,
        "start_time": "2022-02-14T08:58:05.689Z"
      },
      {
        "duration": 18,
        "start_time": "2022-02-14T08:58:05.976Z"
      },
      {
        "duration": 110,
        "start_time": "2022-02-14T08:58:05.997Z"
      },
      {
        "duration": 273,
        "start_time": "2022-02-14T08:58:06.109Z"
      },
      {
        "duration": 186,
        "start_time": "2022-02-14T08:58:06.385Z"
      },
      {
        "duration": 344,
        "start_time": "2022-02-14T08:58:06.573Z"
      },
      {
        "duration": 462,
        "start_time": "2022-02-14T08:58:06.919Z"
      },
      {
        "duration": 18,
        "start_time": "2022-02-14T08:58:07.383Z"
      },
      {
        "duration": 10,
        "start_time": "2022-02-14T08:58:07.403Z"
      },
      {
        "duration": 9,
        "start_time": "2022-02-14T08:58:07.415Z"
      },
      {
        "duration": 204,
        "start_time": "2022-02-14T08:58:07.426Z"
      },
      {
        "duration": 244,
        "start_time": "2022-02-14T08:58:07.632Z"
      },
      {
        "duration": 19,
        "start_time": "2022-02-14T08:58:07.878Z"
      },
      {
        "duration": 11,
        "start_time": "2022-02-14T08:58:07.899Z"
      },
      {
        "duration": 10,
        "start_time": "2022-02-14T08:58:07.911Z"
      },
      {
        "duration": 54,
        "start_time": "2022-02-14T08:58:07.922Z"
      },
      {
        "duration": 1323,
        "start_time": "2022-02-14T08:58:07.979Z"
      },
      {
        "duration": 110,
        "start_time": "2022-02-14T08:58:09.304Z"
      },
      {
        "duration": 43,
        "start_time": "2022-02-14T08:58:09.417Z"
      },
      {
        "duration": 273,
        "start_time": "2022-02-14T08:58:09.462Z"
      },
      {
        "duration": 5,
        "start_time": "2022-02-14T08:58:09.736Z"
      },
      {
        "duration": 21,
        "start_time": "2022-02-14T08:58:09.742Z"
      },
      {
        "duration": 37,
        "start_time": "2022-02-14T08:58:09.765Z"
      },
      {
        "duration": 385,
        "start_time": "2022-02-14T08:58:09.804Z"
      },
      {
        "duration": 33,
        "start_time": "2022-02-14T08:58:10.191Z"
      },
      {
        "duration": 79,
        "start_time": "2022-02-14T08:58:10.226Z"
      },
      {
        "duration": 59,
        "start_time": "2022-02-14T08:58:10.308Z"
      },
      {
        "duration": 238,
        "start_time": "2022-02-14T08:58:10.369Z"
      },
      {
        "duration": 144,
        "start_time": "2022-02-14T08:58:10.609Z"
      },
      {
        "duration": 2247,
        "start_time": "2022-02-14T08:58:10.758Z"
      },
      {
        "duration": 31959,
        "start_time": "2022-02-14T08:58:13.007Z"
      },
      {
        "duration": 79348,
        "start_time": "2022-02-14T08:58:44.969Z"
      },
      {
        "duration": 12859,
        "start_time": "2022-02-14T09:00:04.319Z"
      },
      {
        "duration": 26686,
        "start_time": "2022-02-14T09:00:17.180Z"
      },
      {
        "duration": 2317,
        "start_time": "2022-02-14T09:00:43.868Z"
      },
      {
        "duration": 2167,
        "start_time": "2022-02-14T09:02:57.211Z"
      },
      {
        "duration": 20,
        "start_time": "2022-02-14T09:03:47.730Z"
      },
      {
        "duration": 34,
        "start_time": "2022-02-14T09:05:16.827Z"
      },
      {
        "duration": 3055,
        "start_time": "2022-02-14T09:06:26.020Z"
      },
      {
        "duration": 873,
        "start_time": "2022-02-14T09:06:29.077Z"
      },
      {
        "duration": 127,
        "start_time": "2022-02-14T09:06:29.952Z"
      },
      {
        "duration": 454,
        "start_time": "2022-02-14T09:06:30.081Z"
      },
      {
        "duration": 981,
        "start_time": "2022-02-14T09:06:30.537Z"
      },
      {
        "duration": 2745,
        "start_time": "2022-02-14T09:06:31.519Z"
      },
      {
        "duration": 257,
        "start_time": "2022-02-14T09:06:34.265Z"
      },
      {
        "duration": 17,
        "start_time": "2022-02-14T09:06:34.523Z"
      },
      {
        "duration": 80,
        "start_time": "2022-02-14T09:06:34.543Z"
      },
      {
        "duration": 250,
        "start_time": "2022-02-14T09:06:34.625Z"
      },
      {
        "duration": 173,
        "start_time": "2022-02-14T09:06:34.876Z"
      },
      {
        "duration": 323,
        "start_time": "2022-02-14T09:06:35.051Z"
      },
      {
        "duration": 445,
        "start_time": "2022-02-14T09:06:35.376Z"
      },
      {
        "duration": 17,
        "start_time": "2022-02-14T09:06:35.823Z"
      },
      {
        "duration": 21,
        "start_time": "2022-02-14T09:06:35.841Z"
      },
      {
        "duration": 8,
        "start_time": "2022-02-14T09:06:35.864Z"
      },
      {
        "duration": 182,
        "start_time": "2022-02-14T09:06:35.874Z"
      },
      {
        "duration": 226,
        "start_time": "2022-02-14T09:06:36.059Z"
      },
      {
        "duration": 17,
        "start_time": "2022-02-14T09:06:36.287Z"
      },
      {
        "duration": 9,
        "start_time": "2022-02-14T09:06:36.306Z"
      },
      {
        "duration": 9,
        "start_time": "2022-02-14T09:06:36.317Z"
      },
      {
        "duration": 51,
        "start_time": "2022-02-14T09:06:36.328Z"
      },
      {
        "duration": 1284,
        "start_time": "2022-02-14T09:06:36.381Z"
      },
      {
        "duration": 106,
        "start_time": "2022-02-14T09:06:37.667Z"
      },
      {
        "duration": 29,
        "start_time": "2022-02-14T09:06:37.774Z"
      },
      {
        "duration": 257,
        "start_time": "2022-02-14T09:06:37.805Z"
      },
      {
        "duration": 5,
        "start_time": "2022-02-14T09:06:38.065Z"
      },
      {
        "duration": 10,
        "start_time": "2022-02-14T09:06:38.072Z"
      },
      {
        "duration": 31,
        "start_time": "2022-02-14T09:06:38.083Z"
      },
      {
        "duration": 369,
        "start_time": "2022-02-14T09:06:38.116Z"
      },
      {
        "duration": 33,
        "start_time": "2022-02-14T09:06:38.487Z"
      },
      {
        "duration": 62,
        "start_time": "2022-02-14T09:06:38.522Z"
      },
      {
        "duration": 45,
        "start_time": "2022-02-14T09:06:38.586Z"
      },
      {
        "duration": 235,
        "start_time": "2022-02-14T09:06:38.633Z"
      },
      {
        "duration": 135,
        "start_time": "2022-02-14T09:06:38.869Z"
      },
      {
        "duration": 2128,
        "start_time": "2022-02-14T09:06:39.006Z"
      },
      {
        "duration": 33824,
        "start_time": "2022-02-14T09:06:41.136Z"
      },
      {
        "duration": 79276,
        "start_time": "2022-02-14T09:07:14.963Z"
      },
      {
        "duration": 12611,
        "start_time": "2022-02-14T09:08:34.240Z"
      },
      {
        "duration": 27139,
        "start_time": "2022-02-14T09:08:46.853Z"
      },
      {
        "duration": 364281,
        "start_time": "2022-02-14T09:09:13.994Z"
      },
      {
        "duration": 2601876,
        "start_time": "2022-02-14T09:35:25.658Z"
      },
      {
        "duration": 4,
        "start_time": "2022-02-14T11:14:29.090Z"
      },
      {
        "duration": 43158,
        "start_time": "2022-02-14T11:15:33.531Z"
      },
      {
        "duration": 59,
        "start_time": "2022-02-14T13:13:31.463Z"
      },
      {
        "duration": 80,
        "start_time": "2022-02-14T14:37:06.581Z"
      },
      {
        "duration": 741,
        "start_time": "2022-02-14T14:37:45.591Z"
      },
      {
        "duration": 4686,
        "start_time": "2022-02-14T14:37:52.311Z"
      },
      {
        "duration": 1511,
        "start_time": "2022-02-14T14:37:56.999Z"
      },
      {
        "duration": 145,
        "start_time": "2022-02-14T14:37:58.513Z"
      },
      {
        "duration": 492,
        "start_time": "2022-02-14T14:37:58.661Z"
      },
      {
        "duration": 992,
        "start_time": "2022-02-14T14:37:59.155Z"
      },
      {
        "duration": 3104,
        "start_time": "2022-02-14T14:38:00.149Z"
      },
      {
        "duration": 378,
        "start_time": "2022-02-14T14:38:03.255Z"
      },
      {
        "duration": 21,
        "start_time": "2022-02-14T14:38:03.636Z"
      },
      {
        "duration": 81,
        "start_time": "2022-02-14T14:38:03.659Z"
      },
      {
        "duration": 269,
        "start_time": "2022-02-14T14:38:03.741Z"
      },
      {
        "duration": 174,
        "start_time": "2022-02-14T14:38:04.012Z"
      },
      {
        "duration": 358,
        "start_time": "2022-02-14T14:38:04.188Z"
      },
      {
        "duration": 493,
        "start_time": "2022-02-14T14:38:04.548Z"
      },
      {
        "duration": 19,
        "start_time": "2022-02-14T14:38:05.043Z"
      },
      {
        "duration": 10,
        "start_time": "2022-02-14T14:38:05.064Z"
      },
      {
        "duration": 36,
        "start_time": "2022-02-14T14:38:05.076Z"
      },
      {
        "duration": 167,
        "start_time": "2022-02-14T14:38:07.753Z"
      },
      {
        "duration": 3769,
        "start_time": "2022-02-14T14:52:27.171Z"
      },
      {
        "duration": 1040,
        "start_time": "2022-02-14T14:52:30.943Z"
      },
      {
        "duration": 141,
        "start_time": "2022-02-14T14:52:31.986Z"
      },
      {
        "duration": 470,
        "start_time": "2022-02-14T14:52:32.129Z"
      },
      {
        "duration": 950,
        "start_time": "2022-02-14T14:52:32.607Z"
      },
      {
        "duration": 2997,
        "start_time": "2022-02-14T14:52:33.559Z"
      },
      {
        "duration": 271,
        "start_time": "2022-02-14T14:52:36.557Z"
      },
      {
        "duration": 20,
        "start_time": "2022-02-14T14:52:36.830Z"
      },
      {
        "duration": 77,
        "start_time": "2022-02-14T14:52:36.852Z"
      },
      {
        "duration": 260,
        "start_time": "2022-02-14T14:52:36.931Z"
      },
      {
        "duration": 173,
        "start_time": "2022-02-14T14:52:37.193Z"
      },
      {
        "duration": 361,
        "start_time": "2022-02-14T14:52:37.368Z"
      },
      {
        "duration": 576,
        "start_time": "2022-02-14T14:52:37.731Z"
      },
      {
        "duration": 19,
        "start_time": "2022-02-14T14:52:38.310Z"
      },
      {
        "duration": 14,
        "start_time": "2022-02-14T14:52:38.332Z"
      },
      {
        "duration": 16,
        "start_time": "2022-02-14T14:52:38.348Z"
      },
      {
        "duration": 188,
        "start_time": "2022-02-14T14:52:38.366Z"
      },
      {
        "duration": 235,
        "start_time": "2022-02-14T14:52:38.556Z"
      },
      {
        "duration": 32,
        "start_time": "2022-02-14T14:52:38.793Z"
      },
      {
        "duration": 10,
        "start_time": "2022-02-14T14:52:38.827Z"
      },
      {
        "duration": 10,
        "start_time": "2022-02-14T14:52:38.839Z"
      },
      {
        "duration": 24,
        "start_time": "2022-02-14T14:52:38.851Z"
      },
      {
        "duration": 1415,
        "start_time": "2022-02-14T14:52:38.907Z"
      },
      {
        "duration": 109,
        "start_time": "2022-02-14T14:52:40.325Z"
      },
      {
        "duration": 34,
        "start_time": "2022-02-14T14:52:40.436Z"
      },
      {
        "duration": 288,
        "start_time": "2022-02-14T14:52:40.473Z"
      },
      {
        "duration": 5,
        "start_time": "2022-02-14T14:52:40.763Z"
      },
      {
        "duration": 43,
        "start_time": "2022-02-14T14:52:40.770Z"
      },
      {
        "duration": 67,
        "start_time": "2022-02-14T14:52:40.814Z"
      },
      {
        "duration": 361,
        "start_time": "2022-02-14T14:52:40.884Z"
      },
      {
        "duration": 34,
        "start_time": "2022-02-14T14:52:41.247Z"
      },
      {
        "duration": 79,
        "start_time": "2022-02-14T14:52:41.283Z"
      },
      {
        "duration": 55,
        "start_time": "2022-02-14T14:52:41.363Z"
      },
      {
        "duration": 250,
        "start_time": "2022-02-14T14:52:41.420Z"
      },
      {
        "duration": 138,
        "start_time": "2022-02-14T14:52:41.672Z"
      },
      {
        "duration": 214,
        "start_time": "2022-02-14T14:52:41.812Z"
      },
      {
        "duration": 1830,
        "start_time": "2022-02-14T14:52:42.027Z"
      },
      {
        "duration": 451,
        "start_time": "2022-02-14T14:52:43.859Z"
      },
      {
        "duration": 22,
        "start_time": "2022-02-14T14:54:13.609Z"
      },
      {
        "duration": 20,
        "start_time": "2022-02-14T14:54:26.435Z"
      },
      {
        "duration": 116,
        "start_time": "2022-02-14T14:54:46.866Z"
      },
      {
        "duration": 138,
        "start_time": "2022-02-14T14:55:00.594Z"
      },
      {
        "duration": 338,
        "start_time": "2022-02-14T14:55:22.114Z"
      },
      {
        "duration": 78,
        "start_time": "2022-02-14T14:57:18.202Z"
      },
      {
        "duration": 1909,
        "start_time": "2022-02-14T14:57:43.849Z"
      },
      {
        "duration": 1800,
        "start_time": "2022-02-14T14:58:08.690Z"
      },
      {
        "duration": 160,
        "start_time": "2022-02-14T14:58:52.354Z"
      },
      {
        "duration": 25963,
        "start_time": "2022-02-14T15:04:37.547Z"
      },
      {
        "duration": 12,
        "start_time": "2022-02-14T15:07:36.074Z"
      },
      {
        "duration": 12,
        "start_time": "2022-02-14T15:07:54.150Z"
      },
      {
        "duration": 5,
        "start_time": "2022-02-14T15:10:23.818Z"
      },
      {
        "duration": 5,
        "start_time": "2022-02-14T15:10:39.402Z"
      },
      {
        "duration": 191,
        "start_time": "2022-02-14T15:16:05.375Z"
      },
      {
        "duration": 26787,
        "start_time": "2022-02-14T15:16:13.123Z"
      },
      {
        "duration": 71913,
        "start_time": "2022-02-14T15:20:24.027Z"
      },
      {
        "duration": 32,
        "start_time": "2022-02-14T15:37:34.509Z"
      },
      {
        "duration": 28882,
        "start_time": "2022-02-14T15:46:18.926Z"
      },
      {
        "duration": 73326,
        "start_time": "2022-02-14T15:48:12.097Z"
      },
      {
        "duration": 26511,
        "start_time": "2022-02-14T15:50:46.899Z"
      },
      {
        "duration": 72520,
        "start_time": "2022-02-14T15:51:17.158Z"
      },
      {
        "duration": 3716,
        "start_time": "2022-02-14T15:57:49.969Z"
      },
      {
        "duration": 1354,
        "start_time": "2022-02-14T15:57:53.687Z"
      },
      {
        "duration": 140,
        "start_time": "2022-02-14T15:57:55.043Z"
      },
      {
        "duration": 510,
        "start_time": "2022-02-14T15:57:55.186Z"
      },
      {
        "duration": 1167,
        "start_time": "2022-02-14T15:57:55.698Z"
      },
      {
        "duration": 3242,
        "start_time": "2022-02-14T15:57:56.867Z"
      },
      {
        "duration": 310,
        "start_time": "2022-02-14T15:58:00.111Z"
      },
      {
        "duration": 22,
        "start_time": "2022-02-14T15:58:00.423Z"
      },
      {
        "duration": 90,
        "start_time": "2022-02-14T15:58:00.448Z"
      },
      {
        "duration": 312,
        "start_time": "2022-02-14T15:58:00.540Z"
      },
      {
        "duration": 218,
        "start_time": "2022-02-14T15:58:00.854Z"
      },
      {
        "duration": 407,
        "start_time": "2022-02-14T15:58:01.075Z"
      },
      {
        "duration": 525,
        "start_time": "2022-02-14T15:58:01.484Z"
      },
      {
        "duration": 21,
        "start_time": "2022-02-14T15:58:02.011Z"
      },
      {
        "duration": 38,
        "start_time": "2022-02-14T15:58:02.035Z"
      },
      {
        "duration": 22,
        "start_time": "2022-02-14T15:58:02.075Z"
      },
      {
        "duration": 208,
        "start_time": "2022-02-14T15:58:02.099Z"
      },
      {
        "duration": 271,
        "start_time": "2022-02-14T15:58:02.309Z"
      },
      {
        "duration": 34,
        "start_time": "2022-02-14T15:58:02.583Z"
      },
      {
        "duration": 13,
        "start_time": "2022-02-14T15:58:02.619Z"
      },
      {
        "duration": 17,
        "start_time": "2022-02-14T15:58:02.634Z"
      },
      {
        "duration": 50,
        "start_time": "2022-02-14T15:58:02.653Z"
      },
      {
        "duration": 1594,
        "start_time": "2022-02-14T15:58:02.707Z"
      },
      {
        "duration": 122,
        "start_time": "2022-02-14T15:58:04.307Z"
      },
      {
        "duration": 37,
        "start_time": "2022-02-14T15:58:04.432Z"
      },
      {
        "duration": 342,
        "start_time": "2022-02-14T15:58:04.471Z"
      },
      {
        "duration": 6,
        "start_time": "2022-02-14T15:58:04.816Z"
      },
      {
        "duration": 14,
        "start_time": "2022-02-14T15:58:04.825Z"
      },
      {
        "duration": 68,
        "start_time": "2022-02-14T15:58:04.841Z"
      },
      {
        "duration": 414,
        "start_time": "2022-02-14T15:58:04.910Z"
      },
      {
        "duration": 37,
        "start_time": "2022-02-14T15:58:05.327Z"
      },
      {
        "duration": 83,
        "start_time": "2022-02-14T15:58:05.366Z"
      },
      {
        "duration": 63,
        "start_time": "2022-02-14T15:58:05.450Z"
      },
      {
        "duration": 266,
        "start_time": "2022-02-14T15:58:05.515Z"
      },
      {
        "duration": 170,
        "start_time": "2022-02-14T15:58:05.784Z"
      },
      {
        "duration": 254,
        "start_time": "2022-02-14T15:58:05.956Z"
      },
      {
        "duration": 1898,
        "start_time": "2022-02-14T15:58:06.212Z"
      },
      {
        "duration": 227,
        "start_time": "2022-02-14T15:58:08.112Z"
      },
      {
        "duration": 28267,
        "start_time": "2022-02-14T15:58:08.342Z"
      },
      {
        "duration": 74303,
        "start_time": "2022-02-14T15:58:36.611Z"
      },
      {
        "duration": 11713,
        "start_time": "2022-02-14T15:59:50.915Z"
      },
      {
        "duration": 30896,
        "start_time": "2022-02-14T16:00:02.630Z"
      },
      {
        "duration": 15998,
        "start_time": "2022-02-14T16:00:33.528Z"
      },
      {
        "duration": 544519,
        "start_time": "2022-02-14T16:11:09.335Z"
      },
      {
        "duration": 267626,
        "start_time": "2022-02-14T16:21:19.858Z"
      },
      {
        "duration": 298432,
        "start_time": "2022-02-14T16:26:55.986Z"
      },
      {
        "duration": 4,
        "start_time": "2022-02-14T16:32:37.017Z"
      },
      {
        "duration": 15726,
        "start_time": "2022-02-14T16:32:50.997Z"
      },
      {
        "duration": 1532270,
        "start_time": "2022-02-14T16:38:08.338Z"
      },
      {
        "duration": 190947,
        "start_time": "2022-02-14T17:04:03.981Z"
      },
      {
        "duration": 6,
        "start_time": "2022-02-14T17:09:59.818Z"
      },
      {
        "duration": 21,
        "start_time": "2022-02-14T17:10:29.114Z"
      },
      {
        "duration": 5,
        "start_time": "2022-02-14T17:13:23.027Z"
      },
      {
        "duration": 153418,
        "start_time": "2022-02-14T17:21:05.791Z"
      }
    ],
    "kernelspec": {
      "display_name": "Python 3 (ipykernel)",
      "language": "python",
      "name": "python3"
    },
    "language_info": {
      "codemirror_mode": {
        "name": "ipython",
        "version": 3
      },
      "file_extension": ".py",
      "mimetype": "text/x-python",
      "name": "python",
      "nbconvert_exporter": "python",
      "pygments_lexer": "ipython3",
      "version": "3.9.5"
    },
    "toc": {
      "base_numbering": 1,
      "nav_menu": {},
      "number_sections": true,
      "sideBar": true,
      "skip_h1_title": true,
      "title_cell": "Table of Contents",
      "title_sidebar": "Contents",
      "toc_cell": false,
      "toc_position": {
        "height": "calc(100% - 180px)",
        "left": "10px",
        "top": "150px",
        "width": "366.391px"
      },
      "toc_section_display": true,
      "toc_window_display": true
    },
    "colab": {
      "name": "DariaNika_ML_price_prediction_marketplace.ipynb",
      "provenance": [],
      "collapsed_sections": [
        "YZSGbYsWzLQ_",
        "1Hn_D5vjzLRR",
        "aNQdxuY8zLRT",
        "8_w4ZcEmzLRU"
      ]
    }
  },
  "nbformat": 4,
  "nbformat_minor": 0
}