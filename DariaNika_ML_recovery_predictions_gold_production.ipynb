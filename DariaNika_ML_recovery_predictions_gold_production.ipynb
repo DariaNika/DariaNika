{
  "cells": [
    {
      "cell_type": "markdown",
      "metadata": {
        "toc": true,
        "id": "V17BfmzSrFZx"
      },
      "source": [
        "<h1>Содержание<span class=\"tocSkip\"></span></h1>\n",
        "<div class=\"toc\"><ul class=\"toc-item\"><li><span><a href=\"#Техническое-задание\" data-toc-modified-id=\"Техническое-задание-1\"><span class=\"toc-item-num\">1&nbsp;&nbsp;</span>Техническое задание</a></span></li><li><span><a href=\"#Подготовка-данных\" data-toc-modified-id=\"Подготовка-данных-2\"><span class=\"toc-item-num\">2&nbsp;&nbsp;</span>Подготовка данных</a></span><ul class=\"toc-item\"><li><span><a href=\"#Проверка-расчета-коэффициента-эффективности-обогащения\" data-toc-modified-id=\"Проверка-расчета-коэффициента-эффективности-обогащения-2.1\"><span class=\"toc-item-num\">2.1&nbsp;&nbsp;</span>Проверка расчета коэффициента эффективности обогащения</a></span></li><li><span><a href=\"#Анализ-отличий-признаков-в-выборках\" data-toc-modified-id=\"Анализ-отличий-признаков-в-выборках-2.2\"><span class=\"toc-item-num\">2.2&nbsp;&nbsp;</span>Анализ отличий признаков в выборках</a></span></li><li><span><a href=\"#Предобработка-данных\" data-toc-modified-id=\"Предобработка-данных-2.3\"><span class=\"toc-item-num\">2.3&nbsp;&nbsp;</span>Предобработка данных</a></span></li></ul></li><li><span><a href=\"#Анализ-данных\" data-toc-modified-id=\"Анализ-данных-3\"><span class=\"toc-item-num\">3&nbsp;&nbsp;</span>Анализ данных</a></span><ul class=\"toc-item\"><li><span><a href=\"#Проанализируем-концентрацию-металлов-на-каждом-этапе-очистки\" data-toc-modified-id=\"Проанализируем-концентрацию-металлов-на-каждом-этапе-очистки-3.1\"><span class=\"toc-item-num\">3.1&nbsp;&nbsp;</span>Проанализируем концентрацию металлов на каждом этапе очистки</a></span></li><li><span><a href=\"#Сравним-размеры-гранул-сырья-на-обучающей-и-тестовой-выборках\" data-toc-modified-id=\"Сравним-размеры-гранул-сырья-на-обучающей-и-тестовой-выборках-3.2\"><span class=\"toc-item-num\">3.2&nbsp;&nbsp;</span>Сравним размеры гранул сырья на обучающей и тестовой выборках</a></span></li><li><span><a href=\"#Суммарная-концентрация-всех-веществ\" data-toc-modified-id=\"Суммарная-концентрация-всех-веществ-3.3\"><span class=\"toc-item-num\">3.3&nbsp;&nbsp;</span>Суммарная концентрация всех веществ</a></span></li></ul></li><li><span><a href=\"#Модель\" data-toc-modified-id=\"Модель-4\"><span class=\"toc-item-num\">4&nbsp;&nbsp;</span>Модель</a></span><ul class=\"toc-item\"><li><span><a href=\"#Вычисление-итоговой-sMAPE:-функции\" data-toc-modified-id=\"Вычисление-итоговой-sMAPE:-функции-4.1\"><span class=\"toc-item-num\">4.1&nbsp;&nbsp;</span>Вычисление итоговой sMAPE: функции</a></span></li><li><span><a href=\"#Подготовим-данные-для-построения-моделей:\" data-toc-modified-id=\"Подготовим-данные-для-построения-моделей:-4.2\"><span class=\"toc-item-num\">4.2&nbsp;&nbsp;</span>Подготовим данные для построения моделей:</a></span></li><li><span><a href=\"#Проверка-лучшей-модели-на-тестовой-выборке\" data-toc-modified-id=\"Проверка-лучшей-модели-на-тестовой-выборке-4.3\"><span class=\"toc-item-num\">4.3&nbsp;&nbsp;</span>Проверка лучшей модели на тестовой выборке</a></span></li><li><span><a href=\"#Оценка-успешности-выбранной-модели\" data-toc-modified-id=\"Оценка-успешности-выбранной-модели-4.4\"><span class=\"toc-item-num\">4.4&nbsp;&nbsp;</span>Оценка успешности выбранной модели</a></span></li></ul></li><li><span><a href=\"#Вывод\" data-toc-modified-id=\"Вывод-5\"><span class=\"toc-item-num\">5&nbsp;&nbsp;</span>Вывод</a></span></li></ul></div>"
      ]
    },
    {
      "cell_type": "markdown",
      "metadata": {
        "id": "hQPFr2y-rFZy"
      },
      "source": [
        "# Восстановление золота из руды"
      ]
    },
    {
      "cell_type": "markdown",
      "metadata": {
        "id": "OuI5GvZorFZz"
      },
      "source": [
        "## Техническое задание\n",
        "\n",
        "Подготовьте прототип модели машинного обучения для компании, разрабатывающей решения для эффективной работы промышленных предприятий.\n",
        "\n",
        "Модель должна предсказать коэффициент восстановления золота из золотосодержащей руды. Используйте данные с параметрами добычи и очистки.\n",
        "\n",
        "Модель поможет оптимизировать производство, чтобы не запускать предприятие с убыточными характеристиками.\n",
        "\n",
        "В ходе работы данные подготавливаются для анализа, проводится исследовательский анализ данных, строится модель. Используются простые модели: дерево решений, случайный лес, линейная регрессия. Результаты сравниваются со случайной моделью. Для подбора параметров и лучших результатов работы модели используется кросс-валидация. Для оценки работы моделей используется метрика MAE и кастомная метрика SMAPE. Работа ведётся с ипользованием библиотек pandas, matplotlib, numpy, seaborn, scipy, missingno, sklearn."
      ]
    },
    {
      "cell_type": "markdown",
      "metadata": {
        "id": "qZp1Pb9PrFZz"
      },
      "source": [
        "## Подготовка данных"
      ]
    },
    {
      "cell_type": "markdown",
      "metadata": {
        "id": "pKkYnvbMrFZz"
      },
      "source": [
        "Импортируем модули, которые нам понадобятся для дальнейшей работы."
      ]
    },
    {
      "cell_type": "code",
      "execution_count": null,
      "metadata": {
        "id": "urPjU4nrrFZz",
        "outputId": "a7a60541-5bec-441b-8419-3ed5163427d5"
      },
      "outputs": [
        {
          "name": "stdout",
          "output_type": "stream",
          "text": [
            "Defaulting to user installation because normal site-packages is not writeable\n",
            "Collecting missingno\n",
            "  Downloading missingno-0.5.0-py3-none-any.whl (8.8 kB)\n",
            "Requirement already satisfied: matplotlib in /opt/conda/lib/python3.7/site-packages (from missingno) (3.1.0)\n",
            "Requirement already satisfied: seaborn in /opt/conda/lib/python3.7/site-packages (from missingno) (0.9.0)\n",
            "Requirement already satisfied: scipy in /opt/conda/lib/python3.7/site-packages (from missingno) (1.4.1)\n",
            "Requirement already satisfied: numpy in /opt/conda/lib/python3.7/site-packages (from missingno) (1.19.5)\n",
            "Requirement already satisfied: pyparsing!=2.0.4,!=2.1.2,!=2.1.6,>=2.0.1 in /opt/conda/lib/python3.7/site-packages (from matplotlib->missingno) (2.4.7)\n",
            "Requirement already satisfied: cycler>=0.10 in /opt/conda/lib/python3.7/site-packages (from matplotlib->missingno) (0.10.0)\n",
            "Requirement already satisfied: python-dateutil>=2.1 in /opt/conda/lib/python3.7/site-packages (from matplotlib->missingno) (2.8.1)\n",
            "Requirement already satisfied: kiwisolver>=1.0.1 in /opt/conda/lib/python3.7/site-packages (from matplotlib->missingno) (1.3.1)\n",
            "Requirement already satisfied: pandas>=0.15.2 in /opt/conda/lib/python3.7/site-packages (from seaborn->missingno) (0.25.1)\n",
            "Requirement already satisfied: six in /opt/conda/lib/python3.7/site-packages (from cycler>=0.10->matplotlib->missingno) (1.15.0)\n",
            "Requirement already satisfied: pytz>=2017.2 in /opt/conda/lib/python3.7/site-packages (from pandas>=0.15.2->seaborn->missingno) (2021.1)\n",
            "Installing collected packages: missingno\n",
            "Successfully installed missingno-0.5.0\n"
          ]
        }
      ],
      "source": [
        "import pandas as pd\n",
        "import matplotlib.pyplot as plt\n",
        "import numpy as np\n",
        "import seaborn as sb\n",
        "from scipy import stats as st\n",
        "!pip install missingno\n",
        "import missingno as msno\n",
        "\n",
        "from sklearn.preprocessing import StandardScaler\n",
        "from sklearn.model_selection import cross_val_score\n",
        "from sklearn.tree import DecisionTreeRegressor\n",
        "from sklearn.ensemble import RandomForestRegressor\n",
        "from sklearn.linear_model import LinearRegression\n",
        "from sklearn.dummy import DummyRegressor\n",
        "from sklearn.metrics import (mean_absolute_error,\n",
        "                             make_scorer)\n",
        "import warnings\n",
        "warnings.simplefilter('ignore')"
      ]
    },
    {
      "cell_type": "markdown",
      "metadata": {
        "id": "pCMwH8XQrFZ1"
      },
      "source": [
        "Читаем базы данных."
      ]
    },
    {
      "cell_type": "code",
      "execution_count": null,
      "metadata": {
        "id": "3kaaP6SdrFZ1",
        "outputId": "d6f8732e-6d1e-43ad-9ad0-6382a141b213"
      },
      "outputs": [
        {
          "data": {
            "text/html": [
              "<div>\n",
              "<style scoped>\n",
              "    .dataframe tbody tr th:only-of-type {\n",
              "        vertical-align: middle;\n",
              "    }\n",
              "\n",
              "    .dataframe tbody tr th {\n",
              "        vertical-align: top;\n",
              "    }\n",
              "\n",
              "    .dataframe thead th {\n",
              "        text-align: right;\n",
              "    }\n",
              "</style>\n",
              "<table border=\"1\" class=\"dataframe\">\n",
              "  <thead>\n",
              "    <tr style=\"text-align: right;\">\n",
              "      <th></th>\n",
              "      <th>0</th>\n",
              "      <th>1</th>\n",
              "      <th>2</th>\n",
              "      <th>3</th>\n",
              "      <th>4</th>\n",
              "    </tr>\n",
              "  </thead>\n",
              "  <tbody>\n",
              "    <tr>\n",
              "      <td>date</td>\n",
              "      <td>2016-01-15 00:00:00</td>\n",
              "      <td>2016-01-15 01:00:00</td>\n",
              "      <td>2016-01-15 02:00:00</td>\n",
              "      <td>2016-01-15 03:00:00</td>\n",
              "      <td>2016-01-15 04:00:00</td>\n",
              "    </tr>\n",
              "    <tr>\n",
              "      <td>final.output.concentrate_ag</td>\n",
              "      <td>6.0554</td>\n",
              "      <td>6.02937</td>\n",
              "      <td>6.05593</td>\n",
              "      <td>6.04798</td>\n",
              "      <td>6.1486</td>\n",
              "    </tr>\n",
              "    <tr>\n",
              "      <td>final.output.concentrate_pb</td>\n",
              "      <td>9.88965</td>\n",
              "      <td>9.96894</td>\n",
              "      <td>10.214</td>\n",
              "      <td>9.97702</td>\n",
              "      <td>10.1425</td>\n",
              "    </tr>\n",
              "    <tr>\n",
              "      <td>final.output.concentrate_sol</td>\n",
              "      <td>5.50732</td>\n",
              "      <td>5.25778</td>\n",
              "      <td>5.38376</td>\n",
              "      <td>4.85863</td>\n",
              "      <td>4.93942</td>\n",
              "    </tr>\n",
              "    <tr>\n",
              "      <td>final.output.concentrate_au</td>\n",
              "      <td>42.192</td>\n",
              "      <td>42.7016</td>\n",
              "      <td>42.6575</td>\n",
              "      <td>42.6898</td>\n",
              "      <td>42.7741</td>\n",
              "    </tr>\n",
              "    <tr>\n",
              "      <td>...</td>\n",
              "      <td>...</td>\n",
              "      <td>...</td>\n",
              "      <td>...</td>\n",
              "      <td>...</td>\n",
              "      <td>...</td>\n",
              "    </tr>\n",
              "    <tr>\n",
              "      <td>secondary_cleaner.state.floatbank5_a_level</td>\n",
              "      <td>-498.31</td>\n",
              "      <td>-500.17</td>\n",
              "      <td>-500.129</td>\n",
              "      <td>-499.202</td>\n",
              "      <td>-501.687</td>\n",
              "    </tr>\n",
              "    <tr>\n",
              "      <td>secondary_cleaner.state.floatbank5_b_air</td>\n",
              "      <td>8.07967</td>\n",
              "      <td>7.98476</td>\n",
              "      <td>8.01388</td>\n",
              "      <td>7.97732</td>\n",
              "      <td>7.89424</td>\n",
              "    </tr>\n",
              "    <tr>\n",
              "      <td>secondary_cleaner.state.floatbank5_b_level</td>\n",
              "      <td>-500.471</td>\n",
              "      <td>-500.582</td>\n",
              "      <td>-500.518</td>\n",
              "      <td>-500.256</td>\n",
              "      <td>-500.356</td>\n",
              "    </tr>\n",
              "    <tr>\n",
              "      <td>secondary_cleaner.state.floatbank6_a_air</td>\n",
              "      <td>14.1513</td>\n",
              "      <td>13.9984</td>\n",
              "      <td>14.0287</td>\n",
              "      <td>14.0056</td>\n",
              "      <td>13.9966</td>\n",
              "    </tr>\n",
              "    <tr>\n",
              "      <td>secondary_cleaner.state.floatbank6_a_level</td>\n",
              "      <td>-605.842</td>\n",
              "      <td>-599.787</td>\n",
              "      <td>-601.427</td>\n",
              "      <td>-599.996</td>\n",
              "      <td>-601.497</td>\n",
              "    </tr>\n",
              "  </tbody>\n",
              "</table>\n",
              "<p>87 rows × 5 columns</p>\n",
              "</div>"
            ],
            "text/plain": [
              "                                                              0  \\\n",
              "date                                        2016-01-15 00:00:00   \n",
              "final.output.concentrate_ag                              6.0554   \n",
              "final.output.concentrate_pb                             9.88965   \n",
              "final.output.concentrate_sol                            5.50732   \n",
              "final.output.concentrate_au                              42.192   \n",
              "...                                                         ...   \n",
              "secondary_cleaner.state.floatbank5_a_level              -498.31   \n",
              "secondary_cleaner.state.floatbank5_b_air                8.07967   \n",
              "secondary_cleaner.state.floatbank5_b_level             -500.471   \n",
              "secondary_cleaner.state.floatbank6_a_air                14.1513   \n",
              "secondary_cleaner.state.floatbank6_a_level             -605.842   \n",
              "\n",
              "                                                              1  \\\n",
              "date                                        2016-01-15 01:00:00   \n",
              "final.output.concentrate_ag                             6.02937   \n",
              "final.output.concentrate_pb                             9.96894   \n",
              "final.output.concentrate_sol                            5.25778   \n",
              "final.output.concentrate_au                             42.7016   \n",
              "...                                                         ...   \n",
              "secondary_cleaner.state.floatbank5_a_level              -500.17   \n",
              "secondary_cleaner.state.floatbank5_b_air                7.98476   \n",
              "secondary_cleaner.state.floatbank5_b_level             -500.582   \n",
              "secondary_cleaner.state.floatbank6_a_air                13.9984   \n",
              "secondary_cleaner.state.floatbank6_a_level             -599.787   \n",
              "\n",
              "                                                              2  \\\n",
              "date                                        2016-01-15 02:00:00   \n",
              "final.output.concentrate_ag                             6.05593   \n",
              "final.output.concentrate_pb                              10.214   \n",
              "final.output.concentrate_sol                            5.38376   \n",
              "final.output.concentrate_au                             42.6575   \n",
              "...                                                         ...   \n",
              "secondary_cleaner.state.floatbank5_a_level             -500.129   \n",
              "secondary_cleaner.state.floatbank5_b_air                8.01388   \n",
              "secondary_cleaner.state.floatbank5_b_level             -500.518   \n",
              "secondary_cleaner.state.floatbank6_a_air                14.0287   \n",
              "secondary_cleaner.state.floatbank6_a_level             -601.427   \n",
              "\n",
              "                                                              3  \\\n",
              "date                                        2016-01-15 03:00:00   \n",
              "final.output.concentrate_ag                             6.04798   \n",
              "final.output.concentrate_pb                             9.97702   \n",
              "final.output.concentrate_sol                            4.85863   \n",
              "final.output.concentrate_au                             42.6898   \n",
              "...                                                         ...   \n",
              "secondary_cleaner.state.floatbank5_a_level             -499.202   \n",
              "secondary_cleaner.state.floatbank5_b_air                7.97732   \n",
              "secondary_cleaner.state.floatbank5_b_level             -500.256   \n",
              "secondary_cleaner.state.floatbank6_a_air                14.0056   \n",
              "secondary_cleaner.state.floatbank6_a_level             -599.996   \n",
              "\n",
              "                                                              4  \n",
              "date                                        2016-01-15 04:00:00  \n",
              "final.output.concentrate_ag                              6.1486  \n",
              "final.output.concentrate_pb                             10.1425  \n",
              "final.output.concentrate_sol                            4.93942  \n",
              "final.output.concentrate_au                             42.7741  \n",
              "...                                                         ...  \n",
              "secondary_cleaner.state.floatbank5_a_level             -501.687  \n",
              "secondary_cleaner.state.floatbank5_b_air                7.89424  \n",
              "secondary_cleaner.state.floatbank5_b_level             -500.356  \n",
              "secondary_cleaner.state.floatbank6_a_air                13.9966  \n",
              "secondary_cleaner.state.floatbank6_a_level             -601.497  \n",
              "\n",
              "[87 rows x 5 columns]"
            ]
          },
          "metadata": {},
          "output_type": "display_data"
        },
        {
          "name": "stdout",
          "output_type": "stream",
          "text": [
            "<class 'pandas.core.frame.DataFrame'>\n",
            "RangeIndex: 19439 entries, 0 to 19438\n",
            "Data columns (total 87 columns):\n",
            "date                                                  19439 non-null object\n",
            "final.output.concentrate_ag                           19438 non-null float64\n",
            "final.output.concentrate_pb                           19438 non-null float64\n",
            "final.output.concentrate_sol                          19228 non-null float64\n",
            "final.output.concentrate_au                           19439 non-null float64\n",
            "final.output.recovery                                 19439 non-null float64\n",
            "final.output.tail_ag                                  19438 non-null float64\n",
            "final.output.tail_pb                                  19338 non-null float64\n",
            "final.output.tail_sol                                 19433 non-null float64\n",
            "final.output.tail_au                                  19439 non-null float64\n",
            "primary_cleaner.input.sulfate                         19415 non-null float64\n",
            "primary_cleaner.input.depressant                      19402 non-null float64\n",
            "primary_cleaner.input.feed_size                       19439 non-null float64\n",
            "primary_cleaner.input.xanthate                        19335 non-null float64\n",
            "primary_cleaner.output.concentrate_ag                 19439 non-null float64\n",
            "primary_cleaner.output.concentrate_pb                 19323 non-null float64\n",
            "primary_cleaner.output.concentrate_sol                19069 non-null float64\n",
            "primary_cleaner.output.concentrate_au                 19439 non-null float64\n",
            "primary_cleaner.output.tail_ag                        19435 non-null float64\n",
            "primary_cleaner.output.tail_pb                        19418 non-null float64\n",
            "primary_cleaner.output.tail_sol                       19377 non-null float64\n",
            "primary_cleaner.output.tail_au                        19439 non-null float64\n",
            "primary_cleaner.state.floatbank8_a_air                19435 non-null float64\n",
            "primary_cleaner.state.floatbank8_a_level              19438 non-null float64\n",
            "primary_cleaner.state.floatbank8_b_air                19435 non-null float64\n",
            "primary_cleaner.state.floatbank8_b_level              19438 non-null float64\n",
            "primary_cleaner.state.floatbank8_c_air                19437 non-null float64\n",
            "primary_cleaner.state.floatbank8_c_level              19438 non-null float64\n",
            "primary_cleaner.state.floatbank8_d_air                19436 non-null float64\n",
            "primary_cleaner.state.floatbank8_d_level              19438 non-null float64\n",
            "rougher.calculation.sulfate_to_au_concentrate         19437 non-null float64\n",
            "rougher.calculation.floatbank10_sulfate_to_au_feed    19437 non-null float64\n",
            "rougher.calculation.floatbank11_sulfate_to_au_feed    19437 non-null float64\n",
            "rougher.calculation.au_pb_ratio                       19439 non-null float64\n",
            "rougher.input.feed_ag                                 19439 non-null float64\n",
            "rougher.input.feed_pb                                 19339 non-null float64\n",
            "rougher.input.feed_rate                               19428 non-null float64\n",
            "rougher.input.feed_size                               19294 non-null float64\n",
            "rougher.input.feed_sol                                19340 non-null float64\n",
            "rougher.input.feed_au                                 19439 non-null float64\n",
            "rougher.input.floatbank10_sulfate                     19405 non-null float64\n",
            "rougher.input.floatbank10_xanthate                    19431 non-null float64\n",
            "rougher.input.floatbank11_sulfate                     19395 non-null float64\n",
            "rougher.input.floatbank11_xanthate                    18986 non-null float64\n",
            "rougher.output.concentrate_ag                         19439 non-null float64\n",
            "rougher.output.concentrate_pb                         19439 non-null float64\n",
            "rougher.output.concentrate_sol                        19416 non-null float64\n",
            "rougher.output.concentrate_au                         19439 non-null float64\n",
            "rougher.output.recovery                               19439 non-null float64\n",
            "rougher.output.tail_ag                                19438 non-null float64\n",
            "rougher.output.tail_pb                                19439 non-null float64\n",
            "rougher.output.tail_sol                               19439 non-null float64\n",
            "rougher.output.tail_au                                19439 non-null float64\n",
            "rougher.state.floatbank10_a_air                       19438 non-null float64\n",
            "rougher.state.floatbank10_a_level                     19438 non-null float64\n",
            "rougher.state.floatbank10_b_air                       19438 non-null float64\n",
            "rougher.state.floatbank10_b_level                     19438 non-null float64\n",
            "rougher.state.floatbank10_c_air                       19438 non-null float64\n",
            "rougher.state.floatbank10_c_level                     19438 non-null float64\n",
            "rougher.state.floatbank10_d_air                       19439 non-null float64\n",
            "rougher.state.floatbank10_d_level                     19439 non-null float64\n",
            "rougher.state.floatbank10_e_air                       19003 non-null float64\n",
            "rougher.state.floatbank10_e_level                     19439 non-null float64\n",
            "rougher.state.floatbank10_f_air                       19439 non-null float64\n",
            "rougher.state.floatbank10_f_level                     19439 non-null float64\n",
            "secondary_cleaner.output.tail_ag                      19437 non-null float64\n",
            "secondary_cleaner.output.tail_pb                      19427 non-null float64\n",
            "secondary_cleaner.output.tail_sol                     17691 non-null float64\n",
            "secondary_cleaner.output.tail_au                      19439 non-null float64\n",
            "secondary_cleaner.state.floatbank2_a_air              19219 non-null float64\n",
            "secondary_cleaner.state.floatbank2_a_level            19438 non-null float64\n",
            "secondary_cleaner.state.floatbank2_b_air              19416 non-null float64\n",
            "secondary_cleaner.state.floatbank2_b_level            19438 non-null float64\n",
            "secondary_cleaner.state.floatbank3_a_air              19426 non-null float64\n",
            "secondary_cleaner.state.floatbank3_a_level            19438 non-null float64\n",
            "secondary_cleaner.state.floatbank3_b_air              19438 non-null float64\n",
            "secondary_cleaner.state.floatbank3_b_level            19438 non-null float64\n",
            "secondary_cleaner.state.floatbank4_a_air              19433 non-null float64\n",
            "secondary_cleaner.state.floatbank4_a_level            19438 non-null float64\n",
            "secondary_cleaner.state.floatbank4_b_air              19438 non-null float64\n",
            "secondary_cleaner.state.floatbank4_b_level            19438 non-null float64\n",
            "secondary_cleaner.state.floatbank5_a_air              19438 non-null float64\n",
            "secondary_cleaner.state.floatbank5_a_level            19438 non-null float64\n",
            "secondary_cleaner.state.floatbank5_b_air              19438 non-null float64\n",
            "secondary_cleaner.state.floatbank5_b_level            19438 non-null float64\n",
            "secondary_cleaner.state.floatbank6_a_air              19437 non-null float64\n",
            "secondary_cleaner.state.floatbank6_a_level            19438 non-null float64\n",
            "dtypes: float64(86), object(1)\n",
            "memory usage: 12.9+ MB\n"
          ]
        }
      ],
      "source": [
        "df_full = pd.read_csv('/datasets/gold_recovery_full_new.csv', sep= ',')\n",
        "display(df_full.head().T)\n",
        "df_full.info()"
      ]
    },
    {
      "cell_type": "code",
      "execution_count": null,
      "metadata": {
        "id": "ZOOzYrhzrFZ1",
        "outputId": "d9e9f648-8d57-4d5e-b673-a06defb2f19c"
      },
      "outputs": [
        {
          "data": {
            "text/html": [
              "<div>\n",
              "<style scoped>\n",
              "    .dataframe tbody tr th:only-of-type {\n",
              "        vertical-align: middle;\n",
              "    }\n",
              "\n",
              "    .dataframe tbody tr th {\n",
              "        vertical-align: top;\n",
              "    }\n",
              "\n",
              "    .dataframe thead th {\n",
              "        text-align: right;\n",
              "    }\n",
              "</style>\n",
              "<table border=\"1\" class=\"dataframe\">\n",
              "  <thead>\n",
              "    <tr style=\"text-align: right;\">\n",
              "      <th></th>\n",
              "      <th>0</th>\n",
              "      <th>1</th>\n",
              "      <th>2</th>\n",
              "      <th>3</th>\n",
              "      <th>4</th>\n",
              "    </tr>\n",
              "  </thead>\n",
              "  <tbody>\n",
              "    <tr>\n",
              "      <td>date</td>\n",
              "      <td>2016-01-15 00:00:00</td>\n",
              "      <td>2016-01-15 01:00:00</td>\n",
              "      <td>2016-01-15 02:00:00</td>\n",
              "      <td>2016-01-15 03:00:00</td>\n",
              "      <td>2016-01-15 04:00:00</td>\n",
              "    </tr>\n",
              "    <tr>\n",
              "      <td>final.output.concentrate_ag</td>\n",
              "      <td>6.0554</td>\n",
              "      <td>6.02937</td>\n",
              "      <td>6.05593</td>\n",
              "      <td>6.04798</td>\n",
              "      <td>6.1486</td>\n",
              "    </tr>\n",
              "    <tr>\n",
              "      <td>final.output.concentrate_pb</td>\n",
              "      <td>9.88965</td>\n",
              "      <td>9.96894</td>\n",
              "      <td>10.214</td>\n",
              "      <td>9.97702</td>\n",
              "      <td>10.1425</td>\n",
              "    </tr>\n",
              "    <tr>\n",
              "      <td>final.output.concentrate_sol</td>\n",
              "      <td>5.50732</td>\n",
              "      <td>5.25778</td>\n",
              "      <td>5.38376</td>\n",
              "      <td>4.85863</td>\n",
              "      <td>4.93942</td>\n",
              "    </tr>\n",
              "    <tr>\n",
              "      <td>final.output.concentrate_au</td>\n",
              "      <td>42.192</td>\n",
              "      <td>42.7016</td>\n",
              "      <td>42.6575</td>\n",
              "      <td>42.6898</td>\n",
              "      <td>42.7741</td>\n",
              "    </tr>\n",
              "    <tr>\n",
              "      <td>...</td>\n",
              "      <td>...</td>\n",
              "      <td>...</td>\n",
              "      <td>...</td>\n",
              "      <td>...</td>\n",
              "      <td>...</td>\n",
              "    </tr>\n",
              "    <tr>\n",
              "      <td>secondary_cleaner.state.floatbank5_a_level</td>\n",
              "      <td>-498.31</td>\n",
              "      <td>-500.17</td>\n",
              "      <td>-500.129</td>\n",
              "      <td>-499.202</td>\n",
              "      <td>-501.687</td>\n",
              "    </tr>\n",
              "    <tr>\n",
              "      <td>secondary_cleaner.state.floatbank5_b_air</td>\n",
              "      <td>8.07967</td>\n",
              "      <td>7.98476</td>\n",
              "      <td>8.01388</td>\n",
              "      <td>7.97732</td>\n",
              "      <td>7.89424</td>\n",
              "    </tr>\n",
              "    <tr>\n",
              "      <td>secondary_cleaner.state.floatbank5_b_level</td>\n",
              "      <td>-500.471</td>\n",
              "      <td>-500.582</td>\n",
              "      <td>-500.518</td>\n",
              "      <td>-500.256</td>\n",
              "      <td>-500.356</td>\n",
              "    </tr>\n",
              "    <tr>\n",
              "      <td>secondary_cleaner.state.floatbank6_a_air</td>\n",
              "      <td>14.1513</td>\n",
              "      <td>13.9984</td>\n",
              "      <td>14.0287</td>\n",
              "      <td>14.0056</td>\n",
              "      <td>13.9966</td>\n",
              "    </tr>\n",
              "    <tr>\n",
              "      <td>secondary_cleaner.state.floatbank6_a_level</td>\n",
              "      <td>-605.842</td>\n",
              "      <td>-599.787</td>\n",
              "      <td>-601.427</td>\n",
              "      <td>-599.996</td>\n",
              "      <td>-601.497</td>\n",
              "    </tr>\n",
              "  </tbody>\n",
              "</table>\n",
              "<p>87 rows × 5 columns</p>\n",
              "</div>"
            ],
            "text/plain": [
              "                                                              0  \\\n",
              "date                                        2016-01-15 00:00:00   \n",
              "final.output.concentrate_ag                              6.0554   \n",
              "final.output.concentrate_pb                             9.88965   \n",
              "final.output.concentrate_sol                            5.50732   \n",
              "final.output.concentrate_au                              42.192   \n",
              "...                                                         ...   \n",
              "secondary_cleaner.state.floatbank5_a_level              -498.31   \n",
              "secondary_cleaner.state.floatbank5_b_air                8.07967   \n",
              "secondary_cleaner.state.floatbank5_b_level             -500.471   \n",
              "secondary_cleaner.state.floatbank6_a_air                14.1513   \n",
              "secondary_cleaner.state.floatbank6_a_level             -605.842   \n",
              "\n",
              "                                                              1  \\\n",
              "date                                        2016-01-15 01:00:00   \n",
              "final.output.concentrate_ag                             6.02937   \n",
              "final.output.concentrate_pb                             9.96894   \n",
              "final.output.concentrate_sol                            5.25778   \n",
              "final.output.concentrate_au                             42.7016   \n",
              "...                                                         ...   \n",
              "secondary_cleaner.state.floatbank5_a_level              -500.17   \n",
              "secondary_cleaner.state.floatbank5_b_air                7.98476   \n",
              "secondary_cleaner.state.floatbank5_b_level             -500.582   \n",
              "secondary_cleaner.state.floatbank6_a_air                13.9984   \n",
              "secondary_cleaner.state.floatbank6_a_level             -599.787   \n",
              "\n",
              "                                                              2  \\\n",
              "date                                        2016-01-15 02:00:00   \n",
              "final.output.concentrate_ag                             6.05593   \n",
              "final.output.concentrate_pb                              10.214   \n",
              "final.output.concentrate_sol                            5.38376   \n",
              "final.output.concentrate_au                             42.6575   \n",
              "...                                                         ...   \n",
              "secondary_cleaner.state.floatbank5_a_level             -500.129   \n",
              "secondary_cleaner.state.floatbank5_b_air                8.01388   \n",
              "secondary_cleaner.state.floatbank5_b_level             -500.518   \n",
              "secondary_cleaner.state.floatbank6_a_air                14.0287   \n",
              "secondary_cleaner.state.floatbank6_a_level             -601.427   \n",
              "\n",
              "                                                              3  \\\n",
              "date                                        2016-01-15 03:00:00   \n",
              "final.output.concentrate_ag                             6.04798   \n",
              "final.output.concentrate_pb                             9.97702   \n",
              "final.output.concentrate_sol                            4.85863   \n",
              "final.output.concentrate_au                             42.6898   \n",
              "...                                                         ...   \n",
              "secondary_cleaner.state.floatbank5_a_level             -499.202   \n",
              "secondary_cleaner.state.floatbank5_b_air                7.97732   \n",
              "secondary_cleaner.state.floatbank5_b_level             -500.256   \n",
              "secondary_cleaner.state.floatbank6_a_air                14.0056   \n",
              "secondary_cleaner.state.floatbank6_a_level             -599.996   \n",
              "\n",
              "                                                              4  \n",
              "date                                        2016-01-15 04:00:00  \n",
              "final.output.concentrate_ag                              6.1486  \n",
              "final.output.concentrate_pb                             10.1425  \n",
              "final.output.concentrate_sol                            4.93942  \n",
              "final.output.concentrate_au                             42.7741  \n",
              "...                                                         ...  \n",
              "secondary_cleaner.state.floatbank5_a_level             -501.687  \n",
              "secondary_cleaner.state.floatbank5_b_air                7.89424  \n",
              "secondary_cleaner.state.floatbank5_b_level             -500.356  \n",
              "secondary_cleaner.state.floatbank6_a_air                13.9966  \n",
              "secondary_cleaner.state.floatbank6_a_level             -601.497  \n",
              "\n",
              "[87 rows x 5 columns]"
            ]
          },
          "metadata": {},
          "output_type": "display_data"
        },
        {
          "name": "stdout",
          "output_type": "stream",
          "text": [
            "<class 'pandas.core.frame.DataFrame'>\n",
            "RangeIndex: 14149 entries, 0 to 14148\n",
            "Data columns (total 87 columns):\n",
            "date                                                  14149 non-null object\n",
            "final.output.concentrate_ag                           14148 non-null float64\n",
            "final.output.concentrate_pb                           14148 non-null float64\n",
            "final.output.concentrate_sol                          13938 non-null float64\n",
            "final.output.concentrate_au                           14149 non-null float64\n",
            "final.output.recovery                                 14149 non-null float64\n",
            "final.output.tail_ag                                  14149 non-null float64\n",
            "final.output.tail_pb                                  14049 non-null float64\n",
            "final.output.tail_sol                                 14144 non-null float64\n",
            "final.output.tail_au                                  14149 non-null float64\n",
            "primary_cleaner.input.sulfate                         14129 non-null float64\n",
            "primary_cleaner.input.depressant                      14117 non-null float64\n",
            "primary_cleaner.input.feed_size                       14149 non-null float64\n",
            "primary_cleaner.input.xanthate                        14049 non-null float64\n",
            "primary_cleaner.output.concentrate_ag                 14149 non-null float64\n",
            "primary_cleaner.output.concentrate_pb                 14063 non-null float64\n",
            "primary_cleaner.output.concentrate_sol                13863 non-null float64\n",
            "primary_cleaner.output.concentrate_au                 14149 non-null float64\n",
            "primary_cleaner.output.tail_ag                        14148 non-null float64\n",
            "primary_cleaner.output.tail_pb                        14134 non-null float64\n",
            "primary_cleaner.output.tail_sol                       14103 non-null float64\n",
            "primary_cleaner.output.tail_au                        14149 non-null float64\n",
            "primary_cleaner.state.floatbank8_a_air                14145 non-null float64\n",
            "primary_cleaner.state.floatbank8_a_level              14148 non-null float64\n",
            "primary_cleaner.state.floatbank8_b_air                14145 non-null float64\n",
            "primary_cleaner.state.floatbank8_b_level              14148 non-null float64\n",
            "primary_cleaner.state.floatbank8_c_air                14147 non-null float64\n",
            "primary_cleaner.state.floatbank8_c_level              14148 non-null float64\n",
            "primary_cleaner.state.floatbank8_d_air                14146 non-null float64\n",
            "primary_cleaner.state.floatbank8_d_level              14148 non-null float64\n",
            "rougher.calculation.sulfate_to_au_concentrate         14148 non-null float64\n",
            "rougher.calculation.floatbank10_sulfate_to_au_feed    14148 non-null float64\n",
            "rougher.calculation.floatbank11_sulfate_to_au_feed    14148 non-null float64\n",
            "rougher.calculation.au_pb_ratio                       14149 non-null float64\n",
            "rougher.input.feed_ag                                 14149 non-null float64\n",
            "rougher.input.feed_pb                                 14049 non-null float64\n",
            "rougher.input.feed_rate                               14141 non-null float64\n",
            "rougher.input.feed_size                               14005 non-null float64\n",
            "rougher.input.feed_sol                                14071 non-null float64\n",
            "rougher.input.feed_au                                 14149 non-null float64\n",
            "rougher.input.floatbank10_sulfate                     14120 non-null float64\n",
            "rougher.input.floatbank10_xanthate                    14141 non-null float64\n",
            "rougher.input.floatbank11_sulfate                     14113 non-null float64\n",
            "rougher.input.floatbank11_xanthate                    13721 non-null float64\n",
            "rougher.output.concentrate_ag                         14149 non-null float64\n",
            "rougher.output.concentrate_pb                         14149 non-null float64\n",
            "rougher.output.concentrate_sol                        14127 non-null float64\n",
            "rougher.output.concentrate_au                         14149 non-null float64\n",
            "rougher.output.recovery                               14149 non-null float64\n",
            "rougher.output.tail_ag                                14148 non-null float64\n",
            "rougher.output.tail_pb                                14149 non-null float64\n",
            "rougher.output.tail_sol                               14149 non-null float64\n",
            "rougher.output.tail_au                                14149 non-null float64\n",
            "rougher.state.floatbank10_a_air                       14148 non-null float64\n",
            "rougher.state.floatbank10_a_level                     14148 non-null float64\n",
            "rougher.state.floatbank10_b_air                       14148 non-null float64\n",
            "rougher.state.floatbank10_b_level                     14148 non-null float64\n",
            "rougher.state.floatbank10_c_air                       14148 non-null float64\n",
            "rougher.state.floatbank10_c_level                     14148 non-null float64\n",
            "rougher.state.floatbank10_d_air                       14149 non-null float64\n",
            "rougher.state.floatbank10_d_level                     14149 non-null float64\n",
            "rougher.state.floatbank10_e_air                       13713 non-null float64\n",
            "rougher.state.floatbank10_e_level                     14149 non-null float64\n",
            "rougher.state.floatbank10_f_air                       14149 non-null float64\n",
            "rougher.state.floatbank10_f_level                     14149 non-null float64\n",
            "secondary_cleaner.output.tail_ag                      14147 non-null float64\n",
            "secondary_cleaner.output.tail_pb                      14139 non-null float64\n",
            "secondary_cleaner.output.tail_sol                     12544 non-null float64\n",
            "secondary_cleaner.output.tail_au                      14149 non-null float64\n",
            "secondary_cleaner.state.floatbank2_a_air              13932 non-null float64\n",
            "secondary_cleaner.state.floatbank2_a_level            14148 non-null float64\n",
            "secondary_cleaner.state.floatbank2_b_air              14128 non-null float64\n",
            "secondary_cleaner.state.floatbank2_b_level            14148 non-null float64\n",
            "secondary_cleaner.state.floatbank3_a_air              14145 non-null float64\n",
            "secondary_cleaner.state.floatbank3_a_level            14148 non-null float64\n",
            "secondary_cleaner.state.floatbank3_b_air              14148 non-null float64\n",
            "secondary_cleaner.state.floatbank3_b_level            14148 non-null float64\n",
            "secondary_cleaner.state.floatbank4_a_air              14143 non-null float64\n",
            "secondary_cleaner.state.floatbank4_a_level            14148 non-null float64\n",
            "secondary_cleaner.state.floatbank4_b_air              14148 non-null float64\n",
            "secondary_cleaner.state.floatbank4_b_level            14148 non-null float64\n",
            "secondary_cleaner.state.floatbank5_a_air              14148 non-null float64\n",
            "secondary_cleaner.state.floatbank5_a_level            14148 non-null float64\n",
            "secondary_cleaner.state.floatbank5_b_air              14148 non-null float64\n",
            "secondary_cleaner.state.floatbank5_b_level            14148 non-null float64\n",
            "secondary_cleaner.state.floatbank6_a_air              14147 non-null float64\n",
            "secondary_cleaner.state.floatbank6_a_level            14148 non-null float64\n",
            "dtypes: float64(86), object(1)\n",
            "memory usage: 9.4+ MB\n"
          ]
        }
      ],
      "source": [
        "df_train = pd.read_csv('/datasets/gold_recovery_train_new.csv', sep= ',')\n",
        "display(df_train.head().T)\n",
        "df_train.info()"
      ]
    },
    {
      "cell_type": "code",
      "execution_count": null,
      "metadata": {
        "scrolled": false,
        "id": "47CoashrrFZ1",
        "outputId": "2a782214-ff40-4a6c-ae7e-32a21c6eedb4"
      },
      "outputs": [
        {
          "data": {
            "text/html": [
              "<div>\n",
              "<style scoped>\n",
              "    .dataframe tbody tr th:only-of-type {\n",
              "        vertical-align: middle;\n",
              "    }\n",
              "\n",
              "    .dataframe tbody tr th {\n",
              "        vertical-align: top;\n",
              "    }\n",
              "\n",
              "    .dataframe thead th {\n",
              "        text-align: right;\n",
              "    }\n",
              "</style>\n",
              "<table border=\"1\" class=\"dataframe\">\n",
              "  <thead>\n",
              "    <tr style=\"text-align: right;\">\n",
              "      <th></th>\n",
              "      <th>0</th>\n",
              "      <th>1</th>\n",
              "      <th>2</th>\n",
              "      <th>3</th>\n",
              "      <th>4</th>\n",
              "    </tr>\n",
              "  </thead>\n",
              "  <tbody>\n",
              "    <tr>\n",
              "      <td>date</td>\n",
              "      <td>2016-09-01 00:59:59</td>\n",
              "      <td>2016-09-01 01:59:59</td>\n",
              "      <td>2016-09-01 02:59:59</td>\n",
              "      <td>2016-09-01 03:59:59</td>\n",
              "      <td>2016-09-01 04:59:59</td>\n",
              "    </tr>\n",
              "    <tr>\n",
              "      <td>primary_cleaner.input.sulfate</td>\n",
              "      <td>210.801</td>\n",
              "      <td>215.392</td>\n",
              "      <td>215.26</td>\n",
              "      <td>215.336</td>\n",
              "      <td>199.099</td>\n",
              "    </tr>\n",
              "    <tr>\n",
              "      <td>primary_cleaner.input.depressant</td>\n",
              "      <td>14.9931</td>\n",
              "      <td>14.9875</td>\n",
              "      <td>12.8849</td>\n",
              "      <td>12.0068</td>\n",
              "      <td>10.6825</td>\n",
              "    </tr>\n",
              "    <tr>\n",
              "      <td>primary_cleaner.input.feed_size</td>\n",
              "      <td>8.08</td>\n",
              "      <td>8.08</td>\n",
              "      <td>7.78667</td>\n",
              "      <td>7.64</td>\n",
              "      <td>7.53</td>\n",
              "    </tr>\n",
              "    <tr>\n",
              "      <td>primary_cleaner.input.xanthate</td>\n",
              "      <td>1.00502</td>\n",
              "      <td>0.990469</td>\n",
              "      <td>0.996043</td>\n",
              "      <td>0.863514</td>\n",
              "      <td>0.805575</td>\n",
              "    </tr>\n",
              "    <tr>\n",
              "      <td>primary_cleaner.state.floatbank8_a_air</td>\n",
              "      <td>1398.98</td>\n",
              "      <td>1398.78</td>\n",
              "      <td>1398.49</td>\n",
              "      <td>1399.62</td>\n",
              "      <td>1401.27</td>\n",
              "    </tr>\n",
              "    <tr>\n",
              "      <td>primary_cleaner.state.floatbank8_a_level</td>\n",
              "      <td>-500.226</td>\n",
              "      <td>-500.057</td>\n",
              "      <td>-500.868</td>\n",
              "      <td>-498.864</td>\n",
              "      <td>-500.808</td>\n",
              "    </tr>\n",
              "    <tr>\n",
              "      <td>primary_cleaner.state.floatbank8_b_air</td>\n",
              "      <td>1399.14</td>\n",
              "      <td>1398.06</td>\n",
              "      <td>1398.86</td>\n",
              "      <td>1397.44</td>\n",
              "      <td>1398.13</td>\n",
              "    </tr>\n",
              "    <tr>\n",
              "      <td>primary_cleaner.state.floatbank8_b_level</td>\n",
              "      <td>-499.92</td>\n",
              "      <td>-499.778</td>\n",
              "      <td>-499.765</td>\n",
              "      <td>-499.211</td>\n",
              "      <td>-499.505</td>\n",
              "    </tr>\n",
              "    <tr>\n",
              "      <td>primary_cleaner.state.floatbank8_c_air</td>\n",
              "      <td>1400.1</td>\n",
              "      <td>1396.15</td>\n",
              "      <td>1398.08</td>\n",
              "      <td>1400.13</td>\n",
              "      <td>1402.17</td>\n",
              "    </tr>\n",
              "    <tr>\n",
              "      <td>primary_cleaner.state.floatbank8_c_level</td>\n",
              "      <td>-500.704</td>\n",
              "      <td>-499.24</td>\n",
              "      <td>-502.152</td>\n",
              "      <td>-498.356</td>\n",
              "      <td>-500.811</td>\n",
              "    </tr>\n",
              "    <tr>\n",
              "      <td>primary_cleaner.state.floatbank8_d_air</td>\n",
              "      <td>1399</td>\n",
              "      <td>1399.51</td>\n",
              "      <td>1399.5</td>\n",
              "      <td>1401.07</td>\n",
              "      <td>1399.48</td>\n",
              "    </tr>\n",
              "    <tr>\n",
              "      <td>primary_cleaner.state.floatbank8_d_level</td>\n",
              "      <td>-499.485</td>\n",
              "      <td>-500.416</td>\n",
              "      <td>-499.715</td>\n",
              "      <td>-501.039</td>\n",
              "      <td>-499.374</td>\n",
              "    </tr>\n",
              "    <tr>\n",
              "      <td>rougher.input.feed_ag</td>\n",
              "      <td>13.1286</td>\n",
              "      <td>13.0363</td>\n",
              "      <td>13.1384</td>\n",
              "      <td>12.4005</td>\n",
              "      <td>11.3274</td>\n",
              "    </tr>\n",
              "    <tr>\n",
              "      <td>rougher.input.feed_pb</td>\n",
              "      <td>5.63671</td>\n",
              "      <td>5.52607</td>\n",
              "      <td>5.42656</td>\n",
              "      <td>5.11476</td>\n",
              "      <td>4.76738</td>\n",
              "    </tr>\n",
              "    <tr>\n",
              "      <td>rougher.input.feed_rate</td>\n",
              "      <td>489.794</td>\n",
              "      <td>490.105</td>\n",
              "      <td>489.618</td>\n",
              "      <td>476.618</td>\n",
              "      <td>488.248</td>\n",
              "    </tr>\n",
              "    <tr>\n",
              "      <td>rougher.input.feed_size</td>\n",
              "      <td>62.7105</td>\n",
              "      <td>61.9612</td>\n",
              "      <td>66.9038</td>\n",
              "      <td>59.8659</td>\n",
              "      <td>63.3153</td>\n",
              "    </tr>\n",
              "    <tr>\n",
              "      <td>rougher.input.feed_sol</td>\n",
              "      <td>42.0224</td>\n",
              "      <td>41.1879</td>\n",
              "      <td>42.5463</td>\n",
              "      <td>41.0602</td>\n",
              "      <td>41.2692</td>\n",
              "    </tr>\n",
              "    <tr>\n",
              "      <td>rougher.input.feed_au</td>\n",
              "      <td>12.0841</td>\n",
              "      <td>11.919</td>\n",
              "      <td>12.0913</td>\n",
              "      <td>12.1816</td>\n",
              "      <td>11.2904</td>\n",
              "    </tr>\n",
              "    <tr>\n",
              "      <td>rougher.input.floatbank10_sulfate</td>\n",
              "      <td>16.9229</td>\n",
              "      <td>17.0025</td>\n",
              "      <td>16.9925</td>\n",
              "      <td>16.5321</td>\n",
              "      <td>13.6073</td>\n",
              "    </tr>\n",
              "    <tr>\n",
              "      <td>rougher.input.floatbank10_xanthate</td>\n",
              "      <td>6.15348</td>\n",
              "      <td>5.99904</td>\n",
              "      <td>5.85063</td>\n",
              "      <td>5.80194</td>\n",
              "      <td>5.73808</td>\n",
              "    </tr>\n",
              "    <tr>\n",
              "      <td>rougher.input.floatbank11_sulfate</td>\n",
              "      <td>16.8675</td>\n",
              "      <td>16.9961</td>\n",
              "      <td>16.9821</td>\n",
              "      <td>16.5153</td>\n",
              "      <td>13.6501</td>\n",
              "    </tr>\n",
              "    <tr>\n",
              "      <td>rougher.input.floatbank11_xanthate</td>\n",
              "      <td>6.15071</td>\n",
              "      <td>6.00231</td>\n",
              "      <td>5.85359</td>\n",
              "      <td>5.80366</td>\n",
              "      <td>5.73963</td>\n",
              "    </tr>\n",
              "    <tr>\n",
              "      <td>rougher.state.floatbank10_a_air</td>\n",
              "      <td>1001.85</td>\n",
              "      <td>998.691</td>\n",
              "      <td>998.517</td>\n",
              "      <td>1000.28</td>\n",
              "      <td>996.541</td>\n",
              "    </tr>\n",
              "    <tr>\n",
              "      <td>rougher.state.floatbank10_a_level</td>\n",
              "      <td>-350.301</td>\n",
              "      <td>-350.426</td>\n",
              "      <td>-349.784</td>\n",
              "      <td>-350.173</td>\n",
              "      <td>-350.563</td>\n",
              "    </tr>\n",
              "    <tr>\n",
              "      <td>rougher.state.floatbank10_b_air</td>\n",
              "      <td>1249.74</td>\n",
              "      <td>1248.4</td>\n",
              "      <td>1247.44</td>\n",
              "      <td>1251.32</td>\n",
              "      <td>1304.66</td>\n",
              "    </tr>\n",
              "    <tr>\n",
              "      <td>rougher.state.floatbank10_b_level</td>\n",
              "      <td>-399.108</td>\n",
              "      <td>-399.946</td>\n",
              "      <td>-400.264</td>\n",
              "      <td>-398.655</td>\n",
              "      <td>-399.512</td>\n",
              "    </tr>\n",
              "    <tr>\n",
              "      <td>rougher.state.floatbank10_c_air</td>\n",
              "      <td>1249.75</td>\n",
              "      <td>1249.51</td>\n",
              "      <td>1248.21</td>\n",
              "      <td>1250.49</td>\n",
              "      <td>1306.46</td>\n",
              "    </tr>\n",
              "    <tr>\n",
              "      <td>rougher.state.floatbank10_c_level</td>\n",
              "      <td>-399.397</td>\n",
              "      <td>-399.631</td>\n",
              "      <td>-401.074</td>\n",
              "      <td>-399.747</td>\n",
              "      <td>-399.051</td>\n",
              "    </tr>\n",
              "    <tr>\n",
              "      <td>rougher.state.floatbank10_d_air</td>\n",
              "      <td>1198.29</td>\n",
              "      <td>1200.51</td>\n",
              "      <td>1199.77</td>\n",
              "      <td>1199.4</td>\n",
              "      <td>1248.7</td>\n",
              "    </tr>\n",
              "    <tr>\n",
              "      <td>rougher.state.floatbank10_d_level</td>\n",
              "      <td>-399.489</td>\n",
              "      <td>-399.942</td>\n",
              "      <td>-400.791</td>\n",
              "      <td>-397.503</td>\n",
              "      <td>-400.877</td>\n",
              "    </tr>\n",
              "    <tr>\n",
              "      <td>rougher.state.floatbank10_e_air</td>\n",
              "      <td>999.472</td>\n",
              "      <td>1000</td>\n",
              "      <td>999.926</td>\n",
              "      <td>1001.93</td>\n",
              "      <td>1058.84</td>\n",
              "    </tr>\n",
              "    <tr>\n",
              "      <td>rougher.state.floatbank10_e_level</td>\n",
              "      <td>-399.531</td>\n",
              "      <td>-399.492</td>\n",
              "      <td>-399.237</td>\n",
              "      <td>-400.438</td>\n",
              "      <td>-398.988</td>\n",
              "    </tr>\n",
              "    <tr>\n",
              "      <td>rougher.state.floatbank10_f_air</td>\n",
              "      <td>949.566</td>\n",
              "      <td>950.2</td>\n",
              "      <td>950.32</td>\n",
              "      <td>950.735</td>\n",
              "      <td>949.645</td>\n",
              "    </tr>\n",
              "    <tr>\n",
              "      <td>rougher.state.floatbank10_f_level</td>\n",
              "      <td>-398.181</td>\n",
              "      <td>-405.788</td>\n",
              "      <td>-400.864</td>\n",
              "      <td>-399.803</td>\n",
              "      <td>-399.278</td>\n",
              "    </tr>\n",
              "    <tr>\n",
              "      <td>secondary_cleaner.state.floatbank2_a_air</td>\n",
              "      <td>24.9382</td>\n",
              "      <td>24.9235</td>\n",
              "      <td>24.9087</td>\n",
              "      <td>24.894</td>\n",
              "      <td>24.8869</td>\n",
              "    </tr>\n",
              "    <tr>\n",
              "      <td>secondary_cleaner.state.floatbank2_a_level</td>\n",
              "      <td>-500.491</td>\n",
              "      <td>-499.814</td>\n",
              "      <td>-500.304</td>\n",
              "      <td>-499.382</td>\n",
              "      <td>-499.357</td>\n",
              "    </tr>\n",
              "    <tr>\n",
              "      <td>secondary_cleaner.state.floatbank2_b_air</td>\n",
              "      <td>14.9476</td>\n",
              "      <td>14.9309</td>\n",
              "      <td>14.9965</td>\n",
              "      <td>14.9167</td>\n",
              "      <td>14.9792</td>\n",
              "    </tr>\n",
              "    <tr>\n",
              "      <td>secondary_cleaner.state.floatbank2_b_level</td>\n",
              "      <td>-500.014</td>\n",
              "      <td>-500.764</td>\n",
              "      <td>-500.994</td>\n",
              "      <td>-499.862</td>\n",
              "      <td>-500.187</td>\n",
              "    </tr>\n",
              "    <tr>\n",
              "      <td>secondary_cleaner.state.floatbank3_a_air</td>\n",
              "      <td>20.0182</td>\n",
              "      <td>19.9885</td>\n",
              "      <td>20.0397</td>\n",
              "      <td>20.0311</td>\n",
              "      <td>19.9624</td>\n",
              "    </tr>\n",
              "    <tr>\n",
              "      <td>secondary_cleaner.state.floatbank3_a_level</td>\n",
              "      <td>-450.396</td>\n",
              "      <td>-450.114</td>\n",
              "      <td>-450.263</td>\n",
              "      <td>-449.373</td>\n",
              "      <td>-450.639</td>\n",
              "    </tr>\n",
              "    <tr>\n",
              "      <td>secondary_cleaner.state.floatbank3_b_air</td>\n",
              "      <td>13.9871</td>\n",
              "      <td>14.093</td>\n",
              "      <td>14.0779</td>\n",
              "      <td>14.014</td>\n",
              "      <td>14.0092</td>\n",
              "    </tr>\n",
              "    <tr>\n",
              "      <td>secondary_cleaner.state.floatbank3_b_level</td>\n",
              "      <td>-449.832</td>\n",
              "      <td>-450.059</td>\n",
              "      <td>-449.661</td>\n",
              "      <td>-449.527</td>\n",
              "      <td>-450.022</td>\n",
              "    </tr>\n",
              "    <tr>\n",
              "      <td>secondary_cleaner.state.floatbank4_a_air</td>\n",
              "      <td>12.0236</td>\n",
              "      <td>12.0581</td>\n",
              "      <td>11.9624</td>\n",
              "      <td>12.0331</td>\n",
              "      <td>12.0254</td>\n",
              "    </tr>\n",
              "    <tr>\n",
              "      <td>secondary_cleaner.state.floatbank4_a_level</td>\n",
              "      <td>-497.796</td>\n",
              "      <td>-498.696</td>\n",
              "      <td>-498.767</td>\n",
              "      <td>-498.351</td>\n",
              "      <td>-500.786</td>\n",
              "    </tr>\n",
              "    <tr>\n",
              "      <td>secondary_cleaner.state.floatbank4_b_air</td>\n",
              "      <td>8.01666</td>\n",
              "      <td>8.13098</td>\n",
              "      <td>8.09689</td>\n",
              "      <td>8.07495</td>\n",
              "      <td>8.05468</td>\n",
              "    </tr>\n",
              "    <tr>\n",
              "      <td>secondary_cleaner.state.floatbank4_b_level</td>\n",
              "      <td>-501.289</td>\n",
              "      <td>-499.634</td>\n",
              "      <td>-500.827</td>\n",
              "      <td>-499.474</td>\n",
              "      <td>-500.398</td>\n",
              "    </tr>\n",
              "    <tr>\n",
              "      <td>secondary_cleaner.state.floatbank5_a_air</td>\n",
              "      <td>7.94656</td>\n",
              "      <td>7.95827</td>\n",
              "      <td>8.07106</td>\n",
              "      <td>7.89708</td>\n",
              "      <td>8.10789</td>\n",
              "    </tr>\n",
              "    <tr>\n",
              "      <td>secondary_cleaner.state.floatbank5_a_level</td>\n",
              "      <td>-432.318</td>\n",
              "      <td>-525.84</td>\n",
              "      <td>-500.802</td>\n",
              "      <td>-500.869</td>\n",
              "      <td>-509.527</td>\n",
              "    </tr>\n",
              "    <tr>\n",
              "      <td>secondary_cleaner.state.floatbank5_b_air</td>\n",
              "      <td>4.87251</td>\n",
              "      <td>4.87885</td>\n",
              "      <td>4.90512</td>\n",
              "      <td>4.9314</td>\n",
              "      <td>4.95767</td>\n",
              "    </tr>\n",
              "    <tr>\n",
              "      <td>secondary_cleaner.state.floatbank5_b_level</td>\n",
              "      <td>-500.037</td>\n",
              "      <td>-500.162</td>\n",
              "      <td>-499.829</td>\n",
              "      <td>-499.964</td>\n",
              "      <td>-500.36</td>\n",
              "    </tr>\n",
              "    <tr>\n",
              "      <td>secondary_cleaner.state.floatbank6_a_air</td>\n",
              "      <td>26.7059</td>\n",
              "      <td>25.0199</td>\n",
              "      <td>24.9949</td>\n",
              "      <td>24.9489</td>\n",
              "      <td>25.0033</td>\n",
              "    </tr>\n",
              "    <tr>\n",
              "      <td>secondary_cleaner.state.floatbank6_a_level</td>\n",
              "      <td>-499.709</td>\n",
              "      <td>-499.819</td>\n",
              "      <td>-500.623</td>\n",
              "      <td>-498.71</td>\n",
              "      <td>-500.856</td>\n",
              "    </tr>\n",
              "  </tbody>\n",
              "</table>\n",
              "</div>"
            ],
            "text/plain": [
              "                                                              0  \\\n",
              "date                                        2016-09-01 00:59:59   \n",
              "primary_cleaner.input.sulfate                           210.801   \n",
              "primary_cleaner.input.depressant                        14.9931   \n",
              "primary_cleaner.input.feed_size                            8.08   \n",
              "primary_cleaner.input.xanthate                          1.00502   \n",
              "primary_cleaner.state.floatbank8_a_air                  1398.98   \n",
              "primary_cleaner.state.floatbank8_a_level               -500.226   \n",
              "primary_cleaner.state.floatbank8_b_air                  1399.14   \n",
              "primary_cleaner.state.floatbank8_b_level                -499.92   \n",
              "primary_cleaner.state.floatbank8_c_air                   1400.1   \n",
              "primary_cleaner.state.floatbank8_c_level               -500.704   \n",
              "primary_cleaner.state.floatbank8_d_air                     1399   \n",
              "primary_cleaner.state.floatbank8_d_level               -499.485   \n",
              "rougher.input.feed_ag                                   13.1286   \n",
              "rougher.input.feed_pb                                   5.63671   \n",
              "rougher.input.feed_rate                                 489.794   \n",
              "rougher.input.feed_size                                 62.7105   \n",
              "rougher.input.feed_sol                                  42.0224   \n",
              "rougher.input.feed_au                                   12.0841   \n",
              "rougher.input.floatbank10_sulfate                       16.9229   \n",
              "rougher.input.floatbank10_xanthate                      6.15348   \n",
              "rougher.input.floatbank11_sulfate                       16.8675   \n",
              "rougher.input.floatbank11_xanthate                      6.15071   \n",
              "rougher.state.floatbank10_a_air                         1001.85   \n",
              "rougher.state.floatbank10_a_level                      -350.301   \n",
              "rougher.state.floatbank10_b_air                         1249.74   \n",
              "rougher.state.floatbank10_b_level                      -399.108   \n",
              "rougher.state.floatbank10_c_air                         1249.75   \n",
              "rougher.state.floatbank10_c_level                      -399.397   \n",
              "rougher.state.floatbank10_d_air                         1198.29   \n",
              "rougher.state.floatbank10_d_level                      -399.489   \n",
              "rougher.state.floatbank10_e_air                         999.472   \n",
              "rougher.state.floatbank10_e_level                      -399.531   \n",
              "rougher.state.floatbank10_f_air                         949.566   \n",
              "rougher.state.floatbank10_f_level                      -398.181   \n",
              "secondary_cleaner.state.floatbank2_a_air                24.9382   \n",
              "secondary_cleaner.state.floatbank2_a_level             -500.491   \n",
              "secondary_cleaner.state.floatbank2_b_air                14.9476   \n",
              "secondary_cleaner.state.floatbank2_b_level             -500.014   \n",
              "secondary_cleaner.state.floatbank3_a_air                20.0182   \n",
              "secondary_cleaner.state.floatbank3_a_level             -450.396   \n",
              "secondary_cleaner.state.floatbank3_b_air                13.9871   \n",
              "secondary_cleaner.state.floatbank3_b_level             -449.832   \n",
              "secondary_cleaner.state.floatbank4_a_air                12.0236   \n",
              "secondary_cleaner.state.floatbank4_a_level             -497.796   \n",
              "secondary_cleaner.state.floatbank4_b_air                8.01666   \n",
              "secondary_cleaner.state.floatbank4_b_level             -501.289   \n",
              "secondary_cleaner.state.floatbank5_a_air                7.94656   \n",
              "secondary_cleaner.state.floatbank5_a_level             -432.318   \n",
              "secondary_cleaner.state.floatbank5_b_air                4.87251   \n",
              "secondary_cleaner.state.floatbank5_b_level             -500.037   \n",
              "secondary_cleaner.state.floatbank6_a_air                26.7059   \n",
              "secondary_cleaner.state.floatbank6_a_level             -499.709   \n",
              "\n",
              "                                                              1  \\\n",
              "date                                        2016-09-01 01:59:59   \n",
              "primary_cleaner.input.sulfate                           215.392   \n",
              "primary_cleaner.input.depressant                        14.9875   \n",
              "primary_cleaner.input.feed_size                            8.08   \n",
              "primary_cleaner.input.xanthate                         0.990469   \n",
              "primary_cleaner.state.floatbank8_a_air                  1398.78   \n",
              "primary_cleaner.state.floatbank8_a_level               -500.057   \n",
              "primary_cleaner.state.floatbank8_b_air                  1398.06   \n",
              "primary_cleaner.state.floatbank8_b_level               -499.778   \n",
              "primary_cleaner.state.floatbank8_c_air                  1396.15   \n",
              "primary_cleaner.state.floatbank8_c_level                -499.24   \n",
              "primary_cleaner.state.floatbank8_d_air                  1399.51   \n",
              "primary_cleaner.state.floatbank8_d_level               -500.416   \n",
              "rougher.input.feed_ag                                   13.0363   \n",
              "rougher.input.feed_pb                                   5.52607   \n",
              "rougher.input.feed_rate                                 490.105   \n",
              "rougher.input.feed_size                                 61.9612   \n",
              "rougher.input.feed_sol                                  41.1879   \n",
              "rougher.input.feed_au                                    11.919   \n",
              "rougher.input.floatbank10_sulfate                       17.0025   \n",
              "rougher.input.floatbank10_xanthate                      5.99904   \n",
              "rougher.input.floatbank11_sulfate                       16.9961   \n",
              "rougher.input.floatbank11_xanthate                      6.00231   \n",
              "rougher.state.floatbank10_a_air                         998.691   \n",
              "rougher.state.floatbank10_a_level                      -350.426   \n",
              "rougher.state.floatbank10_b_air                          1248.4   \n",
              "rougher.state.floatbank10_b_level                      -399.946   \n",
              "rougher.state.floatbank10_c_air                         1249.51   \n",
              "rougher.state.floatbank10_c_level                      -399.631   \n",
              "rougher.state.floatbank10_d_air                         1200.51   \n",
              "rougher.state.floatbank10_d_level                      -399.942   \n",
              "rougher.state.floatbank10_e_air                            1000   \n",
              "rougher.state.floatbank10_e_level                      -399.492   \n",
              "rougher.state.floatbank10_f_air                           950.2   \n",
              "rougher.state.floatbank10_f_level                      -405.788   \n",
              "secondary_cleaner.state.floatbank2_a_air                24.9235   \n",
              "secondary_cleaner.state.floatbank2_a_level             -499.814   \n",
              "secondary_cleaner.state.floatbank2_b_air                14.9309   \n",
              "secondary_cleaner.state.floatbank2_b_level             -500.764   \n",
              "secondary_cleaner.state.floatbank3_a_air                19.9885   \n",
              "secondary_cleaner.state.floatbank3_a_level             -450.114   \n",
              "secondary_cleaner.state.floatbank3_b_air                 14.093   \n",
              "secondary_cleaner.state.floatbank3_b_level             -450.059   \n",
              "secondary_cleaner.state.floatbank4_a_air                12.0581   \n",
              "secondary_cleaner.state.floatbank4_a_level             -498.696   \n",
              "secondary_cleaner.state.floatbank4_b_air                8.13098   \n",
              "secondary_cleaner.state.floatbank4_b_level             -499.634   \n",
              "secondary_cleaner.state.floatbank5_a_air                7.95827   \n",
              "secondary_cleaner.state.floatbank5_a_level              -525.84   \n",
              "secondary_cleaner.state.floatbank5_b_air                4.87885   \n",
              "secondary_cleaner.state.floatbank5_b_level             -500.162   \n",
              "secondary_cleaner.state.floatbank6_a_air                25.0199   \n",
              "secondary_cleaner.state.floatbank6_a_level             -499.819   \n",
              "\n",
              "                                                              2  \\\n",
              "date                                        2016-09-01 02:59:59   \n",
              "primary_cleaner.input.sulfate                            215.26   \n",
              "primary_cleaner.input.depressant                        12.8849   \n",
              "primary_cleaner.input.feed_size                         7.78667   \n",
              "primary_cleaner.input.xanthate                         0.996043   \n",
              "primary_cleaner.state.floatbank8_a_air                  1398.49   \n",
              "primary_cleaner.state.floatbank8_a_level               -500.868   \n",
              "primary_cleaner.state.floatbank8_b_air                  1398.86   \n",
              "primary_cleaner.state.floatbank8_b_level               -499.765   \n",
              "primary_cleaner.state.floatbank8_c_air                  1398.08   \n",
              "primary_cleaner.state.floatbank8_c_level               -502.152   \n",
              "primary_cleaner.state.floatbank8_d_air                   1399.5   \n",
              "primary_cleaner.state.floatbank8_d_level               -499.715   \n",
              "rougher.input.feed_ag                                   13.1384   \n",
              "rougher.input.feed_pb                                   5.42656   \n",
              "rougher.input.feed_rate                                 489.618   \n",
              "rougher.input.feed_size                                 66.9038   \n",
              "rougher.input.feed_sol                                  42.5463   \n",
              "rougher.input.feed_au                                   12.0913   \n",
              "rougher.input.floatbank10_sulfate                       16.9925   \n",
              "rougher.input.floatbank10_xanthate                      5.85063   \n",
              "rougher.input.floatbank11_sulfate                       16.9821   \n",
              "rougher.input.floatbank11_xanthate                      5.85359   \n",
              "rougher.state.floatbank10_a_air                         998.517   \n",
              "rougher.state.floatbank10_a_level                      -349.784   \n",
              "rougher.state.floatbank10_b_air                         1247.44   \n",
              "rougher.state.floatbank10_b_level                      -400.264   \n",
              "rougher.state.floatbank10_c_air                         1248.21   \n",
              "rougher.state.floatbank10_c_level                      -401.074   \n",
              "rougher.state.floatbank10_d_air                         1199.77   \n",
              "rougher.state.floatbank10_d_level                      -400.791   \n",
              "rougher.state.floatbank10_e_air                         999.926   \n",
              "rougher.state.floatbank10_e_level                      -399.237   \n",
              "rougher.state.floatbank10_f_air                          950.32   \n",
              "rougher.state.floatbank10_f_level                      -400.864   \n",
              "secondary_cleaner.state.floatbank2_a_air                24.9087   \n",
              "secondary_cleaner.state.floatbank2_a_level             -500.304   \n",
              "secondary_cleaner.state.floatbank2_b_air                14.9965   \n",
              "secondary_cleaner.state.floatbank2_b_level             -500.994   \n",
              "secondary_cleaner.state.floatbank3_a_air                20.0397   \n",
              "secondary_cleaner.state.floatbank3_a_level             -450.263   \n",
              "secondary_cleaner.state.floatbank3_b_air                14.0779   \n",
              "secondary_cleaner.state.floatbank3_b_level             -449.661   \n",
              "secondary_cleaner.state.floatbank4_a_air                11.9624   \n",
              "secondary_cleaner.state.floatbank4_a_level             -498.767   \n",
              "secondary_cleaner.state.floatbank4_b_air                8.09689   \n",
              "secondary_cleaner.state.floatbank4_b_level             -500.827   \n",
              "secondary_cleaner.state.floatbank5_a_air                8.07106   \n",
              "secondary_cleaner.state.floatbank5_a_level             -500.802   \n",
              "secondary_cleaner.state.floatbank5_b_air                4.90512   \n",
              "secondary_cleaner.state.floatbank5_b_level             -499.829   \n",
              "secondary_cleaner.state.floatbank6_a_air                24.9949   \n",
              "secondary_cleaner.state.floatbank6_a_level             -500.623   \n",
              "\n",
              "                                                              3  \\\n",
              "date                                        2016-09-01 03:59:59   \n",
              "primary_cleaner.input.sulfate                           215.336   \n",
              "primary_cleaner.input.depressant                        12.0068   \n",
              "primary_cleaner.input.feed_size                            7.64   \n",
              "primary_cleaner.input.xanthate                         0.863514   \n",
              "primary_cleaner.state.floatbank8_a_air                  1399.62   \n",
              "primary_cleaner.state.floatbank8_a_level               -498.864   \n",
              "primary_cleaner.state.floatbank8_b_air                  1397.44   \n",
              "primary_cleaner.state.floatbank8_b_level               -499.211   \n",
              "primary_cleaner.state.floatbank8_c_air                  1400.13   \n",
              "primary_cleaner.state.floatbank8_c_level               -498.356   \n",
              "primary_cleaner.state.floatbank8_d_air                  1401.07   \n",
              "primary_cleaner.state.floatbank8_d_level               -501.039   \n",
              "rougher.input.feed_ag                                   12.4005   \n",
              "rougher.input.feed_pb                                   5.11476   \n",
              "rougher.input.feed_rate                                 476.618   \n",
              "rougher.input.feed_size                                 59.8659   \n",
              "rougher.input.feed_sol                                  41.0602   \n",
              "rougher.input.feed_au                                   12.1816   \n",
              "rougher.input.floatbank10_sulfate                       16.5321   \n",
              "rougher.input.floatbank10_xanthate                      5.80194   \n",
              "rougher.input.floatbank11_sulfate                       16.5153   \n",
              "rougher.input.floatbank11_xanthate                      5.80366   \n",
              "rougher.state.floatbank10_a_air                         1000.28   \n",
              "rougher.state.floatbank10_a_level                      -350.173   \n",
              "rougher.state.floatbank10_b_air                         1251.32   \n",
              "rougher.state.floatbank10_b_level                      -398.655   \n",
              "rougher.state.floatbank10_c_air                         1250.49   \n",
              "rougher.state.floatbank10_c_level                      -399.747   \n",
              "rougher.state.floatbank10_d_air                          1199.4   \n",
              "rougher.state.floatbank10_d_level                      -397.503   \n",
              "rougher.state.floatbank10_e_air                         1001.93   \n",
              "rougher.state.floatbank10_e_level                      -400.438   \n",
              "rougher.state.floatbank10_f_air                         950.735   \n",
              "rougher.state.floatbank10_f_level                      -399.803   \n",
              "secondary_cleaner.state.floatbank2_a_air                 24.894   \n",
              "secondary_cleaner.state.floatbank2_a_level             -499.382   \n",
              "secondary_cleaner.state.floatbank2_b_air                14.9167   \n",
              "secondary_cleaner.state.floatbank2_b_level             -499.862   \n",
              "secondary_cleaner.state.floatbank3_a_air                20.0311   \n",
              "secondary_cleaner.state.floatbank3_a_level             -449.373   \n",
              "secondary_cleaner.state.floatbank3_b_air                 14.014   \n",
              "secondary_cleaner.state.floatbank3_b_level             -449.527   \n",
              "secondary_cleaner.state.floatbank4_a_air                12.0331   \n",
              "secondary_cleaner.state.floatbank4_a_level             -498.351   \n",
              "secondary_cleaner.state.floatbank4_b_air                8.07495   \n",
              "secondary_cleaner.state.floatbank4_b_level             -499.474   \n",
              "secondary_cleaner.state.floatbank5_a_air                7.89708   \n",
              "secondary_cleaner.state.floatbank5_a_level             -500.869   \n",
              "secondary_cleaner.state.floatbank5_b_air                 4.9314   \n",
              "secondary_cleaner.state.floatbank5_b_level             -499.964   \n",
              "secondary_cleaner.state.floatbank6_a_air                24.9489   \n",
              "secondary_cleaner.state.floatbank6_a_level              -498.71   \n",
              "\n",
              "                                                              4  \n",
              "date                                        2016-09-01 04:59:59  \n",
              "primary_cleaner.input.sulfate                           199.099  \n",
              "primary_cleaner.input.depressant                        10.6825  \n",
              "primary_cleaner.input.feed_size                            7.53  \n",
              "primary_cleaner.input.xanthate                         0.805575  \n",
              "primary_cleaner.state.floatbank8_a_air                  1401.27  \n",
              "primary_cleaner.state.floatbank8_a_level               -500.808  \n",
              "primary_cleaner.state.floatbank8_b_air                  1398.13  \n",
              "primary_cleaner.state.floatbank8_b_level               -499.505  \n",
              "primary_cleaner.state.floatbank8_c_air                  1402.17  \n",
              "primary_cleaner.state.floatbank8_c_level               -500.811  \n",
              "primary_cleaner.state.floatbank8_d_air                  1399.48  \n",
              "primary_cleaner.state.floatbank8_d_level               -499.374  \n",
              "rougher.input.feed_ag                                   11.3274  \n",
              "rougher.input.feed_pb                                   4.76738  \n",
              "rougher.input.feed_rate                                 488.248  \n",
              "rougher.input.feed_size                                 63.3153  \n",
              "rougher.input.feed_sol                                  41.2692  \n",
              "rougher.input.feed_au                                   11.2904  \n",
              "rougher.input.floatbank10_sulfate                       13.6073  \n",
              "rougher.input.floatbank10_xanthate                      5.73808  \n",
              "rougher.input.floatbank11_sulfate                       13.6501  \n",
              "rougher.input.floatbank11_xanthate                      5.73963  \n",
              "rougher.state.floatbank10_a_air                         996.541  \n",
              "rougher.state.floatbank10_a_level                      -350.563  \n",
              "rougher.state.floatbank10_b_air                         1304.66  \n",
              "rougher.state.floatbank10_b_level                      -399.512  \n",
              "rougher.state.floatbank10_c_air                         1306.46  \n",
              "rougher.state.floatbank10_c_level                      -399.051  \n",
              "rougher.state.floatbank10_d_air                          1248.7  \n",
              "rougher.state.floatbank10_d_level                      -400.877  \n",
              "rougher.state.floatbank10_e_air                         1058.84  \n",
              "rougher.state.floatbank10_e_level                      -398.988  \n",
              "rougher.state.floatbank10_f_air                         949.645  \n",
              "rougher.state.floatbank10_f_level                      -399.278  \n",
              "secondary_cleaner.state.floatbank2_a_air                24.8869  \n",
              "secondary_cleaner.state.floatbank2_a_level             -499.357  \n",
              "secondary_cleaner.state.floatbank2_b_air                14.9792  \n",
              "secondary_cleaner.state.floatbank2_b_level             -500.187  \n",
              "secondary_cleaner.state.floatbank3_a_air                19.9624  \n",
              "secondary_cleaner.state.floatbank3_a_level             -450.639  \n",
              "secondary_cleaner.state.floatbank3_b_air                14.0092  \n",
              "secondary_cleaner.state.floatbank3_b_level             -450.022  \n",
              "secondary_cleaner.state.floatbank4_a_air                12.0254  \n",
              "secondary_cleaner.state.floatbank4_a_level             -500.786  \n",
              "secondary_cleaner.state.floatbank4_b_air                8.05468  \n",
              "secondary_cleaner.state.floatbank4_b_level             -500.398  \n",
              "secondary_cleaner.state.floatbank5_a_air                8.10789  \n",
              "secondary_cleaner.state.floatbank5_a_level             -509.527  \n",
              "secondary_cleaner.state.floatbank5_b_air                4.95767  \n",
              "secondary_cleaner.state.floatbank5_b_level              -500.36  \n",
              "secondary_cleaner.state.floatbank6_a_air                25.0033  \n",
              "secondary_cleaner.state.floatbank6_a_level             -500.856  "
            ]
          },
          "metadata": {},
          "output_type": "display_data"
        },
        {
          "name": "stdout",
          "output_type": "stream",
          "text": [
            "<class 'pandas.core.frame.DataFrame'>\n",
            "RangeIndex: 5290 entries, 0 to 5289\n",
            "Data columns (total 53 columns):\n",
            "date                                          5290 non-null object\n",
            "primary_cleaner.input.sulfate                 5286 non-null float64\n",
            "primary_cleaner.input.depressant              5285 non-null float64\n",
            "primary_cleaner.input.feed_size               5290 non-null float64\n",
            "primary_cleaner.input.xanthate                5286 non-null float64\n",
            "primary_cleaner.state.floatbank8_a_air        5290 non-null float64\n",
            "primary_cleaner.state.floatbank8_a_level      5290 non-null float64\n",
            "primary_cleaner.state.floatbank8_b_air        5290 non-null float64\n",
            "primary_cleaner.state.floatbank8_b_level      5290 non-null float64\n",
            "primary_cleaner.state.floatbank8_c_air        5290 non-null float64\n",
            "primary_cleaner.state.floatbank8_c_level      5290 non-null float64\n",
            "primary_cleaner.state.floatbank8_d_air        5290 non-null float64\n",
            "primary_cleaner.state.floatbank8_d_level      5290 non-null float64\n",
            "rougher.input.feed_ag                         5290 non-null float64\n",
            "rougher.input.feed_pb                         5290 non-null float64\n",
            "rougher.input.feed_rate                       5287 non-null float64\n",
            "rougher.input.feed_size                       5289 non-null float64\n",
            "rougher.input.feed_sol                        5269 non-null float64\n",
            "rougher.input.feed_au                         5290 non-null float64\n",
            "rougher.input.floatbank10_sulfate             5285 non-null float64\n",
            "rougher.input.floatbank10_xanthate            5290 non-null float64\n",
            "rougher.input.floatbank11_sulfate             5282 non-null float64\n",
            "rougher.input.floatbank11_xanthate            5265 non-null float64\n",
            "rougher.state.floatbank10_a_air               5290 non-null float64\n",
            "rougher.state.floatbank10_a_level             5290 non-null float64\n",
            "rougher.state.floatbank10_b_air               5290 non-null float64\n",
            "rougher.state.floatbank10_b_level             5290 non-null float64\n",
            "rougher.state.floatbank10_c_air               5290 non-null float64\n",
            "rougher.state.floatbank10_c_level             5290 non-null float64\n",
            "rougher.state.floatbank10_d_air               5290 non-null float64\n",
            "rougher.state.floatbank10_d_level             5290 non-null float64\n",
            "rougher.state.floatbank10_e_air               5290 non-null float64\n",
            "rougher.state.floatbank10_e_level             5290 non-null float64\n",
            "rougher.state.floatbank10_f_air               5290 non-null float64\n",
            "rougher.state.floatbank10_f_level             5290 non-null float64\n",
            "secondary_cleaner.state.floatbank2_a_air      5287 non-null float64\n",
            "secondary_cleaner.state.floatbank2_a_level    5290 non-null float64\n",
            "secondary_cleaner.state.floatbank2_b_air      5288 non-null float64\n",
            "secondary_cleaner.state.floatbank2_b_level    5290 non-null float64\n",
            "secondary_cleaner.state.floatbank3_a_air      5281 non-null float64\n",
            "secondary_cleaner.state.floatbank3_a_level    5290 non-null float64\n",
            "secondary_cleaner.state.floatbank3_b_air      5290 non-null float64\n",
            "secondary_cleaner.state.floatbank3_b_level    5290 non-null float64\n",
            "secondary_cleaner.state.floatbank4_a_air      5290 non-null float64\n",
            "secondary_cleaner.state.floatbank4_a_level    5290 non-null float64\n",
            "secondary_cleaner.state.floatbank4_b_air      5290 non-null float64\n",
            "secondary_cleaner.state.floatbank4_b_level    5290 non-null float64\n",
            "secondary_cleaner.state.floatbank5_a_air      5290 non-null float64\n",
            "secondary_cleaner.state.floatbank5_a_level    5290 non-null float64\n",
            "secondary_cleaner.state.floatbank5_b_air      5290 non-null float64\n",
            "secondary_cleaner.state.floatbank5_b_level    5290 non-null float64\n",
            "secondary_cleaner.state.floatbank6_a_air      5290 non-null float64\n",
            "secondary_cleaner.state.floatbank6_a_level    5290 non-null float64\n",
            "dtypes: float64(52), object(1)\n",
            "memory usage: 2.1+ MB\n"
          ]
        }
      ],
      "source": [
        "df_test = pd.read_csv('/datasets/gold_recovery_test_new.csv', sep= ',')\n",
        "display(df_test.head().T)\n",
        "df_test.info()"
      ]
    },
    {
      "cell_type": "markdown",
      "metadata": {
        "id": "HmRG22ZhrFZ2"
      },
      "source": [
        "Мы получили базу данных из 87 признаков. Всего в базе 19439 записей.\n",
        "\n",
        "В тестовую выборку попали 5290 записей, в тренировочную - 14149. Полная база содержит данные обеих выборок."
      ]
    },
    {
      "cell_type": "markdown",
      "metadata": {
        "id": "P-2whL0KrFZ2"
      },
      "source": [
        "### Проверка расчета коэффициента эффективности обогащения\n",
        "Основной анализируемый признак в данном проекте - эффективность обогащения. Она должна быть рассчитана по формуле:"
      ]
    },
    {
      "cell_type": "markdown",
      "metadata": {
        "id": "2VoLTJRerFZ2"
      },
      "source": [
        "![image.png](attachment:image.png)"
      ]
    },
    {
      "cell_type": "markdown",
      "metadata": {
        "id": "-7LTaUEerFZ2"
      },
      "source": [
        "где:\n",
        "+ C — доля золота в концентрате после флотации/очистки;\n",
        "+ F — доля золота в сырье/концентрате до флотации/очистки;\n",
        "+ T — доля золота в отвальных хвостах после флотации/очистки.\n",
        "Проверим расчёт эффективности обогащения на обучающей выборке для признака rougher.output.recovery. Это этап флотации, характеристики продукта. Расчёт будет выглядеть следующим образом:"
      ]
    },
    {
      "cell_type": "markdown",
      "metadata": {
        "id": "VjLQw0JDrFZ2"
      },
      "source": [
        "![image-2.png](attachment:image-2.png)"
      ]
    },
    {
      "cell_type": "code",
      "execution_count": null,
      "metadata": {
        "id": "kHAMDAO-rFZ3",
        "outputId": "73f9351f-c056-4e2e-bc16-db104531584c"
      },
      "outputs": [
        {
          "data": {
            "text/html": [
              "<div>\n",
              "<style scoped>\n",
              "    .dataframe tbody tr th:only-of-type {\n",
              "        vertical-align: middle;\n",
              "    }\n",
              "\n",
              "    .dataframe tbody tr th {\n",
              "        vertical-align: top;\n",
              "    }\n",
              "\n",
              "    .dataframe thead th {\n",
              "        text-align: right;\n",
              "    }\n",
              "</style>\n",
              "<table border=\"1\" class=\"dataframe\">\n",
              "  <thead>\n",
              "    <tr style=\"text-align: right;\">\n",
              "      <th></th>\n",
              "      <th>rougher.output.recovery</th>\n",
              "      <th>rougher.output.recovery_calculated</th>\n",
              "    </tr>\n",
              "  </thead>\n",
              "  <tbody>\n",
              "    <tr>\n",
              "      <td>0</td>\n",
              "      <td>87.107763</td>\n",
              "      <td>87.107763</td>\n",
              "    </tr>\n",
              "    <tr>\n",
              "      <td>1</td>\n",
              "      <td>86.843261</td>\n",
              "      <td>86.843261</td>\n",
              "    </tr>\n",
              "    <tr>\n",
              "      <td>2</td>\n",
              "      <td>86.842308</td>\n",
              "      <td>86.842308</td>\n",
              "    </tr>\n",
              "    <tr>\n",
              "      <td>3</td>\n",
              "      <td>87.226430</td>\n",
              "      <td>87.226430</td>\n",
              "    </tr>\n",
              "    <tr>\n",
              "      <td>4</td>\n",
              "      <td>86.688794</td>\n",
              "      <td>86.688794</td>\n",
              "    </tr>\n",
              "    <tr>\n",
              "      <td>...</td>\n",
              "      <td>...</td>\n",
              "      <td>...</td>\n",
              "    </tr>\n",
              "    <tr>\n",
              "      <td>14144</td>\n",
              "      <td>89.574376</td>\n",
              "      <td>89.574376</td>\n",
              "    </tr>\n",
              "    <tr>\n",
              "      <td>14145</td>\n",
              "      <td>87.724007</td>\n",
              "      <td>87.724007</td>\n",
              "    </tr>\n",
              "    <tr>\n",
              "      <td>14146</td>\n",
              "      <td>88.890579</td>\n",
              "      <td>88.890579</td>\n",
              "    </tr>\n",
              "    <tr>\n",
              "      <td>14147</td>\n",
              "      <td>89.858126</td>\n",
              "      <td>89.858126</td>\n",
              "    </tr>\n",
              "    <tr>\n",
              "      <td>14148</td>\n",
              "      <td>89.514960</td>\n",
              "      <td>89.514960</td>\n",
              "    </tr>\n",
              "  </tbody>\n",
              "</table>\n",
              "<p>14149 rows × 2 columns</p>\n",
              "</div>"
            ],
            "text/plain": [
              "       rougher.output.recovery  rougher.output.recovery_calculated\n",
              "0                    87.107763                           87.107763\n",
              "1                    86.843261                           86.843261\n",
              "2                    86.842308                           86.842308\n",
              "3                    87.226430                           87.226430\n",
              "4                    86.688794                           86.688794\n",
              "...                        ...                                 ...\n",
              "14144                89.574376                           89.574376\n",
              "14145                87.724007                           87.724007\n",
              "14146                88.890579                           88.890579\n",
              "14147                89.858126                           89.858126\n",
              "14148                89.514960                           89.514960\n",
              "\n",
              "[14149 rows x 2 columns]"
            ]
          },
          "execution_count": 5,
          "metadata": {},
          "output_type": "execute_result"
        }
      ],
      "source": [
        "df_train['rougher.output.recovery_calculated'] = (\n",
        "    df_train['rougher.output.concentrate_au'] * (df_train['rougher.input.feed_au'] - df_train['rougher.output.tail_au']))/(\n",
        "    df_train['rougher.input.feed_au'] * (df_train['rougher.output.concentrate_au'] - df_train['rougher.output.tail_au']))*100\n",
        "df_train[['rougher.output.recovery','rougher.output.recovery_calculated']]"
      ]
    },
    {
      "cell_type": "markdown",
      "metadata": {
        "id": "qIaA-UKqrFZ3"
      },
      "source": [
        "Похоже, что эффективность обогащения рассчитана правильно. Проверим, так ли это, рассчитав MAE между 'rougher.output.recovery' и рассчитанным нами 'rougher.output.recovery_calculated':"
      ]
    },
    {
      "cell_type": "code",
      "execution_count": null,
      "metadata": {
        "id": "z64ZXcKNrFZ3",
        "outputId": "4e5d342f-abbe-449e-c1e4-30c8641e543d"
      },
      "outputs": [
        {
          "name": "stdout",
          "output_type": "stream",
          "text": [
            "Среднее абсолютное отклонение -  9.682896147825551e-15\n"
          ]
        }
      ],
      "source": [
        "print('Среднее абсолютное отклонение - ',\n",
        "      mean_absolute_error(df_train['rougher.output.recovery'], df_train['rougher.output.recovery_calculated']))"
      ]
    },
    {
      "cell_type": "markdown",
      "metadata": {
        "id": "TDucijQQrFZ3"
      },
      "source": [
        "Фактически мы получили те же значения, разницу можно списать на особенности округления данных в расчётах, поэтому предоставленные данные корректны. Удалим новую рассчитанную колонку."
      ]
    },
    {
      "cell_type": "code",
      "execution_count": null,
      "metadata": {
        "id": "N8wagWpYrFZ4"
      },
      "outputs": [],
      "source": [
        "df_train = df_train.drop(['rougher.output.recovery_calculated'], axis = 1).copy()"
      ]
    },
    {
      "cell_type": "markdown",
      "metadata": {
        "id": "P4GlBEjUrFZ4"
      },
      "source": [
        "### Анализ отличий признаков в выборках\n",
        "\n",
        "В тестовой выборке меньше признаков, чем в тренировочной и полной базе данных. Всего 34 признака отсутствуют в тесте, приведём их список:"
      ]
    },
    {
      "cell_type": "code",
      "execution_count": null,
      "metadata": {
        "scrolled": true,
        "id": "Rq-STcBhrFZ4",
        "outputId": "c0d85817-117a-4849-a8de-837f83e94611"
      },
      "outputs": [
        {
          "name": "stdout",
          "output_type": "stream",
          "text": [
            "34\n"
          ]
        },
        {
          "data": {
            "text/plain": [
              "['final.output.concentrate_ag',\n",
              " 'final.output.concentrate_pb',\n",
              " 'final.output.concentrate_sol',\n",
              " 'final.output.concentrate_au',\n",
              " 'final.output.recovery',\n",
              " 'final.output.tail_ag',\n",
              " 'final.output.tail_pb',\n",
              " 'final.output.tail_sol',\n",
              " 'final.output.tail_au',\n",
              " 'primary_cleaner.output.concentrate_ag',\n",
              " 'primary_cleaner.output.concentrate_pb',\n",
              " 'primary_cleaner.output.concentrate_sol',\n",
              " 'primary_cleaner.output.concentrate_au',\n",
              " 'primary_cleaner.output.tail_ag',\n",
              " 'primary_cleaner.output.tail_pb',\n",
              " 'primary_cleaner.output.tail_sol',\n",
              " 'primary_cleaner.output.tail_au',\n",
              " 'rougher.calculation.sulfate_to_au_concentrate',\n",
              " 'rougher.calculation.floatbank10_sulfate_to_au_feed',\n",
              " 'rougher.calculation.floatbank11_sulfate_to_au_feed',\n",
              " 'rougher.calculation.au_pb_ratio',\n",
              " 'rougher.output.concentrate_ag',\n",
              " 'rougher.output.concentrate_pb',\n",
              " 'rougher.output.concentrate_sol',\n",
              " 'rougher.output.concentrate_au',\n",
              " 'rougher.output.recovery',\n",
              " 'rougher.output.tail_ag',\n",
              " 'rougher.output.tail_pb',\n",
              " 'rougher.output.tail_sol',\n",
              " 'rougher.output.tail_au',\n",
              " 'secondary_cleaner.output.tail_ag',\n",
              " 'secondary_cleaner.output.tail_pb',\n",
              " 'secondary_cleaner.output.tail_sol',\n",
              " 'secondary_cleaner.output.tail_au']"
            ]
          },
          "execution_count": 8,
          "metadata": {},
          "output_type": "execute_result"
        }
      ],
      "source": [
        "print(len([i for i in list(df_full.columns) if i not in list(df_test.columns)]))\n",
        "[i for i in list(df_full.columns) if i not in list(df_test.columns)]"
      ]
    },
    {
      "cell_type": "markdown",
      "metadata": {
        "id": "dFvXn-9yrFZ4"
      },
      "source": [
        "Все они относятся к разным стадиям технологического процесса, однако их объединяет тот факт, что они характеризуют продукт на выходе (слово \"output\" содержится в каждом названии переменных, кроме группы calculation, что по сути является следствием). В техническом задании сказано, что данные признаки исключены из тестового набора данных целенаправленно. Переменные rougher.output.recovery и final.output.recovery можно вычислить, имея данные пропущенных в тестовой выборке данные. Но цель проекта в том и состоит, чтобы научиться предсказывать описывать коэффициенты обогащения без очевидных входных данных по концентрации золота на входе и на выходе. Поэтому имеет смысл исключить данные переменные и из обучающей модели, а в тестовый набор данных добавить целевой признак из полного набора данных, т.к. нашей моедли понадобятся \"правильные ответы\", с чем мы будем сравнивать результаты предсказаний.\n",
        "\n",
        "Добавим целевой признак в тестовую выборку. В качестве индексирующей переменной мы будем использовать дату, т.к. значения в ней уникальны и не повторяются."
      ]
    },
    {
      "cell_type": "code",
      "execution_count": null,
      "metadata": {
        "scrolled": true,
        "id": "CJH9HA3DrFZ4",
        "outputId": "eea7d95b-77ff-4ac2-f89b-91592e50a0dd"
      },
      "outputs": [
        {
          "data": {
            "text/html": [
              "<div>\n",
              "<style scoped>\n",
              "    .dataframe tbody tr th:only-of-type {\n",
              "        vertical-align: middle;\n",
              "    }\n",
              "\n",
              "    .dataframe tbody tr th {\n",
              "        vertical-align: top;\n",
              "    }\n",
              "\n",
              "    .dataframe thead th {\n",
              "        text-align: right;\n",
              "    }\n",
              "</style>\n",
              "<table border=\"1\" class=\"dataframe\">\n",
              "  <thead>\n",
              "    <tr style=\"text-align: right;\">\n",
              "      <th></th>\n",
              "      <th>date</th>\n",
              "      <th>primary_cleaner.input.sulfate</th>\n",
              "      <th>primary_cleaner.input.depressant</th>\n",
              "      <th>primary_cleaner.input.feed_size</th>\n",
              "      <th>primary_cleaner.input.xanthate</th>\n",
              "      <th>primary_cleaner.state.floatbank8_a_air</th>\n",
              "      <th>primary_cleaner.state.floatbank8_a_level</th>\n",
              "      <th>primary_cleaner.state.floatbank8_b_air</th>\n",
              "      <th>primary_cleaner.state.floatbank8_b_level</th>\n",
              "      <th>primary_cleaner.state.floatbank8_c_air</th>\n",
              "      <th>...</th>\n",
              "      <th>secondary_cleaner.state.floatbank4_b_air</th>\n",
              "      <th>secondary_cleaner.state.floatbank4_b_level</th>\n",
              "      <th>secondary_cleaner.state.floatbank5_a_air</th>\n",
              "      <th>secondary_cleaner.state.floatbank5_a_level</th>\n",
              "      <th>secondary_cleaner.state.floatbank5_b_air</th>\n",
              "      <th>secondary_cleaner.state.floatbank5_b_level</th>\n",
              "      <th>secondary_cleaner.state.floatbank6_a_air</th>\n",
              "      <th>secondary_cleaner.state.floatbank6_a_level</th>\n",
              "      <th>final.output.recovery</th>\n",
              "      <th>rougher.output.recovery</th>\n",
              "    </tr>\n",
              "  </thead>\n",
              "  <tbody>\n",
              "    <tr>\n",
              "      <td>0</td>\n",
              "      <td>2016-09-01 00:59:59</td>\n",
              "      <td>210.800909</td>\n",
              "      <td>14.993118</td>\n",
              "      <td>8.080000</td>\n",
              "      <td>1.005021</td>\n",
              "      <td>1398.981301</td>\n",
              "      <td>-500.225577</td>\n",
              "      <td>1399.144926</td>\n",
              "      <td>-499.919735</td>\n",
              "      <td>1400.102998</td>\n",
              "      <td>...</td>\n",
              "      <td>8.016656</td>\n",
              "      <td>-501.289139</td>\n",
              "      <td>7.946562</td>\n",
              "      <td>-432.317850</td>\n",
              "      <td>4.872511</td>\n",
              "      <td>-500.037437</td>\n",
              "      <td>26.705889</td>\n",
              "      <td>-499.709414</td>\n",
              "      <td>70.273583</td>\n",
              "      <td>89.993421</td>\n",
              "    </tr>\n",
              "    <tr>\n",
              "      <td>1</td>\n",
              "      <td>2016-09-01 01:59:59</td>\n",
              "      <td>215.392455</td>\n",
              "      <td>14.987471</td>\n",
              "      <td>8.080000</td>\n",
              "      <td>0.990469</td>\n",
              "      <td>1398.777912</td>\n",
              "      <td>-500.057435</td>\n",
              "      <td>1398.055362</td>\n",
              "      <td>-499.778182</td>\n",
              "      <td>1396.151033</td>\n",
              "      <td>...</td>\n",
              "      <td>8.130979</td>\n",
              "      <td>-499.634209</td>\n",
              "      <td>7.958270</td>\n",
              "      <td>-525.839648</td>\n",
              "      <td>4.878850</td>\n",
              "      <td>-500.162375</td>\n",
              "      <td>25.019940</td>\n",
              "      <td>-499.819438</td>\n",
              "      <td>68.910432</td>\n",
              "      <td>88.089657</td>\n",
              "    </tr>\n",
              "    <tr>\n",
              "      <td>2</td>\n",
              "      <td>2016-09-01 02:59:59</td>\n",
              "      <td>215.259946</td>\n",
              "      <td>12.884934</td>\n",
              "      <td>7.786667</td>\n",
              "      <td>0.996043</td>\n",
              "      <td>1398.493666</td>\n",
              "      <td>-500.868360</td>\n",
              "      <td>1398.860436</td>\n",
              "      <td>-499.764529</td>\n",
              "      <td>1398.075709</td>\n",
              "      <td>...</td>\n",
              "      <td>8.096893</td>\n",
              "      <td>-500.827423</td>\n",
              "      <td>8.071056</td>\n",
              "      <td>-500.801673</td>\n",
              "      <td>4.905125</td>\n",
              "      <td>-499.828510</td>\n",
              "      <td>24.994862</td>\n",
              "      <td>-500.622559</td>\n",
              "      <td>68.143213</td>\n",
              "      <td>88.412756</td>\n",
              "    </tr>\n",
              "    <tr>\n",
              "      <td>3</td>\n",
              "      <td>2016-09-01 03:59:59</td>\n",
              "      <td>215.336236</td>\n",
              "      <td>12.006805</td>\n",
              "      <td>7.640000</td>\n",
              "      <td>0.863514</td>\n",
              "      <td>1399.618111</td>\n",
              "      <td>-498.863574</td>\n",
              "      <td>1397.440120</td>\n",
              "      <td>-499.211024</td>\n",
              "      <td>1400.129303</td>\n",
              "      <td>...</td>\n",
              "      <td>8.074946</td>\n",
              "      <td>-499.474407</td>\n",
              "      <td>7.897085</td>\n",
              "      <td>-500.868509</td>\n",
              "      <td>4.931400</td>\n",
              "      <td>-499.963623</td>\n",
              "      <td>24.948919</td>\n",
              "      <td>-498.709987</td>\n",
              "      <td>67.776393</td>\n",
              "      <td>87.360133</td>\n",
              "    </tr>\n",
              "    <tr>\n",
              "      <td>4</td>\n",
              "      <td>2016-09-01 04:59:59</td>\n",
              "      <td>199.099327</td>\n",
              "      <td>10.682530</td>\n",
              "      <td>7.530000</td>\n",
              "      <td>0.805575</td>\n",
              "      <td>1401.268123</td>\n",
              "      <td>-500.808305</td>\n",
              "      <td>1398.128818</td>\n",
              "      <td>-499.504543</td>\n",
              "      <td>1402.172226</td>\n",
              "      <td>...</td>\n",
              "      <td>8.054678</td>\n",
              "      <td>-500.397500</td>\n",
              "      <td>8.107890</td>\n",
              "      <td>-509.526725</td>\n",
              "      <td>4.957674</td>\n",
              "      <td>-500.360026</td>\n",
              "      <td>25.003331</td>\n",
              "      <td>-500.856333</td>\n",
              "      <td>61.467078</td>\n",
              "      <td>83.236367</td>\n",
              "    </tr>\n",
              "    <tr>\n",
              "      <td>...</td>\n",
              "      <td>...</td>\n",
              "      <td>...</td>\n",
              "      <td>...</td>\n",
              "      <td>...</td>\n",
              "      <td>...</td>\n",
              "      <td>...</td>\n",
              "      <td>...</td>\n",
              "      <td>...</td>\n",
              "      <td>...</td>\n",
              "      <td>...</td>\n",
              "      <td>...</td>\n",
              "      <td>...</td>\n",
              "      <td>...</td>\n",
              "      <td>...</td>\n",
              "      <td>...</td>\n",
              "      <td>...</td>\n",
              "      <td>...</td>\n",
              "      <td>...</td>\n",
              "      <td>...</td>\n",
              "      <td>...</td>\n",
              "      <td>...</td>\n",
              "    </tr>\n",
              "    <tr>\n",
              "      <td>5285</td>\n",
              "      <td>2017-12-31 19:59:59</td>\n",
              "      <td>173.957757</td>\n",
              "      <td>15.963399</td>\n",
              "      <td>8.070000</td>\n",
              "      <td>0.896701</td>\n",
              "      <td>1401.930554</td>\n",
              "      <td>-499.728848</td>\n",
              "      <td>1401.441445</td>\n",
              "      <td>-499.193423</td>\n",
              "      <td>1399.810313</td>\n",
              "      <td>...</td>\n",
              "      <td>12.069155</td>\n",
              "      <td>-499.673279</td>\n",
              "      <td>7.977259</td>\n",
              "      <td>-499.516126</td>\n",
              "      <td>5.933319</td>\n",
              "      <td>-499.965973</td>\n",
              "      <td>8.987171</td>\n",
              "      <td>-499.755909</td>\n",
              "      <td>68.919891</td>\n",
              "      <td>95.172585</td>\n",
              "    </tr>\n",
              "    <tr>\n",
              "      <td>5286</td>\n",
              "      <td>2017-12-31 20:59:59</td>\n",
              "      <td>172.910270</td>\n",
              "      <td>16.002605</td>\n",
              "      <td>8.070000</td>\n",
              "      <td>0.896519</td>\n",
              "      <td>1447.075722</td>\n",
              "      <td>-494.716823</td>\n",
              "      <td>1448.851892</td>\n",
              "      <td>-465.963026</td>\n",
              "      <td>1443.890424</td>\n",
              "      <td>...</td>\n",
              "      <td>13.365371</td>\n",
              "      <td>-499.122723</td>\n",
              "      <td>9.288553</td>\n",
              "      <td>-496.892967</td>\n",
              "      <td>7.372897</td>\n",
              "      <td>-499.942956</td>\n",
              "      <td>8.986832</td>\n",
              "      <td>-499.903761</td>\n",
              "      <td>68.440582</td>\n",
              "      <td>94.575036</td>\n",
              "    </tr>\n",
              "    <tr>\n",
              "      <td>5287</td>\n",
              "      <td>2017-12-31 21:59:59</td>\n",
              "      <td>171.135718</td>\n",
              "      <td>15.993669</td>\n",
              "      <td>8.070000</td>\n",
              "      <td>1.165996</td>\n",
              "      <td>1498.836182</td>\n",
              "      <td>-501.770403</td>\n",
              "      <td>1499.572353</td>\n",
              "      <td>-495.516347</td>\n",
              "      <td>1502.749213</td>\n",
              "      <td>...</td>\n",
              "      <td>15.101425</td>\n",
              "      <td>-499.936252</td>\n",
              "      <td>10.989181</td>\n",
              "      <td>-498.347898</td>\n",
              "      <td>9.020944</td>\n",
              "      <td>-500.040448</td>\n",
              "      <td>8.982038</td>\n",
              "      <td>-497.789882</td>\n",
              "      <td>67.092759</td>\n",
              "      <td>93.018138</td>\n",
              "    </tr>\n",
              "    <tr>\n",
              "      <td>5288</td>\n",
              "      <td>2017-12-31 22:59:59</td>\n",
              "      <td>179.697158</td>\n",
              "      <td>15.438979</td>\n",
              "      <td>8.070000</td>\n",
              "      <td>1.501068</td>\n",
              "      <td>1498.466243</td>\n",
              "      <td>-500.483984</td>\n",
              "      <td>1497.986986</td>\n",
              "      <td>-519.200340</td>\n",
              "      <td>1496.569047</td>\n",
              "      <td>...</td>\n",
              "      <td>15.026853</td>\n",
              "      <td>-499.723143</td>\n",
              "      <td>11.011607</td>\n",
              "      <td>-499.985046</td>\n",
              "      <td>9.009783</td>\n",
              "      <td>-499.937902</td>\n",
              "      <td>9.012660</td>\n",
              "      <td>-500.154284</td>\n",
              "      <td>68.061186</td>\n",
              "      <td>92.599042</td>\n",
              "    </tr>\n",
              "    <tr>\n",
              "      <td>5289</td>\n",
              "      <td>2017-12-31 23:59:59</td>\n",
              "      <td>181.556856</td>\n",
              "      <td>14.995850</td>\n",
              "      <td>8.070000</td>\n",
              "      <td>1.623454</td>\n",
              "      <td>1498.096303</td>\n",
              "      <td>-499.796922</td>\n",
              "      <td>1501.743791</td>\n",
              "      <td>-505.146931</td>\n",
              "      <td>1499.535978</td>\n",
              "      <td>...</td>\n",
              "      <td>14.914199</td>\n",
              "      <td>-499.948518</td>\n",
              "      <td>10.986607</td>\n",
              "      <td>-500.658027</td>\n",
              "      <td>8.989497</td>\n",
              "      <td>-500.337588</td>\n",
              "      <td>8.988632</td>\n",
              "      <td>-500.764937</td>\n",
              "      <td>71.699976</td>\n",
              "      <td>91.177695</td>\n",
              "    </tr>\n",
              "  </tbody>\n",
              "</table>\n",
              "<p>5290 rows × 55 columns</p>\n",
              "</div>"
            ],
            "text/plain": [
              "                     date  primary_cleaner.input.sulfate  \\\n",
              "0     2016-09-01 00:59:59                     210.800909   \n",
              "1     2016-09-01 01:59:59                     215.392455   \n",
              "2     2016-09-01 02:59:59                     215.259946   \n",
              "3     2016-09-01 03:59:59                     215.336236   \n",
              "4     2016-09-01 04:59:59                     199.099327   \n",
              "...                   ...                            ...   \n",
              "5285  2017-12-31 19:59:59                     173.957757   \n",
              "5286  2017-12-31 20:59:59                     172.910270   \n",
              "5287  2017-12-31 21:59:59                     171.135718   \n",
              "5288  2017-12-31 22:59:59                     179.697158   \n",
              "5289  2017-12-31 23:59:59                     181.556856   \n",
              "\n",
              "      primary_cleaner.input.depressant  primary_cleaner.input.feed_size  \\\n",
              "0                            14.993118                         8.080000   \n",
              "1                            14.987471                         8.080000   \n",
              "2                            12.884934                         7.786667   \n",
              "3                            12.006805                         7.640000   \n",
              "4                            10.682530                         7.530000   \n",
              "...                                ...                              ...   \n",
              "5285                         15.963399                         8.070000   \n",
              "5286                         16.002605                         8.070000   \n",
              "5287                         15.993669                         8.070000   \n",
              "5288                         15.438979                         8.070000   \n",
              "5289                         14.995850                         8.070000   \n",
              "\n",
              "      primary_cleaner.input.xanthate  primary_cleaner.state.floatbank8_a_air  \\\n",
              "0                           1.005021                             1398.981301   \n",
              "1                           0.990469                             1398.777912   \n",
              "2                           0.996043                             1398.493666   \n",
              "3                           0.863514                             1399.618111   \n",
              "4                           0.805575                             1401.268123   \n",
              "...                              ...                                     ...   \n",
              "5285                        0.896701                             1401.930554   \n",
              "5286                        0.896519                             1447.075722   \n",
              "5287                        1.165996                             1498.836182   \n",
              "5288                        1.501068                             1498.466243   \n",
              "5289                        1.623454                             1498.096303   \n",
              "\n",
              "      primary_cleaner.state.floatbank8_a_level  \\\n",
              "0                                  -500.225577   \n",
              "1                                  -500.057435   \n",
              "2                                  -500.868360   \n",
              "3                                  -498.863574   \n",
              "4                                  -500.808305   \n",
              "...                                        ...   \n",
              "5285                               -499.728848   \n",
              "5286                               -494.716823   \n",
              "5287                               -501.770403   \n",
              "5288                               -500.483984   \n",
              "5289                               -499.796922   \n",
              "\n",
              "      primary_cleaner.state.floatbank8_b_air  \\\n",
              "0                                1399.144926   \n",
              "1                                1398.055362   \n",
              "2                                1398.860436   \n",
              "3                                1397.440120   \n",
              "4                                1398.128818   \n",
              "...                                      ...   \n",
              "5285                             1401.441445   \n",
              "5286                             1448.851892   \n",
              "5287                             1499.572353   \n",
              "5288                             1497.986986   \n",
              "5289                             1501.743791   \n",
              "\n",
              "      primary_cleaner.state.floatbank8_b_level  \\\n",
              "0                                  -499.919735   \n",
              "1                                  -499.778182   \n",
              "2                                  -499.764529   \n",
              "3                                  -499.211024   \n",
              "4                                  -499.504543   \n",
              "...                                        ...   \n",
              "5285                               -499.193423   \n",
              "5286                               -465.963026   \n",
              "5287                               -495.516347   \n",
              "5288                               -519.200340   \n",
              "5289                               -505.146931   \n",
              "\n",
              "      primary_cleaner.state.floatbank8_c_air  ...  \\\n",
              "0                                1400.102998  ...   \n",
              "1                                1396.151033  ...   \n",
              "2                                1398.075709  ...   \n",
              "3                                1400.129303  ...   \n",
              "4                                1402.172226  ...   \n",
              "...                                      ...  ...   \n",
              "5285                             1399.810313  ...   \n",
              "5286                             1443.890424  ...   \n",
              "5287                             1502.749213  ...   \n",
              "5288                             1496.569047  ...   \n",
              "5289                             1499.535978  ...   \n",
              "\n",
              "      secondary_cleaner.state.floatbank4_b_air  \\\n",
              "0                                     8.016656   \n",
              "1                                     8.130979   \n",
              "2                                     8.096893   \n",
              "3                                     8.074946   \n",
              "4                                     8.054678   \n",
              "...                                        ...   \n",
              "5285                                 12.069155   \n",
              "5286                                 13.365371   \n",
              "5287                                 15.101425   \n",
              "5288                                 15.026853   \n",
              "5289                                 14.914199   \n",
              "\n",
              "      secondary_cleaner.state.floatbank4_b_level  \\\n",
              "0                                    -501.289139   \n",
              "1                                    -499.634209   \n",
              "2                                    -500.827423   \n",
              "3                                    -499.474407   \n",
              "4                                    -500.397500   \n",
              "...                                          ...   \n",
              "5285                                 -499.673279   \n",
              "5286                                 -499.122723   \n",
              "5287                                 -499.936252   \n",
              "5288                                 -499.723143   \n",
              "5289                                 -499.948518   \n",
              "\n",
              "      secondary_cleaner.state.floatbank5_a_air  \\\n",
              "0                                     7.946562   \n",
              "1                                     7.958270   \n",
              "2                                     8.071056   \n",
              "3                                     7.897085   \n",
              "4                                     8.107890   \n",
              "...                                        ...   \n",
              "5285                                  7.977259   \n",
              "5286                                  9.288553   \n",
              "5287                                 10.989181   \n",
              "5288                                 11.011607   \n",
              "5289                                 10.986607   \n",
              "\n",
              "      secondary_cleaner.state.floatbank5_a_level  \\\n",
              "0                                    -432.317850   \n",
              "1                                    -525.839648   \n",
              "2                                    -500.801673   \n",
              "3                                    -500.868509   \n",
              "4                                    -509.526725   \n",
              "...                                          ...   \n",
              "5285                                 -499.516126   \n",
              "5286                                 -496.892967   \n",
              "5287                                 -498.347898   \n",
              "5288                                 -499.985046   \n",
              "5289                                 -500.658027   \n",
              "\n",
              "      secondary_cleaner.state.floatbank5_b_air  \\\n",
              "0                                     4.872511   \n",
              "1                                     4.878850   \n",
              "2                                     4.905125   \n",
              "3                                     4.931400   \n",
              "4                                     4.957674   \n",
              "...                                        ...   \n",
              "5285                                  5.933319   \n",
              "5286                                  7.372897   \n",
              "5287                                  9.020944   \n",
              "5288                                  9.009783   \n",
              "5289                                  8.989497   \n",
              "\n",
              "      secondary_cleaner.state.floatbank5_b_level  \\\n",
              "0                                    -500.037437   \n",
              "1                                    -500.162375   \n",
              "2                                    -499.828510   \n",
              "3                                    -499.963623   \n",
              "4                                    -500.360026   \n",
              "...                                          ...   \n",
              "5285                                 -499.965973   \n",
              "5286                                 -499.942956   \n",
              "5287                                 -500.040448   \n",
              "5288                                 -499.937902   \n",
              "5289                                 -500.337588   \n",
              "\n",
              "      secondary_cleaner.state.floatbank6_a_air  \\\n",
              "0                                    26.705889   \n",
              "1                                    25.019940   \n",
              "2                                    24.994862   \n",
              "3                                    24.948919   \n",
              "4                                    25.003331   \n",
              "...                                        ...   \n",
              "5285                                  8.987171   \n",
              "5286                                  8.986832   \n",
              "5287                                  8.982038   \n",
              "5288                                  9.012660   \n",
              "5289                                  8.988632   \n",
              "\n",
              "      secondary_cleaner.state.floatbank6_a_level  final.output.recovery  \\\n",
              "0                                    -499.709414              70.273583   \n",
              "1                                    -499.819438              68.910432   \n",
              "2                                    -500.622559              68.143213   \n",
              "3                                    -498.709987              67.776393   \n",
              "4                                    -500.856333              61.467078   \n",
              "...                                          ...                    ...   \n",
              "5285                                 -499.755909              68.919891   \n",
              "5286                                 -499.903761              68.440582   \n",
              "5287                                 -497.789882              67.092759   \n",
              "5288                                 -500.154284              68.061186   \n",
              "5289                                 -500.764937              71.699976   \n",
              "\n",
              "      rougher.output.recovery  \n",
              "0                   89.993421  \n",
              "1                   88.089657  \n",
              "2                   88.412756  \n",
              "3                   87.360133  \n",
              "4                   83.236367  \n",
              "...                       ...  \n",
              "5285                95.172585  \n",
              "5286                94.575036  \n",
              "5287                93.018138  \n",
              "5288                92.599042  \n",
              "5289                91.177695  \n",
              "\n",
              "[5290 rows x 55 columns]"
            ]
          },
          "execution_count": 9,
          "metadata": {},
          "output_type": "execute_result"
        }
      ],
      "source": [
        "df_test = df_test.merge(df_full[['date', 'final.output.recovery', 'rougher.output.recovery']], how='left', on='date')\n",
        "df_test"
      ]
    },
    {
      "cell_type": "markdown",
      "metadata": {
        "id": "AwGevwlrrFZ5"
      },
      "source": [
        "Удалим из тренировочной выборки признаки, отсутствующие в тестовом наборе данных."
      ]
    },
    {
      "cell_type": "code",
      "execution_count": null,
      "metadata": {
        "id": "n9XY83EBrFZ5",
        "outputId": "f6f5032f-bf24-4213-a2e0-f0a65f7aede6"
      },
      "outputs": [
        {
          "data": {
            "text/html": [
              "<div>\n",
              "<style scoped>\n",
              "    .dataframe tbody tr th:only-of-type {\n",
              "        vertical-align: middle;\n",
              "    }\n",
              "\n",
              "    .dataframe tbody tr th {\n",
              "        vertical-align: top;\n",
              "    }\n",
              "\n",
              "    .dataframe thead th {\n",
              "        text-align: right;\n",
              "    }\n",
              "</style>\n",
              "<table border=\"1\" class=\"dataframe\">\n",
              "  <thead>\n",
              "    <tr style=\"text-align: right;\">\n",
              "      <th></th>\n",
              "      <th>date</th>\n",
              "      <th>final.output.recovery</th>\n",
              "      <th>primary_cleaner.input.sulfate</th>\n",
              "      <th>primary_cleaner.input.depressant</th>\n",
              "      <th>primary_cleaner.input.feed_size</th>\n",
              "      <th>primary_cleaner.input.xanthate</th>\n",
              "      <th>primary_cleaner.state.floatbank8_a_air</th>\n",
              "      <th>primary_cleaner.state.floatbank8_a_level</th>\n",
              "      <th>primary_cleaner.state.floatbank8_b_air</th>\n",
              "      <th>primary_cleaner.state.floatbank8_b_level</th>\n",
              "      <th>...</th>\n",
              "      <th>secondary_cleaner.state.floatbank4_a_air</th>\n",
              "      <th>secondary_cleaner.state.floatbank4_a_level</th>\n",
              "      <th>secondary_cleaner.state.floatbank4_b_air</th>\n",
              "      <th>secondary_cleaner.state.floatbank4_b_level</th>\n",
              "      <th>secondary_cleaner.state.floatbank5_a_air</th>\n",
              "      <th>secondary_cleaner.state.floatbank5_a_level</th>\n",
              "      <th>secondary_cleaner.state.floatbank5_b_air</th>\n",
              "      <th>secondary_cleaner.state.floatbank5_b_level</th>\n",
              "      <th>secondary_cleaner.state.floatbank6_a_air</th>\n",
              "      <th>secondary_cleaner.state.floatbank6_a_level</th>\n",
              "    </tr>\n",
              "  </thead>\n",
              "  <tbody>\n",
              "    <tr>\n",
              "      <td>0</td>\n",
              "      <td>2016-01-15 00:00:00</td>\n",
              "      <td>70.541216</td>\n",
              "      <td>127.092003</td>\n",
              "      <td>10.128295</td>\n",
              "      <td>7.25</td>\n",
              "      <td>0.988759</td>\n",
              "      <td>1549.775757</td>\n",
              "      <td>-498.912140</td>\n",
              "      <td>1551.434204</td>\n",
              "      <td>-516.403442</td>\n",
              "      <td>...</td>\n",
              "      <td>14.016835</td>\n",
              "      <td>-502.488007</td>\n",
              "      <td>12.099931</td>\n",
              "      <td>-504.715942</td>\n",
              "      <td>9.925633</td>\n",
              "      <td>-498.310211</td>\n",
              "      <td>8.079666</td>\n",
              "      <td>-500.470978</td>\n",
              "      <td>14.151341</td>\n",
              "      <td>-605.841980</td>\n",
              "    </tr>\n",
              "    <tr>\n",
              "      <td>1</td>\n",
              "      <td>2016-01-15 01:00:00</td>\n",
              "      <td>69.266198</td>\n",
              "      <td>125.629232</td>\n",
              "      <td>10.296251</td>\n",
              "      <td>7.25</td>\n",
              "      <td>1.002663</td>\n",
              "      <td>1576.166671</td>\n",
              "      <td>-500.904965</td>\n",
              "      <td>1575.950626</td>\n",
              "      <td>-499.865889</td>\n",
              "      <td>...</td>\n",
              "      <td>13.992281</td>\n",
              "      <td>-505.503262</td>\n",
              "      <td>11.950531</td>\n",
              "      <td>-501.331529</td>\n",
              "      <td>10.039245</td>\n",
              "      <td>-500.169983</td>\n",
              "      <td>7.984757</td>\n",
              "      <td>-500.582168</td>\n",
              "      <td>13.998353</td>\n",
              "      <td>-599.787184</td>\n",
              "    </tr>\n",
              "    <tr>\n",
              "      <td>2</td>\n",
              "      <td>2016-01-15 02:00:00</td>\n",
              "      <td>68.116445</td>\n",
              "      <td>123.819808</td>\n",
              "      <td>11.316280</td>\n",
              "      <td>7.25</td>\n",
              "      <td>0.991265</td>\n",
              "      <td>1601.556163</td>\n",
              "      <td>-499.997791</td>\n",
              "      <td>1600.386685</td>\n",
              "      <td>-500.607762</td>\n",
              "      <td>...</td>\n",
              "      <td>14.015015</td>\n",
              "      <td>-502.520901</td>\n",
              "      <td>11.912783</td>\n",
              "      <td>-501.133383</td>\n",
              "      <td>10.070913</td>\n",
              "      <td>-500.129135</td>\n",
              "      <td>8.013877</td>\n",
              "      <td>-500.517572</td>\n",
              "      <td>14.028663</td>\n",
              "      <td>-601.427363</td>\n",
              "    </tr>\n",
              "    <tr>\n",
              "      <td>3</td>\n",
              "      <td>2016-01-15 03:00:00</td>\n",
              "      <td>68.347543</td>\n",
              "      <td>122.270188</td>\n",
              "      <td>11.322140</td>\n",
              "      <td>7.25</td>\n",
              "      <td>0.996739</td>\n",
              "      <td>1599.968720</td>\n",
              "      <td>-500.951778</td>\n",
              "      <td>1600.659236</td>\n",
              "      <td>-499.677094</td>\n",
              "      <td>...</td>\n",
              "      <td>14.036510</td>\n",
              "      <td>-500.857308</td>\n",
              "      <td>11.999550</td>\n",
              "      <td>-501.193686</td>\n",
              "      <td>9.970366</td>\n",
              "      <td>-499.201640</td>\n",
              "      <td>7.977324</td>\n",
              "      <td>-500.255908</td>\n",
              "      <td>14.005551</td>\n",
              "      <td>-599.996129</td>\n",
              "    </tr>\n",
              "    <tr>\n",
              "      <td>4</td>\n",
              "      <td>2016-01-15 04:00:00</td>\n",
              "      <td>66.927016</td>\n",
              "      <td>117.988169</td>\n",
              "      <td>11.913613</td>\n",
              "      <td>7.25</td>\n",
              "      <td>1.009869</td>\n",
              "      <td>1601.339707</td>\n",
              "      <td>-498.975456</td>\n",
              "      <td>1601.437854</td>\n",
              "      <td>-500.323246</td>\n",
              "      <td>...</td>\n",
              "      <td>14.027298</td>\n",
              "      <td>-499.838632</td>\n",
              "      <td>11.953070</td>\n",
              "      <td>-501.053894</td>\n",
              "      <td>9.925709</td>\n",
              "      <td>-501.686727</td>\n",
              "      <td>7.894242</td>\n",
              "      <td>-500.356035</td>\n",
              "      <td>13.996647</td>\n",
              "      <td>-601.496691</td>\n",
              "    </tr>\n",
              "    <tr>\n",
              "      <td>...</td>\n",
              "      <td>...</td>\n",
              "      <td>...</td>\n",
              "      <td>...</td>\n",
              "      <td>...</td>\n",
              "      <td>...</td>\n",
              "      <td>...</td>\n",
              "      <td>...</td>\n",
              "      <td>...</td>\n",
              "      <td>...</td>\n",
              "      <td>...</td>\n",
              "      <td>...</td>\n",
              "      <td>...</td>\n",
              "      <td>...</td>\n",
              "      <td>...</td>\n",
              "      <td>...</td>\n",
              "      <td>...</td>\n",
              "      <td>...</td>\n",
              "      <td>...</td>\n",
              "      <td>...</td>\n",
              "      <td>...</td>\n",
              "      <td>...</td>\n",
              "    </tr>\n",
              "    <tr>\n",
              "      <td>14144</td>\n",
              "      <td>2018-08-18 06:59:59</td>\n",
              "      <td>73.755150</td>\n",
              "      <td>123.381787</td>\n",
              "      <td>8.028927</td>\n",
              "      <td>6.50</td>\n",
              "      <td>1.304232</td>\n",
              "      <td>1648.421193</td>\n",
              "      <td>-400.382169</td>\n",
              "      <td>1648.742005</td>\n",
              "      <td>-400.359661</td>\n",
              "      <td>...</td>\n",
              "      <td>23.031497</td>\n",
              "      <td>-501.167942</td>\n",
              "      <td>20.007571</td>\n",
              "      <td>-499.740028</td>\n",
              "      <td>18.006038</td>\n",
              "      <td>-499.834374</td>\n",
              "      <td>13.001114</td>\n",
              "      <td>-500.155694</td>\n",
              "      <td>20.007840</td>\n",
              "      <td>-501.296428</td>\n",
              "    </tr>\n",
              "    <tr>\n",
              "      <td>14145</td>\n",
              "      <td>2018-08-18 07:59:59</td>\n",
              "      <td>69.049291</td>\n",
              "      <td>120.878188</td>\n",
              "      <td>7.962636</td>\n",
              "      <td>6.50</td>\n",
              "      <td>1.302419</td>\n",
              "      <td>1649.820162</td>\n",
              "      <td>-399.930973</td>\n",
              "      <td>1649.357538</td>\n",
              "      <td>-399.721222</td>\n",
              "      <td>...</td>\n",
              "      <td>22.960095</td>\n",
              "      <td>-501.612783</td>\n",
              "      <td>20.035660</td>\n",
              "      <td>-500.251357</td>\n",
              "      <td>17.998535</td>\n",
              "      <td>-500.395178</td>\n",
              "      <td>12.954048</td>\n",
              "      <td>-499.895163</td>\n",
              "      <td>19.968498</td>\n",
              "      <td>-501.041608</td>\n",
              "    </tr>\n",
              "    <tr>\n",
              "      <td>14146</td>\n",
              "      <td>2018-08-18 08:59:59</td>\n",
              "      <td>67.002189</td>\n",
              "      <td>105.666118</td>\n",
              "      <td>7.955111</td>\n",
              "      <td>6.50</td>\n",
              "      <td>1.315926</td>\n",
              "      <td>1649.166761</td>\n",
              "      <td>-399.888631</td>\n",
              "      <td>1649.196904</td>\n",
              "      <td>-399.677571</td>\n",
              "      <td>...</td>\n",
              "      <td>23.015718</td>\n",
              "      <td>-501.711599</td>\n",
              "      <td>19.951231</td>\n",
              "      <td>-499.857027</td>\n",
              "      <td>18.019543</td>\n",
              "      <td>-500.451156</td>\n",
              "      <td>13.023431</td>\n",
              "      <td>-499.914391</td>\n",
              "      <td>19.990885</td>\n",
              "      <td>-501.518452</td>\n",
              "    </tr>\n",
              "    <tr>\n",
              "      <td>14147</td>\n",
              "      <td>2018-08-18 09:59:59</td>\n",
              "      <td>65.523246</td>\n",
              "      <td>98.880538</td>\n",
              "      <td>7.984164</td>\n",
              "      <td>6.50</td>\n",
              "      <td>1.241969</td>\n",
              "      <td>1646.547763</td>\n",
              "      <td>-398.977083</td>\n",
              "      <td>1648.212240</td>\n",
              "      <td>-400.383265</td>\n",
              "      <td>...</td>\n",
              "      <td>23.024963</td>\n",
              "      <td>-501.153409</td>\n",
              "      <td>20.054122</td>\n",
              "      <td>-500.314711</td>\n",
              "      <td>17.979515</td>\n",
              "      <td>-499.272871</td>\n",
              "      <td>12.992404</td>\n",
              "      <td>-499.976268</td>\n",
              "      <td>20.013986</td>\n",
              "      <td>-500.625471</td>\n",
              "    </tr>\n",
              "    <tr>\n",
              "      <td>14148</td>\n",
              "      <td>2018-08-18 10:59:59</td>\n",
              "      <td>70.281454</td>\n",
              "      <td>95.248427</td>\n",
              "      <td>8.078957</td>\n",
              "      <td>6.50</td>\n",
              "      <td>1.283045</td>\n",
              "      <td>1648.759906</td>\n",
              "      <td>-399.862053</td>\n",
              "      <td>1650.135395</td>\n",
              "      <td>-399.957321</td>\n",
              "      <td>...</td>\n",
              "      <td>23.018622</td>\n",
              "      <td>-500.492702</td>\n",
              "      <td>20.020205</td>\n",
              "      <td>-500.220296</td>\n",
              "      <td>17.963512</td>\n",
              "      <td>-499.939490</td>\n",
              "      <td>12.990306</td>\n",
              "      <td>-500.080993</td>\n",
              "      <td>19.990336</td>\n",
              "      <td>-499.191575</td>\n",
              "    </tr>\n",
              "  </tbody>\n",
              "</table>\n",
              "<p>14149 rows × 55 columns</p>\n",
              "</div>"
            ],
            "text/plain": [
              "                      date  final.output.recovery  \\\n",
              "0      2016-01-15 00:00:00              70.541216   \n",
              "1      2016-01-15 01:00:00              69.266198   \n",
              "2      2016-01-15 02:00:00              68.116445   \n",
              "3      2016-01-15 03:00:00              68.347543   \n",
              "4      2016-01-15 04:00:00              66.927016   \n",
              "...                    ...                    ...   \n",
              "14144  2018-08-18 06:59:59              73.755150   \n",
              "14145  2018-08-18 07:59:59              69.049291   \n",
              "14146  2018-08-18 08:59:59              67.002189   \n",
              "14147  2018-08-18 09:59:59              65.523246   \n",
              "14148  2018-08-18 10:59:59              70.281454   \n",
              "\n",
              "       primary_cleaner.input.sulfate  primary_cleaner.input.depressant  \\\n",
              "0                         127.092003                         10.128295   \n",
              "1                         125.629232                         10.296251   \n",
              "2                         123.819808                         11.316280   \n",
              "3                         122.270188                         11.322140   \n",
              "4                         117.988169                         11.913613   \n",
              "...                              ...                               ...   \n",
              "14144                     123.381787                          8.028927   \n",
              "14145                     120.878188                          7.962636   \n",
              "14146                     105.666118                          7.955111   \n",
              "14147                      98.880538                          7.984164   \n",
              "14148                      95.248427                          8.078957   \n",
              "\n",
              "       primary_cleaner.input.feed_size  primary_cleaner.input.xanthate  \\\n",
              "0                                 7.25                        0.988759   \n",
              "1                                 7.25                        1.002663   \n",
              "2                                 7.25                        0.991265   \n",
              "3                                 7.25                        0.996739   \n",
              "4                                 7.25                        1.009869   \n",
              "...                                ...                             ...   \n",
              "14144                             6.50                        1.304232   \n",
              "14145                             6.50                        1.302419   \n",
              "14146                             6.50                        1.315926   \n",
              "14147                             6.50                        1.241969   \n",
              "14148                             6.50                        1.283045   \n",
              "\n",
              "       primary_cleaner.state.floatbank8_a_air  \\\n",
              "0                                 1549.775757   \n",
              "1                                 1576.166671   \n",
              "2                                 1601.556163   \n",
              "3                                 1599.968720   \n",
              "4                                 1601.339707   \n",
              "...                                       ...   \n",
              "14144                             1648.421193   \n",
              "14145                             1649.820162   \n",
              "14146                             1649.166761   \n",
              "14147                             1646.547763   \n",
              "14148                             1648.759906   \n",
              "\n",
              "       primary_cleaner.state.floatbank8_a_level  \\\n",
              "0                                   -498.912140   \n",
              "1                                   -500.904965   \n",
              "2                                   -499.997791   \n",
              "3                                   -500.951778   \n",
              "4                                   -498.975456   \n",
              "...                                         ...   \n",
              "14144                               -400.382169   \n",
              "14145                               -399.930973   \n",
              "14146                               -399.888631   \n",
              "14147                               -398.977083   \n",
              "14148                               -399.862053   \n",
              "\n",
              "       primary_cleaner.state.floatbank8_b_air  \\\n",
              "0                                 1551.434204   \n",
              "1                                 1575.950626   \n",
              "2                                 1600.386685   \n",
              "3                                 1600.659236   \n",
              "4                                 1601.437854   \n",
              "...                                       ...   \n",
              "14144                             1648.742005   \n",
              "14145                             1649.357538   \n",
              "14146                             1649.196904   \n",
              "14147                             1648.212240   \n",
              "14148                             1650.135395   \n",
              "\n",
              "       primary_cleaner.state.floatbank8_b_level  ...  \\\n",
              "0                                   -516.403442  ...   \n",
              "1                                   -499.865889  ...   \n",
              "2                                   -500.607762  ...   \n",
              "3                                   -499.677094  ...   \n",
              "4                                   -500.323246  ...   \n",
              "...                                         ...  ...   \n",
              "14144                               -400.359661  ...   \n",
              "14145                               -399.721222  ...   \n",
              "14146                               -399.677571  ...   \n",
              "14147                               -400.383265  ...   \n",
              "14148                               -399.957321  ...   \n",
              "\n",
              "       secondary_cleaner.state.floatbank4_a_air  \\\n",
              "0                                     14.016835   \n",
              "1                                     13.992281   \n",
              "2                                     14.015015   \n",
              "3                                     14.036510   \n",
              "4                                     14.027298   \n",
              "...                                         ...   \n",
              "14144                                 23.031497   \n",
              "14145                                 22.960095   \n",
              "14146                                 23.015718   \n",
              "14147                                 23.024963   \n",
              "14148                                 23.018622   \n",
              "\n",
              "       secondary_cleaner.state.floatbank4_a_level  \\\n",
              "0                                     -502.488007   \n",
              "1                                     -505.503262   \n",
              "2                                     -502.520901   \n",
              "3                                     -500.857308   \n",
              "4                                     -499.838632   \n",
              "...                                           ...   \n",
              "14144                                 -501.167942   \n",
              "14145                                 -501.612783   \n",
              "14146                                 -501.711599   \n",
              "14147                                 -501.153409   \n",
              "14148                                 -500.492702   \n",
              "\n",
              "       secondary_cleaner.state.floatbank4_b_air  \\\n",
              "0                                     12.099931   \n",
              "1                                     11.950531   \n",
              "2                                     11.912783   \n",
              "3                                     11.999550   \n",
              "4                                     11.953070   \n",
              "...                                         ...   \n",
              "14144                                 20.007571   \n",
              "14145                                 20.035660   \n",
              "14146                                 19.951231   \n",
              "14147                                 20.054122   \n",
              "14148                                 20.020205   \n",
              "\n",
              "       secondary_cleaner.state.floatbank4_b_level  \\\n",
              "0                                     -504.715942   \n",
              "1                                     -501.331529   \n",
              "2                                     -501.133383   \n",
              "3                                     -501.193686   \n",
              "4                                     -501.053894   \n",
              "...                                           ...   \n",
              "14144                                 -499.740028   \n",
              "14145                                 -500.251357   \n",
              "14146                                 -499.857027   \n",
              "14147                                 -500.314711   \n",
              "14148                                 -500.220296   \n",
              "\n",
              "       secondary_cleaner.state.floatbank5_a_air  \\\n",
              "0                                      9.925633   \n",
              "1                                     10.039245   \n",
              "2                                     10.070913   \n",
              "3                                      9.970366   \n",
              "4                                      9.925709   \n",
              "...                                         ...   \n",
              "14144                                 18.006038   \n",
              "14145                                 17.998535   \n",
              "14146                                 18.019543   \n",
              "14147                                 17.979515   \n",
              "14148                                 17.963512   \n",
              "\n",
              "       secondary_cleaner.state.floatbank5_a_level  \\\n",
              "0                                     -498.310211   \n",
              "1                                     -500.169983   \n",
              "2                                     -500.129135   \n",
              "3                                     -499.201640   \n",
              "4                                     -501.686727   \n",
              "...                                           ...   \n",
              "14144                                 -499.834374   \n",
              "14145                                 -500.395178   \n",
              "14146                                 -500.451156   \n",
              "14147                                 -499.272871   \n",
              "14148                                 -499.939490   \n",
              "\n",
              "       secondary_cleaner.state.floatbank5_b_air  \\\n",
              "0                                      8.079666   \n",
              "1                                      7.984757   \n",
              "2                                      8.013877   \n",
              "3                                      7.977324   \n",
              "4                                      7.894242   \n",
              "...                                         ...   \n",
              "14144                                 13.001114   \n",
              "14145                                 12.954048   \n",
              "14146                                 13.023431   \n",
              "14147                                 12.992404   \n",
              "14148                                 12.990306   \n",
              "\n",
              "       secondary_cleaner.state.floatbank5_b_level  \\\n",
              "0                                     -500.470978   \n",
              "1                                     -500.582168   \n",
              "2                                     -500.517572   \n",
              "3                                     -500.255908   \n",
              "4                                     -500.356035   \n",
              "...                                           ...   \n",
              "14144                                 -500.155694   \n",
              "14145                                 -499.895163   \n",
              "14146                                 -499.914391   \n",
              "14147                                 -499.976268   \n",
              "14148                                 -500.080993   \n",
              "\n",
              "       secondary_cleaner.state.floatbank6_a_air  \\\n",
              "0                                     14.151341   \n",
              "1                                     13.998353   \n",
              "2                                     14.028663   \n",
              "3                                     14.005551   \n",
              "4                                     13.996647   \n",
              "...                                         ...   \n",
              "14144                                 20.007840   \n",
              "14145                                 19.968498   \n",
              "14146                                 19.990885   \n",
              "14147                                 20.013986   \n",
              "14148                                 19.990336   \n",
              "\n",
              "       secondary_cleaner.state.floatbank6_a_level  \n",
              "0                                     -605.841980  \n",
              "1                                     -599.787184  \n",
              "2                                     -601.427363  \n",
              "3                                     -599.996129  \n",
              "4                                     -601.496691  \n",
              "...                                           ...  \n",
              "14144                                 -501.296428  \n",
              "14145                                 -501.041608  \n",
              "14146                                 -501.518452  \n",
              "14147                                 -500.625471  \n",
              "14148                                 -499.191575  \n",
              "\n",
              "[14149 rows x 55 columns]"
            ]
          },
          "execution_count": 10,
          "metadata": {},
          "output_type": "execute_result"
        }
      ],
      "source": [
        "df_train = df_train.drop([i for i in list(df_train.columns) if i not in list(df_test.columns)], axis = 1).copy()\n",
        "df_train"
      ]
    },
    {
      "cell_type": "markdown",
      "metadata": {
        "id": "diUQeNWmrFZ5"
      },
      "source": [
        "### Предобработка данных\n",
        "Данные не содержат дубликаты:"
      ]
    },
    {
      "cell_type": "code",
      "execution_count": null,
      "metadata": {
        "id": "4fsl2sRerFZ5",
        "outputId": "7f47cb06-74e0-4cb5-a97a-e12d79532f81"
      },
      "outputs": [
        {
          "data": {
            "text/plain": [
              "0"
            ]
          },
          "execution_count": 11,
          "metadata": {},
          "output_type": "execute_result"
        }
      ],
      "source": [
        "df_test.duplicated().sum()"
      ]
    },
    {
      "cell_type": "code",
      "execution_count": null,
      "metadata": {
        "id": "ga-ag1wTrFZ6",
        "outputId": "dd231e8a-b602-4f9f-ebbd-bdb6574c16cf"
      },
      "outputs": [
        {
          "data": {
            "text/plain": [
              "0"
            ]
          },
          "execution_count": 12,
          "metadata": {},
          "output_type": "execute_result"
        }
      ],
      "source": [
        "df_train.duplicated().sum()"
      ]
    },
    {
      "cell_type": "markdown",
      "metadata": {
        "id": "SF8bPLi-rFZ6"
      },
      "source": [
        "Однако в данных достаточно много единичных и не только пропусков:"
      ]
    },
    {
      "cell_type": "code",
      "execution_count": null,
      "metadata": {
        "id": "9Weim_-4rFZ6",
        "outputId": "c2a3cdde-0539-417c-b374-6d45cb10a11c"
      },
      "outputs": [
        {
          "data": {
            "text/plain": [
              "<matplotlib.axes._subplots.AxesSubplot at 0x7f92e7a1e850>"
            ]
          },
          "execution_count": 13,
          "metadata": {},
          "output_type": "execute_result"
        },
        {
          "data": {
            "image/png": "[encoded data removed]",
            "text/plain": [
              "<Figure size 1800x720 with 2 Axes>"
            ]
          },
          "metadata": {
            "needs_background": "light"
          },
          "output_type": "display_data"
        }
      ],
      "source": [
        "msno.matrix(df_test.sort_values('date'))"
      ]
    },
    {
      "cell_type": "code",
      "execution_count": null,
      "metadata": {
        "id": "34rGZr5TrFZ6",
        "outputId": "773d3d57-bee7-4afd-8435-9839f25a6811"
      },
      "outputs": [
        {
          "data": {
            "text/plain": [
              "<matplotlib.axes._subplots.AxesSubplot at 0x7f92d07896d0>"
            ]
          },
          "execution_count": 14,
          "metadata": {},
          "output_type": "execute_result"
        },
        {
          "data": {
            "image/png": "[encoded data removed]",
            "text/plain": [
              "<Figure size 1800x720 with 2 Axes>"
            ]
          },
          "metadata": {
            "needs_background": "light"
          },
          "output_type": "display_data"
        }
      ],
      "source": [
        "msno.matrix(df_train.sort_values('date'))"
      ]
    },
    {
      "cell_type": "markdown",
      "metadata": {
        "id": "e67yvENmrFZ6"
      },
      "source": [
        "Т.к. наши данные расположены в хронологическом порядке, целесообразно использовать для заполнения метод interpolate. Полиномиальная кривая 5 степени выбрана,т.к. она имеет достаточно много изгибов, чтобы подстроиться под данные, но сохранить следование тренду."
      ]
    },
    {
      "cell_type": "code",
      "execution_count": null,
      "metadata": {
        "id": "vToAf2X1rFZ6",
        "outputId": "1f7335fc-9492-46a8-abb9-3162e6316fc5"
      },
      "outputs": [
        {
          "name": "stdout",
          "output_type": "stream",
          "text": [
            "0\n",
            "0\n"
          ]
        }
      ],
      "source": [
        "df_test = df_test.interpolate(method='polynomial', order=5)\n",
        "df_train = df_train.interpolate(method='polynomial', order=5)\n",
        "print(df_train.isnull().sum().sum())\n",
        "print(df_test.isnull().sum().sum())"
      ]
    },
    {
      "cell_type": "markdown",
      "metadata": {
        "id": "cj7MH6f7rFZ7"
      },
      "source": [
        "Распределение данных показывает, что многие переменные существенно скошенны, а данные содержат выбросы:"
      ]
    },
    {
      "cell_type": "code",
      "execution_count": null,
      "metadata": {
        "id": "VFB70_eTrFZ7",
        "outputId": "982bbc87-12c6-48ec-d172-4228d1f4238a"
      },
      "outputs": [
        {
          "data": {
            "text/html": [
              "<div>\n",
              "<style scoped>\n",
              "    .dataframe tbody tr th:only-of-type {\n",
              "        vertical-align: middle;\n",
              "    }\n",
              "\n",
              "    .dataframe tbody tr th {\n",
              "        vertical-align: top;\n",
              "    }\n",
              "\n",
              "    .dataframe thead th {\n",
              "        text-align: right;\n",
              "    }\n",
              "</style>\n",
              "<table border=\"1\" class=\"dataframe\">\n",
              "  <thead>\n",
              "    <tr style=\"text-align: right;\">\n",
              "      <th></th>\n",
              "      <th>count</th>\n",
              "      <th>mean</th>\n",
              "      <th>std</th>\n",
              "      <th>min</th>\n",
              "      <th>25%</th>\n",
              "      <th>50%</th>\n",
              "      <th>75%</th>\n",
              "      <th>max</th>\n",
              "    </tr>\n",
              "  </thead>\n",
              "  <tbody>\n",
              "    <tr>\n",
              "      <td>final.output.recovery</td>\n",
              "      <td>14149.0</td>\n",
              "      <td>66.518832</td>\n",
              "      <td>10.295402</td>\n",
              "      <td>0.000000</td>\n",
              "      <td>62.545817</td>\n",
              "      <td>67.432775</td>\n",
              "      <td>72.346428</td>\n",
              "      <td>100.000000</td>\n",
              "    </tr>\n",
              "    <tr>\n",
              "      <td>primary_cleaner.input.sulfate</td>\n",
              "      <td>14149.0</td>\n",
              "      <td>133.258053</td>\n",
              "      <td>39.744486</td>\n",
              "      <td>-152.065016</td>\n",
              "      <td>106.957255</td>\n",
              "      <td>133.000805</td>\n",
              "      <td>159.830443</td>\n",
              "      <td>319.511068</td>\n",
              "    </tr>\n",
              "    <tr>\n",
              "      <td>primary_cleaner.input.depressant</td>\n",
              "      <td>14149.0</td>\n",
              "      <td>8.854889</td>\n",
              "      <td>3.420868</td>\n",
              "      <td>-21.319295</td>\n",
              "      <td>6.038393</td>\n",
              "      <td>8.034599</td>\n",
              "      <td>11.522173</td>\n",
              "      <td>27.658578</td>\n",
              "    </tr>\n",
              "    <tr>\n",
              "      <td>primary_cleaner.input.feed_size</td>\n",
              "      <td>14149.0</td>\n",
              "      <td>7.322310</td>\n",
              "      <td>0.614062</td>\n",
              "      <td>1.080000</td>\n",
              "      <td>6.960000</td>\n",
              "      <td>7.290000</td>\n",
              "      <td>7.700000</td>\n",
              "      <td>10.470000</td>\n",
              "    </tr>\n",
              "    <tr>\n",
              "      <td>primary_cleaner.input.xanthate</td>\n",
              "      <td>14149.0</td>\n",
              "      <td>0.877922</td>\n",
              "      <td>0.395677</td>\n",
              "      <td>-4.197169</td>\n",
              "      <td>0.604513</td>\n",
              "      <td>0.887473</td>\n",
              "      <td>1.100415</td>\n",
              "      <td>2.512968</td>\n",
              "    </tr>\n",
              "    <tr>\n",
              "      <td>primary_cleaner.state.floatbank8_a_air</td>\n",
              "      <td>14149.0</td>\n",
              "      <td>1608.019384</td>\n",
              "      <td>128.387557</td>\n",
              "      <td>0.006352</td>\n",
              "      <td>1595.695815</td>\n",
              "      <td>1601.827195</td>\n",
              "      <td>1699.717397</td>\n",
              "      <td>2079.531340</td>\n",
              "    </tr>\n",
              "    <tr>\n",
              "      <td>primary_cleaner.state.floatbank8_a_level</td>\n",
              "      <td>14149.0</td>\n",
              "      <td>-488.776297</td>\n",
              "      <td>35.703040</td>\n",
              "      <td>-798.641662</td>\n",
              "      <td>-500.287950</td>\n",
              "      <td>-499.909251</td>\n",
              "      <td>-499.378655</td>\n",
              "      <td>-330.134203</td>\n",
              "    </tr>\n",
              "    <tr>\n",
              "      <td>primary_cleaner.state.floatbank8_b_air</td>\n",
              "      <td>14149.0</td>\n",
              "      <td>1608.638441</td>\n",
              "      <td>131.114092</td>\n",
              "      <td>0.008700</td>\n",
              "      <td>1558.959943</td>\n",
              "      <td>1601.820517</td>\n",
              "      <td>1700.220315</td>\n",
              "      <td>2114.906758</td>\n",
              "    </tr>\n",
              "    <tr>\n",
              "      <td>primary_cleaner.state.floatbank8_b_level</td>\n",
              "      <td>14149.0</td>\n",
              "      <td>-489.172575</td>\n",
              "      <td>33.603392</td>\n",
              "      <td>-740.122129</td>\n",
              "      <td>-500.375607</td>\n",
              "      <td>-499.938140</td>\n",
              "      <td>-499.389771</td>\n",
              "      <td>-347.354380</td>\n",
              "    </tr>\n",
              "    <tr>\n",
              "      <td>primary_cleaner.state.floatbank8_c_air</td>\n",
              "      <td>14149.0</td>\n",
              "      <td>1608.880922</td>\n",
              "      <td>134.260199</td>\n",
              "      <td>0.015159</td>\n",
              "      <td>1549.869870</td>\n",
              "      <td>1601.574628</td>\n",
              "      <td>1700.463017</td>\n",
              "      <td>2013.156457</td>\n",
              "    </tr>\n",
              "    <tr>\n",
              "      <td>primary_cleaner.state.floatbank8_c_level</td>\n",
              "      <td>14149.0</td>\n",
              "      <td>-489.606309</td>\n",
              "      <td>35.622858</td>\n",
              "      <td>-799.803073</td>\n",
              "      <td>-500.601650</td>\n",
              "      <td>-499.871677</td>\n",
              "      <td>-498.801786</td>\n",
              "      <td>-346.653450</td>\n",
              "    </tr>\n",
              "    <tr>\n",
              "      <td>primary_cleaner.state.floatbank8_d_air</td>\n",
              "      <td>14149.0</td>\n",
              "      <td>1542.229874</td>\n",
              "      <td>278.311305</td>\n",
              "      <td>0.008655</td>\n",
              "      <td>1452.697692</td>\n",
              "      <td>1600.168762</td>\n",
              "      <td>1699.358785</td>\n",
              "      <td>2398.903635</td>\n",
              "    </tr>\n",
              "    <tr>\n",
              "      <td>primary_cleaner.state.floatbank8_d_level</td>\n",
              "      <td>14149.0</td>\n",
              "      <td>-483.463481</td>\n",
              "      <td>47.099437</td>\n",
              "      <td>-799.788598</td>\n",
              "      <td>-500.459897</td>\n",
              "      <td>-499.831825</td>\n",
              "      <td>-498.478731</td>\n",
              "      <td>-30.601828</td>\n",
              "    </tr>\n",
              "    <tr>\n",
              "      <td>rougher.input.feed_ag</td>\n",
              "      <td>14149.0</td>\n",
              "      <td>8.579195</td>\n",
              "      <td>1.896284</td>\n",
              "      <td>0.010000</td>\n",
              "      <td>7.132802</td>\n",
              "      <td>8.156092</td>\n",
              "      <td>9.918304</td>\n",
              "      <td>14.596026</td>\n",
              "    </tr>\n",
              "    <tr>\n",
              "      <td>rougher.input.feed_pb</td>\n",
              "      <td>14149.0</td>\n",
              "      <td>3.460764</td>\n",
              "      <td>1.475905</td>\n",
              "      <td>-27.477079</td>\n",
              "      <td>2.766515</td>\n",
              "      <td>3.414267</td>\n",
              "      <td>4.220115</td>\n",
              "      <td>7.142594</td>\n",
              "    </tr>\n",
              "    <tr>\n",
              "      <td>rougher.input.feed_rate</td>\n",
              "      <td>14149.0</td>\n",
              "      <td>473.944199</td>\n",
              "      <td>104.169531</td>\n",
              "      <td>-18.940694</td>\n",
              "      <td>420.723210</td>\n",
              "      <td>499.449303</td>\n",
              "      <td>547.326781</td>\n",
              "      <td>717.508837</td>\n",
              "    </tr>\n",
              "    <tr>\n",
              "      <td>rougher.input.feed_size</td>\n",
              "      <td>14149.0</td>\n",
              "      <td>52.555549</td>\n",
              "      <td>128.050814</td>\n",
              "      <td>-2621.344823</td>\n",
              "      <td>48.889202</td>\n",
              "      <td>55.283606</td>\n",
              "      <td>66.037014</td>\n",
              "      <td>670.522356</td>\n",
              "    </tr>\n",
              "    <tr>\n",
              "      <td>rougher.input.feed_sol</td>\n",
              "      <td>14149.0</td>\n",
              "      <td>36.251036</td>\n",
              "      <td>5.112357</td>\n",
              "      <td>-19.182024</td>\n",
              "      <td>34.072010</td>\n",
              "      <td>36.995478</td>\n",
              "      <td>39.410696</td>\n",
              "      <td>48.363177</td>\n",
              "    </tr>\n",
              "    <tr>\n",
              "      <td>rougher.input.feed_au</td>\n",
              "      <td>14149.0</td>\n",
              "      <td>7.866577</td>\n",
              "      <td>1.919506</td>\n",
              "      <td>0.010000</td>\n",
              "      <td>6.596217</td>\n",
              "      <td>7.649138</td>\n",
              "      <td>9.066976</td>\n",
              "      <td>13.126043</td>\n",
              "    </tr>\n",
              "    <tr>\n",
              "      <td>rougher.input.floatbank10_sulfate</td>\n",
              "      <td>14149.0</td>\n",
              "      <td>11.707220</td>\n",
              "      <td>3.685447</td>\n",
              "      <td>-55.999960</td>\n",
              "      <td>9.847743</td>\n",
              "      <td>11.662142</td>\n",
              "      <td>13.584495</td>\n",
              "      <td>36.118275</td>\n",
              "    </tr>\n",
              "    <tr>\n",
              "      <td>rougher.input.floatbank10_xanthate</td>\n",
              "      <td>14149.0</td>\n",
              "      <td>5.850078</td>\n",
              "      <td>1.129430</td>\n",
              "      <td>-10.094299</td>\n",
              "      <td>5.113485</td>\n",
              "      <td>5.949895</td>\n",
              "      <td>6.602486</td>\n",
              "      <td>9.703448</td>\n",
              "    </tr>\n",
              "    <tr>\n",
              "      <td>rougher.input.floatbank11_sulfate</td>\n",
              "      <td>14149.0</td>\n",
              "      <td>11.374157</td>\n",
              "      <td>3.880589</td>\n",
              "      <td>-14.341890</td>\n",
              "      <td>9.502098</td>\n",
              "      <td>11.382460</td>\n",
              "      <td>13.498047</td>\n",
              "      <td>50.550936</td>\n",
              "    </tr>\n",
              "    <tr>\n",
              "      <td>rougher.input.floatbank11_xanthate</td>\n",
              "      <td>14149.0</td>\n",
              "      <td>35.707629</td>\n",
              "      <td>267.593125</td>\n",
              "      <td>-57.251656</td>\n",
              "      <td>5.198734</td>\n",
              "      <td>5.998979</td>\n",
              "      <td>6.778352</td>\n",
              "      <td>3220.753985</td>\n",
              "    </tr>\n",
              "    <tr>\n",
              "      <td>rougher.output.recovery</td>\n",
              "      <td>14149.0</td>\n",
              "      <td>82.704502</td>\n",
              "      <td>14.479156</td>\n",
              "      <td>0.000000</td>\n",
              "      <td>79.993067</td>\n",
              "      <td>85.299462</td>\n",
              "      <td>90.165021</td>\n",
              "      <td>100.000000</td>\n",
              "    </tr>\n",
              "    <tr>\n",
              "      <td>rougher.state.floatbank10_a_air</td>\n",
              "      <td>14149.0</td>\n",
              "      <td>1124.717598</td>\n",
              "      <td>169.307991</td>\n",
              "      <td>-0.041078</td>\n",
              "      <td>999.799195</td>\n",
              "      <td>1001.689126</td>\n",
              "      <td>1299.505214</td>\n",
              "      <td>1521.980372</td>\n",
              "    </tr>\n",
              "    <tr>\n",
              "      <td>rougher.state.floatbank10_a_level</td>\n",
              "      <td>14149.0</td>\n",
              "      <td>-369.470146</td>\n",
              "      <td>93.955835</td>\n",
              "      <td>-650.202881</td>\n",
              "      <td>-499.787788</td>\n",
              "      <td>-300.175169</td>\n",
              "      <td>-299.963169</td>\n",
              "      <td>-281.039299</td>\n",
              "    </tr>\n",
              "    <tr>\n",
              "      <td>rougher.state.floatbank10_b_air</td>\n",
              "      <td>14149.0</td>\n",
              "      <td>1320.724943</td>\n",
              "      <td>183.164758</td>\n",
              "      <td>-0.653384</td>\n",
              "      <td>1199.367169</td>\n",
              "      <td>1301.367954</td>\n",
              "      <td>1449.559140</td>\n",
              "      <td>1809.194008</td>\n",
              "    </tr>\n",
              "    <tr>\n",
              "      <td>rougher.state.floatbank10_b_level</td>\n",
              "      <td>14149.0</td>\n",
              "      <td>-464.261434</td>\n",
              "      <td>57.400665</td>\n",
              "      <td>-650.260008</td>\n",
              "      <td>-500.182988</td>\n",
              "      <td>-499.764434</td>\n",
              "      <td>-400.425547</td>\n",
              "      <td>-296.383080</td>\n",
              "    </tr>\n",
              "    <tr>\n",
              "      <td>rougher.state.floatbank10_c_air</td>\n",
              "      <td>14149.0</td>\n",
              "      <td>1299.381839</td>\n",
              "      <td>213.411537</td>\n",
              "      <td>-0.035112</td>\n",
              "      <td>1103.096392</td>\n",
              "      <td>1300.214100</td>\n",
              "      <td>1450.353307</td>\n",
              "      <td>2499.129174</td>\n",
              "    </tr>\n",
              "    <tr>\n",
              "      <td>rougher.state.floatbank10_c_level</td>\n",
              "      <td>14149.0</td>\n",
              "      <td>-465.057078</td>\n",
              "      <td>55.903369</td>\n",
              "      <td>-640.995627</td>\n",
              "      <td>-500.211811</td>\n",
              "      <td>-499.682487</td>\n",
              "      <td>-400.664948</td>\n",
              "      <td>-292.155509</td>\n",
              "    </tr>\n",
              "    <tr>\n",
              "      <td>rougher.state.floatbank10_d_air</td>\n",
              "      <td>14149.0</td>\n",
              "      <td>1210.335236</td>\n",
              "      <td>210.431555</td>\n",
              "      <td>-0.554299</td>\n",
              "      <td>1059.708509</td>\n",
              "      <td>1200.744308</td>\n",
              "      <td>1344.378462</td>\n",
              "      <td>1817.199290</td>\n",
              "    </tr>\n",
              "    <tr>\n",
              "      <td>rougher.state.floatbank10_d_level</td>\n",
              "      <td>14149.0</td>\n",
              "      <td>-465.457377</td>\n",
              "      <td>55.771393</td>\n",
              "      <td>-640.519003</td>\n",
              "      <td>-500.359197</td>\n",
              "      <td>-499.465285</td>\n",
              "      <td>-401.052891</td>\n",
              "      <td>-208.330673</td>\n",
              "    </tr>\n",
              "    <tr>\n",
              "      <td>rougher.state.floatbank10_e_air</td>\n",
              "      <td>14149.0</td>\n",
              "      <td>1490.734637</td>\n",
              "      <td>4324.262012</td>\n",
              "      <td>-17648.045075</td>\n",
              "      <td>997.044370</td>\n",
              "      <td>1050.712067</td>\n",
              "      <td>1200.362392</td>\n",
              "      <td>59479.078106</td>\n",
              "    </tr>\n",
              "    <tr>\n",
              "      <td>rougher.state.floatbank10_e_level</td>\n",
              "      <td>14149.0</td>\n",
              "      <td>-464.919119</td>\n",
              "      <td>56.602962</td>\n",
              "      <td>-649.443911</td>\n",
              "      <td>-500.250033</td>\n",
              "      <td>-499.611447</td>\n",
              "      <td>-400.596104</td>\n",
              "      <td>-272.199598</td>\n",
              "    </tr>\n",
              "    <tr>\n",
              "      <td>rougher.state.floatbank10_f_air</td>\n",
              "      <td>14149.0</td>\n",
              "      <td>1035.490299</td>\n",
              "      <td>175.052279</td>\n",
              "      <td>-2.430587</td>\n",
              "      <td>900.966986</td>\n",
              "      <td>1000.053757</td>\n",
              "      <td>1100.165435</td>\n",
              "      <td>1706.307502</td>\n",
              "    </tr>\n",
              "    <tr>\n",
              "      <td>rougher.state.floatbank10_f_level</td>\n",
              "      <td>14149.0</td>\n",
              "      <td>-464.688631</td>\n",
              "      <td>56.645965</td>\n",
              "      <td>-649.880981</td>\n",
              "      <td>-500.476526</td>\n",
              "      <td>-499.364335</td>\n",
              "      <td>-401.014951</td>\n",
              "      <td>-191.718480</td>\n",
              "    </tr>\n",
              "    <tr>\n",
              "      <td>secondary_cleaner.state.floatbank2_a_air</td>\n",
              "      <td>14149.0</td>\n",
              "      <td>30.257923</td>\n",
              "      <td>12.152185</td>\n",
              "      <td>0.077503</td>\n",
              "      <td>25.102083</td>\n",
              "      <td>30.030344</td>\n",
              "      <td>34.898699</td>\n",
              "      <td>256.832048</td>\n",
              "    </tr>\n",
              "    <tr>\n",
              "      <td>secondary_cleaner.state.floatbank2_a_level</td>\n",
              "      <td>14149.0</td>\n",
              "      <td>-502.223765</td>\n",
              "      <td>60.279577</td>\n",
              "      <td>-799.606441</td>\n",
              "      <td>-500.248792</td>\n",
              "      <td>-499.959207</td>\n",
              "      <td>-499.593206</td>\n",
              "      <td>-127.875565</td>\n",
              "    </tr>\n",
              "    <tr>\n",
              "      <td>secondary_cleaner.state.floatbank2_b_air</td>\n",
              "      <td>14149.0</td>\n",
              "      <td>24.859835</td>\n",
              "      <td>6.366328</td>\n",
              "      <td>-84.433653</td>\n",
              "      <td>22.043888</td>\n",
              "      <td>27.021708</td>\n",
              "      <td>28.938974</td>\n",
              "      <td>35.152122</td>\n",
              "    </tr>\n",
              "    <tr>\n",
              "      <td>secondary_cleaner.state.floatbank2_b_level</td>\n",
              "      <td>14149.0</td>\n",
              "      <td>-503.695299</td>\n",
              "      <td>62.835155</td>\n",
              "      <td>-799.873878</td>\n",
              "      <td>-500.270983</td>\n",
              "      <td>-500.014051</td>\n",
              "      <td>-499.763998</td>\n",
              "      <td>-212.064665</td>\n",
              "    </tr>\n",
              "    <tr>\n",
              "      <td>secondary_cleaner.state.floatbank3_a_air</td>\n",
              "      <td>14149.0</td>\n",
              "      <td>29.242763</td>\n",
              "      <td>5.636704</td>\n",
              "      <td>0.000000</td>\n",
              "      <td>24.991662</td>\n",
              "      <td>28.016533</td>\n",
              "      <td>34.990058</td>\n",
              "      <td>44.260464</td>\n",
              "    </tr>\n",
              "    <tr>\n",
              "      <td>secondary_cleaner.state.floatbank3_a_level</td>\n",
              "      <td>14149.0</td>\n",
              "      <td>-478.245302</td>\n",
              "      <td>54.653411</td>\n",
              "      <td>-799.613013</td>\n",
              "      <td>-500.175043</td>\n",
              "      <td>-499.877836</td>\n",
              "      <td>-437.069363</td>\n",
              "      <td>-191.678810</td>\n",
              "    </tr>\n",
              "    <tr>\n",
              "      <td>secondary_cleaner.state.floatbank3_b_air</td>\n",
              "      <td>14149.0</td>\n",
              "      <td>22.656287</td>\n",
              "      <td>4.995841</td>\n",
              "      <td>0.000000</td>\n",
              "      <td>19.948440</td>\n",
              "      <td>22.037443</td>\n",
              "      <td>25.970312</td>\n",
              "      <td>35.072841</td>\n",
              "    </tr>\n",
              "    <tr>\n",
              "      <td>secondary_cleaner.state.floatbank3_b_level</td>\n",
              "      <td>14149.0</td>\n",
              "      <td>-488.924850</td>\n",
              "      <td>41.926740</td>\n",
              "      <td>-759.177381</td>\n",
              "      <td>-500.110596</td>\n",
              "      <td>-499.966823</td>\n",
              "      <td>-499.757527</td>\n",
              "      <td>-159.742331</td>\n",
              "    </tr>\n",
              "    <tr>\n",
              "      <td>secondary_cleaner.state.floatbank4_a_air</td>\n",
              "      <td>14149.0</td>\n",
              "      <td>19.980710</td>\n",
              "      <td>5.661526</td>\n",
              "      <td>0.000000</td>\n",
              "      <td>14.990463</td>\n",
              "      <td>20.001601</td>\n",
              "      <td>24.990768</td>\n",
              "      <td>30.115735</td>\n",
              "    </tr>\n",
              "    <tr>\n",
              "      <td>secondary_cleaner.state.floatbank4_a_level</td>\n",
              "      <td>14149.0</td>\n",
              "      <td>-478.703041</td>\n",
              "      <td>50.739597</td>\n",
              "      <td>-799.709069</td>\n",
              "      <td>-500.628716</td>\n",
              "      <td>-499.681587</td>\n",
              "      <td>-477.486391</td>\n",
              "      <td>-245.239184</td>\n",
              "    </tr>\n",
              "    <tr>\n",
              "      <td>secondary_cleaner.state.floatbank4_b_air</td>\n",
              "      <td>14149.0</td>\n",
              "      <td>15.486812</td>\n",
              "      <td>5.255555</td>\n",
              "      <td>0.000000</td>\n",
              "      <td>11.894590</td>\n",
              "      <td>14.975474</td>\n",
              "      <td>20.059286</td>\n",
              "      <td>24.007913</td>\n",
              "    </tr>\n",
              "    <tr>\n",
              "      <td>secondary_cleaner.state.floatbank4_b_level</td>\n",
              "      <td>14149.0</td>\n",
              "      <td>-460.236938</td>\n",
              "      <td>58.848308</td>\n",
              "      <td>-799.889113</td>\n",
              "      <td>-500.149141</td>\n",
              "      <td>-499.388853</td>\n",
              "      <td>-400.039047</td>\n",
              "      <td>-145.071088</td>\n",
              "    </tr>\n",
              "    <tr>\n",
              "      <td>secondary_cleaner.state.floatbank5_a_air</td>\n",
              "      <td>14149.0</td>\n",
              "      <td>16.774666</td>\n",
              "      <td>5.831968</td>\n",
              "      <td>-0.372054</td>\n",
              "      <td>11.083699</td>\n",
              "      <td>17.931987</td>\n",
              "      <td>21.346135</td>\n",
              "      <td>43.709931</td>\n",
              "    </tr>\n",
              "    <tr>\n",
              "      <td>secondary_cleaner.state.floatbank5_a_level</td>\n",
              "      <td>14149.0</td>\n",
              "      <td>-483.952941</td>\n",
              "      <td>37.893221</td>\n",
              "      <td>-797.142475</td>\n",
              "      <td>-500.363169</td>\n",
              "      <td>-499.702424</td>\n",
              "      <td>-487.255467</td>\n",
              "      <td>-275.073125</td>\n",
              "    </tr>\n",
              "    <tr>\n",
              "      <td>secondary_cleaner.state.floatbank5_b_air</td>\n",
              "      <td>14149.0</td>\n",
              "      <td>13.064233</td>\n",
              "      <td>5.765570</td>\n",
              "      <td>0.646208</td>\n",
              "      <td>8.994384</td>\n",
              "      <td>11.997537</td>\n",
              "      <td>17.982826</td>\n",
              "      <td>27.926001</td>\n",
              "    </tr>\n",
              "    <tr>\n",
              "      <td>secondary_cleaner.state.floatbank5_b_level</td>\n",
              "      <td>14149.0</td>\n",
              "      <td>-483.966551</td>\n",
              "      <td>39.206528</td>\n",
              "      <td>-800.006180</td>\n",
              "      <td>-500.105994</td>\n",
              "      <td>-499.914555</td>\n",
              "      <td>-453.274822</td>\n",
              "      <td>-157.396071</td>\n",
              "    </tr>\n",
              "    <tr>\n",
              "      <td>secondary_cleaner.state.floatbank6_a_air</td>\n",
              "      <td>14149.0</td>\n",
              "      <td>19.576671</td>\n",
              "      <td>5.764496</td>\n",
              "      <td>0.195324</td>\n",
              "      <td>14.989244</td>\n",
              "      <td>19.984165</td>\n",
              "      <td>24.991615</td>\n",
              "      <td>32.188906</td>\n",
              "    </tr>\n",
              "    <tr>\n",
              "      <td>secondary_cleaner.state.floatbank6_a_level</td>\n",
              "      <td>14149.0</td>\n",
              "      <td>-506.805124</td>\n",
              "      <td>37.086359</td>\n",
              "      <td>-809.398668</td>\n",
              "      <td>-500.745309</td>\n",
              "      <td>-500.061488</td>\n",
              "      <td>-499.536481</td>\n",
              "      <td>-104.427459</td>\n",
              "    </tr>\n",
              "  </tbody>\n",
              "</table>\n",
              "</div>"
            ],
            "text/plain": [
              "                                              count         mean          std  \\\n",
              "final.output.recovery                       14149.0    66.518832    10.295402   \n",
              "primary_cleaner.input.sulfate               14149.0   133.258053    39.744486   \n",
              "primary_cleaner.input.depressant            14149.0     8.854889     3.420868   \n",
              "primary_cleaner.input.feed_size             14149.0     7.322310     0.614062   \n",
              "primary_cleaner.input.xanthate              14149.0     0.877922     0.395677   \n",
              "primary_cleaner.state.floatbank8_a_air      14149.0  1608.019384   128.387557   \n",
              "primary_cleaner.state.floatbank8_a_level    14149.0  -488.776297    35.703040   \n",
              "primary_cleaner.state.floatbank8_b_air      14149.0  1608.638441   131.114092   \n",
              "primary_cleaner.state.floatbank8_b_level    14149.0  -489.172575    33.603392   \n",
              "primary_cleaner.state.floatbank8_c_air      14149.0  1608.880922   134.260199   \n",
              "primary_cleaner.state.floatbank8_c_level    14149.0  -489.606309    35.622858   \n",
              "primary_cleaner.state.floatbank8_d_air      14149.0  1542.229874   278.311305   \n",
              "primary_cleaner.state.floatbank8_d_level    14149.0  -483.463481    47.099437   \n",
              "rougher.input.feed_ag                       14149.0     8.579195     1.896284   \n",
              "rougher.input.feed_pb                       14149.0     3.460764     1.475905   \n",
              "rougher.input.feed_rate                     14149.0   473.944199   104.169531   \n",
              "rougher.input.feed_size                     14149.0    52.555549   128.050814   \n",
              "rougher.input.feed_sol                      14149.0    36.251036     5.112357   \n",
              "rougher.input.feed_au                       14149.0     7.866577     1.919506   \n",
              "rougher.input.floatbank10_sulfate           14149.0    11.707220     3.685447   \n",
              "rougher.input.floatbank10_xanthate          14149.0     5.850078     1.129430   \n",
              "rougher.input.floatbank11_sulfate           14149.0    11.374157     3.880589   \n",
              "rougher.input.floatbank11_xanthate          14149.0    35.707629   267.593125   \n",
              "rougher.output.recovery                     14149.0    82.704502    14.479156   \n",
              "rougher.state.floatbank10_a_air             14149.0  1124.717598   169.307991   \n",
              "rougher.state.floatbank10_a_level           14149.0  -369.470146    93.955835   \n",
              "rougher.state.floatbank10_b_air             14149.0  1320.724943   183.164758   \n",
              "rougher.state.floatbank10_b_level           14149.0  -464.261434    57.400665   \n",
              "rougher.state.floatbank10_c_air             14149.0  1299.381839   213.411537   \n",
              "rougher.state.floatbank10_c_level           14149.0  -465.057078    55.903369   \n",
              "rougher.state.floatbank10_d_air             14149.0  1210.335236   210.431555   \n",
              "rougher.state.floatbank10_d_level           14149.0  -465.457377    55.771393   \n",
              "rougher.state.floatbank10_e_air             14149.0  1490.734637  4324.262012   \n",
              "rougher.state.floatbank10_e_level           14149.0  -464.919119    56.602962   \n",
              "rougher.state.floatbank10_f_air             14149.0  1035.490299   175.052279   \n",
              "rougher.state.floatbank10_f_level           14149.0  -464.688631    56.645965   \n",
              "secondary_cleaner.state.floatbank2_a_air    14149.0    30.257923    12.152185   \n",
              "secondary_cleaner.state.floatbank2_a_level  14149.0  -502.223765    60.279577   \n",
              "secondary_cleaner.state.floatbank2_b_air    14149.0    24.859835     6.366328   \n",
              "secondary_cleaner.state.floatbank2_b_level  14149.0  -503.695299    62.835155   \n",
              "secondary_cleaner.state.floatbank3_a_air    14149.0    29.242763     5.636704   \n",
              "secondary_cleaner.state.floatbank3_a_level  14149.0  -478.245302    54.653411   \n",
              "secondary_cleaner.state.floatbank3_b_air    14149.0    22.656287     4.995841   \n",
              "secondary_cleaner.state.floatbank3_b_level  14149.0  -488.924850    41.926740   \n",
              "secondary_cleaner.state.floatbank4_a_air    14149.0    19.980710     5.661526   \n",
              "secondary_cleaner.state.floatbank4_a_level  14149.0  -478.703041    50.739597   \n",
              "secondary_cleaner.state.floatbank4_b_air    14149.0    15.486812     5.255555   \n",
              "secondary_cleaner.state.floatbank4_b_level  14149.0  -460.236938    58.848308   \n",
              "secondary_cleaner.state.floatbank5_a_air    14149.0    16.774666     5.831968   \n",
              "secondary_cleaner.state.floatbank5_a_level  14149.0  -483.952941    37.893221   \n",
              "secondary_cleaner.state.floatbank5_b_air    14149.0    13.064233     5.765570   \n",
              "secondary_cleaner.state.floatbank5_b_level  14149.0  -483.966551    39.206528   \n",
              "secondary_cleaner.state.floatbank6_a_air    14149.0    19.576671     5.764496   \n",
              "secondary_cleaner.state.floatbank6_a_level  14149.0  -506.805124    37.086359   \n",
              "\n",
              "                                                     min          25%  \\\n",
              "final.output.recovery                           0.000000    62.545817   \n",
              "primary_cleaner.input.sulfate                -152.065016   106.957255   \n",
              "primary_cleaner.input.depressant              -21.319295     6.038393   \n",
              "primary_cleaner.input.feed_size                 1.080000     6.960000   \n",
              "primary_cleaner.input.xanthate                 -4.197169     0.604513   \n",
              "primary_cleaner.state.floatbank8_a_air          0.006352  1595.695815   \n",
              "primary_cleaner.state.floatbank8_a_level     -798.641662  -500.287950   \n",
              "primary_cleaner.state.floatbank8_b_air          0.008700  1558.959943   \n",
              "primary_cleaner.state.floatbank8_b_level     -740.122129  -500.375607   \n",
              "primary_cleaner.state.floatbank8_c_air          0.015159  1549.869870   \n",
              "primary_cleaner.state.floatbank8_c_level     -799.803073  -500.601650   \n",
              "primary_cleaner.state.floatbank8_d_air          0.008655  1452.697692   \n",
              "primary_cleaner.state.floatbank8_d_level     -799.788598  -500.459897   \n",
              "rougher.input.feed_ag                           0.010000     7.132802   \n",
              "rougher.input.feed_pb                         -27.477079     2.766515   \n",
              "rougher.input.feed_rate                       -18.940694   420.723210   \n",
              "rougher.input.feed_size                     -2621.344823    48.889202   \n",
              "rougher.input.feed_sol                        -19.182024    34.072010   \n",
              "rougher.input.feed_au                           0.010000     6.596217   \n",
              "rougher.input.floatbank10_sulfate             -55.999960     9.847743   \n",
              "rougher.input.floatbank10_xanthate            -10.094299     5.113485   \n",
              "rougher.input.floatbank11_sulfate             -14.341890     9.502098   \n",
              "rougher.input.floatbank11_xanthate            -57.251656     5.198734   \n",
              "rougher.output.recovery                         0.000000    79.993067   \n",
              "rougher.state.floatbank10_a_air                -0.041078   999.799195   \n",
              "rougher.state.floatbank10_a_level            -650.202881  -499.787788   \n",
              "rougher.state.floatbank10_b_air                -0.653384  1199.367169   \n",
              "rougher.state.floatbank10_b_level            -650.260008  -500.182988   \n",
              "rougher.state.floatbank10_c_air                -0.035112  1103.096392   \n",
              "rougher.state.floatbank10_c_level            -640.995627  -500.211811   \n",
              "rougher.state.floatbank10_d_air                -0.554299  1059.708509   \n",
              "rougher.state.floatbank10_d_level            -640.519003  -500.359197   \n",
              "rougher.state.floatbank10_e_air            -17648.045075   997.044370   \n",
              "rougher.state.floatbank10_e_level            -649.443911  -500.250033   \n",
              "rougher.state.floatbank10_f_air                -2.430587   900.966986   \n",
              "rougher.state.floatbank10_f_level            -649.880981  -500.476526   \n",
              "secondary_cleaner.state.floatbank2_a_air        0.077503    25.102083   \n",
              "secondary_cleaner.state.floatbank2_a_level   -799.606441  -500.248792   \n",
              "secondary_cleaner.state.floatbank2_b_air      -84.433653    22.043888   \n",
              "secondary_cleaner.state.floatbank2_b_level   -799.873878  -500.270983   \n",
              "secondary_cleaner.state.floatbank3_a_air        0.000000    24.991662   \n",
              "secondary_cleaner.state.floatbank3_a_level   -799.613013  -500.175043   \n",
              "secondary_cleaner.state.floatbank3_b_air        0.000000    19.948440   \n",
              "secondary_cleaner.state.floatbank3_b_level   -759.177381  -500.110596   \n",
              "secondary_cleaner.state.floatbank4_a_air        0.000000    14.990463   \n",
              "secondary_cleaner.state.floatbank4_a_level   -799.709069  -500.628716   \n",
              "secondary_cleaner.state.floatbank4_b_air        0.000000    11.894590   \n",
              "secondary_cleaner.state.floatbank4_b_level   -799.889113  -500.149141   \n",
              "secondary_cleaner.state.floatbank5_a_air       -0.372054    11.083699   \n",
              "secondary_cleaner.state.floatbank5_a_level   -797.142475  -500.363169   \n",
              "secondary_cleaner.state.floatbank5_b_air        0.646208     8.994384   \n",
              "secondary_cleaner.state.floatbank5_b_level   -800.006180  -500.105994   \n",
              "secondary_cleaner.state.floatbank6_a_air        0.195324    14.989244   \n",
              "secondary_cleaner.state.floatbank6_a_level   -809.398668  -500.745309   \n",
              "\n",
              "                                                    50%          75%  \\\n",
              "final.output.recovery                         67.432775    72.346428   \n",
              "primary_cleaner.input.sulfate                133.000805   159.830443   \n",
              "primary_cleaner.input.depressant               8.034599    11.522173   \n",
              "primary_cleaner.input.feed_size                7.290000     7.700000   \n",
              "primary_cleaner.input.xanthate                 0.887473     1.100415   \n",
              "primary_cleaner.state.floatbank8_a_air      1601.827195  1699.717397   \n",
              "primary_cleaner.state.floatbank8_a_level    -499.909251  -499.378655   \n",
              "primary_cleaner.state.floatbank8_b_air      1601.820517  1700.220315   \n",
              "primary_cleaner.state.floatbank8_b_level    -499.938140  -499.389771   \n",
              "primary_cleaner.state.floatbank8_c_air      1601.574628  1700.463017   \n",
              "primary_cleaner.state.floatbank8_c_level    -499.871677  -498.801786   \n",
              "primary_cleaner.state.floatbank8_d_air      1600.168762  1699.358785   \n",
              "primary_cleaner.state.floatbank8_d_level    -499.831825  -498.478731   \n",
              "rougher.input.feed_ag                          8.156092     9.918304   \n",
              "rougher.input.feed_pb                          3.414267     4.220115   \n",
              "rougher.input.feed_rate                      499.449303   547.326781   \n",
              "rougher.input.feed_size                       55.283606    66.037014   \n",
              "rougher.input.feed_sol                        36.995478    39.410696   \n",
              "rougher.input.feed_au                          7.649138     9.066976   \n",
              "rougher.input.floatbank10_sulfate             11.662142    13.584495   \n",
              "rougher.input.floatbank10_xanthate             5.949895     6.602486   \n",
              "rougher.input.floatbank11_sulfate             11.382460    13.498047   \n",
              "rougher.input.floatbank11_xanthate             5.998979     6.778352   \n",
              "rougher.output.recovery                       85.299462    90.165021   \n",
              "rougher.state.floatbank10_a_air             1001.689126  1299.505214   \n",
              "rougher.state.floatbank10_a_level           -300.175169  -299.963169   \n",
              "rougher.state.floatbank10_b_air             1301.367954  1449.559140   \n",
              "rougher.state.floatbank10_b_level           -499.764434  -400.425547   \n",
              "rougher.state.floatbank10_c_air             1300.214100  1450.353307   \n",
              "rougher.state.floatbank10_c_level           -499.682487  -400.664948   \n",
              "rougher.state.floatbank10_d_air             1200.744308  1344.378462   \n",
              "rougher.state.floatbank10_d_level           -499.465285  -401.052891   \n",
              "rougher.state.floatbank10_e_air             1050.712067  1200.362392   \n",
              "rougher.state.floatbank10_e_level           -499.611447  -400.596104   \n",
              "rougher.state.floatbank10_f_air             1000.053757  1100.165435   \n",
              "rougher.state.floatbank10_f_level           -499.364335  -401.014951   \n",
              "secondary_cleaner.state.floatbank2_a_air      30.030344    34.898699   \n",
              "secondary_cleaner.state.floatbank2_a_level  -499.959207  -499.593206   \n",
              "secondary_cleaner.state.floatbank2_b_air      27.021708    28.938974   \n",
              "secondary_cleaner.state.floatbank2_b_level  -500.014051  -499.763998   \n",
              "secondary_cleaner.state.floatbank3_a_air      28.016533    34.990058   \n",
              "secondary_cleaner.state.floatbank3_a_level  -499.877836  -437.069363   \n",
              "secondary_cleaner.state.floatbank3_b_air      22.037443    25.970312   \n",
              "secondary_cleaner.state.floatbank3_b_level  -499.966823  -499.757527   \n",
              "secondary_cleaner.state.floatbank4_a_air      20.001601    24.990768   \n",
              "secondary_cleaner.state.floatbank4_a_level  -499.681587  -477.486391   \n",
              "secondary_cleaner.state.floatbank4_b_air      14.975474    20.059286   \n",
              "secondary_cleaner.state.floatbank4_b_level  -499.388853  -400.039047   \n",
              "secondary_cleaner.state.floatbank5_a_air      17.931987    21.346135   \n",
              "secondary_cleaner.state.floatbank5_a_level  -499.702424  -487.255467   \n",
              "secondary_cleaner.state.floatbank5_b_air      11.997537    17.982826   \n",
              "secondary_cleaner.state.floatbank5_b_level  -499.914555  -453.274822   \n",
              "secondary_cleaner.state.floatbank6_a_air      19.984165    24.991615   \n",
              "secondary_cleaner.state.floatbank6_a_level  -500.061488  -499.536481   \n",
              "\n",
              "                                                     max  \n",
              "final.output.recovery                         100.000000  \n",
              "primary_cleaner.input.sulfate                 319.511068  \n",
              "primary_cleaner.input.depressant               27.658578  \n",
              "primary_cleaner.input.feed_size                10.470000  \n",
              "primary_cleaner.input.xanthate                  2.512968  \n",
              "primary_cleaner.state.floatbank8_a_air       2079.531340  \n",
              "primary_cleaner.state.floatbank8_a_level     -330.134203  \n",
              "primary_cleaner.state.floatbank8_b_air       2114.906758  \n",
              "primary_cleaner.state.floatbank8_b_level     -347.354380  \n",
              "primary_cleaner.state.floatbank8_c_air       2013.156457  \n",
              "primary_cleaner.state.floatbank8_c_level     -346.653450  \n",
              "primary_cleaner.state.floatbank8_d_air       2398.903635  \n",
              "primary_cleaner.state.floatbank8_d_level      -30.601828  \n",
              "rougher.input.feed_ag                          14.596026  \n",
              "rougher.input.feed_pb                           7.142594  \n",
              "rougher.input.feed_rate                       717.508837  \n",
              "rougher.input.feed_size                       670.522356  \n",
              "rougher.input.feed_sol                         48.363177  \n",
              "rougher.input.feed_au                          13.126043  \n",
              "rougher.input.floatbank10_sulfate              36.118275  \n",
              "rougher.input.floatbank10_xanthate              9.703448  \n",
              "rougher.input.floatbank11_sulfate              50.550936  \n",
              "rougher.input.floatbank11_xanthate           3220.753985  \n",
              "rougher.output.recovery                       100.000000  \n",
              "rougher.state.floatbank10_a_air              1521.980372  \n",
              "rougher.state.floatbank10_a_level            -281.039299  \n",
              "rougher.state.floatbank10_b_air              1809.194008  \n",
              "rougher.state.floatbank10_b_level            -296.383080  \n",
              "rougher.state.floatbank10_c_air              2499.129174  \n",
              "rougher.state.floatbank10_c_level            -292.155509  \n",
              "rougher.state.floatbank10_d_air              1817.199290  \n",
              "rougher.state.floatbank10_d_level            -208.330673  \n",
              "rougher.state.floatbank10_e_air             59479.078106  \n",
              "rougher.state.floatbank10_e_level            -272.199598  \n",
              "rougher.state.floatbank10_f_air              1706.307502  \n",
              "rougher.state.floatbank10_f_level            -191.718480  \n",
              "secondary_cleaner.state.floatbank2_a_air      256.832048  \n",
              "secondary_cleaner.state.floatbank2_a_level   -127.875565  \n",
              "secondary_cleaner.state.floatbank2_b_air       35.152122  \n",
              "secondary_cleaner.state.floatbank2_b_level   -212.064665  \n",
              "secondary_cleaner.state.floatbank3_a_air       44.260464  \n",
              "secondary_cleaner.state.floatbank3_a_level   -191.678810  \n",
              "secondary_cleaner.state.floatbank3_b_air       35.072841  \n",
              "secondary_cleaner.state.floatbank3_b_level   -159.742331  \n",
              "secondary_cleaner.state.floatbank4_a_air       30.115735  \n",
              "secondary_cleaner.state.floatbank4_a_level   -245.239184  \n",
              "secondary_cleaner.state.floatbank4_b_air       24.007913  \n",
              "secondary_cleaner.state.floatbank4_b_level   -145.071088  \n",
              "secondary_cleaner.state.floatbank5_a_air       43.709931  \n",
              "secondary_cleaner.state.floatbank5_a_level   -275.073125  \n",
              "secondary_cleaner.state.floatbank5_b_air       27.926001  \n",
              "secondary_cleaner.state.floatbank5_b_level   -157.396071  \n",
              "secondary_cleaner.state.floatbank6_a_air       32.188906  \n",
              "secondary_cleaner.state.floatbank6_a_level   -104.427459  "
            ]
          },
          "execution_count": 16,
          "metadata": {},
          "output_type": "execute_result"
        }
      ],
      "source": [
        "df_train.describe().T"
      ]
    },
    {
      "cell_type": "code",
      "execution_count": null,
      "metadata": {
        "id": "aAn0n3VdrFZ7",
        "outputId": "1a186de7-d07d-44fc-f6a7-aafd2d042bd1"
      },
      "outputs": [
        {
          "data": {
            "image/png": "[encoded data removed]",
            "text/plain": [
              "<Figure size 1800x1440 with 56 Axes>"
            ]
          },
          "metadata": {
            "needs_background": "light"
          },
          "output_type": "display_data"
        }
      ],
      "source": [
        "df_train.hist(bins=30, color = 'Purple', figsize = (25,20))\n",
        "plt.show()"
      ]
    },
    {
      "cell_type": "markdown",
      "metadata": {
        "id": "9CdO_1WarFZ7"
      },
      "source": [
        "Однако в данном проекте у нас нет информации о характере каждого фактора и пределах его изменения, поэтому на данном этапе мы не будем удалять \"выбросы\" правой части шкалы.\n",
        "\n",
        "Тем не менее все переменные, содержащие \"input\" в названии - это параметры сырья или продукта на входе в очередной этап очистки (скорость подачи, размер гранул, содержание различных химических соединений), и отрицательная часть шкалы для них нехарактерна. Таких значений немного и они, как правило, далеко отстоят от положительных значений:"
      ]
    },
    {
      "cell_type": "code",
      "execution_count": null,
      "metadata": {
        "id": "IyZvR_cQrFZ7",
        "outputId": "e25328fb-9f72-4662-8a8f-6d97686fcf76"
      },
      "outputs": [
        {
          "data": {
            "image/png": "[encoded data removed]",
            "text/plain": [
              "<Figure size 1800x1440 with 16 Axes>"
            ]
          },
          "metadata": {
            "needs_background": "light"
          },
          "output_type": "display_data"
        },
        {
          "data": {
            "text/html": [
              "<div>\n",
              "<style scoped>\n",
              "    .dataframe tbody tr th:only-of-type {\n",
              "        vertical-align: middle;\n",
              "    }\n",
              "\n",
              "    .dataframe tbody tr th {\n",
              "        vertical-align: top;\n",
              "    }\n",
              "\n",
              "    .dataframe thead th {\n",
              "        text-align: right;\n",
              "    }\n",
              "</style>\n",
              "<table border=\"1\" class=\"dataframe\">\n",
              "  <thead>\n",
              "    <tr style=\"text-align: right;\">\n",
              "      <th></th>\n",
              "      <th>count</th>\n",
              "      <th>mean</th>\n",
              "      <th>std</th>\n",
              "      <th>min</th>\n",
              "      <th>25%</th>\n",
              "      <th>50%</th>\n",
              "      <th>75%</th>\n",
              "      <th>max</th>\n",
              "    </tr>\n",
              "  </thead>\n",
              "  <tbody>\n",
              "    <tr>\n",
              "      <td>primary_cleaner.input.sulfate</td>\n",
              "      <td>14149.0</td>\n",
              "      <td>133.258053</td>\n",
              "      <td>39.744486</td>\n",
              "      <td>-152.065016</td>\n",
              "      <td>106.957255</td>\n",
              "      <td>133.000805</td>\n",
              "      <td>159.830443</td>\n",
              "      <td>319.511068</td>\n",
              "    </tr>\n",
              "    <tr>\n",
              "      <td>primary_cleaner.input.depressant</td>\n",
              "      <td>14149.0</td>\n",
              "      <td>8.854889</td>\n",
              "      <td>3.420868</td>\n",
              "      <td>-21.319295</td>\n",
              "      <td>6.038393</td>\n",
              "      <td>8.034599</td>\n",
              "      <td>11.522173</td>\n",
              "      <td>27.658578</td>\n",
              "    </tr>\n",
              "    <tr>\n",
              "      <td>primary_cleaner.input.feed_size</td>\n",
              "      <td>14149.0</td>\n",
              "      <td>7.322310</td>\n",
              "      <td>0.614062</td>\n",
              "      <td>1.080000</td>\n",
              "      <td>6.960000</td>\n",
              "      <td>7.290000</td>\n",
              "      <td>7.700000</td>\n",
              "      <td>10.470000</td>\n",
              "    </tr>\n",
              "    <tr>\n",
              "      <td>primary_cleaner.input.xanthate</td>\n",
              "      <td>14149.0</td>\n",
              "      <td>0.877922</td>\n",
              "      <td>0.395677</td>\n",
              "      <td>-4.197169</td>\n",
              "      <td>0.604513</td>\n",
              "      <td>0.887473</td>\n",
              "      <td>1.100415</td>\n",
              "      <td>2.512968</td>\n",
              "    </tr>\n",
              "    <tr>\n",
              "      <td>rougher.input.feed_ag</td>\n",
              "      <td>14149.0</td>\n",
              "      <td>8.579195</td>\n",
              "      <td>1.896284</td>\n",
              "      <td>0.010000</td>\n",
              "      <td>7.132802</td>\n",
              "      <td>8.156092</td>\n",
              "      <td>9.918304</td>\n",
              "      <td>14.596026</td>\n",
              "    </tr>\n",
              "    <tr>\n",
              "      <td>rougher.input.feed_pb</td>\n",
              "      <td>14149.0</td>\n",
              "      <td>3.460764</td>\n",
              "      <td>1.475905</td>\n",
              "      <td>-27.477079</td>\n",
              "      <td>2.766515</td>\n",
              "      <td>3.414267</td>\n",
              "      <td>4.220115</td>\n",
              "      <td>7.142594</td>\n",
              "    </tr>\n",
              "    <tr>\n",
              "      <td>rougher.input.feed_rate</td>\n",
              "      <td>14149.0</td>\n",
              "      <td>473.944199</td>\n",
              "      <td>104.169531</td>\n",
              "      <td>-18.940694</td>\n",
              "      <td>420.723210</td>\n",
              "      <td>499.449303</td>\n",
              "      <td>547.326781</td>\n",
              "      <td>717.508837</td>\n",
              "    </tr>\n",
              "    <tr>\n",
              "      <td>rougher.input.feed_size</td>\n",
              "      <td>14149.0</td>\n",
              "      <td>52.555549</td>\n",
              "      <td>128.050814</td>\n",
              "      <td>-2621.344823</td>\n",
              "      <td>48.889202</td>\n",
              "      <td>55.283606</td>\n",
              "      <td>66.037014</td>\n",
              "      <td>670.522356</td>\n",
              "    </tr>\n",
              "    <tr>\n",
              "      <td>rougher.input.feed_sol</td>\n",
              "      <td>14149.0</td>\n",
              "      <td>36.251036</td>\n",
              "      <td>5.112357</td>\n",
              "      <td>-19.182024</td>\n",
              "      <td>34.072010</td>\n",
              "      <td>36.995478</td>\n",
              "      <td>39.410696</td>\n",
              "      <td>48.363177</td>\n",
              "    </tr>\n",
              "    <tr>\n",
              "      <td>rougher.input.feed_au</td>\n",
              "      <td>14149.0</td>\n",
              "      <td>7.866577</td>\n",
              "      <td>1.919506</td>\n",
              "      <td>0.010000</td>\n",
              "      <td>6.596217</td>\n",
              "      <td>7.649138</td>\n",
              "      <td>9.066976</td>\n",
              "      <td>13.126043</td>\n",
              "    </tr>\n",
              "    <tr>\n",
              "      <td>rougher.input.floatbank10_sulfate</td>\n",
              "      <td>14149.0</td>\n",
              "      <td>11.707220</td>\n",
              "      <td>3.685447</td>\n",
              "      <td>-55.999960</td>\n",
              "      <td>9.847743</td>\n",
              "      <td>11.662142</td>\n",
              "      <td>13.584495</td>\n",
              "      <td>36.118275</td>\n",
              "    </tr>\n",
              "    <tr>\n",
              "      <td>rougher.input.floatbank10_xanthate</td>\n",
              "      <td>14149.0</td>\n",
              "      <td>5.850078</td>\n",
              "      <td>1.129430</td>\n",
              "      <td>-10.094299</td>\n",
              "      <td>5.113485</td>\n",
              "      <td>5.949895</td>\n",
              "      <td>6.602486</td>\n",
              "      <td>9.703448</td>\n",
              "    </tr>\n",
              "    <tr>\n",
              "      <td>rougher.input.floatbank11_sulfate</td>\n",
              "      <td>14149.0</td>\n",
              "      <td>11.374157</td>\n",
              "      <td>3.880589</td>\n",
              "      <td>-14.341890</td>\n",
              "      <td>9.502098</td>\n",
              "      <td>11.382460</td>\n",
              "      <td>13.498047</td>\n",
              "      <td>50.550936</td>\n",
              "    </tr>\n",
              "    <tr>\n",
              "      <td>rougher.input.floatbank11_xanthate</td>\n",
              "      <td>14149.0</td>\n",
              "      <td>35.707629</td>\n",
              "      <td>267.593125</td>\n",
              "      <td>-57.251656</td>\n",
              "      <td>5.198734</td>\n",
              "      <td>5.998979</td>\n",
              "      <td>6.778352</td>\n",
              "      <td>3220.753985</td>\n",
              "    </tr>\n",
              "  </tbody>\n",
              "</table>\n",
              "</div>"
            ],
            "text/plain": [
              "                                      count        mean         std  \\\n",
              "primary_cleaner.input.sulfate       14149.0  133.258053   39.744486   \n",
              "primary_cleaner.input.depressant    14149.0    8.854889    3.420868   \n",
              "primary_cleaner.input.feed_size     14149.0    7.322310    0.614062   \n",
              "primary_cleaner.input.xanthate      14149.0    0.877922    0.395677   \n",
              "rougher.input.feed_ag               14149.0    8.579195    1.896284   \n",
              "rougher.input.feed_pb               14149.0    3.460764    1.475905   \n",
              "rougher.input.feed_rate             14149.0  473.944199  104.169531   \n",
              "rougher.input.feed_size             14149.0   52.555549  128.050814   \n",
              "rougher.input.feed_sol              14149.0   36.251036    5.112357   \n",
              "rougher.input.feed_au               14149.0    7.866577    1.919506   \n",
              "rougher.input.floatbank10_sulfate   14149.0   11.707220    3.685447   \n",
              "rougher.input.floatbank10_xanthate  14149.0    5.850078    1.129430   \n",
              "rougher.input.floatbank11_sulfate   14149.0   11.374157    3.880589   \n",
              "rougher.input.floatbank11_xanthate  14149.0   35.707629  267.593125   \n",
              "\n",
              "                                            min         25%         50%  \\\n",
              "primary_cleaner.input.sulfate       -152.065016  106.957255  133.000805   \n",
              "primary_cleaner.input.depressant     -21.319295    6.038393    8.034599   \n",
              "primary_cleaner.input.feed_size        1.080000    6.960000    7.290000   \n",
              "primary_cleaner.input.xanthate        -4.197169    0.604513    0.887473   \n",
              "rougher.input.feed_ag                  0.010000    7.132802    8.156092   \n",
              "rougher.input.feed_pb                -27.477079    2.766515    3.414267   \n",
              "rougher.input.feed_rate              -18.940694  420.723210  499.449303   \n",
              "rougher.input.feed_size            -2621.344823   48.889202   55.283606   \n",
              "rougher.input.feed_sol               -19.182024   34.072010   36.995478   \n",
              "rougher.input.feed_au                  0.010000    6.596217    7.649138   \n",
              "rougher.input.floatbank10_sulfate    -55.999960    9.847743   11.662142   \n",
              "rougher.input.floatbank10_xanthate   -10.094299    5.113485    5.949895   \n",
              "rougher.input.floatbank11_sulfate    -14.341890    9.502098   11.382460   \n",
              "rougher.input.floatbank11_xanthate   -57.251656    5.198734    5.998979   \n",
              "\n",
              "                                           75%          max  \n",
              "primary_cleaner.input.sulfate       159.830443   319.511068  \n",
              "primary_cleaner.input.depressant     11.522173    27.658578  \n",
              "primary_cleaner.input.feed_size       7.700000    10.470000  \n",
              "primary_cleaner.input.xanthate        1.100415     2.512968  \n",
              "rougher.input.feed_ag                 9.918304    14.596026  \n",
              "rougher.input.feed_pb                 4.220115     7.142594  \n",
              "rougher.input.feed_rate             547.326781   717.508837  \n",
              "rougher.input.feed_size              66.037014   670.522356  \n",
              "rougher.input.feed_sol               39.410696    48.363177  \n",
              "rougher.input.feed_au                 9.066976    13.126043  \n",
              "rougher.input.floatbank10_sulfate    13.584495    36.118275  \n",
              "rougher.input.floatbank10_xanthate    6.602486     9.703448  \n",
              "rougher.input.floatbank11_sulfate    13.498047    50.550936  \n",
              "rougher.input.floatbank11_xanthate    6.778352  3220.753985  "
            ]
          },
          "execution_count": 18,
          "metadata": {},
          "output_type": "execute_result"
        }
      ],
      "source": [
        "df_train[[i for i in list(df_train.columns) if 'input' in i]].hist(bins=30, color = 'Purple', figsize = (25,20))\n",
        "plt.show()\n",
        "df_train[[i for i in list(df_train.columns) if 'input' in i]].describe().T"
      ]
    },
    {
      "cell_type": "markdown",
      "metadata": {
        "id": "1x8UZ7DTrFZ8"
      },
      "source": [
        "Заменим отрицательную часть шкалы на нули для тренировочного и для тестового сета данных."
      ]
    },
    {
      "cell_type": "code",
      "execution_count": null,
      "metadata": {
        "id": "duKaXy85rFZ8",
        "outputId": "20ba06df-64d4-4018-d49e-bcb50e3737c6"
      },
      "outputs": [
        {
          "data": {
            "image/png": "[encoded data removed]",
            "text/plain": [
              "<Figure size 1800x1440 with 16 Axes>"
            ]
          },
          "metadata": {
            "needs_background": "light"
          },
          "output_type": "display_data"
        }
      ],
      "source": [
        "for column in df_train[[i for i in list(df_train.columns) if 'input' in i]]:\n",
        "    df_train[column].where(~(df_train[column] < 0), other=0, inplace=True)\n",
        "df_train[[i for i in list(df_train.columns) if 'input' in i]].hist(bins=30, color = 'Purple', figsize = (25,20))\n",
        "plt.show()"
      ]
    },
    {
      "cell_type": "markdown",
      "metadata": {
        "id": "mLR7dd-TrFZ8"
      },
      "source": [
        "Аналогично для тестового набора данных:"
      ]
    },
    {
      "cell_type": "code",
      "execution_count": null,
      "metadata": {
        "id": "Hb72jtESrFZ8",
        "outputId": "0db9f8fd-27f6-46ed-e32e-16c941ea654a"
      },
      "outputs": [
        {
          "data": {
            "image/png": "[encoded data removed]",
            "text/plain": [
              "<Figure size 1800x1440 with 16 Axes>"
            ]
          },
          "metadata": {
            "needs_background": "light"
          },
          "output_type": "display_data"
        }
      ],
      "source": [
        "for column in df_test[[i for i in list(df_test.columns) if 'input' in i]]:\n",
        "    df_test[column].where(~(df_test[column] < 0), other=0, inplace=True)\n",
        "df_test[[i for i in list(df_test.columns) if 'input' in i]].hist(bins=30, color = 'Grey', figsize = (25,20))\n",
        "plt.show()"
      ]
    },
    {
      "cell_type": "markdown",
      "metadata": {
        "id": "LPrJ-YKyrFZ8"
      },
      "source": [
        "Для двух переменных имеет смысл в обоих сетах ограничить верхний предел. Это rougher.input.floatbank11_xanthate (заменим на 10 всё, что больше 10 по аналогии с тем, как выглядит распределение переменной rougher.input.floatnabk10_xanthate) и rougher.input.feed_size (заменим на 200 всё, что больше 200):"
      ]
    },
    {
      "cell_type": "code",
      "execution_count": null,
      "metadata": {
        "id": "TMhdaTZgrFZ8",
        "outputId": "e334d5ae-0458-4826-b79b-64262fa5173a"
      },
      "outputs": [
        {
          "data": {
            "image/png": "[encoded data removed]",
            "text/plain": [
              "<Figure size 1440x360 with 2 Axes>"
            ]
          },
          "metadata": {
            "needs_background": "light"
          },
          "output_type": "display_data"
        },
        {
          "data": {
            "image/png": "[encoded data removed]",
            "text/plain": [
              "<Figure size 1440x360 with 2 Axes>"
            ]
          },
          "metadata": {
            "needs_background": "light"
          },
          "output_type": "display_data"
        }
      ],
      "source": [
        "df_train['rougher.input.floatbank11_xanthate'].where(~(df_train['rougher.input.floatbank11_xanthate'] > 10), \n",
        "                                                     other=10, inplace=True)\n",
        "df_train['rougher.input.feed_size'].where(~(df_train['rougher.input.feed_size'] > 200), \n",
        "                                                     other=200, inplace=True)\n",
        "df_train[['rougher.input.floatbank11_xanthate', 'rougher.input.feed_size']].hist(bins=30, color = 'Purple', figsize = (20,5))\n",
        "plt.show()\n",
        "\n",
        "df_test['rougher.input.floatbank11_xanthate'].where(~(df_test['rougher.input.floatbank11_xanthate'] > 10), \n",
        "                                                     other=10, inplace=True)\n",
        "df_test['rougher.input.feed_size'].where(~(df_test['rougher.input.feed_size'] > 200), \n",
        "                                                     other=200, inplace=True)\n",
        "df_test[['rougher.input.floatbank11_xanthate', 'rougher.input.feed_size']].hist(bins=30, color = 'Grey', figsize = (20,5))\n",
        "plt.show()"
      ]
    },
    {
      "cell_type": "markdown",
      "metadata": {
        "id": "yeuRllFGrFZ9"
      },
      "source": [
        "## Анализ данных"
      ]
    },
    {
      "cell_type": "markdown",
      "metadata": {
        "id": "39jXwZyLrFZ9"
      },
      "source": [
        "### Проанализируем концентрацию металлов на каждом этапе очистки\n",
        "Т.к. мы уже знаем, что средние переменных будут нестабильны из-за специфики распределения, возьмём более устойчивую к выбросам старистику - медиану."
      ]
    },
    {
      "cell_type": "code",
      "execution_count": null,
      "metadata": {
        "id": "FyXrQ48UrFZ9",
        "outputId": "e47d8069-aa7a-4b38-c11c-2c3fbe587f92"
      },
      "outputs": [
        {
          "data": {
            "text/html": [
              "<div>\n",
              "<style scoped>\n",
              "    .dataframe tbody tr th:only-of-type {\n",
              "        vertical-align: middle;\n",
              "    }\n",
              "\n",
              "    .dataframe tbody tr th {\n",
              "        vertical-align: top;\n",
              "    }\n",
              "\n",
              "    .dataframe thead th {\n",
              "        text-align: right;\n",
              "    }\n",
              "</style>\n",
              "<table border=\"1\" class=\"dataframe\">\n",
              "  <thead>\n",
              "    <tr style=\"text-align: right;\">\n",
              "      <th></th>\n",
              "      <th>stage</th>\n",
              "      <th>Au</th>\n",
              "      <th>Ag</th>\n",
              "      <th>Pb</th>\n",
              "    </tr>\n",
              "  </thead>\n",
              "  <tbody>\n",
              "    <tr>\n",
              "      <td>0</td>\n",
              "      <td>rougher.input.feed</td>\n",
              "      <td>8.125839</td>\n",
              "      <td>8.593574</td>\n",
              "      <td>3.534895</td>\n",
              "    </tr>\n",
              "    <tr>\n",
              "      <td>1</td>\n",
              "      <td>rougher.output.concentrate</td>\n",
              "      <td>20.280214</td>\n",
              "      <td>12.098115</td>\n",
              "      <td>7.742580</td>\n",
              "    </tr>\n",
              "    <tr>\n",
              "      <td>2</td>\n",
              "      <td>primary_cleaner.output.concentrate</td>\n",
              "      <td>32.841295</td>\n",
              "      <td>8.507298</td>\n",
              "      <td>10.152433</td>\n",
              "    </tr>\n",
              "    <tr>\n",
              "      <td>3</td>\n",
              "      <td>final.output.concentrate_au</td>\n",
              "      <td>45.011244</td>\n",
              "      <td>5.066094</td>\n",
              "      <td>10.102433</td>\n",
              "    </tr>\n",
              "  </tbody>\n",
              "</table>\n",
              "</div>"
            ],
            "text/plain": [
              "                                stage         Au         Ag         Pb\n",
              "0                  rougher.input.feed   8.125839   8.593574   3.534895\n",
              "1          rougher.output.concentrate  20.280214  12.098115   7.742580\n",
              "2  primary_cleaner.output.concentrate  32.841295   8.507298  10.152433\n",
              "3         final.output.concentrate_au  45.011244   5.066094  10.102433"
            ]
          },
          "metadata": {},
          "output_type": "display_data"
        },
        {
          "data": {
            "image/png": "[encoded data removed]",
            "text/plain": [
              "<Figure size 1080x504 with 1 Axes>"
            ]
          },
          "metadata": {
            "needs_background": "light"
          },
          "output_type": "display_data"
        }
      ],
      "source": [
        "concentrations= pd.DataFrame({'stage': ['rougher.input.feed',\n",
        "                                        'rougher.output.concentrate',\n",
        "                                        'primary_cleaner.output.concentrate',\n",
        "                                        'final.output.concentrate_au'],\n",
        "              'Au': [df_full['rougher.input.feed_au'].median(),\n",
        "                       df_full['rougher.output.concentrate_au'].median(),\n",
        "                       df_full['primary_cleaner.output.concentrate_au'].median(),\n",
        "                    df_full['final.output.concentrate_au'].median()],\n",
        "              'Ag': [df_full['rougher.input.feed_ag'].median(),\n",
        "                       df_full['rougher.output.concentrate_ag'].median(),\n",
        "                       df_full['primary_cleaner.output.concentrate_ag'].median(),\n",
        "                    df_full['final.output.concentrate_ag'].median()],\n",
        "              'Pb': [df_full['rougher.input.feed_pb'].median(),\n",
        "                       df_full['rougher.output.concentrate_pb'].median(),\n",
        "                       df_full['primary_cleaner.output.concentrate_pb'].median(),\n",
        "                    df_full['final.output.concentrate_pb'].median()]})\n",
        "display(concentrations)\n",
        "\n",
        "concentrations.plot(figsize=(15, 7), color=[\"purple\", 'grey', 'black'])\n",
        "\n",
        "plt.title('Изменение концентрации металлов на каждом этапе очистки')\n",
        "plt.ylabel('концентрация металла, предположительно в %')\n",
        "plt.xlabel('этап очистки')\n",
        "plt.xticks([0, 1, 2, 3], ['сырье', 'первичная очистка', 'вторичная очистка', 'результат'])\n",
        "plt.show()"
      ]
    },
    {
      "cell_type": "markdown",
      "metadata": {
        "id": "xCeKE0kXrFZ9"
      },
      "source": [
        "Вывод: концентрация золота увеличивается примерно в 5 раз, что в целом и является смыслом всего производственного процесса. Однако мы видим, что результат не 100%. Одновременно с золотом повышается и концентрация свинца, но массовая доля данного металла не превышает 10% в итоговом проукте. Очистка успешно справляется с серебром концентрация которого снижается примерно в 2 раза и не превышает 5%."
      ]
    },
    {
      "cell_type": "markdown",
      "metadata": {
        "id": "f0kj0H7erFZ9"
      },
      "source": [
        "### Сравним размеры гранул сырья на обучающей и тестовой выборках\n",
        "Нам необходимо обеспечить однородность выборки тестовых и обучающих данных. Различия возможны, но они должны быть несущественны."
      ]
    },
    {
      "cell_type": "code",
      "execution_count": null,
      "metadata": {
        "id": "_7MZJkHLrFZ-",
        "outputId": "7afc4716-058e-45ca-8338-47dd83965c5b"
      },
      "outputs": [
        {
          "data": {
            "image/png": "[encoded data removed]",
            "text/plain": [
              "<Figure size 1080x360 with 2 Axes>"
            ]
          },
          "metadata": {
            "needs_background": "light"
          },
          "output_type": "display_data"
        }
      ],
      "source": [
        "fig, axs = plt.subplots(1, 2, figsize=(15, 5))\n",
        "\n",
        "axs[0].set_title('размер гранул сырья в тренировочном сете')\n",
        "axs[0].hist(df_train['rougher.input.feed_size'], bins = 150, color='purple')\n",
        "axs[1].set_title('размер гранул сырья в тестовом сете')\n",
        "axs[1].hist(df_test['rougher.input.feed_size'], bins = 150, color='grey')\n",
        "\n",
        "plt.show()"
      ]
    },
    {
      "cell_type": "markdown",
      "metadata": {
        "id": "-ghCF2BMrFZ-"
      },
      "source": [
        "Данные визуально схожи: в основном значения сконцентрированы вокруг пика в 50 единиц, после 100 единиц объем данных существенно сокращается. Проверим гипотезу об отсутствии различий t-тестом:"
      ]
    },
    {
      "cell_type": "code",
      "execution_count": null,
      "metadata": {
        "id": "NWdmAXvlrFZ-",
        "outputId": "f5774b93-a615-4d03-c33a-74802180e125"
      },
      "outputs": [
        {
          "name": "stdout",
          "output_type": "stream",
          "text": [
            "2.836725980242098e-40\n",
            "Размеры гранул в train и test значимо отличаются\n"
          ]
        }
      ],
      "source": [
        "_, p_value = st.ttest_ind(df_train['rougher.input.feed_size'], df_test['rougher.input.feed_size'], equal_var=False)\n",
        "alpha = 0.05\n",
        "\n",
        "print(p_value)\n",
        "if p_value > alpha:\n",
        "    print('Размеры гранул в train и test не отличаются')\n",
        "else:\n",
        "    print('Размеры гранул в train и test значимо отличаются')"
      ]
    },
    {
      "cell_type": "code",
      "execution_count": null,
      "metadata": {
        "id": "YzgYvsRqrFZ-",
        "outputId": "937e5607-4c88-44db-d84d-f9ce44c2b060"
      },
      "outputs": [
        {
          "name": "stdout",
          "output_type": "stream",
          "text": [
            "count    14149.000000\n",
            "mean        59.506448\n",
            "std         18.948466\n",
            "min          0.000000\n",
            "25%         48.889202\n",
            "50%         55.283606\n",
            "75%         66.037014\n",
            "max        200.000000\n",
            "Name: rougher.input.feed_size, dtype: float64\n"
          ]
        },
        {
          "data": {
            "text/plain": [
              "count    5290.000000\n",
              "mean       55.762999\n",
              "std        16.801783\n",
              "min         0.046369\n",
              "25%        43.906504\n",
              "50%        50.846843\n",
              "75%        62.451165\n",
              "max       200.000000\n",
              "Name: rougher.input.feed_size, dtype: float64"
            ]
          },
          "execution_count": 25,
          "metadata": {},
          "output_type": "execute_result"
        }
      ],
      "source": [
        "print(df_train['rougher.input.feed_size'].describe())\n",
        "df_test['rougher.input.feed_size'].describe()"
      ]
    },
    {
      "cell_type": "markdown",
      "metadata": {
        "id": "bT7bx_38rFZ-"
      },
      "source": [
        "Вывод: отличия, безусловно, есть (гранулы тестовой выборки на 10% меньше), и разница статистически значима, однако у нас есть экспертная оценка такой разницы как незначимой, т.к. полученные данные на каждом замере есть усреднённое крайне разбросанных значений."
      ]
    },
    {
      "cell_type": "markdown",
      "metadata": {
        "id": "OlKCq1a7rFZ-"
      },
      "source": [
        "### Суммарная концентрация всех веществ"
      ]
    },
    {
      "cell_type": "code",
      "execution_count": null,
      "metadata": {
        "id": "wkpn2H2mrFZ_",
        "outputId": "4cb2d745-5b83-4eaf-ed9d-74c925a6972c"
      },
      "outputs": [
        {
          "data": {
            "image/png": "[encoded data removed]",
            "text/plain": [
              "<Figure size 1080x360 with 1 Axes>"
            ]
          },
          "metadata": {
            "needs_background": "light"
          },
          "output_type": "display_data"
        }
      ],
      "source": [
        "df_full['final.output.concentrate'] = (\n",
        "    df_full['final.output.concentrate_ag'] +\n",
        "    df_full['final.output.concentrate_pb'] +\n",
        "    df_full['final.output.concentrate_sol'] +\n",
        "    df_full['final.output.concentrate_au'])\n",
        "            \n",
        "df_full['primary_cleaner.output.concentrate'] = (df_full['primary_cleaner.output.concentrate_ag'] +\n",
        "                                                df_full['primary_cleaner.output.concentrate_pb'] +\n",
        "                                                df_full['primary_cleaner.output.concentrate_sol'] +\n",
        "                                                df_full['primary_cleaner.output.concentrate_au'])\n",
        "        \n",
        "df_full['rougher.output.concentrate'] = (df_full['rougher.output.concentrate_ag'] +\n",
        "                                        df_full['rougher.output.concentrate_pb'] +\n",
        "                                        df_full['rougher.output.concentrate_sol'] +\n",
        "                                        df_full['rougher.output.concentrate_au'])\n",
        "            \n",
        "df_full['final.output.concentrate'].hist(bins = 100, color='purple', alpha = 0.5, figsize=(15, 5))\n",
        "df_full['primary_cleaner.output.concentrate'].hist(bins = 100, color='grey', alpha = 0.5, figsize=(15, 5))\n",
        "df_full['rougher.output.concentrate'].hist(bins = 100, color='black', alpha = 0.5, figsize=(15, 5))\n",
        "plt.title('Суммарная концентрация веществ на каждом этапе очи')\n",
        "labels= [\"итоговая\",\"после первичной очистки\", \"после обработки сырья\"]\n",
        "plt.legend(labels)\n",
        "plt.show()"
      ]
    },
    {
      "cell_type": "markdown",
      "metadata": {
        "id": "fmDYdIH7rFZ_"
      },
      "source": [
        "Суммарно концентрация после трёх этапов не приближается к 100%. Однако её дисперсия существенно сокращается, поэтому в целом мы получаем меньший разброс значений. Также мы помним, что концентрация золота всё-таки повышается, что говорит об эффективности технологии в целом.\n",
        "\n",
        "На графике мы видим нулевые суммарные концентрации веществ, что, скорее всего, является ошибкой, т.к. такие частицы в обработку не поступают. Удалим аномалии (нулевые суммарные концентрации) из обеих выборок."
      ]
    },
    {
      "cell_type": "code",
      "execution_count": null,
      "metadata": {
        "id": "EBUFBr-xrFZ_",
        "outputId": "6b23af7b-de43-4c1f-8b53-742d59ba76eb"
      },
      "outputs": [
        {
          "name": "stdout",
          "output_type": "stream",
          "text": [
            "13725\n"
          ]
        },
        {
          "data": {
            "text/plain": [
              "5123"
            ]
          },
          "execution_count": 27,
          "metadata": {},
          "output_type": "execute_result"
        }
      ],
      "source": [
        "df_train = df_train[~df_train['date'].isin(list(df_full[df_full['final.output.concentrate'] == 0]['date']))]\n",
        "df_test = df_test[~df_test['date'].isin(list(df_full[df_full['final.output.concentrate'] == 0]['date']))]\n",
        "\n",
        "df_train = df_train[~df_train['date'].isin(list(df_full[df_full['primary_cleaner.output.concentrate'] == 0]['date']))]\n",
        "df_test = df_test[~df_test['date'].isin(list(df_full[df_full['primary_cleaner.output.concentrate'] == 0]['date']))]\n",
        "\n",
        "df_train = df_train[~df_train['date'].isin(list(df_full[df_full['rougher.output.concentrate'] == 0]['date']))]\n",
        "df_test = df_test[~df_test['date'].isin(list(df_full[df_full['rougher.output.concentrate'] == 0]['date']))]\n",
        "\n",
        "print(len(df_train))\n",
        "len(df_test)"
      ]
    },
    {
      "cell_type": "markdown",
      "metadata": {
        "id": "uGLGGMu2rFZ_"
      },
      "source": [
        "Вывод: мы удалили 3% наблюдений по причине крайне странных нулевых значений суммарных концентраций металлов, что говорит об ошибках наблюдения. В тренировочной выборке осталось 13 725 случаев, в тестовой - 5 123."
      ]
    },
    {
      "cell_type": "markdown",
      "metadata": {
        "id": "3zJAyxHirFZ_"
      },
      "source": [
        "## Модель"
      ]
    },
    {
      "cell_type": "markdown",
      "metadata": {
        "id": "CqCJf9dOrFZ_"
      },
      "source": [
        "Для реализации проекта необходимо спрогнозировать сразу две величины:\n",
        "эффективность обогащения чернового концентрата rougher.output.recovery;\n",
        "эффективность обогащения финального концентрата final.output.recovery.\n",
        "\n",
        "### Вычисление итоговой sMAPE: функции"
      ]
    },
    {
      "cell_type": "markdown",
      "metadata": {
        "id": "7NwTecvdrFZ_"
      },
      "source": [
        "Создадим функции для расчёта симметричной средней абсолютной ошибка в процентах для обоих предсказываемых признаков:"
      ]
    },
    {
      "cell_type": "code",
      "execution_count": null,
      "metadata": {
        "id": "2bundRvVrFaA"
      },
      "outputs": [],
      "source": [
        "def smape(y_true, y_pred):\n",
        "    error = abs(y_true - y_pred)\n",
        "    scale = (abs(y_true) + abs(y_pred)) / 2\n",
        "    result = (error / scale).mean()\n",
        "    return result"
      ]
    },
    {
      "cell_type": "markdown",
      "metadata": {
        "id": "2l_syBYJrFaA"
      },
      "source": [
        "### Подготовим данные для построения моделей:"
      ]
    },
    {
      "cell_type": "code",
      "execution_count": null,
      "metadata": {
        "id": "YIAG9t4lrFaA"
      },
      "outputs": [],
      "source": [
        "X_rougher = df_train.drop(['date', 'rougher.output.recovery', 'final.output.recovery'], axis=1)\n",
        "y_rougher = df_train['rougher.output.recovery']\n",
        "\n",
        "X_final = df_train.drop(['date', 'rougher.output.recovery', 'final.output.recovery'], axis=1)\n",
        "y_final = df_train['final.output.recovery']\n",
        "\n",
        "X_rougher_test = df_test.drop(['date', 'rougher.output.recovery', 'final.output.recovery'], axis=1)\n",
        "y_rougher_test = df_test['rougher.output.recovery']\n",
        "\n",
        "X_final_test = df_test.drop(['date', 'rougher.output.recovery', 'final.output.recovery'], axis=1)\n",
        "y_final_test = df_test['final.output.recovery']\n",
        "\n",
        "\n",
        "scaler = StandardScaler()\n",
        "X_rougher = scaler.fit_transform(X_rougher)\n",
        "X_final = scaler.fit_transform(X_final)\n",
        "X_rougher_test = scaler.fit_transform(X_rougher_test)\n",
        "X_final_test = scaler.fit_transform(X_final_test)"
      ]
    },
    {
      "cell_type": "markdown",
      "metadata": {
        "id": "XhnTfLt4rFaB"
      },
      "source": [
        "Масштабирование признаков необходимо, т.к. они имеют очень разную размерность и все они преимущественно количественные. Чтобы модель не отдавала предпочтение признакам с большим разбросом, мы прибегли к масштабированию."
      ]
    },
    {
      "cell_type": "markdown",
      "metadata": {
        "id": "Qquaf9PBrFaB"
      },
      "source": [
        "Обучим 3 модели и рассчитаем ключевую метрику sMAPE для каждой из них."
      ]
    },
    {
      "cell_type": "code",
      "execution_count": null,
      "metadata": {
        "id": "Fig3V7dqrFaB",
        "outputId": "eae290d7-5dfc-45f8-cee9-31b749a620ac"
      },
      "outputs": [
        {
          "data": {
            "text/html": [
              "<div>\n",
              "<style scoped>\n",
              "    .dataframe tbody tr th:only-of-type {\n",
              "        vertical-align: middle;\n",
              "    }\n",
              "\n",
              "    .dataframe tbody tr th {\n",
              "        vertical-align: top;\n",
              "    }\n",
              "\n",
              "    .dataframe thead th {\n",
              "        text-align: right;\n",
              "    }\n",
              "</style>\n",
              "<table border=\"1\" class=\"dataframe\">\n",
              "  <thead>\n",
              "    <tr style=\"text-align: right;\">\n",
              "      <th></th>\n",
              "      <th>model name</th>\n",
              "      <th>cross_val_score_rougher</th>\n",
              "      <th>cross_val_score_final</th>\n",
              "      <th>cross_val_score_total</th>\n",
              "    </tr>\n",
              "  </thead>\n",
              "  <tbody>\n",
              "    <tr>\n",
              "      <td>0</td>\n",
              "      <td>DecisionTreeRegressor</td>\n",
              "      <td>-0.074762</td>\n",
              "      <td>-0.131025</td>\n",
              "      <td>-0.116959</td>\n",
              "    </tr>\n",
              "    <tr>\n",
              "      <td>1</td>\n",
              "      <td>RandomForestRegressor</td>\n",
              "      <td>-0.053982</td>\n",
              "      <td>-0.090645</td>\n",
              "      <td>-0.081480</td>\n",
              "    </tr>\n",
              "    <tr>\n",
              "      <td>2</td>\n",
              "      <td>LinearRegression</td>\n",
              "      <td>-0.056499</td>\n",
              "      <td>-0.099111</td>\n",
              "      <td>-0.088458</td>\n",
              "    </tr>\n",
              "  </tbody>\n",
              "</table>\n",
              "</div>"
            ],
            "text/plain": [
              "              model name  cross_val_score_rougher  cross_val_score_final  \\\n",
              "0  DecisionTreeRegressor                -0.074762              -0.131025   \n",
              "1  RandomForestRegressor                -0.053982              -0.090645   \n",
              "2       LinearRegression                -0.056499              -0.099111   \n",
              "\n",
              "   cross_val_score_total  \n",
              "0              -0.116959  \n",
              "1              -0.081480  \n",
              "2              -0.088458  "
            ]
          },
          "execution_count": 30,
          "metadata": {},
          "output_type": "execute_result"
        }
      ],
      "source": [
        "models = [DecisionTreeRegressor(random_state = 42), \n",
        "          RandomForestRegressor(random_state = 42), \n",
        "          LinearRegression()]\n",
        "\n",
        "\n",
        "results_cross_val = []\n",
        "\n",
        "for model in models: \n",
        "    \n",
        "    cross_val_score_rougher = cross_val_score(model, \n",
        "                                              X_rougher, \n",
        "                                              y_rougher, \n",
        "                                              cv=30,\n",
        "                                              scoring = make_scorer(smape, greater_is_better=False)).mean()\n",
        "    cross_val_score_final = cross_val_score(model, \n",
        "                                            X_final, \n",
        "                                            y_final, \n",
        "                                            cv=30,\n",
        "                                            scoring = make_scorer(smape, greater_is_better=False)).mean()\n",
        "\n",
        "    results_cross_val.append({'model name': model.__class__.__name__, \n",
        "                              'cross_val_score_rougher': cross_val_score_rougher, \n",
        "                              'cross_val_score_final': cross_val_score_final,\n",
        "                              'cross_val_score_total': cross_val_score_rougher*0.25 + cross_val_score_final*0.75}) \n",
        "              \n",
        "pd.DataFrame(results_cross_val)"
      ]
    },
    {
      "cell_type": "code",
      "execution_count": null,
      "metadata": {
        "id": "zeSJczdGrFaB",
        "outputId": "29d345cd-9d47-45b2-f20f-be0b9615d619"
      },
      "outputs": [
        {
          "name": "stdout",
          "output_type": "stream",
          "text": [
            "Минимальное значение итоговой sMAPE: 0.08147957772033632\n",
            "Его показала модель: RandomForestRegressor\n"
          ]
        }
      ],
      "source": [
        "tb = pd.DataFrame(results_cross_val)\n",
        "print('Минимальное значение итоговой sMAPE:', abs(tb['cross_val_score_total']).min())\n",
        "print('Его показала модель:', tb[abs(tb['cross_val_score_total']) == abs(tb['cross_val_score_total']).min()]['model name'][1])"
      ]
    },
    {
      "cell_type": "markdown",
      "metadata": {
        "id": "GGJKj-MtrFaB"
      },
      "source": [
        "Наилучшими показателями обладает модель случайного леса, т.к. размеры средней оценки качества наиболее близки к нулю, а значение эффективности обогащения финального концентрата для нас имеет большее значение, чем эффективность обогащения чернового. Cимметричная средняя абсолютная ошибка в процентах для случайного леса - 8%."
      ]
    },
    {
      "cell_type": "markdown",
      "metadata": {
        "id": "BKY8vpSGrFaC"
      },
      "source": [
        "### Проверка лучшей модели на тестовой выборке"
      ]
    },
    {
      "cell_type": "markdown",
      "metadata": {
        "id": "xN_mxpYtrFaC"
      },
      "source": [
        "Проверим значение ключевого показателя - sMAPE - для модели случайного леса на тестовой выборке."
      ]
    },
    {
      "cell_type": "code",
      "execution_count": null,
      "metadata": {
        "id": "FAf2F7EPrFaC",
        "outputId": "3720d735-33e7-4966-b2a2-ca7f5db3cf0b"
      },
      "outputs": [
        {
          "name": "stdout",
          "output_type": "stream",
          "text": [
            "Значение итоговой sMAPE на тестовой выборке: -0.06765340651177208\n"
          ]
        }
      ],
      "source": [
        "cross_val_score_rougher = cross_val_score(RandomForestRegressor(random_state = 42), \n",
        "                                          X_rougher_test, \n",
        "                                          y_rougher_test, \n",
        "                                          cv=30,\n",
        "                                          scoring = make_scorer(smape, greater_is_better=False)).mean()\n",
        "cross_val_score_final = cross_val_score(RandomForestRegressor(random_state = 42), \n",
        "                                        X_final_test, \n",
        "                                        y_final_test, \n",
        "                                        cv=30,\n",
        "                                        scoring = make_scorer(smape, greater_is_better=False)).mean()\n",
        "\n",
        "print('Значение итоговой sMAPE на тестовой выборке:', cross_val_score_rougher * 0.25 + cross_val_score_final * 0.75)"
      ]
    },
    {
      "cell_type": "markdown",
      "metadata": {
        "id": "XTRW09C3rFaC"
      },
      "source": [
        "Вывод: разница между метриками тестовой и тренировочной выборки несущественная, величина симметричной абсолютной ошибки небольшая. Мы получили 8% на тренировочной выборке и 7% - на тестовой, что говорит о том, что мы получили значимую модель, которая устойчиво предсказывает эффективность обогащения по входным данным.\n",
        "\n",
        "Проверим, насколько полученная модель лучше того, что можно было бы получить без модели.\n",
        "\n",
        "### Оценка успешности выбранной модели"
      ]
    },
    {
      "cell_type": "code",
      "execution_count": null,
      "metadata": {
        "id": "3TuWXajDrFaC",
        "outputId": "641c0f1e-d098-43e4-e131-bad60d214089"
      },
      "outputs": [
        {
          "name": "stdout",
          "output_type": "stream",
          "text": [
            "sMAPE простой медианы для промежуточного результата: 0.048090330660298004\n",
            "sMAPE простой медианы для конечного результата: 0.08222545492433414\n",
            "Итоговая sMAPE простой медианы: 0.0736916738583251\n"
          ]
        }
      ],
      "source": [
        "dummy_regressor_rougher = DummyRegressor(strategy=\"median\").fit(X_rougher, y_rougher)\n",
        "y_rougher_predicted_by_median = dummy_regressor_rougher.predict(X_rougher_test)\n",
        "print('sMAPE простой медианы для промежуточного результата:', smape(y_rougher_test, y_rougher_predicted_by_median))\n",
        "\n",
        "dummy_regressor_final = DummyRegressor(strategy=\"median\").fit(X_final, y_final)\n",
        "y_final_predicted_by_median = dummy_regressor_final.predict(X_final_test)\n",
        "print('sMAPE простой медианы для конечного результата:', smape(y_final_test, y_final_predicted_by_median))\n",
        "\n",
        "print('Итоговая sMAPE простой медианы:',\n",
        "      smape(y_rougher_test, y_rougher_predicted_by_median) * 0.25 + smape(y_final_test, y_final_predicted_by_median) * 0.75)"
      ]
    },
    {
      "cell_type": "markdown",
      "metadata": {
        "id": "ellkTZbBrFaD"
      },
      "source": [
        "## Вывод\n",
        "Эффективность модели по показателю итоговой sMAPE не отличается от подстановки простых медиан, что можно сделать и без регрессии. Редуцирование большого количества признаков до неболшого числа факторов (см. следующий блок кода) также не даёт результата в приближении sMAPE к нулю, т.е. анализ принципиальных компонентов также не улучшает качество модели. Необходимо дальнейшее исследование факторов для построения более точной модели. "
      ]
    },
    {
      "cell_type": "code",
      "execution_count": null,
      "metadata": {
        "id": "vcua-GwGrFaD",
        "outputId": "5061cb23-f383-46a3-c1aa-0d9367c4b427"
      },
      "outputs": [
        {
          "name": "stdout",
          "output_type": "stream",
          "text": [
            "Значение итоговой sMAPE на тренировочной выборке по пяти факторам: -0.10606095885156085\n"
          ]
        }
      ],
      "source": [
        "from sklearn.decomposition import PCA\n",
        "\n",
        "\n",
        "PC_rougher=PCA(n_components=5).fit_transform(X_rougher)\n",
        "cross_val_score_rougher = cross_val_score(RandomForestRegressor(random_state = 42), \n",
        "                                          pd.DataFrame(data=PC_rougher), \n",
        "                                          y_rougher, \n",
        "                                          cv=10,\n",
        "                                          scoring = make_scorer(smape, greater_is_better=False)).mean()\n",
        "\n",
        "PC_final=PCA(n_components=5).fit_transform(X_final)\n",
        "cross_val_score_final = cross_val_score(RandomForestRegressor(random_state = 42), \n",
        "                                        pd.DataFrame(data=PC_final), \n",
        "                                        y_final, \n",
        "                                        cv=10,\n",
        "                                        scoring = make_scorer(smape, greater_is_better=False)).mean()\n",
        "\n",
        "print('Значение итоговой sMAPE на тренировочной выборке по пяти факторам:',\n",
        "      cross_val_score_rougher * 0.25 + cross_val_score_final * 0.75)"
      ]
    }
  ],
  "metadata": {
    "ExecuteTimeLog": [
      {
        "duration": 1703,
        "start_time": "2021-12-25T16:51:47.056Z"
      },
      {
        "duration": 5,
        "start_time": "2021-12-25T16:52:04.999Z"
      },
      {
        "duration": 5,
        "start_time": "2021-12-25T16:58:17.251Z"
      },
      {
        "duration": 791,
        "start_time": "2021-12-25T16:58:48.150Z"
      },
      {
        "duration": 494,
        "start_time": "2021-12-25T16:59:34.802Z"
      },
      {
        "duration": 470,
        "start_time": "2021-12-25T16:59:47.244Z"
      },
      {
        "duration": 494,
        "start_time": "2021-12-25T17:01:09.388Z"
      },
      {
        "duration": 3701,
        "start_time": "2021-12-25T17:01:46.034Z"
      },
      {
        "duration": 352,
        "start_time": "2021-12-25T17:02:04.204Z"
      },
      {
        "duration": 122,
        "start_time": "2021-12-25T17:02:28.246Z"
      },
      {
        "duration": 118,
        "start_time": "2021-12-25T17:36:20.396Z"
      },
      {
        "duration": 9475,
        "start_time": "2021-12-25T17:38:58.869Z"
      },
      {
        "duration": 10634,
        "start_time": "2021-12-25T17:39:55.129Z"
      },
      {
        "duration": 10,
        "start_time": "2021-12-25T17:40:46.530Z"
      },
      {
        "duration": 9923,
        "start_time": "2021-12-25T17:40:58.921Z"
      },
      {
        "duration": 11,
        "start_time": "2021-12-25T17:41:23.610Z"
      },
      {
        "duration": 10,
        "start_time": "2021-12-25T17:41:44.218Z"
      },
      {
        "duration": 25,
        "start_time": "2021-12-25T17:42:19.547Z"
      },
      {
        "duration": 118,
        "start_time": "2021-12-25T17:47:36.366Z"
      },
      {
        "duration": 5,
        "start_time": "2021-12-25T17:47:52.753Z"
      },
      {
        "duration": 149,
        "start_time": "2021-12-25T17:49:05.858Z"
      },
      {
        "duration": 7,
        "start_time": "2021-12-25T17:49:15.058Z"
      },
      {
        "duration": 135,
        "start_time": "2021-12-25T17:53:03.226Z"
      },
      {
        "duration": 116,
        "start_time": "2021-12-25T17:53:13.695Z"
      },
      {
        "duration": 143,
        "start_time": "2021-12-25T17:53:44.835Z"
      },
      {
        "duration": 6,
        "start_time": "2021-12-25T17:53:59.722Z"
      },
      {
        "duration": 6,
        "start_time": "2021-12-25T17:54:09.083Z"
      },
      {
        "duration": 6,
        "start_time": "2021-12-25T17:54:19.179Z"
      },
      {
        "duration": 345,
        "start_time": "2021-12-26T15:05:44.823Z"
      },
      {
        "duration": 1226,
        "start_time": "2021-12-26T15:06:18.945Z"
      },
      {
        "duration": 401,
        "start_time": "2021-12-26T15:06:20.173Z"
      },
      {
        "duration": 296,
        "start_time": "2021-12-26T15:06:20.576Z"
      },
      {
        "duration": 102,
        "start_time": "2021-12-26T15:06:20.874Z"
      },
      {
        "duration": 21,
        "start_time": "2021-12-26T15:06:20.977Z"
      },
      {
        "duration": 4,
        "start_time": "2021-12-26T15:06:21.000Z"
      },
      {
        "duration": 5,
        "start_time": "2021-12-26T15:06:26.378Z"
      },
      {
        "duration": 5,
        "start_time": "2021-12-26T15:06:40.175Z"
      },
      {
        "duration": 153,
        "start_time": "2021-12-26T15:07:18.559Z"
      },
      {
        "duration": 4,
        "start_time": "2021-12-26T15:07:32.695Z"
      },
      {
        "duration": 5,
        "start_time": "2021-12-26T15:07:57.143Z"
      },
      {
        "duration": 5,
        "start_time": "2021-12-26T15:08:56.943Z"
      },
      {
        "duration": 5,
        "start_time": "2021-12-26T15:10:06.640Z"
      },
      {
        "duration": 7,
        "start_time": "2021-12-26T15:10:26.439Z"
      },
      {
        "duration": 7,
        "start_time": "2021-12-26T15:11:01.431Z"
      },
      {
        "duration": 24,
        "start_time": "2021-12-26T15:37:56.137Z"
      },
      {
        "duration": 22,
        "start_time": "2021-12-26T15:38:10.769Z"
      },
      {
        "duration": 168,
        "start_time": "2021-12-26T15:38:34.562Z"
      },
      {
        "duration": 115,
        "start_time": "2021-12-26T15:41:30.314Z"
      },
      {
        "duration": 3297,
        "start_time": "2021-12-26T15:41:39.931Z"
      },
      {
        "duration": 2178,
        "start_time": "2021-12-26T15:42:14.362Z"
      },
      {
        "duration": 652,
        "start_time": "2021-12-26T15:43:15.339Z"
      },
      {
        "duration": 830,
        "start_time": "2021-12-26T15:46:00.970Z"
      },
      {
        "duration": 601,
        "start_time": "2021-12-26T16:00:31.984Z"
      },
      {
        "duration": 835,
        "start_time": "2021-12-26T16:00:50.844Z"
      },
      {
        "duration": 556,
        "start_time": "2021-12-27T02:57:59.914Z"
      },
      {
        "duration": 3962,
        "start_time": "2021-12-27T02:58:05.714Z"
      },
      {
        "duration": 392,
        "start_time": "2021-12-27T02:58:09.678Z"
      },
      {
        "duration": 291,
        "start_time": "2021-12-27T02:58:10.072Z"
      },
      {
        "duration": 99,
        "start_time": "2021-12-27T02:58:10.365Z"
      },
      {
        "duration": 23,
        "start_time": "2021-12-27T02:58:10.466Z"
      },
      {
        "duration": 4,
        "start_time": "2021-12-27T02:58:10.490Z"
      },
      {
        "duration": 327,
        "start_time": "2021-12-27T02:58:12.654Z"
      },
      {
        "duration": 8,
        "start_time": "2021-12-27T02:58:19.638Z"
      },
      {
        "duration": 6,
        "start_time": "2021-12-27T11:02:05.563Z"
      },
      {
        "duration": 7,
        "start_time": "2021-12-27T11:02:13.948Z"
      },
      {
        "duration": 25,
        "start_time": "2021-12-27T11:02:30.152Z"
      },
      {
        "duration": 33,
        "start_time": "2021-12-27T11:04:21.160Z"
      },
      {
        "duration": 249,
        "start_time": "2021-12-27T11:05:39.956Z"
      },
      {
        "duration": 239,
        "start_time": "2021-12-27T11:06:46.090Z"
      },
      {
        "duration": 6097,
        "start_time": "2021-12-27T11:08:25.432Z"
      },
      {
        "duration": 8,
        "start_time": "2021-12-27T11:09:02.633Z"
      },
      {
        "duration": 6578,
        "start_time": "2021-12-27T11:09:42.936Z"
      },
      {
        "duration": 25,
        "start_time": "2021-12-27T11:09:59.897Z"
      },
      {
        "duration": 5,
        "start_time": "2021-12-27T11:10:07.837Z"
      },
      {
        "duration": 11,
        "start_time": "2021-12-27T11:10:23.368Z"
      },
      {
        "duration": 18,
        "start_time": "2021-12-27T11:10:46.737Z"
      },
      {
        "duration": 19,
        "start_time": "2021-12-27T11:11:05.552Z"
      },
      {
        "duration": 13,
        "start_time": "2021-12-27T11:12:48.663Z"
      },
      {
        "duration": 8,
        "start_time": "2021-12-27T11:13:08.240Z"
      },
      {
        "duration": 8,
        "start_time": "2021-12-27T11:13:12.744Z"
      },
      {
        "duration": 9,
        "start_time": "2021-12-27T11:13:17.704Z"
      },
      {
        "duration": 8,
        "start_time": "2021-12-27T11:13:21.599Z"
      },
      {
        "duration": 13,
        "start_time": "2021-12-27T11:13:31.687Z"
      },
      {
        "duration": 23,
        "start_time": "2021-12-27T11:14:08.113Z"
      },
      {
        "duration": 12,
        "start_time": "2021-12-27T14:19:58.454Z"
      },
      {
        "duration": 12,
        "start_time": "2021-12-27T14:20:28.846Z"
      },
      {
        "duration": 31,
        "start_time": "2021-12-27T14:20:32.630Z"
      },
      {
        "duration": 11,
        "start_time": "2021-12-27T14:20:47.446Z"
      },
      {
        "duration": 27,
        "start_time": "2021-12-27T14:20:59.566Z"
      },
      {
        "duration": 12,
        "start_time": "2021-12-27T14:21:11.054Z"
      },
      {
        "duration": 5920,
        "start_time": "2021-12-27T14:21:23.542Z"
      },
      {
        "duration": 13,
        "start_time": "2021-12-27T14:21:34.638Z"
      },
      {
        "duration": 11,
        "start_time": "2021-12-27T14:22:39.590Z"
      },
      {
        "duration": 25,
        "start_time": "2021-12-27T14:22:46.494Z"
      },
      {
        "duration": 11,
        "start_time": "2021-12-27T14:23:04.175Z"
      },
      {
        "duration": 6,
        "start_time": "2021-12-27T14:24:46.182Z"
      },
      {
        "duration": 11,
        "start_time": "2021-12-27T14:25:04.286Z"
      },
      {
        "duration": 6,
        "start_time": "2021-12-27T14:25:08.462Z"
      },
      {
        "duration": 15,
        "start_time": "2021-12-27T14:25:29.174Z"
      },
      {
        "duration": 43,
        "start_time": "2021-12-27T14:27:13.375Z"
      },
      {
        "duration": 374,
        "start_time": "2021-12-27T14:27:56.647Z"
      },
      {
        "duration": 279,
        "start_time": "2021-12-27T14:28:05.854Z"
      },
      {
        "duration": 90,
        "start_time": "2021-12-27T14:28:20.975Z"
      },
      {
        "duration": 247,
        "start_time": "2021-12-27T14:31:49.727Z"
      },
      {
        "duration": 20,
        "start_time": "2021-12-27T14:32:03.255Z"
      },
      {
        "duration": 5,
        "start_time": "2021-12-27T14:32:08.031Z"
      },
      {
        "duration": 12,
        "start_time": "2021-12-27T14:32:11.423Z"
      },
      {
        "duration": 7,
        "start_time": "2021-12-27T14:32:33.575Z"
      },
      {
        "duration": 69,
        "start_time": "2021-12-27T14:33:19.999Z"
      },
      {
        "duration": 323,
        "start_time": "2021-12-27T14:33:30.039Z"
      },
      {
        "duration": 31,
        "start_time": "2021-12-27T14:33:51.343Z"
      },
      {
        "duration": 5926,
        "start_time": "2021-12-27T14:34:13.838Z"
      },
      {
        "duration": 76,
        "start_time": "2021-12-27T14:34:35.719Z"
      },
      {
        "duration": 4,
        "start_time": "2021-12-27T14:35:11.063Z"
      },
      {
        "duration": 5,
        "start_time": "2021-12-27T14:35:24.719Z"
      },
      {
        "duration": 8,
        "start_time": "2021-12-27T14:35:45.544Z"
      },
      {
        "duration": 7,
        "start_time": "2021-12-27T14:37:11.088Z"
      },
      {
        "duration": 7,
        "start_time": "2021-12-27T14:37:42.545Z"
      },
      {
        "duration": 6,
        "start_time": "2021-12-27T14:38:00.487Z"
      },
      {
        "duration": 5,
        "start_time": "2021-12-27T14:38:13.551Z"
      },
      {
        "duration": 6,
        "start_time": "2021-12-27T14:38:26.527Z"
      },
      {
        "duration": 5,
        "start_time": "2021-12-27T14:38:38.728Z"
      },
      {
        "duration": 5,
        "start_time": "2021-12-27T14:38:51.800Z"
      },
      {
        "duration": 5,
        "start_time": "2021-12-27T14:39:03.631Z"
      },
      {
        "duration": 7,
        "start_time": "2021-12-27T14:39:37.448Z"
      },
      {
        "duration": 7,
        "start_time": "2021-12-27T14:39:47.384Z"
      },
      {
        "duration": 4,
        "start_time": "2021-12-27T14:40:27.936Z"
      },
      {
        "duration": 7,
        "start_time": "2021-12-27T14:40:45.169Z"
      },
      {
        "duration": 36,
        "start_time": "2021-12-27T14:42:22.552Z"
      },
      {
        "duration": 25,
        "start_time": "2021-12-27T14:43:15.584Z"
      },
      {
        "duration": 35,
        "start_time": "2021-12-27T14:43:41.224Z"
      },
      {
        "duration": 31,
        "start_time": "2021-12-27T14:47:13.675Z"
      },
      {
        "duration": 24,
        "start_time": "2021-12-27T14:48:24.904Z"
      },
      {
        "duration": 71,
        "start_time": "2021-12-27T14:48:27.063Z"
      },
      {
        "duration": 632,
        "start_time": "2021-12-27T14:48:31.224Z"
      },
      {
        "duration": 633,
        "start_time": "2021-12-27T14:48:39.497Z"
      },
      {
        "duration": 171,
        "start_time": "2021-12-27T15:27:55.669Z"
      },
      {
        "duration": 274,
        "start_time": "2021-12-27T15:28:14.598Z"
      },
      {
        "duration": 225,
        "start_time": "2021-12-27T15:28:28.133Z"
      },
      {
        "duration": 171,
        "start_time": "2021-12-27T15:40:41.717Z"
      },
      {
        "duration": 8381,
        "start_time": "2021-12-27T15:42:53.665Z"
      },
      {
        "duration": 671,
        "start_time": "2021-12-27T15:43:30.085Z"
      },
      {
        "duration": 238,
        "start_time": "2021-12-27T15:48:15.302Z"
      },
      {
        "duration": 1533,
        "start_time": "2021-12-27T15:54:17.845Z"
      },
      {
        "duration": 670,
        "start_time": "2021-12-27T15:54:23.205Z"
      },
      {
        "duration": 271,
        "start_time": "2021-12-27T15:54:27.647Z"
      },
      {
        "duration": 250,
        "start_time": "2021-12-27T15:54:39.822Z"
      },
      {
        "duration": 9647,
        "start_time": "2021-12-27T15:55:17.470Z"
      },
      {
        "duration": 2050,
        "start_time": "2021-12-27T16:00:54.999Z"
      },
      {
        "duration": 7,
        "start_time": "2021-12-27T16:02:51.407Z"
      },
      {
        "duration": 7,
        "start_time": "2021-12-27T16:03:15.023Z"
      },
      {
        "duration": 8,
        "start_time": "2021-12-27T16:16:23.047Z"
      },
      {
        "duration": 16,
        "start_time": "2021-12-27T16:17:17.169Z"
      },
      {
        "duration": 86,
        "start_time": "2021-12-27T16:17:58.145Z"
      },
      {
        "duration": 28,
        "start_time": "2021-12-27T16:18:07.745Z"
      },
      {
        "duration": 876,
        "start_time": "2021-12-27T16:18:38.498Z"
      },
      {
        "duration": 257,
        "start_time": "2021-12-27T16:22:12.202Z"
      },
      {
        "duration": 16,
        "start_time": "2021-12-27T16:23:44.857Z"
      },
      {
        "duration": 5,
        "start_time": "2021-12-27T16:29:49.443Z"
      },
      {
        "duration": 244,
        "start_time": "2021-12-27T16:30:41.659Z"
      },
      {
        "duration": 291,
        "start_time": "2021-12-27T16:30:50.795Z"
      },
      {
        "duration": 481,
        "start_time": "2021-12-27T16:32:32.389Z"
      },
      {
        "duration": 281,
        "start_time": "2021-12-27T16:35:55.101Z"
      },
      {
        "duration": 261,
        "start_time": "2021-12-27T16:36:41.973Z"
      },
      {
        "duration": 267,
        "start_time": "2021-12-27T16:37:12.133Z"
      },
      {
        "duration": 353,
        "start_time": "2021-12-27T16:37:39.054Z"
      },
      {
        "duration": 282,
        "start_time": "2021-12-27T16:38:59.022Z"
      },
      {
        "duration": 1293,
        "start_time": "2021-12-27T16:49:17.542Z"
      },
      {
        "duration": 782,
        "start_time": "2021-12-27T16:52:38.676Z"
      },
      {
        "duration": 694,
        "start_time": "2021-12-27T16:52:54.856Z"
      },
      {
        "duration": 134,
        "start_time": "2021-12-27T16:57:10.417Z"
      },
      {
        "duration": 199,
        "start_time": "2021-12-27T17:02:59.881Z"
      },
      {
        "duration": 7122,
        "start_time": "2021-12-27T17:03:08.169Z"
      },
      {
        "duration": 9569,
        "start_time": "2021-12-27T17:04:10.801Z"
      },
      {
        "duration": 7932,
        "start_time": "2021-12-27T17:04:41.162Z"
      },
      {
        "duration": 8219,
        "start_time": "2021-12-27T17:04:56.546Z"
      },
      {
        "duration": 8661,
        "start_time": "2021-12-27T17:05:15.281Z"
      },
      {
        "duration": 5,
        "start_time": "2021-12-27T17:14:22.724Z"
      },
      {
        "duration": 5,
        "start_time": "2021-12-27T17:15:20.946Z"
      },
      {
        "duration": 5,
        "start_time": "2021-12-27T17:15:49.778Z"
      },
      {
        "duration": 254,
        "start_time": "2021-12-27T17:21:22.701Z"
      },
      {
        "duration": 249,
        "start_time": "2021-12-27T17:22:05.314Z"
      },
      {
        "duration": 6086,
        "start_time": "2021-12-27T17:22:23.068Z"
      },
      {
        "duration": 7,
        "start_time": "2021-12-27T17:22:39.595Z"
      },
      {
        "duration": 17,
        "start_time": "2021-12-27T17:28:28.465Z"
      },
      {
        "duration": 18,
        "start_time": "2021-12-27T17:29:11.537Z"
      },
      {
        "duration": 458,
        "start_time": "2021-12-27T17:29:33.185Z"
      },
      {
        "duration": 195,
        "start_time": "2021-12-27T17:29:46.581Z"
      },
      {
        "duration": 353,
        "start_time": "2021-12-27T17:31:42.821Z"
      },
      {
        "duration": 250,
        "start_time": "2021-12-27T17:33:44.156Z"
      },
      {
        "duration": 296,
        "start_time": "2021-12-27T17:39:22.878Z"
      },
      {
        "duration": 484,
        "start_time": "2021-12-28T15:56:53.455Z"
      },
      {
        "duration": 7367,
        "start_time": "2021-12-28T15:56:59.267Z"
      },
      {
        "duration": 491,
        "start_time": "2021-12-28T15:57:06.637Z"
      },
      {
        "duration": 385,
        "start_time": "2021-12-28T15:57:07.132Z"
      },
      {
        "duration": 140,
        "start_time": "2021-12-28T15:57:07.521Z"
      },
      {
        "duration": 37,
        "start_time": "2021-12-28T15:57:07.663Z"
      },
      {
        "duration": 6,
        "start_time": "2021-12-28T15:57:07.702Z"
      },
      {
        "duration": 53,
        "start_time": "2021-12-28T15:57:07.711Z"
      },
      {
        "duration": 12,
        "start_time": "2021-12-28T15:57:07.768Z"
      },
      {
        "duration": 82,
        "start_time": "2021-12-28T15:57:07.783Z"
      },
      {
        "duration": 53,
        "start_time": "2021-12-28T15:57:07.868Z"
      },
      {
        "duration": 70,
        "start_time": "2021-12-28T15:57:07.924Z"
      },
      {
        "duration": 141,
        "start_time": "2021-12-28T15:57:07.998Z"
      },
      {
        "duration": 981,
        "start_time": "2021-12-28T15:57:08.142Z"
      },
      {
        "duration": 1007,
        "start_time": "2021-12-28T15:57:09.125Z"
      },
      {
        "duration": 1735,
        "start_time": "2021-12-28T15:57:10.135Z"
      },
      {
        "duration": 246,
        "start_time": "2021-12-28T15:57:11.873Z"
      },
      {
        "duration": 17038,
        "start_time": "2021-12-28T15:57:12.122Z"
      },
      {
        "duration": 509,
        "start_time": "2021-12-28T15:57:29.164Z"
      },
      {
        "duration": 457,
        "start_time": "2021-12-28T15:57:48.506Z"
      },
      {
        "duration": 318,
        "start_time": "2021-12-28T15:57:58.102Z"
      },
      {
        "duration": 1144,
        "start_time": "2021-12-28T15:58:14.215Z"
      },
      {
        "duration": 1151,
        "start_time": "2021-12-28T15:58:29.158Z"
      },
      {
        "duration": 1298,
        "start_time": "2021-12-28T15:58:39.527Z"
      },
      {
        "duration": 918,
        "start_time": "2021-12-28T15:58:50.455Z"
      },
      {
        "duration": 560,
        "start_time": "2021-12-28T16:00:41.527Z"
      },
      {
        "duration": 593,
        "start_time": "2021-12-28T16:00:58.143Z"
      },
      {
        "duration": 142,
        "start_time": "2021-12-28T16:30:57.296Z"
      },
      {
        "duration": 134,
        "start_time": "2021-12-28T16:31:10.980Z"
      },
      {
        "duration": 29,
        "start_time": "2021-12-28T16:31:23.640Z"
      },
      {
        "duration": 40,
        "start_time": "2021-12-28T16:31:32.956Z"
      },
      {
        "duration": 81,
        "start_time": "2021-12-28T16:31:50.882Z"
      },
      {
        "duration": 79,
        "start_time": "2021-12-28T16:32:59.754Z"
      },
      {
        "duration": 5755,
        "start_time": "2021-12-28T16:34:01.059Z"
      },
      {
        "duration": 5346,
        "start_time": "2021-12-28T16:34:58.361Z"
      },
      {
        "duration": 30,
        "start_time": "2021-12-28T16:39:47.609Z"
      },
      {
        "duration": 222,
        "start_time": "2021-12-28T16:44:22.445Z"
      },
      {
        "duration": 9,
        "start_time": "2021-12-28T16:44:29.345Z"
      },
      {
        "duration": 8,
        "start_time": "2021-12-28T16:44:54.049Z"
      },
      {
        "duration": 79,
        "start_time": "2021-12-28T16:46:28.857Z"
      },
      {
        "duration": 120,
        "start_time": "2021-12-28T16:46:48.170Z"
      },
      {
        "duration": 9885,
        "start_time": "2021-12-28T16:49:09.314Z"
      },
      {
        "duration": 9875,
        "start_time": "2021-12-28T16:49:33.467Z"
      },
      {
        "duration": 11098,
        "start_time": "2021-12-28T16:50:08.546Z"
      },
      {
        "duration": 5316,
        "start_time": "2021-12-28T16:50:58.485Z"
      },
      {
        "duration": 536,
        "start_time": "2021-12-28T16:51:03.804Z"
      },
      {
        "duration": 416,
        "start_time": "2021-12-28T16:51:04.343Z"
      },
      {
        "duration": 136,
        "start_time": "2021-12-28T16:51:04.762Z"
      },
      {
        "duration": 38,
        "start_time": "2021-12-28T16:51:04.900Z"
      },
      {
        "duration": 6,
        "start_time": "2021-12-28T16:51:04.940Z"
      },
      {
        "duration": 23,
        "start_time": "2021-12-28T16:51:04.949Z"
      },
      {
        "duration": 11,
        "start_time": "2021-12-28T16:51:04.975Z"
      },
      {
        "duration": 57,
        "start_time": "2021-12-28T16:51:04.990Z"
      },
      {
        "duration": 56,
        "start_time": "2021-12-28T16:51:05.050Z"
      },
      {
        "duration": 53,
        "start_time": "2021-12-28T16:51:05.108Z"
      },
      {
        "duration": 128,
        "start_time": "2021-12-28T16:51:05.163Z"
      },
      {
        "duration": 1210,
        "start_time": "2021-12-28T16:51:05.293Z"
      },
      {
        "duration": 990,
        "start_time": "2021-12-28T16:51:06.505Z"
      },
      {
        "duration": 1725,
        "start_time": "2021-12-28T16:51:07.498Z"
      },
      {
        "duration": 252,
        "start_time": "2021-12-28T16:51:09.225Z"
      },
      {
        "duration": 16505,
        "start_time": "2021-12-28T16:51:09.480Z"
      },
      {
        "duration": 5808,
        "start_time": "2021-12-28T16:51:25.987Z"
      },
      {
        "duration": 10476,
        "start_time": "2021-12-28T16:51:55.036Z"
      },
      {
        "duration": 100,
        "start_time": "2021-12-28T16:52:28.036Z"
      },
      {
        "duration": 5419,
        "start_time": "2021-12-28T16:52:46.340Z"
      },
      {
        "duration": 5809,
        "start_time": "2021-12-28T16:54:49.308Z"
      },
      {
        "duration": 5368,
        "start_time": "2021-12-28T16:56:30.200Z"
      },
      {
        "duration": 1170,
        "start_time": "2021-12-28T17:01:20.686Z"
      },
      {
        "duration": 510,
        "start_time": "2021-12-28T17:01:34.588Z"
      },
      {
        "duration": 1083,
        "start_time": "2021-12-28T17:02:44.756Z"
      },
      {
        "duration": 1218,
        "start_time": "2021-12-28T17:03:06.701Z"
      },
      {
        "duration": 1429,
        "start_time": "2021-12-28T17:04:56.509Z"
      },
      {
        "duration": 3237,
        "start_time": "2021-12-28T17:05:36.166Z"
      },
      {
        "duration": 1594,
        "start_time": "2021-12-28T17:05:48.917Z"
      },
      {
        "duration": 12538,
        "start_time": "2021-12-28T17:07:25.636Z"
      },
      {
        "duration": 434,
        "start_time": "2021-12-28T17:08:53.201Z"
      },
      {
        "duration": 915,
        "start_time": "2021-12-28T17:09:02.669Z"
      },
      {
        "duration": 137,
        "start_time": "2021-12-28T17:16:18.922Z"
      },
      {
        "duration": 1241,
        "start_time": "2021-12-28T17:16:49.629Z"
      },
      {
        "duration": 752,
        "start_time": "2021-12-28T17:17:42.118Z"
      },
      {
        "duration": 1363,
        "start_time": "2021-12-28T17:17:52.781Z"
      },
      {
        "duration": 1323,
        "start_time": "2021-12-28T17:18:07.349Z"
      },
      {
        "duration": 1405,
        "start_time": "2021-12-28T17:18:35.549Z"
      },
      {
        "duration": 1171,
        "start_time": "2021-12-28T17:18:56.198Z"
      },
      {
        "duration": 1233,
        "start_time": "2021-12-28T17:19:11.277Z"
      },
      {
        "duration": 1488,
        "start_time": "2021-12-28T17:19:47.471Z"
      },
      {
        "duration": 1103,
        "start_time": "2021-12-28T17:20:21.743Z"
      },
      {
        "duration": 1166,
        "start_time": "2021-12-28T17:20:36.976Z"
      },
      {
        "duration": 1038,
        "start_time": "2021-12-28T17:21:06.426Z"
      },
      {
        "duration": 1476,
        "start_time": "2021-12-28T17:21:35.005Z"
      },
      {
        "duration": 2253,
        "start_time": "2021-12-28T17:21:51.773Z"
      },
      {
        "duration": 983,
        "start_time": "2021-12-28T17:22:11.958Z"
      },
      {
        "duration": 1154,
        "start_time": "2021-12-28T17:22:23.422Z"
      },
      {
        "duration": 1197,
        "start_time": "2021-12-28T17:22:38.589Z"
      },
      {
        "duration": 894,
        "start_time": "2021-12-28T17:22:55.398Z"
      },
      {
        "duration": 1752,
        "start_time": "2021-12-28T17:23:06.475Z"
      },
      {
        "duration": 1613,
        "start_time": "2021-12-28T17:23:22.518Z"
      },
      {
        "duration": 495,
        "start_time": "2021-12-28T17:34:00.161Z"
      },
      {
        "duration": 3348,
        "start_time": "2021-12-28T17:34:47.398Z"
      },
      {
        "duration": 416,
        "start_time": "2021-12-28T17:34:54.094Z"
      },
      {
        "duration": 8,
        "start_time": "2021-12-28T17:35:10.591Z"
      },
      {
        "duration": 7,
        "start_time": "2021-12-28T17:35:39.735Z"
      },
      {
        "duration": 10,
        "start_time": "2021-12-28T17:35:50.590Z"
      },
      {
        "duration": 13,
        "start_time": "2021-12-28T17:36:43.935Z"
      },
      {
        "duration": 17,
        "start_time": "2021-12-28T17:37:08.254Z"
      },
      {
        "duration": 16,
        "start_time": "2021-12-28T17:37:18.326Z"
      },
      {
        "duration": 377,
        "start_time": "2021-12-28T17:37:25.935Z"
      },
      {
        "duration": 492,
        "start_time": "2021-12-28T17:37:36.847Z"
      },
      {
        "duration": 16,
        "start_time": "2021-12-28T17:37:46.823Z"
      },
      {
        "duration": 15,
        "start_time": "2021-12-28T17:37:59.327Z"
      },
      {
        "duration": 386,
        "start_time": "2021-12-28T17:38:38.911Z"
      },
      {
        "duration": 468,
        "start_time": "2021-12-28T17:38:46.047Z"
      },
      {
        "duration": 17,
        "start_time": "2021-12-28T17:39:08.703Z"
      },
      {
        "duration": 12,
        "start_time": "2021-12-28T17:52:14.976Z"
      },
      {
        "duration": 12,
        "start_time": "2021-12-28T17:53:07.468Z"
      },
      {
        "duration": 5942,
        "start_time": "2021-12-28T17:54:44.312Z"
      },
      {
        "duration": 395,
        "start_time": "2021-12-28T17:55:13.864Z"
      },
      {
        "duration": 402,
        "start_time": "2021-12-28T17:56:44.313Z"
      },
      {
        "duration": 40,
        "start_time": "2021-12-28T17:57:47.080Z"
      },
      {
        "duration": 141,
        "start_time": "2021-12-28T18:04:13.590Z"
      },
      {
        "duration": 10650,
        "start_time": "2021-12-28T18:05:06.794Z"
      },
      {
        "duration": 10727,
        "start_time": "2021-12-28T18:28:13.907Z"
      },
      {
        "duration": 9992,
        "start_time": "2021-12-28T18:30:13.439Z"
      },
      {
        "duration": 10049,
        "start_time": "2021-12-28T18:31:25.175Z"
      },
      {
        "duration": 10550,
        "start_time": "2021-12-28T18:32:37.406Z"
      },
      {
        "duration": 1636,
        "start_time": "2021-12-28T18:33:17.134Z"
      },
      {
        "duration": 42,
        "start_time": "2021-12-28T18:33:32.127Z"
      },
      {
        "duration": 9,
        "start_time": "2021-12-28T18:34:03.279Z"
      },
      {
        "duration": 358,
        "start_time": "2021-12-28T18:35:12.127Z"
      },
      {
        "duration": 4746,
        "start_time": "2021-12-29T12:15:05.944Z"
      },
      {
        "duration": 413,
        "start_time": "2021-12-29T12:15:10.692Z"
      },
      {
        "duration": 307,
        "start_time": "2021-12-29T12:15:11.107Z"
      },
      {
        "duration": 116,
        "start_time": "2021-12-29T12:15:11.417Z"
      },
      {
        "duration": 42,
        "start_time": "2021-12-29T12:15:11.536Z"
      },
      {
        "duration": 5,
        "start_time": "2021-12-29T12:15:11.580Z"
      },
      {
        "duration": 47,
        "start_time": "2021-12-29T12:15:11.587Z"
      },
      {
        "duration": 20,
        "start_time": "2021-12-29T12:15:11.637Z"
      },
      {
        "duration": 65,
        "start_time": "2021-12-29T12:15:11.661Z"
      },
      {
        "duration": 45,
        "start_time": "2021-12-29T12:15:11.728Z"
      },
      {
        "duration": 27,
        "start_time": "2021-12-29T12:15:11.775Z"
      },
      {
        "duration": 100,
        "start_time": "2021-12-29T12:15:11.804Z"
      },
      {
        "duration": 704,
        "start_time": "2021-12-29T12:15:11.906Z"
      },
      {
        "duration": 719,
        "start_time": "2021-12-29T12:15:12.612Z"
      },
      {
        "duration": 1131,
        "start_time": "2021-12-29T12:15:13.333Z"
      },
      {
        "duration": 159,
        "start_time": "2021-12-29T12:15:14.466Z"
      },
      {
        "duration": 9890,
        "start_time": "2021-12-29T12:15:14.626Z"
      },
      {
        "duration": 3882,
        "start_time": "2021-12-29T12:15:24.518Z"
      },
      {
        "duration": 3513,
        "start_time": "2021-12-29T12:15:28.401Z"
      },
      {
        "duration": 3537,
        "start_time": "2021-12-29T12:15:31.917Z"
      },
      {
        "duration": 1408,
        "start_time": "2021-12-29T12:15:35.460Z"
      },
      {
        "duration": 357,
        "start_time": "2021-12-29T12:15:36.870Z"
      },
      {
        "duration": 1324,
        "start_time": "2021-12-29T12:15:37.229Z"
      },
      {
        "duration": 8,
        "start_time": "2021-12-29T12:15:38.555Z"
      },
      {
        "duration": 34,
        "start_time": "2021-12-29T12:15:38.565Z"
      },
      {
        "duration": 613,
        "start_time": "2021-12-29T12:15:38.602Z"
      },
      {
        "duration": 413,
        "start_time": "2021-12-29T12:15:57.573Z"
      },
      {
        "duration": 498,
        "start_time": "2021-12-29T12:16:36.368Z"
      },
      {
        "duration": 751,
        "start_time": "2021-12-29T12:16:50.074Z"
      },
      {
        "duration": 1263,
        "start_time": "2021-12-29T12:19:45.453Z"
      },
      {
        "duration": 746,
        "start_time": "2021-12-29T12:19:54.726Z"
      },
      {
        "duration": 832,
        "start_time": "2021-12-29T12:34:04.450Z"
      },
      {
        "duration": 955,
        "start_time": "2021-12-29T12:36:17.987Z"
      },
      {
        "duration": 1011,
        "start_time": "2021-12-29T12:39:43.619Z"
      },
      {
        "duration": 4392,
        "start_time": "2022-01-01T12:27:34.321Z"
      },
      {
        "duration": 386,
        "start_time": "2022-01-01T12:27:38.715Z"
      },
      {
        "duration": 290,
        "start_time": "2022-01-01T12:27:39.103Z"
      },
      {
        "duration": 100,
        "start_time": "2022-01-01T12:27:39.395Z"
      },
      {
        "duration": 24,
        "start_time": "2022-01-01T12:27:39.496Z"
      },
      {
        "duration": 4,
        "start_time": "2022-01-01T12:27:39.522Z"
      },
      {
        "duration": 34,
        "start_time": "2022-01-01T12:27:39.528Z"
      },
      {
        "duration": 8,
        "start_time": "2022-01-01T12:27:39.564Z"
      },
      {
        "duration": 35,
        "start_time": "2022-01-01T12:27:39.575Z"
      },
      {
        "duration": 50,
        "start_time": "2022-01-01T12:27:39.612Z"
      },
      {
        "duration": 25,
        "start_time": "2022-01-01T12:27:39.663Z"
      },
      {
        "duration": 85,
        "start_time": "2022-01-01T12:27:39.690Z"
      },
      {
        "duration": 618,
        "start_time": "2022-01-01T12:27:39.777Z"
      },
      {
        "duration": 673,
        "start_time": "2022-01-01T12:27:40.397Z"
      },
      {
        "duration": 1172,
        "start_time": "2022-01-01T12:27:41.072Z"
      },
      {
        "duration": 148,
        "start_time": "2022-01-01T12:27:42.246Z"
      },
      {
        "duration": 9040,
        "start_time": "2022-01-01T12:27:42.396Z"
      },
      {
        "duration": 3349,
        "start_time": "2022-01-01T12:27:51.437Z"
      },
      {
        "duration": 3359,
        "start_time": "2022-01-01T12:27:54.788Z"
      },
      {
        "duration": 3112,
        "start_time": "2022-01-01T12:27:58.149Z"
      },
      {
        "duration": 971,
        "start_time": "2022-01-01T12:28:01.263Z"
      },
      {
        "duration": 265,
        "start_time": "2022-01-01T12:28:02.236Z"
      },
      {
        "duration": 907,
        "start_time": "2022-01-01T12:28:02.503Z"
      },
      {
        "duration": 5,
        "start_time": "2022-01-01T12:28:03.412Z"
      },
      {
        "duration": 14,
        "start_time": "2022-01-01T12:28:03.419Z"
      },
      {
        "duration": 983,
        "start_time": "2022-01-01T12:28:03.435Z"
      },
      {
        "duration": 4,
        "start_time": "2022-01-01T12:33:31.159Z"
      },
      {
        "duration": 324,
        "start_time": "2022-01-01T12:33:41.282Z"
      },
      {
        "duration": 4,
        "start_time": "2022-01-01T12:33:47.989Z"
      },
      {
        "duration": 4,
        "start_time": "2022-01-01T12:34:32.152Z"
      },
      {
        "duration": 4,
        "start_time": "2022-01-01T12:34:48.346Z"
      },
      {
        "duration": 4,
        "start_time": "2022-01-01T12:34:56.792Z"
      },
      {
        "duration": 4,
        "start_time": "2022-01-01T12:37:51.412Z"
      },
      {
        "duration": 297,
        "start_time": "2022-01-01T12:51:01.788Z"
      },
      {
        "duration": 271,
        "start_time": "2022-01-01T12:59:09.557Z"
      },
      {
        "duration": 256,
        "start_time": "2022-01-01T13:00:08.509Z"
      },
      {
        "duration": 350,
        "start_time": "2022-01-01T13:00:16.375Z"
      },
      {
        "duration": 263,
        "start_time": "2022-01-01T13:00:43.519Z"
      },
      {
        "duration": 267,
        "start_time": "2022-01-01T13:01:05.588Z"
      },
      {
        "duration": 3603,
        "start_time": "2022-01-01T13:02:19.750Z"
      },
      {
        "duration": 390,
        "start_time": "2022-01-01T13:02:23.355Z"
      },
      {
        "duration": 291,
        "start_time": "2022-01-01T13:02:23.748Z"
      },
      {
        "duration": 99,
        "start_time": "2022-01-01T13:02:24.041Z"
      },
      {
        "duration": 29,
        "start_time": "2022-01-01T13:02:24.142Z"
      },
      {
        "duration": 4,
        "start_time": "2022-01-01T13:02:24.173Z"
      },
      {
        "duration": 21,
        "start_time": "2022-01-01T13:02:24.178Z"
      },
      {
        "duration": 9,
        "start_time": "2022-01-01T13:02:24.201Z"
      },
      {
        "duration": 53,
        "start_time": "2022-01-01T13:02:24.213Z"
      },
      {
        "duration": 32,
        "start_time": "2022-01-01T13:02:24.268Z"
      },
      {
        "duration": 23,
        "start_time": "2022-01-01T13:02:24.302Z"
      },
      {
        "duration": 98,
        "start_time": "2022-01-01T13:02:24.327Z"
      },
      {
        "duration": 657,
        "start_time": "2022-01-01T13:02:24.427Z"
      },
      {
        "duration": 725,
        "start_time": "2022-01-01T13:02:25.086Z"
      },
      {
        "duration": 1060,
        "start_time": "2022-01-01T13:02:25.813Z"
      },
      {
        "duration": 151,
        "start_time": "2022-01-01T13:02:26.875Z"
      },
      {
        "duration": 9184,
        "start_time": "2022-01-01T13:02:27.028Z"
      },
      {
        "duration": 3411,
        "start_time": "2022-01-01T13:02:36.214Z"
      },
      {
        "duration": 3196,
        "start_time": "2022-01-01T13:02:39.627Z"
      },
      {
        "duration": 3083,
        "start_time": "2022-01-01T13:02:42.825Z"
      },
      {
        "duration": 942,
        "start_time": "2022-01-01T13:02:45.909Z"
      },
      {
        "duration": 258,
        "start_time": "2022-01-01T13:02:46.852Z"
      },
      {
        "duration": 882,
        "start_time": "2022-01-01T13:02:47.112Z"
      },
      {
        "duration": 5,
        "start_time": "2022-01-01T13:02:47.996Z"
      },
      {
        "duration": 13,
        "start_time": "2022-01-01T13:02:48.002Z"
      },
      {
        "duration": 990,
        "start_time": "2022-01-01T13:02:48.017Z"
      },
      {
        "duration": 363,
        "start_time": "2022-01-01T13:02:53.463Z"
      },
      {
        "duration": 6,
        "start_time": "2022-01-01T13:03:13.127Z"
      },
      {
        "duration": 43,
        "start_time": "2022-01-01T13:03:38.317Z"
      },
      {
        "duration": 7,
        "start_time": "2022-01-01T13:06:02.140Z"
      },
      {
        "duration": 248,
        "start_time": "2022-01-01T13:09:22.806Z"
      },
      {
        "duration": 1094,
        "start_time": "2022-01-01T13:10:05.364Z"
      },
      {
        "duration": 7,
        "start_time": "2022-01-01T13:10:50.813Z"
      },
      {
        "duration": 78,
        "start_time": "2022-01-01T13:17:53.444Z"
      },
      {
        "duration": 9604,
        "start_time": "2022-01-01T13:19:43.636Z"
      },
      {
        "duration": 9878,
        "start_time": "2022-01-01T13:22:00.885Z"
      },
      {
        "duration": 10580,
        "start_time": "2022-01-01T13:23:01.554Z"
      },
      {
        "duration": 80,
        "start_time": "2022-01-01T13:26:51.996Z"
      },
      {
        "duration": 620,
        "start_time": "2022-01-01T13:27:06.484Z"
      },
      {
        "duration": 6529,
        "start_time": "2022-01-10T11:33:25.938Z"
      },
      {
        "duration": 521,
        "start_time": "2022-01-10T11:33:32.470Z"
      },
      {
        "duration": 406,
        "start_time": "2022-01-10T11:33:32.994Z"
      },
      {
        "duration": 150,
        "start_time": "2022-01-10T11:33:33.403Z"
      },
      {
        "duration": 32,
        "start_time": "2022-01-10T11:33:33.556Z"
      },
      {
        "duration": 27,
        "start_time": "2022-01-10T11:33:33.591Z"
      },
      {
        "duration": 23,
        "start_time": "2022-01-10T11:33:33.621Z"
      },
      {
        "duration": 15,
        "start_time": "2022-01-10T11:33:33.648Z"
      },
      {
        "duration": 103,
        "start_time": "2022-01-10T11:33:33.667Z"
      },
      {
        "duration": 56,
        "start_time": "2022-01-10T11:33:33.772Z"
      },
      {
        "duration": 45,
        "start_time": "2022-01-10T11:33:33.834Z"
      },
      {
        "duration": 143,
        "start_time": "2022-01-10T11:33:33.881Z"
      },
      {
        "duration": 1294,
        "start_time": "2022-01-10T11:33:34.027Z"
      },
      {
        "duration": 1241,
        "start_time": "2022-01-10T11:33:35.324Z"
      },
      {
        "duration": 2741,
        "start_time": "2022-01-10T11:33:36.568Z"
      },
      {
        "duration": 278,
        "start_time": "2022-01-10T11:33:39.316Z"
      },
      {
        "duration": 19528,
        "start_time": "2022-01-10T11:33:39.597Z"
      },
      {
        "duration": 6019,
        "start_time": "2022-01-10T11:33:59.127Z"
      },
      {
        "duration": 5845,
        "start_time": "2022-01-10T11:34:05.148Z"
      },
      {
        "duration": 5587,
        "start_time": "2022-01-10T11:34:10.996Z"
      },
      {
        "duration": 1955,
        "start_time": "2022-01-10T11:34:16.586Z"
      },
      {
        "duration": 498,
        "start_time": "2022-01-10T11:34:18.544Z"
      },
      {
        "duration": 1529,
        "start_time": "2022-01-10T11:34:19.047Z"
      },
      {
        "duration": 7,
        "start_time": "2022-01-10T11:34:20.579Z"
      },
      {
        "duration": 39,
        "start_time": "2022-01-10T11:34:20.589Z"
      },
      {
        "duration": 1710,
        "start_time": "2022-01-10T11:34:20.631Z"
      },
      {
        "duration": 24,
        "start_time": "2022-01-10T11:34:22.344Z"
      },
      {
        "duration": 690,
        "start_time": "2022-01-10T11:39:31.217Z"
      },
      {
        "duration": 18869,
        "start_time": "2022-01-10T11:39:53.794Z"
      },
      {
        "duration": 7555,
        "start_time": "2022-01-10T11:40:57.337Z"
      },
      {
        "duration": 25095,
        "start_time": "2022-01-10T11:41:10.769Z"
      },
      {
        "duration": 37,
        "start_time": "2022-01-10T11:42:37.009Z"
      },
      {
        "duration": 22888,
        "start_time": "2022-01-10T11:43:15.113Z"
      },
      {
        "duration": 17752,
        "start_time": "2022-01-10T11:43:53.297Z"
      },
      {
        "duration": 16249,
        "start_time": "2022-01-10T15:28:11.685Z"
      },
      {
        "duration": 6044,
        "start_time": "2022-01-10T15:28:41.308Z"
      },
      {
        "duration": 640,
        "start_time": "2022-01-10T15:29:45.941Z"
      },
      {
        "duration": 15660,
        "start_time": "2022-01-10T15:30:23.845Z"
      },
      {
        "duration": 16050,
        "start_time": "2022-01-10T15:30:41.549Z"
      },
      {
        "duration": 11,
        "start_time": "2022-01-10T15:31:48.541Z"
      },
      {
        "duration": 17972,
        "start_time": "2022-01-10T15:36:48.869Z"
      },
      {
        "duration": 17608,
        "start_time": "2022-01-10T15:39:25.462Z"
      },
      {
        "duration": 16548,
        "start_time": "2022-01-10T15:40:25.910Z"
      },
      {
        "duration": 268,
        "start_time": "2022-01-10T15:59:54.136Z"
      },
      {
        "duration": 349,
        "start_time": "2022-01-10T16:01:49.329Z"
      },
      {
        "duration": 335,
        "start_time": "2022-01-10T16:02:25.033Z"
      },
      {
        "duration": 249,
        "start_time": "2022-01-10T16:07:50.058Z"
      },
      {
        "duration": 300,
        "start_time": "2022-01-10T16:08:13.209Z"
      },
      {
        "duration": 266,
        "start_time": "2022-01-10T16:08:32.033Z"
      },
      {
        "duration": 1513,
        "start_time": "2022-01-10T16:08:42.201Z"
      },
      {
        "duration": 17153,
        "start_time": "2022-01-10T16:09:05.777Z"
      },
      {
        "duration": 94,
        "start_time": "2022-01-10T16:09:34.025Z"
      },
      {
        "duration": 15815,
        "start_time": "2022-01-10T16:09:45.089Z"
      },
      {
        "duration": 93,
        "start_time": "2022-01-10T16:10:22.041Z"
      },
      {
        "duration": 127,
        "start_time": "2022-01-10T16:10:39.217Z"
      },
      {
        "duration": 757,
        "start_time": "2022-01-10T16:11:00.529Z"
      },
      {
        "duration": 102,
        "start_time": "2022-01-10T16:13:19.754Z"
      },
      {
        "duration": 16705,
        "start_time": "2022-01-10T16:13:27.330Z"
      },
      {
        "duration": 16311,
        "start_time": "2022-01-10T16:14:40.721Z"
      },
      {
        "duration": 15706,
        "start_time": "2022-01-10T16:16:26.618Z"
      },
      {
        "duration": 15673,
        "start_time": "2022-01-10T16:17:04.114Z"
      },
      {
        "duration": 15937,
        "start_time": "2022-01-10T16:18:07.746Z"
      },
      {
        "duration": 14,
        "start_time": "2022-01-10T16:21:50.100Z"
      },
      {
        "duration": 15,
        "start_time": "2022-01-10T16:26:30.859Z"
      },
      {
        "duration": 17,
        "start_time": "2022-01-10T16:26:34.426Z"
      },
      {
        "duration": 19,
        "start_time": "2022-01-10T16:33:55.780Z"
      },
      {
        "duration": 41,
        "start_time": "2022-01-10T16:36:32.428Z"
      },
      {
        "duration": 351,
        "start_time": "2022-01-10T16:41:26.428Z"
      },
      {
        "duration": 215,
        "start_time": "2022-01-10T16:42:17.568Z"
      },
      {
        "duration": 323,
        "start_time": "2022-01-10T16:42:31.868Z"
      },
      {
        "duration": 230,
        "start_time": "2022-01-10T16:42:56.565Z"
      },
      {
        "duration": 5,
        "start_time": "2022-01-10T17:16:01.141Z"
      },
      {
        "duration": 6,
        "start_time": "2022-01-10T17:21:50.583Z"
      },
      {
        "duration": 6,
        "start_time": "2022-01-10T17:22:14.367Z"
      },
      {
        "duration": 517,
        "start_time": "2022-01-10T17:27:47.089Z"
      },
      {
        "duration": 542,
        "start_time": "2022-01-10T17:28:53.609Z"
      },
      {
        "duration": 7,
        "start_time": "2022-01-10T17:29:55.776Z"
      },
      {
        "duration": 6,
        "start_time": "2022-01-10T17:30:20.384Z"
      },
      {
        "duration": 7,
        "start_time": "2022-01-10T17:30:32.520Z"
      },
      {
        "duration": 6,
        "start_time": "2022-01-10T17:30:51.016Z"
      },
      {
        "duration": 6,
        "start_time": "2022-01-10T17:31:10.624Z"
      },
      {
        "duration": 7,
        "start_time": "2022-01-10T17:31:19.888Z"
      },
      {
        "duration": 6,
        "start_time": "2022-01-10T17:31:29.600Z"
      },
      {
        "duration": 4,
        "start_time": "2022-01-10T17:38:04.121Z"
      },
      {
        "duration": 4,
        "start_time": "2022-01-10T17:38:42.625Z"
      },
      {
        "duration": 10,
        "start_time": "2022-01-10T17:43:14.866Z"
      },
      {
        "duration": 3203,
        "start_time": "2022-01-10T17:47:47.714Z"
      },
      {
        "duration": 333,
        "start_time": "2022-01-10T17:51:34.626Z"
      },
      {
        "duration": 233,
        "start_time": "2022-01-10T17:52:34.892Z"
      },
      {
        "duration": 250,
        "start_time": "2022-01-10T17:53:10.483Z"
      },
      {
        "duration": 338,
        "start_time": "2022-01-10T17:53:34.146Z"
      },
      {
        "duration": 298,
        "start_time": "2022-01-10T17:54:22.331Z"
      },
      {
        "duration": 307,
        "start_time": "2022-01-10T17:54:31.219Z"
      },
      {
        "duration": 44,
        "start_time": "2022-01-10T17:55:08.363Z"
      },
      {
        "duration": 42,
        "start_time": "2022-01-10T17:55:23.126Z"
      },
      {
        "duration": 41,
        "start_time": "2022-01-10T17:55:40.123Z"
      },
      {
        "duration": 43,
        "start_time": "2022-01-10T17:55:47.331Z"
      },
      {
        "duration": 43,
        "start_time": "2022-01-10T17:55:56.299Z"
      },
      {
        "duration": 42,
        "start_time": "2022-01-10T17:56:04.707Z"
      },
      {
        "duration": 41,
        "start_time": "2022-01-10T17:56:25.829Z"
      },
      {
        "duration": 40,
        "start_time": "2022-01-10T17:57:08.779Z"
      },
      {
        "duration": 31,
        "start_time": "2022-01-10T17:57:29.587Z"
      },
      {
        "duration": 284,
        "start_time": "2022-01-10T18:01:03.556Z"
      },
      {
        "duration": 6,
        "start_time": "2022-01-10T18:01:55.411Z"
      },
      {
        "duration": 7,
        "start_time": "2022-01-10T18:02:09.227Z"
      },
      {
        "duration": 65,
        "start_time": "2022-01-10T18:02:28.379Z"
      },
      {
        "duration": 34,
        "start_time": "2022-01-10T18:02:52.727Z"
      },
      {
        "duration": 40,
        "start_time": "2022-01-10T18:03:01.075Z"
      },
      {
        "duration": 31,
        "start_time": "2022-01-10T18:25:10.997Z"
      },
      {
        "duration": 3295,
        "start_time": "2022-01-10T18:25:57.622Z"
      },
      {
        "duration": 3702,
        "start_time": "2022-01-10T18:26:51.761Z"
      },
      {
        "duration": 13048,
        "start_time": "2022-01-10T18:32:10.062Z"
      },
      {
        "duration": 27867,
        "start_time": "2022-01-10T18:36:08.576Z"
      },
      {
        "duration": 263,
        "start_time": "2022-01-10T18:39:34.000Z"
      },
      {
        "duration": 7835,
        "start_time": "2022-01-10T18:39:44.889Z"
      },
      {
        "duration": 27251,
        "start_time": "2022-01-10T18:46:27.456Z"
      },
      {
        "duration": 251,
        "start_time": "2022-01-10T18:46:59.040Z"
      },
      {
        "duration": 3341,
        "start_time": "2022-01-10T18:47:15.361Z"
      },
      {
        "duration": 158594,
        "start_time": "2022-01-10T18:47:22.049Z"
      },
      {
        "duration": 7162,
        "start_time": "2022-01-10T19:00:04.562Z"
      },
      {
        "duration": 162862,
        "start_time": "2022-01-10T19:00:23.387Z"
      },
      {
        "duration": 27791,
        "start_time": "2022-01-10T19:03:06.252Z"
      },
      {
        "duration": 159229,
        "start_time": "2022-01-10T19:17:26.579Z"
      },
      {
        "duration": 87,
        "start_time": "2022-01-10T19:25:58.093Z"
      },
      {
        "duration": 133,
        "start_time": "2022-01-10T19:26:33.878Z"
      },
      {
        "duration": 120,
        "start_time": "2022-01-10T19:29:09.637Z"
      },
      {
        "duration": 125,
        "start_time": "2022-01-10T19:29:22.478Z"
      },
      {
        "duration": 156,
        "start_time": "2022-01-10T19:30:15.678Z"
      },
      {
        "duration": 116,
        "start_time": "2022-01-10T19:30:58.270Z"
      },
      {
        "duration": 7499,
        "start_time": "2022-01-10T19:31:06.725Z"
      },
      {
        "duration": 290,
        "start_time": "2022-01-10T19:31:27.429Z"
      },
      {
        "duration": 27725,
        "start_time": "2022-01-10T19:31:38.492Z"
      },
      {
        "duration": 46,
        "start_time": "2022-01-10T19:33:39.989Z"
      },
      {
        "duration": 167969,
        "start_time": "2022-01-10T19:33:49.116Z"
      },
      {
        "duration": 119,
        "start_time": "2022-01-10T19:37:34.309Z"
      },
      {
        "duration": 5043,
        "start_time": "2022-01-10T19:52:22.387Z"
      },
      {
        "duration": 491,
        "start_time": "2022-01-10T19:52:27.433Z"
      },
      {
        "duration": 361,
        "start_time": "2022-01-10T19:52:27.927Z"
      },
      {
        "duration": 135,
        "start_time": "2022-01-10T19:52:28.291Z"
      },
      {
        "duration": 34,
        "start_time": "2022-01-10T19:52:28.429Z"
      },
      {
        "duration": 6,
        "start_time": "2022-01-10T19:52:28.465Z"
      },
      {
        "duration": 47,
        "start_time": "2022-01-10T19:52:28.473Z"
      },
      {
        "duration": 11,
        "start_time": "2022-01-10T19:52:28.523Z"
      },
      {
        "duration": 58,
        "start_time": "2022-01-10T19:52:28.537Z"
      },
      {
        "duration": 50,
        "start_time": "2022-01-10T19:52:28.617Z"
      },
      {
        "duration": 68,
        "start_time": "2022-01-10T19:52:28.669Z"
      },
      {
        "duration": 126,
        "start_time": "2022-01-10T19:52:28.739Z"
      },
      {
        "duration": 951,
        "start_time": "2022-01-10T19:52:28.868Z"
      },
      {
        "duration": 1000,
        "start_time": "2022-01-10T19:52:29.821Z"
      },
      {
        "duration": 1897,
        "start_time": "2022-01-10T19:52:30.823Z"
      },
      {
        "duration": 249,
        "start_time": "2022-01-10T19:52:32.723Z"
      },
      {
        "duration": 15605,
        "start_time": "2022-01-10T19:52:32.975Z"
      },
      {
        "duration": 5800,
        "start_time": "2022-01-10T19:52:48.583Z"
      },
      {
        "duration": 5295,
        "start_time": "2022-01-10T19:52:54.386Z"
      },
      {
        "duration": 5301,
        "start_time": "2022-01-10T19:52:59.684Z"
      },
      {
        "duration": 1638,
        "start_time": "2022-01-10T19:53:04.987Z"
      },
      {
        "duration": 453,
        "start_time": "2022-01-10T19:53:06.629Z"
      },
      {
        "duration": 1672,
        "start_time": "2022-01-10T19:53:07.088Z"
      },
      {
        "duration": 8,
        "start_time": "2022-01-10T19:53:08.763Z"
      },
      {
        "duration": 17,
        "start_time": "2022-01-10T19:53:08.773Z"
      },
      {
        "duration": 1529,
        "start_time": "2022-01-10T19:53:08.793Z"
      },
      {
        "duration": 53,
        "start_time": "2022-01-10T19:53:10.324Z"
      },
      {
        "duration": 6,
        "start_time": "2022-01-10T19:53:10.379Z"
      },
      {
        "duration": 8,
        "start_time": "2022-01-10T19:53:10.388Z"
      },
      {
        "duration": 47,
        "start_time": "2022-01-10T19:53:10.398Z"
      },
      {
        "duration": 9770,
        "start_time": "2022-01-10T19:53:10.448Z"
      },
      {
        "duration": 28362,
        "start_time": "2022-01-10T19:53:20.221Z"
      },
      {
        "duration": 160916,
        "start_time": "2022-01-10T19:53:48.586Z"
      },
      {
        "duration": 124,
        "start_time": "2022-01-10T19:56:29.505Z"
      },
      {
        "duration": 154625,
        "start_time": "2022-01-10T22:08:40.917Z"
      },
      {
        "duration": 502,
        "start_time": "2022-01-10T22:25:37.788Z"
      },
      {
        "duration": 353,
        "start_time": "2022-01-10T22:25:38.836Z"
      },
      {
        "duration": 119,
        "start_time": "2022-01-10T22:25:39.328Z"
      },
      {
        "duration": 34,
        "start_time": "2022-01-10T22:25:40.524Z"
      },
      {
        "duration": 6,
        "start_time": "2022-01-10T22:25:41.211Z"
      },
      {
        "duration": 18,
        "start_time": "2022-01-10T22:25:41.844Z"
      },
      {
        "duration": 11,
        "start_time": "2022-01-10T22:25:42.206Z"
      },
      {
        "duration": 53,
        "start_time": "2022-01-10T22:25:42.743Z"
      },
      {
        "duration": 48,
        "start_time": "2022-01-10T22:25:43.280Z"
      },
      {
        "duration": 40,
        "start_time": "2022-01-10T22:25:43.806Z"
      },
      {
        "duration": 110,
        "start_time": "2022-01-10T22:25:44.011Z"
      },
      {
        "duration": 974,
        "start_time": "2022-01-10T22:25:44.566Z"
      },
      {
        "duration": 971,
        "start_time": "2022-01-10T22:25:45.543Z"
      },
      {
        "duration": 1599,
        "start_time": "2022-01-10T22:25:46.517Z"
      },
      {
        "duration": 242,
        "start_time": "2022-01-10T22:25:48.123Z"
      },
      {
        "duration": 15902,
        "start_time": "2022-01-10T22:25:48.367Z"
      },
      {
        "duration": 6017,
        "start_time": "2022-01-10T22:26:04.273Z"
      },
      {
        "duration": 5392,
        "start_time": "2022-01-10T22:26:10.294Z"
      },
      {
        "duration": 5168,
        "start_time": "2022-01-10T22:26:15.690Z"
      },
      {
        "duration": 1734,
        "start_time": "2022-01-10T22:26:20.862Z"
      },
      {
        "duration": 412,
        "start_time": "2022-01-10T22:26:22.599Z"
      },
      {
        "duration": 1551,
        "start_time": "2022-01-10T22:26:23.013Z"
      },
      {
        "duration": 7,
        "start_time": "2022-01-10T22:26:24.567Z"
      },
      {
        "duration": 21,
        "start_time": "2022-01-10T22:26:24.577Z"
      },
      {
        "duration": 1463,
        "start_time": "2022-01-10T22:26:24.601Z"
      },
      {
        "duration": 68,
        "start_time": "2022-01-10T22:26:26.066Z"
      },
      {
        "duration": 5,
        "start_time": "2022-01-10T22:26:26.137Z"
      },
      {
        "duration": 10,
        "start_time": "2022-01-10T22:26:26.144Z"
      },
      {
        "duration": 33,
        "start_time": "2022-01-10T22:26:26.158Z"
      },
      {
        "duration": 7330,
        "start_time": "2022-01-10T22:26:26.194Z"
      },
      {
        "duration": 26006,
        "start_time": "2022-01-10T22:26:33.527Z"
      },
      {
        "duration": 152049,
        "start_time": "2022-01-10T22:26:59.535Z"
      },
      {
        "duration": 142,
        "start_time": "2022-01-10T22:29:31.587Z"
      },
      {
        "duration": 4,
        "start_time": "2022-01-10T22:29:39.066Z"
      },
      {
        "duration": 10,
        "start_time": "2022-01-10T22:29:42.066Z"
      },
      {
        "duration": 6,
        "start_time": "2022-01-10T22:31:12.623Z"
      },
      {
        "duration": 8,
        "start_time": "2022-01-10T22:31:51.260Z"
      },
      {
        "duration": 10,
        "start_time": "2022-01-10T22:35:25.407Z"
      },
      {
        "duration": 4220,
        "start_time": "2022-01-11T11:36:42.169Z"
      },
      {
        "duration": 479,
        "start_time": "2022-01-11T11:36:46.391Z"
      },
      {
        "duration": 331,
        "start_time": "2022-01-11T11:36:46.872Z"
      },
      {
        "duration": 126,
        "start_time": "2022-01-11T11:36:47.206Z"
      },
      {
        "duration": 25,
        "start_time": "2022-01-11T11:36:47.341Z"
      },
      {
        "duration": 4,
        "start_time": "2022-01-11T11:36:47.368Z"
      },
      {
        "duration": 16,
        "start_time": "2022-01-11T11:36:47.373Z"
      },
      {
        "duration": 8,
        "start_time": "2022-01-11T11:36:47.391Z"
      },
      {
        "duration": 62,
        "start_time": "2022-01-11T11:36:47.401Z"
      },
      {
        "duration": 35,
        "start_time": "2022-01-11T11:36:47.465Z"
      },
      {
        "duration": 41,
        "start_time": "2022-01-11T11:36:47.502Z"
      },
      {
        "duration": 73,
        "start_time": "2022-01-11T11:36:47.544Z"
      },
      {
        "duration": 641,
        "start_time": "2022-01-11T11:36:47.619Z"
      },
      {
        "duration": 654,
        "start_time": "2022-01-11T11:36:48.262Z"
      },
      {
        "duration": 1030,
        "start_time": "2022-01-11T11:36:48.918Z"
      },
      {
        "duration": 142,
        "start_time": "2022-01-11T11:36:49.949Z"
      },
      {
        "duration": 8964,
        "start_time": "2022-01-11T11:36:50.093Z"
      },
      {
        "duration": 3395,
        "start_time": "2022-01-11T11:36:59.058Z"
      },
      {
        "duration": 3223,
        "start_time": "2022-01-11T11:37:02.455Z"
      },
      {
        "duration": 3084,
        "start_time": "2022-01-11T11:37:05.680Z"
      },
      {
        "duration": 911,
        "start_time": "2022-01-11T11:37:08.766Z"
      },
      {
        "duration": 250,
        "start_time": "2022-01-11T11:37:09.679Z"
      },
      {
        "duration": 1011,
        "start_time": "2022-01-11T11:37:09.930Z"
      },
      {
        "duration": 5,
        "start_time": "2022-01-11T11:37:10.942Z"
      },
      {
        "duration": 12,
        "start_time": "2022-01-11T11:37:10.949Z"
      },
      {
        "duration": 787,
        "start_time": "2022-01-11T11:37:10.962Z"
      },
      {
        "duration": 38,
        "start_time": "2022-01-11T11:37:11.752Z"
      },
      {
        "duration": 3,
        "start_time": "2022-01-11T11:37:11.791Z"
      },
      {
        "duration": 51,
        "start_time": "2022-01-11T11:38:30.293Z"
      },
      {
        "duration": 336,
        "start_time": "2022-01-11T12:02:21.061Z"
      },
      {
        "duration": 2265,
        "start_time": "2022-01-11T12:07:17.463Z"
      },
      {
        "duration": 140376,
        "start_time": "2022-01-11T12:09:10.373Z"
      },
      {
        "duration": 9,
        "start_time": "2022-01-11T12:26:49.718Z"
      },
      {
        "duration": 6,
        "start_time": "2022-01-11T12:27:15.689Z"
      },
      {
        "duration": 6,
        "start_time": "2022-01-11T12:27:30.118Z"
      },
      {
        "duration": 7,
        "start_time": "2022-01-11T12:27:39.053Z"
      },
      {
        "duration": 6,
        "start_time": "2022-01-11T12:28:13.431Z"
      },
      {
        "duration": 429825,
        "start_time": "2022-01-11T12:28:23.423Z"
      },
      {
        "duration": 6,
        "start_time": "2022-01-11T15:27:51.820Z"
      },
      {
        "duration": 6,
        "start_time": "2022-01-11T15:28:04.500Z"
      },
      {
        "duration": 12,
        "start_time": "2022-01-11T15:34:58.672Z"
      },
      {
        "duration": 15,
        "start_time": "2022-01-11T15:37:04.302Z"
      },
      {
        "duration": 15,
        "start_time": "2022-01-11T15:38:07.577Z"
      },
      {
        "duration": 6853,
        "start_time": "2022-01-11T15:38:35.021Z"
      },
      {
        "duration": 13,
        "start_time": "2022-01-11T15:38:43.133Z"
      },
      {
        "duration": 10,
        "start_time": "2022-01-11T15:39:01.382Z"
      },
      {
        "duration": 9,
        "start_time": "2022-01-11T15:39:20.797Z"
      },
      {
        "duration": 4126,
        "start_time": "2022-01-11T15:39:48.158Z"
      },
      {
        "duration": 7,
        "start_time": "2022-01-11T15:39:53.997Z"
      },
      {
        "duration": 9,
        "start_time": "2022-01-11T15:49:52.918Z"
      },
      {
        "duration": 123368,
        "start_time": "2022-01-11T16:04:00.453Z"
      },
      {
        "duration": 2797,
        "start_time": "2022-01-11T16:11:44.883Z"
      },
      {
        "duration": 86,
        "start_time": "2022-01-11T16:21:48.908Z"
      },
      {
        "duration": 12,
        "start_time": "2022-01-11T16:22:08.216Z"
      },
      {
        "duration": 399,
        "start_time": "2022-01-11T16:35:35.990Z"
      },
      {
        "duration": 3,
        "start_time": "2022-01-11T16:35:41.841Z"
      },
      {
        "duration": 1339,
        "start_time": "2022-01-11T16:35:43.717Z"
      },
      {
        "duration": 1482,
        "start_time": "2022-01-11T16:36:43.461Z"
      },
      {
        "duration": 3251,
        "start_time": "2022-01-11T16:40:30.190Z"
      },
      {
        "duration": 319,
        "start_time": "2022-01-11T16:51:06.336Z"
      },
      {
        "duration": 252,
        "start_time": "2022-01-11T16:54:10.205Z"
      },
      {
        "duration": 269,
        "start_time": "2022-01-11T16:58:12.272Z"
      },
      {
        "duration": 257,
        "start_time": "2022-01-11T16:59:43.733Z"
      },
      {
        "duration": 10,
        "start_time": "2022-01-11T17:02:13.292Z"
      },
      {
        "duration": 2002,
        "start_time": "2022-01-11T17:03:48.048Z"
      },
      {
        "duration": 26,
        "start_time": "2022-01-11T17:04:38.165Z"
      },
      {
        "duration": 5,
        "start_time": "2022-01-11T17:05:18.549Z"
      },
      {
        "duration": 4,
        "start_time": "2022-01-11T17:05:29.853Z"
      },
      {
        "duration": 4,
        "start_time": "2022-01-11T17:06:12.173Z"
      },
      {
        "duration": 4,
        "start_time": "2022-01-11T17:06:25.909Z"
      },
      {
        "duration": 2381,
        "start_time": "2022-01-11T17:08:14.062Z"
      },
      {
        "duration": 2362,
        "start_time": "2022-01-11T17:08:28.093Z"
      },
      {
        "duration": 681,
        "start_time": "2022-01-11T17:08:35.141Z"
      },
      {
        "duration": 135293,
        "start_time": "2022-01-11T17:18:12.322Z"
      },
      {
        "duration": 124559,
        "start_time": "2022-01-11T17:21:20.322Z"
      },
      {
        "duration": 20162,
        "start_time": "2022-01-11T17:24:25.250Z"
      },
      {
        "duration": 2975,
        "start_time": "2022-01-11T17:25:43.874Z"
      },
      {
        "duration": 20628,
        "start_time": "2022-01-11T17:26:03.375Z"
      },
      {
        "duration": 2574,
        "start_time": "2022-01-11T17:27:32.176Z"
      },
      {
        "duration": 21505,
        "start_time": "2022-01-11T17:27:37.751Z"
      },
      {
        "duration": 2749,
        "start_time": "2022-01-11T17:28:47.394Z"
      },
      {
        "duration": 2794,
        "start_time": "2022-01-11T17:30:09.752Z"
      },
      {
        "duration": 4992,
        "start_time": "2022-01-11T17:30:21.567Z"
      },
      {
        "duration": 2937,
        "start_time": "2022-01-11T17:31:04.015Z"
      },
      {
        "duration": 8989,
        "start_time": "2022-01-11T17:31:10.694Z"
      },
      {
        "duration": 3277,
        "start_time": "2022-01-11T17:31:50.776Z"
      },
      {
        "duration": 11400,
        "start_time": "2022-01-11T17:31:56.417Z"
      },
      {
        "duration": 2239,
        "start_time": "2022-01-11T17:32:53.504Z"
      },
      {
        "duration": 20634,
        "start_time": "2022-01-11T17:32:59.120Z"
      },
      {
        "duration": 77,
        "start_time": "2022-01-11T17:34:17.123Z"
      },
      {
        "duration": 633,
        "start_time": "2022-01-11T17:34:40.583Z"
      },
      {
        "duration": 3154,
        "start_time": "2022-01-11T17:35:17.608Z"
      },
      {
        "duration": 37888,
        "start_time": "2022-01-11T17:35:25.255Z"
      },
      {
        "duration": 2528,
        "start_time": "2022-01-11T17:37:09.529Z"
      },
      {
        "duration": 13734,
        "start_time": "2022-01-11T17:40:54.437Z"
      },
      {
        "duration": 13739,
        "start_time": "2022-01-11T17:46:13.674Z"
      },
      {
        "duration": 13922,
        "start_time": "2022-01-11T17:48:09.784Z"
      },
      {
        "duration": 4,
        "start_time": "2022-01-11T17:49:58.191Z"
      },
      {
        "duration": 12,
        "start_time": "2022-01-11T17:50:10.407Z"
      },
      {
        "duration": 11,
        "start_time": "2022-01-11T17:50:23.343Z"
      },
      {
        "duration": 3359,
        "start_time": "2022-01-11T17:54:57.479Z"
      },
      {
        "duration": 456,
        "start_time": "2022-01-11T17:55:00.841Z"
      },
      {
        "duration": 334,
        "start_time": "2022-01-11T17:55:01.300Z"
      },
      {
        "duration": 109,
        "start_time": "2022-01-11T17:55:01.641Z"
      },
      {
        "duration": 26,
        "start_time": "2022-01-11T17:55:01.752Z"
      },
      {
        "duration": 45,
        "start_time": "2022-01-11T17:55:01.780Z"
      },
      {
        "duration": 43,
        "start_time": "2022-01-11T17:55:01.826Z"
      },
      {
        "duration": 49,
        "start_time": "2022-01-11T17:55:01.872Z"
      },
      {
        "duration": 56,
        "start_time": "2022-01-11T17:55:01.923Z"
      },
      {
        "duration": 61,
        "start_time": "2022-01-11T17:55:01.981Z"
      },
      {
        "duration": 30,
        "start_time": "2022-01-11T17:55:02.043Z"
      },
      {
        "duration": 91,
        "start_time": "2022-01-11T17:55:02.075Z"
      },
      {
        "duration": 686,
        "start_time": "2022-01-11T17:55:02.168Z"
      },
      {
        "duration": 678,
        "start_time": "2022-01-11T17:55:02.856Z"
      },
      {
        "duration": 1185,
        "start_time": "2022-01-11T17:55:03.536Z"
      },
      {
        "duration": 162,
        "start_time": "2022-01-11T17:55:04.722Z"
      },
      {
        "duration": 9496,
        "start_time": "2022-01-11T17:55:04.886Z"
      },
      {
        "duration": 3466,
        "start_time": "2022-01-11T17:55:14.384Z"
      },
      {
        "duration": 3095,
        "start_time": "2022-01-11T17:55:17.852Z"
      },
      {
        "duration": 2998,
        "start_time": "2022-01-11T17:55:20.948Z"
      },
      {
        "duration": 927,
        "start_time": "2022-01-11T17:55:23.948Z"
      },
      {
        "duration": 282,
        "start_time": "2022-01-11T17:55:24.877Z"
      },
      {
        "duration": 983,
        "start_time": "2022-01-11T17:55:25.162Z"
      },
      {
        "duration": 6,
        "start_time": "2022-01-11T17:55:26.148Z"
      },
      {
        "duration": 13,
        "start_time": "2022-01-11T17:55:26.156Z"
      },
      {
        "duration": 865,
        "start_time": "2022-01-11T17:55:26.171Z"
      },
      {
        "duration": 46,
        "start_time": "2022-01-11T17:55:27.041Z"
      },
      {
        "duration": 3,
        "start_time": "2022-01-11T17:55:27.090Z"
      },
      {
        "duration": 80,
        "start_time": "2022-01-11T17:55:27.096Z"
      },
      {
        "duration": 585,
        "start_time": "2022-01-11T18:12:15.238Z"
      },
      {
        "duration": 5538,
        "start_time": "2022-01-11T18:12:30.024Z"
      },
      {
        "duration": 645,
        "start_time": "2022-01-11T18:12:35.618Z"
      },
      {
        "duration": 367,
        "start_time": "2022-01-11T18:12:36.266Z"
      },
      {
        "duration": 128,
        "start_time": "2022-01-11T18:12:36.635Z"
      },
      {
        "duration": 30,
        "start_time": "2022-01-11T18:12:36.766Z"
      },
      {
        "duration": 22,
        "start_time": "2022-01-11T18:12:36.799Z"
      },
      {
        "duration": 16,
        "start_time": "2022-01-11T18:12:36.823Z"
      },
      {
        "duration": 11,
        "start_time": "2022-01-11T18:12:36.843Z"
      },
      {
        "duration": 86,
        "start_time": "2022-01-11T18:12:36.857Z"
      },
      {
        "duration": 48,
        "start_time": "2022-01-11T18:12:36.946Z"
      },
      {
        "duration": 59,
        "start_time": "2022-01-11T18:12:36.997Z"
      },
      {
        "duration": 133,
        "start_time": "2022-01-11T18:12:37.058Z"
      },
      {
        "duration": 934,
        "start_time": "2022-01-11T18:12:37.193Z"
      },
      {
        "duration": 995,
        "start_time": "2022-01-11T18:12:38.129Z"
      },
      {
        "duration": 2111,
        "start_time": "2022-01-11T18:12:39.127Z"
      },
      {
        "duration": 242,
        "start_time": "2022-01-11T18:12:41.241Z"
      },
      {
        "duration": 15972,
        "start_time": "2022-01-11T18:12:41.485Z"
      },
      {
        "duration": 5890,
        "start_time": "2022-01-11T18:12:57.459Z"
      },
      {
        "duration": 5302,
        "start_time": "2022-01-11T18:13:03.351Z"
      },
      {
        "duration": 5049,
        "start_time": "2022-01-11T18:13:08.656Z"
      },
      {
        "duration": 1617,
        "start_time": "2022-01-11T18:13:13.708Z"
      },
      {
        "duration": 432,
        "start_time": "2022-01-11T18:13:15.327Z"
      },
      {
        "duration": 2094,
        "start_time": "2022-01-11T18:13:15.764Z"
      },
      {
        "duration": 9,
        "start_time": "2022-01-11T18:13:17.862Z"
      },
      {
        "duration": 44,
        "start_time": "2022-01-11T18:13:17.874Z"
      },
      {
        "duration": 1694,
        "start_time": "2022-01-11T18:13:17.921Z"
      },
      {
        "duration": 51,
        "start_time": "2022-01-11T18:13:19.618Z"
      },
      {
        "duration": 4,
        "start_time": "2022-01-11T18:13:19.672Z"
      },
      {
        "duration": 92,
        "start_time": "2022-01-11T18:13:19.678Z"
      },
      {
        "duration": 582750,
        "start_time": "2022-01-11T18:13:19.772Z"
      },
      {
        "duration": 10,
        "start_time": "2022-01-11T18:23:02.525Z"
      },
      {
        "duration": 169813,
        "start_time": "2022-01-11T18:23:02.538Z"
      },
      {
        "duration": 16,
        "start_time": "2022-01-11T18:25:52.354Z"
      },
      {
        "duration": 16975,
        "start_time": "2022-01-11T18:25:52.373Z"
      }
    ],
    "kernelspec": {
      "display_name": "Python 3 (ipykernel)",
      "language": "python",
      "name": "python3"
    },
    "language_info": {
      "codemirror_mode": {
        "name": "ipython",
        "version": 3
      },
      "file_extension": ".py",
      "mimetype": "text/x-python",
      "name": "python",
      "nbconvert_exporter": "python",
      "pygments_lexer": "ipython3",
      "version": "3.9.5"
    },
    "toc": {
      "base_numbering": 1,
      "nav_menu": {},
      "number_sections": true,
      "sideBar": true,
      "skip_h1_title": true,
      "title_cell": "Содержание",
      "title_sidebar": "Contents",
      "toc_cell": true,
      "toc_position": {
        "height": "calc(100% - 180px)",
        "left": "10px",
        "top": "150px",
        "width": "165px"
      },
      "toc_section_display": true,
      "toc_window_display": true
    },
    "colab": {
      "name": "DariaNika_ML_recovery_predictions_gold_production.ipynb",
      "provenance": [],
      "collapsed_sections": [
        "P-2whL0KrFZ2",
        "P4GlBEjUrFZ4",
        "diUQeNWmrFZ5",
        "39jXwZyLrFZ9",
        "f0kj0H7erFZ9",
        "OlKCq1a7rFZ-",
        "CqCJf9dOrFZ_",
        "2l_syBYJrFaA",
        "BKY8vpSGrFaC",
        "XTRW09C3rFaC",
        "ellkTZbBrFaD"
      ]
    }
  },
  "nbformat": 4,
  "nbformat_minor": 0
}