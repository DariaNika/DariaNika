{
  "cells": [
    {
      "cell_type": "markdown",
      "metadata": {
        "toc": true,
        "id": "dhOzUURq3oqb"
      },
      "source": [
        "<h1>Содержание<span class=\"tocSkip\"></span></h1>\n",
        "<div class=\"toc\"><ul class=\"toc-item\"><li><span><a href=\"#Подготовка\" data-toc-modified-id=\"Подготовка-1\"><span class=\"toc-item-num\">1&nbsp;&nbsp;</span>Подготовка</a></span></li><li><span><a href=\"#Анализ\" data-toc-modified-id=\"Анализ-2\"><span class=\"toc-item-num\">2&nbsp;&nbsp;</span>Анализ</a></span></li><li><span><a href=\"#Обучение\" data-toc-modified-id=\"Обучение-3\"><span class=\"toc-item-num\">3&nbsp;&nbsp;</span>Обучение</a></span><ul class=\"toc-item\"><li><span><a href=\"#Модель-линейной-регрессии\" data-toc-modified-id=\"Модель-линейной-регрессии-3.1\"><span class=\"toc-item-num\">3.1&nbsp;&nbsp;</span>Модель линейной регрессии</a></span></li><li><span><a href=\"#Модель-случайного-леса\" data-toc-modified-id=\"Модель-случайного-леса-3.2\"><span class=\"toc-item-num\">3.2&nbsp;&nbsp;</span>Модель случайного леса</a></span></li><li><span><a href=\"#Модель-дерева-решений\" data-toc-modified-id=\"Модель-дерева-решений-3.3\"><span class=\"toc-item-num\">3.3&nbsp;&nbsp;</span>Модель дерева решений</a></span></li><li><span><a href=\"#Градиентный-бустинг-Catboost\" data-toc-modified-id=\"Градиентный-бустинг-Catboost-3.4\"><span class=\"toc-item-num\">3.4&nbsp;&nbsp;</span>Градиентный бустинг Catboost</a></span></li><li><span><a href=\"#Градиентный-бустинг-LightGBM\" data-toc-modified-id=\"Градиентный-бустинг-LightGBM-3.5\"><span class=\"toc-item-num\">3.5&nbsp;&nbsp;</span>Градиентный бустинг LightGBM</a></span></li></ul></li><li><span><a href=\"#Выводы\" data-toc-modified-id=\"Выводы-4\"><span class=\"toc-item-num\">4&nbsp;&nbsp;</span>Выводы</a></span></li><li><span><a href=\"#Чек-лист-проверки\" data-toc-modified-id=\"Чек-лист-проверки-5\"><span class=\"toc-item-num\">5&nbsp;&nbsp;</span>Чек-лист проверки</a></span></li></ul></div>"
      ]
    },
    {
      "cell_type": "markdown",
      "metadata": {
        "id": "gG5YNyyQ3oqc"
      },
      "source": [
        "#  Прогнозирование заказов такси"
      ]
    },
    {
      "cell_type": "markdown",
      "metadata": {
        "id": "oljdhxM43oqd"
      },
      "source": [
        "Заказчиком предоставлены исторические данные о заказах такси в аэропортах. Чтобы привлекать больше водителей в период пиковой нагрузки, нужно спрогнозировать количество заказов такси на следующий час. Построим модель для такого предсказания.\n",
        "\n",
        "Значение метрики *RMSE* на тестовой выборке должно быть не больше 48.\n",
        "\n",
        "Работа выполнена в несколько этапов:\n",
        "\n",
        "1. Загрузка данных и их ресемплирование по одному часу.\n",
        "2. Анализ данных.\n",
        "3. Обучение разных моделей с различными гиперпараметрами.\n",
        "4. Проверка данных на тестовой выборке и выводы.\n",
        "\n",
        "\n",
        "В ходе работы выполнен прогноз заказов по временному ряду. Использованы библиотеки pandas, matplotlib, numpy, lightgbm, sklearn, catboost. Модели предсказания данных - дерево решений, случайный лес, линейная регрессия, Catboost, LightGBM. Ключевая метрика - MSE."
      ]
    },
    {
      "cell_type": "markdown",
      "metadata": {
        "id": "sbcEOyAT3oqd"
      },
      "source": [
        "## Подготовка"
      ]
    },
    {
      "cell_type": "markdown",
      "metadata": {
        "id": "TgKaRAbh3oqe"
      },
      "source": [
        "Импортируем модули, которые нам понадобятся для дальнейшей работы."
      ]
    },
    {
      "cell_type": "code",
      "execution_count": null,
      "metadata": {
        "id": "sReuIguk3oqe"
      },
      "outputs": [],
      "source": [
        "import pandas as pd\n",
        "import matplotlib.pyplot as plt\n",
        "import numpy as np\n",
        "\n",
        "from lightgbm import LGBMRegressor\n",
        "from sklearn.preprocessing import StandardScaler\n",
        "from sklearn.tree import DecisionTreeRegressor\n",
        "from sklearn.ensemble import RandomForestRegressor\n",
        "from sklearn.linear_model import LinearRegression\n",
        "from catboost import CatBoostRegressor\n",
        "from sklearn.metrics import mean_squared_error\n",
        "\n",
        "import warnings\n",
        "warnings.simplefilter('ignore')\n",
        "from sklearn.model_selection import train_test_split"
      ]
    },
    {
      "cell_type": "markdown",
      "metadata": {
        "id": "EUaD1-Lq3oqh"
      },
      "source": [
        "Читаем базу данных."
      ]
    },
    {
      "cell_type": "code",
      "execution_count": null,
      "metadata": {
        "id": "lR9yufh73oqh",
        "outputId": "f41288fa-5030-4e12-d6a5-11024df62649"
      },
      "outputs": [
        {
          "data": {
            "text/html": [
              "<div>\n",
              "<style scoped>\n",
              "    .dataframe tbody tr th:only-of-type {\n",
              "        vertical-align: middle;\n",
              "    }\n",
              "\n",
              "    .dataframe tbody tr th {\n",
              "        vertical-align: top;\n",
              "    }\n",
              "\n",
              "    .dataframe thead th {\n",
              "        text-align: right;\n",
              "    }\n",
              "</style>\n",
              "<table border=\"1\" class=\"dataframe\">\n",
              "  <thead>\n",
              "    <tr style=\"text-align: right;\">\n",
              "      <th></th>\n",
              "      <th>0</th>\n",
              "      <th>1</th>\n",
              "      <th>2</th>\n",
              "      <th>3</th>\n",
              "      <th>4</th>\n",
              "    </tr>\n",
              "  </thead>\n",
              "  <tbody>\n",
              "    <tr>\n",
              "      <td>datetime</td>\n",
              "      <td>2018-03-01 00:00:00</td>\n",
              "      <td>2018-03-01 00:10:00</td>\n",
              "      <td>2018-03-01 00:20:00</td>\n",
              "      <td>2018-03-01 00:30:00</td>\n",
              "      <td>2018-03-01 00:40:00</td>\n",
              "    </tr>\n",
              "    <tr>\n",
              "      <td>num_orders</td>\n",
              "      <td>9</td>\n",
              "      <td>14</td>\n",
              "      <td>28</td>\n",
              "      <td>20</td>\n",
              "      <td>32</td>\n",
              "    </tr>\n",
              "  </tbody>\n",
              "</table>\n",
              "</div>"
            ],
            "text/plain": [
              "                              0                    1                    2  \\\n",
              "datetime    2018-03-01 00:00:00  2018-03-01 00:10:00  2018-03-01 00:20:00   \n",
              "num_orders                    9                   14                   28   \n",
              "\n",
              "                              3                    4  \n",
              "datetime    2018-03-01 00:30:00  2018-03-01 00:40:00  \n",
              "num_orders                   20                   32  "
            ]
          },
          "metadata": {},
          "output_type": "display_data"
        },
        {
          "name": "stdout",
          "output_type": "stream",
          "text": [
            "<class 'pandas.core.frame.DataFrame'>\n",
            "RangeIndex: 26496 entries, 0 to 26495\n",
            "Data columns (total 2 columns):\n",
            "datetime      26496 non-null object\n",
            "num_orders    26496 non-null int64\n",
            "dtypes: int64(1), object(1)\n",
            "memory usage: 414.1+ KB\n"
          ]
        }
      ],
      "source": [
        "df = pd.read_csv('/datasets/taxi.csv', sep= ',')\n",
        "display(df.head().T)\n",
        "df.info()"
      ]
    },
    {
      "cell_type": "markdown",
      "metadata": {
        "id": "9R63DW9y3oqi"
      },
      "source": [
        "Мы получили базу данных из 2 признаков: дата и одна целевая переменная. Всего в базе 26 496 записей. Данные не содержат пропуски и дубликаты. Названия столбцов соответствуют стандарту PEP8 и закодированы в \"snake case\".\n",
        "\n",
        "Посмотрим на переменную заказов такси:"
      ]
    },
    {
      "cell_type": "code",
      "execution_count": null,
      "metadata": {
        "id": "u99UjKwh3oqi",
        "outputId": "9a947dba-9b95-49ae-a407-d278036ebead"
      },
      "outputs": [
        {
          "data": {
            "image/png": "[encoded data removed]",
            "text/plain": [
              "<Figure size 720x360 with 1 Axes>"
            ]
          },
          "metadata": {
            "needs_background": "light"
          },
          "output_type": "display_data"
        }
      ],
      "source": [
        "df['num_orders'].hist(bins=30, color = 'Purple', figsize = (10,5))\n",
        "None"
      ]
    },
    {
      "cell_type": "markdown",
      "metadata": {
        "id": "pAi0cfC63oqj"
      },
      "source": [
        "Довольно существенная скошенность графика с правой стороны:"
      ]
    },
    {
      "cell_type": "code",
      "execution_count": null,
      "metadata": {
        "id": "F6DjimhO3oqj",
        "outputId": "6e6c6772-45fd-4970-f2ca-3f56a86bd056"
      },
      "outputs": [
        {
          "data": {
            "text/plain": [
              "array([43., 43., 44., 45., 47., 48., 50., 53., 56., 64.])"
            ]
          },
          "execution_count": 4,
          "metadata": {},
          "output_type": "execute_result"
        }
      ],
      "source": [
        "np.percentile(df['num_orders'], np.arange(99,100,0.1))"
      ]
    },
    {
      "cell_type": "markdown",
      "metadata": {
        "id": "lWOmr-aH3oqj"
      },
      "source": [
        "Менее 1% 10-минутных отрезков времени имеют более 43 заказов. И менее 0,1% - более 64 заказов. Т.к. мы в будущем будем ресемплировать данные по 1 часу, мы можем удалить эти выбросы, а потом взять среднее часа и, умножив на 6, получим заказы за средний час."
      ]
    },
    {
      "cell_type": "code",
      "execution_count": null,
      "metadata": {
        "id": "OZLhHnZi3oqj"
      },
      "outputs": [],
      "source": [
        "df = df.query('num_orders <= 64')"
      ]
    },
    {
      "cell_type": "markdown",
      "metadata": {
        "id": "T2YQsuAV3oqk"
      },
      "source": [
        "Тип данных даты - текстовый, сменим его на дату:"
      ]
    },
    {
      "cell_type": "code",
      "execution_count": null,
      "metadata": {
        "id": "GsLBCwn33oqk",
        "outputId": "c795c38c-20db-41a5-da50-d423d64ad246"
      },
      "outputs": [
        {
          "name": "stdout",
          "output_type": "stream",
          "text": [
            "<class 'pandas.core.frame.DataFrame'>\n",
            "Int64Index: 26472 entries, 0 to 26495\n",
            "Data columns (total 2 columns):\n",
            "datetime      26472 non-null datetime64[ns]\n",
            "num_orders    26472 non-null int64\n",
            "dtypes: datetime64[ns](1), int64(1)\n",
            "memory usage: 620.4 KB\n"
          ]
        }
      ],
      "source": [
        "df['datetime'] =  pd.to_datetime(df['datetime'])\n",
        "df.info()"
      ]
    },
    {
      "cell_type": "markdown",
      "metadata": {
        "id": "G9FIAB073oqk"
      },
      "source": [
        "Заменим индекс на столбец с датой. Проверим возрастание таблицы по индексу:"
      ]
    },
    {
      "cell_type": "code",
      "execution_count": null,
      "metadata": {
        "id": "FhsBTcYR3oqk",
        "outputId": "66c8917a-cbe0-4e79-ed71-5346292bcdd1"
      },
      "outputs": [
        {
          "data": {
            "text/plain": [
              "True"
            ]
          },
          "execution_count": 7,
          "metadata": {},
          "output_type": "execute_result"
        }
      ],
      "source": [
        "df = df.set_index('datetime')\n",
        "df.index.is_monotonic"
      ]
    },
    {
      "cell_type": "markdown",
      "metadata": {
        "id": "7aiP2Bze3oql"
      },
      "source": [
        "Данные обработаны и готовы к анализу."
      ]
    },
    {
      "cell_type": "markdown",
      "metadata": {
        "id": "bEtC2R4x3oql"
      },
      "source": [
        "## Анализ"
      ]
    },
    {
      "cell_type": "markdown",
      "metadata": {
        "id": "5A9kTRN-3oql"
      },
      "source": [
        "Посмотрим на полученную таблицу в графике:"
      ]
    },
    {
      "cell_type": "code",
      "execution_count": null,
      "metadata": {
        "id": "1iJa7QfI3oql",
        "outputId": "898eec0b-b2cb-45c6-8e22-d2448a1febc3"
      },
      "outputs": [
        {
          "data": {
            "image/png": "[encoded data removed]",
            "text/plain": [
              "<Figure size 720x360 with 1 Axes>"
            ]
          },
          "metadata": {
            "needs_background": "light"
          },
          "output_type": "display_data"
        }
      ],
      "source": [
        "df.plot(color = 'Purple', figsize = (10,5))\n",
        "None"
      ]
    },
    {
      "cell_type": "markdown",
      "metadata": {
        "id": "DCGVuCqu3oql"
      },
      "source": [
        "У Чётенького такси дела идут неплохо: похоже, что заказов со временем становится больше. Выполним ресемплирование данных по 1 часу, чтобы сгладить нестабильность основного показателя, как того требует ТЗ:"
      ]
    },
    {
      "cell_type": "code",
      "execution_count": null,
      "metadata": {
        "id": "-_jhLRuR3oqm"
      },
      "outputs": [],
      "source": [
        "df = df.resample('1H').mean()*6"
      ]
    },
    {
      "cell_type": "code",
      "execution_count": null,
      "metadata": {
        "id": "4liJ9SYE3oqm",
        "outputId": "d26ee475-b70b-4e0d-8f92-7e6f088c420a"
      },
      "outputs": [
        {
          "data": {
            "image/png": "[encoded data removed]",
            "text/plain": [
              "<Figure size 720x360 with 1 Axes>"
            ]
          },
          "metadata": {
            "needs_background": "light"
          },
          "output_type": "display_data"
        }
      ],
      "source": [
        "df.plot(color = 'Purple', figsize = (10,5))\n",
        "None"
      ]
    },
    {
      "cell_type": "markdown",
      "metadata": {
        "id": "06c2l8AN3oqm"
      },
      "source": [
        "Теперь в нашем ряду цифры за средний час с марта по сентябрь 2018 года.\n",
        "\n",
        "Добавим дополнительные признаки для формирования предсказаний - скользящее среднее с разными окнами."
      ]
    },
    {
      "cell_type": "code",
      "execution_count": null,
      "metadata": {
        "id": "lIq2hEyU3oqm"
      },
      "outputs": [],
      "source": [
        "df['rolling_mean10'] = df['num_orders'].rolling(10).mean()\n",
        "df['rolling_mean100'] = df['num_orders'].rolling(100).mean()\n",
        "df['rolling_mean500'] = df['num_orders'].rolling(500).mean()"
      ]
    },
    {
      "cell_type": "code",
      "execution_count": null,
      "metadata": {
        "id": "fzEs5-c33oqn",
        "outputId": "1542f271-f06a-4857-d4d1-50df4f59d120"
      },
      "outputs": [
        {
          "data": {
            "image/png": "[encoded data removed]",
            "text/plain": [
              "<Figure size 720x360 with 1 Axes>"
            ]
          },
          "metadata": {
            "needs_background": "light"
          },
          "output_type": "display_data"
        }
      ],
      "source": [
        "df.plot(figsize = (10,5), colormap = 'Purples')\n",
        "None"
      ]
    },
    {
      "cell_type": "markdown",
      "metadata": {
        "id": "_xR3bOZR3oqn"
      },
      "source": [
        "Есть тренд на увеличение заказов в целом, но прочей сезоннойсти, помимо суточной, не обнаружено. Суточная же сезонность достаточно строгая."
      ]
    },
    {
      "cell_type": "code",
      "execution_count": null,
      "metadata": {
        "id": "p3u3CklP3oqn",
        "outputId": "083a9c80-95d5-419f-fc1e-d44974c669e2"
      },
      "outputs": [
        {
          "data": {
            "image/png": "[encoded data removed]",
            "text/plain": [
              "<Figure size 432x576 with 3 Axes>"
            ]
          },
          "metadata": {
            "needs_background": "light"
          },
          "output_type": "display_data"
        }
      ],
      "source": [
        "from statsmodels.tsa.seasonal import seasonal_decompose\n",
        "\n",
        "decomposed = seasonal_decompose(df['num_orders'])\n",
        "\n",
        "plt.figure(figsize=(6, 8))\n",
        "\n",
        "plt.subplot(311)\n",
        "decomposed.seasonal['2018-05-01':'2018-05-31'].plot(ax=plt.gca(), color = 'Purple')\n",
        "plt.title('Seasonality Month')\n",
        "\n",
        "plt.subplot(312)\n",
        "decomposed.seasonal['2018-04-01':'2018-04-08'].plot(ax=plt.gca(), color = 'Purple')\n",
        "plt.title('Seasonality Week')\n",
        "\n",
        "plt.subplot(313)\n",
        "decomposed.seasonal['2018-04-01':'2018-04-02'].plot(ax=plt.gca(), color = 'Purple')\n",
        "plt.title('Seasonality day')\n",
        "\n",
        "plt.tight_layout()"
      ]
    },
    {
      "cell_type": "markdown",
      "metadata": {
        "id": "AmWwDifr3oqn"
      },
      "source": [
        "Это делает наш ряд нестационарным. Добавим признаки дня недели и часа (месяц и год нерелевантны из-за короткого периода анализа, внутри месяца нет изменений, что видно на графиках выше). Также добавим признаки среднего количества заказов со сдвигом."
      ]
    },
    {
      "cell_type": "code",
      "execution_count": null,
      "metadata": {
        "id": "eWNCsdU23oqo",
        "outputId": "80918873-d500-445c-d771-2c5f38cc7c58"
      },
      "outputs": [
        {
          "data": {
            "text/html": [
              "<div>\n",
              "<style scoped>\n",
              "    .dataframe tbody tr th:only-of-type {\n",
              "        vertical-align: middle;\n",
              "    }\n",
              "\n",
              "    .dataframe tbody tr th {\n",
              "        vertical-align: top;\n",
              "    }\n",
              "\n",
              "    .dataframe thead th {\n",
              "        text-align: right;\n",
              "    }\n",
              "</style>\n",
              "<table border=\"1\" class=\"dataframe\">\n",
              "  <thead>\n",
              "    <tr style=\"text-align: right;\">\n",
              "      <th></th>\n",
              "      <th>num_orders</th>\n",
              "      <th>rolling_mean10</th>\n",
              "      <th>rolling_mean100</th>\n",
              "      <th>rolling_mean500</th>\n",
              "      <th>dayofweek</th>\n",
              "      <th>hour</th>\n",
              "      <th>lag_1</th>\n",
              "      <th>lag_2</th>\n",
              "      <th>lag_3</th>\n",
              "      <th>rolling_mean_shift</th>\n",
              "    </tr>\n",
              "    <tr>\n",
              "      <th>datetime</th>\n",
              "      <th></th>\n",
              "      <th></th>\n",
              "      <th></th>\n",
              "      <th></th>\n",
              "      <th></th>\n",
              "      <th></th>\n",
              "      <th></th>\n",
              "      <th></th>\n",
              "      <th></th>\n",
              "      <th></th>\n",
              "    </tr>\n",
              "  </thead>\n",
              "  <tbody>\n",
              "    <tr>\n",
              "      <td>2018-03-01 00:00:00</td>\n",
              "      <td>124.0</td>\n",
              "      <td>NaN</td>\n",
              "      <td>NaN</td>\n",
              "      <td>NaN</td>\n",
              "      <td>3</td>\n",
              "      <td>0</td>\n",
              "      <td>NaN</td>\n",
              "      <td>NaN</td>\n",
              "      <td>NaN</td>\n",
              "      <td>NaN</td>\n",
              "    </tr>\n",
              "    <tr>\n",
              "      <td>2018-03-01 01:00:00</td>\n",
              "      <td>85.0</td>\n",
              "      <td>NaN</td>\n",
              "      <td>NaN</td>\n",
              "      <td>NaN</td>\n",
              "      <td>3</td>\n",
              "      <td>1</td>\n",
              "      <td>124.0</td>\n",
              "      <td>NaN</td>\n",
              "      <td>NaN</td>\n",
              "      <td>NaN</td>\n",
              "    </tr>\n",
              "    <tr>\n",
              "      <td>2018-03-01 02:00:00</td>\n",
              "      <td>71.0</td>\n",
              "      <td>NaN</td>\n",
              "      <td>NaN</td>\n",
              "      <td>NaN</td>\n",
              "      <td>3</td>\n",
              "      <td>2</td>\n",
              "      <td>85.0</td>\n",
              "      <td>124.0</td>\n",
              "      <td>NaN</td>\n",
              "      <td>NaN</td>\n",
              "    </tr>\n",
              "    <tr>\n",
              "      <td>2018-03-01 03:00:00</td>\n",
              "      <td>66.0</td>\n",
              "      <td>NaN</td>\n",
              "      <td>NaN</td>\n",
              "      <td>NaN</td>\n",
              "      <td>3</td>\n",
              "      <td>3</td>\n",
              "      <td>71.0</td>\n",
              "      <td>85.0</td>\n",
              "      <td>124.0</td>\n",
              "      <td>NaN</td>\n",
              "    </tr>\n",
              "    <tr>\n",
              "      <td>2018-03-01 04:00:00</td>\n",
              "      <td>43.0</td>\n",
              "      <td>NaN</td>\n",
              "      <td>NaN</td>\n",
              "      <td>NaN</td>\n",
              "      <td>3</td>\n",
              "      <td>4</td>\n",
              "      <td>66.0</td>\n",
              "      <td>71.0</td>\n",
              "      <td>85.0</td>\n",
              "      <td>NaN</td>\n",
              "    </tr>\n",
              "    <tr>\n",
              "      <td>...</td>\n",
              "      <td>...</td>\n",
              "      <td>...</td>\n",
              "      <td>...</td>\n",
              "      <td>...</td>\n",
              "      <td>...</td>\n",
              "      <td>...</td>\n",
              "      <td>...</td>\n",
              "      <td>...</td>\n",
              "      <td>...</td>\n",
              "      <td>...</td>\n",
              "    </tr>\n",
              "    <tr>\n",
              "      <td>2018-08-31 19:00:00</td>\n",
              "      <td>136.0</td>\n",
              "      <td>166.6</td>\n",
              "      <td>155.435</td>\n",
              "      <td>134.8394</td>\n",
              "      <td>4</td>\n",
              "      <td>19</td>\n",
              "      <td>207.0</td>\n",
              "      <td>217.0</td>\n",
              "      <td>197.0</td>\n",
              "      <td>173.3</td>\n",
              "    </tr>\n",
              "    <tr>\n",
              "      <td>2018-08-31 20:00:00</td>\n",
              "      <td>154.0</td>\n",
              "      <td>162.9</td>\n",
              "      <td>155.325</td>\n",
              "      <td>134.6494</td>\n",
              "      <td>4</td>\n",
              "      <td>20</td>\n",
              "      <td>136.0</td>\n",
              "      <td>207.0</td>\n",
              "      <td>217.0</td>\n",
              "      <td>166.6</td>\n",
              "    </tr>\n",
              "    <tr>\n",
              "      <td>2018-08-31 21:00:00</td>\n",
              "      <td>159.0</td>\n",
              "      <td>162.1</td>\n",
              "      <td>155.095</td>\n",
              "      <td>134.5154</td>\n",
              "      <td>4</td>\n",
              "      <td>21</td>\n",
              "      <td>154.0</td>\n",
              "      <td>136.0</td>\n",
              "      <td>207.0</td>\n",
              "      <td>162.9</td>\n",
              "    </tr>\n",
              "    <tr>\n",
              "      <td>2018-08-31 22:00:00</td>\n",
              "      <td>223.0</td>\n",
              "      <td>170.8</td>\n",
              "      <td>156.215</td>\n",
              "      <td>134.6114</td>\n",
              "      <td>4</td>\n",
              "      <td>22</td>\n",
              "      <td>159.0</td>\n",
              "      <td>154.0</td>\n",
              "      <td>136.0</td>\n",
              "      <td>162.1</td>\n",
              "    </tr>\n",
              "    <tr>\n",
              "      <td>2018-08-31 23:00:00</td>\n",
              "      <td>205.0</td>\n",
              "      <td>174.7</td>\n",
              "      <td>156.745</td>\n",
              "      <td>134.6794</td>\n",
              "      <td>4</td>\n",
              "      <td>23</td>\n",
              "      <td>223.0</td>\n",
              "      <td>159.0</td>\n",
              "      <td>154.0</td>\n",
              "      <td>170.8</td>\n",
              "    </tr>\n",
              "  </tbody>\n",
              "</table>\n",
              "<p>4416 rows × 10 columns</p>\n",
              "</div>"
            ],
            "text/plain": [
              "                     num_orders  rolling_mean10  rolling_mean100  \\\n",
              "datetime                                                           \n",
              "2018-03-01 00:00:00       124.0             NaN              NaN   \n",
              "2018-03-01 01:00:00        85.0             NaN              NaN   \n",
              "2018-03-01 02:00:00        71.0             NaN              NaN   \n",
              "2018-03-01 03:00:00        66.0             NaN              NaN   \n",
              "2018-03-01 04:00:00        43.0             NaN              NaN   \n",
              "...                         ...             ...              ...   \n",
              "2018-08-31 19:00:00       136.0           166.6          155.435   \n",
              "2018-08-31 20:00:00       154.0           162.9          155.325   \n",
              "2018-08-31 21:00:00       159.0           162.1          155.095   \n",
              "2018-08-31 22:00:00       223.0           170.8          156.215   \n",
              "2018-08-31 23:00:00       205.0           174.7          156.745   \n",
              "\n",
              "                     rolling_mean500  dayofweek  hour  lag_1  lag_2  lag_3  \\\n",
              "datetime                                                                     \n",
              "2018-03-01 00:00:00              NaN          3     0    NaN    NaN    NaN   \n",
              "2018-03-01 01:00:00              NaN          3     1  124.0    NaN    NaN   \n",
              "2018-03-01 02:00:00              NaN          3     2   85.0  124.0    NaN   \n",
              "2018-03-01 03:00:00              NaN          3     3   71.0   85.0  124.0   \n",
              "2018-03-01 04:00:00              NaN          3     4   66.0   71.0   85.0   \n",
              "...                              ...        ...   ...    ...    ...    ...   \n",
              "2018-08-31 19:00:00         134.8394          4    19  207.0  217.0  197.0   \n",
              "2018-08-31 20:00:00         134.6494          4    20  136.0  207.0  217.0   \n",
              "2018-08-31 21:00:00         134.5154          4    21  154.0  136.0  207.0   \n",
              "2018-08-31 22:00:00         134.6114          4    22  159.0  154.0  136.0   \n",
              "2018-08-31 23:00:00         134.6794          4    23  223.0  159.0  154.0   \n",
              "\n",
              "                     rolling_mean_shift  \n",
              "datetime                                 \n",
              "2018-03-01 00:00:00                 NaN  \n",
              "2018-03-01 01:00:00                 NaN  \n",
              "2018-03-01 02:00:00                 NaN  \n",
              "2018-03-01 03:00:00                 NaN  \n",
              "2018-03-01 04:00:00                 NaN  \n",
              "...                                 ...  \n",
              "2018-08-31 19:00:00               173.3  \n",
              "2018-08-31 20:00:00               166.6  \n",
              "2018-08-31 21:00:00               162.9  \n",
              "2018-08-31 22:00:00               162.1  \n",
              "2018-08-31 23:00:00               170.8  \n",
              "\n",
              "[4416 rows x 10 columns]"
            ]
          },
          "execution_count": 14,
          "metadata": {},
          "output_type": "execute_result"
        }
      ],
      "source": [
        "def make_features(df, max_lag, rolling_mean_size):\n",
        "    df['dayofweek'] = df.index.dayofweek\n",
        "    df['hour'] = df.index.hour\n",
        "    \n",
        "    for lag in range(1, max_lag + 1):\n",
        "        df['lag_{}'.format(lag)] = df['num_orders'].shift(lag)\n",
        "\n",
        "    df['rolling_mean_shift'] = df['num_orders'].shift().rolling(rolling_mean_size).mean()\n",
        "\n",
        "make_features(df, 3, 10)\n",
        "df"
      ]
    },
    {
      "cell_type": "markdown",
      "metadata": {
        "id": "CIqtBRlU3oqo"
      },
      "source": [
        "## Обучение"
      ]
    },
    {
      "cell_type": "markdown",
      "metadata": {
        "id": "hgQBrn153oqo"
      },
      "source": [
        "Разделим выборку на тестовую и обучающую в соответствии с техническим заданием."
      ]
    },
    {
      "cell_type": "code",
      "execution_count": null,
      "metadata": {
        "id": "CwiLiCyz3oqp"
      },
      "outputs": [],
      "source": [
        "train, test = train_test_split(df, shuffle=False, test_size=0.1)\n",
        "train = train.dropna()"
      ]
    },
    {
      "cell_type": "markdown",
      "metadata": {
        "id": "8H6cwBJ13oqp"
      },
      "source": [
        "### Модель линейной регрессии"
      ]
    },
    {
      "cell_type": "code",
      "execution_count": null,
      "metadata": {
        "id": "wmFmCQQw3oqp",
        "outputId": "49991840-78be-41e6-9e8b-0112e70d33a1"
      },
      "outputs": [
        {
          "data": {
            "text/html": [
              "<div>\n",
              "<style scoped>\n",
              "    .dataframe tbody tr th:only-of-type {\n",
              "        vertical-align: middle;\n",
              "    }\n",
              "\n",
              "    .dataframe tbody tr th {\n",
              "        vertical-align: top;\n",
              "    }\n",
              "\n",
              "    .dataframe thead th {\n",
              "        text-align: right;\n",
              "    }\n",
              "</style>\n",
              "<table border=\"1\" class=\"dataframe\">\n",
              "  <thead>\n",
              "    <tr style=\"text-align: right;\">\n",
              "      <th></th>\n",
              "      <th>Model</th>\n",
              "      <th>RMSE, orders</th>\n",
              "    </tr>\n",
              "  </thead>\n",
              "  <tbody>\n",
              "    <tr>\n",
              "      <td>0</td>\n",
              "      <td>Linear Regression</td>\n",
              "      <td>31.914712</td>\n",
              "    </tr>\n",
              "  </tbody>\n",
              "</table>\n",
              "</div>"
            ],
            "text/plain": [
              "               Model  RMSE, orders\n",
              "0  Linear Regression     31.914712"
            ]
          },
          "execution_count": 16,
          "metadata": {},
          "output_type": "execute_result"
        }
      ],
      "source": [
        "model = LinearRegression()\n",
        "model.fit(train.drop(['num_orders'], axis=1), train['num_orders'])\n",
        "pred_test = model.predict(test.drop(['num_orders'], axis=1))\n",
        "\n",
        "current_model = pd.DataFrame({'Model': ['Linear Regression'],\n",
        "              'RMSE, orders': mean_squared_error(test['num_orders'], pred_test)**0.5})\n",
        "all_models = current_model.merge(current_model, how = 'outer')\n",
        "all_models"
      ]
    },
    {
      "cell_type": "markdown",
      "metadata": {
        "id": "6Sy5rdSu3oqp"
      },
      "source": [
        "### Модель случайного леса"
      ]
    },
    {
      "cell_type": "code",
      "execution_count": null,
      "metadata": {
        "id": "LFQJKFoU3oqp",
        "outputId": "ac21f879-eeed-4cf9-d3f5-cf4e8d9a2a68"
      },
      "outputs": [
        {
          "data": {
            "text/html": [
              "<div>\n",
              "<style scoped>\n",
              "    .dataframe tbody tr th:only-of-type {\n",
              "        vertical-align: middle;\n",
              "    }\n",
              "\n",
              "    .dataframe tbody tr th {\n",
              "        vertical-align: top;\n",
              "    }\n",
              "\n",
              "    .dataframe thead th {\n",
              "        text-align: right;\n",
              "    }\n",
              "</style>\n",
              "<table border=\"1\" class=\"dataframe\">\n",
              "  <thead>\n",
              "    <tr style=\"text-align: right;\">\n",
              "      <th></th>\n",
              "      <th>Model</th>\n",
              "      <th>RMSE, orders</th>\n",
              "    </tr>\n",
              "  </thead>\n",
              "  <tbody>\n",
              "    <tr>\n",
              "      <td>0</td>\n",
              "      <td>Linear Regression</td>\n",
              "      <td>31.914712</td>\n",
              "    </tr>\n",
              "    <tr>\n",
              "      <td>1</td>\n",
              "      <td>Random Forest</td>\n",
              "      <td>40.919525</td>\n",
              "    </tr>\n",
              "  </tbody>\n",
              "</table>\n",
              "</div>"
            ],
            "text/plain": [
              "               Model  RMSE, orders\n",
              "0  Linear Regression     31.914712\n",
              "1      Random Forest     40.919525"
            ]
          },
          "execution_count": 17,
          "metadata": {},
          "output_type": "execute_result"
        }
      ],
      "source": [
        "model = RandomForestRegressor(random_state = 23)\n",
        "model.fit(train.drop(['num_orders'], axis=1), train['num_orders'])\n",
        "pred_test = model.predict(test.drop(['num_orders'], axis=1))\n",
        "\n",
        "current_model = pd.DataFrame({'Model': ['Random Forest'],\n",
        "              'RMSE, orders': mean_squared_error(test['num_orders'], pred_test)**0.5})\n",
        "all_models = all_models.merge(current_model, how = 'outer')\n",
        "all_models"
      ]
    },
    {
      "cell_type": "markdown",
      "metadata": {
        "id": "gjyQ0HRe3oqp"
      },
      "source": [
        "### Модель дерева решений"
      ]
    },
    {
      "cell_type": "code",
      "execution_count": null,
      "metadata": {
        "id": "j3biWK803oqq",
        "outputId": "47667a68-c0d1-44ae-8f74-393978e7d638"
      },
      "outputs": [
        {
          "data": {
            "text/html": [
              "<div>\n",
              "<style scoped>\n",
              "    .dataframe tbody tr th:only-of-type {\n",
              "        vertical-align: middle;\n",
              "    }\n",
              "\n",
              "    .dataframe tbody tr th {\n",
              "        vertical-align: top;\n",
              "    }\n",
              "\n",
              "    .dataframe thead th {\n",
              "        text-align: right;\n",
              "    }\n",
              "</style>\n",
              "<table border=\"1\" class=\"dataframe\">\n",
              "  <thead>\n",
              "    <tr style=\"text-align: right;\">\n",
              "      <th></th>\n",
              "      <th>Model</th>\n",
              "      <th>RMSE, orders</th>\n",
              "    </tr>\n",
              "  </thead>\n",
              "  <tbody>\n",
              "    <tr>\n",
              "      <td>0</td>\n",
              "      <td>Linear Regression</td>\n",
              "      <td>31.914712</td>\n",
              "    </tr>\n",
              "    <tr>\n",
              "      <td>1</td>\n",
              "      <td>Random Forest</td>\n",
              "      <td>40.919525</td>\n",
              "    </tr>\n",
              "    <tr>\n",
              "      <td>2</td>\n",
              "      <td>Decision Tree</td>\n",
              "      <td>54.062862</td>\n",
              "    </tr>\n",
              "  </tbody>\n",
              "</table>\n",
              "</div>"
            ],
            "text/plain": [
              "               Model  RMSE, orders\n",
              "0  Linear Regression     31.914712\n",
              "1      Random Forest     40.919525\n",
              "2      Decision Tree     54.062862"
            ]
          },
          "execution_count": 18,
          "metadata": {},
          "output_type": "execute_result"
        }
      ],
      "source": [
        "model = DecisionTreeRegressor(random_state = 23)\n",
        "model.fit(train.drop(['num_orders'], axis=1), train['num_orders'])\n",
        "pred_test = model.predict(test.drop(['num_orders'], axis=1))\n",
        "\n",
        "current_model = pd.DataFrame({'Model': ['Decision Tree'],\n",
        "              'RMSE, orders': mean_squared_error(test['num_orders'], pred_test)**0.5})\n",
        "all_models = all_models.merge(current_model, how = 'outer')\n",
        "all_models"
      ]
    },
    {
      "cell_type": "markdown",
      "metadata": {
        "id": "_FxvLw6R3oqq"
      },
      "source": [
        "### Градиентный бустинг Catboost"
      ]
    },
    {
      "cell_type": "code",
      "execution_count": null,
      "metadata": {
        "id": "rBdpJlSG3oqq",
        "outputId": "05cef8b0-c65e-4dc5-a42a-1dd18dc0778f"
      },
      "outputs": [
        {
          "name": "stdout",
          "output_type": "stream",
          "text": [
            "0:\tlearn: 37.8449889\ttotal: 49ms\tremaining: 4.36s\n",
            "1:\tlearn: 37.3050989\ttotal: 50.6ms\tremaining: 2.23s\n",
            "2:\tlearn: 36.7386632\ttotal: 52.2ms\tremaining: 1.51s\n",
            "3:\tlearn: 36.2009908\ttotal: 53.6ms\tremaining: 1.15s\n",
            "4:\tlearn: 35.6801889\ttotal: 55.1ms\tremaining: 937ms\n",
            "5:\tlearn: 35.1617696\ttotal: 62ms\tremaining: 868ms\n",
            "6:\tlearn: 34.6981521\ttotal: 122ms\tremaining: 1.44s\n",
            "7:\tlearn: 34.2379846\ttotal: 124ms\tremaining: 1.27s\n",
            "8:\tlearn: 33.8243374\ttotal: 125ms\tremaining: 1.13s\n",
            "9:\tlearn: 33.4177926\ttotal: 127ms\tremaining: 1.01s\n",
            "10:\tlearn: 33.0028226\ttotal: 129ms\tremaining: 924ms\n",
            "11:\tlearn: 32.7018108\ttotal: 130ms\tremaining: 846ms\n",
            "12:\tlearn: 32.3034948\ttotal: 137ms\tremaining: 810ms\n",
            "13:\tlearn: 32.0172979\ttotal: 219ms\tremaining: 1.19s\n",
            "14:\tlearn: 31.6355625\ttotal: 221ms\tremaining: 1.1s\n",
            "15:\tlearn: 31.3472638\ttotal: 223ms\tremaining: 1.03s\n",
            "16:\tlearn: 30.9692691\ttotal: 224ms\tremaining: 963ms\n",
            "17:\tlearn: 30.6438082\ttotal: 226ms\tremaining: 903ms\n",
            "18:\tlearn: 30.3770701\ttotal: 227ms\tremaining: 849ms\n",
            "19:\tlearn: 30.0981320\ttotal: 234ms\tremaining: 819ms\n",
            "20:\tlearn: 29.8032345\ttotal: 317ms\tremaining: 1.04s\n",
            "21:\tlearn: 29.5036414\ttotal: 319ms\tremaining: 986ms\n",
            "22:\tlearn: 29.2141156\ttotal: 321ms\tremaining: 934ms\n",
            "23:\tlearn: 28.9451586\ttotal: 322ms\tremaining: 886ms\n",
            "24:\tlearn: 28.7044201\ttotal: 324ms\tremaining: 842ms\n",
            "25:\tlearn: 28.4903425\ttotal: 325ms\tremaining: 801ms\n",
            "26:\tlearn: 28.2745455\ttotal: 413ms\tremaining: 963ms\n",
            "27:\tlearn: 28.1081004\ttotal: 415ms\tremaining: 918ms\n",
            "28:\tlearn: 27.9290053\ttotal: 416ms\tremaining: 875ms\n",
            "29:\tlearn: 27.7264539\ttotal: 418ms\tremaining: 837ms\n",
            "30:\tlearn: 27.5452827\ttotal: 420ms\tremaining: 800ms\n",
            "31:\tlearn: 27.3363821\ttotal: 422ms\tremaining: 765ms\n",
            "32:\tlearn: 27.1366940\ttotal: 424ms\tremaining: 732ms\n",
            "33:\tlearn: 26.9858871\ttotal: 510ms\tremaining: 841ms\n",
            "34:\tlearn: 26.8363205\ttotal: 512ms\tremaining: 805ms\n",
            "35:\tlearn: 26.6616944\ttotal: 516ms\tremaining: 774ms\n",
            "36:\tlearn: 26.5354104\ttotal: 517ms\tremaining: 741ms\n",
            "37:\tlearn: 26.3786731\ttotal: 519ms\tremaining: 710ms\n",
            "38:\tlearn: 26.2617470\ttotal: 521ms\tremaining: 681ms\n",
            "39:\tlearn: 26.1155269\ttotal: 608ms\tremaining: 759ms\n",
            "40:\tlearn: 25.9648815\ttotal: 609ms\tremaining: 728ms\n",
            "41:\tlearn: 25.8241215\ttotal: 614ms\tremaining: 701ms\n",
            "42:\tlearn: 25.7114464\ttotal: 618ms\tremaining: 676ms\n",
            "43:\tlearn: 25.5686416\ttotal: 627ms\tremaining: 656ms\n",
            "44:\tlearn: 25.4218201\ttotal: 629ms\tremaining: 629ms\n",
            "45:\tlearn: 25.3201255\ttotal: 630ms\tremaining: 603ms\n",
            "46:\tlearn: 25.2040992\ttotal: 632ms\tremaining: 578ms\n",
            "47:\tlearn: 25.0701807\ttotal: 633ms\tremaining: 554ms\n",
            "48:\tlearn: 24.9817439\ttotal: 638ms\tremaining: 534ms\n",
            "49:\tlearn: 24.8980744\ttotal: 726ms\tremaining: 581ms\n",
            "50:\tlearn: 24.7664699\ttotal: 727ms\tremaining: 556ms\n",
            "51:\tlearn: 24.6695447\ttotal: 729ms\tremaining: 532ms\n",
            "52:\tlearn: 24.5548017\ttotal: 730ms\tremaining: 510ms\n",
            "53:\tlearn: 24.4631595\ttotal: 732ms\tremaining: 488ms\n",
            "54:\tlearn: 24.3501265\ttotal: 733ms\tremaining: 466ms\n",
            "55:\tlearn: 24.2490487\ttotal: 735ms\tremaining: 446ms\n",
            "56:\tlearn: 24.1486962\ttotal: 822ms\tremaining: 476ms\n",
            "57:\tlearn: 24.0849751\ttotal: 825ms\tremaining: 455ms\n",
            "58:\tlearn: 23.9907109\ttotal: 826ms\tremaining: 434ms\n",
            "59:\tlearn: 23.9032084\ttotal: 828ms\tremaining: 414ms\n",
            "60:\tlearn: 23.8445775\ttotal: 830ms\tremaining: 394ms\n",
            "61:\tlearn: 23.7503362\ttotal: 831ms\tremaining: 375ms\n",
            "62:\tlearn: 23.6691126\ttotal: 838ms\tremaining: 359ms\n",
            "63:\tlearn: 23.5843628\ttotal: 920ms\tremaining: 374ms\n",
            "64:\tlearn: 23.5123740\ttotal: 922ms\tremaining: 355ms\n",
            "65:\tlearn: 23.4528833\ttotal: 923ms\tremaining: 336ms\n",
            "66:\tlearn: 23.3820539\ttotal: 925ms\tremaining: 317ms\n",
            "67:\tlearn: 23.3214690\ttotal: 926ms\tremaining: 300ms\n",
            "68:\tlearn: 23.2638169\ttotal: 928ms\tremaining: 282ms\n",
            "69:\tlearn: 23.1927063\ttotal: 1.02s\tremaining: 290ms\n",
            "70:\tlearn: 23.1102144\ttotal: 1.02s\tremaining: 272ms\n",
            "71:\tlearn: 23.0522413\ttotal: 1.02s\tremaining: 255ms\n",
            "72:\tlearn: 22.9950564\ttotal: 1.02s\tremaining: 238ms\n",
            "73:\tlearn: 22.9075859\ttotal: 1.02s\tremaining: 221ms\n",
            "74:\tlearn: 22.8594173\ttotal: 1.02s\tremaining: 205ms\n",
            "75:\tlearn: 22.7958717\ttotal: 1.03s\tremaining: 190ms\n",
            "76:\tlearn: 22.7470608\ttotal: 1.11s\tremaining: 188ms\n",
            "77:\tlearn: 22.6656957\ttotal: 1.12s\tremaining: 172ms\n",
            "78:\tlearn: 22.6084636\ttotal: 1.12s\tremaining: 156ms\n",
            "79:\tlearn: 22.5383384\ttotal: 1.12s\tremaining: 140ms\n",
            "80:\tlearn: 22.5072010\ttotal: 1.12s\tremaining: 124ms\n",
            "81:\tlearn: 22.4516435\ttotal: 1.12s\tremaining: 109ms\n",
            "82:\tlearn: 22.4128923\ttotal: 1.13s\tremaining: 95.2ms\n",
            "83:\tlearn: 22.3548996\ttotal: 1.21s\tremaining: 86.5ms\n",
            "84:\tlearn: 22.2858663\ttotal: 1.21s\tremaining: 71.3ms\n",
            "85:\tlearn: 22.2452193\ttotal: 1.21s\tremaining: 56.5ms\n",
            "86:\tlearn: 22.1966321\ttotal: 1.22s\tremaining: 41.9ms\n",
            "87:\tlearn: 22.1610708\ttotal: 1.22s\tremaining: 27.7ms\n",
            "88:\tlearn: 22.1118508\ttotal: 1.22s\tremaining: 13.7ms\n",
            "89:\tlearn: 22.0717610\ttotal: 1.23s\tremaining: 0us\n"
          ]
        },
        {
          "data": {
            "text/html": [
              "<div>\n",
              "<style scoped>\n",
              "    .dataframe tbody tr th:only-of-type {\n",
              "        vertical-align: middle;\n",
              "    }\n",
              "\n",
              "    .dataframe tbody tr th {\n",
              "        vertical-align: top;\n",
              "    }\n",
              "\n",
              "    .dataframe thead th {\n",
              "        text-align: right;\n",
              "    }\n",
              "</style>\n",
              "<table border=\"1\" class=\"dataframe\">\n",
              "  <thead>\n",
              "    <tr style=\"text-align: right;\">\n",
              "      <th></th>\n",
              "      <th>Model</th>\n",
              "      <th>RMSE, orders</th>\n",
              "    </tr>\n",
              "  </thead>\n",
              "  <tbody>\n",
              "    <tr>\n",
              "      <td>0</td>\n",
              "      <td>Linear Regression</td>\n",
              "      <td>31.914712</td>\n",
              "    </tr>\n",
              "    <tr>\n",
              "      <td>1</td>\n",
              "      <td>Random Forest</td>\n",
              "      <td>40.919525</td>\n",
              "    </tr>\n",
              "    <tr>\n",
              "      <td>2</td>\n",
              "      <td>Decision Tree</td>\n",
              "      <td>54.062862</td>\n",
              "    </tr>\n",
              "    <tr>\n",
              "      <td>3</td>\n",
              "      <td>Catboost</td>\n",
              "      <td>45.829095</td>\n",
              "    </tr>\n",
              "  </tbody>\n",
              "</table>\n",
              "</div>"
            ],
            "text/plain": [
              "               Model  RMSE, orders\n",
              "0  Linear Regression     31.914712\n",
              "1      Random Forest     40.919525\n",
              "2      Decision Tree     54.062862\n",
              "3           Catboost     45.829095"
            ]
          },
          "execution_count": 19,
          "metadata": {},
          "output_type": "execute_result"
        }
      ],
      "source": [
        "model = CatBoostRegressor(loss_function=\"RMSE\", iterations=90)\n",
        "model.fit(train.drop(['num_orders'], axis=1), train['num_orders'])\n",
        "pred_test = model.predict(test.drop(['num_orders'], axis=1))\n",
        "\n",
        "current_model = pd.DataFrame({'Model': ['Catboost'],\n",
        "              'RMSE, orders': mean_squared_error(test['num_orders'], pred_test)**0.5})\n",
        "all_models = all_models.merge(current_model, how = 'outer')\n",
        "all_models"
      ]
    },
    {
      "cell_type": "markdown",
      "metadata": {
        "id": "IRiixxyq3oqq"
      },
      "source": [
        "### Градиентный бустинг LightGBM"
      ]
    },
    {
      "cell_type": "code",
      "execution_count": null,
      "metadata": {
        "id": "psGQ4G5O3oqq",
        "outputId": "a8c51bb0-c4ed-428a-c9db-421b0e7bfab8"
      },
      "outputs": [
        {
          "data": {
            "text/html": [
              "<div>\n",
              "<style scoped>\n",
              "    .dataframe tbody tr th:only-of-type {\n",
              "        vertical-align: middle;\n",
              "    }\n",
              "\n",
              "    .dataframe tbody tr th {\n",
              "        vertical-align: top;\n",
              "    }\n",
              "\n",
              "    .dataframe thead th {\n",
              "        text-align: right;\n",
              "    }\n",
              "</style>\n",
              "<table border=\"1\" class=\"dataframe\">\n",
              "  <thead>\n",
              "    <tr style=\"text-align: right;\">\n",
              "      <th></th>\n",
              "      <th>Model</th>\n",
              "      <th>RMSE, orders</th>\n",
              "    </tr>\n",
              "  </thead>\n",
              "  <tbody>\n",
              "    <tr>\n",
              "      <td>0</td>\n",
              "      <td>Linear Regression</td>\n",
              "      <td>31.914712</td>\n",
              "    </tr>\n",
              "    <tr>\n",
              "      <td>1</td>\n",
              "      <td>Random Forest</td>\n",
              "      <td>40.919525</td>\n",
              "    </tr>\n",
              "    <tr>\n",
              "      <td>2</td>\n",
              "      <td>Decision Tree</td>\n",
              "      <td>54.062862</td>\n",
              "    </tr>\n",
              "    <tr>\n",
              "      <td>3</td>\n",
              "      <td>Catboost</td>\n",
              "      <td>45.829095</td>\n",
              "    </tr>\n",
              "    <tr>\n",
              "      <td>4</td>\n",
              "      <td>LightGBM</td>\n",
              "      <td>34.132842</td>\n",
              "    </tr>\n",
              "  </tbody>\n",
              "</table>\n",
              "</div>"
            ],
            "text/plain": [
              "               Model  RMSE, orders\n",
              "0  Linear Regression     31.914712\n",
              "1      Random Forest     40.919525\n",
              "2      Decision Tree     54.062862\n",
              "3           Catboost     45.829095\n",
              "4           LightGBM     34.132842"
            ]
          },
          "execution_count": 20,
          "metadata": {},
          "output_type": "execute_result"
        }
      ],
      "source": [
        "model = LGBMRegressor(random_state=23)\n",
        "model.fit(train.drop(['num_orders'], axis=1), train['num_orders'], eval_metric=[\"rmse\"])\n",
        "pred_test = model.predict(test.drop(['num_orders'], axis=1))\n",
        "\n",
        "current_model = pd.DataFrame({'Model': ['LightGBM'],\n",
        "              'RMSE, orders': mean_squared_error(test['num_orders'], pred_test)**0.5})\n",
        "all_models = all_models.merge(current_model, how = 'outer')\n",
        "all_models"
      ]
    },
    {
      "cell_type": "markdown",
      "metadata": {
        "id": "iBvQV8Rm3oqq"
      },
      "source": [
        "## Выводы"
      ]
    },
    {
      "cell_type": "markdown",
      "metadata": {
        "id": "OC5vC-Uh3oqq"
      },
      "source": [
        "Все модели практически отвечают требованию технического задания получить RMSE менее 48 заказов. Наименьшая ошибка - у линейной регрессии, значение метрики RMSE - 32 заказа. Также мы можем посмотреть на значимость факторов, которые определили прогноз в наибольшей степени. Для этого возьмём другую модель, случайный лес. Её значение метрики также низкое, 41 заказ, однако для данной модели мы можем более подробно исследовать значимость признаков."
      ]
    },
    {
      "cell_type": "code",
      "execution_count": null,
      "metadata": {
        "id": "Ihv5AtWr3oqr",
        "outputId": "2deca104-0060-436a-e124-8095784bf500"
      },
      "outputs": [
        {
          "data": {
            "image/png": "[encoded data removed]",
            "text/plain": [
              "<Figure size 720x360 with 1 Axes>"
            ]
          },
          "metadata": {
            "needs_background": "light"
          },
          "output_type": "display_data"
        }
      ],
      "source": [
        "model = RandomForestRegressor(random_state = 23)\n",
        "model.fit(train.drop(['num_orders'], axis=1), train['num_orders'])\n",
        "table = pd.DataFrame(model.feature_importances_, df.columns[1:])\n",
        "table.plot(kind = 'bar', color = 'purple', figsize = (10,5))\n",
        "None"
      ]
    },
    {
      "cell_type": "markdown",
      "metadata": {
        "id": "FQXGgTzj3oqr"
      },
      "source": [
        "Ожидаемо наиболее значимый признак - скользящее среднее, причём с окном в 10 часов и сдвиг на 1 единицу. Среди сезонных признаков, мы ранее видели на графиках наиболее очевидную связь числа заказов с часом, это подтверждается и значимостью данного фактора в уравнении регрессии. Предсказывать количество заказов на следующий час следуюет исходя из среднего для данного часа внутри суток: пики на утро до 11 часов, в райне 17 часов и в районе 12 ночи, что может быть связано с расписанием рейсов в данном аэропорту. Популярность такси анализируемого сервиса растёт, поэтому прогноз также учитывает данный тренд."
      ]
    }
  ],
  "metadata": {
    "ExecuteTimeLog": [
      {
        "duration": 54822,
        "start_time": "2022-02-17T17:22:06.885Z"
      },
      {
        "duration": 51,
        "start_time": "2022-02-17T17:23:42.124Z"
      },
      {
        "duration": 101,
        "start_time": "2022-02-17T17:24:12.274Z"
      },
      {
        "duration": 50,
        "start_time": "2022-02-17T17:24:20.393Z"
      },
      {
        "duration": 15,
        "start_time": "2022-02-17T17:26:07.946Z"
      },
      {
        "duration": 293,
        "start_time": "2022-02-17T17:27:27.422Z"
      },
      {
        "duration": 2128,
        "start_time": "2022-02-21T07:59:00.044Z"
      },
      {
        "duration": 304,
        "start_time": "2022-02-21T07:59:02.174Z"
      },
      {
        "duration": 200,
        "start_time": "2022-02-21T07:59:04.473Z"
      },
      {
        "duration": 8,
        "start_time": "2022-02-21T07:59:42.194Z"
      },
      {
        "duration": 6,
        "start_time": "2022-02-21T08:08:48.448Z"
      },
      {
        "duration": 4,
        "start_time": "2022-02-21T08:09:57.344Z"
      },
      {
        "duration": 120,
        "start_time": "2022-02-21T08:28:39.190Z"
      },
      {
        "duration": 11,
        "start_time": "2022-02-21T08:32:16.995Z"
      },
      {
        "duration": 206,
        "start_time": "2022-02-21T08:33:05.774Z"
      },
      {
        "duration": 608,
        "start_time": "2022-02-21T08:34:24.206Z"
      },
      {
        "duration": 431,
        "start_time": "2022-02-21T08:34:31.490Z"
      },
      {
        "duration": 1135,
        "start_time": "2022-02-21T08:34:49.611Z"
      },
      {
        "duration": 51,
        "start_time": "2022-02-21T08:34:50.748Z"
      },
      {
        "duration": 205,
        "start_time": "2022-02-21T08:34:50.801Z"
      },
      {
        "duration": 4,
        "start_time": "2022-02-21T08:34:51.008Z"
      },
      {
        "duration": 9,
        "start_time": "2022-02-21T08:34:51.014Z"
      },
      {
        "duration": 24,
        "start_time": "2022-02-21T08:34:51.025Z"
      },
      {
        "duration": 4,
        "start_time": "2022-02-21T08:34:51.051Z"
      },
      {
        "duration": 283,
        "start_time": "2022-02-21T08:36:29.353Z"
      },
      {
        "duration": 325,
        "start_time": "2022-02-21T08:36:53.138Z"
      },
      {
        "duration": 10,
        "start_time": "2022-02-21T08:41:26.987Z"
      },
      {
        "duration": 341,
        "start_time": "2022-02-21T08:41:42.858Z"
      },
      {
        "duration": 461,
        "start_time": "2022-02-21T14:24:41.862Z"
      },
      {
        "duration": 427,
        "start_time": "2022-02-21T14:24:55.401Z"
      },
      {
        "duration": 9099,
        "start_time": "2022-02-21T14:25:34.693Z"
      },
      {
        "duration": 4,
        "start_time": "2022-02-21T14:26:36.565Z"
      },
      {
        "duration": 4,
        "start_time": "2022-02-21T14:26:54.989Z"
      },
      {
        "duration": 9330,
        "start_time": "2022-02-21T14:27:04.702Z"
      },
      {
        "duration": 9,
        "start_time": "2022-02-21T14:27:41.029Z"
      },
      {
        "duration": 8474,
        "start_time": "2022-02-21T14:28:11.887Z"
      },
      {
        "duration": 6,
        "start_time": "2022-02-21T14:28:34.487Z"
      },
      {
        "duration": 10117,
        "start_time": "2022-02-21T14:29:01.757Z"
      },
      {
        "duration": 7,
        "start_time": "2022-02-21T14:29:59.887Z"
      },
      {
        "duration": 11,
        "start_time": "2022-02-21T14:30:19.589Z"
      },
      {
        "duration": 359,
        "start_time": "2022-02-21T14:30:32.134Z"
      },
      {
        "duration": 370,
        "start_time": "2022-02-21T14:30:39.149Z"
      },
      {
        "duration": 7,
        "start_time": "2022-02-21T14:31:09.797Z"
      },
      {
        "duration": 378,
        "start_time": "2022-02-21T14:31:11.838Z"
      },
      {
        "duration": 1153,
        "start_time": "2022-02-21T14:31:31.382Z"
      },
      {
        "duration": 41,
        "start_time": "2022-02-21T14:31:32.537Z"
      },
      {
        "duration": 212,
        "start_time": "2022-02-21T14:31:32.580Z"
      },
      {
        "duration": 6,
        "start_time": "2022-02-21T14:31:32.795Z"
      },
      {
        "duration": 6,
        "start_time": "2022-02-21T14:31:32.802Z"
      },
      {
        "duration": 10,
        "start_time": "2022-02-21T14:31:32.810Z"
      },
      {
        "duration": 25,
        "start_time": "2022-02-21T14:31:32.822Z"
      },
      {
        "duration": 338,
        "start_time": "2022-02-21T14:31:32.849Z"
      },
      {
        "duration": 8,
        "start_time": "2022-02-21T14:31:33.188Z"
      },
      {
        "duration": 350,
        "start_time": "2022-02-21T14:31:33.198Z"
      },
      {
        "duration": 9,
        "start_time": "2022-02-21T14:31:33.550Z"
      },
      {
        "duration": 426,
        "start_time": "2022-02-21T14:31:33.560Z"
      },
      {
        "duration": 828,
        "start_time": "2022-02-21T14:37:18.123Z"
      },
      {
        "duration": 388,
        "start_time": "2022-02-21T14:37:27.754Z"
      },
      {
        "duration": 465,
        "start_time": "2022-02-21T14:40:23.628Z"
      },
      {
        "duration": 1087,
        "start_time": "2022-02-21T14:42:01.963Z"
      },
      {
        "duration": 847,
        "start_time": "2022-02-21T14:42:29.940Z"
      },
      {
        "duration": 794,
        "start_time": "2022-02-21T14:42:55.429Z"
      },
      {
        "duration": 693,
        "start_time": "2022-02-21T14:44:01.067Z"
      },
      {
        "duration": 612,
        "start_time": "2022-02-21T14:44:50.291Z"
      },
      {
        "duration": 108,
        "start_time": "2022-02-21T14:45:48.187Z"
      },
      {
        "duration": 482,
        "start_time": "2022-02-21T14:47:39.276Z"
      },
      {
        "duration": 571,
        "start_time": "2022-02-21T14:47:43.580Z"
      },
      {
        "duration": 530,
        "start_time": "2022-02-21T14:48:01.773Z"
      },
      {
        "duration": 358,
        "start_time": "2022-02-21T14:48:06.924Z"
      },
      {
        "duration": 13,
        "start_time": "2022-02-21T14:56:50.373Z"
      },
      {
        "duration": 1202,
        "start_time": "2022-02-21T14:57:06.345Z"
      },
      {
        "duration": 39,
        "start_time": "2022-02-21T14:57:07.549Z"
      },
      {
        "duration": 198,
        "start_time": "2022-02-21T14:57:07.590Z"
      },
      {
        "duration": 4,
        "start_time": "2022-02-21T14:57:07.790Z"
      },
      {
        "duration": 7,
        "start_time": "2022-02-21T14:57:07.795Z"
      },
      {
        "duration": 11,
        "start_time": "2022-02-21T14:57:07.803Z"
      },
      {
        "duration": 8,
        "start_time": "2022-02-21T14:57:07.815Z"
      },
      {
        "duration": 358,
        "start_time": "2022-02-21T14:57:07.825Z"
      },
      {
        "duration": 10,
        "start_time": "2022-02-21T14:57:11.285Z"
      },
      {
        "duration": 9,
        "start_time": "2022-02-21T14:57:14.718Z"
      },
      {
        "duration": 292,
        "start_time": "2022-02-21T14:58:47.381Z"
      },
      {
        "duration": 10,
        "start_time": "2022-02-21T14:58:50.845Z"
      },
      {
        "duration": 409,
        "start_time": "2022-02-21T14:58:52.637Z"
      },
      {
        "duration": 728,
        "start_time": "2022-02-21T14:58:55.877Z"
      },
      {
        "duration": 433,
        "start_time": "2022-02-21T15:01:05.446Z"
      },
      {
        "duration": 674,
        "start_time": "2022-02-21T15:01:19.838Z"
      },
      {
        "duration": 26,
        "start_time": "2022-02-21T15:01:33.155Z"
      },
      {
        "duration": 339,
        "start_time": "2022-02-21T15:08:16.903Z"
      },
      {
        "duration": 413,
        "start_time": "2022-02-21T15:08:38.208Z"
      },
      {
        "duration": 230,
        "start_time": "2022-02-21T15:09:08.416Z"
      },
      {
        "duration": 21,
        "start_time": "2022-02-21T15:09:49.727Z"
      },
      {
        "duration": 22,
        "start_time": "2022-02-21T15:10:04.243Z"
      },
      {
        "duration": 1161,
        "start_time": "2022-02-21T15:10:23.692Z"
      },
      {
        "duration": 50,
        "start_time": "2022-02-21T15:10:24.855Z"
      },
      {
        "duration": 211,
        "start_time": "2022-02-21T15:10:24.907Z"
      },
      {
        "duration": 4,
        "start_time": "2022-02-21T15:10:25.120Z"
      },
      {
        "duration": 9,
        "start_time": "2022-02-21T15:10:25.125Z"
      },
      {
        "duration": 19,
        "start_time": "2022-02-21T15:10:25.135Z"
      },
      {
        "duration": 5,
        "start_time": "2022-02-21T15:10:25.156Z"
      },
      {
        "duration": 351,
        "start_time": "2022-02-21T15:10:25.163Z"
      },
      {
        "duration": 9,
        "start_time": "2022-02-21T15:10:25.516Z"
      },
      {
        "duration": 459,
        "start_time": "2022-02-21T15:10:25.527Z"
      },
      {
        "duration": 11,
        "start_time": "2022-02-21T15:10:25.988Z"
      },
      {
        "duration": 427,
        "start_time": "2022-02-21T15:10:26.001Z"
      },
      {
        "duration": 685,
        "start_time": "2022-02-21T15:10:26.430Z"
      },
      {
        "duration": 31,
        "start_time": "2022-02-21T15:10:27.116Z"
      },
      {
        "duration": 19,
        "start_time": "2022-02-21T15:10:27.148Z"
      },
      {
        "duration": 7,
        "start_time": "2022-02-21T15:11:58.160Z"
      },
      {
        "duration": 143,
        "start_time": "2022-02-21T15:14:22.208Z"
      },
      {
        "duration": 148,
        "start_time": "2022-02-21T15:14:32.417Z"
      },
      {
        "duration": 187,
        "start_time": "2022-02-21T15:23:28.136Z"
      },
      {
        "duration": 61,
        "start_time": "2022-02-21T15:23:40.089Z"
      },
      {
        "duration": 182,
        "start_time": "2022-02-21T15:23:42.529Z"
      },
      {
        "duration": 41,
        "start_time": "2022-02-21T15:24:36.763Z"
      },
      {
        "duration": 2895,
        "start_time": "2022-02-21T15:28:12.418Z"
      },
      {
        "duration": 1274,
        "start_time": "2022-02-21T15:29:50.882Z"
      },
      {
        "duration": 4,
        "start_time": "2022-02-21T15:30:59.530Z"
      },
      {
        "duration": 16,
        "start_time": "2022-02-21T15:31:11.145Z"
      },
      {
        "duration": 170,
        "start_time": "2022-02-21T15:31:57.083Z"
      },
      {
        "duration": 582,
        "start_time": "2022-02-21T15:33:07.098Z"
      },
      {
        "duration": 171,
        "start_time": "2022-02-21T15:33:10.226Z"
      },
      {
        "duration": 305,
        "start_time": "2022-02-21T15:36:52.814Z"
      },
      {
        "duration": 514,
        "start_time": "2022-02-21T15:37:05.697Z"
      },
      {
        "duration": 349,
        "start_time": "2022-02-21T15:37:14.073Z"
      },
      {
        "duration": 362,
        "start_time": "2022-02-21T15:39:19.721Z"
      },
      {
        "duration": 1176,
        "start_time": "2022-02-21T15:39:32.093Z"
      },
      {
        "duration": 41,
        "start_time": "2022-02-21T15:39:33.271Z"
      },
      {
        "duration": 211,
        "start_time": "2022-02-21T15:39:33.314Z"
      },
      {
        "duration": 6,
        "start_time": "2022-02-21T15:39:33.527Z"
      },
      {
        "duration": 16,
        "start_time": "2022-02-21T15:39:33.534Z"
      },
      {
        "duration": 13,
        "start_time": "2022-02-21T15:39:33.551Z"
      },
      {
        "duration": 6,
        "start_time": "2022-02-21T15:39:33.565Z"
      },
      {
        "duration": 374,
        "start_time": "2022-02-21T15:39:33.574Z"
      },
      {
        "duration": 10,
        "start_time": "2022-02-21T15:39:33.950Z"
      },
      {
        "duration": 315,
        "start_time": "2022-02-21T15:39:33.961Z"
      },
      {
        "duration": 9,
        "start_time": "2022-02-21T15:39:34.277Z"
      },
      {
        "duration": 526,
        "start_time": "2022-02-21T15:39:34.287Z"
      },
      {
        "duration": 676,
        "start_time": "2022-02-21T15:39:34.815Z"
      },
      {
        "duration": 27,
        "start_time": "2022-02-21T15:39:35.492Z"
      },
      {
        "duration": 7,
        "start_time": "2022-02-21T15:39:35.520Z"
      },
      {
        "duration": 35,
        "start_time": "2022-02-21T15:39:35.528Z"
      },
      {
        "duration": 316,
        "start_time": "2022-02-21T15:39:35.565Z"
      },
      {
        "duration": 39,
        "start_time": "2022-02-21T15:39:35.882Z"
      },
      {
        "duration": 2541,
        "start_time": "2022-02-21T15:39:35.922Z"
      },
      {
        "duration": 1092,
        "start_time": "2022-02-21T15:39:38.465Z"
      },
      {
        "duration": 390,
        "start_time": "2022-02-21T15:39:39.558Z"
      },
      {
        "duration": 1331,
        "start_time": "2022-02-21T15:41:07.022Z"
      },
      {
        "duration": 43,
        "start_time": "2022-02-21T15:41:08.354Z"
      },
      {
        "duration": 225,
        "start_time": "2022-02-21T15:41:08.400Z"
      },
      {
        "duration": 5,
        "start_time": "2022-02-21T15:41:08.626Z"
      },
      {
        "duration": 17,
        "start_time": "2022-02-21T15:41:08.633Z"
      },
      {
        "duration": 14,
        "start_time": "2022-02-21T15:41:08.652Z"
      },
      {
        "duration": 5,
        "start_time": "2022-02-21T15:41:08.669Z"
      },
      {
        "duration": 360,
        "start_time": "2022-02-21T15:41:08.676Z"
      },
      {
        "duration": 9,
        "start_time": "2022-02-21T15:41:09.045Z"
      },
      {
        "duration": 304,
        "start_time": "2022-02-21T15:41:09.056Z"
      },
      {
        "duration": 9,
        "start_time": "2022-02-21T15:41:09.362Z"
      },
      {
        "duration": 441,
        "start_time": "2022-02-21T15:41:09.373Z"
      },
      {
        "duration": 704,
        "start_time": "2022-02-21T15:41:09.816Z"
      },
      {
        "duration": 34,
        "start_time": "2022-02-21T15:41:10.521Z"
      },
      {
        "duration": 7,
        "start_time": "2022-02-21T15:41:10.556Z"
      },
      {
        "duration": 15,
        "start_time": "2022-02-21T15:41:10.565Z"
      },
      {
        "duration": 307,
        "start_time": "2022-02-21T15:41:10.581Z"
      },
      {
        "duration": 39,
        "start_time": "2022-02-21T15:41:10.889Z"
      },
      {
        "duration": 2830,
        "start_time": "2022-02-21T15:41:10.930Z"
      },
      {
        "duration": 1086,
        "start_time": "2022-02-21T15:41:13.762Z"
      },
      {
        "duration": 370,
        "start_time": "2022-02-21T15:41:14.850Z"
      },
      {
        "duration": 2445,
        "start_time": "2022-02-21T18:17:09.456Z"
      },
      {
        "duration": 149,
        "start_time": "2022-02-21T18:17:11.904Z"
      },
      {
        "duration": 412,
        "start_time": "2022-02-21T18:17:12.056Z"
      },
      {
        "duration": 8,
        "start_time": "2022-02-21T18:17:12.471Z"
      },
      {
        "duration": 31,
        "start_time": "2022-02-21T18:17:12.481Z"
      },
      {
        "duration": 19,
        "start_time": "2022-02-21T18:17:12.515Z"
      },
      {
        "duration": 7,
        "start_time": "2022-02-21T18:17:12.537Z"
      },
      {
        "duration": 738,
        "start_time": "2022-02-21T18:17:12.550Z"
      },
      {
        "duration": 29,
        "start_time": "2022-02-21T18:17:13.291Z"
      },
      {
        "duration": 12,
        "start_time": "2022-02-21T18:17:13.323Z"
      },
      {
        "duration": 555,
        "start_time": "2022-02-21T18:17:13.338Z"
      },
      {
        "duration": 23,
        "start_time": "2022-02-21T18:17:13.895Z"
      },
      {
        "duration": 720,
        "start_time": "2022-02-21T18:17:13.920Z"
      },
      {
        "duration": 1195,
        "start_time": "2022-02-21T18:17:14.642Z"
      },
      {
        "duration": 43,
        "start_time": "2022-02-21T18:17:15.839Z"
      },
      {
        "duration": 36,
        "start_time": "2022-02-21T18:17:15.884Z"
      },
      {
        "duration": 25,
        "start_time": "2022-02-21T18:17:15.922Z"
      },
      {
        "duration": 383,
        "start_time": "2022-02-21T18:17:15.950Z"
      },
      {
        "duration": 55,
        "start_time": "2022-02-21T18:17:16.336Z"
      },
      {
        "duration": 4199,
        "start_time": "2022-02-21T18:17:16.410Z"
      },
      {
        "duration": 2001,
        "start_time": "2022-02-21T18:17:20.611Z"
      },
      {
        "duration": 611,
        "start_time": "2022-02-21T18:17:22.615Z"
      },
      {
        "duration": 1171,
        "start_time": "2022-02-22T09:15:00.341Z"
      },
      {
        "duration": 40,
        "start_time": "2022-02-22T09:15:01.514Z"
      },
      {
        "duration": 284,
        "start_time": "2022-02-22T09:15:01.556Z"
      },
      {
        "duration": 6,
        "start_time": "2022-02-22T09:15:01.842Z"
      },
      {
        "duration": 12,
        "start_time": "2022-02-22T09:15:01.849Z"
      },
      {
        "duration": 15,
        "start_time": "2022-02-22T09:15:01.863Z"
      },
      {
        "duration": 11,
        "start_time": "2022-02-22T09:15:01.880Z"
      },
      {
        "duration": 406,
        "start_time": "2022-02-22T09:15:01.920Z"
      },
      {
        "duration": 10,
        "start_time": "2022-02-22T09:15:02.329Z"
      },
      {
        "duration": 389,
        "start_time": "2022-02-22T09:15:02.341Z"
      },
      {
        "duration": 10,
        "start_time": "2022-02-22T09:15:02.732Z"
      },
      {
        "duration": 523,
        "start_time": "2022-02-22T09:15:02.743Z"
      },
      {
        "duration": 940,
        "start_time": "2022-02-22T09:15:03.267Z"
      },
      {
        "duration": 31,
        "start_time": "2022-02-22T09:15:04.209Z"
      },
      {
        "duration": 7,
        "start_time": "2022-02-22T09:15:04.241Z"
      },
      {
        "duration": 17,
        "start_time": "2022-02-22T09:15:04.250Z"
      },
      {
        "duration": 291,
        "start_time": "2022-02-22T09:15:04.320Z"
      },
      {
        "duration": 49,
        "start_time": "2022-02-22T09:15:04.613Z"
      },
      {
        "duration": 2592,
        "start_time": "2022-02-22T09:15:04.663Z"
      },
      {
        "duration": 1384,
        "start_time": "2022-02-22T09:15:07.257Z"
      },
      {
        "duration": 508,
        "start_time": "2022-02-22T09:15:08.642Z"
      },
      {
        "duration": 97957,
        "start_time": "2022-02-22T09:47:05.466Z"
      },
      {
        "duration": 21,
        "start_time": "2022-02-22T09:49:09.067Z"
      },
      {
        "duration": 19,
        "start_time": "2022-02-22T09:49:24.399Z"
      },
      {
        "duration": 388,
        "start_time": "2022-02-22T09:49:48.571Z"
      },
      {
        "duration": 238,
        "start_time": "2022-02-22T09:50:05.826Z"
      },
      {
        "duration": 26865,
        "start_time": "2022-02-22T09:50:10.364Z"
      },
      {
        "duration": 186,
        "start_time": "2022-02-22T09:50:47.389Z"
      },
      {
        "duration": 1200,
        "start_time": "2022-02-22T09:50:56.195Z"
      },
      {
        "duration": 38,
        "start_time": "2022-02-22T09:50:57.397Z"
      },
      {
        "duration": 273,
        "start_time": "2022-02-22T09:50:57.440Z"
      },
      {
        "duration": 7,
        "start_time": "2022-02-22T09:50:57.714Z"
      },
      {
        "duration": 10,
        "start_time": "2022-02-22T09:50:57.723Z"
      },
      {
        "duration": 14,
        "start_time": "2022-02-22T09:50:57.734Z"
      },
      {
        "duration": 5,
        "start_time": "2022-02-22T09:50:57.752Z"
      },
      {
        "duration": 411,
        "start_time": "2022-02-22T09:50:57.760Z"
      },
      {
        "duration": 11,
        "start_time": "2022-02-22T09:50:58.173Z"
      },
      {
        "duration": 365,
        "start_time": "2022-02-22T09:50:58.185Z"
      },
      {
        "duration": 9,
        "start_time": "2022-02-22T09:50:58.552Z"
      },
      {
        "duration": 488,
        "start_time": "2022-02-22T09:50:58.563Z"
      },
      {
        "duration": 794,
        "start_time": "2022-02-22T09:50:59.053Z"
      },
      {
        "duration": 30,
        "start_time": "2022-02-22T09:50:59.849Z"
      },
      {
        "duration": 8,
        "start_time": "2022-02-22T09:50:59.880Z"
      },
      {
        "duration": 40,
        "start_time": "2022-02-22T09:50:59.890Z"
      },
      {
        "duration": 336,
        "start_time": "2022-02-22T09:50:59.931Z"
      },
      {
        "duration": 55,
        "start_time": "2022-02-22T09:51:00.269Z"
      },
      {
        "duration": 2286,
        "start_time": "2022-02-22T09:51:00.326Z"
      },
      {
        "duration": 1310,
        "start_time": "2022-02-22T09:51:02.614Z"
      },
      {
        "duration": 41719,
        "start_time": "2022-02-22T09:51:03.926Z"
      },
      {
        "duration": 425,
        "start_time": "2022-02-22T09:51:45.649Z"
      },
      {
        "duration": 1872,
        "start_time": "2022-02-22T09:51:44.204Z"
      },
      {
        "duration": 56,
        "start_time": "2022-02-22T12:17:04.502Z"
      },
      {
        "duration": 472,
        "start_time": "2022-02-22T12:35:28.991Z"
      },
      {
        "duration": 101711,
        "start_time": "2022-02-22T13:07:31.711Z"
      },
      {
        "duration": 4,
        "start_time": "2022-02-22T13:42:31.088Z"
      },
      {
        "duration": 39,
        "start_time": "2022-02-22T13:42:31.097Z"
      },
      {
        "duration": 285,
        "start_time": "2022-02-22T13:42:31.138Z"
      },
      {
        "duration": 5,
        "start_time": "2022-02-22T13:42:31.425Z"
      },
      {
        "duration": 10,
        "start_time": "2022-02-22T13:42:31.432Z"
      },
      {
        "duration": 17,
        "start_time": "2022-02-22T13:42:31.443Z"
      },
      {
        "duration": 5,
        "start_time": "2022-02-22T13:42:31.462Z"
      },
      {
        "duration": 426,
        "start_time": "2022-02-22T13:42:31.469Z"
      },
      {
        "duration": 8,
        "start_time": "2022-02-22T13:42:31.897Z"
      },
      {
        "duration": 379,
        "start_time": "2022-02-22T13:42:31.907Z"
      },
      {
        "duration": 9,
        "start_time": "2022-02-22T13:42:32.288Z"
      },
      {
        "duration": 568,
        "start_time": "2022-02-22T13:42:32.299Z"
      },
      {
        "duration": 857,
        "start_time": "2022-02-22T13:42:32.869Z"
      },
      {
        "duration": 28,
        "start_time": "2022-02-22T13:42:33.727Z"
      },
      {
        "duration": 7,
        "start_time": "2022-02-22T13:42:33.756Z"
      },
      {
        "duration": 59,
        "start_time": "2022-02-22T13:42:33.765Z"
      },
      {
        "duration": 307,
        "start_time": "2022-02-22T13:42:33.827Z"
      },
      {
        "duration": 46,
        "start_time": "2022-02-22T13:42:34.135Z"
      },
      {
        "duration": 2886,
        "start_time": "2022-02-22T13:42:34.183Z"
      },
      {
        "duration": 1560,
        "start_time": "2022-02-22T13:42:37.071Z"
      },
      {
        "duration": 459,
        "start_time": "2022-02-22T13:42:38.633Z"
      },
      {
        "duration": 203,
        "start_time": "2022-02-22T13:42:39.094Z"
      },
      {
        "duration": 1134,
        "start_time": "2022-02-22T13:44:09.080Z"
      },
      {
        "duration": 39,
        "start_time": "2022-02-22T13:44:10.216Z"
      },
      {
        "duration": 263,
        "start_time": "2022-02-22T13:44:10.257Z"
      },
      {
        "duration": 5,
        "start_time": "2022-02-22T13:44:10.522Z"
      },
      {
        "duration": 8,
        "start_time": "2022-02-22T13:44:10.529Z"
      },
      {
        "duration": 13,
        "start_time": "2022-02-22T13:44:10.539Z"
      },
      {
        "duration": 8,
        "start_time": "2022-02-22T13:44:10.554Z"
      },
      {
        "duration": 428,
        "start_time": "2022-02-22T13:44:10.565Z"
      },
      {
        "duration": 10,
        "start_time": "2022-02-22T13:44:10.995Z"
      },
      {
        "duration": 390,
        "start_time": "2022-02-22T13:44:11.007Z"
      },
      {
        "duration": 21,
        "start_time": "2022-02-22T13:44:11.398Z"
      },
      {
        "duration": 515,
        "start_time": "2022-02-22T13:44:11.420Z"
      },
      {
        "duration": 845,
        "start_time": "2022-02-22T13:44:11.937Z"
      },
      {
        "duration": 36,
        "start_time": "2022-02-22T13:44:12.784Z"
      },
      {
        "duration": 8,
        "start_time": "2022-02-22T13:44:12.822Z"
      },
      {
        "duration": 19,
        "start_time": "2022-02-22T13:44:12.832Z"
      },
      {
        "duration": 288,
        "start_time": "2022-02-22T13:44:12.852Z"
      },
      {
        "duration": 44,
        "start_time": "2022-02-22T13:44:13.141Z"
      },
      {
        "duration": 2169,
        "start_time": "2022-02-22T13:44:13.187Z"
      },
      {
        "duration": 1279,
        "start_time": "2022-02-22T13:44:15.358Z"
      },
      {
        "duration": 467,
        "start_time": "2022-02-22T13:44:16.638Z"
      },
      {
        "duration": 70,
        "start_time": "2022-02-22T13:57:09.220Z"
      },
      {
        "duration": 63,
        "start_time": "2022-02-22T14:00:52.044Z"
      },
      {
        "duration": 13,
        "start_time": "2022-02-22T14:01:18.895Z"
      }
    ],
    "kernelspec": {
      "display_name": "Python 3 (ipykernel)",
      "language": "python",
      "name": "python3"
    },
    "language_info": {
      "codemirror_mode": {
        "name": "ipython",
        "version": 3
      },
      "file_extension": ".py",
      "mimetype": "text/x-python",
      "name": "python",
      "nbconvert_exporter": "python",
      "pygments_lexer": "ipython3",
      "version": "3.9.5"
    },
    "toc": {
      "base_numbering": 1,
      "nav_menu": {},
      "number_sections": true,
      "sideBar": true,
      "skip_h1_title": true,
      "title_cell": "Содержание",
      "title_sidebar": "Contents",
      "toc_cell": true,
      "toc_position": {},
      "toc_section_display": true,
      "toc_window_display": false
    },
    "colab": {
      "name": "DariaNika_stats&time-series_order_predictions_taxi.ipynb",
      "provenance": [],
      "collapsed_sections": [
        "8H6cwBJ13oqp",
        "6Sy5rdSu3oqp",
        "gjyQ0HRe3oqp",
        "_FxvLw6R3oqq",
        "IRiixxyq3oqq"
      ]
    }
  },
  "nbformat": 4,
  "nbformat_minor": 0
}