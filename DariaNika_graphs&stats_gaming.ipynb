{
  "cells": [
    {
      "cell_type": "markdown",
      "metadata": {
        "id": "iU3MZ-uadtXr"
      },
      "source": [
        "# Определение факторов успешности видеоигр"
      ]
    },
    {
      "cell_type": "markdown",
      "metadata": {
        "id": "bZ3Z4yWPdtXs"
      },
      "source": [
        "Нам предоставлена база интернет-магазина «Стримчик», который продаёт по всему миру компьютерные игры. Из открытых источников доступны исторические данные о продажах игр, оценки пользователей и экспертов, жанры и платформы (например, Xbox или PlayStation).\n",
        "\n",
        "**Основная цель - выявить определяющие успешность игры закономерности. Это позволит сделать ставку на потенциально популярный продукт и спланировать рекламные кампании.**\n",
        "\n",
        "Данные за период до 2016 года. Сейчас конец 2016 г., и планируется кампания на 2017-й. Нужно отработать принцип работы с данными.\n",
        "\n",
        "База представляет собой одну таблицу из 11 колонок: название игры, платформа, год выпуска игры, жанр, продажи в четырёх регионах (Северная Америка, Европа, Япония и другое), рейтинг критиков, рейтинг пользователей и возрастные ограничения игры. В базе 16 715 строк.\n",
        "\n",
        "В работе используются t-тесты, коэффициенты корреляции и критерий значимости Хи-квадрат, чтобы описать связи между признаками. Проведён подробный графический анализ переменных. Используются библиотеки pandas, numpy, matplorlib, scipy."
      ]
    },
    {
      "cell_type": "markdown",
      "metadata": {
        "id": "zDrOVPkydtXt"
      },
      "source": [
        "## Чтение базы данных"
      ]
    },
    {
      "cell_type": "code",
      "execution_count": 1,
      "metadata": {
        "id": "IlXK0i-bdtXu"
      },
      "outputs": [],
      "source": [
        "import pandas as pd\n",
        "import numpy as np\n",
        "import matplotlib.pyplot as plt\n",
        "from scipy import stats as st"
      ]
    },
    {
      "cell_type": "markdown",
      "metadata": {
        "id": "z76u97HSdtXw"
      },
      "source": [
        "Читаем файл. Заранее оговорим, что в базе особый разделитель в данных - \",\", укажем его в качестве аргумента. Десятые доли отображаются корректно, поэтому аргумент decimals при чтении данных опустим."
      ]
    },
    {
      "cell_type": "code",
      "execution_count": 2,
      "metadata": {
        "colab": {
          "base_uri": "https://localhost:8080/",
          "height": 736
        },
        "id": "2AKcJ5T4dtXw",
        "outputId": "09b70d75-7cd7-4801-d546-b029bdf4e9a0"
      },
      "outputs": [
        {
          "output_type": "display_data",
          "data": {
            "text/plain": [
              "                                Name Platform  Year_of_Release         Genre  \\\n",
              "0                         Wii Sports      Wii           2006.0        Sports   \n",
              "1                  Super Mario Bros.      NES           1985.0      Platform   \n",
              "2                     Mario Kart Wii      Wii           2008.0        Racing   \n",
              "3                  Wii Sports Resort      Wii           2009.0        Sports   \n",
              "4           Pokemon Red/Pokemon Blue       GB           1996.0  Role-Playing   \n",
              "...                              ...      ...              ...           ...   \n",
              "16710  Samurai Warriors: Sanada Maru      PS3           2016.0        Action   \n",
              "16711               LMA Manager 2007     X360           2006.0        Sports   \n",
              "16712        Haitaka no Psychedelica      PSV           2016.0     Adventure   \n",
              "16713               Spirits & Spells      GBA           2003.0      Platform   \n",
              "16714            Winning Post 8 2016      PSV           2016.0    Simulation   \n",
              "\n",
              "       NA_sales  EU_sales  JP_sales  Other_sales  Critic_Score User_Score  \\\n",
              "0         41.36     28.96      3.77         8.45          76.0          8   \n",
              "1         29.08      3.58      6.81         0.77           NaN        NaN   \n",
              "2         15.68     12.76      3.79         3.29          82.0        8.3   \n",
              "3         15.61     10.93      3.28         2.95          80.0          8   \n",
              "4         11.27      8.89     10.22         1.00           NaN        NaN   \n",
              "...         ...       ...       ...          ...           ...        ...   \n",
              "16710      0.00      0.00      0.01         0.00           NaN        NaN   \n",
              "16711      0.00      0.01      0.00         0.00           NaN        NaN   \n",
              "16712      0.00      0.00      0.01         0.00           NaN        NaN   \n",
              "16713      0.01      0.00      0.00         0.00           NaN        NaN   \n",
              "16714      0.00      0.00      0.01         0.00           NaN        NaN   \n",
              "\n",
              "      Rating  \n",
              "0          E  \n",
              "1        NaN  \n",
              "2          E  \n",
              "3          E  \n",
              "4        NaN  \n",
              "...      ...  \n",
              "16710    NaN  \n",
              "16711    NaN  \n",
              "16712    NaN  \n",
              "16713    NaN  \n",
              "16714    NaN  \n",
              "\n",
              "[16715 rows x 11 columns]"
            ],
            "text/html": [
              "\n",
              "  <div id=\"df-1c1a8bf3-f166-4e66-b9e2-b1c2434da479\">\n",
              "    <div class=\"colab-df-container\">\n",
              "      <div>\n",
              "<style scoped>\n",
              "    .dataframe tbody tr th:only-of-type {\n",
              "        vertical-align: middle;\n",
              "    }\n",
              "\n",
              "    .dataframe tbody tr th {\n",
              "        vertical-align: top;\n",
              "    }\n",
              "\n",
              "    .dataframe thead th {\n",
              "        text-align: right;\n",
              "    }\n",
              "</style>\n",
              "<table border=\"1\" class=\"dataframe\">\n",
              "  <thead>\n",
              "    <tr style=\"text-align: right;\">\n",
              "      <th></th>\n",
              "      <th>Name</th>\n",
              "      <th>Platform</th>\n",
              "      <th>Year_of_Release</th>\n",
              "      <th>Genre</th>\n",
              "      <th>NA_sales</th>\n",
              "      <th>EU_sales</th>\n",
              "      <th>JP_sales</th>\n",
              "      <th>Other_sales</th>\n",
              "      <th>Critic_Score</th>\n",
              "      <th>User_Score</th>\n",
              "      <th>Rating</th>\n",
              "    </tr>\n",
              "  </thead>\n",
              "  <tbody>\n",
              "    <tr>\n",
              "      <th>0</th>\n",
              "      <td>Wii Sports</td>\n",
              "      <td>Wii</td>\n",
              "      <td>2006.0</td>\n",
              "      <td>Sports</td>\n",
              "      <td>41.36</td>\n",
              "      <td>28.96</td>\n",
              "      <td>3.77</td>\n",
              "      <td>8.45</td>\n",
              "      <td>76.0</td>\n",
              "      <td>8</td>\n",
              "      <td>E</td>\n",
              "    </tr>\n",
              "    <tr>\n",
              "      <th>1</th>\n",
              "      <td>Super Mario Bros.</td>\n",
              "      <td>NES</td>\n",
              "      <td>1985.0</td>\n",
              "      <td>Platform</td>\n",
              "      <td>29.08</td>\n",
              "      <td>3.58</td>\n",
              "      <td>6.81</td>\n",
              "      <td>0.77</td>\n",
              "      <td>NaN</td>\n",
              "      <td>NaN</td>\n",
              "      <td>NaN</td>\n",
              "    </tr>\n",
              "    <tr>\n",
              "      <th>2</th>\n",
              "      <td>Mario Kart Wii</td>\n",
              "      <td>Wii</td>\n",
              "      <td>2008.0</td>\n",
              "      <td>Racing</td>\n",
              "      <td>15.68</td>\n",
              "      <td>12.76</td>\n",
              "      <td>3.79</td>\n",
              "      <td>3.29</td>\n",
              "      <td>82.0</td>\n",
              "      <td>8.3</td>\n",
              "      <td>E</td>\n",
              "    </tr>\n",
              "    <tr>\n",
              "      <th>3</th>\n",
              "      <td>Wii Sports Resort</td>\n",
              "      <td>Wii</td>\n",
              "      <td>2009.0</td>\n",
              "      <td>Sports</td>\n",
              "      <td>15.61</td>\n",
              "      <td>10.93</td>\n",
              "      <td>3.28</td>\n",
              "      <td>2.95</td>\n",
              "      <td>80.0</td>\n",
              "      <td>8</td>\n",
              "      <td>E</td>\n",
              "    </tr>\n",
              "    <tr>\n",
              "      <th>4</th>\n",
              "      <td>Pokemon Red/Pokemon Blue</td>\n",
              "      <td>GB</td>\n",
              "      <td>1996.0</td>\n",
              "      <td>Role-Playing</td>\n",
              "      <td>11.27</td>\n",
              "      <td>8.89</td>\n",
              "      <td>10.22</td>\n",
              "      <td>1.00</td>\n",
              "      <td>NaN</td>\n",
              "      <td>NaN</td>\n",
              "      <td>NaN</td>\n",
              "    </tr>\n",
              "    <tr>\n",
              "      <th>...</th>\n",
              "      <td>...</td>\n",
              "      <td>...</td>\n",
              "      <td>...</td>\n",
              "      <td>...</td>\n",
              "      <td>...</td>\n",
              "      <td>...</td>\n",
              "      <td>...</td>\n",
              "      <td>...</td>\n",
              "      <td>...</td>\n",
              "      <td>...</td>\n",
              "      <td>...</td>\n",
              "    </tr>\n",
              "    <tr>\n",
              "      <th>16710</th>\n",
              "      <td>Samurai Warriors: Sanada Maru</td>\n",
              "      <td>PS3</td>\n",
              "      <td>2016.0</td>\n",
              "      <td>Action</td>\n",
              "      <td>0.00</td>\n",
              "      <td>0.00</td>\n",
              "      <td>0.01</td>\n",
              "      <td>0.00</td>\n",
              "      <td>NaN</td>\n",
              "      <td>NaN</td>\n",
              "      <td>NaN</td>\n",
              "    </tr>\n",
              "    <tr>\n",
              "      <th>16711</th>\n",
              "      <td>LMA Manager 2007</td>\n",
              "      <td>X360</td>\n",
              "      <td>2006.0</td>\n",
              "      <td>Sports</td>\n",
              "      <td>0.00</td>\n",
              "      <td>0.01</td>\n",
              "      <td>0.00</td>\n",
              "      <td>0.00</td>\n",
              "      <td>NaN</td>\n",
              "      <td>NaN</td>\n",
              "      <td>NaN</td>\n",
              "    </tr>\n",
              "    <tr>\n",
              "      <th>16712</th>\n",
              "      <td>Haitaka no Psychedelica</td>\n",
              "      <td>PSV</td>\n",
              "      <td>2016.0</td>\n",
              "      <td>Adventure</td>\n",
              "      <td>0.00</td>\n",
              "      <td>0.00</td>\n",
              "      <td>0.01</td>\n",
              "      <td>0.00</td>\n",
              "      <td>NaN</td>\n",
              "      <td>NaN</td>\n",
              "      <td>NaN</td>\n",
              "    </tr>\n",
              "    <tr>\n",
              "      <th>16713</th>\n",
              "      <td>Spirits &amp; Spells</td>\n",
              "      <td>GBA</td>\n",
              "      <td>2003.0</td>\n",
              "      <td>Platform</td>\n",
              "      <td>0.01</td>\n",
              "      <td>0.00</td>\n",
              "      <td>0.00</td>\n",
              "      <td>0.00</td>\n",
              "      <td>NaN</td>\n",
              "      <td>NaN</td>\n",
              "      <td>NaN</td>\n",
              "    </tr>\n",
              "    <tr>\n",
              "      <th>16714</th>\n",
              "      <td>Winning Post 8 2016</td>\n",
              "      <td>PSV</td>\n",
              "      <td>2016.0</td>\n",
              "      <td>Simulation</td>\n",
              "      <td>0.00</td>\n",
              "      <td>0.00</td>\n",
              "      <td>0.01</td>\n",
              "      <td>0.00</td>\n",
              "      <td>NaN</td>\n",
              "      <td>NaN</td>\n",
              "      <td>NaN</td>\n",
              "    </tr>\n",
              "  </tbody>\n",
              "</table>\n",
              "<p>16715 rows × 11 columns</p>\n",
              "</div>\n",
              "      <button class=\"colab-df-convert\" onclick=\"convertToInteractive('df-1c1a8bf3-f166-4e66-b9e2-b1c2434da479')\"\n",
              "              title=\"Convert this dataframe to an interactive table.\"\n",
              "              style=\"display:none;\">\n",
              "        \n",
              "  <svg xmlns=\"http://www.w3.org/2000/svg\" height=\"24px\"viewBox=\"0 0 24 24\"\n",
              "       width=\"24px\">\n",
              "    <path d=\"M0 0h24v24H0V0z\" fill=\"none\"/>\n",
              "    <path d=\"M18.56 5.44l.94 2.06.94-2.06 2.06-.94-2.06-.94-.94-2.06-.94 2.06-2.06.94zm-11 1L8.5 8.5l.94-2.06 2.06-.94-2.06-.94L8.5 2.5l-.94 2.06-2.06.94zm10 10l.94 2.06.94-2.06 2.06-.94-2.06-.94-.94-2.06-.94 2.06-2.06.94z\"/><path d=\"M17.41 7.96l-1.37-1.37c-.4-.4-.92-.59-1.43-.59-.52 0-1.04.2-1.43.59L10.3 9.45l-7.72 7.72c-.78.78-.78 2.05 0 2.83L4 21.41c.39.39.9.59 1.41.59.51 0 1.02-.2 1.41-.59l7.78-7.78 2.81-2.81c.8-.78.8-2.07 0-2.86zM5.41 20L4 18.59l7.72-7.72 1.47 1.35L5.41 20z\"/>\n",
              "  </svg>\n",
              "      </button>\n",
              "      \n",
              "  <style>\n",
              "    .colab-df-container {\n",
              "      display:flex;\n",
              "      flex-wrap:wrap;\n",
              "      gap: 12px;\n",
              "    }\n",
              "\n",
              "    .colab-df-convert {\n",
              "      background-color: #E8F0FE;\n",
              "      border: none;\n",
              "      border-radius: 50%;\n",
              "      cursor: pointer;\n",
              "      display: none;\n",
              "      fill: #1967D2;\n",
              "      height: 32px;\n",
              "      padding: 0 0 0 0;\n",
              "      width: 32px;\n",
              "    }\n",
              "\n",
              "    .colab-df-convert:hover {\n",
              "      background-color: #E2EBFA;\n",
              "      box-shadow: 0px 1px 2px rgba(60, 64, 67, 0.3), 0px 1px 3px 1px rgba(60, 64, 67, 0.15);\n",
              "      fill: #174EA6;\n",
              "    }\n",
              "\n",
              "    [theme=dark] .colab-df-convert {\n",
              "      background-color: #3B4455;\n",
              "      fill: #D2E3FC;\n",
              "    }\n",
              "\n",
              "    [theme=dark] .colab-df-convert:hover {\n",
              "      background-color: #434B5C;\n",
              "      box-shadow: 0px 1px 3px 1px rgba(0, 0, 0, 0.15);\n",
              "      filter: drop-shadow(0px 1px 2px rgba(0, 0, 0, 0.3));\n",
              "      fill: #FFFFFF;\n",
              "    }\n",
              "  </style>\n",
              "\n",
              "      <script>\n",
              "        const buttonEl =\n",
              "          document.querySelector('#df-1c1a8bf3-f166-4e66-b9e2-b1c2434da479 button.colab-df-convert');\n",
              "        buttonEl.style.display =\n",
              "          google.colab.kernel.accessAllowed ? 'block' : 'none';\n",
              "\n",
              "        async function convertToInteractive(key) {\n",
              "          const element = document.querySelector('#df-1c1a8bf3-f166-4e66-b9e2-b1c2434da479');\n",
              "          const dataTable =\n",
              "            await google.colab.kernel.invokeFunction('convertToInteractive',\n",
              "                                                     [key], {});\n",
              "          if (!dataTable) return;\n",
              "\n",
              "          const docLinkHtml = 'Like what you see? Visit the ' +\n",
              "            '<a target=\"_blank\" href=https://colab.research.google.com/notebooks/data_table.ipynb>data table notebook</a>'\n",
              "            + ' to learn more about interactive tables.';\n",
              "          element.innerHTML = '';\n",
              "          dataTable['output_type'] = 'display_data';\n",
              "          await google.colab.output.renderOutput(dataTable, element);\n",
              "          const docLink = document.createElement('div');\n",
              "          docLink.innerHTML = docLinkHtml;\n",
              "          element.appendChild(docLink);\n",
              "        }\n",
              "      </script>\n",
              "    </div>\n",
              "  </div>\n",
              "  "
            ]
          },
          "metadata": {}
        },
        {
          "output_type": "stream",
          "name": "stdout",
          "text": [
            "<class 'pandas.core.frame.DataFrame'>\n",
            "RangeIndex: 16715 entries, 0 to 16714\n",
            "Data columns (total 11 columns):\n",
            " #   Column           Non-Null Count  Dtype  \n",
            "---  ------           --------------  -----  \n",
            " 0   Name             16713 non-null  object \n",
            " 1   Platform         16715 non-null  object \n",
            " 2   Year_of_Release  16446 non-null  float64\n",
            " 3   Genre            16713 non-null  object \n",
            " 4   NA_sales         16715 non-null  float64\n",
            " 5   EU_sales         16715 non-null  float64\n",
            " 6   JP_sales         16715 non-null  float64\n",
            " 7   Other_sales      16715 non-null  float64\n",
            " 8   Critic_Score     8137 non-null   float64\n",
            " 9   User_Score       10014 non-null  object \n",
            " 10  Rating           9949 non-null   object \n",
            "dtypes: float64(6), object(5)\n",
            "memory usage: 1.4+ MB\n"
          ]
        }
      ],
      "source": [
        "df = pd.read_csv('games.csv', sep= ',')\n",
        "display(df)\n",
        "df.info()"
      ]
    },
    {
      "cell_type": "markdown",
      "metadata": {
        "id": "KpcqPlGDdtXy"
      },
      "source": [
        "В базе всего 11 переменных и 16715 случаев для анализа. Для дальнейшей работы необходимо обработать пропуски, выбросы и ошибочные значения.\n",
        "\n",
        "База явно составлена автоматически, без ручного ввода данных, поэтому пропуски здесь не вызываны человеческим фактором. Основной объем пропусков - в рейтингах критиков и пользователей (не все игры получают такие оценки или не все игры получают эти оценки на каком-то портале, который предоставил базу данных) и в возрастных ограничениях (ESRB - американская организация и игры, выпущенные в Японии для домашнего рынка и соседних регионов, эту оценку не будут получать). Поэтому данные можно считать достаточно полными."
      ]
    },
    {
      "cell_type": "markdown",
      "metadata": {
        "id": "HeIrFBEKdtXz"
      },
      "source": [
        "## Предварительная подготовка данных для анализа"
      ]
    },
    {
      "cell_type": "markdown",
      "metadata": {
        "id": "kJtq0uLkdtXz"
      },
      "source": [
        "### Замена названия столбцов"
      ]
    },
    {
      "cell_type": "markdown",
      "metadata": {
        "id": "NKl7zGzndtX0"
      },
      "source": [
        "Названия столбцов не соответствуют стандарту PEP8, переименуем их."
      ]
    },
    {
      "cell_type": "code",
      "execution_count": 3,
      "metadata": {
        "scrolled": false,
        "colab": {
          "base_uri": "https://localhost:8080/"
        },
        "id": "cNTZDv5DdtX0",
        "outputId": "2d5f9446-f2cc-4e13-cd1c-03099f2b909c"
      },
      "outputs": [
        {
          "output_type": "execute_result",
          "data": {
            "text/plain": [
              "Index(['name', 'platform', 'year_of_release', 'genre', 'na_sales', 'eu_sales',\n",
              "       'jp_sales', 'other_sales', 'critic_score', 'user_score', 'rating'],\n",
              "      dtype='object')"
            ]
          },
          "metadata": {},
          "execution_count": 3
        }
      ],
      "source": [
        "df.columns = df.columns.str.lower()\n",
        "df.columns"
      ]
    },
    {
      "cell_type": "markdown",
      "metadata": {
        "id": "fLtCkaZXdtX1"
      },
      "source": [
        "### Обработка пропусков"
      ]
    },
    {
      "cell_type": "markdown",
      "metadata": {
        "id": "B5cD2rTXdtX2"
      },
      "source": [
        "Посмотрим на пропуски. В переменной имени их два:"
      ]
    },
    {
      "cell_type": "code",
      "execution_count": 4,
      "metadata": {
        "colab": {
          "base_uri": "https://localhost:8080/",
          "height": 112
        },
        "id": "NMsx7ZGGdtX2",
        "outputId": "71a32b19-2098-4ba4-8b99-2ff61ddcb3c4"
      },
      "outputs": [
        {
          "output_type": "execute_result",
          "data": {
            "text/plain": [
              "      name platform  year_of_release genre  na_sales  eu_sales  jp_sales  \\\n",
              "659    NaN      GEN           1993.0   NaN      1.78      0.53      0.00   \n",
              "14244  NaN      GEN           1993.0   NaN      0.00      0.00      0.03   \n",
              "\n",
              "       other_sales  critic_score user_score rating  \n",
              "659           0.08           NaN        NaN    NaN  \n",
              "14244         0.00           NaN        NaN    NaN  "
            ],
            "text/html": [
              "\n",
              "  <div id=\"df-740b3910-d24b-4339-a8ed-e57fd698e45a\">\n",
              "    <div class=\"colab-df-container\">\n",
              "      <div>\n",
              "<style scoped>\n",
              "    .dataframe tbody tr th:only-of-type {\n",
              "        vertical-align: middle;\n",
              "    }\n",
              "\n",
              "    .dataframe tbody tr th {\n",
              "        vertical-align: top;\n",
              "    }\n",
              "\n",
              "    .dataframe thead th {\n",
              "        text-align: right;\n",
              "    }\n",
              "</style>\n",
              "<table border=\"1\" class=\"dataframe\">\n",
              "  <thead>\n",
              "    <tr style=\"text-align: right;\">\n",
              "      <th></th>\n",
              "      <th>name</th>\n",
              "      <th>platform</th>\n",
              "      <th>year_of_release</th>\n",
              "      <th>genre</th>\n",
              "      <th>na_sales</th>\n",
              "      <th>eu_sales</th>\n",
              "      <th>jp_sales</th>\n",
              "      <th>other_sales</th>\n",
              "      <th>critic_score</th>\n",
              "      <th>user_score</th>\n",
              "      <th>rating</th>\n",
              "    </tr>\n",
              "  </thead>\n",
              "  <tbody>\n",
              "    <tr>\n",
              "      <th>659</th>\n",
              "      <td>NaN</td>\n",
              "      <td>GEN</td>\n",
              "      <td>1993.0</td>\n",
              "      <td>NaN</td>\n",
              "      <td>1.78</td>\n",
              "      <td>0.53</td>\n",
              "      <td>0.00</td>\n",
              "      <td>0.08</td>\n",
              "      <td>NaN</td>\n",
              "      <td>NaN</td>\n",
              "      <td>NaN</td>\n",
              "    </tr>\n",
              "    <tr>\n",
              "      <th>14244</th>\n",
              "      <td>NaN</td>\n",
              "      <td>GEN</td>\n",
              "      <td>1993.0</td>\n",
              "      <td>NaN</td>\n",
              "      <td>0.00</td>\n",
              "      <td>0.00</td>\n",
              "      <td>0.03</td>\n",
              "      <td>0.00</td>\n",
              "      <td>NaN</td>\n",
              "      <td>NaN</td>\n",
              "      <td>NaN</td>\n",
              "    </tr>\n",
              "  </tbody>\n",
              "</table>\n",
              "</div>\n",
              "      <button class=\"colab-df-convert\" onclick=\"convertToInteractive('df-740b3910-d24b-4339-a8ed-e57fd698e45a')\"\n",
              "              title=\"Convert this dataframe to an interactive table.\"\n",
              "              style=\"display:none;\">\n",
              "        \n",
              "  <svg xmlns=\"http://www.w3.org/2000/svg\" height=\"24px\"viewBox=\"0 0 24 24\"\n",
              "       width=\"24px\">\n",
              "    <path d=\"M0 0h24v24H0V0z\" fill=\"none\"/>\n",
              "    <path d=\"M18.56 5.44l.94 2.06.94-2.06 2.06-.94-2.06-.94-.94-2.06-.94 2.06-2.06.94zm-11 1L8.5 8.5l.94-2.06 2.06-.94-2.06-.94L8.5 2.5l-.94 2.06-2.06.94zm10 10l.94 2.06.94-2.06 2.06-.94-2.06-.94-.94-2.06-.94 2.06-2.06.94z\"/><path d=\"M17.41 7.96l-1.37-1.37c-.4-.4-.92-.59-1.43-.59-.52 0-1.04.2-1.43.59L10.3 9.45l-7.72 7.72c-.78.78-.78 2.05 0 2.83L4 21.41c.39.39.9.59 1.41.59.51 0 1.02-.2 1.41-.59l7.78-7.78 2.81-2.81c.8-.78.8-2.07 0-2.86zM5.41 20L4 18.59l7.72-7.72 1.47 1.35L5.41 20z\"/>\n",
              "  </svg>\n",
              "      </button>\n",
              "      \n",
              "  <style>\n",
              "    .colab-df-container {\n",
              "      display:flex;\n",
              "      flex-wrap:wrap;\n",
              "      gap: 12px;\n",
              "    }\n",
              "\n",
              "    .colab-df-convert {\n",
              "      background-color: #E8F0FE;\n",
              "      border: none;\n",
              "      border-radius: 50%;\n",
              "      cursor: pointer;\n",
              "      display: none;\n",
              "      fill: #1967D2;\n",
              "      height: 32px;\n",
              "      padding: 0 0 0 0;\n",
              "      width: 32px;\n",
              "    }\n",
              "\n",
              "    .colab-df-convert:hover {\n",
              "      background-color: #E2EBFA;\n",
              "      box-shadow: 0px 1px 2px rgba(60, 64, 67, 0.3), 0px 1px 3px 1px rgba(60, 64, 67, 0.15);\n",
              "      fill: #174EA6;\n",
              "    }\n",
              "\n",
              "    [theme=dark] .colab-df-convert {\n",
              "      background-color: #3B4455;\n",
              "      fill: #D2E3FC;\n",
              "    }\n",
              "\n",
              "    [theme=dark] .colab-df-convert:hover {\n",
              "      background-color: #434B5C;\n",
              "      box-shadow: 0px 1px 3px 1px rgba(0, 0, 0, 0.15);\n",
              "      filter: drop-shadow(0px 1px 2px rgba(0, 0, 0, 0.3));\n",
              "      fill: #FFFFFF;\n",
              "    }\n",
              "  </style>\n",
              "\n",
              "      <script>\n",
              "        const buttonEl =\n",
              "          document.querySelector('#df-740b3910-d24b-4339-a8ed-e57fd698e45a button.colab-df-convert');\n",
              "        buttonEl.style.display =\n",
              "          google.colab.kernel.accessAllowed ? 'block' : 'none';\n",
              "\n",
              "        async function convertToInteractive(key) {\n",
              "          const element = document.querySelector('#df-740b3910-d24b-4339-a8ed-e57fd698e45a');\n",
              "          const dataTable =\n",
              "            await google.colab.kernel.invokeFunction('convertToInteractive',\n",
              "                                                     [key], {});\n",
              "          if (!dataTable) return;\n",
              "\n",
              "          const docLinkHtml = 'Like what you see? Visit the ' +\n",
              "            '<a target=\"_blank\" href=https://colab.research.google.com/notebooks/data_table.ipynb>data table notebook</a>'\n",
              "            + ' to learn more about interactive tables.';\n",
              "          element.innerHTML = '';\n",
              "          dataTable['output_type'] = 'display_data';\n",
              "          await google.colab.output.renderOutput(dataTable, element);\n",
              "          const docLink = document.createElement('div');\n",
              "          docLink.innerHTML = docLinkHtml;\n",
              "          element.appendChild(docLink);\n",
              "        }\n",
              "      </script>\n",
              "    </div>\n",
              "  </div>\n",
              "  "
            ]
          },
          "metadata": {},
          "execution_count": 4
        }
      ],
      "source": [
        "df.loc[df['name'].isnull() == True]"
      ]
    },
    {
      "cell_type": "markdown",
      "metadata": {
        "id": "Z4Dt252WdtX3"
      },
      "source": [
        "Исследуемая база данных - база игр, поэтому отсутствие названия игры может является по сути отсутствием данных. Восстановить эти данные невозможно, тем более они за 1993 год, а для прогноза кампании на 2017 год нам необходимы данные за более поздние периоды. Удалим эти строки таблицы."
      ]
    },
    {
      "cell_type": "code",
      "execution_count": 5,
      "metadata": {
        "scrolled": false,
        "colab": {
          "base_uri": "https://localhost:8080/"
        },
        "id": "R8Q5-I2vdtX3",
        "outputId": "11586987-1dee-42ea-b07e-bf35393d869f"
      },
      "outputs": [
        {
          "output_type": "stream",
          "name": "stdout",
          "text": [
            "<class 'pandas.core.frame.DataFrame'>\n",
            "RangeIndex: 16713 entries, 0 to 16712\n",
            "Data columns (total 11 columns):\n",
            " #   Column           Non-Null Count  Dtype  \n",
            "---  ------           --------------  -----  \n",
            " 0   name             16713 non-null  object \n",
            " 1   platform         16713 non-null  object \n",
            " 2   year_of_release  16444 non-null  float64\n",
            " 3   genre            16713 non-null  object \n",
            " 4   na_sales         16713 non-null  float64\n",
            " 5   eu_sales         16713 non-null  float64\n",
            " 6   jp_sales         16713 non-null  float64\n",
            " 7   other_sales      16713 non-null  float64\n",
            " 8   critic_score     8137 non-null   float64\n",
            " 9   user_score       10014 non-null  object \n",
            " 10  rating           9949 non-null   object \n",
            "dtypes: float64(6), object(5)\n",
            "memory usage: 1.4+ MB\n"
          ]
        }
      ],
      "source": [
        "df = df.dropna(subset = ['name'])\n",
        "df = df.reset_index(drop=True)\n",
        "df.info()"
      ]
    },
    {
      "cell_type": "markdown",
      "metadata": {
        "id": "I8bz9LnAdtX3"
      },
      "source": [
        "Посмотрим на значения переменной платформы, на которой выпущена игра."
      ]
    },
    {
      "cell_type": "code",
      "execution_count": 6,
      "metadata": {
        "collapsed": true,
        "colab": {
          "base_uri": "https://localhost:8080/"
        },
        "id": "4lcgFU-3dtX5",
        "outputId": "703342fe-d7a8-4c6e-b227-eeefb91854c6"
      },
      "outputs": [
        {
          "output_type": "execute_result",
          "data": {
            "text/plain": [
              "PS2     2161\n",
              "DS      2151\n",
              "PS3     1331\n",
              "Wii     1320\n",
              "X360    1262\n",
              "PSP     1209\n",
              "PS      1197\n",
              "PC       974\n",
              "XB       824\n",
              "GBA      822\n",
              "GC       556\n",
              "3DS      520\n",
              "PSV      430\n",
              "PS4      392\n",
              "N64      319\n",
              "XOne     247\n",
              "SNES     239\n",
              "SAT      173\n",
              "WiiU     147\n",
              "2600     133\n",
              "NES       98\n",
              "GB        98\n",
              "DC        52\n",
              "GEN       27\n",
              "NG        12\n",
              "SCD        6\n",
              "WS         6\n",
              "3DO        3\n",
              "TG16       2\n",
              "GG         1\n",
              "PCFX       1\n",
              "Name: platform, dtype: int64"
            ]
          },
          "metadata": {},
          "execution_count": 6
        }
      ],
      "source": [
        "df['platform'].value_counts()"
      ]
    },
    {
      "cell_type": "markdown",
      "metadata": {
        "id": "yTAJJ0gZdtX6"
      },
      "source": [
        "Здесь нет ошибок и пропусков. Перейдём к переменной года выпуска игры."
      ]
    },
    {
      "cell_type": "code",
      "execution_count": 7,
      "metadata": {
        "colab": {
          "base_uri": "https://localhost:8080/"
        },
        "id": "fA5JUpUDdtX6",
        "outputId": "6724ce42-d732-42fc-ce71-af191a02c83f"
      },
      "outputs": [
        {
          "output_type": "execute_result",
          "data": {
            "text/plain": [
              "2008.0    1427\n",
              "2009.0    1426\n",
              "2010.0    1255\n",
              "2007.0    1197\n",
              "2011.0    1136\n",
              "2006.0    1006\n",
              "2005.0     939\n",
              "2002.0     829\n",
              "2003.0     775\n",
              "2004.0     762\n",
              "2012.0     653\n",
              "2015.0     606\n",
              "2014.0     581\n",
              "2013.0     544\n",
              "2016.0     502\n",
              "2001.0     482\n",
              "1998.0     379\n",
              "2000.0     350\n",
              "1999.0     338\n",
              "1997.0     289\n",
              "1996.0     263\n",
              "1995.0     219\n",
              "1994.0     121\n",
              "1993.0      60\n",
              "1981.0      46\n",
              "1992.0      43\n",
              "1991.0      41\n",
              "1982.0      36\n",
              "1986.0      21\n",
              "1989.0      17\n",
              "1983.0      17\n",
              "1990.0      16\n",
              "1987.0      16\n",
              "1988.0      15\n",
              "1985.0      14\n",
              "1984.0      14\n",
              "1980.0       9\n",
              "Name: year_of_release, dtype: int64"
            ]
          },
          "metadata": {},
          "execution_count": 7
        }
      ],
      "source": [
        "df['year_of_release'].value_counts()"
      ]
    },
    {
      "cell_type": "markdown",
      "metadata": {
        "id": "FYMGAhOHdtX7"
      },
      "source": [
        "Здесь выбросов нет, однако существенное количество игр не имеет данных по году выпуска. Год можно восстановить по платформе, на которой вышла игра, т.к. срок жизни платформы небольшой. Посмотрим, как различаются средние года выхода игр в зависимости от платформ."
      ]
    },
    {
      "cell_type": "code",
      "execution_count": 8,
      "metadata": {
        "colab": {
          "base_uri": "https://localhost:8080/",
          "height": 475
        },
        "id": "_ByBjMBCdtX7",
        "outputId": "829f6a37-57ba-4df3-d38b-83338607f467"
      },
      "outputs": [
        {
          "output_type": "display_data",
          "data": {
            "text/plain": [
              "<Figure size 1080x504 with 1 Axes>"
            ],
            "image/png": "[encoded data removed]"
          },
          "metadata": {
            "needs_background": "light"
          }
        }
      ],
      "source": [
        "(df\n",
        ".groupby(by='platform')['year_of_release']\n",
        ".mean()\n",
        ".plot(\n",
        "    kind = 'bar',\n",
        "    ylim = (1981,2016),\n",
        "    color = 'purple',\n",
        "    figsize = (15,7)))\n",
        "plt.title('Среднее значение года выпуска игры в зависимости от платформы выхода')\n",
        "plt.show()"
      ]
    },
    {
      "cell_type": "markdown",
      "metadata": {
        "id": "aFjHCfCddtX8"
      },
      "source": [
        "Средние различаются существенно. Т.к. нам принципиально сохранить данные по всем играм, заполним год выхода игры средним значением выпуска всех игр на данной платформе."
      ]
    },
    {
      "cell_type": "code",
      "execution_count": 9,
      "metadata": {
        "colab": {
          "base_uri": "https://localhost:8080/"
        },
        "id": "MPM00YE-dtX8",
        "outputId": "b42c8723-aaf1-4279-e118-e0dc50c30486"
      },
      "outputs": [
        {
          "output_type": "execute_result",
          "data": {
            "text/plain": [
              "0"
            ]
          },
          "metadata": {},
          "execution_count": 9
        }
      ],
      "source": [
        "df['year_of_release'] = df['year_of_release'].fillna(df.groupby('platform')['year_of_release'].transform('mean'))\n",
        "df['year_of_release'].isna().sum()"
      ]
    },
    {
      "cell_type": "markdown",
      "metadata": {
        "id": "PT4gwcIqdtX9"
      },
      "source": [
        "Пропуски заполнены, посмотрим на вариативность переменной жанров игр."
      ]
    },
    {
      "cell_type": "code",
      "execution_count": 10,
      "metadata": {
        "scrolled": false,
        "colab": {
          "base_uri": "https://localhost:8080/"
        },
        "id": "x5mMAP8ddtX9",
        "outputId": "d09b6cc6-624f-44b9-86d5-268a2600901e"
      },
      "outputs": [
        {
          "output_type": "execute_result",
          "data": {
            "text/plain": [
              "Action          3369\n",
              "Sports          2348\n",
              "Misc            1750\n",
              "Role-Playing    1498\n",
              "Shooter         1323\n",
              "Adventure       1303\n",
              "Racing          1249\n",
              "Platform         888\n",
              "Simulation       873\n",
              "Fighting         849\n",
              "Strategy         683\n",
              "Puzzle           580\n",
              "Name: genre, dtype: int64"
            ]
          },
          "metadata": {},
          "execution_count": 10
        }
      ],
      "source": [
        "df['genre'].value_counts()"
      ]
    },
    {
      "cell_type": "markdown",
      "metadata": {
        "id": "md_Fwt-SdtX-"
      },
      "source": [
        "Ошибок нет. Посмотрим на переменные объемов продаж."
      ]
    },
    {
      "cell_type": "code",
      "execution_count": 11,
      "metadata": {
        "colab": {
          "base_uri": "https://localhost:8080/",
          "height": 300
        },
        "id": "wZRdw2iudtX-",
        "outputId": "bba90143-8bda-45dc-dcb1-c58bc1d47507"
      },
      "outputs": [
        {
          "output_type": "execute_result",
          "data": {
            "text/plain": [
              "           na_sales      eu_sales      jp_sales   other_sales\n",
              "count  16713.000000  16713.000000  16713.000000  16713.000000\n",
              "mean       0.263302      0.145045      0.077625      0.047343\n",
              "std        0.813565      0.503359      0.308871      0.186742\n",
              "min        0.000000      0.000000      0.000000      0.000000\n",
              "25%        0.000000      0.000000      0.000000      0.000000\n",
              "50%        0.080000      0.020000      0.000000      0.010000\n",
              "75%        0.240000      0.110000      0.040000      0.030000\n",
              "max       41.360000     28.960000     10.220000     10.570000"
            ],
            "text/html": [
              "\n",
              "  <div id=\"df-a98ba0ce-4278-4cfc-a219-54b273dc9032\">\n",
              "    <div class=\"colab-df-container\">\n",
              "      <div>\n",
              "<style scoped>\n",
              "    .dataframe tbody tr th:only-of-type {\n",
              "        vertical-align: middle;\n",
              "    }\n",
              "\n",
              "    .dataframe tbody tr th {\n",
              "        vertical-align: top;\n",
              "    }\n",
              "\n",
              "    .dataframe thead th {\n",
              "        text-align: right;\n",
              "    }\n",
              "</style>\n",
              "<table border=\"1\" class=\"dataframe\">\n",
              "  <thead>\n",
              "    <tr style=\"text-align: right;\">\n",
              "      <th></th>\n",
              "      <th>na_sales</th>\n",
              "      <th>eu_sales</th>\n",
              "      <th>jp_sales</th>\n",
              "      <th>other_sales</th>\n",
              "    </tr>\n",
              "  </thead>\n",
              "  <tbody>\n",
              "    <tr>\n",
              "      <th>count</th>\n",
              "      <td>16713.000000</td>\n",
              "      <td>16713.000000</td>\n",
              "      <td>16713.000000</td>\n",
              "      <td>16713.000000</td>\n",
              "    </tr>\n",
              "    <tr>\n",
              "      <th>mean</th>\n",
              "      <td>0.263302</td>\n",
              "      <td>0.145045</td>\n",
              "      <td>0.077625</td>\n",
              "      <td>0.047343</td>\n",
              "    </tr>\n",
              "    <tr>\n",
              "      <th>std</th>\n",
              "      <td>0.813565</td>\n",
              "      <td>0.503359</td>\n",
              "      <td>0.308871</td>\n",
              "      <td>0.186742</td>\n",
              "    </tr>\n",
              "    <tr>\n",
              "      <th>min</th>\n",
              "      <td>0.000000</td>\n",
              "      <td>0.000000</td>\n",
              "      <td>0.000000</td>\n",
              "      <td>0.000000</td>\n",
              "    </tr>\n",
              "    <tr>\n",
              "      <th>25%</th>\n",
              "      <td>0.000000</td>\n",
              "      <td>0.000000</td>\n",
              "      <td>0.000000</td>\n",
              "      <td>0.000000</td>\n",
              "    </tr>\n",
              "    <tr>\n",
              "      <th>50%</th>\n",
              "      <td>0.080000</td>\n",
              "      <td>0.020000</td>\n",
              "      <td>0.000000</td>\n",
              "      <td>0.010000</td>\n",
              "    </tr>\n",
              "    <tr>\n",
              "      <th>75%</th>\n",
              "      <td>0.240000</td>\n",
              "      <td>0.110000</td>\n",
              "      <td>0.040000</td>\n",
              "      <td>0.030000</td>\n",
              "    </tr>\n",
              "    <tr>\n",
              "      <th>max</th>\n",
              "      <td>41.360000</td>\n",
              "      <td>28.960000</td>\n",
              "      <td>10.220000</td>\n",
              "      <td>10.570000</td>\n",
              "    </tr>\n",
              "  </tbody>\n",
              "</table>\n",
              "</div>\n",
              "      <button class=\"colab-df-convert\" onclick=\"convertToInteractive('df-a98ba0ce-4278-4cfc-a219-54b273dc9032')\"\n",
              "              title=\"Convert this dataframe to an interactive table.\"\n",
              "              style=\"display:none;\">\n",
              "        \n",
              "  <svg xmlns=\"http://www.w3.org/2000/svg\" height=\"24px\"viewBox=\"0 0 24 24\"\n",
              "       width=\"24px\">\n",
              "    <path d=\"M0 0h24v24H0V0z\" fill=\"none\"/>\n",
              "    <path d=\"M18.56 5.44l.94 2.06.94-2.06 2.06-.94-2.06-.94-.94-2.06-.94 2.06-2.06.94zm-11 1L8.5 8.5l.94-2.06 2.06-.94-2.06-.94L8.5 2.5l-.94 2.06-2.06.94zm10 10l.94 2.06.94-2.06 2.06-.94-2.06-.94-.94-2.06-.94 2.06-2.06.94z\"/><path d=\"M17.41 7.96l-1.37-1.37c-.4-.4-.92-.59-1.43-.59-.52 0-1.04.2-1.43.59L10.3 9.45l-7.72 7.72c-.78.78-.78 2.05 0 2.83L4 21.41c.39.39.9.59 1.41.59.51 0 1.02-.2 1.41-.59l7.78-7.78 2.81-2.81c.8-.78.8-2.07 0-2.86zM5.41 20L4 18.59l7.72-7.72 1.47 1.35L5.41 20z\"/>\n",
              "  </svg>\n",
              "      </button>\n",
              "      \n",
              "  <style>\n",
              "    .colab-df-container {\n",
              "      display:flex;\n",
              "      flex-wrap:wrap;\n",
              "      gap: 12px;\n",
              "    }\n",
              "\n",
              "    .colab-df-convert {\n",
              "      background-color: #E8F0FE;\n",
              "      border: none;\n",
              "      border-radius: 50%;\n",
              "      cursor: pointer;\n",
              "      display: none;\n",
              "      fill: #1967D2;\n",
              "      height: 32px;\n",
              "      padding: 0 0 0 0;\n",
              "      width: 32px;\n",
              "    }\n",
              "\n",
              "    .colab-df-convert:hover {\n",
              "      background-color: #E2EBFA;\n",
              "      box-shadow: 0px 1px 2px rgba(60, 64, 67, 0.3), 0px 1px 3px 1px rgba(60, 64, 67, 0.15);\n",
              "      fill: #174EA6;\n",
              "    }\n",
              "\n",
              "    [theme=dark] .colab-df-convert {\n",
              "      background-color: #3B4455;\n",
              "      fill: #D2E3FC;\n",
              "    }\n",
              "\n",
              "    [theme=dark] .colab-df-convert:hover {\n",
              "      background-color: #434B5C;\n",
              "      box-shadow: 0px 1px 3px 1px rgba(0, 0, 0, 0.15);\n",
              "      filter: drop-shadow(0px 1px 2px rgba(0, 0, 0, 0.3));\n",
              "      fill: #FFFFFF;\n",
              "    }\n",
              "  </style>\n",
              "\n",
              "      <script>\n",
              "        const buttonEl =\n",
              "          document.querySelector('#df-a98ba0ce-4278-4cfc-a219-54b273dc9032 button.colab-df-convert');\n",
              "        buttonEl.style.display =\n",
              "          google.colab.kernel.accessAllowed ? 'block' : 'none';\n",
              "\n",
              "        async function convertToInteractive(key) {\n",
              "          const element = document.querySelector('#df-a98ba0ce-4278-4cfc-a219-54b273dc9032');\n",
              "          const dataTable =\n",
              "            await google.colab.kernel.invokeFunction('convertToInteractive',\n",
              "                                                     [key], {});\n",
              "          if (!dataTable) return;\n",
              "\n",
              "          const docLinkHtml = 'Like what you see? Visit the ' +\n",
              "            '<a target=\"_blank\" href=https://colab.research.google.com/notebooks/data_table.ipynb>data table notebook</a>'\n",
              "            + ' to learn more about interactive tables.';\n",
              "          element.innerHTML = '';\n",
              "          dataTable['output_type'] = 'display_data';\n",
              "          await google.colab.output.renderOutput(dataTable, element);\n",
              "          const docLink = document.createElement('div');\n",
              "          docLink.innerHTML = docLinkHtml;\n",
              "          element.appendChild(docLink);\n",
              "        }\n",
              "      </script>\n",
              "    </div>\n",
              "  </div>\n",
              "  "
            ]
          },
          "metadata": {},
          "execution_count": 11
        }
      ],
      "source": [
        "df.loc[:,'na_sales':'other_sales'].describe()"
      ]
    },
    {
      "cell_type": "markdown",
      "metadata": {
        "id": "8aCFX7QOdtX_"
      },
      "source": [
        "Пропусков нет, отрицательных значений тоже. Запомним, что есть игры с крайне высокими значениями по показателям продаж.\n",
        "\n",
        "Далее переменная рейтинга критиков."
      ]
    },
    {
      "cell_type": "code",
      "execution_count": 12,
      "metadata": {
        "scrolled": false,
        "colab": {
          "base_uri": "https://localhost:8080/"
        },
        "id": "MS0DTKowdtX_",
        "outputId": "45f67bd1-63cc-4625-8460-85fad141aba2"
      },
      "outputs": [
        {
          "output_type": "stream",
          "name": "stdout",
          "text": [
            "count    8137.000000\n",
            "mean       68.967679\n",
            "std        13.938165\n",
            "min        13.000000\n",
            "25%        60.000000\n",
            "50%        71.000000\n",
            "75%        79.000000\n",
            "max        98.000000\n",
            "Name: critic_score, dtype: float64\n"
          ]
        },
        {
          "output_type": "execute_result",
          "data": {
            "text/plain": [
              "8576"
            ]
          },
          "metadata": {},
          "execution_count": 12
        }
      ],
      "source": [
        "print(df['critic_score'].describe())\n",
        "df['critic_score'].isnull().sum()"
      ]
    },
    {
      "cell_type": "markdown",
      "metadata": {
        "id": "i8SdWaHMdtX_"
      },
      "source": [
        "Критических значений нет, однако в половине случаев рейтинг от критиков отсутствует. Что ж, в базе присутствуют как крупные, так и мелкие релизы, возможно, которые не были замечены экспертами, поэтому данные о рейтинге игр от тематических изданий отсутствуют. Вряд ли их можно восстановить по косвенным признакам, оставим пропуски как есть.\n",
        "\n",
        "В переменной рейтинга игр от пользователей есть нечисловые значения, поэтому получить описательные статистики не получится:"
      ]
    },
    {
      "cell_type": "code",
      "execution_count": 13,
      "metadata": {
        "colab": {
          "base_uri": "https://localhost:8080/"
        },
        "id": "JL_2q5KudtYA",
        "outputId": "56fe37a7-0234-4901-8a57-e010132ba57a"
      },
      "outputs": [
        {
          "output_type": "execute_result",
          "data": {
            "text/plain": [
              "count     10014\n",
              "unique       96\n",
              "top         tbd\n",
              "freq       2424\n",
              "Name: user_score, dtype: object"
            ]
          },
          "metadata": {},
          "execution_count": 13
        }
      ],
      "source": [
        "df['user_score'].describe()"
      ]
    },
    {
      "cell_type": "markdown",
      "metadata": {
        "id": "6eJ0NlzGdtYA"
      },
      "source": [
        "Данные есть для большинства игр, но и пропусков много."
      ]
    },
    {
      "cell_type": "code",
      "execution_count": 14,
      "metadata": {
        "colab": {
          "base_uri": "https://localhost:8080/"
        },
        "id": "htFVndUydtYA",
        "outputId": "9b1fcfb6-2d52-4983-80d6-25098cb3ec4c"
      },
      "outputs": [
        {
          "output_type": "execute_result",
          "data": {
            "text/plain": [
              "6699"
            ]
          },
          "metadata": {},
          "execution_count": 14
        }
      ],
      "source": [
        "df['user_score'].isnull().sum()"
      ]
    },
    {
      "cell_type": "markdown",
      "metadata": {
        "id": "5kR1pJI-dtYB"
      },
      "source": [
        "Оставим пропуски как есть, т.к. у нас недостаточно данных для их заполнения. Среди заполненных данных четверть - \"tbd\":"
      ]
    },
    {
      "cell_type": "code",
      "execution_count": 15,
      "metadata": {
        "colab": {
          "base_uri": "https://localhost:8080/"
        },
        "id": "V5T-oiO0dtYB",
        "outputId": "25005a61-3844-4ae1-df2b-2ffe5c272f79"
      },
      "outputs": [
        {
          "output_type": "execute_result",
          "data": {
            "text/plain": [
              "2424"
            ]
          },
          "metadata": {},
          "execution_count": 15
        }
      ],
      "source": [
        "df.query(\"user_score == 'tbd'\")['user_score'].count()"
      ]
    },
    {
      "cell_type": "markdown",
      "metadata": {
        "id": "B4uABmMSdtYB"
      },
      "source": [
        "Скорее всего речь об играх, рейтинг которых есть, но [оценок пользователей настолько мало](https://en.wikipedia.org/wiki/To_be_announced), что говорить о наличии такого рейтинга нецелесообразно, т.к. он может быть занижен или завышен из-за высокой погрешности таких данных. По сути это пропуски. Чтоб в дальнейшем работать с переменной как с рядом чисел, а не текстовых значений, нам нужно заменить значения tbd на числа или пропуски, второе будет корректнее."
      ]
    },
    {
      "cell_type": "code",
      "execution_count": 16,
      "metadata": {
        "colab": {
          "base_uri": "https://localhost:8080/"
        },
        "id": "cisr_dRsdtYC",
        "outputId": "3be54a2d-bdad-4621-90b9-6304a9b4bc31"
      },
      "outputs": [
        {
          "output_type": "execute_result",
          "data": {
            "text/plain": [
              "7.8    324\n",
              "8      290\n",
              "8.2    282\n",
              "8.3    254\n",
              "8.5    253\n",
              "      ... \n",
              "1.5      2\n",
              "0.3      2\n",
              "1.1      2\n",
              "0        1\n",
              "9.7      1\n",
              "Name: user_score, Length: 95, dtype: int64"
            ]
          },
          "metadata": {},
          "execution_count": 16
        }
      ],
      "source": [
        "df['user_score'] = df.query(\"user_score != 'tbd'\")['user_score']\n",
        "df['user_score'].value_counts()"
      ]
    },
    {
      "cell_type": "markdown",
      "metadata": {
        "id": "8vTo92andtYC"
      },
      "source": [
        "Сумма пропусков по данной переменной увеличилась:"
      ]
    },
    {
      "cell_type": "code",
      "execution_count": 17,
      "metadata": {
        "colab": {
          "base_uri": "https://localhost:8080/"
        },
        "id": "CMVLxVWpdtYC",
        "outputId": "34328945-3be4-4f7d-c4ea-9403cabd65df"
      },
      "outputs": [
        {
          "output_type": "execute_result",
          "data": {
            "text/plain": [
              "9123"
            ]
          },
          "metadata": {},
          "execution_count": 17
        }
      ],
      "source": [
        "df['user_score'].isnull().sum()"
      ]
    },
    {
      "cell_type": "markdown",
      "metadata": {
        "id": "141EFXJJdtYD"
      },
      "source": [
        "Последняя переменная - возрастной рейтинг ассоциации ESRB. Здесь тоже в половине случаев пропуски, но мы оставим их как есть за неимением переменных, по которым можно было бы эти значения восстановить или доступа к сторонним базам данных."
      ]
    },
    {
      "cell_type": "code",
      "execution_count": 18,
      "metadata": {
        "colab": {
          "base_uri": "https://localhost:8080/"
        },
        "id": "MRxczyLxdtYD",
        "outputId": "3b3e17ac-3ab4-4079-92b3-64a32e6f4b45"
      },
      "outputs": [
        {
          "output_type": "execute_result",
          "data": {
            "text/plain": [
              "E       3990\n",
              "T       2961\n",
              "M       1563\n",
              "E10+    1420\n",
              "EC         8\n",
              "K-A        3\n",
              "RP         3\n",
              "AO         1\n",
              "Name: rating, dtype: int64"
            ]
          },
          "metadata": {},
          "execution_count": 18
        }
      ],
      "source": [
        "df['rating'].value_counts()"
      ]
    },
    {
      "cell_type": "markdown",
      "metadata": {
        "id": "R9DB4X2rdtYE"
      },
      "source": [
        "Согласно [перечню используемых рейтингов](https://ru.wikipedia.org/wiki/Entertainment_Software_Rating_Board) К-А - это раннее название рейтинга Е, эти значения нужно заменить на Е. А RP - это отсутствие рейтинга на момент выхода игры или на момент сбора данных, т.е. по сути это пропуски."
      ]
    },
    {
      "cell_type": "code",
      "execution_count": 19,
      "metadata": {
        "colab": {
          "base_uri": "https://localhost:8080/"
        },
        "id": "WJoHXSnDdtYE",
        "outputId": "faf2d719-9aaa-4594-e26a-41c4c7677f31"
      },
      "outputs": [
        {
          "output_type": "execute_result",
          "data": {
            "text/plain": [
              "E       3993\n",
              "T       2961\n",
              "M       1563\n",
              "E10+    1420\n",
              "EC         8\n",
              "AO         1\n",
              "Name: rating, dtype: int64"
            ]
          },
          "metadata": {},
          "execution_count": 19
        }
      ],
      "source": [
        "df['rating'] = df['rating'].replace('K-A','E')\n",
        "df['rating'] = df.query(\"rating != 'RP'\")['rating']\n",
        "df['rating'].value_counts()"
      ]
    },
    {
      "cell_type": "markdown",
      "metadata": {
        "id": "ghhGeFfjdtYF"
      },
      "source": [
        "Все пропуски и ошибочные значения мы обработали, дубликатов в данных нет."
      ]
    },
    {
      "cell_type": "code",
      "execution_count": 20,
      "metadata": {
        "colab": {
          "base_uri": "https://localhost:8080/"
        },
        "id": "H1Ug2WFYdtYF",
        "outputId": "1d9b5a72-6d04-4c58-8332-da8adfce3511"
      },
      "outputs": [
        {
          "output_type": "execute_result",
          "data": {
            "text/plain": [
              "0"
            ]
          },
          "metadata": {},
          "execution_count": 20
        }
      ],
      "source": [
        "df.duplicated().sum()"
      ]
    },
    {
      "cell_type": "markdown",
      "metadata": {
        "id": "YGC0HT2odtYF"
      },
      "source": [
        "### Преобразование типов данных"
      ]
    },
    {
      "cell_type": "markdown",
      "metadata": {
        "id": "pm7yNgMudtYG"
      },
      "source": [
        "Год выпуска игры можно заменить на целые числа (предварительно округлив, т.к. ранее мы заполняли пропуски средними значениями), в силу того, что он не принимает дробных значений, а пользовательский рейтинг - на дробные числа, чтобы считать по ним статистики."
      ]
    },
    {
      "cell_type": "code",
      "execution_count": 21,
      "metadata": {
        "scrolled": false,
        "colab": {
          "base_uri": "https://localhost:8080/"
        },
        "id": "6mJUEPrhdtYG",
        "outputId": "d9c9ae64-8938-4e24-c6f9-e348e19a4a96"
      },
      "outputs": [
        {
          "output_type": "execute_result",
          "data": {
            "text/plain": [
              "name                object\n",
              "platform            object\n",
              "year_of_release      int16\n",
              "genre               object\n",
              "na_sales           float64\n",
              "eu_sales           float64\n",
              "jp_sales           float64\n",
              "other_sales        float64\n",
              "critic_score       float64\n",
              "user_score         float16\n",
              "rating              object\n",
              "dtype: object"
            ]
          },
          "metadata": {},
          "execution_count": 21
        }
      ],
      "source": [
        "df = df.round({'year_of_release': 0})\n",
        "df = df.astype({'user_score': 'float16', 'year_of_release': 'int16'})\n",
        "df.dtypes"
      ]
    },
    {
      "cell_type": "markdown",
      "metadata": {
        "id": "6kiLG9j7dtYG"
      },
      "source": [
        "### Расчёт суммарных продаж во всех регионах"
      ]
    },
    {
      "cell_type": "markdown",
      "metadata": {
        "id": "HP6nhkC-dtYH"
      },
      "source": [
        "В базе есть продажи в миллионах копий в отдельных регионах. Создадим переменную с суммарными продажами по миру в целом."
      ]
    },
    {
      "cell_type": "code",
      "execution_count": 22,
      "metadata": {
        "scrolled": false,
        "colab": {
          "base_uri": "https://localhost:8080/"
        },
        "id": "9zXnUYy3dtYH",
        "outputId": "98e77f68-732e-4440-cda5-5f5b168e7231"
      },
      "outputs": [
        {
          "output_type": "execute_result",
          "data": {
            "text/plain": [
              "count    16713.000000\n",
              "mean         0.533315\n",
              "std          1.548282\n",
              "min          0.000000\n",
              "25%          0.060000\n",
              "50%          0.170000\n",
              "75%          0.470000\n",
              "max         82.540000\n",
              "Name: total_sales, dtype: float64"
            ]
          },
          "metadata": {},
          "execution_count": 22
        }
      ],
      "source": [
        "df['total_sales'] = df['na_sales'] + df['eu_sales'] + df['jp_sales'] + df['other_sales']\n",
        "df['total_sales'].describe()"
      ]
    },
    {
      "cell_type": "markdown",
      "metadata": {
        "id": "O6nIJW77dtYH"
      },
      "source": [
        "Ранее мы видели, что какая-то игра продана на 40 млн копий в Северной Америке, теперь максимум по всему миру - 80 млн копий, т.е. скорее всего, это та же игра, данные посчитаны корректно. Посмотрим, что это за игра."
      ]
    },
    {
      "cell_type": "code",
      "execution_count": 23,
      "metadata": {
        "colab": {
          "base_uri": "https://localhost:8080/",
          "height": 206
        },
        "id": "Fbj0foi0dtYH",
        "outputId": "098a7dab-5637-49c0-8872-137209796782"
      },
      "outputs": [
        {
          "output_type": "execute_result",
          "data": {
            "text/plain": [
              "                       name platform  year_of_release         genre  na_sales  \\\n",
              "0                Wii Sports      Wii             2006        Sports     41.36   \n",
              "1         Super Mario Bros.      NES             1985      Platform     29.08   \n",
              "2            Mario Kart Wii      Wii             2008        Racing     15.68   \n",
              "3         Wii Sports Resort      Wii             2009        Sports     15.61   \n",
              "4  Pokemon Red/Pokemon Blue       GB             1996  Role-Playing     11.27   \n",
              "\n",
              "   eu_sales  jp_sales  other_sales  critic_score  user_score rating  \\\n",
              "0     28.96      3.77         8.45          76.0    8.000000      E   \n",
              "1      3.58      6.81         0.77           NaN         NaN    NaN   \n",
              "2     12.76      3.79         3.29          82.0    8.296875      E   \n",
              "3     10.93      3.28         2.95          80.0    8.000000      E   \n",
              "4      8.89     10.22         1.00           NaN         NaN    NaN   \n",
              "\n",
              "   total_sales  \n",
              "0        82.54  \n",
              "1        40.24  \n",
              "2        35.52  \n",
              "3        32.77  \n",
              "4        31.38  "
            ],
            "text/html": [
              "\n",
              "  <div id=\"df-2f7f9847-97e3-4dbe-b5a3-ed559c862461\">\n",
              "    <div class=\"colab-df-container\">\n",
              "      <div>\n",
              "<style scoped>\n",
              "    .dataframe tbody tr th:only-of-type {\n",
              "        vertical-align: middle;\n",
              "    }\n",
              "\n",
              "    .dataframe tbody tr th {\n",
              "        vertical-align: top;\n",
              "    }\n",
              "\n",
              "    .dataframe thead th {\n",
              "        text-align: right;\n",
              "    }\n",
              "</style>\n",
              "<table border=\"1\" class=\"dataframe\">\n",
              "  <thead>\n",
              "    <tr style=\"text-align: right;\">\n",
              "      <th></th>\n",
              "      <th>name</th>\n",
              "      <th>platform</th>\n",
              "      <th>year_of_release</th>\n",
              "      <th>genre</th>\n",
              "      <th>na_sales</th>\n",
              "      <th>eu_sales</th>\n",
              "      <th>jp_sales</th>\n",
              "      <th>other_sales</th>\n",
              "      <th>critic_score</th>\n",
              "      <th>user_score</th>\n",
              "      <th>rating</th>\n",
              "      <th>total_sales</th>\n",
              "    </tr>\n",
              "  </thead>\n",
              "  <tbody>\n",
              "    <tr>\n",
              "      <th>0</th>\n",
              "      <td>Wii Sports</td>\n",
              "      <td>Wii</td>\n",
              "      <td>2006</td>\n",
              "      <td>Sports</td>\n",
              "      <td>41.36</td>\n",
              "      <td>28.96</td>\n",
              "      <td>3.77</td>\n",
              "      <td>8.45</td>\n",
              "      <td>76.0</td>\n",
              "      <td>8.000000</td>\n",
              "      <td>E</td>\n",
              "      <td>82.54</td>\n",
              "    </tr>\n",
              "    <tr>\n",
              "      <th>1</th>\n",
              "      <td>Super Mario Bros.</td>\n",
              "      <td>NES</td>\n",
              "      <td>1985</td>\n",
              "      <td>Platform</td>\n",
              "      <td>29.08</td>\n",
              "      <td>3.58</td>\n",
              "      <td>6.81</td>\n",
              "      <td>0.77</td>\n",
              "      <td>NaN</td>\n",
              "      <td>NaN</td>\n",
              "      <td>NaN</td>\n",
              "      <td>40.24</td>\n",
              "    </tr>\n",
              "    <tr>\n",
              "      <th>2</th>\n",
              "      <td>Mario Kart Wii</td>\n",
              "      <td>Wii</td>\n",
              "      <td>2008</td>\n",
              "      <td>Racing</td>\n",
              "      <td>15.68</td>\n",
              "      <td>12.76</td>\n",
              "      <td>3.79</td>\n",
              "      <td>3.29</td>\n",
              "      <td>82.0</td>\n",
              "      <td>8.296875</td>\n",
              "      <td>E</td>\n",
              "      <td>35.52</td>\n",
              "    </tr>\n",
              "    <tr>\n",
              "      <th>3</th>\n",
              "      <td>Wii Sports Resort</td>\n",
              "      <td>Wii</td>\n",
              "      <td>2009</td>\n",
              "      <td>Sports</td>\n",
              "      <td>15.61</td>\n",
              "      <td>10.93</td>\n",
              "      <td>3.28</td>\n",
              "      <td>2.95</td>\n",
              "      <td>80.0</td>\n",
              "      <td>8.000000</td>\n",
              "      <td>E</td>\n",
              "      <td>32.77</td>\n",
              "    </tr>\n",
              "    <tr>\n",
              "      <th>4</th>\n",
              "      <td>Pokemon Red/Pokemon Blue</td>\n",
              "      <td>GB</td>\n",
              "      <td>1996</td>\n",
              "      <td>Role-Playing</td>\n",
              "      <td>11.27</td>\n",
              "      <td>8.89</td>\n",
              "      <td>10.22</td>\n",
              "      <td>1.00</td>\n",
              "      <td>NaN</td>\n",
              "      <td>NaN</td>\n",
              "      <td>NaN</td>\n",
              "      <td>31.38</td>\n",
              "    </tr>\n",
              "  </tbody>\n",
              "</table>\n",
              "</div>\n",
              "      <button class=\"colab-df-convert\" onclick=\"convertToInteractive('df-2f7f9847-97e3-4dbe-b5a3-ed559c862461')\"\n",
              "              title=\"Convert this dataframe to an interactive table.\"\n",
              "              style=\"display:none;\">\n",
              "        \n",
              "  <svg xmlns=\"http://www.w3.org/2000/svg\" height=\"24px\"viewBox=\"0 0 24 24\"\n",
              "       width=\"24px\">\n",
              "    <path d=\"M0 0h24v24H0V0z\" fill=\"none\"/>\n",
              "    <path d=\"M18.56 5.44l.94 2.06.94-2.06 2.06-.94-2.06-.94-.94-2.06-.94 2.06-2.06.94zm-11 1L8.5 8.5l.94-2.06 2.06-.94-2.06-.94L8.5 2.5l-.94 2.06-2.06.94zm10 10l.94 2.06.94-2.06 2.06-.94-2.06-.94-.94-2.06-.94 2.06-2.06.94z\"/><path d=\"M17.41 7.96l-1.37-1.37c-.4-.4-.92-.59-1.43-.59-.52 0-1.04.2-1.43.59L10.3 9.45l-7.72 7.72c-.78.78-.78 2.05 0 2.83L4 21.41c.39.39.9.59 1.41.59.51 0 1.02-.2 1.41-.59l7.78-7.78 2.81-2.81c.8-.78.8-2.07 0-2.86zM5.41 20L4 18.59l7.72-7.72 1.47 1.35L5.41 20z\"/>\n",
              "  </svg>\n",
              "      </button>\n",
              "      \n",
              "  <style>\n",
              "    .colab-df-container {\n",
              "      display:flex;\n",
              "      flex-wrap:wrap;\n",
              "      gap: 12px;\n",
              "    }\n",
              "\n",
              "    .colab-df-convert {\n",
              "      background-color: #E8F0FE;\n",
              "      border: none;\n",
              "      border-radius: 50%;\n",
              "      cursor: pointer;\n",
              "      display: none;\n",
              "      fill: #1967D2;\n",
              "      height: 32px;\n",
              "      padding: 0 0 0 0;\n",
              "      width: 32px;\n",
              "    }\n",
              "\n",
              "    .colab-df-convert:hover {\n",
              "      background-color: #E2EBFA;\n",
              "      box-shadow: 0px 1px 2px rgba(60, 64, 67, 0.3), 0px 1px 3px 1px rgba(60, 64, 67, 0.15);\n",
              "      fill: #174EA6;\n",
              "    }\n",
              "\n",
              "    [theme=dark] .colab-df-convert {\n",
              "      background-color: #3B4455;\n",
              "      fill: #D2E3FC;\n",
              "    }\n",
              "\n",
              "    [theme=dark] .colab-df-convert:hover {\n",
              "      background-color: #434B5C;\n",
              "      box-shadow: 0px 1px 3px 1px rgba(0, 0, 0, 0.15);\n",
              "      filter: drop-shadow(0px 1px 2px rgba(0, 0, 0, 0.3));\n",
              "      fill: #FFFFFF;\n",
              "    }\n",
              "  </style>\n",
              "\n",
              "      <script>\n",
              "        const buttonEl =\n",
              "          document.querySelector('#df-2f7f9847-97e3-4dbe-b5a3-ed559c862461 button.colab-df-convert');\n",
              "        buttonEl.style.display =\n",
              "          google.colab.kernel.accessAllowed ? 'block' : 'none';\n",
              "\n",
              "        async function convertToInteractive(key) {\n",
              "          const element = document.querySelector('#df-2f7f9847-97e3-4dbe-b5a3-ed559c862461');\n",
              "          const dataTable =\n",
              "            await google.colab.kernel.invokeFunction('convertToInteractive',\n",
              "                                                     [key], {});\n",
              "          if (!dataTable) return;\n",
              "\n",
              "          const docLinkHtml = 'Like what you see? Visit the ' +\n",
              "            '<a target=\"_blank\" href=https://colab.research.google.com/notebooks/data_table.ipynb>data table notebook</a>'\n",
              "            + ' to learn more about interactive tables.';\n",
              "          element.innerHTML = '';\n",
              "          dataTable['output_type'] = 'display_data';\n",
              "          await google.colab.output.renderOutput(dataTable, element);\n",
              "          const docLink = document.createElement('div');\n",
              "          docLink.innerHTML = docLinkHtml;\n",
              "          element.appendChild(docLink);\n",
              "        }\n",
              "      </script>\n",
              "    </div>\n",
              "  </div>\n",
              "  "
            ]
          },
          "metadata": {},
          "execution_count": 23
        }
      ],
      "source": [
        "df.sort_values(by='total_sales', ascending=False).head(5)"
      ]
    },
    {
      "cell_type": "markdown",
      "metadata": {
        "id": "VSJJRRDQdtYI"
      },
      "source": [
        "Wii Sports - базовая игра, которая [поставлялась бесплатно ](https://abcnews.go.com/Technology/GadgetGuide/story?id=2662149)с покупкой приставки, поэтому число проданных копий - это число проданных приставок."
      ]
    },
    {
      "cell_type": "markdown",
      "metadata": {
        "id": "h-MxvF-1dtYI"
      },
      "source": [
        "### Вывод"
      ]
    },
    {
      "cell_type": "markdown",
      "metadata": {
        "id": "EycTsd21dtYI"
      },
      "source": [
        "В ходе предварительной обработки данных мы прошли следующие этапы работы:\n",
        "1. Удалили 2 стоки в таблице, где не было указано название игры.\n",
        "2. Заполнили год выпуска 269 игр средними значениями года выпуска игр на соответствующей платформе, т.к. год выпуска существенно меняется в зависимости от платформы (срок жизни платформы ограничен).\n",
        "3. Удалили 2424 значения пользовательского рейтинга игры \"tbd\", т.к. это по сути пропуск.\n",
        "4. Заменили в 3 случаях возрастную категорию К-А на Е, т.к. это старое обозначение данной категории. В 3 случаях заменили возрастную категорию RP на пропуски, т.к. этот рейтинг ставится демо-играм на момент презентации игры, т.е. на момент попадания в базу у данных игр не было категории.\n",
        "5. Добавили новую переменную - суммарные продажи по всем регионам."
      ]
    },
    {
      "cell_type": "markdown",
      "metadata": {
        "id": "_N-l70ngdtYJ"
      },
      "source": [
        "## Исследовательский анализ данных"
      ]
    },
    {
      "cell_type": "markdown",
      "metadata": {
        "id": "12lK67HOdtYJ"
      },
      "source": [
        "### Динамика выпуска игр в разные годы "
      ]
    },
    {
      "cell_type": "markdown",
      "metadata": {
        "id": "wmfIhbXldtYJ"
      },
      "source": [
        "Посмотрим на предоставленные данные по годам."
      ]
    },
    {
      "cell_type": "code",
      "execution_count": 24,
      "metadata": {
        "colab": {
          "base_uri": "https://localhost:8080/",
          "height": 475
        },
        "id": "nYiup2WidtYK",
        "outputId": "2eb1c578-9f4c-4acf-a5b3-c97a7165ff3c"
      },
      "outputs": [
        {
          "output_type": "display_data",
          "data": {
            "text/plain": [
              "<Figure size 1080x504 with 1 Axes>"
            ],
            "image/png": "[encoded data removed]"
          },
          "metadata": {
            "needs_background": "light"
          }
        }
      ],
      "source": [
        "(df\n",
        " .groupby('year_of_release')['year_of_release']\n",
        " .count()\n",
        " .plot(\n",
        "    kind = 'bar',\n",
        "    color = 'purple',\n",
        "    figsize = (15,7)))\n",
        "plt.title('Количество выходивших игр по годам')\n",
        "plt.show()"
      ]
    },
    {
      "cell_type": "markdown",
      "metadata": {
        "id": "xhv1HHzHdtYK"
      },
      "source": [
        "Рынок появился в середине 90-х с развитием 3D-графики. Если считать выход игры на каждой платформе за единицу, что имеет смысл, т.к. часто для портирования игры на какую-либо консоль уходят годы, то мы увидим резкий скачок в 2002 году и резкое падение в 2012 году. [В конце 2001 года вышла новая платформа - X-Box](https://habr.com/ru/company/miip/blog/312884/), и стала одной из основных. По сути для каждой игры теперь увеличилось количество платформ, на которых необходимо делать релиз и, возможно, само количество игр увеличилось не так драматично.\n",
        "\n",
        "В 2011-2012 году также происходит смена поколений платформ. Новые приставки выпускают и Sony, и Microsoft. Игр (коммерчески успешных и значимых) становится меньше, но они становятся масштабнее.\n",
        "\n",
        "Посмотрим, как изменится выпуск игр по годам, если убрать дублирование игр на разных платформах."
      ]
    },
    {
      "cell_type": "code",
      "execution_count": 25,
      "metadata": {
        "colab": {
          "base_uri": "https://localhost:8080/",
          "height": 445
        },
        "id": "ZcefcvgIdtYK",
        "outputId": "380ef4ed-4c5d-4929-def6-08fcb2d837d8"
      },
      "outputs": [
        {
          "output_type": "display_data",
          "data": {
            "text/plain": [
              "<Figure size 1080x504 with 1 Axes>"
            ],
            "image/png": "[encoded data removed]"
          },
          "metadata": {
            "needs_background": "light"
          }
        }
      ],
      "source": [
        "table_by_years = (df.drop_duplicates(subset=['name']))\n",
        "\n",
        "\n",
        "table_by_years['year_of_release'].hist(\n",
        "    bins = 37,\n",
        "    color = 'purple',\n",
        "    figsize = (15,7))\n",
        "plt.title('Количество выходивших игр по годам(без дублирования по платформам')\n",
        "plt.show()"
      ]
    },
    {
      "cell_type": "markdown",
      "metadata": {
        "id": "1rI0iHNIdtYL"
      },
      "source": [
        "Если анализировать игры по названиям и годам (вне дублирования по платформам), то скачок в 2002 году не становится не так принципиален, а падение в 2012-м всё равно заметно. Основная причина падения рынка по количеству игр - [развитие мобильных игр](https://www.visualcapitalist.com/50-years-gaming-history-revenue-stream/) (на Android и iOS, которые не были учтены в данной базе). По сути они поглотили аркадные игры на мобильных платформах.\n",
        "\n",
        "В дальнейшем нам необходимо отказаться от части данных. Пока предположим, что рынок в его понимании на 2016 год сформировался в 2010-2012 году."
      ]
    },
    {
      "cell_type": "markdown",
      "metadata": {
        "id": "_ySsMQ98dtYM"
      },
      "source": [
        "### Изменение продаж по платформам"
      ]
    },
    {
      "cell_type": "markdown",
      "metadata": {
        "id": "25fPoaVFdtYM"
      },
      "source": [
        "Посмотрим на распределение игр по количеству релизов по годам по платформам. Для этого нам понадобится промежуточная таблица с количеством релизов на каждой платформе в каждый год, по которой мы посмотрим диаграмму. На горизонтальной оси будут годы, на вертикальной - платформы, окружностями будут релизы на пересечении года и платформы. Размер окружности соответствует количеству релизов."
      ]
    },
    {
      "cell_type": "code",
      "execution_count": 26,
      "metadata": {
        "colab": {
          "base_uri": "https://localhost:8080/",
          "height": 716
        },
        "id": "L-dBXADGdtYM",
        "outputId": "a95f2dd5-4b66-4e81-914e-1cb95b8c1762"
      },
      "outputs": [
        {
          "output_type": "display_data",
          "data": {
            "text/plain": [
              "<Figure size 1080x864 with 1 Axes>"
            ],
            "image/png": "[encoded data removed]"
          },
          "metadata": {
            "needs_background": "light"
          }
        }
      ],
      "source": [
        "platforms_by_years = (df\n",
        "                      .groupby('platform')['year_of_release']\n",
        "                      .value_counts()\n",
        "                      .sort_values(ascending=False)\n",
        "                      .to_frame(name='count')\n",
        "                      .reset_index())\n",
        "\n",
        "\n",
        "plt.figure(figsize=(15, 12))\n",
        "plt.scatter(\n",
        "    platforms_by_years['year_of_release'],\n",
        "    platforms_by_years['platform'],\n",
        "    s=platforms_by_years['count'],\n",
        "    color='purple',\n",
        "    alpha=0.7)\n",
        "plt.grid(axis='y')\n",
        "plt.title('Количество выходивших игр по годам на разных платформах')\n",
        "plt.show()"
      ]
    },
    {
      "cell_type": "markdown",
      "metadata": {
        "id": "gW9F0c9odtYN"
      },
      "source": [
        "Очевидно, что в 2011 году рынок сильно поменялся (мы отмечали это ранее, анализируя только количество игр). Но теперь очевидно, что этот год стал рубежом как для ухода с рынка целого ряда платформ (Wii, DS, PS2), так и для появления крайне сильных игроков (XOne, PSV, 3DS, PS4).\n",
        "\n",
        "Также ранее мы обращались к [стороннему анализу рынка](https://www.visualcapitalist.com/50-years-gaming-history-revenue-stream/), где 2011 год стал рубежом для взрывообразного развития рынка мобильных игр, что существенно поменяло индустрию, и консоли сосредоточились на более редких, но крупных релизах."
      ]
    },
    {
      "cell_type": "markdown",
      "metadata": {
        "id": "xr7jQ_7rdtYN"
      },
      "source": [
        "Наиболее интересные данные расположены внизу таблицы. Однако мы оставили все платформы для отображения, чтобы показать, что цикл жизни платформы - примерно 5-6 лет. Так происходит как с небольшими платформами (GEN, DC, WiiU, SAT, N64), так и с крупными (GC, XB, GBA, Wii и DS). Посмотрим на медиану продолжительности жизни платформ:"
      ]
    },
    {
      "cell_type": "code",
      "execution_count": 27,
      "metadata": {
        "colab": {
          "base_uri": "https://localhost:8080/"
        },
        "id": "Mx5JeFOedtYN",
        "outputId": "13ab2af6-af37-4790-c807-729200fa2a06"
      },
      "outputs": [
        {
          "output_type": "execute_result",
          "data": {
            "text/plain": [
              "7.0"
            ]
          },
          "metadata": {},
          "execution_count": 27
        }
      ],
      "source": [
        "crosstab_platforms_by_years = pd.crosstab(\n",
        "    df['year_of_release'],\n",
        "    df['platform'],\n",
        "    values= df['platform'],\n",
        "    aggfunc='count')\n",
        "\n",
        "list = []\n",
        "for _ in crosstab_platforms_by_years.columns:\n",
        "    average = crosstab_platforms_by_years[_].count()\n",
        "    list.append(average)\n",
        "pd.Series(list).median()"
      ]
    },
    {
      "cell_type": "markdown",
      "metadata": {
        "id": "pi4SB5-adtYO"
      },
      "source": [
        "Медиана длительности существования платформы на рынке - 7 лет."
      ]
    },
    {
      "cell_type": "markdown",
      "metadata": {
        "id": "73T_O1p9dtYP"
      },
      "source": [
        "### Определение актуального периода анализа "
      ]
    },
    {
      "cell_type": "markdown",
      "metadata": {
        "id": "MJbbk2yzdtYP"
      },
      "source": [
        "Итак, мы определили, что для дальнейшего анализа будем использовать данные 2011-2016 годов, посмотрим на объём этих данных."
      ]
    },
    {
      "cell_type": "code",
      "execution_count": 28,
      "metadata": {
        "colab": {
          "base_uri": "https://localhost:8080/"
        },
        "id": "hAiXj104dtYP",
        "outputId": "bb901974-9f61-4683-82c4-87a1c42781d1"
      },
      "outputs": [
        {
          "output_type": "stream",
          "name": "stdout",
          "text": [
            "Всего записей 4056\n",
            "Всего игр 2446\n",
            "Всего платформ 12\n"
          ]
        }
      ],
      "source": [
        "df_11_16 = df.query('year_of_release > 2010')\n",
        "print('Всего записей', len(df_11_16))\n",
        "print('Всего игр', len(df_11_16['name'].unique()))\n",
        "print('Всего платформ', len(df_11_16['platform'].unique()))"
      ]
    },
    {
      "cell_type": "markdown",
      "metadata": {
        "id": "kRx0iqlcdtYP"
      },
      "source": [
        "Для формирования дальнейших выводов мы будем работать с новым набором данных с 2011 по 2016 год."
      ]
    },
    {
      "cell_type": "markdown",
      "metadata": {
        "id": "STHiI3-9dtYQ"
      },
      "source": [
        "### Определение потенциально прибыльных платформ "
      ]
    },
    {
      "cell_type": "markdown",
      "metadata": {
        "id": "EGKaWZ9_dtYQ"
      },
      "source": [
        "Посмотрим на продажи по платформам за последние 5 лет по всему миру."
      ]
    },
    {
      "cell_type": "code",
      "execution_count": 29,
      "metadata": {
        "scrolled": false,
        "colab": {
          "base_uri": "https://localhost:8080/",
          "height": 238
        },
        "id": "40Xdhg2sdtYQ",
        "outputId": "5f882b96-a6a7-48c0-f709-9892aaa4bbb6"
      },
      "outputs": [
        {
          "output_type": "execute_result",
          "data": {
            "text/plain": [
              "platform  year_of_release    PS4  XOne   3DS    PC  WiiU    PS3   PSV   X360  \\\n",
              "0                    2011    NaN   NaN  63.0  35.0   NaN  165.0   5.0  144.0   \n",
              "1                    2012    NaN   NaN  51.0  23.0  18.0  107.0  16.0  100.0   \n",
              "2                    2013   26.0  19.0  58.0  12.0  22.0  113.0  11.0   89.0   \n",
              "3                    2014  100.0  54.0  44.0  13.0  22.0   48.0  12.0   35.0   \n",
              "4                    2015  119.0  60.0  28.0   9.0  16.0   17.0   6.0   12.0   \n",
              "5                    2016   69.0  26.0  15.0   5.0   5.0    4.0   4.0    2.0   \n",
              "\n",
              "platform   Wii    DS  PS2   PSP  \n",
              "0         60.0  26.0  0.0  18.0  \n",
              "1         22.0  11.0  NaN   8.0  \n",
              "2          9.0   2.0  NaN   3.0  \n",
              "3          4.0   NaN  NaN   0.0  \n",
              "4          1.0   NaN  NaN   0.0  \n",
              "5          0.0   NaN  NaN   NaN  "
            ],
            "text/html": [
              "\n",
              "  <div id=\"df-52a95586-8a25-4215-b886-e58eca9554f1\">\n",
              "    <div class=\"colab-df-container\">\n",
              "      <div>\n",
              "<style scoped>\n",
              "    .dataframe tbody tr th:only-of-type {\n",
              "        vertical-align: middle;\n",
              "    }\n",
              "\n",
              "    .dataframe tbody tr th {\n",
              "        vertical-align: top;\n",
              "    }\n",
              "\n",
              "    .dataframe thead th {\n",
              "        text-align: right;\n",
              "    }\n",
              "</style>\n",
              "<table border=\"1\" class=\"dataframe\">\n",
              "  <thead>\n",
              "    <tr style=\"text-align: right;\">\n",
              "      <th>platform</th>\n",
              "      <th>year_of_release</th>\n",
              "      <th>PS4</th>\n",
              "      <th>XOne</th>\n",
              "      <th>3DS</th>\n",
              "      <th>PC</th>\n",
              "      <th>WiiU</th>\n",
              "      <th>PS3</th>\n",
              "      <th>PSV</th>\n",
              "      <th>X360</th>\n",
              "      <th>Wii</th>\n",
              "      <th>DS</th>\n",
              "      <th>PS2</th>\n",
              "      <th>PSP</th>\n",
              "    </tr>\n",
              "  </thead>\n",
              "  <tbody>\n",
              "    <tr>\n",
              "      <th>0</th>\n",
              "      <td>2011</td>\n",
              "      <td>NaN</td>\n",
              "      <td>NaN</td>\n",
              "      <td>63.0</td>\n",
              "      <td>35.0</td>\n",
              "      <td>NaN</td>\n",
              "      <td>165.0</td>\n",
              "      <td>5.0</td>\n",
              "      <td>144.0</td>\n",
              "      <td>60.0</td>\n",
              "      <td>26.0</td>\n",
              "      <td>0.0</td>\n",
              "      <td>18.0</td>\n",
              "    </tr>\n",
              "    <tr>\n",
              "      <th>1</th>\n",
              "      <td>2012</td>\n",
              "      <td>NaN</td>\n",
              "      <td>NaN</td>\n",
              "      <td>51.0</td>\n",
              "      <td>23.0</td>\n",
              "      <td>18.0</td>\n",
              "      <td>107.0</td>\n",
              "      <td>16.0</td>\n",
              "      <td>100.0</td>\n",
              "      <td>22.0</td>\n",
              "      <td>11.0</td>\n",
              "      <td>NaN</td>\n",
              "      <td>8.0</td>\n",
              "    </tr>\n",
              "    <tr>\n",
              "      <th>2</th>\n",
              "      <td>2013</td>\n",
              "      <td>26.0</td>\n",
              "      <td>19.0</td>\n",
              "      <td>58.0</td>\n",
              "      <td>12.0</td>\n",
              "      <td>22.0</td>\n",
              "      <td>113.0</td>\n",
              "      <td>11.0</td>\n",
              "      <td>89.0</td>\n",
              "      <td>9.0</td>\n",
              "      <td>2.0</td>\n",
              "      <td>NaN</td>\n",
              "      <td>3.0</td>\n",
              "    </tr>\n",
              "    <tr>\n",
              "      <th>3</th>\n",
              "      <td>2014</td>\n",
              "      <td>100.0</td>\n",
              "      <td>54.0</td>\n",
              "      <td>44.0</td>\n",
              "      <td>13.0</td>\n",
              "      <td>22.0</td>\n",
              "      <td>48.0</td>\n",
              "      <td>12.0</td>\n",
              "      <td>35.0</td>\n",
              "      <td>4.0</td>\n",
              "      <td>NaN</td>\n",
              "      <td>NaN</td>\n",
              "      <td>0.0</td>\n",
              "    </tr>\n",
              "    <tr>\n",
              "      <th>4</th>\n",
              "      <td>2015</td>\n",
              "      <td>119.0</td>\n",
              "      <td>60.0</td>\n",
              "      <td>28.0</td>\n",
              "      <td>9.0</td>\n",
              "      <td>16.0</td>\n",
              "      <td>17.0</td>\n",
              "      <td>6.0</td>\n",
              "      <td>12.0</td>\n",
              "      <td>1.0</td>\n",
              "      <td>NaN</td>\n",
              "      <td>NaN</td>\n",
              "      <td>0.0</td>\n",
              "    </tr>\n",
              "    <tr>\n",
              "      <th>5</th>\n",
              "      <td>2016</td>\n",
              "      <td>69.0</td>\n",
              "      <td>26.0</td>\n",
              "      <td>15.0</td>\n",
              "      <td>5.0</td>\n",
              "      <td>5.0</td>\n",
              "      <td>4.0</td>\n",
              "      <td>4.0</td>\n",
              "      <td>2.0</td>\n",
              "      <td>0.0</td>\n",
              "      <td>NaN</td>\n",
              "      <td>NaN</td>\n",
              "      <td>NaN</td>\n",
              "    </tr>\n",
              "  </tbody>\n",
              "</table>\n",
              "</div>\n",
              "      <button class=\"colab-df-convert\" onclick=\"convertToInteractive('df-52a95586-8a25-4215-b886-e58eca9554f1')\"\n",
              "              title=\"Convert this dataframe to an interactive table.\"\n",
              "              style=\"display:none;\">\n",
              "        \n",
              "  <svg xmlns=\"http://www.w3.org/2000/svg\" height=\"24px\"viewBox=\"0 0 24 24\"\n",
              "       width=\"24px\">\n",
              "    <path d=\"M0 0h24v24H0V0z\" fill=\"none\"/>\n",
              "    <path d=\"M18.56 5.44l.94 2.06.94-2.06 2.06-.94-2.06-.94-.94-2.06-.94 2.06-2.06.94zm-11 1L8.5 8.5l.94-2.06 2.06-.94-2.06-.94L8.5 2.5l-.94 2.06-2.06.94zm10 10l.94 2.06.94-2.06 2.06-.94-2.06-.94-.94-2.06-.94 2.06-2.06.94z\"/><path d=\"M17.41 7.96l-1.37-1.37c-.4-.4-.92-.59-1.43-.59-.52 0-1.04.2-1.43.59L10.3 9.45l-7.72 7.72c-.78.78-.78 2.05 0 2.83L4 21.41c.39.39.9.59 1.41.59.51 0 1.02-.2 1.41-.59l7.78-7.78 2.81-2.81c.8-.78.8-2.07 0-2.86zM5.41 20L4 18.59l7.72-7.72 1.47 1.35L5.41 20z\"/>\n",
              "  </svg>\n",
              "      </button>\n",
              "      \n",
              "  <style>\n",
              "    .colab-df-container {\n",
              "      display:flex;\n",
              "      flex-wrap:wrap;\n",
              "      gap: 12px;\n",
              "    }\n",
              "\n",
              "    .colab-df-convert {\n",
              "      background-color: #E8F0FE;\n",
              "      border: none;\n",
              "      border-radius: 50%;\n",
              "      cursor: pointer;\n",
              "      display: none;\n",
              "      fill: #1967D2;\n",
              "      height: 32px;\n",
              "      padding: 0 0 0 0;\n",
              "      width: 32px;\n",
              "    }\n",
              "\n",
              "    .colab-df-convert:hover {\n",
              "      background-color: #E2EBFA;\n",
              "      box-shadow: 0px 1px 2px rgba(60, 64, 67, 0.3), 0px 1px 3px 1px rgba(60, 64, 67, 0.15);\n",
              "      fill: #174EA6;\n",
              "    }\n",
              "\n",
              "    [theme=dark] .colab-df-convert {\n",
              "      background-color: #3B4455;\n",
              "      fill: #D2E3FC;\n",
              "    }\n",
              "\n",
              "    [theme=dark] .colab-df-convert:hover {\n",
              "      background-color: #434B5C;\n",
              "      box-shadow: 0px 1px 3px 1px rgba(0, 0, 0, 0.15);\n",
              "      filter: drop-shadow(0px 1px 2px rgba(0, 0, 0, 0.3));\n",
              "      fill: #FFFFFF;\n",
              "    }\n",
              "  </style>\n",
              "\n",
              "      <script>\n",
              "        const buttonEl =\n",
              "          document.querySelector('#df-52a95586-8a25-4215-b886-e58eca9554f1 button.colab-df-convert');\n",
              "        buttonEl.style.display =\n",
              "          google.colab.kernel.accessAllowed ? 'block' : 'none';\n",
              "\n",
              "        async function convertToInteractive(key) {\n",
              "          const element = document.querySelector('#df-52a95586-8a25-4215-b886-e58eca9554f1');\n",
              "          const dataTable =\n",
              "            await google.colab.kernel.invokeFunction('convertToInteractive',\n",
              "                                                     [key], {});\n",
              "          if (!dataTable) return;\n",
              "\n",
              "          const docLinkHtml = 'Like what you see? Visit the ' +\n",
              "            '<a target=\"_blank\" href=https://colab.research.google.com/notebooks/data_table.ipynb>data table notebook</a>'\n",
              "            + ' to learn more about interactive tables.';\n",
              "          element.innerHTML = '';\n",
              "          dataTable['output_type'] = 'display_data';\n",
              "          await google.colab.output.renderOutput(dataTable, element);\n",
              "          const docLink = document.createElement('div');\n",
              "          docLink.innerHTML = docLinkHtml;\n",
              "          element.appendChild(docLink);\n",
              "        }\n",
              "      </script>\n",
              "    </div>\n",
              "  </div>\n",
              "  "
            ]
          },
          "metadata": {},
          "execution_count": 29
        }
      ],
      "source": [
        "df_11_16_by_platforms = (df_11_16.pivot_table(\n",
        "    index=['year_of_release'],\n",
        "    columns='platform',\n",
        "    values='total_sales',\n",
        "    aggfunc='sum')\n",
        "\n",
        ".round(0)\n",
        ".sort_values(by=2016, axis='columns', ascending=False)\n",
        ".reset_index())\n",
        "\n",
        "\n",
        "df_11_16_by_platforms"
      ]
    },
    {
      "cell_type": "markdown",
      "metadata": {
        "id": "O7Ldj-PmdtYR"
      },
      "source": [
        "Похоже, что в 2017 году уже вряд ли прибыльными платформами будут PSP, PS2, DS, Wii, X360, PS3, PSV. Также имеют существенный объем продаж, но уже заканчивают свой жизненный цикл WiiU и классические игры на PC. Вряд ли в базе учтены онлайн-игры на PC, т.к. судя по стороннему анализу рынка этот сегмент только растёт. Таким образом, наиболее прибыльными можно считать три платформы восьмого поколения: PS4, XOne и 3DS. Посмотрим на динамику их продаж более на диаграмме."
      ]
    },
    {
      "cell_type": "code",
      "execution_count": 30,
      "metadata": {
        "colab": {
          "base_uri": "https://localhost:8080/",
          "height": 474
        },
        "id": "bBSriD8QdtYR",
        "outputId": "02be21c3-7b26-49f7-b1cc-70d5f0ca2234"
      },
      "outputs": [
        {
          "output_type": "display_data",
          "data": {
            "text/plain": [
              "<Figure size 1080x504 with 1 Axes>"
            ],
            "image/png": "[encoded data removed]"
          },
          "metadata": {
            "needs_background": "light"
          }
        }
      ],
      "source": [
        "df_11_16_by_platforms.plot(\n",
        "    x='year_of_release', y=['PS4', 'XOne', '3DS'], kind='bar',  color = ['purple','black','grey'],\n",
        "    figsize = (15,7)\n",
        ")\n",
        "plt.title('Объем продаж игр по всему миру в зависимости от платформ за 2011-2016 гг.')\n",
        "plt.xlabel('годы')\n",
        "plt.ylabel('объемы продаж в млн. копий по всем регионам')\n",
        "plt.show()"
      ]
    },
    {
      "cell_type": "markdown",
      "metadata": {
        "id": "ifCuPrUEdtYR"
      },
      "source": [
        "За 2016 год данные неполные, поэтому о падении речь не идёт.\n",
        "\n",
        "PS4 появилась на рынке в 2013 г. и явно сохранит лидерские позиции по итогу 2016 г. и в 2017 г., игры на этой платформе необходимо включить в рекламную кампанию.\n",
        "\n",
        "XOne вышла параллельно с PS4, развиваласьмедленнее, но линамика 2013-2015 положительная. Эта консоль вполне может поспорить за лидерство в 2017 г. при наличии эксклюзивов, поэтому игры на данной платформе также необходимо включать в рекламную кампанию.\n",
        "\n",
        "Платформа 3DS появилась раньше, в 2011 г. Её динамику можно описать как стагнирующую, в 2013-2015 было плавное сокращение объемов продаж. Тем не менее, игры на этой платформе занимают третье место на рынке, есть смысл не отказываться от самых перспективных из них."
      ]
    },
    {
      "cell_type": "markdown",
      "metadata": {
        "id": "pHtvnXgQdtYS"
      },
      "source": [
        "Построим график «ящик с усами» по глобальным продажам игр в разбивке по платформам."
      ]
    },
    {
      "cell_type": "code",
      "execution_count": 31,
      "metadata": {
        "colab": {
          "base_uri": "https://localhost:8080/",
          "height": 459
        },
        "id": "bP_8n6-xdtYS",
        "outputId": "71e68adf-9a37-49a8-dd7c-939e44ab60a9"
      },
      "outputs": [
        {
          "output_type": "display_data",
          "data": {
            "text/plain": [
              "<Figure size 1080x504 with 1 Axes>"
            ],
            "image/png": "[encoded data removed]"
          },
          "metadata": {
            "needs_background": "light"
          }
        }
      ],
      "source": [
        "df_11_16_by_names = (df_11_16.pivot_table(\n",
        "    index=['name'],\n",
        "    columns='platform',\n",
        "    values='total_sales',\n",
        "    aggfunc='sum')\n",
        "\n",
        ".sort_values(by='Grand Theft Auto V', axis='columns', ascending=False)\n",
        ")\n",
        "\n",
        "import warnings\n",
        "warnings.simplefilter('ignore')\n",
        "\n",
        "df_11_16_by_names.plot.box(figsize = (15,7), ylim = (0,3))\n",
        "plt.title('Распределение переменной глобальных продаж игр по платформам в 2011-2016 гг.')\n",
        "plt.xlabel('платформы')\n",
        "plt.ylabel('объемы продаж в млн. копий по всем регионам')\n",
        "plt.show()"
      ]
    },
    {
      "cell_type": "markdown",
      "metadata": {
        "id": "5V2TVAgEdtYU"
      },
      "source": [
        "Платформы отсортированы по продажам GTA V, т.к. это самая популярная игра в 2011-2016 гг. Максимальные значения продаж доходят до 20 миллионов копий, но мы показываем шкалу до 3 миллионов, чтобы была лучше видна разница между медианами продаж на платформах.\n",
        "\n",
        "Наибольшая медиана и межквартильный размах - у платформы X360, однако, как мы говорили ранее, эта платформа уже практически покинет рынок в 2017 году. Аналогичная ситуация с патформами PS3, Wii и WiiU: несмотря на высокие значения медиан, они не являются существенными конкурентами.\n",
        "\n",
        "В 2017 году за лидерство будут спорить PS4 и XOne. У PS4 существенно больше \"выбросов\" (крайне высоких продаж эксклюзивных игр), однако сама медиана на XOne выше. На PS4 выходит больше игр, однако в среднем продажи игр на XOne выше.\n",
        "\n",
        "Успешность PS4 на фоне продаж XOne вызвана большим количеством экслюзивных игр, есть ряд технических характеристик, по которым данная приставка лидирует в 2016 году, лояльность аудитории выше."
      ]
    },
    {
      "cell_type": "markdown",
      "metadata": {
        "id": "yxzQWr_ddtYV"
      },
      "source": [
        "### Анализ зависимости продаж от отзывов"
      ]
    },
    {
      "cell_type": "markdown",
      "metadata": {
        "id": "SwCVjIHbdtYV"
      },
      "source": [
        "Отзывы пользователей и критиков есть примерно в половине случаев. Чтобы проанализировать связь отзывов и продаж, необходимо выбрать одну платформу. Посмотрим, какова доля игр, у которых есть рейтинго пользователей и оценка критиков среди общего количества игр по имеющимся платформам."
      ]
    },
    {
      "cell_type": "code",
      "execution_count": 32,
      "metadata": {
        "colab": {
          "base_uri": "https://localhost:8080/",
          "height": 395
        },
        "id": "aZvNbrOEdtYW",
        "outputId": "3556cfe4-43fa-4ccd-bce2-a069d6eb761c"
      },
      "outputs": [
        {
          "output_type": "display_data",
          "data": {
            "text/plain": [
              "   platform  critic_score  name  user_score  critic_score_rate  \\\n",
              "2        PC           289   389         307           0.742931   \n",
              "11     XOne           169   247         182           0.684211   \n",
              "5       PS4           252   392         257           0.642857   \n",
              "9      WiiU            90   147         100           0.612245   \n",
              "10     X360           296   498         364           0.594378   \n",
              "\n",
              "    user_score_rate  \n",
              "2          0.789203  \n",
              "11         0.736842  \n",
              "5          0.655612  \n",
              "9          0.680272  \n",
              "10         0.730924  "
            ],
            "text/html": [
              "\n",
              "  <div id=\"df-8c13e43d-4143-41c1-9af5-b4bd406627ba\">\n",
              "    <div class=\"colab-df-container\">\n",
              "      <div>\n",
              "<style scoped>\n",
              "    .dataframe tbody tr th:only-of-type {\n",
              "        vertical-align: middle;\n",
              "    }\n",
              "\n",
              "    .dataframe tbody tr th {\n",
              "        vertical-align: top;\n",
              "    }\n",
              "\n",
              "    .dataframe thead th {\n",
              "        text-align: right;\n",
              "    }\n",
              "</style>\n",
              "<table border=\"1\" class=\"dataframe\">\n",
              "  <thead>\n",
              "    <tr style=\"text-align: right;\">\n",
              "      <th></th>\n",
              "      <th>platform</th>\n",
              "      <th>critic_score</th>\n",
              "      <th>name</th>\n",
              "      <th>user_score</th>\n",
              "      <th>critic_score_rate</th>\n",
              "      <th>user_score_rate</th>\n",
              "    </tr>\n",
              "  </thead>\n",
              "  <tbody>\n",
              "    <tr>\n",
              "      <th>2</th>\n",
              "      <td>PC</td>\n",
              "      <td>289</td>\n",
              "      <td>389</td>\n",
              "      <td>307</td>\n",
              "      <td>0.742931</td>\n",
              "      <td>0.789203</td>\n",
              "    </tr>\n",
              "    <tr>\n",
              "      <th>11</th>\n",
              "      <td>XOne</td>\n",
              "      <td>169</td>\n",
              "      <td>247</td>\n",
              "      <td>182</td>\n",
              "      <td>0.684211</td>\n",
              "      <td>0.736842</td>\n",
              "    </tr>\n",
              "    <tr>\n",
              "      <th>5</th>\n",
              "      <td>PS4</td>\n",
              "      <td>252</td>\n",
              "      <td>392</td>\n",
              "      <td>257</td>\n",
              "      <td>0.642857</td>\n",
              "      <td>0.655612</td>\n",
              "    </tr>\n",
              "    <tr>\n",
              "      <th>9</th>\n",
              "      <td>WiiU</td>\n",
              "      <td>90</td>\n",
              "      <td>147</td>\n",
              "      <td>100</td>\n",
              "      <td>0.612245</td>\n",
              "      <td>0.680272</td>\n",
              "    </tr>\n",
              "    <tr>\n",
              "      <th>10</th>\n",
              "      <td>X360</td>\n",
              "      <td>296</td>\n",
              "      <td>498</td>\n",
              "      <td>364</td>\n",
              "      <td>0.594378</td>\n",
              "      <td>0.730924</td>\n",
              "    </tr>\n",
              "  </tbody>\n",
              "</table>\n",
              "</div>\n",
              "      <button class=\"colab-df-convert\" onclick=\"convertToInteractive('df-8c13e43d-4143-41c1-9af5-b4bd406627ba')\"\n",
              "              title=\"Convert this dataframe to an interactive table.\"\n",
              "              style=\"display:none;\">\n",
              "        \n",
              "  <svg xmlns=\"http://www.w3.org/2000/svg\" height=\"24px\"viewBox=\"0 0 24 24\"\n",
              "       width=\"24px\">\n",
              "    <path d=\"M0 0h24v24H0V0z\" fill=\"none\"/>\n",
              "    <path d=\"M18.56 5.44l.94 2.06.94-2.06 2.06-.94-2.06-.94-.94-2.06-.94 2.06-2.06.94zm-11 1L8.5 8.5l.94-2.06 2.06-.94-2.06-.94L8.5 2.5l-.94 2.06-2.06.94zm10 10l.94 2.06.94-2.06 2.06-.94-2.06-.94-.94-2.06-.94 2.06-2.06.94z\"/><path d=\"M17.41 7.96l-1.37-1.37c-.4-.4-.92-.59-1.43-.59-.52 0-1.04.2-1.43.59L10.3 9.45l-7.72 7.72c-.78.78-.78 2.05 0 2.83L4 21.41c.39.39.9.59 1.41.59.51 0 1.02-.2 1.41-.59l7.78-7.78 2.81-2.81c.8-.78.8-2.07 0-2.86zM5.41 20L4 18.59l7.72-7.72 1.47 1.35L5.41 20z\"/>\n",
              "  </svg>\n",
              "      </button>\n",
              "      \n",
              "  <style>\n",
              "    .colab-df-container {\n",
              "      display:flex;\n",
              "      flex-wrap:wrap;\n",
              "      gap: 12px;\n",
              "    }\n",
              "\n",
              "    .colab-df-convert {\n",
              "      background-color: #E8F0FE;\n",
              "      border: none;\n",
              "      border-radius: 50%;\n",
              "      cursor: pointer;\n",
              "      display: none;\n",
              "      fill: #1967D2;\n",
              "      height: 32px;\n",
              "      padding: 0 0 0 0;\n",
              "      width: 32px;\n",
              "    }\n",
              "\n",
              "    .colab-df-convert:hover {\n",
              "      background-color: #E2EBFA;\n",
              "      box-shadow: 0px 1px 2px rgba(60, 64, 67, 0.3), 0px 1px 3px 1px rgba(60, 64, 67, 0.15);\n",
              "      fill: #174EA6;\n",
              "    }\n",
              "\n",
              "    [theme=dark] .colab-df-convert {\n",
              "      background-color: #3B4455;\n",
              "      fill: #D2E3FC;\n",
              "    }\n",
              "\n",
              "    [theme=dark] .colab-df-convert:hover {\n",
              "      background-color: #434B5C;\n",
              "      box-shadow: 0px 1px 3px 1px rgba(0, 0, 0, 0.15);\n",
              "      filter: drop-shadow(0px 1px 2px rgba(0, 0, 0, 0.3));\n",
              "      fill: #FFFFFF;\n",
              "    }\n",
              "  </style>\n",
              "\n",
              "      <script>\n",
              "        const buttonEl =\n",
              "          document.querySelector('#df-8c13e43d-4143-41c1-9af5-b4bd406627ba button.colab-df-convert');\n",
              "        buttonEl.style.display =\n",
              "          google.colab.kernel.accessAllowed ? 'block' : 'none';\n",
              "\n",
              "        async function convertToInteractive(key) {\n",
              "          const element = document.querySelector('#df-8c13e43d-4143-41c1-9af5-b4bd406627ba');\n",
              "          const dataTable =\n",
              "            await google.colab.kernel.invokeFunction('convertToInteractive',\n",
              "                                                     [key], {});\n",
              "          if (!dataTable) return;\n",
              "\n",
              "          const docLinkHtml = 'Like what you see? Visit the ' +\n",
              "            '<a target=\"_blank\" href=https://colab.research.google.com/notebooks/data_table.ipynb>data table notebook</a>'\n",
              "            + ' to learn more about interactive tables.';\n",
              "          element.innerHTML = '';\n",
              "          dataTable['output_type'] = 'display_data';\n",
              "          await google.colab.output.renderOutput(dataTable, element);\n",
              "          const docLink = document.createElement('div');\n",
              "          docLink.innerHTML = docLinkHtml;\n",
              "          element.appendChild(docLink);\n",
              "        }\n",
              "      </script>\n",
              "    </div>\n",
              "  </div>\n",
              "  "
            ]
          },
          "metadata": {}
        },
        {
          "output_type": "execute_result",
          "data": {
            "text/plain": [
              "   platform  critic_score  name  user_score  critic_score_rate  \\\n",
              "2        PC           289   389         307           0.742931   \n",
              "11     XOne           169   247         182           0.684211   \n",
              "10     X360           296   498         364           0.594378   \n",
              "9      WiiU            90   147         100           0.612245   \n",
              "5       PS4           252   392         257           0.642857   \n",
              "\n",
              "    user_score_rate  \n",
              "2          0.789203  \n",
              "11         0.736842  \n",
              "10         0.730924  \n",
              "9          0.680272  \n",
              "5          0.655612  "
            ],
            "text/html": [
              "\n",
              "  <div id=\"df-ebb247f1-d13d-468a-a303-7d0b03d91f5d\">\n",
              "    <div class=\"colab-df-container\">\n",
              "      <div>\n",
              "<style scoped>\n",
              "    .dataframe tbody tr th:only-of-type {\n",
              "        vertical-align: middle;\n",
              "    }\n",
              "\n",
              "    .dataframe tbody tr th {\n",
              "        vertical-align: top;\n",
              "    }\n",
              "\n",
              "    .dataframe thead th {\n",
              "        text-align: right;\n",
              "    }\n",
              "</style>\n",
              "<table border=\"1\" class=\"dataframe\">\n",
              "  <thead>\n",
              "    <tr style=\"text-align: right;\">\n",
              "      <th></th>\n",
              "      <th>platform</th>\n",
              "      <th>critic_score</th>\n",
              "      <th>name</th>\n",
              "      <th>user_score</th>\n",
              "      <th>critic_score_rate</th>\n",
              "      <th>user_score_rate</th>\n",
              "    </tr>\n",
              "  </thead>\n",
              "  <tbody>\n",
              "    <tr>\n",
              "      <th>2</th>\n",
              "      <td>PC</td>\n",
              "      <td>289</td>\n",
              "      <td>389</td>\n",
              "      <td>307</td>\n",
              "      <td>0.742931</td>\n",
              "      <td>0.789203</td>\n",
              "    </tr>\n",
              "    <tr>\n",
              "      <th>11</th>\n",
              "      <td>XOne</td>\n",
              "      <td>169</td>\n",
              "      <td>247</td>\n",
              "      <td>182</td>\n",
              "      <td>0.684211</td>\n",
              "      <td>0.736842</td>\n",
              "    </tr>\n",
              "    <tr>\n",
              "      <th>10</th>\n",
              "      <td>X360</td>\n",
              "      <td>296</td>\n",
              "      <td>498</td>\n",
              "      <td>364</td>\n",
              "      <td>0.594378</td>\n",
              "      <td>0.730924</td>\n",
              "    </tr>\n",
              "    <tr>\n",
              "      <th>9</th>\n",
              "      <td>WiiU</td>\n",
              "      <td>90</td>\n",
              "      <td>147</td>\n",
              "      <td>100</td>\n",
              "      <td>0.612245</td>\n",
              "      <td>0.680272</td>\n",
              "    </tr>\n",
              "    <tr>\n",
              "      <th>5</th>\n",
              "      <td>PS4</td>\n",
              "      <td>252</td>\n",
              "      <td>392</td>\n",
              "      <td>257</td>\n",
              "      <td>0.642857</td>\n",
              "      <td>0.655612</td>\n",
              "    </tr>\n",
              "  </tbody>\n",
              "</table>\n",
              "</div>\n",
              "      <button class=\"colab-df-convert\" onclick=\"convertToInteractive('df-ebb247f1-d13d-468a-a303-7d0b03d91f5d')\"\n",
              "              title=\"Convert this dataframe to an interactive table.\"\n",
              "              style=\"display:none;\">\n",
              "        \n",
              "  <svg xmlns=\"http://www.w3.org/2000/svg\" height=\"24px\"viewBox=\"0 0 24 24\"\n",
              "       width=\"24px\">\n",
              "    <path d=\"M0 0h24v24H0V0z\" fill=\"none\"/>\n",
              "    <path d=\"M18.56 5.44l.94 2.06.94-2.06 2.06-.94-2.06-.94-.94-2.06-.94 2.06-2.06.94zm-11 1L8.5 8.5l.94-2.06 2.06-.94-2.06-.94L8.5 2.5l-.94 2.06-2.06.94zm10 10l.94 2.06.94-2.06 2.06-.94-2.06-.94-.94-2.06-.94 2.06-2.06.94z\"/><path d=\"M17.41 7.96l-1.37-1.37c-.4-.4-.92-.59-1.43-.59-.52 0-1.04.2-1.43.59L10.3 9.45l-7.72 7.72c-.78.78-.78 2.05 0 2.83L4 21.41c.39.39.9.59 1.41.59.51 0 1.02-.2 1.41-.59l7.78-7.78 2.81-2.81c.8-.78.8-2.07 0-2.86zM5.41 20L4 18.59l7.72-7.72 1.47 1.35L5.41 20z\"/>\n",
              "  </svg>\n",
              "      </button>\n",
              "      \n",
              "  <style>\n",
              "    .colab-df-container {\n",
              "      display:flex;\n",
              "      flex-wrap:wrap;\n",
              "      gap: 12px;\n",
              "    }\n",
              "\n",
              "    .colab-df-convert {\n",
              "      background-color: #E8F0FE;\n",
              "      border: none;\n",
              "      border-radius: 50%;\n",
              "      cursor: pointer;\n",
              "      display: none;\n",
              "      fill: #1967D2;\n",
              "      height: 32px;\n",
              "      padding: 0 0 0 0;\n",
              "      width: 32px;\n",
              "    }\n",
              "\n",
              "    .colab-df-convert:hover {\n",
              "      background-color: #E2EBFA;\n",
              "      box-shadow: 0px 1px 2px rgba(60, 64, 67, 0.3), 0px 1px 3px 1px rgba(60, 64, 67, 0.15);\n",
              "      fill: #174EA6;\n",
              "    }\n",
              "\n",
              "    [theme=dark] .colab-df-convert {\n",
              "      background-color: #3B4455;\n",
              "      fill: #D2E3FC;\n",
              "    }\n",
              "\n",
              "    [theme=dark] .colab-df-convert:hover {\n",
              "      background-color: #434B5C;\n",
              "      box-shadow: 0px 1px 3px 1px rgba(0, 0, 0, 0.15);\n",
              "      filter: drop-shadow(0px 1px 2px rgba(0, 0, 0, 0.3));\n",
              "      fill: #FFFFFF;\n",
              "    }\n",
              "  </style>\n",
              "\n",
              "      <script>\n",
              "        const buttonEl =\n",
              "          document.querySelector('#df-ebb247f1-d13d-468a-a303-7d0b03d91f5d button.colab-df-convert');\n",
              "        buttonEl.style.display =\n",
              "          google.colab.kernel.accessAllowed ? 'block' : 'none';\n",
              "\n",
              "        async function convertToInteractive(key) {\n",
              "          const element = document.querySelector('#df-ebb247f1-d13d-468a-a303-7d0b03d91f5d');\n",
              "          const dataTable =\n",
              "            await google.colab.kernel.invokeFunction('convertToInteractive',\n",
              "                                                     [key], {});\n",
              "          if (!dataTable) return;\n",
              "\n",
              "          const docLinkHtml = 'Like what you see? Visit the ' +\n",
              "            '<a target=\"_blank\" href=https://colab.research.google.com/notebooks/data_table.ipynb>data table notebook</a>'\n",
              "            + ' to learn more about interactive tables.';\n",
              "          element.innerHTML = '';\n",
              "          dataTable['output_type'] = 'display_data';\n",
              "          await google.colab.output.renderOutput(dataTable, element);\n",
              "          const docLink = document.createElement('div');\n",
              "          docLink.innerHTML = docLinkHtml;\n",
              "          element.appendChild(docLink);\n",
              "        }\n",
              "      </script>\n",
              "    </div>\n",
              "  </div>\n",
              "  "
            ]
          },
          "metadata": {},
          "execution_count": 32
        }
      ],
      "source": [
        "df_11_16_rating_numer = df_11_16.pivot_table(\n",
        "    index=['platform'],\n",
        "    values=['critic_score','user_score','name'],\n",
        "    aggfunc='count').reset_index()\n",
        "\n",
        "df_11_16_rating_numer['critic_score_rate'] = df_11_16_rating_numer['critic_score'] / df_11_16_rating_numer['name']\n",
        "df_11_16_rating_numer['user_score_rate'] = df_11_16_rating_numer['user_score'] / df_11_16_rating_numer['name']\n",
        "\n",
        "display(df_11_16_rating_numer.sort_values(by=['critic_score_rate'], ascending=False).head(5))\n",
        "df_11_16_rating_numer.sort_values(by=['user_score_rate'], ascending=False).head(5)"
      ]
    },
    {
      "cell_type": "markdown",
      "metadata": {
        "id": "eXBQ9o5wdtYW"
      },
      "source": [
        "Топ 5 платформ по количеству отзывов относительно всех игр платформы в базе - PC, XOne, PS4, X360 и WiiU. Посмотрим на корреляцию между отзывами и продажами на этих платформах."
      ]
    },
    {
      "cell_type": "code",
      "execution_count": 33,
      "metadata": {
        "colab": {
          "base_uri": "https://localhost:8080/",
          "height": 206
        },
        "id": "6tq9KujEdtYW",
        "outputId": "437d478d-97e9-46dc-aeec-1462eb2fb9bd"
      },
      "outputs": [
        {
          "output_type": "execute_result",
          "data": {
            "text/plain": [
              "   platform  user_score  critic_score\n",
              "2        PC   -0.048987      0.314185\n",
              "5       PS4   -0.032033      0.406568\n",
              "9      WiiU    0.400316      0.348380\n",
              "10     X360    0.038950      0.391253\n",
              "11     XOne   -0.069056      0.416998"
            ],
            "text/html": [
              "\n",
              "  <div id=\"df-26014ee6-467a-4162-a8f8-b93d2cf5dac5\">\n",
              "    <div class=\"colab-df-container\">\n",
              "      <div>\n",
              "<style scoped>\n",
              "    .dataframe tbody tr th:only-of-type {\n",
              "        vertical-align: middle;\n",
              "    }\n",
              "\n",
              "    .dataframe tbody tr th {\n",
              "        vertical-align: top;\n",
              "    }\n",
              "\n",
              "    .dataframe thead th {\n",
              "        text-align: right;\n",
              "    }\n",
              "</style>\n",
              "<table border=\"1\" class=\"dataframe\">\n",
              "  <thead>\n",
              "    <tr style=\"text-align: right;\">\n",
              "      <th></th>\n",
              "      <th>platform</th>\n",
              "      <th>user_score</th>\n",
              "      <th>critic_score</th>\n",
              "    </tr>\n",
              "  </thead>\n",
              "  <tbody>\n",
              "    <tr>\n",
              "      <th>2</th>\n",
              "      <td>PC</td>\n",
              "      <td>-0.048987</td>\n",
              "      <td>0.314185</td>\n",
              "    </tr>\n",
              "    <tr>\n",
              "      <th>5</th>\n",
              "      <td>PS4</td>\n",
              "      <td>-0.032033</td>\n",
              "      <td>0.406568</td>\n",
              "    </tr>\n",
              "    <tr>\n",
              "      <th>9</th>\n",
              "      <td>WiiU</td>\n",
              "      <td>0.400316</td>\n",
              "      <td>0.348380</td>\n",
              "    </tr>\n",
              "    <tr>\n",
              "      <th>10</th>\n",
              "      <td>X360</td>\n",
              "      <td>0.038950</td>\n",
              "      <td>0.391253</td>\n",
              "    </tr>\n",
              "    <tr>\n",
              "      <th>11</th>\n",
              "      <td>XOne</td>\n",
              "      <td>-0.069056</td>\n",
              "      <td>0.416998</td>\n",
              "    </tr>\n",
              "  </tbody>\n",
              "</table>\n",
              "</div>\n",
              "      <button class=\"colab-df-convert\" onclick=\"convertToInteractive('df-26014ee6-467a-4162-a8f8-b93d2cf5dac5')\"\n",
              "              title=\"Convert this dataframe to an interactive table.\"\n",
              "              style=\"display:none;\">\n",
              "        \n",
              "  <svg xmlns=\"http://www.w3.org/2000/svg\" height=\"24px\"viewBox=\"0 0 24 24\"\n",
              "       width=\"24px\">\n",
              "    <path d=\"M0 0h24v24H0V0z\" fill=\"none\"/>\n",
              "    <path d=\"M18.56 5.44l.94 2.06.94-2.06 2.06-.94-2.06-.94-.94-2.06-.94 2.06-2.06.94zm-11 1L8.5 8.5l.94-2.06 2.06-.94-2.06-.94L8.5 2.5l-.94 2.06-2.06.94zm10 10l.94 2.06.94-2.06 2.06-.94-2.06-.94-.94-2.06-.94 2.06-2.06.94z\"/><path d=\"M17.41 7.96l-1.37-1.37c-.4-.4-.92-.59-1.43-.59-.52 0-1.04.2-1.43.59L10.3 9.45l-7.72 7.72c-.78.78-.78 2.05 0 2.83L4 21.41c.39.39.9.59 1.41.59.51 0 1.02-.2 1.41-.59l7.78-7.78 2.81-2.81c.8-.78.8-2.07 0-2.86zM5.41 20L4 18.59l7.72-7.72 1.47 1.35L5.41 20z\"/>\n",
              "  </svg>\n",
              "      </button>\n",
              "      \n",
              "  <style>\n",
              "    .colab-df-container {\n",
              "      display:flex;\n",
              "      flex-wrap:wrap;\n",
              "      gap: 12px;\n",
              "    }\n",
              "\n",
              "    .colab-df-convert {\n",
              "      background-color: #E8F0FE;\n",
              "      border: none;\n",
              "      border-radius: 50%;\n",
              "      cursor: pointer;\n",
              "      display: none;\n",
              "      fill: #1967D2;\n",
              "      height: 32px;\n",
              "      padding: 0 0 0 0;\n",
              "      width: 32px;\n",
              "    }\n",
              "\n",
              "    .colab-df-convert:hover {\n",
              "      background-color: #E2EBFA;\n",
              "      box-shadow: 0px 1px 2px rgba(60, 64, 67, 0.3), 0px 1px 3px 1px rgba(60, 64, 67, 0.15);\n",
              "      fill: #174EA6;\n",
              "    }\n",
              "\n",
              "    [theme=dark] .colab-df-convert {\n",
              "      background-color: #3B4455;\n",
              "      fill: #D2E3FC;\n",
              "    }\n",
              "\n",
              "    [theme=dark] .colab-df-convert:hover {\n",
              "      background-color: #434B5C;\n",
              "      box-shadow: 0px 1px 3px 1px rgba(0, 0, 0, 0.15);\n",
              "      filter: drop-shadow(0px 1px 2px rgba(0, 0, 0, 0.3));\n",
              "      fill: #FFFFFF;\n",
              "    }\n",
              "  </style>\n",
              "\n",
              "      <script>\n",
              "        const buttonEl =\n",
              "          document.querySelector('#df-26014ee6-467a-4162-a8f8-b93d2cf5dac5 button.colab-df-convert');\n",
              "        buttonEl.style.display =\n",
              "          google.colab.kernel.accessAllowed ? 'block' : 'none';\n",
              "\n",
              "        async function convertToInteractive(key) {\n",
              "          const element = document.querySelector('#df-26014ee6-467a-4162-a8f8-b93d2cf5dac5');\n",
              "          const dataTable =\n",
              "            await google.colab.kernel.invokeFunction('convertToInteractive',\n",
              "                                                     [key], {});\n",
              "          if (!dataTable) return;\n",
              "\n",
              "          const docLinkHtml = 'Like what you see? Visit the ' +\n",
              "            '<a target=\"_blank\" href=https://colab.research.google.com/notebooks/data_table.ipynb>data table notebook</a>'\n",
              "            + ' to learn more about interactive tables.';\n",
              "          element.innerHTML = '';\n",
              "          dataTable['output_type'] = 'display_data';\n",
              "          await google.colab.output.renderOutput(dataTable, element);\n",
              "          const docLink = document.createElement('div');\n",
              "          docLink.innerHTML = docLinkHtml;\n",
              "          element.appendChild(docLink);\n",
              "        }\n",
              "      </script>\n",
              "    </div>\n",
              "  </div>\n",
              "  "
            ]
          },
          "metadata": {},
          "execution_count": 33
        }
      ],
      "source": [
        "(df_11_16\n",
        " .groupby(by='platform')\n",
        " ['user_score','critic_score']\n",
        " .corrwith(other=df_11_16['total_sales'])\n",
        "  .reset_index()\n",
        " .query(\"platform in ['PC', 'XOne', 'PS4', 'X360', 'WiiU']\"))"
      ]
    },
    {
      "cell_type": "markdown",
      "metadata": {
        "id": "M8qAqV0odtYX"
      },
      "source": [
        "Ни на одной из платформ не наблюдается сильной или хотя бы слабой однонаправленной связи между переменными. Добавим, что коэффициенты корреляции не будут высокими, если анализировать не только мировые продажи, но и отдельно Северную Америку, Европу и Японию. Посмотрим, возможно, это из-за нелинейного характера связи. Для этого построим диаграммы рассеяния."
      ]
    },
    {
      "cell_type": "code",
      "execution_count": 34,
      "metadata": {
        "colab": {
          "base_uri": "https://localhost:8080/",
          "height": 1000
        },
        "id": "r8BmjDiPdtYX",
        "outputId": "fff9ed2d-d053-40eb-c155-65b46b44a607"
      },
      "outputs": [
        {
          "output_type": "display_data",
          "data": {
            "text/plain": [
              "<Figure size 1080x1800 with 10 Axes>"
            ],
            "image/png": "[encoded data removed]"
          },
          "metadata": {
            "needs_background": "light"
          }
        }
      ],
      "source": [
        "fig, axs = plt.subplots(5, 2, figsize=(15, 25))\n",
        "\n",
        "list_of_platforms = ['PC', 'XOne', 'PS4', 'X360', 'WiiU']\n",
        "\n",
        "def draw_plots(i, platform:str):\n",
        "    axs[i, 0].set_title(platform)\n",
        "    axs[i, 0].set_xlabel(\"пользовательский рейтинг\")\n",
        "    axs[i, 0].set_ylabel(\"продажи по миру\")\n",
        "    axs[i, 0].scatter(df_11_16.query(f\"platform == '{platform}'\")['user_score'],\n",
        "                      df_11_16.query(f\"platform == '{platform}'\")['total_sales'],\n",
        "                      color='purple',\n",
        "                      alpha=0.5)\n",
        "    axs[i, 1].set_title(platform)\n",
        "    axs[i, 1].set_xlabel(\"рейтинг критиков\")\n",
        "    axs[i, 1].set_ylabel(\"продажи по миру\")\n",
        "    axs[i, 1].scatter(df_11_16.query(f\"platform == '{platform}'\")['critic_score'],\n",
        "                      df_11_16.query(f\"platform == '{platform}'\")['total_sales'],\n",
        "                      color='purple',\n",
        "                      alpha=0.5)\n",
        "\n",
        "for i, platform in enumerate(list_of_platforms):\n",
        "    draw_plots(i, platform)\n",
        "\n",
        "plt.show()"
      ]
    },
    {
      "cell_type": "markdown",
      "metadata": {
        "id": "jlQvI7_OdtYY"
      },
      "source": [
        "Зависимость рейтингов и продаж прослеживается, но достаточно сложная:\n",
        "\n",
        "\n",
        "1.   Между рейтингом пользователя и продажами можно искать связь только у игр платформы WiiU. Эта платформа уходит с рынка, но при пояывлении подобных (например,VR), можно предположить наличие связи.\n",
        "2.   Хорошие продажи показывают игры с самым разным рейтингом. Здесь можно провести аналогию с популярными фильмами: у многих супергеройских франшиз низкие пользовательские рейтинги; серия фильмов \"Сумерки\" оценивается пользователями крайне низко, однако популярность подобного кино крайне высокая.\n",
        "3. Связь рейтинга критиков и продаж есть, но нелинейная: среди игр, низко оценённых критиками, игр с высокими показателями продаж нет; однако высокие продажи (более 2 млн копий по всему миру) имеют только игры, оценённые критиками на 60 и более баллов из 100. Тем не менее, высокая оценка критиков не гарантирует продаж: существенная часть игр имеет высокие оценки, однако продажи не превышают 1 млн копий по миру.\n"
      ]
    },
    {
      "cell_type": "markdown",
      "metadata": {
        "id": "9WGiidIudtYh"
      },
      "source": [
        "### Определение самых прибыльных жанров"
      ]
    },
    {
      "cell_type": "markdown",
      "metadata": {
        "id": "UIrvQqD_dtYh"
      },
      "source": [
        "Следующая задача - определить прибыльность жанров."
      ]
    },
    {
      "cell_type": "code",
      "execution_count": 35,
      "metadata": {
        "colab": {
          "base_uri": "https://localhost:8080/",
          "height": 591
        },
        "id": "6CfohKn4dtYh",
        "outputId": "328132d1-1988-4960-dc3c-706752d19c3a"
      },
      "outputs": [
        {
          "output_type": "display_data",
          "data": {
            "text/plain": [
              "<Figure size 720x720 with 1 Axes>"
            ],
            "image/png": "[encoded data removed]"
          },
          "metadata": {}
        }
      ],
      "source": [
        "(df_11_16.groupby('genre')['total_sales']\n",
        " .sum()\n",
        " .sort_values(ascending=False)\n",
        " .plot(\n",
        "     kind='pie',\n",
        "     figsize=(10, 10),\n",
        "     autopct='%1.0f%%',\n",
        "     startangle=90,\n",
        "     colormap=\"Purples\"))\n",
        "\n",
        "\n",
        "plt.title('Распределение продаж в 2011-2016 гг. по жанрам')\n",
        "plt.ylabel('')\n",
        "plt.show()"
      ]
    },
    {
      "cell_type": "markdown",
      "metadata": {
        "id": "TwybPCdfdtYl"
      },
      "source": [
        "Почти половина рынка принадлежит играм в жанре экшн и шутер. Далее следуют RPG и спортивные игры, суммарно с лидерами занимая почти 3/4 рынка. Самые непопулярные по доле продаж жанры - головоломки, квесты и стратегии. Однако такое распределение может быть связано с большим объёмом экшнов и шутеров. Посмотрим на медианный коммерческий успех игр по жанрам:"
      ]
    },
    {
      "cell_type": "code",
      "execution_count": 36,
      "metadata": {
        "colab": {
          "base_uri": "https://localhost:8080/",
          "height": 510
        },
        "id": "F4fORGnVdtYl",
        "outputId": "3eb1e81b-0496-47ef-e4bb-ffdffb4f71b5"
      },
      "outputs": [
        {
          "output_type": "display_data",
          "data": {
            "text/plain": [
              "<Figure size 1080x504 with 1 Axes>"
            ],
            "image/png": "[encoded data removed]"
          },
          "metadata": {
            "needs_background": "light"
          }
        }
      ],
      "source": [
        "(df_11_16.groupby('genre')['total_sales']\n",
        " .median()\n",
        " .sort_values(ascending=False)\n",
        " .plot(\n",
        "     kind='bar',\n",
        "     figsize=(15, 7),\n",
        "     color=\"Purple\"))\n",
        "\n",
        "\n",
        "plt.title('Медиана объёма продаж в 2011-2016 гг. по игре каждого жанра')\n",
        "plt.ylabel('медиана объёма продаж на 1 игру, млн. штук по миру')\n",
        "plt.xlabel('жанры')\n",
        "plt.show()"
      ]
    },
    {
      "cell_type": "markdown",
      "metadata": {
        "id": "a-mOMaT-dtYm"
      },
      "source": [
        "Действительно в лидерах остаются только шутеры и спортивные симуляторы. Экшн экшну рознь: средний коммерческий успех игры такого жанра ниже среднего. Лидируют данные игры за счёт большого количества примеров. А вот аутсайдерами в списке остаются головоломки, стратегии и квесты.\n",
        "\n",
        "С другой стороны, стоит помнить, что шутеры - это в основном большие релизы, дорогие, разработка которых занимает несколько лет. В то время как паззлы и стратегии - это более простые игры. Для действительного анализа успешности игры необходимо учитывать её бюджет. Имея такие данные, возврат инвестиций у мелких игр может оказаться выше, чем у шутеров."
      ]
    },
    {
      "cell_type": "markdown",
      "metadata": {
        "id": "HNuvzXHcdtYn"
      },
      "source": [
        "### Вывод"
      ]
    },
    {
      "cell_type": "markdown",
      "metadata": {
        "id": "z70lzu6fdtYn"
      },
      "source": [
        "1.   Рынок классических компьютерных игр развивается динамично. В начале 2000-х происходит развитие 3D-графики, появляются консоли нового поколения, и количество игр ежегодно начинает расти. В конце этого десятилетия на рынке происходят существенные изменения (развитие мобильных игр, компьютерных онлайн-игр), что сокращает объем релизов в год.\n",
        "2.   Одновременно с сокращением общего количества игр уходят прошлые поколения консолей, на смену им приходят новые. Всё это обуславливает для дальнейшего анализа взять период с 2011 по 2016 год.\n",
        "3.   Жизнь существенного количества платформ укладывается в период 5-6 лет. Медиана жизненного цикла - 7 лет.\n",
        "4.   Актуальные на 2017 год платформы - PS4, XOne и 3DS. Первые две находятся на этапе роста, последняя снижает свою долю на рынке, однако по-прежднему занимает существенную часть.\n",
        "5.   Рейтинги слабо связаны с коммерческим успехом игр. Если игра низко оценена критиками, стоит задуматься о том, чтобы не брать данную игру в рекламную кампанию. Если игра высоко оценена критиками, стоит проанализировать дополнительную информацию. Пользовательские рейтинги с объемами продаж не связаны.\n",
        "6.   Коммерческий успех среднего шутера примерно в 2 раза выше уровня продаж игры любого другого жанра. Экшны лидируют за счёт большого количества игр, выпускаемых в данном жанре. Не стоит вкладываться в рекламную кампанию игры, в жанре которой указан только puzzle, strategy и adventure."
      ]
    },
    {
      "cell_type": "markdown",
      "metadata": {
        "id": "R4E8q8uGdtYn"
      },
      "source": [
        "## Портрет пользователя каждого региона"
      ]
    },
    {
      "cell_type": "markdown",
      "metadata": {
        "id": "5rBrUwj_dtYo"
      },
      "source": [
        "### Самые популярные платформ"
      ]
    },
    {
      "cell_type": "markdown",
      "metadata": {
        "id": "Bw4-riSwdtYo"
      },
      "source": [
        "Посмотрим различия в объемах продаж по платформам в каждом регионе."
      ]
    },
    {
      "cell_type": "code",
      "execution_count": 37,
      "metadata": {
        "colab": {
          "base_uri": "https://localhost:8080/",
          "height": 689
        },
        "id": "YARG9X4ddtYo",
        "outputId": "aa4ae338-d134-4efa-c79c-7e0c58fa0e38"
      },
      "outputs": [
        {
          "output_type": "stream",
          "name": "stdout",
          "text": [
            "\n",
            "Топ 5 платформ для Северной Америки по суммарному количеству копий игр за 2011-2016 гг.\n"
          ]
        },
        {
          "output_type": "display_data",
          "data": {
            "text/plain": [
              "   platform  na_sales\n",
              "10     X360    226.80\n",
              "4       PS3    171.62\n",
              "5       PS4    108.74\n",
              "11     XOne     93.12\n",
              "0       3DS     83.49"
            ],
            "text/html": [
              "\n",
              "  <div id=\"df-3f531975-c7a0-4004-a840-ce7454014cfc\">\n",
              "    <div class=\"colab-df-container\">\n",
              "      <div>\n",
              "<style scoped>\n",
              "    .dataframe tbody tr th:only-of-type {\n",
              "        vertical-align: middle;\n",
              "    }\n",
              "\n",
              "    .dataframe tbody tr th {\n",
              "        vertical-align: top;\n",
              "    }\n",
              "\n",
              "    .dataframe thead th {\n",
              "        text-align: right;\n",
              "    }\n",
              "</style>\n",
              "<table border=\"1\" class=\"dataframe\">\n",
              "  <thead>\n",
              "    <tr style=\"text-align: right;\">\n",
              "      <th></th>\n",
              "      <th>platform</th>\n",
              "      <th>na_sales</th>\n",
              "    </tr>\n",
              "  </thead>\n",
              "  <tbody>\n",
              "    <tr>\n",
              "      <th>10</th>\n",
              "      <td>X360</td>\n",
              "      <td>226.80</td>\n",
              "    </tr>\n",
              "    <tr>\n",
              "      <th>4</th>\n",
              "      <td>PS3</td>\n",
              "      <td>171.62</td>\n",
              "    </tr>\n",
              "    <tr>\n",
              "      <th>5</th>\n",
              "      <td>PS4</td>\n",
              "      <td>108.74</td>\n",
              "    </tr>\n",
              "    <tr>\n",
              "      <th>11</th>\n",
              "      <td>XOne</td>\n",
              "      <td>93.12</td>\n",
              "    </tr>\n",
              "    <tr>\n",
              "      <th>0</th>\n",
              "      <td>3DS</td>\n",
              "      <td>83.49</td>\n",
              "    </tr>\n",
              "  </tbody>\n",
              "</table>\n",
              "</div>\n",
              "      <button class=\"colab-df-convert\" onclick=\"convertToInteractive('df-3f531975-c7a0-4004-a840-ce7454014cfc')\"\n",
              "              title=\"Convert this dataframe to an interactive table.\"\n",
              "              style=\"display:none;\">\n",
              "        \n",
              "  <svg xmlns=\"http://www.w3.org/2000/svg\" height=\"24px\"viewBox=\"0 0 24 24\"\n",
              "       width=\"24px\">\n",
              "    <path d=\"M0 0h24v24H0V0z\" fill=\"none\"/>\n",
              "    <path d=\"M18.56 5.44l.94 2.06.94-2.06 2.06-.94-2.06-.94-.94-2.06-.94 2.06-2.06.94zm-11 1L8.5 8.5l.94-2.06 2.06-.94-2.06-.94L8.5 2.5l-.94 2.06-2.06.94zm10 10l.94 2.06.94-2.06 2.06-.94-2.06-.94-.94-2.06-.94 2.06-2.06.94z\"/><path d=\"M17.41 7.96l-1.37-1.37c-.4-.4-.92-.59-1.43-.59-.52 0-1.04.2-1.43.59L10.3 9.45l-7.72 7.72c-.78.78-.78 2.05 0 2.83L4 21.41c.39.39.9.59 1.41.59.51 0 1.02-.2 1.41-.59l7.78-7.78 2.81-2.81c.8-.78.8-2.07 0-2.86zM5.41 20L4 18.59l7.72-7.72 1.47 1.35L5.41 20z\"/>\n",
              "  </svg>\n",
              "      </button>\n",
              "      \n",
              "  <style>\n",
              "    .colab-df-container {\n",
              "      display:flex;\n",
              "      flex-wrap:wrap;\n",
              "      gap: 12px;\n",
              "    }\n",
              "\n",
              "    .colab-df-convert {\n",
              "      background-color: #E8F0FE;\n",
              "      border: none;\n",
              "      border-radius: 50%;\n",
              "      cursor: pointer;\n",
              "      display: none;\n",
              "      fill: #1967D2;\n",
              "      height: 32px;\n",
              "      padding: 0 0 0 0;\n",
              "      width: 32px;\n",
              "    }\n",
              "\n",
              "    .colab-df-convert:hover {\n",
              "      background-color: #E2EBFA;\n",
              "      box-shadow: 0px 1px 2px rgba(60, 64, 67, 0.3), 0px 1px 3px 1px rgba(60, 64, 67, 0.15);\n",
              "      fill: #174EA6;\n",
              "    }\n",
              "\n",
              "    [theme=dark] .colab-df-convert {\n",
              "      background-color: #3B4455;\n",
              "      fill: #D2E3FC;\n",
              "    }\n",
              "\n",
              "    [theme=dark] .colab-df-convert:hover {\n",
              "      background-color: #434B5C;\n",
              "      box-shadow: 0px 1px 3px 1px rgba(0, 0, 0, 0.15);\n",
              "      filter: drop-shadow(0px 1px 2px rgba(0, 0, 0, 0.3));\n",
              "      fill: #FFFFFF;\n",
              "    }\n",
              "  </style>\n",
              "\n",
              "      <script>\n",
              "        const buttonEl =\n",
              "          document.querySelector('#df-3f531975-c7a0-4004-a840-ce7454014cfc button.colab-df-convert');\n",
              "        buttonEl.style.display =\n",
              "          google.colab.kernel.accessAllowed ? 'block' : 'none';\n",
              "\n",
              "        async function convertToInteractive(key) {\n",
              "          const element = document.querySelector('#df-3f531975-c7a0-4004-a840-ce7454014cfc');\n",
              "          const dataTable =\n",
              "            await google.colab.kernel.invokeFunction('convertToInteractive',\n",
              "                                                     [key], {});\n",
              "          if (!dataTable) return;\n",
              "\n",
              "          const docLinkHtml = 'Like what you see? Visit the ' +\n",
              "            '<a target=\"_blank\" href=https://colab.research.google.com/notebooks/data_table.ipynb>data table notebook</a>'\n",
              "            + ' to learn more about interactive tables.';\n",
              "          element.innerHTML = '';\n",
              "          dataTable['output_type'] = 'display_data';\n",
              "          await google.colab.output.renderOutput(dataTable, element);\n",
              "          const docLink = document.createElement('div');\n",
              "          docLink.innerHTML = docLinkHtml;\n",
              "          element.appendChild(docLink);\n",
              "        }\n",
              "      </script>\n",
              "    </div>\n",
              "  </div>\n",
              "  "
            ]
          },
          "metadata": {}
        },
        {
          "output_type": "stream",
          "name": "stdout",
          "text": [
            "\n",
            "Топ 5 платформ для Европы по суммарному количеству копий игр за 2011-2016 гг.\n"
          ]
        },
        {
          "output_type": "display_data",
          "data": {
            "text/plain": [
              "   platform  eu_sales\n",
              "4       PS3    166.18\n",
              "5       PS4    141.09\n",
              "10     X360    117.10\n",
              "0       3DS     61.48\n",
              "2        PC     56.70"
            ],
            "text/html": [
              "\n",
              "  <div id=\"df-e306a7fa-eb85-4b12-a35b-893c53392015\">\n",
              "    <div class=\"colab-df-container\">\n",
              "      <div>\n",
              "<style scoped>\n",
              "    .dataframe tbody tr th:only-of-type {\n",
              "        vertical-align: middle;\n",
              "    }\n",
              "\n",
              "    .dataframe tbody tr th {\n",
              "        vertical-align: top;\n",
              "    }\n",
              "\n",
              "    .dataframe thead th {\n",
              "        text-align: right;\n",
              "    }\n",
              "</style>\n",
              "<table border=\"1\" class=\"dataframe\">\n",
              "  <thead>\n",
              "    <tr style=\"text-align: right;\">\n",
              "      <th></th>\n",
              "      <th>platform</th>\n",
              "      <th>eu_sales</th>\n",
              "    </tr>\n",
              "  </thead>\n",
              "  <tbody>\n",
              "    <tr>\n",
              "      <th>4</th>\n",
              "      <td>PS3</td>\n",
              "      <td>166.18</td>\n",
              "    </tr>\n",
              "    <tr>\n",
              "      <th>5</th>\n",
              "      <td>PS4</td>\n",
              "      <td>141.09</td>\n",
              "    </tr>\n",
              "    <tr>\n",
              "      <th>10</th>\n",
              "      <td>X360</td>\n",
              "      <td>117.10</td>\n",
              "    </tr>\n",
              "    <tr>\n",
              "      <th>0</th>\n",
              "      <td>3DS</td>\n",
              "      <td>61.48</td>\n",
              "    </tr>\n",
              "    <tr>\n",
              "      <th>2</th>\n",
              "      <td>PC</td>\n",
              "      <td>56.70</td>\n",
              "    </tr>\n",
              "  </tbody>\n",
              "</table>\n",
              "</div>\n",
              "      <button class=\"colab-df-convert\" onclick=\"convertToInteractive('df-e306a7fa-eb85-4b12-a35b-893c53392015')\"\n",
              "              title=\"Convert this dataframe to an interactive table.\"\n",
              "              style=\"display:none;\">\n",
              "        \n",
              "  <svg xmlns=\"http://www.w3.org/2000/svg\" height=\"24px\"viewBox=\"0 0 24 24\"\n",
              "       width=\"24px\">\n",
              "    <path d=\"M0 0h24v24H0V0z\" fill=\"none\"/>\n",
              "    <path d=\"M18.56 5.44l.94 2.06.94-2.06 2.06-.94-2.06-.94-.94-2.06-.94 2.06-2.06.94zm-11 1L8.5 8.5l.94-2.06 2.06-.94-2.06-.94L8.5 2.5l-.94 2.06-2.06.94zm10 10l.94 2.06.94-2.06 2.06-.94-2.06-.94-.94-2.06-.94 2.06-2.06.94z\"/><path d=\"M17.41 7.96l-1.37-1.37c-.4-.4-.92-.59-1.43-.59-.52 0-1.04.2-1.43.59L10.3 9.45l-7.72 7.72c-.78.78-.78 2.05 0 2.83L4 21.41c.39.39.9.59 1.41.59.51 0 1.02-.2 1.41-.59l7.78-7.78 2.81-2.81c.8-.78.8-2.07 0-2.86zM5.41 20L4 18.59l7.72-7.72 1.47 1.35L5.41 20z\"/>\n",
              "  </svg>\n",
              "      </button>\n",
              "      \n",
              "  <style>\n",
              "    .colab-df-container {\n",
              "      display:flex;\n",
              "      flex-wrap:wrap;\n",
              "      gap: 12px;\n",
              "    }\n",
              "\n",
              "    .colab-df-convert {\n",
              "      background-color: #E8F0FE;\n",
              "      border: none;\n",
              "      border-radius: 50%;\n",
              "      cursor: pointer;\n",
              "      display: none;\n",
              "      fill: #1967D2;\n",
              "      height: 32px;\n",
              "      padding: 0 0 0 0;\n",
              "      width: 32px;\n",
              "    }\n",
              "\n",
              "    .colab-df-convert:hover {\n",
              "      background-color: #E2EBFA;\n",
              "      box-shadow: 0px 1px 2px rgba(60, 64, 67, 0.3), 0px 1px 3px 1px rgba(60, 64, 67, 0.15);\n",
              "      fill: #174EA6;\n",
              "    }\n",
              "\n",
              "    [theme=dark] .colab-df-convert {\n",
              "      background-color: #3B4455;\n",
              "      fill: #D2E3FC;\n",
              "    }\n",
              "\n",
              "    [theme=dark] .colab-df-convert:hover {\n",
              "      background-color: #434B5C;\n",
              "      box-shadow: 0px 1px 3px 1px rgba(0, 0, 0, 0.15);\n",
              "      filter: drop-shadow(0px 1px 2px rgba(0, 0, 0, 0.3));\n",
              "      fill: #FFFFFF;\n",
              "    }\n",
              "  </style>\n",
              "\n",
              "      <script>\n",
              "        const buttonEl =\n",
              "          document.querySelector('#df-e306a7fa-eb85-4b12-a35b-893c53392015 button.colab-df-convert');\n",
              "        buttonEl.style.display =\n",
              "          google.colab.kernel.accessAllowed ? 'block' : 'none';\n",
              "\n",
              "        async function convertToInteractive(key) {\n",
              "          const element = document.querySelector('#df-e306a7fa-eb85-4b12-a35b-893c53392015');\n",
              "          const dataTable =\n",
              "            await google.colab.kernel.invokeFunction('convertToInteractive',\n",
              "                                                     [key], {});\n",
              "          if (!dataTable) return;\n",
              "\n",
              "          const docLinkHtml = 'Like what you see? Visit the ' +\n",
              "            '<a target=\"_blank\" href=https://colab.research.google.com/notebooks/data_table.ipynb>data table notebook</a>'\n",
              "            + ' to learn more about interactive tables.';\n",
              "          element.innerHTML = '';\n",
              "          dataTable['output_type'] = 'display_data';\n",
              "          await google.colab.output.renderOutput(dataTable, element);\n",
              "          const docLink = document.createElement('div');\n",
              "          docLink.innerHTML = docLinkHtml;\n",
              "          element.appendChild(docLink);\n",
              "        }\n",
              "      </script>\n",
              "    </div>\n",
              "  </div>\n",
              "  "
            ]
          },
          "metadata": {}
        },
        {
          "output_type": "stream",
          "name": "stdout",
          "text": [
            "\n",
            "Топ 5 платформ для Японии по суммарному количеству копий игр за 2011-2016 гг.\n"
          ]
        },
        {
          "output_type": "display_data",
          "data": {
            "text/plain": [
              "  platform  jp_sales\n",
              "0      3DS    100.67\n",
              "4      PS3     50.17\n",
              "6      PSP     24.04\n",
              "7      PSV     21.91\n",
              "5      PS4     15.96"
            ],
            "text/html": [
              "\n",
              "  <div id=\"df-7bba3bbc-47c5-4a4d-a3c4-c336eeadb1bd\">\n",
              "    <div class=\"colab-df-container\">\n",
              "      <div>\n",
              "<style scoped>\n",
              "    .dataframe tbody tr th:only-of-type {\n",
              "        vertical-align: middle;\n",
              "    }\n",
              "\n",
              "    .dataframe tbody tr th {\n",
              "        vertical-align: top;\n",
              "    }\n",
              "\n",
              "    .dataframe thead th {\n",
              "        text-align: right;\n",
              "    }\n",
              "</style>\n",
              "<table border=\"1\" class=\"dataframe\">\n",
              "  <thead>\n",
              "    <tr style=\"text-align: right;\">\n",
              "      <th></th>\n",
              "      <th>platform</th>\n",
              "      <th>jp_sales</th>\n",
              "    </tr>\n",
              "  </thead>\n",
              "  <tbody>\n",
              "    <tr>\n",
              "      <th>0</th>\n",
              "      <td>3DS</td>\n",
              "      <td>100.67</td>\n",
              "    </tr>\n",
              "    <tr>\n",
              "      <th>4</th>\n",
              "      <td>PS3</td>\n",
              "      <td>50.17</td>\n",
              "    </tr>\n",
              "    <tr>\n",
              "      <th>6</th>\n",
              "      <td>PSP</td>\n",
              "      <td>24.04</td>\n",
              "    </tr>\n",
              "    <tr>\n",
              "      <th>7</th>\n",
              "      <td>PSV</td>\n",
              "      <td>21.91</td>\n",
              "    </tr>\n",
              "    <tr>\n",
              "      <th>5</th>\n",
              "      <td>PS4</td>\n",
              "      <td>15.96</td>\n",
              "    </tr>\n",
              "  </tbody>\n",
              "</table>\n",
              "</div>\n",
              "      <button class=\"colab-df-convert\" onclick=\"convertToInteractive('df-7bba3bbc-47c5-4a4d-a3c4-c336eeadb1bd')\"\n",
              "              title=\"Convert this dataframe to an interactive table.\"\n",
              "              style=\"display:none;\">\n",
              "        \n",
              "  <svg xmlns=\"http://www.w3.org/2000/svg\" height=\"24px\"viewBox=\"0 0 24 24\"\n",
              "       width=\"24px\">\n",
              "    <path d=\"M0 0h24v24H0V0z\" fill=\"none\"/>\n",
              "    <path d=\"M18.56 5.44l.94 2.06.94-2.06 2.06-.94-2.06-.94-.94-2.06-.94 2.06-2.06.94zm-11 1L8.5 8.5l.94-2.06 2.06-.94-2.06-.94L8.5 2.5l-.94 2.06-2.06.94zm10 10l.94 2.06.94-2.06 2.06-.94-2.06-.94-.94-2.06-.94 2.06-2.06.94z\"/><path d=\"M17.41 7.96l-1.37-1.37c-.4-.4-.92-.59-1.43-.59-.52 0-1.04.2-1.43.59L10.3 9.45l-7.72 7.72c-.78.78-.78 2.05 0 2.83L4 21.41c.39.39.9.59 1.41.59.51 0 1.02-.2 1.41-.59l7.78-7.78 2.81-2.81c.8-.78.8-2.07 0-2.86zM5.41 20L4 18.59l7.72-7.72 1.47 1.35L5.41 20z\"/>\n",
              "  </svg>\n",
              "      </button>\n",
              "      \n",
              "  <style>\n",
              "    .colab-df-container {\n",
              "      display:flex;\n",
              "      flex-wrap:wrap;\n",
              "      gap: 12px;\n",
              "    }\n",
              "\n",
              "    .colab-df-convert {\n",
              "      background-color: #E8F0FE;\n",
              "      border: none;\n",
              "      border-radius: 50%;\n",
              "      cursor: pointer;\n",
              "      display: none;\n",
              "      fill: #1967D2;\n",
              "      height: 32px;\n",
              "      padding: 0 0 0 0;\n",
              "      width: 32px;\n",
              "    }\n",
              "\n",
              "    .colab-df-convert:hover {\n",
              "      background-color: #E2EBFA;\n",
              "      box-shadow: 0px 1px 2px rgba(60, 64, 67, 0.3), 0px 1px 3px 1px rgba(60, 64, 67, 0.15);\n",
              "      fill: #174EA6;\n",
              "    }\n",
              "\n",
              "    [theme=dark] .colab-df-convert {\n",
              "      background-color: #3B4455;\n",
              "      fill: #D2E3FC;\n",
              "    }\n",
              "\n",
              "    [theme=dark] .colab-df-convert:hover {\n",
              "      background-color: #434B5C;\n",
              "      box-shadow: 0px 1px 3px 1px rgba(0, 0, 0, 0.15);\n",
              "      filter: drop-shadow(0px 1px 2px rgba(0, 0, 0, 0.3));\n",
              "      fill: #FFFFFF;\n",
              "    }\n",
              "  </style>\n",
              "\n",
              "      <script>\n",
              "        const buttonEl =\n",
              "          document.querySelector('#df-7bba3bbc-47c5-4a4d-a3c4-c336eeadb1bd button.colab-df-convert');\n",
              "        buttonEl.style.display =\n",
              "          google.colab.kernel.accessAllowed ? 'block' : 'none';\n",
              "\n",
              "        async function convertToInteractive(key) {\n",
              "          const element = document.querySelector('#df-7bba3bbc-47c5-4a4d-a3c4-c336eeadb1bd');\n",
              "          const dataTable =\n",
              "            await google.colab.kernel.invokeFunction('convertToInteractive',\n",
              "                                                     [key], {});\n",
              "          if (!dataTable) return;\n",
              "\n",
              "          const docLinkHtml = 'Like what you see? Visit the ' +\n",
              "            '<a target=\"_blank\" href=https://colab.research.google.com/notebooks/data_table.ipynb>data table notebook</a>'\n",
              "            + ' to learn more about interactive tables.';\n",
              "          element.innerHTML = '';\n",
              "          dataTable['output_type'] = 'display_data';\n",
              "          await google.colab.output.renderOutput(dataTable, element);\n",
              "          const docLink = document.createElement('div');\n",
              "          docLink.innerHTML = docLinkHtml;\n",
              "          element.appendChild(docLink);\n",
              "        }\n",
              "      </script>\n",
              "    </div>\n",
              "  </div>\n",
              "  "
            ]
          },
          "metadata": {}
        }
      ],
      "source": [
        "list_of_headers = ['\\nТоп 5 платформ для Северной Америки по суммарному количеству копий игр за 2011-2016 гг.',\n",
        "                  '\\nТоп 5 платформ для Европы по суммарному количеству копий игр за 2011-2016 гг.',\n",
        "                  '\\nТоп 5 платформ для Японии по суммарному количеству копий игр за 2011-2016 гг.']\n",
        "\n",
        "list_of_columns = ['na_sales', 'eu_sales', 'jp_sales']\n",
        "\n",
        "def draw_table(header, column):\n",
        "    print(header)\n",
        "    display(df_11_16\n",
        "            .groupby('platform')\n",
        "            [column]\n",
        "            .sum()\n",
        "            .reset_index()\n",
        "            .sort_values(by=[column], ascending=False)\n",
        "            .head(5))\n",
        "\n",
        "for header, column in zip(list_of_headers, list_of_columns):\n",
        "    draw_table(header, column)"
      ]
    },
    {
      "cell_type": "markdown",
      "metadata": {
        "id": "w5AGI2yOdtYo"
      },
      "source": [
        "Рейтинг платформ существенно различается. В Японии патриотично лидирует 3DS и все виды продукции Sony. В Северной Америке - соответственно в топе обе приставки американской же компании Microsoft.\n",
        "Европа - единственный регион, где в топе сохраняет свои позиции PC."
      ]
    },
    {
      "cell_type": "markdown",
      "metadata": {
        "id": "3o9KFmEudtYp"
      },
      "source": [
        "### Самые популярные жанры"
      ]
    },
    {
      "cell_type": "markdown",
      "metadata": {
        "id": "bwkngqNldtYp"
      },
      "source": [
        "Посмотрим различия в объемах продаж по жанрам в каждом регионе."
      ]
    },
    {
      "cell_type": "code",
      "execution_count": 38,
      "metadata": {
        "colab": {
          "base_uri": "https://localhost:8080/",
          "height": 689
        },
        "id": "QpZO3YpudtYv",
        "outputId": "b4741e9d-a99f-444e-d851-9b4e23289b7f"
      },
      "outputs": [
        {
          "output_type": "stream",
          "name": "stdout",
          "text": [
            "\n",
            "Топ 5 жанров для Северной Америки по суммарному количеству копий игр за 2011-2016 гг.\n"
          ]
        },
        {
          "output_type": "display_data",
          "data": {
            "text/plain": [
              "           genre  na_sales\n",
              "0         Action    232.44\n",
              "8        Shooter    194.64\n",
              "10        Sports    108.86\n",
              "7   Role-Playing     83.89\n",
              "3           Misc     70.93"
            ],
            "text/html": [
              "\n",
              "  <div id=\"df-2a9ed57e-dc74-46ae-91ba-0b9b0ab6ee9f\">\n",
              "    <div class=\"colab-df-container\">\n",
              "      <div>\n",
              "<style scoped>\n",
              "    .dataframe tbody tr th:only-of-type {\n",
              "        vertical-align: middle;\n",
              "    }\n",
              "\n",
              "    .dataframe tbody tr th {\n",
              "        vertical-align: top;\n",
              "    }\n",
              "\n",
              "    .dataframe thead th {\n",
              "        text-align: right;\n",
              "    }\n",
              "</style>\n",
              "<table border=\"1\" class=\"dataframe\">\n",
              "  <thead>\n",
              "    <tr style=\"text-align: right;\">\n",
              "      <th></th>\n",
              "      <th>genre</th>\n",
              "      <th>na_sales</th>\n",
              "    </tr>\n",
              "  </thead>\n",
              "  <tbody>\n",
              "    <tr>\n",
              "      <th>0</th>\n",
              "      <td>Action</td>\n",
              "      <td>232.44</td>\n",
              "    </tr>\n",
              "    <tr>\n",
              "      <th>8</th>\n",
              "      <td>Shooter</td>\n",
              "      <td>194.64</td>\n",
              "    </tr>\n",
              "    <tr>\n",
              "      <th>10</th>\n",
              "      <td>Sports</td>\n",
              "      <td>108.86</td>\n",
              "    </tr>\n",
              "    <tr>\n",
              "      <th>7</th>\n",
              "      <td>Role-Playing</td>\n",
              "      <td>83.89</td>\n",
              "    </tr>\n",
              "    <tr>\n",
              "      <th>3</th>\n",
              "      <td>Misc</td>\n",
              "      <td>70.93</td>\n",
              "    </tr>\n",
              "  </tbody>\n",
              "</table>\n",
              "</div>\n",
              "      <button class=\"colab-df-convert\" onclick=\"convertToInteractive('df-2a9ed57e-dc74-46ae-91ba-0b9b0ab6ee9f')\"\n",
              "              title=\"Convert this dataframe to an interactive table.\"\n",
              "              style=\"display:none;\">\n",
              "        \n",
              "  <svg xmlns=\"http://www.w3.org/2000/svg\" height=\"24px\"viewBox=\"0 0 24 24\"\n",
              "       width=\"24px\">\n",
              "    <path d=\"M0 0h24v24H0V0z\" fill=\"none\"/>\n",
              "    <path d=\"M18.56 5.44l.94 2.06.94-2.06 2.06-.94-2.06-.94-.94-2.06-.94 2.06-2.06.94zm-11 1L8.5 8.5l.94-2.06 2.06-.94-2.06-.94L8.5 2.5l-.94 2.06-2.06.94zm10 10l.94 2.06.94-2.06 2.06-.94-2.06-.94-.94-2.06-.94 2.06-2.06.94z\"/><path d=\"M17.41 7.96l-1.37-1.37c-.4-.4-.92-.59-1.43-.59-.52 0-1.04.2-1.43.59L10.3 9.45l-7.72 7.72c-.78.78-.78 2.05 0 2.83L4 21.41c.39.39.9.59 1.41.59.51 0 1.02-.2 1.41-.59l7.78-7.78 2.81-2.81c.8-.78.8-2.07 0-2.86zM5.41 20L4 18.59l7.72-7.72 1.47 1.35L5.41 20z\"/>\n",
              "  </svg>\n",
              "      </button>\n",
              "      \n",
              "  <style>\n",
              "    .colab-df-container {\n",
              "      display:flex;\n",
              "      flex-wrap:wrap;\n",
              "      gap: 12px;\n",
              "    }\n",
              "\n",
              "    .colab-df-convert {\n",
              "      background-color: #E8F0FE;\n",
              "      border: none;\n",
              "      border-radius: 50%;\n",
              "      cursor: pointer;\n",
              "      display: none;\n",
              "      fill: #1967D2;\n",
              "      height: 32px;\n",
              "      padding: 0 0 0 0;\n",
              "      width: 32px;\n",
              "    }\n",
              "\n",
              "    .colab-df-convert:hover {\n",
              "      background-color: #E2EBFA;\n",
              "      box-shadow: 0px 1px 2px rgba(60, 64, 67, 0.3), 0px 1px 3px 1px rgba(60, 64, 67, 0.15);\n",
              "      fill: #174EA6;\n",
              "    }\n",
              "\n",
              "    [theme=dark] .colab-df-convert {\n",
              "      background-color: #3B4455;\n",
              "      fill: #D2E3FC;\n",
              "    }\n",
              "\n",
              "    [theme=dark] .colab-df-convert:hover {\n",
              "      background-color: #434B5C;\n",
              "      box-shadow: 0px 1px 3px 1px rgba(0, 0, 0, 0.15);\n",
              "      filter: drop-shadow(0px 1px 2px rgba(0, 0, 0, 0.3));\n",
              "      fill: #FFFFFF;\n",
              "    }\n",
              "  </style>\n",
              "\n",
              "      <script>\n",
              "        const buttonEl =\n",
              "          document.querySelector('#df-2a9ed57e-dc74-46ae-91ba-0b9b0ab6ee9f button.colab-df-convert');\n",
              "        buttonEl.style.display =\n",
              "          google.colab.kernel.accessAllowed ? 'block' : 'none';\n",
              "\n",
              "        async function convertToInteractive(key) {\n",
              "          const element = document.querySelector('#df-2a9ed57e-dc74-46ae-91ba-0b9b0ab6ee9f');\n",
              "          const dataTable =\n",
              "            await google.colab.kernel.invokeFunction('convertToInteractive',\n",
              "                                                     [key], {});\n",
              "          if (!dataTable) return;\n",
              "\n",
              "          const docLinkHtml = 'Like what you see? Visit the ' +\n",
              "            '<a target=\"_blank\" href=https://colab.research.google.com/notebooks/data_table.ipynb>data table notebook</a>'\n",
              "            + ' to learn more about interactive tables.';\n",
              "          element.innerHTML = '';\n",
              "          dataTable['output_type'] = 'display_data';\n",
              "          await google.colab.output.renderOutput(dataTable, element);\n",
              "          const docLink = document.createElement('div');\n",
              "          docLink.innerHTML = docLinkHtml;\n",
              "          element.appendChild(docLink);\n",
              "        }\n",
              "      </script>\n",
              "    </div>\n",
              "  </div>\n",
              "  "
            ]
          },
          "metadata": {}
        },
        {
          "output_type": "stream",
          "name": "stdout",
          "text": [
            "\n",
            "Топ 5 жанров для Европы по суммарному количеству копий игр за 2011-2016 гг.\n"
          ]
        },
        {
          "output_type": "display_data",
          "data": {
            "text/plain": [
              "           genre  eu_sales\n",
              "0         Action    200.57\n",
              "8        Shooter    148.08\n",
              "10        Sports     88.83\n",
              "7   Role-Playing     62.35\n",
              "6         Racing     41.06"
            ],
            "text/html": [
              "\n",
              "  <div id=\"df-99e32011-92aa-49e7-9a41-b0d2235d6916\">\n",
              "    <div class=\"colab-df-container\">\n",
              "      <div>\n",
              "<style scoped>\n",
              "    .dataframe tbody tr th:only-of-type {\n",
              "        vertical-align: middle;\n",
              "    }\n",
              "\n",
              "    .dataframe tbody tr th {\n",
              "        vertical-align: top;\n",
              "    }\n",
              "\n",
              "    .dataframe thead th {\n",
              "        text-align: right;\n",
              "    }\n",
              "</style>\n",
              "<table border=\"1\" class=\"dataframe\">\n",
              "  <thead>\n",
              "    <tr style=\"text-align: right;\">\n",
              "      <th></th>\n",
              "      <th>genre</th>\n",
              "      <th>eu_sales</th>\n",
              "    </tr>\n",
              "  </thead>\n",
              "  <tbody>\n",
              "    <tr>\n",
              "      <th>0</th>\n",
              "      <td>Action</td>\n",
              "      <td>200.57</td>\n",
              "    </tr>\n",
              "    <tr>\n",
              "      <th>8</th>\n",
              "      <td>Shooter</td>\n",
              "      <td>148.08</td>\n",
              "    </tr>\n",
              "    <tr>\n",
              "      <th>10</th>\n",
              "      <td>Sports</td>\n",
              "      <td>88.83</td>\n",
              "    </tr>\n",
              "    <tr>\n",
              "      <th>7</th>\n",
              "      <td>Role-Playing</td>\n",
              "      <td>62.35</td>\n",
              "    </tr>\n",
              "    <tr>\n",
              "      <th>6</th>\n",
              "      <td>Racing</td>\n",
              "      <td>41.06</td>\n",
              "    </tr>\n",
              "  </tbody>\n",
              "</table>\n",
              "</div>\n",
              "      <button class=\"colab-df-convert\" onclick=\"convertToInteractive('df-99e32011-92aa-49e7-9a41-b0d2235d6916')\"\n",
              "              title=\"Convert this dataframe to an interactive table.\"\n",
              "              style=\"display:none;\">\n",
              "        \n",
              "  <svg xmlns=\"http://www.w3.org/2000/svg\" height=\"24px\"viewBox=\"0 0 24 24\"\n",
              "       width=\"24px\">\n",
              "    <path d=\"M0 0h24v24H0V0z\" fill=\"none\"/>\n",
              "    <path d=\"M18.56 5.44l.94 2.06.94-2.06 2.06-.94-2.06-.94-.94-2.06-.94 2.06-2.06.94zm-11 1L8.5 8.5l.94-2.06 2.06-.94-2.06-.94L8.5 2.5l-.94 2.06-2.06.94zm10 10l.94 2.06.94-2.06 2.06-.94-2.06-.94-.94-2.06-.94 2.06-2.06.94z\"/><path d=\"M17.41 7.96l-1.37-1.37c-.4-.4-.92-.59-1.43-.59-.52 0-1.04.2-1.43.59L10.3 9.45l-7.72 7.72c-.78.78-.78 2.05 0 2.83L4 21.41c.39.39.9.59 1.41.59.51 0 1.02-.2 1.41-.59l7.78-7.78 2.81-2.81c.8-.78.8-2.07 0-2.86zM5.41 20L4 18.59l7.72-7.72 1.47 1.35L5.41 20z\"/>\n",
              "  </svg>\n",
              "      </button>\n",
              "      \n",
              "  <style>\n",
              "    .colab-df-container {\n",
              "      display:flex;\n",
              "      flex-wrap:wrap;\n",
              "      gap: 12px;\n",
              "    }\n",
              "\n",
              "    .colab-df-convert {\n",
              "      background-color: #E8F0FE;\n",
              "      border: none;\n",
              "      border-radius: 50%;\n",
              "      cursor: pointer;\n",
              "      display: none;\n",
              "      fill: #1967D2;\n",
              "      height: 32px;\n",
              "      padding: 0 0 0 0;\n",
              "      width: 32px;\n",
              "    }\n",
              "\n",
              "    .colab-df-convert:hover {\n",
              "      background-color: #E2EBFA;\n",
              "      box-shadow: 0px 1px 2px rgba(60, 64, 67, 0.3), 0px 1px 3px 1px rgba(60, 64, 67, 0.15);\n",
              "      fill: #174EA6;\n",
              "    }\n",
              "\n",
              "    [theme=dark] .colab-df-convert {\n",
              "      background-color: #3B4455;\n",
              "      fill: #D2E3FC;\n",
              "    }\n",
              "\n",
              "    [theme=dark] .colab-df-convert:hover {\n",
              "      background-color: #434B5C;\n",
              "      box-shadow: 0px 1px 3px 1px rgba(0, 0, 0, 0.15);\n",
              "      filter: drop-shadow(0px 1px 2px rgba(0, 0, 0, 0.3));\n",
              "      fill: #FFFFFF;\n",
              "    }\n",
              "  </style>\n",
              "\n",
              "      <script>\n",
              "        const buttonEl =\n",
              "          document.querySelector('#df-99e32011-92aa-49e7-9a41-b0d2235d6916 button.colab-df-convert');\n",
              "        buttonEl.style.display =\n",
              "          google.colab.kernel.accessAllowed ? 'block' : 'none';\n",
              "\n",
              "        async function convertToInteractive(key) {\n",
              "          const element = document.querySelector('#df-99e32011-92aa-49e7-9a41-b0d2235d6916');\n",
              "          const dataTable =\n",
              "            await google.colab.kernel.invokeFunction('convertToInteractive',\n",
              "                                                     [key], {});\n",
              "          if (!dataTable) return;\n",
              "\n",
              "          const docLinkHtml = 'Like what you see? Visit the ' +\n",
              "            '<a target=\"_blank\" href=https://colab.research.google.com/notebooks/data_table.ipynb>data table notebook</a>'\n",
              "            + ' to learn more about interactive tables.';\n",
              "          element.innerHTML = '';\n",
              "          dataTable['output_type'] = 'display_data';\n",
              "          await google.colab.output.renderOutput(dataTable, element);\n",
              "          const docLink = document.createElement('div');\n",
              "          docLink.innerHTML = docLinkHtml;\n",
              "          element.appendChild(docLink);\n",
              "        }\n",
              "      </script>\n",
              "    </div>\n",
              "  </div>\n",
              "  "
            ]
          },
          "metadata": {}
        },
        {
          "output_type": "stream",
          "name": "stdout",
          "text": [
            "\n",
            "Топ 5 жанров для Японии по суммарному количеству копий игр за 2011-2016 гг.\n"
          ]
        },
        {
          "output_type": "display_data",
          "data": {
            "text/plain": [
              "          genre  jp_sales\n",
              "7  Role-Playing     80.03\n",
              "0        Action     64.26\n",
              "3          Misc     17.60\n",
              "2      Fighting     12.38\n",
              "4      Platform     12.13"
            ],
            "text/html": [
              "\n",
              "  <div id=\"df-bfc02689-f697-4a17-b43b-bf1be1b34086\">\n",
              "    <div class=\"colab-df-container\">\n",
              "      <div>\n",
              "<style scoped>\n",
              "    .dataframe tbody tr th:only-of-type {\n",
              "        vertical-align: middle;\n",
              "    }\n",
              "\n",
              "    .dataframe tbody tr th {\n",
              "        vertical-align: top;\n",
              "    }\n",
              "\n",
              "    .dataframe thead th {\n",
              "        text-align: right;\n",
              "    }\n",
              "</style>\n",
              "<table border=\"1\" class=\"dataframe\">\n",
              "  <thead>\n",
              "    <tr style=\"text-align: right;\">\n",
              "      <th></th>\n",
              "      <th>genre</th>\n",
              "      <th>jp_sales</th>\n",
              "    </tr>\n",
              "  </thead>\n",
              "  <tbody>\n",
              "    <tr>\n",
              "      <th>7</th>\n",
              "      <td>Role-Playing</td>\n",
              "      <td>80.03</td>\n",
              "    </tr>\n",
              "    <tr>\n",
              "      <th>0</th>\n",
              "      <td>Action</td>\n",
              "      <td>64.26</td>\n",
              "    </tr>\n",
              "    <tr>\n",
              "      <th>3</th>\n",
              "      <td>Misc</td>\n",
              "      <td>17.60</td>\n",
              "    </tr>\n",
              "    <tr>\n",
              "      <th>2</th>\n",
              "      <td>Fighting</td>\n",
              "      <td>12.38</td>\n",
              "    </tr>\n",
              "    <tr>\n",
              "      <th>4</th>\n",
              "      <td>Platform</td>\n",
              "      <td>12.13</td>\n",
              "    </tr>\n",
              "  </tbody>\n",
              "</table>\n",
              "</div>\n",
              "      <button class=\"colab-df-convert\" onclick=\"convertToInteractive('df-bfc02689-f697-4a17-b43b-bf1be1b34086')\"\n",
              "              title=\"Convert this dataframe to an interactive table.\"\n",
              "              style=\"display:none;\">\n",
              "        \n",
              "  <svg xmlns=\"http://www.w3.org/2000/svg\" height=\"24px\"viewBox=\"0 0 24 24\"\n",
              "       width=\"24px\">\n",
              "    <path d=\"M0 0h24v24H0V0z\" fill=\"none\"/>\n",
              "    <path d=\"M18.56 5.44l.94 2.06.94-2.06 2.06-.94-2.06-.94-.94-2.06-.94 2.06-2.06.94zm-11 1L8.5 8.5l.94-2.06 2.06-.94-2.06-.94L8.5 2.5l-.94 2.06-2.06.94zm10 10l.94 2.06.94-2.06 2.06-.94-2.06-.94-.94-2.06-.94 2.06-2.06.94z\"/><path d=\"M17.41 7.96l-1.37-1.37c-.4-.4-.92-.59-1.43-.59-.52 0-1.04.2-1.43.59L10.3 9.45l-7.72 7.72c-.78.78-.78 2.05 0 2.83L4 21.41c.39.39.9.59 1.41.59.51 0 1.02-.2 1.41-.59l7.78-7.78 2.81-2.81c.8-.78.8-2.07 0-2.86zM5.41 20L4 18.59l7.72-7.72 1.47 1.35L5.41 20z\"/>\n",
              "  </svg>\n",
              "      </button>\n",
              "      \n",
              "  <style>\n",
              "    .colab-df-container {\n",
              "      display:flex;\n",
              "      flex-wrap:wrap;\n",
              "      gap: 12px;\n",
              "    }\n",
              "\n",
              "    .colab-df-convert {\n",
              "      background-color: #E8F0FE;\n",
              "      border: none;\n",
              "      border-radius: 50%;\n",
              "      cursor: pointer;\n",
              "      display: none;\n",
              "      fill: #1967D2;\n",
              "      height: 32px;\n",
              "      padding: 0 0 0 0;\n",
              "      width: 32px;\n",
              "    }\n",
              "\n",
              "    .colab-df-convert:hover {\n",
              "      background-color: #E2EBFA;\n",
              "      box-shadow: 0px 1px 2px rgba(60, 64, 67, 0.3), 0px 1px 3px 1px rgba(60, 64, 67, 0.15);\n",
              "      fill: #174EA6;\n",
              "    }\n",
              "\n",
              "    [theme=dark] .colab-df-convert {\n",
              "      background-color: #3B4455;\n",
              "      fill: #D2E3FC;\n",
              "    }\n",
              "\n",
              "    [theme=dark] .colab-df-convert:hover {\n",
              "      background-color: #434B5C;\n",
              "      box-shadow: 0px 1px 3px 1px rgba(0, 0, 0, 0.15);\n",
              "      filter: drop-shadow(0px 1px 2px rgba(0, 0, 0, 0.3));\n",
              "      fill: #FFFFFF;\n",
              "    }\n",
              "  </style>\n",
              "\n",
              "      <script>\n",
              "        const buttonEl =\n",
              "          document.querySelector('#df-bfc02689-f697-4a17-b43b-bf1be1b34086 button.colab-df-convert');\n",
              "        buttonEl.style.display =\n",
              "          google.colab.kernel.accessAllowed ? 'block' : 'none';\n",
              "\n",
              "        async function convertToInteractive(key) {\n",
              "          const element = document.querySelector('#df-bfc02689-f697-4a17-b43b-bf1be1b34086');\n",
              "          const dataTable =\n",
              "            await google.colab.kernel.invokeFunction('convertToInteractive',\n",
              "                                                     [key], {});\n",
              "          if (!dataTable) return;\n",
              "\n",
              "          const docLinkHtml = 'Like what you see? Visit the ' +\n",
              "            '<a target=\"_blank\" href=https://colab.research.google.com/notebooks/data_table.ipynb>data table notebook</a>'\n",
              "            + ' to learn more about interactive tables.';\n",
              "          element.innerHTML = '';\n",
              "          dataTable['output_type'] = 'display_data';\n",
              "          await google.colab.output.renderOutput(dataTable, element);\n",
              "          const docLink = document.createElement('div');\n",
              "          docLink.innerHTML = docLinkHtml;\n",
              "          element.appendChild(docLink);\n",
              "        }\n",
              "      </script>\n",
              "    </div>\n",
              "  </div>\n",
              "  "
            ]
          },
          "metadata": {}
        }
      ],
      "source": [
        "list_of_headers = ['\\nТоп 5 жанров для Северной Америки по суммарному количеству копий игр за 2011-2016 гг.',\n",
        "                  '\\nТоп 5 жанров для Европы по суммарному количеству копий игр за 2011-2016 гг.',\n",
        "                  '\\nТоп 5 жанров для Японии по суммарному количеству копий игр за 2011-2016 гг.']\n",
        "\n",
        "list_of_columns = ['na_sales', 'eu_sales', 'jp_sales']\n",
        "\n",
        "def draw_table(header, column):\n",
        "    print(header)\n",
        "    display(df_11_16\n",
        "            .groupby('genre')\n",
        "            [column]\n",
        "            .sum()\n",
        "            .reset_index()\n",
        "            .sort_values(by=[column], ascending=False)\n",
        "            .head(5))\n",
        "\n",
        "for header, column in zip(list_of_headers, list_of_columns):\n",
        "    draw_table(header, column)"
      ]
    },
    {
      "cell_type": "markdown",
      "metadata": {
        "id": "GfX9PrvMdtYw"
      },
      "source": [
        "Топ 4 жанра в Северной Америке и в Европе совпадают. Это экшны, шутеры, спортивные симуляторы и RPG. На пятом месте в США и Канаде игры смешанных жанров, в Европе - гонки. В Японии рейтинг кардинально отличается. RPG на первом месте, далее экшн. Шутеры в Японии не популярны, их место занимают файтеры. Также популярны в Японии игры смешанных жанров и платформеры.\n",
        "\n",
        "Японский рынок [сильно отличается от мирового](https://vc.ru/finance/192302-osnovnye-cherty-yaponskogo-geymdeva-i-osobennosti-yaponskoy-kultury-povliyavshie-na-nego). Особую значимость имеют персонажи, высокий уровень сервиса и удобства и степени \"кавайности\" антуража в урон фотореалистичности игрового мира. Запросы жителей других регионов отличаются, что делает японский игровой рынок уникальным."
      ]
    },
    {
      "cell_type": "markdown",
      "metadata": {
        "id": "XEGY3wXidtYw"
      },
      "source": [
        "### Влияение рейтинга ESRB на продажи в отдельном регионе"
      ]
    },
    {
      "cell_type": "markdown",
      "metadata": {
        "id": "PGMhqx-KdtYx"
      },
      "source": [
        "Каждая игра имеет рейтинг Entertainment Software Rating Board. Эта ассоциация определяет рейтинг компьютерных игр и присваивает им подходящую возрастную категорию. Чем строже ограничения игры, тем меньшей аудитории она подходит, что может сказываться на продажах. Посмотрим, какие возрастные рейтинги в нашей усеченной базе 2011-2016 года:"
      ]
    },
    {
      "cell_type": "code",
      "execution_count": 39,
      "metadata": {
        "colab": {
          "base_uri": "https://localhost:8080/"
        },
        "id": "XYiMfuPLdtYx",
        "outputId": "eae6dbdc-66ae-4b43-f927-262b160fa5f2"
      },
      "outputs": [
        {
          "output_type": "execute_result",
          "data": {
            "text/plain": [
              "M       627\n",
              "T       625\n",
              "E       623\n",
              "E10+    460\n",
              "EC        1\n",
              "Name: rating, dtype: int64"
            ]
          },
          "metadata": {},
          "execution_count": 39
        }
      ],
      "source": [
        "df_11_16['rating'].value_counts()"
      ]
    },
    {
      "cell_type": "markdown",
      "metadata": {
        "id": "KkkgO4XcdtYx"
      },
      "source": [
        "В базе есть много игр без возрастного рейтинга. Присвоим им категорию N/A. Не будем учитывать коммерческий успех одной игры для младшего возраста, её тоже перекодируем в N/A."
      ]
    },
    {
      "cell_type": "code",
      "execution_count": 40,
      "metadata": {
        "colab": {
          "base_uri": "https://localhost:8080/"
        },
        "id": "p-9NDHO-dtYy",
        "outputId": "47e073ee-f175-4335-a7bf-70fc99965301"
      },
      "outputs": [
        {
          "output_type": "execute_result",
          "data": {
            "text/plain": [
              "N/A     1721\n",
              "M        627\n",
              "T        625\n",
              "E        623\n",
              "E10+     460\n",
              "Name: rating, dtype: int64"
            ]
          },
          "metadata": {},
          "execution_count": 40
        }
      ],
      "source": [
        "df_11_16['rating'] = df_11_16['rating'].replace('EC','N/A')\n",
        "df_11_16['rating'] = df_11_16['rating'].fillna('N/A')\n",
        "df_11_16['rating'].value_counts()"
      ]
    },
    {
      "cell_type": "markdown",
      "metadata": {
        "id": "bzaTGplgdtYy"
      },
      "source": [
        "Количество игр в возрастных категориях отличается (выделяется E10+), поэтому мы возьмём не суммарные продажи, а средние (медианные слишком близки к нулю для сравнения). Посмотрим на данные."
      ]
    },
    {
      "cell_type": "code",
      "execution_count": 41,
      "metadata": {
        "colab": {
          "base_uri": "https://localhost:8080/",
          "height": 458
        },
        "id": "WiJR44SGdtYy",
        "outputId": "853bded3-6f1d-4fe8-c1df-5168ad0e7c91"
      },
      "outputs": [
        {
          "output_type": "display_data",
          "data": {
            "text/plain": [
              "<Figure size 1080x504 with 1 Axes>"
            ],
            "image/png": "[encoded data removed]"
          },
          "metadata": {
            "needs_background": "light"
          }
        }
      ],
      "source": [
        "(df_11_16\n",
        " .groupby('rating')\n",
        " ['na_sales', 'eu_sales', 'jp_sales', 'other_sales']\n",
        " .mean()\n",
        " .round(3)\n",
        " .reindex([\"N/A\", \"E\", \"E10+\", \"T\", \"M\"])\n",
        " .plot(\n",
        "     figsize=(15, 7),\n",
        "     color=[\"purple\", 'grey', 'black', 'lightgrey'])\n",
        " )\n",
        "\n",
        "plt.title('Средние продажи игры каждой возрастной категории в регионах в 2011-2016 гг.')\n",
        "plt.ylabel('средний объём продаж на 1 игру, млн. штук')\n",
        "plt.xlabel('возрастной рейтинг ESRB')\n",
        "plt.xticks([0, 1, 2, 3], ['без рейтинга', 'Е (6+)', 'Е10+', 'Т(13+)', 'М(17+)'])\n",
        "plt.show()"
      ]
    },
    {
      "cell_type": "code",
      "execution_count": 42,
      "metadata": {
        "colab": {
          "base_uri": "https://localhost:8080/",
          "height": 238
        },
        "id": "UlfMWI-NdtYy",
        "outputId": "d1b325cf-9ed0-46e1-e468-afc3d9055774"
      },
      "outputs": [
        {
          "output_type": "execute_result",
          "data": {
            "text/plain": [
              "        na_sales  eu_sales  jp_sales  other_sales\n",
              "rating                                           \n",
              "N/A        0.072     0.068     0.080        0.020\n",
              "E          0.274     0.228     0.059        0.066\n",
              "E10+       0.257     0.172     0.024        0.052\n",
              "T          0.178     0.135     0.054        0.046\n",
              "M          0.493     0.400     0.043        0.131"
            ],
            "text/html": [
              "\n",
              "  <div id=\"df-f9799d41-3cac-403a-a1c3-b8236b7b0e98\">\n",
              "    <div class=\"colab-df-container\">\n",
              "      <div>\n",
              "<style scoped>\n",
              "    .dataframe tbody tr th:only-of-type {\n",
              "        vertical-align: middle;\n",
              "    }\n",
              "\n",
              "    .dataframe tbody tr th {\n",
              "        vertical-align: top;\n",
              "    }\n",
              "\n",
              "    .dataframe thead th {\n",
              "        text-align: right;\n",
              "    }\n",
              "</style>\n",
              "<table border=\"1\" class=\"dataframe\">\n",
              "  <thead>\n",
              "    <tr style=\"text-align: right;\">\n",
              "      <th></th>\n",
              "      <th>na_sales</th>\n",
              "      <th>eu_sales</th>\n",
              "      <th>jp_sales</th>\n",
              "      <th>other_sales</th>\n",
              "    </tr>\n",
              "    <tr>\n",
              "      <th>rating</th>\n",
              "      <th></th>\n",
              "      <th></th>\n",
              "      <th></th>\n",
              "      <th></th>\n",
              "    </tr>\n",
              "  </thead>\n",
              "  <tbody>\n",
              "    <tr>\n",
              "      <th>N/A</th>\n",
              "      <td>0.072</td>\n",
              "      <td>0.068</td>\n",
              "      <td>0.080</td>\n",
              "      <td>0.020</td>\n",
              "    </tr>\n",
              "    <tr>\n",
              "      <th>E</th>\n",
              "      <td>0.274</td>\n",
              "      <td>0.228</td>\n",
              "      <td>0.059</td>\n",
              "      <td>0.066</td>\n",
              "    </tr>\n",
              "    <tr>\n",
              "      <th>E10+</th>\n",
              "      <td>0.257</td>\n",
              "      <td>0.172</td>\n",
              "      <td>0.024</td>\n",
              "      <td>0.052</td>\n",
              "    </tr>\n",
              "    <tr>\n",
              "      <th>T</th>\n",
              "      <td>0.178</td>\n",
              "      <td>0.135</td>\n",
              "      <td>0.054</td>\n",
              "      <td>0.046</td>\n",
              "    </tr>\n",
              "    <tr>\n",
              "      <th>M</th>\n",
              "      <td>0.493</td>\n",
              "      <td>0.400</td>\n",
              "      <td>0.043</td>\n",
              "      <td>0.131</td>\n",
              "    </tr>\n",
              "  </tbody>\n",
              "</table>\n",
              "</div>\n",
              "      <button class=\"colab-df-convert\" onclick=\"convertToInteractive('df-f9799d41-3cac-403a-a1c3-b8236b7b0e98')\"\n",
              "              title=\"Convert this dataframe to an interactive table.\"\n",
              "              style=\"display:none;\">\n",
              "        \n",
              "  <svg xmlns=\"http://www.w3.org/2000/svg\" height=\"24px\"viewBox=\"0 0 24 24\"\n",
              "       width=\"24px\">\n",
              "    <path d=\"M0 0h24v24H0V0z\" fill=\"none\"/>\n",
              "    <path d=\"M18.56 5.44l.94 2.06.94-2.06 2.06-.94-2.06-.94-.94-2.06-.94 2.06-2.06.94zm-11 1L8.5 8.5l.94-2.06 2.06-.94-2.06-.94L8.5 2.5l-.94 2.06-2.06.94zm10 10l.94 2.06.94-2.06 2.06-.94-2.06-.94-.94-2.06-.94 2.06-2.06.94z\"/><path d=\"M17.41 7.96l-1.37-1.37c-.4-.4-.92-.59-1.43-.59-.52 0-1.04.2-1.43.59L10.3 9.45l-7.72 7.72c-.78.78-.78 2.05 0 2.83L4 21.41c.39.39.9.59 1.41.59.51 0 1.02-.2 1.41-.59l7.78-7.78 2.81-2.81c.8-.78.8-2.07 0-2.86zM5.41 20L4 18.59l7.72-7.72 1.47 1.35L5.41 20z\"/>\n",
              "  </svg>\n",
              "      </button>\n",
              "      \n",
              "  <style>\n",
              "    .colab-df-container {\n",
              "      display:flex;\n",
              "      flex-wrap:wrap;\n",
              "      gap: 12px;\n",
              "    }\n",
              "\n",
              "    .colab-df-convert {\n",
              "      background-color: #E8F0FE;\n",
              "      border: none;\n",
              "      border-radius: 50%;\n",
              "      cursor: pointer;\n",
              "      display: none;\n",
              "      fill: #1967D2;\n",
              "      height: 32px;\n",
              "      padding: 0 0 0 0;\n",
              "      width: 32px;\n",
              "    }\n",
              "\n",
              "    .colab-df-convert:hover {\n",
              "      background-color: #E2EBFA;\n",
              "      box-shadow: 0px 1px 2px rgba(60, 64, 67, 0.3), 0px 1px 3px 1px rgba(60, 64, 67, 0.15);\n",
              "      fill: #174EA6;\n",
              "    }\n",
              "\n",
              "    [theme=dark] .colab-df-convert {\n",
              "      background-color: #3B4455;\n",
              "      fill: #D2E3FC;\n",
              "    }\n",
              "\n",
              "    [theme=dark] .colab-df-convert:hover {\n",
              "      background-color: #434B5C;\n",
              "      box-shadow: 0px 1px 3px 1px rgba(0, 0, 0, 0.15);\n",
              "      filter: drop-shadow(0px 1px 2px rgba(0, 0, 0, 0.3));\n",
              "      fill: #FFFFFF;\n",
              "    }\n",
              "  </style>\n",
              "\n",
              "      <script>\n",
              "        const buttonEl =\n",
              "          document.querySelector('#df-f9799d41-3cac-403a-a1c3-b8236b7b0e98 button.colab-df-convert');\n",
              "        buttonEl.style.display =\n",
              "          google.colab.kernel.accessAllowed ? 'block' : 'none';\n",
              "\n",
              "        async function convertToInteractive(key) {\n",
              "          const element = document.querySelector('#df-f9799d41-3cac-403a-a1c3-b8236b7b0e98');\n",
              "          const dataTable =\n",
              "            await google.colab.kernel.invokeFunction('convertToInteractive',\n",
              "                                                     [key], {});\n",
              "          if (!dataTable) return;\n",
              "\n",
              "          const docLinkHtml = 'Like what you see? Visit the ' +\n",
              "            '<a target=\"_blank\" href=https://colab.research.google.com/notebooks/data_table.ipynb>data table notebook</a>'\n",
              "            + ' to learn more about interactive tables.';\n",
              "          element.innerHTML = '';\n",
              "          dataTable['output_type'] = 'display_data';\n",
              "          await google.colab.output.renderOutput(dataTable, element);\n",
              "          const docLink = document.createElement('div');\n",
              "          docLink.innerHTML = docLinkHtml;\n",
              "          element.appendChild(docLink);\n",
              "        }\n",
              "      </script>\n",
              "    </div>\n",
              "  </div>\n",
              "  "
            ]
          },
          "metadata": {},
          "execution_count": 42
        }
      ],
      "source": [
        "(df_11_16\n",
        " .groupby('rating')\n",
        " ['na_sales', 'eu_sales', 'jp_sales', 'other_sales']\n",
        " .mean()\n",
        " .round(3)\n",
        " .reindex([\"N/A\", \"E\", \"E10+\", \"T\", \"M\"]))"
      ]
    },
    {
      "cell_type": "markdown",
      "metadata": {
        "id": "raHEl9ZudtY0"
      },
      "source": [
        "Если смотреть не средние, а медианные или суммарные продажи, то форма графиков не будет отличаться, меняется только относительная позиция игр категории 10+ лет. Также при расчёте медиан пропадают данные по Японии, т.к. продажи там низкие относительно других регионов. Существенны отличия между продажами игр категории Т (13+ лет) и М(17+ лет):\n",
        "1. Среди всех возрастных категорий и средние, и суммарные и медианные продажи именно игр категории Т (13+ лет) самые низкие.\n",
        "2. Среди всех возрастных категорий и средние, и суммарные и медианные продажи именно игр категории М (17+ лет) самые высокие.\n",
        "3. Вышесказанное не относится к играм в Японии. Там продажи примерно на одном уровне по всем категориям. Также разница между играми разных возрастных категорий не очень принципиальна в прочих регионах. В Европе и Северной Америке разница более чем в 2 раза."
      ]
    },
    {
      "cell_type": "markdown",
      "metadata": {
        "id": "niU6s8dhdtY0"
      },
      "source": [
        "Проверим высказанные выводы Т-тестами:"
      ]
    },
    {
      "cell_type": "code",
      "execution_count": 43,
      "metadata": {
        "colab": {
          "base_uri": "https://localhost:8080/"
        },
        "id": "i7J3Tnn4dtY0",
        "outputId": "0e297c67-6277-450a-a712-839b3cefe7ed"
      },
      "outputs": [
        {
          "output_type": "stream",
          "name": "stdout",
          "text": [
            "2.8604032392123848e-21\n",
            "Между M и N/A ЕСТЬ значимые отличия\n",
            "6.588674575291663e-06\n",
            "Между M и E ЕСТЬ значимые отличия\n",
            "7.716475024420098e-10\n",
            "Между M и E10+ ЕСТЬ значимые отличия\n",
            "1.3144021104501383e-13\n",
            "Между M и T ЕСТЬ значимые отличия\n",
            "2.081409263715699e-11\n",
            "Между N/A и E ЕСТЬ значимые отличия\n",
            "1.4984148404932745e-09\n",
            "Между N/A и E10+ ЕСТЬ значимые отличия\n",
            "1.896224094730956e-06\n",
            "Между N/A и T ЕСТЬ значимые отличия\n",
            "0.06438708626421767\n",
            "Между E и E10+ нет значимых отличий\n",
            "0.00039649291536913485\n",
            "Между E и T ЕСТЬ значимые отличия\n",
            "0.050061046619402964\n",
            "Между E10+ и T нет значимых отличий\n"
          ]
        }
      ],
      "source": [
        "from itertools import combinations\n",
        "\n",
        "rating_combinations = [i for i in combinations(df_11_16['rating'].unique(), 2)]\n",
        "num_comb = len(rating_combinations)\n",
        "\n",
        "alpha = 0.05\n",
        "\n",
        "for a, b in rating_combinations:\n",
        "    a_data = df_11_16.loc[df_11_16['rating'] == a, 'total_sales']\n",
        "    b_data = df_11_16.loc[df_11_16['rating'] == b, 'total_sales']\n",
        "    _, p_value = st.ttest_ind(a_data, b_data, equal_var=False)\n",
        "    \n",
        "    print(p_value)\n",
        "    if p_value > alpha / num_comb:\n",
        "        print(f'Между {a} и {b} нет значимых отличий')\n",
        "    else:\n",
        "        print(f'Между {a} и {b} ЕСТЬ значимые отличия')"
      ]
    },
    {
      "cell_type": "markdown",
      "metadata": {
        "id": "OCYxP3xEdtY0"
      },
      "source": [
        "Т-тесты показывают значимые различия практически во всех случаях, даже в Японии. Таким образом, мы можем утверждать, что возрастные ограничения влияют на уровень продаж."
      ]
    },
    {
      "cell_type": "markdown",
      "metadata": {
        "id": "GRuGNxt3dtY1"
      },
      "source": [
        "Однако возрастные ограничения могут играть и опосредованную роль в увеличении или снижении продаж. Посмотрим, одинаково ли распределеяются жанры внутри групп игр по возрастным рейтингам:"
      ]
    },
    {
      "cell_type": "code",
      "execution_count": 44,
      "metadata": {
        "colab": {
          "base_uri": "https://localhost:8080/",
          "height": 457
        },
        "id": "0zGsxeQLdtY1",
        "outputId": "00c9773d-5a68-485b-e372-ee33fb9c7c6d"
      },
      "outputs": [
        {
          "output_type": "execute_result",
          "data": {
            "text/plain": [
              "rating          E E10+    M  N/A    T\n",
              "genre                                \n",
              "Action        14%  41%  41%  32%  31%\n",
              "Adventure      1%   6%   6%  18%   4%\n",
              "Fighting       0%   1%   3%   3%  14%\n",
              "Misc          11%  16%   1%  11%   7%\n",
              "Platform       7%  11%   0%   1%   1%\n",
              "Puzzle         5%   2%   0%   2%   0%\n",
              "Racing        15%   5%   0%   3%   3%\n",
              "Role-Playing   1%   4%  13%  15%  17%\n",
              "Shooter        0%   5%  34%   3%   7%\n",
              "Simulation     5%   1%   0%   4%   6%\n",
              "Sports        37%   5%   0%   6%   6%\n",
              "Strategy       2%   2%   1%   4%   4%"
            ],
            "text/html": [
              "\n",
              "  <div id=\"df-965e24ed-8dd0-4797-9e76-a592af13eeb6\">\n",
              "    <div class=\"colab-df-container\">\n",
              "      <div>\n",
              "<style scoped>\n",
              "    .dataframe tbody tr th:only-of-type {\n",
              "        vertical-align: middle;\n",
              "    }\n",
              "\n",
              "    .dataframe tbody tr th {\n",
              "        vertical-align: top;\n",
              "    }\n",
              "\n",
              "    .dataframe thead th {\n",
              "        text-align: right;\n",
              "    }\n",
              "</style>\n",
              "<table border=\"1\" class=\"dataframe\">\n",
              "  <thead>\n",
              "    <tr style=\"text-align: right;\">\n",
              "      <th>rating</th>\n",
              "      <th>E</th>\n",
              "      <th>E10+</th>\n",
              "      <th>M</th>\n",
              "      <th>N/A</th>\n",
              "      <th>T</th>\n",
              "    </tr>\n",
              "    <tr>\n",
              "      <th>genre</th>\n",
              "      <th></th>\n",
              "      <th></th>\n",
              "      <th></th>\n",
              "      <th></th>\n",
              "      <th></th>\n",
              "    </tr>\n",
              "  </thead>\n",
              "  <tbody>\n",
              "    <tr>\n",
              "      <th>Action</th>\n",
              "      <td>14%</td>\n",
              "      <td>41%</td>\n",
              "      <td>41%</td>\n",
              "      <td>32%</td>\n",
              "      <td>31%</td>\n",
              "    </tr>\n",
              "    <tr>\n",
              "      <th>Adventure</th>\n",
              "      <td>1%</td>\n",
              "      <td>6%</td>\n",
              "      <td>6%</td>\n",
              "      <td>18%</td>\n",
              "      <td>4%</td>\n",
              "    </tr>\n",
              "    <tr>\n",
              "      <th>Fighting</th>\n",
              "      <td>0%</td>\n",
              "      <td>1%</td>\n",
              "      <td>3%</td>\n",
              "      <td>3%</td>\n",
              "      <td>14%</td>\n",
              "    </tr>\n",
              "    <tr>\n",
              "      <th>Misc</th>\n",
              "      <td>11%</td>\n",
              "      <td>16%</td>\n",
              "      <td>1%</td>\n",
              "      <td>11%</td>\n",
              "      <td>7%</td>\n",
              "    </tr>\n",
              "    <tr>\n",
              "      <th>Platform</th>\n",
              "      <td>7%</td>\n",
              "      <td>11%</td>\n",
              "      <td>0%</td>\n",
              "      <td>1%</td>\n",
              "      <td>1%</td>\n",
              "    </tr>\n",
              "    <tr>\n",
              "      <th>Puzzle</th>\n",
              "      <td>5%</td>\n",
              "      <td>2%</td>\n",
              "      <td>0%</td>\n",
              "      <td>2%</td>\n",
              "      <td>0%</td>\n",
              "    </tr>\n",
              "    <tr>\n",
              "      <th>Racing</th>\n",
              "      <td>15%</td>\n",
              "      <td>5%</td>\n",
              "      <td>0%</td>\n",
              "      <td>3%</td>\n",
              "      <td>3%</td>\n",
              "    </tr>\n",
              "    <tr>\n",
              "      <th>Role-Playing</th>\n",
              "      <td>1%</td>\n",
              "      <td>4%</td>\n",
              "      <td>13%</td>\n",
              "      <td>15%</td>\n",
              "      <td>17%</td>\n",
              "    </tr>\n",
              "    <tr>\n",
              "      <th>Shooter</th>\n",
              "      <td>0%</td>\n",
              "      <td>5%</td>\n",
              "      <td>34%</td>\n",
              "      <td>3%</td>\n",
              "      <td>7%</td>\n",
              "    </tr>\n",
              "    <tr>\n",
              "      <th>Simulation</th>\n",
              "      <td>5%</td>\n",
              "      <td>1%</td>\n",
              "      <td>0%</td>\n",
              "      <td>4%</td>\n",
              "      <td>6%</td>\n",
              "    </tr>\n",
              "    <tr>\n",
              "      <th>Sports</th>\n",
              "      <td>37%</td>\n",
              "      <td>5%</td>\n",
              "      <td>0%</td>\n",
              "      <td>6%</td>\n",
              "      <td>6%</td>\n",
              "    </tr>\n",
              "    <tr>\n",
              "      <th>Strategy</th>\n",
              "      <td>2%</td>\n",
              "      <td>2%</td>\n",
              "      <td>1%</td>\n",
              "      <td>4%</td>\n",
              "      <td>4%</td>\n",
              "    </tr>\n",
              "  </tbody>\n",
              "</table>\n",
              "</div>\n",
              "      <button class=\"colab-df-convert\" onclick=\"convertToInteractive('df-965e24ed-8dd0-4797-9e76-a592af13eeb6')\"\n",
              "              title=\"Convert this dataframe to an interactive table.\"\n",
              "              style=\"display:none;\">\n",
              "        \n",
              "  <svg xmlns=\"http://www.w3.org/2000/svg\" height=\"24px\"viewBox=\"0 0 24 24\"\n",
              "       width=\"24px\">\n",
              "    <path d=\"M0 0h24v24H0V0z\" fill=\"none\"/>\n",
              "    <path d=\"M18.56 5.44l.94 2.06.94-2.06 2.06-.94-2.06-.94-.94-2.06-.94 2.06-2.06.94zm-11 1L8.5 8.5l.94-2.06 2.06-.94-2.06-.94L8.5 2.5l-.94 2.06-2.06.94zm10 10l.94 2.06.94-2.06 2.06-.94-2.06-.94-.94-2.06-.94 2.06-2.06.94z\"/><path d=\"M17.41 7.96l-1.37-1.37c-.4-.4-.92-.59-1.43-.59-.52 0-1.04.2-1.43.59L10.3 9.45l-7.72 7.72c-.78.78-.78 2.05 0 2.83L4 21.41c.39.39.9.59 1.41.59.51 0 1.02-.2 1.41-.59l7.78-7.78 2.81-2.81c.8-.78.8-2.07 0-2.86zM5.41 20L4 18.59l7.72-7.72 1.47 1.35L5.41 20z\"/>\n",
              "  </svg>\n",
              "      </button>\n",
              "      \n",
              "  <style>\n",
              "    .colab-df-container {\n",
              "      display:flex;\n",
              "      flex-wrap:wrap;\n",
              "      gap: 12px;\n",
              "    }\n",
              "\n",
              "    .colab-df-convert {\n",
              "      background-color: #E8F0FE;\n",
              "      border: none;\n",
              "      border-radius: 50%;\n",
              "      cursor: pointer;\n",
              "      display: none;\n",
              "      fill: #1967D2;\n",
              "      height: 32px;\n",
              "      padding: 0 0 0 0;\n",
              "      width: 32px;\n",
              "    }\n",
              "\n",
              "    .colab-df-convert:hover {\n",
              "      background-color: #E2EBFA;\n",
              "      box-shadow: 0px 1px 2px rgba(60, 64, 67, 0.3), 0px 1px 3px 1px rgba(60, 64, 67, 0.15);\n",
              "      fill: #174EA6;\n",
              "    }\n",
              "\n",
              "    [theme=dark] .colab-df-convert {\n",
              "      background-color: #3B4455;\n",
              "      fill: #D2E3FC;\n",
              "    }\n",
              "\n",
              "    [theme=dark] .colab-df-convert:hover {\n",
              "      background-color: #434B5C;\n",
              "      box-shadow: 0px 1px 3px 1px rgba(0, 0, 0, 0.15);\n",
              "      filter: drop-shadow(0px 1px 2px rgba(0, 0, 0, 0.3));\n",
              "      fill: #FFFFFF;\n",
              "    }\n",
              "  </style>\n",
              "\n",
              "      <script>\n",
              "        const buttonEl =\n",
              "          document.querySelector('#df-965e24ed-8dd0-4797-9e76-a592af13eeb6 button.colab-df-convert');\n",
              "        buttonEl.style.display =\n",
              "          google.colab.kernel.accessAllowed ? 'block' : 'none';\n",
              "\n",
              "        async function convertToInteractive(key) {\n",
              "          const element = document.querySelector('#df-965e24ed-8dd0-4797-9e76-a592af13eeb6');\n",
              "          const dataTable =\n",
              "            await google.colab.kernel.invokeFunction('convertToInteractive',\n",
              "                                                     [key], {});\n",
              "          if (!dataTable) return;\n",
              "\n",
              "          const docLinkHtml = 'Like what you see? Visit the ' +\n",
              "            '<a target=\"_blank\" href=https://colab.research.google.com/notebooks/data_table.ipynb>data table notebook</a>'\n",
              "            + ' to learn more about interactive tables.';\n",
              "          element.innerHTML = '';\n",
              "          dataTable['output_type'] = 'display_data';\n",
              "          await google.colab.output.renderOutput(dataTable, element);\n",
              "          const docLink = document.createElement('div');\n",
              "          docLink.innerHTML = docLinkHtml;\n",
              "          element.appendChild(docLink);\n",
              "        }\n",
              "      </script>\n",
              "    </div>\n",
              "  </div>\n",
              "  "
            ]
          },
          "metadata": {},
          "execution_count": 44
        }
      ],
      "source": [
        "pd.crosstab(\n",
        "    df_11_16['genre'],\n",
        "    df_11_16['rating'],\n",
        "    values= df_11_16['genre'],\n",
        "    aggfunc='count',\n",
        "    normalize='columns').applymap(lambda x: \"{0:.0f}%\".format(100*x))"
      ]
    },
    {
      "cell_type": "markdown",
      "metadata": {
        "id": "8KsS6p-tdtY1"
      },
      "source": [
        "Действительно, группы игр по возрастным ограничением неоднородны по жанровому составу. Игры рейтинга М (17+) - это в основном экшн и шутеры, а последние - самые коммерчески успешные игры. Игры для детей от 13 лет - тоже в основном экшны, но шутеров здесь уже почти нет. Посмотрим, есть ли между жанрами и возрастными ограничениями действительная зависимость или значения определены просто распределением большинства (большинство игр - экшны и шутеры)."
      ]
    },
    {
      "cell_type": "code",
      "execution_count": 45,
      "metadata": {
        "colab": {
          "base_uri": "https://localhost:8080/"
        },
        "id": "PjCdHsyvdtY2",
        "outputId": "2d92e776-21a6-4a4a-e9b8-77f20aa31333"
      },
      "outputs": [
        {
          "output_type": "stream",
          "name": "stdout",
          "text": [
            "4.153493676410621e-29\n"
          ]
        }
      ],
      "source": [
        "from scipy.stats import chi2_contingency \n",
        "chisqt = pd.crosstab(\n",
        "    df_11_16['genre'],\n",
        "    df_11_16['rating'],\n",
        "    values= df_11_16['genre'],\n",
        "    aggfunc='count',\n",
        "    margins=True)\n",
        "\n",
        "value = np.array([chisqt.iloc[0][0:5].values,\n",
        "                  chisqt.iloc[1][0:5].values])\n",
        "print(chi2_contingency(value)[1])"
      ]
    },
    {
      "cell_type": "markdown",
      "metadata": {
        "id": "UMzTDR4ddtY2"
      },
      "source": [
        "Полученный коэффициент p-value подтверждает связь между переменными жанра и возрастных рейтингов (отвергаем нулевую гипотезу о равенстве распределений внутри групп в пользу альтернативной об отличии распределений), поэтому популярность игр категории М(17+) может быть объяснена большим количеством шутеров в данной категории."
      ]
    },
    {
      "cell_type": "markdown",
      "metadata": {
        "id": "AEn_vbcGdtY2"
      },
      "source": [
        "### Вывод"
      ]
    },
    {
      "cell_type": "markdown",
      "metadata": {
        "id": "j-1qZ_R5dtY3"
      },
      "source": [
        "1.   Самые популярные платформы - X360 и PS3, которым на смену приходят XOne и PS4. Продукция компании Microsoft более популярна в Северной Америке, продукты Sony - в Японии, т.е. консоли лучше развиваются на домашних рынках. В Японии лидирует 3DS.\n",
        "2.   Япония в принципе уникальна по характеру рынка видеоигр. Самый популярный жанр здесь - RPG, в топ 5 также в ходят файтеры и нет шутеров. Шутеры и экшн - самые популярные жанры в Северной Америке и Европе.\n",
        "3.   Возрастные ограничения связаны с продажами игр, как связаны они и с жанрами игр. Самые коммерчески успешные игры - шутеры, а они чаще всего категории 17+. Тем не менее игры с рейтингом М - самые коммерчески привлекательные. Разница между другими возрастными категориями не так принципиальна."
      ]
    },
    {
      "cell_type": "markdown",
      "metadata": {
        "id": "QJ_XM78qdtY3"
      },
      "source": [
        "## Проверка гипотез"
      ]
    },
    {
      "cell_type": "markdown",
      "metadata": {
        "id": "2q6_rwM9dtY3"
      },
      "source": [
        "### Гипотеза: средние пользовательские рейтинги платформ Xbox One и PC одинаковые"
      ]
    },
    {
      "cell_type": "markdown",
      "metadata": {
        "id": "_dwoMPjjdtY3"
      },
      "source": [
        "Нулевая гипотеза: средние пользовательские рейтинги платформ Xbox One и PC не отличаются.\n",
        "\n",
        "Критерий оценки связи: если полученное значение p-value будет меньше принятого уровня значимости (0,05), то мы сможем отвергнуть нулевую гипотезу и сказать, что значимые различия среди игр на разных платформах есть. В противном случае мы не сможем утверждать наверняка, равны ли рейтинги или есть значимые различия, т.к. полученные в базе значения могут быть случайны.\n",
        "\n",
        "Альтернативная гипотеза будет таковой: средние пользовательские рейтинги платформ Xbox One и PC не равны."
      ]
    },
    {
      "cell_type": "code",
      "execution_count": 46,
      "metadata": {
        "colab": {
          "base_uri": "https://localhost:8080/",
          "height": 474
        },
        "id": "zOkEfbZkdtY4",
        "outputId": "dab89f2e-6ff9-4565-8f47-152db460c749"
      },
      "outputs": [
        {
          "output_type": "stream",
          "name": "stdout",
          "text": [
            "0.6233997626318195\n"
          ]
        },
        {
          "output_type": "execute_result",
          "data": {
            "text/plain": [
              "              mean\n",
              "platform          \n",
              "3DS       6.832031\n",
              "DS        6.984375\n",
              "PC        6.453125\n",
              "PS2       5.933594\n",
              "PS3       6.628906\n",
              "PS4       6.750000\n",
              "PSP       6.726562\n",
              "PSV       7.335938\n",
              "Wii       6.574219\n",
              "WiiU      6.902344\n",
              "X360      6.332031\n",
              "XOne      6.523438"
            ],
            "text/html": [
              "\n",
              "  <div id=\"df-3b004bfd-ca97-4859-a07a-3139d0bef31b\">\n",
              "    <div class=\"colab-df-container\">\n",
              "      <div>\n",
              "<style scoped>\n",
              "    .dataframe tbody tr th:only-of-type {\n",
              "        vertical-align: middle;\n",
              "    }\n",
              "\n",
              "    .dataframe tbody tr th {\n",
              "        vertical-align: top;\n",
              "    }\n",
              "\n",
              "    .dataframe thead th {\n",
              "        text-align: right;\n",
              "    }\n",
              "</style>\n",
              "<table border=\"1\" class=\"dataframe\">\n",
              "  <thead>\n",
              "    <tr style=\"text-align: right;\">\n",
              "      <th></th>\n",
              "      <th>mean</th>\n",
              "    </tr>\n",
              "    <tr>\n",
              "      <th>platform</th>\n",
              "      <th></th>\n",
              "    </tr>\n",
              "  </thead>\n",
              "  <tbody>\n",
              "    <tr>\n",
              "      <th>3DS</th>\n",
              "      <td>6.832031</td>\n",
              "    </tr>\n",
              "    <tr>\n",
              "      <th>DS</th>\n",
              "      <td>6.984375</td>\n",
              "    </tr>\n",
              "    <tr>\n",
              "      <th>PC</th>\n",
              "      <td>6.453125</td>\n",
              "    </tr>\n",
              "    <tr>\n",
              "      <th>PS2</th>\n",
              "      <td>5.933594</td>\n",
              "    </tr>\n",
              "    <tr>\n",
              "      <th>PS3</th>\n",
              "      <td>6.628906</td>\n",
              "    </tr>\n",
              "    <tr>\n",
              "      <th>PS4</th>\n",
              "      <td>6.750000</td>\n",
              "    </tr>\n",
              "    <tr>\n",
              "      <th>PSP</th>\n",
              "      <td>6.726562</td>\n",
              "    </tr>\n",
              "    <tr>\n",
              "      <th>PSV</th>\n",
              "      <td>7.335938</td>\n",
              "    </tr>\n",
              "    <tr>\n",
              "      <th>Wii</th>\n",
              "      <td>6.574219</td>\n",
              "    </tr>\n",
              "    <tr>\n",
              "      <th>WiiU</th>\n",
              "      <td>6.902344</td>\n",
              "    </tr>\n",
              "    <tr>\n",
              "      <th>X360</th>\n",
              "      <td>6.332031</td>\n",
              "    </tr>\n",
              "    <tr>\n",
              "      <th>XOne</th>\n",
              "      <td>6.523438</td>\n",
              "    </tr>\n",
              "  </tbody>\n",
              "</table>\n",
              "</div>\n",
              "      <button class=\"colab-df-convert\" onclick=\"convertToInteractive('df-3b004bfd-ca97-4859-a07a-3139d0bef31b')\"\n",
              "              title=\"Convert this dataframe to an interactive table.\"\n",
              "              style=\"display:none;\">\n",
              "        \n",
              "  <svg xmlns=\"http://www.w3.org/2000/svg\" height=\"24px\"viewBox=\"0 0 24 24\"\n",
              "       width=\"24px\">\n",
              "    <path d=\"M0 0h24v24H0V0z\" fill=\"none\"/>\n",
              "    <path d=\"M18.56 5.44l.94 2.06.94-2.06 2.06-.94-2.06-.94-.94-2.06-.94 2.06-2.06.94zm-11 1L8.5 8.5l.94-2.06 2.06-.94-2.06-.94L8.5 2.5l-.94 2.06-2.06.94zm10 10l.94 2.06.94-2.06 2.06-.94-2.06-.94-.94-2.06-.94 2.06-2.06.94z\"/><path d=\"M17.41 7.96l-1.37-1.37c-.4-.4-.92-.59-1.43-.59-.52 0-1.04.2-1.43.59L10.3 9.45l-7.72 7.72c-.78.78-.78 2.05 0 2.83L4 21.41c.39.39.9.59 1.41.59.51 0 1.02-.2 1.41-.59l7.78-7.78 2.81-2.81c.8-.78.8-2.07 0-2.86zM5.41 20L4 18.59l7.72-7.72 1.47 1.35L5.41 20z\"/>\n",
              "  </svg>\n",
              "      </button>\n",
              "      \n",
              "  <style>\n",
              "    .colab-df-container {\n",
              "      display:flex;\n",
              "      flex-wrap:wrap;\n",
              "      gap: 12px;\n",
              "    }\n",
              "\n",
              "    .colab-df-convert {\n",
              "      background-color: #E8F0FE;\n",
              "      border: none;\n",
              "      border-radius: 50%;\n",
              "      cursor: pointer;\n",
              "      display: none;\n",
              "      fill: #1967D2;\n",
              "      height: 32px;\n",
              "      padding: 0 0 0 0;\n",
              "      width: 32px;\n",
              "    }\n",
              "\n",
              "    .colab-df-convert:hover {\n",
              "      background-color: #E2EBFA;\n",
              "      box-shadow: 0px 1px 2px rgba(60, 64, 67, 0.3), 0px 1px 3px 1px rgba(60, 64, 67, 0.15);\n",
              "      fill: #174EA6;\n",
              "    }\n",
              "\n",
              "    [theme=dark] .colab-df-convert {\n",
              "      background-color: #3B4455;\n",
              "      fill: #D2E3FC;\n",
              "    }\n",
              "\n",
              "    [theme=dark] .colab-df-convert:hover {\n",
              "      background-color: #434B5C;\n",
              "      box-shadow: 0px 1px 3px 1px rgba(0, 0, 0, 0.15);\n",
              "      filter: drop-shadow(0px 1px 2px rgba(0, 0, 0, 0.3));\n",
              "      fill: #FFFFFF;\n",
              "    }\n",
              "  </style>\n",
              "\n",
              "      <script>\n",
              "        const buttonEl =\n",
              "          document.querySelector('#df-3b004bfd-ca97-4859-a07a-3139d0bef31b button.colab-df-convert');\n",
              "        buttonEl.style.display =\n",
              "          google.colab.kernel.accessAllowed ? 'block' : 'none';\n",
              "\n",
              "        async function convertToInteractive(key) {\n",
              "          const element = document.querySelector('#df-3b004bfd-ca97-4859-a07a-3139d0bef31b');\n",
              "          const dataTable =\n",
              "            await google.colab.kernel.invokeFunction('convertToInteractive',\n",
              "                                                     [key], {});\n",
              "          if (!dataTable) return;\n",
              "\n",
              "          const docLinkHtml = 'Like what you see? Visit the ' +\n",
              "            '<a target=\"_blank\" href=https://colab.research.google.com/notebooks/data_table.ipynb>data table notebook</a>'\n",
              "            + ' to learn more about interactive tables.';\n",
              "          element.innerHTML = '';\n",
              "          dataTable['output_type'] = 'display_data';\n",
              "          await google.colab.output.renderOutput(dataTable, element);\n",
              "          const docLink = document.createElement('div');\n",
              "          docLink.innerHTML = docLinkHtml;\n",
              "          element.appendChild(docLink);\n",
              "        }\n",
              "      </script>\n",
              "    </div>\n",
              "  </div>\n",
              "  "
            ]
          },
          "metadata": {},
          "execution_count": 46
        }
      ],
      "source": [
        "alpha = 0.05\n",
        "print(st.ttest_ind(\n",
        "    df_11_16.query(\"platform == 'XOne'\")['user_score'].dropna(),\n",
        "    df_11_16.query(\"platform == 'PC'\")['user_score'].dropna()).pvalue)\n",
        "pd.pivot_table(df_11_16, index=['platform'], values='user_score', aggfunc={'mean'})"
      ]
    },
    {
      "cell_type": "markdown",
      "metadata": {
        "id": "etxybA5gdtY4"
      },
      "source": [
        "Полученное значение говорит о том, что мы не можем с уверенностью 95% отвергнуть нулевую гипотезу в пользу альтернативной. Рассчитанные средние значения указывают на то, что средние оценки пользователей вообще не сильно отличаются от палтформы к платформе. Немного ниже оценки игр на PS2, немного выше на PSV, но разница - примерно 10%."
      ]
    },
    {
      "cell_type": "markdown",
      "metadata": {
        "id": "SM1R7QqFdtY4"
      },
      "source": [
        "### Гипотеза: средние пользовательские рейтинги жанров Action (англ. «действие», экшен-игры) и Sports (англ. «спортивные соревнования») разные."
      ]
    },
    {
      "cell_type": "markdown",
      "metadata": {
        "id": "ZAddSHvsdtY5"
      },
      "source": [
        "Нулевая гипотеза: средние пользовательские рейтинги жанров экшн и спортивных симуляторов не отличаются.\n",
        "\n",
        "Критерий оценки связи: если полученное значение p-value будет меньше принятого уровня значимости (0,05), то мы сможем отвергнуть нулевую гипотезу и сказать, что значимые различия среди игр в разных жанрах есть. В противном случае мы не сможем утверждать наверняка, равны ли рейтинги или есть значимые различия, т.к. полученные в базе значения могут быть случайны.\n",
        "\n",
        "Альтернативная гипотеза будет таковой: средние пользовательские рейтинги жанров экшн и спортивных симуляторов не равны."
      ]
    },
    {
      "cell_type": "code",
      "execution_count": 47,
      "metadata": {
        "colab": {
          "base_uri": "https://localhost:8080/",
          "height": 474
        },
        "id": "i6wXqiFJdtY5",
        "outputId": "d67f4b9f-9244-455d-9888-dca344ff8cd4"
      },
      "outputs": [
        {
          "output_type": "stream",
          "name": "stdout",
          "text": [
            "3.064880271017331e-24\n"
          ]
        },
        {
          "output_type": "execute_result",
          "data": {
            "text/plain": [
              "                  mean\n",
              "genre                 \n",
              "Action        6.781250\n",
              "Adventure     7.367188\n",
              "Fighting      6.871094\n",
              "Misc          6.851562\n",
              "Platform      6.933594\n",
              "Puzzle        7.234375\n",
              "Racing        6.253906\n",
              "Role-Playing  7.261719\n",
              "Shooter       6.417969\n",
              "Simulation    6.261719\n",
              "Sports        5.656250\n",
              "Strategy      6.425781"
            ],
            "text/html": [
              "\n",
              "  <div id=\"df-80838c64-5b98-4dfa-882e-c79a853d84f0\">\n",
              "    <div class=\"colab-df-container\">\n",
              "      <div>\n",
              "<style scoped>\n",
              "    .dataframe tbody tr th:only-of-type {\n",
              "        vertical-align: middle;\n",
              "    }\n",
              "\n",
              "    .dataframe tbody tr th {\n",
              "        vertical-align: top;\n",
              "    }\n",
              "\n",
              "    .dataframe thead th {\n",
              "        text-align: right;\n",
              "    }\n",
              "</style>\n",
              "<table border=\"1\" class=\"dataframe\">\n",
              "  <thead>\n",
              "    <tr style=\"text-align: right;\">\n",
              "      <th></th>\n",
              "      <th>mean</th>\n",
              "    </tr>\n",
              "    <tr>\n",
              "      <th>genre</th>\n",
              "      <th></th>\n",
              "    </tr>\n",
              "  </thead>\n",
              "  <tbody>\n",
              "    <tr>\n",
              "      <th>Action</th>\n",
              "      <td>6.781250</td>\n",
              "    </tr>\n",
              "    <tr>\n",
              "      <th>Adventure</th>\n",
              "      <td>7.367188</td>\n",
              "    </tr>\n",
              "    <tr>\n",
              "      <th>Fighting</th>\n",
              "      <td>6.871094</td>\n",
              "    </tr>\n",
              "    <tr>\n",
              "      <th>Misc</th>\n",
              "      <td>6.851562</td>\n",
              "    </tr>\n",
              "    <tr>\n",
              "      <th>Platform</th>\n",
              "      <td>6.933594</td>\n",
              "    </tr>\n",
              "    <tr>\n",
              "      <th>Puzzle</th>\n",
              "      <td>7.234375</td>\n",
              "    </tr>\n",
              "    <tr>\n",
              "      <th>Racing</th>\n",
              "      <td>6.253906</td>\n",
              "    </tr>\n",
              "    <tr>\n",
              "      <th>Role-Playing</th>\n",
              "      <td>7.261719</td>\n",
              "    </tr>\n",
              "    <tr>\n",
              "      <th>Shooter</th>\n",
              "      <td>6.417969</td>\n",
              "    </tr>\n",
              "    <tr>\n",
              "      <th>Simulation</th>\n",
              "      <td>6.261719</td>\n",
              "    </tr>\n",
              "    <tr>\n",
              "      <th>Sports</th>\n",
              "      <td>5.656250</td>\n",
              "    </tr>\n",
              "    <tr>\n",
              "      <th>Strategy</th>\n",
              "      <td>6.425781</td>\n",
              "    </tr>\n",
              "  </tbody>\n",
              "</table>\n",
              "</div>\n",
              "      <button class=\"colab-df-convert\" onclick=\"convertToInteractive('df-80838c64-5b98-4dfa-882e-c79a853d84f0')\"\n",
              "              title=\"Convert this dataframe to an interactive table.\"\n",
              "              style=\"display:none;\">\n",
              "        \n",
              "  <svg xmlns=\"http://www.w3.org/2000/svg\" height=\"24px\"viewBox=\"0 0 24 24\"\n",
              "       width=\"24px\">\n",
              "    <path d=\"M0 0h24v24H0V0z\" fill=\"none\"/>\n",
              "    <path d=\"M18.56 5.44l.94 2.06.94-2.06 2.06-.94-2.06-.94-.94-2.06-.94 2.06-2.06.94zm-11 1L8.5 8.5l.94-2.06 2.06-.94-2.06-.94L8.5 2.5l-.94 2.06-2.06.94zm10 10l.94 2.06.94-2.06 2.06-.94-2.06-.94-.94-2.06-.94 2.06-2.06.94z\"/><path d=\"M17.41 7.96l-1.37-1.37c-.4-.4-.92-.59-1.43-.59-.52 0-1.04.2-1.43.59L10.3 9.45l-7.72 7.72c-.78.78-.78 2.05 0 2.83L4 21.41c.39.39.9.59 1.41.59.51 0 1.02-.2 1.41-.59l7.78-7.78 2.81-2.81c.8-.78.8-2.07 0-2.86zM5.41 20L4 18.59l7.72-7.72 1.47 1.35L5.41 20z\"/>\n",
              "  </svg>\n",
              "      </button>\n",
              "      \n",
              "  <style>\n",
              "    .colab-df-container {\n",
              "      display:flex;\n",
              "      flex-wrap:wrap;\n",
              "      gap: 12px;\n",
              "    }\n",
              "\n",
              "    .colab-df-convert {\n",
              "      background-color: #E8F0FE;\n",
              "      border: none;\n",
              "      border-radius: 50%;\n",
              "      cursor: pointer;\n",
              "      display: none;\n",
              "      fill: #1967D2;\n",
              "      height: 32px;\n",
              "      padding: 0 0 0 0;\n",
              "      width: 32px;\n",
              "    }\n",
              "\n",
              "    .colab-df-convert:hover {\n",
              "      background-color: #E2EBFA;\n",
              "      box-shadow: 0px 1px 2px rgba(60, 64, 67, 0.3), 0px 1px 3px 1px rgba(60, 64, 67, 0.15);\n",
              "      fill: #174EA6;\n",
              "    }\n",
              "\n",
              "    [theme=dark] .colab-df-convert {\n",
              "      background-color: #3B4455;\n",
              "      fill: #D2E3FC;\n",
              "    }\n",
              "\n",
              "    [theme=dark] .colab-df-convert:hover {\n",
              "      background-color: #434B5C;\n",
              "      box-shadow: 0px 1px 3px 1px rgba(0, 0, 0, 0.15);\n",
              "      filter: drop-shadow(0px 1px 2px rgba(0, 0, 0, 0.3));\n",
              "      fill: #FFFFFF;\n",
              "    }\n",
              "  </style>\n",
              "\n",
              "      <script>\n",
              "        const buttonEl =\n",
              "          document.querySelector('#df-80838c64-5b98-4dfa-882e-c79a853d84f0 button.colab-df-convert');\n",
              "        buttonEl.style.display =\n",
              "          google.colab.kernel.accessAllowed ? 'block' : 'none';\n",
              "\n",
              "        async function convertToInteractive(key) {\n",
              "          const element = document.querySelector('#df-80838c64-5b98-4dfa-882e-c79a853d84f0');\n",
              "          const dataTable =\n",
              "            await google.colab.kernel.invokeFunction('convertToInteractive',\n",
              "                                                     [key], {});\n",
              "          if (!dataTable) return;\n",
              "\n",
              "          const docLinkHtml = 'Like what you see? Visit the ' +\n",
              "            '<a target=\"_blank\" href=https://colab.research.google.com/notebooks/data_table.ipynb>data table notebook</a>'\n",
              "            + ' to learn more about interactive tables.';\n",
              "          element.innerHTML = '';\n",
              "          dataTable['output_type'] = 'display_data';\n",
              "          await google.colab.output.renderOutput(dataTable, element);\n",
              "          const docLink = document.createElement('div');\n",
              "          docLink.innerHTML = docLinkHtml;\n",
              "          element.appendChild(docLink);\n",
              "        }\n",
              "      </script>\n",
              "    </div>\n",
              "  </div>\n",
              "  "
            ]
          },
          "metadata": {},
          "execution_count": 47
        }
      ],
      "source": [
        "alpha = 0.05\n",
        "print(st.ttest_ind(\n",
        "    df_11_16.query(\"genre == 'Action'\")['user_score'].dropna(),\n",
        "    df_11_16.query(\"genre == 'Sports'\")['user_score'].dropna()).pvalue)\n",
        "pd.pivot_table(df_11_16, index=['genre'], values='user_score', aggfunc={'mean'})"
      ]
    },
    {
      "cell_type": "markdown",
      "metadata": {
        "id": "vR04iMjWdtY5"
      },
      "source": [
        "Полученное значение говорит о том, что мы с уверенностью 95% можем отвергнуть нулевую гипотезу в пользу альтернативной. Рассчитанные средние значения указывают на то, что пользователи выше ценят квесты, головоломки и RPG, и ниже - как раз спортивные симуляторы. Разница также не выглядит драматичной, но т-тест показывает значимость различий между оценками спортивных симуляторов и экшнов."
      ]
    },
    {
      "cell_type": "markdown",
      "metadata": {
        "id": "2pcMVKundtY5"
      },
      "source": [
        "### Вывод"
      ]
    },
    {
      "cell_type": "markdown",
      "metadata": {
        "id": "7D88oz9RdtY6"
      },
      "source": [
        "1.   Мы не нашли значимых различий между пользовательскими рейтингами игр на PC и X-Box One.\n",
        "2.   Различия пользовательских рейтингов экшн-игр и спортивных симуляторов оказались принципиальны."
      ]
    },
    {
      "cell_type": "markdown",
      "metadata": {
        "id": "sse-91MsdtY6"
      },
      "source": [
        "## Общий вывод"
      ]
    },
    {
      "cell_type": "markdown",
      "metadata": {
        "id": "2cTCo0Y7dtY6"
      },
      "source": [
        "Основной исследовательской задачей было выявить определяющие коммерческую успешность игр закономерности, которые помогут спланировать рекламную кампанию на 2017 год:\n",
        "1.   Наиболее коммерчески успешные игры - шутеры. Они же игры 17+. Есть смысл вкладываться в их продвижение в будущем.\n",
        "2.   Срок жизни платформы - 5-7 лет. В 2017 году будут актуальны 3DS (уходит с рынка), PS4 (лидирует на рынке и растёт), X-Box One (растёт). Стоит продвигать игры на этих платформах.\n",
        "3.   Отзывы пользователей - не показатель коммерческой успешности. Стоит обращать внимание на отзывы критиков. Есть отзывы критиков положительные, игра может показать хорошие продажи. Если оценки критиков низкие, игра точно покажет низкие продажи.\n",
        "\n",
        "В 2017 году рекомендуется:\n",
        "1.   В первую очередь продвигать игры на PS4, во вторую - на X-Box One. Анализировать продажи по платформам в динамике.\n",
        "2.   Если в жанре иргы указан шутер, её стоит брать в рекламную кампанию.\n",
        "3.   Если игра получила низкие оценки критиков (менее 60 из 100), стоит отказаться от её рекламирования."
      ]
    }
  ],
  "metadata": {
    "ExecuteTimeLog": [
      {
        "duration": 1042,
        "start_time": "2021-10-30T15:42:32.454Z"
      },
      {
        "duration": 914,
        "start_time": "2021-10-30T15:42:32.585Z"
      },
      {
        "duration": 911,
        "start_time": "2021-10-30T15:42:32.588Z"
      },
      {
        "duration": 908,
        "start_time": "2021-10-30T15:42:32.592Z"
      },
      {
        "duration": 898,
        "start_time": "2021-10-30T15:42:32.603Z"
      },
      {
        "duration": 896,
        "start_time": "2021-10-30T15:42:32.606Z"
      },
      {
        "duration": 895,
        "start_time": "2021-10-30T15:42:32.608Z"
      },
      {
        "duration": 893,
        "start_time": "2021-10-30T15:42:32.610Z"
      },
      {
        "duration": 891,
        "start_time": "2021-10-30T15:42:32.613Z"
      },
      {
        "duration": 890,
        "start_time": "2021-10-30T15:42:32.615Z"
      },
      {
        "duration": 887,
        "start_time": "2021-10-30T15:42:32.619Z"
      },
      {
        "duration": 886,
        "start_time": "2021-10-30T15:42:32.621Z"
      },
      {
        "duration": 884,
        "start_time": "2021-10-30T15:42:32.624Z"
      },
      {
        "duration": 882,
        "start_time": "2021-10-30T15:42:32.626Z"
      },
      {
        "duration": 880,
        "start_time": "2021-10-30T15:42:32.629Z"
      },
      {
        "duration": 878,
        "start_time": "2021-10-30T15:42:32.632Z"
      },
      {
        "duration": 876,
        "start_time": "2021-10-30T15:42:32.635Z"
      },
      {
        "duration": 875,
        "start_time": "2021-10-30T15:42:32.637Z"
      },
      {
        "duration": 874,
        "start_time": "2021-10-30T15:42:32.639Z"
      },
      {
        "duration": 870,
        "start_time": "2021-10-30T15:42:32.644Z"
      },
      {
        "duration": 869,
        "start_time": "2021-10-30T15:42:32.646Z"
      },
      {
        "duration": 864,
        "start_time": "2021-10-30T15:42:32.651Z"
      },
      {
        "duration": 863,
        "start_time": "2021-10-30T15:42:32.653Z"
      },
      {
        "duration": 1127,
        "start_time": "2021-10-30T15:42:53.173Z"
      },
      {
        "duration": 63,
        "start_time": "2021-10-30T15:42:54.303Z"
      },
      {
        "duration": 4,
        "start_time": "2021-10-30T15:42:54.368Z"
      },
      {
        "duration": 20,
        "start_time": "2021-10-30T15:42:54.374Z"
      },
      {
        "duration": 23,
        "start_time": "2021-10-30T15:42:54.396Z"
      },
      {
        "duration": 7,
        "start_time": "2021-10-30T15:42:54.421Z"
      },
      {
        "duration": 13,
        "start_time": "2021-10-30T15:42:54.430Z"
      },
      {
        "duration": 425,
        "start_time": "2021-10-30T15:42:54.446Z"
      },
      {
        "duration": 9,
        "start_time": "2021-10-30T15:42:54.873Z"
      },
      {
        "duration": 10,
        "start_time": "2021-10-30T15:42:54.883Z"
      },
      {
        "duration": 26,
        "start_time": "2021-10-30T15:42:54.895Z"
      },
      {
        "duration": 11,
        "start_time": "2021-10-30T15:42:54.923Z"
      },
      {
        "duration": 9,
        "start_time": "2021-10-30T15:42:54.936Z"
      },
      {
        "duration": 9,
        "start_time": "2021-10-30T15:42:54.947Z"
      },
      {
        "duration": 22,
        "start_time": "2021-10-30T15:42:54.958Z"
      },
      {
        "duration": 25,
        "start_time": "2021-10-30T15:42:54.982Z"
      },
      {
        "duration": 5,
        "start_time": "2021-10-30T15:42:55.009Z"
      },
      {
        "duration": 13,
        "start_time": "2021-10-30T15:42:55.016Z"
      },
      {
        "duration": 23,
        "start_time": "2021-10-30T15:42:55.031Z"
      },
      {
        "duration": 17,
        "start_time": "2021-10-30T15:42:55.056Z"
      },
      {
        "duration": 32,
        "start_time": "2021-10-30T15:42:55.075Z"
      },
      {
        "duration": 10,
        "start_time": "2021-10-30T15:42:55.108Z"
      },
      {
        "duration": 27,
        "start_time": "2021-10-30T15:42:55.121Z"
      },
      {
        "duration": 1181,
        "start_time": "2021-10-30T15:51:44.517Z"
      },
      {
        "duration": 488,
        "start_time": "2021-10-30T15:51:45.700Z"
      },
      {
        "duration": 5,
        "start_time": "2021-10-30T15:51:46.190Z"
      },
      {
        "duration": 28,
        "start_time": "2021-10-30T15:51:46.196Z"
      },
      {
        "duration": 16,
        "start_time": "2021-10-30T15:51:46.226Z"
      },
      {
        "duration": 7,
        "start_time": "2021-10-30T15:51:46.244Z"
      },
      {
        "duration": 10,
        "start_time": "2021-10-30T15:51:46.252Z"
      },
      {
        "duration": 411,
        "start_time": "2021-10-30T15:51:46.265Z"
      },
      {
        "duration": 8,
        "start_time": "2021-10-30T15:51:46.678Z"
      },
      {
        "duration": 23,
        "start_time": "2021-10-30T15:51:46.688Z"
      },
      {
        "duration": 41,
        "start_time": "2021-10-30T15:51:46.713Z"
      },
      {
        "duration": 9,
        "start_time": "2021-10-30T15:51:46.756Z"
      },
      {
        "duration": 8,
        "start_time": "2021-10-30T15:51:46.767Z"
      },
      {
        "duration": 9,
        "start_time": "2021-10-30T15:51:46.777Z"
      },
      {
        "duration": 34,
        "start_time": "2021-10-30T15:51:46.788Z"
      },
      {
        "duration": 13,
        "start_time": "2021-10-30T15:51:46.824Z"
      },
      {
        "duration": 5,
        "start_time": "2021-10-30T15:51:46.838Z"
      },
      {
        "duration": 10,
        "start_time": "2021-10-30T15:51:46.845Z"
      },
      {
        "duration": 15,
        "start_time": "2021-10-30T15:51:46.857Z"
      },
      {
        "duration": 40,
        "start_time": "2021-10-30T15:51:46.874Z"
      },
      {
        "duration": 17,
        "start_time": "2021-10-30T15:51:46.916Z"
      },
      {
        "duration": 10,
        "start_time": "2021-10-30T15:51:46.935Z"
      },
      {
        "duration": 20,
        "start_time": "2021-10-30T15:51:46.949Z"
      },
      {
        "duration": 455,
        "start_time": "2021-10-30T15:51:46.971Z"
      },
      {
        "duration": 350,
        "start_time": "2021-10-30T15:51:47.428Z"
      },
      {
        "duration": 583,
        "start_time": "2021-10-30T15:51:47.780Z"
      },
      {
        "duration": 9,
        "start_time": "2021-10-30T15:51:48.365Z"
      },
      {
        "duration": 53,
        "start_time": "2021-10-30T15:51:48.376Z"
      },
      {
        "duration": 323,
        "start_time": "2021-10-30T15:51:48.431Z"
      },
      {
        "duration": 465,
        "start_time": "2021-10-30T15:51:48.756Z"
      },
      {
        "duration": 28,
        "start_time": "2021-10-30T15:51:49.223Z"
      },
      {
        "duration": 66,
        "start_time": "2021-10-30T15:51:49.253Z"
      },
      {
        "duration": 2047,
        "start_time": "2021-10-30T15:51:49.321Z"
      },
      {
        "duration": 372,
        "start_time": "2021-10-30T15:51:51.370Z"
      },
      {
        "duration": 317,
        "start_time": "2021-10-30T15:51:51.744Z"
      },
      {
        "duration": 50,
        "start_time": "2021-10-30T15:51:52.062Z"
      },
      {
        "duration": 1164,
        "start_time": "2021-10-30T15:57:37.725Z"
      },
      {
        "duration": 64,
        "start_time": "2021-10-30T15:57:38.891Z"
      },
      {
        "duration": 5,
        "start_time": "2021-10-30T15:57:38.957Z"
      },
      {
        "duration": 15,
        "start_time": "2021-10-30T15:57:38.964Z"
      },
      {
        "duration": 38,
        "start_time": "2021-10-30T15:57:38.981Z"
      },
      {
        "duration": 7,
        "start_time": "2021-10-30T15:57:39.021Z"
      },
      {
        "duration": 23,
        "start_time": "2021-10-30T15:57:39.030Z"
      },
      {
        "duration": 407,
        "start_time": "2021-10-30T15:57:39.056Z"
      },
      {
        "duration": 8,
        "start_time": "2021-10-30T15:57:39.465Z"
      },
      {
        "duration": 7,
        "start_time": "2021-10-30T15:57:39.474Z"
      },
      {
        "duration": 44,
        "start_time": "2021-10-30T15:57:39.483Z"
      },
      {
        "duration": 9,
        "start_time": "2021-10-30T15:57:39.528Z"
      },
      {
        "duration": 9,
        "start_time": "2021-10-30T15:57:39.539Z"
      },
      {
        "duration": 8,
        "start_time": "2021-10-30T15:57:39.549Z"
      },
      {
        "duration": 31,
        "start_time": "2021-10-30T15:57:39.559Z"
      },
      {
        "duration": 24,
        "start_time": "2021-10-30T15:57:39.592Z"
      },
      {
        "duration": 5,
        "start_time": "2021-10-30T15:57:39.617Z"
      },
      {
        "duration": 11,
        "start_time": "2021-10-30T15:57:39.624Z"
      },
      {
        "duration": 23,
        "start_time": "2021-10-30T15:57:39.637Z"
      },
      {
        "duration": 18,
        "start_time": "2021-10-30T15:57:39.662Z"
      },
      {
        "duration": 35,
        "start_time": "2021-10-30T15:57:39.682Z"
      },
      {
        "duration": 21,
        "start_time": "2021-10-30T15:57:39.719Z"
      },
      {
        "duration": 16,
        "start_time": "2021-10-30T15:57:39.744Z"
      },
      {
        "duration": 409,
        "start_time": "2021-10-30T15:57:39.762Z"
      },
      {
        "duration": 334,
        "start_time": "2021-10-30T15:57:40.172Z"
      },
      {
        "duration": 530,
        "start_time": "2021-10-30T15:57:40.508Z"
      },
      {
        "duration": 12,
        "start_time": "2021-10-30T15:57:41.040Z"
      },
      {
        "duration": 58,
        "start_time": "2021-10-30T15:57:41.054Z"
      },
      {
        "duration": 302,
        "start_time": "2021-10-30T15:57:41.113Z"
      },
      {
        "duration": 439,
        "start_time": "2021-10-30T15:57:41.417Z"
      },
      {
        "duration": 27,
        "start_time": "2021-10-30T15:57:41.858Z"
      },
      {
        "duration": 58,
        "start_time": "2021-10-30T15:57:41.886Z"
      },
      {
        "duration": 2038,
        "start_time": "2021-10-30T15:57:41.946Z"
      },
      {
        "duration": 350,
        "start_time": "2021-10-30T15:57:43.986Z"
      },
      {
        "duration": 305,
        "start_time": "2021-10-30T15:57:44.338Z"
      },
      {
        "duration": 27,
        "start_time": "2021-10-30T15:57:44.645Z"
      },
      {
        "duration": 53,
        "start_time": "2021-10-30T15:57:44.673Z"
      },
      {
        "duration": 6,
        "start_time": "2021-10-30T15:57:44.727Z"
      },
      {
        "duration": 292,
        "start_time": "2021-10-30T15:57:44.735Z"
      },
      {
        "duration": 28,
        "start_time": "2021-10-30T15:57:45.030Z"
      },
      {
        "duration": 24,
        "start_time": "2021-10-30T15:57:45.059Z"
      },
      {
        "duration": 45,
        "start_time": "2021-10-30T15:57:45.084Z"
      },
      {
        "duration": 1443,
        "start_time": "2021-10-30T19:11:59.617Z"
      },
      {
        "duration": 91,
        "start_time": "2021-10-30T19:12:01.063Z"
      },
      {
        "duration": 6,
        "start_time": "2021-10-30T19:12:01.157Z"
      },
      {
        "duration": 21,
        "start_time": "2021-10-30T19:12:01.176Z"
      },
      {
        "duration": 22,
        "start_time": "2021-10-30T19:12:01.199Z"
      },
      {
        "duration": 7,
        "start_time": "2021-10-30T19:12:01.223Z"
      },
      {
        "duration": 14,
        "start_time": "2021-10-30T19:12:01.232Z"
      },
      {
        "duration": 403,
        "start_time": "2021-10-30T19:12:01.250Z"
      },
      {
        "duration": 22,
        "start_time": "2021-10-30T19:12:01.656Z"
      },
      {
        "duration": 14,
        "start_time": "2021-10-30T19:12:01.680Z"
      },
      {
        "duration": 26,
        "start_time": "2021-10-30T19:12:01.696Z"
      },
      {
        "duration": 10,
        "start_time": "2021-10-30T19:12:01.724Z"
      },
      {
        "duration": 10,
        "start_time": "2021-10-30T19:12:01.736Z"
      },
      {
        "duration": 33,
        "start_time": "2021-10-30T19:12:01.748Z"
      },
      {
        "duration": 13,
        "start_time": "2021-10-30T19:12:01.782Z"
      },
      {
        "duration": 13,
        "start_time": "2021-10-30T19:12:01.797Z"
      },
      {
        "duration": 5,
        "start_time": "2021-10-30T19:12:01.812Z"
      },
      {
        "duration": 20,
        "start_time": "2021-10-30T19:12:01.819Z"
      },
      {
        "duration": 42,
        "start_time": "2021-10-30T19:12:01.841Z"
      },
      {
        "duration": 18,
        "start_time": "2021-10-30T19:12:01.886Z"
      },
      {
        "duration": 14,
        "start_time": "2021-10-30T19:12:01.906Z"
      },
      {
        "duration": 10,
        "start_time": "2021-10-30T19:12:01.921Z"
      },
      {
        "duration": 44,
        "start_time": "2021-10-30T19:12:01.935Z"
      },
      {
        "duration": 411,
        "start_time": "2021-10-30T19:12:01.981Z"
      },
      {
        "duration": 334,
        "start_time": "2021-10-30T19:12:02.394Z"
      },
      {
        "duration": 521,
        "start_time": "2021-10-30T19:12:02.730Z"
      },
      {
        "duration": 25,
        "start_time": "2021-10-30T19:12:03.253Z"
      },
      {
        "duration": 29,
        "start_time": "2021-10-30T19:12:03.280Z"
      },
      {
        "duration": 321,
        "start_time": "2021-10-30T19:12:03.310Z"
      },
      {
        "duration": 442,
        "start_time": "2021-10-30T19:12:03.633Z"
      },
      {
        "duration": 26,
        "start_time": "2021-10-30T19:12:04.077Z"
      },
      {
        "duration": 45,
        "start_time": "2021-10-30T19:12:04.105Z"
      },
      {
        "duration": 2004,
        "start_time": "2021-10-30T19:12:04.152Z"
      },
      {
        "duration": 352,
        "start_time": "2021-10-30T19:12:06.157Z"
      },
      {
        "duration": 308,
        "start_time": "2021-10-30T19:12:06.511Z"
      },
      {
        "duration": 55,
        "start_time": "2021-10-30T19:12:06.821Z"
      },
      {
        "duration": 29,
        "start_time": "2021-10-30T19:12:06.878Z"
      },
      {
        "duration": 6,
        "start_time": "2021-10-30T19:12:06.909Z"
      },
      {
        "duration": 309,
        "start_time": "2021-10-30T19:12:06.917Z"
      },
      {
        "duration": 27,
        "start_time": "2021-10-30T19:12:07.228Z"
      },
      {
        "duration": 38,
        "start_time": "2021-10-30T19:12:07.257Z"
      },
      {
        "duration": 29,
        "start_time": "2021-10-30T19:12:07.297Z"
      },
      {
        "duration": 347,
        "start_time": "2021-10-31T04:22:10.243Z"
      },
      {
        "duration": 1328,
        "start_time": "2021-10-31T04:22:18.511Z"
      },
      {
        "duration": 86,
        "start_time": "2021-10-31T04:22:19.842Z"
      },
      {
        "duration": 7,
        "start_time": "2021-10-31T04:22:19.931Z"
      },
      {
        "duration": 41,
        "start_time": "2021-10-31T04:22:19.941Z"
      },
      {
        "duration": 22,
        "start_time": "2021-10-31T04:22:19.984Z"
      },
      {
        "duration": 9,
        "start_time": "2021-10-31T04:22:20.009Z"
      },
      {
        "duration": 20,
        "start_time": "2021-10-31T04:22:20.020Z"
      },
      {
        "duration": 644,
        "start_time": "2021-10-31T04:22:20.069Z"
      },
      {
        "duration": 11,
        "start_time": "2021-10-31T04:22:20.716Z"
      },
      {
        "duration": 12,
        "start_time": "2021-10-31T04:22:20.729Z"
      },
      {
        "duration": 64,
        "start_time": "2021-10-31T04:22:20.743Z"
      },
      {
        "duration": 14,
        "start_time": "2021-10-31T04:22:20.809Z"
      },
      {
        "duration": 18,
        "start_time": "2021-10-31T04:22:20.825Z"
      },
      {
        "duration": 30,
        "start_time": "2021-10-31T04:22:20.845Z"
      },
      {
        "duration": 32,
        "start_time": "2021-10-31T04:22:20.877Z"
      },
      {
        "duration": 17,
        "start_time": "2021-10-31T04:22:20.912Z"
      },
      {
        "duration": 7,
        "start_time": "2021-10-31T04:22:20.932Z"
      },
      {
        "duration": 35,
        "start_time": "2021-10-31T04:22:20.941Z"
      },
      {
        "duration": 24,
        "start_time": "2021-10-31T04:22:20.978Z"
      },
      {
        "duration": 24,
        "start_time": "2021-10-31T04:22:21.004Z"
      },
      {
        "duration": 47,
        "start_time": "2021-10-31T04:22:21.030Z"
      },
      {
        "duration": 14,
        "start_time": "2021-10-31T04:22:21.079Z"
      },
      {
        "duration": 26,
        "start_time": "2021-10-31T04:22:21.098Z"
      },
      {
        "duration": 684,
        "start_time": "2021-10-31T04:22:21.127Z"
      },
      {
        "duration": 552,
        "start_time": "2021-10-31T04:22:21.815Z"
      },
      {
        "duration": 790,
        "start_time": "2021-10-31T04:22:22.369Z"
      },
      {
        "duration": 12,
        "start_time": "2021-10-31T04:22:27.263Z"
      },
      {
        "duration": 24,
        "start_time": "2021-10-31T04:22:35.612Z"
      },
      {
        "duration": 66,
        "start_time": "2021-10-31T04:24:42.710Z"
      },
      {
        "duration": 68,
        "start_time": "2021-10-31T04:25:20.719Z"
      },
      {
        "duration": 1328,
        "start_time": "2021-10-31T04:25:41.378Z"
      },
      {
        "duration": 67,
        "start_time": "2021-10-31T04:25:46.302Z"
      },
      {
        "duration": 27,
        "start_time": "2021-10-31T04:26:03.679Z"
      },
      {
        "duration": 27,
        "start_time": "2021-10-31T04:26:16.526Z"
      },
      {
        "duration": 330,
        "start_time": "2021-10-31T04:26:28.221Z"
      },
      {
        "duration": 28,
        "start_time": "2021-10-31T04:26:38.317Z"
      },
      {
        "duration": 311,
        "start_time": "2021-10-31T04:27:41.999Z"
      },
      {
        "duration": 24,
        "start_time": "2021-10-31T04:27:48.974Z"
      },
      {
        "duration": 26,
        "start_time": "2021-10-31T04:28:03.910Z"
      },
      {
        "duration": 25,
        "start_time": "2021-10-31T04:28:09.469Z"
      },
      {
        "duration": 23,
        "start_time": "2021-10-31T04:51:58.346Z"
      },
      {
        "duration": 67,
        "start_time": "2021-10-31T04:52:11.441Z"
      },
      {
        "duration": 326,
        "start_time": "2021-10-31T04:54:07.854Z"
      },
      {
        "duration": 24,
        "start_time": "2021-10-31T04:54:15.092Z"
      },
      {
        "duration": 26,
        "start_time": "2021-10-31T04:55:20.049Z"
      },
      {
        "duration": 28,
        "start_time": "2021-10-31T04:57:21.113Z"
      },
      {
        "duration": 27,
        "start_time": "2021-10-31T05:03:09.466Z"
      },
      {
        "duration": 30,
        "start_time": "2021-10-31T05:04:06.946Z"
      },
      {
        "duration": 71,
        "start_time": "2021-10-31T05:04:33.323Z"
      },
      {
        "duration": 30,
        "start_time": "2021-10-31T05:04:57.614Z"
      },
      {
        "duration": 314,
        "start_time": "2021-10-31T05:41:04.568Z"
      },
      {
        "duration": 425,
        "start_time": "2021-10-31T05:41:44.419Z"
      },
      {
        "duration": 316,
        "start_time": "2021-10-31T05:42:23.548Z"
      },
      {
        "duration": 494,
        "start_time": "2021-10-31T05:43:30.077Z"
      },
      {
        "duration": 1365,
        "start_time": "2021-10-31T05:43:47.280Z"
      },
      {
        "duration": 86,
        "start_time": "2021-10-31T05:43:48.648Z"
      },
      {
        "duration": 7,
        "start_time": "2021-10-31T05:43:48.737Z"
      },
      {
        "duration": 38,
        "start_time": "2021-10-31T05:43:48.747Z"
      },
      {
        "duration": 21,
        "start_time": "2021-10-31T05:43:48.788Z"
      },
      {
        "duration": 9,
        "start_time": "2021-10-31T05:43:48.812Z"
      },
      {
        "duration": 45,
        "start_time": "2021-10-31T05:43:48.824Z"
      },
      {
        "duration": 634,
        "start_time": "2021-10-31T05:43:48.873Z"
      },
      {
        "duration": 12,
        "start_time": "2021-10-31T05:43:49.510Z"
      },
      {
        "duration": 9,
        "start_time": "2021-10-31T05:43:49.524Z"
      },
      {
        "duration": 61,
        "start_time": "2021-10-31T05:43:49.535Z"
      },
      {
        "duration": 13,
        "start_time": "2021-10-31T05:43:49.598Z"
      },
      {
        "duration": 13,
        "start_time": "2021-10-31T05:43:49.613Z"
      },
      {
        "duration": 42,
        "start_time": "2021-10-31T05:43:49.628Z"
      },
      {
        "duration": 18,
        "start_time": "2021-10-31T05:43:49.672Z"
      },
      {
        "duration": 18,
        "start_time": "2021-10-31T05:43:49.692Z"
      },
      {
        "duration": 7,
        "start_time": "2021-10-31T05:43:49.712Z"
      },
      {
        "duration": 9,
        "start_time": "2021-10-31T05:43:49.721Z"
      },
      {
        "duration": 53,
        "start_time": "2021-10-31T05:43:49.733Z"
      },
      {
        "duration": 24,
        "start_time": "2021-10-31T05:43:49.789Z"
      },
      {
        "duration": 55,
        "start_time": "2021-10-31T05:43:49.815Z"
      },
      {
        "duration": 14,
        "start_time": "2021-10-31T05:43:49.872Z"
      },
      {
        "duration": 24,
        "start_time": "2021-10-31T05:43:49.891Z"
      },
      {
        "duration": 674,
        "start_time": "2021-10-31T05:43:49.918Z"
      },
      {
        "duration": 546,
        "start_time": "2021-10-31T05:43:50.594Z"
      },
      {
        "duration": 842,
        "start_time": "2021-10-31T05:43:51.142Z"
      },
      {
        "duration": 33,
        "start_time": "2021-10-31T05:43:51.986Z"
      },
      {
        "duration": 13,
        "start_time": "2021-10-31T05:43:52.022Z"
      },
      {
        "duration": 42,
        "start_time": "2021-10-31T05:43:52.069Z"
      },
      {
        "duration": 515,
        "start_time": "2021-10-31T05:43:52.114Z"
      },
      {
        "duration": 710,
        "start_time": "2021-10-31T05:43:52.631Z"
      },
      {
        "duration": 51,
        "start_time": "2021-10-31T05:43:53.344Z"
      },
      {
        "duration": 79,
        "start_time": "2021-10-31T05:43:53.398Z"
      },
      {
        "duration": 3130,
        "start_time": "2021-10-31T05:43:53.480Z"
      },
      {
        "duration": 567,
        "start_time": "2021-10-31T05:43:56.612Z"
      },
      {
        "duration": 490,
        "start_time": "2021-10-31T05:43:57.181Z"
      },
      {
        "duration": 40,
        "start_time": "2021-10-31T05:44:03.039Z"
      },
      {
        "duration": 117,
        "start_time": "2021-10-31T11:53:01.928Z"
      },
      {
        "duration": 641,
        "start_time": "2021-10-31T11:53:12.339Z"
      },
      {
        "duration": 33,
        "start_time": "2021-10-31T11:53:26.916Z"
      },
      {
        "duration": 305,
        "start_time": "2021-10-31T11:53:51.356Z"
      },
      {
        "duration": 302,
        "start_time": "2021-10-31T11:53:57.869Z"
      },
      {
        "duration": 99,
        "start_time": "2021-10-31T11:55:02.724Z"
      },
      {
        "duration": 88,
        "start_time": "2021-10-31T11:55:16.540Z"
      },
      {
        "duration": 1523,
        "start_time": "2021-10-31T11:55:36.454Z"
      },
      {
        "duration": 32,
        "start_time": "2021-10-31T11:55:58.196Z"
      },
      {
        "duration": 335,
        "start_time": "2021-10-31T11:56:04.803Z"
      },
      {
        "duration": 313,
        "start_time": "2021-10-31T11:56:41.980Z"
      },
      {
        "duration": 367,
        "start_time": "2021-10-31T11:58:49.252Z"
      },
      {
        "duration": 57,
        "start_time": "2021-10-31T11:59:06.084Z"
      },
      {
        "duration": 302,
        "start_time": "2021-10-31T12:17:56.058Z"
      },
      {
        "duration": 324,
        "start_time": "2021-10-31T12:18:26.221Z"
      },
      {
        "duration": 273,
        "start_time": "2021-10-31T12:18:40.599Z"
      },
      {
        "duration": 53,
        "start_time": "2021-10-31T12:19:43.190Z"
      },
      {
        "duration": 54,
        "start_time": "2021-10-31T12:19:46.294Z"
      },
      {
        "duration": 55,
        "start_time": "2021-10-31T12:19:50.861Z"
      },
      {
        "duration": 57,
        "start_time": "2021-10-31T12:19:56.101Z"
      },
      {
        "duration": 34,
        "start_time": "2021-10-31T12:21:43.838Z"
      },
      {
        "duration": 66,
        "start_time": "2021-10-31T12:25:19.802Z"
      },
      {
        "duration": 61,
        "start_time": "2021-10-31T12:25:34.934Z"
      },
      {
        "duration": 53,
        "start_time": "2021-10-31T12:25:41.127Z"
      },
      {
        "duration": 391,
        "start_time": "2021-10-31T12:26:14.927Z"
      },
      {
        "duration": 68,
        "start_time": "2021-10-31T12:27:03.765Z"
      },
      {
        "duration": 295,
        "start_time": "2021-10-31T12:39:54.751Z"
      },
      {
        "duration": 345,
        "start_time": "2021-10-31T12:40:06.712Z"
      },
      {
        "duration": 31,
        "start_time": "2021-10-31T12:40:13.807Z"
      },
      {
        "duration": 313,
        "start_time": "2021-10-31T12:41:20.727Z"
      },
      {
        "duration": 311,
        "start_time": "2021-10-31T12:41:33.216Z"
      },
      {
        "duration": 31,
        "start_time": "2021-10-31T12:42:34.663Z"
      },
      {
        "duration": 34,
        "start_time": "2021-10-31T12:42:43.264Z"
      },
      {
        "duration": 36,
        "start_time": "2021-10-31T12:43:54.936Z"
      },
      {
        "duration": 30,
        "start_time": "2021-10-31T12:44:40.535Z"
      },
      {
        "duration": 688,
        "start_time": "2021-10-31T12:48:58.113Z"
      },
      {
        "duration": 40,
        "start_time": "2021-10-31T13:08:23.843Z"
      },
      {
        "duration": 10,
        "start_time": "2021-10-31T13:26:02.299Z"
      },
      {
        "duration": 15,
        "start_time": "2021-10-31T13:26:21.018Z"
      },
      {
        "duration": 14,
        "start_time": "2021-10-31T13:26:31.154Z"
      },
      {
        "duration": 1706,
        "start_time": "2021-10-31T13:27:12.448Z"
      },
      {
        "duration": 13,
        "start_time": "2021-10-31T13:27:20.283Z"
      },
      {
        "duration": 16,
        "start_time": "2021-10-31T13:28:33.573Z"
      },
      {
        "duration": 8,
        "start_time": "2021-10-31T13:29:17.211Z"
      },
      {
        "duration": 12,
        "start_time": "2021-10-31T13:29:59.988Z"
      },
      {
        "duration": 443,
        "start_time": "2021-10-31T13:31:22.524Z"
      },
      {
        "duration": 38,
        "start_time": "2021-10-31T13:31:57.072Z"
      },
      {
        "duration": 147,
        "start_time": "2021-10-31T13:32:20.747Z"
      },
      {
        "duration": 1190,
        "start_time": "2021-10-31T13:42:31.366Z"
      },
      {
        "duration": 91,
        "start_time": "2021-10-31T13:43:57.589Z"
      },
      {
        "duration": 91,
        "start_time": "2021-10-31T13:44:51.405Z"
      },
      {
        "duration": 281,
        "start_time": "2021-10-31T13:45:00.806Z"
      },
      {
        "duration": 395,
        "start_time": "2021-10-31T13:45:14.990Z"
      },
      {
        "duration": 8,
        "start_time": "2021-10-31T13:45:56.998Z"
      },
      {
        "duration": 284,
        "start_time": "2021-10-31T13:46:12.230Z"
      },
      {
        "duration": 8,
        "start_time": "2021-10-31T13:46:22.350Z"
      },
      {
        "duration": 418,
        "start_time": "2021-10-31T13:46:38.061Z"
      },
      {
        "duration": 693,
        "start_time": "2021-10-31T13:46:47.125Z"
      },
      {
        "duration": 9,
        "start_time": "2021-10-31T13:48:17.766Z"
      },
      {
        "duration": 103,
        "start_time": "2021-10-31T13:57:08.078Z"
      },
      {
        "duration": 286,
        "start_time": "2021-10-31T13:57:13.638Z"
      },
      {
        "duration": 286,
        "start_time": "2021-10-31T13:57:19.893Z"
      },
      {
        "duration": 329,
        "start_time": "2021-10-31T13:57:31.965Z"
      },
      {
        "duration": 289,
        "start_time": "2021-10-31T13:58:26.583Z"
      },
      {
        "duration": 339,
        "start_time": "2021-10-31T13:58:43.694Z"
      },
      {
        "duration": 324,
        "start_time": "2021-10-31T14:03:16.015Z"
      },
      {
        "duration": 311,
        "start_time": "2021-10-31T14:04:12.463Z"
      },
      {
        "duration": 301,
        "start_time": "2021-10-31T14:04:27.487Z"
      },
      {
        "duration": 2028,
        "start_time": "2021-10-31T14:04:56.807Z"
      },
      {
        "duration": 85,
        "start_time": "2021-10-31T14:05:17.302Z"
      },
      {
        "duration": 370,
        "start_time": "2021-10-31T14:05:31.038Z"
      },
      {
        "duration": 296,
        "start_time": "2021-10-31T14:06:05.751Z"
      },
      {
        "duration": 276,
        "start_time": "2021-10-31T14:06:17.599Z"
      },
      {
        "duration": 382,
        "start_time": "2021-10-31T14:07:47.986Z"
      },
      {
        "duration": 274,
        "start_time": "2021-10-31T14:08:01.135Z"
      },
      {
        "duration": 367,
        "start_time": "2021-10-31T14:12:32.328Z"
      },
      {
        "duration": 284,
        "start_time": "2021-10-31T14:14:06.296Z"
      },
      {
        "duration": 11443,
        "start_time": "2021-10-31T14:14:13.544Z"
      },
      {
        "duration": 290,
        "start_time": "2021-10-31T14:14:29.137Z"
      },
      {
        "duration": 5,
        "start_time": "2021-10-31T14:20:38.400Z"
      },
      {
        "duration": 85,
        "start_time": "2021-10-31T14:20:38.409Z"
      },
      {
        "duration": 7,
        "start_time": "2021-10-31T14:20:38.497Z"
      },
      {
        "duration": 58,
        "start_time": "2021-10-31T14:20:38.508Z"
      },
      {
        "duration": 25,
        "start_time": "2021-10-31T14:20:38.569Z"
      },
      {
        "duration": 9,
        "start_time": "2021-10-31T14:20:38.596Z"
      },
      {
        "duration": 18,
        "start_time": "2021-10-31T14:20:38.607Z"
      },
      {
        "duration": 667,
        "start_time": "2021-10-31T14:20:38.628Z"
      },
      {
        "duration": 11,
        "start_time": "2021-10-31T14:20:39.299Z"
      },
      {
        "duration": 9,
        "start_time": "2021-10-31T14:20:39.313Z"
      },
      {
        "duration": 64,
        "start_time": "2021-10-31T14:20:39.325Z"
      },
      {
        "duration": 12,
        "start_time": "2021-10-31T14:20:39.391Z"
      },
      {
        "duration": 13,
        "start_time": "2021-10-31T14:20:39.405Z"
      },
      {
        "duration": 48,
        "start_time": "2021-10-31T14:20:39.421Z"
      },
      {
        "duration": 13,
        "start_time": "2021-10-31T14:20:39.472Z"
      },
      {
        "duration": 20,
        "start_time": "2021-10-31T14:20:39.487Z"
      },
      {
        "duration": 7,
        "start_time": "2021-10-31T14:20:39.509Z"
      },
      {
        "duration": 51,
        "start_time": "2021-10-31T14:20:39.519Z"
      },
      {
        "duration": 21,
        "start_time": "2021-10-31T14:20:39.573Z"
      },
      {
        "duration": 23,
        "start_time": "2021-10-31T14:20:39.596Z"
      },
      {
        "duration": 51,
        "start_time": "2021-10-31T14:20:39.622Z"
      },
      {
        "duration": 15,
        "start_time": "2021-10-31T14:20:39.675Z"
      },
      {
        "duration": 27,
        "start_time": "2021-10-31T14:20:39.692Z"
      },
      {
        "duration": 1048,
        "start_time": "2021-10-31T14:20:39.728Z"
      },
      {
        "duration": 743,
        "start_time": "2021-10-31T14:20:40.780Z"
      },
      {
        "duration": 1161,
        "start_time": "2021-10-31T14:20:41.526Z"
      },
      {
        "duration": 52,
        "start_time": "2021-10-31T14:20:42.690Z"
      },
      {
        "duration": 34,
        "start_time": "2021-10-31T14:20:42.745Z"
      },
      {
        "duration": 92,
        "start_time": "2021-10-31T14:20:42.782Z"
      },
      {
        "duration": 664,
        "start_time": "2021-10-31T14:20:42.877Z"
      },
      {
        "duration": 750,
        "start_time": "2021-10-31T14:20:43.544Z"
      },
      {
        "duration": 40,
        "start_time": "2021-10-31T14:20:44.297Z"
      },
      {
        "duration": 92,
        "start_time": "2021-10-31T14:20:44.340Z"
      },
      {
        "duration": 3361,
        "start_time": "2021-10-31T14:20:44.435Z"
      },
      {
        "duration": 572,
        "start_time": "2021-10-31T14:20:47.799Z"
      },
      {
        "duration": 570,
        "start_time": "2021-10-31T14:20:48.373Z"
      },
      {
        "duration": 48,
        "start_time": "2021-10-31T14:20:48.946Z"
      },
      {
        "duration": 77,
        "start_time": "2021-10-31T14:20:48.996Z"
      },
      {
        "duration": 8,
        "start_time": "2021-10-31T14:20:49.076Z"
      },
      {
        "duration": 14,
        "start_time": "2021-10-31T14:20:49.086Z"
      },
      {
        "duration": 480,
        "start_time": "2021-10-31T14:20:49.102Z"
      },
      {
        "duration": 283,
        "start_time": "2021-10-31T14:20:52.712Z"
      },
      {
        "duration": 2900,
        "start_time": "2021-10-31T15:05:21.260Z"
      },
      {
        "duration": 253,
        "start_time": "2021-10-31T15:08:09.285Z"
      },
      {
        "duration": 2802,
        "start_time": "2021-10-31T15:08:41.829Z"
      },
      {
        "duration": 107,
        "start_time": "2021-10-31T15:10:01.445Z"
      },
      {
        "duration": 125,
        "start_time": "2021-10-31T15:10:44.014Z"
      },
      {
        "duration": 101,
        "start_time": "2021-10-31T15:11:03.506Z"
      },
      {
        "duration": 2867,
        "start_time": "2021-10-31T15:11:17.094Z"
      },
      {
        "duration": 2570,
        "start_time": "2021-10-31T15:11:43.520Z"
      },
      {
        "duration": 95,
        "start_time": "2021-10-31T15:12:22.110Z"
      },
      {
        "duration": 2429,
        "start_time": "2021-10-31T15:12:45.966Z"
      },
      {
        "duration": 2837,
        "start_time": "2021-10-31T15:12:55.366Z"
      },
      {
        "duration": 2933,
        "start_time": "2021-10-31T15:13:33.728Z"
      },
      {
        "duration": 1429,
        "start_time": "2021-10-31T15:13:47.708Z"
      },
      {
        "duration": 107,
        "start_time": "2021-10-31T15:13:49.140Z"
      },
      {
        "duration": 20,
        "start_time": "2021-10-31T15:13:49.251Z"
      },
      {
        "duration": 26,
        "start_time": "2021-10-31T15:13:49.274Z"
      },
      {
        "duration": 28,
        "start_time": "2021-10-31T15:13:49.303Z"
      },
      {
        "duration": 37,
        "start_time": "2021-10-31T15:13:49.335Z"
      },
      {
        "duration": 9,
        "start_time": "2021-10-31T15:13:49.375Z"
      },
      {
        "duration": 664,
        "start_time": "2021-10-31T15:13:49.388Z"
      },
      {
        "duration": 15,
        "start_time": "2021-10-31T15:13:50.055Z"
      },
      {
        "duration": 8,
        "start_time": "2021-10-31T15:13:50.073Z"
      },
      {
        "duration": 38,
        "start_time": "2021-10-31T15:13:50.083Z"
      },
      {
        "duration": 46,
        "start_time": "2021-10-31T15:13:50.123Z"
      },
      {
        "duration": 14,
        "start_time": "2021-10-31T15:13:50.172Z"
      },
      {
        "duration": 11,
        "start_time": "2021-10-31T15:13:50.188Z"
      },
      {
        "duration": 14,
        "start_time": "2021-10-31T15:13:50.202Z"
      },
      {
        "duration": 63,
        "start_time": "2021-10-31T15:13:50.219Z"
      },
      {
        "duration": 8,
        "start_time": "2021-10-31T15:13:50.285Z"
      },
      {
        "duration": 12,
        "start_time": "2021-10-31T15:13:50.296Z"
      },
      {
        "duration": 63,
        "start_time": "2021-10-31T15:13:50.311Z"
      },
      {
        "duration": 26,
        "start_time": "2021-10-31T15:13:50.377Z"
      },
      {
        "duration": 21,
        "start_time": "2021-10-31T15:13:50.406Z"
      },
      {
        "duration": 49,
        "start_time": "2021-10-31T15:13:50.430Z"
      },
      {
        "duration": 27,
        "start_time": "2021-10-31T15:13:50.484Z"
      },
      {
        "duration": 686,
        "start_time": "2021-10-31T15:13:50.514Z"
      },
      {
        "duration": 551,
        "start_time": "2021-10-31T15:13:51.202Z"
      },
      {
        "duration": 819,
        "start_time": "2021-10-31T15:13:51.756Z"
      },
      {
        "duration": 32,
        "start_time": "2021-10-31T15:13:52.577Z"
      },
      {
        "duration": 12,
        "start_time": "2021-10-31T15:13:52.612Z"
      },
      {
        "duration": 83,
        "start_time": "2021-10-31T15:13:52.626Z"
      },
      {
        "duration": 509,
        "start_time": "2021-10-31T15:13:52.711Z"
      },
      {
        "duration": 703,
        "start_time": "2021-10-31T15:13:53.222Z"
      },
      {
        "duration": 56,
        "start_time": "2021-10-31T15:13:53.927Z"
      },
      {
        "duration": 157,
        "start_time": "2021-10-31T15:13:53.986Z"
      },
      {
        "duration": 3005,
        "start_time": "2021-10-31T15:13:59.303Z"
      },
      {
        "duration": 2883,
        "start_time": "2021-10-31T15:15:03.569Z"
      },
      {
        "duration": 2954,
        "start_time": "2021-10-31T15:15:18.615Z"
      },
      {
        "duration": 3122,
        "start_time": "2021-10-31T15:16:53.632Z"
      },
      {
        "duration": 277,
        "start_time": "2021-10-31T15:39:52.985Z"
      },
      {
        "duration": 343,
        "start_time": "2021-10-31T15:40:27.831Z"
      },
      {
        "duration": 11,
        "start_time": "2021-10-31T15:40:55.503Z"
      },
      {
        "duration": 277,
        "start_time": "2021-10-31T15:41:09.775Z"
      },
      {
        "duration": 299,
        "start_time": "2021-10-31T15:44:37.408Z"
      },
      {
        "duration": 288,
        "start_time": "2021-10-31T15:47:20.577Z"
      },
      {
        "duration": 286,
        "start_time": "2021-10-31T15:50:37.075Z"
      },
      {
        "duration": 6,
        "start_time": "2021-10-31T15:51:38.049Z"
      },
      {
        "duration": 6,
        "start_time": "2021-10-31T15:53:06.129Z"
      },
      {
        "duration": 6,
        "start_time": "2021-10-31T15:53:14.832Z"
      },
      {
        "duration": 123,
        "start_time": "2021-10-31T15:55:48.297Z"
      },
      {
        "duration": 287,
        "start_time": "2021-10-31T15:55:59.169Z"
      },
      {
        "duration": 271,
        "start_time": "2021-10-31T15:57:20.481Z"
      },
      {
        "duration": 284,
        "start_time": "2021-10-31T15:58:41.026Z"
      },
      {
        "duration": 97,
        "start_time": "2021-10-31T15:59:57.947Z"
      },
      {
        "duration": 6,
        "start_time": "2021-10-31T16:00:05.129Z"
      },
      {
        "duration": 6,
        "start_time": "2021-10-31T16:01:17.617Z"
      },
      {
        "duration": 486,
        "start_time": "2021-10-31T16:02:16.162Z"
      },
      {
        "duration": 290,
        "start_time": "2021-10-31T16:05:38.442Z"
      },
      {
        "duration": 281,
        "start_time": "2021-10-31T16:06:05.546Z"
      },
      {
        "duration": 100,
        "start_time": "2021-10-31T16:06:34.203Z"
      },
      {
        "duration": 296,
        "start_time": "2021-10-31T16:08:26.147Z"
      },
      {
        "duration": 273,
        "start_time": "2021-10-31T16:08:50.691Z"
      },
      {
        "duration": 299,
        "start_time": "2021-10-31T16:09:07.860Z"
      },
      {
        "duration": 58,
        "start_time": "2021-10-31T16:11:47.530Z"
      },
      {
        "duration": 38,
        "start_time": "2021-10-31T16:12:29.763Z"
      },
      {
        "duration": 38,
        "start_time": "2021-10-31T16:29:23.707Z"
      },
      {
        "duration": 37,
        "start_time": "2021-10-31T16:29:50.451Z"
      },
      {
        "duration": 1390,
        "start_time": "2021-10-31T16:33:44.149Z"
      },
      {
        "duration": 102,
        "start_time": "2021-10-31T16:33:45.542Z"
      },
      {
        "duration": 20,
        "start_time": "2021-10-31T16:33:45.649Z"
      },
      {
        "duration": 24,
        "start_time": "2021-10-31T16:33:45.671Z"
      },
      {
        "duration": 27,
        "start_time": "2021-10-31T16:33:45.697Z"
      },
      {
        "duration": 42,
        "start_time": "2021-10-31T16:33:45.727Z"
      },
      {
        "duration": 14,
        "start_time": "2021-10-31T16:33:45.771Z"
      },
      {
        "duration": 636,
        "start_time": "2021-10-31T16:33:45.789Z"
      },
      {
        "duration": 11,
        "start_time": "2021-10-31T16:33:46.428Z"
      },
      {
        "duration": 28,
        "start_time": "2021-10-31T16:33:46.441Z"
      },
      {
        "duration": 36,
        "start_time": "2021-10-31T16:33:46.471Z"
      },
      {
        "duration": 12,
        "start_time": "2021-10-31T16:33:46.509Z"
      },
      {
        "duration": 46,
        "start_time": "2021-10-31T16:33:46.523Z"
      },
      {
        "duration": 9,
        "start_time": "2021-10-31T16:33:46.571Z"
      },
      {
        "duration": 16,
        "start_time": "2021-10-31T16:33:46.582Z"
      },
      {
        "duration": 19,
        "start_time": "2021-10-31T16:33:46.600Z"
      },
      {
        "duration": 46,
        "start_time": "2021-10-31T16:33:46.622Z"
      },
      {
        "duration": 10,
        "start_time": "2021-10-31T16:33:46.671Z"
      },
      {
        "duration": 24,
        "start_time": "2021-10-31T16:33:46.683Z"
      },
      {
        "duration": 23,
        "start_time": "2021-10-31T16:33:46.709Z"
      },
      {
        "duration": 49,
        "start_time": "2021-10-31T16:33:46.734Z"
      },
      {
        "duration": 14,
        "start_time": "2021-10-31T16:33:46.785Z"
      },
      {
        "duration": 27,
        "start_time": "2021-10-31T16:33:46.804Z"
      },
      {
        "duration": 677,
        "start_time": "2021-10-31T16:33:46.866Z"
      },
      {
        "duration": 650,
        "start_time": "2021-10-31T16:33:47.546Z"
      },
      {
        "duration": 1175,
        "start_time": "2021-10-31T16:33:48.199Z"
      },
      {
        "duration": 42,
        "start_time": "2021-10-31T16:33:49.377Z"
      },
      {
        "duration": 15,
        "start_time": "2021-10-31T16:33:49.422Z"
      },
      {
        "duration": 68,
        "start_time": "2021-10-31T16:33:49.468Z"
      },
      {
        "duration": 748,
        "start_time": "2021-10-31T16:33:49.539Z"
      },
      {
        "duration": 760,
        "start_time": "2021-10-31T16:33:50.291Z"
      },
      {
        "duration": 48,
        "start_time": "2021-10-31T16:33:51.053Z"
      },
      {
        "duration": 169,
        "start_time": "2021-10-31T16:33:51.104Z"
      },
      {
        "duration": 3209,
        "start_time": "2021-10-31T16:33:51.275Z"
      },
      {
        "duration": 576,
        "start_time": "2021-10-31T16:33:54.486Z"
      },
      {
        "duration": 498,
        "start_time": "2021-10-31T16:33:55.067Z"
      },
      {
        "duration": 47,
        "start_time": "2021-10-31T16:33:55.567Z"
      },
      {
        "duration": 84,
        "start_time": "2021-10-31T16:33:55.617Z"
      },
      {
        "duration": 9,
        "start_time": "2021-10-31T16:33:55.704Z"
      },
      {
        "duration": 53,
        "start_time": "2021-10-31T16:33:55.716Z"
      },
      {
        "duration": 490,
        "start_time": "2021-10-31T16:33:55.771Z"
      },
      {
        "duration": 43,
        "start_time": "2021-10-31T16:33:56.267Z"
      },
      {
        "duration": 69,
        "start_time": "2021-10-31T16:33:56.313Z"
      },
      {
        "duration": 82,
        "start_time": "2021-10-31T16:33:56.385Z"
      },
      {
        "duration": 42,
        "start_time": "2021-10-31T16:33:56.470Z"
      },
      {
        "duration": 70,
        "start_time": "2021-10-31T16:33:56.514Z"
      },
      {
        "duration": 37,
        "start_time": "2022-06-07T04:13:56.705Z"
      },
      {
        "duration": 15,
        "start_time": "2022-06-07T04:14:08.495Z"
      }
    ],
    "kernelspec": {
      "display_name": "Python 3 (ipykernel)",
      "language": "python",
      "name": "python3"
    },
    "language_info": {
      "codemirror_mode": {
        "name": "ipython",
        "version": 3
      },
      "file_extension": ".py",
      "mimetype": "text/x-python",
      "name": "python",
      "nbconvert_exporter": "python",
      "pygments_lexer": "ipython3",
      "version": "3.9.5"
    },
    "toc": {
      "base_numbering": 1,
      "nav_menu": {},
      "number_sections": true,
      "sideBar": true,
      "skip_h1_title": true,
      "title_cell": "Table of Contents",
      "title_sidebar": "Contents",
      "toc_cell": false,
      "toc_position": {
        "height": "calc(100% - 180px)",
        "left": "10px",
        "top": "150px",
        "width": "440.391px"
      },
      "toc_section_display": true,
      "toc_window_display": true
    },
    "colab": {
      "name": "DariaNika_graphs&stats_gaming.ipynb",
      "provenance": [],
      "collapsed_sections": [
        "zDrOVPkydtXt",
        "kJtq0uLkdtXz",
        "fLtCkaZXdtX1",
        "YGC0HT2odtYF",
        "6kiLG9j7dtYG",
        "h-MxvF-1dtYI",
        "12lK67HOdtYJ",
        "_ySsMQ98dtYM",
        "73T_O1p9dtYP",
        "STHiI3-9dtYQ",
        "yxzQWr_ddtYV",
        "9WGiidIudtYh",
        "HNuvzXHcdtYn",
        "5rBrUwj_dtYo",
        "3o9KFmEudtYp",
        "XEGY3wXidtYw",
        "AEn_vbcGdtY2",
        "2q6_rwM9dtY3",
        "SM1R7QqFdtY4",
        "2pcMVKundtY5",
        "sse-91MsdtY6"
      ]
    }
  },
  "nbformat": 4,
  "nbformat_minor": 0
}