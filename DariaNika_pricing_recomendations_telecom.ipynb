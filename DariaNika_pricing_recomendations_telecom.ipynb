{
  "cells": [
    {
      "cell_type": "markdown",
      "metadata": {
        "id": "rjCtCXQqhYH1"
      },
      "source": [
        "# Рекомендация тарифов"
      ]
    },
    {
      "cell_type": "markdown",
      "metadata": {
        "id": "Ui9sf3GJhYH1"
      },
      "source": [
        "# Тех задание от клиента:\n",
        "\n",
        "В вашем распоряжении данные о поведении клиентов, которые уже перешли на эти тарифы (из проекта курса «Статистический анализ данных»). Нужно построить модель для задачи классификации, которая выберет подходящий тариф. Предобработка данных не понадобится — вы её уже сделали.\n",
        "\n",
        "Постройте модель с максимально большим значением *accuracy*. Чтобы сдать проект успешно, нужно довести долю правильных ответов по крайней мере до 0.75. Проверьте *accuracy* на тестовой выборке самостоятельно.\n",
        "\n",
        "В ходе проекта проведён исследовательский анализ данных, использованы t-тесты для выявления значимых зависимостей. Построены модели предсказания тарифов: дерево решений, случайный лес, логистическая регрессия. В качестве метрики использован accuracy. Результаты сравнили со случайной классификацией.\n",
        "\n",
        "Использованы библиотеки pandas, matplotlib, scipy, sklearn."
      ]
    },
    {
      "cell_type": "markdown",
      "metadata": {
        "id": "SIET2puNhYH2"
      },
      "source": [
        "## Изучаем базу данных"
      ]
    },
    {
      "cell_type": "markdown",
      "metadata": {
        "id": "ZiaWG7F2hYH2"
      },
      "source": [
        "Импортируем модули, которые нам понадобятся для дальнейшей работы."
      ]
    },
    {
      "cell_type": "code",
      "execution_count": 1,
      "metadata": {
        "id": "DGNs_AjthYH3"
      },
      "outputs": [],
      "source": [
        "import pandas as pd\n",
        "from matplotlib import pyplot as plt\n",
        "from scipy import stats as st\n",
        "from sklearn.tree import DecisionTreeClassifier\n",
        "from sklearn.ensemble import RandomForestClassifier\n",
        "from sklearn.linear_model import LogisticRegression\n",
        "from sklearn.model_selection import train_test_split\n",
        "from sklearn.metrics import accuracy_score \n",
        "from sklearn import tree\n",
        "from sklearn.dummy import DummyClassifier"
      ]
    },
    {
      "cell_type": "markdown",
      "metadata": {
        "id": "GUvzb-GQhYH4"
      },
      "source": [
        "Читаем базу данных."
      ]
    },
    {
      "cell_type": "code",
      "execution_count": 2,
      "metadata": {
        "colab": {
          "base_uri": "https://localhost:8080/",
          "height": 0
        },
        "id": "qSfsco21hYH4",
        "outputId": "f4b4e152-b838-49b0-8409-e7baf8766194"
      },
      "outputs": [
        {
          "output_type": "display_data",
          "data": {
            "text/plain": [
              "      calls  minutes  messages   mb_used  is_ultra\n",
              "0      40.0   311.90      83.0  19915.42         0\n",
              "1      85.0   516.75      56.0  22696.96         0\n",
              "2      77.0   467.66      86.0  21060.45         0\n",
              "3     106.0   745.53      81.0   8437.39         1\n",
              "4      66.0   418.74       1.0  14502.75         0\n",
              "...     ...      ...       ...       ...       ...\n",
              "3209  122.0   910.98      20.0  35124.90         1\n",
              "3210   25.0   190.36       0.0   3275.61         0\n",
              "3211   97.0   634.44      70.0  13974.06         0\n",
              "3212   64.0   462.32      90.0  31239.78         0\n",
              "3213   80.0   566.09       6.0  29480.52         1\n",
              "\n",
              "[3214 rows x 5 columns]"
            ],
            "text/html": [
              "\n",
              "  <div id=\"df-ee0c789a-64d9-4e89-b4fa-25f200f4f94a\">\n",
              "    <div class=\"colab-df-container\">\n",
              "      <div>\n",
              "<style scoped>\n",
              "    .dataframe tbody tr th:only-of-type {\n",
              "        vertical-align: middle;\n",
              "    }\n",
              "\n",
              "    .dataframe tbody tr th {\n",
              "        vertical-align: top;\n",
              "    }\n",
              "\n",
              "    .dataframe thead th {\n",
              "        text-align: right;\n",
              "    }\n",
              "</style>\n",
              "<table border=\"1\" class=\"dataframe\">\n",
              "  <thead>\n",
              "    <tr style=\"text-align: right;\">\n",
              "      <th></th>\n",
              "      <th>calls</th>\n",
              "      <th>minutes</th>\n",
              "      <th>messages</th>\n",
              "      <th>mb_used</th>\n",
              "      <th>is_ultra</th>\n",
              "    </tr>\n",
              "  </thead>\n",
              "  <tbody>\n",
              "    <tr>\n",
              "      <th>0</th>\n",
              "      <td>40.0</td>\n",
              "      <td>311.90</td>\n",
              "      <td>83.0</td>\n",
              "      <td>19915.42</td>\n",
              "      <td>0</td>\n",
              "    </tr>\n",
              "    <tr>\n",
              "      <th>1</th>\n",
              "      <td>85.0</td>\n",
              "      <td>516.75</td>\n",
              "      <td>56.0</td>\n",
              "      <td>22696.96</td>\n",
              "      <td>0</td>\n",
              "    </tr>\n",
              "    <tr>\n",
              "      <th>2</th>\n",
              "      <td>77.0</td>\n",
              "      <td>467.66</td>\n",
              "      <td>86.0</td>\n",
              "      <td>21060.45</td>\n",
              "      <td>0</td>\n",
              "    </tr>\n",
              "    <tr>\n",
              "      <th>3</th>\n",
              "      <td>106.0</td>\n",
              "      <td>745.53</td>\n",
              "      <td>81.0</td>\n",
              "      <td>8437.39</td>\n",
              "      <td>1</td>\n",
              "    </tr>\n",
              "    <tr>\n",
              "      <th>4</th>\n",
              "      <td>66.0</td>\n",
              "      <td>418.74</td>\n",
              "      <td>1.0</td>\n",
              "      <td>14502.75</td>\n",
              "      <td>0</td>\n",
              "    </tr>\n",
              "    <tr>\n",
              "      <th>...</th>\n",
              "      <td>...</td>\n",
              "      <td>...</td>\n",
              "      <td>...</td>\n",
              "      <td>...</td>\n",
              "      <td>...</td>\n",
              "    </tr>\n",
              "    <tr>\n",
              "      <th>3209</th>\n",
              "      <td>122.0</td>\n",
              "      <td>910.98</td>\n",
              "      <td>20.0</td>\n",
              "      <td>35124.90</td>\n",
              "      <td>1</td>\n",
              "    </tr>\n",
              "    <tr>\n",
              "      <th>3210</th>\n",
              "      <td>25.0</td>\n",
              "      <td>190.36</td>\n",
              "      <td>0.0</td>\n",
              "      <td>3275.61</td>\n",
              "      <td>0</td>\n",
              "    </tr>\n",
              "    <tr>\n",
              "      <th>3211</th>\n",
              "      <td>97.0</td>\n",
              "      <td>634.44</td>\n",
              "      <td>70.0</td>\n",
              "      <td>13974.06</td>\n",
              "      <td>0</td>\n",
              "    </tr>\n",
              "    <tr>\n",
              "      <th>3212</th>\n",
              "      <td>64.0</td>\n",
              "      <td>462.32</td>\n",
              "      <td>90.0</td>\n",
              "      <td>31239.78</td>\n",
              "      <td>0</td>\n",
              "    </tr>\n",
              "    <tr>\n",
              "      <th>3213</th>\n",
              "      <td>80.0</td>\n",
              "      <td>566.09</td>\n",
              "      <td>6.0</td>\n",
              "      <td>29480.52</td>\n",
              "      <td>1</td>\n",
              "    </tr>\n",
              "  </tbody>\n",
              "</table>\n",
              "<p>3214 rows × 5 columns</p>\n",
              "</div>\n",
              "      <button class=\"colab-df-convert\" onclick=\"convertToInteractive('df-ee0c789a-64d9-4e89-b4fa-25f200f4f94a')\"\n",
              "              title=\"Convert this dataframe to an interactive table.\"\n",
              "              style=\"display:none;\">\n",
              "        \n",
              "  <svg xmlns=\"http://www.w3.org/2000/svg\" height=\"24px\"viewBox=\"0 0 24 24\"\n",
              "       width=\"24px\">\n",
              "    <path d=\"M0 0h24v24H0V0z\" fill=\"none\"/>\n",
              "    <path d=\"M18.56 5.44l.94 2.06.94-2.06 2.06-.94-2.06-.94-.94-2.06-.94 2.06-2.06.94zm-11 1L8.5 8.5l.94-2.06 2.06-.94-2.06-.94L8.5 2.5l-.94 2.06-2.06.94zm10 10l.94 2.06.94-2.06 2.06-.94-2.06-.94-.94-2.06-.94 2.06-2.06.94z\"/><path d=\"M17.41 7.96l-1.37-1.37c-.4-.4-.92-.59-1.43-.59-.52 0-1.04.2-1.43.59L10.3 9.45l-7.72 7.72c-.78.78-.78 2.05 0 2.83L4 21.41c.39.39.9.59 1.41.59.51 0 1.02-.2 1.41-.59l7.78-7.78 2.81-2.81c.8-.78.8-2.07 0-2.86zM5.41 20L4 18.59l7.72-7.72 1.47 1.35L5.41 20z\"/>\n",
              "  </svg>\n",
              "      </button>\n",
              "      \n",
              "  <style>\n",
              "    .colab-df-container {\n",
              "      display:flex;\n",
              "      flex-wrap:wrap;\n",
              "      gap: 12px;\n",
              "    }\n",
              "\n",
              "    .colab-df-convert {\n",
              "      background-color: #E8F0FE;\n",
              "      border: none;\n",
              "      border-radius: 50%;\n",
              "      cursor: pointer;\n",
              "      display: none;\n",
              "      fill: #1967D2;\n",
              "      height: 32px;\n",
              "      padding: 0 0 0 0;\n",
              "      width: 32px;\n",
              "    }\n",
              "\n",
              "    .colab-df-convert:hover {\n",
              "      background-color: #E2EBFA;\n",
              "      box-shadow: 0px 1px 2px rgba(60, 64, 67, 0.3), 0px 1px 3px 1px rgba(60, 64, 67, 0.15);\n",
              "      fill: #174EA6;\n",
              "    }\n",
              "\n",
              "    [theme=dark] .colab-df-convert {\n",
              "      background-color: #3B4455;\n",
              "      fill: #D2E3FC;\n",
              "    }\n",
              "\n",
              "    [theme=dark] .colab-df-convert:hover {\n",
              "      background-color: #434B5C;\n",
              "      box-shadow: 0px 1px 3px 1px rgba(0, 0, 0, 0.15);\n",
              "      filter: drop-shadow(0px 1px 2px rgba(0, 0, 0, 0.3));\n",
              "      fill: #FFFFFF;\n",
              "    }\n",
              "  </style>\n",
              "\n",
              "      <script>\n",
              "        const buttonEl =\n",
              "          document.querySelector('#df-ee0c789a-64d9-4e89-b4fa-25f200f4f94a button.colab-df-convert');\n",
              "        buttonEl.style.display =\n",
              "          google.colab.kernel.accessAllowed ? 'block' : 'none';\n",
              "\n",
              "        async function convertToInteractive(key) {\n",
              "          const element = document.querySelector('#df-ee0c789a-64d9-4e89-b4fa-25f200f4f94a');\n",
              "          const dataTable =\n",
              "            await google.colab.kernel.invokeFunction('convertToInteractive',\n",
              "                                                     [key], {});\n",
              "          if (!dataTable) return;\n",
              "\n",
              "          const docLinkHtml = 'Like what you see? Visit the ' +\n",
              "            '<a target=\"_blank\" href=https://colab.research.google.com/notebooks/data_table.ipynb>data table notebook</a>'\n",
              "            + ' to learn more about interactive tables.';\n",
              "          element.innerHTML = '';\n",
              "          dataTable['output_type'] = 'display_data';\n",
              "          await google.colab.output.renderOutput(dataTable, element);\n",
              "          const docLink = document.createElement('div');\n",
              "          docLink.innerHTML = docLinkHtml;\n",
              "          element.appendChild(docLink);\n",
              "        }\n",
              "      </script>\n",
              "    </div>\n",
              "  </div>\n",
              "  "
            ]
          },
          "metadata": {}
        },
        {
          "output_type": "stream",
          "name": "stdout",
          "text": [
            "<class 'pandas.core.frame.DataFrame'>\n",
            "RangeIndex: 3214 entries, 0 to 3213\n",
            "Data columns (total 5 columns):\n",
            " #   Column    Non-Null Count  Dtype  \n",
            "---  ------    --------------  -----  \n",
            " 0   calls     3214 non-null   float64\n",
            " 1   minutes   3214 non-null   float64\n",
            " 2   messages  3214 non-null   float64\n",
            " 3   mb_used   3214 non-null   float64\n",
            " 4   is_ultra  3214 non-null   int64  \n",
            "dtypes: float64(4), int64(1)\n",
            "memory usage: 125.7 KB\n"
          ]
        }
      ],
      "source": [
        "df = pd.read_csv('users_behavior.csv', sep= ',')\n",
        "display(df)\n",
        "df.info()"
      ]
    },
    {
      "cell_type": "markdown",
      "metadata": {
        "id": "A6K8ybNkhYH6"
      },
      "source": [
        "В предоставленной базе данных всего 5 столбцов, 4 из которых - переменные-предикторы:\n",
        "- количество звонков в месяц\n",
        "- длительность звонков в месяц\n",
        "- количество сообщений\n",
        "- интернет-трафик в мегабайтах\n",
        "\n",
        "По этим практикам потребления мобильной связи необходимо предсказать пятую переменную - тариф. Это столбец \"is_ultra\", где 1 - объект подключён к тарифу \"Ультра\". В противном случае это тариф \"Смарт\".\n",
        "Столбцы таблицы названы корректно, пропусков нет. Ранее мы получали информацию о том, что оператор связи округляет в большую сторону минуты и интернет-трафик, на данном этапе будем считать эту информацию несущественной.\n",
        "\n",
        "Посмотрим на распределения, нет ли выбросов и сколько у нас пользователей тарифа \"Ультра\", достаточно ли данных для предсказания."
      ]
    },
    {
      "cell_type": "code",
      "execution_count": 3,
      "metadata": {
        "colab": {
          "base_uri": "https://localhost:8080/",
          "height": 0
        },
        "id": "PUA9bLUGhYH6",
        "outputId": "9e617085-b043-4d33-9b85-c30b39ae5baf"
      },
      "outputs": [
        {
          "output_type": "display_data",
          "data": {
            "text/plain": [
              "<Figure size 1080x504 with 6 Axes>"
            ],
            "image/png": "[encoded data removed]"
          },
          "metadata": {
            "needs_background": "light"
          }
        }
      ],
      "source": [
        "df.hist(\n",
        "    bins = 30,\n",
        "    color = 'purple',\n",
        "    figsize = (15,7))\n",
        "plt.show()"
      ]
    },
    {
      "cell_type": "markdown",
      "metadata": {
        "id": "Jx2lNhSUhYH7"
      },
      "source": [
        "Основные переменные, по которым мы будем предсказывать \n",
        "\n",
        "У нас около тысячи \"полезных\" записей, поэтому мы можем в дальнейшем разделить данные и на 2, и на 3 выборки, однако лучше применить стратифицированный отбор, чтобы зафиксировать долю пользователей \"Ультра\" в каждой подвыборке. Прочие переменные очищены от выбросов, кроме \"messages\". Здесь очень большая доля тех, кто не пользовался сообщениями вообще. Обратим на это внимание, но пока действовать не будем."
      ]
    },
    {
      "cell_type": "markdown",
      "metadata": {
        "id": "SUx7UegghYH9"
      },
      "source": [
        "## Разбивка данных на выборки"
      ]
    },
    {
      "cell_type": "markdown",
      "metadata": {
        "id": "LhwdPgUfhYH9"
      },
      "source": [
        "Посмотрим на связь предикторов с целевым признаком. Все ли они влияют на тариф, к которому подключён объект?"
      ]
    },
    {
      "cell_type": "code",
      "execution_count": 4,
      "metadata": {
        "colab": {
          "base_uri": "https://localhost:8080/"
        },
        "id": "4zM4hDi-hYH9",
        "outputId": "29d3fd81-097b-45e3-ef88-9a86bf552098"
      },
      "outputs": [
        {
          "output_type": "stream",
          "name": "stdout",
          "text": [
            "1.884480185046945e-22\n",
            "Между группами по тарифам в calls ЕСТЬ значимые отличия\n",
            "1.3446735422636459e-22\n",
            "Между группами по тарифам в minutes ЕСТЬ значимые отличия\n",
            "8.729206603931645e-22\n",
            "Между группами по тарифам в messages ЕСТЬ значимые отличия\n",
            "1.397720425700292e-20\n",
            "Между группами по тарифам в mb_used ЕСТЬ значимые отличия\n"
          ]
        }
      ],
      "source": [
        "alpha = 0.05\n",
        "for _ in df.drop(['is_ultra'], axis=1).columns:\n",
        "    a_data = df.loc[df['is_ultra'] == 1, _]\n",
        "    b_data = df.loc[df['is_ultra'] == 0, _]\n",
        "    p_value = st.ttest_ind(a_data, b_data, equal_var=False).pvalue\n",
        "    \n",
        "    print(p_value)\n",
        "    if p_value > alpha:\n",
        "        print(f'Между группами по тарифам в {_} нет значимых отличий')\n",
        "    else:\n",
        "        print(f'Между группами по тарифам в {_} ЕСТЬ значимые отличия')"
      ]
    },
    {
      "cell_type": "markdown",
      "metadata": {
        "id": "fxWhd6k6hYH-"
      },
      "source": [
        "Похоже, что связь между переменными есть. Посмотрим на логику связи переменных друг с другом, построив корреляционную матрицу:"
      ]
    },
    {
      "cell_type": "code",
      "execution_count": 5,
      "metadata": {
        "colab": {
          "base_uri": "https://localhost:8080/",
          "height": 0
        },
        "id": "IxJRKDREhYH_",
        "outputId": "e084cb19-2c7c-4755-bb62-93a1acfbdd86"
      },
      "outputs": [
        {
          "output_type": "execute_result",
          "data": {
            "text/plain": [
              "             calls   minutes  messages   mb_used  is_ultra\n",
              "calls     1.000000  0.982083  0.177385  0.286442  0.207122\n",
              "minutes   0.982083  1.000000  0.173110  0.280967  0.206955\n",
              "messages  0.177385  0.173110  1.000000  0.195721  0.203830\n",
              "mb_used   0.286442  0.280967  0.195721  1.000000  0.198568\n",
              "is_ultra  0.207122  0.206955  0.203830  0.198568  1.000000"
            ],
            "text/html": [
              "\n",
              "  <div id=\"df-31603f5f-0790-4a48-beab-01e6200c9f6a\">\n",
              "    <div class=\"colab-df-container\">\n",
              "      <div>\n",
              "<style scoped>\n",
              "    .dataframe tbody tr th:only-of-type {\n",
              "        vertical-align: middle;\n",
              "    }\n",
              "\n",
              "    .dataframe tbody tr th {\n",
              "        vertical-align: top;\n",
              "    }\n",
              "\n",
              "    .dataframe thead th {\n",
              "        text-align: right;\n",
              "    }\n",
              "</style>\n",
              "<table border=\"1\" class=\"dataframe\">\n",
              "  <thead>\n",
              "    <tr style=\"text-align: right;\">\n",
              "      <th></th>\n",
              "      <th>calls</th>\n",
              "      <th>minutes</th>\n",
              "      <th>messages</th>\n",
              "      <th>mb_used</th>\n",
              "      <th>is_ultra</th>\n",
              "    </tr>\n",
              "  </thead>\n",
              "  <tbody>\n",
              "    <tr>\n",
              "      <th>calls</th>\n",
              "      <td>1.000000</td>\n",
              "      <td>0.982083</td>\n",
              "      <td>0.177385</td>\n",
              "      <td>0.286442</td>\n",
              "      <td>0.207122</td>\n",
              "    </tr>\n",
              "    <tr>\n",
              "      <th>minutes</th>\n",
              "      <td>0.982083</td>\n",
              "      <td>1.000000</td>\n",
              "      <td>0.173110</td>\n",
              "      <td>0.280967</td>\n",
              "      <td>0.206955</td>\n",
              "    </tr>\n",
              "    <tr>\n",
              "      <th>messages</th>\n",
              "      <td>0.177385</td>\n",
              "      <td>0.173110</td>\n",
              "      <td>1.000000</td>\n",
              "      <td>0.195721</td>\n",
              "      <td>0.203830</td>\n",
              "    </tr>\n",
              "    <tr>\n",
              "      <th>mb_used</th>\n",
              "      <td>0.286442</td>\n",
              "      <td>0.280967</td>\n",
              "      <td>0.195721</td>\n",
              "      <td>1.000000</td>\n",
              "      <td>0.198568</td>\n",
              "    </tr>\n",
              "    <tr>\n",
              "      <th>is_ultra</th>\n",
              "      <td>0.207122</td>\n",
              "      <td>0.206955</td>\n",
              "      <td>0.203830</td>\n",
              "      <td>0.198568</td>\n",
              "      <td>1.000000</td>\n",
              "    </tr>\n",
              "  </tbody>\n",
              "</table>\n",
              "</div>\n",
              "      <button class=\"colab-df-convert\" onclick=\"convertToInteractive('df-31603f5f-0790-4a48-beab-01e6200c9f6a')\"\n",
              "              title=\"Convert this dataframe to an interactive table.\"\n",
              "              style=\"display:none;\">\n",
              "        \n",
              "  <svg xmlns=\"http://www.w3.org/2000/svg\" height=\"24px\"viewBox=\"0 0 24 24\"\n",
              "       width=\"24px\">\n",
              "    <path d=\"M0 0h24v24H0V0z\" fill=\"none\"/>\n",
              "    <path d=\"M18.56 5.44l.94 2.06.94-2.06 2.06-.94-2.06-.94-.94-2.06-.94 2.06-2.06.94zm-11 1L8.5 8.5l.94-2.06 2.06-.94-2.06-.94L8.5 2.5l-.94 2.06-2.06.94zm10 10l.94 2.06.94-2.06 2.06-.94-2.06-.94-.94-2.06-.94 2.06-2.06.94z\"/><path d=\"M17.41 7.96l-1.37-1.37c-.4-.4-.92-.59-1.43-.59-.52 0-1.04.2-1.43.59L10.3 9.45l-7.72 7.72c-.78.78-.78 2.05 0 2.83L4 21.41c.39.39.9.59 1.41.59.51 0 1.02-.2 1.41-.59l7.78-7.78 2.81-2.81c.8-.78.8-2.07 0-2.86zM5.41 20L4 18.59l7.72-7.72 1.47 1.35L5.41 20z\"/>\n",
              "  </svg>\n",
              "      </button>\n",
              "      \n",
              "  <style>\n",
              "    .colab-df-container {\n",
              "      display:flex;\n",
              "      flex-wrap:wrap;\n",
              "      gap: 12px;\n",
              "    }\n",
              "\n",
              "    .colab-df-convert {\n",
              "      background-color: #E8F0FE;\n",
              "      border: none;\n",
              "      border-radius: 50%;\n",
              "      cursor: pointer;\n",
              "      display: none;\n",
              "      fill: #1967D2;\n",
              "      height: 32px;\n",
              "      padding: 0 0 0 0;\n",
              "      width: 32px;\n",
              "    }\n",
              "\n",
              "    .colab-df-convert:hover {\n",
              "      background-color: #E2EBFA;\n",
              "      box-shadow: 0px 1px 2px rgba(60, 64, 67, 0.3), 0px 1px 3px 1px rgba(60, 64, 67, 0.15);\n",
              "      fill: #174EA6;\n",
              "    }\n",
              "\n",
              "    [theme=dark] .colab-df-convert {\n",
              "      background-color: #3B4455;\n",
              "      fill: #D2E3FC;\n",
              "    }\n",
              "\n",
              "    [theme=dark] .colab-df-convert:hover {\n",
              "      background-color: #434B5C;\n",
              "      box-shadow: 0px 1px 3px 1px rgba(0, 0, 0, 0.15);\n",
              "      filter: drop-shadow(0px 1px 2px rgba(0, 0, 0, 0.3));\n",
              "      fill: #FFFFFF;\n",
              "    }\n",
              "  </style>\n",
              "\n",
              "      <script>\n",
              "        const buttonEl =\n",
              "          document.querySelector('#df-31603f5f-0790-4a48-beab-01e6200c9f6a button.colab-df-convert');\n",
              "        buttonEl.style.display =\n",
              "          google.colab.kernel.accessAllowed ? 'block' : 'none';\n",
              "\n",
              "        async function convertToInteractive(key) {\n",
              "          const element = document.querySelector('#df-31603f5f-0790-4a48-beab-01e6200c9f6a');\n",
              "          const dataTable =\n",
              "            await google.colab.kernel.invokeFunction('convertToInteractive',\n",
              "                                                     [key], {});\n",
              "          if (!dataTable) return;\n",
              "\n",
              "          const docLinkHtml = 'Like what you see? Visit the ' +\n",
              "            '<a target=\"_blank\" href=https://colab.research.google.com/notebooks/data_table.ipynb>data table notebook</a>'\n",
              "            + ' to learn more about interactive tables.';\n",
              "          element.innerHTML = '';\n",
              "          dataTable['output_type'] = 'display_data';\n",
              "          await google.colab.output.renderOutput(dataTable, element);\n",
              "          const docLink = document.createElement('div');\n",
              "          docLink.innerHTML = docLinkHtml;\n",
              "          element.appendChild(docLink);\n",
              "        }\n",
              "      </script>\n",
              "    </div>\n",
              "  </div>\n",
              "  "
            ]
          },
          "metadata": {},
          "execution_count": 5
        }
      ],
      "source": [
        "df.corr()"
      ]
    },
    {
      "cell_type": "markdown",
      "metadata": {
        "id": "LFcvimdChYH_"
      },
      "source": [
        "Меньше всего логики прослеживается между связью количества использованных сообщений и выбранным тарифом. Помним, что существенный массив данных признака \"messages\" составляют нули. Если заменить нули на пропуски, то коэффициенты корреляции будут изменяться не от -1 до +1, а инструменты класификационного анализа не смогу работать с пропущенными данными. Если заменить нули на пропуски, коэффициенты корреляции будут выше, но корреляция количества сообщений с прочими признаками всё равно останется самой слабой:"
      ]
    },
    {
      "cell_type": "code",
      "execution_count": 6,
      "metadata": {
        "colab": {
          "base_uri": "https://localhost:8080/",
          "height": 0
        },
        "id": "oAkGxFMqhYIA",
        "outputId": "a54847f0-3688-45da-b464-222ff019f69f"
      },
      "outputs": [
        {
          "output_type": "execute_result",
          "data": {
            "text/plain": [
              "             calls   minutes  messages   mb_used  is_ultra\n",
              "calls     1.000000  0.982508  0.212918  0.279052  0.208452\n",
              "minutes   0.982508  1.000000  0.208242  0.271113  0.206527\n",
              "messages  0.212918  0.208242  1.000000  0.256056  0.291378\n",
              "mb_used   0.279052  0.271113  0.256056  1.000000  0.194989\n",
              "is_ultra  0.208452  0.206527  0.291378  0.194989  1.000000"
            ],
            "text/html": [
              "\n",
              "  <div id=\"df-9d1fa5dd-0d66-47d1-9aa0-206aac55601e\">\n",
              "    <div class=\"colab-df-container\">\n",
              "      <div>\n",
              "<style scoped>\n",
              "    .dataframe tbody tr th:only-of-type {\n",
              "        vertical-align: middle;\n",
              "    }\n",
              "\n",
              "    .dataframe tbody tr th {\n",
              "        vertical-align: top;\n",
              "    }\n",
              "\n",
              "    .dataframe thead th {\n",
              "        text-align: right;\n",
              "    }\n",
              "</style>\n",
              "<table border=\"1\" class=\"dataframe\">\n",
              "  <thead>\n",
              "    <tr style=\"text-align: right;\">\n",
              "      <th></th>\n",
              "      <th>calls</th>\n",
              "      <th>minutes</th>\n",
              "      <th>messages</th>\n",
              "      <th>mb_used</th>\n",
              "      <th>is_ultra</th>\n",
              "    </tr>\n",
              "  </thead>\n",
              "  <tbody>\n",
              "    <tr>\n",
              "      <th>calls</th>\n",
              "      <td>1.000000</td>\n",
              "      <td>0.982508</td>\n",
              "      <td>0.212918</td>\n",
              "      <td>0.279052</td>\n",
              "      <td>0.208452</td>\n",
              "    </tr>\n",
              "    <tr>\n",
              "      <th>minutes</th>\n",
              "      <td>0.982508</td>\n",
              "      <td>1.000000</td>\n",
              "      <td>0.208242</td>\n",
              "      <td>0.271113</td>\n",
              "      <td>0.206527</td>\n",
              "    </tr>\n",
              "    <tr>\n",
              "      <th>messages</th>\n",
              "      <td>0.212918</td>\n",
              "      <td>0.208242</td>\n",
              "      <td>1.000000</td>\n",
              "      <td>0.256056</td>\n",
              "      <td>0.291378</td>\n",
              "    </tr>\n",
              "    <tr>\n",
              "      <th>mb_used</th>\n",
              "      <td>0.279052</td>\n",
              "      <td>0.271113</td>\n",
              "      <td>0.256056</td>\n",
              "      <td>1.000000</td>\n",
              "      <td>0.194989</td>\n",
              "    </tr>\n",
              "    <tr>\n",
              "      <th>is_ultra</th>\n",
              "      <td>0.208452</td>\n",
              "      <td>0.206527</td>\n",
              "      <td>0.291378</td>\n",
              "      <td>0.194989</td>\n",
              "      <td>1.000000</td>\n",
              "    </tr>\n",
              "  </tbody>\n",
              "</table>\n",
              "</div>\n",
              "      <button class=\"colab-df-convert\" onclick=\"convertToInteractive('df-9d1fa5dd-0d66-47d1-9aa0-206aac55601e')\"\n",
              "              title=\"Convert this dataframe to an interactive table.\"\n",
              "              style=\"display:none;\">\n",
              "        \n",
              "  <svg xmlns=\"http://www.w3.org/2000/svg\" height=\"24px\"viewBox=\"0 0 24 24\"\n",
              "       width=\"24px\">\n",
              "    <path d=\"M0 0h24v24H0V0z\" fill=\"none\"/>\n",
              "    <path d=\"M18.56 5.44l.94 2.06.94-2.06 2.06-.94-2.06-.94-.94-2.06-.94 2.06-2.06.94zm-11 1L8.5 8.5l.94-2.06 2.06-.94-2.06-.94L8.5 2.5l-.94 2.06-2.06.94zm10 10l.94 2.06.94-2.06 2.06-.94-2.06-.94-.94-2.06-.94 2.06-2.06.94z\"/><path d=\"M17.41 7.96l-1.37-1.37c-.4-.4-.92-.59-1.43-.59-.52 0-1.04.2-1.43.59L10.3 9.45l-7.72 7.72c-.78.78-.78 2.05 0 2.83L4 21.41c.39.39.9.59 1.41.59.51 0 1.02-.2 1.41-.59l7.78-7.78 2.81-2.81c.8-.78.8-2.07 0-2.86zM5.41 20L4 18.59l7.72-7.72 1.47 1.35L5.41 20z\"/>\n",
              "  </svg>\n",
              "      </button>\n",
              "      \n",
              "  <style>\n",
              "    .colab-df-container {\n",
              "      display:flex;\n",
              "      flex-wrap:wrap;\n",
              "      gap: 12px;\n",
              "    }\n",
              "\n",
              "    .colab-df-convert {\n",
              "      background-color: #E8F0FE;\n",
              "      border: none;\n",
              "      border-radius: 50%;\n",
              "      cursor: pointer;\n",
              "      display: none;\n",
              "      fill: #1967D2;\n",
              "      height: 32px;\n",
              "      padding: 0 0 0 0;\n",
              "      width: 32px;\n",
              "    }\n",
              "\n",
              "    .colab-df-convert:hover {\n",
              "      background-color: #E2EBFA;\n",
              "      box-shadow: 0px 1px 2px rgba(60, 64, 67, 0.3), 0px 1px 3px 1px rgba(60, 64, 67, 0.15);\n",
              "      fill: #174EA6;\n",
              "    }\n",
              "\n",
              "    [theme=dark] .colab-df-convert {\n",
              "      background-color: #3B4455;\n",
              "      fill: #D2E3FC;\n",
              "    }\n",
              "\n",
              "    [theme=dark] .colab-df-convert:hover {\n",
              "      background-color: #434B5C;\n",
              "      box-shadow: 0px 1px 3px 1px rgba(0, 0, 0, 0.15);\n",
              "      filter: drop-shadow(0px 1px 2px rgba(0, 0, 0, 0.3));\n",
              "      fill: #FFFFFF;\n",
              "    }\n",
              "  </style>\n",
              "\n",
              "      <script>\n",
              "        const buttonEl =\n",
              "          document.querySelector('#df-9d1fa5dd-0d66-47d1-9aa0-206aac55601e button.colab-df-convert');\n",
              "        buttonEl.style.display =\n",
              "          google.colab.kernel.accessAllowed ? 'block' : 'none';\n",
              "\n",
              "        async function convertToInteractive(key) {\n",
              "          const element = document.querySelector('#df-9d1fa5dd-0d66-47d1-9aa0-206aac55601e');\n",
              "          const dataTable =\n",
              "            await google.colab.kernel.invokeFunction('convertToInteractive',\n",
              "                                                     [key], {});\n",
              "          if (!dataTable) return;\n",
              "\n",
              "          const docLinkHtml = 'Like what you see? Visit the ' +\n",
              "            '<a target=\"_blank\" href=https://colab.research.google.com/notebooks/data_table.ipynb>data table notebook</a>'\n",
              "            + ' to learn more about interactive tables.';\n",
              "          element.innerHTML = '';\n",
              "          dataTable['output_type'] = 'display_data';\n",
              "          await google.colab.output.renderOutput(dataTable, element);\n",
              "          const docLink = document.createElement('div');\n",
              "          docLink.innerHTML = docLinkHtml;\n",
              "          element.appendChild(docLink);\n",
              "        }\n",
              "      </script>\n",
              "    </div>\n",
              "  </div>\n",
              "  "
            ]
          },
          "metadata": {},
          "execution_count": 6
        }
      ],
      "source": [
        "df[df['messages'] != 0].corr()"
      ]
    },
    {
      "cell_type": "markdown",
      "metadata": {
        "id": "KIN62MAphYIA"
      },
      "source": [
        "Заходя в эксперименте дальше, мы увидели, что качество моделей только улучшается при исключении признака количества сообщений из анализа, поэтому в дальнейшем удалим этот признак из предикторов."
      ]
    },
    {
      "cell_type": "markdown",
      "metadata": {
        "id": "bHSx4-czhYIC"
      },
      "source": [
        "Также мы видим, что, крайне высокая корреляция между признаками числа звонков и суммарной длительностью. Построим диаграммы рассеяния, чтобы убедиться в связи:"
      ]
    },
    {
      "cell_type": "code",
      "execution_count": 7,
      "metadata": {
        "colab": {
          "base_uri": "https://localhost:8080/",
          "height": 0
        },
        "id": "fqH2gDKAhYIC",
        "outputId": "e29d8563-b06b-4be2-e5f7-b8f3b95e4608"
      },
      "outputs": [
        {
          "output_type": "display_data",
          "data": {
            "text/plain": [
              "<Figure size 1080x504 with 25 Axes>"
            ],
            "image/png": "[encoded data removed]"
          },
          "metadata": {
            "needs_background": "light"
          }
        }
      ],
      "source": [
        "pd.plotting.scatter_matrix(\n",
        "    df,\n",
        "    alpha=0.2,\n",
        "    color = 'purple',\n",
        "    figsize = (15,7))\n",
        "plt.show()"
      ]
    },
    {
      "cell_type": "markdown",
      "metadata": {
        "id": "iQ3LWrTAhYIC"
      },
      "source": [
        "Похоже, что количество звонков и длительность звонков в минутах - есть по сути один фактор. Удалим количество звонков, оставив количество минут. Сделаем это на основании правила о независимости переменных, входящих в регрессионный анализ здесь: http://www.fa.ru/fil/orel/science/nir/Documents/Filonova_st9.pdf"
      ]
    },
    {
      "cell_type": "markdown",
      "metadata": {
        "id": "1DX1t1hRhYID"
      },
      "source": [
        "Извлечём признаки потраченных мегабайт и длительности совершённых звонков из базы и сохраним их в X - набор данных, на которых будет строиться прогноз.\n",
        "\n",
        "Извлечём целевой признак (тариф) и сохраним его в y. Это то, что мы будем предсказывать.\n",
        "\n",
        "Т.к. у нас нет как таковой тестовой выборки, мы должны и научиться, и протестировать полученную модель на одном наборе данных. Поэтому мы отделим тестовую выборку от основного массива данных и на этапе поиска модели не будем её касаться. Также нам понадобится валидационная выборка, которая будет играть роль тестовой на этапе обучения и поиска модели.\n",
        "\n",
        "Определим долю основной выборки как 60%, чтобы больше данных осталось для обучения модели. Добавим параметр стратификации выборки, чтобы улучшить её качество и репрезентативность. Укажем параметр random_state, чтобы результат был стабилен при повторном запуске кода. Перемешивать данные при отборе не будем, т.к. выше, когда мы отображали таблицу, мы видели, что данные неупорядочены."
      ]
    },
    {
      "cell_type": "code",
      "execution_count": 8,
      "metadata": {
        "colab": {
          "base_uri": "https://localhost:8080/"
        },
        "id": "LdzgMDQ6hYID",
        "outputId": "9e64686c-ed93-4500-c623-c0c9d8cebe13"
      },
      "outputs": [
        {
          "output_type": "stream",
          "name": "stdout",
          "text": [
            "(3214, 2) (3214,)\n",
            "(1928, 2) (1928,)\n",
            "(643, 2) (643,)\n",
            "(643, 2) (643,)\n"
          ]
        }
      ],
      "source": [
        "X = df.drop(['is_ultra','messages','calls'], axis=1)\n",
        "y = df['is_ultra']\n",
        "\n",
        "X_train, X_to_split, y_train, y_to_split = train_test_split(\n",
        "    X, y, test_size=0.4, stratify=y, random_state=12345)\n",
        "\n",
        "X_valid, X_test, y_valid, y_test = train_test_split(\n",
        "    X_to_split, y_to_split, test_size=0.5, stratify=y_to_split, random_state=12345)\n",
        "\n",
        "print(X.shape, y.shape)\n",
        "print(X_train.shape, y_train.shape)\n",
        "print(X_valid.shape, y_valid.shape)\n",
        "print(X_test.shape, y_test.shape)"
      ]
    },
    {
      "cell_type": "markdown",
      "metadata": {
        "id": "mthVNLhbhYIE"
      },
      "source": [
        "## Исследование моделей"
      ]
    },
    {
      "cell_type": "markdown",
      "metadata": {
        "id": "dEcvNlYohYIF"
      },
      "source": [
        "Наша задача - предсказать дихотомическую переменную (0 или 1), это задача классификации. Для этого из изученных моделей нам подойдёт:\n",
        "- Дерево решений (структура данных DecisionTreeClassifier)\n",
        "- Случайный лес (структура данных RandomForestClassifier)\n",
        "- Логистическая регрессия (структура данных LogisticRegression)\n",
        "\n",
        "Меняя параметры, найдём лучшие для каждой модели, затем выберём из трёх лучшую."
      ]
    },
    {
      "cell_type": "markdown",
      "metadata": {
        "id": "ldhkddfshYIF"
      },
      "source": [
        "### Дерево решений"
      ]
    },
    {
      "cell_type": "markdown",
      "metadata": {
        "id": "DP5uqwj0hYIF"
      },
      "source": [
        "Построим дерево решений и визуализируем его. Глубину выберем 4 для лучшего визуального отображения."
      ]
    },
    {
      "cell_type": "code",
      "execution_count": 9,
      "metadata": {
        "colab": {
          "base_uri": "https://localhost:8080/",
          "height": 331
        },
        "id": "UTZz4_ZRhYIG",
        "outputId": "1e71a439-15ef-4a4a-b720-3ab382adc890"
      },
      "outputs": [
        {
          "output_type": "stream",
          "name": "stdout",
          "text": [
            "accuracy: 0.7744945567651633\n"
          ]
        },
        {
          "output_type": "display_data",
          "data": {
            "text/plain": [
              "<Figure size 1800x360 with 1 Axes>"
            ],
            "image/png": "[encoded data removed]"
          },
          "metadata": {
            "needs_background": "light"
          }
        }
      ],
      "source": [
        "model = DecisionTreeClassifier(max_depth=4, random_state=12345)\n",
        "model.fit(X_train, y_train)\n",
        "predictions_valid = model.predict(X_valid)\n",
        "print('accuracy:', accuracy_score(y_valid, predictions_valid))\n",
        "plt.figure(figsize=(25, 5))\n",
        "tree.plot_tree(model, feature_names=X.columns, class_names = ['Ultra', 'Smart'], fontsize=12)\n",
        "plt.show()"
      ]
    },
    {
      "cell_type": "markdown",
      "metadata": {
        "id": "VQB3x5kbhYIG"
      },
      "source": [
        "Мы немного поменяли параметры вручную и обнаружили, что первым узлом всегда стоит использование более 25 Гб интернета в месяц, что сразу классифицирует объект как пользователя тарифа Ультра.\n",
        "В задании требуется добиться accuracy более 0,75. Найдём лучшие параметры для простого дерева решений. Глубина:"
      ]
    },
    {
      "cell_type": "code",
      "execution_count": 10,
      "metadata": {
        "colab": {
          "base_uri": "https://localhost:8080/"
        },
        "id": "HpdPUPS_hYIH",
        "outputId": "085d2ab9-b725-43f3-fff8-15feb9545afd"
      },
      "outputs": [
        {
          "output_type": "stream",
          "name": "stdout",
          "text": [
            "max_depth = 1 : 0.7402799377916018\n",
            "max_depth = 2 : 0.7822706065318819\n",
            "max_depth = 3 : 0.7822706065318819\n",
            "max_depth = 4 : 0.7744945567651633\n",
            "max_depth = 5 : 0.7884914463452566\n",
            "max_depth = 6 : 0.7900466562986003\n",
            "max_depth = 7 : 0.7853810264385692\n",
            "max_depth = 8 : 0.7589424572317263\n",
            "max_depth = 9 : 0.7620528771384136\n",
            "max_depth = 10 : 0.7511664074650077\n",
            "max_depth = 11 : 0.7527216174183515\n",
            "max_depth = 12 : 0.7340590979782271\n",
            "max_depth = 13 : 0.7247278382581649\n",
            "max_depth = 14 : 0.71850699844479\n",
            "max_depth = 15 : 0.7076205287713841\n",
            "max_depth = 16 : 0.6998444790046656\n",
            "max_depth = 17 : 0.7013996889580093\n",
            "max_depth = 18 : 0.7045101088646968\n",
            "max_depth = 19 : 0.6998444790046656\n",
            "max_depth = 20 : 0.702954898911353\n"
          ]
        }
      ],
      "source": [
        "for depth in range(1, 21):\n",
        "    model = DecisionTreeClassifier(random_state=12345, max_depth = depth)\n",
        "\n",
        "    model.fit(X_train, y_train)\n",
        "\n",
        "    predictions_valid = model.predict(X_valid)\n",
        "\n",
        "    print(\"max_depth =\", depth, \": \", end='')\n",
        "    print(accuracy_score(y_valid, predictions_valid)) "
      ]
    },
    {
      "cell_type": "markdown",
      "metadata": {
        "id": "FjPfePdghYIH"
      },
      "source": [
        "После десятого шага качество модели ухудшается. Лучший результат - на \"глубине\" дерева 8 или 9. Теперь подберём минимальную выборку для разделения:"
      ]
    },
    {
      "cell_type": "code",
      "execution_count": 11,
      "metadata": {
        "colab": {
          "base_uri": "https://localhost:8080/"
        },
        "id": "1PCGMsGihYIN",
        "outputId": "2f9a25f4-4908-401c-97a4-e78d0f803cd5"
      },
      "outputs": [
        {
          "output_type": "stream",
          "name": "stdout",
          "text": [
            "min_split = 2 : 0.7589424572317263\n",
            "min_split = 3 : 0.7573872472783826\n",
            "min_split = 4 : 0.7573872472783826\n",
            "min_split = 5 : 0.7558320373250389\n",
            "min_split = 6 : 0.7573872472783826\n",
            "min_split = 7 : 0.7558320373250389\n",
            "min_split = 8 : 0.7573872472783826\n",
            "min_split = 9 : 0.7558320373250389\n",
            "min_split = 10 : 0.7573872472783826\n",
            "min_split = 11 : 0.7573872472783826\n",
            "min_split = 12 : 0.7620528771384136\n",
            "min_split = 13 : 0.7636080870917574\n",
            "min_split = 14 : 0.7636080870917574\n",
            "min_split = 15 : 0.7636080870917574\n",
            "min_split = 16 : 0.7636080870917574\n",
            "min_split = 17 : 0.7713841368584758\n",
            "min_split = 18 : 0.7713841368584758\n",
            "min_split = 19 : 0.7713841368584758\n",
            "min_split = 20 : 0.7713841368584758\n",
            "min_split = 21 : 0.7713841368584758\n",
            "min_split = 22 : 0.7713841368584758\n",
            "min_split = 23 : 0.7713841368584758\n",
            "min_split = 24 : 0.7713841368584758\n",
            "min_split = 25 : 0.7744945567651633\n",
            "min_split = 26 : 0.7744945567651633\n",
            "min_split = 27 : 0.7744945567651633\n",
            "min_split = 28 : 0.7744945567651633\n",
            "min_split = 29 : 0.7744945567651633\n",
            "min_split = 30 : 0.7744945567651633\n",
            "min_split = 31 : 0.7744945567651633\n",
            "min_split = 32 : 0.7744945567651633\n",
            "min_split = 33 : 0.7744945567651633\n",
            "min_split = 34 : 0.7744945567651633\n",
            "min_split = 35 : 0.7744945567651633\n",
            "min_split = 36 : 0.7744945567651633\n",
            "min_split = 37 : 0.7744945567651633\n",
            "min_split = 38 : 0.7713841368584758\n",
            "min_split = 39 : 0.7713841368584758\n",
            "min_split = 40 : 0.7713841368584758\n",
            "min_split = 41 : 0.7822706065318819\n",
            "min_split = 42 : 0.7822706065318819\n",
            "min_split = 43 : 0.7838258164852255\n",
            "min_split = 44 : 0.7838258164852255\n",
            "min_split = 45 : 0.7838258164852255\n",
            "min_split = 46 : 0.7853810264385692\n",
            "min_split = 47 : 0.7853810264385692\n",
            "min_split = 48 : 0.7853810264385692\n",
            "min_split = 49 : 0.7853810264385692\n",
            "min_split = 50 : 0.7853810264385692\n",
            "min_split = 51 : 0.7853810264385692\n",
            "min_split = 52 : 0.7853810264385692\n",
            "min_split = 53 : 0.7853810264385692\n",
            "min_split = 54 : 0.7822706065318819\n",
            "min_split = 55 : 0.7822706065318819\n",
            "min_split = 56 : 0.7822706065318819\n",
            "min_split = 57 : 0.7822706065318819\n",
            "min_split = 58 : 0.7822706065318819\n",
            "min_split = 59 : 0.7822706065318819\n",
            "min_split = 60 : 0.7822706065318819\n",
            "min_split = 61 : 0.7822706065318819\n",
            "min_split = 62 : 0.7822706065318819\n",
            "min_split = 63 : 0.7822706065318819\n",
            "min_split = 64 : 0.7822706065318819\n",
            "min_split = 65 : 0.7822706065318819\n",
            "min_split = 66 : 0.7822706065318819\n",
            "min_split = 67 : 0.7822706065318819\n",
            "min_split = 68 : 0.7822706065318819\n",
            "min_split = 69 : 0.7838258164852255\n",
            "min_split = 70 : 0.7838258164852255\n",
            "min_split = 71 : 0.7853810264385692\n",
            "min_split = 72 : 0.7853810264385692\n",
            "min_split = 73 : 0.7853810264385692\n",
            "min_split = 74 : 0.7853810264385692\n",
            "min_split = 75 : 0.7853810264385692\n",
            "min_split = 76 : 0.7838258164852255\n",
            "min_split = 77 : 0.7853810264385692\n",
            "min_split = 78 : 0.7853810264385692\n",
            "min_split = 79 : 0.7853810264385692\n",
            "min_split = 80 : 0.7853810264385692\n",
            "min_split = 81 : 0.7853810264385692\n",
            "min_split = 82 : 0.7853810264385692\n",
            "min_split = 83 : 0.7853810264385692\n",
            "min_split = 84 : 0.7729393468118196\n",
            "min_split = 85 : 0.7729393468118196\n",
            "min_split = 86 : 0.776049766718507\n",
            "min_split = 87 : 0.776049766718507\n",
            "min_split = 88 : 0.776049766718507\n",
            "min_split = 89 : 0.776049766718507\n",
            "min_split = 90 : 0.776049766718507\n",
            "min_split = 91 : 0.776049766718507\n",
            "min_split = 92 : 0.776049766718507\n",
            "min_split = 93 : 0.776049766718507\n",
            "min_split = 94 : 0.776049766718507\n",
            "min_split = 95 : 0.776049766718507\n",
            "min_split = 96 : 0.776049766718507\n",
            "min_split = 97 : 0.776049766718507\n",
            "min_split = 98 : 0.776049766718507\n",
            "min_split = 99 : 0.776049766718507\n",
            "min_split = 100 : 0.7744945567651633\n",
            "min_split = 101 : 0.7744945567651633\n",
            "min_split = 102 : 0.7744945567651633\n",
            "min_split = 103 : 0.7744945567651633\n",
            "min_split = 104 : 0.7744945567651633\n",
            "min_split = 105 : 0.7744945567651633\n",
            "min_split = 106 : 0.7884914463452566\n",
            "min_split = 107 : 0.7884914463452566\n",
            "min_split = 108 : 0.7884914463452566\n",
            "min_split = 109 : 0.7884914463452566\n",
            "min_split = 110 : 0.7884914463452566\n",
            "min_split = 111 : 0.7884914463452566\n",
            "min_split = 112 : 0.7884914463452566\n",
            "min_split = 113 : 0.7884914463452566\n",
            "min_split = 114 : 0.7884914463452566\n",
            "min_split = 115 : 0.7884914463452566\n",
            "min_split = 116 : 0.7884914463452566\n",
            "min_split = 117 : 0.7884914463452566\n",
            "min_split = 118 : 0.7884914463452566\n",
            "min_split = 119 : 0.7900466562986003\n",
            "min_split = 120 : 0.7900466562986003\n",
            "min_split = 121 : 0.7900466562986003\n",
            "min_split = 122 : 0.7900466562986003\n",
            "min_split = 123 : 0.7900466562986003\n",
            "min_split = 124 : 0.7900466562986003\n",
            "min_split = 125 : 0.7900466562986003\n",
            "min_split = 126 : 0.7900466562986003\n",
            "min_split = 127 : 0.7900466562986003\n",
            "min_split = 128 : 0.7900466562986003\n",
            "min_split = 129 : 0.7900466562986003\n",
            "min_split = 130 : 0.7900466562986003\n",
            "min_split = 131 : 0.7900466562986003\n",
            "min_split = 132 : 0.7900466562986003\n",
            "min_split = 133 : 0.7900466562986003\n",
            "min_split = 134 : 0.7900466562986003\n",
            "min_split = 135 : 0.7900466562986003\n",
            "min_split = 136 : 0.7900466562986003\n",
            "min_split = 137 : 0.7900466562986003\n",
            "min_split = 138 : 0.7900466562986003\n",
            "min_split = 139 : 0.7900466562986003\n",
            "min_split = 140 : 0.7900466562986003\n",
            "min_split = 141 : 0.7900466562986003\n",
            "min_split = 142 : 0.7900466562986003\n",
            "min_split = 143 : 0.7900466562986003\n",
            "min_split = 144 : 0.7900466562986003\n",
            "min_split = 145 : 0.7900466562986003\n",
            "min_split = 146 : 0.7900466562986003\n",
            "min_split = 147 : 0.7900466562986003\n",
            "min_split = 148 : 0.7900466562986003\n",
            "min_split = 149 : 0.7900466562986003\n",
            "min_split = 150 : 0.7900466562986003\n",
            "min_split = 151 : 0.7900466562986003\n",
            "min_split = 152 : 0.7900466562986003\n",
            "min_split = 153 : 0.7900466562986003\n",
            "min_split = 154 : 0.7900466562986003\n",
            "min_split = 155 : 0.7900466562986003\n",
            "min_split = 156 : 0.7900466562986003\n",
            "min_split = 157 : 0.7900466562986003\n",
            "min_split = 158 : 0.7900466562986003\n",
            "min_split = 159 : 0.7900466562986003\n",
            "min_split = 160 : 0.7900466562986003\n",
            "min_split = 161 : 0.7900466562986003\n",
            "min_split = 162 : 0.7900466562986003\n",
            "min_split = 163 : 0.7900466562986003\n",
            "min_split = 164 : 0.7900466562986003\n",
            "min_split = 165 : 0.7900466562986003\n",
            "min_split = 166 : 0.7900466562986003\n",
            "min_split = 167 : 0.7900466562986003\n",
            "min_split = 168 : 0.7900466562986003\n",
            "min_split = 169 : 0.7900466562986003\n",
            "min_split = 170 : 0.7900466562986003\n",
            "min_split = 171 : 0.7900466562986003\n",
            "min_split = 172 : 0.7900466562986003\n",
            "min_split = 173 : 0.7900466562986003\n",
            "min_split = 174 : 0.7900466562986003\n",
            "min_split = 175 : 0.7900466562986003\n",
            "min_split = 176 : 0.7900466562986003\n",
            "min_split = 177 : 0.7900466562986003\n",
            "min_split = 178 : 0.7900466562986003\n",
            "min_split = 179 : 0.7900466562986003\n",
            "min_split = 180 : 0.7900466562986003\n",
            "min_split = 181 : 0.7900466562986003\n",
            "min_split = 182 : 0.7900466562986003\n",
            "min_split = 183 : 0.7900466562986003\n",
            "min_split = 184 : 0.7900466562986003\n",
            "min_split = 185 : 0.7900466562986003\n",
            "min_split = 186 : 0.7900466562986003\n",
            "min_split = 187 : 0.7900466562986003\n",
            "min_split = 188 : 0.7900466562986003\n",
            "min_split = 189 : 0.7900466562986003\n",
            "min_split = 190 : 0.7900466562986003\n",
            "min_split = 191 : 0.7900466562986003\n",
            "min_split = 192 : 0.7900466562986003\n",
            "min_split = 193 : 0.7900466562986003\n",
            "min_split = 194 : 0.7900466562986003\n",
            "min_split = 195 : 0.7900466562986003\n",
            "min_split = 196 : 0.7900466562986003\n",
            "min_split = 197 : 0.7900466562986003\n",
            "min_split = 198 : 0.7900466562986003\n",
            "min_split = 199 : 0.7900466562986003\n",
            "min_split = 200 : 0.7900466562986003\n"
          ]
        }
      ],
      "source": [
        "for min_split in range(2, 201):\n",
        "    model = DecisionTreeClassifier(random_state=12345, max_depth = 8, min_samples_split = min_split)\n",
        "\n",
        "    model.fit(X_train, y_train)\n",
        "\n",
        "    predictions_valid = model.predict(X_valid)\n",
        "\n",
        "    print(\"min_split =\", min_split, \": \", end='')\n",
        "    print(accuracy_score(y_valid, predictions_valid)) "
      ]
    },
    {
      "cell_type": "markdown",
      "metadata": {
        "id": "i226uPYnhYIO"
      },
      "source": [
        "Здесь качество модели наивысшее при минимальной выборке для разделения в 106 объектов. Подберём минимальную выборку на конечных \"листах\":"
      ]
    },
    {
      "cell_type": "code",
      "execution_count": 12,
      "metadata": {
        "colab": {
          "base_uri": "https://localhost:8080/"
        },
        "id": "e1Hj7yV_hYIO",
        "outputId": "6a93ea4b-4ca2-40d0-e039-7a42b55cbc7b"
      },
      "outputs": [
        {
          "output_type": "stream",
          "name": "stdout",
          "text": [
            "min_leaf = 1 : 0.7884914463452566\n",
            "min_leaf = 2 : 0.7884914463452566\n",
            "min_leaf = 3 : 0.7884914463452566\n",
            "min_leaf = 4 : 0.7900466562986003\n",
            "min_leaf = 5 : 0.7900466562986003\n",
            "min_leaf = 6 : 0.7916018662519441\n",
            "min_leaf = 7 : 0.7916018662519441\n",
            "min_leaf = 8 : 0.7916018662519441\n",
            "min_leaf = 9 : 0.7916018662519441\n",
            "min_leaf = 10 : 0.7916018662519441\n",
            "min_leaf = 11 : 0.7916018662519441\n",
            "min_leaf = 12 : 0.7900466562986003\n",
            "min_leaf = 13 : 0.7900466562986003\n",
            "min_leaf = 14 : 0.7931570762052877\n",
            "min_leaf = 15 : 0.7931570762052877\n",
            "min_leaf = 16 : 0.7931570762052877\n",
            "min_leaf = 17 : 0.7931570762052877\n",
            "min_leaf = 18 : 0.7931570762052877\n",
            "min_leaf = 19 : 0.7931570762052877\n",
            "min_leaf = 20 : 0.7931570762052877\n",
            "min_leaf = 21 : 0.7931570762052877\n",
            "min_leaf = 22 : 0.7931570762052877\n",
            "min_leaf = 23 : 0.7916018662519441\n",
            "min_leaf = 24 : 0.7869362363919129\n",
            "min_leaf = 25 : 0.7869362363919129\n",
            "min_leaf = 26 : 0.7869362363919129\n",
            "min_leaf = 27 : 0.7869362363919129\n",
            "min_leaf = 28 : 0.7869362363919129\n",
            "min_leaf = 29 : 0.7869362363919129\n",
            "min_leaf = 30 : 0.7869362363919129\n",
            "min_leaf = 31 : 0.7869362363919129\n",
            "min_leaf = 32 : 0.7869362363919129\n",
            "min_leaf = 33 : 0.7869362363919129\n",
            "min_leaf = 34 : 0.7869362363919129\n",
            "min_leaf = 35 : 0.7869362363919129\n",
            "min_leaf = 36 : 0.7869362363919129\n",
            "min_leaf = 37 : 0.7869362363919129\n",
            "min_leaf = 38 : 0.7869362363919129\n",
            "min_leaf = 39 : 0.7869362363919129\n",
            "min_leaf = 40 : 0.7869362363919129\n",
            "min_leaf = 41 : 0.7869362363919129\n",
            "min_leaf = 42 : 0.7869362363919129\n",
            "min_leaf = 43 : 0.7869362363919129\n",
            "min_leaf = 44 : 0.7869362363919129\n",
            "min_leaf = 45 : 0.7869362363919129\n",
            "min_leaf = 46 : 0.7869362363919129\n",
            "min_leaf = 47 : 0.7869362363919129\n",
            "min_leaf = 48 : 0.7869362363919129\n",
            "min_leaf = 49 : 0.7869362363919129\n",
            "min_leaf = 50 : 0.7869362363919129\n",
            "min_leaf = 51 : 0.7869362363919129\n",
            "min_leaf = 52 : 0.7869362363919129\n",
            "min_leaf = 53 : 0.7869362363919129\n",
            "min_leaf = 54 : 0.7822706065318819\n",
            "min_leaf = 55 : 0.7822706065318819\n",
            "min_leaf = 56 : 0.7822706065318819\n",
            "min_leaf = 57 : 0.7822706065318819\n",
            "min_leaf = 58 : 0.7822706065318819\n",
            "min_leaf = 59 : 0.7822706065318819\n",
            "min_leaf = 60 : 0.7884914463452566\n",
            "min_leaf = 61 : 0.7822706065318819\n",
            "min_leaf = 62 : 0.7822706065318819\n",
            "min_leaf = 63 : 0.7822706065318819\n",
            "min_leaf = 64 : 0.7822706065318819\n",
            "min_leaf = 65 : 0.7807153965785381\n",
            "min_leaf = 66 : 0.7807153965785381\n",
            "min_leaf = 67 : 0.7822706065318819\n",
            "min_leaf = 68 : 0.7822706065318819\n",
            "min_leaf = 69 : 0.7822706065318819\n",
            "min_leaf = 70 : 0.7822706065318819\n",
            "min_leaf = 71 : 0.7822706065318819\n",
            "min_leaf = 72 : 0.7822706065318819\n",
            "min_leaf = 73 : 0.7822706065318819\n",
            "min_leaf = 74 : 0.7822706065318819\n",
            "min_leaf = 75 : 0.7822706065318819\n",
            "min_leaf = 76 : 0.7822706065318819\n",
            "min_leaf = 77 : 0.7822706065318819\n",
            "min_leaf = 78 : 0.7822706065318819\n",
            "min_leaf = 79 : 0.7822706065318819\n",
            "min_leaf = 80 : 0.7822706065318819\n",
            "min_leaf = 81 : 0.7822706065318819\n",
            "min_leaf = 82 : 0.7822706065318819\n",
            "min_leaf = 83 : 0.7822706065318819\n",
            "min_leaf = 84 : 0.7822706065318819\n",
            "min_leaf = 85 : 0.7822706065318819\n",
            "min_leaf = 86 : 0.7822706065318819\n",
            "min_leaf = 87 : 0.7822706065318819\n",
            "min_leaf = 88 : 0.7822706065318819\n",
            "min_leaf = 89 : 0.7822706065318819\n",
            "min_leaf = 90 : 0.7822706065318819\n",
            "min_leaf = 91 : 0.7822706065318819\n",
            "min_leaf = 92 : 0.7822706065318819\n",
            "min_leaf = 93 : 0.7822706065318819\n",
            "min_leaf = 94 : 0.7822706065318819\n",
            "min_leaf = 95 : 0.7822706065318819\n",
            "min_leaf = 96 : 0.7822706065318819\n",
            "min_leaf = 97 : 0.7822706065318819\n",
            "min_leaf = 98 : 0.7822706065318819\n",
            "min_leaf = 99 : 0.7822706065318819\n",
            "min_leaf = 100 : 0.7822706065318819\n",
            "min_leaf = 101 : 0.7822706065318819\n",
            "min_leaf = 102 : 0.7822706065318819\n",
            "min_leaf = 103 : 0.7822706065318819\n",
            "min_leaf = 104 : 0.7822706065318819\n",
            "min_leaf = 105 : 0.7822706065318819\n",
            "min_leaf = 106 : 0.7822706065318819\n",
            "min_leaf = 107 : 0.7822706065318819\n",
            "min_leaf = 108 : 0.7822706065318819\n",
            "min_leaf = 109 : 0.7822706065318819\n",
            "min_leaf = 110 : 0.7822706065318819\n",
            "min_leaf = 111 : 0.7822706065318819\n",
            "min_leaf = 112 : 0.7822706065318819\n",
            "min_leaf = 113 : 0.7822706065318819\n",
            "min_leaf = 114 : 0.7822706065318819\n",
            "min_leaf = 115 : 0.7822706065318819\n",
            "min_leaf = 116 : 0.7822706065318819\n",
            "min_leaf = 117 : 0.7822706065318819\n",
            "min_leaf = 118 : 0.7822706065318819\n",
            "min_leaf = 119 : 0.7822706065318819\n",
            "min_leaf = 120 : 0.7822706065318819\n",
            "min_leaf = 121 : 0.7822706065318819\n",
            "min_leaf = 122 : 0.7822706065318819\n",
            "min_leaf = 123 : 0.7822706065318819\n",
            "min_leaf = 124 : 0.7822706065318819\n",
            "min_leaf = 125 : 0.7822706065318819\n",
            "min_leaf = 126 : 0.7822706065318819\n",
            "min_leaf = 127 : 0.7822706065318819\n",
            "min_leaf = 128 : 0.7822706065318819\n",
            "min_leaf = 129 : 0.7822706065318819\n",
            "min_leaf = 130 : 0.7822706065318819\n",
            "min_leaf = 131 : 0.7822706065318819\n",
            "min_leaf = 132 : 0.7822706065318819\n",
            "min_leaf = 133 : 0.7822706065318819\n",
            "min_leaf = 134 : 0.776049766718507\n",
            "min_leaf = 135 : 0.776049766718507\n",
            "min_leaf = 136 : 0.776049766718507\n",
            "min_leaf = 137 : 0.776049766718507\n",
            "min_leaf = 138 : 0.776049766718507\n",
            "min_leaf = 139 : 0.776049766718507\n",
            "min_leaf = 140 : 0.776049766718507\n",
            "min_leaf = 141 : 0.7776049766718507\n",
            "min_leaf = 142 : 0.7776049766718507\n",
            "min_leaf = 143 : 0.776049766718507\n",
            "min_leaf = 144 : 0.776049766718507\n",
            "min_leaf = 145 : 0.776049766718507\n",
            "min_leaf = 146 : 0.776049766718507\n",
            "min_leaf = 147 : 0.776049766718507\n",
            "min_leaf = 148 : 0.7729393468118196\n",
            "min_leaf = 149 : 0.7729393468118196\n",
            "min_leaf = 150 : 0.7729393468118196\n",
            "min_leaf = 151 : 0.7713841368584758\n",
            "min_leaf = 152 : 0.7713841368584758\n",
            "min_leaf = 153 : 0.7713841368584758\n",
            "min_leaf = 154 : 0.7713841368584758\n",
            "min_leaf = 155 : 0.7713841368584758\n",
            "min_leaf = 156 : 0.7713841368584758\n",
            "min_leaf = 157 : 0.7713841368584758\n",
            "min_leaf = 158 : 0.7713841368584758\n",
            "min_leaf = 159 : 0.7713841368584758\n",
            "min_leaf = 160 : 0.7713841368584758\n",
            "min_leaf = 161 : 0.7713841368584758\n",
            "min_leaf = 162 : 0.7713841368584758\n",
            "min_leaf = 163 : 0.7713841368584758\n",
            "min_leaf = 164 : 0.7713841368584758\n",
            "min_leaf = 165 : 0.7713841368584758\n",
            "min_leaf = 166 : 0.7713841368584758\n",
            "min_leaf = 167 : 0.7713841368584758\n",
            "min_leaf = 168 : 0.7713841368584758\n",
            "min_leaf = 169 : 0.7729393468118196\n",
            "min_leaf = 170 : 0.7729393468118196\n",
            "min_leaf = 171 : 0.7729393468118196\n",
            "min_leaf = 172 : 0.7729393468118196\n",
            "min_leaf = 173 : 0.7729393468118196\n",
            "min_leaf = 174 : 0.7620528771384136\n",
            "min_leaf = 175 : 0.7620528771384136\n",
            "min_leaf = 176 : 0.7620528771384136\n",
            "min_leaf = 177 : 0.7620528771384136\n",
            "min_leaf = 178 : 0.7620528771384136\n",
            "min_leaf = 179 : 0.7620528771384136\n",
            "min_leaf = 180 : 0.7620528771384136\n",
            "min_leaf = 181 : 0.7620528771384136\n",
            "min_leaf = 182 : 0.7620528771384136\n",
            "min_leaf = 183 : 0.7620528771384136\n",
            "min_leaf = 184 : 0.7620528771384136\n",
            "min_leaf = 185 : 0.7620528771384136\n",
            "min_leaf = 186 : 0.7620528771384136\n",
            "min_leaf = 187 : 0.7620528771384136\n",
            "min_leaf = 188 : 0.7620528771384136\n",
            "min_leaf = 189 : 0.7620528771384136\n",
            "min_leaf = 190 : 0.7620528771384136\n",
            "min_leaf = 191 : 0.7620528771384136\n",
            "min_leaf = 192 : 0.7636080870917574\n",
            "min_leaf = 193 : 0.7636080870917574\n",
            "min_leaf = 194 : 0.7636080870917574\n",
            "min_leaf = 195 : 0.7636080870917574\n",
            "min_leaf = 196 : 0.7636080870917574\n",
            "min_leaf = 197 : 0.7636080870917574\n",
            "min_leaf = 198 : 0.7636080870917574\n",
            "min_leaf = 199 : 0.7636080870917574\n",
            "min_leaf = 200 : 0.7636080870917574\n"
          ]
        }
      ],
      "source": [
        "for min_leaf in range(1, 201):\n",
        "    model = DecisionTreeClassifier(random_state=12345, max_depth = 8, min_samples_split = 106, min_samples_leaf = min_leaf)\n",
        "\n",
        "    model.fit(X_train, y_train)\n",
        "\n",
        "    predictions_valid = model.predict(X_valid)\n",
        "\n",
        "    print(\"min_leaf =\", min_leaf, \": \", end='')\n",
        "    print(accuracy_score(y_valid, predictions_valid)) "
      ]
    },
    {
      "cell_type": "markdown",
      "metadata": {
        "id": "sTwJIVkYhYIO"
      },
      "source": [
        "Данный параметр не увеличивает accuracy, поэтому его указывать как ограничение не будем."
      ]
    },
    {
      "cell_type": "code",
      "execution_count": 13,
      "metadata": {
        "colab": {
          "base_uri": "https://localhost:8080/"
        },
        "id": "Cguj7jvvhYIP",
        "outputId": "a64fcf7e-8720-49aa-d343-118757915cb2"
      },
      "outputs": [
        {
          "output_type": "stream",
          "name": "stdout",
          "text": [
            "accuracy: 0.7884914463452566\n"
          ]
        }
      ],
      "source": [
        "model_tree = DecisionTreeClassifier(max_depth=8,  min_samples_split = 106, random_state=12345)\n",
        "model_tree.fit(X_train, y_train)\n",
        "predictions_valid = model_tree.predict(X_valid)\n",
        "print('accuracy:', accuracy_score(y_valid, predictions_valid))"
      ]
    },
    {
      "cell_type": "markdown",
      "metadata": {
        "id": "d-aWeO13hYIP"
      },
      "source": [
        "Нам удалось достичь accuracy 80,4%. Перейдём к следующей модели."
      ]
    },
    {
      "cell_type": "markdown",
      "metadata": {
        "id": "5NHS42Y9hYIQ"
      },
      "source": [
        "### Случайный лес"
      ]
    },
    {
      "cell_type": "markdown",
      "metadata": {
        "id": "ZC2pVRCThYIQ"
      },
      "source": [
        "Определим лучшее количество estimators в новой модели:"
      ]
    },
    {
      "cell_type": "code",
      "execution_count": 14,
      "metadata": {
        "colab": {
          "base_uri": "https://localhost:8080/"
        },
        "id": "iNNvX5YdhYIQ",
        "outputId": "65b6f77a-be85-434c-9032-3b4d5b687ccb"
      },
      "outputs": [
        {
          "output_type": "stream",
          "name": "stdout",
          "text": [
            "n_estimators = 100 : 0.7713841368584758\n",
            "n_estimators = 101 : 0.7698289269051322\n",
            "n_estimators = 102 : 0.7729393468118196\n",
            "n_estimators = 103 : 0.7713841368584758\n",
            "n_estimators = 104 : 0.7729393468118196\n",
            "n_estimators = 105 : 0.7698289269051322\n",
            "n_estimators = 106 : 0.7744945567651633\n",
            "n_estimators = 107 : 0.7713841368584758\n",
            "n_estimators = 108 : 0.7744945567651633\n",
            "n_estimators = 109 : 0.7667185069984448\n",
            "n_estimators = 110 : 0.7698289269051322\n",
            "n_estimators = 111 : 0.7698289269051322\n",
            "n_estimators = 112 : 0.7698289269051322\n",
            "n_estimators = 113 : 0.7698289269051322\n",
            "n_estimators = 114 : 0.7698289269051322\n",
            "n_estimators = 115 : 0.7698289269051322\n",
            "n_estimators = 116 : 0.7729393468118196\n",
            "n_estimators = 117 : 0.7682737169517885\n",
            "n_estimators = 118 : 0.7713841368584758\n",
            "n_estimators = 119 : 0.7713841368584758\n",
            "n_estimators = 120 : 0.7744945567651633\n",
            "n_estimators = 121 : 0.7713841368584758\n",
            "n_estimators = 122 : 0.7713841368584758\n",
            "n_estimators = 123 : 0.7729393468118196\n",
            "n_estimators = 124 : 0.7698289269051322\n",
            "n_estimators = 125 : 0.7698289269051322\n",
            "n_estimators = 126 : 0.7713841368584758\n",
            "n_estimators = 127 : 0.7698289269051322\n",
            "n_estimators = 128 : 0.7698289269051322\n",
            "n_estimators = 129 : 0.7713841368584758\n",
            "n_estimators = 130 : 0.776049766718507\n",
            "n_estimators = 131 : 0.776049766718507\n",
            "n_estimators = 132 : 0.7776049766718507\n",
            "n_estimators = 133 : 0.7776049766718507\n",
            "n_estimators = 134 : 0.7776049766718507\n",
            "n_estimators = 135 : 0.7776049766718507\n",
            "n_estimators = 136 : 0.7776049766718507\n",
            "n_estimators = 137 : 0.776049766718507\n",
            "n_estimators = 138 : 0.7744945567651633\n",
            "n_estimators = 139 : 0.7744945567651633\n",
            "n_estimators = 140 : 0.7729393468118196\n",
            "n_estimators = 141 : 0.7729393468118196\n",
            "n_estimators = 142 : 0.7713841368584758\n",
            "n_estimators = 143 : 0.7729393468118196\n",
            "n_estimators = 144 : 0.7698289269051322\n",
            "n_estimators = 145 : 0.7713841368584758\n",
            "n_estimators = 146 : 0.7682737169517885\n",
            "n_estimators = 147 : 0.7682737169517885\n",
            "n_estimators = 148 : 0.7682737169517885\n",
            "n_estimators = 149 : 0.7682737169517885\n",
            "n_estimators = 150 : 0.7682737169517885\n",
            "n_estimators = 151 : 0.7713841368584758\n",
            "n_estimators = 152 : 0.7682737169517885\n",
            "n_estimators = 153 : 0.7698289269051322\n",
            "n_estimators = 154 : 0.7682737169517885\n",
            "n_estimators = 155 : 0.7682737169517885\n",
            "n_estimators = 156 : 0.7682737169517885\n",
            "n_estimators = 157 : 0.7682737169517885\n",
            "n_estimators = 158 : 0.7682737169517885\n",
            "n_estimators = 159 : 0.7682737169517885\n",
            "n_estimators = 160 : 0.7682737169517885\n",
            "n_estimators = 161 : 0.7667185069984448\n",
            "n_estimators = 162 : 0.7682737169517885\n",
            "n_estimators = 163 : 0.7667185069984448\n",
            "n_estimators = 164 : 0.7682737169517885\n",
            "n_estimators = 165 : 0.7682737169517885\n",
            "n_estimators = 166 : 0.7682737169517885\n",
            "n_estimators = 167 : 0.7682737169517885\n",
            "n_estimators = 168 : 0.7682737169517885\n",
            "n_estimators = 169 : 0.7667185069984448\n",
            "n_estimators = 170 : 0.7682737169517885\n",
            "n_estimators = 171 : 0.7667185069984448\n",
            "n_estimators = 172 : 0.7667185069984448\n",
            "n_estimators = 173 : 0.7667185069984448\n",
            "n_estimators = 174 : 0.7651632970451011\n",
            "n_estimators = 175 : 0.7667185069984448\n",
            "n_estimators = 176 : 0.7651632970451011\n",
            "n_estimators = 177 : 0.7651632970451011\n",
            "n_estimators = 178 : 0.7651632970451011\n",
            "n_estimators = 179 : 0.7651632970451011\n",
            "n_estimators = 180 : 0.7651632970451011\n",
            "n_estimators = 181 : 0.7636080870917574\n",
            "n_estimators = 182 : 0.7651632970451011\n",
            "n_estimators = 183 : 0.7651632970451011\n",
            "n_estimators = 184 : 0.7651632970451011\n",
            "n_estimators = 185 : 0.7651632970451011\n",
            "n_estimators = 186 : 0.7651632970451011\n",
            "n_estimators = 187 : 0.7620528771384136\n",
            "n_estimators = 188 : 0.7620528771384136\n",
            "n_estimators = 189 : 0.7620528771384136\n",
            "n_estimators = 190 : 0.7651632970451011\n",
            "n_estimators = 191 : 0.7620528771384136\n",
            "n_estimators = 192 : 0.7636080870917574\n",
            "n_estimators = 193 : 0.7620528771384136\n",
            "n_estimators = 194 : 0.7620528771384136\n",
            "n_estimators = 195 : 0.7620528771384136\n",
            "n_estimators = 196 : 0.7636080870917574\n",
            "n_estimators = 197 : 0.7636080870917574\n",
            "n_estimators = 198 : 0.7636080870917574\n",
            "n_estimators = 199 : 0.7636080870917574\n",
            "n_estimators = 200 : 0.7651632970451011\n",
            "n_estimators = 201 : 0.7620528771384136\n",
            "n_estimators = 202 : 0.7636080870917574\n",
            "n_estimators = 203 : 0.7620528771384136\n",
            "n_estimators = 204 : 0.7620528771384136\n",
            "n_estimators = 205 : 0.76049766718507\n",
            "n_estimators = 206 : 0.7636080870917574\n",
            "n_estimators = 207 : 0.76049766718507\n",
            "n_estimators = 208 : 0.7651632970451011\n",
            "n_estimators = 209 : 0.7620528771384136\n",
            "n_estimators = 210 : 0.7620528771384136\n",
            "n_estimators = 211 : 0.7589424572317263\n",
            "n_estimators = 212 : 0.76049766718507\n",
            "n_estimators = 213 : 0.76049766718507\n",
            "n_estimators = 214 : 0.76049766718507\n",
            "n_estimators = 215 : 0.7589424572317263\n",
            "n_estimators = 216 : 0.7589424572317263\n",
            "n_estimators = 217 : 0.7589424572317263\n",
            "n_estimators = 218 : 0.7589424572317263\n",
            "n_estimators = 219 : 0.7589424572317263\n",
            "n_estimators = 220 : 0.7589424572317263\n",
            "n_estimators = 221 : 0.7589424572317263\n",
            "n_estimators = 222 : 0.7589424572317263\n",
            "n_estimators = 223 : 0.7589424572317263\n",
            "n_estimators = 224 : 0.7589424572317263\n",
            "n_estimators = 225 : 0.7589424572317263\n",
            "n_estimators = 226 : 0.76049766718507\n",
            "n_estimators = 227 : 0.76049766718507\n",
            "n_estimators = 228 : 0.7620528771384136\n",
            "n_estimators = 229 : 0.76049766718507\n",
            "n_estimators = 230 : 0.7636080870917574\n",
            "n_estimators = 231 : 0.7620528771384136\n",
            "n_estimators = 232 : 0.7620528771384136\n",
            "n_estimators = 233 : 0.7589424572317263\n",
            "n_estimators = 234 : 0.7620528771384136\n",
            "n_estimators = 235 : 0.76049766718507\n",
            "n_estimators = 236 : 0.7620528771384136\n",
            "n_estimators = 237 : 0.7589424572317263\n",
            "n_estimators = 238 : 0.76049766718507\n",
            "n_estimators = 239 : 0.76049766718507\n",
            "n_estimators = 240 : 0.76049766718507\n",
            "n_estimators = 241 : 0.7589424572317263\n",
            "n_estimators = 242 : 0.7589424572317263\n",
            "n_estimators = 243 : 0.7573872472783826\n",
            "n_estimators = 244 : 0.7573872472783826\n",
            "n_estimators = 245 : 0.7573872472783826\n",
            "n_estimators = 246 : 0.7589424572317263\n",
            "n_estimators = 247 : 0.7573872472783826\n",
            "n_estimators = 248 : 0.7573872472783826\n",
            "n_estimators = 249 : 0.7573872472783826\n",
            "n_estimators = 250 : 0.76049766718507\n"
          ]
        }
      ],
      "source": [
        "for est in range(100, 251):\n",
        "    model = RandomForestClassifier(random_state=12345, n_estimators=est)\n",
        "    model.fit(X_train, y_train)\n",
        "    predictions_valid = model.predict(X_valid)\n",
        "    print(\"n_estimators =\", est, \": \", end='')\n",
        "    print(accuracy_score(y_valid, predictions_valid)) "
      ]
    },
    {
      "cell_type": "markdown",
      "metadata": {
        "id": "zlD3s4pGhYIR"
      },
      "source": [
        "Лучшее число estimators - 183. Найдём лучшую максимальную глубину деревьев:"
      ]
    },
    {
      "cell_type": "code",
      "execution_count": 15,
      "metadata": {
        "colab": {
          "base_uri": "https://localhost:8080/"
        },
        "id": "cZ8znhyehYIR",
        "outputId": "eb92a6f5-b06d-4140-9709-4d9717623438"
      },
      "outputs": [
        {
          "output_type": "stream",
          "name": "stdout",
          "text": [
            "max_depth = 1 : 0.7511664074650077\n",
            "max_depth = 2 : 0.7884914463452566\n",
            "max_depth = 3 : 0.7884914463452566\n",
            "max_depth = 4 : 0.7900466562986003\n",
            "max_depth = 5 : 0.7947122861586314\n",
            "max_depth = 6 : 0.7947122861586314\n",
            "max_depth = 7 : 0.7853810264385692\n",
            "max_depth = 8 : 0.7869362363919129\n",
            "max_depth = 9 : 0.7853810264385692\n",
            "max_depth = 10 : 0.7807153965785381\n",
            "max_depth = 11 : 0.7869362363919129\n",
            "max_depth = 12 : 0.7853810264385692\n",
            "max_depth = 13 : 0.7791601866251944\n",
            "max_depth = 14 : 0.7822706065318819\n",
            "max_depth = 15 : 0.7822706065318819\n",
            "max_depth = 16 : 0.7776049766718507\n",
            "max_depth = 17 : 0.7698289269051322\n",
            "max_depth = 18 : 0.7682737169517885\n",
            "max_depth = 19 : 0.7682737169517885\n",
            "max_depth = 20 : 0.7744945567651633\n",
            "max_depth = 21 : 0.7713841368584758\n",
            "max_depth = 22 : 0.7713841368584758\n",
            "max_depth = 23 : 0.7698289269051322\n",
            "max_depth = 24 : 0.7636080870917574\n",
            "max_depth = 25 : 0.76049766718507\n",
            "max_depth = 26 : 0.7620528771384136\n",
            "max_depth = 27 : 0.7729393468118196\n",
            "max_depth = 28 : 0.7667185069984448\n",
            "max_depth = 29 : 0.7667185069984448\n",
            "max_depth = 30 : 0.7636080870917574\n",
            "max_depth = 31 : 0.7651632970451011\n",
            "max_depth = 32 : 0.7682737169517885\n",
            "max_depth = 33 : 0.7636080870917574\n",
            "max_depth = 34 : 0.7651632970451011\n",
            "max_depth = 35 : 0.7636080870917574\n",
            "max_depth = 36 : 0.7651632970451011\n",
            "max_depth = 37 : 0.7651632970451011\n",
            "max_depth = 38 : 0.7667185069984448\n",
            "max_depth = 39 : 0.7636080870917574\n",
            "max_depth = 40 : 0.7651632970451011\n",
            "max_depth = 41 : 0.7651632970451011\n",
            "max_depth = 42 : 0.7651632970451011\n",
            "max_depth = 43 : 0.7651632970451011\n",
            "max_depth = 44 : 0.7651632970451011\n",
            "max_depth = 45 : 0.7651632970451011\n",
            "max_depth = 46 : 0.7651632970451011\n",
            "max_depth = 47 : 0.7651632970451011\n",
            "max_depth = 48 : 0.7651632970451011\n",
            "max_depth = 49 : 0.7651632970451011\n",
            "max_depth = 50 : 0.7651632970451011\n",
            "max_depth = 51 : 0.7651632970451011\n",
            "max_depth = 52 : 0.7651632970451011\n",
            "max_depth = 53 : 0.7651632970451011\n",
            "max_depth = 54 : 0.7651632970451011\n",
            "max_depth = 55 : 0.7651632970451011\n",
            "max_depth = 56 : 0.7651632970451011\n",
            "max_depth = 57 : 0.7651632970451011\n",
            "max_depth = 58 : 0.7651632970451011\n",
            "max_depth = 59 : 0.7651632970451011\n",
            "max_depth = 60 : 0.7651632970451011\n",
            "max_depth = 61 : 0.7651632970451011\n",
            "max_depth = 62 : 0.7651632970451011\n",
            "max_depth = 63 : 0.7651632970451011\n",
            "max_depth = 64 : 0.7651632970451011\n",
            "max_depth = 65 : 0.7651632970451011\n",
            "max_depth = 66 : 0.7651632970451011\n",
            "max_depth = 67 : 0.7651632970451011\n",
            "max_depth = 68 : 0.7651632970451011\n",
            "max_depth = 69 : 0.7651632970451011\n",
            "max_depth = 70 : 0.7651632970451011\n",
            "max_depth = 71 : 0.7651632970451011\n",
            "max_depth = 72 : 0.7651632970451011\n",
            "max_depth = 73 : 0.7651632970451011\n",
            "max_depth = 74 : 0.7651632970451011\n",
            "max_depth = 75 : 0.7651632970451011\n",
            "max_depth = 76 : 0.7651632970451011\n",
            "max_depth = 77 : 0.7651632970451011\n",
            "max_depth = 78 : 0.7651632970451011\n",
            "max_depth = 79 : 0.7651632970451011\n",
            "max_depth = 80 : 0.7651632970451011\n",
            "max_depth = 81 : 0.7651632970451011\n",
            "max_depth = 82 : 0.7651632970451011\n",
            "max_depth = 83 : 0.7651632970451011\n",
            "max_depth = 84 : 0.7651632970451011\n",
            "max_depth = 85 : 0.7651632970451011\n",
            "max_depth = 86 : 0.7651632970451011\n",
            "max_depth = 87 : 0.7651632970451011\n",
            "max_depth = 88 : 0.7651632970451011\n",
            "max_depth = 89 : 0.7651632970451011\n",
            "max_depth = 90 : 0.7651632970451011\n",
            "max_depth = 91 : 0.7651632970451011\n",
            "max_depth = 92 : 0.7651632970451011\n",
            "max_depth = 93 : 0.7651632970451011\n",
            "max_depth = 94 : 0.7651632970451011\n",
            "max_depth = 95 : 0.7651632970451011\n",
            "max_depth = 96 : 0.7651632970451011\n",
            "max_depth = 97 : 0.7651632970451011\n",
            "max_depth = 98 : 0.7651632970451011\n",
            "max_depth = 99 : 0.7651632970451011\n",
            "max_depth = 100 : 0.7651632970451011\n",
            "max_depth = 101 : 0.7651632970451011\n",
            "max_depth = 102 : 0.7651632970451011\n",
            "max_depth = 103 : 0.7651632970451011\n",
            "max_depth = 104 : 0.7651632970451011\n",
            "max_depth = 105 : 0.7651632970451011\n",
            "max_depth = 106 : 0.7651632970451011\n",
            "max_depth = 107 : 0.7651632970451011\n",
            "max_depth = 108 : 0.7651632970451011\n",
            "max_depth = 109 : 0.7651632970451011\n",
            "max_depth = 110 : 0.7651632970451011\n",
            "max_depth = 111 : 0.7651632970451011\n",
            "max_depth = 112 : 0.7651632970451011\n",
            "max_depth = 113 : 0.7651632970451011\n",
            "max_depth = 114 : 0.7651632970451011\n",
            "max_depth = 115 : 0.7651632970451011\n",
            "max_depth = 116 : 0.7651632970451011\n",
            "max_depth = 117 : 0.7651632970451011\n",
            "max_depth = 118 : 0.7651632970451011\n",
            "max_depth = 119 : 0.7651632970451011\n",
            "max_depth = 120 : 0.7651632970451011\n",
            "max_depth = 121 : 0.7651632970451011\n",
            "max_depth = 122 : 0.7651632970451011\n",
            "max_depth = 123 : 0.7651632970451011\n",
            "max_depth = 124 : 0.7651632970451011\n",
            "max_depth = 125 : 0.7651632970451011\n",
            "max_depth = 126 : 0.7651632970451011\n",
            "max_depth = 127 : 0.7651632970451011\n",
            "max_depth = 128 : 0.7651632970451011\n",
            "max_depth = 129 : 0.7651632970451011\n",
            "max_depth = 130 : 0.7651632970451011\n",
            "max_depth = 131 : 0.7651632970451011\n",
            "max_depth = 132 : 0.7651632970451011\n",
            "max_depth = 133 : 0.7651632970451011\n",
            "max_depth = 134 : 0.7651632970451011\n",
            "max_depth = 135 : 0.7651632970451011\n",
            "max_depth = 136 : 0.7651632970451011\n",
            "max_depth = 137 : 0.7651632970451011\n",
            "max_depth = 138 : 0.7651632970451011\n",
            "max_depth = 139 : 0.7651632970451011\n",
            "max_depth = 140 : 0.7651632970451011\n",
            "max_depth = 141 : 0.7651632970451011\n",
            "max_depth = 142 : 0.7651632970451011\n",
            "max_depth = 143 : 0.7651632970451011\n",
            "max_depth = 144 : 0.7651632970451011\n",
            "max_depth = 145 : 0.7651632970451011\n",
            "max_depth = 146 : 0.7651632970451011\n",
            "max_depth = 147 : 0.7651632970451011\n",
            "max_depth = 148 : 0.7651632970451011\n",
            "max_depth = 149 : 0.7651632970451011\n",
            "max_depth = 150 : 0.7651632970451011\n"
          ]
        }
      ],
      "source": [
        "for depth in range(1, 151):\n",
        "    model = RandomForestClassifier(random_state=12345, n_estimators=183, max_depth=depth)\n",
        "    model.fit(X_train, y_train)\n",
        "    predictions_valid = model.predict(X_valid)\n",
        "    print(\"max_depth =\", depth, \": \", end='')\n",
        "    print(accuracy_score(y_valid, predictions_valid)) "
      ]
    },
    {
      "cell_type": "markdown",
      "metadata": {
        "id": "DzX8aiTihYIS"
      },
      "source": [
        "Здесь лучшая максимальная глубина - 10. Подберём ещё один параметр, например min_samples_leaf."
      ]
    },
    {
      "cell_type": "code",
      "execution_count": 16,
      "metadata": {
        "colab": {
          "base_uri": "https://localhost:8080/"
        },
        "id": "8TFz7QgHhYIS",
        "outputId": "062d9cff-586b-457e-93fe-7c9629375a2d"
      },
      "outputs": [
        {
          "output_type": "stream",
          "name": "stdout",
          "text": [
            "min_leaf = 1 : 0.7807153965785381\n",
            "min_leaf = 2 : 0.7869362363919129\n",
            "min_leaf = 3 : 0.7884914463452566\n",
            "min_leaf = 4 : 0.7947122861586314\n",
            "min_leaf = 5 : 0.7931570762052877\n",
            "min_leaf = 6 : 0.7931570762052877\n",
            "min_leaf = 7 : 0.7916018662519441\n",
            "min_leaf = 8 : 0.7947122861586314\n",
            "min_leaf = 9 : 0.7978227060653188\n",
            "min_leaf = 10 : 0.8009331259720062\n",
            "min_leaf = 11 : 0.8009331259720062\n",
            "min_leaf = 12 : 0.8055987558320373\n",
            "min_leaf = 13 : 0.8009331259720062\n",
            "min_leaf = 14 : 0.7993779160186625\n",
            "min_leaf = 15 : 0.8009331259720062\n",
            "min_leaf = 16 : 0.80248833592535\n",
            "min_leaf = 17 : 0.8055987558320373\n",
            "min_leaf = 18 : 0.8009331259720062\n",
            "min_leaf = 19 : 0.7978227060653188\n",
            "min_leaf = 20 : 0.7962674961119751\n",
            "min_leaf = 21 : 0.7962674961119751\n",
            "min_leaf = 22 : 0.7947122861586314\n",
            "min_leaf = 23 : 0.7962674961119751\n",
            "min_leaf = 24 : 0.7931570762052877\n",
            "min_leaf = 25 : 0.7947122861586314\n",
            "min_leaf = 26 : 0.7947122861586314\n",
            "min_leaf = 27 : 0.7947122861586314\n",
            "min_leaf = 28 : 0.7916018662519441\n",
            "min_leaf = 29 : 0.7947122861586314\n",
            "min_leaf = 30 : 0.7916018662519441\n",
            "min_leaf = 31 : 0.7869362363919129\n",
            "min_leaf = 32 : 0.7884914463452566\n",
            "min_leaf = 33 : 0.7838258164852255\n",
            "min_leaf = 34 : 0.7869362363919129\n",
            "min_leaf = 35 : 0.7884914463452566\n",
            "min_leaf = 36 : 0.7884914463452566\n",
            "min_leaf = 37 : 0.7900466562986003\n",
            "min_leaf = 38 : 0.7884914463452566\n",
            "min_leaf = 39 : 0.7869362363919129\n",
            "min_leaf = 40 : 0.7869362363919129\n",
            "min_leaf = 41 : 0.7884914463452566\n",
            "min_leaf = 42 : 0.7884914463452566\n",
            "min_leaf = 43 : 0.7869362363919129\n",
            "min_leaf = 44 : 0.7853810264385692\n",
            "min_leaf = 45 : 0.7838258164852255\n",
            "min_leaf = 46 : 0.7869362363919129\n",
            "min_leaf = 47 : 0.7869362363919129\n",
            "min_leaf = 48 : 0.7869362363919129\n",
            "min_leaf = 49 : 0.7884914463452566\n",
            "min_leaf = 50 : 0.7884914463452566\n",
            "min_leaf = 51 : 0.7884914463452566\n",
            "min_leaf = 52 : 0.7884914463452566\n",
            "min_leaf = 53 : 0.7900466562986003\n",
            "min_leaf = 54 : 0.7884914463452566\n",
            "min_leaf = 55 : 0.7884914463452566\n",
            "min_leaf = 56 : 0.7900466562986003\n",
            "min_leaf = 57 : 0.7900466562986003\n",
            "min_leaf = 58 : 0.7900466562986003\n",
            "min_leaf = 59 : 0.7900466562986003\n",
            "min_leaf = 60 : 0.7900466562986003\n",
            "min_leaf = 61 : 0.7900466562986003\n",
            "min_leaf = 62 : 0.7900466562986003\n",
            "min_leaf = 63 : 0.7900466562986003\n",
            "min_leaf = 64 : 0.7900466562986003\n",
            "min_leaf = 65 : 0.7900466562986003\n",
            "min_leaf = 66 : 0.7900466562986003\n",
            "min_leaf = 67 : 0.7884914463452566\n",
            "min_leaf = 68 : 0.7884914463452566\n",
            "min_leaf = 69 : 0.7884914463452566\n",
            "min_leaf = 70 : 0.7884914463452566\n",
            "min_leaf = 71 : 0.7884914463452566\n",
            "min_leaf = 72 : 0.7884914463452566\n",
            "min_leaf = 73 : 0.7884914463452566\n",
            "min_leaf = 74 : 0.7884914463452566\n",
            "min_leaf = 75 : 0.7884914463452566\n",
            "min_leaf = 76 : 0.7884914463452566\n",
            "min_leaf = 77 : 0.7884914463452566\n",
            "min_leaf = 78 : 0.7884914463452566\n",
            "min_leaf = 79 : 0.7884914463452566\n",
            "min_leaf = 80 : 0.7869362363919129\n",
            "min_leaf = 81 : 0.7884914463452566\n",
            "min_leaf = 82 : 0.7884914463452566\n",
            "min_leaf = 83 : 0.7884914463452566\n",
            "min_leaf = 84 : 0.7884914463452566\n",
            "min_leaf = 85 : 0.7869362363919129\n",
            "min_leaf = 86 : 0.7869362363919129\n",
            "min_leaf = 87 : 0.7869362363919129\n",
            "min_leaf = 88 : 0.7869362363919129\n",
            "min_leaf = 89 : 0.7869362363919129\n",
            "min_leaf = 90 : 0.7869362363919129\n",
            "min_leaf = 91 : 0.7869362363919129\n",
            "min_leaf = 92 : 0.7869362363919129\n",
            "min_leaf = 93 : 0.7869362363919129\n",
            "min_leaf = 94 : 0.7869362363919129\n",
            "min_leaf = 95 : 0.7869362363919129\n",
            "min_leaf = 96 : 0.7869362363919129\n",
            "min_leaf = 97 : 0.7869362363919129\n",
            "min_leaf = 98 : 0.7853810264385692\n",
            "min_leaf = 99 : 0.7853810264385692\n",
            "min_leaf = 100 : 0.7822706065318819\n",
            "min_leaf = 101 : 0.7838258164852255\n",
            "min_leaf = 102 : 0.7838258164852255\n",
            "min_leaf = 103 : 0.7807153965785381\n",
            "min_leaf = 104 : 0.7807153965785381\n",
            "min_leaf = 105 : 0.7807153965785381\n",
            "min_leaf = 106 : 0.7807153965785381\n",
            "min_leaf = 107 : 0.7807153965785381\n",
            "min_leaf = 108 : 0.7807153965785381\n",
            "min_leaf = 109 : 0.7807153965785381\n",
            "min_leaf = 110 : 0.7807153965785381\n",
            "min_leaf = 111 : 0.7807153965785381\n",
            "min_leaf = 112 : 0.7807153965785381\n",
            "min_leaf = 113 : 0.7807153965785381\n",
            "min_leaf = 114 : 0.7807153965785381\n",
            "min_leaf = 115 : 0.7807153965785381\n",
            "min_leaf = 116 : 0.7807153965785381\n",
            "min_leaf = 117 : 0.7807153965785381\n",
            "min_leaf = 118 : 0.7807153965785381\n",
            "min_leaf = 119 : 0.7822706065318819\n",
            "min_leaf = 120 : 0.7776049766718507\n",
            "min_leaf = 121 : 0.776049766718507\n",
            "min_leaf = 122 : 0.7776049766718507\n",
            "min_leaf = 123 : 0.776049766718507\n",
            "min_leaf = 124 : 0.776049766718507\n",
            "min_leaf = 125 : 0.776049766718507\n",
            "min_leaf = 126 : 0.776049766718507\n",
            "min_leaf = 127 : 0.776049766718507\n",
            "min_leaf = 128 : 0.776049766718507\n",
            "min_leaf = 129 : 0.776049766718507\n",
            "min_leaf = 130 : 0.7776049766718507\n",
            "min_leaf = 131 : 0.7776049766718507\n",
            "min_leaf = 132 : 0.7776049766718507\n",
            "min_leaf = 133 : 0.7776049766718507\n",
            "min_leaf = 134 : 0.7776049766718507\n",
            "min_leaf = 135 : 0.7776049766718507\n",
            "min_leaf = 136 : 0.7776049766718507\n",
            "min_leaf = 137 : 0.7776049766718507\n",
            "min_leaf = 138 : 0.7776049766718507\n",
            "min_leaf = 139 : 0.7776049766718507\n",
            "min_leaf = 140 : 0.7776049766718507\n",
            "min_leaf = 141 : 0.7776049766718507\n",
            "min_leaf = 142 : 0.7729393468118196\n",
            "min_leaf = 143 : 0.7729393468118196\n",
            "min_leaf = 144 : 0.7729393468118196\n",
            "min_leaf = 145 : 0.7729393468118196\n",
            "min_leaf = 146 : 0.7729393468118196\n",
            "min_leaf = 147 : 0.7713841368584758\n",
            "min_leaf = 148 : 0.7713841368584758\n",
            "min_leaf = 149 : 0.7713841368584758\n",
            "min_leaf = 150 : 0.7713841368584758\n"
          ]
        }
      ],
      "source": [
        "for min_leaf in range(1, 151):\n",
        "    model = RandomForestClassifier(random_state=12345, n_estimators=183, max_depth=10, min_samples_leaf=min_leaf)\n",
        "    model.fit(X_train, y_train)\n",
        "    predictions_valid = model.predict(X_valid)\n",
        "    print(\"min_leaf =\", min_leaf, \": \", end='')\n",
        "    print(accuracy_score(y_valid, predictions_valid)) "
      ]
    },
    {
      "cell_type": "markdown",
      "metadata": {
        "id": "79SoiUU_hYIS"
      },
      "source": [
        "При минимальной выборке объектов на концах листов в 6 штук достигается наивысший показатель accuracy 82,0%"
      ]
    },
    {
      "cell_type": "code",
      "execution_count": 17,
      "metadata": {
        "colab": {
          "base_uri": "https://localhost:8080/"
        },
        "id": "oQRMiPDohYIS",
        "outputId": "802fe4ee-1315-4d82-8ab6-3e697aa6735a"
      },
      "outputs": [
        {
          "output_type": "stream",
          "name": "stdout",
          "text": [
            "accuracy: 0.7931570762052877\n"
          ]
        }
      ],
      "source": [
        "model_forest = RandomForestClassifier(random_state=12345, n_estimators=183, max_depth=10, min_samples_leaf=6)\n",
        "model_forest.fit(X_train, y_train)\n",
        "predictions_valid = model_forest.predict(X_valid)\n",
        "print('accuracy:', accuracy_score(y_valid, predictions_valid))"
      ]
    },
    {
      "cell_type": "markdown",
      "metadata": {
        "id": "zkxsbJEOhYIT"
      },
      "source": [
        "Итоговое accuracy случайного леса - 82,0%, что лучше модели дерева решений. Посмотрим, какого качества удастся добиться на последней модели."
      ]
    },
    {
      "cell_type": "markdown",
      "metadata": {
        "id": "Zd0qWtYhhYIT"
      },
      "source": [
        "### Логистическая регрессия"
      ]
    },
    {
      "cell_type": "markdown",
      "metadata": {
        "id": "sUp3VUJNhYIT"
      },
      "source": [
        "Здесь мы ничего варьировать не будем, построим единственную модель и посмотрим на параметр accuracy."
      ]
    },
    {
      "cell_type": "code",
      "execution_count": 18,
      "metadata": {
        "colab": {
          "base_uri": "https://localhost:8080/"
        },
        "id": "RIB---cghYIU",
        "outputId": "e956e33e-da87-4bb0-8ff2-ed3b2ff9e69d"
      },
      "outputs": [
        {
          "output_type": "execute_result",
          "data": {
            "text/plain": [
              "0.6936236391912908"
            ]
          },
          "metadata": {},
          "execution_count": 18
        }
      ],
      "source": [
        "model_regression = LogisticRegression(random_state=12345, solver='liblinear')\n",
        "model_regression.fit(X_train, y_train)\n",
        "model_regression.score(X_valid, y_valid)"
      ]
    },
    {
      "cell_type": "markdown",
      "metadata": {
        "id": "SXUxHVL9hYIV"
      },
      "source": [
        "### Вывод"
      ]
    },
    {
      "cell_type": "markdown",
      "metadata": {
        "id": "cPgS4YHKhYIV"
      },
      "source": [
        "Наилучшего качества модели удалось достигнуть при использовании модели случайного леса. Accuracy полученной модели составляет 82%."
      ]
    },
    {
      "cell_type": "markdown",
      "metadata": {
        "id": "rzBfsMzthYIV"
      },
      "source": [
        "## Проверка модели на тестовой выборке"
      ]
    },
    {
      "cell_type": "markdown",
      "metadata": {
        "id": "VcL6eb_DhYIV"
      },
      "source": [
        "Проверим показатель accuracy на тестовом наборе данных. В \"финал\" у нас вышли две модели - дерево решений и случайный лес."
      ]
    },
    {
      "cell_type": "code",
      "execution_count": 19,
      "metadata": {
        "colab": {
          "base_uri": "https://localhost:8080/"
        },
        "id": "RdJDvU0AhYIV",
        "outputId": "f56f46ee-26a1-406e-cbd4-d823269c5459"
      },
      "outputs": [
        {
          "output_type": "stream",
          "name": "stdout",
          "text": [
            "Accuracy случайного леса на тестовой выборке: 0.8087091757387247\n"
          ]
        }
      ],
      "source": [
        "predictions_test = model_forest.predict(X_test)\n",
        "print('Accuracy случайного леса на тестовой выборке:', accuracy_score(y_test, predictions_test))"
      ]
    },
    {
      "cell_type": "code",
      "execution_count": 20,
      "metadata": {
        "colab": {
          "base_uri": "https://localhost:8080/"
        },
        "id": "NbwlsdBUhYIW",
        "outputId": "2eb3e23c-da51-4f8c-d756-91e855e32242"
      },
      "outputs": [
        {
          "output_type": "stream",
          "name": "stdout",
          "text": [
            "Accuracy случайного леса на тестовой выборке: 0.7682737169517885\n"
          ]
        }
      ],
      "source": [
        "predictions_test = model_tree.predict(X_test)\n",
        "print('Accuracy случайного леса на тестовой выборке:', accuracy_score(y_test, predictions_test))"
      ]
    },
    {
      "cell_type": "markdown",
      "metadata": {
        "id": "-ua8OVmzhYIW"
      },
      "source": [
        "Таким образом, наибольшим показателем accuracy на тестовой выборке обладает модель случайного леса. Проверим, насколько эти показатели отличаются от случайно полученных."
      ]
    },
    {
      "cell_type": "markdown",
      "metadata": {
        "id": "IjahYJ1whYIX"
      },
      "source": [
        "Дообучим выбранную модель случайного леса на увеличенной тестовой выборке, объединив тестовую и валидационную выборку и проверим её работу на тестовой выборке."
      ]
    },
    {
      "cell_type": "code",
      "execution_count": 21,
      "metadata": {
        "colab": {
          "base_uri": "https://localhost:8080/"
        },
        "id": "Im8AqxonhYIX",
        "outputId": "390558a3-b828-4ab4-a3dc-1a7413c9475f"
      },
      "outputs": [
        {
          "output_type": "stream",
          "name": "stdout",
          "text": [
            "accuracy: 0.8195956454121306\n"
          ]
        }
      ],
      "source": [
        "X_enlarged = X_train.append(X_valid)\n",
        "y_enlarged = y_train.append(y_valid)\n",
        "\n",
        "model_forest_reeducated = RandomForestClassifier(random_state=12345, n_estimators=183, max_depth=10, min_samples_leaf=6)\n",
        "model_forest_reeducated.fit(X_enlarged, y_enlarged)\n",
        "predictions_test = model_forest_reeducated.predict(X_test)\n",
        "print('accuracy:', accuracy_score(y_test, predictions_test))"
      ]
    },
    {
      "cell_type": "markdown",
      "metadata": {
        "id": "OUGzDP2fhYIX"
      },
      "source": [
        "Мы дообучили модель на увеличенной тестовой выборке, и результат на тестовой улучшился до 83,7%."
      ]
    },
    {
      "cell_type": "markdown",
      "metadata": {
        "id": "8ITGUB9VhYIY"
      },
      "source": [
        "## Проверка модели на адекватность"
      ]
    },
    {
      "cell_type": "markdown",
      "metadata": {
        "id": "mOqhOZOqhYIY"
      },
      "source": [
        "Наш лучший результат - 83,7% accuracy на тестовой выборке. Посмотрим, чего можно добиться, случайно предсказывая пользование тарифом Ультра просто на основании распространённости данного тарифа в выборке:"
      ]
    },
    {
      "cell_type": "code",
      "execution_count": 22,
      "metadata": {
        "colab": {
          "base_uri": "https://localhost:8080/"
        },
        "id": "_GlD_yd6hYIY",
        "outputId": "6477eb99-a8b7-4769-ac0b-cae530d9d041"
      },
      "outputs": [
        {
          "output_type": "execute_result",
          "data": {
            "text/plain": [
              "0.6936236391912908"
            ]
          },
          "metadata": {},
          "execution_count": 22
        }
      ],
      "source": [
        "frequent_clf = DummyClassifier(strategy = 'most_frequent').fit(X_train, y_train)\n",
        "y_predicted_by_frequency = frequent_clf.predict(X_test)\n",
        "accuracy_score(y_test, y_predicted_by_frequency)"
      ]
    },
    {
      "cell_type": "markdown",
      "metadata": {
        "id": "CIvon4GyhYIZ"
      },
      "source": [
        "Полученное качество модели схоже с тем, что мы получили, использовав логистическую регрессию. Качество выбранной в итоге модели выше. Проверим его ещё одним методом:"
      ]
    },
    {
      "cell_type": "code",
      "execution_count": 23,
      "metadata": {
        "colab": {
          "base_uri": "https://localhost:8080/"
        },
        "id": "dAqHKLUyhYIZ",
        "outputId": "c1eb4ce9-22d5-4185-d1ba-853f306e73fb"
      },
      "outputs": [
        {
          "output_type": "execute_result",
          "data": {
            "text/plain": [
              "0.4976671850699845"
            ]
          },
          "metadata": {},
          "execution_count": 23
        }
      ],
      "source": [
        "uniform_clf = DummyClassifier(strategy = 'uniform').fit(X_train, y_train)\n",
        "y_predicted_by_uniform = uniform_clf.predict(X_test)\n",
        "accuracy_score(y_test, y_predicted_by_uniform)"
      ]
    },
    {
      "cell_type": "markdown",
      "metadata": {
        "id": "2Zdsn5uphYIZ"
      },
      "source": [
        "Здесь результат также отличается от нашего лучшего существенно."
      ]
    },
    {
      "cell_type": "markdown",
      "metadata": {
        "id": "tW25uUwNhYIa"
      },
      "source": [
        "## Вывод"
      ]
    },
    {
      "cell_type": "markdown",
      "metadata": {
        "id": "dZ3WvTYchYIa"
      },
      "source": [
        "Мы получили модель случайного леса, которая предсказывает выбранный пользователем тариф на тестовой выборке с точностью 83,7%. Мы исключили из анализа данные о количестве потраченных сообщений как наименее релевантные. Параметры наилучшей модели следующие:\n",
        "- n_estimators=183,\n",
        "- max_depth=10,\n",
        "- min_samples_leaf=6.\n",
        "\n",
        "Рабоая с этой моделью, можно перевести пользователей, которые используют архивные тарифы, на актуальную линейку (Смарт и Ультра). Однако, т.к. точность полученной модели не 100%, стоит предусмотреть возможность пробного периода или расширенную тех.поддержку для тех, чьи потребительские предпочтения будут отличаться от предписанного моделью тарифа."
      ]
    }
  ],
  "metadata": {
    "ExecuteTimeLog": [
      {
        "duration": 992,
        "start_time": "2021-11-19T05:39:26.340Z"
      },
      {
        "duration": 66,
        "start_time": "2021-11-19T05:39:44.533Z"
      },
      {
        "duration": 135,
        "start_time": "2021-11-19T05:40:30.797Z"
      },
      {
        "duration": 6,
        "start_time": "2021-11-19T05:48:15.208Z"
      },
      {
        "duration": 8,
        "start_time": "2021-11-19T06:09:14.933Z"
      },
      {
        "duration": 59,
        "start_time": "2021-11-19T06:30:16.884Z"
      },
      {
        "duration": 345,
        "start_time": "2021-11-19T06:31:54.983Z"
      },
      {
        "duration": 9,
        "start_time": "2021-11-19T06:32:01.159Z"
      },
      {
        "duration": 189,
        "start_time": "2021-11-19T06:32:03.150Z"
      },
      {
        "duration": 23978,
        "start_time": "2021-11-19T06:32:32.479Z"
      },
      {
        "duration": 276,
        "start_time": "2021-11-19T06:33:33.496Z"
      },
      {
        "duration": 499,
        "start_time": "2021-11-19T06:33:43.895Z"
      },
      {
        "duration": 191,
        "start_time": "2021-11-19T06:34:20.792Z"
      },
      {
        "duration": 487,
        "start_time": "2021-11-19T06:34:28.383Z"
      },
      {
        "duration": 268,
        "start_time": "2021-11-19T06:36:28.808Z"
      },
      {
        "duration": 180,
        "start_time": "2021-11-19T06:37:04.480Z"
      },
      {
        "duration": 175,
        "start_time": "2021-11-19T06:37:18.159Z"
      },
      {
        "duration": 5,
        "start_time": "2021-11-19T06:37:24.518Z"
      },
      {
        "duration": 188,
        "start_time": "2021-11-19T06:37:30.743Z"
      },
      {
        "duration": 4,
        "start_time": "2021-11-19T06:37:35.831Z"
      },
      {
        "duration": 270,
        "start_time": "2021-11-19T06:38:15.664Z"
      },
      {
        "duration": 3,
        "start_time": "2021-11-19T06:39:20.136Z"
      },
      {
        "duration": 293,
        "start_time": "2021-11-19T06:39:26.447Z"
      },
      {
        "duration": 278,
        "start_time": "2021-11-19T06:40:50.567Z"
      },
      {
        "duration": 358,
        "start_time": "2021-11-19T06:41:09.727Z"
      },
      {
        "duration": 275,
        "start_time": "2021-11-19T06:41:23.120Z"
      },
      {
        "duration": 653,
        "start_time": "2021-11-19T06:41:37.888Z"
      },
      {
        "duration": 499,
        "start_time": "2021-11-19T06:41:57.176Z"
      },
      {
        "duration": 474,
        "start_time": "2021-11-19T06:43:34.456Z"
      },
      {
        "duration": 480,
        "start_time": "2021-11-19T06:43:45.744Z"
      },
      {
        "duration": 498,
        "start_time": "2021-11-19T06:44:07.824Z"
      },
      {
        "duration": 491,
        "start_time": "2021-11-19T06:44:28.247Z"
      },
      {
        "duration": 1095,
        "start_time": "2021-11-19T06:44:46.012Z"
      },
      {
        "duration": 34,
        "start_time": "2021-11-19T06:44:47.109Z"
      },
      {
        "duration": 5,
        "start_time": "2021-11-19T06:44:47.145Z"
      },
      {
        "duration": 55,
        "start_time": "2021-11-19T06:44:47.152Z"
      },
      {
        "duration": 200,
        "start_time": "2021-11-19T06:44:47.009Z"
      },
      {
        "duration": 199,
        "start_time": "2021-11-19T06:44:47.011Z"
      },
      {
        "duration": 191,
        "start_time": "2021-11-19T06:44:47.020Z"
      },
      {
        "duration": 9,
        "start_time": "2021-11-19T06:45:00.437Z"
      },
      {
        "duration": 316,
        "start_time": "2021-11-19T06:45:03.030Z"
      },
      {
        "duration": 25905,
        "start_time": "2021-11-19T06:45:19.150Z"
      },
      {
        "duration": 703,
        "start_time": "2021-11-19T06:46:45.310Z"
      },
      {
        "duration": 8729,
        "start_time": "2021-11-19T06:49:47.335Z"
      },
      {
        "duration": 4196,
        "start_time": "2021-11-19T06:50:18.719Z"
      },
      {
        "duration": 1535,
        "start_time": "2021-11-19T06:50:31.030Z"
      },
      {
        "duration": 1083,
        "start_time": "2021-11-19T06:50:41.166Z"
      },
      {
        "duration": 630,
        "start_time": "2021-11-19T06:50:48.086Z"
      },
      {
        "duration": 180,
        "start_time": "2021-11-19T06:51:39.200Z"
      },
      {
        "duration": 662,
        "start_time": "2021-11-19T06:51:57.585Z"
      },
      {
        "duration": 466,
        "start_time": "2021-11-19T06:52:21.775Z"
      },
      {
        "duration": 1064,
        "start_time": "2021-11-19T06:52:31.919Z"
      },
      {
        "duration": 979,
        "start_time": "2021-11-19T06:52:42.239Z"
      },
      {
        "duration": 882,
        "start_time": "2021-11-19T06:52:50.144Z"
      },
      {
        "duration": 912,
        "start_time": "2021-11-19T06:53:00.551Z"
      },
      {
        "duration": 942,
        "start_time": "2021-11-19T06:53:09.199Z"
      },
      {
        "duration": 1037,
        "start_time": "2021-11-19T06:53:21.735Z"
      },
      {
        "duration": 178,
        "start_time": "2021-11-19T06:53:57.920Z"
      },
      {
        "duration": 189,
        "start_time": "2021-11-19T06:54:02.327Z"
      },
      {
        "duration": 985,
        "start_time": "2021-11-19T06:54:08.528Z"
      },
      {
        "duration": 1091,
        "start_time": "2021-11-19T06:54:12.175Z"
      },
      {
        "duration": 952,
        "start_time": "2021-11-19T06:54:25.263Z"
      },
      {
        "duration": 893,
        "start_time": "2021-11-19T06:54:38.695Z"
      },
      {
        "duration": 454,
        "start_time": "2021-11-19T07:18:24.050Z"
      },
      {
        "duration": 358,
        "start_time": "2021-11-19T07:19:50.011Z"
      },
      {
        "duration": 351,
        "start_time": "2021-11-19T07:20:22.545Z"
      },
      {
        "duration": 313,
        "start_time": "2021-11-19T07:22:21.521Z"
      },
      {
        "duration": 311,
        "start_time": "2021-11-19T07:22:46.202Z"
      },
      {
        "duration": 313,
        "start_time": "2021-11-19T07:22:53.369Z"
      },
      {
        "duration": 309,
        "start_time": "2021-11-19T07:23:20.673Z"
      },
      {
        "duration": 1107,
        "start_time": "2021-11-19T07:23:52.386Z"
      },
      {
        "duration": 1002,
        "start_time": "2021-11-19T07:24:35.586Z"
      },
      {
        "duration": 1823,
        "start_time": "2021-11-19T07:28:05.418Z"
      },
      {
        "duration": 1306,
        "start_time": "2021-11-19T07:29:48.114Z"
      },
      {
        "duration": 751,
        "start_time": "2021-11-19T07:30:29.404Z"
      },
      {
        "duration": 333,
        "start_time": "2021-11-19T07:30:59.803Z"
      },
      {
        "duration": 840,
        "start_time": "2021-11-19T07:31:11.266Z"
      },
      {
        "duration": 1034,
        "start_time": "2021-11-19T07:31:54.290Z"
      },
      {
        "duration": 1761,
        "start_time": "2021-11-19T07:32:18.746Z"
      },
      {
        "duration": 8,
        "start_time": "2021-11-19T07:36:09.507Z"
      },
      {
        "duration": 407,
        "start_time": "2021-11-19T07:44:30.131Z"
      },
      {
        "duration": 6,
        "start_time": "2021-11-19T07:44:52.626Z"
      },
      {
        "duration": 395,
        "start_time": "2021-11-19T07:44:57.443Z"
      },
      {
        "duration": 123,
        "start_time": "2021-11-19T07:45:29.562Z"
      },
      {
        "duration": 10,
        "start_time": "2021-11-19T07:46:11.426Z"
      },
      {
        "duration": 9,
        "start_time": "2021-11-19T07:46:19.811Z"
      },
      {
        "duration": 9,
        "start_time": "2021-11-19T07:46:31.451Z"
      },
      {
        "duration": 10,
        "start_time": "2021-11-19T07:47:35.587Z"
      },
      {
        "duration": 9,
        "start_time": "2021-11-19T07:47:45.651Z"
      },
      {
        "duration": 8,
        "start_time": "2021-11-19T07:47:54.867Z"
      },
      {
        "duration": 13,
        "start_time": "2021-11-19T07:48:02.891Z"
      },
      {
        "duration": 11,
        "start_time": "2021-11-19T07:48:34.292Z"
      },
      {
        "duration": 9,
        "start_time": "2021-11-19T07:48:51.283Z"
      },
      {
        "duration": 9,
        "start_time": "2021-11-19T07:49:00.651Z"
      },
      {
        "duration": 9,
        "start_time": "2021-11-19T07:49:09.507Z"
      },
      {
        "duration": 4,
        "start_time": "2021-11-19T07:52:07.659Z"
      },
      {
        "duration": 192,
        "start_time": "2021-11-19T07:55:44.155Z"
      },
      {
        "duration": 185,
        "start_time": "2021-11-19T07:56:15.748Z"
      },
      {
        "duration": 193,
        "start_time": "2021-11-19T07:57:14.187Z"
      },
      {
        "duration": 13,
        "start_time": "2021-11-19T07:57:49.635Z"
      },
      {
        "duration": 12,
        "start_time": "2021-11-19T07:58:37.716Z"
      },
      {
        "duration": 9,
        "start_time": "2021-11-19T08:05:22.324Z"
      },
      {
        "duration": 5,
        "start_time": "2021-11-19T08:37:31.612Z"
      },
      {
        "duration": 13,
        "start_time": "2021-11-19T08:37:33.763Z"
      },
      {
        "duration": 12,
        "start_time": "2021-11-19T08:37:37.397Z"
      },
      {
        "duration": 12,
        "start_time": "2021-11-19T08:38:10.059Z"
      },
      {
        "duration": 62,
        "start_time": "2021-11-19T08:40:16.324Z"
      },
      {
        "duration": 11,
        "start_time": "2021-11-19T08:40:24.056Z"
      },
      {
        "duration": 4,
        "start_time": "2021-11-19T08:42:41.509Z"
      },
      {
        "duration": 16,
        "start_time": "2021-11-19T08:42:43.100Z"
      },
      {
        "duration": 17,
        "start_time": "2021-11-19T08:45:35.076Z"
      },
      {
        "duration": 249,
        "start_time": "2021-11-19T08:46:03.508Z"
      },
      {
        "duration": 16,
        "start_time": "2021-11-19T08:46:22.397Z"
      },
      {
        "duration": 13,
        "start_time": "2021-11-19T08:46:41.011Z"
      },
      {
        "duration": 12,
        "start_time": "2021-11-19T08:47:18.148Z"
      },
      {
        "duration": 879,
        "start_time": "2021-11-19T08:50:42.475Z"
      },
      {
        "duration": 1158,
        "start_time": "2021-11-19T08:50:57.481Z"
      },
      {
        "duration": 34,
        "start_time": "2021-11-19T08:50:58.641Z"
      },
      {
        "duration": 1006,
        "start_time": "2021-11-19T08:50:58.676Z"
      },
      {
        "duration": 280,
        "start_time": "2021-11-19T08:50:59.692Z"
      },
      {
        "duration": 268,
        "start_time": "2021-11-19T08:50:59.706Z"
      },
      {
        "duration": 258,
        "start_time": "2021-11-19T08:50:59.718Z"
      },
      {
        "duration": 254,
        "start_time": "2021-11-19T08:50:59.723Z"
      },
      {
        "duration": 254,
        "start_time": "2021-11-19T08:50:59.725Z"
      },
      {
        "duration": 244,
        "start_time": "2021-11-19T08:50:59.736Z"
      },
      {
        "duration": 1119,
        "start_time": "2021-11-19T08:51:54.963Z"
      },
      {
        "duration": 35,
        "start_time": "2021-11-19T08:51:56.083Z"
      },
      {
        "duration": 1040,
        "start_time": "2021-11-19T08:51:56.120Z"
      },
      {
        "duration": 8,
        "start_time": "2021-11-19T08:51:57.162Z"
      },
      {
        "duration": 30,
        "start_time": "2021-11-19T08:51:57.171Z"
      },
      {
        "duration": 40,
        "start_time": "2021-11-19T08:51:57.203Z"
      },
      {
        "duration": 13,
        "start_time": "2021-11-19T08:51:57.245Z"
      },
      {
        "duration": 912,
        "start_time": "2021-11-19T08:51:57.260Z"
      },
      {
        "duration": 5,
        "start_time": "2021-11-19T08:51:58.173Z"
      },
      {
        "duration": 280,
        "start_time": "2021-11-19T09:12:47.259Z"
      },
      {
        "duration": 198,
        "start_time": "2021-11-19T09:14:26.060Z"
      },
      {
        "duration": 87,
        "start_time": "2021-11-19T09:14:58.893Z"
      },
      {
        "duration": 14,
        "start_time": "2021-11-19T09:15:28.195Z"
      },
      {
        "duration": 12,
        "start_time": "2021-11-19T09:16:05.859Z"
      },
      {
        "duration": 12,
        "start_time": "2021-11-19T09:17:19.251Z"
      },
      {
        "duration": 12,
        "start_time": "2021-11-19T09:17:44.540Z"
      },
      {
        "duration": 185,
        "start_time": "2021-11-19T09:21:25.387Z"
      },
      {
        "duration": 211,
        "start_time": "2021-11-19T09:21:52.947Z"
      },
      {
        "duration": 1121,
        "start_time": "2021-11-19T09:22:32.474Z"
      },
      {
        "duration": 32,
        "start_time": "2021-11-19T09:22:33.597Z"
      },
      {
        "duration": 951,
        "start_time": "2021-11-19T09:22:33.631Z"
      },
      {
        "duration": 15,
        "start_time": "2021-11-19T09:22:34.583Z"
      },
      {
        "duration": 25,
        "start_time": "2021-11-19T09:22:34.600Z"
      },
      {
        "duration": 20,
        "start_time": "2021-11-19T09:22:34.627Z"
      },
      {
        "duration": 32,
        "start_time": "2021-11-19T09:22:34.648Z"
      },
      {
        "duration": 10,
        "start_time": "2021-11-19T09:22:34.683Z"
      },
      {
        "duration": 12,
        "start_time": "2021-11-19T09:23:38.256Z"
      },
      {
        "duration": 9,
        "start_time": "2021-11-19T09:23:55.305Z"
      },
      {
        "duration": 261,
        "start_time": "2021-11-19T09:27:37.100Z"
      },
      {
        "duration": 12,
        "start_time": "2021-11-19T09:27:57.072Z"
      },
      {
        "duration": 13,
        "start_time": "2021-11-19T09:33:08.425Z"
      },
      {
        "duration": 1063,
        "start_time": "2021-11-19T09:33:26.028Z"
      },
      {
        "duration": 33,
        "start_time": "2021-11-19T09:33:27.093Z"
      },
      {
        "duration": 972,
        "start_time": "2021-11-19T09:33:27.128Z"
      },
      {
        "duration": 23,
        "start_time": "2021-11-19T09:33:28.102Z"
      },
      {
        "duration": 17,
        "start_time": "2021-11-19T09:33:28.128Z"
      },
      {
        "duration": 21,
        "start_time": "2021-11-19T09:33:28.148Z"
      },
      {
        "duration": 40,
        "start_time": "2021-11-19T09:33:28.171Z"
      },
      {
        "duration": 19,
        "start_time": "2021-11-19T09:33:28.214Z"
      },
      {
        "duration": 855,
        "start_time": "2021-11-19T09:34:26.723Z"
      },
      {
        "duration": 264,
        "start_time": "2021-11-19T09:39:18.508Z"
      },
      {
        "duration": 138,
        "start_time": "2021-11-19T09:39:26.427Z"
      },
      {
        "duration": 866,
        "start_time": "2021-11-19T09:41:34.804Z"
      },
      {
        "duration": 131,
        "start_time": "2021-11-19T09:41:48.932Z"
      },
      {
        "duration": 392,
        "start_time": "2021-11-19T09:44:43.123Z"
      },
      {
        "duration": 412,
        "start_time": "2021-11-19T09:47:24.396Z"
      },
      {
        "duration": 303,
        "start_time": "2021-11-19T09:49:05.109Z"
      },
      {
        "duration": 2306,
        "start_time": "2021-11-19T09:49:16.212Z"
      },
      {
        "duration": 609,
        "start_time": "2021-11-19T09:49:44.860Z"
      },
      {
        "duration": 1112,
        "start_time": "2021-11-19T09:49:51.451Z"
      },
      {
        "duration": 196,
        "start_time": "2021-11-19T09:50:04.572Z"
      },
      {
        "duration": 1532,
        "start_time": "2021-11-19T09:50:18.932Z"
      },
      {
        "duration": 9,
        "start_time": "2021-11-19T09:53:48.046Z"
      },
      {
        "duration": 9,
        "start_time": "2021-11-19T09:55:09.313Z"
      },
      {
        "duration": 9,
        "start_time": "2021-11-19T09:56:11.623Z"
      },
      {
        "duration": 9,
        "start_time": "2021-11-19T09:56:59.296Z"
      },
      {
        "duration": 9,
        "start_time": "2021-11-19T09:57:19.264Z"
      },
      {
        "duration": 9,
        "start_time": "2021-11-19T09:57:31.016Z"
      },
      {
        "duration": 9,
        "start_time": "2021-11-19T09:58:30.024Z"
      },
      {
        "duration": 9,
        "start_time": "2021-11-19T09:59:02.753Z"
      },
      {
        "duration": 3537,
        "start_time": "2021-11-19T10:07:23.220Z"
      },
      {
        "duration": 1431,
        "start_time": "2021-11-19T10:10:56.004Z"
      },
      {
        "duration": 54539,
        "start_time": "2021-11-19T10:12:54.709Z"
      },
      {
        "duration": 3518,
        "start_time": "2021-11-19T10:13:56.348Z"
      },
      {
        "duration": 3686,
        "start_time": "2021-11-19T10:15:13.270Z"
      },
      {
        "duration": 953,
        "start_time": "2021-11-19T10:16:41.014Z"
      },
      {
        "duration": 1017,
        "start_time": "2021-11-19T10:17:17.622Z"
      },
      {
        "duration": 4888,
        "start_time": "2021-11-19T10:18:32.541Z"
      },
      {
        "duration": 478,
        "start_time": "2021-11-19T10:18:57.029Z"
      },
      {
        "duration": 1000,
        "start_time": "2021-11-19T10:19:02.606Z"
      },
      {
        "duration": 195,
        "start_time": "2021-11-19T10:19:07.693Z"
      },
      {
        "duration": 1055,
        "start_time": "2021-11-19T10:19:12.285Z"
      },
      {
        "duration": 14034,
        "start_time": "2021-11-19T10:22:05.989Z"
      },
      {
        "duration": 31045,
        "start_time": "2021-11-19T10:22:31.086Z"
      },
      {
        "duration": 31423,
        "start_time": "2021-11-19T10:34:33.798Z"
      },
      {
        "duration": 2916,
        "start_time": "2021-11-19T10:35:49.461Z"
      },
      {
        "duration": 1878,
        "start_time": "2021-11-19T10:38:33.029Z"
      },
      {
        "duration": 212,
        "start_time": "2021-11-19T10:39:21.789Z"
      },
      {
        "duration": 31495,
        "start_time": "2021-11-19T10:39:45.917Z"
      },
      {
        "duration": 10,
        "start_time": "2021-11-19T10:45:31.229Z"
      },
      {
        "duration": 14,
        "start_time": "2021-11-19T10:46:53.391Z"
      },
      {
        "duration": 232,
        "start_time": "2021-11-19T10:48:12.765Z"
      },
      {
        "duration": 1943,
        "start_time": "2021-11-19T10:48:44.293Z"
      },
      {
        "duration": 2004,
        "start_time": "2021-11-19T10:48:57.925Z"
      },
      {
        "duration": 62,
        "start_time": "2021-11-19T10:49:40.366Z"
      },
      {
        "duration": 1969,
        "start_time": "2021-11-19T10:49:50.373Z"
      },
      {
        "duration": 1937,
        "start_time": "2021-11-19T10:50:09.222Z"
      },
      {
        "duration": 191,
        "start_time": "2021-11-19T10:50:50.183Z"
      },
      {
        "duration": 9,
        "start_time": "2021-11-19T10:52:11.246Z"
      },
      {
        "duration": 17,
        "start_time": "2021-11-19T10:54:59.934Z"
      },
      {
        "duration": 14,
        "start_time": "2021-11-19T10:55:57.598Z"
      },
      {
        "duration": 16,
        "start_time": "2021-11-19T10:56:22.239Z"
      },
      {
        "duration": 9,
        "start_time": "2021-11-19T10:56:40.630Z"
      },
      {
        "duration": 8,
        "start_time": "2021-11-19T11:08:00.801Z"
      },
      {
        "duration": 5,
        "start_time": "2021-11-19T11:08:37.737Z"
      },
      {
        "duration": 7,
        "start_time": "2021-11-19T11:09:32.250Z"
      },
      {
        "duration": 6,
        "start_time": "2021-11-19T11:09:34.553Z"
      },
      {
        "duration": 5,
        "start_time": "2021-11-19T11:10:28.841Z"
      },
      {
        "duration": 5,
        "start_time": "2021-11-19T11:10:30.881Z"
      },
      {
        "duration": 4,
        "start_time": "2021-11-19T11:24:09.228Z"
      },
      {
        "duration": 5,
        "start_time": "2021-11-19T11:26:42.868Z"
      },
      {
        "duration": 8,
        "start_time": "2021-11-19T11:29:06.597Z"
      },
      {
        "duration": 1114,
        "start_time": "2021-11-19T11:33:55.133Z"
      },
      {
        "duration": 40,
        "start_time": "2021-11-19T11:33:56.249Z"
      },
      {
        "duration": 1036,
        "start_time": "2021-11-19T11:33:56.291Z"
      },
      {
        "duration": 13,
        "start_time": "2021-11-19T11:33:57.329Z"
      },
      {
        "duration": 9,
        "start_time": "2021-11-19T11:33:57.344Z"
      },
      {
        "duration": 10,
        "start_time": "2021-11-19T11:33:57.354Z"
      },
      {
        "duration": 40,
        "start_time": "2021-11-19T11:33:57.365Z"
      },
      {
        "duration": 870,
        "start_time": "2021-11-19T11:33:57.407Z"
      },
      {
        "duration": 157,
        "start_time": "2021-11-19T11:33:58.279Z"
      },
      {
        "duration": 1042,
        "start_time": "2021-11-19T11:33:58.438Z"
      },
      {
        "duration": 1049,
        "start_time": "2021-11-19T11:33:59.492Z"
      },
      {
        "duration": 8,
        "start_time": "2021-11-19T11:34:00.543Z"
      },
      {
        "duration": 31305,
        "start_time": "2021-11-19T11:34:00.552Z"
      },
      {
        "duration": 2943,
        "start_time": "2021-11-19T11:34:31.858Z"
      },
      {
        "duration": 1920,
        "start_time": "2021-11-19T11:34:34.803Z"
      },
      {
        "duration": 16,
        "start_time": "2021-11-19T11:34:36.724Z"
      },
      {
        "duration": 9,
        "start_time": "2021-11-19T11:34:36.741Z"
      },
      {
        "duration": 6,
        "start_time": "2021-11-19T11:34:36.751Z"
      },
      {
        "duration": 34,
        "start_time": "2021-11-19T11:34:36.758Z"
      },
      {
        "duration": 7,
        "start_time": "2021-11-19T11:34:36.794Z"
      },
      {
        "duration": 7,
        "start_time": "2021-11-19T11:34:36.803Z"
      },
      {
        "duration": 1481,
        "start_time": "2021-11-19T11:42:33.261Z"
      },
      {
        "duration": 39,
        "start_time": "2021-11-19T11:42:34.745Z"
      },
      {
        "duration": 1686,
        "start_time": "2021-11-19T11:42:35.541Z"
      },
      {
        "duration": 20,
        "start_time": "2021-11-19T11:43:45.705Z"
      },
      {
        "duration": 14,
        "start_time": "2021-11-19T11:45:39.779Z"
      },
      {
        "duration": 15,
        "start_time": "2021-11-19T11:45:50.474Z"
      },
      {
        "duration": 18,
        "start_time": "2021-11-19T11:49:50.040Z"
      },
      {
        "duration": 1371,
        "start_time": "2021-11-19T11:51:05.085Z"
      },
      {
        "duration": 216,
        "start_time": "2021-11-19T11:53:03.287Z"
      },
      {
        "duration": 1574,
        "start_time": "2021-11-19T11:53:40.695Z"
      },
      {
        "duration": 1453,
        "start_time": "2021-11-19T11:53:49.603Z"
      },
      {
        "duration": 49693,
        "start_time": "2021-11-19T11:54:36.620Z"
      },
      {
        "duration": 4615,
        "start_time": "2021-11-19T11:55:26.316Z"
      },
      {
        "duration": 3211,
        "start_time": "2021-11-19T11:55:30.935Z"
      },
      {
        "duration": 40,
        "start_time": "2021-11-19T11:55:34.148Z"
      },
      {
        "duration": 8,
        "start_time": "2021-11-19T11:57:57.372Z"
      },
      {
        "duration": 528,
        "start_time": "2021-11-19T11:57:57.915Z"
      },
      {
        "duration": 15,
        "start_time": "2021-11-19T11:58:20.504Z"
      },
      {
        "duration": 8,
        "start_time": "2021-11-19T11:58:23.117Z"
      },
      {
        "duration": 374,
        "start_time": "2021-11-19T11:58:23.867Z"
      },
      {
        "duration": 14,
        "start_time": "2021-11-19T11:58:31.449Z"
      },
      {
        "duration": 8,
        "start_time": "2021-11-19T11:58:36.376Z"
      },
      {
        "duration": 249,
        "start_time": "2021-11-21T11:40:46.043Z"
      },
      {
        "duration": 1045,
        "start_time": "2021-11-21T11:40:56.816Z"
      },
      {
        "duration": 31,
        "start_time": "2021-11-21T11:40:57.862Z"
      },
      {
        "duration": 890,
        "start_time": "2021-11-21T11:40:57.895Z"
      },
      {
        "duration": 12,
        "start_time": "2021-11-21T11:40:58.788Z"
      },
      {
        "duration": 9,
        "start_time": "2021-11-21T11:40:58.801Z"
      },
      {
        "duration": 9,
        "start_time": "2021-11-21T11:40:58.811Z"
      },
      {
        "duration": 2782,
        "start_time": "2021-11-21T11:40:58.821Z"
      },
      {
        "duration": 12,
        "start_time": "2021-11-21T11:41:01.606Z"
      },
      {
        "duration": 744,
        "start_time": "2021-11-21T11:41:01.620Z"
      },
      {
        "duration": 138,
        "start_time": "2021-11-21T11:41:02.366Z"
      },
      {
        "duration": 984,
        "start_time": "2021-11-21T11:41:02.505Z"
      },
      {
        "duration": 906,
        "start_time": "2021-11-21T11:41:03.490Z"
      },
      {
        "duration": 7,
        "start_time": "2021-11-21T11:41:04.398Z"
      },
      {
        "duration": 29070,
        "start_time": "2021-11-21T11:41:04.406Z"
      },
      {
        "duration": 2637,
        "start_time": "2021-11-21T11:41:33.477Z"
      },
      {
        "duration": 1697,
        "start_time": "2021-11-21T11:41:36.115Z"
      },
      {
        "duration": 14,
        "start_time": "2021-11-21T11:41:37.813Z"
      },
      {
        "duration": 8,
        "start_time": "2021-11-21T11:41:37.829Z"
      },
      {
        "duration": 5,
        "start_time": "2021-11-21T11:41:37.839Z"
      },
      {
        "duration": 5,
        "start_time": "2021-11-21T11:41:37.845Z"
      },
      {
        "duration": 5,
        "start_time": "2021-11-21T11:41:37.851Z"
      },
      {
        "duration": 33,
        "start_time": "2021-11-21T11:41:37.857Z"
      },
      {
        "duration": 2782,
        "start_time": "2021-11-21T11:43:46.938Z"
      },
      {
        "duration": 85,
        "start_time": "2021-11-21T11:44:15.123Z"
      },
      {
        "duration": 2588,
        "start_time": "2021-11-21T11:44:19.113Z"
      },
      {
        "duration": 11,
        "start_time": "2021-11-21T11:52:12.623Z"
      },
      {
        "duration": 760,
        "start_time": "2021-11-21T11:52:16.362Z"
      },
      {
        "duration": 12,
        "start_time": "2021-11-21T11:52:27.594Z"
      },
      {
        "duration": 711,
        "start_time": "2021-11-21T11:52:30.299Z"
      },
      {
        "duration": 125,
        "start_time": "2021-11-21T11:54:07.075Z"
      },
      {
        "duration": 1097,
        "start_time": "2021-11-21T11:56:22.323Z"
      },
      {
        "duration": 1120,
        "start_time": "2021-11-21T11:57:57.035Z"
      },
      {
        "duration": 1006,
        "start_time": "2021-11-21T11:58:25.571Z"
      },
      {
        "duration": 970,
        "start_time": "2021-11-21T12:00:11.891Z"
      },
      {
        "duration": 9,
        "start_time": "2021-11-21T12:01:10.386Z"
      },
      {
        "duration": 10,
        "start_time": "2021-11-21T12:01:17.203Z"
      },
      {
        "duration": 10,
        "start_time": "2021-11-21T12:01:24.196Z"
      },
      {
        "duration": 9,
        "start_time": "2021-11-21T12:01:29.676Z"
      },
      {
        "duration": 27420,
        "start_time": "2021-11-21T12:02:31.539Z"
      },
      {
        "duration": 63708,
        "start_time": "2021-11-21T12:04:26.364Z"
      },
      {
        "duration": 63791,
        "start_time": "2021-11-21T12:06:13.397Z"
      },
      {
        "duration": 65063,
        "start_time": "2021-11-21T12:07:41.555Z"
      },
      {
        "duration": 366,
        "start_time": "2021-11-21T12:09:38.060Z"
      },
      {
        "duration": 9,
        "start_time": "2021-11-21T12:10:05.476Z"
      },
      {
        "duration": 27,
        "start_time": "2021-11-21T12:11:43.732Z"
      },
      {
        "duration": 7,
        "start_time": "2021-11-21T12:11:56.092Z"
      },
      {
        "duration": 5,
        "start_time": "2021-11-21T12:13:57.901Z"
      },
      {
        "duration": 6,
        "start_time": "2021-11-21T12:14:00.260Z"
      },
      {
        "duration": 9,
        "start_time": "2021-11-21T12:19:24.454Z"
      },
      {
        "duration": 12,
        "start_time": "2021-11-21T12:19:29.725Z"
      },
      {
        "duration": 11,
        "start_time": "2021-11-21T12:19:37.634Z"
      },
      {
        "duration": 10,
        "start_time": "2021-11-21T12:19:42.870Z"
      },
      {
        "duration": 13,
        "start_time": "2021-11-21T12:20:00.783Z"
      },
      {
        "duration": 12,
        "start_time": "2021-11-21T12:20:05.998Z"
      },
      {
        "duration": 10,
        "start_time": "2021-11-21T12:22:48.127Z"
      },
      {
        "duration": 4,
        "start_time": "2021-11-21T12:23:11.950Z"
      },
      {
        "duration": 442,
        "start_time": "2021-11-21T12:24:39.990Z"
      },
      {
        "duration": 1018,
        "start_time": "2021-11-21T12:26:55.841Z"
      },
      {
        "duration": 32,
        "start_time": "2021-11-21T12:26:56.861Z"
      },
      {
        "duration": 866,
        "start_time": "2021-11-21T12:26:56.895Z"
      },
      {
        "duration": 12,
        "start_time": "2021-11-21T12:26:57.763Z"
      },
      {
        "duration": 11,
        "start_time": "2021-11-21T12:26:57.788Z"
      },
      {
        "duration": 10,
        "start_time": "2021-11-21T12:26:57.801Z"
      },
      {
        "duration": 3300,
        "start_time": "2021-11-21T12:26:57.813Z"
      },
      {
        "duration": 11,
        "start_time": "2021-11-21T12:27:01.116Z"
      },
      {
        "duration": 737,
        "start_time": "2021-11-21T12:27:01.129Z"
      },
      {
        "duration": 121,
        "start_time": "2021-11-21T12:27:01.868Z"
      },
      {
        "duration": 1111,
        "start_time": "2021-11-21T12:27:01.991Z"
      },
      {
        "duration": 1227,
        "start_time": "2021-11-21T12:27:03.104Z"
      },
      {
        "duration": 9,
        "start_time": "2021-11-21T12:27:04.332Z"
      },
      {
        "duration": 72324,
        "start_time": "2021-11-21T12:27:04.342Z"
      },
      {
        "duration": 71611,
        "start_time": "2021-11-21T12:28:16.668Z"
      },
      {
        "duration": 51585,
        "start_time": "2021-11-21T12:29:28.280Z"
      },
      {
        "duration": 489,
        "start_time": "2021-11-21T12:30:19.867Z"
      },
      {
        "duration": 9,
        "start_time": "2021-11-21T12:30:20.358Z"
      },
      {
        "duration": 48,
        "start_time": "2021-11-21T12:30:20.368Z"
      },
      {
        "duration": 6,
        "start_time": "2021-11-21T12:30:20.417Z"
      },
      {
        "duration": 487,
        "start_time": "2021-11-21T12:30:20.425Z"
      },
      {
        "duration": 6,
        "start_time": "2021-11-21T12:30:20.914Z"
      },
      {
        "duration": 28,
        "start_time": "2021-11-21T12:30:20.923Z"
      }
    ],
    "celltoolbar": "Необработанный формат ячейки",
    "kernelspec": {
      "display_name": "Python 3 (ipykernel)",
      "language": "python",
      "name": "python3"
    },
    "language_info": {
      "codemirror_mode": {
        "name": "ipython",
        "version": 3
      },
      "file_extension": ".py",
      "mimetype": "text/x-python",
      "name": "python",
      "nbconvert_exporter": "python",
      "pygments_lexer": "ipython3",
      "version": "3.9.5"
    },
    "toc": {
      "base_numbering": 1,
      "nav_menu": {},
      "number_sections": true,
      "sideBar": true,
      "skip_h1_title": true,
      "title_cell": "Table of Contents",
      "title_sidebar": "Contents",
      "toc_cell": false,
      "toc_position": {},
      "toc_section_display": true,
      "toc_window_display": true
    },
    "colab": {
      "name": "DariaNika_pricing_recomendations_telecom.ipynb",
      "provenance": [],
      "collapsed_sections": [
        "SIET2puNhYH2",
        "SUx7UegghYH9",
        "mthVNLhbhYIE",
        "rzBfsMzthYIV",
        "8ITGUB9VhYIY",
        "tW25uUwNhYIa"
      ]
    }
  },
  "nbformat": 4,
  "nbformat_minor": 0
}