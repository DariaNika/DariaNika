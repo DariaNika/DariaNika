{
  "cells": [
    {
      "cell_type": "markdown",
      "metadata": {
        "id": "yHyArOG0_UCq"
      },
      "source": [
        "# Определение перспективного тарифа для телеком-компании"
      ]
    },
    {
      "cell_type": "markdown",
      "metadata": {
        "id": "_Gvp10RM_UCr"
      },
      "source": [
        "В нашем распоряжении данные компании «Мегалайн» — федерального оператора сотовой связи. Клиенты используют только два тарифных плана: «Смарт» и «Ультра». Наша цель понять, какой тариф приносит больше денег.\n",
        "\n",
        "Предоставлены данные выборки из 500 пользователей «Мегалайна»: кто они, откуда, каким тарифом пользуются, сколько звонков и сообщений каждый отправил за 2018 год. Нужно проанализировать поведение клиентов и сделать вывод, какой тариф лучше."
      ]
    },
    {
      "cell_type": "markdown",
      "metadata": {
        "id": "EyWpoCp__UCs"
      },
      "source": [
        "Главная цель проекта - определить, какой тариф более прибыльный для оператора, отличаются ли ежемесячные траты пользователей двух тарифов.\n",
        "\n",
        "Идти к этой цели мы будем в несколько шагов:\n",
        "1. Посмотрим на предоставленную базу данных (5 таблиц), очистим данные и подготовим к анализу\n",
        "2. Создадим единую базу анализа, в которой будут храниться данные по 500 пользователям помесячно (каждый пользователь - до 12 строк итоговой таблицы).\n",
        "3. Проанализируем каждую переменную отдельно.\n",
        "4. Проверим основные гипотезы о различных тратах пользователей в разных тарифах, а также в Москве и в регионах.\n",
        "5. Сделаем общий вывод.\n",
        "\n",
        "В проекте используются библиотеки pandas, numpy, matplotlib. Анализ взаимосвязей проводится на основе коэффициентов корреляции, проверка статистических гипотез на основе t-тестов и построения распределений переменных на графиках."
      ]
    },
    {
      "cell_type": "markdown",
      "metadata": {
        "id": "6-jf7Xpw_UCt"
      },
      "source": [
        "## Предварительное изучение и подготовка данных из выгрузок"
      ]
    },
    {
      "cell_type": "code",
      "execution_count": 1,
      "metadata": {
        "id": "8TzrkHT__UCu"
      },
      "outputs": [],
      "source": [
        "import pandas as pd\n",
        "import numpy as np\n",
        "import matplotlib.pyplot as plt\n",
        "from scipy import stats as st"
      ]
    },
    {
      "cell_type": "markdown",
      "metadata": {
        "id": "MLgSh83V_UCv"
      },
      "source": [
        "Читаем файл. Заранее оговорим, что с первого раза не получится, т.к. в базе особый разделитель в данных - \",\", укажем его в качестве аргумента. Десятые доли отображаются корректно, поэтому аргумент decimals при чтении данных опустим."
      ]
    },
    {
      "cell_type": "markdown",
      "metadata": {
        "id": "g6gDeFfL_UCv"
      },
      "source": [
        "### Выгрузка звонков"
      ]
    },
    {
      "cell_type": "markdown",
      "metadata": {
        "id": "HkTwnJQC_UCv"
      },
      "source": [
        "Первая база данных звонков содержит id пользователя и звонка, а также дату и длительность звонка."
      ]
    },
    {
      "cell_type": "code",
      "execution_count": 2,
      "metadata": {
        "colab": {
          "base_uri": "https://localhost:8080/",
          "height": 0
        },
        "id": "dH73leg5_UCw",
        "outputId": "b37dba39-2c6b-48d2-d811-acd65aefe32c"
      },
      "outputs": [
        {
          "output_type": "display_data",
          "data": {
            "text/plain": [
              "              id   call_date  duration  user_id\n",
              "0         1000_0  2018-07-25      0.00     1000\n",
              "1         1000_1  2018-08-17      0.00     1000\n",
              "2         1000_2  2018-06-11      2.85     1000\n",
              "3         1000_3  2018-09-21     13.80     1000\n",
              "4         1000_4  2018-12-15      5.18     1000\n",
              "...          ...         ...       ...      ...\n",
              "202602  1499_215  2018-12-26      0.76     1499\n",
              "202603  1499_216  2018-10-18     18.83     1499\n",
              "202604  1499_217  2018-11-10     10.81     1499\n",
              "202605  1499_218  2018-10-06      4.27     1499\n",
              "202606  1499_219  2018-12-14     19.62     1499\n",
              "\n",
              "[202607 rows x 4 columns]"
            ],
            "text/html": [
              "\n",
              "  <div id=\"df-3d31a093-4dc1-4ae5-911b-4df16e12d33b\">\n",
              "    <div class=\"colab-df-container\">\n",
              "      <div>\n",
              "<style scoped>\n",
              "    .dataframe tbody tr th:only-of-type {\n",
              "        vertical-align: middle;\n",
              "    }\n",
              "\n",
              "    .dataframe tbody tr th {\n",
              "        vertical-align: top;\n",
              "    }\n",
              "\n",
              "    .dataframe thead th {\n",
              "        text-align: right;\n",
              "    }\n",
              "</style>\n",
              "<table border=\"1\" class=\"dataframe\">\n",
              "  <thead>\n",
              "    <tr style=\"text-align: right;\">\n",
              "      <th></th>\n",
              "      <th>id</th>\n",
              "      <th>call_date</th>\n",
              "      <th>duration</th>\n",
              "      <th>user_id</th>\n",
              "    </tr>\n",
              "  </thead>\n",
              "  <tbody>\n",
              "    <tr>\n",
              "      <th>0</th>\n",
              "      <td>1000_0</td>\n",
              "      <td>2018-07-25</td>\n",
              "      <td>0.00</td>\n",
              "      <td>1000</td>\n",
              "    </tr>\n",
              "    <tr>\n",
              "      <th>1</th>\n",
              "      <td>1000_1</td>\n",
              "      <td>2018-08-17</td>\n",
              "      <td>0.00</td>\n",
              "      <td>1000</td>\n",
              "    </tr>\n",
              "    <tr>\n",
              "      <th>2</th>\n",
              "      <td>1000_2</td>\n",
              "      <td>2018-06-11</td>\n",
              "      <td>2.85</td>\n",
              "      <td>1000</td>\n",
              "    </tr>\n",
              "    <tr>\n",
              "      <th>3</th>\n",
              "      <td>1000_3</td>\n",
              "      <td>2018-09-21</td>\n",
              "      <td>13.80</td>\n",
              "      <td>1000</td>\n",
              "    </tr>\n",
              "    <tr>\n",
              "      <th>4</th>\n",
              "      <td>1000_4</td>\n",
              "      <td>2018-12-15</td>\n",
              "      <td>5.18</td>\n",
              "      <td>1000</td>\n",
              "    </tr>\n",
              "    <tr>\n",
              "      <th>...</th>\n",
              "      <td>...</td>\n",
              "      <td>...</td>\n",
              "      <td>...</td>\n",
              "      <td>...</td>\n",
              "    </tr>\n",
              "    <tr>\n",
              "      <th>202602</th>\n",
              "      <td>1499_215</td>\n",
              "      <td>2018-12-26</td>\n",
              "      <td>0.76</td>\n",
              "      <td>1499</td>\n",
              "    </tr>\n",
              "    <tr>\n",
              "      <th>202603</th>\n",
              "      <td>1499_216</td>\n",
              "      <td>2018-10-18</td>\n",
              "      <td>18.83</td>\n",
              "      <td>1499</td>\n",
              "    </tr>\n",
              "    <tr>\n",
              "      <th>202604</th>\n",
              "      <td>1499_217</td>\n",
              "      <td>2018-11-10</td>\n",
              "      <td>10.81</td>\n",
              "      <td>1499</td>\n",
              "    </tr>\n",
              "    <tr>\n",
              "      <th>202605</th>\n",
              "      <td>1499_218</td>\n",
              "      <td>2018-10-06</td>\n",
              "      <td>4.27</td>\n",
              "      <td>1499</td>\n",
              "    </tr>\n",
              "    <tr>\n",
              "      <th>202606</th>\n",
              "      <td>1499_219</td>\n",
              "      <td>2018-12-14</td>\n",
              "      <td>19.62</td>\n",
              "      <td>1499</td>\n",
              "    </tr>\n",
              "  </tbody>\n",
              "</table>\n",
              "<p>202607 rows × 4 columns</p>\n",
              "</div>\n",
              "      <button class=\"colab-df-convert\" onclick=\"convertToInteractive('df-3d31a093-4dc1-4ae5-911b-4df16e12d33b')\"\n",
              "              title=\"Convert this dataframe to an interactive table.\"\n",
              "              style=\"display:none;\">\n",
              "        \n",
              "  <svg xmlns=\"http://www.w3.org/2000/svg\" height=\"24px\"viewBox=\"0 0 24 24\"\n",
              "       width=\"24px\">\n",
              "    <path d=\"M0 0h24v24H0V0z\" fill=\"none\"/>\n",
              "    <path d=\"M18.56 5.44l.94 2.06.94-2.06 2.06-.94-2.06-.94-.94-2.06-.94 2.06-2.06.94zm-11 1L8.5 8.5l.94-2.06 2.06-.94-2.06-.94L8.5 2.5l-.94 2.06-2.06.94zm10 10l.94 2.06.94-2.06 2.06-.94-2.06-.94-.94-2.06-.94 2.06-2.06.94z\"/><path d=\"M17.41 7.96l-1.37-1.37c-.4-.4-.92-.59-1.43-.59-.52 0-1.04.2-1.43.59L10.3 9.45l-7.72 7.72c-.78.78-.78 2.05 0 2.83L4 21.41c.39.39.9.59 1.41.59.51 0 1.02-.2 1.41-.59l7.78-7.78 2.81-2.81c.8-.78.8-2.07 0-2.86zM5.41 20L4 18.59l7.72-7.72 1.47 1.35L5.41 20z\"/>\n",
              "  </svg>\n",
              "      </button>\n",
              "      \n",
              "  <style>\n",
              "    .colab-df-container {\n",
              "      display:flex;\n",
              "      flex-wrap:wrap;\n",
              "      gap: 12px;\n",
              "    }\n",
              "\n",
              "    .colab-df-convert {\n",
              "      background-color: #E8F0FE;\n",
              "      border: none;\n",
              "      border-radius: 50%;\n",
              "      cursor: pointer;\n",
              "      display: none;\n",
              "      fill: #1967D2;\n",
              "      height: 32px;\n",
              "      padding: 0 0 0 0;\n",
              "      width: 32px;\n",
              "    }\n",
              "\n",
              "    .colab-df-convert:hover {\n",
              "      background-color: #E2EBFA;\n",
              "      box-shadow: 0px 1px 2px rgba(60, 64, 67, 0.3), 0px 1px 3px 1px rgba(60, 64, 67, 0.15);\n",
              "      fill: #174EA6;\n",
              "    }\n",
              "\n",
              "    [theme=dark] .colab-df-convert {\n",
              "      background-color: #3B4455;\n",
              "      fill: #D2E3FC;\n",
              "    }\n",
              "\n",
              "    [theme=dark] .colab-df-convert:hover {\n",
              "      background-color: #434B5C;\n",
              "      box-shadow: 0px 1px 3px 1px rgba(0, 0, 0, 0.15);\n",
              "      filter: drop-shadow(0px 1px 2px rgba(0, 0, 0, 0.3));\n",
              "      fill: #FFFFFF;\n",
              "    }\n",
              "  </style>\n",
              "\n",
              "      <script>\n",
              "        const buttonEl =\n",
              "          document.querySelector('#df-3d31a093-4dc1-4ae5-911b-4df16e12d33b button.colab-df-convert');\n",
              "        buttonEl.style.display =\n",
              "          google.colab.kernel.accessAllowed ? 'block' : 'none';\n",
              "\n",
              "        async function convertToInteractive(key) {\n",
              "          const element = document.querySelector('#df-3d31a093-4dc1-4ae5-911b-4df16e12d33b');\n",
              "          const dataTable =\n",
              "            await google.colab.kernel.invokeFunction('convertToInteractive',\n",
              "                                                     [key], {});\n",
              "          if (!dataTable) return;\n",
              "\n",
              "          const docLinkHtml = 'Like what you see? Visit the ' +\n",
              "            '<a target=\"_blank\" href=https://colab.research.google.com/notebooks/data_table.ipynb>data table notebook</a>'\n",
              "            + ' to learn more about interactive tables.';\n",
              "          element.innerHTML = '';\n",
              "          dataTable['output_type'] = 'display_data';\n",
              "          await google.colab.output.renderOutput(dataTable, element);\n",
              "          const docLink = document.createElement('div');\n",
              "          docLink.innerHTML = docLinkHtml;\n",
              "          element.appendChild(docLink);\n",
              "        }\n",
              "      </script>\n",
              "    </div>\n",
              "  </div>\n",
              "  "
            ]
          },
          "metadata": {}
        },
        {
          "output_type": "stream",
          "name": "stdout",
          "text": [
            "<class 'pandas.core.frame.DataFrame'>\n",
            "RangeIndex: 202607 entries, 0 to 202606\n",
            "Data columns (total 4 columns):\n",
            " #   Column     Non-Null Count   Dtype  \n",
            "---  ------     --------------   -----  \n",
            " 0   id         202607 non-null  object \n",
            " 1   call_date  202607 non-null  object \n",
            " 2   duration   202607 non-null  float64\n",
            " 3   user_id    202607 non-null  int64  \n",
            "dtypes: float64(1), int64(1), object(2)\n",
            "memory usage: 6.2+ MB\n"
          ]
        }
      ],
      "source": [
        "df_calls = pd.read_csv('calls.csv', sep= ',')\n",
        "display(df_calls)\n",
        "df_calls.info()"
      ]
    },
    {
      "cell_type": "markdown",
      "metadata": {
        "id": "Wkju0YYG_UCx"
      },
      "source": [
        "Пропусков нет. Первая переменная - id, заведена как текст. Она состоит из id пользователя и порядкового номера звонка. На данном этапе нет необходимости выделять отдельно порядковый номер звонка.\n",
        "\n",
        "А вот в переменной даты звонка нам понадобится день недели, месяц и год. Выделим их в отдельные переменные."
      ]
    },
    {
      "cell_type": "code",
      "execution_count": 3,
      "metadata": {
        "colab": {
          "base_uri": "https://localhost:8080/",
          "height": 0
        },
        "id": "4lmBQ_7o_UCy",
        "outputId": "eca50600-67a3-44fe-d046-e104b9eb5730"
      },
      "outputs": [
        {
          "output_type": "display_data",
          "data": {
            "text/plain": [
              "              id  call_date  duration  user_id  weekday  month  year\n",
              "0         1000_0 2018-07-25      0.00     1000        2      7  2018\n",
              "1         1000_1 2018-08-17      0.00     1000        4      8  2018\n",
              "2         1000_2 2018-06-11      2.85     1000        0      6  2018\n",
              "3         1000_3 2018-09-21     13.80     1000        4      9  2018\n",
              "4         1000_4 2018-12-15      5.18     1000        5     12  2018\n",
              "...          ...        ...       ...      ...      ...    ...   ...\n",
              "202602  1499_215 2018-12-26      0.76     1499        2     12  2018\n",
              "202603  1499_216 2018-10-18     18.83     1499        3     10  2018\n",
              "202604  1499_217 2018-11-10     10.81     1499        5     11  2018\n",
              "202605  1499_218 2018-10-06      4.27     1499        5     10  2018\n",
              "202606  1499_219 2018-12-14     19.62     1499        4     12  2018\n",
              "\n",
              "[202607 rows x 7 columns]"
            ],
            "text/html": [
              "\n",
              "  <div id=\"df-0b766318-e044-481b-b189-a8d88de0953b\">\n",
              "    <div class=\"colab-df-container\">\n",
              "      <div>\n",
              "<style scoped>\n",
              "    .dataframe tbody tr th:only-of-type {\n",
              "        vertical-align: middle;\n",
              "    }\n",
              "\n",
              "    .dataframe tbody tr th {\n",
              "        vertical-align: top;\n",
              "    }\n",
              "\n",
              "    .dataframe thead th {\n",
              "        text-align: right;\n",
              "    }\n",
              "</style>\n",
              "<table border=\"1\" class=\"dataframe\">\n",
              "  <thead>\n",
              "    <tr style=\"text-align: right;\">\n",
              "      <th></th>\n",
              "      <th>id</th>\n",
              "      <th>call_date</th>\n",
              "      <th>duration</th>\n",
              "      <th>user_id</th>\n",
              "      <th>weekday</th>\n",
              "      <th>month</th>\n",
              "      <th>year</th>\n",
              "    </tr>\n",
              "  </thead>\n",
              "  <tbody>\n",
              "    <tr>\n",
              "      <th>0</th>\n",
              "      <td>1000_0</td>\n",
              "      <td>2018-07-25</td>\n",
              "      <td>0.00</td>\n",
              "      <td>1000</td>\n",
              "      <td>2</td>\n",
              "      <td>7</td>\n",
              "      <td>2018</td>\n",
              "    </tr>\n",
              "    <tr>\n",
              "      <th>1</th>\n",
              "      <td>1000_1</td>\n",
              "      <td>2018-08-17</td>\n",
              "      <td>0.00</td>\n",
              "      <td>1000</td>\n",
              "      <td>4</td>\n",
              "      <td>8</td>\n",
              "      <td>2018</td>\n",
              "    </tr>\n",
              "    <tr>\n",
              "      <th>2</th>\n",
              "      <td>1000_2</td>\n",
              "      <td>2018-06-11</td>\n",
              "      <td>2.85</td>\n",
              "      <td>1000</td>\n",
              "      <td>0</td>\n",
              "      <td>6</td>\n",
              "      <td>2018</td>\n",
              "    </tr>\n",
              "    <tr>\n",
              "      <th>3</th>\n",
              "      <td>1000_3</td>\n",
              "      <td>2018-09-21</td>\n",
              "      <td>13.80</td>\n",
              "      <td>1000</td>\n",
              "      <td>4</td>\n",
              "      <td>9</td>\n",
              "      <td>2018</td>\n",
              "    </tr>\n",
              "    <tr>\n",
              "      <th>4</th>\n",
              "      <td>1000_4</td>\n",
              "      <td>2018-12-15</td>\n",
              "      <td>5.18</td>\n",
              "      <td>1000</td>\n",
              "      <td>5</td>\n",
              "      <td>12</td>\n",
              "      <td>2018</td>\n",
              "    </tr>\n",
              "    <tr>\n",
              "      <th>...</th>\n",
              "      <td>...</td>\n",
              "      <td>...</td>\n",
              "      <td>...</td>\n",
              "      <td>...</td>\n",
              "      <td>...</td>\n",
              "      <td>...</td>\n",
              "      <td>...</td>\n",
              "    </tr>\n",
              "    <tr>\n",
              "      <th>202602</th>\n",
              "      <td>1499_215</td>\n",
              "      <td>2018-12-26</td>\n",
              "      <td>0.76</td>\n",
              "      <td>1499</td>\n",
              "      <td>2</td>\n",
              "      <td>12</td>\n",
              "      <td>2018</td>\n",
              "    </tr>\n",
              "    <tr>\n",
              "      <th>202603</th>\n",
              "      <td>1499_216</td>\n",
              "      <td>2018-10-18</td>\n",
              "      <td>18.83</td>\n",
              "      <td>1499</td>\n",
              "      <td>3</td>\n",
              "      <td>10</td>\n",
              "      <td>2018</td>\n",
              "    </tr>\n",
              "    <tr>\n",
              "      <th>202604</th>\n",
              "      <td>1499_217</td>\n",
              "      <td>2018-11-10</td>\n",
              "      <td>10.81</td>\n",
              "      <td>1499</td>\n",
              "      <td>5</td>\n",
              "      <td>11</td>\n",
              "      <td>2018</td>\n",
              "    </tr>\n",
              "    <tr>\n",
              "      <th>202605</th>\n",
              "      <td>1499_218</td>\n",
              "      <td>2018-10-06</td>\n",
              "      <td>4.27</td>\n",
              "      <td>1499</td>\n",
              "      <td>5</td>\n",
              "      <td>10</td>\n",
              "      <td>2018</td>\n",
              "    </tr>\n",
              "    <tr>\n",
              "      <th>202606</th>\n",
              "      <td>1499_219</td>\n",
              "      <td>2018-12-14</td>\n",
              "      <td>19.62</td>\n",
              "      <td>1499</td>\n",
              "      <td>4</td>\n",
              "      <td>12</td>\n",
              "      <td>2018</td>\n",
              "    </tr>\n",
              "  </tbody>\n",
              "</table>\n",
              "<p>202607 rows × 7 columns</p>\n",
              "</div>\n",
              "      <button class=\"colab-df-convert\" onclick=\"convertToInteractive('df-0b766318-e044-481b-b189-a8d88de0953b')\"\n",
              "              title=\"Convert this dataframe to an interactive table.\"\n",
              "              style=\"display:none;\">\n",
              "        \n",
              "  <svg xmlns=\"http://www.w3.org/2000/svg\" height=\"24px\"viewBox=\"0 0 24 24\"\n",
              "       width=\"24px\">\n",
              "    <path d=\"M0 0h24v24H0V0z\" fill=\"none\"/>\n",
              "    <path d=\"M18.56 5.44l.94 2.06.94-2.06 2.06-.94-2.06-.94-.94-2.06-.94 2.06-2.06.94zm-11 1L8.5 8.5l.94-2.06 2.06-.94-2.06-.94L8.5 2.5l-.94 2.06-2.06.94zm10 10l.94 2.06.94-2.06 2.06-.94-2.06-.94-.94-2.06-.94 2.06-2.06.94z\"/><path d=\"M17.41 7.96l-1.37-1.37c-.4-.4-.92-.59-1.43-.59-.52 0-1.04.2-1.43.59L10.3 9.45l-7.72 7.72c-.78.78-.78 2.05 0 2.83L4 21.41c.39.39.9.59 1.41.59.51 0 1.02-.2 1.41-.59l7.78-7.78 2.81-2.81c.8-.78.8-2.07 0-2.86zM5.41 20L4 18.59l7.72-7.72 1.47 1.35L5.41 20z\"/>\n",
              "  </svg>\n",
              "      </button>\n",
              "      \n",
              "  <style>\n",
              "    .colab-df-container {\n",
              "      display:flex;\n",
              "      flex-wrap:wrap;\n",
              "      gap: 12px;\n",
              "    }\n",
              "\n",
              "    .colab-df-convert {\n",
              "      background-color: #E8F0FE;\n",
              "      border: none;\n",
              "      border-radius: 50%;\n",
              "      cursor: pointer;\n",
              "      display: none;\n",
              "      fill: #1967D2;\n",
              "      height: 32px;\n",
              "      padding: 0 0 0 0;\n",
              "      width: 32px;\n",
              "    }\n",
              "\n",
              "    .colab-df-convert:hover {\n",
              "      background-color: #E2EBFA;\n",
              "      box-shadow: 0px 1px 2px rgba(60, 64, 67, 0.3), 0px 1px 3px 1px rgba(60, 64, 67, 0.15);\n",
              "      fill: #174EA6;\n",
              "    }\n",
              "\n",
              "    [theme=dark] .colab-df-convert {\n",
              "      background-color: #3B4455;\n",
              "      fill: #D2E3FC;\n",
              "    }\n",
              "\n",
              "    [theme=dark] .colab-df-convert:hover {\n",
              "      background-color: #434B5C;\n",
              "      box-shadow: 0px 1px 3px 1px rgba(0, 0, 0, 0.15);\n",
              "      filter: drop-shadow(0px 1px 2px rgba(0, 0, 0, 0.3));\n",
              "      fill: #FFFFFF;\n",
              "    }\n",
              "  </style>\n",
              "\n",
              "      <script>\n",
              "        const buttonEl =\n",
              "          document.querySelector('#df-0b766318-e044-481b-b189-a8d88de0953b button.colab-df-convert');\n",
              "        buttonEl.style.display =\n",
              "          google.colab.kernel.accessAllowed ? 'block' : 'none';\n",
              "\n",
              "        async function convertToInteractive(key) {\n",
              "          const element = document.querySelector('#df-0b766318-e044-481b-b189-a8d88de0953b');\n",
              "          const dataTable =\n",
              "            await google.colab.kernel.invokeFunction('convertToInteractive',\n",
              "                                                     [key], {});\n",
              "          if (!dataTable) return;\n",
              "\n",
              "          const docLinkHtml = 'Like what you see? Visit the ' +\n",
              "            '<a target=\"_blank\" href=https://colab.research.google.com/notebooks/data_table.ipynb>data table notebook</a>'\n",
              "            + ' to learn more about interactive tables.';\n",
              "          element.innerHTML = '';\n",
              "          dataTable['output_type'] = 'display_data';\n",
              "          await google.colab.output.renderOutput(dataTable, element);\n",
              "          const docLink = document.createElement('div');\n",
              "          docLink.innerHTML = docLinkHtml;\n",
              "          element.appendChild(docLink);\n",
              "        }\n",
              "      </script>\n",
              "    </div>\n",
              "  </div>\n",
              "  "
            ]
          },
          "metadata": {}
        },
        {
          "output_type": "stream",
          "name": "stdout",
          "text": [
            "<class 'pandas.core.frame.DataFrame'>\n",
            "RangeIndex: 202607 entries, 0 to 202606\n",
            "Data columns (total 7 columns):\n",
            " #   Column     Non-Null Count   Dtype         \n",
            "---  ------     --------------   -----         \n",
            " 0   id         202607 non-null  object        \n",
            " 1   call_date  202607 non-null  datetime64[ns]\n",
            " 2   duration   202607 non-null  float64       \n",
            " 3   user_id    202607 non-null  int64         \n",
            " 4   weekday    202607 non-null  int64         \n",
            " 5   month      202607 non-null  int64         \n",
            " 6   year       202607 non-null  int64         \n",
            "dtypes: datetime64[ns](1), float64(1), int64(4), object(1)\n",
            "memory usage: 10.8+ MB\n"
          ]
        }
      ],
      "source": [
        "df_calls['call_date'] = pd.to_datetime(df_calls['call_date'])\n",
        "df_calls['weekday'] = df_calls['call_date'].dt.weekday\n",
        "df_calls['month'] = df_calls['call_date'].dt.month\n",
        "df_calls['year'] = df_calls['call_date'].dt.year\n",
        "display(df_calls)\n",
        "df_calls.info()"
      ]
    },
    {
      "cell_type": "markdown",
      "metadata": {
        "id": "uXzFHUik_UCy"
      },
      "source": [
        "Полученные переменные созданы корректно, ошибок нет. Посмотрим на вторую переменную - длительность звонков."
      ]
    },
    {
      "cell_type": "code",
      "execution_count": 4,
      "metadata": {
        "scrolled": true,
        "colab": {
          "base_uri": "https://localhost:8080/",
          "height": 0
        },
        "id": "L3m5HXhS_UCy",
        "outputId": "6834a4e6-e2e3-4d66-b916-43049e3f69d0"
      },
      "outputs": [
        {
          "output_type": "display_data",
          "data": {
            "text/plain": [
              "<Figure size 720x504 with 1 Axes>"
            ],
            "image/png": "[encoded data removed]"
          },
          "metadata": {
            "needs_background": "light"
          }
        }
      ],
      "source": [
        "df_calls['duration'].hist(bins=30,color='purple',figsize=(10,7))\n",
        "plt.title('Частотное распределение длительности звонков')\n",
        "plt.xlabel('длительность звонков')\n",
        "plt.ylabel('количество случаев в базе')\n",
        "plt.show()"
      ]
    },
    {
      "cell_type": "markdown",
      "metadata": {
        "id": "vDTlFtoX_UC0"
      },
      "source": [
        "В документах к заданию указано, что 0 - это \"недозвоны\". Т.к. у нас данные тольк об исходящих звонках, то 0 - это ситуация, когда пользователь набрал номер, а адресат не взял трубку. Количество таких ситуаций - четверть. Похоже на правду. Таким образом, ошибок в данной базе не найдено.\n",
        "\n",
        "Однако у нас есть примечание - звонки тарифицируются поминутно. Т.к. мы исследуем траты по тарифам, а не действительную длительность разговоров, округлим количество звонков до целых в большую сторону, как это делает оператор, и переведём эти значения в целые числа."
      ]
    },
    {
      "cell_type": "code",
      "execution_count": 5,
      "metadata": {
        "colab": {
          "base_uri": "https://localhost:8080/"
        },
        "id": "ctQjF-RD_UC0",
        "outputId": "27d2e6cd-cd9a-4f17-fba0-2a9e0289ba83"
      },
      "outputs": [
        {
          "output_type": "stream",
          "name": "stdout",
          "text": [
            "<class 'pandas.core.frame.DataFrame'>\n",
            "RangeIndex: 202607 entries, 0 to 202606\n",
            "Data columns (total 7 columns):\n",
            " #   Column     Non-Null Count   Dtype         \n",
            "---  ------     --------------   -----         \n",
            " 0   id         202607 non-null  object        \n",
            " 1   call_date  202607 non-null  datetime64[ns]\n",
            " 2   duration   202607 non-null  float64       \n",
            " 3   user_id    202607 non-null  int64         \n",
            " 4   weekday    202607 non-null  int64         \n",
            " 5   month      202607 non-null  int64         \n",
            " 6   year       202607 non-null  int64         \n",
            "dtypes: datetime64[ns](1), float64(1), int64(4), object(1)\n",
            "memory usage: 10.8+ MB\n"
          ]
        }
      ],
      "source": [
        "df_calls['duration'] = np.ceil(df_calls['duration'])\n",
        "df_calls.info()"
      ]
    },
    {
      "cell_type": "markdown",
      "metadata": {
        "id": "hSu1CD9y_UC2"
      },
      "source": [
        "В дальнейшем мы будем работать с данными по каждому пользователю помесячно. Создадим новую таблицу, которую будем в дальнейшем соединять в единую базу по пользователям помесячно."
      ]
    },
    {
      "cell_type": "code",
      "execution_count": 6,
      "metadata": {
        "colab": {
          "base_uri": "https://localhost:8080/",
          "height": 0
        },
        "id": "_PM4oTvL_UC2",
        "outputId": "49a1568e-ecba-4500-a9a2-747575a582fc"
      },
      "outputs": [
        {
          "output_type": "execute_result",
          "data": {
            "text/plain": [
              "                 sum\n",
              "user_id month       \n",
              "1000    5      159.0\n",
              "        6      172.0\n",
              "        7      340.0\n",
              "        8      408.0\n",
              "        9      466.0\n",
              "...              ...\n",
              "1498    10     247.0\n",
              "1499    9       70.0\n",
              "        10     449.0\n",
              "        11     612.0\n",
              "        12     492.0\n",
              "\n",
              "[3174 rows x 1 columns]"
            ],
            "text/html": [
              "\n",
              "  <div id=\"df-ec278b66-6ff7-4b69-b390-dd15347554ce\">\n",
              "    <div class=\"colab-df-container\">\n",
              "      <div>\n",
              "<style scoped>\n",
              "    .dataframe tbody tr th:only-of-type {\n",
              "        vertical-align: middle;\n",
              "    }\n",
              "\n",
              "    .dataframe tbody tr th {\n",
              "        vertical-align: top;\n",
              "    }\n",
              "\n",
              "    .dataframe thead th {\n",
              "        text-align: right;\n",
              "    }\n",
              "</style>\n",
              "<table border=\"1\" class=\"dataframe\">\n",
              "  <thead>\n",
              "    <tr style=\"text-align: right;\">\n",
              "      <th></th>\n",
              "      <th></th>\n",
              "      <th>sum</th>\n",
              "    </tr>\n",
              "    <tr>\n",
              "      <th>user_id</th>\n",
              "      <th>month</th>\n",
              "      <th></th>\n",
              "    </tr>\n",
              "  </thead>\n",
              "  <tbody>\n",
              "    <tr>\n",
              "      <th rowspan=\"5\" valign=\"top\">1000</th>\n",
              "      <th>5</th>\n",
              "      <td>159.0</td>\n",
              "    </tr>\n",
              "    <tr>\n",
              "      <th>6</th>\n",
              "      <td>172.0</td>\n",
              "    </tr>\n",
              "    <tr>\n",
              "      <th>7</th>\n",
              "      <td>340.0</td>\n",
              "    </tr>\n",
              "    <tr>\n",
              "      <th>8</th>\n",
              "      <td>408.0</td>\n",
              "    </tr>\n",
              "    <tr>\n",
              "      <th>9</th>\n",
              "      <td>466.0</td>\n",
              "    </tr>\n",
              "    <tr>\n",
              "      <th>...</th>\n",
              "      <th>...</th>\n",
              "      <td>...</td>\n",
              "    </tr>\n",
              "    <tr>\n",
              "      <th>1498</th>\n",
              "      <th>10</th>\n",
              "      <td>247.0</td>\n",
              "    </tr>\n",
              "    <tr>\n",
              "      <th rowspan=\"4\" valign=\"top\">1499</th>\n",
              "      <th>9</th>\n",
              "      <td>70.0</td>\n",
              "    </tr>\n",
              "    <tr>\n",
              "      <th>10</th>\n",
              "      <td>449.0</td>\n",
              "    </tr>\n",
              "    <tr>\n",
              "      <th>11</th>\n",
              "      <td>612.0</td>\n",
              "    </tr>\n",
              "    <tr>\n",
              "      <th>12</th>\n",
              "      <td>492.0</td>\n",
              "    </tr>\n",
              "  </tbody>\n",
              "</table>\n",
              "<p>3174 rows × 1 columns</p>\n",
              "</div>\n",
              "      <button class=\"colab-df-convert\" onclick=\"convertToInteractive('df-ec278b66-6ff7-4b69-b390-dd15347554ce')\"\n",
              "              title=\"Convert this dataframe to an interactive table.\"\n",
              "              style=\"display:none;\">\n",
              "        \n",
              "  <svg xmlns=\"http://www.w3.org/2000/svg\" height=\"24px\"viewBox=\"0 0 24 24\"\n",
              "       width=\"24px\">\n",
              "    <path d=\"M0 0h24v24H0V0z\" fill=\"none\"/>\n",
              "    <path d=\"M18.56 5.44l.94 2.06.94-2.06 2.06-.94-2.06-.94-.94-2.06-.94 2.06-2.06.94zm-11 1L8.5 8.5l.94-2.06 2.06-.94-2.06-.94L8.5 2.5l-.94 2.06-2.06.94zm10 10l.94 2.06.94-2.06 2.06-.94-2.06-.94-.94-2.06-.94 2.06-2.06.94z\"/><path d=\"M17.41 7.96l-1.37-1.37c-.4-.4-.92-.59-1.43-.59-.52 0-1.04.2-1.43.59L10.3 9.45l-7.72 7.72c-.78.78-.78 2.05 0 2.83L4 21.41c.39.39.9.59 1.41.59.51 0 1.02-.2 1.41-.59l7.78-7.78 2.81-2.81c.8-.78.8-2.07 0-2.86zM5.41 20L4 18.59l7.72-7.72 1.47 1.35L5.41 20z\"/>\n",
              "  </svg>\n",
              "      </button>\n",
              "      \n",
              "  <style>\n",
              "    .colab-df-container {\n",
              "      display:flex;\n",
              "      flex-wrap:wrap;\n",
              "      gap: 12px;\n",
              "    }\n",
              "\n",
              "    .colab-df-convert {\n",
              "      background-color: #E8F0FE;\n",
              "      border: none;\n",
              "      border-radius: 50%;\n",
              "      cursor: pointer;\n",
              "      display: none;\n",
              "      fill: #1967D2;\n",
              "      height: 32px;\n",
              "      padding: 0 0 0 0;\n",
              "      width: 32px;\n",
              "    }\n",
              "\n",
              "    .colab-df-convert:hover {\n",
              "      background-color: #E2EBFA;\n",
              "      box-shadow: 0px 1px 2px rgba(60, 64, 67, 0.3), 0px 1px 3px 1px rgba(60, 64, 67, 0.15);\n",
              "      fill: #174EA6;\n",
              "    }\n",
              "\n",
              "    [theme=dark] .colab-df-convert {\n",
              "      background-color: #3B4455;\n",
              "      fill: #D2E3FC;\n",
              "    }\n",
              "\n",
              "    [theme=dark] .colab-df-convert:hover {\n",
              "      background-color: #434B5C;\n",
              "      box-shadow: 0px 1px 3px 1px rgba(0, 0, 0, 0.15);\n",
              "      filter: drop-shadow(0px 1px 2px rgba(0, 0, 0, 0.3));\n",
              "      fill: #FFFFFF;\n",
              "    }\n",
              "  </style>\n",
              "\n",
              "      <script>\n",
              "        const buttonEl =\n",
              "          document.querySelector('#df-ec278b66-6ff7-4b69-b390-dd15347554ce button.colab-df-convert');\n",
              "        buttonEl.style.display =\n",
              "          google.colab.kernel.accessAllowed ? 'block' : 'none';\n",
              "\n",
              "        async function convertToInteractive(key) {\n",
              "          const element = document.querySelector('#df-ec278b66-6ff7-4b69-b390-dd15347554ce');\n",
              "          const dataTable =\n",
              "            await google.colab.kernel.invokeFunction('convertToInteractive',\n",
              "                                                     [key], {});\n",
              "          if (!dataTable) return;\n",
              "\n",
              "          const docLinkHtml = 'Like what you see? Visit the ' +\n",
              "            '<a target=\"_blank\" href=https://colab.research.google.com/notebooks/data_table.ipynb>data table notebook</a>'\n",
              "            + ' to learn more about interactive tables.';\n",
              "          element.innerHTML = '';\n",
              "          dataTable['output_type'] = 'display_data';\n",
              "          await google.colab.output.renderOutput(dataTable, element);\n",
              "          const docLink = document.createElement('div');\n",
              "          docLink.innerHTML = docLinkHtml;\n",
              "          element.appendChild(docLink);\n",
              "        }\n",
              "      </script>\n",
              "    </div>\n",
              "  </div>\n",
              "  "
            ]
          },
          "metadata": {},
          "execution_count": 6
        }
      ],
      "source": [
        "df_calls_monthly = pd.pivot_table(df_calls, index=['user_id','month'], values='duration', aggfunc={'sum'})\n",
        "df_calls_monthly"
      ]
    },
    {
      "cell_type": "markdown",
      "metadata": {
        "id": "fSKMfKoU_UC2"
      },
      "source": [
        "### Выгрузка по интернет-трафику"
      ]
    },
    {
      "cell_type": "markdown",
      "metadata": {
        "id": "XBichoMK_UC3"
      },
      "source": [
        "Здесь у нас id сессии, созданный по тому же принципу, что и в базе звонков, объём использованных мегабайт и дата выхода в интернет."
      ]
    },
    {
      "cell_type": "code",
      "execution_count": 7,
      "metadata": {
        "colab": {
          "base_uri": "https://localhost:8080/",
          "height": 632
        },
        "id": "ZPDsy7vG_UC3",
        "outputId": "04cc2877-abd2-4140-e6a3-ab07a6d95e96"
      },
      "outputs": [
        {
          "output_type": "display_data",
          "data": {
            "text/plain": [
              "        Unnamed: 0        id  mb_used session_date  user_id\n",
              "0                0    1000_0   112.95   2018-11-25     1000\n",
              "1                1    1000_1  1052.81   2018-09-07     1000\n",
              "2                2    1000_2  1197.26   2018-06-25     1000\n",
              "3                3    1000_3   550.27   2018-08-22     1000\n",
              "4                4    1000_4   302.56   2018-09-24     1000\n",
              "...            ...       ...      ...          ...      ...\n",
              "149391      149391  1499_152   318.90   2018-10-03     1499\n",
              "149392      149392  1499_153   490.13   2018-12-14     1499\n",
              "149393      149393  1499_154     0.00   2018-10-27     1499\n",
              "149394      149394  1499_155  1246.32   2018-11-26     1499\n",
              "149395      149395  1499_156   544.37   2018-10-26     1499\n",
              "\n",
              "[149396 rows x 5 columns]"
            ],
            "text/html": [
              "\n",
              "  <div id=\"df-93d96dff-8c8d-4e5b-8e79-1342c5e0a44b\">\n",
              "    <div class=\"colab-df-container\">\n",
              "      <div>\n",
              "<style scoped>\n",
              "    .dataframe tbody tr th:only-of-type {\n",
              "        vertical-align: middle;\n",
              "    }\n",
              "\n",
              "    .dataframe tbody tr th {\n",
              "        vertical-align: top;\n",
              "    }\n",
              "\n",
              "    .dataframe thead th {\n",
              "        text-align: right;\n",
              "    }\n",
              "</style>\n",
              "<table border=\"1\" class=\"dataframe\">\n",
              "  <thead>\n",
              "    <tr style=\"text-align: right;\">\n",
              "      <th></th>\n",
              "      <th>Unnamed: 0</th>\n",
              "      <th>id</th>\n",
              "      <th>mb_used</th>\n",
              "      <th>session_date</th>\n",
              "      <th>user_id</th>\n",
              "    </tr>\n",
              "  </thead>\n",
              "  <tbody>\n",
              "    <tr>\n",
              "      <th>0</th>\n",
              "      <td>0</td>\n",
              "      <td>1000_0</td>\n",
              "      <td>112.95</td>\n",
              "      <td>2018-11-25</td>\n",
              "      <td>1000</td>\n",
              "    </tr>\n",
              "    <tr>\n",
              "      <th>1</th>\n",
              "      <td>1</td>\n",
              "      <td>1000_1</td>\n",
              "      <td>1052.81</td>\n",
              "      <td>2018-09-07</td>\n",
              "      <td>1000</td>\n",
              "    </tr>\n",
              "    <tr>\n",
              "      <th>2</th>\n",
              "      <td>2</td>\n",
              "      <td>1000_2</td>\n",
              "      <td>1197.26</td>\n",
              "      <td>2018-06-25</td>\n",
              "      <td>1000</td>\n",
              "    </tr>\n",
              "    <tr>\n",
              "      <th>3</th>\n",
              "      <td>3</td>\n",
              "      <td>1000_3</td>\n",
              "      <td>550.27</td>\n",
              "      <td>2018-08-22</td>\n",
              "      <td>1000</td>\n",
              "    </tr>\n",
              "    <tr>\n",
              "      <th>4</th>\n",
              "      <td>4</td>\n",
              "      <td>1000_4</td>\n",
              "      <td>302.56</td>\n",
              "      <td>2018-09-24</td>\n",
              "      <td>1000</td>\n",
              "    </tr>\n",
              "    <tr>\n",
              "      <th>...</th>\n",
              "      <td>...</td>\n",
              "      <td>...</td>\n",
              "      <td>...</td>\n",
              "      <td>...</td>\n",
              "      <td>...</td>\n",
              "    </tr>\n",
              "    <tr>\n",
              "      <th>149391</th>\n",
              "      <td>149391</td>\n",
              "      <td>1499_152</td>\n",
              "      <td>318.90</td>\n",
              "      <td>2018-10-03</td>\n",
              "      <td>1499</td>\n",
              "    </tr>\n",
              "    <tr>\n",
              "      <th>149392</th>\n",
              "      <td>149392</td>\n",
              "      <td>1499_153</td>\n",
              "      <td>490.13</td>\n",
              "      <td>2018-12-14</td>\n",
              "      <td>1499</td>\n",
              "    </tr>\n",
              "    <tr>\n",
              "      <th>149393</th>\n",
              "      <td>149393</td>\n",
              "      <td>1499_154</td>\n",
              "      <td>0.00</td>\n",
              "      <td>2018-10-27</td>\n",
              "      <td>1499</td>\n",
              "    </tr>\n",
              "    <tr>\n",
              "      <th>149394</th>\n",
              "      <td>149394</td>\n",
              "      <td>1499_155</td>\n",
              "      <td>1246.32</td>\n",
              "      <td>2018-11-26</td>\n",
              "      <td>1499</td>\n",
              "    </tr>\n",
              "    <tr>\n",
              "      <th>149395</th>\n",
              "      <td>149395</td>\n",
              "      <td>1499_156</td>\n",
              "      <td>544.37</td>\n",
              "      <td>2018-10-26</td>\n",
              "      <td>1499</td>\n",
              "    </tr>\n",
              "  </tbody>\n",
              "</table>\n",
              "<p>149396 rows × 5 columns</p>\n",
              "</div>\n",
              "      <button class=\"colab-df-convert\" onclick=\"convertToInteractive('df-93d96dff-8c8d-4e5b-8e79-1342c5e0a44b')\"\n",
              "              title=\"Convert this dataframe to an interactive table.\"\n",
              "              style=\"display:none;\">\n",
              "        \n",
              "  <svg xmlns=\"http://www.w3.org/2000/svg\" height=\"24px\"viewBox=\"0 0 24 24\"\n",
              "       width=\"24px\">\n",
              "    <path d=\"M0 0h24v24H0V0z\" fill=\"none\"/>\n",
              "    <path d=\"M18.56 5.44l.94 2.06.94-2.06 2.06-.94-2.06-.94-.94-2.06-.94 2.06-2.06.94zm-11 1L8.5 8.5l.94-2.06 2.06-.94-2.06-.94L8.5 2.5l-.94 2.06-2.06.94zm10 10l.94 2.06.94-2.06 2.06-.94-2.06-.94-.94-2.06-.94 2.06-2.06.94z\"/><path d=\"M17.41 7.96l-1.37-1.37c-.4-.4-.92-.59-1.43-.59-.52 0-1.04.2-1.43.59L10.3 9.45l-7.72 7.72c-.78.78-.78 2.05 0 2.83L4 21.41c.39.39.9.59 1.41.59.51 0 1.02-.2 1.41-.59l7.78-7.78 2.81-2.81c.8-.78.8-2.07 0-2.86zM5.41 20L4 18.59l7.72-7.72 1.47 1.35L5.41 20z\"/>\n",
              "  </svg>\n",
              "      </button>\n",
              "      \n",
              "  <style>\n",
              "    .colab-df-container {\n",
              "      display:flex;\n",
              "      flex-wrap:wrap;\n",
              "      gap: 12px;\n",
              "    }\n",
              "\n",
              "    .colab-df-convert {\n",
              "      background-color: #E8F0FE;\n",
              "      border: none;\n",
              "      border-radius: 50%;\n",
              "      cursor: pointer;\n",
              "      display: none;\n",
              "      fill: #1967D2;\n",
              "      height: 32px;\n",
              "      padding: 0 0 0 0;\n",
              "      width: 32px;\n",
              "    }\n",
              "\n",
              "    .colab-df-convert:hover {\n",
              "      background-color: #E2EBFA;\n",
              "      box-shadow: 0px 1px 2px rgba(60, 64, 67, 0.3), 0px 1px 3px 1px rgba(60, 64, 67, 0.15);\n",
              "      fill: #174EA6;\n",
              "    }\n",
              "\n",
              "    [theme=dark] .colab-df-convert {\n",
              "      background-color: #3B4455;\n",
              "      fill: #D2E3FC;\n",
              "    }\n",
              "\n",
              "    [theme=dark] .colab-df-convert:hover {\n",
              "      background-color: #434B5C;\n",
              "      box-shadow: 0px 1px 3px 1px rgba(0, 0, 0, 0.15);\n",
              "      filter: drop-shadow(0px 1px 2px rgba(0, 0, 0, 0.3));\n",
              "      fill: #FFFFFF;\n",
              "    }\n",
              "  </style>\n",
              "\n",
              "      <script>\n",
              "        const buttonEl =\n",
              "          document.querySelector('#df-93d96dff-8c8d-4e5b-8e79-1342c5e0a44b button.colab-df-convert');\n",
              "        buttonEl.style.display =\n",
              "          google.colab.kernel.accessAllowed ? 'block' : 'none';\n",
              "\n",
              "        async function convertToInteractive(key) {\n",
              "          const element = document.querySelector('#df-93d96dff-8c8d-4e5b-8e79-1342c5e0a44b');\n",
              "          const dataTable =\n",
              "            await google.colab.kernel.invokeFunction('convertToInteractive',\n",
              "                                                     [key], {});\n",
              "          if (!dataTable) return;\n",
              "\n",
              "          const docLinkHtml = 'Like what you see? Visit the ' +\n",
              "            '<a target=\"_blank\" href=https://colab.research.google.com/notebooks/data_table.ipynb>data table notebook</a>'\n",
              "            + ' to learn more about interactive tables.';\n",
              "          element.innerHTML = '';\n",
              "          dataTable['output_type'] = 'display_data';\n",
              "          await google.colab.output.renderOutput(dataTable, element);\n",
              "          const docLink = document.createElement('div');\n",
              "          docLink.innerHTML = docLinkHtml;\n",
              "          element.appendChild(docLink);\n",
              "        }\n",
              "      </script>\n",
              "    </div>\n",
              "  </div>\n",
              "  "
            ]
          },
          "metadata": {}
        },
        {
          "output_type": "stream",
          "name": "stdout",
          "text": [
            "<class 'pandas.core.frame.DataFrame'>\n",
            "RangeIndex: 149396 entries, 0 to 149395\n",
            "Data columns (total 5 columns):\n",
            " #   Column        Non-Null Count   Dtype  \n",
            "---  ------        --------------   -----  \n",
            " 0   Unnamed: 0    149396 non-null  int64  \n",
            " 1   id            149396 non-null  object \n",
            " 2   mb_used       149396 non-null  float64\n",
            " 3   session_date  149396 non-null  object \n",
            " 4   user_id       149396 non-null  int64  \n",
            "dtypes: float64(1), int64(2), object(2)\n",
            "memory usage: 5.7+ MB\n"
          ]
        }
      ],
      "source": [
        "df_internet = pd.read_csv('internet.csv', sep= ',')\n",
        "display(df_internet)\n",
        "df_internet.info()"
      ]
    },
    {
      "cell_type": "markdown",
      "metadata": {
        "id": "27Ajieia_UC3"
      },
      "source": [
        "Пропусков нет. Разделим переменную даты сессии на три переменные - год, месяц и день недели."
      ]
    },
    {
      "cell_type": "code",
      "execution_count": 8,
      "metadata": {
        "colab": {
          "base_uri": "https://localhost:8080/",
          "height": 684
        },
        "id": "5KkSDmz7_UC3",
        "outputId": "4e4e8047-e035-4f27-8f48-4d7c0eb1eceb"
      },
      "outputs": [
        {
          "output_type": "display_data",
          "data": {
            "text/plain": [
              "        Unnamed: 0        id  mb_used session_date  user_id  weekday  month  \\\n",
              "0                0    1000_0   112.95   2018-11-25     1000        6     11   \n",
              "1                1    1000_1  1052.81   2018-09-07     1000        4      9   \n",
              "2                2    1000_2  1197.26   2018-06-25     1000        0      6   \n",
              "3                3    1000_3   550.27   2018-08-22     1000        2      8   \n",
              "4                4    1000_4   302.56   2018-09-24     1000        0      9   \n",
              "...            ...       ...      ...          ...      ...      ...    ...   \n",
              "149391      149391  1499_152   318.90   2018-10-03     1499        2     10   \n",
              "149392      149392  1499_153   490.13   2018-12-14     1499        4     12   \n",
              "149393      149393  1499_154     0.00   2018-10-27     1499        5     10   \n",
              "149394      149394  1499_155  1246.32   2018-11-26     1499        0     11   \n",
              "149395      149395  1499_156   544.37   2018-10-26     1499        4     10   \n",
              "\n",
              "        year  \n",
              "0       2018  \n",
              "1       2018  \n",
              "2       2018  \n",
              "3       2018  \n",
              "4       2018  \n",
              "...      ...  \n",
              "149391  2018  \n",
              "149392  2018  \n",
              "149393  2018  \n",
              "149394  2018  \n",
              "149395  2018  \n",
              "\n",
              "[149396 rows x 8 columns]"
            ],
            "text/html": [
              "\n",
              "  <div id=\"df-cba91531-f355-4508-b533-4ec3ab6b5937\">\n",
              "    <div class=\"colab-df-container\">\n",
              "      <div>\n",
              "<style scoped>\n",
              "    .dataframe tbody tr th:only-of-type {\n",
              "        vertical-align: middle;\n",
              "    }\n",
              "\n",
              "    .dataframe tbody tr th {\n",
              "        vertical-align: top;\n",
              "    }\n",
              "\n",
              "    .dataframe thead th {\n",
              "        text-align: right;\n",
              "    }\n",
              "</style>\n",
              "<table border=\"1\" class=\"dataframe\">\n",
              "  <thead>\n",
              "    <tr style=\"text-align: right;\">\n",
              "      <th></th>\n",
              "      <th>Unnamed: 0</th>\n",
              "      <th>id</th>\n",
              "      <th>mb_used</th>\n",
              "      <th>session_date</th>\n",
              "      <th>user_id</th>\n",
              "      <th>weekday</th>\n",
              "      <th>month</th>\n",
              "      <th>year</th>\n",
              "    </tr>\n",
              "  </thead>\n",
              "  <tbody>\n",
              "    <tr>\n",
              "      <th>0</th>\n",
              "      <td>0</td>\n",
              "      <td>1000_0</td>\n",
              "      <td>112.95</td>\n",
              "      <td>2018-11-25</td>\n",
              "      <td>1000</td>\n",
              "      <td>6</td>\n",
              "      <td>11</td>\n",
              "      <td>2018</td>\n",
              "    </tr>\n",
              "    <tr>\n",
              "      <th>1</th>\n",
              "      <td>1</td>\n",
              "      <td>1000_1</td>\n",
              "      <td>1052.81</td>\n",
              "      <td>2018-09-07</td>\n",
              "      <td>1000</td>\n",
              "      <td>4</td>\n",
              "      <td>9</td>\n",
              "      <td>2018</td>\n",
              "    </tr>\n",
              "    <tr>\n",
              "      <th>2</th>\n",
              "      <td>2</td>\n",
              "      <td>1000_2</td>\n",
              "      <td>1197.26</td>\n",
              "      <td>2018-06-25</td>\n",
              "      <td>1000</td>\n",
              "      <td>0</td>\n",
              "      <td>6</td>\n",
              "      <td>2018</td>\n",
              "    </tr>\n",
              "    <tr>\n",
              "      <th>3</th>\n",
              "      <td>3</td>\n",
              "      <td>1000_3</td>\n",
              "      <td>550.27</td>\n",
              "      <td>2018-08-22</td>\n",
              "      <td>1000</td>\n",
              "      <td>2</td>\n",
              "      <td>8</td>\n",
              "      <td>2018</td>\n",
              "    </tr>\n",
              "    <tr>\n",
              "      <th>4</th>\n",
              "      <td>4</td>\n",
              "      <td>1000_4</td>\n",
              "      <td>302.56</td>\n",
              "      <td>2018-09-24</td>\n",
              "      <td>1000</td>\n",
              "      <td>0</td>\n",
              "      <td>9</td>\n",
              "      <td>2018</td>\n",
              "    </tr>\n",
              "    <tr>\n",
              "      <th>...</th>\n",
              "      <td>...</td>\n",
              "      <td>...</td>\n",
              "      <td>...</td>\n",
              "      <td>...</td>\n",
              "      <td>...</td>\n",
              "      <td>...</td>\n",
              "      <td>...</td>\n",
              "      <td>...</td>\n",
              "    </tr>\n",
              "    <tr>\n",
              "      <th>149391</th>\n",
              "      <td>149391</td>\n",
              "      <td>1499_152</td>\n",
              "      <td>318.90</td>\n",
              "      <td>2018-10-03</td>\n",
              "      <td>1499</td>\n",
              "      <td>2</td>\n",
              "      <td>10</td>\n",
              "      <td>2018</td>\n",
              "    </tr>\n",
              "    <tr>\n",
              "      <th>149392</th>\n",
              "      <td>149392</td>\n",
              "      <td>1499_153</td>\n",
              "      <td>490.13</td>\n",
              "      <td>2018-12-14</td>\n",
              "      <td>1499</td>\n",
              "      <td>4</td>\n",
              "      <td>12</td>\n",
              "      <td>2018</td>\n",
              "    </tr>\n",
              "    <tr>\n",
              "      <th>149393</th>\n",
              "      <td>149393</td>\n",
              "      <td>1499_154</td>\n",
              "      <td>0.00</td>\n",
              "      <td>2018-10-27</td>\n",
              "      <td>1499</td>\n",
              "      <td>5</td>\n",
              "      <td>10</td>\n",
              "      <td>2018</td>\n",
              "    </tr>\n",
              "    <tr>\n",
              "      <th>149394</th>\n",
              "      <td>149394</td>\n",
              "      <td>1499_155</td>\n",
              "      <td>1246.32</td>\n",
              "      <td>2018-11-26</td>\n",
              "      <td>1499</td>\n",
              "      <td>0</td>\n",
              "      <td>11</td>\n",
              "      <td>2018</td>\n",
              "    </tr>\n",
              "    <tr>\n",
              "      <th>149395</th>\n",
              "      <td>149395</td>\n",
              "      <td>1499_156</td>\n",
              "      <td>544.37</td>\n",
              "      <td>2018-10-26</td>\n",
              "      <td>1499</td>\n",
              "      <td>4</td>\n",
              "      <td>10</td>\n",
              "      <td>2018</td>\n",
              "    </tr>\n",
              "  </tbody>\n",
              "</table>\n",
              "<p>149396 rows × 8 columns</p>\n",
              "</div>\n",
              "      <button class=\"colab-df-convert\" onclick=\"convertToInteractive('df-cba91531-f355-4508-b533-4ec3ab6b5937')\"\n",
              "              title=\"Convert this dataframe to an interactive table.\"\n",
              "              style=\"display:none;\">\n",
              "        \n",
              "  <svg xmlns=\"http://www.w3.org/2000/svg\" height=\"24px\"viewBox=\"0 0 24 24\"\n",
              "       width=\"24px\">\n",
              "    <path d=\"M0 0h24v24H0V0z\" fill=\"none\"/>\n",
              "    <path d=\"M18.56 5.44l.94 2.06.94-2.06 2.06-.94-2.06-.94-.94-2.06-.94 2.06-2.06.94zm-11 1L8.5 8.5l.94-2.06 2.06-.94-2.06-.94L8.5 2.5l-.94 2.06-2.06.94zm10 10l.94 2.06.94-2.06 2.06-.94-2.06-.94-.94-2.06-.94 2.06-2.06.94z\"/><path d=\"M17.41 7.96l-1.37-1.37c-.4-.4-.92-.59-1.43-.59-.52 0-1.04.2-1.43.59L10.3 9.45l-7.72 7.72c-.78.78-.78 2.05 0 2.83L4 21.41c.39.39.9.59 1.41.59.51 0 1.02-.2 1.41-.59l7.78-7.78 2.81-2.81c.8-.78.8-2.07 0-2.86zM5.41 20L4 18.59l7.72-7.72 1.47 1.35L5.41 20z\"/>\n",
              "  </svg>\n",
              "      </button>\n",
              "      \n",
              "  <style>\n",
              "    .colab-df-container {\n",
              "      display:flex;\n",
              "      flex-wrap:wrap;\n",
              "      gap: 12px;\n",
              "    }\n",
              "\n",
              "    .colab-df-convert {\n",
              "      background-color: #E8F0FE;\n",
              "      border: none;\n",
              "      border-radius: 50%;\n",
              "      cursor: pointer;\n",
              "      display: none;\n",
              "      fill: #1967D2;\n",
              "      height: 32px;\n",
              "      padding: 0 0 0 0;\n",
              "      width: 32px;\n",
              "    }\n",
              "\n",
              "    .colab-df-convert:hover {\n",
              "      background-color: #E2EBFA;\n",
              "      box-shadow: 0px 1px 2px rgba(60, 64, 67, 0.3), 0px 1px 3px 1px rgba(60, 64, 67, 0.15);\n",
              "      fill: #174EA6;\n",
              "    }\n",
              "\n",
              "    [theme=dark] .colab-df-convert {\n",
              "      background-color: #3B4455;\n",
              "      fill: #D2E3FC;\n",
              "    }\n",
              "\n",
              "    [theme=dark] .colab-df-convert:hover {\n",
              "      background-color: #434B5C;\n",
              "      box-shadow: 0px 1px 3px 1px rgba(0, 0, 0, 0.15);\n",
              "      filter: drop-shadow(0px 1px 2px rgba(0, 0, 0, 0.3));\n",
              "      fill: #FFFFFF;\n",
              "    }\n",
              "  </style>\n",
              "\n",
              "      <script>\n",
              "        const buttonEl =\n",
              "          document.querySelector('#df-cba91531-f355-4508-b533-4ec3ab6b5937 button.colab-df-convert');\n",
              "        buttonEl.style.display =\n",
              "          google.colab.kernel.accessAllowed ? 'block' : 'none';\n",
              "\n",
              "        async function convertToInteractive(key) {\n",
              "          const element = document.querySelector('#df-cba91531-f355-4508-b533-4ec3ab6b5937');\n",
              "          const dataTable =\n",
              "            await google.colab.kernel.invokeFunction('convertToInteractive',\n",
              "                                                     [key], {});\n",
              "          if (!dataTable) return;\n",
              "\n",
              "          const docLinkHtml = 'Like what you see? Visit the ' +\n",
              "            '<a target=\"_blank\" href=https://colab.research.google.com/notebooks/data_table.ipynb>data table notebook</a>'\n",
              "            + ' to learn more about interactive tables.';\n",
              "          element.innerHTML = '';\n",
              "          dataTable['output_type'] = 'display_data';\n",
              "          await google.colab.output.renderOutput(dataTable, element);\n",
              "          const docLink = document.createElement('div');\n",
              "          docLink.innerHTML = docLinkHtml;\n",
              "          element.appendChild(docLink);\n",
              "        }\n",
              "      </script>\n",
              "    </div>\n",
              "  </div>\n",
              "  "
            ]
          },
          "metadata": {}
        },
        {
          "output_type": "stream",
          "name": "stdout",
          "text": [
            "<class 'pandas.core.frame.DataFrame'>\n",
            "RangeIndex: 149396 entries, 0 to 149395\n",
            "Data columns (total 8 columns):\n",
            " #   Column        Non-Null Count   Dtype         \n",
            "---  ------        --------------   -----         \n",
            " 0   Unnamed: 0    149396 non-null  int64         \n",
            " 1   id            149396 non-null  object        \n",
            " 2   mb_used       149396 non-null  float64       \n",
            " 3   session_date  149396 non-null  datetime64[ns]\n",
            " 4   user_id       149396 non-null  int64         \n",
            " 5   weekday       149396 non-null  int64         \n",
            " 6   month         149396 non-null  int64         \n",
            " 7   year          149396 non-null  int64         \n",
            "dtypes: datetime64[ns](1), float64(1), int64(5), object(1)\n",
            "memory usage: 9.1+ MB\n"
          ]
        }
      ],
      "source": [
        "df_internet['session_date'] = pd.to_datetime(df_internet['session_date'])\n",
        "df_internet['weekday'] = df_internet['session_date'].dt.weekday\n",
        "df_internet['month'] = df_internet['session_date'].dt.month\n",
        "df_internet['year'] = df_internet['session_date'].dt.year\n",
        "display(df_internet)\n",
        "df_internet.info()"
      ]
    },
    {
      "cell_type": "markdown",
      "metadata": {
        "id": "p9o3qn6d_UC4"
      },
      "source": [
        "Переменные сформированы корректно.\n",
        "\n",
        "Посмотрим на переменную размера израсходованного трафика за сессию."
      ]
    },
    {
      "cell_type": "code",
      "execution_count": 9,
      "metadata": {
        "scrolled": false,
        "colab": {
          "base_uri": "https://localhost:8080/",
          "height": 458
        },
        "id": "wT-LXAgb_UC4",
        "outputId": "3cf40be6-989c-4428-8430-9a063acc5d6c"
      },
      "outputs": [
        {
          "output_type": "display_data",
          "data": {
            "text/plain": [
              "<Figure size 720x504 with 1 Axes>"
            ],
            "image/png": "[encoded data removed]"
          },
          "metadata": {
            "needs_background": "light"
          }
        }
      ],
      "source": [
        "df_internet['mb_used'].hist(bins=30,color='purple',figsize=(10,7))\n",
        "plt.title('Частотное распределение трафика за сессию')\n",
        "plt.xlabel('трафик за сессию')\n",
        "plt.ylabel('количество случаев в базе')\n",
        "plt.show()"
      ]
    },
    {
      "cell_type": "markdown",
      "metadata": {
        "id": "3HZN04Ez_UC5"
      },
      "source": [
        "Посмотрим на значения, близкие к нулю, ближе:"
      ]
    },
    {
      "cell_type": "code",
      "execution_count": 10,
      "metadata": {
        "colab": {
          "base_uri": "https://localhost:8080/",
          "height": 458
        },
        "id": "5gQ45vqt_UC5",
        "outputId": "a28317a2-6f71-43c2-edf3-b094066ab255"
      },
      "outputs": [
        {
          "output_type": "display_data",
          "data": {
            "text/plain": [
              "<Figure size 720x504 with 1 Axes>"
            ],
            "image/png": "[encoded data removed]"
          },
          "metadata": {
            "needs_background": "light"
          }
        }
      ],
      "source": [
        "df_internet.query(\"mb_used < 10\")['mb_used'].hist(bins=30,color='purple',figsize=(10,7))\n",
        "plt.title('Частотное распределение трафика за сессию')\n",
        "plt.xlabel('трафик за сессию')\n",
        "plt.ylabel('количество случаев в базе')\n",
        "plt.show()"
      ]
    },
    {
      "cell_type": "markdown",
      "metadata": {
        "id": "sj4rzCrq_UC6"
      },
      "source": [
        "У нас 13% случаев в базе по интернет-трафику имеют значение ровно 0Мб. Возможно, это нетарифицируемый трафик, на который операторы иногда формируют спецпредложения для пользователей. Мы не знаем природу этих данных, поэтому удалять их или заменять не будем. Для подсчёта среднего в будущем будем иметь ввиду, что при работе с данной переменной стоит фильтровать значения больше 0.\n",
        "\n",
        "Исследуемый оператор тарифицирует интернет-трафик, округляя до гигабайт, но делает это только с суммарным трафиком за месяц. Создадим новую базу с месячным трафиком в гигабайтах и id пользователя. Присвоим каждому пользователю в данной базе его трафик за данный месяц, округлённый до гигабайт, как это делает оператор."
      ]
    },
    {
      "cell_type": "code",
      "execution_count": 11,
      "metadata": {
        "colab": {
          "base_uri": "https://localhost:8080/",
          "height": 455
        },
        "id": "KG4WAOfS_UC6",
        "outputId": "5c8af081-8fd8-4bf5-a442-c33b9662916e"
      },
      "outputs": [
        {
          "output_type": "execute_result",
          "data": {
            "text/plain": [
              "               sum\n",
              "user_id month     \n",
              "1000    5        3\n",
              "        6       23\n",
              "        7       14\n",
              "        8       14\n",
              "        9       15\n",
              "...            ...\n",
              "1498    10      21\n",
              "1499    9        2\n",
              "        10      18\n",
              "        11      18\n",
              "        12      13\n",
              "\n",
              "[3203 rows x 1 columns]"
            ],
            "text/html": [
              "\n",
              "  <div id=\"df-8246c43e-1096-406e-9f8f-a7ff64495ae4\">\n",
              "    <div class=\"colab-df-container\">\n",
              "      <div>\n",
              "<style scoped>\n",
              "    .dataframe tbody tr th:only-of-type {\n",
              "        vertical-align: middle;\n",
              "    }\n",
              "\n",
              "    .dataframe tbody tr th {\n",
              "        vertical-align: top;\n",
              "    }\n",
              "\n",
              "    .dataframe thead th {\n",
              "        text-align: right;\n",
              "    }\n",
              "</style>\n",
              "<table border=\"1\" class=\"dataframe\">\n",
              "  <thead>\n",
              "    <tr style=\"text-align: right;\">\n",
              "      <th></th>\n",
              "      <th></th>\n",
              "      <th>sum</th>\n",
              "    </tr>\n",
              "    <tr>\n",
              "      <th>user_id</th>\n",
              "      <th>month</th>\n",
              "      <th></th>\n",
              "    </tr>\n",
              "  </thead>\n",
              "  <tbody>\n",
              "    <tr>\n",
              "      <th rowspan=\"5\" valign=\"top\">1000</th>\n",
              "      <th>5</th>\n",
              "      <td>3</td>\n",
              "    </tr>\n",
              "    <tr>\n",
              "      <th>6</th>\n",
              "      <td>23</td>\n",
              "    </tr>\n",
              "    <tr>\n",
              "      <th>7</th>\n",
              "      <td>14</td>\n",
              "    </tr>\n",
              "    <tr>\n",
              "      <th>8</th>\n",
              "      <td>14</td>\n",
              "    </tr>\n",
              "    <tr>\n",
              "      <th>9</th>\n",
              "      <td>15</td>\n",
              "    </tr>\n",
              "    <tr>\n",
              "      <th>...</th>\n",
              "      <th>...</th>\n",
              "      <td>...</td>\n",
              "    </tr>\n",
              "    <tr>\n",
              "      <th>1498</th>\n",
              "      <th>10</th>\n",
              "      <td>21</td>\n",
              "    </tr>\n",
              "    <tr>\n",
              "      <th rowspan=\"4\" valign=\"top\">1499</th>\n",
              "      <th>9</th>\n",
              "      <td>2</td>\n",
              "    </tr>\n",
              "    <tr>\n",
              "      <th>10</th>\n",
              "      <td>18</td>\n",
              "    </tr>\n",
              "    <tr>\n",
              "      <th>11</th>\n",
              "      <td>18</td>\n",
              "    </tr>\n",
              "    <tr>\n",
              "      <th>12</th>\n",
              "      <td>13</td>\n",
              "    </tr>\n",
              "  </tbody>\n",
              "</table>\n",
              "<p>3203 rows × 1 columns</p>\n",
              "</div>\n",
              "      <button class=\"colab-df-convert\" onclick=\"convertToInteractive('df-8246c43e-1096-406e-9f8f-a7ff64495ae4')\"\n",
              "              title=\"Convert this dataframe to an interactive table.\"\n",
              "              style=\"display:none;\">\n",
              "        \n",
              "  <svg xmlns=\"http://www.w3.org/2000/svg\" height=\"24px\"viewBox=\"0 0 24 24\"\n",
              "       width=\"24px\">\n",
              "    <path d=\"M0 0h24v24H0V0z\" fill=\"none\"/>\n",
              "    <path d=\"M18.56 5.44l.94 2.06.94-2.06 2.06-.94-2.06-.94-.94-2.06-.94 2.06-2.06.94zm-11 1L8.5 8.5l.94-2.06 2.06-.94-2.06-.94L8.5 2.5l-.94 2.06-2.06.94zm10 10l.94 2.06.94-2.06 2.06-.94-2.06-.94-.94-2.06-.94 2.06-2.06.94z\"/><path d=\"M17.41 7.96l-1.37-1.37c-.4-.4-.92-.59-1.43-.59-.52 0-1.04.2-1.43.59L10.3 9.45l-7.72 7.72c-.78.78-.78 2.05 0 2.83L4 21.41c.39.39.9.59 1.41.59.51 0 1.02-.2 1.41-.59l7.78-7.78 2.81-2.81c.8-.78.8-2.07 0-2.86zM5.41 20L4 18.59l7.72-7.72 1.47 1.35L5.41 20z\"/>\n",
              "  </svg>\n",
              "      </button>\n",
              "      \n",
              "  <style>\n",
              "    .colab-df-container {\n",
              "      display:flex;\n",
              "      flex-wrap:wrap;\n",
              "      gap: 12px;\n",
              "    }\n",
              "\n",
              "    .colab-df-convert {\n",
              "      background-color: #E8F0FE;\n",
              "      border: none;\n",
              "      border-radius: 50%;\n",
              "      cursor: pointer;\n",
              "      display: none;\n",
              "      fill: #1967D2;\n",
              "      height: 32px;\n",
              "      padding: 0 0 0 0;\n",
              "      width: 32px;\n",
              "    }\n",
              "\n",
              "    .colab-df-convert:hover {\n",
              "      background-color: #E2EBFA;\n",
              "      box-shadow: 0px 1px 2px rgba(60, 64, 67, 0.3), 0px 1px 3px 1px rgba(60, 64, 67, 0.15);\n",
              "      fill: #174EA6;\n",
              "    }\n",
              "\n",
              "    [theme=dark] .colab-df-convert {\n",
              "      background-color: #3B4455;\n",
              "      fill: #D2E3FC;\n",
              "    }\n",
              "\n",
              "    [theme=dark] .colab-df-convert:hover {\n",
              "      background-color: #434B5C;\n",
              "      box-shadow: 0px 1px 3px 1px rgba(0, 0, 0, 0.15);\n",
              "      filter: drop-shadow(0px 1px 2px rgba(0, 0, 0, 0.3));\n",
              "      fill: #FFFFFF;\n",
              "    }\n",
              "  </style>\n",
              "\n",
              "      <script>\n",
              "        const buttonEl =\n",
              "          document.querySelector('#df-8246c43e-1096-406e-9f8f-a7ff64495ae4 button.colab-df-convert');\n",
              "        buttonEl.style.display =\n",
              "          google.colab.kernel.accessAllowed ? 'block' : 'none';\n",
              "\n",
              "        async function convertToInteractive(key) {\n",
              "          const element = document.querySelector('#df-8246c43e-1096-406e-9f8f-a7ff64495ae4');\n",
              "          const dataTable =\n",
              "            await google.colab.kernel.invokeFunction('convertToInteractive',\n",
              "                                                     [key], {});\n",
              "          if (!dataTable) return;\n",
              "\n",
              "          const docLinkHtml = 'Like what you see? Visit the ' +\n",
              "            '<a target=\"_blank\" href=https://colab.research.google.com/notebooks/data_table.ipynb>data table notebook</a>'\n",
              "            + ' to learn more about interactive tables.';\n",
              "          element.innerHTML = '';\n",
              "          dataTable['output_type'] = 'display_data';\n",
              "          await google.colab.output.renderOutput(dataTable, element);\n",
              "          const docLink = document.createElement('div');\n",
              "          docLink.innerHTML = docLinkHtml;\n",
              "          element.appendChild(docLink);\n",
              "        }\n",
              "      </script>\n",
              "    </div>\n",
              "  </div>\n",
              "  "
            ]
          },
          "metadata": {},
          "execution_count": 11
        }
      ],
      "source": [
        "df_internet_monthly = pd.pivot_table(df_internet, index=['user_id','month'], values='mb_used', aggfunc={'sum'})\n",
        "df_internet_monthly['sum'] = (df_internet_monthly['sum']/1024).apply(np.ceil).astype(int)\n",
        "df_internet_monthly"
      ]
    },
    {
      "cell_type": "markdown",
      "metadata": {
        "id": "8VN-ak1X_UC7"
      },
      "source": [
        "### Выгрузка по сообщениям"
      ]
    },
    {
      "cell_type": "code",
      "execution_count": 12,
      "metadata": {
        "colab": {
          "base_uri": "https://localhost:8080/",
          "height": 597
        },
        "id": "5FSeIoI2_UC7",
        "outputId": "63ebf1d9-fab7-4cc6-df8c-f346750f44e2"
      },
      "outputs": [
        {
          "output_type": "display_data",
          "data": {
            "text/plain": [
              "              id message_date  user_id\n",
              "0         1000_0   2018-06-27     1000\n",
              "1         1000_1   2018-10-08     1000\n",
              "2         1000_2   2018-08-04     1000\n",
              "3         1000_3   2018-06-16     1000\n",
              "4         1000_4   2018-12-05     1000\n",
              "...          ...          ...      ...\n",
              "123031  1499_179   2018-12-12     1499\n",
              "123032  1499_180   2018-09-28     1499\n",
              "123033  1499_181   2018-09-27     1499\n",
              "123034  1499_182   2018-11-15     1499\n",
              "123035  1499_183   2018-11-16     1499\n",
              "\n",
              "[123036 rows x 3 columns]"
            ],
            "text/html": [
              "\n",
              "  <div id=\"df-03d887a5-31b5-48ce-87e9-5f071c671d66\">\n",
              "    <div class=\"colab-df-container\">\n",
              "      <div>\n",
              "<style scoped>\n",
              "    .dataframe tbody tr th:only-of-type {\n",
              "        vertical-align: middle;\n",
              "    }\n",
              "\n",
              "    .dataframe tbody tr th {\n",
              "        vertical-align: top;\n",
              "    }\n",
              "\n",
              "    .dataframe thead th {\n",
              "        text-align: right;\n",
              "    }\n",
              "</style>\n",
              "<table border=\"1\" class=\"dataframe\">\n",
              "  <thead>\n",
              "    <tr style=\"text-align: right;\">\n",
              "      <th></th>\n",
              "      <th>id</th>\n",
              "      <th>message_date</th>\n",
              "      <th>user_id</th>\n",
              "    </tr>\n",
              "  </thead>\n",
              "  <tbody>\n",
              "    <tr>\n",
              "      <th>0</th>\n",
              "      <td>1000_0</td>\n",
              "      <td>2018-06-27</td>\n",
              "      <td>1000</td>\n",
              "    </tr>\n",
              "    <tr>\n",
              "      <th>1</th>\n",
              "      <td>1000_1</td>\n",
              "      <td>2018-10-08</td>\n",
              "      <td>1000</td>\n",
              "    </tr>\n",
              "    <tr>\n",
              "      <th>2</th>\n",
              "      <td>1000_2</td>\n",
              "      <td>2018-08-04</td>\n",
              "      <td>1000</td>\n",
              "    </tr>\n",
              "    <tr>\n",
              "      <th>3</th>\n",
              "      <td>1000_3</td>\n",
              "      <td>2018-06-16</td>\n",
              "      <td>1000</td>\n",
              "    </tr>\n",
              "    <tr>\n",
              "      <th>4</th>\n",
              "      <td>1000_4</td>\n",
              "      <td>2018-12-05</td>\n",
              "      <td>1000</td>\n",
              "    </tr>\n",
              "    <tr>\n",
              "      <th>...</th>\n",
              "      <td>...</td>\n",
              "      <td>...</td>\n",
              "      <td>...</td>\n",
              "    </tr>\n",
              "    <tr>\n",
              "      <th>123031</th>\n",
              "      <td>1499_179</td>\n",
              "      <td>2018-12-12</td>\n",
              "      <td>1499</td>\n",
              "    </tr>\n",
              "    <tr>\n",
              "      <th>123032</th>\n",
              "      <td>1499_180</td>\n",
              "      <td>2018-09-28</td>\n",
              "      <td>1499</td>\n",
              "    </tr>\n",
              "    <tr>\n",
              "      <th>123033</th>\n",
              "      <td>1499_181</td>\n",
              "      <td>2018-09-27</td>\n",
              "      <td>1499</td>\n",
              "    </tr>\n",
              "    <tr>\n",
              "      <th>123034</th>\n",
              "      <td>1499_182</td>\n",
              "      <td>2018-11-15</td>\n",
              "      <td>1499</td>\n",
              "    </tr>\n",
              "    <tr>\n",
              "      <th>123035</th>\n",
              "      <td>1499_183</td>\n",
              "      <td>2018-11-16</td>\n",
              "      <td>1499</td>\n",
              "    </tr>\n",
              "  </tbody>\n",
              "</table>\n",
              "<p>123036 rows × 3 columns</p>\n",
              "</div>\n",
              "      <button class=\"colab-df-convert\" onclick=\"convertToInteractive('df-03d887a5-31b5-48ce-87e9-5f071c671d66')\"\n",
              "              title=\"Convert this dataframe to an interactive table.\"\n",
              "              style=\"display:none;\">\n",
              "        \n",
              "  <svg xmlns=\"http://www.w3.org/2000/svg\" height=\"24px\"viewBox=\"0 0 24 24\"\n",
              "       width=\"24px\">\n",
              "    <path d=\"M0 0h24v24H0V0z\" fill=\"none\"/>\n",
              "    <path d=\"M18.56 5.44l.94 2.06.94-2.06 2.06-.94-2.06-.94-.94-2.06-.94 2.06-2.06.94zm-11 1L8.5 8.5l.94-2.06 2.06-.94-2.06-.94L8.5 2.5l-.94 2.06-2.06.94zm10 10l.94 2.06.94-2.06 2.06-.94-2.06-.94-.94-2.06-.94 2.06-2.06.94z\"/><path d=\"M17.41 7.96l-1.37-1.37c-.4-.4-.92-.59-1.43-.59-.52 0-1.04.2-1.43.59L10.3 9.45l-7.72 7.72c-.78.78-.78 2.05 0 2.83L4 21.41c.39.39.9.59 1.41.59.51 0 1.02-.2 1.41-.59l7.78-7.78 2.81-2.81c.8-.78.8-2.07 0-2.86zM5.41 20L4 18.59l7.72-7.72 1.47 1.35L5.41 20z\"/>\n",
              "  </svg>\n",
              "      </button>\n",
              "      \n",
              "  <style>\n",
              "    .colab-df-container {\n",
              "      display:flex;\n",
              "      flex-wrap:wrap;\n",
              "      gap: 12px;\n",
              "    }\n",
              "\n",
              "    .colab-df-convert {\n",
              "      background-color: #E8F0FE;\n",
              "      border: none;\n",
              "      border-radius: 50%;\n",
              "      cursor: pointer;\n",
              "      display: none;\n",
              "      fill: #1967D2;\n",
              "      height: 32px;\n",
              "      padding: 0 0 0 0;\n",
              "      width: 32px;\n",
              "    }\n",
              "\n",
              "    .colab-df-convert:hover {\n",
              "      background-color: #E2EBFA;\n",
              "      box-shadow: 0px 1px 2px rgba(60, 64, 67, 0.3), 0px 1px 3px 1px rgba(60, 64, 67, 0.15);\n",
              "      fill: #174EA6;\n",
              "    }\n",
              "\n",
              "    [theme=dark] .colab-df-convert {\n",
              "      background-color: #3B4455;\n",
              "      fill: #D2E3FC;\n",
              "    }\n",
              "\n",
              "    [theme=dark] .colab-df-convert:hover {\n",
              "      background-color: #434B5C;\n",
              "      box-shadow: 0px 1px 3px 1px rgba(0, 0, 0, 0.15);\n",
              "      filter: drop-shadow(0px 1px 2px rgba(0, 0, 0, 0.3));\n",
              "      fill: #FFFFFF;\n",
              "    }\n",
              "  </style>\n",
              "\n",
              "      <script>\n",
              "        const buttonEl =\n",
              "          document.querySelector('#df-03d887a5-31b5-48ce-87e9-5f071c671d66 button.colab-df-convert');\n",
              "        buttonEl.style.display =\n",
              "          google.colab.kernel.accessAllowed ? 'block' : 'none';\n",
              "\n",
              "        async function convertToInteractive(key) {\n",
              "          const element = document.querySelector('#df-03d887a5-31b5-48ce-87e9-5f071c671d66');\n",
              "          const dataTable =\n",
              "            await google.colab.kernel.invokeFunction('convertToInteractive',\n",
              "                                                     [key], {});\n",
              "          if (!dataTable) return;\n",
              "\n",
              "          const docLinkHtml = 'Like what you see? Visit the ' +\n",
              "            '<a target=\"_blank\" href=https://colab.research.google.com/notebooks/data_table.ipynb>data table notebook</a>'\n",
              "            + ' to learn more about interactive tables.';\n",
              "          element.innerHTML = '';\n",
              "          dataTable['output_type'] = 'display_data';\n",
              "          await google.colab.output.renderOutput(dataTable, element);\n",
              "          const docLink = document.createElement('div');\n",
              "          docLink.innerHTML = docLinkHtml;\n",
              "          element.appendChild(docLink);\n",
              "        }\n",
              "      </script>\n",
              "    </div>\n",
              "  </div>\n",
              "  "
            ]
          },
          "metadata": {}
        },
        {
          "output_type": "stream",
          "name": "stdout",
          "text": [
            "<class 'pandas.core.frame.DataFrame'>\n",
            "RangeIndex: 123036 entries, 0 to 123035\n",
            "Data columns (total 3 columns):\n",
            " #   Column        Non-Null Count   Dtype \n",
            "---  ------        --------------   ----- \n",
            " 0   id            123036 non-null  object\n",
            " 1   message_date  123036 non-null  object\n",
            " 2   user_id       123036 non-null  int64 \n",
            "dtypes: int64(1), object(2)\n",
            "memory usage: 2.8+ MB\n"
          ]
        }
      ],
      "source": [
        "df_messages = pd.read_csv('messages.csv', sep= ',')\n",
        "display(df_messages)\n",
        "df_messages.info()"
      ]
    },
    {
      "cell_type": "markdown",
      "metadata": {
        "id": "mcxK8YyY_UC7"
      },
      "source": [
        "Пропусков нет. Аналогично разделим переменную даты на день недели, месяц и год:"
      ]
    },
    {
      "cell_type": "code",
      "execution_count": 13,
      "metadata": {
        "colab": {
          "base_uri": "https://localhost:8080/",
          "height": 649
        },
        "id": "s8zfS9Wf_UC7",
        "outputId": "06a466e6-398b-4a32-9854-4116bf3bfb6b"
      },
      "outputs": [
        {
          "output_type": "display_data",
          "data": {
            "text/plain": [
              "              id message_date  user_id  weekday  month  year\n",
              "0         1000_0   2018-06-27     1000        2      6  2018\n",
              "1         1000_1   2018-10-08     1000        0     10  2018\n",
              "2         1000_2   2018-08-04     1000        5      8  2018\n",
              "3         1000_3   2018-06-16     1000        5      6  2018\n",
              "4         1000_4   2018-12-05     1000        2     12  2018\n",
              "...          ...          ...      ...      ...    ...   ...\n",
              "123031  1499_179   2018-12-12     1499        2     12  2018\n",
              "123032  1499_180   2018-09-28     1499        4      9  2018\n",
              "123033  1499_181   2018-09-27     1499        3      9  2018\n",
              "123034  1499_182   2018-11-15     1499        3     11  2018\n",
              "123035  1499_183   2018-11-16     1499        4     11  2018\n",
              "\n",
              "[123036 rows x 6 columns]"
            ],
            "text/html": [
              "\n",
              "  <div id=\"df-a148dacb-2810-4253-9888-1285f15e4cb0\">\n",
              "    <div class=\"colab-df-container\">\n",
              "      <div>\n",
              "<style scoped>\n",
              "    .dataframe tbody tr th:only-of-type {\n",
              "        vertical-align: middle;\n",
              "    }\n",
              "\n",
              "    .dataframe tbody tr th {\n",
              "        vertical-align: top;\n",
              "    }\n",
              "\n",
              "    .dataframe thead th {\n",
              "        text-align: right;\n",
              "    }\n",
              "</style>\n",
              "<table border=\"1\" class=\"dataframe\">\n",
              "  <thead>\n",
              "    <tr style=\"text-align: right;\">\n",
              "      <th></th>\n",
              "      <th>id</th>\n",
              "      <th>message_date</th>\n",
              "      <th>user_id</th>\n",
              "      <th>weekday</th>\n",
              "      <th>month</th>\n",
              "      <th>year</th>\n",
              "    </tr>\n",
              "  </thead>\n",
              "  <tbody>\n",
              "    <tr>\n",
              "      <th>0</th>\n",
              "      <td>1000_0</td>\n",
              "      <td>2018-06-27</td>\n",
              "      <td>1000</td>\n",
              "      <td>2</td>\n",
              "      <td>6</td>\n",
              "      <td>2018</td>\n",
              "    </tr>\n",
              "    <tr>\n",
              "      <th>1</th>\n",
              "      <td>1000_1</td>\n",
              "      <td>2018-10-08</td>\n",
              "      <td>1000</td>\n",
              "      <td>0</td>\n",
              "      <td>10</td>\n",
              "      <td>2018</td>\n",
              "    </tr>\n",
              "    <tr>\n",
              "      <th>2</th>\n",
              "      <td>1000_2</td>\n",
              "      <td>2018-08-04</td>\n",
              "      <td>1000</td>\n",
              "      <td>5</td>\n",
              "      <td>8</td>\n",
              "      <td>2018</td>\n",
              "    </tr>\n",
              "    <tr>\n",
              "      <th>3</th>\n",
              "      <td>1000_3</td>\n",
              "      <td>2018-06-16</td>\n",
              "      <td>1000</td>\n",
              "      <td>5</td>\n",
              "      <td>6</td>\n",
              "      <td>2018</td>\n",
              "    </tr>\n",
              "    <tr>\n",
              "      <th>4</th>\n",
              "      <td>1000_4</td>\n",
              "      <td>2018-12-05</td>\n",
              "      <td>1000</td>\n",
              "      <td>2</td>\n",
              "      <td>12</td>\n",
              "      <td>2018</td>\n",
              "    </tr>\n",
              "    <tr>\n",
              "      <th>...</th>\n",
              "      <td>...</td>\n",
              "      <td>...</td>\n",
              "      <td>...</td>\n",
              "      <td>...</td>\n",
              "      <td>...</td>\n",
              "      <td>...</td>\n",
              "    </tr>\n",
              "    <tr>\n",
              "      <th>123031</th>\n",
              "      <td>1499_179</td>\n",
              "      <td>2018-12-12</td>\n",
              "      <td>1499</td>\n",
              "      <td>2</td>\n",
              "      <td>12</td>\n",
              "      <td>2018</td>\n",
              "    </tr>\n",
              "    <tr>\n",
              "      <th>123032</th>\n",
              "      <td>1499_180</td>\n",
              "      <td>2018-09-28</td>\n",
              "      <td>1499</td>\n",
              "      <td>4</td>\n",
              "      <td>9</td>\n",
              "      <td>2018</td>\n",
              "    </tr>\n",
              "    <tr>\n",
              "      <th>123033</th>\n",
              "      <td>1499_181</td>\n",
              "      <td>2018-09-27</td>\n",
              "      <td>1499</td>\n",
              "      <td>3</td>\n",
              "      <td>9</td>\n",
              "      <td>2018</td>\n",
              "    </tr>\n",
              "    <tr>\n",
              "      <th>123034</th>\n",
              "      <td>1499_182</td>\n",
              "      <td>2018-11-15</td>\n",
              "      <td>1499</td>\n",
              "      <td>3</td>\n",
              "      <td>11</td>\n",
              "      <td>2018</td>\n",
              "    </tr>\n",
              "    <tr>\n",
              "      <th>123035</th>\n",
              "      <td>1499_183</td>\n",
              "      <td>2018-11-16</td>\n",
              "      <td>1499</td>\n",
              "      <td>4</td>\n",
              "      <td>11</td>\n",
              "      <td>2018</td>\n",
              "    </tr>\n",
              "  </tbody>\n",
              "</table>\n",
              "<p>123036 rows × 6 columns</p>\n",
              "</div>\n",
              "      <button class=\"colab-df-convert\" onclick=\"convertToInteractive('df-a148dacb-2810-4253-9888-1285f15e4cb0')\"\n",
              "              title=\"Convert this dataframe to an interactive table.\"\n",
              "              style=\"display:none;\">\n",
              "        \n",
              "  <svg xmlns=\"http://www.w3.org/2000/svg\" height=\"24px\"viewBox=\"0 0 24 24\"\n",
              "       width=\"24px\">\n",
              "    <path d=\"M0 0h24v24H0V0z\" fill=\"none\"/>\n",
              "    <path d=\"M18.56 5.44l.94 2.06.94-2.06 2.06-.94-2.06-.94-.94-2.06-.94 2.06-2.06.94zm-11 1L8.5 8.5l.94-2.06 2.06-.94-2.06-.94L8.5 2.5l-.94 2.06-2.06.94zm10 10l.94 2.06.94-2.06 2.06-.94-2.06-.94-.94-2.06-.94 2.06-2.06.94z\"/><path d=\"M17.41 7.96l-1.37-1.37c-.4-.4-.92-.59-1.43-.59-.52 0-1.04.2-1.43.59L10.3 9.45l-7.72 7.72c-.78.78-.78 2.05 0 2.83L4 21.41c.39.39.9.59 1.41.59.51 0 1.02-.2 1.41-.59l7.78-7.78 2.81-2.81c.8-.78.8-2.07 0-2.86zM5.41 20L4 18.59l7.72-7.72 1.47 1.35L5.41 20z\"/>\n",
              "  </svg>\n",
              "      </button>\n",
              "      \n",
              "  <style>\n",
              "    .colab-df-container {\n",
              "      display:flex;\n",
              "      flex-wrap:wrap;\n",
              "      gap: 12px;\n",
              "    }\n",
              "\n",
              "    .colab-df-convert {\n",
              "      background-color: #E8F0FE;\n",
              "      border: none;\n",
              "      border-radius: 50%;\n",
              "      cursor: pointer;\n",
              "      display: none;\n",
              "      fill: #1967D2;\n",
              "      height: 32px;\n",
              "      padding: 0 0 0 0;\n",
              "      width: 32px;\n",
              "    }\n",
              "\n",
              "    .colab-df-convert:hover {\n",
              "      background-color: #E2EBFA;\n",
              "      box-shadow: 0px 1px 2px rgba(60, 64, 67, 0.3), 0px 1px 3px 1px rgba(60, 64, 67, 0.15);\n",
              "      fill: #174EA6;\n",
              "    }\n",
              "\n",
              "    [theme=dark] .colab-df-convert {\n",
              "      background-color: #3B4455;\n",
              "      fill: #D2E3FC;\n",
              "    }\n",
              "\n",
              "    [theme=dark] .colab-df-convert:hover {\n",
              "      background-color: #434B5C;\n",
              "      box-shadow: 0px 1px 3px 1px rgba(0, 0, 0, 0.15);\n",
              "      filter: drop-shadow(0px 1px 2px rgba(0, 0, 0, 0.3));\n",
              "      fill: #FFFFFF;\n",
              "    }\n",
              "  </style>\n",
              "\n",
              "      <script>\n",
              "        const buttonEl =\n",
              "          document.querySelector('#df-a148dacb-2810-4253-9888-1285f15e4cb0 button.colab-df-convert');\n",
              "        buttonEl.style.display =\n",
              "          google.colab.kernel.accessAllowed ? 'block' : 'none';\n",
              "\n",
              "        async function convertToInteractive(key) {\n",
              "          const element = document.querySelector('#df-a148dacb-2810-4253-9888-1285f15e4cb0');\n",
              "          const dataTable =\n",
              "            await google.colab.kernel.invokeFunction('convertToInteractive',\n",
              "                                                     [key], {});\n",
              "          if (!dataTable) return;\n",
              "\n",
              "          const docLinkHtml = 'Like what you see? Visit the ' +\n",
              "            '<a target=\"_blank\" href=https://colab.research.google.com/notebooks/data_table.ipynb>data table notebook</a>'\n",
              "            + ' to learn more about interactive tables.';\n",
              "          element.innerHTML = '';\n",
              "          dataTable['output_type'] = 'display_data';\n",
              "          await google.colab.output.renderOutput(dataTable, element);\n",
              "          const docLink = document.createElement('div');\n",
              "          docLink.innerHTML = docLinkHtml;\n",
              "          element.appendChild(docLink);\n",
              "        }\n",
              "      </script>\n",
              "    </div>\n",
              "  </div>\n",
              "  "
            ]
          },
          "metadata": {}
        },
        {
          "output_type": "stream",
          "name": "stdout",
          "text": [
            "<class 'pandas.core.frame.DataFrame'>\n",
            "RangeIndex: 123036 entries, 0 to 123035\n",
            "Data columns (total 6 columns):\n",
            " #   Column        Non-Null Count   Dtype         \n",
            "---  ------        --------------   -----         \n",
            " 0   id            123036 non-null  object        \n",
            " 1   message_date  123036 non-null  datetime64[ns]\n",
            " 2   user_id       123036 non-null  int64         \n",
            " 3   weekday       123036 non-null  int64         \n",
            " 4   month         123036 non-null  int64         \n",
            " 5   year          123036 non-null  int64         \n",
            "dtypes: datetime64[ns](1), int64(4), object(1)\n",
            "memory usage: 5.6+ MB\n"
          ]
        }
      ],
      "source": [
        "df_messages['message_date'] = pd.to_datetime(df_messages['message_date'])\n",
        "df_messages['weekday'] = df_messages['message_date'].dt.weekday\n",
        "df_messages['month'] = df_messages['message_date'].dt.month\n",
        "df_messages['year'] = df_messages['message_date'].dt.year\n",
        "display(df_messages)\n",
        "df_messages.info()"
      ]
    },
    {
      "cell_type": "markdown",
      "metadata": {
        "id": "regFO-EV_UC8"
      },
      "source": [
        "Подготовим таблицу по сообщениям для дальнейшего аггрегирования:"
      ]
    },
    {
      "cell_type": "code",
      "execution_count": 14,
      "metadata": {
        "colab": {
          "base_uri": "https://localhost:8080/",
          "height": 455
        },
        "id": "lQqYaSFt_UC8",
        "outputId": "942615da-49aa-459a-ff01-f21a27ba8df8"
      },
      "outputs": [
        {
          "output_type": "execute_result",
          "data": {
            "text/plain": [
              "               count\n",
              "user_id month       \n",
              "1000    5         22\n",
              "        6         60\n",
              "        7         75\n",
              "        8         81\n",
              "        9         57\n",
              "...              ...\n",
              "1498    10        42\n",
              "1499    9         11\n",
              "        10        48\n",
              "        11        59\n",
              "        12        66\n",
              "\n",
              "[2717 rows x 1 columns]"
            ],
            "text/html": [
              "\n",
              "  <div id=\"df-f4c0be77-70b8-4865-acd7-15a530181477\">\n",
              "    <div class=\"colab-df-container\">\n",
              "      <div>\n",
              "<style scoped>\n",
              "    .dataframe tbody tr th:only-of-type {\n",
              "        vertical-align: middle;\n",
              "    }\n",
              "\n",
              "    .dataframe tbody tr th {\n",
              "        vertical-align: top;\n",
              "    }\n",
              "\n",
              "    .dataframe thead th {\n",
              "        text-align: right;\n",
              "    }\n",
              "</style>\n",
              "<table border=\"1\" class=\"dataframe\">\n",
              "  <thead>\n",
              "    <tr style=\"text-align: right;\">\n",
              "      <th></th>\n",
              "      <th></th>\n",
              "      <th>count</th>\n",
              "    </tr>\n",
              "    <tr>\n",
              "      <th>user_id</th>\n",
              "      <th>month</th>\n",
              "      <th></th>\n",
              "    </tr>\n",
              "  </thead>\n",
              "  <tbody>\n",
              "    <tr>\n",
              "      <th rowspan=\"5\" valign=\"top\">1000</th>\n",
              "      <th>5</th>\n",
              "      <td>22</td>\n",
              "    </tr>\n",
              "    <tr>\n",
              "      <th>6</th>\n",
              "      <td>60</td>\n",
              "    </tr>\n",
              "    <tr>\n",
              "      <th>7</th>\n",
              "      <td>75</td>\n",
              "    </tr>\n",
              "    <tr>\n",
              "      <th>8</th>\n",
              "      <td>81</td>\n",
              "    </tr>\n",
              "    <tr>\n",
              "      <th>9</th>\n",
              "      <td>57</td>\n",
              "    </tr>\n",
              "    <tr>\n",
              "      <th>...</th>\n",
              "      <th>...</th>\n",
              "      <td>...</td>\n",
              "    </tr>\n",
              "    <tr>\n",
              "      <th>1498</th>\n",
              "      <th>10</th>\n",
              "      <td>42</td>\n",
              "    </tr>\n",
              "    <tr>\n",
              "      <th rowspan=\"4\" valign=\"top\">1499</th>\n",
              "      <th>9</th>\n",
              "      <td>11</td>\n",
              "    </tr>\n",
              "    <tr>\n",
              "      <th>10</th>\n",
              "      <td>48</td>\n",
              "    </tr>\n",
              "    <tr>\n",
              "      <th>11</th>\n",
              "      <td>59</td>\n",
              "    </tr>\n",
              "    <tr>\n",
              "      <th>12</th>\n",
              "      <td>66</td>\n",
              "    </tr>\n",
              "  </tbody>\n",
              "</table>\n",
              "<p>2717 rows × 1 columns</p>\n",
              "</div>\n",
              "      <button class=\"colab-df-convert\" onclick=\"convertToInteractive('df-f4c0be77-70b8-4865-acd7-15a530181477')\"\n",
              "              title=\"Convert this dataframe to an interactive table.\"\n",
              "              style=\"display:none;\">\n",
              "        \n",
              "  <svg xmlns=\"http://www.w3.org/2000/svg\" height=\"24px\"viewBox=\"0 0 24 24\"\n",
              "       width=\"24px\">\n",
              "    <path d=\"M0 0h24v24H0V0z\" fill=\"none\"/>\n",
              "    <path d=\"M18.56 5.44l.94 2.06.94-2.06 2.06-.94-2.06-.94-.94-2.06-.94 2.06-2.06.94zm-11 1L8.5 8.5l.94-2.06 2.06-.94-2.06-.94L8.5 2.5l-.94 2.06-2.06.94zm10 10l.94 2.06.94-2.06 2.06-.94-2.06-.94-.94-2.06-.94 2.06-2.06.94z\"/><path d=\"M17.41 7.96l-1.37-1.37c-.4-.4-.92-.59-1.43-.59-.52 0-1.04.2-1.43.59L10.3 9.45l-7.72 7.72c-.78.78-.78 2.05 0 2.83L4 21.41c.39.39.9.59 1.41.59.51 0 1.02-.2 1.41-.59l7.78-7.78 2.81-2.81c.8-.78.8-2.07 0-2.86zM5.41 20L4 18.59l7.72-7.72 1.47 1.35L5.41 20z\"/>\n",
              "  </svg>\n",
              "      </button>\n",
              "      \n",
              "  <style>\n",
              "    .colab-df-container {\n",
              "      display:flex;\n",
              "      flex-wrap:wrap;\n",
              "      gap: 12px;\n",
              "    }\n",
              "\n",
              "    .colab-df-convert {\n",
              "      background-color: #E8F0FE;\n",
              "      border: none;\n",
              "      border-radius: 50%;\n",
              "      cursor: pointer;\n",
              "      display: none;\n",
              "      fill: #1967D2;\n",
              "      height: 32px;\n",
              "      padding: 0 0 0 0;\n",
              "      width: 32px;\n",
              "    }\n",
              "\n",
              "    .colab-df-convert:hover {\n",
              "      background-color: #E2EBFA;\n",
              "      box-shadow: 0px 1px 2px rgba(60, 64, 67, 0.3), 0px 1px 3px 1px rgba(60, 64, 67, 0.15);\n",
              "      fill: #174EA6;\n",
              "    }\n",
              "\n",
              "    [theme=dark] .colab-df-convert {\n",
              "      background-color: #3B4455;\n",
              "      fill: #D2E3FC;\n",
              "    }\n",
              "\n",
              "    [theme=dark] .colab-df-convert:hover {\n",
              "      background-color: #434B5C;\n",
              "      box-shadow: 0px 1px 3px 1px rgba(0, 0, 0, 0.15);\n",
              "      filter: drop-shadow(0px 1px 2px rgba(0, 0, 0, 0.3));\n",
              "      fill: #FFFFFF;\n",
              "    }\n",
              "  </style>\n",
              "\n",
              "      <script>\n",
              "        const buttonEl =\n",
              "          document.querySelector('#df-f4c0be77-70b8-4865-acd7-15a530181477 button.colab-df-convert');\n",
              "        buttonEl.style.display =\n",
              "          google.colab.kernel.accessAllowed ? 'block' : 'none';\n",
              "\n",
              "        async function convertToInteractive(key) {\n",
              "          const element = document.querySelector('#df-f4c0be77-70b8-4865-acd7-15a530181477');\n",
              "          const dataTable =\n",
              "            await google.colab.kernel.invokeFunction('convertToInteractive',\n",
              "                                                     [key], {});\n",
              "          if (!dataTable) return;\n",
              "\n",
              "          const docLinkHtml = 'Like what you see? Visit the ' +\n",
              "            '<a target=\"_blank\" href=https://colab.research.google.com/notebooks/data_table.ipynb>data table notebook</a>'\n",
              "            + ' to learn more about interactive tables.';\n",
              "          element.innerHTML = '';\n",
              "          dataTable['output_type'] = 'display_data';\n",
              "          await google.colab.output.renderOutput(dataTable, element);\n",
              "          const docLink = document.createElement('div');\n",
              "          docLink.innerHTML = docLinkHtml;\n",
              "          element.appendChild(docLink);\n",
              "        }\n",
              "      </script>\n",
              "    </div>\n",
              "  </div>\n",
              "  "
            ]
          },
          "metadata": {},
          "execution_count": 14
        }
      ],
      "source": [
        "df_messages_monthly = pd.pivot_table(df_messages, index=['user_id','month'], values='id', aggfunc={'count'})\n",
        "df_messages_monthly"
      ]
    },
    {
      "cell_type": "markdown",
      "metadata": {
        "id": "_X0GLr3H_UC8"
      },
      "source": [
        "### Таблица с тарифами"
      ]
    },
    {
      "cell_type": "code",
      "execution_count": 15,
      "metadata": {
        "colab": {
          "base_uri": "https://localhost:8080/",
          "height": 372
        },
        "id": "qRuBashx_UC9",
        "outputId": "accf5604-51e5-47cb-f5e2-504b0e0dd233"
      },
      "outputs": [
        {
          "output_type": "display_data",
          "data": {
            "text/plain": [
              "   messages_included  mb_per_month_included  minutes_included  \\\n",
              "0                 50                  15360               500   \n",
              "1               1000                  30720              3000   \n",
              "\n",
              "   rub_monthly_fee  rub_per_gb  rub_per_message  rub_per_minute tariff_name  \n",
              "0              550         200                3               3       smart  \n",
              "1             1950         150                1               1       ultra  "
            ],
            "text/html": [
              "\n",
              "  <div id=\"df-31e05734-0395-4a60-874e-cff6963eb408\">\n",
              "    <div class=\"colab-df-container\">\n",
              "      <div>\n",
              "<style scoped>\n",
              "    .dataframe tbody tr th:only-of-type {\n",
              "        vertical-align: middle;\n",
              "    }\n",
              "\n",
              "    .dataframe tbody tr th {\n",
              "        vertical-align: top;\n",
              "    }\n",
              "\n",
              "    .dataframe thead th {\n",
              "        text-align: right;\n",
              "    }\n",
              "</style>\n",
              "<table border=\"1\" class=\"dataframe\">\n",
              "  <thead>\n",
              "    <tr style=\"text-align: right;\">\n",
              "      <th></th>\n",
              "      <th>messages_included</th>\n",
              "      <th>mb_per_month_included</th>\n",
              "      <th>minutes_included</th>\n",
              "      <th>rub_monthly_fee</th>\n",
              "      <th>rub_per_gb</th>\n",
              "      <th>rub_per_message</th>\n",
              "      <th>rub_per_minute</th>\n",
              "      <th>tariff_name</th>\n",
              "    </tr>\n",
              "  </thead>\n",
              "  <tbody>\n",
              "    <tr>\n",
              "      <th>0</th>\n",
              "      <td>50</td>\n",
              "      <td>15360</td>\n",
              "      <td>500</td>\n",
              "      <td>550</td>\n",
              "      <td>200</td>\n",
              "      <td>3</td>\n",
              "      <td>3</td>\n",
              "      <td>smart</td>\n",
              "    </tr>\n",
              "    <tr>\n",
              "      <th>1</th>\n",
              "      <td>1000</td>\n",
              "      <td>30720</td>\n",
              "      <td>3000</td>\n",
              "      <td>1950</td>\n",
              "      <td>150</td>\n",
              "      <td>1</td>\n",
              "      <td>1</td>\n",
              "      <td>ultra</td>\n",
              "    </tr>\n",
              "  </tbody>\n",
              "</table>\n",
              "</div>\n",
              "      <button class=\"colab-df-convert\" onclick=\"convertToInteractive('df-31e05734-0395-4a60-874e-cff6963eb408')\"\n",
              "              title=\"Convert this dataframe to an interactive table.\"\n",
              "              style=\"display:none;\">\n",
              "        \n",
              "  <svg xmlns=\"http://www.w3.org/2000/svg\" height=\"24px\"viewBox=\"0 0 24 24\"\n",
              "       width=\"24px\">\n",
              "    <path d=\"M0 0h24v24H0V0z\" fill=\"none\"/>\n",
              "    <path d=\"M18.56 5.44l.94 2.06.94-2.06 2.06-.94-2.06-.94-.94-2.06-.94 2.06-2.06.94zm-11 1L8.5 8.5l.94-2.06 2.06-.94-2.06-.94L8.5 2.5l-.94 2.06-2.06.94zm10 10l.94 2.06.94-2.06 2.06-.94-2.06-.94-.94-2.06-.94 2.06-2.06.94z\"/><path d=\"M17.41 7.96l-1.37-1.37c-.4-.4-.92-.59-1.43-.59-.52 0-1.04.2-1.43.59L10.3 9.45l-7.72 7.72c-.78.78-.78 2.05 0 2.83L4 21.41c.39.39.9.59 1.41.59.51 0 1.02-.2 1.41-.59l7.78-7.78 2.81-2.81c.8-.78.8-2.07 0-2.86zM5.41 20L4 18.59l7.72-7.72 1.47 1.35L5.41 20z\"/>\n",
              "  </svg>\n",
              "      </button>\n",
              "      \n",
              "  <style>\n",
              "    .colab-df-container {\n",
              "      display:flex;\n",
              "      flex-wrap:wrap;\n",
              "      gap: 12px;\n",
              "    }\n",
              "\n",
              "    .colab-df-convert {\n",
              "      background-color: #E8F0FE;\n",
              "      border: none;\n",
              "      border-radius: 50%;\n",
              "      cursor: pointer;\n",
              "      display: none;\n",
              "      fill: #1967D2;\n",
              "      height: 32px;\n",
              "      padding: 0 0 0 0;\n",
              "      width: 32px;\n",
              "    }\n",
              "\n",
              "    .colab-df-convert:hover {\n",
              "      background-color: #E2EBFA;\n",
              "      box-shadow: 0px 1px 2px rgba(60, 64, 67, 0.3), 0px 1px 3px 1px rgba(60, 64, 67, 0.15);\n",
              "      fill: #174EA6;\n",
              "    }\n",
              "\n",
              "    [theme=dark] .colab-df-convert {\n",
              "      background-color: #3B4455;\n",
              "      fill: #D2E3FC;\n",
              "    }\n",
              "\n",
              "    [theme=dark] .colab-df-convert:hover {\n",
              "      background-color: #434B5C;\n",
              "      box-shadow: 0px 1px 3px 1px rgba(0, 0, 0, 0.15);\n",
              "      filter: drop-shadow(0px 1px 2px rgba(0, 0, 0, 0.3));\n",
              "      fill: #FFFFFF;\n",
              "    }\n",
              "  </style>\n",
              "\n",
              "      <script>\n",
              "        const buttonEl =\n",
              "          document.querySelector('#df-31e05734-0395-4a60-874e-cff6963eb408 button.colab-df-convert');\n",
              "        buttonEl.style.display =\n",
              "          google.colab.kernel.accessAllowed ? 'block' : 'none';\n",
              "\n",
              "        async function convertToInteractive(key) {\n",
              "          const element = document.querySelector('#df-31e05734-0395-4a60-874e-cff6963eb408');\n",
              "          const dataTable =\n",
              "            await google.colab.kernel.invokeFunction('convertToInteractive',\n",
              "                                                     [key], {});\n",
              "          if (!dataTable) return;\n",
              "\n",
              "          const docLinkHtml = 'Like what you see? Visit the ' +\n",
              "            '<a target=\"_blank\" href=https://colab.research.google.com/notebooks/data_table.ipynb>data table notebook</a>'\n",
              "            + ' to learn more about interactive tables.';\n",
              "          element.innerHTML = '';\n",
              "          dataTable['output_type'] = 'display_data';\n",
              "          await google.colab.output.renderOutput(dataTable, element);\n",
              "          const docLink = document.createElement('div');\n",
              "          docLink.innerHTML = docLinkHtml;\n",
              "          element.appendChild(docLink);\n",
              "        }\n",
              "      </script>\n",
              "    </div>\n",
              "  </div>\n",
              "  "
            ]
          },
          "metadata": {}
        },
        {
          "output_type": "stream",
          "name": "stdout",
          "text": [
            "<class 'pandas.core.frame.DataFrame'>\n",
            "RangeIndex: 2 entries, 0 to 1\n",
            "Data columns (total 8 columns):\n",
            " #   Column                 Non-Null Count  Dtype \n",
            "---  ------                 --------------  ----- \n",
            " 0   messages_included      2 non-null      int64 \n",
            " 1   mb_per_month_included  2 non-null      int64 \n",
            " 2   minutes_included       2 non-null      int64 \n",
            " 3   rub_monthly_fee        2 non-null      int64 \n",
            " 4   rub_per_gb             2 non-null      int64 \n",
            " 5   rub_per_message        2 non-null      int64 \n",
            " 6   rub_per_minute         2 non-null      int64 \n",
            " 7   tariff_name            2 non-null      object\n",
            "dtypes: int64(7), object(1)\n",
            "memory usage: 256.0+ bytes\n"
          ]
        }
      ],
      "source": [
        "df_tariffs = pd.read_csv('tariffs.csv', sep= ',')\n",
        "display(df_tariffs)\n",
        "df_tariffs.info()"
      ]
    },
    {
      "cell_type": "markdown",
      "metadata": {
        "id": "IhsxJLDa_UC9"
      },
      "source": [
        "Для расчёта трат помесячно нам предоставлена информация о стоимости ежемесячных лимитов, а также о тарификации дополнительных трат."
      ]
    },
    {
      "cell_type": "markdown",
      "metadata": {
        "id": "whNCp1v5_UC9"
      },
      "source": [
        "### Данные о пользователях"
      ]
    },
    {
      "cell_type": "markdown",
      "metadata": {
        "id": "vrT6HJ8h_UC9"
      },
      "source": [
        "Также нам предоставлена база данных о пользователях. В данном случае нам понадобятся их id, город проживания, возраст и тариф. Читаем файл:"
      ]
    },
    {
      "cell_type": "code",
      "execution_count": 16,
      "metadata": {
        "colab": {
          "base_uri": "https://localhost:8080/",
          "height": 684
        },
        "id": "nAposIYq_UC9",
        "outputId": "9a3f97f1-38f7-4bea-e66b-34a676227209"
      },
      "outputs": [
        {
          "output_type": "display_data",
          "data": {
            "text/plain": [
              "     user_id  age  churn_date         city first_name  last_name    reg_date  \\\n",
              "0       1000   52         NaN    Краснодар     Рафаил  Верещагин  2018-05-25   \n",
              "1       1001   41         NaN       Москва       Иван       Ежов  2018-11-01   \n",
              "2       1002   59         NaN  Стерлитамак    Евгений  Абрамович  2018-06-17   \n",
              "3       1003   23         NaN       Москва      Белла   Белякова  2018-08-17   \n",
              "4       1004   68         NaN  Новокузнецк    Татьяна   Авдеенко  2018-05-14   \n",
              "..       ...  ...         ...          ...        ...        ...         ...   \n",
              "495     1495   65         NaN      Иркутск  Авксентий      Фокин  2018-08-28   \n",
              "496     1496   36         NaN      Вологда     Трифон     Блохин  2018-01-27   \n",
              "497     1497   32         NaN    Челябинск   Каролина     Агеева  2018-10-09   \n",
              "498     1498   68  2018-10-25  Владикавказ   Всеволод    Акимчин  2018-07-19   \n",
              "499     1499   35         NaN        Пермь     Гектор   Корнилов  2018-09-27   \n",
              "\n",
              "    tariff  \n",
              "0    ultra  \n",
              "1    smart  \n",
              "2    smart  \n",
              "3    ultra  \n",
              "4    ultra  \n",
              "..     ...  \n",
              "495  ultra  \n",
              "496  smart  \n",
              "497  smart  \n",
              "498  smart  \n",
              "499  smart  \n",
              "\n",
              "[500 rows x 8 columns]"
            ],
            "text/html": [
              "\n",
              "  <div id=\"df-a8a94664-9a57-43e8-a067-3a8945ee804d\">\n",
              "    <div class=\"colab-df-container\">\n",
              "      <div>\n",
              "<style scoped>\n",
              "    .dataframe tbody tr th:only-of-type {\n",
              "        vertical-align: middle;\n",
              "    }\n",
              "\n",
              "    .dataframe tbody tr th {\n",
              "        vertical-align: top;\n",
              "    }\n",
              "\n",
              "    .dataframe thead th {\n",
              "        text-align: right;\n",
              "    }\n",
              "</style>\n",
              "<table border=\"1\" class=\"dataframe\">\n",
              "  <thead>\n",
              "    <tr style=\"text-align: right;\">\n",
              "      <th></th>\n",
              "      <th>user_id</th>\n",
              "      <th>age</th>\n",
              "      <th>churn_date</th>\n",
              "      <th>city</th>\n",
              "      <th>first_name</th>\n",
              "      <th>last_name</th>\n",
              "      <th>reg_date</th>\n",
              "      <th>tariff</th>\n",
              "    </tr>\n",
              "  </thead>\n",
              "  <tbody>\n",
              "    <tr>\n",
              "      <th>0</th>\n",
              "      <td>1000</td>\n",
              "      <td>52</td>\n",
              "      <td>NaN</td>\n",
              "      <td>Краснодар</td>\n",
              "      <td>Рафаил</td>\n",
              "      <td>Верещагин</td>\n",
              "      <td>2018-05-25</td>\n",
              "      <td>ultra</td>\n",
              "    </tr>\n",
              "    <tr>\n",
              "      <th>1</th>\n",
              "      <td>1001</td>\n",
              "      <td>41</td>\n",
              "      <td>NaN</td>\n",
              "      <td>Москва</td>\n",
              "      <td>Иван</td>\n",
              "      <td>Ежов</td>\n",
              "      <td>2018-11-01</td>\n",
              "      <td>smart</td>\n",
              "    </tr>\n",
              "    <tr>\n",
              "      <th>2</th>\n",
              "      <td>1002</td>\n",
              "      <td>59</td>\n",
              "      <td>NaN</td>\n",
              "      <td>Стерлитамак</td>\n",
              "      <td>Евгений</td>\n",
              "      <td>Абрамович</td>\n",
              "      <td>2018-06-17</td>\n",
              "      <td>smart</td>\n",
              "    </tr>\n",
              "    <tr>\n",
              "      <th>3</th>\n",
              "      <td>1003</td>\n",
              "      <td>23</td>\n",
              "      <td>NaN</td>\n",
              "      <td>Москва</td>\n",
              "      <td>Белла</td>\n",
              "      <td>Белякова</td>\n",
              "      <td>2018-08-17</td>\n",
              "      <td>ultra</td>\n",
              "    </tr>\n",
              "    <tr>\n",
              "      <th>4</th>\n",
              "      <td>1004</td>\n",
              "      <td>68</td>\n",
              "      <td>NaN</td>\n",
              "      <td>Новокузнецк</td>\n",
              "      <td>Татьяна</td>\n",
              "      <td>Авдеенко</td>\n",
              "      <td>2018-05-14</td>\n",
              "      <td>ultra</td>\n",
              "    </tr>\n",
              "    <tr>\n",
              "      <th>...</th>\n",
              "      <td>...</td>\n",
              "      <td>...</td>\n",
              "      <td>...</td>\n",
              "      <td>...</td>\n",
              "      <td>...</td>\n",
              "      <td>...</td>\n",
              "      <td>...</td>\n",
              "      <td>...</td>\n",
              "    </tr>\n",
              "    <tr>\n",
              "      <th>495</th>\n",
              "      <td>1495</td>\n",
              "      <td>65</td>\n",
              "      <td>NaN</td>\n",
              "      <td>Иркутск</td>\n",
              "      <td>Авксентий</td>\n",
              "      <td>Фокин</td>\n",
              "      <td>2018-08-28</td>\n",
              "      <td>ultra</td>\n",
              "    </tr>\n",
              "    <tr>\n",
              "      <th>496</th>\n",
              "      <td>1496</td>\n",
              "      <td>36</td>\n",
              "      <td>NaN</td>\n",
              "      <td>Вологда</td>\n",
              "      <td>Трифон</td>\n",
              "      <td>Блохин</td>\n",
              "      <td>2018-01-27</td>\n",
              "      <td>smart</td>\n",
              "    </tr>\n",
              "    <tr>\n",
              "      <th>497</th>\n",
              "      <td>1497</td>\n",
              "      <td>32</td>\n",
              "      <td>NaN</td>\n",
              "      <td>Челябинск</td>\n",
              "      <td>Каролина</td>\n",
              "      <td>Агеева</td>\n",
              "      <td>2018-10-09</td>\n",
              "      <td>smart</td>\n",
              "    </tr>\n",
              "    <tr>\n",
              "      <th>498</th>\n",
              "      <td>1498</td>\n",
              "      <td>68</td>\n",
              "      <td>2018-10-25</td>\n",
              "      <td>Владикавказ</td>\n",
              "      <td>Всеволод</td>\n",
              "      <td>Акимчин</td>\n",
              "      <td>2018-07-19</td>\n",
              "      <td>smart</td>\n",
              "    </tr>\n",
              "    <tr>\n",
              "      <th>499</th>\n",
              "      <td>1499</td>\n",
              "      <td>35</td>\n",
              "      <td>NaN</td>\n",
              "      <td>Пермь</td>\n",
              "      <td>Гектор</td>\n",
              "      <td>Корнилов</td>\n",
              "      <td>2018-09-27</td>\n",
              "      <td>smart</td>\n",
              "    </tr>\n",
              "  </tbody>\n",
              "</table>\n",
              "<p>500 rows × 8 columns</p>\n",
              "</div>\n",
              "      <button class=\"colab-df-convert\" onclick=\"convertToInteractive('df-a8a94664-9a57-43e8-a067-3a8945ee804d')\"\n",
              "              title=\"Convert this dataframe to an interactive table.\"\n",
              "              style=\"display:none;\">\n",
              "        \n",
              "  <svg xmlns=\"http://www.w3.org/2000/svg\" height=\"24px\"viewBox=\"0 0 24 24\"\n",
              "       width=\"24px\">\n",
              "    <path d=\"M0 0h24v24H0V0z\" fill=\"none\"/>\n",
              "    <path d=\"M18.56 5.44l.94 2.06.94-2.06 2.06-.94-2.06-.94-.94-2.06-.94 2.06-2.06.94zm-11 1L8.5 8.5l.94-2.06 2.06-.94-2.06-.94L8.5 2.5l-.94 2.06-2.06.94zm10 10l.94 2.06.94-2.06 2.06-.94-2.06-.94-.94-2.06-.94 2.06-2.06.94z\"/><path d=\"M17.41 7.96l-1.37-1.37c-.4-.4-.92-.59-1.43-.59-.52 0-1.04.2-1.43.59L10.3 9.45l-7.72 7.72c-.78.78-.78 2.05 0 2.83L4 21.41c.39.39.9.59 1.41.59.51 0 1.02-.2 1.41-.59l7.78-7.78 2.81-2.81c.8-.78.8-2.07 0-2.86zM5.41 20L4 18.59l7.72-7.72 1.47 1.35L5.41 20z\"/>\n",
              "  </svg>\n",
              "      </button>\n",
              "      \n",
              "  <style>\n",
              "    .colab-df-container {\n",
              "      display:flex;\n",
              "      flex-wrap:wrap;\n",
              "      gap: 12px;\n",
              "    }\n",
              "\n",
              "    .colab-df-convert {\n",
              "      background-color: #E8F0FE;\n",
              "      border: none;\n",
              "      border-radius: 50%;\n",
              "      cursor: pointer;\n",
              "      display: none;\n",
              "      fill: #1967D2;\n",
              "      height: 32px;\n",
              "      padding: 0 0 0 0;\n",
              "      width: 32px;\n",
              "    }\n",
              "\n",
              "    .colab-df-convert:hover {\n",
              "      background-color: #E2EBFA;\n",
              "      box-shadow: 0px 1px 2px rgba(60, 64, 67, 0.3), 0px 1px 3px 1px rgba(60, 64, 67, 0.15);\n",
              "      fill: #174EA6;\n",
              "    }\n",
              "\n",
              "    [theme=dark] .colab-df-convert {\n",
              "      background-color: #3B4455;\n",
              "      fill: #D2E3FC;\n",
              "    }\n",
              "\n",
              "    [theme=dark] .colab-df-convert:hover {\n",
              "      background-color: #434B5C;\n",
              "      box-shadow: 0px 1px 3px 1px rgba(0, 0, 0, 0.15);\n",
              "      filter: drop-shadow(0px 1px 2px rgba(0, 0, 0, 0.3));\n",
              "      fill: #FFFFFF;\n",
              "    }\n",
              "  </style>\n",
              "\n",
              "      <script>\n",
              "        const buttonEl =\n",
              "          document.querySelector('#df-a8a94664-9a57-43e8-a067-3a8945ee804d button.colab-df-convert');\n",
              "        buttonEl.style.display =\n",
              "          google.colab.kernel.accessAllowed ? 'block' : 'none';\n",
              "\n",
              "        async function convertToInteractive(key) {\n",
              "          const element = document.querySelector('#df-a8a94664-9a57-43e8-a067-3a8945ee804d');\n",
              "          const dataTable =\n",
              "            await google.colab.kernel.invokeFunction('convertToInteractive',\n",
              "                                                     [key], {});\n",
              "          if (!dataTable) return;\n",
              "\n",
              "          const docLinkHtml = 'Like what you see? Visit the ' +\n",
              "            '<a target=\"_blank\" href=https://colab.research.google.com/notebooks/data_table.ipynb>data table notebook</a>'\n",
              "            + ' to learn more about interactive tables.';\n",
              "          element.innerHTML = '';\n",
              "          dataTable['output_type'] = 'display_data';\n",
              "          await google.colab.output.renderOutput(dataTable, element);\n",
              "          const docLink = document.createElement('div');\n",
              "          docLink.innerHTML = docLinkHtml;\n",
              "          element.appendChild(docLink);\n",
              "        }\n",
              "      </script>\n",
              "    </div>\n",
              "  </div>\n",
              "  "
            ]
          },
          "metadata": {}
        },
        {
          "output_type": "stream",
          "name": "stdout",
          "text": [
            "<class 'pandas.core.frame.DataFrame'>\n",
            "RangeIndex: 500 entries, 0 to 499\n",
            "Data columns (total 8 columns):\n",
            " #   Column      Non-Null Count  Dtype \n",
            "---  ------      --------------  ----- \n",
            " 0   user_id     500 non-null    int64 \n",
            " 1   age         500 non-null    int64 \n",
            " 2   churn_date  38 non-null     object\n",
            " 3   city        500 non-null    object\n",
            " 4   first_name  500 non-null    object\n",
            " 5   last_name   500 non-null    object\n",
            " 6   reg_date    500 non-null    object\n",
            " 7   tariff      500 non-null    object\n",
            "dtypes: int64(2), object(6)\n",
            "memory usage: 31.4+ KB\n"
          ]
        }
      ],
      "source": [
        "df_users = pd.read_csv('users.csv', sep= ',')\n",
        "display(df_users)\n",
        "df_users.info()"
      ]
    },
    {
      "cell_type": "markdown",
      "metadata": {
        "id": "YBFNh7oI_UC-"
      },
      "source": [
        "Проверим важные нам переменные на пропуски и неверные значения:"
      ]
    },
    {
      "cell_type": "code",
      "execution_count": 17,
      "metadata": {
        "colab": {
          "base_uri": "https://localhost:8080/"
        },
        "id": "p-1kRqxJ_UC-",
        "outputId": "f064b2c2-8eb4-45f2-dd52-ef80a49946de"
      },
      "outputs": [
        {
          "output_type": "execute_result",
          "data": {
            "text/plain": [
              "count    500.00000\n",
              "mean      46.58800\n",
              "std       16.66763\n",
              "min       18.00000\n",
              "25%       32.00000\n",
              "50%       46.00000\n",
              "75%       62.00000\n",
              "max       75.00000\n",
              "Name: age, dtype: float64"
            ]
          },
          "metadata": {},
          "execution_count": 17
        }
      ],
      "source": [
        "df_users['age'].describe()"
      ]
    },
    {
      "cell_type": "markdown",
      "metadata": {
        "id": "Zj_o4Ecw_UC_"
      },
      "source": [
        "Возраст варьируется в базе от 18 до 75 лет, среднее приближено к медиане, распределение возраста схоже с нормальным.\n",
        "\n",
        "Посмотрим на варианты городов и тарифов:"
      ]
    },
    {
      "cell_type": "code",
      "execution_count": 18,
      "metadata": {
        "colab": {
          "base_uri": "https://localhost:8080/"
        },
        "id": "7loarAM4_UC_",
        "outputId": "07d57b4d-1506-47f8-f8f4-7e30f3c6573e"
      },
      "outputs": [
        {
          "output_type": "execute_result",
          "data": {
            "text/plain": [
              "Москва             99\n",
              "Санкт-Петербург    39\n",
              "Новосибирск        16\n",
              "Омск               14\n",
              "Казань             14\n",
              "                   ..\n",
              "Архангельск         1\n",
              "Иваново             1\n",
              "Нижневартовск       1\n",
              "Химки               1\n",
              "Подольск            1\n",
              "Name: city, Length: 76, dtype: int64"
            ]
          },
          "metadata": {},
          "execution_count": 18
        }
      ],
      "source": [
        "df_users['city'].value_counts()"
      ]
    },
    {
      "cell_type": "markdown",
      "metadata": {
        "id": "VlbmxSYZ_UC_"
      },
      "source": [
        "Пользователей по каждому городу немного, вряд ли удастся сравнить практики пользования тарифами в разных городах, однако нам нужно будет сравнить данные среди москвичей и жителей регионов. Создадим соответствующую переменную:"
      ]
    },
    {
      "cell_type": "code",
      "execution_count": 19,
      "metadata": {
        "colab": {
          "base_uri": "https://localhost:8080/",
          "height": 363
        },
        "id": "-7zGDMC8_UDA",
        "outputId": "ed9ddd6b-58e0-4fd4-82ff-b9cc154be4ba"
      },
      "outputs": [
        {
          "output_type": "execute_result",
          "data": {
            "text/plain": [
              "     city_grouped             city\n",
              "322             0         Балашиха\n",
              "105             0         Улан-Удэ\n",
              "147             0           Якутск\n",
              "291             1           Москва\n",
              "331             1           Москва\n",
              "26              0         Мурманск\n",
              "189             0  Санкт-Петербург\n",
              "59              0            Курск\n",
              "66              0        Астрахань\n",
              "487             0         Кострома"
            ],
            "text/html": [
              "\n",
              "  <div id=\"df-40bf9e63-4e83-42a3-93f0-9a4b21f491a8\">\n",
              "    <div class=\"colab-df-container\">\n",
              "      <div>\n",
              "<style scoped>\n",
              "    .dataframe tbody tr th:only-of-type {\n",
              "        vertical-align: middle;\n",
              "    }\n",
              "\n",
              "    .dataframe tbody tr th {\n",
              "        vertical-align: top;\n",
              "    }\n",
              "\n",
              "    .dataframe thead th {\n",
              "        text-align: right;\n",
              "    }\n",
              "</style>\n",
              "<table border=\"1\" class=\"dataframe\">\n",
              "  <thead>\n",
              "    <tr style=\"text-align: right;\">\n",
              "      <th></th>\n",
              "      <th>city_grouped</th>\n",
              "      <th>city</th>\n",
              "    </tr>\n",
              "  </thead>\n",
              "  <tbody>\n",
              "    <tr>\n",
              "      <th>322</th>\n",
              "      <td>0</td>\n",
              "      <td>Балашиха</td>\n",
              "    </tr>\n",
              "    <tr>\n",
              "      <th>105</th>\n",
              "      <td>0</td>\n",
              "      <td>Улан-Удэ</td>\n",
              "    </tr>\n",
              "    <tr>\n",
              "      <th>147</th>\n",
              "      <td>0</td>\n",
              "      <td>Якутск</td>\n",
              "    </tr>\n",
              "    <tr>\n",
              "      <th>291</th>\n",
              "      <td>1</td>\n",
              "      <td>Москва</td>\n",
              "    </tr>\n",
              "    <tr>\n",
              "      <th>331</th>\n",
              "      <td>1</td>\n",
              "      <td>Москва</td>\n",
              "    </tr>\n",
              "    <tr>\n",
              "      <th>26</th>\n",
              "      <td>0</td>\n",
              "      <td>Мурманск</td>\n",
              "    </tr>\n",
              "    <tr>\n",
              "      <th>189</th>\n",
              "      <td>0</td>\n",
              "      <td>Санкт-Петербург</td>\n",
              "    </tr>\n",
              "    <tr>\n",
              "      <th>59</th>\n",
              "      <td>0</td>\n",
              "      <td>Курск</td>\n",
              "    </tr>\n",
              "    <tr>\n",
              "      <th>66</th>\n",
              "      <td>0</td>\n",
              "      <td>Астрахань</td>\n",
              "    </tr>\n",
              "    <tr>\n",
              "      <th>487</th>\n",
              "      <td>0</td>\n",
              "      <td>Кострома</td>\n",
              "    </tr>\n",
              "  </tbody>\n",
              "</table>\n",
              "</div>\n",
              "      <button class=\"colab-df-convert\" onclick=\"convertToInteractive('df-40bf9e63-4e83-42a3-93f0-9a4b21f491a8')\"\n",
              "              title=\"Convert this dataframe to an interactive table.\"\n",
              "              style=\"display:none;\">\n",
              "        \n",
              "  <svg xmlns=\"http://www.w3.org/2000/svg\" height=\"24px\"viewBox=\"0 0 24 24\"\n",
              "       width=\"24px\">\n",
              "    <path d=\"M0 0h24v24H0V0z\" fill=\"none\"/>\n",
              "    <path d=\"M18.56 5.44l.94 2.06.94-2.06 2.06-.94-2.06-.94-.94-2.06-.94 2.06-2.06.94zm-11 1L8.5 8.5l.94-2.06 2.06-.94-2.06-.94L8.5 2.5l-.94 2.06-2.06.94zm10 10l.94 2.06.94-2.06 2.06-.94-2.06-.94-.94-2.06-.94 2.06-2.06.94z\"/><path d=\"M17.41 7.96l-1.37-1.37c-.4-.4-.92-.59-1.43-.59-.52 0-1.04.2-1.43.59L10.3 9.45l-7.72 7.72c-.78.78-.78 2.05 0 2.83L4 21.41c.39.39.9.59 1.41.59.51 0 1.02-.2 1.41-.59l7.78-7.78 2.81-2.81c.8-.78.8-2.07 0-2.86zM5.41 20L4 18.59l7.72-7.72 1.47 1.35L5.41 20z\"/>\n",
              "  </svg>\n",
              "      </button>\n",
              "      \n",
              "  <style>\n",
              "    .colab-df-container {\n",
              "      display:flex;\n",
              "      flex-wrap:wrap;\n",
              "      gap: 12px;\n",
              "    }\n",
              "\n",
              "    .colab-df-convert {\n",
              "      background-color: #E8F0FE;\n",
              "      border: none;\n",
              "      border-radius: 50%;\n",
              "      cursor: pointer;\n",
              "      display: none;\n",
              "      fill: #1967D2;\n",
              "      height: 32px;\n",
              "      padding: 0 0 0 0;\n",
              "      width: 32px;\n",
              "    }\n",
              "\n",
              "    .colab-df-convert:hover {\n",
              "      background-color: #E2EBFA;\n",
              "      box-shadow: 0px 1px 2px rgba(60, 64, 67, 0.3), 0px 1px 3px 1px rgba(60, 64, 67, 0.15);\n",
              "      fill: #174EA6;\n",
              "    }\n",
              "\n",
              "    [theme=dark] .colab-df-convert {\n",
              "      background-color: #3B4455;\n",
              "      fill: #D2E3FC;\n",
              "    }\n",
              "\n",
              "    [theme=dark] .colab-df-convert:hover {\n",
              "      background-color: #434B5C;\n",
              "      box-shadow: 0px 1px 3px 1px rgba(0, 0, 0, 0.15);\n",
              "      filter: drop-shadow(0px 1px 2px rgba(0, 0, 0, 0.3));\n",
              "      fill: #FFFFFF;\n",
              "    }\n",
              "  </style>\n",
              "\n",
              "      <script>\n",
              "        const buttonEl =\n",
              "          document.querySelector('#df-40bf9e63-4e83-42a3-93f0-9a4b21f491a8 button.colab-df-convert');\n",
              "        buttonEl.style.display =\n",
              "          google.colab.kernel.accessAllowed ? 'block' : 'none';\n",
              "\n",
              "        async function convertToInteractive(key) {\n",
              "          const element = document.querySelector('#df-40bf9e63-4e83-42a3-93f0-9a4b21f491a8');\n",
              "          const dataTable =\n",
              "            await google.colab.kernel.invokeFunction('convertToInteractive',\n",
              "                                                     [key], {});\n",
              "          if (!dataTable) return;\n",
              "\n",
              "          const docLinkHtml = 'Like what you see? Visit the ' +\n",
              "            '<a target=\"_blank\" href=https://colab.research.google.com/notebooks/data_table.ipynb>data table notebook</a>'\n",
              "            + ' to learn more about interactive tables.';\n",
              "          element.innerHTML = '';\n",
              "          dataTable['output_type'] = 'display_data';\n",
              "          await google.colab.output.renderOutput(dataTable, element);\n",
              "          const docLink = document.createElement('div');\n",
              "          docLink.innerHTML = docLinkHtml;\n",
              "          element.appendChild(docLink);\n",
              "        }\n",
              "      </script>\n",
              "    </div>\n",
              "  </div>\n",
              "  "
            ]
          },
          "metadata": {},
          "execution_count": 19
        }
      ],
      "source": [
        "def city_group(row):\n",
        "\n",
        "    city = row['city']\n",
        "\n",
        "    if city == 'Москва':\n",
        "        return 1\n",
        "                    \n",
        "    return 0 \n",
        "\n",
        "df_users['city_grouped'] = df_users.apply(city_group, axis=1)\n",
        "df_users.loc[:,['city_grouped','city']].sample(10)"
      ]
    },
    {
      "cell_type": "markdown",
      "metadata": {
        "id": "cdPf7zof_UDA"
      },
      "source": [
        "Пременная создана корректно. Каждый пятый пользователь - из Москвы.\n",
        "\n",
        "Посмотрим, всё ли корректно с переменной тарифа, заодно проверив, нет ли зависимости пользования тарифами от проживания в столице."
      ]
    },
    {
      "cell_type": "code",
      "execution_count": 20,
      "metadata": {
        "colab": {
          "base_uri": "https://localhost:8080/",
          "height": 196
        },
        "id": "1hr0Pf7S_UDA",
        "outputId": "1418282e-11e1-42c8-f750-cc631c0cb617"
      },
      "outputs": [
        {
          "output_type": "stream",
          "name": "stdout",
          "text": [
            "smart    351\n",
            "ultra    149\n",
            "Name: tariff, dtype: int64\n"
          ]
        },
        {
          "output_type": "execute_result",
          "data": {
            "text/plain": [
              "tariff       smart ultra\n",
              "city_grouped            \n",
              "0              81%   79%\n",
              "1              19%   21%"
            ],
            "text/html": [
              "\n",
              "  <div id=\"df-980ced3a-1651-4e54-ad83-0fb8e8ac5784\">\n",
              "    <div class=\"colab-df-container\">\n",
              "      <div>\n",
              "<style scoped>\n",
              "    .dataframe tbody tr th:only-of-type {\n",
              "        vertical-align: middle;\n",
              "    }\n",
              "\n",
              "    .dataframe tbody tr th {\n",
              "        vertical-align: top;\n",
              "    }\n",
              "\n",
              "    .dataframe thead th {\n",
              "        text-align: right;\n",
              "    }\n",
              "</style>\n",
              "<table border=\"1\" class=\"dataframe\">\n",
              "  <thead>\n",
              "    <tr style=\"text-align: right;\">\n",
              "      <th>tariff</th>\n",
              "      <th>smart</th>\n",
              "      <th>ultra</th>\n",
              "    </tr>\n",
              "    <tr>\n",
              "      <th>city_grouped</th>\n",
              "      <th></th>\n",
              "      <th></th>\n",
              "    </tr>\n",
              "  </thead>\n",
              "  <tbody>\n",
              "    <tr>\n",
              "      <th>0</th>\n",
              "      <td>81%</td>\n",
              "      <td>79%</td>\n",
              "    </tr>\n",
              "    <tr>\n",
              "      <th>1</th>\n",
              "      <td>19%</td>\n",
              "      <td>21%</td>\n",
              "    </tr>\n",
              "  </tbody>\n",
              "</table>\n",
              "</div>\n",
              "      <button class=\"colab-df-convert\" onclick=\"convertToInteractive('df-980ced3a-1651-4e54-ad83-0fb8e8ac5784')\"\n",
              "              title=\"Convert this dataframe to an interactive table.\"\n",
              "              style=\"display:none;\">\n",
              "        \n",
              "  <svg xmlns=\"http://www.w3.org/2000/svg\" height=\"24px\"viewBox=\"0 0 24 24\"\n",
              "       width=\"24px\">\n",
              "    <path d=\"M0 0h24v24H0V0z\" fill=\"none\"/>\n",
              "    <path d=\"M18.56 5.44l.94 2.06.94-2.06 2.06-.94-2.06-.94-.94-2.06-.94 2.06-2.06.94zm-11 1L8.5 8.5l.94-2.06 2.06-.94-2.06-.94L8.5 2.5l-.94 2.06-2.06.94zm10 10l.94 2.06.94-2.06 2.06-.94-2.06-.94-.94-2.06-.94 2.06-2.06.94z\"/><path d=\"M17.41 7.96l-1.37-1.37c-.4-.4-.92-.59-1.43-.59-.52 0-1.04.2-1.43.59L10.3 9.45l-7.72 7.72c-.78.78-.78 2.05 0 2.83L4 21.41c.39.39.9.59 1.41.59.51 0 1.02-.2 1.41-.59l7.78-7.78 2.81-2.81c.8-.78.8-2.07 0-2.86zM5.41 20L4 18.59l7.72-7.72 1.47 1.35L5.41 20z\"/>\n",
              "  </svg>\n",
              "      </button>\n",
              "      \n",
              "  <style>\n",
              "    .colab-df-container {\n",
              "      display:flex;\n",
              "      flex-wrap:wrap;\n",
              "      gap: 12px;\n",
              "    }\n",
              "\n",
              "    .colab-df-convert {\n",
              "      background-color: #E8F0FE;\n",
              "      border: none;\n",
              "      border-radius: 50%;\n",
              "      cursor: pointer;\n",
              "      display: none;\n",
              "      fill: #1967D2;\n",
              "      height: 32px;\n",
              "      padding: 0 0 0 0;\n",
              "      width: 32px;\n",
              "    }\n",
              "\n",
              "    .colab-df-convert:hover {\n",
              "      background-color: #E2EBFA;\n",
              "      box-shadow: 0px 1px 2px rgba(60, 64, 67, 0.3), 0px 1px 3px 1px rgba(60, 64, 67, 0.15);\n",
              "      fill: #174EA6;\n",
              "    }\n",
              "\n",
              "    [theme=dark] .colab-df-convert {\n",
              "      background-color: #3B4455;\n",
              "      fill: #D2E3FC;\n",
              "    }\n",
              "\n",
              "    [theme=dark] .colab-df-convert:hover {\n",
              "      background-color: #434B5C;\n",
              "      box-shadow: 0px 1px 3px 1px rgba(0, 0, 0, 0.15);\n",
              "      filter: drop-shadow(0px 1px 2px rgba(0, 0, 0, 0.3));\n",
              "      fill: #FFFFFF;\n",
              "    }\n",
              "  </style>\n",
              "\n",
              "      <script>\n",
              "        const buttonEl =\n",
              "          document.querySelector('#df-980ced3a-1651-4e54-ad83-0fb8e8ac5784 button.colab-df-convert');\n",
              "        buttonEl.style.display =\n",
              "          google.colab.kernel.accessAllowed ? 'block' : 'none';\n",
              "\n",
              "        async function convertToInteractive(key) {\n",
              "          const element = document.querySelector('#df-980ced3a-1651-4e54-ad83-0fb8e8ac5784');\n",
              "          const dataTable =\n",
              "            await google.colab.kernel.invokeFunction('convertToInteractive',\n",
              "                                                     [key], {});\n",
              "          if (!dataTable) return;\n",
              "\n",
              "          const docLinkHtml = 'Like what you see? Visit the ' +\n",
              "            '<a target=\"_blank\" href=https://colab.research.google.com/notebooks/data_table.ipynb>data table notebook</a>'\n",
              "            + ' to learn more about interactive tables.';\n",
              "          element.innerHTML = '';\n",
              "          dataTable['output_type'] = 'display_data';\n",
              "          await google.colab.output.renderOutput(dataTable, element);\n",
              "          const docLink = document.createElement('div');\n",
              "          docLink.innerHTML = docLinkHtml;\n",
              "          element.appendChild(docLink);\n",
              "        }\n",
              "      </script>\n",
              "    </div>\n",
              "  </div>\n",
              "  "
            ]
          },
          "metadata": {},
          "execution_count": 20
        }
      ],
      "source": [
        "print(df_users['tariff'].value_counts())\n",
        "pd.crosstab(\n",
        "    df_users['city_grouped'], df_users['tariff'],\n",
        "    values=df_users['tariff'],\n",
        "    aggfunc='count',\n",
        "    normalize='columns').applymap(lambda x: \"{0:.0f}%\".format(100*x))"
      ]
    },
    {
      "cell_type": "markdown",
      "metadata": {
        "id": "-5WJV1T3_UDB"
      },
      "source": [
        "Москвичей 20% как во всей базе, так и среди пользователей каждого тарифа, что делает данную подвыборку сравнимой с группой жителей регионов."
      ]
    },
    {
      "cell_type": "markdown",
      "metadata": {
        "id": "ChxUCAlS_UDB"
      },
      "source": [
        "### Вывод"
      ]
    },
    {
      "cell_type": "markdown",
      "metadata": {
        "id": "EKiL9p0T_UDB"
      },
      "source": [
        "Мы посмотрели на предоставленные базы данных. Создали промежуточные таблицы с пользованием услуг помесячно (звонки, интернет-трафик, сообщения). При дальнейшей работе необходимо учитывать, что есть существенная доля нулевых по длительности звонков и нулевых сессий трафика. Приступим к работе с агрегированной базой."
      ]
    },
    {
      "cell_type": "markdown",
      "metadata": {
        "id": "ivDSl9uN_UDC"
      },
      "source": [
        "## Создание общей агрегированной базы"
      ]
    },
    {
      "cell_type": "markdown",
      "metadata": {
        "id": "XQbqLspk_UDC"
      },
      "source": [
        "Соединим созданные ранее промежуточные базы."
      ]
    },
    {
      "cell_type": "code",
      "execution_count": 21,
      "metadata": {
        "colab": {
          "base_uri": "https://localhost:8080/",
          "height": 424
        },
        "id": "CmNjn_xw_UDC",
        "outputId": "45f9e809-fff9-4498-a460-21860b650bde"
      },
      "outputs": [
        {
          "output_type": "execute_result",
          "data": {
            "text/plain": [
              "      user_id  month  calls  internet  messages  age  churn_date  \\\n",
              "0        1000    5.0  159.0       3.0      22.0   52         NaN   \n",
              "1        1000    6.0  172.0      23.0      60.0   52         NaN   \n",
              "2        1000    7.0  340.0      14.0      75.0   52         NaN   \n",
              "3        1000    8.0  408.0      14.0      81.0   52         NaN   \n",
              "4        1000    9.0  466.0      15.0      57.0   52         NaN   \n",
              "...       ...    ...    ...       ...       ...  ...         ...   \n",
              "3211     1489   10.0    NaN      20.0      21.0   35         NaN   \n",
              "3212     1489   11.0    NaN      18.0      20.0   35         NaN   \n",
              "3213     1489   12.0    NaN      17.0      35.0   35         NaN   \n",
              "3214     1128    NaN    NaN       NaN       NaN   51  2018-12-23   \n",
              "3215     1371    NaN    NaN       NaN       NaN   50  2018-12-30   \n",
              "\n",
              "                 city first_name  last_name    reg_date tariff  city_grouped  \n",
              "0           Краснодар     Рафаил  Верещагин  2018-05-25  ultra             0  \n",
              "1           Краснодар     Рафаил  Верещагин  2018-05-25  ultra             0  \n",
              "2           Краснодар     Рафаил  Верещагин  2018-05-25  ultra             0  \n",
              "3           Краснодар     Рафаил  Верещагин  2018-05-25  ultra             0  \n",
              "4           Краснодар     Рафаил  Верещагин  2018-05-25  ultra             0  \n",
              "...               ...        ...        ...         ...    ...           ...  \n",
              "3211  Санкт-Петербург      Павел   Гончаров  2018-08-15  smart             0  \n",
              "3212  Санкт-Петербург      Павел   Гончаров  2018-08-15  smart             0  \n",
              "3213  Санкт-Петербург      Павел   Гончаров  2018-08-15  smart             0  \n",
              "3214         Волжский     Ксения     Агаева  2018-12-15  ultra             0  \n",
              "3215             Омск     Ириней   Трофимов  2018-12-25  smart             0  \n",
              "\n",
              "[3216 rows x 13 columns]"
            ],
            "text/html": [
              "\n",
              "  <div id=\"df-031d5b75-dabd-4472-88df-bff62f52df33\">\n",
              "    <div class=\"colab-df-container\">\n",
              "      <div>\n",
              "<style scoped>\n",
              "    .dataframe tbody tr th:only-of-type {\n",
              "        vertical-align: middle;\n",
              "    }\n",
              "\n",
              "    .dataframe tbody tr th {\n",
              "        vertical-align: top;\n",
              "    }\n",
              "\n",
              "    .dataframe thead th {\n",
              "        text-align: right;\n",
              "    }\n",
              "</style>\n",
              "<table border=\"1\" class=\"dataframe\">\n",
              "  <thead>\n",
              "    <tr style=\"text-align: right;\">\n",
              "      <th></th>\n",
              "      <th>user_id</th>\n",
              "      <th>month</th>\n",
              "      <th>calls</th>\n",
              "      <th>internet</th>\n",
              "      <th>messages</th>\n",
              "      <th>age</th>\n",
              "      <th>churn_date</th>\n",
              "      <th>city</th>\n",
              "      <th>first_name</th>\n",
              "      <th>last_name</th>\n",
              "      <th>reg_date</th>\n",
              "      <th>tariff</th>\n",
              "      <th>city_grouped</th>\n",
              "    </tr>\n",
              "  </thead>\n",
              "  <tbody>\n",
              "    <tr>\n",
              "      <th>0</th>\n",
              "      <td>1000</td>\n",
              "      <td>5.0</td>\n",
              "      <td>159.0</td>\n",
              "      <td>3.0</td>\n",
              "      <td>22.0</td>\n",
              "      <td>52</td>\n",
              "      <td>NaN</td>\n",
              "      <td>Краснодар</td>\n",
              "      <td>Рафаил</td>\n",
              "      <td>Верещагин</td>\n",
              "      <td>2018-05-25</td>\n",
              "      <td>ultra</td>\n",
              "      <td>0</td>\n",
              "    </tr>\n",
              "    <tr>\n",
              "      <th>1</th>\n",
              "      <td>1000</td>\n",
              "      <td>6.0</td>\n",
              "      <td>172.0</td>\n",
              "      <td>23.0</td>\n",
              "      <td>60.0</td>\n",
              "      <td>52</td>\n",
              "      <td>NaN</td>\n",
              "      <td>Краснодар</td>\n",
              "      <td>Рафаил</td>\n",
              "      <td>Верещагин</td>\n",
              "      <td>2018-05-25</td>\n",
              "      <td>ultra</td>\n",
              "      <td>0</td>\n",
              "    </tr>\n",
              "    <tr>\n",
              "      <th>2</th>\n",
              "      <td>1000</td>\n",
              "      <td>7.0</td>\n",
              "      <td>340.0</td>\n",
              "      <td>14.0</td>\n",
              "      <td>75.0</td>\n",
              "      <td>52</td>\n",
              "      <td>NaN</td>\n",
              "      <td>Краснодар</td>\n",
              "      <td>Рафаил</td>\n",
              "      <td>Верещагин</td>\n",
              "      <td>2018-05-25</td>\n",
              "      <td>ultra</td>\n",
              "      <td>0</td>\n",
              "    </tr>\n",
              "    <tr>\n",
              "      <th>3</th>\n",
              "      <td>1000</td>\n",
              "      <td>8.0</td>\n",
              "      <td>408.0</td>\n",
              "      <td>14.0</td>\n",
              "      <td>81.0</td>\n",
              "      <td>52</td>\n",
              "      <td>NaN</td>\n",
              "      <td>Краснодар</td>\n",
              "      <td>Рафаил</td>\n",
              "      <td>Верещагин</td>\n",
              "      <td>2018-05-25</td>\n",
              "      <td>ultra</td>\n",
              "      <td>0</td>\n",
              "    </tr>\n",
              "    <tr>\n",
              "      <th>4</th>\n",
              "      <td>1000</td>\n",
              "      <td>9.0</td>\n",
              "      <td>466.0</td>\n",
              "      <td>15.0</td>\n",
              "      <td>57.0</td>\n",
              "      <td>52</td>\n",
              "      <td>NaN</td>\n",
              "      <td>Краснодар</td>\n",
              "      <td>Рафаил</td>\n",
              "      <td>Верещагин</td>\n",
              "      <td>2018-05-25</td>\n",
              "      <td>ultra</td>\n",
              "      <td>0</td>\n",
              "    </tr>\n",
              "    <tr>\n",
              "      <th>...</th>\n",
              "      <td>...</td>\n",
              "      <td>...</td>\n",
              "      <td>...</td>\n",
              "      <td>...</td>\n",
              "      <td>...</td>\n",
              "      <td>...</td>\n",
              "      <td>...</td>\n",
              "      <td>...</td>\n",
              "      <td>...</td>\n",
              "      <td>...</td>\n",
              "      <td>...</td>\n",
              "      <td>...</td>\n",
              "      <td>...</td>\n",
              "    </tr>\n",
              "    <tr>\n",
              "      <th>3211</th>\n",
              "      <td>1489</td>\n",
              "      <td>10.0</td>\n",
              "      <td>NaN</td>\n",
              "      <td>20.0</td>\n",
              "      <td>21.0</td>\n",
              "      <td>35</td>\n",
              "      <td>NaN</td>\n",
              "      <td>Санкт-Петербург</td>\n",
              "      <td>Павел</td>\n",
              "      <td>Гончаров</td>\n",
              "      <td>2018-08-15</td>\n",
              "      <td>smart</td>\n",
              "      <td>0</td>\n",
              "    </tr>\n",
              "    <tr>\n",
              "      <th>3212</th>\n",
              "      <td>1489</td>\n",
              "      <td>11.0</td>\n",
              "      <td>NaN</td>\n",
              "      <td>18.0</td>\n",
              "      <td>20.0</td>\n",
              "      <td>35</td>\n",
              "      <td>NaN</td>\n",
              "      <td>Санкт-Петербург</td>\n",
              "      <td>Павел</td>\n",
              "      <td>Гончаров</td>\n",
              "      <td>2018-08-15</td>\n",
              "      <td>smart</td>\n",
              "      <td>0</td>\n",
              "    </tr>\n",
              "    <tr>\n",
              "      <th>3213</th>\n",
              "      <td>1489</td>\n",
              "      <td>12.0</td>\n",
              "      <td>NaN</td>\n",
              "      <td>17.0</td>\n",
              "      <td>35.0</td>\n",
              "      <td>35</td>\n",
              "      <td>NaN</td>\n",
              "      <td>Санкт-Петербург</td>\n",
              "      <td>Павел</td>\n",
              "      <td>Гончаров</td>\n",
              "      <td>2018-08-15</td>\n",
              "      <td>smart</td>\n",
              "      <td>0</td>\n",
              "    </tr>\n",
              "    <tr>\n",
              "      <th>3214</th>\n",
              "      <td>1128</td>\n",
              "      <td>NaN</td>\n",
              "      <td>NaN</td>\n",
              "      <td>NaN</td>\n",
              "      <td>NaN</td>\n",
              "      <td>51</td>\n",
              "      <td>2018-12-23</td>\n",
              "      <td>Волжский</td>\n",
              "      <td>Ксения</td>\n",
              "      <td>Агаева</td>\n",
              "      <td>2018-12-15</td>\n",
              "      <td>ultra</td>\n",
              "      <td>0</td>\n",
              "    </tr>\n",
              "    <tr>\n",
              "      <th>3215</th>\n",
              "      <td>1371</td>\n",
              "      <td>NaN</td>\n",
              "      <td>NaN</td>\n",
              "      <td>NaN</td>\n",
              "      <td>NaN</td>\n",
              "      <td>50</td>\n",
              "      <td>2018-12-30</td>\n",
              "      <td>Омск</td>\n",
              "      <td>Ириней</td>\n",
              "      <td>Трофимов</td>\n",
              "      <td>2018-12-25</td>\n",
              "      <td>smart</td>\n",
              "      <td>0</td>\n",
              "    </tr>\n",
              "  </tbody>\n",
              "</table>\n",
              "<p>3216 rows × 13 columns</p>\n",
              "</div>\n",
              "      <button class=\"colab-df-convert\" onclick=\"convertToInteractive('df-031d5b75-dabd-4472-88df-bff62f52df33')\"\n",
              "              title=\"Convert this dataframe to an interactive table.\"\n",
              "              style=\"display:none;\">\n",
              "        \n",
              "  <svg xmlns=\"http://www.w3.org/2000/svg\" height=\"24px\"viewBox=\"0 0 24 24\"\n",
              "       width=\"24px\">\n",
              "    <path d=\"M0 0h24v24H0V0z\" fill=\"none\"/>\n",
              "    <path d=\"M18.56 5.44l.94 2.06.94-2.06 2.06-.94-2.06-.94-.94-2.06-.94 2.06-2.06.94zm-11 1L8.5 8.5l.94-2.06 2.06-.94-2.06-.94L8.5 2.5l-.94 2.06-2.06.94zm10 10l.94 2.06.94-2.06 2.06-.94-2.06-.94-.94-2.06-.94 2.06-2.06.94z\"/><path d=\"M17.41 7.96l-1.37-1.37c-.4-.4-.92-.59-1.43-.59-.52 0-1.04.2-1.43.59L10.3 9.45l-7.72 7.72c-.78.78-.78 2.05 0 2.83L4 21.41c.39.39.9.59 1.41.59.51 0 1.02-.2 1.41-.59l7.78-7.78 2.81-2.81c.8-.78.8-2.07 0-2.86zM5.41 20L4 18.59l7.72-7.72 1.47 1.35L5.41 20z\"/>\n",
              "  </svg>\n",
              "      </button>\n",
              "      \n",
              "  <style>\n",
              "    .colab-df-container {\n",
              "      display:flex;\n",
              "      flex-wrap:wrap;\n",
              "      gap: 12px;\n",
              "    }\n",
              "\n",
              "    .colab-df-convert {\n",
              "      background-color: #E8F0FE;\n",
              "      border: none;\n",
              "      border-radius: 50%;\n",
              "      cursor: pointer;\n",
              "      display: none;\n",
              "      fill: #1967D2;\n",
              "      height: 32px;\n",
              "      padding: 0 0 0 0;\n",
              "      width: 32px;\n",
              "    }\n",
              "\n",
              "    .colab-df-convert:hover {\n",
              "      background-color: #E2EBFA;\n",
              "      box-shadow: 0px 1px 2px rgba(60, 64, 67, 0.3), 0px 1px 3px 1px rgba(60, 64, 67, 0.15);\n",
              "      fill: #174EA6;\n",
              "    }\n",
              "\n",
              "    [theme=dark] .colab-df-convert {\n",
              "      background-color: #3B4455;\n",
              "      fill: #D2E3FC;\n",
              "    }\n",
              "\n",
              "    [theme=dark] .colab-df-convert:hover {\n",
              "      background-color: #434B5C;\n",
              "      box-shadow: 0px 1px 3px 1px rgba(0, 0, 0, 0.15);\n",
              "      filter: drop-shadow(0px 1px 2px rgba(0, 0, 0, 0.3));\n",
              "      fill: #FFFFFF;\n",
              "    }\n",
              "  </style>\n",
              "\n",
              "      <script>\n",
              "        const buttonEl =\n",
              "          document.querySelector('#df-031d5b75-dabd-4472-88df-bff62f52df33 button.colab-df-convert');\n",
              "        buttonEl.style.display =\n",
              "          google.colab.kernel.accessAllowed ? 'block' : 'none';\n",
              "\n",
              "        async function convertToInteractive(key) {\n",
              "          const element = document.querySelector('#df-031d5b75-dabd-4472-88df-bff62f52df33');\n",
              "          const dataTable =\n",
              "            await google.colab.kernel.invokeFunction('convertToInteractive',\n",
              "                                                     [key], {});\n",
              "          if (!dataTable) return;\n",
              "\n",
              "          const docLinkHtml = 'Like what you see? Visit the ' +\n",
              "            '<a target=\"_blank\" href=https://colab.research.google.com/notebooks/data_table.ipynb>data table notebook</a>'\n",
              "            + ' to learn more about interactive tables.';\n",
              "          element.innerHTML = '';\n",
              "          dataTable['output_type'] = 'display_data';\n",
              "          await google.colab.output.renderOutput(dataTable, element);\n",
              "          const docLink = document.createElement('div');\n",
              "          docLink.innerHTML = docLinkHtml;\n",
              "          element.appendChild(docLink);\n",
              "        }\n",
              "      </script>\n",
              "    </div>\n",
              "  </div>\n",
              "  "
            ]
          },
          "metadata": {},
          "execution_count": 21
        }
      ],
      "source": [
        "df = df_calls_monthly.merge(df_internet_monthly, left_on=['user_id','month'], right_on=['user_id','month'], how='outer')\n",
        "df = df.merge(df_messages_monthly, left_on=['user_id','month'], right_on=['user_id','month'], how='outer')\n",
        "df = df.reset_index()\n",
        "df = df.merge(df_users, left_on='user_id', right_on='user_id', how='outer')\n",
        "\n",
        "df.columns = (['user_id',\n",
        "               'month',\n",
        "               'calls',\n",
        "               'internet',\n",
        "               'messages',\n",
        "               'age',\n",
        "               'churn_date',\n",
        "               'city',\n",
        "               'first_name',\n",
        "               'last_name',\n",
        "               'reg_date',\n",
        "               'tariff',\n",
        "               'city_grouped'])\n",
        "df"
      ]
    },
    {
      "cell_type": "markdown",
      "metadata": {
        "id": "thJWasKI_UDD"
      },
      "source": [
        "В объединённой базе появились пропуски. Пропущенные данные в звонках, интренте-трафике или сообщениях можно считать отсутствующими по причине неиспользования данной услуги, и их можно заполнить нулями. А пропуски в переменной месяца указывают на то, что пользователь подключился и сразу же отключился от тарифа, как в случае с последними двумя кейсами в таблице. Эти строки удалим, а прочие заполним нулями."
      ]
    },
    {
      "cell_type": "code",
      "execution_count": 22,
      "metadata": {
        "colab": {
          "base_uri": "https://localhost:8080/",
          "height": 424
        },
        "id": "KnIU2rbS_UDD",
        "outputId": "038585fd-4c7c-4d1d-c058-a743fcef38c9"
      },
      "outputs": [
        {
          "output_type": "execute_result",
          "data": {
            "text/plain": [
              "      user_id  month  calls  internet  messages  age churn_date  \\\n",
              "0        1000    5.0  159.0       3.0      22.0   52        NaN   \n",
              "1        1000    6.0  172.0      23.0      60.0   52        NaN   \n",
              "2        1000    7.0  340.0      14.0      75.0   52        NaN   \n",
              "3        1000    8.0  408.0      14.0      81.0   52        NaN   \n",
              "4        1000    9.0  466.0      15.0      57.0   52        NaN   \n",
              "...       ...    ...    ...       ...       ...  ...        ...   \n",
              "3209     1489    8.0    0.0      11.0      17.0   35        NaN   \n",
              "3210     1489    9.0    0.0      17.0      32.0   35        NaN   \n",
              "3211     1489   10.0    0.0      20.0      21.0   35        NaN   \n",
              "3212     1489   11.0    0.0      18.0      20.0   35        NaN   \n",
              "3213     1489   12.0    0.0      17.0      35.0   35        NaN   \n",
              "\n",
              "                 city first_name  last_name    reg_date tariff  city_grouped  \n",
              "0           Краснодар     Рафаил  Верещагин  2018-05-25  ultra             0  \n",
              "1           Краснодар     Рафаил  Верещагин  2018-05-25  ultra             0  \n",
              "2           Краснодар     Рафаил  Верещагин  2018-05-25  ultra             0  \n",
              "3           Краснодар     Рафаил  Верещагин  2018-05-25  ultra             0  \n",
              "4           Краснодар     Рафаил  Верещагин  2018-05-25  ultra             0  \n",
              "...               ...        ...        ...         ...    ...           ...  \n",
              "3209  Санкт-Петербург      Павел   Гончаров  2018-08-15  smart             0  \n",
              "3210  Санкт-Петербург      Павел   Гончаров  2018-08-15  smart             0  \n",
              "3211  Санкт-Петербург      Павел   Гончаров  2018-08-15  smart             0  \n",
              "3212  Санкт-Петербург      Павел   Гончаров  2018-08-15  smart             0  \n",
              "3213  Санкт-Петербург      Павел   Гончаров  2018-08-15  smart             0  \n",
              "\n",
              "[3214 rows x 13 columns]"
            ],
            "text/html": [
              "\n",
              "  <div id=\"df-3013128d-1df1-4d15-b6ba-cb736b7ba571\">\n",
              "    <div class=\"colab-df-container\">\n",
              "      <div>\n",
              "<style scoped>\n",
              "    .dataframe tbody tr th:only-of-type {\n",
              "        vertical-align: middle;\n",
              "    }\n",
              "\n",
              "    .dataframe tbody tr th {\n",
              "        vertical-align: top;\n",
              "    }\n",
              "\n",
              "    .dataframe thead th {\n",
              "        text-align: right;\n",
              "    }\n",
              "</style>\n",
              "<table border=\"1\" class=\"dataframe\">\n",
              "  <thead>\n",
              "    <tr style=\"text-align: right;\">\n",
              "      <th></th>\n",
              "      <th>user_id</th>\n",
              "      <th>month</th>\n",
              "      <th>calls</th>\n",
              "      <th>internet</th>\n",
              "      <th>messages</th>\n",
              "      <th>age</th>\n",
              "      <th>churn_date</th>\n",
              "      <th>city</th>\n",
              "      <th>first_name</th>\n",
              "      <th>last_name</th>\n",
              "      <th>reg_date</th>\n",
              "      <th>tariff</th>\n",
              "      <th>city_grouped</th>\n",
              "    </tr>\n",
              "  </thead>\n",
              "  <tbody>\n",
              "    <tr>\n",
              "      <th>0</th>\n",
              "      <td>1000</td>\n",
              "      <td>5.0</td>\n",
              "      <td>159.0</td>\n",
              "      <td>3.0</td>\n",
              "      <td>22.0</td>\n",
              "      <td>52</td>\n",
              "      <td>NaN</td>\n",
              "      <td>Краснодар</td>\n",
              "      <td>Рафаил</td>\n",
              "      <td>Верещагин</td>\n",
              "      <td>2018-05-25</td>\n",
              "      <td>ultra</td>\n",
              "      <td>0</td>\n",
              "    </tr>\n",
              "    <tr>\n",
              "      <th>1</th>\n",
              "      <td>1000</td>\n",
              "      <td>6.0</td>\n",
              "      <td>172.0</td>\n",
              "      <td>23.0</td>\n",
              "      <td>60.0</td>\n",
              "      <td>52</td>\n",
              "      <td>NaN</td>\n",
              "      <td>Краснодар</td>\n",
              "      <td>Рафаил</td>\n",
              "      <td>Верещагин</td>\n",
              "      <td>2018-05-25</td>\n",
              "      <td>ultra</td>\n",
              "      <td>0</td>\n",
              "    </tr>\n",
              "    <tr>\n",
              "      <th>2</th>\n",
              "      <td>1000</td>\n",
              "      <td>7.0</td>\n",
              "      <td>340.0</td>\n",
              "      <td>14.0</td>\n",
              "      <td>75.0</td>\n",
              "      <td>52</td>\n",
              "      <td>NaN</td>\n",
              "      <td>Краснодар</td>\n",
              "      <td>Рафаил</td>\n",
              "      <td>Верещагин</td>\n",
              "      <td>2018-05-25</td>\n",
              "      <td>ultra</td>\n",
              "      <td>0</td>\n",
              "    </tr>\n",
              "    <tr>\n",
              "      <th>3</th>\n",
              "      <td>1000</td>\n",
              "      <td>8.0</td>\n",
              "      <td>408.0</td>\n",
              "      <td>14.0</td>\n",
              "      <td>81.0</td>\n",
              "      <td>52</td>\n",
              "      <td>NaN</td>\n",
              "      <td>Краснодар</td>\n",
              "      <td>Рафаил</td>\n",
              "      <td>Верещагин</td>\n",
              "      <td>2018-05-25</td>\n",
              "      <td>ultra</td>\n",
              "      <td>0</td>\n",
              "    </tr>\n",
              "    <tr>\n",
              "      <th>4</th>\n",
              "      <td>1000</td>\n",
              "      <td>9.0</td>\n",
              "      <td>466.0</td>\n",
              "      <td>15.0</td>\n",
              "      <td>57.0</td>\n",
              "      <td>52</td>\n",
              "      <td>NaN</td>\n",
              "      <td>Краснодар</td>\n",
              "      <td>Рафаил</td>\n",
              "      <td>Верещагин</td>\n",
              "      <td>2018-05-25</td>\n",
              "      <td>ultra</td>\n",
              "      <td>0</td>\n",
              "    </tr>\n",
              "    <tr>\n",
              "      <th>...</th>\n",
              "      <td>...</td>\n",
              "      <td>...</td>\n",
              "      <td>...</td>\n",
              "      <td>...</td>\n",
              "      <td>...</td>\n",
              "      <td>...</td>\n",
              "      <td>...</td>\n",
              "      <td>...</td>\n",
              "      <td>...</td>\n",
              "      <td>...</td>\n",
              "      <td>...</td>\n",
              "      <td>...</td>\n",
              "      <td>...</td>\n",
              "    </tr>\n",
              "    <tr>\n",
              "      <th>3209</th>\n",
              "      <td>1489</td>\n",
              "      <td>8.0</td>\n",
              "      <td>0.0</td>\n",
              "      <td>11.0</td>\n",
              "      <td>17.0</td>\n",
              "      <td>35</td>\n",
              "      <td>NaN</td>\n",
              "      <td>Санкт-Петербург</td>\n",
              "      <td>Павел</td>\n",
              "      <td>Гончаров</td>\n",
              "      <td>2018-08-15</td>\n",
              "      <td>smart</td>\n",
              "      <td>0</td>\n",
              "    </tr>\n",
              "    <tr>\n",
              "      <th>3210</th>\n",
              "      <td>1489</td>\n",
              "      <td>9.0</td>\n",
              "      <td>0.0</td>\n",
              "      <td>17.0</td>\n",
              "      <td>32.0</td>\n",
              "      <td>35</td>\n",
              "      <td>NaN</td>\n",
              "      <td>Санкт-Петербург</td>\n",
              "      <td>Павел</td>\n",
              "      <td>Гончаров</td>\n",
              "      <td>2018-08-15</td>\n",
              "      <td>smart</td>\n",
              "      <td>0</td>\n",
              "    </tr>\n",
              "    <tr>\n",
              "      <th>3211</th>\n",
              "      <td>1489</td>\n",
              "      <td>10.0</td>\n",
              "      <td>0.0</td>\n",
              "      <td>20.0</td>\n",
              "      <td>21.0</td>\n",
              "      <td>35</td>\n",
              "      <td>NaN</td>\n",
              "      <td>Санкт-Петербург</td>\n",
              "      <td>Павел</td>\n",
              "      <td>Гончаров</td>\n",
              "      <td>2018-08-15</td>\n",
              "      <td>smart</td>\n",
              "      <td>0</td>\n",
              "    </tr>\n",
              "    <tr>\n",
              "      <th>3212</th>\n",
              "      <td>1489</td>\n",
              "      <td>11.0</td>\n",
              "      <td>0.0</td>\n",
              "      <td>18.0</td>\n",
              "      <td>20.0</td>\n",
              "      <td>35</td>\n",
              "      <td>NaN</td>\n",
              "      <td>Санкт-Петербург</td>\n",
              "      <td>Павел</td>\n",
              "      <td>Гончаров</td>\n",
              "      <td>2018-08-15</td>\n",
              "      <td>smart</td>\n",
              "      <td>0</td>\n",
              "    </tr>\n",
              "    <tr>\n",
              "      <th>3213</th>\n",
              "      <td>1489</td>\n",
              "      <td>12.0</td>\n",
              "      <td>0.0</td>\n",
              "      <td>17.0</td>\n",
              "      <td>35.0</td>\n",
              "      <td>35</td>\n",
              "      <td>NaN</td>\n",
              "      <td>Санкт-Петербург</td>\n",
              "      <td>Павел</td>\n",
              "      <td>Гончаров</td>\n",
              "      <td>2018-08-15</td>\n",
              "      <td>smart</td>\n",
              "      <td>0</td>\n",
              "    </tr>\n",
              "  </tbody>\n",
              "</table>\n",
              "<p>3214 rows × 13 columns</p>\n",
              "</div>\n",
              "      <button class=\"colab-df-convert\" onclick=\"convertToInteractive('df-3013128d-1df1-4d15-b6ba-cb736b7ba571')\"\n",
              "              title=\"Convert this dataframe to an interactive table.\"\n",
              "              style=\"display:none;\">\n",
              "        \n",
              "  <svg xmlns=\"http://www.w3.org/2000/svg\" height=\"24px\"viewBox=\"0 0 24 24\"\n",
              "       width=\"24px\">\n",
              "    <path d=\"M0 0h24v24H0V0z\" fill=\"none\"/>\n",
              "    <path d=\"M18.56 5.44l.94 2.06.94-2.06 2.06-.94-2.06-.94-.94-2.06-.94 2.06-2.06.94zm-11 1L8.5 8.5l.94-2.06 2.06-.94-2.06-.94L8.5 2.5l-.94 2.06-2.06.94zm10 10l.94 2.06.94-2.06 2.06-.94-2.06-.94-.94-2.06-.94 2.06-2.06.94z\"/><path d=\"M17.41 7.96l-1.37-1.37c-.4-.4-.92-.59-1.43-.59-.52 0-1.04.2-1.43.59L10.3 9.45l-7.72 7.72c-.78.78-.78 2.05 0 2.83L4 21.41c.39.39.9.59 1.41.59.51 0 1.02-.2 1.41-.59l7.78-7.78 2.81-2.81c.8-.78.8-2.07 0-2.86zM5.41 20L4 18.59l7.72-7.72 1.47 1.35L5.41 20z\"/>\n",
              "  </svg>\n",
              "      </button>\n",
              "      \n",
              "  <style>\n",
              "    .colab-df-container {\n",
              "      display:flex;\n",
              "      flex-wrap:wrap;\n",
              "      gap: 12px;\n",
              "    }\n",
              "\n",
              "    .colab-df-convert {\n",
              "      background-color: #E8F0FE;\n",
              "      border: none;\n",
              "      border-radius: 50%;\n",
              "      cursor: pointer;\n",
              "      display: none;\n",
              "      fill: #1967D2;\n",
              "      height: 32px;\n",
              "      padding: 0 0 0 0;\n",
              "      width: 32px;\n",
              "    }\n",
              "\n",
              "    .colab-df-convert:hover {\n",
              "      background-color: #E2EBFA;\n",
              "      box-shadow: 0px 1px 2px rgba(60, 64, 67, 0.3), 0px 1px 3px 1px rgba(60, 64, 67, 0.15);\n",
              "      fill: #174EA6;\n",
              "    }\n",
              "\n",
              "    [theme=dark] .colab-df-convert {\n",
              "      background-color: #3B4455;\n",
              "      fill: #D2E3FC;\n",
              "    }\n",
              "\n",
              "    [theme=dark] .colab-df-convert:hover {\n",
              "      background-color: #434B5C;\n",
              "      box-shadow: 0px 1px 3px 1px rgba(0, 0, 0, 0.15);\n",
              "      filter: drop-shadow(0px 1px 2px rgba(0, 0, 0, 0.3));\n",
              "      fill: #FFFFFF;\n",
              "    }\n",
              "  </style>\n",
              "\n",
              "      <script>\n",
              "        const buttonEl =\n",
              "          document.querySelector('#df-3013128d-1df1-4d15-b6ba-cb736b7ba571 button.colab-df-convert');\n",
              "        buttonEl.style.display =\n",
              "          google.colab.kernel.accessAllowed ? 'block' : 'none';\n",
              "\n",
              "        async function convertToInteractive(key) {\n",
              "          const element = document.querySelector('#df-3013128d-1df1-4d15-b6ba-cb736b7ba571');\n",
              "          const dataTable =\n",
              "            await google.colab.kernel.invokeFunction('convertToInteractive',\n",
              "                                                     [key], {});\n",
              "          if (!dataTable) return;\n",
              "\n",
              "          const docLinkHtml = 'Like what you see? Visit the ' +\n",
              "            '<a target=\"_blank\" href=https://colab.research.google.com/notebooks/data_table.ipynb>data table notebook</a>'\n",
              "            + ' to learn more about interactive tables.';\n",
              "          element.innerHTML = '';\n",
              "          dataTable['output_type'] = 'display_data';\n",
              "          await google.colab.output.renderOutput(dataTable, element);\n",
              "          const docLink = document.createElement('div');\n",
              "          docLink.innerHTML = docLinkHtml;\n",
              "          element.appendChild(docLink);\n",
              "        }\n",
              "      </script>\n",
              "    </div>\n",
              "  </div>\n",
              "  "
            ]
          },
          "metadata": {},
          "execution_count": 22
        }
      ],
      "source": [
        "df = df.dropna(subset=['month']).copy()\n",
        "df['calls'] = df['calls'].fillna(0)\n",
        "df['internet'] = df['internet'].fillna(0)\n",
        "df['messages'] = df['messages'].fillna(0)\n",
        "df"
      ]
    },
    {
      "cell_type": "markdown",
      "metadata": {
        "id": "24oKY4co_UDE"
      },
      "source": [
        "Больше нам не нужны колонки с датой регистрации пользователя, именем и фамилией, городом и датой окончания пользования тарифом. Удалим их."
      ]
    },
    {
      "cell_type": "code",
      "execution_count": 23,
      "metadata": {
        "id": "ArLp_hOm_UDE"
      },
      "outputs": [],
      "source": [
        "df = df.drop(['churn_date', 'city', 'first_name', 'last_name', 'reg_date'], axis = 1)"
      ]
    },
    {
      "cell_type": "markdown",
      "metadata": {
        "id": "ozB62u0g_UDE"
      },
      "source": [
        "В итоговой базе не хватает основной информации - суммы в рублях для каждого кейса (user/month). Для этого нужно воспользоваться информацией из таблицы с тарифами и рассчитать траты каждого пользователя по месяцам.\n",
        "\n",
        "Добавим информацию о тарифе в нашу базу в каждую строку:"
      ]
    },
    {
      "cell_type": "code",
      "execution_count": 24,
      "metadata": {
        "colab": {
          "base_uri": "https://localhost:8080/",
          "height": 584
        },
        "id": "YFG0ChVd_UDE",
        "outputId": "ebd9a4fd-fa74-4894-d550-28f1cfa6ea76"
      },
      "outputs": [
        {
          "output_type": "execute_result",
          "data": {
            "text/plain": [
              "      user_id  month  calls  internet  messages  age tariff  city_grouped  \\\n",
              "1329     1071    3.0  283.0      16.0      15.0   20  smart             0   \n",
              "1893     1193    3.0  612.0      12.0       8.0   55  smart             0   \n",
              "2151     1250   12.0  446.0      12.0      43.0   20  smart             0   \n",
              "2623     1372    6.0  448.0      10.0      34.0   71  smart             0   \n",
              "810      1416    8.0  822.0      21.0      84.0   50  ultra             0   \n",
              "149      1090   11.0  596.0      22.0      28.0   54  ultra             0   \n",
              "66       1048   12.0  688.0       8.0      78.0   73  ultra             0   \n",
              "1523     1118    7.0  839.0      15.0       0.0   65  smart             0   \n",
              "333      1201   10.0  723.0       9.0       0.0   32  ultra             1   \n",
              "724      1382    6.0  681.0       8.0      74.0   42  ultra             0   \n",
              "283      1168    6.0  912.0      32.0      40.0   28  ultra             0   \n",
              "942      1491   10.0  583.0      24.0      61.0   56  ultra             0   \n",
              "2246     1275   11.0  347.0      14.0      26.0   48  smart             1   \n",
              "1783     1174    7.0  785.0      17.0      43.0   29  smart             0   \n",
              "978      1328   11.0    0.0      35.0       8.0   44  ultra             0   \n",
              "\n",
              "      messages_included  mb_per_month_included  minutes_included  \\\n",
              "1329                 50                  15360               500   \n",
              "1893                 50                  15360               500   \n",
              "2151                 50                  15360               500   \n",
              "2623                 50                  15360               500   \n",
              "810                1000                  30720              3000   \n",
              "149                1000                  30720              3000   \n",
              "66                 1000                  30720              3000   \n",
              "1523                 50                  15360               500   \n",
              "333                1000                  30720              3000   \n",
              "724                1000                  30720              3000   \n",
              "283                1000                  30720              3000   \n",
              "942                1000                  30720              3000   \n",
              "2246                 50                  15360               500   \n",
              "1783                 50                  15360               500   \n",
              "978                1000                  30720              3000   \n",
              "\n",
              "      rub_monthly_fee  rub_per_gb  rub_per_message  rub_per_minute tariff_name  \n",
              "1329              550         200                3               3       smart  \n",
              "1893              550         200                3               3       smart  \n",
              "2151              550         200                3               3       smart  \n",
              "2623              550         200                3               3       smart  \n",
              "810              1950         150                1               1       ultra  \n",
              "149              1950         150                1               1       ultra  \n",
              "66               1950         150                1               1       ultra  \n",
              "1523              550         200                3               3       smart  \n",
              "333              1950         150                1               1       ultra  \n",
              "724              1950         150                1               1       ultra  \n",
              "283              1950         150                1               1       ultra  \n",
              "942              1950         150                1               1       ultra  \n",
              "2246              550         200                3               3       smart  \n",
              "1783              550         200                3               3       smart  \n",
              "978              1950         150                1               1       ultra  "
            ],
            "text/html": [
              "\n",
              "  <div id=\"df-3538cc71-241d-4da9-8b33-25cbfc22d29d\">\n",
              "    <div class=\"colab-df-container\">\n",
              "      <div>\n",
              "<style scoped>\n",
              "    .dataframe tbody tr th:only-of-type {\n",
              "        vertical-align: middle;\n",
              "    }\n",
              "\n",
              "    .dataframe tbody tr th {\n",
              "        vertical-align: top;\n",
              "    }\n",
              "\n",
              "    .dataframe thead th {\n",
              "        text-align: right;\n",
              "    }\n",
              "</style>\n",
              "<table border=\"1\" class=\"dataframe\">\n",
              "  <thead>\n",
              "    <tr style=\"text-align: right;\">\n",
              "      <th></th>\n",
              "      <th>user_id</th>\n",
              "      <th>month</th>\n",
              "      <th>calls</th>\n",
              "      <th>internet</th>\n",
              "      <th>messages</th>\n",
              "      <th>age</th>\n",
              "      <th>tariff</th>\n",
              "      <th>city_grouped</th>\n",
              "      <th>messages_included</th>\n",
              "      <th>mb_per_month_included</th>\n",
              "      <th>minutes_included</th>\n",
              "      <th>rub_monthly_fee</th>\n",
              "      <th>rub_per_gb</th>\n",
              "      <th>rub_per_message</th>\n",
              "      <th>rub_per_minute</th>\n",
              "      <th>tariff_name</th>\n",
              "    </tr>\n",
              "  </thead>\n",
              "  <tbody>\n",
              "    <tr>\n",
              "      <th>1329</th>\n",
              "      <td>1071</td>\n",
              "      <td>3.0</td>\n",
              "      <td>283.0</td>\n",
              "      <td>16.0</td>\n",
              "      <td>15.0</td>\n",
              "      <td>20</td>\n",
              "      <td>smart</td>\n",
              "      <td>0</td>\n",
              "      <td>50</td>\n",
              "      <td>15360</td>\n",
              "      <td>500</td>\n",
              "      <td>550</td>\n",
              "      <td>200</td>\n",
              "      <td>3</td>\n",
              "      <td>3</td>\n",
              "      <td>smart</td>\n",
              "    </tr>\n",
              "    <tr>\n",
              "      <th>1893</th>\n",
              "      <td>1193</td>\n",
              "      <td>3.0</td>\n",
              "      <td>612.0</td>\n",
              "      <td>12.0</td>\n",
              "      <td>8.0</td>\n",
              "      <td>55</td>\n",
              "      <td>smart</td>\n",
              "      <td>0</td>\n",
              "      <td>50</td>\n",
              "      <td>15360</td>\n",
              "      <td>500</td>\n",
              "      <td>550</td>\n",
              "      <td>200</td>\n",
              "      <td>3</td>\n",
              "      <td>3</td>\n",
              "      <td>smart</td>\n",
              "    </tr>\n",
              "    <tr>\n",
              "      <th>2151</th>\n",
              "      <td>1250</td>\n",
              "      <td>12.0</td>\n",
              "      <td>446.0</td>\n",
              "      <td>12.0</td>\n",
              "      <td>43.0</td>\n",
              "      <td>20</td>\n",
              "      <td>smart</td>\n",
              "      <td>0</td>\n",
              "      <td>50</td>\n",
              "      <td>15360</td>\n",
              "      <td>500</td>\n",
              "      <td>550</td>\n",
              "      <td>200</td>\n",
              "      <td>3</td>\n",
              "      <td>3</td>\n",
              "      <td>smart</td>\n",
              "    </tr>\n",
              "    <tr>\n",
              "      <th>2623</th>\n",
              "      <td>1372</td>\n",
              "      <td>6.0</td>\n",
              "      <td>448.0</td>\n",
              "      <td>10.0</td>\n",
              "      <td>34.0</td>\n",
              "      <td>71</td>\n",
              "      <td>smart</td>\n",
              "      <td>0</td>\n",
              "      <td>50</td>\n",
              "      <td>15360</td>\n",
              "      <td>500</td>\n",
              "      <td>550</td>\n",
              "      <td>200</td>\n",
              "      <td>3</td>\n",
              "      <td>3</td>\n",
              "      <td>smart</td>\n",
              "    </tr>\n",
              "    <tr>\n",
              "      <th>810</th>\n",
              "      <td>1416</td>\n",
              "      <td>8.0</td>\n",
              "      <td>822.0</td>\n",
              "      <td>21.0</td>\n",
              "      <td>84.0</td>\n",
              "      <td>50</td>\n",
              "      <td>ultra</td>\n",
              "      <td>0</td>\n",
              "      <td>1000</td>\n",
              "      <td>30720</td>\n",
              "      <td>3000</td>\n",
              "      <td>1950</td>\n",
              "      <td>150</td>\n",
              "      <td>1</td>\n",
              "      <td>1</td>\n",
              "      <td>ultra</td>\n",
              "    </tr>\n",
              "    <tr>\n",
              "      <th>149</th>\n",
              "      <td>1090</td>\n",
              "      <td>11.0</td>\n",
              "      <td>596.0</td>\n",
              "      <td>22.0</td>\n",
              "      <td>28.0</td>\n",
              "      <td>54</td>\n",
              "      <td>ultra</td>\n",
              "      <td>0</td>\n",
              "      <td>1000</td>\n",
              "      <td>30720</td>\n",
              "      <td>3000</td>\n",
              "      <td>1950</td>\n",
              "      <td>150</td>\n",
              "      <td>1</td>\n",
              "      <td>1</td>\n",
              "      <td>ultra</td>\n",
              "    </tr>\n",
              "    <tr>\n",
              "      <th>66</th>\n",
              "      <td>1048</td>\n",
              "      <td>12.0</td>\n",
              "      <td>688.0</td>\n",
              "      <td>8.0</td>\n",
              "      <td>78.0</td>\n",
              "      <td>73</td>\n",
              "      <td>ultra</td>\n",
              "      <td>0</td>\n",
              "      <td>1000</td>\n",
              "      <td>30720</td>\n",
              "      <td>3000</td>\n",
              "      <td>1950</td>\n",
              "      <td>150</td>\n",
              "      <td>1</td>\n",
              "      <td>1</td>\n",
              "      <td>ultra</td>\n",
              "    </tr>\n",
              "    <tr>\n",
              "      <th>1523</th>\n",
              "      <td>1118</td>\n",
              "      <td>7.0</td>\n",
              "      <td>839.0</td>\n",
              "      <td>15.0</td>\n",
              "      <td>0.0</td>\n",
              "      <td>65</td>\n",
              "      <td>smart</td>\n",
              "      <td>0</td>\n",
              "      <td>50</td>\n",
              "      <td>15360</td>\n",
              "      <td>500</td>\n",
              "      <td>550</td>\n",
              "      <td>200</td>\n",
              "      <td>3</td>\n",
              "      <td>3</td>\n",
              "      <td>smart</td>\n",
              "    </tr>\n",
              "    <tr>\n",
              "      <th>333</th>\n",
              "      <td>1201</td>\n",
              "      <td>10.0</td>\n",
              "      <td>723.0</td>\n",
              "      <td>9.0</td>\n",
              "      <td>0.0</td>\n",
              "      <td>32</td>\n",
              "      <td>ultra</td>\n",
              "      <td>1</td>\n",
              "      <td>1000</td>\n",
              "      <td>30720</td>\n",
              "      <td>3000</td>\n",
              "      <td>1950</td>\n",
              "      <td>150</td>\n",
              "      <td>1</td>\n",
              "      <td>1</td>\n",
              "      <td>ultra</td>\n",
              "    </tr>\n",
              "    <tr>\n",
              "      <th>724</th>\n",
              "      <td>1382</td>\n",
              "      <td>6.0</td>\n",
              "      <td>681.0</td>\n",
              "      <td>8.0</td>\n",
              "      <td>74.0</td>\n",
              "      <td>42</td>\n",
              "      <td>ultra</td>\n",
              "      <td>0</td>\n",
              "      <td>1000</td>\n",
              "      <td>30720</td>\n",
              "      <td>3000</td>\n",
              "      <td>1950</td>\n",
              "      <td>150</td>\n",
              "      <td>1</td>\n",
              "      <td>1</td>\n",
              "      <td>ultra</td>\n",
              "    </tr>\n",
              "    <tr>\n",
              "      <th>283</th>\n",
              "      <td>1168</td>\n",
              "      <td>6.0</td>\n",
              "      <td>912.0</td>\n",
              "      <td>32.0</td>\n",
              "      <td>40.0</td>\n",
              "      <td>28</td>\n",
              "      <td>ultra</td>\n",
              "      <td>0</td>\n",
              "      <td>1000</td>\n",
              "      <td>30720</td>\n",
              "      <td>3000</td>\n",
              "      <td>1950</td>\n",
              "      <td>150</td>\n",
              "      <td>1</td>\n",
              "      <td>1</td>\n",
              "      <td>ultra</td>\n",
              "    </tr>\n",
              "    <tr>\n",
              "      <th>942</th>\n",
              "      <td>1491</td>\n",
              "      <td>10.0</td>\n",
              "      <td>583.0</td>\n",
              "      <td>24.0</td>\n",
              "      <td>61.0</td>\n",
              "      <td>56</td>\n",
              "      <td>ultra</td>\n",
              "      <td>0</td>\n",
              "      <td>1000</td>\n",
              "      <td>30720</td>\n",
              "      <td>3000</td>\n",
              "      <td>1950</td>\n",
              "      <td>150</td>\n",
              "      <td>1</td>\n",
              "      <td>1</td>\n",
              "      <td>ultra</td>\n",
              "    </tr>\n",
              "    <tr>\n",
              "      <th>2246</th>\n",
              "      <td>1275</td>\n",
              "      <td>11.0</td>\n",
              "      <td>347.0</td>\n",
              "      <td>14.0</td>\n",
              "      <td>26.0</td>\n",
              "      <td>48</td>\n",
              "      <td>smart</td>\n",
              "      <td>1</td>\n",
              "      <td>50</td>\n",
              "      <td>15360</td>\n",
              "      <td>500</td>\n",
              "      <td>550</td>\n",
              "      <td>200</td>\n",
              "      <td>3</td>\n",
              "      <td>3</td>\n",
              "      <td>smart</td>\n",
              "    </tr>\n",
              "    <tr>\n",
              "      <th>1783</th>\n",
              "      <td>1174</td>\n",
              "      <td>7.0</td>\n",
              "      <td>785.0</td>\n",
              "      <td>17.0</td>\n",
              "      <td>43.0</td>\n",
              "      <td>29</td>\n",
              "      <td>smart</td>\n",
              "      <td>0</td>\n",
              "      <td>50</td>\n",
              "      <td>15360</td>\n",
              "      <td>500</td>\n",
              "      <td>550</td>\n",
              "      <td>200</td>\n",
              "      <td>3</td>\n",
              "      <td>3</td>\n",
              "      <td>smart</td>\n",
              "    </tr>\n",
              "    <tr>\n",
              "      <th>978</th>\n",
              "      <td>1328</td>\n",
              "      <td>11.0</td>\n",
              "      <td>0.0</td>\n",
              "      <td>35.0</td>\n",
              "      <td>8.0</td>\n",
              "      <td>44</td>\n",
              "      <td>ultra</td>\n",
              "      <td>0</td>\n",
              "      <td>1000</td>\n",
              "      <td>30720</td>\n",
              "      <td>3000</td>\n",
              "      <td>1950</td>\n",
              "      <td>150</td>\n",
              "      <td>1</td>\n",
              "      <td>1</td>\n",
              "      <td>ultra</td>\n",
              "    </tr>\n",
              "  </tbody>\n",
              "</table>\n",
              "</div>\n",
              "      <button class=\"colab-df-convert\" onclick=\"convertToInteractive('df-3538cc71-241d-4da9-8b33-25cbfc22d29d')\"\n",
              "              title=\"Convert this dataframe to an interactive table.\"\n",
              "              style=\"display:none;\">\n",
              "        \n",
              "  <svg xmlns=\"http://www.w3.org/2000/svg\" height=\"24px\"viewBox=\"0 0 24 24\"\n",
              "       width=\"24px\">\n",
              "    <path d=\"M0 0h24v24H0V0z\" fill=\"none\"/>\n",
              "    <path d=\"M18.56 5.44l.94 2.06.94-2.06 2.06-.94-2.06-.94-.94-2.06-.94 2.06-2.06.94zm-11 1L8.5 8.5l.94-2.06 2.06-.94-2.06-.94L8.5 2.5l-.94 2.06-2.06.94zm10 10l.94 2.06.94-2.06 2.06-.94-2.06-.94-.94-2.06-.94 2.06-2.06.94z\"/><path d=\"M17.41 7.96l-1.37-1.37c-.4-.4-.92-.59-1.43-.59-.52 0-1.04.2-1.43.59L10.3 9.45l-7.72 7.72c-.78.78-.78 2.05 0 2.83L4 21.41c.39.39.9.59 1.41.59.51 0 1.02-.2 1.41-.59l7.78-7.78 2.81-2.81c.8-.78.8-2.07 0-2.86zM5.41 20L4 18.59l7.72-7.72 1.47 1.35L5.41 20z\"/>\n",
              "  </svg>\n",
              "      </button>\n",
              "      \n",
              "  <style>\n",
              "    .colab-df-container {\n",
              "      display:flex;\n",
              "      flex-wrap:wrap;\n",
              "      gap: 12px;\n",
              "    }\n",
              "\n",
              "    .colab-df-convert {\n",
              "      background-color: #E8F0FE;\n",
              "      border: none;\n",
              "      border-radius: 50%;\n",
              "      cursor: pointer;\n",
              "      display: none;\n",
              "      fill: #1967D2;\n",
              "      height: 32px;\n",
              "      padding: 0 0 0 0;\n",
              "      width: 32px;\n",
              "    }\n",
              "\n",
              "    .colab-df-convert:hover {\n",
              "      background-color: #E2EBFA;\n",
              "      box-shadow: 0px 1px 2px rgba(60, 64, 67, 0.3), 0px 1px 3px 1px rgba(60, 64, 67, 0.15);\n",
              "      fill: #174EA6;\n",
              "    }\n",
              "\n",
              "    [theme=dark] .colab-df-convert {\n",
              "      background-color: #3B4455;\n",
              "      fill: #D2E3FC;\n",
              "    }\n",
              "\n",
              "    [theme=dark] .colab-df-convert:hover {\n",
              "      background-color: #434B5C;\n",
              "      box-shadow: 0px 1px 3px 1px rgba(0, 0, 0, 0.15);\n",
              "      filter: drop-shadow(0px 1px 2px rgba(0, 0, 0, 0.3));\n",
              "      fill: #FFFFFF;\n",
              "    }\n",
              "  </style>\n",
              "\n",
              "      <script>\n",
              "        const buttonEl =\n",
              "          document.querySelector('#df-3538cc71-241d-4da9-8b33-25cbfc22d29d button.colab-df-convert');\n",
              "        buttonEl.style.display =\n",
              "          google.colab.kernel.accessAllowed ? 'block' : 'none';\n",
              "\n",
              "        async function convertToInteractive(key) {\n",
              "          const element = document.querySelector('#df-3538cc71-241d-4da9-8b33-25cbfc22d29d');\n",
              "          const dataTable =\n",
              "            await google.colab.kernel.invokeFunction('convertToInteractive',\n",
              "                                                     [key], {});\n",
              "          if (!dataTable) return;\n",
              "\n",
              "          const docLinkHtml = 'Like what you see? Visit the ' +\n",
              "            '<a target=\"_blank\" href=https://colab.research.google.com/notebooks/data_table.ipynb>data table notebook</a>'\n",
              "            + ' to learn more about interactive tables.';\n",
              "          element.innerHTML = '';\n",
              "          dataTable['output_type'] = 'display_data';\n",
              "          await google.colab.output.renderOutput(dataTable, element);\n",
              "          const docLink = document.createElement('div');\n",
              "          docLink.innerHTML = docLinkHtml;\n",
              "          element.appendChild(docLink);\n",
              "        }\n",
              "      </script>\n",
              "    </div>\n",
              "  </div>\n",
              "  "
            ]
          },
          "metadata": {},
          "execution_count": 24
        }
      ],
      "source": [
        "df = df.merge(df_tariffs, left_on='tariff', right_on='tariff_name', how='outer')\n",
        "df.sample(15)"
      ]
    },
    {
      "cell_type": "markdown",
      "metadata": {
        "id": "AjcHWfQs_UDF"
      },
      "source": [
        "В случайно выбранных 15 строках столбцы по тарифам совпадают. Обработаем полученную базу:\n",
        "1. Удалим \"лишний\" столбец с тарифом,\n",
        "2. Пересчитаем расход интернет-трафика в гигабайты,\n",
        "3. Переименуем столбцы, чтобы таблица занимала меньше места по горизонтали визуально."
      ]
    },
    {
      "cell_type": "code",
      "execution_count": 25,
      "metadata": {
        "colab": {
          "base_uri": "https://localhost:8080/",
          "height": 424
        },
        "id": "zME0Rklf_UDF",
        "outputId": "09d27552-47c6-4178-b611-729bd1587a38"
      },
      "outputs": [
        {
          "output_type": "execute_result",
          "data": {
            "text/plain": [
              "      user_id  month  calls    gb   sms  age tariff  city_grouped  sms_limit  \\\n",
              "0        1000    5.0  159.0   3.0  22.0   52  ultra             0       1000   \n",
              "1        1000    6.0  172.0  23.0  60.0   52  ultra             0       1000   \n",
              "2        1000    7.0  340.0  14.0  75.0   52  ultra             0       1000   \n",
              "3        1000    8.0  408.0  14.0  81.0   52  ultra             0       1000   \n",
              "4        1000    9.0  466.0  15.0  57.0   52  ultra             0       1000   \n",
              "...       ...    ...    ...   ...   ...  ...    ...           ...        ...   \n",
              "3209     1489    8.0    0.0  11.0  17.0   35  smart             0         50   \n",
              "3210     1489    9.0    0.0  17.0  32.0   35  smart             0         50   \n",
              "3211     1489   10.0    0.0  20.0  21.0   35  smart             0         50   \n",
              "3212     1489   11.0    0.0  18.0  20.0   35  smart             0         50   \n",
              "3213     1489   12.0    0.0  17.0  35.0   35  smart             0         50   \n",
              "\n",
              "      gb_limit  mins_limit  rub_monthly_fee  rub_per_gb  rub_per_sms  \\\n",
              "0         30.0        3000             1950         150            1   \n",
              "1         30.0        3000             1950         150            1   \n",
              "2         30.0        3000             1950         150            1   \n",
              "3         30.0        3000             1950         150            1   \n",
              "4         30.0        3000             1950         150            1   \n",
              "...        ...         ...              ...         ...          ...   \n",
              "3209      15.0         500              550         200            3   \n",
              "3210      15.0         500              550         200            3   \n",
              "3211      15.0         500              550         200            3   \n",
              "3212      15.0         500              550         200            3   \n",
              "3213      15.0         500              550         200            3   \n",
              "\n",
              "      rub_per_min  \n",
              "0               1  \n",
              "1               1  \n",
              "2               1  \n",
              "3               1  \n",
              "4               1  \n",
              "...           ...  \n",
              "3209            3  \n",
              "3210            3  \n",
              "3211            3  \n",
              "3212            3  \n",
              "3213            3  \n",
              "\n",
              "[3214 rows x 15 columns]"
            ],
            "text/html": [
              "\n",
              "  <div id=\"df-63167d43-da00-43a8-b272-1b2b54577a96\">\n",
              "    <div class=\"colab-df-container\">\n",
              "      <div>\n",
              "<style scoped>\n",
              "    .dataframe tbody tr th:only-of-type {\n",
              "        vertical-align: middle;\n",
              "    }\n",
              "\n",
              "    .dataframe tbody tr th {\n",
              "        vertical-align: top;\n",
              "    }\n",
              "\n",
              "    .dataframe thead th {\n",
              "        text-align: right;\n",
              "    }\n",
              "</style>\n",
              "<table border=\"1\" class=\"dataframe\">\n",
              "  <thead>\n",
              "    <tr style=\"text-align: right;\">\n",
              "      <th></th>\n",
              "      <th>user_id</th>\n",
              "      <th>month</th>\n",
              "      <th>calls</th>\n",
              "      <th>gb</th>\n",
              "      <th>sms</th>\n",
              "      <th>age</th>\n",
              "      <th>tariff</th>\n",
              "      <th>city_grouped</th>\n",
              "      <th>sms_limit</th>\n",
              "      <th>gb_limit</th>\n",
              "      <th>mins_limit</th>\n",
              "      <th>rub_monthly_fee</th>\n",
              "      <th>rub_per_gb</th>\n",
              "      <th>rub_per_sms</th>\n",
              "      <th>rub_per_min</th>\n",
              "    </tr>\n",
              "  </thead>\n",
              "  <tbody>\n",
              "    <tr>\n",
              "      <th>0</th>\n",
              "      <td>1000</td>\n",
              "      <td>5.0</td>\n",
              "      <td>159.0</td>\n",
              "      <td>3.0</td>\n",
              "      <td>22.0</td>\n",
              "      <td>52</td>\n",
              "      <td>ultra</td>\n",
              "      <td>0</td>\n",
              "      <td>1000</td>\n",
              "      <td>30.0</td>\n",
              "      <td>3000</td>\n",
              "      <td>1950</td>\n",
              "      <td>150</td>\n",
              "      <td>1</td>\n",
              "      <td>1</td>\n",
              "    </tr>\n",
              "    <tr>\n",
              "      <th>1</th>\n",
              "      <td>1000</td>\n",
              "      <td>6.0</td>\n",
              "      <td>172.0</td>\n",
              "      <td>23.0</td>\n",
              "      <td>60.0</td>\n",
              "      <td>52</td>\n",
              "      <td>ultra</td>\n",
              "      <td>0</td>\n",
              "      <td>1000</td>\n",
              "      <td>30.0</td>\n",
              "      <td>3000</td>\n",
              "      <td>1950</td>\n",
              "      <td>150</td>\n",
              "      <td>1</td>\n",
              "      <td>1</td>\n",
              "    </tr>\n",
              "    <tr>\n",
              "      <th>2</th>\n",
              "      <td>1000</td>\n",
              "      <td>7.0</td>\n",
              "      <td>340.0</td>\n",
              "      <td>14.0</td>\n",
              "      <td>75.0</td>\n",
              "      <td>52</td>\n",
              "      <td>ultra</td>\n",
              "      <td>0</td>\n",
              "      <td>1000</td>\n",
              "      <td>30.0</td>\n",
              "      <td>3000</td>\n",
              "      <td>1950</td>\n",
              "      <td>150</td>\n",
              "      <td>1</td>\n",
              "      <td>1</td>\n",
              "    </tr>\n",
              "    <tr>\n",
              "      <th>3</th>\n",
              "      <td>1000</td>\n",
              "      <td>8.0</td>\n",
              "      <td>408.0</td>\n",
              "      <td>14.0</td>\n",
              "      <td>81.0</td>\n",
              "      <td>52</td>\n",
              "      <td>ultra</td>\n",
              "      <td>0</td>\n",
              "      <td>1000</td>\n",
              "      <td>30.0</td>\n",
              "      <td>3000</td>\n",
              "      <td>1950</td>\n",
              "      <td>150</td>\n",
              "      <td>1</td>\n",
              "      <td>1</td>\n",
              "    </tr>\n",
              "    <tr>\n",
              "      <th>4</th>\n",
              "      <td>1000</td>\n",
              "      <td>9.0</td>\n",
              "      <td>466.0</td>\n",
              "      <td>15.0</td>\n",
              "      <td>57.0</td>\n",
              "      <td>52</td>\n",
              "      <td>ultra</td>\n",
              "      <td>0</td>\n",
              "      <td>1000</td>\n",
              "      <td>30.0</td>\n",
              "      <td>3000</td>\n",
              "      <td>1950</td>\n",
              "      <td>150</td>\n",
              "      <td>1</td>\n",
              "      <td>1</td>\n",
              "    </tr>\n",
              "    <tr>\n",
              "      <th>...</th>\n",
              "      <td>...</td>\n",
              "      <td>...</td>\n",
              "      <td>...</td>\n",
              "      <td>...</td>\n",
              "      <td>...</td>\n",
              "      <td>...</td>\n",
              "      <td>...</td>\n",
              "      <td>...</td>\n",
              "      <td>...</td>\n",
              "      <td>...</td>\n",
              "      <td>...</td>\n",
              "      <td>...</td>\n",
              "      <td>...</td>\n",
              "      <td>...</td>\n",
              "      <td>...</td>\n",
              "    </tr>\n",
              "    <tr>\n",
              "      <th>3209</th>\n",
              "      <td>1489</td>\n",
              "      <td>8.0</td>\n",
              "      <td>0.0</td>\n",
              "      <td>11.0</td>\n",
              "      <td>17.0</td>\n",
              "      <td>35</td>\n",
              "      <td>smart</td>\n",
              "      <td>0</td>\n",
              "      <td>50</td>\n",
              "      <td>15.0</td>\n",
              "      <td>500</td>\n",
              "      <td>550</td>\n",
              "      <td>200</td>\n",
              "      <td>3</td>\n",
              "      <td>3</td>\n",
              "    </tr>\n",
              "    <tr>\n",
              "      <th>3210</th>\n",
              "      <td>1489</td>\n",
              "      <td>9.0</td>\n",
              "      <td>0.0</td>\n",
              "      <td>17.0</td>\n",
              "      <td>32.0</td>\n",
              "      <td>35</td>\n",
              "      <td>smart</td>\n",
              "      <td>0</td>\n",
              "      <td>50</td>\n",
              "      <td>15.0</td>\n",
              "      <td>500</td>\n",
              "      <td>550</td>\n",
              "      <td>200</td>\n",
              "      <td>3</td>\n",
              "      <td>3</td>\n",
              "    </tr>\n",
              "    <tr>\n",
              "      <th>3211</th>\n",
              "      <td>1489</td>\n",
              "      <td>10.0</td>\n",
              "      <td>0.0</td>\n",
              "      <td>20.0</td>\n",
              "      <td>21.0</td>\n",
              "      <td>35</td>\n",
              "      <td>smart</td>\n",
              "      <td>0</td>\n",
              "      <td>50</td>\n",
              "      <td>15.0</td>\n",
              "      <td>500</td>\n",
              "      <td>550</td>\n",
              "      <td>200</td>\n",
              "      <td>3</td>\n",
              "      <td>3</td>\n",
              "    </tr>\n",
              "    <tr>\n",
              "      <th>3212</th>\n",
              "      <td>1489</td>\n",
              "      <td>11.0</td>\n",
              "      <td>0.0</td>\n",
              "      <td>18.0</td>\n",
              "      <td>20.0</td>\n",
              "      <td>35</td>\n",
              "      <td>smart</td>\n",
              "      <td>0</td>\n",
              "      <td>50</td>\n",
              "      <td>15.0</td>\n",
              "      <td>500</td>\n",
              "      <td>550</td>\n",
              "      <td>200</td>\n",
              "      <td>3</td>\n",
              "      <td>3</td>\n",
              "    </tr>\n",
              "    <tr>\n",
              "      <th>3213</th>\n",
              "      <td>1489</td>\n",
              "      <td>12.0</td>\n",
              "      <td>0.0</td>\n",
              "      <td>17.0</td>\n",
              "      <td>35.0</td>\n",
              "      <td>35</td>\n",
              "      <td>smart</td>\n",
              "      <td>0</td>\n",
              "      <td>50</td>\n",
              "      <td>15.0</td>\n",
              "      <td>500</td>\n",
              "      <td>550</td>\n",
              "      <td>200</td>\n",
              "      <td>3</td>\n",
              "      <td>3</td>\n",
              "    </tr>\n",
              "  </tbody>\n",
              "</table>\n",
              "<p>3214 rows × 15 columns</p>\n",
              "</div>\n",
              "      <button class=\"colab-df-convert\" onclick=\"convertToInteractive('df-63167d43-da00-43a8-b272-1b2b54577a96')\"\n",
              "              title=\"Convert this dataframe to an interactive table.\"\n",
              "              style=\"display:none;\">\n",
              "        \n",
              "  <svg xmlns=\"http://www.w3.org/2000/svg\" height=\"24px\"viewBox=\"0 0 24 24\"\n",
              "       width=\"24px\">\n",
              "    <path d=\"M0 0h24v24H0V0z\" fill=\"none\"/>\n",
              "    <path d=\"M18.56 5.44l.94 2.06.94-2.06 2.06-.94-2.06-.94-.94-2.06-.94 2.06-2.06.94zm-11 1L8.5 8.5l.94-2.06 2.06-.94-2.06-.94L8.5 2.5l-.94 2.06-2.06.94zm10 10l.94 2.06.94-2.06 2.06-.94-2.06-.94-.94-2.06-.94 2.06-2.06.94z\"/><path d=\"M17.41 7.96l-1.37-1.37c-.4-.4-.92-.59-1.43-.59-.52 0-1.04.2-1.43.59L10.3 9.45l-7.72 7.72c-.78.78-.78 2.05 0 2.83L4 21.41c.39.39.9.59 1.41.59.51 0 1.02-.2 1.41-.59l7.78-7.78 2.81-2.81c.8-.78.8-2.07 0-2.86zM5.41 20L4 18.59l7.72-7.72 1.47 1.35L5.41 20z\"/>\n",
              "  </svg>\n",
              "      </button>\n",
              "      \n",
              "  <style>\n",
              "    .colab-df-container {\n",
              "      display:flex;\n",
              "      flex-wrap:wrap;\n",
              "      gap: 12px;\n",
              "    }\n",
              "\n",
              "    .colab-df-convert {\n",
              "      background-color: #E8F0FE;\n",
              "      border: none;\n",
              "      border-radius: 50%;\n",
              "      cursor: pointer;\n",
              "      display: none;\n",
              "      fill: #1967D2;\n",
              "      height: 32px;\n",
              "      padding: 0 0 0 0;\n",
              "      width: 32px;\n",
              "    }\n",
              "\n",
              "    .colab-df-convert:hover {\n",
              "      background-color: #E2EBFA;\n",
              "      box-shadow: 0px 1px 2px rgba(60, 64, 67, 0.3), 0px 1px 3px 1px rgba(60, 64, 67, 0.15);\n",
              "      fill: #174EA6;\n",
              "    }\n",
              "\n",
              "    [theme=dark] .colab-df-convert {\n",
              "      background-color: #3B4455;\n",
              "      fill: #D2E3FC;\n",
              "    }\n",
              "\n",
              "    [theme=dark] .colab-df-convert:hover {\n",
              "      background-color: #434B5C;\n",
              "      box-shadow: 0px 1px 3px 1px rgba(0, 0, 0, 0.15);\n",
              "      filter: drop-shadow(0px 1px 2px rgba(0, 0, 0, 0.3));\n",
              "      fill: #FFFFFF;\n",
              "    }\n",
              "  </style>\n",
              "\n",
              "      <script>\n",
              "        const buttonEl =\n",
              "          document.querySelector('#df-63167d43-da00-43a8-b272-1b2b54577a96 button.colab-df-convert');\n",
              "        buttonEl.style.display =\n",
              "          google.colab.kernel.accessAllowed ? 'block' : 'none';\n",
              "\n",
              "        async function convertToInteractive(key) {\n",
              "          const element = document.querySelector('#df-63167d43-da00-43a8-b272-1b2b54577a96');\n",
              "          const dataTable =\n",
              "            await google.colab.kernel.invokeFunction('convertToInteractive',\n",
              "                                                     [key], {});\n",
              "          if (!dataTable) return;\n",
              "\n",
              "          const docLinkHtml = 'Like what you see? Visit the ' +\n",
              "            '<a target=\"_blank\" href=https://colab.research.google.com/notebooks/data_table.ipynb>data table notebook</a>'\n",
              "            + ' to learn more about interactive tables.';\n",
              "          element.innerHTML = '';\n",
              "          dataTable['output_type'] = 'display_data';\n",
              "          await google.colab.output.renderOutput(dataTable, element);\n",
              "          const docLink = document.createElement('div');\n",
              "          docLink.innerHTML = docLinkHtml;\n",
              "          element.appendChild(docLink);\n",
              "        }\n",
              "      </script>\n",
              "    </div>\n",
              "  </div>\n",
              "  "
            ]
          },
          "metadata": {},
          "execution_count": 25
        }
      ],
      "source": [
        "df = df.drop(['tariff_name'], axis = 1)\n",
        "df['mb_per_month_included'] = df['mb_per_month_included'] / 1024\n",
        "df.columns = (['user_id',\n",
        "               'month',\n",
        "               'calls',\n",
        "               'gb',\n",
        "               'sms',\n",
        "               'age',\n",
        "               'tariff',\n",
        "               'city_grouped',\n",
        "               'sms_limit',\n",
        "               'gb_limit',\n",
        "               'mins_limit',\n",
        "               'rub_monthly_fee',\n",
        "               'rub_per_gb',\n",
        "               'rub_per_sms',\n",
        "               'rub_per_min'])\n",
        "df"
      ]
    },
    {
      "cell_type": "markdown",
      "metadata": {
        "id": "Mvk1BZph_UDF"
      },
      "source": [
        "Создадим новый столбец в таблице со счётом за месяц в каждой строке. Сначала положим в него только абонентскую плату."
      ]
    },
    {
      "cell_type": "code",
      "execution_count": 26,
      "metadata": {
        "colab": {
          "base_uri": "https://localhost:8080/",
          "height": 424
        },
        "id": "iI5yqaqO_UDF",
        "outputId": "40f718a5-9d77-4e5c-c404-c76193547e9a"
      },
      "outputs": [
        {
          "output_type": "execute_result",
          "data": {
            "text/plain": [
              "      user_id  month  calls    gb   sms  age tariff  city_grouped  sms_limit  \\\n",
              "0        1000    5.0  159.0   3.0  22.0   52  ultra             0       1000   \n",
              "1        1000    6.0  172.0  23.0  60.0   52  ultra             0       1000   \n",
              "2        1000    7.0  340.0  14.0  75.0   52  ultra             0       1000   \n",
              "3        1000    8.0  408.0  14.0  81.0   52  ultra             0       1000   \n",
              "4        1000    9.0  466.0  15.0  57.0   52  ultra             0       1000   \n",
              "...       ...    ...    ...   ...   ...  ...    ...           ...        ...   \n",
              "3209     1489    8.0    0.0  11.0  17.0   35  smart             0         50   \n",
              "3210     1489    9.0    0.0  17.0  32.0   35  smart             0         50   \n",
              "3211     1489   10.0    0.0  20.0  21.0   35  smart             0         50   \n",
              "3212     1489   11.0    0.0  18.0  20.0   35  smart             0         50   \n",
              "3213     1489   12.0    0.0  17.0  35.0   35  smart             0         50   \n",
              "\n",
              "      gb_limit  mins_limit  rub_monthly_fee  rub_per_gb  rub_per_sms  \\\n",
              "0         30.0        3000             1950         150            1   \n",
              "1         30.0        3000             1950         150            1   \n",
              "2         30.0        3000             1950         150            1   \n",
              "3         30.0        3000             1950         150            1   \n",
              "4         30.0        3000             1950         150            1   \n",
              "...        ...         ...              ...         ...          ...   \n",
              "3209      15.0         500              550         200            3   \n",
              "3210      15.0         500              550         200            3   \n",
              "3211      15.0         500              550         200            3   \n",
              "3212      15.0         500              550         200            3   \n",
              "3213      15.0         500              550         200            3   \n",
              "\n",
              "      rub_per_min  bill  \n",
              "0               1  1950  \n",
              "1               1  1950  \n",
              "2               1  1950  \n",
              "3               1  1950  \n",
              "4               1  1950  \n",
              "...           ...   ...  \n",
              "3209            3   550  \n",
              "3210            3   550  \n",
              "3211            3   550  \n",
              "3212            3   550  \n",
              "3213            3   550  \n",
              "\n",
              "[3214 rows x 16 columns]"
            ],
            "text/html": [
              "\n",
              "  <div id=\"df-70d2d74e-036b-4820-a40b-345017c4b397\">\n",
              "    <div class=\"colab-df-container\">\n",
              "      <div>\n",
              "<style scoped>\n",
              "    .dataframe tbody tr th:only-of-type {\n",
              "        vertical-align: middle;\n",
              "    }\n",
              "\n",
              "    .dataframe tbody tr th {\n",
              "        vertical-align: top;\n",
              "    }\n",
              "\n",
              "    .dataframe thead th {\n",
              "        text-align: right;\n",
              "    }\n",
              "</style>\n",
              "<table border=\"1\" class=\"dataframe\">\n",
              "  <thead>\n",
              "    <tr style=\"text-align: right;\">\n",
              "      <th></th>\n",
              "      <th>user_id</th>\n",
              "      <th>month</th>\n",
              "      <th>calls</th>\n",
              "      <th>gb</th>\n",
              "      <th>sms</th>\n",
              "      <th>age</th>\n",
              "      <th>tariff</th>\n",
              "      <th>city_grouped</th>\n",
              "      <th>sms_limit</th>\n",
              "      <th>gb_limit</th>\n",
              "      <th>mins_limit</th>\n",
              "      <th>rub_monthly_fee</th>\n",
              "      <th>rub_per_gb</th>\n",
              "      <th>rub_per_sms</th>\n",
              "      <th>rub_per_min</th>\n",
              "      <th>bill</th>\n",
              "    </tr>\n",
              "  </thead>\n",
              "  <tbody>\n",
              "    <tr>\n",
              "      <th>0</th>\n",
              "      <td>1000</td>\n",
              "      <td>5.0</td>\n",
              "      <td>159.0</td>\n",
              "      <td>3.0</td>\n",
              "      <td>22.0</td>\n",
              "      <td>52</td>\n",
              "      <td>ultra</td>\n",
              "      <td>0</td>\n",
              "      <td>1000</td>\n",
              "      <td>30.0</td>\n",
              "      <td>3000</td>\n",
              "      <td>1950</td>\n",
              "      <td>150</td>\n",
              "      <td>1</td>\n",
              "      <td>1</td>\n",
              "      <td>1950</td>\n",
              "    </tr>\n",
              "    <tr>\n",
              "      <th>1</th>\n",
              "      <td>1000</td>\n",
              "      <td>6.0</td>\n",
              "      <td>172.0</td>\n",
              "      <td>23.0</td>\n",
              "      <td>60.0</td>\n",
              "      <td>52</td>\n",
              "      <td>ultra</td>\n",
              "      <td>0</td>\n",
              "      <td>1000</td>\n",
              "      <td>30.0</td>\n",
              "      <td>3000</td>\n",
              "      <td>1950</td>\n",
              "      <td>150</td>\n",
              "      <td>1</td>\n",
              "      <td>1</td>\n",
              "      <td>1950</td>\n",
              "    </tr>\n",
              "    <tr>\n",
              "      <th>2</th>\n",
              "      <td>1000</td>\n",
              "      <td>7.0</td>\n",
              "      <td>340.0</td>\n",
              "      <td>14.0</td>\n",
              "      <td>75.0</td>\n",
              "      <td>52</td>\n",
              "      <td>ultra</td>\n",
              "      <td>0</td>\n",
              "      <td>1000</td>\n",
              "      <td>30.0</td>\n",
              "      <td>3000</td>\n",
              "      <td>1950</td>\n",
              "      <td>150</td>\n",
              "      <td>1</td>\n",
              "      <td>1</td>\n",
              "      <td>1950</td>\n",
              "    </tr>\n",
              "    <tr>\n",
              "      <th>3</th>\n",
              "      <td>1000</td>\n",
              "      <td>8.0</td>\n",
              "      <td>408.0</td>\n",
              "      <td>14.0</td>\n",
              "      <td>81.0</td>\n",
              "      <td>52</td>\n",
              "      <td>ultra</td>\n",
              "      <td>0</td>\n",
              "      <td>1000</td>\n",
              "      <td>30.0</td>\n",
              "      <td>3000</td>\n",
              "      <td>1950</td>\n",
              "      <td>150</td>\n",
              "      <td>1</td>\n",
              "      <td>1</td>\n",
              "      <td>1950</td>\n",
              "    </tr>\n",
              "    <tr>\n",
              "      <th>4</th>\n",
              "      <td>1000</td>\n",
              "      <td>9.0</td>\n",
              "      <td>466.0</td>\n",
              "      <td>15.0</td>\n",
              "      <td>57.0</td>\n",
              "      <td>52</td>\n",
              "      <td>ultra</td>\n",
              "      <td>0</td>\n",
              "      <td>1000</td>\n",
              "      <td>30.0</td>\n",
              "      <td>3000</td>\n",
              "      <td>1950</td>\n",
              "      <td>150</td>\n",
              "      <td>1</td>\n",
              "      <td>1</td>\n",
              "      <td>1950</td>\n",
              "    </tr>\n",
              "    <tr>\n",
              "      <th>...</th>\n",
              "      <td>...</td>\n",
              "      <td>...</td>\n",
              "      <td>...</td>\n",
              "      <td>...</td>\n",
              "      <td>...</td>\n",
              "      <td>...</td>\n",
              "      <td>...</td>\n",
              "      <td>...</td>\n",
              "      <td>...</td>\n",
              "      <td>...</td>\n",
              "      <td>...</td>\n",
              "      <td>...</td>\n",
              "      <td>...</td>\n",
              "      <td>...</td>\n",
              "      <td>...</td>\n",
              "      <td>...</td>\n",
              "    </tr>\n",
              "    <tr>\n",
              "      <th>3209</th>\n",
              "      <td>1489</td>\n",
              "      <td>8.0</td>\n",
              "      <td>0.0</td>\n",
              "      <td>11.0</td>\n",
              "      <td>17.0</td>\n",
              "      <td>35</td>\n",
              "      <td>smart</td>\n",
              "      <td>0</td>\n",
              "      <td>50</td>\n",
              "      <td>15.0</td>\n",
              "      <td>500</td>\n",
              "      <td>550</td>\n",
              "      <td>200</td>\n",
              "      <td>3</td>\n",
              "      <td>3</td>\n",
              "      <td>550</td>\n",
              "    </tr>\n",
              "    <tr>\n",
              "      <th>3210</th>\n",
              "      <td>1489</td>\n",
              "      <td>9.0</td>\n",
              "      <td>0.0</td>\n",
              "      <td>17.0</td>\n",
              "      <td>32.0</td>\n",
              "      <td>35</td>\n",
              "      <td>smart</td>\n",
              "      <td>0</td>\n",
              "      <td>50</td>\n",
              "      <td>15.0</td>\n",
              "      <td>500</td>\n",
              "      <td>550</td>\n",
              "      <td>200</td>\n",
              "      <td>3</td>\n",
              "      <td>3</td>\n",
              "      <td>550</td>\n",
              "    </tr>\n",
              "    <tr>\n",
              "      <th>3211</th>\n",
              "      <td>1489</td>\n",
              "      <td>10.0</td>\n",
              "      <td>0.0</td>\n",
              "      <td>20.0</td>\n",
              "      <td>21.0</td>\n",
              "      <td>35</td>\n",
              "      <td>smart</td>\n",
              "      <td>0</td>\n",
              "      <td>50</td>\n",
              "      <td>15.0</td>\n",
              "      <td>500</td>\n",
              "      <td>550</td>\n",
              "      <td>200</td>\n",
              "      <td>3</td>\n",
              "      <td>3</td>\n",
              "      <td>550</td>\n",
              "    </tr>\n",
              "    <tr>\n",
              "      <th>3212</th>\n",
              "      <td>1489</td>\n",
              "      <td>11.0</td>\n",
              "      <td>0.0</td>\n",
              "      <td>18.0</td>\n",
              "      <td>20.0</td>\n",
              "      <td>35</td>\n",
              "      <td>smart</td>\n",
              "      <td>0</td>\n",
              "      <td>50</td>\n",
              "      <td>15.0</td>\n",
              "      <td>500</td>\n",
              "      <td>550</td>\n",
              "      <td>200</td>\n",
              "      <td>3</td>\n",
              "      <td>3</td>\n",
              "      <td>550</td>\n",
              "    </tr>\n",
              "    <tr>\n",
              "      <th>3213</th>\n",
              "      <td>1489</td>\n",
              "      <td>12.0</td>\n",
              "      <td>0.0</td>\n",
              "      <td>17.0</td>\n",
              "      <td>35.0</td>\n",
              "      <td>35</td>\n",
              "      <td>smart</td>\n",
              "      <td>0</td>\n",
              "      <td>50</td>\n",
              "      <td>15.0</td>\n",
              "      <td>500</td>\n",
              "      <td>550</td>\n",
              "      <td>200</td>\n",
              "      <td>3</td>\n",
              "      <td>3</td>\n",
              "      <td>550</td>\n",
              "    </tr>\n",
              "  </tbody>\n",
              "</table>\n",
              "<p>3214 rows × 16 columns</p>\n",
              "</div>\n",
              "      <button class=\"colab-df-convert\" onclick=\"convertToInteractive('df-70d2d74e-036b-4820-a40b-345017c4b397')\"\n",
              "              title=\"Convert this dataframe to an interactive table.\"\n",
              "              style=\"display:none;\">\n",
              "        \n",
              "  <svg xmlns=\"http://www.w3.org/2000/svg\" height=\"24px\"viewBox=\"0 0 24 24\"\n",
              "       width=\"24px\">\n",
              "    <path d=\"M0 0h24v24H0V0z\" fill=\"none\"/>\n",
              "    <path d=\"M18.56 5.44l.94 2.06.94-2.06 2.06-.94-2.06-.94-.94-2.06-.94 2.06-2.06.94zm-11 1L8.5 8.5l.94-2.06 2.06-.94-2.06-.94L8.5 2.5l-.94 2.06-2.06.94zm10 10l.94 2.06.94-2.06 2.06-.94-2.06-.94-.94-2.06-.94 2.06-2.06.94z\"/><path d=\"M17.41 7.96l-1.37-1.37c-.4-.4-.92-.59-1.43-.59-.52 0-1.04.2-1.43.59L10.3 9.45l-7.72 7.72c-.78.78-.78 2.05 0 2.83L4 21.41c.39.39.9.59 1.41.59.51 0 1.02-.2 1.41-.59l7.78-7.78 2.81-2.81c.8-.78.8-2.07 0-2.86zM5.41 20L4 18.59l7.72-7.72 1.47 1.35L5.41 20z\"/>\n",
              "  </svg>\n",
              "      </button>\n",
              "      \n",
              "  <style>\n",
              "    .colab-df-container {\n",
              "      display:flex;\n",
              "      flex-wrap:wrap;\n",
              "      gap: 12px;\n",
              "    }\n",
              "\n",
              "    .colab-df-convert {\n",
              "      background-color: #E8F0FE;\n",
              "      border: none;\n",
              "      border-radius: 50%;\n",
              "      cursor: pointer;\n",
              "      display: none;\n",
              "      fill: #1967D2;\n",
              "      height: 32px;\n",
              "      padding: 0 0 0 0;\n",
              "      width: 32px;\n",
              "    }\n",
              "\n",
              "    .colab-df-convert:hover {\n",
              "      background-color: #E2EBFA;\n",
              "      box-shadow: 0px 1px 2px rgba(60, 64, 67, 0.3), 0px 1px 3px 1px rgba(60, 64, 67, 0.15);\n",
              "      fill: #174EA6;\n",
              "    }\n",
              "\n",
              "    [theme=dark] .colab-df-convert {\n",
              "      background-color: #3B4455;\n",
              "      fill: #D2E3FC;\n",
              "    }\n",
              "\n",
              "    [theme=dark] .colab-df-convert:hover {\n",
              "      background-color: #434B5C;\n",
              "      box-shadow: 0px 1px 3px 1px rgba(0, 0, 0, 0.15);\n",
              "      filter: drop-shadow(0px 1px 2px rgba(0, 0, 0, 0.3));\n",
              "      fill: #FFFFFF;\n",
              "    }\n",
              "  </style>\n",
              "\n",
              "      <script>\n",
              "        const buttonEl =\n",
              "          document.querySelector('#df-70d2d74e-036b-4820-a40b-345017c4b397 button.colab-df-convert');\n",
              "        buttonEl.style.display =\n",
              "          google.colab.kernel.accessAllowed ? 'block' : 'none';\n",
              "\n",
              "        async function convertToInteractive(key) {\n",
              "          const element = document.querySelector('#df-70d2d74e-036b-4820-a40b-345017c4b397');\n",
              "          const dataTable =\n",
              "            await google.colab.kernel.invokeFunction('convertToInteractive',\n",
              "                                                     [key], {});\n",
              "          if (!dataTable) return;\n",
              "\n",
              "          const docLinkHtml = 'Like what you see? Visit the ' +\n",
              "            '<a target=\"_blank\" href=https://colab.research.google.com/notebooks/data_table.ipynb>data table notebook</a>'\n",
              "            + ' to learn more about interactive tables.';\n",
              "          element.innerHTML = '';\n",
              "          dataTable['output_type'] = 'display_data';\n",
              "          await google.colab.output.renderOutput(dataTable, element);\n",
              "          const docLink = document.createElement('div');\n",
              "          docLink.innerHTML = docLinkHtml;\n",
              "          element.appendChild(docLink);\n",
              "        }\n",
              "      </script>\n",
              "    </div>\n",
              "  </div>\n",
              "  "
            ]
          },
          "metadata": {},
          "execution_count": 26
        }
      ],
      "source": [
        "df['bill'] = df['rub_monthly_fee']\n",
        "df"
      ]
    },
    {
      "cell_type": "markdown",
      "metadata": {
        "id": "s-JmZmyG_UDG"
      },
      "source": [
        "Теперь создадим переменные остатков от предоставленного пакета sms, минут и гигабайт. Отрицательные значения перекодируем в 0."
      ]
    },
    {
      "cell_type": "code",
      "execution_count": 27,
      "metadata": {
        "colab": {
          "base_uri": "https://localhost:8080/",
          "height": 424
        },
        "id": "fMDv9RXS_UDG",
        "outputId": "c2cf0dac-77ee-477a-c715-9be8652e51ee"
      },
      "outputs": [
        {
          "output_type": "execute_result",
          "data": {
            "text/plain": [
              "      user_id  month  calls    gb   sms  age tariff  city_grouped  sms_limit  \\\n",
              "0        1000    5.0  159.0   3.0  22.0   52  ultra             0       1000   \n",
              "1        1000    6.0  172.0  23.0  60.0   52  ultra             0       1000   \n",
              "2        1000    7.0  340.0  14.0  75.0   52  ultra             0       1000   \n",
              "3        1000    8.0  408.0  14.0  81.0   52  ultra             0       1000   \n",
              "4        1000    9.0  466.0  15.0  57.0   52  ultra             0       1000   \n",
              "...       ...    ...    ...   ...   ...  ...    ...           ...        ...   \n",
              "3209     1489    8.0    0.0  11.0  17.0   35  smart             0         50   \n",
              "3210     1489    9.0    0.0  17.0  32.0   35  smart             0         50   \n",
              "3211     1489   10.0    0.0  20.0  21.0   35  smart             0         50   \n",
              "3212     1489   11.0    0.0  18.0  20.0   35  smart             0         50   \n",
              "3213     1489   12.0    0.0  17.0  35.0   35  smart             0         50   \n",
              "\n",
              "      gb_limit  mins_limit  rub_monthly_fee  rub_per_gb  rub_per_sms  \\\n",
              "0         30.0        3000             1950         150            1   \n",
              "1         30.0        3000             1950         150            1   \n",
              "2         30.0        3000             1950         150            1   \n",
              "3         30.0        3000             1950         150            1   \n",
              "4         30.0        3000             1950         150            1   \n",
              "...        ...         ...              ...         ...          ...   \n",
              "3209      15.0         500              550         200            3   \n",
              "3210      15.0         500              550         200            3   \n",
              "3211      15.0         500              550         200            3   \n",
              "3212      15.0         500              550         200            3   \n",
              "3213      15.0         500              550         200            3   \n",
              "\n",
              "      rub_per_min  bill  sms_left  gb_left  mins_left  \n",
              "0               1  1950       0.0      0.0        0.0  \n",
              "1               1  1950       0.0      0.0        0.0  \n",
              "2               1  1950       0.0      0.0        0.0  \n",
              "3               1  1950       0.0      0.0        0.0  \n",
              "4               1  1950       0.0      0.0        0.0  \n",
              "...           ...   ...       ...      ...        ...  \n",
              "3209            3   550       0.0      0.0        0.0  \n",
              "3210            3   550       0.0      2.0        0.0  \n",
              "3211            3   550       0.0      5.0        0.0  \n",
              "3212            3   550       0.0      3.0        0.0  \n",
              "3213            3   550       0.0      2.0        0.0  \n",
              "\n",
              "[3214 rows x 19 columns]"
            ],
            "text/html": [
              "\n",
              "  <div id=\"df-1305bfc4-9de7-4718-9510-ec0e20462ea1\">\n",
              "    <div class=\"colab-df-container\">\n",
              "      <div>\n",
              "<style scoped>\n",
              "    .dataframe tbody tr th:only-of-type {\n",
              "        vertical-align: middle;\n",
              "    }\n",
              "\n",
              "    .dataframe tbody tr th {\n",
              "        vertical-align: top;\n",
              "    }\n",
              "\n",
              "    .dataframe thead th {\n",
              "        text-align: right;\n",
              "    }\n",
              "</style>\n",
              "<table border=\"1\" class=\"dataframe\">\n",
              "  <thead>\n",
              "    <tr style=\"text-align: right;\">\n",
              "      <th></th>\n",
              "      <th>user_id</th>\n",
              "      <th>month</th>\n",
              "      <th>calls</th>\n",
              "      <th>gb</th>\n",
              "      <th>sms</th>\n",
              "      <th>age</th>\n",
              "      <th>tariff</th>\n",
              "      <th>city_grouped</th>\n",
              "      <th>sms_limit</th>\n",
              "      <th>gb_limit</th>\n",
              "      <th>mins_limit</th>\n",
              "      <th>rub_monthly_fee</th>\n",
              "      <th>rub_per_gb</th>\n",
              "      <th>rub_per_sms</th>\n",
              "      <th>rub_per_min</th>\n",
              "      <th>bill</th>\n",
              "      <th>sms_left</th>\n",
              "      <th>gb_left</th>\n",
              "      <th>mins_left</th>\n",
              "    </tr>\n",
              "  </thead>\n",
              "  <tbody>\n",
              "    <tr>\n",
              "      <th>0</th>\n",
              "      <td>1000</td>\n",
              "      <td>5.0</td>\n",
              "      <td>159.0</td>\n",
              "      <td>3.0</td>\n",
              "      <td>22.0</td>\n",
              "      <td>52</td>\n",
              "      <td>ultra</td>\n",
              "      <td>0</td>\n",
              "      <td>1000</td>\n",
              "      <td>30.0</td>\n",
              "      <td>3000</td>\n",
              "      <td>1950</td>\n",
              "      <td>150</td>\n",
              "      <td>1</td>\n",
              "      <td>1</td>\n",
              "      <td>1950</td>\n",
              "      <td>0.0</td>\n",
              "      <td>0.0</td>\n",
              "      <td>0.0</td>\n",
              "    </tr>\n",
              "    <tr>\n",
              "      <th>1</th>\n",
              "      <td>1000</td>\n",
              "      <td>6.0</td>\n",
              "      <td>172.0</td>\n",
              "      <td>23.0</td>\n",
              "      <td>60.0</td>\n",
              "      <td>52</td>\n",
              "      <td>ultra</td>\n",
              "      <td>0</td>\n",
              "      <td>1000</td>\n",
              "      <td>30.0</td>\n",
              "      <td>3000</td>\n",
              "      <td>1950</td>\n",
              "      <td>150</td>\n",
              "      <td>1</td>\n",
              "      <td>1</td>\n",
              "      <td>1950</td>\n",
              "      <td>0.0</td>\n",
              "      <td>0.0</td>\n",
              "      <td>0.0</td>\n",
              "    </tr>\n",
              "    <tr>\n",
              "      <th>2</th>\n",
              "      <td>1000</td>\n",
              "      <td>7.0</td>\n",
              "      <td>340.0</td>\n",
              "      <td>14.0</td>\n",
              "      <td>75.0</td>\n",
              "      <td>52</td>\n",
              "      <td>ultra</td>\n",
              "      <td>0</td>\n",
              "      <td>1000</td>\n",
              "      <td>30.0</td>\n",
              "      <td>3000</td>\n",
              "      <td>1950</td>\n",
              "      <td>150</td>\n",
              "      <td>1</td>\n",
              "      <td>1</td>\n",
              "      <td>1950</td>\n",
              "      <td>0.0</td>\n",
              "      <td>0.0</td>\n",
              "      <td>0.0</td>\n",
              "    </tr>\n",
              "    <tr>\n",
              "      <th>3</th>\n",
              "      <td>1000</td>\n",
              "      <td>8.0</td>\n",
              "      <td>408.0</td>\n",
              "      <td>14.0</td>\n",
              "      <td>81.0</td>\n",
              "      <td>52</td>\n",
              "      <td>ultra</td>\n",
              "      <td>0</td>\n",
              "      <td>1000</td>\n",
              "      <td>30.0</td>\n",
              "      <td>3000</td>\n",
              "      <td>1950</td>\n",
              "      <td>150</td>\n",
              "      <td>1</td>\n",
              "      <td>1</td>\n",
              "      <td>1950</td>\n",
              "      <td>0.0</td>\n",
              "      <td>0.0</td>\n",
              "      <td>0.0</td>\n",
              "    </tr>\n",
              "    <tr>\n",
              "      <th>4</th>\n",
              "      <td>1000</td>\n",
              "      <td>9.0</td>\n",
              "      <td>466.0</td>\n",
              "      <td>15.0</td>\n",
              "      <td>57.0</td>\n",
              "      <td>52</td>\n",
              "      <td>ultra</td>\n",
              "      <td>0</td>\n",
              "      <td>1000</td>\n",
              "      <td>30.0</td>\n",
              "      <td>3000</td>\n",
              "      <td>1950</td>\n",
              "      <td>150</td>\n",
              "      <td>1</td>\n",
              "      <td>1</td>\n",
              "      <td>1950</td>\n",
              "      <td>0.0</td>\n",
              "      <td>0.0</td>\n",
              "      <td>0.0</td>\n",
              "    </tr>\n",
              "    <tr>\n",
              "      <th>...</th>\n",
              "      <td>...</td>\n",
              "      <td>...</td>\n",
              "      <td>...</td>\n",
              "      <td>...</td>\n",
              "      <td>...</td>\n",
              "      <td>...</td>\n",
              "      <td>...</td>\n",
              "      <td>...</td>\n",
              "      <td>...</td>\n",
              "      <td>...</td>\n",
              "      <td>...</td>\n",
              "      <td>...</td>\n",
              "      <td>...</td>\n",
              "      <td>...</td>\n",
              "      <td>...</td>\n",
              "      <td>...</td>\n",
              "      <td>...</td>\n",
              "      <td>...</td>\n",
              "      <td>...</td>\n",
              "    </tr>\n",
              "    <tr>\n",
              "      <th>3209</th>\n",
              "      <td>1489</td>\n",
              "      <td>8.0</td>\n",
              "      <td>0.0</td>\n",
              "      <td>11.0</td>\n",
              "      <td>17.0</td>\n",
              "      <td>35</td>\n",
              "      <td>smart</td>\n",
              "      <td>0</td>\n",
              "      <td>50</td>\n",
              "      <td>15.0</td>\n",
              "      <td>500</td>\n",
              "      <td>550</td>\n",
              "      <td>200</td>\n",
              "      <td>3</td>\n",
              "      <td>3</td>\n",
              "      <td>550</td>\n",
              "      <td>0.0</td>\n",
              "      <td>0.0</td>\n",
              "      <td>0.0</td>\n",
              "    </tr>\n",
              "    <tr>\n",
              "      <th>3210</th>\n",
              "      <td>1489</td>\n",
              "      <td>9.0</td>\n",
              "      <td>0.0</td>\n",
              "      <td>17.0</td>\n",
              "      <td>32.0</td>\n",
              "      <td>35</td>\n",
              "      <td>smart</td>\n",
              "      <td>0</td>\n",
              "      <td>50</td>\n",
              "      <td>15.0</td>\n",
              "      <td>500</td>\n",
              "      <td>550</td>\n",
              "      <td>200</td>\n",
              "      <td>3</td>\n",
              "      <td>3</td>\n",
              "      <td>550</td>\n",
              "      <td>0.0</td>\n",
              "      <td>2.0</td>\n",
              "      <td>0.0</td>\n",
              "    </tr>\n",
              "    <tr>\n",
              "      <th>3211</th>\n",
              "      <td>1489</td>\n",
              "      <td>10.0</td>\n",
              "      <td>0.0</td>\n",
              "      <td>20.0</td>\n",
              "      <td>21.0</td>\n",
              "      <td>35</td>\n",
              "      <td>smart</td>\n",
              "      <td>0</td>\n",
              "      <td>50</td>\n",
              "      <td>15.0</td>\n",
              "      <td>500</td>\n",
              "      <td>550</td>\n",
              "      <td>200</td>\n",
              "      <td>3</td>\n",
              "      <td>3</td>\n",
              "      <td>550</td>\n",
              "      <td>0.0</td>\n",
              "      <td>5.0</td>\n",
              "      <td>0.0</td>\n",
              "    </tr>\n",
              "    <tr>\n",
              "      <th>3212</th>\n",
              "      <td>1489</td>\n",
              "      <td>11.0</td>\n",
              "      <td>0.0</td>\n",
              "      <td>18.0</td>\n",
              "      <td>20.0</td>\n",
              "      <td>35</td>\n",
              "      <td>smart</td>\n",
              "      <td>0</td>\n",
              "      <td>50</td>\n",
              "      <td>15.0</td>\n",
              "      <td>500</td>\n",
              "      <td>550</td>\n",
              "      <td>200</td>\n",
              "      <td>3</td>\n",
              "      <td>3</td>\n",
              "      <td>550</td>\n",
              "      <td>0.0</td>\n",
              "      <td>3.0</td>\n",
              "      <td>0.0</td>\n",
              "    </tr>\n",
              "    <tr>\n",
              "      <th>3213</th>\n",
              "      <td>1489</td>\n",
              "      <td>12.0</td>\n",
              "      <td>0.0</td>\n",
              "      <td>17.0</td>\n",
              "      <td>35.0</td>\n",
              "      <td>35</td>\n",
              "      <td>smart</td>\n",
              "      <td>0</td>\n",
              "      <td>50</td>\n",
              "      <td>15.0</td>\n",
              "      <td>500</td>\n",
              "      <td>550</td>\n",
              "      <td>200</td>\n",
              "      <td>3</td>\n",
              "      <td>3</td>\n",
              "      <td>550</td>\n",
              "      <td>0.0</td>\n",
              "      <td>2.0</td>\n",
              "      <td>0.0</td>\n",
              "    </tr>\n",
              "  </tbody>\n",
              "</table>\n",
              "<p>3214 rows × 19 columns</p>\n",
              "</div>\n",
              "      <button class=\"colab-df-convert\" onclick=\"convertToInteractive('df-1305bfc4-9de7-4718-9510-ec0e20462ea1')\"\n",
              "              title=\"Convert this dataframe to an interactive table.\"\n",
              "              style=\"display:none;\">\n",
              "        \n",
              "  <svg xmlns=\"http://www.w3.org/2000/svg\" height=\"24px\"viewBox=\"0 0 24 24\"\n",
              "       width=\"24px\">\n",
              "    <path d=\"M0 0h24v24H0V0z\" fill=\"none\"/>\n",
              "    <path d=\"M18.56 5.44l.94 2.06.94-2.06 2.06-.94-2.06-.94-.94-2.06-.94 2.06-2.06.94zm-11 1L8.5 8.5l.94-2.06 2.06-.94-2.06-.94L8.5 2.5l-.94 2.06-2.06.94zm10 10l.94 2.06.94-2.06 2.06-.94-2.06-.94-.94-2.06-.94 2.06-2.06.94z\"/><path d=\"M17.41 7.96l-1.37-1.37c-.4-.4-.92-.59-1.43-.59-.52 0-1.04.2-1.43.59L10.3 9.45l-7.72 7.72c-.78.78-.78 2.05 0 2.83L4 21.41c.39.39.9.59 1.41.59.51 0 1.02-.2 1.41-.59l7.78-7.78 2.81-2.81c.8-.78.8-2.07 0-2.86zM5.41 20L4 18.59l7.72-7.72 1.47 1.35L5.41 20z\"/>\n",
              "  </svg>\n",
              "      </button>\n",
              "      \n",
              "  <style>\n",
              "    .colab-df-container {\n",
              "      display:flex;\n",
              "      flex-wrap:wrap;\n",
              "      gap: 12px;\n",
              "    }\n",
              "\n",
              "    .colab-df-convert {\n",
              "      background-color: #E8F0FE;\n",
              "      border: none;\n",
              "      border-radius: 50%;\n",
              "      cursor: pointer;\n",
              "      display: none;\n",
              "      fill: #1967D2;\n",
              "      height: 32px;\n",
              "      padding: 0 0 0 0;\n",
              "      width: 32px;\n",
              "    }\n",
              "\n",
              "    .colab-df-convert:hover {\n",
              "      background-color: #E2EBFA;\n",
              "      box-shadow: 0px 1px 2px rgba(60, 64, 67, 0.3), 0px 1px 3px 1px rgba(60, 64, 67, 0.15);\n",
              "      fill: #174EA6;\n",
              "    }\n",
              "\n",
              "    [theme=dark] .colab-df-convert {\n",
              "      background-color: #3B4455;\n",
              "      fill: #D2E3FC;\n",
              "    }\n",
              "\n",
              "    [theme=dark] .colab-df-convert:hover {\n",
              "      background-color: #434B5C;\n",
              "      box-shadow: 0px 1px 3px 1px rgba(0, 0, 0, 0.15);\n",
              "      filter: drop-shadow(0px 1px 2px rgba(0, 0, 0, 0.3));\n",
              "      fill: #FFFFFF;\n",
              "    }\n",
              "  </style>\n",
              "\n",
              "      <script>\n",
              "        const buttonEl =\n",
              "          document.querySelector('#df-1305bfc4-9de7-4718-9510-ec0e20462ea1 button.colab-df-convert');\n",
              "        buttonEl.style.display =\n",
              "          google.colab.kernel.accessAllowed ? 'block' : 'none';\n",
              "\n",
              "        async function convertToInteractive(key) {\n",
              "          const element = document.querySelector('#df-1305bfc4-9de7-4718-9510-ec0e20462ea1');\n",
              "          const dataTable =\n",
              "            await google.colab.kernel.invokeFunction('convertToInteractive',\n",
              "                                                     [key], {});\n",
              "          if (!dataTable) return;\n",
              "\n",
              "          const docLinkHtml = 'Like what you see? Visit the ' +\n",
              "            '<a target=\"_blank\" href=https://colab.research.google.com/notebooks/data_table.ipynb>data table notebook</a>'\n",
              "            + ' to learn more about interactive tables.';\n",
              "          element.innerHTML = '';\n",
              "          dataTable['output_type'] = 'display_data';\n",
              "          await google.colab.output.renderOutput(dataTable, element);\n",
              "          const docLink = document.createElement('div');\n",
              "          docLink.innerHTML = docLinkHtml;\n",
              "          element.appendChild(docLink);\n",
              "        }\n",
              "      </script>\n",
              "    </div>\n",
              "  </div>\n",
              "  "
            ]
          },
          "metadata": {},
          "execution_count": 27
        }
      ],
      "source": [
        "df['sms_left'] = (df['sms'] - df['sms_limit']).clip(lower=0)\n",
        "df['gb_left'] = (df['gb'] - df['gb_limit']).clip(lower=0)\n",
        "df['mins_left'] = (df['calls'] - df['mins_limit']).clip(lower=0)\n",
        "\n",
        "df"
      ]
    },
    {
      "cell_type": "markdown",
      "metadata": {
        "id": "NIDDVLAC_UDG"
      },
      "source": [
        "Умножим остаток минут, гигабайт и смс на их стоимость по тарифу и прибавим к абонентской плате."
      ]
    },
    {
      "cell_type": "code",
      "execution_count": 28,
      "metadata": {
        "colab": {
          "base_uri": "https://localhost:8080/",
          "height": 468
        },
        "id": "oDaqV7FC_UDG",
        "outputId": "fb2f285a-d074-414f-bd76-d59f5ab65d6d"
      },
      "outputs": [
        {
          "output_type": "execute_result",
          "data": {
            "text/plain": [
              "      user_id  month  calls    gb   sms  age tariff  city_grouped  sms_limit  \\\n",
              "0        1000    5.0  159.0   3.0  22.0   52  ultra             0       1000   \n",
              "1        1000    6.0  172.0  23.0  60.0   52  ultra             0       1000   \n",
              "2        1000    7.0  340.0  14.0  75.0   52  ultra             0       1000   \n",
              "3        1000    8.0  408.0  14.0  81.0   52  ultra             0       1000   \n",
              "4        1000    9.0  466.0  15.0  57.0   52  ultra             0       1000   \n",
              "...       ...    ...    ...   ...   ...  ...    ...           ...        ...   \n",
              "3209     1489    8.0    0.0  11.0  17.0   35  smart             0         50   \n",
              "3210     1489    9.0    0.0  17.0  32.0   35  smart             0         50   \n",
              "3211     1489   10.0    0.0  20.0  21.0   35  smart             0         50   \n",
              "3212     1489   11.0    0.0  18.0  20.0   35  smart             0         50   \n",
              "3213     1489   12.0    0.0  17.0  35.0   35  smart             0         50   \n",
              "\n",
              "      gb_limit  mins_limit  rub_monthly_fee  rub_per_gb  rub_per_sms  \\\n",
              "0         30.0        3000             1950         150            1   \n",
              "1         30.0        3000             1950         150            1   \n",
              "2         30.0        3000             1950         150            1   \n",
              "3         30.0        3000             1950         150            1   \n",
              "4         30.0        3000             1950         150            1   \n",
              "...        ...         ...              ...         ...          ...   \n",
              "3209      15.0         500              550         200            3   \n",
              "3210      15.0         500              550         200            3   \n",
              "3211      15.0         500              550         200            3   \n",
              "3212      15.0         500              550         200            3   \n",
              "3213      15.0         500              550         200            3   \n",
              "\n",
              "      rub_per_min    bill  sms_left  gb_left  mins_left  \n",
              "0               1  1950.0       0.0      0.0        0.0  \n",
              "1               1  1950.0       0.0      0.0        0.0  \n",
              "2               1  1950.0       0.0      0.0        0.0  \n",
              "3               1  1950.0       0.0      0.0        0.0  \n",
              "4               1  1950.0       0.0      0.0        0.0  \n",
              "...           ...     ...       ...      ...        ...  \n",
              "3209            3   550.0       0.0      0.0        0.0  \n",
              "3210            3   950.0       0.0      2.0        0.0  \n",
              "3211            3  1550.0       0.0      5.0        0.0  \n",
              "3212            3  1150.0       0.0      3.0        0.0  \n",
              "3213            3   950.0       0.0      2.0        0.0  \n",
              "\n",
              "[3214 rows x 19 columns]"
            ],
            "text/html": [
              "\n",
              "  <div id=\"df-4ea7de4c-e365-4a1d-a13c-592e6853073d\">\n",
              "    <div class=\"colab-df-container\">\n",
              "      <div>\n",
              "<style scoped>\n",
              "    .dataframe tbody tr th:only-of-type {\n",
              "        vertical-align: middle;\n",
              "    }\n",
              "\n",
              "    .dataframe tbody tr th {\n",
              "        vertical-align: top;\n",
              "    }\n",
              "\n",
              "    .dataframe thead th {\n",
              "        text-align: right;\n",
              "    }\n",
              "</style>\n",
              "<table border=\"1\" class=\"dataframe\">\n",
              "  <thead>\n",
              "    <tr style=\"text-align: right;\">\n",
              "      <th></th>\n",
              "      <th>user_id</th>\n",
              "      <th>month</th>\n",
              "      <th>calls</th>\n",
              "      <th>gb</th>\n",
              "      <th>sms</th>\n",
              "      <th>age</th>\n",
              "      <th>tariff</th>\n",
              "      <th>city_grouped</th>\n",
              "      <th>sms_limit</th>\n",
              "      <th>gb_limit</th>\n",
              "      <th>mins_limit</th>\n",
              "      <th>rub_monthly_fee</th>\n",
              "      <th>rub_per_gb</th>\n",
              "      <th>rub_per_sms</th>\n",
              "      <th>rub_per_min</th>\n",
              "      <th>bill</th>\n",
              "      <th>sms_left</th>\n",
              "      <th>gb_left</th>\n",
              "      <th>mins_left</th>\n",
              "    </tr>\n",
              "  </thead>\n",
              "  <tbody>\n",
              "    <tr>\n",
              "      <th>0</th>\n",
              "      <td>1000</td>\n",
              "      <td>5.0</td>\n",
              "      <td>159.0</td>\n",
              "      <td>3.0</td>\n",
              "      <td>22.0</td>\n",
              "      <td>52</td>\n",
              "      <td>ultra</td>\n",
              "      <td>0</td>\n",
              "      <td>1000</td>\n",
              "      <td>30.0</td>\n",
              "      <td>3000</td>\n",
              "      <td>1950</td>\n",
              "      <td>150</td>\n",
              "      <td>1</td>\n",
              "      <td>1</td>\n",
              "      <td>1950.0</td>\n",
              "      <td>0.0</td>\n",
              "      <td>0.0</td>\n",
              "      <td>0.0</td>\n",
              "    </tr>\n",
              "    <tr>\n",
              "      <th>1</th>\n",
              "      <td>1000</td>\n",
              "      <td>6.0</td>\n",
              "      <td>172.0</td>\n",
              "      <td>23.0</td>\n",
              "      <td>60.0</td>\n",
              "      <td>52</td>\n",
              "      <td>ultra</td>\n",
              "      <td>0</td>\n",
              "      <td>1000</td>\n",
              "      <td>30.0</td>\n",
              "      <td>3000</td>\n",
              "      <td>1950</td>\n",
              "      <td>150</td>\n",
              "      <td>1</td>\n",
              "      <td>1</td>\n",
              "      <td>1950.0</td>\n",
              "      <td>0.0</td>\n",
              "      <td>0.0</td>\n",
              "      <td>0.0</td>\n",
              "    </tr>\n",
              "    <tr>\n",
              "      <th>2</th>\n",
              "      <td>1000</td>\n",
              "      <td>7.0</td>\n",
              "      <td>340.0</td>\n",
              "      <td>14.0</td>\n",
              "      <td>75.0</td>\n",
              "      <td>52</td>\n",
              "      <td>ultra</td>\n",
              "      <td>0</td>\n",
              "      <td>1000</td>\n",
              "      <td>30.0</td>\n",
              "      <td>3000</td>\n",
              "      <td>1950</td>\n",
              "      <td>150</td>\n",
              "      <td>1</td>\n",
              "      <td>1</td>\n",
              "      <td>1950.0</td>\n",
              "      <td>0.0</td>\n",
              "      <td>0.0</td>\n",
              "      <td>0.0</td>\n",
              "    </tr>\n",
              "    <tr>\n",
              "      <th>3</th>\n",
              "      <td>1000</td>\n",
              "      <td>8.0</td>\n",
              "      <td>408.0</td>\n",
              "      <td>14.0</td>\n",
              "      <td>81.0</td>\n",
              "      <td>52</td>\n",
              "      <td>ultra</td>\n",
              "      <td>0</td>\n",
              "      <td>1000</td>\n",
              "      <td>30.0</td>\n",
              "      <td>3000</td>\n",
              "      <td>1950</td>\n",
              "      <td>150</td>\n",
              "      <td>1</td>\n",
              "      <td>1</td>\n",
              "      <td>1950.0</td>\n",
              "      <td>0.0</td>\n",
              "      <td>0.0</td>\n",
              "      <td>0.0</td>\n",
              "    </tr>\n",
              "    <tr>\n",
              "      <th>4</th>\n",
              "      <td>1000</td>\n",
              "      <td>9.0</td>\n",
              "      <td>466.0</td>\n",
              "      <td>15.0</td>\n",
              "      <td>57.0</td>\n",
              "      <td>52</td>\n",
              "      <td>ultra</td>\n",
              "      <td>0</td>\n",
              "      <td>1000</td>\n",
              "      <td>30.0</td>\n",
              "      <td>3000</td>\n",
              "      <td>1950</td>\n",
              "      <td>150</td>\n",
              "      <td>1</td>\n",
              "      <td>1</td>\n",
              "      <td>1950.0</td>\n",
              "      <td>0.0</td>\n",
              "      <td>0.0</td>\n",
              "      <td>0.0</td>\n",
              "    </tr>\n",
              "    <tr>\n",
              "      <th>...</th>\n",
              "      <td>...</td>\n",
              "      <td>...</td>\n",
              "      <td>...</td>\n",
              "      <td>...</td>\n",
              "      <td>...</td>\n",
              "      <td>...</td>\n",
              "      <td>...</td>\n",
              "      <td>...</td>\n",
              "      <td>...</td>\n",
              "      <td>...</td>\n",
              "      <td>...</td>\n",
              "      <td>...</td>\n",
              "      <td>...</td>\n",
              "      <td>...</td>\n",
              "      <td>...</td>\n",
              "      <td>...</td>\n",
              "      <td>...</td>\n",
              "      <td>...</td>\n",
              "      <td>...</td>\n",
              "    </tr>\n",
              "    <tr>\n",
              "      <th>3209</th>\n",
              "      <td>1489</td>\n",
              "      <td>8.0</td>\n",
              "      <td>0.0</td>\n",
              "      <td>11.0</td>\n",
              "      <td>17.0</td>\n",
              "      <td>35</td>\n",
              "      <td>smart</td>\n",
              "      <td>0</td>\n",
              "      <td>50</td>\n",
              "      <td>15.0</td>\n",
              "      <td>500</td>\n",
              "      <td>550</td>\n",
              "      <td>200</td>\n",
              "      <td>3</td>\n",
              "      <td>3</td>\n",
              "      <td>550.0</td>\n",
              "      <td>0.0</td>\n",
              "      <td>0.0</td>\n",
              "      <td>0.0</td>\n",
              "    </tr>\n",
              "    <tr>\n",
              "      <th>3210</th>\n",
              "      <td>1489</td>\n",
              "      <td>9.0</td>\n",
              "      <td>0.0</td>\n",
              "      <td>17.0</td>\n",
              "      <td>32.0</td>\n",
              "      <td>35</td>\n",
              "      <td>smart</td>\n",
              "      <td>0</td>\n",
              "      <td>50</td>\n",
              "      <td>15.0</td>\n",
              "      <td>500</td>\n",
              "      <td>550</td>\n",
              "      <td>200</td>\n",
              "      <td>3</td>\n",
              "      <td>3</td>\n",
              "      <td>950.0</td>\n",
              "      <td>0.0</td>\n",
              "      <td>2.0</td>\n",
              "      <td>0.0</td>\n",
              "    </tr>\n",
              "    <tr>\n",
              "      <th>3211</th>\n",
              "      <td>1489</td>\n",
              "      <td>10.0</td>\n",
              "      <td>0.0</td>\n",
              "      <td>20.0</td>\n",
              "      <td>21.0</td>\n",
              "      <td>35</td>\n",
              "      <td>smart</td>\n",
              "      <td>0</td>\n",
              "      <td>50</td>\n",
              "      <td>15.0</td>\n",
              "      <td>500</td>\n",
              "      <td>550</td>\n",
              "      <td>200</td>\n",
              "      <td>3</td>\n",
              "      <td>3</td>\n",
              "      <td>1550.0</td>\n",
              "      <td>0.0</td>\n",
              "      <td>5.0</td>\n",
              "      <td>0.0</td>\n",
              "    </tr>\n",
              "    <tr>\n",
              "      <th>3212</th>\n",
              "      <td>1489</td>\n",
              "      <td>11.0</td>\n",
              "      <td>0.0</td>\n",
              "      <td>18.0</td>\n",
              "      <td>20.0</td>\n",
              "      <td>35</td>\n",
              "      <td>smart</td>\n",
              "      <td>0</td>\n",
              "      <td>50</td>\n",
              "      <td>15.0</td>\n",
              "      <td>500</td>\n",
              "      <td>550</td>\n",
              "      <td>200</td>\n",
              "      <td>3</td>\n",
              "      <td>3</td>\n",
              "      <td>1150.0</td>\n",
              "      <td>0.0</td>\n",
              "      <td>3.0</td>\n",
              "      <td>0.0</td>\n",
              "    </tr>\n",
              "    <tr>\n",
              "      <th>3213</th>\n",
              "      <td>1489</td>\n",
              "      <td>12.0</td>\n",
              "      <td>0.0</td>\n",
              "      <td>17.0</td>\n",
              "      <td>35.0</td>\n",
              "      <td>35</td>\n",
              "      <td>smart</td>\n",
              "      <td>0</td>\n",
              "      <td>50</td>\n",
              "      <td>15.0</td>\n",
              "      <td>500</td>\n",
              "      <td>550</td>\n",
              "      <td>200</td>\n",
              "      <td>3</td>\n",
              "      <td>3</td>\n",
              "      <td>950.0</td>\n",
              "      <td>0.0</td>\n",
              "      <td>2.0</td>\n",
              "      <td>0.0</td>\n",
              "    </tr>\n",
              "  </tbody>\n",
              "</table>\n",
              "<p>3214 rows × 19 columns</p>\n",
              "</div>\n",
              "      <button class=\"colab-df-convert\" onclick=\"convertToInteractive('df-4ea7de4c-e365-4a1d-a13c-592e6853073d')\"\n",
              "              title=\"Convert this dataframe to an interactive table.\"\n",
              "              style=\"display:none;\">\n",
              "        \n",
              "  <svg xmlns=\"http://www.w3.org/2000/svg\" height=\"24px\"viewBox=\"0 0 24 24\"\n",
              "       width=\"24px\">\n",
              "    <path d=\"M0 0h24v24H0V0z\" fill=\"none\"/>\n",
              "    <path d=\"M18.56 5.44l.94 2.06.94-2.06 2.06-.94-2.06-.94-.94-2.06-.94 2.06-2.06.94zm-11 1L8.5 8.5l.94-2.06 2.06-.94-2.06-.94L8.5 2.5l-.94 2.06-2.06.94zm10 10l.94 2.06.94-2.06 2.06-.94-2.06-.94-.94-2.06-.94 2.06-2.06.94z\"/><path d=\"M17.41 7.96l-1.37-1.37c-.4-.4-.92-.59-1.43-.59-.52 0-1.04.2-1.43.59L10.3 9.45l-7.72 7.72c-.78.78-.78 2.05 0 2.83L4 21.41c.39.39.9.59 1.41.59.51 0 1.02-.2 1.41-.59l7.78-7.78 2.81-2.81c.8-.78.8-2.07 0-2.86zM5.41 20L4 18.59l7.72-7.72 1.47 1.35L5.41 20z\"/>\n",
              "  </svg>\n",
              "      </button>\n",
              "      \n",
              "  <style>\n",
              "    .colab-df-container {\n",
              "      display:flex;\n",
              "      flex-wrap:wrap;\n",
              "      gap: 12px;\n",
              "    }\n",
              "\n",
              "    .colab-df-convert {\n",
              "      background-color: #E8F0FE;\n",
              "      border: none;\n",
              "      border-radius: 50%;\n",
              "      cursor: pointer;\n",
              "      display: none;\n",
              "      fill: #1967D2;\n",
              "      height: 32px;\n",
              "      padding: 0 0 0 0;\n",
              "      width: 32px;\n",
              "    }\n",
              "\n",
              "    .colab-df-convert:hover {\n",
              "      background-color: #E2EBFA;\n",
              "      box-shadow: 0px 1px 2px rgba(60, 64, 67, 0.3), 0px 1px 3px 1px rgba(60, 64, 67, 0.15);\n",
              "      fill: #174EA6;\n",
              "    }\n",
              "\n",
              "    [theme=dark] .colab-df-convert {\n",
              "      background-color: #3B4455;\n",
              "      fill: #D2E3FC;\n",
              "    }\n",
              "\n",
              "    [theme=dark] .colab-df-convert:hover {\n",
              "      background-color: #434B5C;\n",
              "      box-shadow: 0px 1px 3px 1px rgba(0, 0, 0, 0.15);\n",
              "      filter: drop-shadow(0px 1px 2px rgba(0, 0, 0, 0.3));\n",
              "      fill: #FFFFFF;\n",
              "    }\n",
              "  </style>\n",
              "\n",
              "      <script>\n",
              "        const buttonEl =\n",
              "          document.querySelector('#df-4ea7de4c-e365-4a1d-a13c-592e6853073d button.colab-df-convert');\n",
              "        buttonEl.style.display =\n",
              "          google.colab.kernel.accessAllowed ? 'block' : 'none';\n",
              "\n",
              "        async function convertToInteractive(key) {\n",
              "          const element = document.querySelector('#df-4ea7de4c-e365-4a1d-a13c-592e6853073d');\n",
              "          const dataTable =\n",
              "            await google.colab.kernel.invokeFunction('convertToInteractive',\n",
              "                                                     [key], {});\n",
              "          if (!dataTable) return;\n",
              "\n",
              "          const docLinkHtml = 'Like what you see? Visit the ' +\n",
              "            '<a target=\"_blank\" href=https://colab.research.google.com/notebooks/data_table.ipynb>data table notebook</a>'\n",
              "            + ' to learn more about interactive tables.';\n",
              "          element.innerHTML = '';\n",
              "          dataTable['output_type'] = 'display_data';\n",
              "          await google.colab.output.renderOutput(dataTable, element);\n",
              "          const docLink = document.createElement('div');\n",
              "          docLink.innerHTML = docLinkHtml;\n",
              "          element.appendChild(docLink);\n",
              "        }\n",
              "      </script>\n",
              "    </div>\n",
              "  </div>\n",
              "  "
            ]
          },
          "metadata": {},
          "execution_count": 28
        }
      ],
      "source": [
        "df['bill'] = (df['sms_left'] * df['rub_per_sms'] +\n",
        "              df['gb_left'] * df['rub_per_gb'] + \n",
        "              df['mins_left'] * df['rub_per_min'] +\n",
        "              df['bill'])\n",
        "df"
      ]
    },
    {
      "cell_type": "markdown",
      "metadata": {
        "id": "_i203U5g_UDH"
      },
      "source": [
        "Теперь нам не нужны переменные, связанные с описанием тарифа, уберём их из рабочей базы."
      ]
    },
    {
      "cell_type": "code",
      "execution_count": 29,
      "metadata": {
        "colab": {
          "base_uri": "https://localhost:8080/",
          "height": 424
        },
        "id": "Xx5hvuRp_UDH",
        "outputId": "9da433af-f46e-41b4-977d-8600bbb78818"
      },
      "outputs": [
        {
          "output_type": "execute_result",
          "data": {
            "text/plain": [
              "      user_id  month  calls    gb   sms  age tariff  city_grouped    bill\n",
              "0        1000    5.0  159.0   3.0  22.0   52  ultra             0  1950.0\n",
              "1        1000    6.0  172.0  23.0  60.0   52  ultra             0  1950.0\n",
              "2        1000    7.0  340.0  14.0  75.0   52  ultra             0  1950.0\n",
              "3        1000    8.0  408.0  14.0  81.0   52  ultra             0  1950.0\n",
              "4        1000    9.0  466.0  15.0  57.0   52  ultra             0  1950.0\n",
              "...       ...    ...    ...   ...   ...  ...    ...           ...     ...\n",
              "3209     1489    8.0    0.0  11.0  17.0   35  smart             0   550.0\n",
              "3210     1489    9.0    0.0  17.0  32.0   35  smart             0   950.0\n",
              "3211     1489   10.0    0.0  20.0  21.0   35  smart             0  1550.0\n",
              "3212     1489   11.0    0.0  18.0  20.0   35  smart             0  1150.0\n",
              "3213     1489   12.0    0.0  17.0  35.0   35  smart             0   950.0\n",
              "\n",
              "[3214 rows x 9 columns]"
            ],
            "text/html": [
              "\n",
              "  <div id=\"df-0ff428f0-4a7f-4beb-95ab-6c37ff310e29\">\n",
              "    <div class=\"colab-df-container\">\n",
              "      <div>\n",
              "<style scoped>\n",
              "    .dataframe tbody tr th:only-of-type {\n",
              "        vertical-align: middle;\n",
              "    }\n",
              "\n",
              "    .dataframe tbody tr th {\n",
              "        vertical-align: top;\n",
              "    }\n",
              "\n",
              "    .dataframe thead th {\n",
              "        text-align: right;\n",
              "    }\n",
              "</style>\n",
              "<table border=\"1\" class=\"dataframe\">\n",
              "  <thead>\n",
              "    <tr style=\"text-align: right;\">\n",
              "      <th></th>\n",
              "      <th>user_id</th>\n",
              "      <th>month</th>\n",
              "      <th>calls</th>\n",
              "      <th>gb</th>\n",
              "      <th>sms</th>\n",
              "      <th>age</th>\n",
              "      <th>tariff</th>\n",
              "      <th>city_grouped</th>\n",
              "      <th>bill</th>\n",
              "    </tr>\n",
              "  </thead>\n",
              "  <tbody>\n",
              "    <tr>\n",
              "      <th>0</th>\n",
              "      <td>1000</td>\n",
              "      <td>5.0</td>\n",
              "      <td>159.0</td>\n",
              "      <td>3.0</td>\n",
              "      <td>22.0</td>\n",
              "      <td>52</td>\n",
              "      <td>ultra</td>\n",
              "      <td>0</td>\n",
              "      <td>1950.0</td>\n",
              "    </tr>\n",
              "    <tr>\n",
              "      <th>1</th>\n",
              "      <td>1000</td>\n",
              "      <td>6.0</td>\n",
              "      <td>172.0</td>\n",
              "      <td>23.0</td>\n",
              "      <td>60.0</td>\n",
              "      <td>52</td>\n",
              "      <td>ultra</td>\n",
              "      <td>0</td>\n",
              "      <td>1950.0</td>\n",
              "    </tr>\n",
              "    <tr>\n",
              "      <th>2</th>\n",
              "      <td>1000</td>\n",
              "      <td>7.0</td>\n",
              "      <td>340.0</td>\n",
              "      <td>14.0</td>\n",
              "      <td>75.0</td>\n",
              "      <td>52</td>\n",
              "      <td>ultra</td>\n",
              "      <td>0</td>\n",
              "      <td>1950.0</td>\n",
              "    </tr>\n",
              "    <tr>\n",
              "      <th>3</th>\n",
              "      <td>1000</td>\n",
              "      <td>8.0</td>\n",
              "      <td>408.0</td>\n",
              "      <td>14.0</td>\n",
              "      <td>81.0</td>\n",
              "      <td>52</td>\n",
              "      <td>ultra</td>\n",
              "      <td>0</td>\n",
              "      <td>1950.0</td>\n",
              "    </tr>\n",
              "    <tr>\n",
              "      <th>4</th>\n",
              "      <td>1000</td>\n",
              "      <td>9.0</td>\n",
              "      <td>466.0</td>\n",
              "      <td>15.0</td>\n",
              "      <td>57.0</td>\n",
              "      <td>52</td>\n",
              "      <td>ultra</td>\n",
              "      <td>0</td>\n",
              "      <td>1950.0</td>\n",
              "    </tr>\n",
              "    <tr>\n",
              "      <th>...</th>\n",
              "      <td>...</td>\n",
              "      <td>...</td>\n",
              "      <td>...</td>\n",
              "      <td>...</td>\n",
              "      <td>...</td>\n",
              "      <td>...</td>\n",
              "      <td>...</td>\n",
              "      <td>...</td>\n",
              "      <td>...</td>\n",
              "    </tr>\n",
              "    <tr>\n",
              "      <th>3209</th>\n",
              "      <td>1489</td>\n",
              "      <td>8.0</td>\n",
              "      <td>0.0</td>\n",
              "      <td>11.0</td>\n",
              "      <td>17.0</td>\n",
              "      <td>35</td>\n",
              "      <td>smart</td>\n",
              "      <td>0</td>\n",
              "      <td>550.0</td>\n",
              "    </tr>\n",
              "    <tr>\n",
              "      <th>3210</th>\n",
              "      <td>1489</td>\n",
              "      <td>9.0</td>\n",
              "      <td>0.0</td>\n",
              "      <td>17.0</td>\n",
              "      <td>32.0</td>\n",
              "      <td>35</td>\n",
              "      <td>smart</td>\n",
              "      <td>0</td>\n",
              "      <td>950.0</td>\n",
              "    </tr>\n",
              "    <tr>\n",
              "      <th>3211</th>\n",
              "      <td>1489</td>\n",
              "      <td>10.0</td>\n",
              "      <td>0.0</td>\n",
              "      <td>20.0</td>\n",
              "      <td>21.0</td>\n",
              "      <td>35</td>\n",
              "      <td>smart</td>\n",
              "      <td>0</td>\n",
              "      <td>1550.0</td>\n",
              "    </tr>\n",
              "    <tr>\n",
              "      <th>3212</th>\n",
              "      <td>1489</td>\n",
              "      <td>11.0</td>\n",
              "      <td>0.0</td>\n",
              "      <td>18.0</td>\n",
              "      <td>20.0</td>\n",
              "      <td>35</td>\n",
              "      <td>smart</td>\n",
              "      <td>0</td>\n",
              "      <td>1150.0</td>\n",
              "    </tr>\n",
              "    <tr>\n",
              "      <th>3213</th>\n",
              "      <td>1489</td>\n",
              "      <td>12.0</td>\n",
              "      <td>0.0</td>\n",
              "      <td>17.0</td>\n",
              "      <td>35.0</td>\n",
              "      <td>35</td>\n",
              "      <td>smart</td>\n",
              "      <td>0</td>\n",
              "      <td>950.0</td>\n",
              "    </tr>\n",
              "  </tbody>\n",
              "</table>\n",
              "<p>3214 rows × 9 columns</p>\n",
              "</div>\n",
              "      <button class=\"colab-df-convert\" onclick=\"convertToInteractive('df-0ff428f0-4a7f-4beb-95ab-6c37ff310e29')\"\n",
              "              title=\"Convert this dataframe to an interactive table.\"\n",
              "              style=\"display:none;\">\n",
              "        \n",
              "  <svg xmlns=\"http://www.w3.org/2000/svg\" height=\"24px\"viewBox=\"0 0 24 24\"\n",
              "       width=\"24px\">\n",
              "    <path d=\"M0 0h24v24H0V0z\" fill=\"none\"/>\n",
              "    <path d=\"M18.56 5.44l.94 2.06.94-2.06 2.06-.94-2.06-.94-.94-2.06-.94 2.06-2.06.94zm-11 1L8.5 8.5l.94-2.06 2.06-.94-2.06-.94L8.5 2.5l-.94 2.06-2.06.94zm10 10l.94 2.06.94-2.06 2.06-.94-2.06-.94-.94-2.06-.94 2.06-2.06.94z\"/><path d=\"M17.41 7.96l-1.37-1.37c-.4-.4-.92-.59-1.43-.59-.52 0-1.04.2-1.43.59L10.3 9.45l-7.72 7.72c-.78.78-.78 2.05 0 2.83L4 21.41c.39.39.9.59 1.41.59.51 0 1.02-.2 1.41-.59l7.78-7.78 2.81-2.81c.8-.78.8-2.07 0-2.86zM5.41 20L4 18.59l7.72-7.72 1.47 1.35L5.41 20z\"/>\n",
              "  </svg>\n",
              "      </button>\n",
              "      \n",
              "  <style>\n",
              "    .colab-df-container {\n",
              "      display:flex;\n",
              "      flex-wrap:wrap;\n",
              "      gap: 12px;\n",
              "    }\n",
              "\n",
              "    .colab-df-convert {\n",
              "      background-color: #E8F0FE;\n",
              "      border: none;\n",
              "      border-radius: 50%;\n",
              "      cursor: pointer;\n",
              "      display: none;\n",
              "      fill: #1967D2;\n",
              "      height: 32px;\n",
              "      padding: 0 0 0 0;\n",
              "      width: 32px;\n",
              "    }\n",
              "\n",
              "    .colab-df-convert:hover {\n",
              "      background-color: #E2EBFA;\n",
              "      box-shadow: 0px 1px 2px rgba(60, 64, 67, 0.3), 0px 1px 3px 1px rgba(60, 64, 67, 0.15);\n",
              "      fill: #174EA6;\n",
              "    }\n",
              "\n",
              "    [theme=dark] .colab-df-convert {\n",
              "      background-color: #3B4455;\n",
              "      fill: #D2E3FC;\n",
              "    }\n",
              "\n",
              "    [theme=dark] .colab-df-convert:hover {\n",
              "      background-color: #434B5C;\n",
              "      box-shadow: 0px 1px 3px 1px rgba(0, 0, 0, 0.15);\n",
              "      filter: drop-shadow(0px 1px 2px rgba(0, 0, 0, 0.3));\n",
              "      fill: #FFFFFF;\n",
              "    }\n",
              "  </style>\n",
              "\n",
              "      <script>\n",
              "        const buttonEl =\n",
              "          document.querySelector('#df-0ff428f0-4a7f-4beb-95ab-6c37ff310e29 button.colab-df-convert');\n",
              "        buttonEl.style.display =\n",
              "          google.colab.kernel.accessAllowed ? 'block' : 'none';\n",
              "\n",
              "        async function convertToInteractive(key) {\n",
              "          const element = document.querySelector('#df-0ff428f0-4a7f-4beb-95ab-6c37ff310e29');\n",
              "          const dataTable =\n",
              "            await google.colab.kernel.invokeFunction('convertToInteractive',\n",
              "                                                     [key], {});\n",
              "          if (!dataTable) return;\n",
              "\n",
              "          const docLinkHtml = 'Like what you see? Visit the ' +\n",
              "            '<a target=\"_blank\" href=https://colab.research.google.com/notebooks/data_table.ipynb>data table notebook</a>'\n",
              "            + ' to learn more about interactive tables.';\n",
              "          element.innerHTML = '';\n",
              "          dataTable['output_type'] = 'display_data';\n",
              "          await google.colab.output.renderOutput(dataTable, element);\n",
              "          const docLink = document.createElement('div');\n",
              "          docLink.innerHTML = docLinkHtml;\n",
              "          element.appendChild(docLink);\n",
              "        }\n",
              "      </script>\n",
              "    </div>\n",
              "  </div>\n",
              "  "
            ]
          },
          "metadata": {},
          "execution_count": 29
        }
      ],
      "source": [
        "df = df.drop(['sms_limit', \n",
        "              'gb_limit',\n",
        "              'mins_limit',\n",
        "              'rub_monthly_fee',\n",
        "              'rub_per_gb',\n",
        "              'rub_per_sms',\n",
        "              'rub_per_min',\n",
        "              'sms_left',\n",
        "              'gb_left',\n",
        "              'mins_left'], axis = 1)\n",
        "\n",
        "df"
      ]
    },
    {
      "cell_type": "markdown",
      "metadata": {
        "id": "b9dw9zQR_UDI"
      },
      "source": [
        "### Вывод"
      ]
    },
    {
      "cell_type": "markdown",
      "metadata": {
        "id": "1KKxIfNN_UDI"
      },
      "source": [
        "Итак, мы посчитали для каждого пользователя:\n",
        "- количество сделанных звонков и израсходованных минут разговора помесячно;\n",
        "- количество отправленных сообщений помесячно;\n",
        "- объем израсходованного интернет-трафика помесячно;\n",
        "- помесячную выручку с каждого пользователя."
      ]
    },
    {
      "cell_type": "markdown",
      "metadata": {
        "id": "F7IU70Rw_UDI"
      },
      "source": [
        "## Анализ основных переменных"
      ]
    },
    {
      "cell_type": "markdown",
      "metadata": {
        "id": "8WSnkfEU_UDI"
      },
      "source": [
        "Опишем поведение клиентов оператора, исходя из выборки."
      ]
    },
    {
      "cell_type": "markdown",
      "metadata": {
        "id": "EPpjnNXQ_UDJ"
      },
      "source": [
        "### Сколько минут разговора требуется пользователям каждого тарифа в месяц?"
      ]
    },
    {
      "cell_type": "markdown",
      "metadata": {
        "id": "ue53F1Ht_UDJ"
      },
      "source": [
        "Посмотрим на описательные статистики переменной:"
      ]
    },
    {
      "cell_type": "code",
      "execution_count": 30,
      "metadata": {
        "colab": {
          "base_uri": "https://localhost:8080/",
          "height": 143
        },
        "id": "gbNDtOym_UDJ",
        "outputId": "21fbea53-a690-43b9-d2fe-bb76873722ed"
      },
      "outputs": [
        {
          "output_type": "execute_result",
          "data": {
            "text/plain": [
              "         count        mean         std  min    25%    50%    75%     max\n",
              "tariff                                                                  \n",
              "smart   2229.0  417.934948  190.313730  0.0  282.0  422.0  545.0  1435.0\n",
              "ultra    985.0  526.623350  317.606098  0.0  284.0  518.0  752.0  1673.0"
            ],
            "text/html": [
              "\n",
              "  <div id=\"df-8efffd5d-9e4f-4263-8905-e85fa49ce201\">\n",
              "    <div class=\"colab-df-container\">\n",
              "      <div>\n",
              "<style scoped>\n",
              "    .dataframe tbody tr th:only-of-type {\n",
              "        vertical-align: middle;\n",
              "    }\n",
              "\n",
              "    .dataframe tbody tr th {\n",
              "        vertical-align: top;\n",
              "    }\n",
              "\n",
              "    .dataframe thead th {\n",
              "        text-align: right;\n",
              "    }\n",
              "</style>\n",
              "<table border=\"1\" class=\"dataframe\">\n",
              "  <thead>\n",
              "    <tr style=\"text-align: right;\">\n",
              "      <th></th>\n",
              "      <th>count</th>\n",
              "      <th>mean</th>\n",
              "      <th>std</th>\n",
              "      <th>min</th>\n",
              "      <th>25%</th>\n",
              "      <th>50%</th>\n",
              "      <th>75%</th>\n",
              "      <th>max</th>\n",
              "    </tr>\n",
              "    <tr>\n",
              "      <th>tariff</th>\n",
              "      <th></th>\n",
              "      <th></th>\n",
              "      <th></th>\n",
              "      <th></th>\n",
              "      <th></th>\n",
              "      <th></th>\n",
              "      <th></th>\n",
              "      <th></th>\n",
              "    </tr>\n",
              "  </thead>\n",
              "  <tbody>\n",
              "    <tr>\n",
              "      <th>smart</th>\n",
              "      <td>2229.0</td>\n",
              "      <td>417.934948</td>\n",
              "      <td>190.313730</td>\n",
              "      <td>0.0</td>\n",
              "      <td>282.0</td>\n",
              "      <td>422.0</td>\n",
              "      <td>545.0</td>\n",
              "      <td>1435.0</td>\n",
              "    </tr>\n",
              "    <tr>\n",
              "      <th>ultra</th>\n",
              "      <td>985.0</td>\n",
              "      <td>526.623350</td>\n",
              "      <td>317.606098</td>\n",
              "      <td>0.0</td>\n",
              "      <td>284.0</td>\n",
              "      <td>518.0</td>\n",
              "      <td>752.0</td>\n",
              "      <td>1673.0</td>\n",
              "    </tr>\n",
              "  </tbody>\n",
              "</table>\n",
              "</div>\n",
              "      <button class=\"colab-df-convert\" onclick=\"convertToInteractive('df-8efffd5d-9e4f-4263-8905-e85fa49ce201')\"\n",
              "              title=\"Convert this dataframe to an interactive table.\"\n",
              "              style=\"display:none;\">\n",
              "        \n",
              "  <svg xmlns=\"http://www.w3.org/2000/svg\" height=\"24px\"viewBox=\"0 0 24 24\"\n",
              "       width=\"24px\">\n",
              "    <path d=\"M0 0h24v24H0V0z\" fill=\"none\"/>\n",
              "    <path d=\"M18.56 5.44l.94 2.06.94-2.06 2.06-.94-2.06-.94-.94-2.06-.94 2.06-2.06.94zm-11 1L8.5 8.5l.94-2.06 2.06-.94-2.06-.94L8.5 2.5l-.94 2.06-2.06.94zm10 10l.94 2.06.94-2.06 2.06-.94-2.06-.94-.94-2.06-.94 2.06-2.06.94z\"/><path d=\"M17.41 7.96l-1.37-1.37c-.4-.4-.92-.59-1.43-.59-.52 0-1.04.2-1.43.59L10.3 9.45l-7.72 7.72c-.78.78-.78 2.05 0 2.83L4 21.41c.39.39.9.59 1.41.59.51 0 1.02-.2 1.41-.59l7.78-7.78 2.81-2.81c.8-.78.8-2.07 0-2.86zM5.41 20L4 18.59l7.72-7.72 1.47 1.35L5.41 20z\"/>\n",
              "  </svg>\n",
              "      </button>\n",
              "      \n",
              "  <style>\n",
              "    .colab-df-container {\n",
              "      display:flex;\n",
              "      flex-wrap:wrap;\n",
              "      gap: 12px;\n",
              "    }\n",
              "\n",
              "    .colab-df-convert {\n",
              "      background-color: #E8F0FE;\n",
              "      border: none;\n",
              "      border-radius: 50%;\n",
              "      cursor: pointer;\n",
              "      display: none;\n",
              "      fill: #1967D2;\n",
              "      height: 32px;\n",
              "      padding: 0 0 0 0;\n",
              "      width: 32px;\n",
              "    }\n",
              "\n",
              "    .colab-df-convert:hover {\n",
              "      background-color: #E2EBFA;\n",
              "      box-shadow: 0px 1px 2px rgba(60, 64, 67, 0.3), 0px 1px 3px 1px rgba(60, 64, 67, 0.15);\n",
              "      fill: #174EA6;\n",
              "    }\n",
              "\n",
              "    [theme=dark] .colab-df-convert {\n",
              "      background-color: #3B4455;\n",
              "      fill: #D2E3FC;\n",
              "    }\n",
              "\n",
              "    [theme=dark] .colab-df-convert:hover {\n",
              "      background-color: #434B5C;\n",
              "      box-shadow: 0px 1px 3px 1px rgba(0, 0, 0, 0.15);\n",
              "      filter: drop-shadow(0px 1px 2px rgba(0, 0, 0, 0.3));\n",
              "      fill: #FFFFFF;\n",
              "    }\n",
              "  </style>\n",
              "\n",
              "      <script>\n",
              "        const buttonEl =\n",
              "          document.querySelector('#df-8efffd5d-9e4f-4263-8905-e85fa49ce201 button.colab-df-convert');\n",
              "        buttonEl.style.display =\n",
              "          google.colab.kernel.accessAllowed ? 'block' : 'none';\n",
              "\n",
              "        async function convertToInteractive(key) {\n",
              "          const element = document.querySelector('#df-8efffd5d-9e4f-4263-8905-e85fa49ce201');\n",
              "          const dataTable =\n",
              "            await google.colab.kernel.invokeFunction('convertToInteractive',\n",
              "                                                     [key], {});\n",
              "          if (!dataTable) return;\n",
              "\n",
              "          const docLinkHtml = 'Like what you see? Visit the ' +\n",
              "            '<a target=\"_blank\" href=https://colab.research.google.com/notebooks/data_table.ipynb>data table notebook</a>'\n",
              "            + ' to learn more about interactive tables.';\n",
              "          element.innerHTML = '';\n",
              "          dataTable['output_type'] = 'display_data';\n",
              "          await google.colab.output.renderOutput(dataTable, element);\n",
              "          const docLink = document.createElement('div');\n",
              "          docLink.innerHTML = docLinkHtml;\n",
              "          element.appendChild(docLink);\n",
              "        }\n",
              "      </script>\n",
              "    </div>\n",
              "  </div>\n",
              "  "
            ]
          },
          "metadata": {},
          "execution_count": 30
        }
      ],
      "source": [
        "df.groupby('tariff')['calls'].describe()"
      ]
    },
    {
      "cell_type": "markdown",
      "metadata": {
        "id": "DHk1oIMd_UDJ"
      },
      "source": [
        "Пользователи тарифа ultra звонят в среднем на 109 минут больше, возможно, имея больший психологический лимит на длину звонков. Стандартное отклонение в тарифе ultra существенно выше, т.е. и количество пользователей, которые звонят существенно больше среднего (или не звонят вообще, используя только интернет) в данном тарифе больше. Посмотрим на дисперсию длительности звонков в каждой группе пользователей."
      ]
    },
    {
      "cell_type": "code",
      "execution_count": 31,
      "metadata": {
        "colab": {
          "base_uri": "https://localhost:8080/"
        },
        "id": "UQSCX4OO_UDK",
        "outputId": "6f4a9cfb-f1d8-47ec-c963-940cb8048166"
      },
      "outputs": [
        {
          "output_type": "stream",
          "name": "stdout",
          "text": [
            "Дисперсия длины звонков тарифа 'ultra' 100873.63339730098\n",
            "Дисперсия длины звонков тарифа 'smart' 36219.31578434428\n"
          ]
        }
      ],
      "source": [
        "print(\"Дисперсия длины звонков тарифа 'ultra'\",\n",
        "      np.var(df.query(\"tariff == 'ultra'\")['calls'], ddof=1))\n",
        "\n",
        "print(\"Дисперсия длины звонков тарифа 'smart'\",\n",
        "      np.var(df.query(\"tariff == 'smart'\")['calls'], ddof=1))"
      ]
    },
    {
      "cell_type": "markdown",
      "metadata": {
        "id": "cI5Kx0lb_UDK"
      },
      "source": [
        "Дисперсия в двух группах так же, как и стандартное отклонение, отличается существенно, т.к. эти показатели связаны. Предположим, что среди пользователей тарифа ultra выше полярность: больше тех, кто не пользуется звонками совсем или пользуется ими очень активно."
      ]
    },
    {
      "cell_type": "code",
      "execution_count": 32,
      "metadata": {
        "colab": {
          "base_uri": "https://localhost:8080/",
          "height": 458
        },
        "id": "CJCUnNDM_UDK",
        "outputId": "f25b8500-faa8-4687-e352-28b0e07ebfb8"
      },
      "outputs": [
        {
          "output_type": "display_data",
          "data": {
            "text/plain": [
              "<Figure size 720x504 with 1 Axes>"
            ],
            "image/png": "[encoded data removed]"
          },
          "metadata": {
            "needs_background": "light"
          }
        }
      ],
      "source": [
        "df.query(\"tariff == 'smart'\")['calls'].hist(\n",
        "    color='blue',\n",
        "    grid=False,\n",
        "    alpha=0.6,\n",
        "    bins=30,\n",
        "    figsize=(10,7))\n",
        "\n",
        "df.query(\"tariff == 'ultra'\")['calls'].hist(\n",
        "    color='purple',\n",
        "    grid=False,\n",
        "    alpha=0.6,\n",
        "    bins=30,\n",
        "    figsize=(10,7))\n",
        "\n",
        "plt.legend(['smart','ultra'])\n",
        "plt.title('Частотное распределение длительности звонков в тарифах')\n",
        "plt.xlabel('длительность звонков в месяц')\n",
        "plt.ylabel('количество случаев в выборке')\n",
        "plt.show()"
      ]
    },
    {
      "cell_type": "markdown",
      "metadata": {
        "id": "j8Hmr3OK_UDL"
      },
      "source": [
        "Действительно среди пользователей тарифа ultra относительная доля тех, кто вовсе не звонит, высока. Причём распределение скорее равномерное, чем нормальное. Длительность звонков пользователей тарифа smart распределена нормально. Примечательно, что даже самые \"разговорчивые\" пользователи тарифа ultra не тратят максимальный лимит минут по тарифу за месяц - 3000. То есть возможность тратить минуты сколько угодно повышает потребление звонков в среднем на четверть, а не в 6 раз, как прописано в описании тарифа."
      ]
    },
    {
      "cell_type": "markdown",
      "metadata": {
        "id": "aYx5qPFL_UDL"
      },
      "source": [
        "### Сколько сообщений требуется пользователям каждого тарифа в месяц?"
      ]
    },
    {
      "cell_type": "markdown",
      "metadata": {
        "id": "ZL7xfGMt_UDL"
      },
      "source": [
        "Посмотрим на описательные статистики переменной числа сообщений:"
      ]
    },
    {
      "cell_type": "code",
      "execution_count": 33,
      "metadata": {
        "colab": {
          "base_uri": "https://localhost:8080/",
          "height": 143
        },
        "id": "t_Loogo1_UDL",
        "outputId": "07900a2c-3e78-4964-857a-26683aada99f"
      },
      "outputs": [
        {
          "output_type": "execute_result",
          "data": {
            "text/plain": [
              "         count       mean        std  min   25%   50%   75%    max\n",
              "tariff                                                            \n",
              "smart   2229.0  33.384029  28.227876  0.0  10.0  28.0  51.0  143.0\n",
              "ultra    985.0  49.363452  47.804457  0.0   6.0  38.0  79.0  224.0"
            ],
            "text/html": [
              "\n",
              "  <div id=\"df-e19f8a76-378c-44a5-8e14-a7013b4b2510\">\n",
              "    <div class=\"colab-df-container\">\n",
              "      <div>\n",
              "<style scoped>\n",
              "    .dataframe tbody tr th:only-of-type {\n",
              "        vertical-align: middle;\n",
              "    }\n",
              "\n",
              "    .dataframe tbody tr th {\n",
              "        vertical-align: top;\n",
              "    }\n",
              "\n",
              "    .dataframe thead th {\n",
              "        text-align: right;\n",
              "    }\n",
              "</style>\n",
              "<table border=\"1\" class=\"dataframe\">\n",
              "  <thead>\n",
              "    <tr style=\"text-align: right;\">\n",
              "      <th></th>\n",
              "      <th>count</th>\n",
              "      <th>mean</th>\n",
              "      <th>std</th>\n",
              "      <th>min</th>\n",
              "      <th>25%</th>\n",
              "      <th>50%</th>\n",
              "      <th>75%</th>\n",
              "      <th>max</th>\n",
              "    </tr>\n",
              "    <tr>\n",
              "      <th>tariff</th>\n",
              "      <th></th>\n",
              "      <th></th>\n",
              "      <th></th>\n",
              "      <th></th>\n",
              "      <th></th>\n",
              "      <th></th>\n",
              "      <th></th>\n",
              "      <th></th>\n",
              "    </tr>\n",
              "  </thead>\n",
              "  <tbody>\n",
              "    <tr>\n",
              "      <th>smart</th>\n",
              "      <td>2229.0</td>\n",
              "      <td>33.384029</td>\n",
              "      <td>28.227876</td>\n",
              "      <td>0.0</td>\n",
              "      <td>10.0</td>\n",
              "      <td>28.0</td>\n",
              "      <td>51.0</td>\n",
              "      <td>143.0</td>\n",
              "    </tr>\n",
              "    <tr>\n",
              "      <th>ultra</th>\n",
              "      <td>985.0</td>\n",
              "      <td>49.363452</td>\n",
              "      <td>47.804457</td>\n",
              "      <td>0.0</td>\n",
              "      <td>6.0</td>\n",
              "      <td>38.0</td>\n",
              "      <td>79.0</td>\n",
              "      <td>224.0</td>\n",
              "    </tr>\n",
              "  </tbody>\n",
              "</table>\n",
              "</div>\n",
              "      <button class=\"colab-df-convert\" onclick=\"convertToInteractive('df-e19f8a76-378c-44a5-8e14-a7013b4b2510')\"\n",
              "              title=\"Convert this dataframe to an interactive table.\"\n",
              "              style=\"display:none;\">\n",
              "        \n",
              "  <svg xmlns=\"http://www.w3.org/2000/svg\" height=\"24px\"viewBox=\"0 0 24 24\"\n",
              "       width=\"24px\">\n",
              "    <path d=\"M0 0h24v24H0V0z\" fill=\"none\"/>\n",
              "    <path d=\"M18.56 5.44l.94 2.06.94-2.06 2.06-.94-2.06-.94-.94-2.06-.94 2.06-2.06.94zm-11 1L8.5 8.5l.94-2.06 2.06-.94-2.06-.94L8.5 2.5l-.94 2.06-2.06.94zm10 10l.94 2.06.94-2.06 2.06-.94-2.06-.94-.94-2.06-.94 2.06-2.06.94z\"/><path d=\"M17.41 7.96l-1.37-1.37c-.4-.4-.92-.59-1.43-.59-.52 0-1.04.2-1.43.59L10.3 9.45l-7.72 7.72c-.78.78-.78 2.05 0 2.83L4 21.41c.39.39.9.59 1.41.59.51 0 1.02-.2 1.41-.59l7.78-7.78 2.81-2.81c.8-.78.8-2.07 0-2.86zM5.41 20L4 18.59l7.72-7.72 1.47 1.35L5.41 20z\"/>\n",
              "  </svg>\n",
              "      </button>\n",
              "      \n",
              "  <style>\n",
              "    .colab-df-container {\n",
              "      display:flex;\n",
              "      flex-wrap:wrap;\n",
              "      gap: 12px;\n",
              "    }\n",
              "\n",
              "    .colab-df-convert {\n",
              "      background-color: #E8F0FE;\n",
              "      border: none;\n",
              "      border-radius: 50%;\n",
              "      cursor: pointer;\n",
              "      display: none;\n",
              "      fill: #1967D2;\n",
              "      height: 32px;\n",
              "      padding: 0 0 0 0;\n",
              "      width: 32px;\n",
              "    }\n",
              "\n",
              "    .colab-df-convert:hover {\n",
              "      background-color: #E2EBFA;\n",
              "      box-shadow: 0px 1px 2px rgba(60, 64, 67, 0.3), 0px 1px 3px 1px rgba(60, 64, 67, 0.15);\n",
              "      fill: #174EA6;\n",
              "    }\n",
              "\n",
              "    [theme=dark] .colab-df-convert {\n",
              "      background-color: #3B4455;\n",
              "      fill: #D2E3FC;\n",
              "    }\n",
              "\n",
              "    [theme=dark] .colab-df-convert:hover {\n",
              "      background-color: #434B5C;\n",
              "      box-shadow: 0px 1px 3px 1px rgba(0, 0, 0, 0.15);\n",
              "      filter: drop-shadow(0px 1px 2px rgba(0, 0, 0, 0.3));\n",
              "      fill: #FFFFFF;\n",
              "    }\n",
              "  </style>\n",
              "\n",
              "      <script>\n",
              "        const buttonEl =\n",
              "          document.querySelector('#df-e19f8a76-378c-44a5-8e14-a7013b4b2510 button.colab-df-convert');\n",
              "        buttonEl.style.display =\n",
              "          google.colab.kernel.accessAllowed ? 'block' : 'none';\n",
              "\n",
              "        async function convertToInteractive(key) {\n",
              "          const element = document.querySelector('#df-e19f8a76-378c-44a5-8e14-a7013b4b2510');\n",
              "          const dataTable =\n",
              "            await google.colab.kernel.invokeFunction('convertToInteractive',\n",
              "                                                     [key], {});\n",
              "          if (!dataTable) return;\n",
              "\n",
              "          const docLinkHtml = 'Like what you see? Visit the ' +\n",
              "            '<a target=\"_blank\" href=https://colab.research.google.com/notebooks/data_table.ipynb>data table notebook</a>'\n",
              "            + ' to learn more about interactive tables.';\n",
              "          element.innerHTML = '';\n",
              "          dataTable['output_type'] = 'display_data';\n",
              "          await google.colab.output.renderOutput(dataTable, element);\n",
              "          const docLink = document.createElement('div');\n",
              "          docLink.innerHTML = docLinkHtml;\n",
              "          element.appendChild(docLink);\n",
              "        }\n",
              "      </script>\n",
              "    </div>\n",
              "  </div>\n",
              "  "
            ]
          },
          "metadata": {},
          "execution_count": 33
        }
      ],
      "source": [
        "df.groupby('tariff')['sms'].describe()"
      ]
    },
    {
      "cell_type": "markdown",
      "metadata": {
        "id": "RlsuxxIO_UDM"
      },
      "source": [
        "Здесь те же тенденции. Пользователи тарифа ultra тратят существенно больше смс в месяц, хотя это число также далеко от тарифного лимита в 1000 сообщений в месяц."
      ]
    },
    {
      "cell_type": "code",
      "execution_count": 34,
      "metadata": {
        "colab": {
          "base_uri": "https://localhost:8080/"
        },
        "id": "9TxnwBC__UDM",
        "outputId": "3ec8ea34-eb3c-4fe6-dddf-c36d77e67368"
      },
      "outputs": [
        {
          "output_type": "stream",
          "name": "stdout",
          "text": [
            "Дисперсия количества сообщений тарифа 'ultra' 2285.2661425446736\n",
            "Дисперсия количества сообщений тарифа 'smart' 796.8129584480083\n"
          ]
        }
      ],
      "source": [
        "print(\"Дисперсия количества сообщений тарифа 'ultra'\",\n",
        "      np.var(df.query(\"tariff == 'ultra'\")['sms'], ddof=1))\n",
        "\n",
        "print(\"Дисперсия количества сообщений тарифа 'smart'\",\n",
        "      np.var(df.query(\"tariff == 'smart'\")['sms'], ddof=1))"
      ]
    },
    {
      "cell_type": "markdown",
      "metadata": {
        "id": "bhaf4xUS_UDM"
      },
      "source": [
        "Стандартное отклонение различается почти в 2 раза, а дисперсия - почти в 3. Посмотрим на распределение переменной визуально."
      ]
    },
    {
      "cell_type": "code",
      "execution_count": 35,
      "metadata": {
        "colab": {
          "base_uri": "https://localhost:8080/",
          "height": 458
        },
        "id": "vd-gowEJ_UDN",
        "outputId": "44539e0b-92c9-450b-8500-ccb62ad0d35d"
      },
      "outputs": [
        {
          "output_type": "display_data",
          "data": {
            "text/plain": [
              "<Figure size 720x504 with 1 Axes>"
            ],
            "image/png": "[encoded data removed]"
          },
          "metadata": {
            "needs_background": "light"
          }
        }
      ],
      "source": [
        "df.query(\"tariff == 'smart'\")['sms'].hist(\n",
        "    color='blue',\n",
        "    grid=False,\n",
        "    alpha=0.6,\n",
        "    bins=30,\n",
        "    figsize=(10,7))\n",
        "\n",
        "df.query(\"tariff == 'ultra'\")['sms'].hist(\n",
        "    color='purple',\n",
        "    grid=False,\n",
        "    alpha=0.6,\n",
        "    bins=30,\n",
        "    figsize=(10,7))\n",
        "\n",
        "plt.legend(['smart','ultra'])\n",
        "plt.title('Частотное распределение количества sms в тарифах')\n",
        "plt.xlabel('количество sms в месяц')\n",
        "plt.ylabel('количество случаев в выборке')\n",
        "plt.show()"
      ]
    },
    {
      "cell_type": "markdown",
      "metadata": {
        "id": "0YwclDao_UDN"
      },
      "source": [
        "Существенное количество потребителей не пользуется sms вовсе. Это можно объяснить распространением мессенджеров и социальных сетей. Относительно различий по тарифам здесь так же, как и со звонками, частота отправки sms пользователями тарифа ultra распределена скорее равномерно, чем нормально, на отрезке от 50 до 150 смс в месяц.\n",
        "\n",
        "Тарифный лимит здесь - 1000 смс в месяц, никто из выбранных пользователей не доходит до этой цифры."
      ]
    },
    {
      "cell_type": "markdown",
      "metadata": {
        "id": "HfWVkBnf_UDN"
      },
      "source": [
        "### Какой объем трафика требуется пользователям каждого тарифа в месяц?"
      ]
    },
    {
      "cell_type": "markdown",
      "metadata": {
        "id": "eYKDRYqP_UDN"
      },
      "source": [
        "Посмотрим на описательные статистики переменной объема месячного трафика:"
      ]
    },
    {
      "cell_type": "code",
      "execution_count": 36,
      "metadata": {
        "colab": {
          "base_uri": "https://localhost:8080/",
          "height": 143
        },
        "id": "ReXzGO2f_UDO",
        "outputId": "d1cc335b-a10e-4279-bde5-39c0e5e2c5aa"
      },
      "outputs": [
        {
          "output_type": "execute_result",
          "data": {
            "text/plain": [
              "         count       mean       std  min   25%   50%   75%   max\n",
              "tariff                                                          \n",
              "smart   2229.0  16.328847  5.747061  0.0  13.0  17.0  20.0  38.0\n",
              "ultra    985.0  19.494416  9.853511  0.0  12.0  19.0  27.0  49.0"
            ],
            "text/html": [
              "\n",
              "  <div id=\"df-06cea82f-a4c9-45dc-ac1f-0a089fbb1705\">\n",
              "    <div class=\"colab-df-container\">\n",
              "      <div>\n",
              "<style scoped>\n",
              "    .dataframe tbody tr th:only-of-type {\n",
              "        vertical-align: middle;\n",
              "    }\n",
              "\n",
              "    .dataframe tbody tr th {\n",
              "        vertical-align: top;\n",
              "    }\n",
              "\n",
              "    .dataframe thead th {\n",
              "        text-align: right;\n",
              "    }\n",
              "</style>\n",
              "<table border=\"1\" class=\"dataframe\">\n",
              "  <thead>\n",
              "    <tr style=\"text-align: right;\">\n",
              "      <th></th>\n",
              "      <th>count</th>\n",
              "      <th>mean</th>\n",
              "      <th>std</th>\n",
              "      <th>min</th>\n",
              "      <th>25%</th>\n",
              "      <th>50%</th>\n",
              "      <th>75%</th>\n",
              "      <th>max</th>\n",
              "    </tr>\n",
              "    <tr>\n",
              "      <th>tariff</th>\n",
              "      <th></th>\n",
              "      <th></th>\n",
              "      <th></th>\n",
              "      <th></th>\n",
              "      <th></th>\n",
              "      <th></th>\n",
              "      <th></th>\n",
              "      <th></th>\n",
              "    </tr>\n",
              "  </thead>\n",
              "  <tbody>\n",
              "    <tr>\n",
              "      <th>smart</th>\n",
              "      <td>2229.0</td>\n",
              "      <td>16.328847</td>\n",
              "      <td>5.747061</td>\n",
              "      <td>0.0</td>\n",
              "      <td>13.0</td>\n",
              "      <td>17.0</td>\n",
              "      <td>20.0</td>\n",
              "      <td>38.0</td>\n",
              "    </tr>\n",
              "    <tr>\n",
              "      <th>ultra</th>\n",
              "      <td>985.0</td>\n",
              "      <td>19.494416</td>\n",
              "      <td>9.853511</td>\n",
              "      <td>0.0</td>\n",
              "      <td>12.0</td>\n",
              "      <td>19.0</td>\n",
              "      <td>27.0</td>\n",
              "      <td>49.0</td>\n",
              "    </tr>\n",
              "  </tbody>\n",
              "</table>\n",
              "</div>\n",
              "      <button class=\"colab-df-convert\" onclick=\"convertToInteractive('df-06cea82f-a4c9-45dc-ac1f-0a089fbb1705')\"\n",
              "              title=\"Convert this dataframe to an interactive table.\"\n",
              "              style=\"display:none;\">\n",
              "        \n",
              "  <svg xmlns=\"http://www.w3.org/2000/svg\" height=\"24px\"viewBox=\"0 0 24 24\"\n",
              "       width=\"24px\">\n",
              "    <path d=\"M0 0h24v24H0V0z\" fill=\"none\"/>\n",
              "    <path d=\"M18.56 5.44l.94 2.06.94-2.06 2.06-.94-2.06-.94-.94-2.06-.94 2.06-2.06.94zm-11 1L8.5 8.5l.94-2.06 2.06-.94-2.06-.94L8.5 2.5l-.94 2.06-2.06.94zm10 10l.94 2.06.94-2.06 2.06-.94-2.06-.94-.94-2.06-.94 2.06-2.06.94z\"/><path d=\"M17.41 7.96l-1.37-1.37c-.4-.4-.92-.59-1.43-.59-.52 0-1.04.2-1.43.59L10.3 9.45l-7.72 7.72c-.78.78-.78 2.05 0 2.83L4 21.41c.39.39.9.59 1.41.59.51 0 1.02-.2 1.41-.59l7.78-7.78 2.81-2.81c.8-.78.8-2.07 0-2.86zM5.41 20L4 18.59l7.72-7.72 1.47 1.35L5.41 20z\"/>\n",
              "  </svg>\n",
              "      </button>\n",
              "      \n",
              "  <style>\n",
              "    .colab-df-container {\n",
              "      display:flex;\n",
              "      flex-wrap:wrap;\n",
              "      gap: 12px;\n",
              "    }\n",
              "\n",
              "    .colab-df-convert {\n",
              "      background-color: #E8F0FE;\n",
              "      border: none;\n",
              "      border-radius: 50%;\n",
              "      cursor: pointer;\n",
              "      display: none;\n",
              "      fill: #1967D2;\n",
              "      height: 32px;\n",
              "      padding: 0 0 0 0;\n",
              "      width: 32px;\n",
              "    }\n",
              "\n",
              "    .colab-df-convert:hover {\n",
              "      background-color: #E2EBFA;\n",
              "      box-shadow: 0px 1px 2px rgba(60, 64, 67, 0.3), 0px 1px 3px 1px rgba(60, 64, 67, 0.15);\n",
              "      fill: #174EA6;\n",
              "    }\n",
              "\n",
              "    [theme=dark] .colab-df-convert {\n",
              "      background-color: #3B4455;\n",
              "      fill: #D2E3FC;\n",
              "    }\n",
              "\n",
              "    [theme=dark] .colab-df-convert:hover {\n",
              "      background-color: #434B5C;\n",
              "      box-shadow: 0px 1px 3px 1px rgba(0, 0, 0, 0.15);\n",
              "      filter: drop-shadow(0px 1px 2px rgba(0, 0, 0, 0.3));\n",
              "      fill: #FFFFFF;\n",
              "    }\n",
              "  </style>\n",
              "\n",
              "      <script>\n",
              "        const buttonEl =\n",
              "          document.querySelector('#df-06cea82f-a4c9-45dc-ac1f-0a089fbb1705 button.colab-df-convert');\n",
              "        buttonEl.style.display =\n",
              "          google.colab.kernel.accessAllowed ? 'block' : 'none';\n",
              "\n",
              "        async function convertToInteractive(key) {\n",
              "          const element = document.querySelector('#df-06cea82f-a4c9-45dc-ac1f-0a089fbb1705');\n",
              "          const dataTable =\n",
              "            await google.colab.kernel.invokeFunction('convertToInteractive',\n",
              "                                                     [key], {});\n",
              "          if (!dataTable) return;\n",
              "\n",
              "          const docLinkHtml = 'Like what you see? Visit the ' +\n",
              "            '<a target=\"_blank\" href=https://colab.research.google.com/notebooks/data_table.ipynb>data table notebook</a>'\n",
              "            + ' to learn more about interactive tables.';\n",
              "          element.innerHTML = '';\n",
              "          dataTable['output_type'] = 'display_data';\n",
              "          await google.colab.output.renderOutput(dataTable, element);\n",
              "          const docLink = document.createElement('div');\n",
              "          docLink.innerHTML = docLinkHtml;\n",
              "          element.appendChild(docLink);\n",
              "        }\n",
              "      </script>\n",
              "    </div>\n",
              "  </div>\n",
              "  "
            ]
          },
          "metadata": {},
          "execution_count": 36
        }
      ],
      "source": [
        "df.groupby('tariff')['gb'].describe()"
      ]
    },
    {
      "cell_type": "markdown",
      "metadata": {
        "id": "5AJgFWFc_UDO"
      },
      "source": [
        "Здесь у пользователей тарифа ultra тоже значения выше, однако разница не такая драматичная. С учётом большего стандартного отклонения и, как можно предположить, дисперсии, разницу вряд ли можно назвать существенной."
      ]
    },
    {
      "cell_type": "code",
      "execution_count": 37,
      "metadata": {
        "colab": {
          "base_uri": "https://localhost:8080/"
        },
        "id": "QIon7HdA_UDO",
        "outputId": "ce107609-78b1-4e62-cafa-35609065d111"
      },
      "outputs": [
        {
          "output_type": "stream",
          "name": "stdout",
          "text": [
            "Дисперсия количества сообщений тарифа 'ultra' 97.09168626965459\n",
            "Дисперсия количества сообщений тарифа 'smart' 33.02870517811161\n"
          ]
        }
      ],
      "source": [
        "print(\"Дисперсия количества сообщений тарифа 'ultra'\",\n",
        "      np.var(df.query(\"tariff == 'ultra'\")['gb'], ddof=1))\n",
        "\n",
        "print(\"Дисперсия количества сообщений тарифа 'smart'\",\n",
        "      np.var(df.query(\"tariff == 'smart'\")['gb'], ddof=1))"
      ]
    },
    {
      "cell_type": "markdown",
      "metadata": {
        "id": "VzTR0fg-_UDO"
      },
      "source": [
        "Предположение о большей дисперсии оказалось верным. Посмотрим на распределение переменной визуально."
      ]
    },
    {
      "cell_type": "code",
      "execution_count": 38,
      "metadata": {
        "colab": {
          "base_uri": "https://localhost:8080/",
          "height": 458
        },
        "id": "yJw4ZVBi_UDP",
        "outputId": "3f1da89d-a914-44b7-fe93-c65e9a0e7664"
      },
      "outputs": [
        {
          "output_type": "display_data",
          "data": {
            "text/plain": [
              "<Figure size 720x504 with 1 Axes>"
            ],
            "image/png": "[encoded data removed]"
          },
          "metadata": {
            "needs_background": "light"
          }
        }
      ],
      "source": [
        "df.query(\"tariff == 'smart'\")['gb'].hist(\n",
        "    color='blue',\n",
        "    grid=False,\n",
        "    alpha=0.6,\n",
        "    bins=30,\n",
        "    figsize=(10,7))\n",
        "\n",
        "df.query(\"tariff == 'ultra'\")['gb'].hist(\n",
        "    color='purple',\n",
        "    grid=False,\n",
        "    alpha=0.6,\n",
        "    bins=30,\n",
        "    figsize=(10,7))\n",
        "\n",
        "plt.legend(['smart','ultra'])\n",
        "plt.title('Частотное распределение интернет-трафика в тарифах')\n",
        "plt.xlabel('количество гигабайт в месяц')\n",
        "plt.ylabel('количество случаев в выборке')\n",
        "plt.show()"
      ]
    },
    {
      "cell_type": "markdown",
      "metadata": {
        "id": "YqD3nkwc_UDP"
      },
      "source": [
        "Можно предположить, что оператор в основном зарабатывает на тратах пользователей на интернет, т.к. объем пользования очень приближен к тарифным лимитам, и существенная часть пользователей за них выходит. На гистограмме для тарифа smart отчетливо виден пик в районе 15 Гб, это тарифный лимит, однако даже медиана превышает этот порог, т.е. больше половины пользователей данного тарифа доплачивают за интернет ежемесячно. Примерно каждому пятому пользователю тарифа ultra также не хватает отведённых в месяц 30 Гб. Также отметим, что лимиты звонков и смс на тарифе ultra в десятки раз превосходили лимиты тарифа smart, а для интернета эта разница всего в 2 раза."
      ]
    },
    {
      "cell_type": "markdown",
      "metadata": {
        "id": "oPRcYa0w_UDP"
      },
      "source": [
        "### Вывод"
      ]
    },
    {
      "cell_type": "markdown",
      "metadata": {
        "id": "NAXNQm4g_UDP"
      },
      "source": [
        "- Существенная часть пользователей тарифа smart не укладывается в тарифные лимиты и ежемесячно доплачивает за звонки, sms и гигабайты интернета.\n",
        "- Наиболее востребованной относительно установленных лимитов является услуга доступа в интернет. Наименее востребованной - sms.\n",
        "- Во всех случаях пользователи тарифа ultra расходуют в среднем больше sms, звонков и интернета, однако с учётом постоянных доплат за перересход пользователями тарифа smart можно предположить, что именно они приносят оператору больше денег."
      ]
    },
    {
      "cell_type": "markdown",
      "metadata": {
        "id": "lEaAZNoV_UDQ"
      },
      "source": [
        "## Проверка отдельных гипотез"
      ]
    },
    {
      "cell_type": "markdown",
      "metadata": {
        "id": "4TW7is3R_UDT"
      },
      "source": [
        "Для завершения проекта нам нужно проверить, действительно ли оператор зарабатыват по-разному на каждом тарифе и действительно ли средняя выручка в Москве отличается. Для этого воспользуемся Т-тестом для независимых генеральных совокупностей, т.к. мы имеем дело с разными пользователями, которые звонили, писали смс и выходили в интернет одновременно."
      ]
    },
    {
      "cell_type": "markdown",
      "metadata": {
        "id": "NwU4jTvx_UDT"
      },
      "source": [
        "### Cредняя выручка пользователей тарифов «Ультра» и «Смарт» различаются"
      ]
    },
    {
      "cell_type": "markdown",
      "metadata": {
        "id": "MLfRuEpT_UDT"
      },
      "source": [
        "Нулевая гипотеза: средняя выручка в месяц у пользователей тарифов ultra и smart равна.\n",
        "\n",
        "Критерий оценки связи: если полученное значение p-value будет меньше принятого уровня значимости (0,05), то мы сможем отвергнуть нулевую гипотезу и сказать, что значимые различия среди пользователей разных тарифов есть. В противном случае мы не сможем утверждать наверняка, равна ли выручка или есть значимые различия, т.к. полученные в выборке значения могут быть случайны."
      ]
    },
    {
      "cell_type": "markdown",
      "metadata": {
        "id": "M5WcjFzf_UDU"
      },
      "source": [
        "Альтернативная гипотеза будет таковой: средняя выручка от пользователей тарифов smart и ultra не равна."
      ]
    },
    {
      "cell_type": "code",
      "execution_count": 39,
      "metadata": {
        "colab": {
          "base_uri": "https://localhost:8080/",
          "height": 161
        },
        "id": "MH4i43ay_UDU",
        "outputId": "c45e439a-0f16-4c75-ceea-cd27b35bb8f9"
      },
      "outputs": [
        {
          "output_type": "stream",
          "name": "stdout",
          "text": [
            "1.4229814360764067e-160\n"
          ]
        },
        {
          "output_type": "execute_result",
          "data": {
            "text/plain": [
              "               mean        sum\n",
              "tariff                        \n",
              "smart   1289.973531  2875351.0\n",
              "ultra   2070.152284  2039100.0"
            ],
            "text/html": [
              "\n",
              "  <div id=\"df-6c0225fc-0676-416c-ab7f-0ce11fe7863f\">\n",
              "    <div class=\"colab-df-container\">\n",
              "      <div>\n",
              "<style scoped>\n",
              "    .dataframe tbody tr th:only-of-type {\n",
              "        vertical-align: middle;\n",
              "    }\n",
              "\n",
              "    .dataframe tbody tr th {\n",
              "        vertical-align: top;\n",
              "    }\n",
              "\n",
              "    .dataframe thead th {\n",
              "        text-align: right;\n",
              "    }\n",
              "</style>\n",
              "<table border=\"1\" class=\"dataframe\">\n",
              "  <thead>\n",
              "    <tr style=\"text-align: right;\">\n",
              "      <th></th>\n",
              "      <th>mean</th>\n",
              "      <th>sum</th>\n",
              "    </tr>\n",
              "    <tr>\n",
              "      <th>tariff</th>\n",
              "      <th></th>\n",
              "      <th></th>\n",
              "    </tr>\n",
              "  </thead>\n",
              "  <tbody>\n",
              "    <tr>\n",
              "      <th>smart</th>\n",
              "      <td>1289.973531</td>\n",
              "      <td>2875351.0</td>\n",
              "    </tr>\n",
              "    <tr>\n",
              "      <th>ultra</th>\n",
              "      <td>2070.152284</td>\n",
              "      <td>2039100.0</td>\n",
              "    </tr>\n",
              "  </tbody>\n",
              "</table>\n",
              "</div>\n",
              "      <button class=\"colab-df-convert\" onclick=\"convertToInteractive('df-6c0225fc-0676-416c-ab7f-0ce11fe7863f')\"\n",
              "              title=\"Convert this dataframe to an interactive table.\"\n",
              "              style=\"display:none;\">\n",
              "        \n",
              "  <svg xmlns=\"http://www.w3.org/2000/svg\" height=\"24px\"viewBox=\"0 0 24 24\"\n",
              "       width=\"24px\">\n",
              "    <path d=\"M0 0h24v24H0V0z\" fill=\"none\"/>\n",
              "    <path d=\"M18.56 5.44l.94 2.06.94-2.06 2.06-.94-2.06-.94-.94-2.06-.94 2.06-2.06.94zm-11 1L8.5 8.5l.94-2.06 2.06-.94-2.06-.94L8.5 2.5l-.94 2.06-2.06.94zm10 10l.94 2.06.94-2.06 2.06-.94-2.06-.94-.94-2.06-.94 2.06-2.06.94z\"/><path d=\"M17.41 7.96l-1.37-1.37c-.4-.4-.92-.59-1.43-.59-.52 0-1.04.2-1.43.59L10.3 9.45l-7.72 7.72c-.78.78-.78 2.05 0 2.83L4 21.41c.39.39.9.59 1.41.59.51 0 1.02-.2 1.41-.59l7.78-7.78 2.81-2.81c.8-.78.8-2.07 0-2.86zM5.41 20L4 18.59l7.72-7.72 1.47 1.35L5.41 20z\"/>\n",
              "  </svg>\n",
              "      </button>\n",
              "      \n",
              "  <style>\n",
              "    .colab-df-container {\n",
              "      display:flex;\n",
              "      flex-wrap:wrap;\n",
              "      gap: 12px;\n",
              "    }\n",
              "\n",
              "    .colab-df-convert {\n",
              "      background-color: #E8F0FE;\n",
              "      border: none;\n",
              "      border-radius: 50%;\n",
              "      cursor: pointer;\n",
              "      display: none;\n",
              "      fill: #1967D2;\n",
              "      height: 32px;\n",
              "      padding: 0 0 0 0;\n",
              "      width: 32px;\n",
              "    }\n",
              "\n",
              "    .colab-df-convert:hover {\n",
              "      background-color: #E2EBFA;\n",
              "      box-shadow: 0px 1px 2px rgba(60, 64, 67, 0.3), 0px 1px 3px 1px rgba(60, 64, 67, 0.15);\n",
              "      fill: #174EA6;\n",
              "    }\n",
              "\n",
              "    [theme=dark] .colab-df-convert {\n",
              "      background-color: #3B4455;\n",
              "      fill: #D2E3FC;\n",
              "    }\n",
              "\n",
              "    [theme=dark] .colab-df-convert:hover {\n",
              "      background-color: #434B5C;\n",
              "      box-shadow: 0px 1px 3px 1px rgba(0, 0, 0, 0.15);\n",
              "      filter: drop-shadow(0px 1px 2px rgba(0, 0, 0, 0.3));\n",
              "      fill: #FFFFFF;\n",
              "    }\n",
              "  </style>\n",
              "\n",
              "      <script>\n",
              "        const buttonEl =\n",
              "          document.querySelector('#df-6c0225fc-0676-416c-ab7f-0ce11fe7863f button.colab-df-convert');\n",
              "        buttonEl.style.display =\n",
              "          google.colab.kernel.accessAllowed ? 'block' : 'none';\n",
              "\n",
              "        async function convertToInteractive(key) {\n",
              "          const element = document.querySelector('#df-6c0225fc-0676-416c-ab7f-0ce11fe7863f');\n",
              "          const dataTable =\n",
              "            await google.colab.kernel.invokeFunction('convertToInteractive',\n",
              "                                                     [key], {});\n",
              "          if (!dataTable) return;\n",
              "\n",
              "          const docLinkHtml = 'Like what you see? Visit the ' +\n",
              "            '<a target=\"_blank\" href=https://colab.research.google.com/notebooks/data_table.ipynb>data table notebook</a>'\n",
              "            + ' to learn more about interactive tables.';\n",
              "          element.innerHTML = '';\n",
              "          dataTable['output_type'] = 'display_data';\n",
              "          await google.colab.output.renderOutput(dataTable, element);\n",
              "          const docLink = document.createElement('div');\n",
              "          docLink.innerHTML = docLinkHtml;\n",
              "          element.appendChild(docLink);\n",
              "        }\n",
              "      </script>\n",
              "    </div>\n",
              "  </div>\n",
              "  "
            ]
          },
          "metadata": {},
          "execution_count": 39
        }
      ],
      "source": [
        "alpha = 0.05\n",
        "print(st.ttest_ind(df.query(\"tariff == 'ultra'\")['bill'], df.query(\"tariff == 'smart'\")['bill']).pvalue)\n",
        "pd.pivot_table(df, index=['tariff'], values='bill', aggfunc={'mean', 'sum'})"
      ]
    },
    {
      "cell_type": "markdown",
      "metadata": {
        "id": "F-6Tuc-l_UDV"
      },
      "source": [
        "Полученное значение говорит о том, что мы с уверенностью 95% можем отвергнуть нулевую гипотезу в пользу альтернативной. Рассчитанные средние значения и суммы указывают на то, что пользователи тарифа ultra в среднем приносят больше за счёт более высокой абонентской платы, однако их немного и суммарный заработок оператора на пользователях двух тарифов сравним, даже на пользователях тарифа smart за счёт их превосходящей численности удаётся заработать немного больше."
      ]
    },
    {
      "cell_type": "markdown",
      "metadata": {
        "id": "uEwZKOm-_UDV"
      },
      "source": [
        "### Средняя выручка пользователей из Москвы отличается от выручки пользователей из других регионов"
      ]
    },
    {
      "cell_type": "markdown",
      "metadata": {
        "id": "m4tia95z_UDV"
      },
      "source": [
        "Нулевая гипотеза: средняя выручка в месяц у пользователей из Москвы и регионов равна.\n",
        "\n",
        "Критерий оценки связи: если полученное значение p-value будет меньше принятого уровня значимости (0,05), то мы сможем отвергнуть нулевую гипотезу и сказать, что значимые различия москвичей от жителей других регионов есть. В противном случае мы не сможем утверждать наверняка, равна ли выручка или есть значимые различия, т.к. полученные в выборке значения могут быть случайны."
      ]
    },
    {
      "cell_type": "markdown",
      "metadata": {
        "id": "Zm1c5YcR_UDV"
      },
      "source": [
        "Альтернативная гипотеза будет заключаться в неравенстве средней выручки в месяц от пользователей из Москвы и из регионов."
      ]
    },
    {
      "cell_type": "code",
      "execution_count": 40,
      "metadata": {
        "colab": {
          "base_uri": "https://localhost:8080/",
          "height": 161
        },
        "id": "CeK2jfje_UDW",
        "outputId": "551a474e-4b86-465c-9327-4f57d2827f42"
      },
      "outputs": [
        {
          "output_type": "stream",
          "name": "stdout",
          "text": [
            "0.5440152911670224\n"
          ]
        },
        {
          "output_type": "execute_result",
          "data": {
            "text/plain": [
              "                     mean        sum\n",
              "city_grouped                        \n",
              "0             1524.936227  3969409.0\n",
              "1             1546.713584   945042.0"
            ],
            "text/html": [
              "\n",
              "  <div id=\"df-78943cd1-c217-4f79-995c-f7d6279d6251\">\n",
              "    <div class=\"colab-df-container\">\n",
              "      <div>\n",
              "<style scoped>\n",
              "    .dataframe tbody tr th:only-of-type {\n",
              "        vertical-align: middle;\n",
              "    }\n",
              "\n",
              "    .dataframe tbody tr th {\n",
              "        vertical-align: top;\n",
              "    }\n",
              "\n",
              "    .dataframe thead th {\n",
              "        text-align: right;\n",
              "    }\n",
              "</style>\n",
              "<table border=\"1\" class=\"dataframe\">\n",
              "  <thead>\n",
              "    <tr style=\"text-align: right;\">\n",
              "      <th></th>\n",
              "      <th>mean</th>\n",
              "      <th>sum</th>\n",
              "    </tr>\n",
              "    <tr>\n",
              "      <th>city_grouped</th>\n",
              "      <th></th>\n",
              "      <th></th>\n",
              "    </tr>\n",
              "  </thead>\n",
              "  <tbody>\n",
              "    <tr>\n",
              "      <th>0</th>\n",
              "      <td>1524.936227</td>\n",
              "      <td>3969409.0</td>\n",
              "    </tr>\n",
              "    <tr>\n",
              "      <th>1</th>\n",
              "      <td>1546.713584</td>\n",
              "      <td>945042.0</td>\n",
              "    </tr>\n",
              "  </tbody>\n",
              "</table>\n",
              "</div>\n",
              "      <button class=\"colab-df-convert\" onclick=\"convertToInteractive('df-78943cd1-c217-4f79-995c-f7d6279d6251')\"\n",
              "              title=\"Convert this dataframe to an interactive table.\"\n",
              "              style=\"display:none;\">\n",
              "        \n",
              "  <svg xmlns=\"http://www.w3.org/2000/svg\" height=\"24px\"viewBox=\"0 0 24 24\"\n",
              "       width=\"24px\">\n",
              "    <path d=\"M0 0h24v24H0V0z\" fill=\"none\"/>\n",
              "    <path d=\"M18.56 5.44l.94 2.06.94-2.06 2.06-.94-2.06-.94-.94-2.06-.94 2.06-2.06.94zm-11 1L8.5 8.5l.94-2.06 2.06-.94-2.06-.94L8.5 2.5l-.94 2.06-2.06.94zm10 10l.94 2.06.94-2.06 2.06-.94-2.06-.94-.94-2.06-.94 2.06-2.06.94z\"/><path d=\"M17.41 7.96l-1.37-1.37c-.4-.4-.92-.59-1.43-.59-.52 0-1.04.2-1.43.59L10.3 9.45l-7.72 7.72c-.78.78-.78 2.05 0 2.83L4 21.41c.39.39.9.59 1.41.59.51 0 1.02-.2 1.41-.59l7.78-7.78 2.81-2.81c.8-.78.8-2.07 0-2.86zM5.41 20L4 18.59l7.72-7.72 1.47 1.35L5.41 20z\"/>\n",
              "  </svg>\n",
              "      </button>\n",
              "      \n",
              "  <style>\n",
              "    .colab-df-container {\n",
              "      display:flex;\n",
              "      flex-wrap:wrap;\n",
              "      gap: 12px;\n",
              "    }\n",
              "\n",
              "    .colab-df-convert {\n",
              "      background-color: #E8F0FE;\n",
              "      border: none;\n",
              "      border-radius: 50%;\n",
              "      cursor: pointer;\n",
              "      display: none;\n",
              "      fill: #1967D2;\n",
              "      height: 32px;\n",
              "      padding: 0 0 0 0;\n",
              "      width: 32px;\n",
              "    }\n",
              "\n",
              "    .colab-df-convert:hover {\n",
              "      background-color: #E2EBFA;\n",
              "      box-shadow: 0px 1px 2px rgba(60, 64, 67, 0.3), 0px 1px 3px 1px rgba(60, 64, 67, 0.15);\n",
              "      fill: #174EA6;\n",
              "    }\n",
              "\n",
              "    [theme=dark] .colab-df-convert {\n",
              "      background-color: #3B4455;\n",
              "      fill: #D2E3FC;\n",
              "    }\n",
              "\n",
              "    [theme=dark] .colab-df-convert:hover {\n",
              "      background-color: #434B5C;\n",
              "      box-shadow: 0px 1px 3px 1px rgba(0, 0, 0, 0.15);\n",
              "      filter: drop-shadow(0px 1px 2px rgba(0, 0, 0, 0.3));\n",
              "      fill: #FFFFFF;\n",
              "    }\n",
              "  </style>\n",
              "\n",
              "      <script>\n",
              "        const buttonEl =\n",
              "          document.querySelector('#df-78943cd1-c217-4f79-995c-f7d6279d6251 button.colab-df-convert');\n",
              "        buttonEl.style.display =\n",
              "          google.colab.kernel.accessAllowed ? 'block' : 'none';\n",
              "\n",
              "        async function convertToInteractive(key) {\n",
              "          const element = document.querySelector('#df-78943cd1-c217-4f79-995c-f7d6279d6251');\n",
              "          const dataTable =\n",
              "            await google.colab.kernel.invokeFunction('convertToInteractive',\n",
              "                                                     [key], {});\n",
              "          if (!dataTable) return;\n",
              "\n",
              "          const docLinkHtml = 'Like what you see? Visit the ' +\n",
              "            '<a target=\"_blank\" href=https://colab.research.google.com/notebooks/data_table.ipynb>data table notebook</a>'\n",
              "            + ' to learn more about interactive tables.';\n",
              "          element.innerHTML = '';\n",
              "          dataTable['output_type'] = 'display_data';\n",
              "          await google.colab.output.renderOutput(dataTable, element);\n",
              "          const docLink = document.createElement('div');\n",
              "          docLink.innerHTML = docLinkHtml;\n",
              "          element.appendChild(docLink);\n",
              "        }\n",
              "      </script>\n",
              "    </div>\n",
              "  </div>\n",
              "  "
            ]
          },
          "metadata": {},
          "execution_count": 40
        }
      ],
      "source": [
        "alpha = 0.05\n",
        "print(st.ttest_ind(df.query(\"city_grouped == 1\")['bill'], df.query(\"city_grouped == 0\")['bill']).pvalue)\n",
        "pd.pivot_table(df, index=['city_grouped'], values='bill', aggfunc={'mean', 'sum'})"
      ]
    },
    {
      "cell_type": "markdown",
      "metadata": {
        "id": "8bwg6ZAc_UDW"
      },
      "source": [
        "Полученные значения не позволяют нам отвергнуть нулевую гипотезу в пользу альтернативной. Мы не можем говорить о значимости различий дисперсии средних трат на сотовую связь у москвичей и жителей регионов. Кроме того, даже средние траты различаются несущественно. Однако за счёт большего количества пользователей вне Москвы суммарный заработок на них оказывается выше."
      ]
    },
    {
      "cell_type": "markdown",
      "metadata": {
        "id": "blxJUavF_UDW"
      },
      "source": [
        "### Вывод"
      ]
    },
    {
      "cell_type": "markdown",
      "metadata": {
        "id": "QIEzkS6m_UDX"
      },
      "source": [
        "1. Если вы думаете, к какому тарифу подлючиться у оператора Мегалайн, то с точки зрения статистики вероятнее, что вам будет выгоден тариф smart. Если же вы представитель оператора и думаете, какой тариф продвигать в первую очередь, то вам будет полезно иметь информацию о том, что выручка с пользователей тарифа ultra выше, порядка 2070 рублей в месяц, когда пользователи тарифа smart приносят по 1290 рублей. Однако с учётом количества пользователей заработок оба тарифа приносят сравнимый.\n",
        "\n",
        "\n",
        "2. Пользователи из Москвы тратят на сотовую связь не больше, чем жители регионов. Поэтому отбирать регионы для продвижения следуюет по другим критериям."
      ]
    },
    {
      "cell_type": "markdown",
      "metadata": {
        "id": "tMSrR-F__UDX"
      },
      "source": [
        "## Общий вывод"
      ]
    },
    {
      "cell_type": "markdown",
      "metadata": {
        "id": "AkVfiQQF_UDX"
      },
      "source": [
        "Мы проанализировали предоставленные данные. Сформировали агрегированную таблицу и на ней проверяли выдвинутые гипотезы. В ходе анализа мы обнаружили несколько важных закономерностей:\n",
        "1. Пользователи тарифа smart очень часто переплачивают за отдельные услуги, им не хватает тарифного лимита в месяц. Абонентская плата на данном тарифе составляет 500 рублей, а в среднем в месяц пользователь данного тарифа тратит в 2,5 раза больше - 1290 рублей.\n",
        "2. Однако переходить на тариф ultra не каждому пользователю будет выгодно, т.к. абонентская плата там существенно выще - 1950 рублей. Эти пользователи редко не укладываются в тарифные лимиты и средняя плата в месяц очень близка к абонентской - 2070 рублей.\n",
        "3. Основная причина ежемесячных переплат - пользование услугами интернет. Установленных лимитов не хватает очень существенной части потребителей.\n",
        "4. Пользователи тарифа smart в среднем ежемесячно платят значимо меньше пользователей тарифа ultra, однако за счёт их количества пользователи обоих тарифов приносят оператору сравнимые деньги.\n",
        "5. Значимых отличий в ежемесячных тратах на сотовую связь между москвичами и жителями других регионов не выявлено.\n",
        "\n",
        "Рекомендации:\n",
        "1. Интернет является основным драйвером роста абонентской платы. Возможно, стоит предложить пользователям тарифы, где в абонентскую плату будет входить только интернет-трафик.\n",
        "2. Оба тарифа приносят примерно одинаковый оборот (ultra - за счёт абонентской платы, smart - за счёт доплат и общего количества пользоватлей). Однако, если привлечение пользователей в тариф ultra обходится существенно дороже, чем в smart, стоит сконцентрировать усилия на тарифе smart.\n",
        "3. Москва не является приоритетным регионом для развития данного оператора, т.к. москвичи тратят на сотовую связь примерно столько же, сколько жители регионов. Для отбора регионов стоит сформировать репрезентативную выборку по регионам и проанализировать прочие факторы."
      ]
    }
  ],
  "metadata": {
    "ExecuteTimeLog": [
      {
        "duration": 9673,
        "start_time": "2021-10-15T08:49:01.406Z"
      },
      {
        "duration": 463,
        "start_time": "2021-10-15T08:50:12.155Z"
      },
      {
        "duration": 198,
        "start_time": "2021-10-15T08:52:13.940Z"
      },
      {
        "duration": 162,
        "start_time": "2021-10-15T08:52:36.900Z"
      },
      {
        "duration": 4,
        "start_time": "2021-10-15T08:58:25.774Z"
      },
      {
        "duration": 136,
        "start_time": "2021-10-15T09:14:53.888Z"
      },
      {
        "duration": 97,
        "start_time": "2021-10-15T09:18:40.810Z"
      },
      {
        "duration": 24,
        "start_time": "2021-10-15T09:22:06.155Z"
      },
      {
        "duration": 62,
        "start_time": "2021-10-15T09:22:44.194Z"
      },
      {
        "duration": 261,
        "start_time": "2021-10-15T09:27:11.132Z"
      },
      {
        "duration": 2,
        "start_time": "2021-10-15T09:31:15.820Z"
      },
      {
        "duration": 438,
        "start_time": "2021-10-15T09:47:18.515Z"
      },
      {
        "duration": 183,
        "start_time": "2021-10-15T09:47:49.114Z"
      },
      {
        "duration": 327,
        "start_time": "2021-10-15T09:51:44.994Z"
      },
      {
        "duration": 120,
        "start_time": "2021-10-15T09:52:02.041Z"
      },
      {
        "duration": 7,
        "start_time": "2021-10-15T10:08:18.919Z"
      },
      {
        "duration": 7,
        "start_time": "2021-10-15T10:08:28.164Z"
      },
      {
        "duration": 7,
        "start_time": "2021-10-15T10:08:37.564Z"
      },
      {
        "duration": 7,
        "start_time": "2021-10-15T10:08:48.854Z"
      },
      {
        "duration": 7,
        "start_time": "2021-10-15T10:08:57.356Z"
      },
      {
        "duration": 2,
        "start_time": "2021-10-15T10:13:47.999Z"
      },
      {
        "duration": 170,
        "start_time": "2021-10-15T10:25:17.169Z"
      },
      {
        "duration": 181,
        "start_time": "2021-10-15T10:25:42.705Z"
      },
      {
        "duration": 4327,
        "start_time": "2021-10-15T10:52:19.840Z"
      },
      {
        "duration": 4461,
        "start_time": "2021-10-15T10:57:47.696Z"
      },
      {
        "duration": 5568,
        "start_time": "2021-10-15T10:58:03.440Z"
      },
      {
        "duration": 6,
        "start_time": "2021-10-15T10:58:23.016Z"
      },
      {
        "duration": 4,
        "start_time": "2021-10-15T10:58:35.648Z"
      },
      {
        "duration": 22,
        "start_time": "2021-10-15T10:59:16.833Z"
      },
      {
        "duration": 26,
        "start_time": "2021-10-15T11:00:03.560Z"
      },
      {
        "duration": 2,
        "start_time": "2021-10-15T11:09:28.051Z"
      },
      {
        "duration": 2,
        "start_time": "2021-10-15T11:23:22.126Z"
      },
      {
        "duration": 3,
        "start_time": "2021-10-15T11:36:18.664Z"
      },
      {
        "duration": 2,
        "start_time": "2021-10-15T11:39:28.011Z"
      },
      {
        "duration": 2,
        "start_time": "2021-10-15T11:41:12.628Z"
      },
      {
        "duration": 273,
        "start_time": "2021-10-15T11:58:02.350Z"
      },
      {
        "duration": 250,
        "start_time": "2021-10-15T11:58:21.429Z"
      },
      {
        "duration": 17,
        "start_time": "2021-10-15T11:59:33.469Z"
      },
      {
        "duration": 4479,
        "start_time": "2021-10-15T12:00:54.166Z"
      },
      {
        "duration": 5689,
        "start_time": "2021-10-15T12:01:04.263Z"
      },
      {
        "duration": 1515,
        "start_time": "2021-10-15T12:01:25.247Z"
      },
      {
        "duration": 15,
        "start_time": "2021-10-15T12:02:14.174Z"
      },
      {
        "duration": 608,
        "start_time": "2021-10-15T12:03:00.407Z"
      },
      {
        "duration": 276,
        "start_time": "2021-10-15T12:03:26.231Z"
      },
      {
        "duration": 267,
        "start_time": "2021-10-15T12:05:11.879Z"
      },
      {
        "duration": 63,
        "start_time": "2021-10-15T12:14:48.521Z"
      },
      {
        "duration": 102,
        "start_time": "2021-10-15T12:17:02.193Z"
      },
      {
        "duration": 453,
        "start_time": "2021-10-26T09:32:53.233Z"
      },
      {
        "duration": 13808,
        "start_time": "2021-10-26T09:34:09.420Z"
      },
      {
        "duration": 1719,
        "start_time": "2021-10-26T09:34:23.231Z"
      },
      {
        "duration": 188,
        "start_time": "2021-10-26T09:34:24.958Z"
      },
      {
        "duration": 473,
        "start_time": "2021-10-26T09:34:25.149Z"
      },
      {
        "duration": 47,
        "start_time": "2021-10-26T09:34:25.625Z"
      },
      {
        "duration": 10,
        "start_time": "2021-10-26T09:34:25.675Z"
      },
      {
        "duration": 226,
        "start_time": "2021-10-26T09:34:25.687Z"
      },
      {
        "duration": 163,
        "start_time": "2021-10-26T09:34:25.917Z"
      },
      {
        "duration": 450,
        "start_time": "2021-10-26T09:34:26.082Z"
      },
      {
        "duration": 460,
        "start_time": "2021-10-26T09:34:26.534Z"
      },
      {
        "duration": 12088,
        "start_time": "2021-10-26T09:34:26.997Z"
      },
      {
        "duration": 180,
        "start_time": "2021-10-26T09:34:38.908Z"
      },
      {
        "duration": 180,
        "start_time": "2021-10-26T09:34:38.910Z"
      },
      {
        "duration": 14,
        "start_time": "2021-10-26T09:35:42.641Z"
      },
      {
        "duration": 13,
        "start_time": "2021-10-26T09:36:13.042Z"
      },
      {
        "duration": 379,
        "start_time": "2021-10-26T09:36:41.138Z"
      },
      {
        "duration": 392,
        "start_time": "2021-10-26T09:36:44.714Z"
      },
      {
        "duration": 12,
        "start_time": "2021-10-26T09:36:57.267Z"
      },
      {
        "duration": 417,
        "start_time": "2021-10-26T09:37:02.154Z"
      },
      {
        "duration": 177,
        "start_time": "2021-10-26T09:37:13.187Z"
      },
      {
        "duration": 26,
        "start_time": "2021-10-26T09:38:29.122Z"
      },
      {
        "duration": 26,
        "start_time": "2021-10-26T09:38:50.994Z"
      },
      {
        "duration": 24,
        "start_time": "2021-10-26T09:39:03.858Z"
      },
      {
        "duration": 424,
        "start_time": "2021-10-26T09:40:51.403Z"
      },
      {
        "duration": 23,
        "start_time": "2021-10-26T09:41:00.683Z"
      },
      {
        "duration": 50,
        "start_time": "2021-10-26T09:43:22.340Z"
      },
      {
        "duration": 402,
        "start_time": "2021-10-26T09:45:27.124Z"
      },
      {
        "duration": 33,
        "start_time": "2021-10-26T09:45:38.830Z"
      },
      {
        "duration": 34,
        "start_time": "2021-10-26T09:45:45.156Z"
      },
      {
        "duration": 46,
        "start_time": "2021-10-26T09:45:50.492Z"
      },
      {
        "duration": 841,
        "start_time": "2021-10-26T09:48:01.997Z"
      },
      {
        "duration": 52,
        "start_time": "2021-10-26T09:48:19.189Z"
      },
      {
        "duration": 624,
        "start_time": "2021-10-26T09:48:48.877Z"
      },
      {
        "duration": 52,
        "start_time": "2021-10-26T09:49:57.766Z"
      },
      {
        "duration": 188,
        "start_time": "2021-10-26T09:51:21.404Z"
      },
      {
        "duration": 17161,
        "start_time": "2021-10-26T09:51:37.427Z"
      },
      {
        "duration": 54,
        "start_time": "2021-10-26T09:52:09.494Z"
      },
      {
        "duration": 541,
        "start_time": "2021-10-26T09:52:23.717Z"
      },
      {
        "duration": 45,
        "start_time": "2021-10-26T09:52:49.070Z"
      },
      {
        "duration": 38,
        "start_time": "2021-10-26T09:53:11.486Z"
      },
      {
        "duration": 46,
        "start_time": "2021-10-26T09:53:33.566Z"
      },
      {
        "duration": 46,
        "start_time": "2021-10-26T09:54:34.430Z"
      },
      {
        "duration": 45,
        "start_time": "2021-10-26T09:54:57.302Z"
      },
      {
        "duration": 42,
        "start_time": "2021-10-26T09:56:29.519Z"
      },
      {
        "duration": 42,
        "start_time": "2021-10-26T09:57:54.720Z"
      },
      {
        "duration": 164,
        "start_time": "2021-10-26T09:58:42.983Z"
      },
      {
        "duration": 108,
        "start_time": "2021-10-26T10:01:57.704Z"
      },
      {
        "duration": 70,
        "start_time": "2021-10-26T10:04:57.753Z"
      },
      {
        "duration": 31,
        "start_time": "2021-10-26T10:05:10.048Z"
      },
      {
        "duration": 97,
        "start_time": "2021-10-26T10:07:36.017Z"
      },
      {
        "duration": 10,
        "start_time": "2021-10-26T10:57:50.181Z"
      },
      {
        "duration": 488,
        "start_time": "2021-10-26T10:59:42.669Z"
      },
      {
        "duration": 10,
        "start_time": "2021-10-26T10:59:52.733Z"
      },
      {
        "duration": 9,
        "start_time": "2021-10-26T11:00:26.101Z"
      },
      {
        "duration": 28,
        "start_time": "2021-10-26T11:14:00.376Z"
      },
      {
        "duration": 8,
        "start_time": "2021-10-26T11:16:46.441Z"
      },
      {
        "duration": 35,
        "start_time": "2021-10-26T11:19:02.049Z"
      },
      {
        "duration": 36,
        "start_time": "2021-10-26T11:19:10.921Z"
      },
      {
        "duration": 13,
        "start_time": "2021-10-26T11:34:07.847Z"
      },
      {
        "duration": 19,
        "start_time": "2021-10-26T11:34:12.133Z"
      },
      {
        "duration": 410,
        "start_time": "2021-10-26T11:34:55.053Z"
      },
      {
        "duration": 144,
        "start_time": "2021-10-26T11:35:33.293Z"
      },
      {
        "duration": 51,
        "start_time": "2021-10-26T11:35:46.814Z"
      },
      {
        "duration": 124,
        "start_time": "2021-10-26T11:35:58.014Z"
      },
      {
        "duration": 117,
        "start_time": "2021-10-26T11:36:34.829Z"
      },
      {
        "duration": 43,
        "start_time": "2021-10-26T11:36:44.933Z"
      },
      {
        "duration": 94,
        "start_time": "2021-10-26T11:36:56.789Z"
      },
      {
        "duration": 49,
        "start_time": "2021-10-26T11:37:04.789Z"
      },
      {
        "duration": 5286,
        "start_time": "2021-10-26T11:37:34.938Z"
      },
      {
        "duration": 275,
        "start_time": "2021-10-26T11:37:40.227Z"
      },
      {
        "duration": 187,
        "start_time": "2021-10-26T11:37:40.505Z"
      },
      {
        "duration": 455,
        "start_time": "2021-10-26T11:37:40.695Z"
      },
      {
        "duration": 34,
        "start_time": "2021-10-26T11:37:41.152Z"
      },
      {
        "duration": 77,
        "start_time": "2021-10-26T11:37:41.188Z"
      },
      {
        "duration": 221,
        "start_time": "2021-10-26T11:37:41.267Z"
      },
      {
        "duration": 148,
        "start_time": "2021-10-26T11:37:41.491Z"
      },
      {
        "duration": 462,
        "start_time": "2021-10-26T11:37:41.642Z"
      },
      {
        "duration": 475,
        "start_time": "2021-10-26T11:37:42.107Z"
      },
      {
        "duration": 47,
        "start_time": "2021-10-26T11:37:42.584Z"
      },
      {
        "duration": 182,
        "start_time": "2021-10-26T11:37:42.634Z"
      },
      {
        "duration": 122,
        "start_time": "2021-10-26T11:37:42.818Z"
      },
      {
        "duration": 61,
        "start_time": "2021-10-26T11:37:42.942Z"
      },
      {
        "duration": 35,
        "start_time": "2021-10-26T11:37:43.005Z"
      },
      {
        "duration": 54,
        "start_time": "2021-10-26T11:37:43.042Z"
      },
      {
        "duration": 13,
        "start_time": "2021-10-26T11:37:43.099Z"
      },
      {
        "duration": 11,
        "start_time": "2021-10-26T11:37:43.114Z"
      },
      {
        "duration": 54,
        "start_time": "2021-10-26T11:37:43.128Z"
      },
      {
        "duration": 32,
        "start_time": "2021-10-26T11:37:43.184Z"
      },
      {
        "duration": 494,
        "start_time": "2021-10-26T11:37:45.272Z"
      },
      {
        "duration": 385,
        "start_time": "2021-10-26T11:38:05.145Z"
      },
      {
        "duration": 446,
        "start_time": "2021-10-26T11:38:16.768Z"
      },
      {
        "duration": 80,
        "start_time": "2021-10-26T11:38:23.888Z"
      },
      {
        "duration": 27,
        "start_time": "2021-10-26T11:38:59.673Z"
      },
      {
        "duration": 35,
        "start_time": "2021-10-26T11:41:03.137Z"
      },
      {
        "duration": 27,
        "start_time": "2021-10-26T11:41:19.705Z"
      },
      {
        "duration": 34,
        "start_time": "2021-10-26T11:41:32.881Z"
      },
      {
        "duration": 27,
        "start_time": "2021-10-26T11:41:38.176Z"
      },
      {
        "duration": 28,
        "start_time": "2021-10-26T11:43:26.242Z"
      },
      {
        "duration": 29,
        "start_time": "2021-10-26T11:43:39.257Z"
      },
      {
        "duration": 30,
        "start_time": "2021-10-26T11:44:04.370Z"
      },
      {
        "duration": 30,
        "start_time": "2021-10-26T11:44:09.409Z"
      },
      {
        "duration": 38,
        "start_time": "2021-10-26T11:45:45.978Z"
      },
      {
        "duration": 54,
        "start_time": "2021-10-26T11:48:25.003Z"
      },
      {
        "duration": 52,
        "start_time": "2021-10-26T11:48:55.947Z"
      },
      {
        "duration": 52,
        "start_time": "2021-10-26T11:49:53.043Z"
      },
      {
        "duration": 56,
        "start_time": "2021-10-26T11:50:10.381Z"
      },
      {
        "duration": 39,
        "start_time": "2021-10-26T11:50:30.515Z"
      },
      {
        "duration": 51,
        "start_time": "2021-10-26T11:50:54.435Z"
      },
      {
        "duration": 39,
        "start_time": "2021-10-26T11:51:03.747Z"
      },
      {
        "duration": 39,
        "start_time": "2021-10-26T11:51:35.403Z"
      },
      {
        "duration": 57,
        "start_time": "2021-10-26T11:51:42.883Z"
      },
      {
        "duration": 142,
        "start_time": "2021-10-26T12:04:33.390Z"
      },
      {
        "duration": 380,
        "start_time": "2021-10-26T12:04:44.117Z"
      },
      {
        "duration": 385,
        "start_time": "2021-10-26T12:04:56.294Z"
      },
      {
        "duration": 399,
        "start_time": "2021-10-26T12:05:04.582Z"
      },
      {
        "duration": 1550,
        "start_time": "2021-10-26T12:05:24.574Z"
      },
      {
        "duration": 57,
        "start_time": "2021-10-26T12:05:35.134Z"
      },
      {
        "duration": 58,
        "start_time": "2021-10-26T12:07:05.303Z"
      },
      {
        "duration": 60,
        "start_time": "2021-10-26T12:07:09.734Z"
      },
      {
        "duration": 60,
        "start_time": "2021-10-26T12:07:44.279Z"
      },
      {
        "duration": 8,
        "start_time": "2021-10-26T13:41:56.808Z"
      },
      {
        "duration": 38,
        "start_time": "2021-10-26T13:43:23.972Z"
      },
      {
        "duration": 41,
        "start_time": "2021-10-26T13:49:28.031Z"
      },
      {
        "duration": 5348,
        "start_time": "2021-10-26T13:50:01.274Z"
      },
      {
        "duration": 355,
        "start_time": "2021-10-26T13:50:06.625Z"
      },
      {
        "duration": 190,
        "start_time": "2021-10-26T13:50:06.983Z"
      },
      {
        "duration": 449,
        "start_time": "2021-10-26T13:50:07.176Z"
      },
      {
        "duration": 46,
        "start_time": "2021-10-26T13:50:07.628Z"
      },
      {
        "duration": 65,
        "start_time": "2021-10-26T13:50:07.677Z"
      },
      {
        "duration": 223,
        "start_time": "2021-10-26T13:50:07.757Z"
      },
      {
        "duration": 151,
        "start_time": "2021-10-26T13:50:07.984Z"
      },
      {
        "duration": 445,
        "start_time": "2021-10-26T13:50:08.138Z"
      },
      {
        "duration": 486,
        "start_time": "2021-10-26T13:50:08.585Z"
      },
      {
        "duration": 46,
        "start_time": "2021-10-26T13:50:09.074Z"
      },
      {
        "duration": 159,
        "start_time": "2021-10-26T13:50:09.123Z"
      },
      {
        "duration": 127,
        "start_time": "2021-10-26T13:50:09.284Z"
      },
      {
        "duration": 62,
        "start_time": "2021-10-26T13:50:09.413Z"
      },
      {
        "duration": 35,
        "start_time": "2021-10-26T13:50:09.478Z"
      },
      {
        "duration": 56,
        "start_time": "2021-10-26T13:50:09.517Z"
      },
      {
        "duration": 11,
        "start_time": "2021-10-26T13:50:09.577Z"
      },
      {
        "duration": 11,
        "start_time": "2021-10-26T13:50:09.591Z"
      },
      {
        "duration": 66,
        "start_time": "2021-10-26T13:50:09.605Z"
      },
      {
        "duration": 34,
        "start_time": "2021-10-26T13:50:09.674Z"
      },
      {
        "duration": 93,
        "start_time": "2021-10-26T13:50:09.712Z"
      },
      {
        "duration": 56,
        "start_time": "2021-10-26T13:50:09.809Z"
      },
      {
        "duration": 38,
        "start_time": "2021-10-26T13:55:12.517Z"
      },
      {
        "duration": 11,
        "start_time": "2021-10-26T14:04:09.677Z"
      },
      {
        "duration": 115,
        "start_time": "2021-10-26T14:04:19.284Z"
      },
      {
        "duration": 54,
        "start_time": "2021-10-26T14:04:25.773Z"
      },
      {
        "duration": 527,
        "start_time": "2021-10-26T14:10:07.014Z"
      },
      {
        "duration": 9,
        "start_time": "2021-10-26T14:10:36.090Z"
      },
      {
        "duration": 69,
        "start_time": "2021-10-26T14:10:42.647Z"
      },
      {
        "duration": 79,
        "start_time": "2021-10-26T14:14:50.800Z"
      },
      {
        "duration": 6,
        "start_time": "2021-10-26T14:16:49.806Z"
      },
      {
        "duration": 5475,
        "start_time": "2021-10-26T14:29:17.281Z"
      },
      {
        "duration": 413,
        "start_time": "2021-10-26T14:29:22.760Z"
      },
      {
        "duration": 196,
        "start_time": "2021-10-26T14:29:23.176Z"
      },
      {
        "duration": 454,
        "start_time": "2021-10-26T14:29:23.376Z"
      },
      {
        "duration": 39,
        "start_time": "2021-10-26T14:29:23.833Z"
      },
      {
        "duration": 63,
        "start_time": "2021-10-26T14:29:23.874Z"
      },
      {
        "duration": 232,
        "start_time": "2021-10-26T14:29:23.939Z"
      },
      {
        "duration": 152,
        "start_time": "2021-10-26T14:29:24.174Z"
      },
      {
        "duration": 454,
        "start_time": "2021-10-26T14:29:24.329Z"
      },
      {
        "duration": 457,
        "start_time": "2021-10-26T14:29:24.785Z"
      },
      {
        "duration": 59,
        "start_time": "2021-10-26T14:29:25.244Z"
      },
      {
        "duration": 219,
        "start_time": "2021-10-26T14:29:25.306Z"
      },
      {
        "duration": 142,
        "start_time": "2021-10-26T14:29:25.529Z"
      },
      {
        "duration": 55,
        "start_time": "2021-10-26T14:29:25.673Z"
      },
      {
        "duration": 47,
        "start_time": "2021-10-26T14:29:25.731Z"
      },
      {
        "duration": 65,
        "start_time": "2021-10-26T14:29:25.781Z"
      },
      {
        "duration": 13,
        "start_time": "2021-10-26T14:29:25.849Z"
      },
      {
        "duration": 8,
        "start_time": "2021-10-26T14:29:25.865Z"
      },
      {
        "duration": 34,
        "start_time": "2021-10-26T14:29:25.876Z"
      },
      {
        "duration": 66,
        "start_time": "2021-10-26T14:29:25.912Z"
      },
      {
        "duration": 81,
        "start_time": "2021-10-26T14:29:25.980Z"
      },
      {
        "duration": 36,
        "start_time": "2021-10-26T14:29:26.064Z"
      },
      {
        "duration": 5,
        "start_time": "2021-10-26T14:29:26.104Z"
      },
      {
        "duration": 69,
        "start_time": "2021-10-26T14:29:26.112Z"
      },
      {
        "duration": 41,
        "start_time": "2021-10-26T14:32:17.504Z"
      },
      {
        "duration": 38,
        "start_time": "2021-10-26T14:38:03.952Z"
      },
      {
        "duration": 532,
        "start_time": "2021-10-26T14:47:42.557Z"
      },
      {
        "duration": 5795,
        "start_time": "2021-10-26T14:47:59.116Z"
      },
      {
        "duration": 263,
        "start_time": "2021-10-26T14:48:04.914Z"
      },
      {
        "duration": 234,
        "start_time": "2021-10-26T14:48:05.180Z"
      },
      {
        "duration": 513,
        "start_time": "2021-10-26T14:48:05.418Z"
      },
      {
        "duration": 46,
        "start_time": "2021-10-26T14:48:05.934Z"
      },
      {
        "duration": 77,
        "start_time": "2021-10-26T14:48:05.982Z"
      },
      {
        "duration": 224,
        "start_time": "2021-10-26T14:48:06.062Z"
      },
      {
        "duration": 147,
        "start_time": "2021-10-26T14:48:06.290Z"
      },
      {
        "duration": 442,
        "start_time": "2021-10-26T14:48:06.440Z"
      },
      {
        "duration": 461,
        "start_time": "2021-10-26T14:48:06.885Z"
      },
      {
        "duration": 49,
        "start_time": "2021-10-26T14:48:07.349Z"
      },
      {
        "duration": 166,
        "start_time": "2021-10-26T14:48:07.401Z"
      },
      {
        "duration": 144,
        "start_time": "2021-10-26T14:48:07.570Z"
      },
      {
        "duration": 66,
        "start_time": "2021-10-26T14:48:07.716Z"
      },
      {
        "duration": 37,
        "start_time": "2021-10-26T14:48:07.785Z"
      },
      {
        "duration": 64,
        "start_time": "2021-10-26T14:48:07.825Z"
      },
      {
        "duration": 10,
        "start_time": "2021-10-26T14:48:07.891Z"
      },
      {
        "duration": 11,
        "start_time": "2021-10-26T14:48:07.904Z"
      },
      {
        "duration": 54,
        "start_time": "2021-10-26T14:48:07.918Z"
      },
      {
        "duration": 32,
        "start_time": "2021-10-26T14:48:07.975Z"
      },
      {
        "duration": 88,
        "start_time": "2021-10-26T14:48:08.009Z"
      },
      {
        "duration": 38,
        "start_time": "2021-10-26T14:48:08.099Z"
      },
      {
        "duration": 18,
        "start_time": "2021-10-26T14:48:08.141Z"
      },
      {
        "duration": 36,
        "start_time": "2021-10-26T14:48:08.162Z"
      },
      {
        "duration": 39,
        "start_time": "2021-10-26T14:48:12.022Z"
      },
      {
        "duration": 37,
        "start_time": "2021-10-26T14:48:20.879Z"
      },
      {
        "duration": 49,
        "start_time": "2021-10-26T14:49:32.238Z"
      },
      {
        "duration": 667,
        "start_time": "2021-10-26T14:54:10.976Z"
      },
      {
        "duration": 16,
        "start_time": "2021-10-26T14:54:40.599Z"
      },
      {
        "duration": 16,
        "start_time": "2021-10-26T14:54:54.327Z"
      },
      {
        "duration": 15,
        "start_time": "2021-10-26T14:56:19.551Z"
      },
      {
        "duration": 57,
        "start_time": "2021-10-26T14:56:50.950Z"
      },
      {
        "duration": 13,
        "start_time": "2021-10-26T14:57:37.688Z"
      },
      {
        "duration": 914,
        "start_time": "2021-10-26T14:58:21.073Z"
      },
      {
        "duration": 51,
        "start_time": "2021-10-26T15:00:56.551Z"
      },
      {
        "duration": 122,
        "start_time": "2021-10-26T15:01:37.048Z"
      },
      {
        "duration": 43,
        "start_time": "2021-10-26T15:01:44.431Z"
      },
      {
        "duration": 47,
        "start_time": "2021-10-26T15:04:25.425Z"
      },
      {
        "duration": 50,
        "start_time": "2021-10-26T15:12:16.769Z"
      },
      {
        "duration": 1332,
        "start_time": "2021-10-26T15:12:50.878Z"
      },
      {
        "duration": 266,
        "start_time": "2021-10-26T15:12:52.212Z"
      },
      {
        "duration": 188,
        "start_time": "2021-10-26T15:12:52.481Z"
      },
      {
        "duration": 446,
        "start_time": "2021-10-26T15:12:52.672Z"
      },
      {
        "duration": 43,
        "start_time": "2021-10-26T15:12:53.120Z"
      },
      {
        "duration": 64,
        "start_time": "2021-10-26T15:12:53.165Z"
      },
      {
        "duration": 225,
        "start_time": "2021-10-26T15:12:53.232Z"
      },
      {
        "duration": 143,
        "start_time": "2021-10-26T15:12:53.461Z"
      },
      {
        "duration": 450,
        "start_time": "2021-10-26T15:12:53.607Z"
      },
      {
        "duration": 459,
        "start_time": "2021-10-26T15:12:54.060Z"
      },
      {
        "duration": 56,
        "start_time": "2021-10-26T15:12:54.521Z"
      },
      {
        "duration": 143,
        "start_time": "2021-10-26T15:12:54.579Z"
      },
      {
        "duration": 135,
        "start_time": "2021-10-26T15:12:54.724Z"
      },
      {
        "duration": 50,
        "start_time": "2021-10-26T15:12:54.861Z"
      },
      {
        "duration": 51,
        "start_time": "2021-10-26T15:12:54.914Z"
      },
      {
        "duration": 70,
        "start_time": "2021-10-26T15:12:54.967Z"
      },
      {
        "duration": 11,
        "start_time": "2021-10-26T15:12:55.039Z"
      },
      {
        "duration": 33,
        "start_time": "2021-10-26T15:12:55.052Z"
      },
      {
        "duration": 34,
        "start_time": "2021-10-26T15:12:55.088Z"
      },
      {
        "duration": 49,
        "start_time": "2021-10-26T15:12:55.124Z"
      },
      {
        "duration": 58,
        "start_time": "2021-10-26T15:12:55.176Z"
      },
      {
        "duration": 58,
        "start_time": "2021-10-26T15:12:55.236Z"
      },
      {
        "duration": 6,
        "start_time": "2021-10-26T15:12:55.300Z"
      },
      {
        "duration": 65,
        "start_time": "2021-10-26T15:12:55.309Z"
      },
      {
        "duration": 41,
        "start_time": "2021-10-26T15:12:55.376Z"
      },
      {
        "duration": 59,
        "start_time": "2021-10-26T15:12:55.419Z"
      },
      {
        "duration": 51,
        "start_time": "2021-10-26T15:13:16.869Z"
      },
      {
        "duration": 955,
        "start_time": "2021-10-26T15:13:31.704Z"
      },
      {
        "duration": 47,
        "start_time": "2021-10-26T15:14:06.335Z"
      },
      {
        "duration": 13,
        "start_time": "2021-10-26T15:14:11.472Z"
      },
      {
        "duration": 12,
        "start_time": "2021-10-26T15:14:21.383Z"
      },
      {
        "duration": 132,
        "start_time": "2021-10-26T15:14:40.551Z"
      },
      {
        "duration": 121,
        "start_time": "2021-10-26T15:14:48.280Z"
      },
      {
        "duration": 14,
        "start_time": "2021-10-26T15:15:16.911Z"
      },
      {
        "duration": 15,
        "start_time": "2021-10-26T15:15:37.167Z"
      },
      {
        "duration": 16,
        "start_time": "2021-10-26T15:15:58.312Z"
      },
      {
        "duration": 17,
        "start_time": "2021-10-26T15:16:33.536Z"
      },
      {
        "duration": 14,
        "start_time": "2021-10-26T15:16:55.735Z"
      },
      {
        "duration": 980,
        "start_time": "2021-10-26T15:17:18.935Z"
      },
      {
        "duration": 12,
        "start_time": "2021-10-26T15:17:35.119Z"
      },
      {
        "duration": 50,
        "start_time": "2021-10-26T15:17:39.591Z"
      },
      {
        "duration": 491,
        "start_time": "2021-10-26T15:19:57.017Z"
      },
      {
        "duration": 48,
        "start_time": "2021-10-26T15:20:17.944Z"
      },
      {
        "duration": 49,
        "start_time": "2021-10-26T15:20:50.306Z"
      },
      {
        "duration": 47,
        "start_time": "2021-10-26T15:21:22.889Z"
      },
      {
        "duration": 48,
        "start_time": "2021-10-26T15:25:38.433Z"
      },
      {
        "duration": 33,
        "start_time": "2021-10-26T15:29:06.089Z"
      },
      {
        "duration": 28,
        "start_time": "2021-10-26T15:33:18.265Z"
      },
      {
        "duration": 677,
        "start_time": "2021-10-26T15:38:52.001Z"
      },
      {
        "duration": 28,
        "start_time": "2021-10-26T15:39:23.154Z"
      },
      {
        "duration": 413,
        "start_time": "2021-10-26T15:45:48.050Z"
      },
      {
        "duration": 423,
        "start_time": "2021-10-26T15:46:44.036Z"
      },
      {
        "duration": 169,
        "start_time": "2021-10-26T15:46:59.796Z"
      },
      {
        "duration": 403,
        "start_time": "2021-10-26T15:47:09.578Z"
      },
      {
        "duration": 32,
        "start_time": "2021-10-26T15:47:38.531Z"
      },
      {
        "duration": 11,
        "start_time": "2021-10-26T15:47:49.370Z"
      },
      {
        "duration": 11,
        "start_time": "2021-10-26T15:48:08.585Z"
      },
      {
        "duration": 15,
        "start_time": "2021-10-26T15:48:24.721Z"
      },
      {
        "duration": 13,
        "start_time": "2021-10-26T15:48:52.570Z"
      },
      {
        "duration": 13,
        "start_time": "2021-10-26T15:50:09.954Z"
      },
      {
        "duration": 14,
        "start_time": "2021-10-26T15:50:18.321Z"
      },
      {
        "duration": 13,
        "start_time": "2021-10-26T15:50:25.978Z"
      },
      {
        "duration": 125,
        "start_time": "2021-10-26T15:50:34.329Z"
      },
      {
        "duration": 117,
        "start_time": "2021-10-26T15:50:39.817Z"
      },
      {
        "duration": 14,
        "start_time": "2021-10-26T15:51:09.531Z"
      },
      {
        "duration": 332,
        "start_time": "2021-10-26T15:54:22.027Z"
      },
      {
        "duration": 909,
        "start_time": "2021-10-26T15:56:39.499Z"
      },
      {
        "duration": 714,
        "start_time": "2021-10-26T15:57:51.155Z"
      },
      {
        "duration": 714,
        "start_time": "2021-10-26T15:58:53.604Z"
      },
      {
        "duration": 555,
        "start_time": "2021-10-26T15:59:00.483Z"
      },
      {
        "duration": 902,
        "start_time": "2021-10-26T15:59:06.210Z"
      },
      {
        "duration": 851,
        "start_time": "2021-10-26T15:59:14.244Z"
      },
      {
        "duration": 552,
        "start_time": "2021-10-26T15:59:19.308Z"
      },
      {
        "duration": 639,
        "start_time": "2021-10-26T15:59:40.674Z"
      },
      {
        "duration": 128,
        "start_time": "2021-10-26T15:59:56.098Z"
      },
      {
        "duration": 558,
        "start_time": "2021-10-26T16:00:09.595Z"
      },
      {
        "duration": 559,
        "start_time": "2021-10-26T16:08:00.820Z"
      },
      {
        "duration": 561,
        "start_time": "2021-10-26T16:08:40.308Z"
      },
      {
        "duration": 663,
        "start_time": "2021-10-26T16:09:02.835Z"
      },
      {
        "duration": 550,
        "start_time": "2021-10-26T16:09:22.362Z"
      },
      {
        "duration": 633,
        "start_time": "2021-10-26T16:09:30.395Z"
      },
      {
        "duration": 650,
        "start_time": "2021-10-26T16:09:35.155Z"
      },
      {
        "duration": 546,
        "start_time": "2021-10-26T16:09:42.869Z"
      },
      {
        "duration": 555,
        "start_time": "2021-10-26T16:09:47.667Z"
      },
      {
        "duration": 641,
        "start_time": "2021-10-26T16:09:52.396Z"
      },
      {
        "duration": 537,
        "start_time": "2021-10-26T16:10:05.571Z"
      },
      {
        "duration": 582,
        "start_time": "2021-10-26T16:10:55.675Z"
      },
      {
        "duration": 601,
        "start_time": "2021-10-26T16:11:05.923Z"
      },
      {
        "duration": 589,
        "start_time": "2021-10-26T16:11:17.851Z"
      },
      {
        "duration": 694,
        "start_time": "2021-10-26T16:11:49.363Z"
      },
      {
        "duration": 582,
        "start_time": "2021-10-26T16:13:13.556Z"
      },
      {
        "duration": 587,
        "start_time": "2021-10-26T16:13:44.499Z"
      },
      {
        "duration": 4739,
        "start_time": "2021-10-26T16:14:30.420Z"
      },
      {
        "duration": 4711,
        "start_time": "2021-10-26T16:14:57.094Z"
      },
      {
        "duration": 600,
        "start_time": "2021-10-26T16:15:34.723Z"
      },
      {
        "duration": 578,
        "start_time": "2021-10-26T16:15:44.331Z"
      },
      {
        "duration": 580,
        "start_time": "2021-10-26T16:16:05.803Z"
      },
      {
        "duration": 579,
        "start_time": "2021-10-26T16:16:25.308Z"
      },
      {
        "duration": 860,
        "start_time": "2021-10-26T16:20:14.125Z"
      },
      {
        "duration": 606,
        "start_time": "2021-10-26T16:22:59.190Z"
      },
      {
        "duration": 382,
        "start_time": "2021-10-26T16:32:07.357Z"
      },
      {
        "duration": 769,
        "start_time": "2021-10-26T16:32:16.318Z"
      },
      {
        "duration": 759,
        "start_time": "2021-10-26T16:32:36.512Z"
      },
      {
        "duration": 470,
        "start_time": "2021-10-26T16:33:02.008Z"
      },
      {
        "duration": 472,
        "start_time": "2021-10-26T16:33:09.566Z"
      },
      {
        "duration": 588,
        "start_time": "2021-10-26T16:33:18.654Z"
      },
      {
        "duration": 579,
        "start_time": "2021-10-26T16:33:33.893Z"
      },
      {
        "duration": 481,
        "start_time": "2021-10-26T16:33:46.926Z"
      },
      {
        "duration": 468,
        "start_time": "2021-10-26T16:33:59.302Z"
      },
      {
        "duration": 525,
        "start_time": "2021-10-26T16:34:41.511Z"
      },
      {
        "duration": 504,
        "start_time": "2021-10-26T16:34:56.573Z"
      },
      {
        "duration": 496,
        "start_time": "2021-10-26T16:35:17.873Z"
      },
      {
        "duration": 607,
        "start_time": "2021-10-26T16:35:23.390Z"
      },
      {
        "duration": 490,
        "start_time": "2021-10-26T16:35:37.614Z"
      },
      {
        "duration": 951,
        "start_time": "2021-10-26T16:36:00.766Z"
      },
      {
        "duration": 764,
        "start_time": "2021-10-26T16:36:11.429Z"
      },
      {
        "duration": 496,
        "start_time": "2021-10-26T16:36:15.918Z"
      },
      {
        "duration": 511,
        "start_time": "2021-10-26T16:36:19.781Z"
      },
      {
        "duration": 631,
        "start_time": "2021-10-26T16:36:25.685Z"
      },
      {
        "duration": 824,
        "start_time": "2021-10-26T16:36:54.773Z"
      },
      {
        "duration": 873,
        "start_time": "2021-10-26T16:37:09.653Z"
      },
      {
        "duration": 857,
        "start_time": "2021-10-26T16:37:53.286Z"
      },
      {
        "duration": 490,
        "start_time": "2021-10-26T16:38:05.518Z"
      },
      {
        "duration": 598,
        "start_time": "2021-10-26T16:38:19.542Z"
      },
      {
        "duration": 515,
        "start_time": "2021-10-26T16:38:39.005Z"
      },
      {
        "duration": 505,
        "start_time": "2021-10-26T16:38:47.877Z"
      },
      {
        "duration": 486,
        "start_time": "2021-10-26T16:40:31.846Z"
      },
      {
        "duration": 564,
        "start_time": "2021-10-26T16:40:39.238Z"
      },
      {
        "duration": 553,
        "start_time": "2021-10-26T16:40:49.070Z"
      },
      {
        "duration": 623,
        "start_time": "2021-10-26T16:41:04.189Z"
      },
      {
        "duration": 513,
        "start_time": "2021-10-26T16:41:09.862Z"
      },
      {
        "duration": 939,
        "start_time": "2021-10-26T16:42:22.359Z"
      },
      {
        "duration": 911,
        "start_time": "2021-10-26T16:42:32.846Z"
      },
      {
        "duration": 517,
        "start_time": "2021-10-26T16:42:48.439Z"
      },
      {
        "duration": 639,
        "start_time": "2021-10-26T16:42:56.214Z"
      },
      {
        "duration": 533,
        "start_time": "2021-10-26T16:43:17.173Z"
      },
      {
        "duration": 529,
        "start_time": "2021-10-26T16:43:36.518Z"
      },
      {
        "duration": 517,
        "start_time": "2021-10-26T16:44:57.295Z"
      },
      {
        "duration": 560,
        "start_time": "2021-10-26T16:45:14.123Z"
      },
      {
        "duration": 646,
        "start_time": "2021-10-26T16:45:30.728Z"
      },
      {
        "duration": 971,
        "start_time": "2021-10-26T16:46:04.751Z"
      },
      {
        "duration": 1005,
        "start_time": "2021-10-26T16:46:33.991Z"
      },
      {
        "duration": 1051,
        "start_time": "2021-10-26T16:46:51.038Z"
      },
      {
        "duration": 1456,
        "start_time": "2021-10-26T16:47:01.183Z"
      },
      {
        "duration": 1990,
        "start_time": "2021-10-26T16:47:08.846Z"
      },
      {
        "duration": 1210,
        "start_time": "2021-10-26T16:47:17.134Z"
      },
      {
        "duration": 863,
        "start_time": "2021-10-26T16:47:36.486Z"
      },
      {
        "duration": 770,
        "start_time": "2021-10-26T16:48:12.846Z"
      },
      {
        "duration": 28,
        "start_time": "2021-10-26T16:51:53.895Z"
      },
      {
        "duration": 14,
        "start_time": "2021-10-26T16:59:16.063Z"
      },
      {
        "duration": 575,
        "start_time": "2021-10-26T17:00:51.178Z"
      },
      {
        "duration": 33,
        "start_time": "2021-10-26T17:14:23.057Z"
      },
      {
        "duration": 15,
        "start_time": "2021-10-26T17:16:07.345Z"
      },
      {
        "duration": 576,
        "start_time": "2021-10-26T17:17:13.129Z"
      },
      {
        "duration": 668,
        "start_time": "2021-10-26T17:17:33.802Z"
      },
      {
        "duration": 358,
        "start_time": "2021-10-26T17:42:55.877Z"
      },
      {
        "duration": 13,
        "start_time": "2021-10-26T17:43:39.494Z"
      },
      {
        "duration": 15,
        "start_time": "2021-10-26T17:45:52.106Z"
      },
      {
        "duration": 386,
        "start_time": "2021-10-26T17:46:16.393Z"
      },
      {
        "duration": 15,
        "start_time": "2021-10-26T17:46:24.994Z"
      },
      {
        "duration": 6,
        "start_time": "2021-10-26T17:51:34.410Z"
      },
      {
        "duration": 6,
        "start_time": "2021-10-26T17:51:56.913Z"
      },
      {
        "duration": 11,
        "start_time": "2021-10-26T17:52:38.962Z"
      },
      {
        "duration": 21,
        "start_time": "2021-10-26T17:53:12.449Z"
      },
      {
        "duration": 27,
        "start_time": "2021-10-26T17:53:57.657Z"
      },
      {
        "duration": 39,
        "start_time": "2021-10-26T17:55:30.330Z"
      },
      {
        "duration": 32,
        "start_time": "2021-10-26T17:59:25.873Z"
      },
      {
        "duration": 1759,
        "start_time": "2021-10-26T18:13:20.865Z"
      },
      {
        "duration": 357,
        "start_time": "2021-10-26T18:13:22.627Z"
      },
      {
        "duration": 247,
        "start_time": "2021-10-26T18:13:22.988Z"
      },
      {
        "duration": 507,
        "start_time": "2021-10-26T18:13:23.238Z"
      },
      {
        "duration": 39,
        "start_time": "2021-10-26T18:13:23.748Z"
      },
      {
        "duration": 80,
        "start_time": "2021-10-26T18:13:23.790Z"
      },
      {
        "duration": 217,
        "start_time": "2021-10-26T18:13:23.873Z"
      },
      {
        "duration": 150,
        "start_time": "2021-10-26T18:13:24.093Z"
      },
      {
        "duration": 486,
        "start_time": "2021-10-26T18:13:24.246Z"
      },
      {
        "duration": 474,
        "start_time": "2021-10-26T18:13:24.734Z"
      },
      {
        "duration": 57,
        "start_time": "2021-10-26T18:13:25.210Z"
      },
      {
        "duration": 150,
        "start_time": "2021-10-26T18:13:25.270Z"
      },
      {
        "duration": 140,
        "start_time": "2021-10-26T18:13:25.423Z"
      },
      {
        "duration": 55,
        "start_time": "2021-10-26T18:13:25.566Z"
      },
      {
        "duration": 53,
        "start_time": "2021-10-26T18:13:25.624Z"
      },
      {
        "duration": 61,
        "start_time": "2021-10-26T18:13:25.680Z"
      },
      {
        "duration": 18,
        "start_time": "2021-10-26T18:13:25.744Z"
      },
      {
        "duration": 12,
        "start_time": "2021-10-26T18:13:25.764Z"
      },
      {
        "duration": 23,
        "start_time": "2021-10-26T18:13:25.778Z"
      },
      {
        "duration": 84,
        "start_time": "2021-10-26T18:13:25.804Z"
      },
      {
        "duration": 61,
        "start_time": "2021-10-26T18:13:25.890Z"
      },
      {
        "duration": 39,
        "start_time": "2021-10-26T18:13:25.953Z"
      },
      {
        "duration": 5,
        "start_time": "2021-10-26T18:13:25.997Z"
      },
      {
        "duration": 57,
        "start_time": "2021-10-26T18:13:26.005Z"
      },
      {
        "duration": 40,
        "start_time": "2021-10-26T18:13:26.065Z"
      },
      {
        "duration": 63,
        "start_time": "2021-10-26T18:13:26.107Z"
      },
      {
        "duration": 54,
        "start_time": "2021-10-26T18:13:26.173Z"
      },
      {
        "duration": 64,
        "start_time": "2021-10-26T18:13:26.229Z"
      },
      {
        "duration": 37,
        "start_time": "2021-10-26T18:13:26.295Z"
      },
      {
        "duration": 54,
        "start_time": "2021-10-26T18:13:26.334Z"
      },
      {
        "duration": 17,
        "start_time": "2021-10-26T18:13:26.391Z"
      },
      {
        "duration": 643,
        "start_time": "2021-10-26T18:13:26.412Z"
      },
      {
        "duration": 29,
        "start_time": "2021-10-26T18:13:27.058Z"
      },
      {
        "duration": 13,
        "start_time": "2021-10-26T18:13:27.090Z"
      },
      {
        "duration": 654,
        "start_time": "2021-10-26T18:13:27.106Z"
      },
      {
        "duration": 31,
        "start_time": "2021-10-26T18:13:27.763Z"
      },
      {
        "duration": 14,
        "start_time": "2021-10-26T18:13:27.796Z"
      },
      {
        "duration": 633,
        "start_time": "2021-10-26T18:13:27.813Z"
      },
      {
        "duration": 39,
        "start_time": "2021-10-26T18:13:28.448Z"
      },
      {
        "duration": 34,
        "start_time": "2021-10-26T18:13:28.489Z"
      },
      {
        "duration": 1511,
        "start_time": "2021-10-27T06:35:43.482Z"
      },
      {
        "duration": 249,
        "start_time": "2021-10-27T06:35:44.996Z"
      },
      {
        "duration": 181,
        "start_time": "2021-10-27T06:35:45.248Z"
      },
      {
        "duration": 456,
        "start_time": "2021-10-27T06:35:45.432Z"
      },
      {
        "duration": 44,
        "start_time": "2021-10-27T06:35:45.890Z"
      },
      {
        "duration": 52,
        "start_time": "2021-10-27T06:35:45.936Z"
      },
      {
        "duration": 230,
        "start_time": "2021-10-27T06:35:45.991Z"
      },
      {
        "duration": 143,
        "start_time": "2021-10-27T06:35:46.229Z"
      },
      {
        "duration": 459,
        "start_time": "2021-10-27T06:35:46.375Z"
      },
      {
        "duration": 455,
        "start_time": "2021-10-27T06:35:46.836Z"
      },
      {
        "duration": 59,
        "start_time": "2021-10-27T06:35:47.294Z"
      },
      {
        "duration": 137,
        "start_time": "2021-10-27T06:35:47.355Z"
      },
      {
        "duration": 120,
        "start_time": "2021-10-27T06:35:47.494Z"
      },
      {
        "duration": 57,
        "start_time": "2021-10-27T06:35:47.617Z"
      },
      {
        "duration": 30,
        "start_time": "2021-10-27T06:35:47.676Z"
      },
      {
        "duration": 50,
        "start_time": "2021-10-27T06:35:47.709Z"
      },
      {
        "duration": 9,
        "start_time": "2021-10-27T06:35:47.762Z"
      },
      {
        "duration": 9,
        "start_time": "2021-10-27T06:35:47.774Z"
      },
      {
        "duration": 56,
        "start_time": "2021-10-27T06:35:47.785Z"
      },
      {
        "duration": 40,
        "start_time": "2021-10-27T06:35:47.844Z"
      },
      {
        "duration": 92,
        "start_time": "2021-10-27T06:35:47.887Z"
      },
      {
        "duration": 51,
        "start_time": "2021-10-27T06:35:47.981Z"
      },
      {
        "duration": 5,
        "start_time": "2021-10-27T06:35:48.037Z"
      },
      {
        "duration": 33,
        "start_time": "2021-10-27T06:35:48.045Z"
      },
      {
        "duration": 67,
        "start_time": "2021-10-27T06:35:48.081Z"
      },
      {
        "duration": 37,
        "start_time": "2021-10-27T06:35:48.150Z"
      },
      {
        "duration": 73,
        "start_time": "2021-10-27T06:35:48.190Z"
      },
      {
        "duration": 43,
        "start_time": "2021-10-27T06:35:48.266Z"
      },
      {
        "duration": 29,
        "start_time": "2021-10-27T06:35:48.330Z"
      },
      {
        "duration": 26,
        "start_time": "2021-10-27T06:35:48.361Z"
      },
      {
        "duration": 43,
        "start_time": "2021-10-27T06:35:48.389Z"
      },
      {
        "duration": 604,
        "start_time": "2021-10-27T06:35:48.434Z"
      },
      {
        "duration": 25,
        "start_time": "2021-10-27T06:35:49.041Z"
      },
      {
        "duration": 12,
        "start_time": "2021-10-27T06:35:49.068Z"
      },
      {
        "duration": 625,
        "start_time": "2021-10-27T06:35:49.082Z"
      },
      {
        "duration": 38,
        "start_time": "2021-10-27T06:35:49.710Z"
      },
      {
        "duration": 13,
        "start_time": "2021-10-27T06:35:49.750Z"
      },
      {
        "duration": 611,
        "start_time": "2021-10-27T06:35:49.765Z"
      },
      {
        "duration": 33,
        "start_time": "2021-10-27T06:35:50.378Z"
      },
      {
        "duration": 47,
        "start_time": "2021-10-27T06:35:50.413Z"
      },
      {
        "duration": 1345,
        "start_time": "2021-10-27T14:35:29.875Z"
      },
      {
        "duration": 176,
        "start_time": "2021-10-27T14:35:31.222Z"
      },
      {
        "duration": 124,
        "start_time": "2021-10-27T14:35:31.400Z"
      },
      {
        "duration": 267,
        "start_time": "2021-10-27T14:35:31.526Z"
      },
      {
        "duration": 24,
        "start_time": "2021-10-27T14:35:31.794Z"
      },
      {
        "duration": 35,
        "start_time": "2021-10-27T14:35:31.820Z"
      },
      {
        "duration": 167,
        "start_time": "2021-10-27T14:35:31.857Z"
      },
      {
        "duration": 99,
        "start_time": "2021-10-27T14:35:32.026Z"
      },
      {
        "duration": 267,
        "start_time": "2021-10-27T14:35:32.127Z"
      },
      {
        "duration": 271,
        "start_time": "2021-10-27T14:35:32.395Z"
      },
      {
        "duration": 37,
        "start_time": "2021-10-27T14:35:32.668Z"
      },
      {
        "duration": 96,
        "start_time": "2021-10-27T14:35:32.707Z"
      },
      {
        "duration": 68,
        "start_time": "2021-10-27T14:35:32.805Z"
      },
      {
        "duration": 45,
        "start_time": "2021-10-27T14:35:32.875Z"
      },
      {
        "duration": 23,
        "start_time": "2021-10-27T14:35:32.922Z"
      },
      {
        "duration": 93,
        "start_time": "2021-10-27T14:35:32.947Z"
      },
      {
        "duration": 9,
        "start_time": "2021-10-27T14:35:33.042Z"
      },
      {
        "duration": 5,
        "start_time": "2021-10-27T14:35:33.053Z"
      },
      {
        "duration": 17,
        "start_time": "2021-10-27T14:35:33.060Z"
      },
      {
        "duration": 20,
        "start_time": "2021-10-27T14:35:33.078Z"
      },
      {
        "duration": 33,
        "start_time": "2021-10-27T14:35:33.100Z"
      },
      {
        "duration": 20,
        "start_time": "2021-10-27T14:35:33.134Z"
      },
      {
        "duration": 3,
        "start_time": "2021-10-27T14:35:33.157Z"
      },
      {
        "duration": 44,
        "start_time": "2021-10-27T14:35:33.162Z"
      },
      {
        "duration": 22,
        "start_time": "2021-10-27T14:35:33.208Z"
      },
      {
        "duration": 20,
        "start_time": "2021-10-27T14:35:33.232Z"
      },
      {
        "duration": 57,
        "start_time": "2021-10-27T14:35:33.254Z"
      },
      {
        "duration": 25,
        "start_time": "2021-10-27T14:35:33.313Z"
      },
      {
        "duration": 18,
        "start_time": "2021-10-27T14:35:33.340Z"
      },
      {
        "duration": 45,
        "start_time": "2021-10-27T14:35:33.359Z"
      },
      {
        "duration": 10,
        "start_time": "2021-10-27T14:35:33.405Z"
      },
      {
        "duration": 358,
        "start_time": "2021-10-27T14:35:33.417Z"
      },
      {
        "duration": 26,
        "start_time": "2021-10-27T14:35:33.777Z"
      },
      {
        "duration": 9,
        "start_time": "2021-10-27T14:35:33.805Z"
      },
      {
        "duration": 356,
        "start_time": "2021-10-27T14:35:33.816Z"
      },
      {
        "duration": 29,
        "start_time": "2021-10-27T14:35:34.174Z"
      },
      {
        "duration": 10,
        "start_time": "2021-10-27T14:35:34.204Z"
      },
      {
        "duration": 521,
        "start_time": "2021-10-27T14:35:34.216Z"
      },
      {
        "duration": 25,
        "start_time": "2021-10-27T14:35:34.792Z"
      },
      {
        "duration": 86,
        "start_time": "2021-10-27T14:35:34.819Z"
      },
      {
        "duration": 306,
        "start_time": "2021-10-27T14:39:33.885Z"
      },
      {
        "duration": 70,
        "start_time": "2021-10-27T14:39:35.068Z"
      },
      {
        "duration": 11,
        "start_time": "2021-10-27T14:42:38.525Z"
      },
      {
        "duration": 11,
        "start_time": "2021-10-27T14:42:43.846Z"
      },
      {
        "duration": 420,
        "start_time": "2021-10-27T15:05:47.240Z"
      },
      {
        "duration": 1126,
        "start_time": "2021-10-27T15:05:56.586Z"
      },
      {
        "duration": 187,
        "start_time": "2021-10-27T15:05:57.714Z"
      },
      {
        "duration": 125,
        "start_time": "2021-10-27T15:05:57.903Z"
      },
      {
        "duration": 267,
        "start_time": "2021-10-27T15:06:01.829Z"
      },
      {
        "duration": 276,
        "start_time": "2021-10-27T15:07:29.061Z"
      },
      {
        "duration": 165,
        "start_time": "2021-10-27T15:08:13.269Z"
      },
      {
        "duration": 266,
        "start_time": "2021-10-27T15:09:23.317Z"
      },
      {
        "duration": 411,
        "start_time": "2021-10-27T15:09:59.180Z"
      },
      {
        "duration": 3,
        "start_time": "2021-10-27T15:10:03.705Z"
      },
      {
        "duration": 176,
        "start_time": "2021-10-27T15:10:03.712Z"
      },
      {
        "duration": 128,
        "start_time": "2021-10-27T15:10:03.890Z"
      },
      {
        "duration": 282,
        "start_time": "2021-10-27T15:10:04.020Z"
      },
      {
        "duration": 22,
        "start_time": "2021-10-27T15:10:04.304Z"
      },
      {
        "duration": 31,
        "start_time": "2021-10-27T15:10:04.328Z"
      },
      {
        "duration": 148,
        "start_time": "2021-10-27T15:10:04.377Z"
      },
      {
        "duration": 103,
        "start_time": "2021-10-27T15:10:04.527Z"
      },
      {
        "duration": 272,
        "start_time": "2021-10-27T15:10:08.836Z"
      },
      {
        "duration": 278,
        "start_time": "2021-10-27T15:10:22.925Z"
      },
      {
        "duration": 433,
        "start_time": "2021-10-27T15:11:16.005Z"
      },
      {
        "duration": 21,
        "start_time": "2021-10-27T15:12:02.637Z"
      },
      {
        "duration": 173,
        "start_time": "2021-10-27T15:12:39.798Z"
      },
      {
        "duration": 115,
        "start_time": "2021-10-27T15:14:53.996Z"
      },
      {
        "duration": 142,
        "start_time": "2021-10-27T15:30:26.774Z"
      },
      {
        "duration": 1101,
        "start_time": "2021-10-27T16:10:24.260Z"
      },
      {
        "duration": 183,
        "start_time": "2021-10-27T16:10:25.363Z"
      },
      {
        "duration": 133,
        "start_time": "2021-10-27T16:10:25.548Z"
      },
      {
        "duration": 294,
        "start_time": "2021-10-27T16:10:25.683Z"
      },
      {
        "duration": 19,
        "start_time": "2021-10-27T16:10:25.979Z"
      },
      {
        "duration": 37,
        "start_time": "2021-10-27T16:10:26.000Z"
      },
      {
        "duration": 180,
        "start_time": "2021-10-27T16:10:26.039Z"
      },
      {
        "duration": 110,
        "start_time": "2021-10-27T16:10:26.221Z"
      },
      {
        "duration": 290,
        "start_time": "2021-10-27T16:10:26.334Z"
      },
      {
        "duration": 284,
        "start_time": "2021-10-27T16:10:26.626Z"
      },
      {
        "duration": 32,
        "start_time": "2021-10-27T16:10:26.912Z"
      },
      {
        "duration": 107,
        "start_time": "2021-10-27T16:10:26.946Z"
      },
      {
        "duration": 89,
        "start_time": "2021-10-27T16:10:27.054Z"
      },
      {
        "duration": 50,
        "start_time": "2021-10-27T16:10:27.145Z"
      },
      {
        "duration": 25,
        "start_time": "2021-10-27T16:10:27.197Z"
      },
      {
        "duration": 41,
        "start_time": "2021-10-27T16:10:27.224Z"
      },
      {
        "duration": 8,
        "start_time": "2021-10-27T16:10:27.266Z"
      },
      {
        "duration": 8,
        "start_time": "2021-10-27T16:10:27.276Z"
      },
      {
        "duration": 18,
        "start_time": "2021-10-27T16:10:27.285Z"
      },
      {
        "duration": 25,
        "start_time": "2021-10-27T16:10:27.305Z"
      },
      {
        "duration": 67,
        "start_time": "2021-10-27T16:10:27.332Z"
      },
      {
        "duration": 27,
        "start_time": "2021-10-27T16:10:27.400Z"
      },
      {
        "duration": 5,
        "start_time": "2021-10-27T16:10:27.431Z"
      },
      {
        "duration": 44,
        "start_time": "2021-10-27T16:10:27.438Z"
      },
      {
        "duration": 25,
        "start_time": "2021-10-27T16:10:27.484Z"
      },
      {
        "duration": 22,
        "start_time": "2021-10-27T16:10:27.511Z"
      },
      {
        "duration": 59,
        "start_time": "2021-10-27T16:10:27.535Z"
      },
      {
        "duration": 27,
        "start_time": "2021-10-27T16:10:27.595Z"
      },
      {
        "duration": 19,
        "start_time": "2021-10-27T16:10:27.624Z"
      },
      {
        "duration": 46,
        "start_time": "2021-10-27T16:10:27.644Z"
      },
      {
        "duration": 10,
        "start_time": "2021-10-27T16:10:27.691Z"
      },
      {
        "duration": 395,
        "start_time": "2021-10-27T16:10:27.703Z"
      },
      {
        "duration": 19,
        "start_time": "2021-10-27T16:10:28.100Z"
      },
      {
        "duration": 10,
        "start_time": "2021-10-27T16:10:28.121Z"
      },
      {
        "duration": 390,
        "start_time": "2021-10-27T16:10:28.133Z"
      },
      {
        "duration": 17,
        "start_time": "2021-10-27T16:10:28.525Z"
      },
      {
        "duration": 9,
        "start_time": "2021-10-27T16:10:28.544Z"
      },
      {
        "duration": 403,
        "start_time": "2021-10-27T16:10:28.554Z"
      },
      {
        "duration": 35,
        "start_time": "2021-10-27T16:10:28.959Z"
      },
      {
        "duration": 23,
        "start_time": "2021-10-27T16:10:28.996Z"
      }
    ],
    "kernelspec": {
      "display_name": "Python 3 (ipykernel)",
      "language": "python",
      "name": "python3"
    },
    "language_info": {
      "codemirror_mode": {
        "name": "ipython",
        "version": 3
      },
      "file_extension": ".py",
      "mimetype": "text/x-python",
      "name": "python",
      "nbconvert_exporter": "python",
      "pygments_lexer": "ipython3",
      "version": "3.9.5"
    },
    "toc": {
      "base_numbering": 1,
      "nav_menu": {},
      "number_sections": true,
      "sideBar": true,
      "skip_h1_title": true,
      "title_cell": "Table of Contents",
      "title_sidebar": "Contents",
      "toc_cell": false,
      "toc_position": {
        "height": "calc(100% - 180px)",
        "left": "10px",
        "top": "150px",
        "width": "302.391px"
      },
      "toc_section_display": true,
      "toc_window_display": true
    },
    "colab": {
      "name": "DariaNika_stats&EDA_telecom.ipynb",
      "provenance": [],
      "collapsed_sections": [
        "6-jf7Xpw_UCt",
        "g6gDeFfL_UCv",
        "ivDSl9uN_UDC",
        "EPpjnNXQ_UDJ",
        "aYx5qPFL_UDL",
        "HfWVkBnf_UDN",
        "oPRcYa0w_UDP",
        "NwU4jTvx_UDT",
        "uEwZKOm-_UDV",
        "blxJUavF_UDW",
        "tMSrR-F__UDX"
      ]
    }
  },
  "nbformat": 4,
  "nbformat_minor": 0
}