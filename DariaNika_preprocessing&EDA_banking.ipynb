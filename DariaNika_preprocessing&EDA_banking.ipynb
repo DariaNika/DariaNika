{
  "cells": [
    {
      "cell_type": "markdown",
      "metadata": {
        "id": "P62AH8NC7UTn"
      },
      "source": [
        "# Исследование надёжности заёмщиков\n",
        "\n",
        "Заказчик — кредитный отдел банка. Нужно разобраться, влияет ли семейное положение и количество детей клиента на факт погашения кредита в срок. Входные данные от банка — статистика о платёжеспособности клиентов. Используются следующие инструменты:\n",
        "- частотный анализ \n",
        "- таблицы сопряжённости."
      ]
    },
    {
      "cell_type": "markdown",
      "metadata": {
        "id": "dOrMDbRc7UTo"
      },
      "source": [
        "## 1. Обзор данных"
      ]
    },
    {
      "cell_type": "code",
      "source": [
        "import pandas as pd\n",
        "from IPython.display import display\n",
        "! pip install missingno\n",
        "import missingno as msno\n",
        "from pymystem3 import Mystem\n",
        "from collections import Counter"
      ],
      "metadata": {
        "colab": {
          "base_uri": "https://localhost:8080/"
        },
        "id": "Lyf2TZMj9me1",
        "outputId": "9c687433-207a-42e5-94c1-3416109af3a1"
      },
      "execution_count": 1,
      "outputs": [
        {
          "output_type": "stream",
          "name": "stdout",
          "text": [
            "Looking in indexes: https://pypi.org/simple, https://us-python.pkg.dev/colab-wheels/public/simple/\n",
            "Requirement already satisfied: missingno in /usr/local/lib/python3.7/dist-packages (0.5.1)\n",
            "Requirement already satisfied: matplotlib in /usr/local/lib/python3.7/dist-packages (from missingno) (3.2.2)\n",
            "Requirement already satisfied: seaborn in /usr/local/lib/python3.7/dist-packages (from missingno) (0.11.2)\n",
            "Requirement already satisfied: numpy in /usr/local/lib/python3.7/dist-packages (from missingno) (1.21.6)\n",
            "Requirement already satisfied: scipy in /usr/local/lib/python3.7/dist-packages (from missingno) (1.4.1)\n",
            "Requirement already satisfied: kiwisolver>=1.0.1 in /usr/local/lib/python3.7/dist-packages (from matplotlib->missingno) (1.4.2)\n",
            "Requirement already satisfied: cycler>=0.10 in /usr/local/lib/python3.7/dist-packages (from matplotlib->missingno) (0.11.0)\n",
            "Requirement already satisfied: pyparsing!=2.0.4,!=2.1.2,!=2.1.6,>=2.0.1 in /usr/local/lib/python3.7/dist-packages (from matplotlib->missingno) (3.0.9)\n",
            "Requirement already satisfied: python-dateutil>=2.1 in /usr/local/lib/python3.7/dist-packages (from matplotlib->missingno) (2.8.2)\n",
            "Requirement already satisfied: typing-extensions in /usr/local/lib/python3.7/dist-packages (from kiwisolver>=1.0.1->matplotlib->missingno) (4.2.0)\n",
            "Requirement already satisfied: six>=1.5 in /usr/local/lib/python3.7/dist-packages (from python-dateutil>=2.1->matplotlib->missingno) (1.15.0)\n",
            "Requirement already satisfied: pandas>=0.23 in /usr/local/lib/python3.7/dist-packages (from seaborn->missingno) (1.3.5)\n",
            "Requirement already satisfied: pytz>=2017.3 in /usr/local/lib/python3.7/dist-packages (from pandas>=0.23->seaborn->missingno) (2022.1)\n"
          ]
        }
      ]
    },
    {
      "cell_type": "code",
      "execution_count": 2,
      "metadata": {
        "colab": {
          "base_uri": "https://localhost:8080/",
          "height": 0
        },
        "id": "1z2_Q7r57UTp",
        "outputId": "848bf460-5362-44b2-94bf-a1b818cc9ec8"
      },
      "outputs": [
        {
          "output_type": "display_data",
          "data": {
            "text/plain": [
              "       children  days_employed  dob_years education  education_id  \\\n",
              "0             1   -8437.673028         42    высшее             0   \n",
              "1             1   -4024.803754         36   среднее             1   \n",
              "2             0   -5623.422610         33   Среднее             1   \n",
              "3             3   -4124.747207         32   среднее             1   \n",
              "4             0  340266.072047         53   среднее             1   \n",
              "...         ...            ...        ...       ...           ...   \n",
              "21520         1   -4529.316663         43   среднее             1   \n",
              "21521         0  343937.404131         67   среднее             1   \n",
              "21522         1   -2113.346888         38   среднее             1   \n",
              "21523         3   -3112.481705         38   среднее             1   \n",
              "21524         2   -1984.507589         40   среднее             1   \n",
              "\n",
              "          family_status  family_status_id gender income_type  debt  \\\n",
              "0       женат / замужем                 0      F   сотрудник     0   \n",
              "1       женат / замужем                 0      F   сотрудник     0   \n",
              "2       женат / замужем                 0      M   сотрудник     0   \n",
              "3       женат / замужем                 0      M   сотрудник     0   \n",
              "4      гражданский брак                 1      F   пенсионер     0   \n",
              "...                 ...               ...    ...         ...   ...   \n",
              "21520  гражданский брак                 1      F   компаньон     0   \n",
              "21521   женат / замужем                 0      F   пенсионер     0   \n",
              "21522  гражданский брак                 1      M   сотрудник     1   \n",
              "21523   женат / замужем                 0      M   сотрудник     1   \n",
              "21524   женат / замужем                 0      F   сотрудник     0   \n",
              "\n",
              "        total_income                       purpose  \n",
              "0      253875.639453                 покупка жилья  \n",
              "1      112080.014102       приобретение автомобиля  \n",
              "2      145885.952297                 покупка жилья  \n",
              "3      267628.550329    дополнительное образование  \n",
              "4      158616.077870               сыграть свадьбу  \n",
              "...              ...                           ...  \n",
              "21520  224791.862382             операции с жильем  \n",
              "21521  155999.806512          сделка с автомобилем  \n",
              "21522   89672.561153                  недвижимость  \n",
              "21523  244093.050500  на покупку своего автомобиля  \n",
              "21524   82047.418899         на покупку автомобиля  \n",
              "\n",
              "[21525 rows x 12 columns]"
            ],
            "text/html": [
              "\n",
              "  <div id=\"df-67f04f7e-4ab4-42cf-981a-1d0c78949522\">\n",
              "    <div class=\"colab-df-container\">\n",
              "      <div>\n",
              "<style scoped>\n",
              "    .dataframe tbody tr th:only-of-type {\n",
              "        vertical-align: middle;\n",
              "    }\n",
              "\n",
              "    .dataframe tbody tr th {\n",
              "        vertical-align: top;\n",
              "    }\n",
              "\n",
              "    .dataframe thead th {\n",
              "        text-align: right;\n",
              "    }\n",
              "</style>\n",
              "<table border=\"1\" class=\"dataframe\">\n",
              "  <thead>\n",
              "    <tr style=\"text-align: right;\">\n",
              "      <th></th>\n",
              "      <th>children</th>\n",
              "      <th>days_employed</th>\n",
              "      <th>dob_years</th>\n",
              "      <th>education</th>\n",
              "      <th>education_id</th>\n",
              "      <th>family_status</th>\n",
              "      <th>family_status_id</th>\n",
              "      <th>gender</th>\n",
              "      <th>income_type</th>\n",
              "      <th>debt</th>\n",
              "      <th>total_income</th>\n",
              "      <th>purpose</th>\n",
              "    </tr>\n",
              "  </thead>\n",
              "  <tbody>\n",
              "    <tr>\n",
              "      <th>0</th>\n",
              "      <td>1</td>\n",
              "      <td>-8437.673028</td>\n",
              "      <td>42</td>\n",
              "      <td>высшее</td>\n",
              "      <td>0</td>\n",
              "      <td>женат / замужем</td>\n",
              "      <td>0</td>\n",
              "      <td>F</td>\n",
              "      <td>сотрудник</td>\n",
              "      <td>0</td>\n",
              "      <td>253875.639453</td>\n",
              "      <td>покупка жилья</td>\n",
              "    </tr>\n",
              "    <tr>\n",
              "      <th>1</th>\n",
              "      <td>1</td>\n",
              "      <td>-4024.803754</td>\n",
              "      <td>36</td>\n",
              "      <td>среднее</td>\n",
              "      <td>1</td>\n",
              "      <td>женат / замужем</td>\n",
              "      <td>0</td>\n",
              "      <td>F</td>\n",
              "      <td>сотрудник</td>\n",
              "      <td>0</td>\n",
              "      <td>112080.014102</td>\n",
              "      <td>приобретение автомобиля</td>\n",
              "    </tr>\n",
              "    <tr>\n",
              "      <th>2</th>\n",
              "      <td>0</td>\n",
              "      <td>-5623.422610</td>\n",
              "      <td>33</td>\n",
              "      <td>Среднее</td>\n",
              "      <td>1</td>\n",
              "      <td>женат / замужем</td>\n",
              "      <td>0</td>\n",
              "      <td>M</td>\n",
              "      <td>сотрудник</td>\n",
              "      <td>0</td>\n",
              "      <td>145885.952297</td>\n",
              "      <td>покупка жилья</td>\n",
              "    </tr>\n",
              "    <tr>\n",
              "      <th>3</th>\n",
              "      <td>3</td>\n",
              "      <td>-4124.747207</td>\n",
              "      <td>32</td>\n",
              "      <td>среднее</td>\n",
              "      <td>1</td>\n",
              "      <td>женат / замужем</td>\n",
              "      <td>0</td>\n",
              "      <td>M</td>\n",
              "      <td>сотрудник</td>\n",
              "      <td>0</td>\n",
              "      <td>267628.550329</td>\n",
              "      <td>дополнительное образование</td>\n",
              "    </tr>\n",
              "    <tr>\n",
              "      <th>4</th>\n",
              "      <td>0</td>\n",
              "      <td>340266.072047</td>\n",
              "      <td>53</td>\n",
              "      <td>среднее</td>\n",
              "      <td>1</td>\n",
              "      <td>гражданский брак</td>\n",
              "      <td>1</td>\n",
              "      <td>F</td>\n",
              "      <td>пенсионер</td>\n",
              "      <td>0</td>\n",
              "      <td>158616.077870</td>\n",
              "      <td>сыграть свадьбу</td>\n",
              "    </tr>\n",
              "    <tr>\n",
              "      <th>...</th>\n",
              "      <td>...</td>\n",
              "      <td>...</td>\n",
              "      <td>...</td>\n",
              "      <td>...</td>\n",
              "      <td>...</td>\n",
              "      <td>...</td>\n",
              "      <td>...</td>\n",
              "      <td>...</td>\n",
              "      <td>...</td>\n",
              "      <td>...</td>\n",
              "      <td>...</td>\n",
              "      <td>...</td>\n",
              "    </tr>\n",
              "    <tr>\n",
              "      <th>21520</th>\n",
              "      <td>1</td>\n",
              "      <td>-4529.316663</td>\n",
              "      <td>43</td>\n",
              "      <td>среднее</td>\n",
              "      <td>1</td>\n",
              "      <td>гражданский брак</td>\n",
              "      <td>1</td>\n",
              "      <td>F</td>\n",
              "      <td>компаньон</td>\n",
              "      <td>0</td>\n",
              "      <td>224791.862382</td>\n",
              "      <td>операции с жильем</td>\n",
              "    </tr>\n",
              "    <tr>\n",
              "      <th>21521</th>\n",
              "      <td>0</td>\n",
              "      <td>343937.404131</td>\n",
              "      <td>67</td>\n",
              "      <td>среднее</td>\n",
              "      <td>1</td>\n",
              "      <td>женат / замужем</td>\n",
              "      <td>0</td>\n",
              "      <td>F</td>\n",
              "      <td>пенсионер</td>\n",
              "      <td>0</td>\n",
              "      <td>155999.806512</td>\n",
              "      <td>сделка с автомобилем</td>\n",
              "    </tr>\n",
              "    <tr>\n",
              "      <th>21522</th>\n",
              "      <td>1</td>\n",
              "      <td>-2113.346888</td>\n",
              "      <td>38</td>\n",
              "      <td>среднее</td>\n",
              "      <td>1</td>\n",
              "      <td>гражданский брак</td>\n",
              "      <td>1</td>\n",
              "      <td>M</td>\n",
              "      <td>сотрудник</td>\n",
              "      <td>1</td>\n",
              "      <td>89672.561153</td>\n",
              "      <td>недвижимость</td>\n",
              "    </tr>\n",
              "    <tr>\n",
              "      <th>21523</th>\n",
              "      <td>3</td>\n",
              "      <td>-3112.481705</td>\n",
              "      <td>38</td>\n",
              "      <td>среднее</td>\n",
              "      <td>1</td>\n",
              "      <td>женат / замужем</td>\n",
              "      <td>0</td>\n",
              "      <td>M</td>\n",
              "      <td>сотрудник</td>\n",
              "      <td>1</td>\n",
              "      <td>244093.050500</td>\n",
              "      <td>на покупку своего автомобиля</td>\n",
              "    </tr>\n",
              "    <tr>\n",
              "      <th>21524</th>\n",
              "      <td>2</td>\n",
              "      <td>-1984.507589</td>\n",
              "      <td>40</td>\n",
              "      <td>среднее</td>\n",
              "      <td>1</td>\n",
              "      <td>женат / замужем</td>\n",
              "      <td>0</td>\n",
              "      <td>F</td>\n",
              "      <td>сотрудник</td>\n",
              "      <td>0</td>\n",
              "      <td>82047.418899</td>\n",
              "      <td>на покупку автомобиля</td>\n",
              "    </tr>\n",
              "  </tbody>\n",
              "</table>\n",
              "<p>21525 rows × 12 columns</p>\n",
              "</div>\n",
              "      <button class=\"colab-df-convert\" onclick=\"convertToInteractive('df-67f04f7e-4ab4-42cf-981a-1d0c78949522')\"\n",
              "              title=\"Convert this dataframe to an interactive table.\"\n",
              "              style=\"display:none;\">\n",
              "        \n",
              "  <svg xmlns=\"http://www.w3.org/2000/svg\" height=\"24px\"viewBox=\"0 0 24 24\"\n",
              "       width=\"24px\">\n",
              "    <path d=\"M0 0h24v24H0V0z\" fill=\"none\"/>\n",
              "    <path d=\"M18.56 5.44l.94 2.06.94-2.06 2.06-.94-2.06-.94-.94-2.06-.94 2.06-2.06.94zm-11 1L8.5 8.5l.94-2.06 2.06-.94-2.06-.94L8.5 2.5l-.94 2.06-2.06.94zm10 10l.94 2.06.94-2.06 2.06-.94-2.06-.94-.94-2.06-.94 2.06-2.06.94z\"/><path d=\"M17.41 7.96l-1.37-1.37c-.4-.4-.92-.59-1.43-.59-.52 0-1.04.2-1.43.59L10.3 9.45l-7.72 7.72c-.78.78-.78 2.05 0 2.83L4 21.41c.39.39.9.59 1.41.59.51 0 1.02-.2 1.41-.59l7.78-7.78 2.81-2.81c.8-.78.8-2.07 0-2.86zM5.41 20L4 18.59l7.72-7.72 1.47 1.35L5.41 20z\"/>\n",
              "  </svg>\n",
              "      </button>\n",
              "      \n",
              "  <style>\n",
              "    .colab-df-container {\n",
              "      display:flex;\n",
              "      flex-wrap:wrap;\n",
              "      gap: 12px;\n",
              "    }\n",
              "\n",
              "    .colab-df-convert {\n",
              "      background-color: #E8F0FE;\n",
              "      border: none;\n",
              "      border-radius: 50%;\n",
              "      cursor: pointer;\n",
              "      display: none;\n",
              "      fill: #1967D2;\n",
              "      height: 32px;\n",
              "      padding: 0 0 0 0;\n",
              "      width: 32px;\n",
              "    }\n",
              "\n",
              "    .colab-df-convert:hover {\n",
              "      background-color: #E2EBFA;\n",
              "      box-shadow: 0px 1px 2px rgba(60, 64, 67, 0.3), 0px 1px 3px 1px rgba(60, 64, 67, 0.15);\n",
              "      fill: #174EA6;\n",
              "    }\n",
              "\n",
              "    [theme=dark] .colab-df-convert {\n",
              "      background-color: #3B4455;\n",
              "      fill: #D2E3FC;\n",
              "    }\n",
              "\n",
              "    [theme=dark] .colab-df-convert:hover {\n",
              "      background-color: #434B5C;\n",
              "      box-shadow: 0px 1px 3px 1px rgba(0, 0, 0, 0.15);\n",
              "      filter: drop-shadow(0px 1px 2px rgba(0, 0, 0, 0.3));\n",
              "      fill: #FFFFFF;\n",
              "    }\n",
              "  </style>\n",
              "\n",
              "      <script>\n",
              "        const buttonEl =\n",
              "          document.querySelector('#df-67f04f7e-4ab4-42cf-981a-1d0c78949522 button.colab-df-convert');\n",
              "        buttonEl.style.display =\n",
              "          google.colab.kernel.accessAllowed ? 'block' : 'none';\n",
              "\n",
              "        async function convertToInteractive(key) {\n",
              "          const element = document.querySelector('#df-67f04f7e-4ab4-42cf-981a-1d0c78949522');\n",
              "          const dataTable =\n",
              "            await google.colab.kernel.invokeFunction('convertToInteractive',\n",
              "                                                     [key], {});\n",
              "          if (!dataTable) return;\n",
              "\n",
              "          const docLinkHtml = 'Like what you see? Visit the ' +\n",
              "            '<a target=\"_blank\" href=https://colab.research.google.com/notebooks/data_table.ipynb>data table notebook</a>'\n",
              "            + ' to learn more about interactive tables.';\n",
              "          element.innerHTML = '';\n",
              "          dataTable['output_type'] = 'display_data';\n",
              "          await google.colab.output.renderOutput(dataTable, element);\n",
              "          const docLink = document.createElement('div');\n",
              "          docLink.innerHTML = docLinkHtml;\n",
              "          element.appendChild(docLink);\n",
              "        }\n",
              "      </script>\n",
              "    </div>\n",
              "  </div>\n",
              "  "
            ]
          },
          "metadata": {}
        },
        {
          "output_type": "stream",
          "name": "stdout",
          "text": [
            "<class 'pandas.core.frame.DataFrame'>\n",
            "RangeIndex: 21525 entries, 0 to 21524\n",
            "Data columns (total 12 columns):\n",
            " #   Column            Non-Null Count  Dtype  \n",
            "---  ------            --------------  -----  \n",
            " 0   children          21525 non-null  int64  \n",
            " 1   days_employed     19351 non-null  float64\n",
            " 2   dob_years         21525 non-null  int64  \n",
            " 3   education         21525 non-null  object \n",
            " 4   education_id      21525 non-null  int64  \n",
            " 5   family_status     21525 non-null  object \n",
            " 6   family_status_id  21525 non-null  int64  \n",
            " 7   gender            21525 non-null  object \n",
            " 8   income_type       21525 non-null  object \n",
            " 9   debt              21525 non-null  int64  \n",
            " 10  total_income      19351 non-null  float64\n",
            " 11  purpose           21525 non-null  object \n",
            "dtypes: float64(2), int64(5), object(5)\n",
            "memory usage: 2.0+ MB\n"
          ]
        }
      ],
      "source": [
        "data = pd.read_csv('data.csv')\n",
        "display(data)\n",
        "data.info()"
      ]
    },
    {
      "cell_type": "code",
      "execution_count": 3,
      "metadata": {
        "colab": {
          "base_uri": "https://localhost:8080/",
          "height": 0
        },
        "id": "UFWLgtG67UTu",
        "outputId": "21bfa43b-a8a5-4310-99fe-017f25549d30"
      },
      "outputs": [
        {
          "output_type": "execute_result",
          "data": {
            "text/plain": [
              "<matplotlib.axes._subplots.AxesSubplot at 0x7f6adbddcf10>"
            ]
          },
          "metadata": {},
          "execution_count": 3
        },
        {
          "output_type": "display_data",
          "data": {
            "text/plain": [
              "<Figure size 1080x504 with 2 Axes>"
            ],
            "image/png": "[encoded data removed]"
          },
          "metadata": {
            "needs_background": "light"
          }
        }
      ],
      "source": [
        "msno.matrix(data, figsize=(15,7))"
      ]
    },
    {
      "cell_type": "code",
      "execution_count": 4,
      "metadata": {
        "colab": {
          "base_uri": "https://localhost:8080/",
          "height": 0
        },
        "id": "YKMnTnQ57UTu",
        "outputId": "a3924a86-e12f-41e0-858c-d02a7e6dd73f"
      },
      "outputs": [
        {
          "output_type": "execute_result",
          "data": {
            "text/plain": [
              "<matplotlib.axes._subplots.AxesSubplot at 0x7f6adbd99290>"
            ]
          },
          "metadata": {},
          "execution_count": 4
        },
        {
          "output_type": "display_data",
          "data": {
            "text/plain": [
              "<Figure size 1080x504 with 3 Axes>"
            ],
            "image/png": "[encoded data removed]"
          },
          "metadata": {
            "needs_background": "light"
          }
        }
      ],
      "source": [
        "msno.bar(data, figsize=(15,7))"
      ]
    },
    {
      "cell_type": "markdown",
      "metadata": {
        "id": "VriW9FvT7UTr"
      },
      "source": [
        "**Вывод**"
      ]
    },
    {
      "cell_type": "markdown",
      "metadata": {
        "id": "lXjxPmiE7UTs"
      },
      "source": [
        "Наша база данных содержит 12 столбцов и 21 525 строк. Для анализа мы воспользуемся в основном переменными семейного положения (family_status, family_status_id), количества детей (children) и переменной факта погашения кредита в срок (debt). Также для подтверждения дополнительных гипотез мы будем работать с переменными дохода (income_type, total_income) и цели кредита (purpose). Сразу обратим внимание на пропуски в переменных занятости и дохода, которые происходят синхронно. Пока можно предположить, что это безработные или пенсионеры."
      ]
    },
    {
      "cell_type": "markdown",
      "metadata": {
        "id": "CBdIPUdX7UTu"
      },
      "source": [
        "## 2. Предобработка данных"
      ]
    },
    {
      "cell_type": "markdown",
      "metadata": {
        "id": "8AqcwEyc7UTv"
      },
      "source": [
        "### Обработка пропусков\n",
        "\n",
        "Проверим корректность данных в двух переменных семейного положения, построив сводную таблицу по ним."
      ]
    },
    {
      "cell_type": "code",
      "execution_count": 5,
      "metadata": {
        "colab": {
          "base_uri": "https://localhost:8080/"
        },
        "id": "qW6sNakS7UTv",
        "outputId": "74440186-adab-4735-d237-8f2a4a3cee06"
      },
      "outputs": [
        {
          "output_type": "stream",
          "name": "stdout",
          "text": [
            "family_status_id             0       1      2       3       4\n",
            "family_status                                                \n",
            "Не женат / не замужем      NaN     NaN    NaN     NaN  2813.0\n",
            "в разводе                  NaN     NaN    NaN  1195.0     NaN\n",
            "вдовец / вдова             NaN     NaN  960.0     NaN     NaN\n",
            "гражданский брак           NaN  4177.0    NaN     NaN     NaN\n",
            "женат / замужем        12380.0     NaN    NaN     NaN     NaN\n"
          ]
        },
        {
          "output_type": "execute_result",
          "data": {
            "text/plain": [
              "21525.0"
            ]
          },
          "metadata": {},
          "execution_count": 5
        }
      ],
      "source": [
        "data_pivot_family = data.pivot_table(index=['family_status'], columns='family_status_id', values='debt', aggfunc='count')\n",
        "print(data_pivot_family.head(10))\n",
        "data_pivot_family.head(10).sum().sum()\n"
      ]
    },
    {
      "cell_type": "markdown",
      "metadata": {
        "id": "fOjjg3Cg7UTw"
      },
      "source": [
        "Переменная заполнена корректно. Каждой категории family_status соответствует только одна категория family_status_id. Уровни (значения) переменной достаточно наполнены для статистического анализа. Пропусков нет ни в одной, ни в другой переменной.\n",
        "\n",
        "Проверим корректность заполнения переменой количества детей, проанализировав частоту встречи каждого значения."
      ]
    },
    {
      "cell_type": "code",
      "execution_count": 6,
      "metadata": {
        "colab": {
          "base_uri": "https://localhost:8080/"
        },
        "id": "yViXGpno7UTw",
        "outputId": "ab3ed62d-226f-410f-a1ec-a2100c317d33"
      },
      "outputs": [
        {
          "output_type": "stream",
          "name": "stdout",
          "text": [
            " 0     14149\n",
            " 1      4818\n",
            " 2      2055\n",
            " 3       330\n",
            " 20       76\n",
            "-1        47\n",
            " 4        41\n",
            " 5         9\n",
            "Name: children, dtype: int64\n"
          ]
        },
        {
          "output_type": "execute_result",
          "data": {
            "text/plain": [
              "0"
            ]
          },
          "metadata": {},
          "execution_count": 6
        }
      ],
      "source": [
        "print(data['children'].value_counts())\n",
        "data['children'].isnull().sum()"
      ]
    },
    {
      "cell_type": "markdown",
      "metadata": {
        "id": "t4mCfNIz7UTx"
      },
      "source": [
        "В данных нет пропусков, однако есть \"артефакты\" - значения \"-1\" и \"20\", причём встречающиеся не единожды. В масштабе общего массива это 0,57% строк. Посмотрим, сколько из них приходится на на нашу основную зависимую переменную наличия просрочки по кредитам."
      ]
    },
    {
      "cell_type": "code",
      "execution_count": 7,
      "metadata": {
        "colab": {
          "base_uri": "https://localhost:8080/"
        },
        "id": "7JTywEAm7UTx",
        "outputId": "6ddf5138-6967-41b5-e835-a10b3083c9d3"
      },
      "outputs": [
        {
          "output_type": "stream",
          "name": "stdout",
          "text": [
            "debt    9\n",
            "dtype: int64\n",
            "1741\n"
          ]
        }
      ],
      "source": [
        "data_children_artefacts = data.loc[((data['children'] == 20) | (data['children'] == -1)), ['debt']]\n",
        "print(data_children_artefacts.sum())\n",
        "print(data['debt'].sum())"
      ]
    },
    {
      "cell_type": "markdown",
      "metadata": {
        "id": "EZ0wbwgY7UTy"
      },
      "source": [
        "Итоговая модель будет основываться на отличиях 1 741 случая от всего массива, поэтому эти случаи наиболее важны. Среди них также 0,51% строк с неверными зчениями количества детей, что незначительно. У нас нет информации о причинах возникновения таких значений переменной, скорее всего, ошибка вызвана ручным вводом, а восстановить данные о количестве детей по другим столбцам таблицы не представляется возможным. Поэтому примем решение удалить строки с артефактами в переменной children."
      ]
    },
    {
      "cell_type": "code",
      "execution_count": 8,
      "metadata": {
        "colab": {
          "base_uri": "https://localhost:8080/"
        },
        "id": "ep5bcK0C7UTz",
        "outputId": "2ef5bb71-ecad-4147-d32c-d81e7327b532"
      },
      "outputs": [
        {
          "output_type": "stream",
          "name": "stdout",
          "text": [
            "0    14149\n",
            "1     4818\n",
            "2     2055\n",
            "3      330\n",
            "4       41\n",
            "5        9\n",
            "Name: children, dtype: int64\n"
          ]
        }
      ],
      "source": [
        "data = data.loc[(data['children'] <= 5) & (data['children'] >= 0)]\n",
        "data.reset_index(drop=True, inplace=True)\n",
        "print(data['children'].value_counts())"
      ]
    },
    {
      "cell_type": "markdown",
      "metadata": {
        "id": "tXz2Yy9-7UT0"
      },
      "source": [
        "Проверим корректность заполнения переменой невозврата кредита, проанализировав частоту встречи каждого значения и посчитаем пропуски."
      ]
    },
    {
      "cell_type": "code",
      "execution_count": 9,
      "metadata": {
        "colab": {
          "base_uri": "https://localhost:8080/"
        },
        "id": "-EBecgpM7UT0",
        "outputId": "b42d2057-f6e2-40dc-9907-476282d6c47c"
      },
      "outputs": [
        {
          "output_type": "stream",
          "name": "stdout",
          "text": [
            "0    19670\n",
            "1     1732\n",
            "Name: debt, dtype: int64\n"
          ]
        },
        {
          "output_type": "execute_result",
          "data": {
            "text/plain": [
              "0"
            ]
          },
          "metadata": {},
          "execution_count": 9
        }
      ],
      "source": [
        "print(data['debt'].value_counts())\n",
        "data['debt'].isnull().sum()"
      ]
    },
    {
      "cell_type": "markdown",
      "metadata": {
        "id": "A4kAvA2G7UT1"
      },
      "source": [
        "У переменной нет пропущенных значений и артефактов. Посмотрим на переменную дохода:"
      ]
    },
    {
      "cell_type": "code",
      "execution_count": 10,
      "metadata": {
        "colab": {
          "base_uri": "https://localhost:8080/"
        },
        "id": "YKzfLbwd7UT1",
        "outputId": "d8b57d88-de3d-4098-dee7-8d64e1beb1ad"
      },
      "outputs": [
        {
          "output_type": "stream",
          "name": "stdout",
          "text": [
            "167449\n",
            "145021\n",
            "20667\n",
            "2265604\n"
          ]
        },
        {
          "output_type": "execute_result",
          "data": {
            "text/plain": [
              "2162"
            ]
          },
          "metadata": {},
          "execution_count": 10
        }
      ],
      "source": [
        "print(round(data['total_income'].mean()))\n",
        "print(round(data['total_income'].median()))\n",
        "print(round(data['total_income'].min()))\n",
        "print(round(data['total_income'].max()))\n",
        "\n",
        "data['total_income'].isnull().sum()"
      ]
    },
    {
      "cell_type": "markdown",
      "metadata": {
        "id": "ly97or2q7UT1"
      },
      "source": [
        "Здесь среднее отличается от медианы на 15% (из-за отдельных высоких доходов), разброс от 20 тыс. до 2,3 млн в базе данных банка. Информации о единицах измерения нет, однако для наших вычислений это не имеет большого значения. Пропущенных данных много. Можем ли мы их восстановить хотя бы по медиане дохода в группах по типу занятости? Посмотрим, как  медиана дохода меняется в этих группах:"
      ]
    },
    {
      "cell_type": "code",
      "execution_count": 11,
      "metadata": {
        "colab": {
          "base_uri": "https://localhost:8080/"
        },
        "id": "TiarUoN47UT1",
        "outputId": "430786db-9de4-4904-c9de-d60d7dfdb59e"
      },
      "outputs": [
        {
          "output_type": "execute_result",
          "data": {
            "text/plain": [
              "income_type\n",
              "в декрете           53829.0\n",
              "студент             98202.0\n",
              "пенсионер          118481.0\n",
              "безработный        131340.0\n",
              "сотрудник          142588.0\n",
              "госслужащий        150420.0\n",
              "компаньон          172517.0\n",
              "предприниматель    499163.0\n",
              "Name: total_income, dtype: float64"
            ]
          },
          "metadata": {},
          "execution_count": 11
        }
      ],
      "source": [
        "data.groupby('income_type')['total_income'].median().sort_values().round()"
      ]
    },
    {
      "cell_type": "markdown",
      "metadata": {
        "id": "wvP87n6g7UT2"
      },
      "source": [
        "Выше мы уже видели, что в переменной типа дохода нет пропусков, поэтому её менять мы не будем.\n",
        "Логика явно присутствует. У пенсионеров доход меньше, у работающих - больше. Используем эту логику для заполнения пропусков в переменной размера дохода.\n",
        "\n",
        "Стоит уточнить категорию \"компаньон\", но мы работаем в рамках ограниченной информации, и такой возможности у нас нет. \n",
        "\n",
        "Посмотрим, в каких категориях переменной income_type есть пропуски по цифре дохода."
      ]
    },
    {
      "cell_type": "code",
      "execution_count": 12,
      "metadata": {
        "colab": {
          "base_uri": "https://localhost:8080/"
        },
        "id": "fPiNi7w37UT2",
        "outputId": "aa449d8e-e338-4fb4-8f98-cc0ec64bf794"
      },
      "outputs": [
        {
          "output_type": "stream",
          "name": "stdout",
          "text": [
            "сотрудник          1101\n",
            "компаньон           504\n",
            "пенсионер           410\n",
            "госслужащий         146\n",
            "предприниматель       1\n",
            "Name: income_type, dtype: int64\n",
            "сотрудник          11050\n",
            "компаньон           5054\n",
            "пенсионер           3839\n",
            "госслужащий         1453\n",
            "безработный            2\n",
            "предприниматель        2\n",
            "студент                1\n",
            "в декрете              1\n",
            "Name: income_type, dtype: int64\n"
          ]
        }
      ],
      "source": [
        "no_income_data = data[data['total_income'].isna()]\n",
        "print(no_income_data['income_type'].value_counts())\n",
        "\n",
        "print(data['income_type'].value_counts())"
      ]
    },
    {
      "cell_type": "markdown",
      "metadata": {
        "id": "-4NUD1_47UT3"
      },
      "source": [
        "Данные по доходу отсутствуют примерно в 10% случаев. Примерно тот же % - по каждой категории, кроме предпринимателей. Доход единственного имеющегося в базе предпринимателя в 3 раза превышает средний, что похоже на правду. Для всех групп возьмём медиану, которую мы рассчитали не предыдущем этапе. Для предпринимателя, который не указал доход это тоже подойдёт. Наиболее верно было бы использовать метод стохастической линейной регрессии с предсказанием пропущенных данных, однако мы остановимся на минимально приемлемом варианте - заполнению пропусков медианой по группам занятости."
      ]
    },
    {
      "cell_type": "code",
      "execution_count": 13,
      "metadata": {
        "colab": {
          "base_uri": "https://localhost:8080/",
          "height": 0
        },
        "id": "YTDMtSUI7UT3",
        "outputId": "6157eab5-3215-489a-e161-97f899216db8"
      },
      "outputs": [
        {
          "output_type": "display_data",
          "data": {
            "text/plain": [
              "<Figure size 432x288 with 1 Axes>"
            ],
            "image/png": "[encoded data removed]"
          },
          "metadata": {
            "needs_background": "light"
          }
        }
      ],
      "source": [
        "import numpy as np\n",
        "import matplotlib.pyplot as plt\n",
        "\n",
        "plt.title('Частотное распределение признака дохода во всём массиве')\n",
        "data['total_income'].hist()\n",
        "plt.show()"
      ]
    },
    {
      "cell_type": "code",
      "execution_count": 14,
      "metadata": {
        "colab": {
          "base_uri": "https://localhost:8080/"
        },
        "id": "-LB69aso7UT4",
        "outputId": "0d26c981-c933-46b3-e9d3-b94f3b0c023f"
      },
      "outputs": [
        {
          "output_type": "execute_result",
          "data": {
            "text/plain": [
              "0"
            ]
          },
          "metadata": {},
          "execution_count": 14
        }
      ],
      "source": [
        "data['total_income'] = data['total_income'].fillna(data.groupby('income_type')['total_income'].transform('median'))\n",
        "data['total_income'].isna().sum()"
      ]
    },
    {
      "cell_type": "markdown",
      "metadata": {
        "id": "qCaKulGu7UT6"
      },
      "source": [
        "В переменной цели кредита пропущенных данных нет."
      ]
    },
    {
      "cell_type": "code",
      "execution_count": 15,
      "metadata": {
        "colab": {
          "base_uri": "https://localhost:8080/"
        },
        "id": "i8kh_YmZ7UT6",
        "outputId": "15bdcacc-c10e-4641-c10f-b7a3caa156ef"
      },
      "outputs": [
        {
          "output_type": "stream",
          "name": "stdout",
          "text": [
            "0\n"
          ]
        }
      ],
      "source": [
        "print(data['purpose'].isna().sum())"
      ]
    },
    {
      "cell_type": "markdown",
      "metadata": {
        "id": "VYFgELrt7UT6"
      },
      "source": [
        "Посмотрим на переменную пола."
      ]
    },
    {
      "cell_type": "code",
      "execution_count": 16,
      "metadata": {
        "colab": {
          "base_uri": "https://localhost:8080/"
        },
        "id": "4BD3nybn7UT6",
        "outputId": "05a60444-75a1-4d98-d197-5b2729173fa5"
      },
      "outputs": [
        {
          "output_type": "execute_result",
          "data": {
            "text/plain": [
              "F      14154\n",
              "M       7247\n",
              "XNA        1\n",
              "Name: gender, dtype: int64"
            ]
          },
          "metadata": {},
          "execution_count": 16
        }
      ],
      "source": [
        "data['gender'].value_counts()"
      ]
    },
    {
      "cell_type": "markdown",
      "metadata": {
        "id": "MR1lKjcq7UT7"
      },
      "source": [
        "Посмотрим, кто имеет значение XNA вручную."
      ]
    },
    {
      "cell_type": "code",
      "execution_count": 17,
      "metadata": {
        "colab": {
          "base_uri": "https://localhost:8080/",
          "height": 0
        },
        "id": "229Y1O3X7UT7",
        "outputId": "8c84333d-a672-4aba-a171-7a6c068c4444"
      },
      "outputs": [
        {
          "output_type": "execute_result",
          "data": {
            "text/plain": [
              "       children  days_employed  dob_years            education  education_id  \\\n",
              "10646         0   -2358.600502         24  неоконченное высшее             2   \n",
              "\n",
              "          family_status  family_status_id gender income_type  debt  \\\n",
              "10646  гражданский брак                 1    XNA   компаньон     0   \n",
              "\n",
              "        total_income               purpose  \n",
              "10646  203905.157261  покупка недвижимости  "
            ],
            "text/html": [
              "\n",
              "  <div id=\"df-f5877447-585b-4c9e-bb84-cd26cfd49820\">\n",
              "    <div class=\"colab-df-container\">\n",
              "      <div>\n",
              "<style scoped>\n",
              "    .dataframe tbody tr th:only-of-type {\n",
              "        vertical-align: middle;\n",
              "    }\n",
              "\n",
              "    .dataframe tbody tr th {\n",
              "        vertical-align: top;\n",
              "    }\n",
              "\n",
              "    .dataframe thead th {\n",
              "        text-align: right;\n",
              "    }\n",
              "</style>\n",
              "<table border=\"1\" class=\"dataframe\">\n",
              "  <thead>\n",
              "    <tr style=\"text-align: right;\">\n",
              "      <th></th>\n",
              "      <th>children</th>\n",
              "      <th>days_employed</th>\n",
              "      <th>dob_years</th>\n",
              "      <th>education</th>\n",
              "      <th>education_id</th>\n",
              "      <th>family_status</th>\n",
              "      <th>family_status_id</th>\n",
              "      <th>gender</th>\n",
              "      <th>income_type</th>\n",
              "      <th>debt</th>\n",
              "      <th>total_income</th>\n",
              "      <th>purpose</th>\n",
              "    </tr>\n",
              "  </thead>\n",
              "  <tbody>\n",
              "    <tr>\n",
              "      <th>10646</th>\n",
              "      <td>0</td>\n",
              "      <td>-2358.600502</td>\n",
              "      <td>24</td>\n",
              "      <td>неоконченное высшее</td>\n",
              "      <td>2</td>\n",
              "      <td>гражданский брак</td>\n",
              "      <td>1</td>\n",
              "      <td>XNA</td>\n",
              "      <td>компаньон</td>\n",
              "      <td>0</td>\n",
              "      <td>203905.157261</td>\n",
              "      <td>покупка недвижимости</td>\n",
              "    </tr>\n",
              "  </tbody>\n",
              "</table>\n",
              "</div>\n",
              "      <button class=\"colab-df-convert\" onclick=\"convertToInteractive('df-f5877447-585b-4c9e-bb84-cd26cfd49820')\"\n",
              "              title=\"Convert this dataframe to an interactive table.\"\n",
              "              style=\"display:none;\">\n",
              "        \n",
              "  <svg xmlns=\"http://www.w3.org/2000/svg\" height=\"24px\"viewBox=\"0 0 24 24\"\n",
              "       width=\"24px\">\n",
              "    <path d=\"M0 0h24v24H0V0z\" fill=\"none\"/>\n",
              "    <path d=\"M18.56 5.44l.94 2.06.94-2.06 2.06-.94-2.06-.94-.94-2.06-.94 2.06-2.06.94zm-11 1L8.5 8.5l.94-2.06 2.06-.94-2.06-.94L8.5 2.5l-.94 2.06-2.06.94zm10 10l.94 2.06.94-2.06 2.06-.94-2.06-.94-.94-2.06-.94 2.06-2.06.94z\"/><path d=\"M17.41 7.96l-1.37-1.37c-.4-.4-.92-.59-1.43-.59-.52 0-1.04.2-1.43.59L10.3 9.45l-7.72 7.72c-.78.78-.78 2.05 0 2.83L4 21.41c.39.39.9.59 1.41.59.51 0 1.02-.2 1.41-.59l7.78-7.78 2.81-2.81c.8-.78.8-2.07 0-2.86zM5.41 20L4 18.59l7.72-7.72 1.47 1.35L5.41 20z\"/>\n",
              "  </svg>\n",
              "      </button>\n",
              "      \n",
              "  <style>\n",
              "    .colab-df-container {\n",
              "      display:flex;\n",
              "      flex-wrap:wrap;\n",
              "      gap: 12px;\n",
              "    }\n",
              "\n",
              "    .colab-df-convert {\n",
              "      background-color: #E8F0FE;\n",
              "      border: none;\n",
              "      border-radius: 50%;\n",
              "      cursor: pointer;\n",
              "      display: none;\n",
              "      fill: #1967D2;\n",
              "      height: 32px;\n",
              "      padding: 0 0 0 0;\n",
              "      width: 32px;\n",
              "    }\n",
              "\n",
              "    .colab-df-convert:hover {\n",
              "      background-color: #E2EBFA;\n",
              "      box-shadow: 0px 1px 2px rgba(60, 64, 67, 0.3), 0px 1px 3px 1px rgba(60, 64, 67, 0.15);\n",
              "      fill: #174EA6;\n",
              "    }\n",
              "\n",
              "    [theme=dark] .colab-df-convert {\n",
              "      background-color: #3B4455;\n",
              "      fill: #D2E3FC;\n",
              "    }\n",
              "\n",
              "    [theme=dark] .colab-df-convert:hover {\n",
              "      background-color: #434B5C;\n",
              "      box-shadow: 0px 1px 3px 1px rgba(0, 0, 0, 0.15);\n",
              "      filter: drop-shadow(0px 1px 2px rgba(0, 0, 0, 0.3));\n",
              "      fill: #FFFFFF;\n",
              "    }\n",
              "  </style>\n",
              "\n",
              "      <script>\n",
              "        const buttonEl =\n",
              "          document.querySelector('#df-f5877447-585b-4c9e-bb84-cd26cfd49820 button.colab-df-convert');\n",
              "        buttonEl.style.display =\n",
              "          google.colab.kernel.accessAllowed ? 'block' : 'none';\n",
              "\n",
              "        async function convertToInteractive(key) {\n",
              "          const element = document.querySelector('#df-f5877447-585b-4c9e-bb84-cd26cfd49820');\n",
              "          const dataTable =\n",
              "            await google.colab.kernel.invokeFunction('convertToInteractive',\n",
              "                                                     [key], {});\n",
              "          if (!dataTable) return;\n",
              "\n",
              "          const docLinkHtml = 'Like what you see? Visit the ' +\n",
              "            '<a target=\"_blank\" href=https://colab.research.google.com/notebooks/data_table.ipynb>data table notebook</a>'\n",
              "            + ' to learn more about interactive tables.';\n",
              "          element.innerHTML = '';\n",
              "          dataTable['output_type'] = 'display_data';\n",
              "          await google.colab.output.renderOutput(dataTable, element);\n",
              "          const docLink = document.createElement('div');\n",
              "          docLink.innerHTML = docLinkHtml;\n",
              "          element.appendChild(docLink);\n",
              "        }\n",
              "      </script>\n",
              "    </div>\n",
              "  </div>\n",
              "  "
            ]
          },
          "metadata": {},
          "execution_count": 17
        }
      ],
      "source": [
        "data.loc[data['gender'] == \"XNA\"]"
      ]
    },
    {
      "cell_type": "markdown",
      "metadata": {
        "id": "weslA6n_7UT7"
      },
      "source": [
        "Этот человек 24 лет в браке без детей, текущий или незакончивший вуз студент, бравший кредит на жильё и возвращающий его в срок. Данных для установления пола недостаточно. Удалим этот случай, т.к. он не входит в группу людей, характеристики которых нам в будущем нужно предсказать."
      ]
    },
    {
      "cell_type": "code",
      "execution_count": 18,
      "metadata": {
        "colab": {
          "base_uri": "https://localhost:8080/"
        },
        "id": "jIz5HMwz7UT7",
        "outputId": "823eb57e-0b13-4f1e-f587-1abde41df310"
      },
      "outputs": [
        {
          "output_type": "execute_result",
          "data": {
            "text/plain": [
              "F    14154\n",
              "M     7247\n",
              "Name: gender, dtype: int64"
            ]
          },
          "metadata": {},
          "execution_count": 18
        }
      ],
      "source": [
        "data['gender'] = data[data['gender'] != \"XNA\"]['gender']\n",
        "data.dropna(subset = ['gender'])\n",
        "data.reset_index(drop=True)\n",
        "data['gender'].value_counts()"
      ]
    },
    {
      "cell_type": "markdown",
      "metadata": {
        "id": "axYdmqHa7UT8"
      },
      "source": [
        "Далее переменная трудового стажа. Она вещественная, поэтому посчитаем описательные статистики и заодно посмотрим на них визуально."
      ]
    },
    {
      "cell_type": "code",
      "execution_count": 19,
      "metadata": {
        "colab": {
          "base_uri": "https://localhost:8080/",
          "height": 0
        },
        "id": "8yCGJB9e7UT9",
        "outputId": "c15ff2f1-0ace-4828-d1cb-cf334b0814c5"
      },
      "outputs": [
        {
          "output_type": "stream",
          "name": "stdout",
          "text": [
            "count     19240.000000\n",
            "mean      63159.820777\n",
            "std      140928.943329\n",
            "min      -18388.949901\n",
            "25%       -2747.235601\n",
            "50%       -1203.934202\n",
            "75%        -289.740178\n",
            "max      401755.400475\n",
            "Name: days_employed, dtype: float64\n",
            "2162\n"
          ]
        },
        {
          "output_type": "execute_result",
          "data": {
            "text/plain": [
              "<matplotlib.axes._subplots.AxesSubplot at 0x7f6ad8dfb510>"
            ]
          },
          "metadata": {},
          "execution_count": 19
        },
        {
          "output_type": "display_data",
          "data": {
            "text/plain": [
              "<Figure size 432x288 with 1 Axes>"
            ],
            "image/png": "[encoded data removed]"
          },
          "metadata": {
            "needs_background": "light"
          }
        }
      ],
      "source": [
        "print(data['days_employed'].describe())\n",
        "print(data['days_employed'].isnull().sum())\n",
        "data['days_employed'].hist()"
      ]
    },
    {
      "cell_type": "markdown",
      "metadata": {
        "id": "m_moL3SW7UT9"
      },
      "source": [
        "Набор данных странный. Посмотрим на левый отрезок поближе."
      ]
    },
    {
      "cell_type": "code",
      "execution_count": 20,
      "metadata": {
        "colab": {
          "base_uri": "https://localhost:8080/",
          "height": 0
        },
        "id": "EiPF4QZE7UT-",
        "outputId": "3d852140-7b64-4e22-f833-bd04cd9fdef3"
      },
      "outputs": [
        {
          "output_type": "stream",
          "name": "stdout",
          "text": [
            "-1630.4435908090563\n",
            "-24.14163324048118\n"
          ]
        },
        {
          "output_type": "execute_result",
          "data": {
            "text/plain": [
              "15809"
            ]
          },
          "metadata": {},
          "execution_count": 20
        },
        {
          "output_type": "display_data",
          "data": {
            "text/plain": [
              "<Figure size 432x288 with 1 Axes>"
            ],
            "image/png": "[encoded data removed]"
          },
          "metadata": {
            "needs_background": "light"
          }
        }
      ],
      "source": [
        "data[data['days_employed'] <= 200000]['days_employed'].hist()\n",
        "print(data[data['days_employed'] <= 200000]['days_employed'].median())\n",
        "print(data[data['days_employed'] <= 200000]['days_employed'].max())\n",
        "\n",
        "data[data['days_employed'] <= 200000]['days_employed'].count()"
      ]
    },
    {
      "cell_type": "markdown",
      "metadata": {
        "id": "bAiQhl8Y7UT-"
      },
      "source": [
        "Все значения слева, а это 3/4 массива, имеют отрицательное значение. Данные в разбросе от 0 до 50 лет c медианой в районе 4,5 лет, что похоже на правду. Можно предположить, что это разница от даты обращения до даты трудоустройства, поэтому данному объему данных можно просто поменять знак. Сделаем это позже, а пока посмотрим на правую часть данных на графике."
      ]
    },
    {
      "cell_type": "code",
      "execution_count": 21,
      "metadata": {
        "colab": {
          "base_uri": "https://localhost:8080/",
          "height": 0
        },
        "id": "X_ExXbqr7UT-",
        "outputId": "ed8b9194-55e9-432e-cb4b-038223e6685f"
      },
      "outputs": [
        {
          "output_type": "stream",
          "name": "stdout",
          "text": [
            "365286.6226495429\n"
          ]
        },
        {
          "output_type": "execute_result",
          "data": {
            "text/plain": [
              "3431"
            ]
          },
          "metadata": {},
          "execution_count": 21
        },
        {
          "output_type": "display_data",
          "data": {
            "text/plain": [
              "<Figure size 432x288 with 1 Axes>"
            ],
            "image/png": "[encoded data removed]"
          },
          "metadata": {
            "needs_background": "light"
          }
        }
      ],
      "source": [
        "data[data['days_employed'] >= 200000]['days_employed'].hist()\n",
        "print(data[data['days_employed'] >= 200000]['days_employed'].median())\n",
        "data[data['days_employed'] >= 200000]['days_employed'].count()"
      ]
    },
    {
      "cell_type": "markdown",
      "metadata": {
        "id": "SXNFwcuQ7UT-"
      },
      "source": [
        "Данные разбросаны в пределах от 330 тыс. до 400 тыс. и их более 10% массива, не удалить. Причём распределены они почти равномерно: количество пенсионеров с минимальным и максимальным значением в указанных рамках примерно равно. В отличие от трудового стажа, где количество людей по мере роста трудового стажа убывает на каждом интервале. Мы пропустим этап исследований и сразу покажем, что мы установили, что это всё пенсионеры и безработные:"
      ]
    },
    {
      "cell_type": "code",
      "execution_count": 22,
      "metadata": {
        "colab": {
          "base_uri": "https://localhost:8080/"
        },
        "id": "D36RMIDU7UT_",
        "outputId": "3e7cdd11-fd2a-4b93-99ae-c277e163bbf4"
      },
      "outputs": [
        {
          "output_type": "execute_result",
          "data": {
            "text/plain": [
              "пенсионер      3429\n",
              "безработный       2\n",
              "Name: income_type, dtype: int64"
            ]
          },
          "metadata": {},
          "execution_count": 22
        }
      ],
      "source": [
        "data[data['days_employed'] >= 200000]['income_type'].value_counts()"
      ]
    },
    {
      "cell_type": "markdown",
      "metadata": {
        "id": "01mgUVNg7UT_"
      },
      "source": [
        "Возраст пенсионеров варьируется больше, чем данные по трудовому стажу, и под количество лет, оставшееся до 75 лет, данные тоже не подходят. Предположим, что в столбец трудового стажа для пенсионеров и безработных внесены какие-то другие данные - дополнительный доход к пенсии или сумма кредита. С точки зрения трудового стажа эти категории граждат имеют 0 стажа и для них нужна будет другая модель кредитного скорринга, сообщим об этом заказчику (иначе средние значения трудового стажа по всему массиву будут смещены к 0).\n",
        "\n",
        "А пока заменим данный тип данных на 0, и только эти случаи в базе будут иметь 0 трудового стажа (ранее мы видели, что минимальный трудовой стаж - 24 дня), что даст нам возможность в будущем поменять данные, как только мы получим новые вводные от заказчика. Также заменим отрицательные значения, как планировали ранее.\n",
        "\n",
        "Пропуски заполним медианами трудового стажа в соответствии с возрастом, т.к. эти переменные явно связаны."
      ]
    },
    {
      "cell_type": "code",
      "execution_count": 23,
      "metadata": {
        "colab": {
          "base_uri": "https://localhost:8080/",
          "height": 0
        },
        "id": "d0dzrpGt7UT_",
        "outputId": "45c7eff7-738c-4a9c-a140-dca086ebb236"
      },
      "outputs": [
        {
          "output_type": "execute_result",
          "data": {
            "text/plain": [
              "0"
            ]
          },
          "metadata": {},
          "execution_count": 23
        },
        {
          "output_type": "display_data",
          "data": {
            "text/plain": [
              "<Figure size 432x288 with 1 Axes>"
            ],
            "image/png": "[encoded data removed]"
          },
          "metadata": {
            "needs_background": "light"
          }
        }
      ],
      "source": [
        "data['days_employed'].where(~(data.days_employed > 300000), other=0, inplace=True)\n",
        "data.loc[data['days_employed'] < 0,'days_employed'] = data.loc[data['days_employed'] < 0]['days_employed'] * (-1)\n",
        "data['days_employed'] = data['days_employed'].fillna(data.groupby('dob_years')['days_employed'].transform('median'))\n",
        "data['days_employed'].hist()\n",
        "data['days_employed'].isna().sum()"
      ]
    },
    {
      "cell_type": "code",
      "execution_count": 24,
      "metadata": {
        "colab": {
          "base_uri": "https://localhost:8080/"
        },
        "id": "T6UghfD87UUA",
        "outputId": "4b5661e5-e1e2-46d3-d590-7eca7621d363"
      },
      "outputs": [
        {
          "output_type": "stream",
          "name": "stdout",
          "text": [
            "<class 'pandas.core.frame.DataFrame'>\n",
            "RangeIndex: 21402 entries, 0 to 21401\n",
            "Data columns (total 12 columns):\n",
            " #   Column            Non-Null Count  Dtype  \n",
            "---  ------            --------------  -----  \n",
            " 0   children          21402 non-null  int64  \n",
            " 1   days_employed     21402 non-null  float64\n",
            " 2   dob_years         21402 non-null  int64  \n",
            " 3   education         21402 non-null  object \n",
            " 4   education_id      21402 non-null  int64  \n",
            " 5   family_status     21402 non-null  object \n",
            " 6   family_status_id  21402 non-null  int64  \n",
            " 7   gender            21401 non-null  object \n",
            " 8   income_type       21402 non-null  object \n",
            " 9   debt              21402 non-null  int64  \n",
            " 10  total_income      21402 non-null  float64\n",
            " 11  purpose           21402 non-null  object \n",
            "dtypes: float64(2), int64(5), object(5)\n",
            "memory usage: 2.0+ MB\n"
          ]
        }
      ],
      "source": [
        "data.info()"
      ]
    },
    {
      "cell_type": "markdown",
      "metadata": {
        "id": "KVNwtadO7UUA"
      },
      "source": [
        "Пропусков в данных не осталось, однако есть ещё переменные, которых мы не касались. Это образование. Посмотрим сводную таблицу по двум переменным образования:"
      ]
    },
    {
      "cell_type": "code",
      "execution_count": 25,
      "metadata": {
        "colab": {
          "base_uri": "https://localhost:8080/"
        },
        "id": "tC4X40qF7UUA",
        "outputId": "4e3b351b-3eec-4a2a-d976-ffce48f7e48d"
      },
      "outputs": [
        {
          "output_type": "stream",
          "name": "stdout",
          "text": [
            "education_id              0        1      2      3    4\n",
            "education                                              \n",
            "ВЫСШЕЕ                271.0      NaN    NaN    NaN  NaN\n",
            "Высшее                268.0      NaN    NaN    NaN  NaN\n",
            "НАЧАЛЬНОЕ               NaN      NaN    NaN   17.0  NaN\n",
            "НЕОКОНЧЕННОЕ ВЫСШЕЕ     NaN      NaN   29.0    NaN  NaN\n",
            "Начальное               NaN      NaN    NaN   15.0  NaN\n",
            "Неоконченное высшее     NaN      NaN   47.0    NaN  NaN\n",
            "СРЕДНЕЕ                 NaN    766.0    NaN    NaN  NaN\n",
            "Среднее                 NaN    703.0    NaN    NaN  NaN\n",
            "УЧЕНАЯ СТЕПЕНЬ          NaN      NaN    NaN    NaN  1.0\n",
            "Ученая степень          NaN      NaN    NaN    NaN  1.0\n",
            "высшее               4698.0      NaN    NaN    NaN  NaN\n",
            "начальное               NaN      NaN    NaN  250.0  NaN\n",
            "неоконченное высшее     NaN      NaN  665.0    NaN  NaN\n",
            "среднее                 NaN  13667.0    NaN    NaN  NaN\n",
            "ученая степень          NaN      NaN    NaN    NaN  4.0\n"
          ]
        },
        {
          "output_type": "execute_result",
          "data": {
            "text/plain": [
              "21402.0"
            ]
          },
          "metadata": {},
          "execution_count": 25
        }
      ],
      "source": [
        "data_pivot_education = data.pivot_table(index=['education'], columns='education_id', values='debt', aggfunc='count')\n",
        "print(data_pivot_education)\n",
        "data_pivot_education.sum().sum()"
      ]
    },
    {
      "cell_type": "markdown",
      "metadata": {
        "id": "KJDQQfEf7UUA"
      },
      "source": [
        "С распределением типов образования по категориям всё в порядке. А вот написание видов образования отличается, исправим это, чтобы количество категорий образования было корректным."
      ]
    },
    {
      "cell_type": "code",
      "execution_count": 26,
      "metadata": {
        "colab": {
          "base_uri": "https://localhost:8080/"
        },
        "id": "wnUB93Vn7UUB",
        "outputId": "bb56b01d-9e9f-4179-b295-ed6c623227cf"
      },
      "outputs": [
        {
          "output_type": "execute_result",
          "data": {
            "text/plain": [
              "среднее                15136\n",
              "высшее                  5237\n",
              "неоконченное высшее      741\n",
              "начальное                282\n",
              "ученая степень             6\n",
              "Name: education, dtype: int64"
            ]
          },
          "metadata": {},
          "execution_count": 26
        }
      ],
      "source": [
        "data['education'] = data['education'].str.lower()\n",
        "data['education'].value_counts()"
      ]
    },
    {
      "cell_type": "markdown",
      "metadata": {
        "id": "GXeLsGYS7UUB"
      },
      "source": [
        "Посмотрим на характер переменной возраста."
      ]
    },
    {
      "cell_type": "code",
      "execution_count": 27,
      "metadata": {
        "colab": {
          "base_uri": "https://localhost:8080/"
        },
        "id": "GMWGTNVS7UUB",
        "outputId": "c98ec63d-f582-4c09-cea1-df5ee4877501"
      },
      "outputs": [
        {
          "output_type": "execute_result",
          "data": {
            "text/plain": [
              "count    21402.000000\n",
              "mean        43.300206\n",
              "std         12.579055\n",
              "min          0.000000\n",
              "25%         33.000000\n",
              "50%         42.000000\n",
              "75%         53.000000\n",
              "max         75.000000\n",
              "Name: dob_years, dtype: float64"
            ]
          },
          "metadata": {},
          "execution_count": 27
        }
      ],
      "source": [
        "data['dob_years'].describe()"
      ]
    },
    {
      "cell_type": "markdown",
      "metadata": {
        "id": "sQGfY11q7UUB"
      },
      "source": [
        "Среднее близко к медиане, максимальный возраст соответствует правилам выдачи кредитов (https://www.sravni.ru/enciklopediya/info/mozhet-li-pensioner-vzjat-kredit/)\n",
        "Однако в массиве не должно быть 0. Посмотрим, сколько их и кто они, например, по типу занятости."
      ]
    },
    {
      "cell_type": "code",
      "execution_count": 28,
      "metadata": {
        "colab": {
          "base_uri": "https://localhost:8080/"
        },
        "id": "NcvhiBp97UUC",
        "outputId": "2ab75d30-ff58-408b-c7ab-c0ce7761b06c"
      },
      "outputs": [
        {
          "output_type": "stream",
          "name": "stdout",
          "text": [
            "сотрудник      54\n",
            "пенсионер      20\n",
            "компаньон      20\n",
            "госслужащий     6\n",
            "Name: income_type, dtype: int64\n"
          ]
        },
        {
          "output_type": "execute_result",
          "data": {
            "text/plain": [
              "100"
            ]
          },
          "metadata": {},
          "execution_count": 28
        }
      ],
      "source": [
        "print(data.loc[data['dob_years'] == 0]['income_type'].value_counts())\n",
        "data.loc[data['dob_years'] == 0]['income_type'].count()"
      ]
    },
    {
      "cell_type": "markdown",
      "metadata": {
        "id": "Qhe4tP7q7UUC"
      },
      "source": [
        "Связи этих значений \"0\" ни с типом занятости, ни с другими столбцами таблицы не найдено. Можно предположить, что данные пропущены условно случайно. В поисках способа замены данных найдена связь между возрастом и типом образования:"
      ]
    },
    {
      "cell_type": "code",
      "execution_count": 29,
      "metadata": {
        "colab": {
          "base_uri": "https://localhost:8080/"
        },
        "id": "D5JOesfP7UUC",
        "outputId": "f2c876be-8b18-4dbb-c538-d40bae64dfc7"
      },
      "outputs": [
        {
          "output_type": "execute_result",
          "data": {
            "text/plain": [
              "education_id\n",
              "2    31.0\n",
              "0    39.0\n",
              "1    44.0\n",
              "3    46.5\n",
              "4    51.5\n",
              "Name: dob_years, dtype: float64"
            ]
          },
          "metadata": {},
          "execution_count": 29
        }
      ],
      "source": [
        "data.groupby('education_id')['dob_years'].median().sort_values()"
      ]
    },
    {
      "cell_type": "markdown",
      "metadata": {
        "id": "KgAwmR7D7UUC"
      },
      "source": [
        "Заменим \"0\" по возрасту медианными возрастами групп по уровню образования:"
      ]
    },
    {
      "cell_type": "code",
      "execution_count": 30,
      "metadata": {
        "colab": {
          "base_uri": "https://localhost:8080/"
        },
        "id": "UFGgXOIC7UUD",
        "outputId": "2e7d73e0-27a6-4874-db54-5096ea5ecdfc"
      },
      "outputs": [
        {
          "output_type": "execute_result",
          "data": {
            "text/plain": [
              "count    21302.000000\n",
              "mean        43.503474\n",
              "std         12.252843\n",
              "min         19.000000\n",
              "25%         33.000000\n",
              "50%         43.000000\n",
              "75%         53.000000\n",
              "max         75.000000\n",
              "Name: dob_years, dtype: float64"
            ]
          },
          "metadata": {},
          "execution_count": 30
        }
      ],
      "source": [
        "data['dob_years'] = data[data['dob_years'] != 0]['dob_years']\n",
        "data.dropna(subset = ['dob_years'], inplace=True)\n",
        "data.reset_index(drop=True, inplace=True)\n",
        "data['dob_years'] = data['dob_years'].fillna(data.groupby('education_id')['dob_years'].transform('median'))\n",
        "data['dob_years'].describe()"
      ]
    },
    {
      "cell_type": "markdown",
      "metadata": {
        "id": "Ne-WECO17UUD"
      },
      "source": [
        "**Вывод**"
      ]
    },
    {
      "cell_type": "markdown",
      "metadata": {
        "id": "PnfPcz0P7UUD"
      },
      "source": [
        "Мы получили 21 301 кейс для анализа. Во всех переменных отсутствуют пропуски, что делает базу максимально полной для работы с гипотезами. Данные были удалены только по столбцу количества детей, т.к. восстановление этих данных по другим переменным будет иметь случайный характер."
      ]
    },
    {
      "cell_type": "markdown",
      "metadata": {
        "id": "onje-58C7UUD"
      },
      "source": [
        "### Замена типа данных"
      ]
    },
    {
      "cell_type": "markdown",
      "metadata": {
        "id": "OKR5KYn47UUD"
      },
      "source": [
        "Посмотрим ещё раз на типы данных."
      ]
    },
    {
      "cell_type": "code",
      "execution_count": 31,
      "metadata": {
        "colab": {
          "base_uri": "https://localhost:8080/"
        },
        "id": "Rgcp3_fz7UUE",
        "outputId": "53263066-77fa-49e5-d32b-a87ff510d2e4"
      },
      "outputs": [
        {
          "output_type": "execute_result",
          "data": {
            "text/plain": [
              "children              int64\n",
              "days_employed       float64\n",
              "dob_years           float64\n",
              "education            object\n",
              "education_id          int64\n",
              "family_status        object\n",
              "family_status_id      int64\n",
              "gender               object\n",
              "income_type          object\n",
              "debt                  int64\n",
              "total_income        float64\n",
              "purpose              object\n",
              "dtype: object"
            ]
          },
          "metadata": {},
          "execution_count": 31
        }
      ],
      "source": [
        "data.dtypes"
      ]
    },
    {
      "cell_type": "markdown",
      "metadata": {
        "id": "wk7muH7t7UUE"
      },
      "source": [
        "Предположим, что доход имеет дробную часть ввиду расчётного характера показателя. Для данной базы данных доход может рассчитываться как среднедушевой доход члена семьи как здесь https://www.gosuslugi.ru/help/faq/roditeli_i_deti/100525\n",
        "Однако чтобы сократить объем используемой памяти сделаем и доход, и количество отработанных дней целым числом.\n",
        "\n",
        "Также в процессе восстановления данных по возрасту года получили дробную часть, вернём эту переменную к целым значениям.\n",
        "Воспользуемся наиболее простым методом, который подойдёт для dataframe и предварительно округлим числа, чтобы не потерять точность данных."
      ]
    },
    {
      "cell_type": "code",
      "execution_count": 32,
      "metadata": {
        "colab": {
          "base_uri": "https://localhost:8080/"
        },
        "id": "nDs-ZbAy7UUE",
        "outputId": "ee493430-a66b-462c-90c1-28f128595e38"
      },
      "outputs": [
        {
          "output_type": "execute_result",
          "data": {
            "text/plain": [
              "children             int64\n",
              "days_employed         int8\n",
              "dob_years             int8\n",
              "education           object\n",
              "education_id         int64\n",
              "family_status       object\n",
              "family_status_id     int64\n",
              "gender              object\n",
              "income_type         object\n",
              "debt                 int64\n",
              "total_income          int8\n",
              "purpose             object\n",
              "dtype: object"
            ]
          },
          "metadata": {},
          "execution_count": 32
        }
      ],
      "source": [
        "data.round({'days_employed': 0, 'total_income': 0, 'dob_years': 0})\n",
        "data.astype({'days_employed': 'int8', 'total_income': 'int8', 'dob_years': 'int8'}).dtypes"
      ]
    },
    {
      "cell_type": "markdown",
      "metadata": {
        "id": "_iXUjDv-7UUF"
      },
      "source": [
        "**Вывод**"
      ]
    },
    {
      "cell_type": "markdown",
      "metadata": {
        "id": "Rmb4W3af7UUF"
      },
      "source": [
        "Данные по трудовому стажу заменены на целые числа. Типы прочих данных соответствуют их сути."
      ]
    },
    {
      "cell_type": "markdown",
      "metadata": {
        "id": "2Zmt_J0b7UUG"
      },
      "source": [
        "### Обработка дубликатов"
      ]
    },
    {
      "cell_type": "markdown",
      "metadata": {
        "id": "0Z03KNaQ7UUG"
      },
      "source": [
        "Ищем дубликаты подходящим для этого методом и суммируем результат."
      ]
    },
    {
      "cell_type": "code",
      "execution_count": 33,
      "metadata": {
        "colab": {
          "base_uri": "https://localhost:8080/"
        },
        "id": "f2rduA6M7UUG",
        "outputId": "91dcaeb7-29f7-41ec-e050-8d36874e53ca"
      },
      "outputs": [
        {
          "output_type": "execute_result",
          "data": {
            "text/plain": [
              "72"
            ]
          },
          "metadata": {},
          "execution_count": 33
        }
      ],
      "source": [
        "data.duplicated().sum()"
      ]
    },
    {
      "cell_type": "markdown",
      "metadata": {
        "id": "zRyvT-tQ7UUG"
      },
      "source": [
        "Это небольшой объем записей, посмотрим на него \"вживую\"."
      ]
    },
    {
      "cell_type": "code",
      "execution_count": 34,
      "metadata": {
        "colab": {
          "base_uri": "https://localhost:8080/",
          "height": 0
        },
        "id": "sQdbzzCE7UUG",
        "outputId": "ee6d55e6-0eb6-4a3b-ac26-ae191e8dfed3"
      },
      "outputs": [
        {
          "output_type": "execute_result",
          "data": {
            "text/plain": [
              "       children  days_employed  dob_years education  education_id  \\\n",
              "2823          0    1847.778632       41.0   среднее             1   \n",
              "3260          0       0.000000       58.0   среднее             1   \n",
              "4142          1    1588.471257       34.0    высшее             0   \n",
              "4808          0       0.000000       60.0   среднее             1   \n",
              "5506          0       0.000000       58.0   среднее             1   \n",
              "...         ...            ...        ...       ...           ...   \n",
              "20488         0       0.000000       64.0   среднее             1   \n",
              "20816         0       0.000000       60.0   среднее             1   \n",
              "20916         0    1999.975513       47.0   среднее             1   \n",
              "21063         1    1425.322890       30.0    высшее             0   \n",
              "21193         0     922.653390       54.0   среднее             1   \n",
              "\n",
              "          family_status  family_status_id gender income_type  debt  \\\n",
              "2823    женат / замужем                 0      F   сотрудник     0   \n",
              "3260   гражданский брак                 1      F   пенсионер     0   \n",
              "4142   гражданский брак                 1      F   сотрудник     0   \n",
              "4808   гражданский брак                 1      F   пенсионер     0   \n",
              "5506   гражданский брак                 1      F   пенсионер     0   \n",
              "...                 ...               ...    ...         ...   ...   \n",
              "20488   женат / замужем                 0      F   пенсионер     0   \n",
              "20816   женат / замужем                 0      F   пенсионер     0   \n",
              "20916   женат / замужем                 0      F   сотрудник     0   \n",
              "21063   женат / замужем                 0      F   сотрудник     0   \n",
              "21193   женат / замужем                 0      F   пенсионер     0   \n",
              "\n",
              "        total_income                            purpose  duplicated  \n",
              "2823   142587.588976            покупка жилья для семьи        True  \n",
              "3260   118480.837408                    сыграть свадьбу        True  \n",
              "4142   142587.588976                            свадьба        True  \n",
              "4808   118480.837408                            свадьба        True  \n",
              "5506   118480.837408                    сыграть свадьбу        True  \n",
              "...              ...                                ...         ...  \n",
              "20488  118480.837408         дополнительное образование        True  \n",
              "20816  118480.837408              заняться образованием        True  \n",
              "20916  142587.588976                       ремонт жилью        True  \n",
              "21063  142587.588976  покупка коммерческой недвижимости        True  \n",
              "21193  118480.837408                  операции с жильем        True  \n",
              "\n",
              "[72 rows x 13 columns]"
            ],
            "text/html": [
              "\n",
              "  <div id=\"df-d1091d05-da21-404b-b1f2-5afb1385ca10\">\n",
              "    <div class=\"colab-df-container\">\n",
              "      <div>\n",
              "<style scoped>\n",
              "    .dataframe tbody tr th:only-of-type {\n",
              "        vertical-align: middle;\n",
              "    }\n",
              "\n",
              "    .dataframe tbody tr th {\n",
              "        vertical-align: top;\n",
              "    }\n",
              "\n",
              "    .dataframe thead th {\n",
              "        text-align: right;\n",
              "    }\n",
              "</style>\n",
              "<table border=\"1\" class=\"dataframe\">\n",
              "  <thead>\n",
              "    <tr style=\"text-align: right;\">\n",
              "      <th></th>\n",
              "      <th>children</th>\n",
              "      <th>days_employed</th>\n",
              "      <th>dob_years</th>\n",
              "      <th>education</th>\n",
              "      <th>education_id</th>\n",
              "      <th>family_status</th>\n",
              "      <th>family_status_id</th>\n",
              "      <th>gender</th>\n",
              "      <th>income_type</th>\n",
              "      <th>debt</th>\n",
              "      <th>total_income</th>\n",
              "      <th>purpose</th>\n",
              "      <th>duplicated</th>\n",
              "    </tr>\n",
              "  </thead>\n",
              "  <tbody>\n",
              "    <tr>\n",
              "      <th>2823</th>\n",
              "      <td>0</td>\n",
              "      <td>1847.778632</td>\n",
              "      <td>41.0</td>\n",
              "      <td>среднее</td>\n",
              "      <td>1</td>\n",
              "      <td>женат / замужем</td>\n",
              "      <td>0</td>\n",
              "      <td>F</td>\n",
              "      <td>сотрудник</td>\n",
              "      <td>0</td>\n",
              "      <td>142587.588976</td>\n",
              "      <td>покупка жилья для семьи</td>\n",
              "      <td>True</td>\n",
              "    </tr>\n",
              "    <tr>\n",
              "      <th>3260</th>\n",
              "      <td>0</td>\n",
              "      <td>0.000000</td>\n",
              "      <td>58.0</td>\n",
              "      <td>среднее</td>\n",
              "      <td>1</td>\n",
              "      <td>гражданский брак</td>\n",
              "      <td>1</td>\n",
              "      <td>F</td>\n",
              "      <td>пенсионер</td>\n",
              "      <td>0</td>\n",
              "      <td>118480.837408</td>\n",
              "      <td>сыграть свадьбу</td>\n",
              "      <td>True</td>\n",
              "    </tr>\n",
              "    <tr>\n",
              "      <th>4142</th>\n",
              "      <td>1</td>\n",
              "      <td>1588.471257</td>\n",
              "      <td>34.0</td>\n",
              "      <td>высшее</td>\n",
              "      <td>0</td>\n",
              "      <td>гражданский брак</td>\n",
              "      <td>1</td>\n",
              "      <td>F</td>\n",
              "      <td>сотрудник</td>\n",
              "      <td>0</td>\n",
              "      <td>142587.588976</td>\n",
              "      <td>свадьба</td>\n",
              "      <td>True</td>\n",
              "    </tr>\n",
              "    <tr>\n",
              "      <th>4808</th>\n",
              "      <td>0</td>\n",
              "      <td>0.000000</td>\n",
              "      <td>60.0</td>\n",
              "      <td>среднее</td>\n",
              "      <td>1</td>\n",
              "      <td>гражданский брак</td>\n",
              "      <td>1</td>\n",
              "      <td>F</td>\n",
              "      <td>пенсионер</td>\n",
              "      <td>0</td>\n",
              "      <td>118480.837408</td>\n",
              "      <td>свадьба</td>\n",
              "      <td>True</td>\n",
              "    </tr>\n",
              "    <tr>\n",
              "      <th>5506</th>\n",
              "      <td>0</td>\n",
              "      <td>0.000000</td>\n",
              "      <td>58.0</td>\n",
              "      <td>среднее</td>\n",
              "      <td>1</td>\n",
              "      <td>гражданский брак</td>\n",
              "      <td>1</td>\n",
              "      <td>F</td>\n",
              "      <td>пенсионер</td>\n",
              "      <td>0</td>\n",
              "      <td>118480.837408</td>\n",
              "      <td>сыграть свадьбу</td>\n",
              "      <td>True</td>\n",
              "    </tr>\n",
              "    <tr>\n",
              "      <th>...</th>\n",
              "      <td>...</td>\n",
              "      <td>...</td>\n",
              "      <td>...</td>\n",
              "      <td>...</td>\n",
              "      <td>...</td>\n",
              "      <td>...</td>\n",
              "      <td>...</td>\n",
              "      <td>...</td>\n",
              "      <td>...</td>\n",
              "      <td>...</td>\n",
              "      <td>...</td>\n",
              "      <td>...</td>\n",
              "      <td>...</td>\n",
              "    </tr>\n",
              "    <tr>\n",
              "      <th>20488</th>\n",
              "      <td>0</td>\n",
              "      <td>0.000000</td>\n",
              "      <td>64.0</td>\n",
              "      <td>среднее</td>\n",
              "      <td>1</td>\n",
              "      <td>женат / замужем</td>\n",
              "      <td>0</td>\n",
              "      <td>F</td>\n",
              "      <td>пенсионер</td>\n",
              "      <td>0</td>\n",
              "      <td>118480.837408</td>\n",
              "      <td>дополнительное образование</td>\n",
              "      <td>True</td>\n",
              "    </tr>\n",
              "    <tr>\n",
              "      <th>20816</th>\n",
              "      <td>0</td>\n",
              "      <td>0.000000</td>\n",
              "      <td>60.0</td>\n",
              "      <td>среднее</td>\n",
              "      <td>1</td>\n",
              "      <td>женат / замужем</td>\n",
              "      <td>0</td>\n",
              "      <td>F</td>\n",
              "      <td>пенсионер</td>\n",
              "      <td>0</td>\n",
              "      <td>118480.837408</td>\n",
              "      <td>заняться образованием</td>\n",
              "      <td>True</td>\n",
              "    </tr>\n",
              "    <tr>\n",
              "      <th>20916</th>\n",
              "      <td>0</td>\n",
              "      <td>1999.975513</td>\n",
              "      <td>47.0</td>\n",
              "      <td>среднее</td>\n",
              "      <td>1</td>\n",
              "      <td>женат / замужем</td>\n",
              "      <td>0</td>\n",
              "      <td>F</td>\n",
              "      <td>сотрудник</td>\n",
              "      <td>0</td>\n",
              "      <td>142587.588976</td>\n",
              "      <td>ремонт жилью</td>\n",
              "      <td>True</td>\n",
              "    </tr>\n",
              "    <tr>\n",
              "      <th>21063</th>\n",
              "      <td>1</td>\n",
              "      <td>1425.322890</td>\n",
              "      <td>30.0</td>\n",
              "      <td>высшее</td>\n",
              "      <td>0</td>\n",
              "      <td>женат / замужем</td>\n",
              "      <td>0</td>\n",
              "      <td>F</td>\n",
              "      <td>сотрудник</td>\n",
              "      <td>0</td>\n",
              "      <td>142587.588976</td>\n",
              "      <td>покупка коммерческой недвижимости</td>\n",
              "      <td>True</td>\n",
              "    </tr>\n",
              "    <tr>\n",
              "      <th>21193</th>\n",
              "      <td>0</td>\n",
              "      <td>922.653390</td>\n",
              "      <td>54.0</td>\n",
              "      <td>среднее</td>\n",
              "      <td>1</td>\n",
              "      <td>женат / замужем</td>\n",
              "      <td>0</td>\n",
              "      <td>F</td>\n",
              "      <td>пенсионер</td>\n",
              "      <td>0</td>\n",
              "      <td>118480.837408</td>\n",
              "      <td>операции с жильем</td>\n",
              "      <td>True</td>\n",
              "    </tr>\n",
              "  </tbody>\n",
              "</table>\n",
              "<p>72 rows × 13 columns</p>\n",
              "</div>\n",
              "      <button class=\"colab-df-convert\" onclick=\"convertToInteractive('df-d1091d05-da21-404b-b1f2-5afb1385ca10')\"\n",
              "              title=\"Convert this dataframe to an interactive table.\"\n",
              "              style=\"display:none;\">\n",
              "        \n",
              "  <svg xmlns=\"http://www.w3.org/2000/svg\" height=\"24px\"viewBox=\"0 0 24 24\"\n",
              "       width=\"24px\">\n",
              "    <path d=\"M0 0h24v24H0V0z\" fill=\"none\"/>\n",
              "    <path d=\"M18.56 5.44l.94 2.06.94-2.06 2.06-.94-2.06-.94-.94-2.06-.94 2.06-2.06.94zm-11 1L8.5 8.5l.94-2.06 2.06-.94-2.06-.94L8.5 2.5l-.94 2.06-2.06.94zm10 10l.94 2.06.94-2.06 2.06-.94-2.06-.94-.94-2.06-.94 2.06-2.06.94z\"/><path d=\"M17.41 7.96l-1.37-1.37c-.4-.4-.92-.59-1.43-.59-.52 0-1.04.2-1.43.59L10.3 9.45l-7.72 7.72c-.78.78-.78 2.05 0 2.83L4 21.41c.39.39.9.59 1.41.59.51 0 1.02-.2 1.41-.59l7.78-7.78 2.81-2.81c.8-.78.8-2.07 0-2.86zM5.41 20L4 18.59l7.72-7.72 1.47 1.35L5.41 20z\"/>\n",
              "  </svg>\n",
              "      </button>\n",
              "      \n",
              "  <style>\n",
              "    .colab-df-container {\n",
              "      display:flex;\n",
              "      flex-wrap:wrap;\n",
              "      gap: 12px;\n",
              "    }\n",
              "\n",
              "    .colab-df-convert {\n",
              "      background-color: #E8F0FE;\n",
              "      border: none;\n",
              "      border-radius: 50%;\n",
              "      cursor: pointer;\n",
              "      display: none;\n",
              "      fill: #1967D2;\n",
              "      height: 32px;\n",
              "      padding: 0 0 0 0;\n",
              "      width: 32px;\n",
              "    }\n",
              "\n",
              "    .colab-df-convert:hover {\n",
              "      background-color: #E2EBFA;\n",
              "      box-shadow: 0px 1px 2px rgba(60, 64, 67, 0.3), 0px 1px 3px 1px rgba(60, 64, 67, 0.15);\n",
              "      fill: #174EA6;\n",
              "    }\n",
              "\n",
              "    [theme=dark] .colab-df-convert {\n",
              "      background-color: #3B4455;\n",
              "      fill: #D2E3FC;\n",
              "    }\n",
              "\n",
              "    [theme=dark] .colab-df-convert:hover {\n",
              "      background-color: #434B5C;\n",
              "      box-shadow: 0px 1px 3px 1px rgba(0, 0, 0, 0.15);\n",
              "      filter: drop-shadow(0px 1px 2px rgba(0, 0, 0, 0.3));\n",
              "      fill: #FFFFFF;\n",
              "    }\n",
              "  </style>\n",
              "\n",
              "      <script>\n",
              "        const buttonEl =\n",
              "          document.querySelector('#df-d1091d05-da21-404b-b1f2-5afb1385ca10 button.colab-df-convert');\n",
              "        buttonEl.style.display =\n",
              "          google.colab.kernel.accessAllowed ? 'block' : 'none';\n",
              "\n",
              "        async function convertToInteractive(key) {\n",
              "          const element = document.querySelector('#df-d1091d05-da21-404b-b1f2-5afb1385ca10');\n",
              "          const dataTable =\n",
              "            await google.colab.kernel.invokeFunction('convertToInteractive',\n",
              "                                                     [key], {});\n",
              "          if (!dataTable) return;\n",
              "\n",
              "          const docLinkHtml = 'Like what you see? Visit the ' +\n",
              "            '<a target=\"_blank\" href=https://colab.research.google.com/notebooks/data_table.ipynb>data table notebook</a>'\n",
              "            + ' to learn more about interactive tables.';\n",
              "          element.innerHTML = '';\n",
              "          dataTable['output_type'] = 'display_data';\n",
              "          await google.colab.output.renderOutput(dataTable, element);\n",
              "          const docLink = document.createElement('div');\n",
              "          docLink.innerHTML = docLinkHtml;\n",
              "          element.appendChild(docLink);\n",
              "        }\n",
              "      </script>\n",
              "    </div>\n",
              "  </div>\n",
              "  "
            ]
          },
          "metadata": {},
          "execution_count": 34
        }
      ],
      "source": [
        "data['duplicated'] = data.duplicated()\n",
        "data.loc[data['duplicated'] == True]"
      ]
    },
    {
      "cell_type": "markdown",
      "metadata": {
        "id": "0Yt_T1eV7UUH"
      },
      "source": [
        "В используемой базе данных есть крайне вариативные переменные цели кредита, записанной текстом и дохода с точностью до 6 знака после запятой. Это снижает вероятность наличия в базе людей с настолько совпадающими данными, дублирование данных могло возникнуть при попытке повторного ввода, если он происходит вручную.\n",
        "\n",
        "Удалим доубликаты соответствующим методом, сбросив индексы, чтобы нумерация кейсов была актуальной."
      ]
    },
    {
      "cell_type": "code",
      "execution_count": 35,
      "metadata": {
        "colab": {
          "base_uri": "https://localhost:8080/"
        },
        "id": "VqrkwFqi7UUH",
        "outputId": "bed47ace-7cf8-45c3-f444-4ad77e8024ce"
      },
      "outputs": [
        {
          "output_type": "stream",
          "name": "stdout",
          "text": [
            "<class 'pandas.core.frame.DataFrame'>\n",
            "RangeIndex: 21230 entries, 0 to 21229\n",
            "Data columns (total 12 columns):\n",
            " #   Column            Non-Null Count  Dtype  \n",
            "---  ------            --------------  -----  \n",
            " 0   children          21230 non-null  int64  \n",
            " 1   days_employed     21230 non-null  float64\n",
            " 2   dob_years         21230 non-null  float64\n",
            " 3   education         21230 non-null  object \n",
            " 4   education_id      21230 non-null  int64  \n",
            " 5   family_status     21230 non-null  object \n",
            " 6   family_status_id  21230 non-null  int64  \n",
            " 7   gender            21229 non-null  object \n",
            " 8   income_type       21230 non-null  object \n",
            " 9   debt              21230 non-null  int64  \n",
            " 10  total_income      21230 non-null  float64\n",
            " 11  purpose           21230 non-null  object \n",
            "dtypes: float64(3), int64(4), object(5)\n",
            "memory usage: 1.9+ MB\n"
          ]
        }
      ],
      "source": [
        "data = data.loc[:, 'children': 'purpose']\n",
        "data = data.drop_duplicates().reset_index(drop=True)\n",
        "data.info()"
      ]
    },
    {
      "cell_type": "markdown",
      "metadata": {
        "id": "kHV4vKJV7UUI"
      },
      "source": [
        "**Вывод**"
      ]
    },
    {
      "cell_type": "markdown",
      "metadata": {
        "id": "FwOrw7rg7UUI"
      },
      "source": [
        "Мы удалили 72 дублирующихся записи в таблице. Общее количество случаев для анализа сократилось с 21 301 до 21 229."
      ]
    },
    {
      "cell_type": "markdown",
      "metadata": {
        "id": "z1HHUCM47UUI"
      },
      "source": [
        "### Категоризация текстовой переменной с помощью лемматизации"
      ]
    },
    {
      "cell_type": "markdown",
      "metadata": {
        "id": "Xi0qU08c7UUI"
      },
      "source": [
        "У нас есть столбец, где в свободной форме прописана цель кредита. Т.к. нам нужно установить зависимость невозврата кредита от цели, нам нужно категоризировать цель кредита. А для этого нужно лемматизировать весь текст в столбце цели во всей таблице. Но этой займёт слишком много ресурсов. Посмотрим, так ли отличаются значения цели кредита."
      ]
    },
    {
      "cell_type": "code",
      "execution_count": 36,
      "metadata": {
        "colab": {
          "base_uri": "https://localhost:8080/"
        },
        "id": "fUjZ3dut7UUJ",
        "outputId": "0bd89967-7439-41c2-b9d5-e0e61ddeb116"
      },
      "outputs": [
        {
          "output_type": "execute_result",
          "data": {
            "text/plain": [
              "38"
            ]
          },
          "metadata": {},
          "execution_count": 36
        }
      ],
      "source": [
        "len(data['purpose'].value_counts())"
      ]
    },
    {
      "cell_type": "markdown",
      "metadata": {
        "id": "t3l2hEi87UUJ"
      },
      "source": [
        "У нас всего 38 типов целей, лемматизируем этот список."
      ]
    },
    {
      "cell_type": "code",
      "source": [
        "Counter(Mystem().lemmatize(str(data['purpose'].to_list())))"
      ],
      "metadata": {
        "id": "gsP5XPjMBHDJ"
      },
      "execution_count": null,
      "outputs": []
    },
    {
      "cell_type": "markdown",
      "source": [
        "```\n",
        "Counter({\"['\": 1,\n",
        "         'покупка': 5838,\n",
        "         ' ': 33244,\n",
        "         'жилье': 4413,\n",
        "         \"', '\": 21229,\n",
        "         'приобретение': 457,\n",
        "         'автомобиль': 4258,\n",
        "         'дополнительный': 895,\n",
        "         'образование': 3970,\n",
        "         'сыграть': 755,\n",
        "         'свадьба': 2299,\n",
        "         'операция': 2576,\n",
        "         'с': 2886,\n",
        "         'на': 2196,\n",
        "         'проведение': 759,\n",
        "         'для': 1283,\n",
        "         'семья': 636,\n",
        "         'недвижимость': 6290,\n",
        "         'коммерческий': 1298,\n",
        "         'жилой': 1216,\n",
        "         'строительство': 1862,\n",
        "         'собственный': 626,\n",
        "         'подержать': 838,\n",
        "         'свой': 2212,\n",
        "         'со': 623,\n",
        "         'заниматься': 900,\n",
        "         'сделка': 933,\n",
        "         'получение': 1304,\n",
        "         'высокий': 1359,\n",
        "         'подержанный': 112,\n",
        "         'профильный': 431,\n",
        "         'сдача': 647,\n",
        "         'ремонт': 602,\n",
        "         \"']\\n\": 1})\n",
        "```"
      ],
      "metadata": {
        "id": "FhCGJaygBXnJ"
      }
    },
    {
      "cell_type": "markdown",
      "metadata": {
        "id": "ECdo39PE7UUK"
      },
      "source": [
        "Если отбросить все глаголы и вспомогательные части речи, соединить близкие по смыслу цели, то мы получим всего 6 вариантов, для чего люди обращались за кредитом: \n",
        "1. Для покупки недвижимости, сюда дже включим ремонт, т.к. его стоимость также сопоставима с покупкой жилья. Кроме того, ремонт - последний в списке посчёта лемм, эту категорию нужно объединить с близкой по смыслу.\n",
        "2. Операции с коммерческой недвижимостью отнесём в отдельную категорию, сделав исключение для данной группы. Очень вероятно, что эти кредит на бизнес-цели, под коммерческой недвижимостью понимаются офисы, торговые помещения, а это имеет мало отношения к квартирам, дачам и ремонту жилья.\n",
        "3. Строительство жилья. Соответствующая лемма расположена достаточно высоко в рейтинге результатов контент-анализа, значит она достаточно крупная, чтобы отделить её от недвижимости в целом.\n",
        "4. Автокредит.\n",
        "5. Для проведения свадьбы.\n",
        "6. Для получения образования."
      ]
    },
    {
      "cell_type": "markdown",
      "metadata": {
        "id": "2mBRGhWS7UUK"
      },
      "source": [
        "**Вывод**"
      ]
    },
    {
      "cell_type": "markdown",
      "metadata": {
        "id": "EBzclltk7UUK"
      },
      "source": [
        "Мы определили типы целей, их оказалось всего 6. Теперь нам будет проще понять, возращают ли кредит в срок в зависимости от цели."
      ]
    },
    {
      "cell_type": "markdown",
      "metadata": {
        "id": "RutXl88L7UUL"
      },
      "source": [
        "### Категоризация данных"
      ]
    },
    {
      "cell_type": "markdown",
      "metadata": {
        "id": "w3xpwWSy7UUL"
      },
      "source": [
        "Для подтверждения гипотез нам нужно добавить несколько переменных:\n",
        "1. Столбец о количестве детей нужно преобразовать в столбец о наличии детей.\n",
        "2. Столбец об уровне дохода нужно разделить на несколько категорий.\n",
        "3. Столбец о целях кредита нужно сократить до 5 указанных выше.\n",
        "4. Столбец о семейном положении нужно сократить до 2 позиций. С точки зрения кредита имеет значение лишь количество членов домохозяйства, поэтому сделаем из нее бинарную переменную, где 1 - есть сожитель, 0 - вероятнее всего нет.\n",
        "\n",
        "Создаём новый столбец о количестве детей:"
      ]
    },
    {
      "cell_type": "code",
      "execution_count": 37,
      "metadata": {
        "id": "UT1T1RQY7UUL"
      },
      "outputs": [],
      "source": [
        "data['children_bool'] = data['children'].replace([2, 3, 4, 5], 1)"
      ]
    },
    {
      "cell_type": "markdown",
      "metadata": {
        "id": "nMYQ2XYG7UUL"
      },
      "source": [
        "Столбец об уровне дохода делим на 4 равные группы. Для этого подойдёт разделение переменной по квартилям. Посмотрим ещё раз на данные дохода после предварительной обработки."
      ]
    },
    {
      "cell_type": "code",
      "execution_count": 38,
      "metadata": {
        "colab": {
          "base_uri": "https://localhost:8080/"
        },
        "id": "9as27Frj7UUM",
        "outputId": "5ce807e7-6326-487d-e14d-0c28137aeca2"
      },
      "outputs": [
        {
          "output_type": "execute_result",
          "data": {
            "text/plain": [
              "count    2.123000e+04\n",
              "mean     1.653910e+05\n",
              "std      9.842562e+04\n",
              "min      2.066726e+04\n",
              "25%      1.075506e+05\n",
              "50%      1.425876e+05\n",
              "75%      1.958209e+05\n",
              "max      2.265604e+06\n",
              "Name: total_income, dtype: float64"
            ]
          },
          "metadata": {},
          "execution_count": 38
        }
      ],
      "source": [
        "data['total_income'].describe()"
      ]
    },
    {
      "cell_type": "markdown",
      "metadata": {
        "id": "p0jBkKoy7UUM"
      },
      "source": [
        "Категоризируем его, создав новый столбец с помощью функции:"
      ]
    },
    {
      "cell_type": "code",
      "execution_count": 39,
      "metadata": {
        "id": "j8eri_1I7UUM"
      },
      "outputs": [],
      "source": [
        "def income_group(income):\n",
        "    if income <= 1.075460e+05:\n",
        "        return 'низкий'\n",
        "    if income <= 1.425880e+05:\n",
        "        return 'средне низкий'\n",
        "    if income <= 1.958190e+05:\n",
        "        return 'средне высокий'\n",
        "    return 'высокий'\n",
        "data['income_group'] = data['total_income'].apply(income_group)"
      ]
    },
    {
      "cell_type": "markdown",
      "metadata": {
        "id": "Uazk1DlX7UUN"
      },
      "source": [
        "Столбец о целях кредита преобразуем в сокращенные категории кредита с помощью словаря категорий."
      ]
    },
    {
      "cell_type": "code",
      "execution_count": 40,
      "metadata": {
        "id": "bbMjDMKO7UUN"
      },
      "outputs": [],
      "source": [
        "purpose_map = {\n",
        "    'свадьба': 'свадьба',\n",
        "    'на проведение свадьбы': 'свадьба',\n",
        "    'сыграть свадьбу': 'свадьба',\n",
        "\n",
        "    'покупка жилья для сдачи': 'покупка жилой недвижимости',\n",
        "    'операции с жильем': 'покупка жилой недвижимости',\n",
        "    'операции с недвижимостью': 'покупка жилой недвижимости',\n",
        "    'жилье': 'покупка жилой недвижимости',\n",
        "    'покупка жилья': 'покупка жилой недвижимости',\n",
        "    'покупка жилья для семьи': 'покупка жилой недвижимости',\n",
        "    'недвижимость': 'покупка жилой недвижимости',\n",
        "    'операции со своей недвижимостью': 'покупка жилой недвижимости',\n",
        "    'покупка своего жилья': 'покупка жилой недвижимости',\n",
        "    'покупка недвижимости': 'покупка жилой недвижимости',\n",
        "    'ремонт жилью': 'покупка жилой недвижимости',\n",
        "    'покупка жилой недвижимости': 'покупка жилой недвижимости',\n",
        "    \n",
        "    'строительство собственной недвижимости': 'строительство',\n",
        "    'строительство жилой недвижимости': 'строительство',\n",
        "    'строительство недвижимости': 'строительство',\n",
        "    \n",
        "    'покупка коммерческой недвижимости': 'коммерческая недвижимость',\n",
        "    'операции с коммерческой недвижимостью': 'коммерческая недвижимость',\n",
        "    \n",
        "    'на покупку своего автомобиля': 'авто',\n",
        "    'автомобиль': 'авто',\n",
        "    'сделка с подержанным автомобилем': 'авто',\n",
        "    'автомобили': 'авто',\n",
        "    'свой автомобиль': 'авто',\n",
        "    'на покупку подержанного автомобиля': 'авто',\n",
        "    'на покупку автомобиля': 'авто',\n",
        "    'приобретение автомобиля': 'авто',\n",
        "    'сделка с автомобилем': 'авто',\n",
        "   \n",
        "    'высшее образование': 'образование',\n",
        "    'дополнительное образование': 'образование',\n",
        "    'заняться высшим образованием': 'образование',\n",
        "    'получение дополнительного образования': 'образование',\n",
        "    'образование': 'образование',\n",
        "    'получение образования': 'образование',\n",
        "    'профильное образование': 'образование',\n",
        "    'получение высшего образования': 'образование',\n",
        "    'заняться образованием': 'образование'}\n",
        "data['purpose_id'] = data['purpose'].map(purpose_map)"
      ]
    },
    {
      "cell_type": "markdown",
      "metadata": {
        "id": "NefIGBHf7UUO"
      },
      "source": [
        "Создаём сокращённый столбец данных о наличии семьи:"
      ]
    },
    {
      "cell_type": "code",
      "execution_count": 41,
      "metadata": {
        "colab": {
          "base_uri": "https://localhost:8080/",
          "height": 409
        },
        "id": "VQ7tE_yO7UUO",
        "outputId": "c1bee778-8cbf-407b-961b-6cd360a7b8ca"
      },
      "outputs": [
        {
          "output_type": "execute_result",
          "data": {
            "text/plain": [
              "       children  days_employed  dob_years education  education_id  \\\n",
              "3130          0       0.000000       71.0   среднее             1   \n",
              "17220         1     527.447471       41.0    высшее             0   \n",
              "13069         0    1990.589348       46.0   среднее             1   \n",
              "20579         0     917.657331       28.0   среднее             1   \n",
              "12779         1    1239.301867       48.0   среднее             1   \n",
              "\n",
              "         family_status  family_status_id gender income_type  debt  \\\n",
              "3130   женат / замужем                 0      F   пенсионер     0   \n",
              "17220  женат / замужем                 0      M   компаньон     1   \n",
              "13069  женат / замужем                 0      F   компаньон     0   \n",
              "20579  женат / замужем                 0      F   компаньон     1   \n",
              "12779  женат / замужем                 0      M   сотрудник     0   \n",
              "\n",
              "        total_income                                 purpose  children_bool  \\\n",
              "3130   114510.462596  строительство собственной недвижимости              0   \n",
              "17220  176231.690646                    сделка с автомобилем              1   \n",
              "13069  172517.418907                    покупка своего жилья              0   \n",
              "20579   75741.350851                            ремонт жилью              0   \n",
              "12779  123471.121190                              автомобили              1   \n",
              "\n",
              "         income_group                  purpose_id  purpose_bool  \n",
              "3130    средне низкий               строительство            10  \n",
              "17220  средне высокий                        авто             7  \n",
              "13069  средне высокий  покупка жилой недвижимости             9  \n",
              "20579          низкий  покупка жилой недвижимости             9  \n",
              "12779   средне низкий                        авто             7  "
            ],
            "text/html": [
              "\n",
              "  <div id=\"df-b63499f2-0c12-45aa-baee-11b16a64b56c\">\n",
              "    <div class=\"colab-df-container\">\n",
              "      <div>\n",
              "<style scoped>\n",
              "    .dataframe tbody tr th:only-of-type {\n",
              "        vertical-align: middle;\n",
              "    }\n",
              "\n",
              "    .dataframe tbody tr th {\n",
              "        vertical-align: top;\n",
              "    }\n",
              "\n",
              "    .dataframe thead th {\n",
              "        text-align: right;\n",
              "    }\n",
              "</style>\n",
              "<table border=\"1\" class=\"dataframe\">\n",
              "  <thead>\n",
              "    <tr style=\"text-align: right;\">\n",
              "      <th></th>\n",
              "      <th>children</th>\n",
              "      <th>days_employed</th>\n",
              "      <th>dob_years</th>\n",
              "      <th>education</th>\n",
              "      <th>education_id</th>\n",
              "      <th>family_status</th>\n",
              "      <th>family_status_id</th>\n",
              "      <th>gender</th>\n",
              "      <th>income_type</th>\n",
              "      <th>debt</th>\n",
              "      <th>total_income</th>\n",
              "      <th>purpose</th>\n",
              "      <th>children_bool</th>\n",
              "      <th>income_group</th>\n",
              "      <th>purpose_id</th>\n",
              "      <th>purpose_bool</th>\n",
              "    </tr>\n",
              "  </thead>\n",
              "  <tbody>\n",
              "    <tr>\n",
              "      <th>3130</th>\n",
              "      <td>0</td>\n",
              "      <td>0.000000</td>\n",
              "      <td>71.0</td>\n",
              "      <td>среднее</td>\n",
              "      <td>1</td>\n",
              "      <td>женат / замужем</td>\n",
              "      <td>0</td>\n",
              "      <td>F</td>\n",
              "      <td>пенсионер</td>\n",
              "      <td>0</td>\n",
              "      <td>114510.462596</td>\n",
              "      <td>строительство собственной недвижимости</td>\n",
              "      <td>0</td>\n",
              "      <td>средне низкий</td>\n",
              "      <td>строительство</td>\n",
              "      <td>10</td>\n",
              "    </tr>\n",
              "    <tr>\n",
              "      <th>17220</th>\n",
              "      <td>1</td>\n",
              "      <td>527.447471</td>\n",
              "      <td>41.0</td>\n",
              "      <td>высшее</td>\n",
              "      <td>0</td>\n",
              "      <td>женат / замужем</td>\n",
              "      <td>0</td>\n",
              "      <td>M</td>\n",
              "      <td>компаньон</td>\n",
              "      <td>1</td>\n",
              "      <td>176231.690646</td>\n",
              "      <td>сделка с автомобилем</td>\n",
              "      <td>1</td>\n",
              "      <td>средне высокий</td>\n",
              "      <td>авто</td>\n",
              "      <td>7</td>\n",
              "    </tr>\n",
              "    <tr>\n",
              "      <th>13069</th>\n",
              "      <td>0</td>\n",
              "      <td>1990.589348</td>\n",
              "      <td>46.0</td>\n",
              "      <td>среднее</td>\n",
              "      <td>1</td>\n",
              "      <td>женат / замужем</td>\n",
              "      <td>0</td>\n",
              "      <td>F</td>\n",
              "      <td>компаньон</td>\n",
              "      <td>0</td>\n",
              "      <td>172517.418907</td>\n",
              "      <td>покупка своего жилья</td>\n",
              "      <td>0</td>\n",
              "      <td>средне высокий</td>\n",
              "      <td>покупка жилой недвижимости</td>\n",
              "      <td>9</td>\n",
              "    </tr>\n",
              "    <tr>\n",
              "      <th>20579</th>\n",
              "      <td>0</td>\n",
              "      <td>917.657331</td>\n",
              "      <td>28.0</td>\n",
              "      <td>среднее</td>\n",
              "      <td>1</td>\n",
              "      <td>женат / замужем</td>\n",
              "      <td>0</td>\n",
              "      <td>F</td>\n",
              "      <td>компаньон</td>\n",
              "      <td>1</td>\n",
              "      <td>75741.350851</td>\n",
              "      <td>ремонт жилью</td>\n",
              "      <td>0</td>\n",
              "      <td>низкий</td>\n",
              "      <td>покупка жилой недвижимости</td>\n",
              "      <td>9</td>\n",
              "    </tr>\n",
              "    <tr>\n",
              "      <th>12779</th>\n",
              "      <td>1</td>\n",
              "      <td>1239.301867</td>\n",
              "      <td>48.0</td>\n",
              "      <td>среднее</td>\n",
              "      <td>1</td>\n",
              "      <td>женат / замужем</td>\n",
              "      <td>0</td>\n",
              "      <td>M</td>\n",
              "      <td>сотрудник</td>\n",
              "      <td>0</td>\n",
              "      <td>123471.121190</td>\n",
              "      <td>автомобили</td>\n",
              "      <td>1</td>\n",
              "      <td>средне низкий</td>\n",
              "      <td>авто</td>\n",
              "      <td>7</td>\n",
              "    </tr>\n",
              "  </tbody>\n",
              "</table>\n",
              "</div>\n",
              "      <button class=\"colab-df-convert\" onclick=\"convertToInteractive('df-b63499f2-0c12-45aa-baee-11b16a64b56c')\"\n",
              "              title=\"Convert this dataframe to an interactive table.\"\n",
              "              style=\"display:none;\">\n",
              "        \n",
              "  <svg xmlns=\"http://www.w3.org/2000/svg\" height=\"24px\"viewBox=\"0 0 24 24\"\n",
              "       width=\"24px\">\n",
              "    <path d=\"M0 0h24v24H0V0z\" fill=\"none\"/>\n",
              "    <path d=\"M18.56 5.44l.94 2.06.94-2.06 2.06-.94-2.06-.94-.94-2.06-.94 2.06-2.06.94zm-11 1L8.5 8.5l.94-2.06 2.06-.94-2.06-.94L8.5 2.5l-.94 2.06-2.06.94zm10 10l.94 2.06.94-2.06 2.06-.94-2.06-.94-.94-2.06-.94 2.06-2.06.94z\"/><path d=\"M17.41 7.96l-1.37-1.37c-.4-.4-.92-.59-1.43-.59-.52 0-1.04.2-1.43.59L10.3 9.45l-7.72 7.72c-.78.78-.78 2.05 0 2.83L4 21.41c.39.39.9.59 1.41.59.51 0 1.02-.2 1.41-.59l7.78-7.78 2.81-2.81c.8-.78.8-2.07 0-2.86zM5.41 20L4 18.59l7.72-7.72 1.47 1.35L5.41 20z\"/>\n",
              "  </svg>\n",
              "      </button>\n",
              "      \n",
              "  <style>\n",
              "    .colab-df-container {\n",
              "      display:flex;\n",
              "      flex-wrap:wrap;\n",
              "      gap: 12px;\n",
              "    }\n",
              "\n",
              "    .colab-df-convert {\n",
              "      background-color: #E8F0FE;\n",
              "      border: none;\n",
              "      border-radius: 50%;\n",
              "      cursor: pointer;\n",
              "      display: none;\n",
              "      fill: #1967D2;\n",
              "      height: 32px;\n",
              "      padding: 0 0 0 0;\n",
              "      width: 32px;\n",
              "    }\n",
              "\n",
              "    .colab-df-convert:hover {\n",
              "      background-color: #E2EBFA;\n",
              "      box-shadow: 0px 1px 2px rgba(60, 64, 67, 0.3), 0px 1px 3px 1px rgba(60, 64, 67, 0.15);\n",
              "      fill: #174EA6;\n",
              "    }\n",
              "\n",
              "    [theme=dark] .colab-df-convert {\n",
              "      background-color: #3B4455;\n",
              "      fill: #D2E3FC;\n",
              "    }\n",
              "\n",
              "    [theme=dark] .colab-df-convert:hover {\n",
              "      background-color: #434B5C;\n",
              "      box-shadow: 0px 1px 3px 1px rgba(0, 0, 0, 0.15);\n",
              "      filter: drop-shadow(0px 1px 2px rgba(0, 0, 0, 0.3));\n",
              "      fill: #FFFFFF;\n",
              "    }\n",
              "  </style>\n",
              "\n",
              "      <script>\n",
              "        const buttonEl =\n",
              "          document.querySelector('#df-b63499f2-0c12-45aa-baee-11b16a64b56c button.colab-df-convert');\n",
              "        buttonEl.style.display =\n",
              "          google.colab.kernel.accessAllowed ? 'block' : 'none';\n",
              "\n",
              "        async function convertToInteractive(key) {\n",
              "          const element = document.querySelector('#df-b63499f2-0c12-45aa-baee-11b16a64b56c');\n",
              "          const dataTable =\n",
              "            await google.colab.kernel.invokeFunction('convertToInteractive',\n",
              "                                                     [key], {});\n",
              "          if (!dataTable) return;\n",
              "\n",
              "          const docLinkHtml = 'Like what you see? Visit the ' +\n",
              "            '<a target=\"_blank\" href=https://colab.research.google.com/notebooks/data_table.ipynb>data table notebook</a>'\n",
              "            + ' to learn more about interactive tables.';\n",
              "          element.innerHTML = '';\n",
              "          dataTable['output_type'] = 'display_data';\n",
              "          await google.colab.output.renderOutput(dataTable, element);\n",
              "          const docLink = document.createElement('div');\n",
              "          docLink.innerHTML = docLinkHtml;\n",
              "          element.appendChild(docLink);\n",
              "        }\n",
              "      </script>\n",
              "    </div>\n",
              "  </div>\n",
              "  "
            ]
          },
          "metadata": {},
          "execution_count": 41
        }
      ],
      "source": [
        "data['purpose_bool'] = data['purpose_id'].replace(['образование', 'авто', 'свадьба', 'покупка жилой недвижимости', 'строительство', 'коммерческая недвижимость'], [6,7,8,9,10,11])\n",
        "data.sample(5)"
      ]
    },
    {
      "cell_type": "code",
      "execution_count": 42,
      "metadata": {
        "id": "xi8HecTO7UUQ"
      },
      "outputs": [],
      "source": [
        "data['family_bool'] = data['family_status_id'].replace([0, 1, 2, 3, 4], [1, 1, 0, 0, 0])"
      ]
    },
    {
      "cell_type": "markdown",
      "metadata": {
        "id": "l_6rpWz-7UUR"
      },
      "source": [
        "Проверяем категоризацию на первых строках массива:"
      ]
    },
    {
      "cell_type": "code",
      "execution_count": 43,
      "metadata": {
        "scrolled": true,
        "colab": {
          "base_uri": "https://localhost:8080/",
          "height": 1000
        },
        "id": "PAA3Q38V7UUR",
        "outputId": "603a5ce0-ae06-49e6-b751-2a697b1d4d6c"
      },
      "outputs": [
        {
          "output_type": "execute_result",
          "data": {
            "text/plain": [
              "    children  days_employed  dob_years            education  education_id  \\\n",
              "0          1    8437.673028       42.0               высшее             0   \n",
              "1          1    4024.803754       36.0              среднее             1   \n",
              "2          0    5623.422610       33.0              среднее             1   \n",
              "3          3    4124.747207       32.0              среднее             1   \n",
              "4          0       0.000000       53.0              среднее             1   \n",
              "5          0     926.185831       27.0               высшее             0   \n",
              "6          0    2879.202052       43.0               высшее             0   \n",
              "7          0     152.779569       50.0              среднее             1   \n",
              "8          2    6929.865299       35.0               высшее             0   \n",
              "9          0    2188.756445       41.0              среднее             1   \n",
              "10         2    4171.483647       36.0               высшее             0   \n",
              "11         0     792.701887       40.0              среднее             1   \n",
              "12         0       0.000000       65.0              среднее             1   \n",
              "13         0    1846.641941       54.0  неоконченное высшее             2   \n",
              "14         0    1844.956182       56.0               высшее             0   \n",
              "15         1     972.364419       26.0              среднее             1   \n",
              "16         0    1719.934226       35.0              среднее             1   \n",
              "17         0    2369.999720       33.0               высшее             0   \n",
              "18         0       0.000000       53.0              среднее             1   \n",
              "19         0   10038.818549       48.0              среднее             1   \n",
              "\n",
              "       family_status  family_status_id gender income_type  debt  \\\n",
              "0    женат / замужем                 0      F   сотрудник     0   \n",
              "1    женат / замужем                 0      F   сотрудник     0   \n",
              "2    женат / замужем                 0      M   сотрудник     0   \n",
              "3    женат / замужем                 0      M   сотрудник     0   \n",
              "4   гражданский брак                 1      F   пенсионер     0   \n",
              "5   гражданский брак                 1      M   компаньон     0   \n",
              "6    женат / замужем                 0      F   компаньон     0   \n",
              "7    женат / замужем                 0      M   сотрудник     0   \n",
              "8   гражданский брак                 1      F   сотрудник     0   \n",
              "9    женат / замужем                 0      M   сотрудник     0   \n",
              "10   женат / замужем                 0      M   компаньон     0   \n",
              "11   женат / замужем                 0      F   сотрудник     0   \n",
              "12  гражданский брак                 1      M   пенсионер     0   \n",
              "13   женат / замужем                 0      F   сотрудник     0   \n",
              "14  гражданский брак                 1      F   компаньон     1   \n",
              "15   женат / замужем                 0      F   сотрудник     0   \n",
              "16   женат / замужем                 0      F   сотрудник     0   \n",
              "17  гражданский брак                 1      M   сотрудник     0   \n",
              "18    вдовец / вдова                 2      F   пенсионер     0   \n",
              "19         в разводе                 3      F   сотрудник     0   \n",
              "\n",
              "     total_income                                 purpose  children_bool  \\\n",
              "0   253875.639453                           покупка жилья              1   \n",
              "1   112080.014102                 приобретение автомобиля              1   \n",
              "2   145885.952297                           покупка жилья              0   \n",
              "3   267628.550329              дополнительное образование              1   \n",
              "4   158616.077870                         сыграть свадьбу              0   \n",
              "5   255763.565419                           покупка жилья              0   \n",
              "6   240525.971920                       операции с жильем              0   \n",
              "7   135823.934197                             образование              0   \n",
              "8    95856.832424                   на проведение свадьбы              1   \n",
              "9   144425.938277                 покупка жилья для семьи              0   \n",
              "10  113943.491460                    покупка недвижимости              1   \n",
              "11   77069.234271       покупка коммерческой недвижимости              0   \n",
              "12  118480.837408                         сыграть свадьбу              0   \n",
              "13  130458.228857                 приобретение автомобиля              0   \n",
              "14  165127.911772              покупка жилой недвижимости              0   \n",
              "15  116820.904450  строительство собственной недвижимости              1   \n",
              "16  289202.704229                            недвижимость              0   \n",
              "17   90410.586745              строительство недвижимости              0   \n",
              "18   56823.777243      на покупку подержанного автомобиля              0   \n",
              "19  242831.107982            на покупку своего автомобиля              0   \n",
              "\n",
              "      income_group                  purpose_id  purpose_bool  family_bool  \n",
              "0          высокий  покупка жилой недвижимости             9            1  \n",
              "1    средне низкий                        авто             7            1  \n",
              "2   средне высокий  покупка жилой недвижимости             9            1  \n",
              "3          высокий                 образование             6            1  \n",
              "4   средне высокий                     свадьба             8            1  \n",
              "5          высокий  покупка жилой недвижимости             9            1  \n",
              "6          высокий  покупка жилой недвижимости             9            1  \n",
              "7    средне низкий                 образование             6            1  \n",
              "8           низкий                     свадьба             8            1  \n",
              "9   средне высокий  покупка жилой недвижимости             9            1  \n",
              "10   средне низкий  покупка жилой недвижимости             9            1  \n",
              "11          низкий   коммерческая недвижимость            11            1  \n",
              "12   средне низкий                     свадьба             8            1  \n",
              "13   средне низкий                        авто             7            1  \n",
              "14  средне высокий  покупка жилой недвижимости             9            1  \n",
              "15   средне низкий               строительство            10            1  \n",
              "16         высокий  покупка жилой недвижимости             9            1  \n",
              "17          низкий               строительство            10            1  \n",
              "18          низкий                        авто             7            0  \n",
              "19         высокий                        авто             7            0  "
            ],
            "text/html": [
              "\n",
              "  <div id=\"df-a20e4bd2-5a54-4568-bdd1-16aa32cdc94a\">\n",
              "    <div class=\"colab-df-container\">\n",
              "      <div>\n",
              "<style scoped>\n",
              "    .dataframe tbody tr th:only-of-type {\n",
              "        vertical-align: middle;\n",
              "    }\n",
              "\n",
              "    .dataframe tbody tr th {\n",
              "        vertical-align: top;\n",
              "    }\n",
              "\n",
              "    .dataframe thead th {\n",
              "        text-align: right;\n",
              "    }\n",
              "</style>\n",
              "<table border=\"1\" class=\"dataframe\">\n",
              "  <thead>\n",
              "    <tr style=\"text-align: right;\">\n",
              "      <th></th>\n",
              "      <th>children</th>\n",
              "      <th>days_employed</th>\n",
              "      <th>dob_years</th>\n",
              "      <th>education</th>\n",
              "      <th>education_id</th>\n",
              "      <th>family_status</th>\n",
              "      <th>family_status_id</th>\n",
              "      <th>gender</th>\n",
              "      <th>income_type</th>\n",
              "      <th>debt</th>\n",
              "      <th>total_income</th>\n",
              "      <th>purpose</th>\n",
              "      <th>children_bool</th>\n",
              "      <th>income_group</th>\n",
              "      <th>purpose_id</th>\n",
              "      <th>purpose_bool</th>\n",
              "      <th>family_bool</th>\n",
              "    </tr>\n",
              "  </thead>\n",
              "  <tbody>\n",
              "    <tr>\n",
              "      <th>0</th>\n",
              "      <td>1</td>\n",
              "      <td>8437.673028</td>\n",
              "      <td>42.0</td>\n",
              "      <td>высшее</td>\n",
              "      <td>0</td>\n",
              "      <td>женат / замужем</td>\n",
              "      <td>0</td>\n",
              "      <td>F</td>\n",
              "      <td>сотрудник</td>\n",
              "      <td>0</td>\n",
              "      <td>253875.639453</td>\n",
              "      <td>покупка жилья</td>\n",
              "      <td>1</td>\n",
              "      <td>высокий</td>\n",
              "      <td>покупка жилой недвижимости</td>\n",
              "      <td>9</td>\n",
              "      <td>1</td>\n",
              "    </tr>\n",
              "    <tr>\n",
              "      <th>1</th>\n",
              "      <td>1</td>\n",
              "      <td>4024.803754</td>\n",
              "      <td>36.0</td>\n",
              "      <td>среднее</td>\n",
              "      <td>1</td>\n",
              "      <td>женат / замужем</td>\n",
              "      <td>0</td>\n",
              "      <td>F</td>\n",
              "      <td>сотрудник</td>\n",
              "      <td>0</td>\n",
              "      <td>112080.014102</td>\n",
              "      <td>приобретение автомобиля</td>\n",
              "      <td>1</td>\n",
              "      <td>средне низкий</td>\n",
              "      <td>авто</td>\n",
              "      <td>7</td>\n",
              "      <td>1</td>\n",
              "    </tr>\n",
              "    <tr>\n",
              "      <th>2</th>\n",
              "      <td>0</td>\n",
              "      <td>5623.422610</td>\n",
              "      <td>33.0</td>\n",
              "      <td>среднее</td>\n",
              "      <td>1</td>\n",
              "      <td>женат / замужем</td>\n",
              "      <td>0</td>\n",
              "      <td>M</td>\n",
              "      <td>сотрудник</td>\n",
              "      <td>0</td>\n",
              "      <td>145885.952297</td>\n",
              "      <td>покупка жилья</td>\n",
              "      <td>0</td>\n",
              "      <td>средне высокий</td>\n",
              "      <td>покупка жилой недвижимости</td>\n",
              "      <td>9</td>\n",
              "      <td>1</td>\n",
              "    </tr>\n",
              "    <tr>\n",
              "      <th>3</th>\n",
              "      <td>3</td>\n",
              "      <td>4124.747207</td>\n",
              "      <td>32.0</td>\n",
              "      <td>среднее</td>\n",
              "      <td>1</td>\n",
              "      <td>женат / замужем</td>\n",
              "      <td>0</td>\n",
              "      <td>M</td>\n",
              "      <td>сотрудник</td>\n",
              "      <td>0</td>\n",
              "      <td>267628.550329</td>\n",
              "      <td>дополнительное образование</td>\n",
              "      <td>1</td>\n",
              "      <td>высокий</td>\n",
              "      <td>образование</td>\n",
              "      <td>6</td>\n",
              "      <td>1</td>\n",
              "    </tr>\n",
              "    <tr>\n",
              "      <th>4</th>\n",
              "      <td>0</td>\n",
              "      <td>0.000000</td>\n",
              "      <td>53.0</td>\n",
              "      <td>среднее</td>\n",
              "      <td>1</td>\n",
              "      <td>гражданский брак</td>\n",
              "      <td>1</td>\n",
              "      <td>F</td>\n",
              "      <td>пенсионер</td>\n",
              "      <td>0</td>\n",
              "      <td>158616.077870</td>\n",
              "      <td>сыграть свадьбу</td>\n",
              "      <td>0</td>\n",
              "      <td>средне высокий</td>\n",
              "      <td>свадьба</td>\n",
              "      <td>8</td>\n",
              "      <td>1</td>\n",
              "    </tr>\n",
              "    <tr>\n",
              "      <th>5</th>\n",
              "      <td>0</td>\n",
              "      <td>926.185831</td>\n",
              "      <td>27.0</td>\n",
              "      <td>высшее</td>\n",
              "      <td>0</td>\n",
              "      <td>гражданский брак</td>\n",
              "      <td>1</td>\n",
              "      <td>M</td>\n",
              "      <td>компаньон</td>\n",
              "      <td>0</td>\n",
              "      <td>255763.565419</td>\n",
              "      <td>покупка жилья</td>\n",
              "      <td>0</td>\n",
              "      <td>высокий</td>\n",
              "      <td>покупка жилой недвижимости</td>\n",
              "      <td>9</td>\n",
              "      <td>1</td>\n",
              "    </tr>\n",
              "    <tr>\n",
              "      <th>6</th>\n",
              "      <td>0</td>\n",
              "      <td>2879.202052</td>\n",
              "      <td>43.0</td>\n",
              "      <td>высшее</td>\n",
              "      <td>0</td>\n",
              "      <td>женат / замужем</td>\n",
              "      <td>0</td>\n",
              "      <td>F</td>\n",
              "      <td>компаньон</td>\n",
              "      <td>0</td>\n",
              "      <td>240525.971920</td>\n",
              "      <td>операции с жильем</td>\n",
              "      <td>0</td>\n",
              "      <td>высокий</td>\n",
              "      <td>покупка жилой недвижимости</td>\n",
              "      <td>9</td>\n",
              "      <td>1</td>\n",
              "    </tr>\n",
              "    <tr>\n",
              "      <th>7</th>\n",
              "      <td>0</td>\n",
              "      <td>152.779569</td>\n",
              "      <td>50.0</td>\n",
              "      <td>среднее</td>\n",
              "      <td>1</td>\n",
              "      <td>женат / замужем</td>\n",
              "      <td>0</td>\n",
              "      <td>M</td>\n",
              "      <td>сотрудник</td>\n",
              "      <td>0</td>\n",
              "      <td>135823.934197</td>\n",
              "      <td>образование</td>\n",
              "      <td>0</td>\n",
              "      <td>средне низкий</td>\n",
              "      <td>образование</td>\n",
              "      <td>6</td>\n",
              "      <td>1</td>\n",
              "    </tr>\n",
              "    <tr>\n",
              "      <th>8</th>\n",
              "      <td>2</td>\n",
              "      <td>6929.865299</td>\n",
              "      <td>35.0</td>\n",
              "      <td>высшее</td>\n",
              "      <td>0</td>\n",
              "      <td>гражданский брак</td>\n",
              "      <td>1</td>\n",
              "      <td>F</td>\n",
              "      <td>сотрудник</td>\n",
              "      <td>0</td>\n",
              "      <td>95856.832424</td>\n",
              "      <td>на проведение свадьбы</td>\n",
              "      <td>1</td>\n",
              "      <td>низкий</td>\n",
              "      <td>свадьба</td>\n",
              "      <td>8</td>\n",
              "      <td>1</td>\n",
              "    </tr>\n",
              "    <tr>\n",
              "      <th>9</th>\n",
              "      <td>0</td>\n",
              "      <td>2188.756445</td>\n",
              "      <td>41.0</td>\n",
              "      <td>среднее</td>\n",
              "      <td>1</td>\n",
              "      <td>женат / замужем</td>\n",
              "      <td>0</td>\n",
              "      <td>M</td>\n",
              "      <td>сотрудник</td>\n",
              "      <td>0</td>\n",
              "      <td>144425.938277</td>\n",
              "      <td>покупка жилья для семьи</td>\n",
              "      <td>0</td>\n",
              "      <td>средне высокий</td>\n",
              "      <td>покупка жилой недвижимости</td>\n",
              "      <td>9</td>\n",
              "      <td>1</td>\n",
              "    </tr>\n",
              "    <tr>\n",
              "      <th>10</th>\n",
              "      <td>2</td>\n",
              "      <td>4171.483647</td>\n",
              "      <td>36.0</td>\n",
              "      <td>высшее</td>\n",
              "      <td>0</td>\n",
              "      <td>женат / замужем</td>\n",
              "      <td>0</td>\n",
              "      <td>M</td>\n",
              "      <td>компаньон</td>\n",
              "      <td>0</td>\n",
              "      <td>113943.491460</td>\n",
              "      <td>покупка недвижимости</td>\n",
              "      <td>1</td>\n",
              "      <td>средне низкий</td>\n",
              "      <td>покупка жилой недвижимости</td>\n",
              "      <td>9</td>\n",
              "      <td>1</td>\n",
              "    </tr>\n",
              "    <tr>\n",
              "      <th>11</th>\n",
              "      <td>0</td>\n",
              "      <td>792.701887</td>\n",
              "      <td>40.0</td>\n",
              "      <td>среднее</td>\n",
              "      <td>1</td>\n",
              "      <td>женат / замужем</td>\n",
              "      <td>0</td>\n",
              "      <td>F</td>\n",
              "      <td>сотрудник</td>\n",
              "      <td>0</td>\n",
              "      <td>77069.234271</td>\n",
              "      <td>покупка коммерческой недвижимости</td>\n",
              "      <td>0</td>\n",
              "      <td>низкий</td>\n",
              "      <td>коммерческая недвижимость</td>\n",
              "      <td>11</td>\n",
              "      <td>1</td>\n",
              "    </tr>\n",
              "    <tr>\n",
              "      <th>12</th>\n",
              "      <td>0</td>\n",
              "      <td>0.000000</td>\n",
              "      <td>65.0</td>\n",
              "      <td>среднее</td>\n",
              "      <td>1</td>\n",
              "      <td>гражданский брак</td>\n",
              "      <td>1</td>\n",
              "      <td>M</td>\n",
              "      <td>пенсионер</td>\n",
              "      <td>0</td>\n",
              "      <td>118480.837408</td>\n",
              "      <td>сыграть свадьбу</td>\n",
              "      <td>0</td>\n",
              "      <td>средне низкий</td>\n",
              "      <td>свадьба</td>\n",
              "      <td>8</td>\n",
              "      <td>1</td>\n",
              "    </tr>\n",
              "    <tr>\n",
              "      <th>13</th>\n",
              "      <td>0</td>\n",
              "      <td>1846.641941</td>\n",
              "      <td>54.0</td>\n",
              "      <td>неоконченное высшее</td>\n",
              "      <td>2</td>\n",
              "      <td>женат / замужем</td>\n",
              "      <td>0</td>\n",
              "      <td>F</td>\n",
              "      <td>сотрудник</td>\n",
              "      <td>0</td>\n",
              "      <td>130458.228857</td>\n",
              "      <td>приобретение автомобиля</td>\n",
              "      <td>0</td>\n",
              "      <td>средне низкий</td>\n",
              "      <td>авто</td>\n",
              "      <td>7</td>\n",
              "      <td>1</td>\n",
              "    </tr>\n",
              "    <tr>\n",
              "      <th>14</th>\n",
              "      <td>0</td>\n",
              "      <td>1844.956182</td>\n",
              "      <td>56.0</td>\n",
              "      <td>высшее</td>\n",
              "      <td>0</td>\n",
              "      <td>гражданский брак</td>\n",
              "      <td>1</td>\n",
              "      <td>F</td>\n",
              "      <td>компаньон</td>\n",
              "      <td>1</td>\n",
              "      <td>165127.911772</td>\n",
              "      <td>покупка жилой недвижимости</td>\n",
              "      <td>0</td>\n",
              "      <td>средне высокий</td>\n",
              "      <td>покупка жилой недвижимости</td>\n",
              "      <td>9</td>\n",
              "      <td>1</td>\n",
              "    </tr>\n",
              "    <tr>\n",
              "      <th>15</th>\n",
              "      <td>1</td>\n",
              "      <td>972.364419</td>\n",
              "      <td>26.0</td>\n",
              "      <td>среднее</td>\n",
              "      <td>1</td>\n",
              "      <td>женат / замужем</td>\n",
              "      <td>0</td>\n",
              "      <td>F</td>\n",
              "      <td>сотрудник</td>\n",
              "      <td>0</td>\n",
              "      <td>116820.904450</td>\n",
              "      <td>строительство собственной недвижимости</td>\n",
              "      <td>1</td>\n",
              "      <td>средне низкий</td>\n",
              "      <td>строительство</td>\n",
              "      <td>10</td>\n",
              "      <td>1</td>\n",
              "    </tr>\n",
              "    <tr>\n",
              "      <th>16</th>\n",
              "      <td>0</td>\n",
              "      <td>1719.934226</td>\n",
              "      <td>35.0</td>\n",
              "      <td>среднее</td>\n",
              "      <td>1</td>\n",
              "      <td>женат / замужем</td>\n",
              "      <td>0</td>\n",
              "      <td>F</td>\n",
              "      <td>сотрудник</td>\n",
              "      <td>0</td>\n",
              "      <td>289202.704229</td>\n",
              "      <td>недвижимость</td>\n",
              "      <td>0</td>\n",
              "      <td>высокий</td>\n",
              "      <td>покупка жилой недвижимости</td>\n",
              "      <td>9</td>\n",
              "      <td>1</td>\n",
              "    </tr>\n",
              "    <tr>\n",
              "      <th>17</th>\n",
              "      <td>0</td>\n",
              "      <td>2369.999720</td>\n",
              "      <td>33.0</td>\n",
              "      <td>высшее</td>\n",
              "      <td>0</td>\n",
              "      <td>гражданский брак</td>\n",
              "      <td>1</td>\n",
              "      <td>M</td>\n",
              "      <td>сотрудник</td>\n",
              "      <td>0</td>\n",
              "      <td>90410.586745</td>\n",
              "      <td>строительство недвижимости</td>\n",
              "      <td>0</td>\n",
              "      <td>низкий</td>\n",
              "      <td>строительство</td>\n",
              "      <td>10</td>\n",
              "      <td>1</td>\n",
              "    </tr>\n",
              "    <tr>\n",
              "      <th>18</th>\n",
              "      <td>0</td>\n",
              "      <td>0.000000</td>\n",
              "      <td>53.0</td>\n",
              "      <td>среднее</td>\n",
              "      <td>1</td>\n",
              "      <td>вдовец / вдова</td>\n",
              "      <td>2</td>\n",
              "      <td>F</td>\n",
              "      <td>пенсионер</td>\n",
              "      <td>0</td>\n",
              "      <td>56823.777243</td>\n",
              "      <td>на покупку подержанного автомобиля</td>\n",
              "      <td>0</td>\n",
              "      <td>низкий</td>\n",
              "      <td>авто</td>\n",
              "      <td>7</td>\n",
              "      <td>0</td>\n",
              "    </tr>\n",
              "    <tr>\n",
              "      <th>19</th>\n",
              "      <td>0</td>\n",
              "      <td>10038.818549</td>\n",
              "      <td>48.0</td>\n",
              "      <td>среднее</td>\n",
              "      <td>1</td>\n",
              "      <td>в разводе</td>\n",
              "      <td>3</td>\n",
              "      <td>F</td>\n",
              "      <td>сотрудник</td>\n",
              "      <td>0</td>\n",
              "      <td>242831.107982</td>\n",
              "      <td>на покупку своего автомобиля</td>\n",
              "      <td>0</td>\n",
              "      <td>высокий</td>\n",
              "      <td>авто</td>\n",
              "      <td>7</td>\n",
              "      <td>0</td>\n",
              "    </tr>\n",
              "  </tbody>\n",
              "</table>\n",
              "</div>\n",
              "      <button class=\"colab-df-convert\" onclick=\"convertToInteractive('df-a20e4bd2-5a54-4568-bdd1-16aa32cdc94a')\"\n",
              "              title=\"Convert this dataframe to an interactive table.\"\n",
              "              style=\"display:none;\">\n",
              "        \n",
              "  <svg xmlns=\"http://www.w3.org/2000/svg\" height=\"24px\"viewBox=\"0 0 24 24\"\n",
              "       width=\"24px\">\n",
              "    <path d=\"M0 0h24v24H0V0z\" fill=\"none\"/>\n",
              "    <path d=\"M18.56 5.44l.94 2.06.94-2.06 2.06-.94-2.06-.94-.94-2.06-.94 2.06-2.06.94zm-11 1L8.5 8.5l.94-2.06 2.06-.94-2.06-.94L8.5 2.5l-.94 2.06-2.06.94zm10 10l.94 2.06.94-2.06 2.06-.94-2.06-.94-.94-2.06-.94 2.06-2.06.94z\"/><path d=\"M17.41 7.96l-1.37-1.37c-.4-.4-.92-.59-1.43-.59-.52 0-1.04.2-1.43.59L10.3 9.45l-7.72 7.72c-.78.78-.78 2.05 0 2.83L4 21.41c.39.39.9.59 1.41.59.51 0 1.02-.2 1.41-.59l7.78-7.78 2.81-2.81c.8-.78.8-2.07 0-2.86zM5.41 20L4 18.59l7.72-7.72 1.47 1.35L5.41 20z\"/>\n",
              "  </svg>\n",
              "      </button>\n",
              "      \n",
              "  <style>\n",
              "    .colab-df-container {\n",
              "      display:flex;\n",
              "      flex-wrap:wrap;\n",
              "      gap: 12px;\n",
              "    }\n",
              "\n",
              "    .colab-df-convert {\n",
              "      background-color: #E8F0FE;\n",
              "      border: none;\n",
              "      border-radius: 50%;\n",
              "      cursor: pointer;\n",
              "      display: none;\n",
              "      fill: #1967D2;\n",
              "      height: 32px;\n",
              "      padding: 0 0 0 0;\n",
              "      width: 32px;\n",
              "    }\n",
              "\n",
              "    .colab-df-convert:hover {\n",
              "      background-color: #E2EBFA;\n",
              "      box-shadow: 0px 1px 2px rgba(60, 64, 67, 0.3), 0px 1px 3px 1px rgba(60, 64, 67, 0.15);\n",
              "      fill: #174EA6;\n",
              "    }\n",
              "\n",
              "    [theme=dark] .colab-df-convert {\n",
              "      background-color: #3B4455;\n",
              "      fill: #D2E3FC;\n",
              "    }\n",
              "\n",
              "    [theme=dark] .colab-df-convert:hover {\n",
              "      background-color: #434B5C;\n",
              "      box-shadow: 0px 1px 3px 1px rgba(0, 0, 0, 0.15);\n",
              "      filter: drop-shadow(0px 1px 2px rgba(0, 0, 0, 0.3));\n",
              "      fill: #FFFFFF;\n",
              "    }\n",
              "  </style>\n",
              "\n",
              "      <script>\n",
              "        const buttonEl =\n",
              "          document.querySelector('#df-a20e4bd2-5a54-4568-bdd1-16aa32cdc94a button.colab-df-convert');\n",
              "        buttonEl.style.display =\n",
              "          google.colab.kernel.accessAllowed ? 'block' : 'none';\n",
              "\n",
              "        async function convertToInteractive(key) {\n",
              "          const element = document.querySelector('#df-a20e4bd2-5a54-4568-bdd1-16aa32cdc94a');\n",
              "          const dataTable =\n",
              "            await google.colab.kernel.invokeFunction('convertToInteractive',\n",
              "                                                     [key], {});\n",
              "          if (!dataTable) return;\n",
              "\n",
              "          const docLinkHtml = 'Like what you see? Visit the ' +\n",
              "            '<a target=\"_blank\" href=https://colab.research.google.com/notebooks/data_table.ipynb>data table notebook</a>'\n",
              "            + ' to learn more about interactive tables.';\n",
              "          element.innerHTML = '';\n",
              "          dataTable['output_type'] = 'display_data';\n",
              "          await google.colab.output.renderOutput(dataTable, element);\n",
              "          const docLink = document.createElement('div');\n",
              "          docLink.innerHTML = docLinkHtml;\n",
              "          element.appendChild(docLink);\n",
              "        }\n",
              "      </script>\n",
              "    </div>\n",
              "  </div>\n",
              "  "
            ]
          },
          "metadata": {},
          "execution_count": 43
        }
      ],
      "source": [
        "data.head(20)"
      ]
    },
    {
      "cell_type": "markdown",
      "metadata": {
        "id": "rTrZJ_FD7UUR"
      },
      "source": [
        "**Вывод**"
      ]
    },
    {
      "cell_type": "markdown",
      "metadata": {
        "id": "2aaVK-K67UUR"
      },
      "source": [
        "Все данные распределяются по новым категориям верно."
      ]
    },
    {
      "cell_type": "markdown",
      "metadata": {
        "id": "phuCjf-_7UUS"
      },
      "source": [
        "## 3. Ответы на ключевые вопросы заказчика"
      ]
    },
    {
      "cell_type": "markdown",
      "metadata": {
        "id": "-ITy3C1n7UUS"
      },
      "source": [
        "Покажем зависимость между независимыми переменными наличия детей, семейным положением, уровнем дохода и целями кредита и зависимой переменной возврата кредита в срок. Можно сделать это с помощью сводных таблиц, например для наличия детей, так:"
      ]
    },
    {
      "cell_type": "code",
      "execution_count": 44,
      "metadata": {
        "colab": {
          "base_uri": "https://localhost:8080/",
          "height": 175
        },
        "id": "MNZ42ltJ7UUS",
        "outputId": "83b8dd44-d340-4cc2-d0cf-9c4f5900337d"
      },
      "outputs": [
        {
          "output_type": "execute_result",
          "data": {
            "text/plain": [
              "debt               0     1    All\n",
              "children_bool                    \n",
              "0              12963  1058  14021\n",
              "1               6543   666   7209\n",
              "All            19506  1724  21230"
            ],
            "text/html": [
              "\n",
              "  <div id=\"df-408c3780-be75-48dc-94cd-4ab9d27bd70e\">\n",
              "    <div class=\"colab-df-container\">\n",
              "      <div>\n",
              "<style scoped>\n",
              "    .dataframe tbody tr th:only-of-type {\n",
              "        vertical-align: middle;\n",
              "    }\n",
              "\n",
              "    .dataframe tbody tr th {\n",
              "        vertical-align: top;\n",
              "    }\n",
              "\n",
              "    .dataframe thead th {\n",
              "        text-align: right;\n",
              "    }\n",
              "</style>\n",
              "<table border=\"1\" class=\"dataframe\">\n",
              "  <thead>\n",
              "    <tr style=\"text-align: right;\">\n",
              "      <th>debt</th>\n",
              "      <th>0</th>\n",
              "      <th>1</th>\n",
              "      <th>All</th>\n",
              "    </tr>\n",
              "    <tr>\n",
              "      <th>children_bool</th>\n",
              "      <th></th>\n",
              "      <th></th>\n",
              "      <th></th>\n",
              "    </tr>\n",
              "  </thead>\n",
              "  <tbody>\n",
              "    <tr>\n",
              "      <th>0</th>\n",
              "      <td>12963</td>\n",
              "      <td>1058</td>\n",
              "      <td>14021</td>\n",
              "    </tr>\n",
              "    <tr>\n",
              "      <th>1</th>\n",
              "      <td>6543</td>\n",
              "      <td>666</td>\n",
              "      <td>7209</td>\n",
              "    </tr>\n",
              "    <tr>\n",
              "      <th>All</th>\n",
              "      <td>19506</td>\n",
              "      <td>1724</td>\n",
              "      <td>21230</td>\n",
              "    </tr>\n",
              "  </tbody>\n",
              "</table>\n",
              "</div>\n",
              "      <button class=\"colab-df-convert\" onclick=\"convertToInteractive('df-408c3780-be75-48dc-94cd-4ab9d27bd70e')\"\n",
              "              title=\"Convert this dataframe to an interactive table.\"\n",
              "              style=\"display:none;\">\n",
              "        \n",
              "  <svg xmlns=\"http://www.w3.org/2000/svg\" height=\"24px\"viewBox=\"0 0 24 24\"\n",
              "       width=\"24px\">\n",
              "    <path d=\"M0 0h24v24H0V0z\" fill=\"none\"/>\n",
              "    <path d=\"M18.56 5.44l.94 2.06.94-2.06 2.06-.94-2.06-.94-.94-2.06-.94 2.06-2.06.94zm-11 1L8.5 8.5l.94-2.06 2.06-.94-2.06-.94L8.5 2.5l-.94 2.06-2.06.94zm10 10l.94 2.06.94-2.06 2.06-.94-2.06-.94-.94-2.06-.94 2.06-2.06.94z\"/><path d=\"M17.41 7.96l-1.37-1.37c-.4-.4-.92-.59-1.43-.59-.52 0-1.04.2-1.43.59L10.3 9.45l-7.72 7.72c-.78.78-.78 2.05 0 2.83L4 21.41c.39.39.9.59 1.41.59.51 0 1.02-.2 1.41-.59l7.78-7.78 2.81-2.81c.8-.78.8-2.07 0-2.86zM5.41 20L4 18.59l7.72-7.72 1.47 1.35L5.41 20z\"/>\n",
              "  </svg>\n",
              "      </button>\n",
              "      \n",
              "  <style>\n",
              "    .colab-df-container {\n",
              "      display:flex;\n",
              "      flex-wrap:wrap;\n",
              "      gap: 12px;\n",
              "    }\n",
              "\n",
              "    .colab-df-convert {\n",
              "      background-color: #E8F0FE;\n",
              "      border: none;\n",
              "      border-radius: 50%;\n",
              "      cursor: pointer;\n",
              "      display: none;\n",
              "      fill: #1967D2;\n",
              "      height: 32px;\n",
              "      padding: 0 0 0 0;\n",
              "      width: 32px;\n",
              "    }\n",
              "\n",
              "    .colab-df-convert:hover {\n",
              "      background-color: #E2EBFA;\n",
              "      box-shadow: 0px 1px 2px rgba(60, 64, 67, 0.3), 0px 1px 3px 1px rgba(60, 64, 67, 0.15);\n",
              "      fill: #174EA6;\n",
              "    }\n",
              "\n",
              "    [theme=dark] .colab-df-convert {\n",
              "      background-color: #3B4455;\n",
              "      fill: #D2E3FC;\n",
              "    }\n",
              "\n",
              "    [theme=dark] .colab-df-convert:hover {\n",
              "      background-color: #434B5C;\n",
              "      box-shadow: 0px 1px 3px 1px rgba(0, 0, 0, 0.15);\n",
              "      filter: drop-shadow(0px 1px 2px rgba(0, 0, 0, 0.3));\n",
              "      fill: #FFFFFF;\n",
              "    }\n",
              "  </style>\n",
              "\n",
              "      <script>\n",
              "        const buttonEl =\n",
              "          document.querySelector('#df-408c3780-be75-48dc-94cd-4ab9d27bd70e button.colab-df-convert');\n",
              "        buttonEl.style.display =\n",
              "          google.colab.kernel.accessAllowed ? 'block' : 'none';\n",
              "\n",
              "        async function convertToInteractive(key) {\n",
              "          const element = document.querySelector('#df-408c3780-be75-48dc-94cd-4ab9d27bd70e');\n",
              "          const dataTable =\n",
              "            await google.colab.kernel.invokeFunction('convertToInteractive',\n",
              "                                                     [key], {});\n",
              "          if (!dataTable) return;\n",
              "\n",
              "          const docLinkHtml = 'Like what you see? Visit the ' +\n",
              "            '<a target=\"_blank\" href=https://colab.research.google.com/notebooks/data_table.ipynb>data table notebook</a>'\n",
              "            + ' to learn more about interactive tables.';\n",
              "          element.innerHTML = '';\n",
              "          dataTable['output_type'] = 'display_data';\n",
              "          await google.colab.output.renderOutput(dataTable, element);\n",
              "          const docLink = document.createElement('div');\n",
              "          docLink.innerHTML = docLinkHtml;\n",
              "          element.appendChild(docLink);\n",
              "        }\n",
              "      </script>\n",
              "    </div>\n",
              "  </div>\n",
              "  "
            ]
          },
          "metadata": {},
          "execution_count": 44
        }
      ],
      "source": [
        "data.pivot_table(index=['children_bool'], columns='debt', values='education', aggfunc='count', margins=True)"
      ]
    },
    {
      "cell_type": "markdown",
      "metadata": {
        "id": "XNas_0uV7UUS"
      },
      "source": [
        "Это не очень удобно, т.к. размер групп большой, а количество возвращающих кредит вовремя и имевших задолжености существенно отличается. Нужны процентные распределения. Более рациональным в данном случае будет построение перекрёстной таблицы, где данные будут нормализованы относительно столбцов."
      ]
    },
    {
      "cell_type": "markdown",
      "metadata": {
        "id": "8j0MO5ac7UUU"
      },
      "source": [
        "- Есть ли зависимость между наличием детей и возвратом кредита в срок?"
      ]
    },
    {
      "cell_type": "code",
      "execution_count": 45,
      "metadata": {
        "colab": {
          "base_uri": "https://localhost:8080/",
          "height": 178
        },
        "id": "tIPa-XO_7UUU",
        "outputId": "789dd57e-1a1e-4588-c565-19a71c8cf92e"
      },
      "outputs": [
        {
          "output_type": "stream",
          "name": "stdout",
          "text": [
            "Вероятность бездетного клиента стать должником 8%\n",
            "Вероятность клиента с деньми стать должником 0.092\n"
          ]
        },
        {
          "output_type": "execute_result",
          "data": {
            "text/plain": [
              "debt             0    1\n",
              "children_bool          \n",
              "0              66%  61%\n",
              "1              34%  39%"
            ],
            "text/html": [
              "\n",
              "  <div id=\"df-c8c981f6-c649-463b-8af7-d31baf14168e\">\n",
              "    <div class=\"colab-df-container\">\n",
              "      <div>\n",
              "<style scoped>\n",
              "    .dataframe tbody tr th:only-of-type {\n",
              "        vertical-align: middle;\n",
              "    }\n",
              "\n",
              "    .dataframe tbody tr th {\n",
              "        vertical-align: top;\n",
              "    }\n",
              "\n",
              "    .dataframe thead th {\n",
              "        text-align: right;\n",
              "    }\n",
              "</style>\n",
              "<table border=\"1\" class=\"dataframe\">\n",
              "  <thead>\n",
              "    <tr style=\"text-align: right;\">\n",
              "      <th>debt</th>\n",
              "      <th>0</th>\n",
              "      <th>1</th>\n",
              "    </tr>\n",
              "    <tr>\n",
              "      <th>children_bool</th>\n",
              "      <th></th>\n",
              "      <th></th>\n",
              "    </tr>\n",
              "  </thead>\n",
              "  <tbody>\n",
              "    <tr>\n",
              "      <th>0</th>\n",
              "      <td>66%</td>\n",
              "      <td>61%</td>\n",
              "    </tr>\n",
              "    <tr>\n",
              "      <th>1</th>\n",
              "      <td>34%</td>\n",
              "      <td>39%</td>\n",
              "    </tr>\n",
              "  </tbody>\n",
              "</table>\n",
              "</div>\n",
              "      <button class=\"colab-df-convert\" onclick=\"convertToInteractive('df-c8c981f6-c649-463b-8af7-d31baf14168e')\"\n",
              "              title=\"Convert this dataframe to an interactive table.\"\n",
              "              style=\"display:none;\">\n",
              "        \n",
              "  <svg xmlns=\"http://www.w3.org/2000/svg\" height=\"24px\"viewBox=\"0 0 24 24\"\n",
              "       width=\"24px\">\n",
              "    <path d=\"M0 0h24v24H0V0z\" fill=\"none\"/>\n",
              "    <path d=\"M18.56 5.44l.94 2.06.94-2.06 2.06-.94-2.06-.94-.94-2.06-.94 2.06-2.06.94zm-11 1L8.5 8.5l.94-2.06 2.06-.94-2.06-.94L8.5 2.5l-.94 2.06-2.06.94zm10 10l.94 2.06.94-2.06 2.06-.94-2.06-.94-.94-2.06-.94 2.06-2.06.94z\"/><path d=\"M17.41 7.96l-1.37-1.37c-.4-.4-.92-.59-1.43-.59-.52 0-1.04.2-1.43.59L10.3 9.45l-7.72 7.72c-.78.78-.78 2.05 0 2.83L4 21.41c.39.39.9.59 1.41.59.51 0 1.02-.2 1.41-.59l7.78-7.78 2.81-2.81c.8-.78.8-2.07 0-2.86zM5.41 20L4 18.59l7.72-7.72 1.47 1.35L5.41 20z\"/>\n",
              "  </svg>\n",
              "      </button>\n",
              "      \n",
              "  <style>\n",
              "    .colab-df-container {\n",
              "      display:flex;\n",
              "      flex-wrap:wrap;\n",
              "      gap: 12px;\n",
              "    }\n",
              "\n",
              "    .colab-df-convert {\n",
              "      background-color: #E8F0FE;\n",
              "      border: none;\n",
              "      border-radius: 50%;\n",
              "      cursor: pointer;\n",
              "      display: none;\n",
              "      fill: #1967D2;\n",
              "      height: 32px;\n",
              "      padding: 0 0 0 0;\n",
              "      width: 32px;\n",
              "    }\n",
              "\n",
              "    .colab-df-convert:hover {\n",
              "      background-color: #E2EBFA;\n",
              "      box-shadow: 0px 1px 2px rgba(60, 64, 67, 0.3), 0px 1px 3px 1px rgba(60, 64, 67, 0.15);\n",
              "      fill: #174EA6;\n",
              "    }\n",
              "\n",
              "    [theme=dark] .colab-df-convert {\n",
              "      background-color: #3B4455;\n",
              "      fill: #D2E3FC;\n",
              "    }\n",
              "\n",
              "    [theme=dark] .colab-df-convert:hover {\n",
              "      background-color: #434B5C;\n",
              "      box-shadow: 0px 1px 3px 1px rgba(0, 0, 0, 0.15);\n",
              "      filter: drop-shadow(0px 1px 2px rgba(0, 0, 0, 0.3));\n",
              "      fill: #FFFFFF;\n",
              "    }\n",
              "  </style>\n",
              "\n",
              "      <script>\n",
              "        const buttonEl =\n",
              "          document.querySelector('#df-c8c981f6-c649-463b-8af7-d31baf14168e button.colab-df-convert');\n",
              "        buttonEl.style.display =\n",
              "          google.colab.kernel.accessAllowed ? 'block' : 'none';\n",
              "\n",
              "        async function convertToInteractive(key) {\n",
              "          const element = document.querySelector('#df-c8c981f6-c649-463b-8af7-d31baf14168e');\n",
              "          const dataTable =\n",
              "            await google.colab.kernel.invokeFunction('convertToInteractive',\n",
              "                                                     [key], {});\n",
              "          if (!dataTable) return;\n",
              "\n",
              "          const docLinkHtml = 'Like what you see? Visit the ' +\n",
              "            '<a target=\"_blank\" href=https://colab.research.google.com/notebooks/data_table.ipynb>data table notebook</a>'\n",
              "            + ' to learn more about interactive tables.';\n",
              "          element.innerHTML = '';\n",
              "          dataTable['output_type'] = 'display_data';\n",
              "          await google.colab.output.renderOutput(dataTable, element);\n",
              "          const docLink = document.createElement('div');\n",
              "          docLink.innerHTML = docLinkHtml;\n",
              "          element.appendChild(docLink);\n",
              "        }\n",
              "      </script>\n",
              "    </div>\n",
              "  </div>\n",
              "  "
            ]
          },
          "metadata": {},
          "execution_count": 45
        }
      ],
      "source": [
        "print('Вероятность бездетного клиента стать должником {:.0%}'\n",
        "      .format(data.loc[data['children_bool'] == 0, 'debt'].sum()/data.loc[data['children_bool'] == 0, 'debt'].count()))\n",
        "print('Вероятность клиента с деньми стать должником {:.3f}'\n",
        "      .format(data.loc[data['children_bool'] == 1, 'debt'].sum()/data.loc[data['children_bool'] == 1, 'debt'].count()))\n",
        "pd.crosstab(\n",
        "    data['children_bool'], data['debt'],\n",
        "    values=data['debt'],\n",
        "    aggfunc='count',\n",
        "    normalize='columns').applymap(lambda x: \"{0:.0f}%\".format(100*x))"
      ]
    },
    {
      "cell_type": "markdown",
      "metadata": {
        "id": "63IoTiOF7UUV"
      },
      "source": [
        "**Вывод**"
      ]
    },
    {
      "cell_type": "markdown",
      "metadata": {
        "id": "7sOZ6s327UUV"
      },
      "source": [
        "Небольшая разница в распределении есть. Бездетные заёмщики чаще отдавали кредиты в срок. Возможно, это связано с возрастом или с более высокими доходами бездетных потребителей (если доход вычисляется как среднедушевой доход в семье)."
      ]
    },
    {
      "cell_type": "markdown",
      "metadata": {
        "id": "TLVztJSN7UUV"
      },
      "source": [
        "- Есть ли зависимость между семейным положением и возвратом кредита в срок?"
      ]
    },
    {
      "cell_type": "code",
      "execution_count": 46,
      "metadata": {
        "colab": {
          "base_uri": "https://localhost:8080/",
          "height": 178
        },
        "id": "ghRbZ7Pm7UUV",
        "outputId": "24f4741f-b8e4-4ecd-9c90-6b025804051b"
      },
      "outputs": [
        {
          "output_type": "stream",
          "name": "stdout",
          "text": [
            "Вероятность одинокого клиента стать должником 0.085\n",
            "Вероятность семейного клиента стать должником 0.080\n"
          ]
        },
        {
          "output_type": "execute_result",
          "data": {
            "text/plain": [
              "debt           0    1\n",
              "family_bool          \n",
              "0            23%  24%\n",
              "1            77%  76%"
            ],
            "text/html": [
              "\n",
              "  <div id=\"df-e8e927db-9767-455e-9869-49d5dcbd2b1d\">\n",
              "    <div class=\"colab-df-container\">\n",
              "      <div>\n",
              "<style scoped>\n",
              "    .dataframe tbody tr th:only-of-type {\n",
              "        vertical-align: middle;\n",
              "    }\n",
              "\n",
              "    .dataframe tbody tr th {\n",
              "        vertical-align: top;\n",
              "    }\n",
              "\n",
              "    .dataframe thead th {\n",
              "        text-align: right;\n",
              "    }\n",
              "</style>\n",
              "<table border=\"1\" class=\"dataframe\">\n",
              "  <thead>\n",
              "    <tr style=\"text-align: right;\">\n",
              "      <th>debt</th>\n",
              "      <th>0</th>\n",
              "      <th>1</th>\n",
              "    </tr>\n",
              "    <tr>\n",
              "      <th>family_bool</th>\n",
              "      <th></th>\n",
              "      <th></th>\n",
              "    </tr>\n",
              "  </thead>\n",
              "  <tbody>\n",
              "    <tr>\n",
              "      <th>0</th>\n",
              "      <td>23%</td>\n",
              "      <td>24%</td>\n",
              "    </tr>\n",
              "    <tr>\n",
              "      <th>1</th>\n",
              "      <td>77%</td>\n",
              "      <td>76%</td>\n",
              "    </tr>\n",
              "  </tbody>\n",
              "</table>\n",
              "</div>\n",
              "      <button class=\"colab-df-convert\" onclick=\"convertToInteractive('df-e8e927db-9767-455e-9869-49d5dcbd2b1d')\"\n",
              "              title=\"Convert this dataframe to an interactive table.\"\n",
              "              style=\"display:none;\">\n",
              "        \n",
              "  <svg xmlns=\"http://www.w3.org/2000/svg\" height=\"24px\"viewBox=\"0 0 24 24\"\n",
              "       width=\"24px\">\n",
              "    <path d=\"M0 0h24v24H0V0z\" fill=\"none\"/>\n",
              "    <path d=\"M18.56 5.44l.94 2.06.94-2.06 2.06-.94-2.06-.94-.94-2.06-.94 2.06-2.06.94zm-11 1L8.5 8.5l.94-2.06 2.06-.94-2.06-.94L8.5 2.5l-.94 2.06-2.06.94zm10 10l.94 2.06.94-2.06 2.06-.94-2.06-.94-.94-2.06-.94 2.06-2.06.94z\"/><path d=\"M17.41 7.96l-1.37-1.37c-.4-.4-.92-.59-1.43-.59-.52 0-1.04.2-1.43.59L10.3 9.45l-7.72 7.72c-.78.78-.78 2.05 0 2.83L4 21.41c.39.39.9.59 1.41.59.51 0 1.02-.2 1.41-.59l7.78-7.78 2.81-2.81c.8-.78.8-2.07 0-2.86zM5.41 20L4 18.59l7.72-7.72 1.47 1.35L5.41 20z\"/>\n",
              "  </svg>\n",
              "      </button>\n",
              "      \n",
              "  <style>\n",
              "    .colab-df-container {\n",
              "      display:flex;\n",
              "      flex-wrap:wrap;\n",
              "      gap: 12px;\n",
              "    }\n",
              "\n",
              "    .colab-df-convert {\n",
              "      background-color: #E8F0FE;\n",
              "      border: none;\n",
              "      border-radius: 50%;\n",
              "      cursor: pointer;\n",
              "      display: none;\n",
              "      fill: #1967D2;\n",
              "      height: 32px;\n",
              "      padding: 0 0 0 0;\n",
              "      width: 32px;\n",
              "    }\n",
              "\n",
              "    .colab-df-convert:hover {\n",
              "      background-color: #E2EBFA;\n",
              "      box-shadow: 0px 1px 2px rgba(60, 64, 67, 0.3), 0px 1px 3px 1px rgba(60, 64, 67, 0.15);\n",
              "      fill: #174EA6;\n",
              "    }\n",
              "\n",
              "    [theme=dark] .colab-df-convert {\n",
              "      background-color: #3B4455;\n",
              "      fill: #D2E3FC;\n",
              "    }\n",
              "\n",
              "    [theme=dark] .colab-df-convert:hover {\n",
              "      background-color: #434B5C;\n",
              "      box-shadow: 0px 1px 3px 1px rgba(0, 0, 0, 0.15);\n",
              "      filter: drop-shadow(0px 1px 2px rgba(0, 0, 0, 0.3));\n",
              "      fill: #FFFFFF;\n",
              "    }\n",
              "  </style>\n",
              "\n",
              "      <script>\n",
              "        const buttonEl =\n",
              "          document.querySelector('#df-e8e927db-9767-455e-9869-49d5dcbd2b1d button.colab-df-convert');\n",
              "        buttonEl.style.display =\n",
              "          google.colab.kernel.accessAllowed ? 'block' : 'none';\n",
              "\n",
              "        async function convertToInteractive(key) {\n",
              "          const element = document.querySelector('#df-e8e927db-9767-455e-9869-49d5dcbd2b1d');\n",
              "          const dataTable =\n",
              "            await google.colab.kernel.invokeFunction('convertToInteractive',\n",
              "                                                     [key], {});\n",
              "          if (!dataTable) return;\n",
              "\n",
              "          const docLinkHtml = 'Like what you see? Visit the ' +\n",
              "            '<a target=\"_blank\" href=https://colab.research.google.com/notebooks/data_table.ipynb>data table notebook</a>'\n",
              "            + ' to learn more about interactive tables.';\n",
              "          element.innerHTML = '';\n",
              "          dataTable['output_type'] = 'display_data';\n",
              "          await google.colab.output.renderOutput(dataTable, element);\n",
              "          const docLink = document.createElement('div');\n",
              "          docLink.innerHTML = docLinkHtml;\n",
              "          element.appendChild(docLink);\n",
              "        }\n",
              "      </script>\n",
              "    </div>\n",
              "  </div>\n",
              "  "
            ]
          },
          "metadata": {},
          "execution_count": 46
        }
      ],
      "source": [
        "print('Вероятность одинокого клиента стать должником {:.3f}'\n",
        "      .format(data.loc[data['family_bool'] == 0, 'debt']\n",
        "              .sum()/data.loc[data['family_bool'] == 0, 'debt']\n",
        "              .count()))\n",
        "print('Вероятность семейного клиента стать должником {:.3f}'\n",
        "      .format(data.loc[data['family_bool'] == 1, 'debt']\n",
        "              .sum()/data.loc[data['family_bool'] == 1, 'debt']\n",
        "              .count()))\n",
        "\n",
        "pd.crosstab(\n",
        "    data['family_bool'], data['debt'],\n",
        "    values=data['debt'],\n",
        "    aggfunc='count',\n",
        "    normalize='columns').applymap(lambda x: \"{0:.0f}%\".format(100*x))"
      ]
    },
    {
      "cell_type": "markdown",
      "metadata": {
        "id": "bDLcysse7UUW"
      },
      "source": [
        "**Вывод**"
      ]
    },
    {
      "cell_type": "markdown",
      "metadata": {
        "id": "g-YLV71n7UUW"
      },
      "source": [
        "Здесь разница ещё менее существенна. И семейные, и одинокие одинаково часто отдают кредиты в срок или попадают в должники."
      ]
    },
    {
      "cell_type": "markdown",
      "metadata": {
        "id": "hRLZJYFP7UUW"
      },
      "source": [
        "- Есть ли зависимость между уровнем дохода и возвратом кредита в срок?"
      ]
    },
    {
      "cell_type": "code",
      "execution_count": 47,
      "metadata": {
        "colab": {
          "base_uri": "https://localhost:8080/",
          "height": 276
        },
        "id": "j2BnXTrV7UUW",
        "outputId": "dce052c2-7156-4d05-a4d7-24705d18555e"
      },
      "outputs": [
        {
          "output_type": "stream",
          "name": "stdout",
          "text": [
            "Вероятность клиента с низким доходом стать должником 0.080\n",
            "Вероятность клиента со средне низким доходом стать должником 0.088\n",
            "Вероятность клиента со средне высоким доходом стать должником 0.085\n",
            "Вероятность клиента с высоким доходом стать должником 0.072\n"
          ]
        },
        {
          "output_type": "execute_result",
          "data": {
            "text/plain": [
              "debt              0    1\n",
              "income_group            \n",
              "высокий         25%  22%\n",
              "низкий          25%  25%\n",
              "средне высокий  24%  26%\n",
              "средне низкий   25%  28%"
            ],
            "text/html": [
              "\n",
              "  <div id=\"df-1979f634-5cbe-41ff-9192-f4b9b0a0d846\">\n",
              "    <div class=\"colab-df-container\">\n",
              "      <div>\n",
              "<style scoped>\n",
              "    .dataframe tbody tr th:only-of-type {\n",
              "        vertical-align: middle;\n",
              "    }\n",
              "\n",
              "    .dataframe tbody tr th {\n",
              "        vertical-align: top;\n",
              "    }\n",
              "\n",
              "    .dataframe thead th {\n",
              "        text-align: right;\n",
              "    }\n",
              "</style>\n",
              "<table border=\"1\" class=\"dataframe\">\n",
              "  <thead>\n",
              "    <tr style=\"text-align: right;\">\n",
              "      <th>debt</th>\n",
              "      <th>0</th>\n",
              "      <th>1</th>\n",
              "    </tr>\n",
              "    <tr>\n",
              "      <th>income_group</th>\n",
              "      <th></th>\n",
              "      <th></th>\n",
              "    </tr>\n",
              "  </thead>\n",
              "  <tbody>\n",
              "    <tr>\n",
              "      <th>высокий</th>\n",
              "      <td>25%</td>\n",
              "      <td>22%</td>\n",
              "    </tr>\n",
              "    <tr>\n",
              "      <th>низкий</th>\n",
              "      <td>25%</td>\n",
              "      <td>25%</td>\n",
              "    </tr>\n",
              "    <tr>\n",
              "      <th>средне высокий</th>\n",
              "      <td>24%</td>\n",
              "      <td>26%</td>\n",
              "    </tr>\n",
              "    <tr>\n",
              "      <th>средне низкий</th>\n",
              "      <td>25%</td>\n",
              "      <td>28%</td>\n",
              "    </tr>\n",
              "  </tbody>\n",
              "</table>\n",
              "</div>\n",
              "      <button class=\"colab-df-convert\" onclick=\"convertToInteractive('df-1979f634-5cbe-41ff-9192-f4b9b0a0d846')\"\n",
              "              title=\"Convert this dataframe to an interactive table.\"\n",
              "              style=\"display:none;\">\n",
              "        \n",
              "  <svg xmlns=\"http://www.w3.org/2000/svg\" height=\"24px\"viewBox=\"0 0 24 24\"\n",
              "       width=\"24px\">\n",
              "    <path d=\"M0 0h24v24H0V0z\" fill=\"none\"/>\n",
              "    <path d=\"M18.56 5.44l.94 2.06.94-2.06 2.06-.94-2.06-.94-.94-2.06-.94 2.06-2.06.94zm-11 1L8.5 8.5l.94-2.06 2.06-.94-2.06-.94L8.5 2.5l-.94 2.06-2.06.94zm10 10l.94 2.06.94-2.06 2.06-.94-2.06-.94-.94-2.06-.94 2.06-2.06.94z\"/><path d=\"M17.41 7.96l-1.37-1.37c-.4-.4-.92-.59-1.43-.59-.52 0-1.04.2-1.43.59L10.3 9.45l-7.72 7.72c-.78.78-.78 2.05 0 2.83L4 21.41c.39.39.9.59 1.41.59.51 0 1.02-.2 1.41-.59l7.78-7.78 2.81-2.81c.8-.78.8-2.07 0-2.86zM5.41 20L4 18.59l7.72-7.72 1.47 1.35L5.41 20z\"/>\n",
              "  </svg>\n",
              "      </button>\n",
              "      \n",
              "  <style>\n",
              "    .colab-df-container {\n",
              "      display:flex;\n",
              "      flex-wrap:wrap;\n",
              "      gap: 12px;\n",
              "    }\n",
              "\n",
              "    .colab-df-convert {\n",
              "      background-color: #E8F0FE;\n",
              "      border: none;\n",
              "      border-radius: 50%;\n",
              "      cursor: pointer;\n",
              "      display: none;\n",
              "      fill: #1967D2;\n",
              "      height: 32px;\n",
              "      padding: 0 0 0 0;\n",
              "      width: 32px;\n",
              "    }\n",
              "\n",
              "    .colab-df-convert:hover {\n",
              "      background-color: #E2EBFA;\n",
              "      box-shadow: 0px 1px 2px rgba(60, 64, 67, 0.3), 0px 1px 3px 1px rgba(60, 64, 67, 0.15);\n",
              "      fill: #174EA6;\n",
              "    }\n",
              "\n",
              "    [theme=dark] .colab-df-convert {\n",
              "      background-color: #3B4455;\n",
              "      fill: #D2E3FC;\n",
              "    }\n",
              "\n",
              "    [theme=dark] .colab-df-convert:hover {\n",
              "      background-color: #434B5C;\n",
              "      box-shadow: 0px 1px 3px 1px rgba(0, 0, 0, 0.15);\n",
              "      filter: drop-shadow(0px 1px 2px rgba(0, 0, 0, 0.3));\n",
              "      fill: #FFFFFF;\n",
              "    }\n",
              "  </style>\n",
              "\n",
              "      <script>\n",
              "        const buttonEl =\n",
              "          document.querySelector('#df-1979f634-5cbe-41ff-9192-f4b9b0a0d846 button.colab-df-convert');\n",
              "        buttonEl.style.display =\n",
              "          google.colab.kernel.accessAllowed ? 'block' : 'none';\n",
              "\n",
              "        async function convertToInteractive(key) {\n",
              "          const element = document.querySelector('#df-1979f634-5cbe-41ff-9192-f4b9b0a0d846');\n",
              "          const dataTable =\n",
              "            await google.colab.kernel.invokeFunction('convertToInteractive',\n",
              "                                                     [key], {});\n",
              "          if (!dataTable) return;\n",
              "\n",
              "          const docLinkHtml = 'Like what you see? Visit the ' +\n",
              "            '<a target=\"_blank\" href=https://colab.research.google.com/notebooks/data_table.ipynb>data table notebook</a>'\n",
              "            + ' to learn more about interactive tables.';\n",
              "          element.innerHTML = '';\n",
              "          dataTable['output_type'] = 'display_data';\n",
              "          await google.colab.output.renderOutput(dataTable, element);\n",
              "          const docLink = document.createElement('div');\n",
              "          docLink.innerHTML = docLinkHtml;\n",
              "          element.appendChild(docLink);\n",
              "        }\n",
              "      </script>\n",
              "    </div>\n",
              "  </div>\n",
              "  "
            ]
          },
          "metadata": {},
          "execution_count": 47
        }
      ],
      "source": [
        "print('Вероятность клиента с низким доходом стать должником {:.3f}'\n",
        "      .format(data.loc[data['income_group'] == 'низкий', 'debt']\n",
        "              .sum()/data.loc[data['income_group'] == 'низкий', 'debt']\n",
        "              .count()))\n",
        "print('Вероятность клиента со средне низким доходом стать должником {:.3f}'\n",
        "      .format(data.loc[data['income_group'] == 'средне низкий', 'debt']\n",
        "              .sum()/data.loc[data['income_group'] == 'средне низкий', 'debt']\n",
        "              .count()))\n",
        "print('Вероятность клиента со средне высоким доходом стать должником {:.3f}'\n",
        "      .format(data.loc[data['income_group'] == 'средне высокий', 'debt']\n",
        "              .sum()/data.loc[data['income_group'] == 'средне высокий', 'debt']\n",
        "              .count()))\n",
        "print('Вероятность клиента с высоким доходом стать должником {:.3f}'\n",
        "      .format(data.loc[data['income_group'] == 'высокий', 'debt']\n",
        "              .sum()/data.loc[data['income_group'] == 'высокий', 'debt']\n",
        "              .count()))\n",
        "\n",
        "pd.crosstab(\n",
        "    data['income_group'], data['debt'],\n",
        "    values=data['debt'],\n",
        "    aggfunc='count',\n",
        "    normalize='columns').applymap(lambda x: \"{0:.0f}%\".format(100*x))"
      ]
    },
    {
      "cell_type": "markdown",
      "metadata": {
        "id": "dWVPmFdp7UUW"
      },
      "source": [
        "**Вывод**"
      ]
    },
    {
      "cell_type": "markdown",
      "metadata": {
        "id": "4v4SLvZ57UUX"
      },
      "source": [
        "Разница в группах менее драматична, чем предполагалось. Чем выше доход, тем более ответственно потребители ведут себя с кредитами, т.к. вероятно, это не является для них существенной проблемой. Однако связь не является однонаправленной. Среди группы с низким доходом одинаковая доля тех, кто отдаёт кредиты в срок и кто этого не делает. Наибольшая разница - в группе средне низкого дохода. Возможно, потребители с низким доходом более ответственно подходят к планированию расходов и берут кредиты только в крайнем случае."
      ]
    },
    {
      "cell_type": "markdown",
      "metadata": {
        "id": "_D3Nqhtu7UUX"
      },
      "source": [
        "- Как разные цели кредита влияют на его возврат в срок?"
      ]
    },
    {
      "cell_type": "code",
      "execution_count": 48,
      "metadata": {
        "colab": {
          "base_uri": "https://localhost:8080/",
          "height": 373
        },
        "id": "6EhCsG8A7UUX",
        "outputId": "6af8c4a3-58b3-4448-e888-ec80fcabe307"
      },
      "outputs": [
        {
          "output_type": "stream",
          "name": "stdout",
          "text": [
            "Вероятность покупателя авто стать должником 0.093\n",
            "Вероятность покупателя коммерческой недвижимости стать должником 0.076\n",
            "Вероятность получающего образование стать должником 0.093\n",
            "Вероятность покупателя недвижимости стать должником 0.071\n",
            "Вероятность планирующего свадьбу стать должником 0.079\n",
            "Вероятность строящего дом стать должником 0.077\n"
          ]
        },
        {
          "output_type": "execute_result",
          "data": {
            "text/plain": [
              "debt                          0    1\n",
              "purpose_id                          \n",
              "авто                        20%  23%\n",
              "коммерческая недвижимость    6%   6%\n",
              "образование                 18%  21%\n",
              "покупка жилой недвижимости  36%  31%\n",
              "свадьба                     11%  10%\n",
              "строительство                9%   8%"
            ],
            "text/html": [
              "\n",
              "  <div id=\"df-53f25aa3-38ad-48a4-bcfc-81f7464177fe\">\n",
              "    <div class=\"colab-df-container\">\n",
              "      <div>\n",
              "<style scoped>\n",
              "    .dataframe tbody tr th:only-of-type {\n",
              "        vertical-align: middle;\n",
              "    }\n",
              "\n",
              "    .dataframe tbody tr th {\n",
              "        vertical-align: top;\n",
              "    }\n",
              "\n",
              "    .dataframe thead th {\n",
              "        text-align: right;\n",
              "    }\n",
              "</style>\n",
              "<table border=\"1\" class=\"dataframe\">\n",
              "  <thead>\n",
              "    <tr style=\"text-align: right;\">\n",
              "      <th>debt</th>\n",
              "      <th>0</th>\n",
              "      <th>1</th>\n",
              "    </tr>\n",
              "    <tr>\n",
              "      <th>purpose_id</th>\n",
              "      <th></th>\n",
              "      <th></th>\n",
              "    </tr>\n",
              "  </thead>\n",
              "  <tbody>\n",
              "    <tr>\n",
              "      <th>авто</th>\n",
              "      <td>20%</td>\n",
              "      <td>23%</td>\n",
              "    </tr>\n",
              "    <tr>\n",
              "      <th>коммерческая недвижимость</th>\n",
              "      <td>6%</td>\n",
              "      <td>6%</td>\n",
              "    </tr>\n",
              "    <tr>\n",
              "      <th>образование</th>\n",
              "      <td>18%</td>\n",
              "      <td>21%</td>\n",
              "    </tr>\n",
              "    <tr>\n",
              "      <th>покупка жилой недвижимости</th>\n",
              "      <td>36%</td>\n",
              "      <td>31%</td>\n",
              "    </tr>\n",
              "    <tr>\n",
              "      <th>свадьба</th>\n",
              "      <td>11%</td>\n",
              "      <td>10%</td>\n",
              "    </tr>\n",
              "    <tr>\n",
              "      <th>строительство</th>\n",
              "      <td>9%</td>\n",
              "      <td>8%</td>\n",
              "    </tr>\n",
              "  </tbody>\n",
              "</table>\n",
              "</div>\n",
              "      <button class=\"colab-df-convert\" onclick=\"convertToInteractive('df-53f25aa3-38ad-48a4-bcfc-81f7464177fe')\"\n",
              "              title=\"Convert this dataframe to an interactive table.\"\n",
              "              style=\"display:none;\">\n",
              "        \n",
              "  <svg xmlns=\"http://www.w3.org/2000/svg\" height=\"24px\"viewBox=\"0 0 24 24\"\n",
              "       width=\"24px\">\n",
              "    <path d=\"M0 0h24v24H0V0z\" fill=\"none\"/>\n",
              "    <path d=\"M18.56 5.44l.94 2.06.94-2.06 2.06-.94-2.06-.94-.94-2.06-.94 2.06-2.06.94zm-11 1L8.5 8.5l.94-2.06 2.06-.94-2.06-.94L8.5 2.5l-.94 2.06-2.06.94zm10 10l.94 2.06.94-2.06 2.06-.94-2.06-.94-.94-2.06-.94 2.06-2.06.94z\"/><path d=\"M17.41 7.96l-1.37-1.37c-.4-.4-.92-.59-1.43-.59-.52 0-1.04.2-1.43.59L10.3 9.45l-7.72 7.72c-.78.78-.78 2.05 0 2.83L4 21.41c.39.39.9.59 1.41.59.51 0 1.02-.2 1.41-.59l7.78-7.78 2.81-2.81c.8-.78.8-2.07 0-2.86zM5.41 20L4 18.59l7.72-7.72 1.47 1.35L5.41 20z\"/>\n",
              "  </svg>\n",
              "      </button>\n",
              "      \n",
              "  <style>\n",
              "    .colab-df-container {\n",
              "      display:flex;\n",
              "      flex-wrap:wrap;\n",
              "      gap: 12px;\n",
              "    }\n",
              "\n",
              "    .colab-df-convert {\n",
              "      background-color: #E8F0FE;\n",
              "      border: none;\n",
              "      border-radius: 50%;\n",
              "      cursor: pointer;\n",
              "      display: none;\n",
              "      fill: #1967D2;\n",
              "      height: 32px;\n",
              "      padding: 0 0 0 0;\n",
              "      width: 32px;\n",
              "    }\n",
              "\n",
              "    .colab-df-convert:hover {\n",
              "      background-color: #E2EBFA;\n",
              "      box-shadow: 0px 1px 2px rgba(60, 64, 67, 0.3), 0px 1px 3px 1px rgba(60, 64, 67, 0.15);\n",
              "      fill: #174EA6;\n",
              "    }\n",
              "\n",
              "    [theme=dark] .colab-df-convert {\n",
              "      background-color: #3B4455;\n",
              "      fill: #D2E3FC;\n",
              "    }\n",
              "\n",
              "    [theme=dark] .colab-df-convert:hover {\n",
              "      background-color: #434B5C;\n",
              "      box-shadow: 0px 1px 3px 1px rgba(0, 0, 0, 0.15);\n",
              "      filter: drop-shadow(0px 1px 2px rgba(0, 0, 0, 0.3));\n",
              "      fill: #FFFFFF;\n",
              "    }\n",
              "  </style>\n",
              "\n",
              "      <script>\n",
              "        const buttonEl =\n",
              "          document.querySelector('#df-53f25aa3-38ad-48a4-bcfc-81f7464177fe button.colab-df-convert');\n",
              "        buttonEl.style.display =\n",
              "          google.colab.kernel.accessAllowed ? 'block' : 'none';\n",
              "\n",
              "        async function convertToInteractive(key) {\n",
              "          const element = document.querySelector('#df-53f25aa3-38ad-48a4-bcfc-81f7464177fe');\n",
              "          const dataTable =\n",
              "            await google.colab.kernel.invokeFunction('convertToInteractive',\n",
              "                                                     [key], {});\n",
              "          if (!dataTable) return;\n",
              "\n",
              "          const docLinkHtml = 'Like what you see? Visit the ' +\n",
              "            '<a target=\"_blank\" href=https://colab.research.google.com/notebooks/data_table.ipynb>data table notebook</a>'\n",
              "            + ' to learn more about interactive tables.';\n",
              "          element.innerHTML = '';\n",
              "          dataTable['output_type'] = 'display_data';\n",
              "          await google.colab.output.renderOutput(dataTable, element);\n",
              "          const docLink = document.createElement('div');\n",
              "          docLink.innerHTML = docLinkHtml;\n",
              "          element.appendChild(docLink);\n",
              "        }\n",
              "      </script>\n",
              "    </div>\n",
              "  </div>\n",
              "  "
            ]
          },
          "metadata": {},
          "execution_count": 48
        }
      ],
      "source": [
        "print('Вероятность покупателя авто стать должником {:.3f}'\n",
        "      .format(data.loc[data['purpose_id'] == 'авто', 'debt']\n",
        "              .sum()/data.loc[data['purpose_id'] == 'авто', 'debt']\n",
        "              .count()))\n",
        "print('Вероятность покупателя коммерческой недвижимости стать должником {:.3f}'\n",
        "      .format(data.loc[data['purpose_id'] == 'коммерческая недвижимость', 'debt']\n",
        "              .sum()/data.loc[data['purpose_id'] == 'коммерческая недвижимость', 'debt']\n",
        "              .count()))\n",
        "print('Вероятность получающего образование стать должником {:.3f}'\n",
        "      .format(data.loc[data['purpose_id'] == 'образование', 'debt']\n",
        "              .sum()/data.loc[data['purpose_id'] == 'образование', 'debt']\n",
        "              .count()))\n",
        "print('Вероятность покупателя недвижимости стать должником {:.3f}'\n",
        "      .format(data.loc[data['purpose_id'] == 'покупка жилой недвижимости', 'debt']\n",
        "              .sum()/data.loc[data['purpose_id'] == 'покупка жилой недвижимости', 'debt']\n",
        "              .count()))\n",
        "print('Вероятность планирующего свадьбу стать должником {:.3f}'\n",
        "      .format(data.loc[data['purpose_id'] == 'свадьба', 'debt']\n",
        "              .sum()/data.loc[data['purpose_id'] == 'свадьба', 'debt']\n",
        "              .count()))\n",
        "print('Вероятность строящего дом стать должником {:.3f}'\n",
        "      .format(data.loc[data['purpose_id'] == 'строительство', 'debt']\n",
        "              .sum()/data.loc[data['purpose_id'] == 'строительство', 'debt']\n",
        "              .count()))\n",
        "\n",
        "pd.crosstab(\n",
        "    data['purpose_id'], data['debt'],\n",
        "    values=data['debt'],\n",
        "    aggfunc='count',\n",
        "    normalize='columns').applymap(lambda x: \"{0:.0f}%\".format(100*x))"
      ]
    },
    {
      "cell_type": "markdown",
      "metadata": {
        "id": "wu1rlIsW7UUY"
      },
      "source": [
        "**Вывод**"
      ]
    },
    {
      "cell_type": "markdown",
      "metadata": {
        "id": "wIEzUsPc7UUY"
      },
      "source": [
        "А вот разница в целях наиболее существенна с учётом достаточно большого количества анализируемых групп по целям. Здесь более благонадёжными заёмщиками являются те, кому необходимо жильё. Причём покупка делает больший шанс на возврат его в срок, чем строительство. Образование же и автокредит - не очень удачные цели кредита с точки зрения возврата банком своих инвестиций. Такие кредиты чаще подвергаются просрочкам, возможно, ввиду самого характера приобретаемого блага."
      ]
    },
    {
      "cell_type": "markdown",
      "metadata": {
        "id": "L9r7IjW-7UUZ"
      },
      "source": [
        "## 4. Общий вывод"
      ]
    },
    {
      "cell_type": "markdown",
      "metadata": {
        "id": "rFUOX8Gm7UUZ"
      },
      "source": [
        "Мы подготовили данные для дальнейшего анализа и сделали предварительную проверку гипотез для дальнейшего исследования.\n",
        "- Зависимость между наличием детей и возвратом кредита в срок?\" обнаружена, необходимо дальнейшее исследование;\n",
        "- Зависимость между семейным положением и возвратом кредита в срок?\" не обнаружена;\n",
        "- Зависимость между уровнем дохода и возвратом кредита в срок?\" обнаружена;\n",
        "- Зависимость между целью кредита и возвратом кредита в срок?\" обнаружена.\n",
        "\n",
        "При передаче данных для последующей обработки необходимо предоставить комментарий об удалённых случаях:\n",
        "- Из массива удалено 123 случая в связи с невосстанавливаемыми ошибками переменной количества детей;\n",
        "- Из массива удален 1 случай в связи с невосстанавливаемой ошибкой переменной пола;\n",
        "- Из массива удалено 72 дубликата после вышеописанных действий;\n",
        "\n",
        "Преобразования переменных:\n",
        "- Значения переменной образования приведены к единообразию;\n",
        "- Значения переменной трудового стажа были отрицательными, заменены на положительные того же значения. Трудовой стаж пенсионеров и безработных варьировался в пределах от 330 тыс. до 300 тыс. единиц. Ввиду невозможности установления значения данных цифр они заменены на 0. В дальнейшем переменную трудового стажа необходимо использовать, исключая данные группы;\n",
        "- Значения возраста, равные \"0\", признаны ошибочными и заменены на медианные возрасты групп потребителей по образованию;\n",
        "- Пропуски в переменной дохода заполнены на основании медианных доходов потребителей по типам занятости;\n",
        "- В базу добавлены новые переменные:\n",
        "    * children_bool принимает значение \"1\" при наличии детей\n",
        "    * income_group - группа дохода, выделенная на основании квартилей\n",
        "    * purpose_id - категоризированные цели кредита\n",
        "    * family_bool принимает значение \"1\" при наличии семьи"
      ]
    }
  ],
  "metadata": {
    "ExecuteTimeLog": [
      {
        "duration": 1374,
        "start_time": "2021-09-18T06:11:00.127Z"
      },
      {
        "duration": 54,
        "start_time": "2021-09-18T06:11:08.887Z"
      },
      {
        "duration": 650,
        "start_time": "2021-09-18T06:11:39.306Z"
      },
      {
        "duration": 67,
        "start_time": "2021-09-18T06:25:08.552Z"
      },
      {
        "duration": 62,
        "start_time": "2021-09-18T06:25:16.063Z"
      },
      {
        "duration": 60,
        "start_time": "2021-09-18T06:25:46.472Z"
      },
      {
        "duration": 62,
        "start_time": "2021-09-18T06:26:11.495Z"
      },
      {
        "duration": 342,
        "start_time": "2021-09-18T07:28:32.513Z"
      },
      {
        "duration": 81,
        "start_time": "2021-09-18T07:33:01.303Z"
      },
      {
        "duration": 11,
        "start_time": "2021-09-18T07:35:41.743Z"
      },
      {
        "duration": 273,
        "start_time": "2021-09-18T07:35:52.486Z"
      },
      {
        "duration": 257,
        "start_time": "2021-09-18T07:36:01.619Z"
      },
      {
        "duration": 6,
        "start_time": "2021-09-18T07:36:12.731Z"
      },
      {
        "duration": 19,
        "start_time": "2021-09-18T07:36:31.898Z"
      },
      {
        "duration": 18,
        "start_time": "2021-09-18T07:36:42.907Z"
      },
      {
        "duration": 18,
        "start_time": "2021-09-18T07:36:54.577Z"
      },
      {
        "duration": 20,
        "start_time": "2021-09-18T07:37:36.898Z"
      },
      {
        "duration": 18,
        "start_time": "2021-09-18T07:37:50.420Z"
      },
      {
        "duration": 270,
        "start_time": "2021-09-18T07:47:30.900Z"
      },
      {
        "duration": 972,
        "start_time": "2021-09-18T07:47:46.582Z"
      },
      {
        "duration": 7,
        "start_time": "2021-09-18T07:49:53.115Z"
      },
      {
        "duration": 9,
        "start_time": "2021-09-18T07:51:34.667Z"
      },
      {
        "duration": 10,
        "start_time": "2021-09-18T07:51:56.883Z"
      },
      {
        "duration": 29,
        "start_time": "2021-09-18T07:52:05.571Z"
      },
      {
        "duration": 86,
        "start_time": "2021-09-18T07:53:06.740Z"
      },
      {
        "duration": 8,
        "start_time": "2021-09-18T07:53:18.140Z"
      },
      {
        "duration": 8,
        "start_time": "2021-09-18T07:54:26.149Z"
      },
      {
        "duration": 7,
        "start_time": "2021-09-18T07:54:37.532Z"
      },
      {
        "duration": 6,
        "start_time": "2021-09-18T08:36:21.712Z"
      },
      {
        "duration": 277,
        "start_time": "2021-09-18T08:37:16.828Z"
      },
      {
        "duration": 310,
        "start_time": "2021-09-18T08:37:37.712Z"
      },
      {
        "duration": 1889,
        "start_time": "2021-09-18T08:39:10.696Z"
      },
      {
        "duration": 251,
        "start_time": "2021-09-18T08:39:48.929Z"
      },
      {
        "duration": 246,
        "start_time": "2021-09-18T08:40:03.448Z"
      },
      {
        "duration": 83,
        "start_time": "2021-09-18T08:40:27.864Z"
      },
      {
        "duration": 13,
        "start_time": "2021-09-18T08:42:43.401Z"
      },
      {
        "duration": 332,
        "start_time": "2021-09-18T08:44:05.161Z"
      },
      {
        "duration": 1707,
        "start_time": "2021-09-18T08:49:56.641Z"
      },
      {
        "duration": 7,
        "start_time": "2021-09-18T08:50:36.289Z"
      },
      {
        "duration": 8,
        "start_time": "2021-09-18T08:51:04.275Z"
      },
      {
        "duration": 7,
        "start_time": "2021-09-18T08:51:15.202Z"
      },
      {
        "duration": 260,
        "start_time": "2021-09-18T08:51:28.625Z"
      },
      {
        "duration": 7,
        "start_time": "2021-09-18T08:51:38.633Z"
      },
      {
        "duration": 13,
        "start_time": "2021-09-18T08:52:03.954Z"
      },
      {
        "duration": 10,
        "start_time": "2021-09-18T08:52:22.249Z"
      },
      {
        "duration": 306,
        "start_time": "2021-09-18T08:52:55.561Z"
      },
      {
        "duration": 8,
        "start_time": "2021-09-18T08:53:02.545Z"
      },
      {
        "duration": 8,
        "start_time": "2021-09-18T08:54:25.362Z"
      },
      {
        "duration": 281,
        "start_time": "2021-09-18T08:54:49.297Z"
      },
      {
        "duration": 263,
        "start_time": "2021-09-18T08:55:02.954Z"
      },
      {
        "duration": 8,
        "start_time": "2021-09-18T08:55:14.978Z"
      },
      {
        "duration": 258,
        "start_time": "2021-09-18T08:56:34.145Z"
      },
      {
        "duration": 336,
        "start_time": "2021-09-18T08:56:55.601Z"
      },
      {
        "duration": 7,
        "start_time": "2021-09-18T08:57:07.394Z"
      },
      {
        "duration": 9,
        "start_time": "2021-09-18T09:00:29.594Z"
      },
      {
        "duration": 317,
        "start_time": "2021-09-18T09:00:50.738Z"
      },
      {
        "duration": 279,
        "start_time": "2021-09-18T09:02:03.482Z"
      },
      {
        "duration": 248,
        "start_time": "2021-09-18T09:02:18.594Z"
      },
      {
        "duration": 256,
        "start_time": "2021-09-18T09:02:30.315Z"
      },
      {
        "duration": 93,
        "start_time": "2021-09-18T09:06:41.835Z"
      },
      {
        "duration": 10,
        "start_time": "2021-09-18T09:07:00.562Z"
      },
      {
        "duration": 15,
        "start_time": "2021-09-18T09:08:03.187Z"
      },
      {
        "duration": 15,
        "start_time": "2021-09-18T09:08:20.754Z"
      },
      {
        "duration": 26,
        "start_time": "2021-09-18T09:09:24.270Z"
      },
      {
        "duration": 255,
        "start_time": "2021-09-18T09:23:16.692Z"
      },
      {
        "duration": 919,
        "start_time": "2021-09-18T09:31:30.142Z"
      },
      {
        "duration": 255,
        "start_time": "2021-09-18T09:56:36.823Z"
      },
      {
        "duration": 25,
        "start_time": "2021-09-18T09:57:03.984Z"
      },
      {
        "duration": 28,
        "start_time": "2021-09-18T09:59:27.688Z"
      },
      {
        "duration": 273,
        "start_time": "2021-09-18T10:00:25.662Z"
      },
      {
        "duration": 675,
        "start_time": "2021-09-18T10:00:44.136Z"
      },
      {
        "duration": 25,
        "start_time": "2021-09-18T10:00:52.225Z"
      },
      {
        "duration": 7,
        "start_time": "2021-09-18T10:00:55.656Z"
      },
      {
        "duration": 10,
        "start_time": "2021-09-18T10:01:07.559Z"
      },
      {
        "duration": 20,
        "start_time": "2021-09-18T10:01:13.912Z"
      },
      {
        "duration": 29,
        "start_time": "2021-09-18T10:01:29.175Z"
      },
      {
        "duration": 9,
        "start_time": "2021-09-18T10:02:14.201Z"
      },
      {
        "duration": 671,
        "start_time": "2021-09-18T10:02:37.550Z"
      },
      {
        "duration": 24,
        "start_time": "2021-09-18T10:02:38.223Z"
      },
      {
        "duration": 6,
        "start_time": "2021-09-18T10:02:38.249Z"
      },
      {
        "duration": 8,
        "start_time": "2021-09-18T10:02:38.256Z"
      },
      {
        "duration": 22,
        "start_time": "2021-09-18T10:02:38.266Z"
      },
      {
        "duration": 14,
        "start_time": "2021-09-18T10:03:00.588Z"
      },
      {
        "duration": 720,
        "start_time": "2021-09-18T10:03:25.234Z"
      },
      {
        "duration": 27,
        "start_time": "2021-09-18T10:03:25.957Z"
      },
      {
        "duration": 8,
        "start_time": "2021-09-18T10:03:25.987Z"
      },
      {
        "duration": 9,
        "start_time": "2021-09-18T10:03:25.997Z"
      },
      {
        "duration": 59,
        "start_time": "2021-09-18T10:03:26.008Z"
      },
      {
        "duration": 8,
        "start_time": "2021-09-18T10:08:59.357Z"
      },
      {
        "duration": 17,
        "start_time": "2021-09-18T10:09:59.037Z"
      },
      {
        "duration": 90,
        "start_time": "2021-09-18T10:13:40.582Z"
      },
      {
        "duration": 327,
        "start_time": "2021-09-18T10:13:45.526Z"
      },
      {
        "duration": 2256,
        "start_time": "2021-09-18T10:14:06.422Z"
      },
      {
        "duration": 274,
        "start_time": "2021-09-18T10:14:09.800Z"
      },
      {
        "duration": 272,
        "start_time": "2021-09-18T10:14:51.741Z"
      },
      {
        "duration": 274,
        "start_time": "2021-09-18T10:15:27.918Z"
      },
      {
        "duration": 676,
        "start_time": "2021-09-18T10:15:43.521Z"
      },
      {
        "duration": 26,
        "start_time": "2021-09-18T10:15:44.199Z"
      },
      {
        "duration": 22,
        "start_time": "2021-09-18T10:15:44.227Z"
      },
      {
        "duration": 8,
        "start_time": "2021-09-18T10:15:44.251Z"
      },
      {
        "duration": 329,
        "start_time": "2021-09-18T10:15:44.261Z"
      },
      {
        "duration": 2909,
        "start_time": "2021-09-18T10:15:41.683Z"
      },
      {
        "duration": 681,
        "start_time": "2021-09-18T10:16:03.508Z"
      },
      {
        "duration": 24,
        "start_time": "2021-09-18T10:16:09.684Z"
      },
      {
        "duration": 8,
        "start_time": "2021-09-18T10:16:13.692Z"
      },
      {
        "duration": 9,
        "start_time": "2021-09-18T10:16:25.164Z"
      },
      {
        "duration": 30,
        "start_time": "2021-09-18T10:16:52.236Z"
      },
      {
        "duration": 2284,
        "start_time": "2021-09-18T10:17:11.877Z"
      },
      {
        "duration": 252,
        "start_time": "2021-09-18T10:18:38.501Z"
      },
      {
        "duration": 247,
        "start_time": "2021-09-18T10:18:41.902Z"
      },
      {
        "duration": 824,
        "start_time": "2021-09-18T10:19:27.029Z"
      },
      {
        "duration": 33,
        "start_time": "2021-09-18T10:19:27.856Z"
      },
      {
        "duration": 8,
        "start_time": "2021-09-18T10:19:27.891Z"
      },
      {
        "duration": 11,
        "start_time": "2021-09-18T10:19:36.725Z"
      },
      {
        "duration": 43,
        "start_time": "2021-09-18T10:19:40.806Z"
      },
      {
        "duration": 366,
        "start_time": "2021-09-18T10:19:54.397Z"
      },
      {
        "duration": 59,
        "start_time": "2021-09-18T10:20:25.753Z"
      },
      {
        "duration": 19,
        "start_time": "2021-09-18T10:20:25.813Z"
      },
      {
        "duration": 6,
        "start_time": "2021-09-18T10:20:25.834Z"
      },
      {
        "duration": 7,
        "start_time": "2021-09-18T10:20:25.849Z"
      },
      {
        "duration": 30,
        "start_time": "2021-09-18T10:20:34.597Z"
      },
      {
        "duration": 24,
        "start_time": "2021-09-18T10:21:11.741Z"
      },
      {
        "duration": 22,
        "start_time": "2021-09-18T10:21:22.510Z"
      },
      {
        "duration": 28,
        "start_time": "2021-09-18T10:21:54.006Z"
      },
      {
        "duration": 264,
        "start_time": "2021-09-18T10:23:37.078Z"
      },
      {
        "duration": 281,
        "start_time": "2021-09-18T10:23:56.158Z"
      },
      {
        "duration": 587,
        "start_time": "2021-09-18T10:24:05.205Z"
      },
      {
        "duration": 62,
        "start_time": "2021-09-18T10:24:18.969Z"
      },
      {
        "duration": 21,
        "start_time": "2021-09-18T10:24:19.033Z"
      },
      {
        "duration": 7,
        "start_time": "2021-09-18T10:24:19.056Z"
      },
      {
        "duration": 9,
        "start_time": "2021-09-18T10:24:19.065Z"
      },
      {
        "duration": 30,
        "start_time": "2021-09-18T10:24:25.014Z"
      },
      {
        "duration": 259,
        "start_time": "2021-09-18T10:24:35.877Z"
      },
      {
        "duration": 617,
        "start_time": "2021-09-18T10:24:49.479Z"
      },
      {
        "duration": 23,
        "start_time": "2021-09-18T10:24:50.098Z"
      },
      {
        "duration": 6,
        "start_time": "2021-09-18T10:24:50.123Z"
      },
      {
        "duration": 21,
        "start_time": "2021-09-18T10:24:50.130Z"
      },
      {
        "duration": 32,
        "start_time": "2021-09-18T10:25:04.146Z"
      },
      {
        "duration": 32,
        "start_time": "2021-09-18T10:25:25.298Z"
      },
      {
        "duration": 25,
        "start_time": "2021-09-18T10:26:02.730Z"
      },
      {
        "duration": 701,
        "start_time": "2021-09-18T10:26:24.665Z"
      },
      {
        "duration": 35,
        "start_time": "2021-09-18T10:26:25.369Z"
      },
      {
        "duration": 8,
        "start_time": "2021-09-18T10:26:25.407Z"
      },
      {
        "duration": 9,
        "start_time": "2021-09-18T10:26:25.417Z"
      },
      {
        "duration": 20,
        "start_time": "2021-09-18T10:26:40.100Z"
      },
      {
        "duration": 688,
        "start_time": "2021-09-18T10:27:14.996Z"
      },
      {
        "duration": 33,
        "start_time": "2021-09-18T10:27:15.686Z"
      },
      {
        "duration": 8,
        "start_time": "2021-09-18T10:27:15.721Z"
      },
      {
        "duration": 8,
        "start_time": "2021-09-18T10:27:21.137Z"
      },
      {
        "duration": 25,
        "start_time": "2021-09-18T10:27:41.218Z"
      },
      {
        "duration": 17,
        "start_time": "2021-09-18T10:27:47.549Z"
      },
      {
        "duration": 28,
        "start_time": "2021-09-18T10:28:09.409Z"
      },
      {
        "duration": 323,
        "start_time": "2021-09-18T10:28:31.705Z"
      },
      {
        "duration": 250,
        "start_time": "2021-09-18T10:28:37.714Z"
      },
      {
        "duration": 663,
        "start_time": "2021-09-18T10:29:17.849Z"
      },
      {
        "duration": 24,
        "start_time": "2021-09-18T10:29:18.515Z"
      },
      {
        "duration": 11,
        "start_time": "2021-09-18T10:29:18.542Z"
      },
      {
        "duration": 8,
        "start_time": "2021-09-18T10:29:18.556Z"
      },
      {
        "duration": 8,
        "start_time": "2021-09-18T10:29:24.701Z"
      },
      {
        "duration": 23,
        "start_time": "2021-09-18T10:29:42.701Z"
      },
      {
        "duration": 31,
        "start_time": "2021-09-18T10:29:48.085Z"
      },
      {
        "duration": 14,
        "start_time": "2021-09-18T10:29:55.436Z"
      },
      {
        "duration": 23,
        "start_time": "2021-09-18T10:30:29.357Z"
      },
      {
        "duration": 14,
        "start_time": "2021-09-18T10:30:37.069Z"
      },
      {
        "duration": 9,
        "start_time": "2021-09-18T10:30:46.981Z"
      },
      {
        "duration": 19,
        "start_time": "2021-09-18T10:34:32.285Z"
      },
      {
        "duration": 19,
        "start_time": "2021-09-18T10:35:01.150Z"
      },
      {
        "duration": 9,
        "start_time": "2021-09-18T10:36:24.686Z"
      },
      {
        "duration": 7,
        "start_time": "2021-09-18T10:39:21.677Z"
      },
      {
        "duration": 10,
        "start_time": "2021-09-18T10:41:12.734Z"
      },
      {
        "duration": 9,
        "start_time": "2021-09-18T10:44:57.230Z"
      },
      {
        "duration": 306,
        "start_time": "2021-09-18T10:48:06.870Z"
      },
      {
        "duration": 243,
        "start_time": "2021-09-18T10:51:56.327Z"
      },
      {
        "duration": 390,
        "start_time": "2021-09-18T10:55:41.279Z"
      },
      {
        "duration": 15,
        "start_time": "2021-09-18T10:55:48.313Z"
      },
      {
        "duration": 20,
        "start_time": "2021-09-18T10:56:18.191Z"
      },
      {
        "duration": 15,
        "start_time": "2021-09-18T10:58:07.664Z"
      },
      {
        "duration": 15,
        "start_time": "2021-09-18T10:58:15.696Z"
      },
      {
        "duration": 21,
        "start_time": "2021-09-18T10:59:11.664Z"
      },
      {
        "duration": 16,
        "start_time": "2021-09-18T10:59:18.151Z"
      },
      {
        "duration": 271,
        "start_time": "2021-09-18T11:13:22.098Z"
      },
      {
        "duration": 26,
        "start_time": "2021-09-18T11:19:50.563Z"
      },
      {
        "duration": 10,
        "start_time": "2021-09-18T11:27:32.643Z"
      },
      {
        "duration": 8,
        "start_time": "2021-09-18T11:29:55.877Z"
      },
      {
        "duration": -48,
        "start_time": "2021-09-18T11:34:53.670Z"
      },
      {
        "duration": -48,
        "start_time": "2021-09-18T11:35:04.922Z"
      },
      {
        "duration": 6128,
        "start_time": "2021-09-18T11:35:06.899Z"
      },
      {
        "duration": 272,
        "start_time": "2021-09-18T11:35:35.812Z"
      },
      {
        "duration": 262,
        "start_time": "2021-09-18T11:35:38.419Z"
      },
      {
        "duration": 83,
        "start_time": "2021-09-18T11:35:46.156Z"
      },
      {
        "duration": 86,
        "start_time": "2021-09-18T11:35:55.419Z"
      },
      {
        "duration": 92,
        "start_time": "2021-09-18T11:36:02.891Z"
      },
      {
        "duration": 88,
        "start_time": "2021-09-18T11:36:13.771Z"
      },
      {
        "duration": 5,
        "start_time": "2021-09-18T11:36:24.083Z"
      },
      {
        "duration": 6572,
        "start_time": "2021-09-18T11:36:43.900Z"
      },
      {
        "duration": 295,
        "start_time": "2021-09-18T11:40:29.589Z"
      },
      {
        "duration": 12,
        "start_time": "2021-09-18T11:40:55.276Z"
      },
      {
        "duration": 288,
        "start_time": "2021-09-18T11:41:27.436Z"
      },
      {
        "duration": 283,
        "start_time": "2021-09-18T11:41:46.005Z"
      },
      {
        "duration": 7,
        "start_time": "2021-09-18T11:42:17.005Z"
      },
      {
        "duration": 9,
        "start_time": "2021-09-18T11:44:30.484Z"
      },
      {
        "duration": 118,
        "start_time": "2021-09-18T11:50:15.314Z"
      },
      {
        "duration": 20,
        "start_time": "2021-09-18T11:58:03.933Z"
      },
      {
        "duration": 5757,
        "start_time": "2021-09-18T11:58:37.583Z"
      },
      {
        "duration": 4660,
        "start_time": "2021-09-18T11:58:53.774Z"
      },
      {
        "duration": 7,
        "start_time": "2021-09-18T11:59:05.374Z"
      },
      {
        "duration": 5,
        "start_time": "2021-09-18T11:59:14.941Z"
      },
      {
        "duration": 5,
        "start_time": "2021-09-18T11:59:55.463Z"
      },
      {
        "duration": 6,
        "start_time": "2021-09-18T12:00:02.909Z"
      },
      {
        "duration": 5,
        "start_time": "2021-09-18T12:00:21.598Z"
      },
      {
        "duration": 255,
        "start_time": "2021-09-18T12:01:22.837Z"
      },
      {
        "duration": 257,
        "start_time": "2021-09-18T12:04:30.702Z"
      },
      {
        "duration": 5,
        "start_time": "2021-09-18T12:04:40.566Z"
      },
      {
        "duration": 3,
        "start_time": "2021-09-18T12:04:55.214Z"
      },
      {
        "duration": 13,
        "start_time": "2021-09-18T12:05:04.774Z"
      },
      {
        "duration": 4,
        "start_time": "2021-09-18T12:05:32.007Z"
      },
      {
        "duration": 5,
        "start_time": "2021-09-18T12:06:30.735Z"
      },
      {
        "duration": 272,
        "start_time": "2021-09-18T12:07:00.958Z"
      },
      {
        "duration": 267,
        "start_time": "2021-09-18T12:07:07.670Z"
      },
      {
        "duration": 5,
        "start_time": "2021-09-18T12:07:16.910Z"
      },
      {
        "duration": 6890,
        "start_time": "2021-09-18T12:08:22.462Z"
      },
      {
        "duration": 4815,
        "start_time": "2021-09-18T12:08:39.599Z"
      },
      {
        "duration": 4790,
        "start_time": "2021-09-18T12:08:50.127Z"
      },
      {
        "duration": 6424,
        "start_time": "2021-09-18T12:09:00.975Z"
      },
      {
        "duration": 6,
        "start_time": "2021-09-18T12:09:23.583Z"
      },
      {
        "duration": 5,
        "start_time": "2021-09-18T12:09:31.415Z"
      },
      {
        "duration": 6,
        "start_time": "2021-09-18T12:09:53.215Z"
      },
      {
        "duration": 1950,
        "start_time": "2021-09-18T12:10:09.951Z"
      },
      {
        "duration": 7,
        "start_time": "2021-09-18T12:13:38.672Z"
      },
      {
        "duration": 272,
        "start_time": "2021-09-18T12:14:10.319Z"
      },
      {
        "duration": 280,
        "start_time": "2021-09-18T12:14:23.408Z"
      },
      {
        "duration": 7,
        "start_time": "2021-09-18T12:15:03.409Z"
      },
      {
        "duration": 6,
        "start_time": "2021-09-18T12:15:19.231Z"
      },
      {
        "duration": 7,
        "start_time": "2021-09-18T12:15:23.527Z"
      },
      {
        "duration": 24,
        "start_time": "2021-09-18T12:15:33.631Z"
      },
      {
        "duration": 7,
        "start_time": "2021-09-18T12:16:29.613Z"
      },
      {
        "duration": 22,
        "start_time": "2021-09-18T12:16:47.976Z"
      },
      {
        "duration": 24,
        "start_time": "2021-09-18T12:17:56.177Z"
      },
      {
        "duration": 7,
        "start_time": "2021-09-18T12:18:46.241Z"
      },
      {
        "duration": 21,
        "start_time": "2021-09-18T12:18:54.681Z"
      },
      {
        "duration": 8,
        "start_time": "2021-09-18T12:19:27.016Z"
      },
      {
        "duration": 258,
        "start_time": "2021-09-18T12:19:41.503Z"
      },
      {
        "duration": 258,
        "start_time": "2021-09-18T12:19:59.824Z"
      },
      {
        "duration": 9,
        "start_time": "2021-09-18T12:20:23.144Z"
      },
      {
        "duration": 11,
        "start_time": "2021-09-18T12:22:59.536Z"
      },
      {
        "duration": 9,
        "start_time": "2021-09-18T12:27:05.945Z"
      },
      {
        "duration": 677,
        "start_time": "2021-09-18T12:34:54.683Z"
      },
      {
        "duration": 25,
        "start_time": "2021-09-18T12:34:55.365Z"
      },
      {
        "duration": 8,
        "start_time": "2021-09-18T12:34:55.393Z"
      },
      {
        "duration": 8,
        "start_time": "2021-09-18T12:34:55.402Z"
      },
      {
        "duration": 60,
        "start_time": "2021-09-18T12:34:55.411Z"
      },
      {
        "duration": 7,
        "start_time": "2021-09-18T12:34:55.473Z"
      },
      {
        "duration": 9,
        "start_time": "2021-09-18T12:34:55.481Z"
      },
      {
        "duration": 8,
        "start_time": "2021-09-18T12:34:55.492Z"
      },
      {
        "duration": 9,
        "start_time": "2021-09-18T12:34:55.502Z"
      },
      {
        "duration": 24,
        "start_time": "2021-09-18T12:56:13.180Z"
      },
      {
        "duration": 9,
        "start_time": "2021-09-18T12:56:41.841Z"
      },
      {
        "duration": 9,
        "start_time": "2021-09-18T12:56:50.445Z"
      },
      {
        "duration": 9,
        "start_time": "2021-09-18T12:57:05.413Z"
      },
      {
        "duration": 21,
        "start_time": "2021-09-18T13:03:00.311Z"
      },
      {
        "duration": 90,
        "start_time": "2021-09-18T13:04:03.085Z"
      },
      {
        "duration": 36,
        "start_time": "2021-09-18T13:04:14.190Z"
      },
      {
        "duration": 23,
        "start_time": "2021-09-18T13:04:47.729Z"
      },
      {
        "duration": 23,
        "start_time": "2021-09-18T13:04:56.893Z"
      },
      {
        "duration": 961,
        "start_time": "2021-09-18T13:05:39.326Z"
      },
      {
        "duration": 267,
        "start_time": "2021-09-18T13:07:03.445Z"
      },
      {
        "duration": 40,
        "start_time": "2021-09-18T13:09:11.350Z"
      },
      {
        "duration": 273,
        "start_time": "2021-09-18T13:09:37.997Z"
      },
      {
        "duration": 36,
        "start_time": "2021-09-18T13:09:52.750Z"
      },
      {
        "duration": 283,
        "start_time": "2021-09-18T13:10:10.287Z"
      },
      {
        "duration": 25,
        "start_time": "2021-09-18T13:10:37.805Z"
      },
      {
        "duration": 35,
        "start_time": "2021-09-18T13:11:18.046Z"
      },
      {
        "duration": 29,
        "start_time": "2021-09-18T13:11:32.185Z"
      },
      {
        "duration": 24,
        "start_time": "2021-09-18T13:12:02.230Z"
      },
      {
        "duration": 41,
        "start_time": "2021-09-18T13:12:47.278Z"
      },
      {
        "duration": 50,
        "start_time": "2021-09-18T13:13:32.149Z"
      },
      {
        "duration": 284,
        "start_time": "2021-09-18T13:14:07.042Z"
      },
      {
        "duration": 36,
        "start_time": "2021-09-18T13:14:54.198Z"
      },
      {
        "duration": 56,
        "start_time": "2021-09-18T13:15:11.742Z"
      },
      {
        "duration": 39,
        "start_time": "2021-09-18T13:15:57.151Z"
      },
      {
        "duration": 36,
        "start_time": "2021-09-18T13:16:43.794Z"
      },
      {
        "duration": 24,
        "start_time": "2021-09-18T13:19:14.592Z"
      },
      {
        "duration": 653,
        "start_time": "2021-09-18T13:19:28.429Z"
      },
      {
        "duration": 24,
        "start_time": "2021-09-18T13:19:29.084Z"
      },
      {
        "duration": 6,
        "start_time": "2021-09-18T13:19:29.110Z"
      },
      {
        "duration": 9,
        "start_time": "2021-09-18T13:19:29.118Z"
      },
      {
        "duration": 45,
        "start_time": "2021-09-18T13:19:29.129Z"
      },
      {
        "duration": 6,
        "start_time": "2021-09-18T13:19:29.176Z"
      },
      {
        "duration": 9,
        "start_time": "2021-09-18T13:19:29.184Z"
      },
      {
        "duration": 8,
        "start_time": "2021-09-18T13:19:29.195Z"
      },
      {
        "duration": 9,
        "start_time": "2021-09-18T13:19:29.205Z"
      },
      {
        "duration": 51,
        "start_time": "2021-09-18T13:19:29.216Z"
      },
      {
        "duration": 34,
        "start_time": "2021-09-18T13:20:23.567Z"
      },
      {
        "duration": 54,
        "start_time": "2021-09-18T13:20:41.038Z"
      },
      {
        "duration": 25,
        "start_time": "2021-09-18T13:20:49.691Z"
      },
      {
        "duration": 25,
        "start_time": "2021-09-18T13:20:57.935Z"
      },
      {
        "duration": 28,
        "start_time": "2021-09-18T13:21:20.096Z"
      },
      {
        "duration": 27,
        "start_time": "2021-09-18T13:21:32.038Z"
      },
      {
        "duration": 27,
        "start_time": "2021-09-18T13:21:36.310Z"
      },
      {
        "duration": 25,
        "start_time": "2021-09-18T13:22:06.822Z"
      },
      {
        "duration": 28,
        "start_time": "2021-09-18T13:22:26.630Z"
      },
      {
        "duration": 42,
        "start_time": "2021-09-18T13:23:26.295Z"
      },
      {
        "duration": 25,
        "start_time": "2021-09-18T13:27:33.488Z"
      },
      {
        "duration": 32,
        "start_time": "2021-09-18T13:29:42.872Z"
      },
      {
        "duration": 27,
        "start_time": "2021-09-18T13:30:37.640Z"
      },
      {
        "duration": 26,
        "start_time": "2021-09-18T13:30:41.720Z"
      },
      {
        "duration": 26,
        "start_time": "2021-09-18T13:30:47.791Z"
      },
      {
        "duration": 331,
        "start_time": "2021-09-18T13:31:52.194Z"
      },
      {
        "duration": 39,
        "start_time": "2021-09-18T13:32:36.769Z"
      },
      {
        "duration": 30,
        "start_time": "2021-09-18T13:35:22.436Z"
      },
      {
        "duration": 29,
        "start_time": "2021-09-18T13:35:53.169Z"
      },
      {
        "duration": 683,
        "start_time": "2021-09-18T13:36:52.725Z"
      },
      {
        "duration": 22,
        "start_time": "2021-09-18T13:36:53.410Z"
      },
      {
        "duration": 11,
        "start_time": "2021-09-18T13:36:53.434Z"
      },
      {
        "duration": 7,
        "start_time": "2021-09-18T13:36:53.449Z"
      },
      {
        "duration": 34,
        "start_time": "2021-09-18T13:36:53.458Z"
      },
      {
        "duration": 6,
        "start_time": "2021-09-18T13:36:53.494Z"
      },
      {
        "duration": 26,
        "start_time": "2021-09-18T13:36:53.502Z"
      },
      {
        "duration": 11,
        "start_time": "2021-09-18T13:36:53.530Z"
      },
      {
        "duration": 14,
        "start_time": "2021-09-18T13:36:53.543Z"
      },
      {
        "duration": 37,
        "start_time": "2021-09-18T13:36:57.194Z"
      },
      {
        "duration": 37,
        "start_time": "2021-09-18T13:37:08.749Z"
      },
      {
        "duration": 29,
        "start_time": "2021-09-18T13:39:08.738Z"
      },
      {
        "duration": 22,
        "start_time": "2021-09-18T13:39:41.427Z"
      },
      {
        "duration": 703,
        "start_time": "2021-09-18T13:40:05.581Z"
      },
      {
        "duration": 26,
        "start_time": "2021-09-18T13:40:06.286Z"
      },
      {
        "duration": 7,
        "start_time": "2021-09-18T13:40:06.314Z"
      },
      {
        "duration": 28,
        "start_time": "2021-09-18T13:40:06.323Z"
      },
      {
        "duration": 34,
        "start_time": "2021-09-18T13:40:06.353Z"
      },
      {
        "duration": 9,
        "start_time": "2021-09-18T13:40:06.389Z"
      },
      {
        "duration": 12,
        "start_time": "2021-09-18T13:40:06.400Z"
      },
      {
        "duration": 8,
        "start_time": "2021-09-18T13:40:06.414Z"
      },
      {
        "duration": 17,
        "start_time": "2021-09-18T13:40:06.450Z"
      },
      {
        "duration": 27,
        "start_time": "2021-09-18T13:40:09.094Z"
      },
      {
        "duration": 30,
        "start_time": "2021-09-18T13:41:43.391Z"
      },
      {
        "duration": 29,
        "start_time": "2021-09-18T13:45:03.607Z"
      },
      {
        "duration": 28,
        "start_time": "2021-09-18T13:45:19.608Z"
      },
      {
        "duration": 724,
        "start_time": "2021-09-18T13:46:17.731Z"
      },
      {
        "duration": 33,
        "start_time": "2021-09-18T13:46:18.458Z"
      },
      {
        "duration": 7,
        "start_time": "2021-09-18T13:46:18.493Z"
      },
      {
        "duration": 7,
        "start_time": "2021-09-18T13:46:18.502Z"
      },
      {
        "duration": 52,
        "start_time": "2021-09-18T13:46:18.511Z"
      },
      {
        "duration": 7,
        "start_time": "2021-09-18T13:46:18.565Z"
      },
      {
        "duration": 12,
        "start_time": "2021-09-18T13:46:18.574Z"
      },
      {
        "duration": 9,
        "start_time": "2021-09-18T13:46:18.589Z"
      },
      {
        "duration": 9,
        "start_time": "2021-09-18T13:46:18.600Z"
      },
      {
        "duration": 18,
        "start_time": "2021-09-18T13:46:21.742Z"
      },
      {
        "duration": 27,
        "start_time": "2021-09-18T13:46:29.870Z"
      },
      {
        "duration": 24,
        "start_time": "2021-09-18T13:46:45.670Z"
      },
      {
        "duration": 30,
        "start_time": "2021-09-18T13:47:30.879Z"
      },
      {
        "duration": 18,
        "start_time": "2021-09-18T13:49:31.527Z"
      },
      {
        "duration": 37,
        "start_time": "2021-09-18T13:49:39.360Z"
      },
      {
        "duration": 21,
        "start_time": "2021-09-18T13:50:52.060Z"
      },
      {
        "duration": 39,
        "start_time": "2021-09-18T13:51:07.062Z"
      },
      {
        "duration": 35,
        "start_time": "2021-09-18T13:51:20.272Z"
      },
      {
        "duration": 24,
        "start_time": "2021-09-18T13:51:51.599Z"
      },
      {
        "duration": 25,
        "start_time": "2021-09-18T13:52:04.351Z"
      },
      {
        "duration": 36,
        "start_time": "2021-09-18T13:52:17.455Z"
      },
      {
        "duration": 26,
        "start_time": "2021-09-18T13:52:26.591Z"
      },
      {
        "duration": 23,
        "start_time": "2021-09-18T13:52:55.599Z"
      },
      {
        "duration": 34,
        "start_time": "2021-09-18T13:53:19.783Z"
      },
      {
        "duration": 332,
        "start_time": "2021-09-18T13:53:52.712Z"
      },
      {
        "duration": 23,
        "start_time": "2021-09-18T13:53:59.703Z"
      },
      {
        "duration": 21,
        "start_time": "2021-09-18T13:54:15.759Z"
      },
      {
        "duration": 23,
        "start_time": "2021-09-18T13:55:05.176Z"
      },
      {
        "duration": 23,
        "start_time": "2021-09-18T13:55:37.823Z"
      },
      {
        "duration": 647,
        "start_time": "2021-09-18T13:55:50.548Z"
      },
      {
        "duration": 23,
        "start_time": "2021-09-18T13:55:51.197Z"
      },
      {
        "duration": 6,
        "start_time": "2021-09-18T13:55:51.222Z"
      },
      {
        "duration": 8,
        "start_time": "2021-09-18T13:55:51.250Z"
      },
      {
        "duration": 49,
        "start_time": "2021-09-18T13:55:51.259Z"
      },
      {
        "duration": 6,
        "start_time": "2021-09-18T13:55:51.309Z"
      },
      {
        "duration": 14,
        "start_time": "2021-09-18T13:55:51.317Z"
      },
      {
        "duration": 13,
        "start_time": "2021-09-18T13:55:51.333Z"
      },
      {
        "duration": 12,
        "start_time": "2021-09-18T13:55:51.347Z"
      },
      {
        "duration": 26,
        "start_time": "2021-09-18T13:56:03.357Z"
      },
      {
        "duration": 27,
        "start_time": "2021-09-18T14:00:50.798Z"
      },
      {
        "duration": 26,
        "start_time": "2021-09-18T14:00:55.862Z"
      },
      {
        "duration": 38,
        "start_time": "2021-09-18T14:01:28.478Z"
      },
      {
        "duration": 32,
        "start_time": "2021-09-18T14:02:14.010Z"
      },
      {
        "duration": 24,
        "start_time": "2021-09-18T14:02:25.693Z"
      },
      {
        "duration": 648,
        "start_time": "2021-09-18T14:02:33.652Z"
      },
      {
        "duration": 24,
        "start_time": "2021-09-18T14:02:34.302Z"
      },
      {
        "duration": 7,
        "start_time": "2021-09-18T14:02:34.328Z"
      },
      {
        "duration": 8,
        "start_time": "2021-09-18T14:02:34.350Z"
      },
      {
        "duration": 39,
        "start_time": "2021-09-18T14:02:34.360Z"
      },
      {
        "duration": 8,
        "start_time": "2021-09-18T14:02:34.402Z"
      },
      {
        "duration": 44,
        "start_time": "2021-09-18T14:02:34.412Z"
      },
      {
        "duration": 9,
        "start_time": "2021-09-18T14:02:34.459Z"
      },
      {
        "duration": 10,
        "start_time": "2021-09-18T14:02:34.470Z"
      },
      {
        "duration": 28,
        "start_time": "2021-09-18T14:02:36.831Z"
      },
      {
        "duration": 26,
        "start_time": "2021-09-18T14:05:05.479Z"
      },
      {
        "duration": 26,
        "start_time": "2021-09-18T14:05:10.008Z"
      },
      {
        "duration": 26,
        "start_time": "2021-09-18T14:06:18.144Z"
      },
      {
        "duration": 7,
        "start_time": "2021-09-18T14:08:38.728Z"
      },
      {
        "duration": 21,
        "start_time": "2021-09-18T14:09:09.920Z"
      },
      {
        "duration": 13,
        "start_time": "2021-09-18T14:09:22.135Z"
      },
      {
        "duration": 6,
        "start_time": "2021-09-18T14:22:25.914Z"
      },
      {
        "duration": 6,
        "start_time": "2021-09-18T14:22:41.050Z"
      },
      {
        "duration": 6,
        "start_time": "2021-09-18T14:37:57.436Z"
      },
      {
        "duration": 6,
        "start_time": "2021-09-18T14:38:59.204Z"
      },
      {
        "duration": 6,
        "start_time": "2021-09-18T14:39:07.724Z"
      },
      {
        "duration": 7,
        "start_time": "2021-09-18T14:39:23.388Z"
      },
      {
        "duration": 7,
        "start_time": "2021-09-18T14:39:27.845Z"
      },
      {
        "duration": 7,
        "start_time": "2021-09-18T14:40:01.469Z"
      },
      {
        "duration": 6,
        "start_time": "2021-09-18T14:40:28.476Z"
      },
      {
        "duration": 6,
        "start_time": "2021-09-18T14:40:32.356Z"
      },
      {
        "duration": 673,
        "start_time": "2021-09-18T14:40:42.517Z"
      },
      {
        "duration": 32,
        "start_time": "2021-09-18T14:40:43.195Z"
      },
      {
        "duration": 20,
        "start_time": "2021-09-18T14:40:43.229Z"
      },
      {
        "duration": 8,
        "start_time": "2021-09-18T14:40:43.251Z"
      },
      {
        "duration": 54,
        "start_time": "2021-09-18T14:40:43.261Z"
      },
      {
        "duration": 8,
        "start_time": "2021-09-18T14:40:43.317Z"
      },
      {
        "duration": 28,
        "start_time": "2021-09-18T14:40:43.327Z"
      },
      {
        "duration": 10,
        "start_time": "2021-09-18T14:40:43.357Z"
      },
      {
        "duration": 9,
        "start_time": "2021-09-18T14:40:43.369Z"
      },
      {
        "duration": 28,
        "start_time": "2021-09-18T14:40:43.379Z"
      },
      {
        "duration": 41,
        "start_time": "2021-09-18T14:40:43.409Z"
      },
      {
        "duration": 6,
        "start_time": "2021-09-18T14:40:43.452Z"
      },
      {
        "duration": 9,
        "start_time": "2021-09-18T14:40:43.459Z"
      },
      {
        "duration": 6,
        "start_time": "2021-09-18T14:46:34.568Z"
      },
      {
        "duration": 9,
        "start_time": "2021-09-18T14:47:16.599Z"
      },
      {
        "duration": 91,
        "start_time": "2021-09-18T14:49:07.591Z"
      },
      {
        "duration": 7,
        "start_time": "2021-09-18T14:49:16.423Z"
      },
      {
        "duration": 7,
        "start_time": "2021-09-18T14:49:34.847Z"
      },
      {
        "duration": 6,
        "start_time": "2021-09-18T14:49:39.679Z"
      },
      {
        "duration": 17,
        "start_time": "2021-09-18T14:50:36.648Z"
      },
      {
        "duration": 819,
        "start_time": "2021-09-18T14:50:46.921Z"
      },
      {
        "duration": 33,
        "start_time": "2021-09-18T14:50:47.742Z"
      },
      {
        "duration": 7,
        "start_time": "2021-09-18T14:50:47.778Z"
      },
      {
        "duration": 8,
        "start_time": "2021-09-18T14:50:47.787Z"
      },
      {
        "duration": 60,
        "start_time": "2021-09-18T14:50:47.797Z"
      },
      {
        "duration": 8,
        "start_time": "2021-09-18T14:50:47.859Z"
      },
      {
        "duration": 9,
        "start_time": "2021-09-18T14:50:47.869Z"
      },
      {
        "duration": 8,
        "start_time": "2021-09-18T14:50:47.880Z"
      },
      {
        "duration": 10,
        "start_time": "2021-09-18T14:50:47.890Z"
      },
      {
        "duration": 56,
        "start_time": "2021-09-18T14:50:47.902Z"
      },
      {
        "duration": 12,
        "start_time": "2021-09-18T14:50:47.960Z"
      },
      {
        "duration": 5,
        "start_time": "2021-09-18T14:50:47.973Z"
      },
      {
        "duration": 7,
        "start_time": "2021-09-18T14:50:47.979Z"
      },
      {
        "duration": 6,
        "start_time": "2021-09-18T14:50:53.291Z"
      },
      {
        "duration": 311,
        "start_time": "2021-09-18T14:58:10.955Z"
      },
      {
        "duration": 5,
        "start_time": "2021-09-18T14:58:37.428Z"
      },
      {
        "duration": 253,
        "start_time": "2021-09-18T15:01:06.499Z"
      },
      {
        "duration": 250,
        "start_time": "2021-09-18T15:01:14.052Z"
      },
      {
        "duration": 7,
        "start_time": "2021-09-18T15:01:36.772Z"
      },
      {
        "duration": 7,
        "start_time": "2021-09-18T15:01:50.883Z"
      },
      {
        "duration": 7,
        "start_time": "2021-09-18T15:01:55.900Z"
      },
      {
        "duration": 6,
        "start_time": "2021-09-18T15:02:01.340Z"
      },
      {
        "duration": 8,
        "start_time": "2021-09-18T15:02:44.453Z"
      },
      {
        "duration": 8,
        "start_time": "2021-09-18T15:03:15.125Z"
      },
      {
        "duration": 44,
        "start_time": "2021-09-18T15:06:21.684Z"
      },
      {
        "duration": 50,
        "start_time": "2021-09-18T15:06:39.996Z"
      },
      {
        "duration": 48,
        "start_time": "2021-09-18T15:06:54.932Z"
      },
      {
        "duration": 79,
        "start_time": "2021-09-18T15:07:01.709Z"
      },
      {
        "duration": 79,
        "start_time": "2021-09-18T15:07:39.412Z"
      },
      {
        "duration": 7,
        "start_time": "2021-09-18T15:18:55.590Z"
      },
      {
        "duration": 7,
        "start_time": "2021-09-18T15:18:59.118Z"
      },
      {
        "duration": 8,
        "start_time": "2021-09-18T15:19:54.309Z"
      },
      {
        "duration": 7,
        "start_time": "2021-09-18T15:20:16.926Z"
      },
      {
        "duration": 7,
        "start_time": "2021-09-18T15:20:27.381Z"
      },
      {
        "duration": 29,
        "start_time": "2021-09-18T15:21:06.062Z"
      },
      {
        "duration": 16,
        "start_time": "2021-09-18T15:21:38.951Z"
      },
      {
        "duration": 686,
        "start_time": "2021-09-18T15:21:48.428Z"
      },
      {
        "duration": 27,
        "start_time": "2021-09-18T15:21:49.116Z"
      },
      {
        "duration": 12,
        "start_time": "2021-09-18T15:21:49.145Z"
      },
      {
        "duration": 11,
        "start_time": "2021-09-18T15:21:49.159Z"
      },
      {
        "duration": 30,
        "start_time": "2021-09-18T15:21:49.171Z"
      },
      {
        "duration": 6,
        "start_time": "2021-09-18T15:21:49.202Z"
      },
      {
        "duration": 10,
        "start_time": "2021-09-18T15:21:49.209Z"
      },
      {
        "duration": 11,
        "start_time": "2021-09-18T15:21:49.250Z"
      },
      {
        "duration": 11,
        "start_time": "2021-09-18T15:21:49.263Z"
      },
      {
        "duration": 18,
        "start_time": "2021-09-18T15:21:49.277Z"
      },
      {
        "duration": 14,
        "start_time": "2021-09-18T15:21:49.297Z"
      },
      {
        "duration": 42,
        "start_time": "2021-09-18T15:21:49.312Z"
      },
      {
        "duration": 12,
        "start_time": "2021-09-18T15:21:49.356Z"
      },
      {
        "duration": 26,
        "start_time": "2021-09-18T15:23:40.259Z"
      },
      {
        "duration": 28,
        "start_time": "2021-09-18T15:23:51.090Z"
      },
      {
        "duration": 34,
        "start_time": "2021-09-18T15:24:08.634Z"
      },
      {
        "duration": 36,
        "start_time": "2021-09-18T15:24:29.858Z"
      },
      {
        "duration": 31,
        "start_time": "2021-09-18T15:25:07.696Z"
      },
      {
        "duration": 29,
        "start_time": "2021-09-18T15:27:10.922Z"
      },
      {
        "duration": 35,
        "start_time": "2021-09-18T15:27:25.298Z"
      },
      {
        "duration": 655,
        "start_time": "2021-09-18T15:27:34.917Z"
      },
      {
        "duration": 24,
        "start_time": "2021-09-18T15:27:35.574Z"
      },
      {
        "duration": 7,
        "start_time": "2021-09-18T15:27:35.600Z"
      },
      {
        "duration": 8,
        "start_time": "2021-09-18T15:27:35.609Z"
      },
      {
        "duration": 70,
        "start_time": "2021-09-18T15:27:35.619Z"
      },
      {
        "duration": 7,
        "start_time": "2021-09-18T15:27:35.691Z"
      },
      {
        "duration": 17,
        "start_time": "2021-09-18T15:27:35.699Z"
      },
      {
        "duration": 7,
        "start_time": "2021-09-18T15:27:35.718Z"
      },
      {
        "duration": 10,
        "start_time": "2021-09-18T15:27:35.750Z"
      },
      {
        "duration": 19,
        "start_time": "2021-09-18T15:27:35.762Z"
      },
      {
        "duration": 11,
        "start_time": "2021-09-18T15:27:35.783Z"
      },
      {
        "duration": 6,
        "start_time": "2021-09-18T15:27:35.796Z"
      },
      {
        "duration": 10,
        "start_time": "2021-09-18T15:27:35.803Z"
      },
      {
        "duration": 10,
        "start_time": "2021-09-18T15:27:43.128Z"
      },
      {
        "duration": 21,
        "start_time": "2021-09-18T15:27:59.640Z"
      },
      {
        "duration": 22,
        "start_time": "2021-09-18T15:28:10.296Z"
      },
      {
        "duration": 33,
        "start_time": "2021-09-18T15:28:16.033Z"
      },
      {
        "duration": 18,
        "start_time": "2021-09-18T15:28:39.161Z"
      },
      {
        "duration": 14,
        "start_time": "2021-09-18T15:28:59.183Z"
      },
      {
        "duration": 5,
        "start_time": "2021-09-18T15:29:01.927Z"
      },
      {
        "duration": 7,
        "start_time": "2021-09-18T15:29:04.439Z"
      },
      {
        "duration": 293,
        "start_time": "2021-09-18T15:34:35.864Z"
      },
      {
        "duration": 11,
        "start_time": "2021-09-18T15:46:46.057Z"
      },
      {
        "duration": 12,
        "start_time": "2021-09-18T15:47:06.401Z"
      },
      {
        "duration": 4,
        "start_time": "2021-09-18T15:49:32.977Z"
      },
      {
        "duration": 82,
        "start_time": "2021-09-18T16:41:39.503Z"
      },
      {
        "duration": 99,
        "start_time": "2021-09-18T16:42:20.459Z"
      },
      {
        "duration": 31,
        "start_time": "2021-09-18T16:43:05.240Z"
      },
      {
        "duration": 33,
        "start_time": "2021-09-18T16:43:08.184Z"
      },
      {
        "duration": 663,
        "start_time": "2021-09-18T16:43:58.921Z"
      },
      {
        "duration": 23,
        "start_time": "2021-09-18T16:43:59.586Z"
      },
      {
        "duration": 7,
        "start_time": "2021-09-18T16:43:59.610Z"
      },
      {
        "duration": 6,
        "start_time": "2021-09-18T16:43:59.618Z"
      },
      {
        "duration": 50,
        "start_time": "2021-09-18T16:43:59.626Z"
      },
      {
        "duration": 5,
        "start_time": "2021-09-18T16:43:59.678Z"
      },
      {
        "duration": 18,
        "start_time": "2021-09-18T16:43:59.684Z"
      },
      {
        "duration": 15,
        "start_time": "2021-09-18T16:43:59.705Z"
      },
      {
        "duration": 28,
        "start_time": "2021-09-18T16:43:59.722Z"
      },
      {
        "duration": 35,
        "start_time": "2021-09-18T16:44:01.859Z"
      },
      {
        "duration": 567,
        "start_time": "2021-09-19T03:02:06.739Z"
      },
      {
        "duration": 6,
        "start_time": "2021-09-19T03:02:36.621Z"
      },
      {
        "duration": 447,
        "start_time": "2021-09-19T11:01:57.749Z"
      },
      {
        "duration": 667,
        "start_time": "2021-09-19T11:02:29.014Z"
      },
      {
        "duration": 22,
        "start_time": "2021-09-19T11:02:29.683Z"
      },
      {
        "duration": 6,
        "start_time": "2021-09-19T11:02:29.707Z"
      },
      {
        "duration": 7,
        "start_time": "2021-09-19T11:02:29.715Z"
      },
      {
        "duration": 56,
        "start_time": "2021-09-19T11:02:29.723Z"
      },
      {
        "duration": 6,
        "start_time": "2021-09-19T11:02:29.780Z"
      },
      {
        "duration": 11,
        "start_time": "2021-09-19T11:02:29.787Z"
      },
      {
        "duration": 7,
        "start_time": "2021-09-19T11:02:29.799Z"
      },
      {
        "duration": 8,
        "start_time": "2021-09-19T11:02:29.808Z"
      },
      {
        "duration": 22,
        "start_time": "2021-09-19T11:02:42.983Z"
      },
      {
        "duration": 21,
        "start_time": "2021-09-19T11:03:13.312Z"
      },
      {
        "duration": 662,
        "start_time": "2021-09-19T11:03:56.027Z"
      },
      {
        "duration": 21,
        "start_time": "2021-09-19T11:03:56.691Z"
      },
      {
        "duration": 6,
        "start_time": "2021-09-19T11:03:56.713Z"
      },
      {
        "duration": 25,
        "start_time": "2021-09-19T11:03:56.720Z"
      },
      {
        "duration": 33,
        "start_time": "2021-09-19T11:03:56.747Z"
      },
      {
        "duration": 6,
        "start_time": "2021-09-19T11:03:56.782Z"
      },
      {
        "duration": 10,
        "start_time": "2021-09-19T11:03:56.789Z"
      },
      {
        "duration": 7,
        "start_time": "2021-09-19T11:03:56.801Z"
      },
      {
        "duration": 39,
        "start_time": "2021-09-19T11:03:56.809Z"
      },
      {
        "duration": 25,
        "start_time": "2021-09-19T11:03:56.849Z"
      },
      {
        "duration": 11,
        "start_time": "2021-09-19T11:03:56.876Z"
      },
      {
        "duration": 4,
        "start_time": "2021-09-19T11:03:56.889Z"
      },
      {
        "duration": 5,
        "start_time": "2021-09-19T11:03:56.895Z"
      },
      {
        "duration": 7,
        "start_time": "2021-09-19T11:03:56.901Z"
      },
      {
        "duration": 293,
        "start_time": "2021-09-19T11:05:37.162Z"
      },
      {
        "duration": 296,
        "start_time": "2021-09-19T11:06:07.908Z"
      },
      {
        "duration": 534,
        "start_time": "2021-09-19T11:06:11.354Z"
      },
      {
        "duration": 248,
        "start_time": "2021-09-19T11:07:03.610Z"
      },
      {
        "duration": 584,
        "start_time": "2021-09-19T11:07:19.883Z"
      },
      {
        "duration": 22,
        "start_time": "2021-09-19T11:07:20.469Z"
      },
      {
        "duration": 5,
        "start_time": "2021-09-19T11:07:20.497Z"
      },
      {
        "duration": 8,
        "start_time": "2021-09-19T11:07:20.504Z"
      },
      {
        "duration": 43,
        "start_time": "2021-09-19T11:07:20.514Z"
      },
      {
        "duration": 6,
        "start_time": "2021-09-19T11:07:20.558Z"
      },
      {
        "duration": 10,
        "start_time": "2021-09-19T11:07:20.566Z"
      },
      {
        "duration": 8,
        "start_time": "2021-09-19T11:07:20.578Z"
      },
      {
        "duration": 15,
        "start_time": "2021-09-19T11:07:20.588Z"
      },
      {
        "duration": 16,
        "start_time": "2021-09-19T11:07:22.863Z"
      },
      {
        "duration": 18,
        "start_time": "2021-09-19T11:07:36.695Z"
      },
      {
        "duration": 22,
        "start_time": "2021-09-19T11:07:55.951Z"
      },
      {
        "duration": 25,
        "start_time": "2021-09-19T11:08:01.231Z"
      },
      {
        "duration": 57,
        "start_time": "2021-09-19T11:17:37.645Z"
      },
      {
        "duration": 17,
        "start_time": "2021-09-19T11:17:37.703Z"
      },
      {
        "duration": 22,
        "start_time": "2021-09-19T11:17:37.722Z"
      },
      {
        "duration": 6,
        "start_time": "2021-09-19T11:17:37.746Z"
      },
      {
        "duration": 32,
        "start_time": "2021-09-19T11:17:37.754Z"
      },
      {
        "duration": 6,
        "start_time": "2021-09-19T11:17:37.787Z"
      },
      {
        "duration": 8,
        "start_time": "2021-09-19T11:17:37.794Z"
      },
      {
        "duration": 6,
        "start_time": "2021-09-19T11:17:37.804Z"
      },
      {
        "duration": 9,
        "start_time": "2021-09-19T11:17:37.844Z"
      },
      {
        "duration": 318,
        "start_time": "2021-09-19T11:18:42.956Z"
      },
      {
        "duration": 67,
        "start_time": "2021-09-19T11:19:00.120Z"
      },
      {
        "duration": 73,
        "start_time": "2021-09-19T11:21:25.828Z"
      },
      {
        "duration": 12,
        "start_time": "2021-09-19T11:23:55.121Z"
      },
      {
        "duration": 5,
        "start_time": "2021-09-19T11:24:30.480Z"
      },
      {
        "duration": 4,
        "start_time": "2021-09-19T11:24:37.384Z"
      },
      {
        "duration": 644,
        "start_time": "2021-09-19T11:24:48.148Z"
      },
      {
        "duration": 22,
        "start_time": "2021-09-19T11:24:48.793Z"
      },
      {
        "duration": 5,
        "start_time": "2021-09-19T11:24:48.817Z"
      },
      {
        "duration": 21,
        "start_time": "2021-09-19T11:24:48.823Z"
      },
      {
        "duration": 38,
        "start_time": "2021-09-19T11:24:48.846Z"
      },
      {
        "duration": 5,
        "start_time": "2021-09-19T11:24:48.885Z"
      },
      {
        "duration": 9,
        "start_time": "2021-09-19T11:24:48.892Z"
      },
      {
        "duration": 6,
        "start_time": "2021-09-19T11:24:48.903Z"
      },
      {
        "duration": 34,
        "start_time": "2021-09-19T11:24:48.911Z"
      },
      {
        "duration": 70,
        "start_time": "2021-09-19T11:24:48.948Z"
      },
      {
        "duration": 31,
        "start_time": "2021-09-19T11:24:49.020Z"
      },
      {
        "duration": 6,
        "start_time": "2021-09-19T11:24:49.053Z"
      },
      {
        "duration": 5,
        "start_time": "2021-09-19T11:24:49.061Z"
      },
      {
        "duration": 8,
        "start_time": "2021-09-19T11:24:49.068Z"
      },
      {
        "duration": 297,
        "start_time": "2021-09-19T11:25:08.123Z"
      },
      {
        "duration": 251,
        "start_time": "2021-09-19T11:25:19.908Z"
      },
      {
        "duration": 256,
        "start_time": "2021-09-19T11:25:43.932Z"
      },
      {
        "duration": 289,
        "start_time": "2021-09-19T11:25:51.668Z"
      },
      {
        "duration": 260,
        "start_time": "2021-09-19T11:26:45.572Z"
      },
      {
        "duration": 247,
        "start_time": "2021-09-19T11:27:07.076Z"
      },
      {
        "duration": 338,
        "start_time": "2021-09-19T11:27:17.091Z"
      },
      {
        "duration": 236,
        "start_time": "2021-09-19T11:27:23.124Z"
      },
      {
        "duration": 750,
        "start_time": "2021-09-19T11:27:34.291Z"
      },
      {
        "duration": 32,
        "start_time": "2021-09-19T11:27:35.044Z"
      },
      {
        "duration": 8,
        "start_time": "2021-09-19T11:27:35.079Z"
      },
      {
        "duration": 9,
        "start_time": "2021-09-19T11:27:35.089Z"
      },
      {
        "duration": 66,
        "start_time": "2021-09-19T11:27:35.100Z"
      },
      {
        "duration": 8,
        "start_time": "2021-09-19T11:27:35.168Z"
      },
      {
        "duration": 9,
        "start_time": "2021-09-19T11:27:35.178Z"
      },
      {
        "duration": 9,
        "start_time": "2021-09-19T11:27:35.190Z"
      },
      {
        "duration": 12,
        "start_time": "2021-09-19T11:27:35.201Z"
      },
      {
        "duration": 139,
        "start_time": "2021-09-19T11:27:35.215Z"
      },
      {
        "duration": 16,
        "start_time": "2021-09-19T11:27:35.356Z"
      },
      {
        "duration": 6,
        "start_time": "2021-09-19T11:27:35.374Z"
      },
      {
        "duration": 6,
        "start_time": "2021-09-19T11:27:35.382Z"
      },
      {
        "duration": 10,
        "start_time": "2021-09-19T11:27:35.390Z"
      },
      {
        "duration": 57,
        "start_time": "2021-09-19T11:27:43.385Z"
      },
      {
        "duration": 20,
        "start_time": "2021-09-19T11:27:58.712Z"
      },
      {
        "duration": 6,
        "start_time": "2021-09-19T11:28:03.593Z"
      },
      {
        "duration": 7,
        "start_time": "2021-09-19T11:28:06.136Z"
      },
      {
        "duration": 29,
        "start_time": "2021-09-19T11:28:09.512Z"
      },
      {
        "duration": 7,
        "start_time": "2021-09-19T11:28:14.592Z"
      },
      {
        "duration": 9,
        "start_time": "2021-09-19T11:28:18.200Z"
      },
      {
        "duration": 8,
        "start_time": "2021-09-19T11:28:22.400Z"
      },
      {
        "duration": 10,
        "start_time": "2021-09-19T11:28:28.152Z"
      },
      {
        "duration": 67,
        "start_time": "2021-09-19T11:28:32.369Z"
      },
      {
        "duration": 13,
        "start_time": "2021-09-19T11:28:36.296Z"
      },
      {
        "duration": 5,
        "start_time": "2021-09-19T11:28:50.760Z"
      },
      {
        "duration": 5,
        "start_time": "2021-09-19T11:28:55.288Z"
      },
      {
        "duration": 5,
        "start_time": "2021-09-19T11:35:04.642Z"
      },
      {
        "duration": 5,
        "start_time": "2021-09-19T11:35:11.041Z"
      },
      {
        "duration": 5,
        "start_time": "2021-09-19T11:35:30.753Z"
      },
      {
        "duration": 5,
        "start_time": "2021-09-19T11:35:47.370Z"
      },
      {
        "duration": 5,
        "start_time": "2021-09-19T11:36:20.986Z"
      },
      {
        "duration": 302,
        "start_time": "2021-09-19T11:36:36.401Z"
      },
      {
        "duration": 4,
        "start_time": "2021-09-19T11:36:50.610Z"
      },
      {
        "duration": 5,
        "start_time": "2021-09-19T11:37:08.161Z"
      },
      {
        "duration": 5,
        "start_time": "2021-09-19T11:37:14.785Z"
      },
      {
        "duration": 4,
        "start_time": "2021-09-19T11:37:39.834Z"
      },
      {
        "duration": 6,
        "start_time": "2021-09-19T11:43:15.026Z"
      },
      {
        "duration": 241,
        "start_time": "2021-09-19T11:43:30.738Z"
      },
      {
        "duration": 5,
        "start_time": "2021-09-19T11:53:15.539Z"
      },
      {
        "duration": 7,
        "start_time": "2021-09-19T11:58:39.085Z"
      },
      {
        "duration": 12,
        "start_time": "2021-09-19T12:01:06.708Z"
      },
      {
        "duration": 26,
        "start_time": "2021-09-19T12:17:18.733Z"
      },
      {
        "duration": 8,
        "start_time": "2021-09-19T12:17:28.982Z"
      },
      {
        "duration": 18,
        "start_time": "2021-09-19T12:17:35.381Z"
      },
      {
        "duration": 7,
        "start_time": "2021-09-19T12:17:44.725Z"
      },
      {
        "duration": 5,
        "start_time": "2021-09-19T12:18:09.733Z"
      },
      {
        "duration": 7,
        "start_time": "2021-09-19T12:18:11.565Z"
      },
      {
        "duration": 19,
        "start_time": "2021-09-19T12:18:18.269Z"
      },
      {
        "duration": 9,
        "start_time": "2021-09-19T12:18:21.245Z"
      },
      {
        "duration": 598,
        "start_time": "2021-09-19T12:18:29.062Z"
      },
      {
        "duration": 21,
        "start_time": "2021-09-19T12:18:29.664Z"
      },
      {
        "duration": 6,
        "start_time": "2021-09-19T12:18:29.687Z"
      },
      {
        "duration": 17,
        "start_time": "2021-09-19T12:18:29.694Z"
      },
      {
        "duration": 47,
        "start_time": "2021-09-19T12:18:29.712Z"
      },
      {
        "duration": 5,
        "start_time": "2021-09-19T12:18:29.761Z"
      },
      {
        "duration": 21,
        "start_time": "2021-09-19T12:18:29.769Z"
      },
      {
        "duration": 6,
        "start_time": "2021-09-19T12:18:29.792Z"
      },
      {
        "duration": 10,
        "start_time": "2021-09-19T12:18:29.800Z"
      },
      {
        "duration": 87,
        "start_time": "2021-09-19T12:18:29.811Z"
      },
      {
        "duration": 4,
        "start_time": "2021-09-19T12:18:29.899Z"
      },
      {
        "duration": 7,
        "start_time": "2021-09-19T12:18:29.905Z"
      },
      {
        "duration": 13,
        "start_time": "2021-09-19T12:18:29.914Z"
      },
      {
        "duration": 26,
        "start_time": "2021-09-19T12:18:29.944Z"
      },
      {
        "duration": 4,
        "start_time": "2021-09-19T12:18:29.971Z"
      },
      {
        "duration": 244,
        "start_time": "2021-09-19T12:18:29.976Z"
      },
      {
        "duration": 6,
        "start_time": "2021-09-19T12:18:30.221Z"
      },
      {
        "duration": 312,
        "start_time": "2021-09-19T12:18:50.326Z"
      },
      {
        "duration": 571,
        "start_time": "2021-09-19T12:19:28.391Z"
      },
      {
        "duration": 20,
        "start_time": "2021-09-19T12:19:28.964Z"
      },
      {
        "duration": 5,
        "start_time": "2021-09-19T12:19:28.986Z"
      },
      {
        "duration": 8,
        "start_time": "2021-09-19T12:19:28.993Z"
      },
      {
        "duration": 44,
        "start_time": "2021-09-19T12:19:29.002Z"
      },
      {
        "duration": 6,
        "start_time": "2021-09-19T12:19:29.047Z"
      },
      {
        "duration": 10,
        "start_time": "2021-09-19T12:19:29.054Z"
      },
      {
        "duration": 7,
        "start_time": "2021-09-19T12:19:29.066Z"
      },
      {
        "duration": 8,
        "start_time": "2021-09-19T12:19:29.075Z"
      },
      {
        "duration": 101,
        "start_time": "2021-09-19T12:19:29.085Z"
      },
      {
        "duration": 4,
        "start_time": "2021-09-19T12:19:29.187Z"
      },
      {
        "duration": 10,
        "start_time": "2021-09-19T12:19:29.193Z"
      },
      {
        "duration": 14,
        "start_time": "2021-09-19T12:19:29.205Z"
      },
      {
        "duration": 37,
        "start_time": "2021-09-19T12:19:29.220Z"
      },
      {
        "duration": 4,
        "start_time": "2021-09-19T12:19:29.258Z"
      },
      {
        "duration": 295,
        "start_time": "2021-09-19T12:19:29.263Z"
      },
      {
        "duration": 10,
        "start_time": "2021-09-19T12:19:37.568Z"
      },
      {
        "duration": 697,
        "start_time": "2021-09-19T12:19:49.451Z"
      },
      {
        "duration": 20,
        "start_time": "2021-09-19T12:19:50.150Z"
      },
      {
        "duration": 9,
        "start_time": "2021-09-19T12:19:50.172Z"
      },
      {
        "duration": 19,
        "start_time": "2021-09-19T12:19:50.183Z"
      },
      {
        "duration": 38,
        "start_time": "2021-09-19T12:19:50.203Z"
      },
      {
        "duration": 8,
        "start_time": "2021-09-19T12:19:50.243Z"
      },
      {
        "duration": 17,
        "start_time": "2021-09-19T12:19:50.252Z"
      },
      {
        "duration": 16,
        "start_time": "2021-09-19T12:19:50.271Z"
      },
      {
        "duration": 21,
        "start_time": "2021-09-19T12:19:50.289Z"
      },
      {
        "duration": 74,
        "start_time": "2021-09-19T12:19:50.311Z"
      },
      {
        "duration": 4,
        "start_time": "2021-09-19T12:19:50.387Z"
      },
      {
        "duration": 8,
        "start_time": "2021-09-19T12:19:50.393Z"
      },
      {
        "duration": 12,
        "start_time": "2021-09-19T12:19:53.245Z"
      },
      {
        "duration": 22,
        "start_time": "2021-09-19T12:19:58.397Z"
      },
      {
        "duration": 9,
        "start_time": "2021-09-19T12:22:09.846Z"
      },
      {
        "duration": 704,
        "start_time": "2021-09-19T12:22:18.362Z"
      },
      {
        "duration": 22,
        "start_time": "2021-09-19T12:22:19.068Z"
      },
      {
        "duration": 5,
        "start_time": "2021-09-19T12:22:19.092Z"
      },
      {
        "duration": 11,
        "start_time": "2021-09-19T12:22:19.099Z"
      },
      {
        "duration": 46,
        "start_time": "2021-09-19T12:22:19.111Z"
      },
      {
        "duration": 7,
        "start_time": "2021-09-19T12:22:19.158Z"
      },
      {
        "duration": 12,
        "start_time": "2021-09-19T12:22:19.166Z"
      },
      {
        "duration": 19,
        "start_time": "2021-09-19T12:22:19.180Z"
      },
      {
        "duration": 8,
        "start_time": "2021-09-19T12:22:19.201Z"
      },
      {
        "duration": 86,
        "start_time": "2021-09-19T12:22:19.210Z"
      },
      {
        "duration": 5,
        "start_time": "2021-09-19T12:22:19.297Z"
      },
      {
        "duration": 12,
        "start_time": "2021-09-19T12:22:19.303Z"
      },
      {
        "duration": 12,
        "start_time": "2021-09-19T12:22:21.309Z"
      },
      {
        "duration": 7,
        "start_time": "2021-09-19T12:22:45.101Z"
      },
      {
        "duration": 805,
        "start_time": "2021-09-19T12:23:45.063Z"
      },
      {
        "duration": 249,
        "start_time": "2021-09-19T12:24:31.187Z"
      },
      {
        "duration": 305,
        "start_time": "2021-09-19T12:24:39.259Z"
      },
      {
        "duration": 12,
        "start_time": "2021-09-19T12:24:43.348Z"
      },
      {
        "duration": 7,
        "start_time": "2021-09-19T12:25:20.567Z"
      },
      {
        "duration": 11,
        "start_time": "2021-09-19T12:25:28.304Z"
      },
      {
        "duration": 11,
        "start_time": "2021-09-19T12:25:59.923Z"
      },
      {
        "duration": 14,
        "start_time": "2021-09-19T12:26:50.150Z"
      },
      {
        "duration": 22,
        "start_time": "2021-09-19T12:27:18.008Z"
      },
      {
        "duration": 17,
        "start_time": "2021-09-19T12:27:33.586Z"
      },
      {
        "duration": 9,
        "start_time": "2021-09-19T12:32:24.621Z"
      },
      {
        "duration": 9,
        "start_time": "2021-09-19T12:32:57.293Z"
      },
      {
        "duration": 221,
        "start_time": "2021-09-19T12:34:20.632Z"
      },
      {
        "duration": 639,
        "start_time": "2021-09-19T12:37:24.139Z"
      },
      {
        "duration": 151,
        "start_time": "2021-09-19T12:37:39.099Z"
      },
      {
        "duration": 155,
        "start_time": "2021-09-19T12:39:02.691Z"
      },
      {
        "duration": 161,
        "start_time": "2021-09-19T12:39:56.308Z"
      },
      {
        "duration": 194,
        "start_time": "2021-09-19T12:40:17.835Z"
      },
      {
        "duration": 151,
        "start_time": "2021-09-19T12:40:23.691Z"
      },
      {
        "duration": 157,
        "start_time": "2021-09-19T12:41:05.660Z"
      },
      {
        "duration": 167,
        "start_time": "2021-09-19T12:43:35.932Z"
      },
      {
        "duration": 159,
        "start_time": "2021-09-19T12:45:45.849Z"
      },
      {
        "duration": 169,
        "start_time": "2021-09-19T12:45:53.863Z"
      },
      {
        "duration": 186,
        "start_time": "2021-09-19T12:46:22.049Z"
      },
      {
        "duration": 252,
        "start_time": "2021-09-19T12:48:19.347Z"
      },
      {
        "duration": 8,
        "start_time": "2021-09-19T12:58:12.314Z"
      },
      {
        "duration": 6,
        "start_time": "2021-09-19T13:10:02.945Z"
      },
      {
        "duration": 6,
        "start_time": "2021-09-19T13:10:11.936Z"
      },
      {
        "duration": 7,
        "start_time": "2021-09-19T13:11:24.120Z"
      },
      {
        "duration": 8,
        "start_time": "2021-09-19T13:11:42.776Z"
      },
      {
        "duration": 162,
        "start_time": "2021-09-19T13:55:43.925Z"
      },
      {
        "duration": 168,
        "start_time": "2021-09-19T13:55:56.620Z"
      },
      {
        "duration": 1934,
        "start_time": "2021-09-19T14:08:38.776Z"
      },
      {
        "duration": 1699,
        "start_time": "2021-09-19T14:10:07.416Z"
      },
      {
        "duration": 652,
        "start_time": "2021-09-19T14:10:23.517Z"
      },
      {
        "duration": 21,
        "start_time": "2021-09-19T14:10:24.171Z"
      },
      {
        "duration": 5,
        "start_time": "2021-09-19T14:10:24.194Z"
      },
      {
        "duration": 12,
        "start_time": "2021-09-19T14:10:24.201Z"
      },
      {
        "duration": 39,
        "start_time": "2021-09-19T14:10:24.214Z"
      },
      {
        "duration": 6,
        "start_time": "2021-09-19T14:10:24.254Z"
      },
      {
        "duration": 12,
        "start_time": "2021-09-19T14:10:24.261Z"
      },
      {
        "duration": 6,
        "start_time": "2021-09-19T14:10:24.275Z"
      },
      {
        "duration": 9,
        "start_time": "2021-09-19T14:10:24.283Z"
      },
      {
        "duration": 91,
        "start_time": "2021-09-19T14:10:24.293Z"
      },
      {
        "duration": 4,
        "start_time": "2021-09-19T14:10:24.385Z"
      },
      {
        "duration": 12,
        "start_time": "2021-09-19T14:10:24.390Z"
      },
      {
        "duration": 14,
        "start_time": "2021-09-19T14:10:24.403Z"
      },
      {
        "duration": 26,
        "start_time": "2021-09-19T14:10:24.419Z"
      },
      {
        "duration": 233,
        "start_time": "2021-09-19T14:10:24.447Z"
      },
      {
        "duration": 172,
        "start_time": "2021-09-19T14:10:24.681Z"
      },
      {
        "duration": 172,
        "start_time": "2021-09-19T14:10:24.854Z"
      },
      {
        "duration": 17,
        "start_time": "2021-09-19T14:10:25.027Z"
      },
      {
        "duration": 1752,
        "start_time": "2021-09-19T14:10:34.743Z"
      },
      {
        "duration": 1728,
        "start_time": "2021-09-19T14:48:03.314Z"
      },
      {
        "duration": 2360,
        "start_time": "2021-09-19T14:48:53.802Z"
      },
      {
        "duration": 162,
        "start_time": "2021-09-19T14:49:03.698Z"
      },
      {
        "duration": 158,
        "start_time": "2021-09-19T14:49:25.673Z"
      },
      {
        "duration": 274,
        "start_time": "2021-09-19T14:53:09.778Z"
      },
      {
        "duration": 92,
        "start_time": "2021-09-19T14:58:31.267Z"
      },
      {
        "duration": 160,
        "start_time": "2021-09-19T15:02:54.907Z"
      },
      {
        "duration": 172,
        "start_time": "2021-09-19T15:05:39.923Z"
      },
      {
        "duration": 251,
        "start_time": "2021-09-19T15:05:55.659Z"
      },
      {
        "duration": 167,
        "start_time": "2021-09-19T15:06:04.003Z"
      },
      {
        "duration": 187,
        "start_time": "2021-09-19T15:06:19.227Z"
      },
      {
        "duration": 550,
        "start_time": "2021-09-19T15:06:50.299Z"
      },
      {
        "duration": 21,
        "start_time": "2021-09-19T15:06:50.850Z"
      },
      {
        "duration": 6,
        "start_time": "2021-09-19T15:06:50.873Z"
      },
      {
        "duration": 15,
        "start_time": "2021-09-19T15:06:50.880Z"
      },
      {
        "duration": 38,
        "start_time": "2021-09-19T15:06:50.897Z"
      },
      {
        "duration": 8,
        "start_time": "2021-09-19T15:06:50.937Z"
      },
      {
        "duration": 17,
        "start_time": "2021-09-19T15:06:50.946Z"
      },
      {
        "duration": 15,
        "start_time": "2021-09-19T15:06:50.965Z"
      },
      {
        "duration": 18,
        "start_time": "2021-09-19T15:06:50.981Z"
      },
      {
        "duration": 81,
        "start_time": "2021-09-19T15:06:51.001Z"
      },
      {
        "duration": 4,
        "start_time": "2021-09-19T15:06:51.083Z"
      },
      {
        "duration": 34,
        "start_time": "2021-09-19T15:06:51.088Z"
      },
      {
        "duration": 28,
        "start_time": "2021-09-19T15:06:51.123Z"
      },
      {
        "duration": 34,
        "start_time": "2021-09-19T15:06:51.152Z"
      },
      {
        "duration": 222,
        "start_time": "2021-09-19T15:06:51.187Z"
      },
      {
        "duration": 167,
        "start_time": "2021-09-19T15:06:51.410Z"
      },
      {
        "duration": 179,
        "start_time": "2021-09-19T15:06:51.578Z"
      },
      {
        "duration": 7,
        "start_time": "2021-09-19T15:06:51.759Z"
      },
      {
        "duration": 207,
        "start_time": "2021-09-19T15:06:53.572Z"
      },
      {
        "duration": 167,
        "start_time": "2021-09-19T15:07:01.586Z"
      },
      {
        "duration": 162,
        "start_time": "2021-09-19T15:13:02.531Z"
      },
      {
        "duration": 163,
        "start_time": "2021-09-19T15:13:16.195Z"
      },
      {
        "duration": 186,
        "start_time": "2021-09-19T15:13:18.891Z"
      },
      {
        "duration": 9,
        "start_time": "2021-09-19T15:13:34.875Z"
      },
      {
        "duration": 9,
        "start_time": "2021-09-19T15:13:49.451Z"
      },
      {
        "duration": 9,
        "start_time": "2021-09-19T15:13:55.371Z"
      },
      {
        "duration": 9,
        "start_time": "2021-09-19T15:14:07.291Z"
      },
      {
        "duration": 9,
        "start_time": "2021-09-19T15:14:18.147Z"
      },
      {
        "duration": 9,
        "start_time": "2021-09-19T15:15:36.299Z"
      },
      {
        "duration": 8,
        "start_time": "2021-09-19T15:17:05.668Z"
      },
      {
        "duration": 162,
        "start_time": "2021-09-19T15:17:12.011Z"
      },
      {
        "duration": 297,
        "start_time": "2021-09-19T15:17:51.499Z"
      },
      {
        "duration": 10,
        "start_time": "2021-09-19T15:18:01.996Z"
      },
      {
        "duration": 376,
        "start_time": "2021-09-19T15:29:39.333Z"
      },
      {
        "duration": 605,
        "start_time": "2021-09-19T15:30:13.759Z"
      },
      {
        "duration": 35,
        "start_time": "2021-09-19T15:30:14.367Z"
      },
      {
        "duration": 8,
        "start_time": "2021-09-19T15:30:14.404Z"
      },
      {
        "duration": 14,
        "start_time": "2021-09-19T15:30:14.415Z"
      },
      {
        "duration": 50,
        "start_time": "2021-09-19T15:30:14.445Z"
      },
      {
        "duration": 8,
        "start_time": "2021-09-19T15:30:14.498Z"
      },
      {
        "duration": 15,
        "start_time": "2021-09-19T15:30:14.508Z"
      },
      {
        "duration": 31,
        "start_time": "2021-09-19T15:30:14.526Z"
      },
      {
        "duration": 14,
        "start_time": "2021-09-19T15:30:14.560Z"
      },
      {
        "duration": 130,
        "start_time": "2021-09-19T15:30:14.576Z"
      },
      {
        "duration": 4,
        "start_time": "2021-09-19T15:30:14.708Z"
      },
      {
        "duration": 11,
        "start_time": "2021-09-19T15:30:14.713Z"
      },
      {
        "duration": 20,
        "start_time": "2021-09-19T15:30:14.725Z"
      },
      {
        "duration": 16,
        "start_time": "2021-09-19T15:30:14.746Z"
      },
      {
        "duration": 241,
        "start_time": "2021-09-19T15:30:14.764Z"
      },
      {
        "duration": 178,
        "start_time": "2021-09-19T15:30:15.007Z"
      },
      {
        "duration": 179,
        "start_time": "2021-09-19T15:30:15.187Z"
      },
      {
        "duration": 8,
        "start_time": "2021-09-19T15:30:15.368Z"
      },
      {
        "duration": 437,
        "start_time": "2021-09-19T15:30:15.378Z"
      },
      {
        "duration": 158,
        "start_time": "2021-09-19T15:30:26.273Z"
      },
      {
        "duration": 676,
        "start_time": "2021-09-19T15:30:39.426Z"
      },
      {
        "duration": 21,
        "start_time": "2021-09-19T15:30:40.104Z"
      },
      {
        "duration": 6,
        "start_time": "2021-09-19T15:30:40.126Z"
      },
      {
        "duration": 12,
        "start_time": "2021-09-19T15:30:40.133Z"
      },
      {
        "duration": 28,
        "start_time": "2021-09-19T15:30:40.146Z"
      },
      {
        "duration": 6,
        "start_time": "2021-09-19T15:30:40.175Z"
      },
      {
        "duration": 7,
        "start_time": "2021-09-19T15:30:40.182Z"
      },
      {
        "duration": 11,
        "start_time": "2021-09-19T15:30:40.191Z"
      },
      {
        "duration": 10,
        "start_time": "2021-09-19T15:30:40.203Z"
      },
      {
        "duration": 94,
        "start_time": "2021-09-19T15:30:40.214Z"
      },
      {
        "duration": 3,
        "start_time": "2021-09-19T15:30:40.310Z"
      },
      {
        "duration": 9,
        "start_time": "2021-09-19T15:30:40.315Z"
      },
      {
        "duration": 27,
        "start_time": "2021-09-19T15:30:40.325Z"
      },
      {
        "duration": 14,
        "start_time": "2021-09-19T15:30:40.354Z"
      },
      {
        "duration": 244,
        "start_time": "2021-09-19T15:30:40.369Z"
      },
      {
        "duration": 171,
        "start_time": "2021-09-19T15:30:40.615Z"
      },
      {
        "duration": 178,
        "start_time": "2021-09-19T15:30:40.788Z"
      },
      {
        "duration": 7,
        "start_time": "2021-09-19T15:30:40.968Z"
      },
      {
        "duration": 212,
        "start_time": "2021-09-19T15:30:52.533Z"
      },
      {
        "duration": 676,
        "start_time": "2021-09-19T15:32:14.397Z"
      },
      {
        "duration": 25,
        "start_time": "2021-09-19T15:32:15.076Z"
      },
      {
        "duration": 6,
        "start_time": "2021-09-19T15:32:15.103Z"
      },
      {
        "duration": 7,
        "start_time": "2021-09-19T15:32:15.110Z"
      },
      {
        "duration": 48,
        "start_time": "2021-09-19T15:32:15.119Z"
      },
      {
        "duration": 5,
        "start_time": "2021-09-19T15:32:15.169Z"
      },
      {
        "duration": 7,
        "start_time": "2021-09-19T15:32:15.176Z"
      },
      {
        "duration": 7,
        "start_time": "2021-09-19T15:32:15.185Z"
      },
      {
        "duration": 8,
        "start_time": "2021-09-19T15:32:15.193Z"
      },
      {
        "duration": 95,
        "start_time": "2021-09-19T15:32:15.203Z"
      },
      {
        "duration": 4,
        "start_time": "2021-09-19T15:32:15.299Z"
      },
      {
        "duration": 10,
        "start_time": "2021-09-19T15:32:15.304Z"
      },
      {
        "duration": 16,
        "start_time": "2021-09-19T15:32:15.315Z"
      },
      {
        "duration": 16,
        "start_time": "2021-09-19T15:32:15.344Z"
      },
      {
        "duration": 292,
        "start_time": "2021-09-19T15:32:15.361Z"
      },
      {
        "duration": 176,
        "start_time": "2021-09-19T15:32:15.654Z"
      },
      {
        "duration": 184,
        "start_time": "2021-09-19T15:32:15.831Z"
      },
      {
        "duration": 7,
        "start_time": "2021-09-19T15:32:16.016Z"
      },
      {
        "duration": 214,
        "start_time": "2021-09-19T15:32:16.025Z"
      },
      {
        "duration": 11,
        "start_time": "2021-09-19T15:32:16.241Z"
      },
      {
        "duration": 4,
        "start_time": "2021-09-19T15:32:16.253Z"
      },
      {
        "duration": 6,
        "start_time": "2021-09-19T15:32:16.258Z"
      },
      {
        "duration": 588,
        "start_time": "2021-09-19T15:35:21.189Z"
      },
      {
        "duration": 23,
        "start_time": "2021-09-19T15:35:21.778Z"
      },
      {
        "duration": 6,
        "start_time": "2021-09-19T15:35:21.802Z"
      },
      {
        "duration": 8,
        "start_time": "2021-09-19T15:35:21.810Z"
      },
      {
        "duration": 31,
        "start_time": "2021-09-19T15:35:21.844Z"
      },
      {
        "duration": 7,
        "start_time": "2021-09-19T15:35:21.877Z"
      },
      {
        "duration": 8,
        "start_time": "2021-09-19T15:35:21.886Z"
      },
      {
        "duration": 8,
        "start_time": "2021-09-19T15:35:21.897Z"
      },
      {
        "duration": 46,
        "start_time": "2021-09-19T15:35:21.907Z"
      },
      {
        "duration": 220,
        "start_time": "2021-09-19T15:35:25.119Z"
      },
      {
        "duration": 69,
        "start_time": "2021-09-19T15:35:42.136Z"
      },
      {
        "duration": 152,
        "start_time": "2021-09-19T15:35:55.398Z"
      },
      {
        "duration": 608,
        "start_time": "2021-09-19T16:00:31.748Z"
      },
      {
        "duration": 21,
        "start_time": "2021-09-19T16:00:32.357Z"
      },
      {
        "duration": 27,
        "start_time": "2021-09-19T16:00:32.380Z"
      },
      {
        "duration": 30,
        "start_time": "2021-09-19T16:00:32.408Z"
      },
      {
        "duration": 46,
        "start_time": "2021-09-19T16:00:32.439Z"
      },
      {
        "duration": 5,
        "start_time": "2021-09-19T16:00:32.486Z"
      },
      {
        "duration": 25,
        "start_time": "2021-09-19T16:00:32.492Z"
      },
      {
        "duration": 31,
        "start_time": "2021-09-19T16:00:32.518Z"
      },
      {
        "duration": 26,
        "start_time": "2021-09-19T16:00:32.550Z"
      },
      {
        "duration": 217,
        "start_time": "2021-09-19T16:00:34.733Z"
      },
      {
        "duration": 8,
        "start_time": "2021-09-19T16:00:38.037Z"
      },
      {
        "duration": 150,
        "start_time": "2021-09-19T16:00:41.142Z"
      },
      {
        "duration": 173,
        "start_time": "2021-09-19T16:02:42.325Z"
      },
      {
        "duration": 12,
        "start_time": "2021-09-19T16:03:26.741Z"
      },
      {
        "duration": 210,
        "start_time": "2021-09-19T16:04:44.367Z"
      },
      {
        "duration": 21,
        "start_time": "2021-09-19T16:10:46.542Z"
      },
      {
        "duration": 17,
        "start_time": "2021-09-19T16:10:57.742Z"
      },
      {
        "duration": 19,
        "start_time": "2021-09-19T16:11:08.207Z"
      },
      {
        "duration": 18,
        "start_time": "2021-09-19T16:11:44.342Z"
      },
      {
        "duration": 18,
        "start_time": "2021-09-19T16:11:56.095Z"
      },
      {
        "duration": 18,
        "start_time": "2021-09-19T16:12:05.351Z"
      },
      {
        "duration": 17,
        "start_time": "2021-09-19T16:12:15.158Z"
      },
      {
        "duration": 18,
        "start_time": "2021-09-19T16:12:47.942Z"
      },
      {
        "duration": 6,
        "start_time": "2021-09-19T16:17:17.160Z"
      },
      {
        "duration": 6,
        "start_time": "2021-09-19T16:21:04.071Z"
      },
      {
        "duration": 6,
        "start_time": "2021-09-19T16:21:25.655Z"
      },
      {
        "duration": 298,
        "start_time": "2021-09-19T16:22:52.064Z"
      },
      {
        "duration": 9,
        "start_time": "2021-09-19T16:23:19.336Z"
      },
      {
        "duration": 7,
        "start_time": "2021-09-19T16:23:44.272Z"
      },
      {
        "duration": 8,
        "start_time": "2021-09-19T16:24:12.816Z"
      },
      {
        "duration": 9,
        "start_time": "2021-09-19T16:27:18.775Z"
      },
      {
        "duration": 7,
        "start_time": "2021-09-19T16:27:50.744Z"
      },
      {
        "duration": 6,
        "start_time": "2021-09-19T16:28:02.048Z"
      },
      {
        "duration": 8,
        "start_time": "2021-09-19T16:28:58.368Z"
      },
      {
        "duration": 8,
        "start_time": "2021-09-19T16:29:14.127Z"
      },
      {
        "duration": 8,
        "start_time": "2021-09-19T16:29:37.504Z"
      },
      {
        "duration": 8,
        "start_time": "2021-09-19T16:29:55.456Z"
      },
      {
        "duration": 7,
        "start_time": "2021-09-19T16:30:21.993Z"
      },
      {
        "duration": 7,
        "start_time": "2021-09-19T16:34:33.160Z"
      },
      {
        "duration": 13,
        "start_time": "2021-09-19T16:34:35.781Z"
      },
      {
        "duration": 16,
        "start_time": "2021-09-19T16:34:40.656Z"
      },
      {
        "duration": 8,
        "start_time": "2021-09-19T16:35:34.080Z"
      },
      {
        "duration": 9,
        "start_time": "2021-09-19T16:38:30.984Z"
      },
      {
        "duration": 11,
        "start_time": "2021-09-19T16:38:48.329Z"
      },
      {
        "duration": 587,
        "start_time": "2021-09-19T16:39:30.191Z"
      },
      {
        "duration": 23,
        "start_time": "2021-09-19T16:39:30.780Z"
      },
      {
        "duration": 8,
        "start_time": "2021-09-19T16:39:30.805Z"
      },
      {
        "duration": 12,
        "start_time": "2021-09-19T16:39:30.814Z"
      },
      {
        "duration": 46,
        "start_time": "2021-09-19T16:39:30.827Z"
      },
      {
        "duration": 7,
        "start_time": "2021-09-19T16:39:30.875Z"
      },
      {
        "duration": 20,
        "start_time": "2021-09-19T16:39:30.884Z"
      },
      {
        "duration": 27,
        "start_time": "2021-09-19T16:39:30.907Z"
      },
      {
        "duration": 31,
        "start_time": "2021-09-19T16:39:30.936Z"
      },
      {
        "duration": 234,
        "start_time": "2021-09-19T16:39:30.968Z"
      },
      {
        "duration": 8,
        "start_time": "2021-09-19T16:39:31.204Z"
      },
      {
        "duration": 5,
        "start_time": "2021-09-19T16:39:31.213Z"
      },
      {
        "duration": 9,
        "start_time": "2021-09-19T16:39:31.219Z"
      },
      {
        "duration": 11,
        "start_time": "2021-09-19T16:39:31.244Z"
      },
      {
        "duration": 22,
        "start_time": "2021-09-19T16:39:31.257Z"
      },
      {
        "duration": 167,
        "start_time": "2021-09-19T16:39:31.280Z"
      },
      {
        "duration": 171,
        "start_time": "2021-09-19T16:39:31.449Z"
      },
      {
        "duration": 212,
        "start_time": "2021-09-19T16:39:31.621Z"
      },
      {
        "duration": 13,
        "start_time": "2021-09-19T16:39:31.835Z"
      },
      {
        "duration": 186,
        "start_time": "2021-09-19T16:39:31.849Z"
      },
      {
        "duration": 11,
        "start_time": "2021-09-19T16:39:32.037Z"
      },
      {
        "duration": 20,
        "start_time": "2021-09-19T16:39:32.050Z"
      },
      {
        "duration": 5,
        "start_time": "2021-09-19T16:39:32.073Z"
      },
      {
        "duration": 9,
        "start_time": "2021-09-19T16:39:32.080Z"
      },
      {
        "duration": 7,
        "start_time": "2021-09-19T16:39:34.679Z"
      },
      {
        "duration": 5,
        "start_time": "2021-09-19T16:39:42.536Z"
      },
      {
        "duration": 7,
        "start_time": "2021-09-19T16:39:57.833Z"
      },
      {
        "duration": 590,
        "start_time": "2021-09-19T16:40:34.969Z"
      },
      {
        "duration": 23,
        "start_time": "2021-09-19T16:40:35.562Z"
      },
      {
        "duration": 6,
        "start_time": "2021-09-19T16:40:35.587Z"
      },
      {
        "duration": 10,
        "start_time": "2021-09-19T16:40:35.595Z"
      },
      {
        "duration": 53,
        "start_time": "2021-09-19T16:40:35.607Z"
      },
      {
        "duration": 6,
        "start_time": "2021-09-19T16:40:35.661Z"
      },
      {
        "duration": 17,
        "start_time": "2021-09-19T16:40:35.668Z"
      },
      {
        "duration": 8,
        "start_time": "2021-09-19T16:40:35.688Z"
      },
      {
        "duration": 15,
        "start_time": "2021-09-19T16:40:35.698Z"
      },
      {
        "duration": 237,
        "start_time": "2021-09-19T16:40:35.715Z"
      },
      {
        "duration": 8,
        "start_time": "2021-09-19T16:40:35.954Z"
      },
      {
        "duration": 11,
        "start_time": "2021-09-19T16:40:35.963Z"
      },
      {
        "duration": 15,
        "start_time": "2021-09-19T16:40:35.976Z"
      },
      {
        "duration": 25,
        "start_time": "2021-09-19T16:40:35.992Z"
      },
      {
        "duration": 18,
        "start_time": "2021-09-19T16:40:36.019Z"
      },
      {
        "duration": 172,
        "start_time": "2021-09-19T16:40:36.039Z"
      },
      {
        "duration": 173,
        "start_time": "2021-09-19T16:40:36.213Z"
      },
      {
        "duration": 215,
        "start_time": "2021-09-19T16:40:36.388Z"
      },
      {
        "duration": 8,
        "start_time": "2021-09-19T16:40:36.604Z"
      },
      {
        "duration": 187,
        "start_time": "2021-09-19T16:40:36.613Z"
      },
      {
        "duration": 10,
        "start_time": "2021-09-19T16:40:36.802Z"
      },
      {
        "duration": 22,
        "start_time": "2021-09-19T16:40:36.813Z"
      },
      {
        "duration": 5,
        "start_time": "2021-09-19T16:40:36.845Z"
      },
      {
        "duration": 24,
        "start_time": "2021-09-19T16:40:36.851Z"
      },
      {
        "duration": 7,
        "start_time": "2021-09-19T16:40:49.056Z"
      },
      {
        "duration": 17,
        "start_time": "2021-09-19T16:40:51.064Z"
      },
      {
        "duration": 25,
        "start_time": "2021-09-19T16:45:07.144Z"
      },
      {
        "duration": 625,
        "start_time": "2021-09-19T16:45:15.028Z"
      },
      {
        "duration": 21,
        "start_time": "2021-09-19T16:45:15.655Z"
      },
      {
        "duration": 5,
        "start_time": "2021-09-19T16:45:15.678Z"
      },
      {
        "duration": 6,
        "start_time": "2021-09-19T16:45:15.685Z"
      },
      {
        "duration": 28,
        "start_time": "2021-09-19T16:45:15.692Z"
      },
      {
        "duration": 5,
        "start_time": "2021-09-19T16:45:15.745Z"
      },
      {
        "duration": 10,
        "start_time": "2021-09-19T16:45:15.752Z"
      },
      {
        "duration": 6,
        "start_time": "2021-09-19T16:45:15.764Z"
      },
      {
        "duration": 8,
        "start_time": "2021-09-19T16:45:15.772Z"
      },
      {
        "duration": 240,
        "start_time": "2021-09-19T16:45:15.782Z"
      },
      {
        "duration": 7,
        "start_time": "2021-09-19T16:45:16.024Z"
      },
      {
        "duration": 4,
        "start_time": "2021-09-19T16:45:16.044Z"
      },
      {
        "duration": 8,
        "start_time": "2021-09-19T16:45:16.049Z"
      },
      {
        "duration": 18,
        "start_time": "2021-09-19T16:45:16.059Z"
      },
      {
        "duration": 16,
        "start_time": "2021-09-19T16:45:16.078Z"
      },
      {
        "duration": 182,
        "start_time": "2021-09-19T16:45:16.095Z"
      },
      {
        "duration": 175,
        "start_time": "2021-09-19T16:45:16.278Z"
      },
      {
        "duration": 210,
        "start_time": "2021-09-19T16:45:16.454Z"
      },
      {
        "duration": 7,
        "start_time": "2021-09-19T16:45:16.666Z"
      },
      {
        "duration": 184,
        "start_time": "2021-09-19T16:45:16.674Z"
      },
      {
        "duration": 11,
        "start_time": "2021-09-19T16:45:16.860Z"
      },
      {
        "duration": 19,
        "start_time": "2021-09-19T16:45:16.872Z"
      },
      {
        "duration": 5,
        "start_time": "2021-09-19T16:45:16.894Z"
      },
      {
        "duration": 10,
        "start_time": "2021-09-19T16:45:16.900Z"
      },
      {
        "duration": 34,
        "start_time": "2021-09-19T16:45:16.911Z"
      },
      {
        "duration": 16,
        "start_time": "2021-09-19T16:45:16.946Z"
      },
      {
        "duration": 4,
        "start_time": "2021-09-19T16:45:16.963Z"
      },
      {
        "duration": 8,
        "start_time": "2021-09-19T16:45:16.969Z"
      },
      {
        "duration": 4,
        "start_time": "2021-09-19T16:47:21.357Z"
      },
      {
        "duration": 312,
        "start_time": "2021-09-19T16:47:50.381Z"
      },
      {
        "duration": 252,
        "start_time": "2021-09-19T16:48:01.542Z"
      },
      {
        "duration": 6,
        "start_time": "2021-09-19T16:48:14.238Z"
      },
      {
        "duration": 6,
        "start_time": "2021-09-19T16:48:22.349Z"
      },
      {
        "duration": 4,
        "start_time": "2021-09-19T16:48:33.118Z"
      },
      {
        "duration": 7,
        "start_time": "2021-09-19T16:48:47.045Z"
      },
      {
        "duration": 45,
        "start_time": "2021-09-19T16:48:59.478Z"
      },
      {
        "duration": 5,
        "start_time": "2021-09-19T16:49:11.509Z"
      },
      {
        "duration": 5,
        "start_time": "2021-09-19T16:49:50.038Z"
      },
      {
        "duration": 291,
        "start_time": "2021-09-19T16:49:58.237Z"
      },
      {
        "duration": 7,
        "start_time": "2021-09-19T16:50:14.207Z"
      },
      {
        "duration": 858,
        "start_time": "2021-09-19T16:50:47.391Z"
      },
      {
        "duration": 5,
        "start_time": "2021-09-19T16:50:53.741Z"
      },
      {
        "duration": 603,
        "start_time": "2021-09-19T16:51:00.271Z"
      },
      {
        "duration": 21,
        "start_time": "2021-09-19T16:51:00.876Z"
      },
      {
        "duration": 6,
        "start_time": "2021-09-19T16:51:00.898Z"
      },
      {
        "duration": 11,
        "start_time": "2021-09-19T16:51:00.906Z"
      },
      {
        "duration": 39,
        "start_time": "2021-09-19T16:51:00.919Z"
      },
      {
        "duration": 5,
        "start_time": "2021-09-19T16:51:00.960Z"
      },
      {
        "duration": 30,
        "start_time": "2021-09-19T16:51:00.967Z"
      },
      {
        "duration": 22,
        "start_time": "2021-09-19T16:51:00.999Z"
      },
      {
        "duration": 24,
        "start_time": "2021-09-19T16:51:01.023Z"
      },
      {
        "duration": 244,
        "start_time": "2021-09-19T16:51:01.048Z"
      },
      {
        "duration": 9,
        "start_time": "2021-09-19T16:51:01.294Z"
      },
      {
        "duration": 17,
        "start_time": "2021-09-19T16:51:01.305Z"
      },
      {
        "duration": 20,
        "start_time": "2021-09-19T16:51:01.323Z"
      },
      {
        "duration": 15,
        "start_time": "2021-09-19T16:51:01.345Z"
      },
      {
        "duration": 17,
        "start_time": "2021-09-19T16:51:01.361Z"
      },
      {
        "duration": 180,
        "start_time": "2021-09-19T16:51:01.379Z"
      },
      {
        "duration": 167,
        "start_time": "2021-09-19T16:51:01.561Z"
      },
      {
        "duration": 217,
        "start_time": "2021-09-19T16:51:01.729Z"
      },
      {
        "duration": 7,
        "start_time": "2021-09-19T16:51:01.947Z"
      },
      {
        "duration": 184,
        "start_time": "2021-09-19T16:51:01.955Z"
      },
      {
        "duration": 12,
        "start_time": "2021-09-19T16:51:02.140Z"
      },
      {
        "duration": 19,
        "start_time": "2021-09-19T16:51:02.153Z"
      },
      {
        "duration": 4,
        "start_time": "2021-09-19T16:51:02.176Z"
      },
      {
        "duration": 9,
        "start_time": "2021-09-19T16:51:02.182Z"
      },
      {
        "duration": 8,
        "start_time": "2021-09-19T16:51:02.193Z"
      },
      {
        "duration": 46,
        "start_time": "2021-09-19T16:51:02.202Z"
      },
      {
        "duration": 4,
        "start_time": "2021-09-19T16:51:02.250Z"
      },
      {
        "duration": 5119,
        "start_time": "2021-09-19T16:51:02.256Z"
      },
      {
        "duration": 5,
        "start_time": "2021-09-19T16:51:41.847Z"
      },
      {
        "duration": 45,
        "start_time": "2021-09-19T16:51:47.734Z"
      },
      {
        "duration": 6,
        "start_time": "2021-09-19T16:52:15.334Z"
      },
      {
        "duration": 6,
        "start_time": "2021-09-19T16:53:16.768Z"
      },
      {
        "duration": 7,
        "start_time": "2021-09-19T16:53:45.383Z"
      },
      {
        "duration": 365,
        "start_time": "2021-09-20T04:58:56.619Z"
      },
      {
        "duration": 806,
        "start_time": "2021-09-20T04:59:08.481Z"
      },
      {
        "duration": 42,
        "start_time": "2021-09-20T04:59:09.290Z"
      },
      {
        "duration": 11,
        "start_time": "2021-09-20T04:59:09.336Z"
      },
      {
        "duration": 40,
        "start_time": "2021-09-20T04:59:09.350Z"
      },
      {
        "duration": 49,
        "start_time": "2021-09-20T04:59:09.393Z"
      },
      {
        "duration": 10,
        "start_time": "2021-09-20T04:59:09.444Z"
      },
      {
        "duration": 12,
        "start_time": "2021-09-20T04:59:09.483Z"
      },
      {
        "duration": 16,
        "start_time": "2021-09-20T04:59:09.500Z"
      },
      {
        "duration": 19,
        "start_time": "2021-09-20T04:59:09.520Z"
      },
      {
        "duration": 510,
        "start_time": "2021-09-20T04:59:09.542Z"
      },
      {
        "duration": 12,
        "start_time": "2021-09-20T04:59:10.054Z"
      },
      {
        "duration": 6,
        "start_time": "2021-09-20T04:59:10.083Z"
      },
      {
        "duration": 19,
        "start_time": "2021-09-20T04:59:10.091Z"
      },
      {
        "duration": 21,
        "start_time": "2021-09-20T04:59:10.112Z"
      },
      {
        "duration": 50,
        "start_time": "2021-09-20T04:59:10.135Z"
      },
      {
        "duration": 315,
        "start_time": "2021-09-20T04:59:10.188Z"
      },
      {
        "duration": 310,
        "start_time": "2021-09-20T04:59:10.506Z"
      },
      {
        "duration": 365,
        "start_time": "2021-09-20T04:59:10.819Z"
      },
      {
        "duration": 11,
        "start_time": "2021-09-20T04:59:11.187Z"
      },
      {
        "duration": 329,
        "start_time": "2021-09-20T04:59:11.200Z"
      },
      {
        "duration": 16,
        "start_time": "2021-09-20T04:59:11.532Z"
      },
      {
        "duration": 50,
        "start_time": "2021-09-20T04:59:11.550Z"
      },
      {
        "duration": 10,
        "start_time": "2021-09-20T04:59:11.606Z"
      },
      {
        "duration": 14,
        "start_time": "2021-09-20T04:59:11.619Z"
      },
      {
        "duration": 48,
        "start_time": "2021-09-20T04:59:11.635Z"
      },
      {
        "duration": 30,
        "start_time": "2021-09-20T04:59:11.686Z"
      },
      {
        "duration": 7,
        "start_time": "2021-09-20T04:59:11.718Z"
      },
      {
        "duration": 576,
        "start_time": "2021-09-20T04:59:11.728Z"
      },
      {
        "duration": 9,
        "start_time": "2021-09-20T05:03:24.326Z"
      },
      {
        "duration": 253,
        "start_time": "2021-09-20T06:12:37.165Z"
      },
      {
        "duration": 9,
        "start_time": "2021-09-20T06:12:52.517Z"
      },
      {
        "duration": 856,
        "start_time": "2021-09-20T06:14:29.170Z"
      },
      {
        "duration": 38,
        "start_time": "2021-09-20T06:14:30.029Z"
      },
      {
        "duration": 19,
        "start_time": "2021-09-20T06:14:30.070Z"
      },
      {
        "duration": 30,
        "start_time": "2021-09-20T06:14:30.091Z"
      },
      {
        "duration": 61,
        "start_time": "2021-09-20T06:14:30.123Z"
      },
      {
        "duration": 9,
        "start_time": "2021-09-20T06:14:30.187Z"
      },
      {
        "duration": 49,
        "start_time": "2021-09-20T06:14:30.198Z"
      },
      {
        "duration": 29,
        "start_time": "2021-09-20T06:14:30.251Z"
      },
      {
        "duration": 39,
        "start_time": "2021-09-20T06:14:30.283Z"
      },
      {
        "duration": 429,
        "start_time": "2021-09-20T06:14:30.324Z"
      },
      {
        "duration": 25,
        "start_time": "2021-09-20T06:14:30.756Z"
      },
      {
        "duration": 6,
        "start_time": "2021-09-20T06:14:30.784Z"
      },
      {
        "duration": 43,
        "start_time": "2021-09-20T06:14:30.793Z"
      },
      {
        "duration": 31,
        "start_time": "2021-09-20T06:14:30.838Z"
      },
      {
        "duration": 29,
        "start_time": "2021-09-20T06:14:30.871Z"
      },
      {
        "duration": 325,
        "start_time": "2021-09-20T06:14:30.903Z"
      },
      {
        "duration": 327,
        "start_time": "2021-09-20T06:14:31.231Z"
      },
      {
        "duration": 393,
        "start_time": "2021-09-20T06:14:31.561Z"
      },
      {
        "duration": 12,
        "start_time": "2021-09-20T06:14:31.956Z"
      },
      {
        "duration": 342,
        "start_time": "2021-09-20T06:14:31.970Z"
      },
      {
        "duration": 16,
        "start_time": "2021-09-20T06:14:32.315Z"
      },
      {
        "duration": 55,
        "start_time": "2021-09-20T06:14:32.333Z"
      },
      {
        "duration": 8,
        "start_time": "2021-09-20T06:14:32.395Z"
      },
      {
        "duration": 15,
        "start_time": "2021-09-20T06:14:32.406Z"
      },
      {
        "duration": 14,
        "start_time": "2021-09-20T06:14:32.424Z"
      },
      {
        "duration": 72,
        "start_time": "2021-09-20T06:14:32.440Z"
      },
      {
        "duration": 8,
        "start_time": "2021-09-20T06:14:32.514Z"
      },
      {
        "duration": 10,
        "start_time": "2021-09-20T06:14:43.386Z"
      },
      {
        "duration": 777,
        "start_time": "2021-09-20T06:14:58.825Z"
      },
      {
        "duration": 37,
        "start_time": "2021-09-20T06:14:59.605Z"
      },
      {
        "duration": 9,
        "start_time": "2021-09-20T06:14:59.645Z"
      },
      {
        "duration": 13,
        "start_time": "2021-09-20T06:14:59.682Z"
      },
      {
        "duration": 49,
        "start_time": "2021-09-20T06:14:59.697Z"
      },
      {
        "duration": 35,
        "start_time": "2021-09-20T06:14:59.748Z"
      },
      {
        "duration": 12,
        "start_time": "2021-09-20T06:14:59.785Z"
      },
      {
        "duration": 10,
        "start_time": "2021-09-20T06:14:59.801Z"
      },
      {
        "duration": 13,
        "start_time": "2021-09-20T06:14:59.814Z"
      },
      {
        "duration": 604,
        "start_time": "2021-09-20T06:14:59.830Z"
      },
      {
        "duration": 15,
        "start_time": "2021-09-20T06:15:00.437Z"
      },
      {
        "duration": 30,
        "start_time": "2021-09-20T06:15:00.455Z"
      },
      {
        "duration": 20,
        "start_time": "2021-09-20T06:15:00.488Z"
      },
      {
        "duration": 34,
        "start_time": "2021-09-20T06:15:00.511Z"
      },
      {
        "duration": 45,
        "start_time": "2021-09-20T06:15:00.548Z"
      },
      {
        "duration": 334,
        "start_time": "2021-09-20T06:15:00.596Z"
      },
      {
        "duration": 342,
        "start_time": "2021-09-20T06:15:00.934Z"
      },
      {
        "duration": 420,
        "start_time": "2021-09-20T06:15:01.284Z"
      },
      {
        "duration": 12,
        "start_time": "2021-09-20T06:15:01.706Z"
      },
      {
        "duration": 353,
        "start_time": "2021-09-20T06:15:01.720Z"
      },
      {
        "duration": 20,
        "start_time": "2021-09-20T06:15:02.075Z"
      },
      {
        "duration": 32,
        "start_time": "2021-09-20T06:15:02.097Z"
      },
      {
        "duration": 9,
        "start_time": "2021-09-20T06:15:02.134Z"
      },
      {
        "duration": 48,
        "start_time": "2021-09-20T06:15:02.146Z"
      },
      {
        "duration": 15,
        "start_time": "2021-09-20T06:15:02.197Z"
      },
      {
        "duration": 30,
        "start_time": "2021-09-20T06:15:02.214Z"
      },
      {
        "duration": 40,
        "start_time": "2021-09-20T06:15:02.246Z"
      },
      {
        "duration": 9,
        "start_time": "2021-09-20T06:15:19.051Z"
      },
      {
        "duration": 775,
        "start_time": "2021-09-20T06:15:41.728Z"
      },
      {
        "duration": 38,
        "start_time": "2021-09-20T06:15:42.506Z"
      },
      {
        "duration": 35,
        "start_time": "2021-09-20T06:15:42.548Z"
      },
      {
        "duration": 12,
        "start_time": "2021-09-20T06:15:42.586Z"
      },
      {
        "duration": 49,
        "start_time": "2021-09-20T06:15:42.601Z"
      },
      {
        "duration": 42,
        "start_time": "2021-09-20T06:15:42.652Z"
      },
      {
        "duration": 14,
        "start_time": "2021-09-20T06:15:42.697Z"
      },
      {
        "duration": 12,
        "start_time": "2021-09-20T06:15:42.715Z"
      },
      {
        "duration": 63,
        "start_time": "2021-09-20T06:15:42.730Z"
      },
      {
        "duration": 418,
        "start_time": "2021-09-20T06:15:42.796Z"
      },
      {
        "duration": 13,
        "start_time": "2021-09-20T06:15:43.216Z"
      },
      {
        "duration": 5,
        "start_time": "2021-09-20T06:15:43.232Z"
      },
      {
        "duration": 12,
        "start_time": "2021-09-20T06:15:43.239Z"
      },
      {
        "duration": 22,
        "start_time": "2021-09-20T06:15:43.283Z"
      },
      {
        "duration": 33,
        "start_time": "2021-09-20T06:15:43.308Z"
      },
      {
        "duration": 327,
        "start_time": "2021-09-20T06:15:43.344Z"
      },
      {
        "duration": 314,
        "start_time": "2021-09-20T06:15:43.673Z"
      },
      {
        "duration": 372,
        "start_time": "2021-09-20T06:15:43.990Z"
      },
      {
        "duration": 20,
        "start_time": "2021-09-20T06:15:44.364Z"
      },
      {
        "duration": 329,
        "start_time": "2021-09-20T06:15:44.386Z"
      },
      {
        "duration": 15,
        "start_time": "2021-09-20T06:15:44.717Z"
      },
      {
        "duration": 52,
        "start_time": "2021-09-20T06:15:44.735Z"
      },
      {
        "duration": 7,
        "start_time": "2021-09-20T06:15:44.791Z"
      },
      {
        "duration": 15,
        "start_time": "2021-09-20T06:15:44.800Z"
      },
      {
        "duration": 15,
        "start_time": "2021-09-20T06:15:44.818Z"
      },
      {
        "duration": 59,
        "start_time": "2021-09-20T06:15:44.835Z"
      },
      {
        "duration": 6,
        "start_time": "2021-09-20T06:15:44.897Z"
      },
      {
        "duration": 13,
        "start_time": "2021-09-20T06:15:44.906Z"
      },
      {
        "duration": 8,
        "start_time": "2021-09-20T06:16:32.323Z"
      },
      {
        "duration": 17,
        "start_time": "2021-09-20T06:17:18.828Z"
      },
      {
        "duration": 10,
        "start_time": "2021-09-20T06:17:30.443Z"
      },
      {
        "duration": 26,
        "start_time": "2021-09-20T06:22:18.764Z"
      },
      {
        "duration": 25,
        "start_time": "2021-09-20T06:23:03.604Z"
      },
      {
        "duration": 114,
        "start_time": "2021-09-20T06:23:56.172Z"
      },
      {
        "duration": 356,
        "start_time": "2021-09-20T06:24:18.516Z"
      },
      {
        "duration": 58,
        "start_time": "2021-09-20T06:24:25.508Z"
      },
      {
        "duration": 40,
        "start_time": "2021-09-20T06:25:05.134Z"
      },
      {
        "duration": 832,
        "start_time": "2021-09-20T06:32:13.716Z"
      },
      {
        "duration": 59,
        "start_time": "2021-09-20T06:32:14.550Z"
      },
      {
        "duration": 8,
        "start_time": "2021-09-20T06:32:14.612Z"
      },
      {
        "duration": 11,
        "start_time": "2021-09-20T06:32:14.622Z"
      },
      {
        "duration": 52,
        "start_time": "2021-09-20T06:32:14.636Z"
      },
      {
        "duration": 9,
        "start_time": "2021-09-20T06:32:14.690Z"
      },
      {
        "duration": 12,
        "start_time": "2021-09-20T06:32:14.701Z"
      },
      {
        "duration": 11,
        "start_time": "2021-09-20T06:32:14.716Z"
      },
      {
        "duration": 12,
        "start_time": "2021-09-20T06:32:14.730Z"
      },
      {
        "duration": 457,
        "start_time": "2021-09-20T06:32:14.744Z"
      },
      {
        "duration": 12,
        "start_time": "2021-09-20T06:32:15.204Z"
      },
      {
        "duration": 6,
        "start_time": "2021-09-20T06:32:15.218Z"
      },
      {
        "duration": 14,
        "start_time": "2021-09-20T06:32:15.227Z"
      },
      {
        "duration": 35,
        "start_time": "2021-09-20T06:32:15.243Z"
      },
      {
        "duration": 26,
        "start_time": "2021-09-20T06:32:15.281Z"
      },
      {
        "duration": 359,
        "start_time": "2021-09-20T06:32:15.309Z"
      },
      {
        "duration": 447,
        "start_time": "2021-09-20T06:32:15.670Z"
      },
      {
        "duration": 550,
        "start_time": "2021-09-20T06:32:16.120Z"
      },
      {
        "duration": 14,
        "start_time": "2021-09-20T06:32:16.673Z"
      },
      {
        "duration": 340,
        "start_time": "2021-09-20T06:32:16.690Z"
      },
      {
        "duration": 15,
        "start_time": "2021-09-20T06:32:17.032Z"
      },
      {
        "duration": 52,
        "start_time": "2021-09-20T06:32:17.050Z"
      },
      {
        "duration": 7,
        "start_time": "2021-09-20T06:32:17.106Z"
      },
      {
        "duration": 12,
        "start_time": "2021-09-20T06:32:17.115Z"
      },
      {
        "duration": 10,
        "start_time": "2021-09-20T06:32:17.129Z"
      },
      {
        "duration": 64,
        "start_time": "2021-09-20T06:32:17.142Z"
      },
      {
        "duration": 6,
        "start_time": "2021-09-20T06:32:17.208Z"
      },
      {
        "duration": 9,
        "start_time": "2021-09-20T06:32:17.217Z"
      },
      {
        "duration": 27,
        "start_time": "2021-09-20T06:32:21.100Z"
      },
      {
        "duration": 24,
        "start_time": "2021-09-20T06:36:54.468Z"
      },
      {
        "duration": 41,
        "start_time": "2021-09-20T06:37:28.740Z"
      },
      {
        "duration": 60,
        "start_time": "2021-09-20T06:38:08.261Z"
      },
      {
        "duration": 51,
        "start_time": "2021-09-20T06:44:12.852Z"
      },
      {
        "duration": 27,
        "start_time": "2021-09-20T06:44:51.446Z"
      },
      {
        "duration": 61,
        "start_time": "2021-09-20T06:45:39.957Z"
      },
      {
        "duration": 30,
        "start_time": "2021-09-20T06:46:56.013Z"
      },
      {
        "duration": 27,
        "start_time": "2021-09-20T06:47:02.005Z"
      },
      {
        "duration": 25,
        "start_time": "2021-09-20T06:47:11.189Z"
      },
      {
        "duration": 8,
        "start_time": "2021-09-20T06:47:22.813Z"
      },
      {
        "duration": 833,
        "start_time": "2021-09-20T06:47:46.485Z"
      },
      {
        "duration": 36,
        "start_time": "2021-09-20T06:47:47.320Z"
      },
      {
        "duration": 29,
        "start_time": "2021-09-20T06:47:47.360Z"
      },
      {
        "duration": 11,
        "start_time": "2021-09-20T06:47:47.392Z"
      },
      {
        "duration": 47,
        "start_time": "2021-09-20T06:47:47.405Z"
      },
      {
        "duration": 11,
        "start_time": "2021-09-20T06:47:47.482Z"
      },
      {
        "duration": 14,
        "start_time": "2021-09-20T06:47:47.496Z"
      },
      {
        "duration": 13,
        "start_time": "2021-09-20T06:47:47.516Z"
      },
      {
        "duration": 65,
        "start_time": "2021-09-20T06:47:47.533Z"
      },
      {
        "duration": 437,
        "start_time": "2021-09-20T06:47:47.600Z"
      },
      {
        "duration": 14,
        "start_time": "2021-09-20T06:47:48.040Z"
      },
      {
        "duration": 25,
        "start_time": "2021-09-20T06:47:48.057Z"
      },
      {
        "duration": 10,
        "start_time": "2021-09-20T06:47:48.085Z"
      },
      {
        "duration": 27,
        "start_time": "2021-09-20T06:47:48.097Z"
      },
      {
        "duration": 27,
        "start_time": "2021-09-20T06:47:48.127Z"
      },
      {
        "duration": 316,
        "start_time": "2021-09-20T06:47:48.182Z"
      },
      {
        "duration": 329,
        "start_time": "2021-09-20T06:47:48.500Z"
      },
      {
        "duration": 388,
        "start_time": "2021-09-20T06:47:48.832Z"
      },
      {
        "duration": 13,
        "start_time": "2021-09-20T06:47:49.222Z"
      },
      {
        "duration": 338,
        "start_time": "2021-09-20T06:47:49.237Z"
      },
      {
        "duration": 17,
        "start_time": "2021-09-20T06:47:49.583Z"
      },
      {
        "duration": 29,
        "start_time": "2021-09-20T06:47:49.603Z"
      },
      {
        "duration": 7,
        "start_time": "2021-09-20T06:47:49.637Z"
      },
      {
        "duration": 13,
        "start_time": "2021-09-20T06:47:49.683Z"
      },
      {
        "duration": 10,
        "start_time": "2021-09-20T06:47:49.699Z"
      },
      {
        "duration": 28,
        "start_time": "2021-09-20T06:47:49.712Z"
      },
      {
        "duration": 45,
        "start_time": "2021-09-20T06:47:49.742Z"
      },
      {
        "duration": 13,
        "start_time": "2021-09-20T06:47:49.789Z"
      },
      {
        "duration": 27,
        "start_time": "2021-09-20T06:47:49.804Z"
      },
      {
        "duration": 87,
        "start_time": "2021-09-20T06:47:49.833Z"
      },
      {
        "duration": 2,
        "start_time": "2021-09-20T06:47:49.923Z"
      },
      {
        "duration": 26,
        "start_time": "2021-09-20T06:47:55.181Z"
      },
      {
        "duration": 42,
        "start_time": "2021-09-20T06:48:05.624Z"
      },
      {
        "duration": 820,
        "start_time": "2021-09-20T06:48:17.861Z"
      },
      {
        "duration": 40,
        "start_time": "2021-09-20T06:48:18.683Z"
      },
      {
        "duration": 10,
        "start_time": "2021-09-20T06:48:18.726Z"
      },
      {
        "duration": 10,
        "start_time": "2021-09-20T06:48:18.739Z"
      },
      {
        "duration": 49,
        "start_time": "2021-09-20T06:48:18.783Z"
      },
      {
        "duration": 9,
        "start_time": "2021-09-20T06:48:18.835Z"
      },
      {
        "duration": 42,
        "start_time": "2021-09-20T06:48:18.847Z"
      },
      {
        "duration": 12,
        "start_time": "2021-09-20T06:48:18.892Z"
      },
      {
        "duration": 14,
        "start_time": "2021-09-20T06:48:18.906Z"
      },
      {
        "duration": 436,
        "start_time": "2021-09-20T06:48:18.922Z"
      },
      {
        "duration": 26,
        "start_time": "2021-09-20T06:48:19.360Z"
      },
      {
        "duration": 5,
        "start_time": "2021-09-20T06:48:19.389Z"
      },
      {
        "duration": 10,
        "start_time": "2021-09-20T06:48:19.397Z"
      },
      {
        "duration": 21,
        "start_time": "2021-09-20T06:48:19.409Z"
      },
      {
        "duration": 59,
        "start_time": "2021-09-20T06:48:19.432Z"
      },
      {
        "duration": 321,
        "start_time": "2021-09-20T06:48:19.494Z"
      },
      {
        "duration": 327,
        "start_time": "2021-09-20T06:48:19.819Z"
      },
      {
        "duration": 389,
        "start_time": "2021-09-20T06:48:20.148Z"
      },
      {
        "duration": 11,
        "start_time": "2021-09-20T06:48:20.539Z"
      },
      {
        "duration": 350,
        "start_time": "2021-09-20T06:48:20.553Z"
      },
      {
        "duration": 16,
        "start_time": "2021-09-20T06:48:20.905Z"
      },
      {
        "duration": 43,
        "start_time": "2021-09-20T06:48:20.923Z"
      },
      {
        "duration": 7,
        "start_time": "2021-09-20T06:48:20.985Z"
      },
      {
        "duration": 19,
        "start_time": "2021-09-20T06:48:20.995Z"
      },
      {
        "duration": 14,
        "start_time": "2021-09-20T06:48:21.017Z"
      },
      {
        "duration": 60,
        "start_time": "2021-09-20T06:48:21.034Z"
      },
      {
        "duration": 6,
        "start_time": "2021-09-20T06:48:21.097Z"
      },
      {
        "duration": 12,
        "start_time": "2021-09-20T06:48:21.106Z"
      },
      {
        "duration": 28,
        "start_time": "2021-09-20T06:48:22.916Z"
      },
      {
        "duration": 63,
        "start_time": "2021-09-20T06:48:25.221Z"
      },
      {
        "duration": 16,
        "start_time": "2021-09-20T06:54:40.446Z"
      },
      {
        "duration": 44,
        "start_time": "2021-09-20T06:55:28.789Z"
      },
      {
        "duration": 10,
        "start_time": "2021-09-20T06:55:48.550Z"
      },
      {
        "duration": 11,
        "start_time": "2021-09-20T06:55:59.677Z"
      },
      {
        "duration": 791,
        "start_time": "2021-09-20T06:59:10.712Z"
      },
      {
        "duration": 37,
        "start_time": "2021-09-20T06:59:11.506Z"
      },
      {
        "duration": 9,
        "start_time": "2021-09-20T06:59:11.546Z"
      },
      {
        "duration": 34,
        "start_time": "2021-09-20T06:59:11.558Z"
      },
      {
        "duration": 44,
        "start_time": "2021-09-20T06:59:11.595Z"
      },
      {
        "duration": 8,
        "start_time": "2021-09-20T06:59:11.642Z"
      },
      {
        "duration": 41,
        "start_time": "2021-09-20T06:59:11.652Z"
      },
      {
        "duration": 10,
        "start_time": "2021-09-20T06:59:11.696Z"
      },
      {
        "duration": 15,
        "start_time": "2021-09-20T06:59:11.709Z"
      },
      {
        "duration": 456,
        "start_time": "2021-09-20T06:59:11.726Z"
      },
      {
        "duration": 12,
        "start_time": "2021-09-20T06:59:12.185Z"
      },
      {
        "duration": 11,
        "start_time": "2021-09-20T06:59:12.199Z"
      },
      {
        "duration": 13,
        "start_time": "2021-09-20T06:59:12.212Z"
      },
      {
        "duration": 27,
        "start_time": "2021-09-20T06:59:12.227Z"
      },
      {
        "duration": 30,
        "start_time": "2021-09-20T06:59:12.282Z"
      },
      {
        "duration": 326,
        "start_time": "2021-09-20T06:59:12.314Z"
      },
      {
        "duration": 396,
        "start_time": "2021-09-20T06:59:12.643Z"
      },
      {
        "duration": 379,
        "start_time": "2021-09-20T06:59:13.041Z"
      },
      {
        "duration": 12,
        "start_time": "2021-09-20T06:59:13.422Z"
      },
      {
        "duration": 440,
        "start_time": "2021-09-20T06:59:13.436Z"
      },
      {
        "duration": 16,
        "start_time": "2021-09-20T06:59:13.883Z"
      },
      {
        "duration": 30,
        "start_time": "2021-09-20T06:59:13.902Z"
      },
      {
        "duration": 8,
        "start_time": "2021-09-20T06:59:13.936Z"
      },
      {
        "duration": 46,
        "start_time": "2021-09-20T06:59:13.946Z"
      },
      {
        "duration": 13,
        "start_time": "2021-09-20T06:59:13.995Z"
      },
      {
        "duration": 27,
        "start_time": "2021-09-20T06:59:14.011Z"
      },
      {
        "duration": 6,
        "start_time": "2021-09-20T06:59:14.040Z"
      },
      {
        "duration": 9,
        "start_time": "2021-09-20T06:59:14.083Z"
      },
      {
        "duration": 29,
        "start_time": "2021-09-20T06:59:14.095Z"
      },
      {
        "duration": 88,
        "start_time": "2021-09-20T06:59:14.127Z"
      },
      {
        "duration": 23,
        "start_time": "2021-09-20T06:59:19.846Z"
      },
      {
        "duration": 21,
        "start_time": "2021-09-20T06:59:31.686Z"
      },
      {
        "duration": 43,
        "start_time": "2021-09-20T06:59:39.270Z"
      },
      {
        "duration": 923,
        "start_time": "2021-09-20T08:52:07.906Z"
      },
      {
        "duration": 466,
        "start_time": "2021-09-20T08:52:20.690Z"
      },
      {
        "duration": 83,
        "start_time": "2021-09-20T09:30:09.318Z"
      },
      {
        "duration": 999,
        "start_time": "2021-09-20T09:30:16.698Z"
      },
      {
        "duration": 1183,
        "start_time": "2021-09-20T09:30:45.926Z"
      },
      {
        "duration": 1248,
        "start_time": "2021-09-20T09:31:56.157Z"
      },
      {
        "duration": 1268,
        "start_time": "2021-09-20T09:38:20.326Z"
      },
      {
        "duration": 81,
        "start_time": "2021-09-20T09:41:48.471Z"
      },
      {
        "duration": 99,
        "start_time": "2021-09-20T09:42:33.758Z"
      },
      {
        "duration": 831,
        "start_time": "2021-09-20T09:50:51.694Z"
      },
      {
        "duration": 38,
        "start_time": "2021-09-20T09:50:52.528Z"
      },
      {
        "duration": 9,
        "start_time": "2021-09-20T09:50:52.584Z"
      },
      {
        "duration": 23,
        "start_time": "2021-09-20T09:50:52.595Z"
      },
      {
        "duration": 65,
        "start_time": "2021-09-20T09:50:52.620Z"
      },
      {
        "duration": 10,
        "start_time": "2021-09-20T09:50:52.687Z"
      },
      {
        "duration": 19,
        "start_time": "2021-09-20T09:50:52.699Z"
      },
      {
        "duration": 11,
        "start_time": "2021-09-20T09:50:52.722Z"
      },
      {
        "duration": 59,
        "start_time": "2021-09-20T09:50:52.736Z"
      },
      {
        "duration": 430,
        "start_time": "2021-09-20T09:50:52.798Z"
      },
      {
        "duration": 12,
        "start_time": "2021-09-20T09:50:53.231Z"
      },
      {
        "duration": 6,
        "start_time": "2021-09-20T09:50:53.246Z"
      },
      {
        "duration": 37,
        "start_time": "2021-09-20T09:50:53.255Z"
      },
      {
        "duration": 21,
        "start_time": "2021-09-20T09:50:53.295Z"
      },
      {
        "duration": 25,
        "start_time": "2021-09-20T09:50:53.318Z"
      },
      {
        "duration": 339,
        "start_time": "2021-09-20T09:50:53.346Z"
      },
      {
        "duration": 315,
        "start_time": "2021-09-20T09:50:53.687Z"
      },
      {
        "duration": 385,
        "start_time": "2021-09-20T09:50:54.004Z"
      },
      {
        "duration": 11,
        "start_time": "2021-09-20T09:50:54.392Z"
      },
      {
        "duration": 338,
        "start_time": "2021-09-20T09:50:54.406Z"
      },
      {
        "duration": 17,
        "start_time": "2021-09-20T09:50:54.747Z"
      },
      {
        "duration": 44,
        "start_time": "2021-09-20T09:50:54.766Z"
      },
      {
        "duration": 7,
        "start_time": "2021-09-20T09:50:54.815Z"
      },
      {
        "duration": 11,
        "start_time": "2021-09-20T09:50:54.825Z"
      },
      {
        "duration": 51,
        "start_time": "2021-09-20T09:50:54.839Z"
      },
      {
        "duration": 27,
        "start_time": "2021-09-20T09:50:54.893Z"
      },
      {
        "duration": 6,
        "start_time": "2021-09-20T09:50:54.923Z"
      },
      {
        "duration": 11,
        "start_time": "2021-09-20T09:50:54.931Z"
      },
      {
        "duration": 61,
        "start_time": "2021-09-20T09:50:54.944Z"
      },
      {
        "duration": 76,
        "start_time": "2021-09-20T09:50:55.008Z"
      },
      {
        "duration": 46,
        "start_time": "2021-09-20T09:50:55.087Z"
      },
      {
        "duration": 808,
        "start_time": "2021-09-20T09:53:52.217Z"
      },
      {
        "duration": 40,
        "start_time": "2021-09-20T09:53:53.028Z"
      },
      {
        "duration": 18,
        "start_time": "2021-09-20T09:53:53.071Z"
      },
      {
        "duration": 11,
        "start_time": "2021-09-20T09:53:53.091Z"
      },
      {
        "duration": 81,
        "start_time": "2021-09-20T09:53:53.104Z"
      },
      {
        "duration": 9,
        "start_time": "2021-09-20T09:53:53.187Z"
      },
      {
        "duration": 14,
        "start_time": "2021-09-20T09:53:53.198Z"
      },
      {
        "duration": 10,
        "start_time": "2021-09-20T09:53:53.215Z"
      },
      {
        "duration": 55,
        "start_time": "2021-09-20T09:53:53.228Z"
      },
      {
        "duration": 420,
        "start_time": "2021-09-20T09:53:53.285Z"
      },
      {
        "duration": 12,
        "start_time": "2021-09-20T09:53:53.708Z"
      },
      {
        "duration": 7,
        "start_time": "2021-09-20T09:53:53.722Z"
      },
      {
        "duration": 14,
        "start_time": "2021-09-20T09:53:53.731Z"
      },
      {
        "duration": 51,
        "start_time": "2021-09-20T09:53:53.747Z"
      },
      {
        "duration": 29,
        "start_time": "2021-09-20T09:53:53.800Z"
      },
      {
        "duration": 356,
        "start_time": "2021-09-20T09:53:53.832Z"
      },
      {
        "duration": 426,
        "start_time": "2021-09-20T09:53:54.191Z"
      },
      {
        "duration": 386,
        "start_time": "2021-09-20T09:53:54.620Z"
      },
      {
        "duration": 11,
        "start_time": "2021-09-20T09:53:55.008Z"
      },
      {
        "duration": 360,
        "start_time": "2021-09-20T09:53:55.022Z"
      },
      {
        "duration": 17,
        "start_time": "2021-09-20T09:53:55.384Z"
      },
      {
        "duration": 30,
        "start_time": "2021-09-20T09:53:55.403Z"
      },
      {
        "duration": 7,
        "start_time": "2021-09-20T09:53:55.438Z"
      },
      {
        "duration": 46,
        "start_time": "2021-09-20T09:53:55.447Z"
      },
      {
        "duration": 21,
        "start_time": "2021-09-20T09:53:55.495Z"
      },
      {
        "duration": 29,
        "start_time": "2021-09-20T09:53:55.518Z"
      },
      {
        "duration": 36,
        "start_time": "2021-09-20T09:53:55.550Z"
      },
      {
        "duration": 11,
        "start_time": "2021-09-20T09:53:55.588Z"
      },
      {
        "duration": 25,
        "start_time": "2021-09-20T09:53:55.602Z"
      },
      {
        "duration": 100,
        "start_time": "2021-09-20T09:53:55.629Z"
      },
      {
        "duration": 58,
        "start_time": "2021-09-20T09:53:55.731Z"
      },
      {
        "duration": 3,
        "start_time": "2021-09-20T09:53:55.791Z"
      },
      {
        "duration": 17,
        "start_time": "2021-09-20T09:55:31.835Z"
      },
      {
        "duration": 14,
        "start_time": "2021-09-20T09:56:10.861Z"
      },
      {
        "duration": 10,
        "start_time": "2021-09-20T09:56:19.011Z"
      },
      {
        "duration": 360,
        "start_time": "2021-09-20T09:56:54.875Z"
      },
      {
        "duration": 243,
        "start_time": "2021-09-20T09:57:01.612Z"
      },
      {
        "duration": 11,
        "start_time": "2021-09-20T09:57:17.435Z"
      },
      {
        "duration": 323,
        "start_time": "2021-09-20T09:59:06.316Z"
      },
      {
        "duration": 14,
        "start_time": "2021-09-20T09:59:21.396Z"
      },
      {
        "duration": 285,
        "start_time": "2021-09-20T10:01:42.749Z"
      },
      {
        "duration": 36928,
        "start_time": "2021-09-20T10:04:04.956Z"
      },
      {
        "duration": 13,
        "start_time": "2021-09-20T10:05:27.540Z"
      },
      {
        "duration": 13,
        "start_time": "2021-09-20T10:06:07.403Z"
      },
      {
        "duration": 806,
        "start_time": "2021-09-20T10:06:47.913Z"
      },
      {
        "duration": 37,
        "start_time": "2021-09-20T10:06:48.722Z"
      },
      {
        "duration": 21,
        "start_time": "2021-09-20T10:06:48.762Z"
      },
      {
        "duration": 15,
        "start_time": "2021-09-20T10:06:48.786Z"
      },
      {
        "duration": 56,
        "start_time": "2021-09-20T10:06:48.803Z"
      },
      {
        "duration": 27,
        "start_time": "2021-09-20T10:06:48.862Z"
      },
      {
        "duration": 24,
        "start_time": "2021-09-20T10:06:48.892Z"
      },
      {
        "duration": 14,
        "start_time": "2021-09-20T10:06:48.920Z"
      },
      {
        "duration": 22,
        "start_time": "2021-09-20T10:06:48.937Z"
      },
      {
        "duration": 424,
        "start_time": "2021-09-20T10:06:48.983Z"
      },
      {
        "duration": 13,
        "start_time": "2021-09-20T10:06:49.410Z"
      },
      {
        "duration": 10,
        "start_time": "2021-09-20T10:06:49.425Z"
      },
      {
        "duration": 21,
        "start_time": "2021-09-20T10:06:49.437Z"
      },
      {
        "duration": 41,
        "start_time": "2021-09-20T10:06:49.461Z"
      },
      {
        "duration": 42,
        "start_time": "2021-09-20T10:06:49.504Z"
      },
      {
        "duration": 356,
        "start_time": "2021-09-20T10:06:49.549Z"
      },
      {
        "duration": 418,
        "start_time": "2021-09-20T10:06:49.907Z"
      },
      {
        "duration": 382,
        "start_time": "2021-09-20T10:06:50.328Z"
      },
      {
        "duration": 10,
        "start_time": "2021-09-20T10:06:50.712Z"
      },
      {
        "duration": 392,
        "start_time": "2021-09-20T10:06:50.725Z"
      },
      {
        "duration": 23,
        "start_time": "2021-09-20T10:06:51.121Z"
      },
      {
        "duration": 66,
        "start_time": "2021-09-20T10:06:51.148Z"
      },
      {
        "duration": 10,
        "start_time": "2021-09-20T10:06:51.219Z"
      },
      {
        "duration": 14,
        "start_time": "2021-09-20T10:06:51.231Z"
      },
      {
        "duration": 45,
        "start_time": "2021-09-20T10:06:51.247Z"
      },
      {
        "duration": 38,
        "start_time": "2021-09-20T10:06:51.294Z"
      },
      {
        "duration": 6,
        "start_time": "2021-09-20T10:06:51.334Z"
      },
      {
        "duration": 16,
        "start_time": "2021-09-20T10:06:51.343Z"
      },
      {
        "duration": 44,
        "start_time": "2021-09-20T10:06:51.362Z"
      },
      {
        "duration": 88,
        "start_time": "2021-09-20T10:06:51.409Z"
      },
      {
        "duration": 45,
        "start_time": "2021-09-20T10:06:51.499Z"
      },
      {
        "duration": 9,
        "start_time": "2021-09-20T10:06:54.036Z"
      },
      {
        "duration": 36256,
        "start_time": "2021-09-20T10:08:06.798Z"
      },
      {
        "duration": 92,
        "start_time": "2021-09-20T10:12:52.805Z"
      },
      {
        "duration": 399,
        "start_time": "2021-09-20T10:13:02.101Z"
      },
      {
        "duration": 36106,
        "start_time": "2021-09-20T10:13:16.614Z"
      },
      {
        "duration": 434,
        "start_time": "2021-09-20T10:14:13.437Z"
      },
      {
        "duration": 35667,
        "start_time": "2021-09-20T10:15:38.334Z"
      },
      {
        "duration": 8,
        "start_time": "2021-09-20T10:16:42.485Z"
      },
      {
        "duration": 834,
        "start_time": "2021-09-20T10:16:50.155Z"
      },
      {
        "duration": 38,
        "start_time": "2021-09-20T10:16:50.992Z"
      },
      {
        "duration": 8,
        "start_time": "2021-09-20T10:16:51.033Z"
      },
      {
        "duration": 13,
        "start_time": "2021-09-20T10:16:51.044Z"
      },
      {
        "duration": 45,
        "start_time": "2021-09-20T10:16:51.083Z"
      },
      {
        "duration": 9,
        "start_time": "2021-09-20T10:16:51.131Z"
      },
      {
        "duration": 42,
        "start_time": "2021-09-20T10:16:51.142Z"
      },
      {
        "duration": 12,
        "start_time": "2021-09-20T10:16:51.187Z"
      },
      {
        "duration": 14,
        "start_time": "2021-09-20T10:16:51.202Z"
      },
      {
        "duration": 439,
        "start_time": "2021-09-20T10:16:51.218Z"
      },
      {
        "duration": 26,
        "start_time": "2021-09-20T10:16:51.660Z"
      },
      {
        "duration": 7,
        "start_time": "2021-09-20T10:16:51.688Z"
      },
      {
        "duration": 14,
        "start_time": "2021-09-20T10:16:51.698Z"
      },
      {
        "duration": 29,
        "start_time": "2021-09-20T10:16:51.714Z"
      },
      {
        "duration": 57,
        "start_time": "2021-09-20T10:16:51.745Z"
      },
      {
        "duration": 330,
        "start_time": "2021-09-20T10:16:51.805Z"
      },
      {
        "duration": 325,
        "start_time": "2021-09-20T10:16:52.137Z"
      },
      {
        "duration": 386,
        "start_time": "2021-09-20T10:16:52.464Z"
      },
      {
        "duration": 12,
        "start_time": "2021-09-20T10:16:52.853Z"
      },
      {
        "duration": 337,
        "start_time": "2021-09-20T10:16:52.884Z"
      },
      {
        "duration": 16,
        "start_time": "2021-09-20T10:16:53.223Z"
      },
      {
        "duration": 50,
        "start_time": "2021-09-20T10:16:53.242Z"
      },
      {
        "duration": 8,
        "start_time": "2021-09-20T10:16:53.297Z"
      },
      {
        "duration": 12,
        "start_time": "2021-09-20T10:16:53.308Z"
      },
      {
        "duration": 11,
        "start_time": "2021-09-20T10:16:53.323Z"
      },
      {
        "duration": 69,
        "start_time": "2021-09-20T10:16:53.336Z"
      },
      {
        "duration": 6,
        "start_time": "2021-09-20T10:16:53.407Z"
      },
      {
        "duration": 20,
        "start_time": "2021-09-20T10:16:53.416Z"
      },
      {
        "duration": 48,
        "start_time": "2021-09-20T10:16:53.439Z"
      },
      {
        "duration": 60,
        "start_time": "2021-09-20T10:16:53.489Z"
      },
      {
        "duration": 60,
        "start_time": "2021-09-20T10:16:53.551Z"
      },
      {
        "duration": 321,
        "start_time": "2021-09-20T10:16:56.363Z"
      },
      {
        "duration": 10,
        "start_time": "2021-09-20T10:17:03.834Z"
      },
      {
        "duration": 6,
        "start_time": "2021-09-20T10:17:06.300Z"
      },
      {
        "duration": 5,
        "start_time": "2021-09-20T10:17:23.788Z"
      },
      {
        "duration": 267,
        "start_time": "2021-09-20T10:17:50.092Z"
      },
      {
        "duration": 6,
        "start_time": "2021-09-20T10:17:57.964Z"
      },
      {
        "duration": 7,
        "start_time": "2021-09-20T10:18:46.661Z"
      },
      {
        "duration": 7,
        "start_time": "2021-09-20T10:19:24.516Z"
      },
      {
        "duration": 258,
        "start_time": "2021-09-20T10:20:02.757Z"
      },
      {
        "duration": 35964,
        "start_time": "2021-09-20T10:21:18.708Z"
      },
      {
        "duration": 36464,
        "start_time": "2021-09-20T10:22:09.644Z"
      },
      {
        "duration": 419,
        "start_time": "2021-09-20T10:23:26.806Z"
      },
      {
        "duration": 415,
        "start_time": "2021-09-20T10:23:39.148Z"
      },
      {
        "duration": 107,
        "start_time": "2021-09-20T10:23:44.420Z"
      },
      {
        "duration": 457,
        "start_time": "2021-09-20T10:23:54.917Z"
      },
      {
        "duration": 106,
        "start_time": "2021-09-20T10:23:59.773Z"
      },
      {
        "duration": 39551,
        "start_time": "2021-09-20T10:24:05.876Z"
      },
      {
        "duration": 96,
        "start_time": "2021-09-20T10:25:23.022Z"
      },
      {
        "duration": 38676,
        "start_time": "2021-09-20T10:27:25.501Z"
      },
      {
        "duration": 450,
        "start_time": "2021-09-20T10:29:02.933Z"
      },
      {
        "duration": 435,
        "start_time": "2021-09-20T10:29:56.766Z"
      },
      {
        "duration": 482,
        "start_time": "2021-09-20T10:31:49.541Z"
      },
      {
        "duration": 37140,
        "start_time": "2021-09-20T10:34:44.110Z"
      },
      {
        "duration": 637,
        "start_time": "2021-09-20T10:38:57.110Z"
      },
      {
        "duration": 975,
        "start_time": "2021-09-20T10:39:45.470Z"
      },
      {
        "duration": 971,
        "start_time": "2021-09-20T10:40:30.102Z"
      },
      {
        "duration": 972,
        "start_time": "2021-09-20T10:40:50.469Z"
      },
      {
        "duration": 11,
        "start_time": "2021-09-20T10:41:23.727Z"
      },
      {
        "duration": 949,
        "start_time": "2021-09-20T10:41:50.062Z"
      },
      {
        "duration": 971,
        "start_time": "2021-09-20T10:43:09.174Z"
      },
      {
        "duration": 979,
        "start_time": "2021-09-20T10:45:13.928Z"
      },
      {
        "duration": 1148,
        "start_time": "2021-09-20T10:45:34.255Z"
      },
      {
        "duration": 962,
        "start_time": "2021-09-20T10:47:13.263Z"
      },
      {
        "duration": 956,
        "start_time": "2021-09-20T10:54:51.647Z"
      },
      {
        "duration": 955,
        "start_time": "2021-09-20T10:55:03.103Z"
      },
      {
        "duration": 945,
        "start_time": "2021-09-20T10:55:23.655Z"
      },
      {
        "duration": 948,
        "start_time": "2021-09-20T10:55:39.255Z"
      },
      {
        "duration": 888,
        "start_time": "2021-09-20T10:56:01.541Z"
      },
      {
        "duration": 51,
        "start_time": "2021-09-20T10:56:02.432Z"
      },
      {
        "duration": 9,
        "start_time": "2021-09-20T10:56:02.486Z"
      },
      {
        "duration": 21,
        "start_time": "2021-09-20T10:56:02.497Z"
      },
      {
        "duration": 74,
        "start_time": "2021-09-20T10:56:02.521Z"
      },
      {
        "duration": 12,
        "start_time": "2021-09-20T10:56:02.598Z"
      },
      {
        "duration": 32,
        "start_time": "2021-09-20T10:56:02.613Z"
      },
      {
        "duration": 40,
        "start_time": "2021-09-20T10:56:02.650Z"
      },
      {
        "duration": 35,
        "start_time": "2021-09-20T10:56:02.694Z"
      },
      {
        "duration": 450,
        "start_time": "2021-09-20T10:56:02.732Z"
      },
      {
        "duration": 12,
        "start_time": "2021-09-20T10:56:03.184Z"
      },
      {
        "duration": 6,
        "start_time": "2021-09-20T10:56:03.198Z"
      },
      {
        "duration": 16,
        "start_time": "2021-09-20T10:56:03.207Z"
      },
      {
        "duration": 24,
        "start_time": "2021-09-20T10:56:03.226Z"
      },
      {
        "duration": 28,
        "start_time": "2021-09-20T10:56:03.282Z"
      },
      {
        "duration": 326,
        "start_time": "2021-09-20T10:56:03.312Z"
      },
      {
        "duration": 312,
        "start_time": "2021-09-20T10:56:03.641Z"
      },
      {
        "duration": 375,
        "start_time": "2021-09-20T10:56:03.955Z"
      },
      {
        "duration": 11,
        "start_time": "2021-09-20T10:56:04.333Z"
      },
      {
        "duration": 354,
        "start_time": "2021-09-20T10:56:04.346Z"
      },
      {
        "duration": 18,
        "start_time": "2021-09-20T10:56:04.702Z"
      },
      {
        "duration": 42,
        "start_time": "2021-09-20T10:56:04.723Z"
      },
      {
        "duration": 8,
        "start_time": "2021-09-20T10:56:04.785Z"
      },
      {
        "duration": 22,
        "start_time": "2021-09-20T10:56:04.796Z"
      },
      {
        "duration": 25,
        "start_time": "2021-09-20T10:56:04.820Z"
      },
      {
        "duration": 39,
        "start_time": "2021-09-20T10:56:04.847Z"
      },
      {
        "duration": 11,
        "start_time": "2021-09-20T10:56:04.888Z"
      },
      {
        "duration": 24,
        "start_time": "2021-09-20T10:56:04.901Z"
      },
      {
        "duration": 34,
        "start_time": "2021-09-20T10:56:04.928Z"
      },
      {
        "duration": 68,
        "start_time": "2021-09-20T10:56:04.964Z"
      },
      {
        "duration": 66,
        "start_time": "2021-09-20T10:56:05.034Z"
      },
      {
        "duration": 9,
        "start_time": "2021-09-20T10:56:05.103Z"
      },
      {
        "duration": 984,
        "start_time": "2021-09-20T10:56:05.115Z"
      },
      {
        "duration": 26,
        "start_time": "2021-09-20T11:23:58.534Z"
      },
      {
        "duration": 492,
        "start_time": "2021-09-20T11:25:38.623Z"
      },
      {
        "duration": 24,
        "start_time": "2021-09-20T11:26:07.054Z"
      },
      {
        "duration": 269,
        "start_time": "2021-09-20T11:26:31.031Z"
      },
      {
        "duration": 25,
        "start_time": "2021-09-20T11:27:10.150Z"
      },
      {
        "duration": 36,
        "start_time": "2021-09-20T11:27:23.518Z"
      },
      {
        "duration": 3513,
        "start_time": "2021-09-20T11:27:53.823Z"
      },
      {
        "duration": 3508,
        "start_time": "2021-09-20T11:28:27.983Z"
      },
      {
        "duration": 3391,
        "start_time": "2021-09-20T11:31:44.623Z"
      },
      {
        "duration": 3396,
        "start_time": "2021-09-20T11:32:34.632Z"
      },
      {
        "duration": 3471,
        "start_time": "2021-09-20T11:34:09.799Z"
      },
      {
        "duration": 338,
        "start_time": "2021-09-20T16:09:59.452Z"
      },
      {
        "duration": 825,
        "start_time": "2021-09-20T16:10:08.623Z"
      },
      {
        "duration": 38,
        "start_time": "2021-09-20T16:10:09.451Z"
      },
      {
        "duration": 12,
        "start_time": "2021-09-20T16:10:09.494Z"
      },
      {
        "duration": 14,
        "start_time": "2021-09-20T16:10:09.509Z"
      },
      {
        "duration": 84,
        "start_time": "2021-09-20T16:10:09.526Z"
      },
      {
        "duration": 10,
        "start_time": "2021-09-20T16:10:09.612Z"
      },
      {
        "duration": 49,
        "start_time": "2021-09-20T16:10:09.625Z"
      },
      {
        "duration": 14,
        "start_time": "2021-09-20T16:10:09.679Z"
      },
      {
        "duration": 13,
        "start_time": "2021-09-20T16:10:09.696Z"
      },
      {
        "duration": 473,
        "start_time": "2021-09-20T16:10:09.711Z"
      },
      {
        "duration": 16,
        "start_time": "2021-09-20T16:10:10.187Z"
      },
      {
        "duration": 7,
        "start_time": "2021-09-20T16:10:10.206Z"
      },
      {
        "duration": 58,
        "start_time": "2021-09-20T16:10:10.216Z"
      },
      {
        "duration": 28,
        "start_time": "2021-09-20T16:10:10.279Z"
      },
      {
        "duration": 29,
        "start_time": "2021-09-20T16:10:10.310Z"
      },
      {
        "duration": 580,
        "start_time": "2021-09-20T16:10:10.343Z"
      },
      {
        "duration": 576,
        "start_time": "2021-09-20T16:10:10.926Z"
      },
      {
        "duration": 461,
        "start_time": "2021-09-20T16:10:11.506Z"
      },
      {
        "duration": 13,
        "start_time": "2021-09-20T16:10:11.971Z"
      },
      {
        "duration": 385,
        "start_time": "2021-09-20T16:10:11.986Z"
      },
      {
        "duration": 15,
        "start_time": "2021-09-20T16:10:12.374Z"
      },
      {
        "duration": 32,
        "start_time": "2021-09-20T16:10:14.474Z"
      },
      {
        "duration": 347,
        "start_time": "2021-09-20T16:12:12.803Z"
      },
      {
        "duration": 38,
        "start_time": "2021-09-20T16:13:21.769Z"
      },
      {
        "duration": 32,
        "start_time": "2021-09-20T16:15:19.775Z"
      },
      {
        "duration": 46,
        "start_time": "2021-09-20T16:19:49.458Z"
      },
      {
        "duration": 17,
        "start_time": "2021-09-20T16:40:38.498Z"
      },
      {
        "duration": 13,
        "start_time": "2021-09-20T16:48:24.166Z"
      },
      {
        "duration": 12,
        "start_time": "2021-09-20T17:10:53.851Z"
      },
      {
        "duration": 21,
        "start_time": "2021-09-20T17:20:38.027Z"
      },
      {
        "duration": 39,
        "start_time": "2021-09-20T17:23:17.294Z"
      },
      {
        "duration": 15,
        "start_time": "2021-09-20T17:24:09.491Z"
      },
      {
        "duration": 11,
        "start_time": "2021-09-20T17:24:41.527Z"
      },
      {
        "duration": 15,
        "start_time": "2021-09-20T17:24:52.531Z"
      },
      {
        "duration": 16,
        "start_time": "2021-09-20T17:25:33.475Z"
      },
      {
        "duration": 890,
        "start_time": "2021-09-20T17:26:02.892Z"
      },
      {
        "duration": 44,
        "start_time": "2021-09-20T17:26:03.786Z"
      },
      {
        "duration": 32,
        "start_time": "2021-09-20T17:26:03.833Z"
      },
      {
        "duration": 15,
        "start_time": "2021-09-20T17:26:03.870Z"
      },
      {
        "duration": 84,
        "start_time": "2021-09-20T17:26:03.888Z"
      },
      {
        "duration": 10,
        "start_time": "2021-09-20T17:26:03.975Z"
      },
      {
        "duration": 22,
        "start_time": "2021-09-20T17:26:03.987Z"
      },
      {
        "duration": 57,
        "start_time": "2021-09-20T17:26:04.016Z"
      },
      {
        "duration": 22,
        "start_time": "2021-09-20T17:26:04.077Z"
      },
      {
        "duration": 760,
        "start_time": "2021-09-20T17:26:04.102Z"
      },
      {
        "duration": 20,
        "start_time": "2021-09-20T17:26:04.865Z"
      },
      {
        "duration": 8,
        "start_time": "2021-09-20T17:26:04.889Z"
      },
      {
        "duration": 38,
        "start_time": "2021-09-20T17:26:04.901Z"
      },
      {
        "duration": 53,
        "start_time": "2021-09-20T17:26:04.943Z"
      },
      {
        "duration": 36,
        "start_time": "2021-09-20T17:26:05.000Z"
      },
      {
        "duration": 32,
        "start_time": "2021-09-20T17:26:05.038Z"
      },
      {
        "duration": 360,
        "start_time": "2021-09-20T17:26:05.073Z"
      },
      {
        "duration": 360,
        "start_time": "2021-09-20T17:26:05.435Z"
      },
      {
        "duration": 12,
        "start_time": "2021-09-20T17:26:05.797Z"
      },
      {
        "duration": 426,
        "start_time": "2021-09-20T17:26:05.811Z"
      },
      {
        "duration": 30,
        "start_time": "2021-09-20T17:26:06.240Z"
      },
      {
        "duration": 30,
        "start_time": "2021-09-20T17:26:06.273Z"
      },
      {
        "duration": 63,
        "start_time": "2021-09-20T17:26:06.312Z"
      },
      {
        "duration": 14,
        "start_time": "2021-09-20T17:26:06.379Z"
      },
      {
        "duration": 16,
        "start_time": "2021-09-20T17:26:06.395Z"
      },
      {
        "duration": 50,
        "start_time": "2021-09-20T17:26:06.413Z"
      },
      {
        "duration": 33,
        "start_time": "2021-09-20T17:26:06.466Z"
      },
      {
        "duration": 8,
        "start_time": "2021-09-20T17:26:06.501Z"
      },
      {
        "duration": 48,
        "start_time": "2021-09-20T17:26:06.513Z"
      },
      {
        "duration": 32,
        "start_time": "2021-09-20T17:26:06.565Z"
      },
      {
        "duration": 96,
        "start_time": "2021-09-20T17:26:06.600Z"
      },
      {
        "duration": 68,
        "start_time": "2021-09-20T17:26:06.699Z"
      },
      {
        "duration": 12,
        "start_time": "2021-09-20T17:26:06.770Z"
      },
      {
        "duration": 3469,
        "start_time": "2021-09-20T17:26:06.785Z"
      },
      {
        "duration": 21,
        "start_time": "2021-09-20T17:26:10.261Z"
      },
      {
        "duration": 28,
        "start_time": "2021-09-20T17:26:10.285Z"
      },
      {
        "duration": 1139,
        "start_time": "2021-09-20T17:28:35.522Z"
      },
      {
        "duration": 892,
        "start_time": "2021-09-20T17:29:55.133Z"
      },
      {
        "duration": 40,
        "start_time": "2021-09-20T17:30:13.429Z"
      },
      {
        "duration": 9,
        "start_time": "2021-09-20T17:30:18.452Z"
      },
      {
        "duration": 12,
        "start_time": "2021-09-20T17:30:36.996Z"
      },
      {
        "duration": 52,
        "start_time": "2021-09-20T17:30:51.580Z"
      },
      {
        "duration": 11,
        "start_time": "2021-09-20T17:31:12.796Z"
      },
      {
        "duration": 15,
        "start_time": "2021-09-20T17:31:19.204Z"
      },
      {
        "duration": 30,
        "start_time": "2021-09-20T17:31:42.628Z"
      },
      {
        "duration": 81,
        "start_time": "2021-09-20T17:31:48.909Z"
      },
      {
        "duration": 884,
        "start_time": "2021-09-20T17:32:06.753Z"
      },
      {
        "duration": 39,
        "start_time": "2021-09-20T17:32:14.232Z"
      },
      {
        "duration": 10,
        "start_time": "2021-09-20T17:32:23.424Z"
      },
      {
        "duration": 12,
        "start_time": "2021-09-20T17:32:41.632Z"
      },
      {
        "duration": 50,
        "start_time": "2021-09-20T17:33:27.017Z"
      },
      {
        "duration": 12,
        "start_time": "2021-09-20T17:33:35.144Z"
      },
      {
        "duration": 16,
        "start_time": "2021-09-20T17:33:37.384Z"
      },
      {
        "duration": 13,
        "start_time": "2021-09-20T17:34:03.577Z"
      },
      {
        "duration": 14,
        "start_time": "2021-09-20T17:34:10.617Z"
      },
      {
        "duration": 431,
        "start_time": "2021-09-20T17:34:16.296Z"
      },
      {
        "duration": 13,
        "start_time": "2021-09-20T17:34:20.001Z"
      },
      {
        "duration": 7,
        "start_time": "2021-09-20T17:34:22.849Z"
      },
      {
        "duration": 10,
        "start_time": "2021-09-20T17:34:26.720Z"
      },
      {
        "duration": 21,
        "start_time": "2021-09-20T17:34:31.205Z"
      },
      {
        "duration": 34,
        "start_time": "2021-09-20T17:34:34.001Z"
      },
      {
        "duration": 15,
        "start_time": "2021-09-20T17:34:36.984Z"
      },
      {
        "duration": 340,
        "start_time": "2021-09-20T17:34:39.952Z"
      },
      {
        "duration": 345,
        "start_time": "2021-09-20T17:34:56.953Z"
      },
      {
        "duration": 12,
        "start_time": "2021-09-20T17:35:02.105Z"
      },
      {
        "duration": 519,
        "start_time": "2021-09-20T17:35:04.673Z"
      },
      {
        "duration": 16,
        "start_time": "2021-09-20T17:35:08.874Z"
      },
      {
        "duration": 30,
        "start_time": "2021-09-20T17:35:20.024Z"
      },
      {
        "duration": 25,
        "start_time": "2021-09-20T17:35:28.059Z"
      },
      {
        "duration": 11,
        "start_time": "2021-09-20T17:35:33.057Z"
      },
      {
        "duration": 14,
        "start_time": "2021-09-20T17:35:42.785Z"
      },
      {
        "duration": 12,
        "start_time": "2021-09-20T17:36:18.704Z"
      },
      {
        "duration": 43,
        "start_time": "2021-09-20T17:36:23.250Z"
      },
      {
        "duration": 8,
        "start_time": "2021-09-20T17:36:37.688Z"
      },
      {
        "duration": 28,
        "start_time": "2021-09-20T17:36:43.112Z"
      },
      {
        "duration": 31,
        "start_time": "2021-09-20T17:36:49.568Z"
      },
      {
        "duration": 60,
        "start_time": "2021-09-20T17:37:01.501Z"
      },
      {
        "duration": 48,
        "start_time": "2021-09-20T17:37:45.473Z"
      },
      {
        "duration": 10,
        "start_time": "2021-09-20T17:38:33.529Z"
      },
      {
        "duration": 3546,
        "start_time": "2021-09-20T17:38:37.337Z"
      },
      {
        "duration": 17,
        "start_time": "2021-09-20T17:38:48.193Z"
      },
      {
        "duration": 348,
        "start_time": "2021-09-20T17:40:35.753Z"
      },
      {
        "duration": 14,
        "start_time": "2021-09-20T17:40:44.497Z"
      },
      {
        "duration": 13,
        "start_time": "2021-09-20T17:42:51.218Z"
      },
      {
        "duration": 9,
        "start_time": "2021-09-20T17:43:55.897Z"
      },
      {
        "duration": 292,
        "start_time": "2021-09-20T17:45:10.489Z"
      },
      {
        "duration": 15,
        "start_time": "2021-09-20T17:46:01.787Z"
      },
      {
        "duration": 305,
        "start_time": "2021-09-20T17:47:49.897Z"
      },
      {
        "duration": 17,
        "start_time": "2021-09-20T17:48:13.480Z"
      },
      {
        "duration": 11,
        "start_time": "2021-09-20T17:50:41.378Z"
      },
      {
        "duration": 14,
        "start_time": "2021-09-20T17:51:29.737Z"
      },
      {
        "duration": 977,
        "start_time": "2021-09-20T17:51:43.784Z"
      },
      {
        "duration": 42,
        "start_time": "2021-09-20T17:51:44.764Z"
      },
      {
        "duration": 11,
        "start_time": "2021-09-20T17:51:44.809Z"
      },
      {
        "duration": 44,
        "start_time": "2021-09-20T17:51:44.823Z"
      },
      {
        "duration": 59,
        "start_time": "2021-09-20T17:51:44.871Z"
      },
      {
        "duration": 34,
        "start_time": "2021-09-20T17:51:44.932Z"
      },
      {
        "duration": 17,
        "start_time": "2021-09-20T17:51:44.968Z"
      },
      {
        "duration": 17,
        "start_time": "2021-09-20T17:51:44.992Z"
      },
      {
        "duration": 63,
        "start_time": "2021-09-20T17:51:45.014Z"
      },
      {
        "duration": 460,
        "start_time": "2021-09-20T17:51:45.081Z"
      },
      {
        "duration": 23,
        "start_time": "2021-09-20T17:51:45.544Z"
      },
      {
        "duration": 7,
        "start_time": "2021-09-20T17:51:45.569Z"
      },
      {
        "duration": 13,
        "start_time": "2021-09-20T17:51:45.578Z"
      },
      {
        "duration": 22,
        "start_time": "2021-09-20T17:51:45.594Z"
      },
      {
        "duration": 67,
        "start_time": "2021-09-20T17:51:45.619Z"
      },
      {
        "duration": 19,
        "start_time": "2021-09-20T17:51:45.689Z"
      },
      {
        "duration": 392,
        "start_time": "2021-09-20T17:51:45.711Z"
      },
      {
        "duration": 350,
        "start_time": "2021-09-20T17:51:46.106Z"
      },
      {
        "duration": 14,
        "start_time": "2021-09-20T17:51:46.462Z"
      },
      {
        "duration": 427,
        "start_time": "2021-09-20T17:51:46.478Z"
      },
      {
        "duration": 17,
        "start_time": "2021-09-20T17:51:46.907Z"
      },
      {
        "duration": 52,
        "start_time": "2021-09-20T17:51:46.926Z"
      },
      {
        "duration": 25,
        "start_time": "2021-09-20T17:51:46.984Z"
      },
      {
        "duration": 21,
        "start_time": "2021-09-20T17:51:47.012Z"
      },
      {
        "duration": 35,
        "start_time": "2021-09-20T17:51:47.036Z"
      },
      {
        "duration": 18,
        "start_time": "2021-09-20T17:51:47.073Z"
      },
      {
        "duration": 41,
        "start_time": "2021-09-20T17:51:47.094Z"
      },
      {
        "duration": 29,
        "start_time": "2021-09-20T17:51:47.137Z"
      },
      {
        "duration": 17,
        "start_time": "2021-09-20T17:51:47.168Z"
      },
      {
        "duration": 30,
        "start_time": "2021-09-20T17:51:47.189Z"
      },
      {
        "duration": 88,
        "start_time": "2021-09-20T17:51:47.221Z"
      },
      {
        "duration": 71,
        "start_time": "2021-09-20T17:51:47.311Z"
      },
      {
        "duration": 11,
        "start_time": "2021-09-20T17:51:47.385Z"
      },
      {
        "duration": 5517,
        "start_time": "2021-09-20T17:51:47.400Z"
      },
      {
        "duration": 18,
        "start_time": "2021-09-20T17:51:52.920Z"
      },
      {
        "duration": 33,
        "start_time": "2021-09-20T17:51:52.941Z"
      },
      {
        "duration": 23,
        "start_time": "2021-09-20T17:51:52.976Z"
      },
      {
        "duration": 13,
        "start_time": "2021-09-20T17:53:15.481Z"
      },
      {
        "duration": 14,
        "start_time": "2021-09-20T17:53:38.019Z"
      },
      {
        "duration": 19,
        "start_time": "2021-09-20T17:53:44.655Z"
      },
      {
        "duration": 14,
        "start_time": "2021-09-20T17:54:49.425Z"
      },
      {
        "duration": 7,
        "start_time": "2021-09-20T17:55:36.296Z"
      },
      {
        "duration": 14,
        "start_time": "2021-09-20T17:55:47.351Z"
      },
      {
        "duration": 364,
        "start_time": "2021-09-20T17:59:40.705Z"
      },
      {
        "duration": 15,
        "start_time": "2021-09-20T18:00:11.464Z"
      },
      {
        "duration": 20,
        "start_time": "2021-09-20T18:00:36.432Z"
      },
      {
        "duration": 13,
        "start_time": "2021-09-20T18:00:45.410Z"
      },
      {
        "duration": 17,
        "start_time": "2021-09-20T18:00:55.792Z"
      },
      {
        "duration": 18,
        "start_time": "2021-09-20T18:01:51.219Z"
      },
      {
        "duration": 735,
        "start_time": "2021-09-20T18:02:59.985Z"
      },
      {
        "duration": 29,
        "start_time": "2021-09-20T18:10:25.352Z"
      },
      {
        "duration": 6813,
        "start_time": "2021-09-20T18:10:52.738Z"
      },
      {
        "duration": 28,
        "start_time": "2021-09-20T18:11:14.665Z"
      },
      {
        "duration": 297,
        "start_time": "2021-09-20T18:12:18.674Z"
      },
      {
        "duration": 30,
        "start_time": "2021-09-20T18:12:27.377Z"
      },
      {
        "duration": 25,
        "start_time": "2021-09-20T18:12:46.771Z"
      },
      {
        "duration": 18,
        "start_time": "2021-09-20T18:13:04.857Z"
      },
      {
        "duration": 13,
        "start_time": "2021-09-20T18:13:19.856Z"
      },
      {
        "duration": 36,
        "start_time": "2021-09-20T18:14:19.752Z"
      },
      {
        "duration": 31,
        "start_time": "2021-09-20T18:14:31.511Z"
      },
      {
        "duration": 882,
        "start_time": "2021-09-20T18:15:33.408Z"
      },
      {
        "duration": 40,
        "start_time": "2021-09-20T18:15:34.294Z"
      },
      {
        "duration": 28,
        "start_time": "2021-09-20T18:15:34.337Z"
      },
      {
        "duration": 31,
        "start_time": "2021-09-20T18:15:34.368Z"
      },
      {
        "duration": 62,
        "start_time": "2021-09-20T18:15:34.402Z"
      },
      {
        "duration": 10,
        "start_time": "2021-09-20T18:15:34.467Z"
      },
      {
        "duration": 50,
        "start_time": "2021-09-20T18:15:34.479Z"
      },
      {
        "duration": 23,
        "start_time": "2021-09-20T18:15:34.535Z"
      },
      {
        "duration": 22,
        "start_time": "2021-09-20T18:15:34.562Z"
      },
      {
        "duration": 719,
        "start_time": "2021-09-20T18:15:34.588Z"
      },
      {
        "duration": 14,
        "start_time": "2021-09-20T18:15:35.310Z"
      },
      {
        "duration": 7,
        "start_time": "2021-09-20T18:15:35.326Z"
      },
      {
        "duration": 11,
        "start_time": "2021-09-20T18:15:35.362Z"
      },
      {
        "duration": 24,
        "start_time": "2021-09-20T18:15:35.375Z"
      },
      {
        "duration": 61,
        "start_time": "2021-09-20T18:15:35.401Z"
      },
      {
        "duration": 15,
        "start_time": "2021-09-20T18:15:35.465Z"
      },
      {
        "duration": 492,
        "start_time": "2021-09-20T18:15:35.483Z"
      },
      {
        "duration": 484,
        "start_time": "2021-09-20T18:15:35.978Z"
      },
      {
        "duration": 13,
        "start_time": "2021-09-20T18:15:36.464Z"
      },
      {
        "duration": 426,
        "start_time": "2021-09-20T18:15:36.480Z"
      },
      {
        "duration": 17,
        "start_time": "2021-09-20T18:15:36.909Z"
      },
      {
        "duration": 52,
        "start_time": "2021-09-20T18:15:36.928Z"
      },
      {
        "duration": 39,
        "start_time": "2021-09-20T18:15:36.986Z"
      },
      {
        "duration": 18,
        "start_time": "2021-09-20T18:15:37.029Z"
      },
      {
        "duration": 22,
        "start_time": "2021-09-20T18:15:37.050Z"
      },
      {
        "duration": 26,
        "start_time": "2021-09-20T18:15:37.076Z"
      },
      {
        "duration": 49,
        "start_time": "2021-09-20T18:15:37.105Z"
      },
      {
        "duration": 8,
        "start_time": "2021-09-20T18:15:37.161Z"
      },
      {
        "duration": 28,
        "start_time": "2021-09-20T18:15:37.171Z"
      },
      {
        "duration": 42,
        "start_time": "2021-09-20T18:15:37.202Z"
      },
      {
        "duration": 61,
        "start_time": "2021-09-20T18:15:37.246Z"
      },
      {
        "duration": 63,
        "start_time": "2021-09-20T18:15:37.310Z"
      },
      {
        "duration": 9,
        "start_time": "2021-09-20T18:15:37.376Z"
      },
      {
        "duration": 3359,
        "start_time": "2021-09-20T18:15:37.388Z"
      },
      {
        "duration": 21,
        "start_time": "2021-09-20T18:15:40.750Z"
      },
      {
        "duration": 35,
        "start_time": "2021-09-20T18:15:40.773Z"
      },
      {
        "duration": 30,
        "start_time": "2021-09-20T18:15:40.811Z"
      },
      {
        "duration": 22,
        "start_time": "2021-09-20T18:15:40.844Z"
      },
      {
        "duration": 55,
        "start_time": "2021-09-20T18:15:40.869Z"
      },
      {
        "duration": 13,
        "start_time": "2021-09-20T18:17:40.885Z"
      },
      {
        "duration": 22,
        "start_time": "2021-09-20T18:18:21.629Z"
      },
      {
        "duration": 886,
        "start_time": "2021-09-20T18:18:31.578Z"
      },
      {
        "duration": 41,
        "start_time": "2021-09-20T18:18:32.467Z"
      },
      {
        "duration": 9,
        "start_time": "2021-09-20T18:18:32.511Z"
      },
      {
        "duration": 45,
        "start_time": "2021-09-20T18:18:32.523Z"
      },
      {
        "duration": 52,
        "start_time": "2021-09-20T18:18:32.571Z"
      },
      {
        "duration": 39,
        "start_time": "2021-09-20T18:18:32.627Z"
      },
      {
        "duration": 17,
        "start_time": "2021-09-20T18:18:32.670Z"
      },
      {
        "duration": 14,
        "start_time": "2021-09-20T18:18:32.693Z"
      },
      {
        "duration": 61,
        "start_time": "2021-09-20T18:18:32.712Z"
      },
      {
        "duration": 732,
        "start_time": "2021-09-20T18:18:32.777Z"
      },
      {
        "duration": 21,
        "start_time": "2021-09-20T18:18:33.512Z"
      },
      {
        "duration": 34,
        "start_time": "2021-09-20T18:18:33.536Z"
      },
      {
        "duration": 12,
        "start_time": "2021-09-20T18:18:33.573Z"
      },
      {
        "duration": 24,
        "start_time": "2021-09-20T18:18:33.588Z"
      },
      {
        "duration": 68,
        "start_time": "2021-09-20T18:18:33.616Z"
      },
      {
        "duration": 17,
        "start_time": "2021-09-20T18:18:33.687Z"
      },
      {
        "duration": 444,
        "start_time": "2021-09-20T18:18:33.708Z"
      },
      {
        "duration": 370,
        "start_time": "2021-09-20T18:18:34.155Z"
      },
      {
        "duration": 11,
        "start_time": "2021-09-20T18:18:34.528Z"
      },
      {
        "duration": 560,
        "start_time": "2021-09-20T18:18:34.542Z"
      },
      {
        "duration": 66,
        "start_time": "2021-09-20T18:18:35.105Z"
      },
      {
        "duration": 33,
        "start_time": "2021-09-20T18:18:35.173Z"
      },
      {
        "duration": 62,
        "start_time": "2021-09-20T18:18:35.210Z"
      },
      {
        "duration": 16,
        "start_time": "2021-09-20T18:18:35.275Z"
      },
      {
        "duration": 25,
        "start_time": "2021-09-20T18:18:35.294Z"
      },
      {
        "duration": 17,
        "start_time": "2021-09-20T18:18:35.321Z"
      },
      {
        "duration": 50,
        "start_time": "2021-09-20T18:18:35.340Z"
      },
      {
        "duration": 9,
        "start_time": "2021-09-20T18:18:35.393Z"
      },
      {
        "duration": 66,
        "start_time": "2021-09-20T18:18:35.405Z"
      },
      {
        "duration": 29,
        "start_time": "2021-09-20T18:18:35.474Z"
      },
      {
        "duration": 96,
        "start_time": "2021-09-20T18:18:35.505Z"
      },
      {
        "duration": 102,
        "start_time": "2021-09-20T18:18:35.603Z"
      },
      {
        "duration": 10,
        "start_time": "2021-09-20T18:18:35.707Z"
      },
      {
        "duration": 3525,
        "start_time": "2021-09-20T18:18:35.719Z"
      },
      {
        "duration": 21,
        "start_time": "2021-09-20T18:18:39.247Z"
      },
      {
        "duration": 16,
        "start_time": "2021-09-20T18:18:39.270Z"
      },
      {
        "duration": 16,
        "start_time": "2021-09-20T18:18:39.289Z"
      },
      {
        "duration": 24,
        "start_time": "2021-09-20T18:18:39.309Z"
      },
      {
        "duration": 34,
        "start_time": "2021-09-20T18:18:39.362Z"
      },
      {
        "duration": 389,
        "start_time": "2021-09-20T18:24:07.525Z"
      },
      {
        "duration": 346,
        "start_time": "2021-09-20T18:25:06.110Z"
      },
      {
        "duration": 34,
        "start_time": "2021-09-20T18:26:17.343Z"
      },
      {
        "duration": 27,
        "start_time": "2021-09-20T18:26:41.210Z"
      },
      {
        "duration": 249,
        "start_time": "2021-09-20T18:26:48.342Z"
      },
      {
        "duration": 29,
        "start_time": "2021-09-20T18:27:14.904Z"
      },
      {
        "duration": 75,
        "start_time": "2021-09-20T18:29:21.208Z"
      },
      {
        "duration": 72,
        "start_time": "2021-09-20T18:30:24.152Z"
      },
      {
        "duration": 7,
        "start_time": "2021-09-20T18:37:10.521Z"
      },
      {
        "duration": 30,
        "start_time": "2021-09-20T18:37:13.791Z"
      },
      {
        "duration": 73,
        "start_time": "2021-09-20T18:37:42.851Z"
      },
      {
        "duration": 74,
        "start_time": "2021-09-20T18:38:21.081Z"
      },
      {
        "duration": 81,
        "start_time": "2021-09-20T18:39:53.249Z"
      },
      {
        "duration": 82,
        "start_time": "2021-09-20T18:40:05.243Z"
      },
      {
        "duration": 931,
        "start_time": "2021-09-20T18:52:45.974Z"
      },
      {
        "duration": 58,
        "start_time": "2021-09-20T18:52:46.908Z"
      },
      {
        "duration": 12,
        "start_time": "2021-09-20T18:52:46.969Z"
      },
      {
        "duration": 20,
        "start_time": "2021-09-20T18:52:46.985Z"
      },
      {
        "duration": 103,
        "start_time": "2021-09-20T18:52:47.009Z"
      },
      {
        "duration": 12,
        "start_time": "2021-09-20T18:52:47.116Z"
      },
      {
        "duration": 43,
        "start_time": "2021-09-20T18:52:47.131Z"
      },
      {
        "duration": 19,
        "start_time": "2021-09-20T18:52:47.177Z"
      },
      {
        "duration": 34,
        "start_time": "2021-09-20T18:52:47.199Z"
      },
      {
        "duration": 745,
        "start_time": "2021-09-20T18:52:47.236Z"
      },
      {
        "duration": 19,
        "start_time": "2021-09-20T18:52:47.985Z"
      },
      {
        "duration": 23,
        "start_time": "2021-09-20T18:52:48.008Z"
      },
      {
        "duration": 35,
        "start_time": "2021-09-20T18:52:48.034Z"
      },
      {
        "duration": 35,
        "start_time": "2021-09-20T18:52:48.073Z"
      },
      {
        "duration": 68,
        "start_time": "2021-09-20T18:52:48.113Z"
      },
      {
        "duration": 16,
        "start_time": "2021-09-20T18:52:48.185Z"
      },
      {
        "duration": 362,
        "start_time": "2021-09-20T18:52:48.204Z"
      },
      {
        "duration": 355,
        "start_time": "2021-09-20T18:52:48.569Z"
      },
      {
        "duration": 11,
        "start_time": "2021-09-20T18:52:48.927Z"
      },
      {
        "duration": 513,
        "start_time": "2021-09-20T18:52:48.940Z"
      },
      {
        "duration": 21,
        "start_time": "2021-09-20T18:52:49.456Z"
      },
      {
        "duration": 31,
        "start_time": "2021-09-20T18:52:49.480Z"
      },
      {
        "duration": 58,
        "start_time": "2021-09-20T18:52:49.517Z"
      },
      {
        "duration": 13,
        "start_time": "2021-09-20T18:52:49.578Z"
      },
      {
        "duration": 15,
        "start_time": "2021-09-20T18:52:49.594Z"
      },
      {
        "duration": 51,
        "start_time": "2021-09-20T18:52:49.612Z"
      },
      {
        "duration": 32,
        "start_time": "2021-09-20T18:52:49.665Z"
      },
      {
        "duration": 8,
        "start_time": "2021-09-20T18:52:49.700Z"
      },
      {
        "duration": 53,
        "start_time": "2021-09-20T18:52:49.711Z"
      },
      {
        "duration": 45,
        "start_time": "2021-09-20T18:52:49.768Z"
      },
      {
        "duration": 82,
        "start_time": "2021-09-20T18:52:49.815Z"
      },
      {
        "duration": 62,
        "start_time": "2021-09-20T18:52:49.900Z"
      },
      {
        "duration": 11,
        "start_time": "2021-09-20T18:52:49.965Z"
      },
      {
        "duration": 3686,
        "start_time": "2021-09-20T18:52:49.979Z"
      },
      {
        "duration": 12,
        "start_time": "2021-09-20T18:52:53.669Z"
      },
      {
        "duration": 21,
        "start_time": "2021-09-20T18:52:53.684Z"
      },
      {
        "duration": 16,
        "start_time": "2021-09-20T18:52:53.708Z"
      },
      {
        "duration": 39,
        "start_time": "2021-09-20T18:52:53.727Z"
      },
      {
        "duration": 28,
        "start_time": "2021-09-20T18:52:53.769Z"
      },
      {
        "duration": 40,
        "start_time": "2021-09-20T18:52:53.800Z"
      },
      {
        "duration": 96,
        "start_time": "2021-09-20T18:52:53.843Z"
      },
      {
        "duration": 83,
        "start_time": "2021-09-20T18:52:53.942Z"
      },
      {
        "duration": 91,
        "start_time": "2021-09-20T18:52:54.028Z"
      },
      {
        "duration": 86,
        "start_time": "2021-09-20T18:52:54.121Z"
      },
      {
        "duration": 1128,
        "start_time": "2021-09-21T03:35:55.358Z"
      },
      {
        "duration": 25,
        "start_time": "2021-09-21T03:35:56.488Z"
      },
      {
        "duration": 7,
        "start_time": "2021-09-21T03:35:56.515Z"
      },
      {
        "duration": 7,
        "start_time": "2021-09-21T03:35:56.524Z"
      },
      {
        "duration": 32,
        "start_time": "2021-09-21T03:35:56.549Z"
      },
      {
        "duration": 6,
        "start_time": "2021-09-21T03:35:56.583Z"
      },
      {
        "duration": 12,
        "start_time": "2021-09-21T03:35:56.591Z"
      },
      {
        "duration": 12,
        "start_time": "2021-09-21T03:35:56.605Z"
      },
      {
        "duration": 33,
        "start_time": "2021-09-21T03:35:56.619Z"
      },
      {
        "duration": 244,
        "start_time": "2021-09-21T03:35:56.654Z"
      },
      {
        "duration": 8,
        "start_time": "2021-09-21T03:35:56.900Z"
      },
      {
        "duration": 4,
        "start_time": "2021-09-21T03:35:56.910Z"
      },
      {
        "duration": 8,
        "start_time": "2021-09-21T03:35:56.915Z"
      },
      {
        "duration": 30,
        "start_time": "2021-09-21T03:35:56.924Z"
      },
      {
        "duration": 17,
        "start_time": "2021-09-21T03:35:56.955Z"
      },
      {
        "duration": 8,
        "start_time": "2021-09-21T03:35:56.974Z"
      },
      {
        "duration": 197,
        "start_time": "2021-09-21T03:35:56.983Z"
      },
      {
        "duration": 195,
        "start_time": "2021-09-21T03:35:57.182Z"
      },
      {
        "duration": 9,
        "start_time": "2021-09-21T03:35:57.379Z"
      },
      {
        "duration": 246,
        "start_time": "2021-09-21T03:35:57.391Z"
      },
      {
        "duration": 20,
        "start_time": "2021-09-21T03:35:57.639Z"
      },
      {
        "duration": 20,
        "start_time": "2021-09-21T03:35:57.661Z"
      },
      {
        "duration": 17,
        "start_time": "2021-09-21T03:35:57.686Z"
      },
      {
        "duration": 9,
        "start_time": "2021-09-21T03:35:57.705Z"
      },
      {
        "duration": 41,
        "start_time": "2021-09-21T03:35:57.716Z"
      },
      {
        "duration": 9,
        "start_time": "2021-09-21T03:35:57.759Z"
      },
      {
        "duration": 21,
        "start_time": "2021-09-21T03:35:57.770Z"
      },
      {
        "duration": 5,
        "start_time": "2021-09-21T03:35:57.793Z"
      },
      {
        "duration": 16,
        "start_time": "2021-09-21T03:35:57.800Z"
      },
      {
        "duration": 19,
        "start_time": "2021-09-21T03:35:57.850Z"
      },
      {
        "duration": 34,
        "start_time": "2021-09-21T03:35:57.871Z"
      },
      {
        "duration": 58,
        "start_time": "2021-09-21T03:35:57.908Z"
      },
      {
        "duration": 7,
        "start_time": "2021-09-21T03:35:57.968Z"
      },
      {
        "duration": 2734,
        "start_time": "2021-09-21T03:35:57.977Z"
      },
      {
        "duration": 13,
        "start_time": "2021-09-21T03:36:00.713Z"
      },
      {
        "duration": 22,
        "start_time": "2021-09-21T03:36:00.728Z"
      },
      {
        "duration": 14,
        "start_time": "2021-09-21T03:36:00.753Z"
      },
      {
        "duration": 13,
        "start_time": "2021-09-21T03:36:00.769Z"
      },
      {
        "duration": 12,
        "start_time": "2021-09-21T03:36:00.784Z"
      },
      {
        "duration": 37,
        "start_time": "2021-09-21T03:36:00.798Z"
      },
      {
        "duration": 79,
        "start_time": "2021-09-21T03:36:00.837Z"
      },
      {
        "duration": 74,
        "start_time": "2021-09-21T03:36:00.917Z"
      },
      {
        "duration": 80,
        "start_time": "2021-09-21T03:36:00.993Z"
      },
      {
        "duration": 63,
        "start_time": "2021-09-21T03:36:01.075Z"
      },
      {
        "duration": 326,
        "start_time": "2021-09-21T03:36:32.813Z"
      },
      {
        "duration": 41,
        "start_time": "2021-09-21T03:36:40.885Z"
      },
      {
        "duration": 173,
        "start_time": "2021-09-21T04:10:16.193Z"
      },
      {
        "duration": 601,
        "start_time": "2021-09-21T04:10:28.896Z"
      },
      {
        "duration": 23,
        "start_time": "2021-09-21T04:10:29.498Z"
      },
      {
        "duration": 6,
        "start_time": "2021-09-21T04:10:29.524Z"
      },
      {
        "duration": 20,
        "start_time": "2021-09-21T04:10:29.532Z"
      },
      {
        "duration": 32,
        "start_time": "2021-09-21T04:10:29.554Z"
      },
      {
        "duration": 7,
        "start_time": "2021-09-21T04:10:29.587Z"
      },
      {
        "duration": 9,
        "start_time": "2021-09-21T04:10:29.596Z"
      },
      {
        "duration": 44,
        "start_time": "2021-09-21T04:10:29.608Z"
      },
      {
        "duration": 10,
        "start_time": "2021-09-21T04:10:29.653Z"
      },
      {
        "duration": 250,
        "start_time": "2021-09-21T04:10:29.664Z"
      },
      {
        "duration": 8,
        "start_time": "2021-09-21T04:10:29.916Z"
      },
      {
        "duration": 4,
        "start_time": "2021-09-21T04:10:29.926Z"
      },
      {
        "duration": 20,
        "start_time": "2021-09-21T04:10:29.931Z"
      },
      {
        "duration": 14,
        "start_time": "2021-09-21T04:10:29.953Z"
      },
      {
        "duration": 15,
        "start_time": "2021-09-21T04:10:29.969Z"
      },
      {
        "duration": 200,
        "start_time": "2021-09-21T04:10:29.985Z"
      },
      {
        "duration": 187,
        "start_time": "2021-09-21T04:10:30.187Z"
      },
      {
        "duration": 254,
        "start_time": "2021-09-21T04:10:30.376Z"
      },
      {
        "duration": 10,
        "start_time": "2021-09-21T04:10:30.631Z"
      },
      {
        "duration": 196,
        "start_time": "2021-09-21T04:10:30.649Z"
      },
      {
        "duration": 13,
        "start_time": "2021-09-21T04:10:30.847Z"
      },
      {
        "duration": 29,
        "start_time": "2021-09-21T04:10:30.864Z"
      },
      {
        "duration": 17,
        "start_time": "2021-09-21T04:10:30.896Z"
      },
      {
        "duration": 36,
        "start_time": "2021-09-21T04:10:30.915Z"
      },
      {
        "duration": 10,
        "start_time": "2021-09-21T04:10:30.953Z"
      },
      {
        "duration": 20,
        "start_time": "2021-09-21T04:10:30.964Z"
      },
      {
        "duration": 20,
        "start_time": "2021-09-21T04:10:30.986Z"
      },
      {
        "duration": 5,
        "start_time": "2021-09-21T04:10:31.008Z"
      },
      {
        "duration": 13,
        "start_time": "2021-09-21T04:10:31.015Z"
      },
      {
        "duration": 27,
        "start_time": "2021-09-21T04:10:31.051Z"
      },
      {
        "duration": 49,
        "start_time": "2021-09-21T04:10:31.081Z"
      },
      {
        "duration": 46,
        "start_time": "2021-09-21T04:10:31.149Z"
      },
      {
        "duration": 9,
        "start_time": "2021-09-21T04:10:31.197Z"
      },
      {
        "duration": 2624,
        "start_time": "2021-09-21T04:10:31.208Z"
      },
      {
        "duration": 21,
        "start_time": "2021-09-21T04:10:33.834Z"
      },
      {
        "duration": 12,
        "start_time": "2021-09-21T04:10:33.857Z"
      },
      {
        "duration": 14,
        "start_time": "2021-09-21T04:10:33.870Z"
      },
      {
        "duration": 12,
        "start_time": "2021-09-21T04:10:33.886Z"
      },
      {
        "duration": 9,
        "start_time": "2021-09-21T04:10:33.900Z"
      },
      {
        "duration": 46,
        "start_time": "2021-09-21T04:10:33.911Z"
      },
      {
        "duration": 69,
        "start_time": "2021-09-21T04:10:33.959Z"
      },
      {
        "duration": 75,
        "start_time": "2021-09-21T04:10:34.030Z"
      },
      {
        "duration": 81,
        "start_time": "2021-09-21T04:10:34.107Z"
      },
      {
        "duration": 67,
        "start_time": "2021-09-21T04:10:34.190Z"
      },
      {
        "duration": 645,
        "start_time": "2021-09-21T04:11:04.797Z"
      },
      {
        "duration": 23,
        "start_time": "2021-09-21T04:11:05.444Z"
      },
      {
        "duration": 6,
        "start_time": "2021-09-21T04:11:05.470Z"
      },
      {
        "duration": 10,
        "start_time": "2021-09-21T04:11:05.477Z"
      },
      {
        "duration": 31,
        "start_time": "2021-09-21T04:11:05.488Z"
      },
      {
        "duration": 34,
        "start_time": "2021-09-21T04:11:05.521Z"
      },
      {
        "duration": 12,
        "start_time": "2021-09-21T04:11:05.557Z"
      },
      {
        "duration": 9,
        "start_time": "2021-09-21T04:11:05.572Z"
      },
      {
        "duration": 14,
        "start_time": "2021-09-21T04:11:05.583Z"
      },
      {
        "duration": 272,
        "start_time": "2021-09-21T04:11:05.599Z"
      },
      {
        "duration": 9,
        "start_time": "2021-09-21T04:11:05.872Z"
      },
      {
        "duration": 8,
        "start_time": "2021-09-21T04:11:05.882Z"
      },
      {
        "duration": 16,
        "start_time": "2021-09-21T04:11:05.891Z"
      },
      {
        "duration": 19,
        "start_time": "2021-09-21T04:11:05.909Z"
      },
      {
        "duration": 34,
        "start_time": "2021-09-21T04:11:05.930Z"
      },
      {
        "duration": 187,
        "start_time": "2021-09-21T04:11:05.966Z"
      },
      {
        "duration": 187,
        "start_time": "2021-09-21T04:11:06.155Z"
      },
      {
        "duration": 244,
        "start_time": "2021-09-21T04:11:06.344Z"
      },
      {
        "duration": 9,
        "start_time": "2021-09-21T04:11:06.590Z"
      },
      {
        "duration": 209,
        "start_time": "2021-09-21T04:11:06.600Z"
      },
      {
        "duration": 12,
        "start_time": "2021-09-21T04:11:06.811Z"
      },
      {
        "duration": 38,
        "start_time": "2021-09-21T04:11:06.825Z"
      },
      {
        "duration": 17,
        "start_time": "2021-09-21T04:11:06.868Z"
      },
      {
        "duration": 9,
        "start_time": "2021-09-21T04:11:06.888Z"
      },
      {
        "duration": 9,
        "start_time": "2021-09-21T04:11:06.899Z"
      },
      {
        "duration": 44,
        "start_time": "2021-09-21T04:11:06.910Z"
      },
      {
        "duration": 22,
        "start_time": "2021-09-21T04:11:06.957Z"
      },
      {
        "duration": 5,
        "start_time": "2021-09-21T04:11:06.981Z"
      },
      {
        "duration": 11,
        "start_time": "2021-09-21T04:11:06.988Z"
      },
      {
        "duration": 49,
        "start_time": "2021-09-21T04:11:07.001Z"
      },
      {
        "duration": 35,
        "start_time": "2021-09-21T04:11:07.052Z"
      },
      {
        "duration": 34,
        "start_time": "2021-09-21T04:11:07.089Z"
      },
      {
        "duration": 7,
        "start_time": "2021-09-21T04:11:07.150Z"
      },
      {
        "duration": 2533,
        "start_time": "2021-09-21T04:11:07.160Z"
      },
      {
        "duration": 9,
        "start_time": "2021-09-21T04:11:09.695Z"
      },
      {
        "duration": 14,
        "start_time": "2021-09-21T04:11:09.706Z"
      },
      {
        "duration": 11,
        "start_time": "2021-09-21T04:11:09.721Z"
      },
      {
        "duration": 9,
        "start_time": "2021-09-21T04:11:09.748Z"
      },
      {
        "duration": 14,
        "start_time": "2021-09-21T04:11:09.759Z"
      },
      {
        "duration": 23,
        "start_time": "2021-09-21T04:11:09.774Z"
      },
      {
        "duration": 52,
        "start_time": "2021-09-21T04:11:09.798Z"
      },
      {
        "duration": 37,
        "start_time": "2021-09-21T04:11:09.852Z"
      },
      {
        "duration": 41,
        "start_time": "2021-09-21T04:11:09.891Z"
      },
      {
        "duration": 55,
        "start_time": "2021-09-21T04:11:09.933Z"
      },
      {
        "duration": 445,
        "start_time": "2021-09-21T05:03:11.677Z"
      },
      {
        "duration": 28,
        "start_time": "2021-09-21T05:03:29.549Z"
      },
      {
        "duration": 27,
        "start_time": "2021-09-21T05:03:34.634Z"
      },
      {
        "duration": 27,
        "start_time": "2021-09-21T05:04:35.939Z"
      },
      {
        "duration": 28,
        "start_time": "2021-09-21T05:04:42.738Z"
      },
      {
        "duration": 31,
        "start_time": "2021-09-21T05:05:18.555Z"
      },
      {
        "duration": 21,
        "start_time": "2021-09-21T05:06:12.915Z"
      },
      {
        "duration": 19,
        "start_time": "2021-09-21T05:06:34.971Z"
      },
      {
        "duration": 83,
        "start_time": "2021-09-21T05:07:27.298Z"
      },
      {
        "duration": 22,
        "start_time": "2021-09-21T05:07:32.971Z"
      },
      {
        "duration": 76,
        "start_time": "2021-09-21T05:08:04.827Z"
      },
      {
        "duration": 21,
        "start_time": "2021-09-21T05:08:51.386Z"
      },
      {
        "duration": 40,
        "start_time": "2021-09-21T05:12:31.739Z"
      },
      {
        "duration": 22,
        "start_time": "2021-09-21T05:15:30.509Z"
      },
      {
        "duration": 21,
        "start_time": "2021-09-21T05:19:14.020Z"
      },
      {
        "duration": 19,
        "start_time": "2021-09-21T05:20:16.796Z"
      },
      {
        "duration": 22,
        "start_time": "2021-09-21T05:20:34.755Z"
      },
      {
        "duration": 22,
        "start_time": "2021-09-21T05:24:41.340Z"
      },
      {
        "duration": 13,
        "start_time": "2021-09-21T05:49:20.709Z"
      },
      {
        "duration": 662,
        "start_time": "2021-09-21T05:53:58.529Z"
      },
      {
        "duration": 25,
        "start_time": "2021-09-21T05:53:59.193Z"
      },
      {
        "duration": 7,
        "start_time": "2021-09-21T05:53:59.220Z"
      },
      {
        "duration": 25,
        "start_time": "2021-09-21T05:53:59.229Z"
      },
      {
        "duration": 32,
        "start_time": "2021-09-21T05:53:59.256Z"
      },
      {
        "duration": 6,
        "start_time": "2021-09-21T05:53:59.290Z"
      },
      {
        "duration": 9,
        "start_time": "2021-09-21T05:53:59.298Z"
      },
      {
        "duration": 8,
        "start_time": "2021-09-21T05:53:59.309Z"
      },
      {
        "duration": 11,
        "start_time": "2021-09-21T05:53:59.350Z"
      },
      {
        "duration": 246,
        "start_time": "2021-09-21T05:53:59.363Z"
      },
      {
        "duration": 10,
        "start_time": "2021-09-21T05:53:59.610Z"
      },
      {
        "duration": 5,
        "start_time": "2021-09-21T05:53:59.622Z"
      },
      {
        "duration": 30,
        "start_time": "2021-09-21T05:53:59.628Z"
      },
      {
        "duration": 18,
        "start_time": "2021-09-21T05:53:59.660Z"
      },
      {
        "duration": 24,
        "start_time": "2021-09-21T05:53:59.680Z"
      },
      {
        "duration": 288,
        "start_time": "2021-09-21T05:53:59.706Z"
      },
      {
        "duration": 282,
        "start_time": "2021-09-21T05:53:59.997Z"
      },
      {
        "duration": 250,
        "start_time": "2021-09-21T05:54:00.281Z"
      },
      {
        "duration": 17,
        "start_time": "2021-09-21T05:54:00.534Z"
      },
      {
        "duration": 196,
        "start_time": "2021-09-21T05:54:00.553Z"
      },
      {
        "duration": 13,
        "start_time": "2021-09-21T05:54:00.750Z"
      },
      {
        "duration": 27,
        "start_time": "2021-09-21T05:54:00.764Z"
      },
      {
        "duration": 17,
        "start_time": "2021-09-21T05:54:00.796Z"
      },
      {
        "duration": 35,
        "start_time": "2021-09-21T05:54:00.815Z"
      },
      {
        "duration": 10,
        "start_time": "2021-09-21T05:54:00.853Z"
      },
      {
        "duration": 20,
        "start_time": "2021-09-21T05:54:00.865Z"
      },
      {
        "duration": 25,
        "start_time": "2021-09-21T05:54:00.887Z"
      },
      {
        "duration": 4,
        "start_time": "2021-09-21T05:54:00.914Z"
      },
      {
        "duration": 18,
        "start_time": "2021-09-21T05:54:00.920Z"
      },
      {
        "duration": 28,
        "start_time": "2021-09-21T05:54:00.940Z"
      },
      {
        "duration": 34,
        "start_time": "2021-09-21T05:54:00.970Z"
      },
      {
        "duration": 55,
        "start_time": "2021-09-21T05:54:01.006Z"
      },
      {
        "duration": 6,
        "start_time": "2021-09-21T05:54:01.063Z"
      },
      {
        "duration": 2442,
        "start_time": "2021-09-21T05:54:01.070Z"
      },
      {
        "duration": 8,
        "start_time": "2021-09-21T05:54:03.514Z"
      },
      {
        "duration": 13,
        "start_time": "2021-09-21T05:54:03.524Z"
      },
      {
        "duration": 17,
        "start_time": "2021-09-21T05:54:03.539Z"
      },
      {
        "duration": 8,
        "start_time": "2021-09-21T05:54:03.558Z"
      },
      {
        "duration": 7,
        "start_time": "2021-09-21T05:54:03.568Z"
      },
      {
        "duration": 18,
        "start_time": "2021-09-21T05:54:03.577Z"
      },
      {
        "duration": 71,
        "start_time": "2021-09-21T05:54:03.596Z"
      },
      {
        "duration": 19,
        "start_time": "2021-09-21T05:54:03.669Z"
      },
      {
        "duration": 17,
        "start_time": "2021-09-21T05:54:03.690Z"
      },
      {
        "duration": 44,
        "start_time": "2021-09-21T05:54:03.709Z"
      },
      {
        "duration": 19,
        "start_time": "2021-09-21T05:54:03.755Z"
      },
      {
        "duration": 745,
        "start_time": "2021-09-21T09:15:56.411Z"
      },
      {
        "duration": 28,
        "start_time": "2021-09-21T09:15:57.159Z"
      },
      {
        "duration": 7,
        "start_time": "2021-09-21T09:15:57.190Z"
      },
      {
        "duration": 10,
        "start_time": "2021-09-21T09:15:57.198Z"
      },
      {
        "duration": 54,
        "start_time": "2021-09-21T09:15:57.210Z"
      },
      {
        "duration": 7,
        "start_time": "2021-09-21T09:15:57.266Z"
      },
      {
        "duration": 9,
        "start_time": "2021-09-21T09:15:57.275Z"
      },
      {
        "duration": 8,
        "start_time": "2021-09-21T09:15:57.286Z"
      },
      {
        "duration": 48,
        "start_time": "2021-09-21T09:15:57.297Z"
      },
      {
        "duration": 227,
        "start_time": "2021-09-21T09:15:57.347Z"
      },
      {
        "duration": 8,
        "start_time": "2021-09-21T09:15:57.576Z"
      },
      {
        "duration": 4,
        "start_time": "2021-09-21T09:15:57.585Z"
      },
      {
        "duration": 15,
        "start_time": "2021-09-21T09:15:57.590Z"
      },
      {
        "duration": 15,
        "start_time": "2021-09-21T09:15:57.606Z"
      },
      {
        "duration": 28,
        "start_time": "2021-09-21T09:15:57.623Z"
      },
      {
        "duration": 173,
        "start_time": "2021-09-21T09:15:57.652Z"
      },
      {
        "duration": 168,
        "start_time": "2021-09-21T09:15:57.826Z"
      },
      {
        "duration": 220,
        "start_time": "2021-09-21T09:15:57.996Z"
      },
      {
        "duration": 7,
        "start_time": "2021-09-21T09:15:58.218Z"
      },
      {
        "duration": 185,
        "start_time": "2021-09-21T09:15:58.227Z"
      },
      {
        "duration": 10,
        "start_time": "2021-09-21T09:15:58.414Z"
      },
      {
        "duration": 29,
        "start_time": "2021-09-21T09:15:58.426Z"
      },
      {
        "duration": 14,
        "start_time": "2021-09-21T09:15:58.456Z"
      },
      {
        "duration": 7,
        "start_time": "2021-09-21T09:15:58.472Z"
      },
      {
        "duration": 7,
        "start_time": "2021-09-21T09:15:58.481Z"
      },
      {
        "duration": 6,
        "start_time": "2021-09-21T09:15:58.490Z"
      },
      {
        "duration": 46,
        "start_time": "2021-09-21T09:15:58.499Z"
      },
      {
        "duration": 4,
        "start_time": "2021-09-21T09:15:58.547Z"
      },
      {
        "duration": 8,
        "start_time": "2021-09-21T09:15:58.553Z"
      },
      {
        "duration": 16,
        "start_time": "2021-09-21T09:15:58.563Z"
      },
      {
        "duration": 30,
        "start_time": "2021-09-21T09:15:58.581Z"
      },
      {
        "duration": 56,
        "start_time": "2021-09-21T09:15:58.613Z"
      },
      {
        "duration": 5,
        "start_time": "2021-09-21T09:15:58.671Z"
      },
      {
        "duration": 2614,
        "start_time": "2021-09-21T09:15:58.678Z"
      },
      {
        "duration": 8,
        "start_time": "2021-09-21T09:16:01.294Z"
      },
      {
        "duration": 19,
        "start_time": "2021-09-21T09:16:01.303Z"
      },
      {
        "duration": 9,
        "start_time": "2021-09-21T09:16:01.323Z"
      },
      {
        "duration": 25,
        "start_time": "2021-09-21T09:16:01.333Z"
      },
      {
        "duration": 15,
        "start_time": "2021-09-21T09:16:01.360Z"
      },
      {
        "duration": 28,
        "start_time": "2021-09-21T09:16:01.376Z"
      },
      {
        "duration": 62,
        "start_time": "2021-09-21T09:16:01.405Z"
      },
      {
        "duration": 24,
        "start_time": "2021-09-21T09:16:01.469Z"
      },
      {
        "duration": 23,
        "start_time": "2021-09-21T09:16:01.495Z"
      },
      {
        "duration": 45,
        "start_time": "2021-09-21T09:16:01.520Z"
      },
      {
        "duration": 25,
        "start_time": "2021-09-21T09:16:01.567Z"
      },
      {
        "duration": 903,
        "start_time": "2021-09-21T10:00:55.532Z"
      },
      {
        "duration": 778,
        "start_time": "2021-09-21T10:08:48.114Z"
      },
      {
        "duration": 626,
        "start_time": "2021-09-21T10:09:26.449Z"
      },
      {
        "duration": 556,
        "start_time": "2021-09-21T10:09:37.172Z"
      },
      {
        "duration": 370,
        "start_time": "2021-09-21T10:27:27.458Z"
      },
      {
        "duration": 331,
        "start_time": "2021-09-21T10:28:33.414Z"
      },
      {
        "duration": 89,
        "start_time": "2021-09-21T10:34:12.566Z"
      },
      {
        "duration": 279,
        "start_time": "2021-09-21T10:39:42.895Z"
      },
      {
        "duration": 955,
        "start_time": "2021-09-21T10:42:34.162Z"
      },
      {
        "duration": 49,
        "start_time": "2021-09-21T10:42:35.120Z"
      },
      {
        "duration": 10,
        "start_time": "2021-09-21T10:42:35.172Z"
      },
      {
        "duration": 12,
        "start_time": "2021-09-21T10:42:35.185Z"
      },
      {
        "duration": 78,
        "start_time": "2021-09-21T10:42:35.199Z"
      },
      {
        "duration": 9,
        "start_time": "2021-09-21T10:42:35.279Z"
      },
      {
        "duration": 17,
        "start_time": "2021-09-21T10:42:35.290Z"
      },
      {
        "duration": 13,
        "start_time": "2021-09-21T10:42:35.310Z"
      },
      {
        "duration": 49,
        "start_time": "2021-09-21T10:42:35.326Z"
      },
      {
        "duration": 452,
        "start_time": "2021-09-21T10:42:35.378Z"
      },
      {
        "duration": 13,
        "start_time": "2021-09-21T10:42:35.832Z"
      },
      {
        "duration": 22,
        "start_time": "2021-09-21T10:42:35.847Z"
      },
      {
        "duration": 15,
        "start_time": "2021-09-21T10:42:35.871Z"
      },
      {
        "duration": 21,
        "start_time": "2021-09-21T10:42:35.889Z"
      },
      {
        "duration": 28,
        "start_time": "2021-09-21T10:42:51.963Z"
      },
      {
        "duration": 381,
        "start_time": "2021-09-21T10:51:33.539Z"
      },
      {
        "duration": 13,
        "start_time": "2021-09-21T10:52:34.319Z"
      },
      {
        "duration": 274,
        "start_time": "2021-09-21T10:52:45.122Z"
      },
      {
        "duration": 332,
        "start_time": "2021-09-21T10:53:01.283Z"
      },
      {
        "duration": 881,
        "start_time": "2021-09-21T10:53:27.354Z"
      },
      {
        "duration": 43,
        "start_time": "2021-09-21T10:53:28.237Z"
      },
      {
        "duration": 9,
        "start_time": "2021-09-21T10:53:28.283Z"
      },
      {
        "duration": 11,
        "start_time": "2021-09-21T10:53:28.294Z"
      },
      {
        "duration": 82,
        "start_time": "2021-09-21T10:53:28.307Z"
      },
      {
        "duration": 9,
        "start_time": "2021-09-21T10:53:28.392Z"
      },
      {
        "duration": 14,
        "start_time": "2021-09-21T10:53:28.403Z"
      },
      {
        "duration": 47,
        "start_time": "2021-09-21T10:53:28.421Z"
      },
      {
        "duration": 13,
        "start_time": "2021-09-21T10:53:28.472Z"
      },
      {
        "duration": 447,
        "start_time": "2021-09-21T10:53:28.488Z"
      },
      {
        "duration": 12,
        "start_time": "2021-09-21T10:53:28.937Z"
      },
      {
        "duration": 20,
        "start_time": "2021-09-21T10:53:28.951Z"
      },
      {
        "duration": 17,
        "start_time": "2021-09-21T10:53:28.974Z"
      },
      {
        "duration": 22,
        "start_time": "2021-09-21T10:53:28.993Z"
      },
      {
        "duration": 63,
        "start_time": "2021-09-21T10:53:29.018Z"
      },
      {
        "duration": 336,
        "start_time": "2021-09-21T10:53:29.083Z"
      },
      {
        "duration": 328,
        "start_time": "2021-09-21T10:53:29.421Z"
      },
      {
        "duration": 425,
        "start_time": "2021-09-21T10:53:29.751Z"
      },
      {
        "duration": 11,
        "start_time": "2021-09-21T10:53:30.179Z"
      },
      {
        "duration": 352,
        "start_time": "2021-09-21T10:53:30.193Z"
      },
      {
        "duration": 29,
        "start_time": "2021-09-21T10:53:30.547Z"
      },
      {
        "duration": 41,
        "start_time": "2021-09-21T10:53:30.578Z"
      },
      {
        "duration": 24,
        "start_time": "2021-09-21T10:53:30.623Z"
      },
      {
        "duration": 27,
        "start_time": "2021-09-21T10:53:30.650Z"
      },
      {
        "duration": 22,
        "start_time": "2021-09-21T10:53:30.680Z"
      },
      {
        "duration": 26,
        "start_time": "2021-09-21T10:53:30.705Z"
      },
      {
        "duration": 47,
        "start_time": "2021-09-21T10:53:30.734Z"
      },
      {
        "duration": 7,
        "start_time": "2021-09-21T10:53:30.783Z"
      },
      {
        "duration": 22,
        "start_time": "2021-09-21T10:53:35.707Z"
      },
      {
        "duration": 366,
        "start_time": "2021-09-21T10:55:14.851Z"
      },
      {
        "duration": 20,
        "start_time": "2021-09-21T10:55:21.787Z"
      },
      {
        "duration": 21,
        "start_time": "2021-09-21T10:55:31.618Z"
      },
      {
        "duration": 30,
        "start_time": "2021-09-21T10:55:59.195Z"
      },
      {
        "duration": 18,
        "start_time": "2021-09-21T10:56:14.787Z"
      },
      {
        "duration": 20,
        "start_time": "2021-09-21T10:56:25.378Z"
      },
      {
        "duration": 165,
        "start_time": "2021-09-21T10:57:34.795Z"
      },
      {
        "duration": 92,
        "start_time": "2021-09-21T10:58:52.243Z"
      },
      {
        "duration": 112,
        "start_time": "2021-09-21T11:16:53.169Z"
      },
      {
        "duration": 106,
        "start_time": "2021-09-21T11:17:05.365Z"
      },
      {
        "duration": 9107,
        "start_time": "2021-09-21T11:17:14.772Z"
      },
      {
        "duration": 7076,
        "start_time": "2021-09-21T11:17:38.581Z"
      },
      {
        "duration": 908,
        "start_time": "2021-09-21T11:18:00.929Z"
      },
      {
        "duration": 43,
        "start_time": "2021-09-21T11:18:01.840Z"
      },
      {
        "duration": 8,
        "start_time": "2021-09-21T11:18:01.886Z"
      },
      {
        "duration": 19,
        "start_time": "2021-09-21T11:18:01.897Z"
      },
      {
        "duration": 77,
        "start_time": "2021-09-21T11:18:01.918Z"
      },
      {
        "duration": 10,
        "start_time": "2021-09-21T11:18:01.997Z"
      },
      {
        "duration": 29,
        "start_time": "2021-09-21T11:18:02.010Z"
      },
      {
        "duration": 31,
        "start_time": "2021-09-21T11:18:02.043Z"
      },
      {
        "duration": 13,
        "start_time": "2021-09-21T11:18:02.077Z"
      },
      {
        "duration": 432,
        "start_time": "2021-09-21T11:18:02.093Z"
      },
      {
        "duration": 12,
        "start_time": "2021-09-21T11:18:02.528Z"
      },
      {
        "duration": 28,
        "start_time": "2021-09-21T11:18:02.542Z"
      },
      {
        "duration": 35,
        "start_time": "2021-09-21T11:18:02.573Z"
      },
      {
        "duration": 45,
        "start_time": "2021-09-21T11:18:02.611Z"
      },
      {
        "duration": 27,
        "start_time": "2021-09-21T11:18:02.659Z"
      },
      {
        "duration": 321,
        "start_time": "2021-09-21T11:18:02.689Z"
      },
      {
        "duration": 325,
        "start_time": "2021-09-21T11:18:03.012Z"
      },
      {
        "duration": 396,
        "start_time": "2021-09-21T11:18:03.340Z"
      },
      {
        "duration": 12,
        "start_time": "2021-09-21T11:18:03.738Z"
      },
      {
        "duration": 341,
        "start_time": "2021-09-21T11:18:03.767Z"
      },
      {
        "duration": 18,
        "start_time": "2021-09-21T11:18:04.110Z"
      },
      {
        "duration": 55,
        "start_time": "2021-09-21T11:18:04.131Z"
      },
      {
        "duration": 24,
        "start_time": "2021-09-21T11:18:04.191Z"
      },
      {
        "duration": 16,
        "start_time": "2021-09-21T11:18:04.218Z"
      },
      {
        "duration": 41,
        "start_time": "2021-09-21T11:18:04.237Z"
      },
      {
        "duration": 23,
        "start_time": "2021-09-21T11:18:04.281Z"
      },
      {
        "duration": 47,
        "start_time": "2021-09-21T11:18:04.308Z"
      },
      {
        "duration": 15,
        "start_time": "2021-09-21T11:18:04.358Z"
      },
      {
        "duration": 23,
        "start_time": "2021-09-21T11:18:04.376Z"
      },
      {
        "duration": 30,
        "start_time": "2021-09-21T11:18:04.402Z"
      },
      {
        "duration": 62,
        "start_time": "2021-09-21T11:18:04.467Z"
      },
      {
        "duration": 73,
        "start_time": "2021-09-21T11:18:04.532Z"
      },
      {
        "duration": 10,
        "start_time": "2021-09-21T11:18:04.608Z"
      },
      {
        "duration": 3351,
        "start_time": "2021-09-21T11:18:04.621Z"
      },
      {
        "duration": 12,
        "start_time": "2021-09-21T11:18:07.974Z"
      },
      {
        "duration": 17,
        "start_time": "2021-09-21T11:18:07.989Z"
      },
      {
        "duration": 14,
        "start_time": "2021-09-21T11:18:08.009Z"
      },
      {
        "duration": 47,
        "start_time": "2021-09-21T11:18:08.025Z"
      },
      {
        "duration": 13,
        "start_time": "2021-09-21T11:18:08.075Z"
      },
      {
        "duration": 35,
        "start_time": "2021-09-21T11:18:08.091Z"
      },
      {
        "duration": 103,
        "start_time": "2021-09-21T11:18:08.129Z"
      },
      {
        "duration": 52,
        "start_time": "2021-09-21T11:18:08.235Z"
      },
      {
        "duration": 32,
        "start_time": "2021-09-21T11:18:08.290Z"
      },
      {
        "duration": 63,
        "start_time": "2021-09-21T11:18:08.324Z"
      },
      {
        "duration": 33,
        "start_time": "2021-09-21T11:18:08.389Z"
      },
      {
        "duration": 30,
        "start_time": "2021-09-21T11:18:46.433Z"
      },
      {
        "duration": 35,
        "start_time": "2021-09-21T11:19:07.354Z"
      },
      {
        "duration": 35,
        "start_time": "2021-09-21T11:19:14.737Z"
      },
      {
        "duration": 36,
        "start_time": "2021-09-21T11:25:32.683Z"
      },
      {
        "duration": 37,
        "start_time": "2021-09-21T11:28:26.339Z"
      },
      {
        "duration": 39,
        "start_time": "2021-09-21T11:28:55.394Z"
      },
      {
        "duration": 38,
        "start_time": "2021-09-21T11:29:33.427Z"
      },
      {
        "duration": 37,
        "start_time": "2021-09-21T11:30:59.203Z"
      },
      {
        "duration": 39,
        "start_time": "2021-09-21T11:33:31.531Z"
      },
      {
        "duration": 37,
        "start_time": "2021-09-21T11:33:51.235Z"
      },
      {
        "duration": 37,
        "start_time": "2021-09-21T11:34:21.507Z"
      },
      {
        "duration": 39,
        "start_time": "2021-09-21T11:35:11.740Z"
      },
      {
        "duration": 40,
        "start_time": "2021-09-21T11:37:13.123Z"
      },
      {
        "duration": 42,
        "start_time": "2021-09-21T11:37:34.236Z"
      },
      {
        "duration": 42,
        "start_time": "2021-09-21T11:37:58.851Z"
      },
      {
        "duration": 41,
        "start_time": "2021-09-21T11:38:26.980Z"
      },
      {
        "duration": 45,
        "start_time": "2021-09-21T11:38:37.468Z"
      },
      {
        "duration": 40,
        "start_time": "2021-09-21T11:38:51.332Z"
      },
      {
        "duration": 61,
        "start_time": "2021-09-21T11:42:11.204Z"
      },
      {
        "duration": 74,
        "start_time": "2021-09-21T11:46:07.708Z"
      },
      {
        "duration": 72,
        "start_time": "2021-09-21T11:46:55.989Z"
      },
      {
        "duration": 877,
        "start_time": "2021-09-21T12:03:50.566Z"
      },
      {
        "duration": 39,
        "start_time": "2021-09-21T12:03:51.446Z"
      },
      {
        "duration": 10,
        "start_time": "2021-09-21T12:03:51.488Z"
      },
      {
        "duration": 15,
        "start_time": "2021-09-21T12:03:51.501Z"
      },
      {
        "duration": 89,
        "start_time": "2021-09-21T12:03:51.519Z"
      },
      {
        "duration": 11,
        "start_time": "2021-09-21T12:03:51.610Z"
      },
      {
        "duration": 13,
        "start_time": "2021-09-21T12:03:51.623Z"
      },
      {
        "duration": 13,
        "start_time": "2021-09-21T12:03:51.669Z"
      },
      {
        "duration": 14,
        "start_time": "2021-09-21T12:03:51.685Z"
      },
      {
        "duration": 468,
        "start_time": "2021-09-21T12:03:51.701Z"
      },
      {
        "duration": 12,
        "start_time": "2021-09-21T12:03:52.172Z"
      },
      {
        "duration": 6,
        "start_time": "2021-09-21T12:03:52.186Z"
      },
      {
        "duration": 13,
        "start_time": "2021-09-21T12:03:52.195Z"
      },
      {
        "duration": 56,
        "start_time": "2021-09-21T12:03:52.211Z"
      },
      {
        "duration": 27,
        "start_time": "2021-09-21T12:03:52.269Z"
      },
      {
        "duration": 339,
        "start_time": "2021-09-21T12:03:52.299Z"
      },
      {
        "duration": 330,
        "start_time": "2021-09-21T12:03:52.641Z"
      },
      {
        "duration": 401,
        "start_time": "2021-09-21T12:03:52.973Z"
      },
      {
        "duration": 11,
        "start_time": "2021-09-21T12:03:53.376Z"
      },
      {
        "duration": 366,
        "start_time": "2021-09-21T12:03:53.390Z"
      },
      {
        "duration": 23,
        "start_time": "2021-09-21T12:03:53.758Z"
      },
      {
        "duration": 35,
        "start_time": "2021-09-21T12:03:53.783Z"
      },
      {
        "duration": 51,
        "start_time": "2021-09-21T12:03:53.822Z"
      },
      {
        "duration": 12,
        "start_time": "2021-09-21T12:03:53.876Z"
      },
      {
        "duration": 12,
        "start_time": "2021-09-21T12:03:53.890Z"
      },
      {
        "duration": 12,
        "start_time": "2021-09-21T12:03:53.904Z"
      },
      {
        "duration": 67,
        "start_time": "2021-09-21T12:03:53.919Z"
      },
      {
        "duration": 6,
        "start_time": "2021-09-21T12:03:53.989Z"
      },
      {
        "duration": 40,
        "start_time": "2021-09-21T12:03:53.997Z"
      },
      {
        "duration": 44,
        "start_time": "2021-09-21T12:03:54.040Z"
      },
      {
        "duration": 58,
        "start_time": "2021-09-21T12:03:54.086Z"
      },
      {
        "duration": 65,
        "start_time": "2021-09-21T12:03:54.146Z"
      },
      {
        "duration": 9,
        "start_time": "2021-09-21T12:03:54.214Z"
      },
      {
        "duration": 3431,
        "start_time": "2021-09-21T12:03:54.226Z"
      },
      {
        "duration": 14,
        "start_time": "2021-09-21T12:03:57.668Z"
      },
      {
        "duration": 16,
        "start_time": "2021-09-21T12:03:57.684Z"
      },
      {
        "duration": 15,
        "start_time": "2021-09-21T12:03:57.704Z"
      },
      {
        "duration": 48,
        "start_time": "2021-09-21T12:03:57.723Z"
      },
      {
        "duration": 18,
        "start_time": "2021-09-21T12:03:57.774Z"
      },
      {
        "duration": 45,
        "start_time": "2021-09-21T12:03:57.795Z"
      },
      {
        "duration": 90,
        "start_time": "2021-09-21T12:03:57.843Z"
      },
      {
        "duration": 64,
        "start_time": "2021-09-21T12:03:57.936Z"
      },
      {
        "duration": 42,
        "start_time": "2021-09-21T12:03:58.003Z"
      },
      {
        "duration": 76,
        "start_time": "2021-09-21T12:03:58.047Z"
      },
      {
        "duration": 100,
        "start_time": "2021-09-21T12:03:58.126Z"
      },
      {
        "duration": 886,
        "start_time": "2021-09-21T12:30:57.888Z"
      },
      {
        "duration": 30,
        "start_time": "2021-09-21T12:30:58.780Z"
      },
      {
        "duration": 9,
        "start_time": "2021-09-21T12:30:58.812Z"
      },
      {
        "duration": 47,
        "start_time": "2021-09-21T12:30:58.823Z"
      },
      {
        "duration": 50,
        "start_time": "2021-09-21T12:30:58.873Z"
      },
      {
        "duration": 10,
        "start_time": "2021-09-21T12:30:58.926Z"
      },
      {
        "duration": 11,
        "start_time": "2021-09-21T12:30:58.970Z"
      },
      {
        "duration": 11,
        "start_time": "2021-09-21T12:30:58.984Z"
      },
      {
        "duration": 17,
        "start_time": "2021-09-21T12:30:58.997Z"
      },
      {
        "duration": 456,
        "start_time": "2021-09-21T12:30:59.016Z"
      },
      {
        "duration": 15,
        "start_time": "2021-09-21T12:30:59.475Z"
      },
      {
        "duration": 7,
        "start_time": "2021-09-21T12:30:59.493Z"
      },
      {
        "duration": 14,
        "start_time": "2021-09-21T12:30:59.503Z"
      },
      {
        "duration": 61,
        "start_time": "2021-09-21T12:30:59.520Z"
      },
      {
        "duration": 29,
        "start_time": "2021-09-21T12:30:59.584Z"
      },
      {
        "duration": 338,
        "start_time": "2021-09-21T12:30:59.615Z"
      },
      {
        "duration": 329,
        "start_time": "2021-09-21T12:30:59.955Z"
      },
      {
        "duration": 413,
        "start_time": "2021-09-21T12:31:00.286Z"
      },
      {
        "duration": 11,
        "start_time": "2021-09-21T12:31:00.701Z"
      },
      {
        "duration": 372,
        "start_time": "2021-09-21T12:31:00.714Z"
      },
      {
        "duration": 16,
        "start_time": "2021-09-21T12:31:01.089Z"
      },
      {
        "duration": 58,
        "start_time": "2021-09-21T12:31:01.110Z"
      },
      {
        "duration": 25,
        "start_time": "2021-09-21T12:31:01.172Z"
      },
      {
        "duration": 40,
        "start_time": "2021-09-21T12:31:01.200Z"
      },
      {
        "duration": 21,
        "start_time": "2021-09-21T12:31:01.243Z"
      },
      {
        "duration": 21,
        "start_time": "2021-09-21T12:31:01.267Z"
      },
      {
        "duration": 39,
        "start_time": "2021-09-21T12:31:01.291Z"
      },
      {
        "duration": 7,
        "start_time": "2021-09-21T12:31:01.332Z"
      },
      {
        "duration": 41,
        "start_time": "2021-09-21T12:31:01.341Z"
      },
      {
        "duration": 52,
        "start_time": "2021-09-21T12:31:01.384Z"
      },
      {
        "duration": 62,
        "start_time": "2021-09-21T12:31:01.439Z"
      },
      {
        "duration": 56,
        "start_time": "2021-09-21T12:31:01.504Z"
      },
      {
        "duration": 10,
        "start_time": "2021-09-21T12:31:01.566Z"
      },
      {
        "duration": 3360,
        "start_time": "2021-09-21T12:31:01.578Z"
      },
      {
        "duration": 12,
        "start_time": "2021-09-21T12:31:04.940Z"
      },
      {
        "duration": 24,
        "start_time": "2021-09-21T12:31:04.954Z"
      },
      {
        "duration": 16,
        "start_time": "2021-09-21T12:31:04.981Z"
      },
      {
        "duration": 18,
        "start_time": "2021-09-21T12:31:05.000Z"
      },
      {
        "duration": 30,
        "start_time": "2021-09-21T12:31:05.021Z"
      },
      {
        "duration": 41,
        "start_time": "2021-09-21T12:31:05.053Z"
      },
      {
        "duration": 88,
        "start_time": "2021-09-21T12:31:05.096Z"
      },
      {
        "duration": 41,
        "start_time": "2021-09-21T12:31:05.186Z"
      },
      {
        "duration": 63,
        "start_time": "2021-09-21T12:31:05.229Z"
      },
      {
        "duration": 84,
        "start_time": "2021-09-21T12:31:05.296Z"
      },
      {
        "duration": 96,
        "start_time": "2021-09-21T12:31:05.383Z"
      },
      {
        "duration": 907,
        "start_time": "2021-09-22T07:12:17.576Z"
      },
      {
        "duration": 33,
        "start_time": "2021-09-22T07:12:18.486Z"
      },
      {
        "duration": 12,
        "start_time": "2021-09-22T07:12:18.523Z"
      },
      {
        "duration": 53,
        "start_time": "2021-09-22T07:12:18.539Z"
      },
      {
        "duration": 49,
        "start_time": "2021-09-22T07:12:18.595Z"
      },
      {
        "duration": 41,
        "start_time": "2021-09-22T07:12:18.647Z"
      },
      {
        "duration": 17,
        "start_time": "2021-09-22T07:12:18.691Z"
      },
      {
        "duration": 13,
        "start_time": "2021-09-22T07:12:18.713Z"
      },
      {
        "duration": 56,
        "start_time": "2021-09-22T07:12:18.730Z"
      },
      {
        "duration": 427,
        "start_time": "2021-09-22T07:12:18.789Z"
      },
      {
        "duration": 15,
        "start_time": "2021-09-22T07:12:19.219Z"
      },
      {
        "duration": 6,
        "start_time": "2021-09-22T07:12:19.238Z"
      },
      {
        "duration": 44,
        "start_time": "2021-09-22T07:12:19.247Z"
      },
      {
        "duration": 26,
        "start_time": "2021-09-22T07:12:19.294Z"
      },
      {
        "duration": 61,
        "start_time": "2021-09-22T07:12:19.323Z"
      },
      {
        "duration": 356,
        "start_time": "2021-09-22T07:12:19.386Z"
      },
      {
        "duration": 317,
        "start_time": "2021-09-22T07:12:19.745Z"
      },
      {
        "duration": 377,
        "start_time": "2021-09-22T07:12:20.064Z"
      },
      {
        "duration": 15,
        "start_time": "2021-09-22T07:12:20.444Z"
      },
      {
        "duration": 578,
        "start_time": "2021-09-22T07:12:20.461Z"
      },
      {
        "duration": 16,
        "start_time": "2021-09-22T07:12:21.042Z"
      },
      {
        "duration": 47,
        "start_time": "2021-09-22T07:12:21.061Z"
      },
      {
        "duration": 25,
        "start_time": "2021-09-22T07:12:21.113Z"
      },
      {
        "duration": 11,
        "start_time": "2021-09-22T07:12:21.184Z"
      },
      {
        "duration": 24,
        "start_time": "2021-09-22T07:12:21.198Z"
      },
      {
        "duration": 32,
        "start_time": "2021-09-22T07:12:21.225Z"
      },
      {
        "duration": 33,
        "start_time": "2021-09-22T07:12:21.283Z"
      },
      {
        "duration": 7,
        "start_time": "2021-09-22T07:12:21.318Z"
      },
      {
        "duration": 20,
        "start_time": "2021-09-22T07:12:21.383Z"
      },
      {
        "duration": 32,
        "start_time": "2021-09-22T07:12:21.405Z"
      },
      {
        "duration": 95,
        "start_time": "2021-09-22T07:12:21.439Z"
      },
      {
        "duration": 64,
        "start_time": "2021-09-22T07:12:21.536Z"
      },
      {
        "duration": 8,
        "start_time": "2021-09-22T07:12:21.603Z"
      },
      {
        "duration": 3393,
        "start_time": "2021-09-22T07:12:21.613Z"
      },
      {
        "duration": 13,
        "start_time": "2021-09-22T07:12:25.008Z"
      },
      {
        "duration": 15,
        "start_time": "2021-09-22T07:12:25.024Z"
      },
      {
        "duration": 12,
        "start_time": "2021-09-22T07:12:25.042Z"
      },
      {
        "duration": 37,
        "start_time": "2021-09-22T07:12:25.057Z"
      },
      {
        "duration": 14,
        "start_time": "2021-09-22T07:12:25.096Z"
      },
      {
        "duration": 34,
        "start_time": "2021-09-22T07:12:25.112Z"
      },
      {
        "duration": 96,
        "start_time": "2021-09-22T07:12:25.148Z"
      },
      {
        "duration": 53,
        "start_time": "2021-09-22T07:12:25.246Z"
      },
      {
        "duration": 39,
        "start_time": "2021-09-22T07:12:25.302Z"
      },
      {
        "duration": 85,
        "start_time": "2021-09-22T07:12:25.344Z"
      },
      {
        "duration": 92,
        "start_time": "2021-09-22T07:12:25.431Z"
      },
      {
        "duration": 376,
        "start_time": "2021-09-27T08:39:39.624Z"
      },
      {
        "duration": 733,
        "start_time": "2021-09-27T08:40:00.606Z"
      },
      {
        "duration": 20,
        "start_time": "2021-09-27T08:40:01.341Z"
      },
      {
        "duration": 34,
        "start_time": "2021-09-27T08:40:01.363Z"
      },
      {
        "duration": 29,
        "start_time": "2021-09-27T08:40:01.399Z"
      },
      {
        "duration": 52,
        "start_time": "2021-09-27T08:40:01.429Z"
      },
      {
        "duration": 21,
        "start_time": "2021-09-27T08:40:01.483Z"
      },
      {
        "duration": 61,
        "start_time": "2021-09-27T08:40:01.505Z"
      },
      {
        "duration": 30,
        "start_time": "2021-09-27T08:40:01.570Z"
      },
      {
        "duration": 36,
        "start_time": "2021-09-27T08:40:01.603Z"
      },
      {
        "duration": 271,
        "start_time": "2021-09-27T08:40:01.641Z"
      },
      {
        "duration": 9,
        "start_time": "2021-09-27T08:40:01.914Z"
      },
      {
        "duration": 16,
        "start_time": "2021-09-27T08:40:01.925Z"
      },
      {
        "duration": 50,
        "start_time": "2021-09-27T08:40:01.943Z"
      },
      {
        "duration": 25,
        "start_time": "2021-09-27T08:40:01.994Z"
      },
      {
        "duration": 27,
        "start_time": "2021-09-27T08:40:02.020Z"
      },
      {
        "duration": 209,
        "start_time": "2021-09-27T08:40:02.048Z"
      },
      {
        "duration": 212,
        "start_time": "2021-09-27T08:40:02.259Z"
      },
      {
        "duration": 266,
        "start_time": "2021-09-27T08:40:02.476Z"
      },
      {
        "duration": 8,
        "start_time": "2021-09-27T08:40:02.743Z"
      },
      {
        "duration": 209,
        "start_time": "2021-09-27T08:40:02.753Z"
      },
      {
        "duration": 17,
        "start_time": "2021-09-27T08:40:02.964Z"
      },
      {
        "duration": 21,
        "start_time": "2021-09-27T08:40:02.983Z"
      },
      {
        "duration": 17,
        "start_time": "2021-09-27T08:40:03.007Z"
      },
      {
        "duration": 8,
        "start_time": "2021-09-27T08:40:03.026Z"
      },
      {
        "duration": 42,
        "start_time": "2021-09-27T08:40:03.036Z"
      },
      {
        "duration": 9,
        "start_time": "2021-09-27T08:40:03.079Z"
      },
      {
        "duration": 26,
        "start_time": "2021-09-27T08:40:03.090Z"
      },
      {
        "duration": 4,
        "start_time": "2021-09-27T08:40:03.117Z"
      },
      {
        "duration": 22,
        "start_time": "2021-09-27T08:40:03.123Z"
      },
      {
        "duration": 38,
        "start_time": "2021-09-27T08:40:03.146Z"
      },
      {
        "duration": 36,
        "start_time": "2021-09-27T08:40:03.185Z"
      },
      {
        "duration": 54,
        "start_time": "2021-09-27T08:40:03.223Z"
      },
      {
        "duration": 8,
        "start_time": "2021-09-27T08:40:03.279Z"
      },
      {
        "duration": 2402,
        "start_time": "2021-09-27T08:40:03.289Z"
      },
      {
        "duration": 9,
        "start_time": "2021-09-27T08:40:05.693Z"
      },
      {
        "duration": 16,
        "start_time": "2021-09-27T08:40:05.703Z"
      },
      {
        "duration": 9,
        "start_time": "2021-09-27T08:40:05.721Z"
      },
      {
        "duration": 12,
        "start_time": "2021-09-27T08:40:05.731Z"
      },
      {
        "duration": 13,
        "start_time": "2021-09-27T08:40:05.745Z"
      },
      {
        "duration": 33,
        "start_time": "2021-09-27T08:40:05.760Z"
      },
      {
        "duration": 48,
        "start_time": "2021-09-27T08:40:05.794Z"
      },
      {
        "duration": 44,
        "start_time": "2021-09-27T08:40:05.844Z"
      },
      {
        "duration": 26,
        "start_time": "2021-09-27T08:40:05.890Z"
      },
      {
        "duration": 61,
        "start_time": "2021-09-27T08:40:05.918Z"
      },
      {
        "duration": 48,
        "start_time": "2021-09-27T08:40:05.980Z"
      },
      {
        "duration": 9,
        "start_time": "2021-09-27T08:47:07.954Z"
      },
      {
        "duration": 10,
        "start_time": "2021-09-27T08:47:16.339Z"
      },
      {
        "duration": 324,
        "start_time": "2021-10-06T14:33:59.406Z"
      },
      {
        "duration": 905,
        "start_time": "2021-10-06T14:34:09.654Z"
      },
      {
        "duration": 31,
        "start_time": "2021-10-06T14:34:10.568Z"
      },
      {
        "duration": 9,
        "start_time": "2021-10-06T14:34:10.601Z"
      },
      {
        "duration": 11,
        "start_time": "2021-10-06T14:34:10.612Z"
      },
      {
        "duration": 83,
        "start_time": "2021-10-06T14:34:10.625Z"
      },
      {
        "duration": 9,
        "start_time": "2021-10-06T14:34:10.710Z"
      },
      {
        "duration": 13,
        "start_time": "2021-10-06T14:34:10.721Z"
      },
      {
        "duration": 12,
        "start_time": "2021-10-06T14:34:10.769Z"
      },
      {
        "duration": 15,
        "start_time": "2021-10-06T14:34:10.783Z"
      },
      {
        "duration": 441,
        "start_time": "2021-10-06T14:34:10.800Z"
      },
      {
        "duration": 25,
        "start_time": "2021-10-06T14:34:11.244Z"
      },
      {
        "duration": 7,
        "start_time": "2021-10-06T14:34:11.271Z"
      },
      {
        "duration": 16,
        "start_time": "2021-10-06T14:34:11.280Z"
      },
      {
        "duration": 22,
        "start_time": "2021-10-06T14:34:11.299Z"
      },
      {
        "duration": 61,
        "start_time": "2021-10-06T14:34:11.324Z"
      },
      {
        "duration": 326,
        "start_time": "2021-10-06T14:34:11.387Z"
      },
      {
        "duration": 329,
        "start_time": "2021-10-06T14:34:11.716Z"
      },
      {
        "duration": 381,
        "start_time": "2021-10-06T14:34:12.047Z"
      },
      {
        "duration": 12,
        "start_time": "2021-10-06T14:34:12.430Z"
      },
      {
        "duration": 349,
        "start_time": "2021-10-06T14:34:12.444Z"
      },
      {
        "duration": 477,
        "start_time": "2021-10-06T14:34:12.795Z"
      },
      {
        "duration": 15,
        "start_time": "2021-10-06T14:34:13.274Z"
      },
      {
        "duration": 29,
        "start_time": "2021-10-06T14:34:13.294Z"
      },
      {
        "duration": 57,
        "start_time": "2021-10-06T14:34:13.326Z"
      },
      {
        "duration": 11,
        "start_time": "2021-10-06T14:34:13.386Z"
      },
      {
        "duration": 13,
        "start_time": "2021-10-06T14:34:13.400Z"
      },
      {
        "duration": 12,
        "start_time": "2021-10-06T14:34:13.415Z"
      },
      {
        "duration": 29,
        "start_time": "2021-10-06T14:34:13.468Z"
      },
      {
        "duration": 7,
        "start_time": "2021-10-06T14:34:13.500Z"
      },
      {
        "duration": 21,
        "start_time": "2021-10-06T14:34:13.509Z"
      },
      {
        "duration": 60,
        "start_time": "2021-10-06T14:34:13.533Z"
      },
      {
        "duration": 73,
        "start_time": "2021-10-06T14:34:13.595Z"
      },
      {
        "duration": 46,
        "start_time": "2021-10-06T14:34:13.671Z"
      },
      {
        "duration": 9,
        "start_time": "2021-10-06T14:34:13.720Z"
      },
      {
        "duration": 3499,
        "start_time": "2021-10-06T14:34:13.732Z"
      },
      {
        "duration": 12,
        "start_time": "2021-10-06T14:34:17.233Z"
      },
      {
        "duration": 27,
        "start_time": "2021-10-06T14:34:17.247Z"
      },
      {
        "duration": 13,
        "start_time": "2021-10-06T14:34:17.277Z"
      },
      {
        "duration": 13,
        "start_time": "2021-10-06T14:34:17.292Z"
      },
      {
        "duration": 15,
        "start_time": "2021-10-06T14:34:17.308Z"
      },
      {
        "duration": 59,
        "start_time": "2021-10-06T14:34:17.325Z"
      },
      {
        "duration": 84,
        "start_time": "2021-10-06T14:34:17.386Z"
      },
      {
        "duration": 39,
        "start_time": "2021-10-06T14:34:17.473Z"
      },
      {
        "duration": 62,
        "start_time": "2021-10-06T14:34:17.515Z"
      },
      {
        "duration": 58,
        "start_time": "2021-10-06T14:34:17.579Z"
      },
      {
        "duration": 92,
        "start_time": "2021-10-06T14:34:17.639Z"
      },
      {
        "duration": 694,
        "start_time": "2021-10-06T14:34:56.281Z"
      },
      {
        "duration": 106,
        "start_time": "2021-10-06T15:00:53.238Z"
      },
      {
        "duration": 50,
        "start_time": "2021-10-06T15:00:53.347Z"
      },
      {
        "duration": 12,
        "start_time": "2021-10-06T15:00:53.400Z"
      },
      {
        "duration": 53,
        "start_time": "2021-10-06T15:00:53.416Z"
      },
      {
        "duration": 45,
        "start_time": "2021-10-06T15:00:53.473Z"
      },
      {
        "duration": 55,
        "start_time": "2021-10-06T15:00:53.521Z"
      },
      {
        "duration": 14,
        "start_time": "2021-10-06T15:00:53.580Z"
      },
      {
        "duration": 13,
        "start_time": "2021-10-06T15:00:53.600Z"
      },
      {
        "duration": 16,
        "start_time": "2021-10-06T15:00:53.669Z"
      },
      {
        "duration": 346,
        "start_time": "2021-10-06T15:00:53.689Z"
      },
      {
        "duration": 32,
        "start_time": "2021-10-06T15:00:54.039Z"
      },
      {
        "duration": 6,
        "start_time": "2021-10-06T15:00:54.073Z"
      },
      {
        "duration": 12,
        "start_time": "2021-10-06T15:00:54.081Z"
      },
      {
        "duration": 28,
        "start_time": "2021-10-06T15:00:54.095Z"
      },
      {
        "duration": 57,
        "start_time": "2021-10-06T15:00:54.125Z"
      },
      {
        "duration": 328,
        "start_time": "2021-10-06T15:00:54.185Z"
      },
      {
        "duration": 333,
        "start_time": "2021-10-06T15:00:54.516Z"
      },
      {
        "duration": 346,
        "start_time": "2021-10-06T15:00:54.851Z"
      },
      {
        "duration": 11,
        "start_time": "2021-10-06T15:00:55.199Z"
      },
      {
        "duration": 403,
        "start_time": "2021-10-06T15:00:55.213Z"
      },
      {
        "duration": 17,
        "start_time": "2021-10-06T15:00:55.619Z"
      },
      {
        "duration": 49,
        "start_time": "2021-10-06T15:00:55.638Z"
      },
      {
        "duration": 25,
        "start_time": "2021-10-06T15:00:55.692Z"
      },
      {
        "duration": 12,
        "start_time": "2021-10-06T15:00:55.720Z"
      },
      {
        "duration": 14,
        "start_time": "2021-10-06T15:00:55.766Z"
      },
      {
        "duration": 10,
        "start_time": "2021-10-06T15:00:55.783Z"
      },
      {
        "duration": 30,
        "start_time": "2021-10-06T15:00:55.796Z"
      },
      {
        "duration": 45,
        "start_time": "2021-10-06T15:00:55.828Z"
      },
      {
        "duration": 29,
        "start_time": "2021-10-06T15:00:55.875Z"
      },
      {
        "duration": 28,
        "start_time": "2021-10-06T15:00:55.906Z"
      },
      {
        "duration": 82,
        "start_time": "2021-10-06T15:00:55.936Z"
      },
      {
        "duration": 71,
        "start_time": "2021-10-06T15:00:56.020Z"
      },
      {
        "duration": 10,
        "start_time": "2021-10-06T15:00:56.094Z"
      },
      {
        "duration": 3312,
        "start_time": "2021-10-06T15:00:56.106Z"
      },
      {
        "duration": 12,
        "start_time": "2021-10-06T15:00:59.421Z"
      },
      {
        "duration": 33,
        "start_time": "2021-10-06T15:00:59.435Z"
      },
      {
        "duration": 13,
        "start_time": "2021-10-06T15:00:59.471Z"
      },
      {
        "duration": 16,
        "start_time": "2021-10-06T15:00:59.487Z"
      },
      {
        "duration": 19,
        "start_time": "2021-10-06T15:00:59.506Z"
      },
      {
        "duration": 55,
        "start_time": "2021-10-06T15:00:59.528Z"
      },
      {
        "duration": 94,
        "start_time": "2021-10-06T15:00:59.586Z"
      },
      {
        "duration": 42,
        "start_time": "2021-10-06T15:00:59.683Z"
      },
      {
        "duration": 69,
        "start_time": "2021-10-06T15:00:59.728Z"
      },
      {
        "duration": 78,
        "start_time": "2021-10-06T15:00:59.800Z"
      },
      {
        "duration": 70,
        "start_time": "2021-10-06T15:00:59.880Z"
      },
      {
        "duration": 106,
        "start_time": "2021-10-06T15:03:16.172Z"
      },
      {
        "duration": 1958,
        "start_time": "2021-10-06T15:03:21.202Z"
      },
      {
        "duration": 1168,
        "start_time": "2021-11-08T17:32:12.410Z"
      },
      {
        "duration": 47,
        "start_time": "2021-11-08T17:32:13.582Z"
      },
      {
        "duration": 38,
        "start_time": "2021-11-08T17:32:13.633Z"
      },
      {
        "duration": 16,
        "start_time": "2021-11-08T17:32:13.674Z"
      },
      {
        "duration": 92,
        "start_time": "2021-11-08T17:32:13.694Z"
      },
      {
        "duration": 12,
        "start_time": "2021-11-08T17:32:13.789Z"
      },
      {
        "duration": 12,
        "start_time": "2021-11-08T17:32:13.804Z"
      },
      {
        "duration": 47,
        "start_time": "2021-11-08T17:32:13.820Z"
      },
      {
        "duration": 14,
        "start_time": "2021-11-08T17:32:13.870Z"
      },
      {
        "duration": 457,
        "start_time": "2021-11-08T17:32:13.887Z"
      },
      {
        "duration": 25,
        "start_time": "2021-11-08T17:32:14.347Z"
      },
      {
        "duration": 6,
        "start_time": "2021-11-08T17:32:14.375Z"
      },
      {
        "duration": 23,
        "start_time": "2021-11-08T17:32:14.385Z"
      },
      {
        "duration": 57,
        "start_time": "2021-11-08T17:32:14.411Z"
      },
      {
        "duration": 41,
        "start_time": "2021-11-08T17:32:14.471Z"
      },
      {
        "duration": 540,
        "start_time": "2021-11-08T17:32:14.515Z"
      },
      {
        "duration": 536,
        "start_time": "2021-11-08T17:32:15.059Z"
      },
      {
        "duration": 639,
        "start_time": "2021-11-08T17:32:15.598Z"
      },
      {
        "duration": 29,
        "start_time": "2021-11-08T17:32:16.240Z"
      },
      {
        "duration": 515,
        "start_time": "2021-11-08T17:32:16.272Z"
      },
      {
        "duration": 269,
        "start_time": "2021-11-08T17:32:16.789Z"
      },
      {
        "duration": 21,
        "start_time": "2021-11-08T17:32:17.061Z"
      },
      {
        "duration": 31,
        "start_time": "2021-11-08T17:32:17.087Z"
      },
      {
        "duration": 54,
        "start_time": "2021-11-08T17:32:17.121Z"
      },
      {
        "duration": 13,
        "start_time": "2021-11-08T17:32:17.177Z"
      },
      {
        "duration": 13,
        "start_time": "2021-11-08T17:32:17.193Z"
      },
      {
        "duration": 11,
        "start_time": "2021-11-08T17:32:17.209Z"
      },
      {
        "duration": 72,
        "start_time": "2021-11-08T17:32:17.222Z"
      },
      {
        "duration": 7,
        "start_time": "2021-11-08T17:32:17.296Z"
      },
      {
        "duration": 28,
        "start_time": "2021-11-08T17:32:17.305Z"
      },
      {
        "duration": 59,
        "start_time": "2021-11-08T17:32:17.335Z"
      },
      {
        "duration": 75,
        "start_time": "2021-11-08T17:32:17.396Z"
      },
      {
        "duration": 47,
        "start_time": "2021-11-08T17:32:17.473Z"
      },
      {
        "duration": 9,
        "start_time": "2021-11-08T17:32:17.523Z"
      },
      {
        "duration": 3426,
        "start_time": "2021-11-08T17:32:17.535Z"
      },
      {
        "duration": 13,
        "start_time": "2021-11-08T17:32:20.964Z"
      },
      {
        "duration": 20,
        "start_time": "2021-11-08T17:32:20.980Z"
      },
      {
        "duration": 13,
        "start_time": "2021-11-08T17:32:21.002Z"
      },
      {
        "duration": 18,
        "start_time": "2021-11-08T17:32:21.018Z"
      },
      {
        "duration": 51,
        "start_time": "2021-11-08T17:34:57.659Z"
      },
      {
        "duration": 52,
        "start_time": "2021-11-08T17:38:18.384Z"
      },
      {
        "duration": 50,
        "start_time": "2021-11-08T17:39:59.917Z"
      },
      {
        "duration": 54,
        "start_time": "2021-11-08T17:40:49.581Z"
      },
      {
        "duration": 54,
        "start_time": "2021-11-08T17:42:43.709Z"
      },
      {
        "duration": 116,
        "start_time": "2021-11-27T13:39:38.419Z"
      },
      {
        "duration": 861,
        "start_time": "2021-11-27T13:39:48.945Z"
      },
      {
        "duration": 113,
        "start_time": "2021-11-27T13:39:55.480Z"
      },
      {
        "duration": 6751,
        "start_time": "2021-11-27T13:40:00.574Z"
      },
      {
        "duration": 4587,
        "start_time": "2021-11-27T13:41:14.375Z"
      },
      {
        "duration": 3271,
        "start_time": "2021-11-27T13:41:48.103Z"
      },
      {
        "duration": 1006,
        "start_time": "2021-11-27T13:41:57.071Z"
      },
      {
        "duration": 579,
        "start_time": "2021-11-27T13:42:59.062Z"
      },
      {
        "duration": 771,
        "start_time": "2021-11-27T13:43:20.279Z"
      },
      {
        "duration": 2114,
        "start_time": "2021-11-27T13:43:37.607Z"
      },
      {
        "duration": 777,
        "start_time": "2022-06-17T12:55:58.805Z"
      },
      {
        "duration": 4036,
        "start_time": "2022-06-17T12:55:59.585Z"
      },
      {
        "duration": 715,
        "start_time": "2022-06-17T12:56:03.624Z"
      },
      {
        "duration": 1086,
        "start_time": "2022-06-17T12:56:04.342Z"
      },
      {
        "duration": 23,
        "start_time": "2022-06-17T12:56:05.431Z"
      },
      {
        "duration": 6,
        "start_time": "2022-06-17T12:56:05.455Z"
      },
      {
        "duration": 11,
        "start_time": "2022-06-17T12:56:05.462Z"
      },
      {
        "duration": 30,
        "start_time": "2022-06-17T12:56:19.769Z"
      }
    ],
    "kernelspec": {
      "display_name": "Python 3 (ipykernel)",
      "language": "python",
      "name": "python3"
    },
    "language_info": {
      "codemirror_mode": {
        "name": "ipython",
        "version": 3
      },
      "file_extension": ".py",
      "mimetype": "text/x-python",
      "name": "python",
      "nbconvert_exporter": "python",
      "pygments_lexer": "ipython3",
      "version": "3.9.5"
    },
    "toc": {
      "base_numbering": 1,
      "nav_menu": {},
      "number_sections": true,
      "sideBar": true,
      "skip_h1_title": true,
      "title_cell": "Table of Contents",
      "title_sidebar": "Contents",
      "toc_cell": false,
      "toc_position": {
        "height": "calc(100% - 180px)",
        "left": "10px",
        "top": "150px",
        "width": "325px"
      },
      "toc_section_display": true,
      "toc_window_display": true
    },
    "colab": {
      "name": "DariaNika_preprocessing&EDA_real_estate.ipynb",
      "provenance": [],
      "collapsed_sections": [
        "dOrMDbRc7UTo",
        "CBdIPUdX7UTu",
        "8AqcwEyc7UTv",
        "onje-58C7UUD",
        "2Zmt_J0b7UUG",
        "phuCjf-_7UUS",
        "L9r7IjW-7UUZ"
      ]
    }
  },
  "nbformat": 4,
  "nbformat_minor": 0
}