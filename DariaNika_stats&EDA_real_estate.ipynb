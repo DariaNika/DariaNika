{
  "cells": [
    {
      "cell_type": "markdown",
      "metadata": {
        "id": "9Ol7k_Z2eyuE"
      },
      "source": [
        "# Исследование объявлений о продаже квартир\n",
        "\n",
        "В нашем распоряжении данные сервиса Яндекс.Недвижимость — архив объявлений о продаже квартир в Санкт-Петербурге и соседних населённых пунктах за несколько лет. Задача провести исследовательский анализ данных, ответить на частные вопросы и выявить основные зависимости.\n",
        "\n",
        "В ходе проекта используются библиотеки pandas, numpy, matplotlib. Анализируются описательные статистики, коэффициенты корреляции. Распределения переменных и их взаимозависимость анализируется с помощью графиков."
      ]
    },
    {
      "cell_type": "markdown",
      "metadata": {
        "id": "Rod3IBAVeyuH"
      },
      "source": [
        "## Изучение данных из файла"
      ]
    },
    {
      "cell_type": "markdown",
      "metadata": {
        "id": "slX7TLOVio_x"
      },
      "source": [
        "Читаем файл. Заранее оговорим, что с первого раза не получится, т.к. в базе особый разделитель в данных - \"/t\", укажем его в качестве аргумента. Десятые доли отображаются корректно, поэтому аргумент decimals при чтении данных опустим."
      ]
    },
    {
      "cell_type": "code",
      "execution_count": 1,
      "metadata": {
        "id": "EmLniUpTeyuI"
      },
      "outputs": [],
      "source": [
        "import pandas as pd\n",
        "import numpy as np\n",
        "import matplotlib.pyplot as plt"
      ]
    },
    {
      "cell_type": "code",
      "execution_count": 2,
      "metadata": {
        "id": "Mhk8CrS_F1Kl",
        "outputId": "79df7d08-0bad-4c4d-e505-dbc18dec99fd",
        "colab": {
          "base_uri": "https://localhost:8080/",
          "height": 1000
        }
      },
      "outputs": [
        {
          "output_type": "display_data",
          "data": {
            "text/plain": [
              "       total_images  last_price  total_area first_day_exposition  rooms  \\\n",
              "0                20  13000000.0      108.00  2019-03-07T00:00:00      3   \n",
              "1                 7   3350000.0       40.40  2018-12-04T00:00:00      1   \n",
              "2                10   5196000.0       56.00  2015-08-20T00:00:00      2   \n",
              "3                 0  64900000.0      159.00  2015-07-24T00:00:00      3   \n",
              "4                 2  10000000.0      100.00  2018-06-19T00:00:00      2   \n",
              "...             ...         ...         ...                  ...    ...   \n",
              "23694             9   9700000.0      133.81  2017-03-21T00:00:00      3   \n",
              "23695            14   3100000.0       59.00  2018-01-15T00:00:00      3   \n",
              "23696            18   2500000.0       56.70  2018-02-11T00:00:00      2   \n",
              "23697            13  11475000.0       76.75  2017-03-28T00:00:00      2   \n",
              "23698             4   1350000.0       32.30  2017-07-21T00:00:00      1   \n",
              "\n",
              "       ceiling_height  floors_total  living_area  floor is_apartment  ...  \\\n",
              "0                2.70          16.0         51.0      8          NaN  ...   \n",
              "1                 NaN          11.0         18.6      1          NaN  ...   \n",
              "2                 NaN           5.0         34.3      4          NaN  ...   \n",
              "3                 NaN          14.0          NaN      9          NaN  ...   \n",
              "4                3.03          14.0         32.0     13          NaN  ...   \n",
              "...               ...           ...          ...    ...          ...  ...   \n",
              "23694            3.70           5.0         73.3      3          NaN  ...   \n",
              "23695             NaN           5.0         38.0      4          NaN  ...   \n",
              "23696             NaN           3.0         29.7      1          NaN  ...   \n",
              "23697            3.00          17.0          NaN     12          NaN  ...   \n",
              "23698            2.50           5.0         12.3      1          NaN  ...   \n",
              "\n",
              "       kitchen_area  balcony        locality_name  airports_nearest  \\\n",
              "0             25.00      NaN      Санкт-Петербург           18863.0   \n",
              "1             11.00      2.0       посёлок Шушары           12817.0   \n",
              "2              8.30      0.0      Санкт-Петербург           21741.0   \n",
              "3               NaN      0.0      Санкт-Петербург           28098.0   \n",
              "4             41.00      NaN      Санкт-Петербург           31856.0   \n",
              "...             ...      ...                  ...               ...   \n",
              "23694         13.83      NaN      Санкт-Петербург           24665.0   \n",
              "23695          8.50      NaN                Тосно               NaN   \n",
              "23696           NaN      NaN     село Рождествено               NaN   \n",
              "23697         23.30      2.0      Санкт-Петербург           39140.0   \n",
              "23698          9.00      NaN  поселок Новый Учхоз               NaN   \n",
              "\n",
              "      cityCenters_nearest  parks_around3000  parks_nearest  ponds_around3000  \\\n",
              "0                 16028.0               1.0          482.0               2.0   \n",
              "1                 18603.0               0.0            NaN               0.0   \n",
              "2                 13933.0               1.0           90.0               2.0   \n",
              "3                  6800.0               2.0           84.0               3.0   \n",
              "4                  8098.0               2.0          112.0               1.0   \n",
              "...                   ...               ...            ...               ...   \n",
              "23694              4232.0               1.0          796.0               3.0   \n",
              "23695                 NaN               NaN            NaN               NaN   \n",
              "23696                 NaN               NaN            NaN               NaN   \n",
              "23697             10364.0               2.0          173.0               3.0   \n",
              "23698                 NaN               NaN            NaN               NaN   \n",
              "\n",
              "       ponds_nearest  days_exposition  \n",
              "0              755.0              NaN  \n",
              "1                NaN             81.0  \n",
              "2              574.0            558.0  \n",
              "3              234.0            424.0  \n",
              "4               48.0            121.0  \n",
              "...              ...              ...  \n",
              "23694          381.0              NaN  \n",
              "23695            NaN             45.0  \n",
              "23696            NaN              NaN  \n",
              "23697          196.0            602.0  \n",
              "23698            NaN              NaN  \n",
              "\n",
              "[23699 rows x 22 columns]"
            ],
            "text/html": [
              "\n",
              "  <div id=\"df-b94b484b-df96-4afe-82ed-c1bbec2ebb4b\">\n",
              "    <div class=\"colab-df-container\">\n",
              "      <div>\n",
              "<style scoped>\n",
              "    .dataframe tbody tr th:only-of-type {\n",
              "        vertical-align: middle;\n",
              "    }\n",
              "\n",
              "    .dataframe tbody tr th {\n",
              "        vertical-align: top;\n",
              "    }\n",
              "\n",
              "    .dataframe thead th {\n",
              "        text-align: right;\n",
              "    }\n",
              "</style>\n",
              "<table border=\"1\" class=\"dataframe\">\n",
              "  <thead>\n",
              "    <tr style=\"text-align: right;\">\n",
              "      <th></th>\n",
              "      <th>total_images</th>\n",
              "      <th>last_price</th>\n",
              "      <th>total_area</th>\n",
              "      <th>first_day_exposition</th>\n",
              "      <th>rooms</th>\n",
              "      <th>ceiling_height</th>\n",
              "      <th>floors_total</th>\n",
              "      <th>living_area</th>\n",
              "      <th>floor</th>\n",
              "      <th>is_apartment</th>\n",
              "      <th>...</th>\n",
              "      <th>kitchen_area</th>\n",
              "      <th>balcony</th>\n",
              "      <th>locality_name</th>\n",
              "      <th>airports_nearest</th>\n",
              "      <th>cityCenters_nearest</th>\n",
              "      <th>parks_around3000</th>\n",
              "      <th>parks_nearest</th>\n",
              "      <th>ponds_around3000</th>\n",
              "      <th>ponds_nearest</th>\n",
              "      <th>days_exposition</th>\n",
              "    </tr>\n",
              "  </thead>\n",
              "  <tbody>\n",
              "    <tr>\n",
              "      <th>0</th>\n",
              "      <td>20</td>\n",
              "      <td>13000000.0</td>\n",
              "      <td>108.00</td>\n",
              "      <td>2019-03-07T00:00:00</td>\n",
              "      <td>3</td>\n",
              "      <td>2.70</td>\n",
              "      <td>16.0</td>\n",
              "      <td>51.0</td>\n",
              "      <td>8</td>\n",
              "      <td>NaN</td>\n",
              "      <td>...</td>\n",
              "      <td>25.00</td>\n",
              "      <td>NaN</td>\n",
              "      <td>Санкт-Петербург</td>\n",
              "      <td>18863.0</td>\n",
              "      <td>16028.0</td>\n",
              "      <td>1.0</td>\n",
              "      <td>482.0</td>\n",
              "      <td>2.0</td>\n",
              "      <td>755.0</td>\n",
              "      <td>NaN</td>\n",
              "    </tr>\n",
              "    <tr>\n",
              "      <th>1</th>\n",
              "      <td>7</td>\n",
              "      <td>3350000.0</td>\n",
              "      <td>40.40</td>\n",
              "      <td>2018-12-04T00:00:00</td>\n",
              "      <td>1</td>\n",
              "      <td>NaN</td>\n",
              "      <td>11.0</td>\n",
              "      <td>18.6</td>\n",
              "      <td>1</td>\n",
              "      <td>NaN</td>\n",
              "      <td>...</td>\n",
              "      <td>11.00</td>\n",
              "      <td>2.0</td>\n",
              "      <td>посёлок Шушары</td>\n",
              "      <td>12817.0</td>\n",
              "      <td>18603.0</td>\n",
              "      <td>0.0</td>\n",
              "      <td>NaN</td>\n",
              "      <td>0.0</td>\n",
              "      <td>NaN</td>\n",
              "      <td>81.0</td>\n",
              "    </tr>\n",
              "    <tr>\n",
              "      <th>2</th>\n",
              "      <td>10</td>\n",
              "      <td>5196000.0</td>\n",
              "      <td>56.00</td>\n",
              "      <td>2015-08-20T00:00:00</td>\n",
              "      <td>2</td>\n",
              "      <td>NaN</td>\n",
              "      <td>5.0</td>\n",
              "      <td>34.3</td>\n",
              "      <td>4</td>\n",
              "      <td>NaN</td>\n",
              "      <td>...</td>\n",
              "      <td>8.30</td>\n",
              "      <td>0.0</td>\n",
              "      <td>Санкт-Петербург</td>\n",
              "      <td>21741.0</td>\n",
              "      <td>13933.0</td>\n",
              "      <td>1.0</td>\n",
              "      <td>90.0</td>\n",
              "      <td>2.0</td>\n",
              "      <td>574.0</td>\n",
              "      <td>558.0</td>\n",
              "    </tr>\n",
              "    <tr>\n",
              "      <th>3</th>\n",
              "      <td>0</td>\n",
              "      <td>64900000.0</td>\n",
              "      <td>159.00</td>\n",
              "      <td>2015-07-24T00:00:00</td>\n",
              "      <td>3</td>\n",
              "      <td>NaN</td>\n",
              "      <td>14.0</td>\n",
              "      <td>NaN</td>\n",
              "      <td>9</td>\n",
              "      <td>NaN</td>\n",
              "      <td>...</td>\n",
              "      <td>NaN</td>\n",
              "      <td>0.0</td>\n",
              "      <td>Санкт-Петербург</td>\n",
              "      <td>28098.0</td>\n",
              "      <td>6800.0</td>\n",
              "      <td>2.0</td>\n",
              "      <td>84.0</td>\n",
              "      <td>3.0</td>\n",
              "      <td>234.0</td>\n",
              "      <td>424.0</td>\n",
              "    </tr>\n",
              "    <tr>\n",
              "      <th>4</th>\n",
              "      <td>2</td>\n",
              "      <td>10000000.0</td>\n",
              "      <td>100.00</td>\n",
              "      <td>2018-06-19T00:00:00</td>\n",
              "      <td>2</td>\n",
              "      <td>3.03</td>\n",
              "      <td>14.0</td>\n",
              "      <td>32.0</td>\n",
              "      <td>13</td>\n",
              "      <td>NaN</td>\n",
              "      <td>...</td>\n",
              "      <td>41.00</td>\n",
              "      <td>NaN</td>\n",
              "      <td>Санкт-Петербург</td>\n",
              "      <td>31856.0</td>\n",
              "      <td>8098.0</td>\n",
              "      <td>2.0</td>\n",
              "      <td>112.0</td>\n",
              "      <td>1.0</td>\n",
              "      <td>48.0</td>\n",
              "      <td>121.0</td>\n",
              "    </tr>\n",
              "    <tr>\n",
              "      <th>...</th>\n",
              "      <td>...</td>\n",
              "      <td>...</td>\n",
              "      <td>...</td>\n",
              "      <td>...</td>\n",
              "      <td>...</td>\n",
              "      <td>...</td>\n",
              "      <td>...</td>\n",
              "      <td>...</td>\n",
              "      <td>...</td>\n",
              "      <td>...</td>\n",
              "      <td>...</td>\n",
              "      <td>...</td>\n",
              "      <td>...</td>\n",
              "      <td>...</td>\n",
              "      <td>...</td>\n",
              "      <td>...</td>\n",
              "      <td>...</td>\n",
              "      <td>...</td>\n",
              "      <td>...</td>\n",
              "      <td>...</td>\n",
              "      <td>...</td>\n",
              "    </tr>\n",
              "    <tr>\n",
              "      <th>23694</th>\n",
              "      <td>9</td>\n",
              "      <td>9700000.0</td>\n",
              "      <td>133.81</td>\n",
              "      <td>2017-03-21T00:00:00</td>\n",
              "      <td>3</td>\n",
              "      <td>3.70</td>\n",
              "      <td>5.0</td>\n",
              "      <td>73.3</td>\n",
              "      <td>3</td>\n",
              "      <td>NaN</td>\n",
              "      <td>...</td>\n",
              "      <td>13.83</td>\n",
              "      <td>NaN</td>\n",
              "      <td>Санкт-Петербург</td>\n",
              "      <td>24665.0</td>\n",
              "      <td>4232.0</td>\n",
              "      <td>1.0</td>\n",
              "      <td>796.0</td>\n",
              "      <td>3.0</td>\n",
              "      <td>381.0</td>\n",
              "      <td>NaN</td>\n",
              "    </tr>\n",
              "    <tr>\n",
              "      <th>23695</th>\n",
              "      <td>14</td>\n",
              "      <td>3100000.0</td>\n",
              "      <td>59.00</td>\n",
              "      <td>2018-01-15T00:00:00</td>\n",
              "      <td>3</td>\n",
              "      <td>NaN</td>\n",
              "      <td>5.0</td>\n",
              "      <td>38.0</td>\n",
              "      <td>4</td>\n",
              "      <td>NaN</td>\n",
              "      <td>...</td>\n",
              "      <td>8.50</td>\n",
              "      <td>NaN</td>\n",
              "      <td>Тосно</td>\n",
              "      <td>NaN</td>\n",
              "      <td>NaN</td>\n",
              "      <td>NaN</td>\n",
              "      <td>NaN</td>\n",
              "      <td>NaN</td>\n",
              "      <td>NaN</td>\n",
              "      <td>45.0</td>\n",
              "    </tr>\n",
              "    <tr>\n",
              "      <th>23696</th>\n",
              "      <td>18</td>\n",
              "      <td>2500000.0</td>\n",
              "      <td>56.70</td>\n",
              "      <td>2018-02-11T00:00:00</td>\n",
              "      <td>2</td>\n",
              "      <td>NaN</td>\n",
              "      <td>3.0</td>\n",
              "      <td>29.7</td>\n",
              "      <td>1</td>\n",
              "      <td>NaN</td>\n",
              "      <td>...</td>\n",
              "      <td>NaN</td>\n",
              "      <td>NaN</td>\n",
              "      <td>село Рождествено</td>\n",
              "      <td>NaN</td>\n",
              "      <td>NaN</td>\n",
              "      <td>NaN</td>\n",
              "      <td>NaN</td>\n",
              "      <td>NaN</td>\n",
              "      <td>NaN</td>\n",
              "      <td>NaN</td>\n",
              "    </tr>\n",
              "    <tr>\n",
              "      <th>23697</th>\n",
              "      <td>13</td>\n",
              "      <td>11475000.0</td>\n",
              "      <td>76.75</td>\n",
              "      <td>2017-03-28T00:00:00</td>\n",
              "      <td>2</td>\n",
              "      <td>3.00</td>\n",
              "      <td>17.0</td>\n",
              "      <td>NaN</td>\n",
              "      <td>12</td>\n",
              "      <td>NaN</td>\n",
              "      <td>...</td>\n",
              "      <td>23.30</td>\n",
              "      <td>2.0</td>\n",
              "      <td>Санкт-Петербург</td>\n",
              "      <td>39140.0</td>\n",
              "      <td>10364.0</td>\n",
              "      <td>2.0</td>\n",
              "      <td>173.0</td>\n",
              "      <td>3.0</td>\n",
              "      <td>196.0</td>\n",
              "      <td>602.0</td>\n",
              "    </tr>\n",
              "    <tr>\n",
              "      <th>23698</th>\n",
              "      <td>4</td>\n",
              "      <td>1350000.0</td>\n",
              "      <td>32.30</td>\n",
              "      <td>2017-07-21T00:00:00</td>\n",
              "      <td>1</td>\n",
              "      <td>2.50</td>\n",
              "      <td>5.0</td>\n",
              "      <td>12.3</td>\n",
              "      <td>1</td>\n",
              "      <td>NaN</td>\n",
              "      <td>...</td>\n",
              "      <td>9.00</td>\n",
              "      <td>NaN</td>\n",
              "      <td>поселок Новый Учхоз</td>\n",
              "      <td>NaN</td>\n",
              "      <td>NaN</td>\n",
              "      <td>NaN</td>\n",
              "      <td>NaN</td>\n",
              "      <td>NaN</td>\n",
              "      <td>NaN</td>\n",
              "      <td>NaN</td>\n",
              "    </tr>\n",
              "  </tbody>\n",
              "</table>\n",
              "<p>23699 rows × 22 columns</p>\n",
              "</div>\n",
              "      <button class=\"colab-df-convert\" onclick=\"convertToInteractive('df-b94b484b-df96-4afe-82ed-c1bbec2ebb4b')\"\n",
              "              title=\"Convert this dataframe to an interactive table.\"\n",
              "              style=\"display:none;\">\n",
              "        \n",
              "  <svg xmlns=\"http://www.w3.org/2000/svg\" height=\"24px\"viewBox=\"0 0 24 24\"\n",
              "       width=\"24px\">\n",
              "    <path d=\"M0 0h24v24H0V0z\" fill=\"none\"/>\n",
              "    <path d=\"M18.56 5.44l.94 2.06.94-2.06 2.06-.94-2.06-.94-.94-2.06-.94 2.06-2.06.94zm-11 1L8.5 8.5l.94-2.06 2.06-.94-2.06-.94L8.5 2.5l-.94 2.06-2.06.94zm10 10l.94 2.06.94-2.06 2.06-.94-2.06-.94-.94-2.06-.94 2.06-2.06.94z\"/><path d=\"M17.41 7.96l-1.37-1.37c-.4-.4-.92-.59-1.43-.59-.52 0-1.04.2-1.43.59L10.3 9.45l-7.72 7.72c-.78.78-.78 2.05 0 2.83L4 21.41c.39.39.9.59 1.41.59.51 0 1.02-.2 1.41-.59l7.78-7.78 2.81-2.81c.8-.78.8-2.07 0-2.86zM5.41 20L4 18.59l7.72-7.72 1.47 1.35L5.41 20z\"/>\n",
              "  </svg>\n",
              "      </button>\n",
              "      \n",
              "  <style>\n",
              "    .colab-df-container {\n",
              "      display:flex;\n",
              "      flex-wrap:wrap;\n",
              "      gap: 12px;\n",
              "    }\n",
              "\n",
              "    .colab-df-convert {\n",
              "      background-color: #E8F0FE;\n",
              "      border: none;\n",
              "      border-radius: 50%;\n",
              "      cursor: pointer;\n",
              "      display: none;\n",
              "      fill: #1967D2;\n",
              "      height: 32px;\n",
              "      padding: 0 0 0 0;\n",
              "      width: 32px;\n",
              "    }\n",
              "\n",
              "    .colab-df-convert:hover {\n",
              "      background-color: #E2EBFA;\n",
              "      box-shadow: 0px 1px 2px rgba(60, 64, 67, 0.3), 0px 1px 3px 1px rgba(60, 64, 67, 0.15);\n",
              "      fill: #174EA6;\n",
              "    }\n",
              "\n",
              "    [theme=dark] .colab-df-convert {\n",
              "      background-color: #3B4455;\n",
              "      fill: #D2E3FC;\n",
              "    }\n",
              "\n",
              "    [theme=dark] .colab-df-convert:hover {\n",
              "      background-color: #434B5C;\n",
              "      box-shadow: 0px 1px 3px 1px rgba(0, 0, 0, 0.15);\n",
              "      filter: drop-shadow(0px 1px 2px rgba(0, 0, 0, 0.3));\n",
              "      fill: #FFFFFF;\n",
              "    }\n",
              "  </style>\n",
              "\n",
              "      <script>\n",
              "        const buttonEl =\n",
              "          document.querySelector('#df-b94b484b-df96-4afe-82ed-c1bbec2ebb4b button.colab-df-convert');\n",
              "        buttonEl.style.display =\n",
              "          google.colab.kernel.accessAllowed ? 'block' : 'none';\n",
              "\n",
              "        async function convertToInteractive(key) {\n",
              "          const element = document.querySelector('#df-b94b484b-df96-4afe-82ed-c1bbec2ebb4b');\n",
              "          const dataTable =\n",
              "            await google.colab.kernel.invokeFunction('convertToInteractive',\n",
              "                                                     [key], {});\n",
              "          if (!dataTable) return;\n",
              "\n",
              "          const docLinkHtml = 'Like what you see? Visit the ' +\n",
              "            '<a target=\"_blank\" href=https://colab.research.google.com/notebooks/data_table.ipynb>data table notebook</a>'\n",
              "            + ' to learn more about interactive tables.';\n",
              "          element.innerHTML = '';\n",
              "          dataTable['output_type'] = 'display_data';\n",
              "          await google.colab.output.renderOutput(dataTable, element);\n",
              "          const docLink = document.createElement('div');\n",
              "          docLink.innerHTML = docLinkHtml;\n",
              "          element.appendChild(docLink);\n",
              "        }\n",
              "      </script>\n",
              "    </div>\n",
              "  </div>\n",
              "  "
            ]
          },
          "metadata": {}
        },
        {
          "output_type": "stream",
          "name": "stdout",
          "text": [
            "<class 'pandas.core.frame.DataFrame'>\n",
            "RangeIndex: 23699 entries, 0 to 23698\n",
            "Data columns (total 22 columns):\n",
            " #   Column                Non-Null Count  Dtype  \n",
            "---  ------                --------------  -----  \n",
            " 0   total_images          23699 non-null  int64  \n",
            " 1   last_price            23699 non-null  float64\n",
            " 2   total_area            23699 non-null  float64\n",
            " 3   first_day_exposition  23699 non-null  object \n",
            " 4   rooms                 23699 non-null  int64  \n",
            " 5   ceiling_height        14504 non-null  float64\n",
            " 6   floors_total          23613 non-null  float64\n",
            " 7   living_area           21796 non-null  float64\n",
            " 8   floor                 23699 non-null  int64  \n",
            " 9   is_apartment          2775 non-null   object \n",
            " 10  studio                23699 non-null  bool   \n",
            " 11  open_plan             23699 non-null  bool   \n",
            " 12  kitchen_area          21421 non-null  float64\n",
            " 13  balcony               12180 non-null  float64\n",
            " 14  locality_name         23650 non-null  object \n",
            " 15  airports_nearest      18157 non-null  float64\n",
            " 16  cityCenters_nearest   18180 non-null  float64\n",
            " 17  parks_around3000      18181 non-null  float64\n",
            " 18  parks_nearest         8079 non-null   float64\n",
            " 19  ponds_around3000      18181 non-null  float64\n",
            " 20  ponds_nearest         9110 non-null   float64\n",
            " 21  days_exposition       20518 non-null  float64\n",
            "dtypes: bool(2), float64(14), int64(3), object(3)\n",
            "memory usage: 3.7+ MB\n"
          ]
        }
      ],
      "source": [
        "df = pd.read_csv('real_estate_data.csv', sep= '\\t')\n",
        "display(df)\n",
        "df.info()"
      ]
    },
    {
      "cell_type": "code",
      "execution_count": 3,
      "metadata": {
        "id": "INo8JpAzF1Kq",
        "outputId": "0ae6bc8b-1afd-4c41-9f3a-05573754d784",
        "colab": {
          "base_uri": "https://localhost:8080/",
          "height": 582
        }
      },
      "outputs": [
        {
          "output_type": "execute_result",
          "data": {
            "text/plain": [
              "                       count          mean           std      min         25%  \\\n",
              "total_images         23699.0  9.858475e+00  5.682529e+00      0.0        6.00   \n",
              "last_price           23699.0  6.541549e+06  1.088701e+07  12190.0  3400000.00   \n",
              "total_area           23699.0  6.034865e+01  3.565408e+01     12.0       40.00   \n",
              "rooms                23699.0  2.070636e+00  1.078405e+00      0.0        1.00   \n",
              "ceiling_height       14504.0  2.771499e+00  1.261056e+00      1.0        2.52   \n",
              "floors_total         23613.0  1.067382e+01  6.597173e+00      1.0        5.00   \n",
              "living_area          21796.0  3.445785e+01  2.203045e+01      2.0       18.60   \n",
              "floor                23699.0  5.892358e+00  4.885249e+00      1.0        2.00   \n",
              "kitchen_area         21421.0  1.056981e+01  5.905438e+00      1.3        7.00   \n",
              "balcony              12180.0  1.150082e+00  1.071300e+00      0.0        0.00   \n",
              "airports_nearest     18157.0  2.879367e+04  1.263088e+04      0.0    18585.00   \n",
              "cityCenters_nearest  18180.0  1.419128e+04  8.608386e+03    181.0     9238.00   \n",
              "parks_around3000     18181.0  6.114075e-01  8.020736e-01      0.0        0.00   \n",
              "parks_nearest         8079.0  4.908046e+02  3.423180e+02      1.0      288.00   \n",
              "ponds_around3000     18181.0  7.702547e-01  9.383456e-01      0.0        0.00   \n",
              "ponds_nearest         9110.0  5.179809e+02  2.777206e+02     13.0      294.00   \n",
              "days_exposition      20518.0  1.808886e+02  2.197280e+02      1.0       45.00   \n",
              "\n",
              "                            50%        75%          max  \n",
              "total_images               9.00       14.0         50.0  \n",
              "last_price           4650000.00  6800000.0  763000000.0  \n",
              "total_area                52.00       69.9        900.0  \n",
              "rooms                      2.00        3.0         19.0  \n",
              "ceiling_height             2.65        2.8        100.0  \n",
              "floors_total               9.00       16.0         60.0  \n",
              "living_area               30.00       42.3        409.7  \n",
              "floor                      4.00        8.0         33.0  \n",
              "kitchen_area               9.10       12.0        112.0  \n",
              "balcony                    1.00        2.0          5.0  \n",
              "airports_nearest       26726.00    37273.0      84869.0  \n",
              "cityCenters_nearest    13098.50    16293.0      65968.0  \n",
              "parks_around3000           0.00        1.0          3.0  \n",
              "parks_nearest            455.00      612.0       3190.0  \n",
              "ponds_around3000           1.00        1.0          3.0  \n",
              "ponds_nearest            502.00      729.0       1344.0  \n",
              "days_exposition           95.00      232.0       1580.0  "
            ],
            "text/html": [
              "\n",
              "  <div id=\"df-24a514ed-507a-451c-b596-d15448d3868e\">\n",
              "    <div class=\"colab-df-container\">\n",
              "      <div>\n",
              "<style scoped>\n",
              "    .dataframe tbody tr th:only-of-type {\n",
              "        vertical-align: middle;\n",
              "    }\n",
              "\n",
              "    .dataframe tbody tr th {\n",
              "        vertical-align: top;\n",
              "    }\n",
              "\n",
              "    .dataframe thead th {\n",
              "        text-align: right;\n",
              "    }\n",
              "</style>\n",
              "<table border=\"1\" class=\"dataframe\">\n",
              "  <thead>\n",
              "    <tr style=\"text-align: right;\">\n",
              "      <th></th>\n",
              "      <th>count</th>\n",
              "      <th>mean</th>\n",
              "      <th>std</th>\n",
              "      <th>min</th>\n",
              "      <th>25%</th>\n",
              "      <th>50%</th>\n",
              "      <th>75%</th>\n",
              "      <th>max</th>\n",
              "    </tr>\n",
              "  </thead>\n",
              "  <tbody>\n",
              "    <tr>\n",
              "      <th>total_images</th>\n",
              "      <td>23699.0</td>\n",
              "      <td>9.858475e+00</td>\n",
              "      <td>5.682529e+00</td>\n",
              "      <td>0.0</td>\n",
              "      <td>6.00</td>\n",
              "      <td>9.00</td>\n",
              "      <td>14.0</td>\n",
              "      <td>50.0</td>\n",
              "    </tr>\n",
              "    <tr>\n",
              "      <th>last_price</th>\n",
              "      <td>23699.0</td>\n",
              "      <td>6.541549e+06</td>\n",
              "      <td>1.088701e+07</td>\n",
              "      <td>12190.0</td>\n",
              "      <td>3400000.00</td>\n",
              "      <td>4650000.00</td>\n",
              "      <td>6800000.0</td>\n",
              "      <td>763000000.0</td>\n",
              "    </tr>\n",
              "    <tr>\n",
              "      <th>total_area</th>\n",
              "      <td>23699.0</td>\n",
              "      <td>6.034865e+01</td>\n",
              "      <td>3.565408e+01</td>\n",
              "      <td>12.0</td>\n",
              "      <td>40.00</td>\n",
              "      <td>52.00</td>\n",
              "      <td>69.9</td>\n",
              "      <td>900.0</td>\n",
              "    </tr>\n",
              "    <tr>\n",
              "      <th>rooms</th>\n",
              "      <td>23699.0</td>\n",
              "      <td>2.070636e+00</td>\n",
              "      <td>1.078405e+00</td>\n",
              "      <td>0.0</td>\n",
              "      <td>1.00</td>\n",
              "      <td>2.00</td>\n",
              "      <td>3.0</td>\n",
              "      <td>19.0</td>\n",
              "    </tr>\n",
              "    <tr>\n",
              "      <th>ceiling_height</th>\n",
              "      <td>14504.0</td>\n",
              "      <td>2.771499e+00</td>\n",
              "      <td>1.261056e+00</td>\n",
              "      <td>1.0</td>\n",
              "      <td>2.52</td>\n",
              "      <td>2.65</td>\n",
              "      <td>2.8</td>\n",
              "      <td>100.0</td>\n",
              "    </tr>\n",
              "    <tr>\n",
              "      <th>floors_total</th>\n",
              "      <td>23613.0</td>\n",
              "      <td>1.067382e+01</td>\n",
              "      <td>6.597173e+00</td>\n",
              "      <td>1.0</td>\n",
              "      <td>5.00</td>\n",
              "      <td>9.00</td>\n",
              "      <td>16.0</td>\n",
              "      <td>60.0</td>\n",
              "    </tr>\n",
              "    <tr>\n",
              "      <th>living_area</th>\n",
              "      <td>21796.0</td>\n",
              "      <td>3.445785e+01</td>\n",
              "      <td>2.203045e+01</td>\n",
              "      <td>2.0</td>\n",
              "      <td>18.60</td>\n",
              "      <td>30.00</td>\n",
              "      <td>42.3</td>\n",
              "      <td>409.7</td>\n",
              "    </tr>\n",
              "    <tr>\n",
              "      <th>floor</th>\n",
              "      <td>23699.0</td>\n",
              "      <td>5.892358e+00</td>\n",
              "      <td>4.885249e+00</td>\n",
              "      <td>1.0</td>\n",
              "      <td>2.00</td>\n",
              "      <td>4.00</td>\n",
              "      <td>8.0</td>\n",
              "      <td>33.0</td>\n",
              "    </tr>\n",
              "    <tr>\n",
              "      <th>kitchen_area</th>\n",
              "      <td>21421.0</td>\n",
              "      <td>1.056981e+01</td>\n",
              "      <td>5.905438e+00</td>\n",
              "      <td>1.3</td>\n",
              "      <td>7.00</td>\n",
              "      <td>9.10</td>\n",
              "      <td>12.0</td>\n",
              "      <td>112.0</td>\n",
              "    </tr>\n",
              "    <tr>\n",
              "      <th>balcony</th>\n",
              "      <td>12180.0</td>\n",
              "      <td>1.150082e+00</td>\n",
              "      <td>1.071300e+00</td>\n",
              "      <td>0.0</td>\n",
              "      <td>0.00</td>\n",
              "      <td>1.00</td>\n",
              "      <td>2.0</td>\n",
              "      <td>5.0</td>\n",
              "    </tr>\n",
              "    <tr>\n",
              "      <th>airports_nearest</th>\n",
              "      <td>18157.0</td>\n",
              "      <td>2.879367e+04</td>\n",
              "      <td>1.263088e+04</td>\n",
              "      <td>0.0</td>\n",
              "      <td>18585.00</td>\n",
              "      <td>26726.00</td>\n",
              "      <td>37273.0</td>\n",
              "      <td>84869.0</td>\n",
              "    </tr>\n",
              "    <tr>\n",
              "      <th>cityCenters_nearest</th>\n",
              "      <td>18180.0</td>\n",
              "      <td>1.419128e+04</td>\n",
              "      <td>8.608386e+03</td>\n",
              "      <td>181.0</td>\n",
              "      <td>9238.00</td>\n",
              "      <td>13098.50</td>\n",
              "      <td>16293.0</td>\n",
              "      <td>65968.0</td>\n",
              "    </tr>\n",
              "    <tr>\n",
              "      <th>parks_around3000</th>\n",
              "      <td>18181.0</td>\n",
              "      <td>6.114075e-01</td>\n",
              "      <td>8.020736e-01</td>\n",
              "      <td>0.0</td>\n",
              "      <td>0.00</td>\n",
              "      <td>0.00</td>\n",
              "      <td>1.0</td>\n",
              "      <td>3.0</td>\n",
              "    </tr>\n",
              "    <tr>\n",
              "      <th>parks_nearest</th>\n",
              "      <td>8079.0</td>\n",
              "      <td>4.908046e+02</td>\n",
              "      <td>3.423180e+02</td>\n",
              "      <td>1.0</td>\n",
              "      <td>288.00</td>\n",
              "      <td>455.00</td>\n",
              "      <td>612.0</td>\n",
              "      <td>3190.0</td>\n",
              "    </tr>\n",
              "    <tr>\n",
              "      <th>ponds_around3000</th>\n",
              "      <td>18181.0</td>\n",
              "      <td>7.702547e-01</td>\n",
              "      <td>9.383456e-01</td>\n",
              "      <td>0.0</td>\n",
              "      <td>0.00</td>\n",
              "      <td>1.00</td>\n",
              "      <td>1.0</td>\n",
              "      <td>3.0</td>\n",
              "    </tr>\n",
              "    <tr>\n",
              "      <th>ponds_nearest</th>\n",
              "      <td>9110.0</td>\n",
              "      <td>5.179809e+02</td>\n",
              "      <td>2.777206e+02</td>\n",
              "      <td>13.0</td>\n",
              "      <td>294.00</td>\n",
              "      <td>502.00</td>\n",
              "      <td>729.0</td>\n",
              "      <td>1344.0</td>\n",
              "    </tr>\n",
              "    <tr>\n",
              "      <th>days_exposition</th>\n",
              "      <td>20518.0</td>\n",
              "      <td>1.808886e+02</td>\n",
              "      <td>2.197280e+02</td>\n",
              "      <td>1.0</td>\n",
              "      <td>45.00</td>\n",
              "      <td>95.00</td>\n",
              "      <td>232.0</td>\n",
              "      <td>1580.0</td>\n",
              "    </tr>\n",
              "  </tbody>\n",
              "</table>\n",
              "</div>\n",
              "      <button class=\"colab-df-convert\" onclick=\"convertToInteractive('df-24a514ed-507a-451c-b596-d15448d3868e')\"\n",
              "              title=\"Convert this dataframe to an interactive table.\"\n",
              "              style=\"display:none;\">\n",
              "        \n",
              "  <svg xmlns=\"http://www.w3.org/2000/svg\" height=\"24px\"viewBox=\"0 0 24 24\"\n",
              "       width=\"24px\">\n",
              "    <path d=\"M0 0h24v24H0V0z\" fill=\"none\"/>\n",
              "    <path d=\"M18.56 5.44l.94 2.06.94-2.06 2.06-.94-2.06-.94-.94-2.06-.94 2.06-2.06.94zm-11 1L8.5 8.5l.94-2.06 2.06-.94-2.06-.94L8.5 2.5l-.94 2.06-2.06.94zm10 10l.94 2.06.94-2.06 2.06-.94-2.06-.94-.94-2.06-.94 2.06-2.06.94z\"/><path d=\"M17.41 7.96l-1.37-1.37c-.4-.4-.92-.59-1.43-.59-.52 0-1.04.2-1.43.59L10.3 9.45l-7.72 7.72c-.78.78-.78 2.05 0 2.83L4 21.41c.39.39.9.59 1.41.59.51 0 1.02-.2 1.41-.59l7.78-7.78 2.81-2.81c.8-.78.8-2.07 0-2.86zM5.41 20L4 18.59l7.72-7.72 1.47 1.35L5.41 20z\"/>\n",
              "  </svg>\n",
              "      </button>\n",
              "      \n",
              "  <style>\n",
              "    .colab-df-container {\n",
              "      display:flex;\n",
              "      flex-wrap:wrap;\n",
              "      gap: 12px;\n",
              "    }\n",
              "\n",
              "    .colab-df-convert {\n",
              "      background-color: #E8F0FE;\n",
              "      border: none;\n",
              "      border-radius: 50%;\n",
              "      cursor: pointer;\n",
              "      display: none;\n",
              "      fill: #1967D2;\n",
              "      height: 32px;\n",
              "      padding: 0 0 0 0;\n",
              "      width: 32px;\n",
              "    }\n",
              "\n",
              "    .colab-df-convert:hover {\n",
              "      background-color: #E2EBFA;\n",
              "      box-shadow: 0px 1px 2px rgba(60, 64, 67, 0.3), 0px 1px 3px 1px rgba(60, 64, 67, 0.15);\n",
              "      fill: #174EA6;\n",
              "    }\n",
              "\n",
              "    [theme=dark] .colab-df-convert {\n",
              "      background-color: #3B4455;\n",
              "      fill: #D2E3FC;\n",
              "    }\n",
              "\n",
              "    [theme=dark] .colab-df-convert:hover {\n",
              "      background-color: #434B5C;\n",
              "      box-shadow: 0px 1px 3px 1px rgba(0, 0, 0, 0.15);\n",
              "      filter: drop-shadow(0px 1px 2px rgba(0, 0, 0, 0.3));\n",
              "      fill: #FFFFFF;\n",
              "    }\n",
              "  </style>\n",
              "\n",
              "      <script>\n",
              "        const buttonEl =\n",
              "          document.querySelector('#df-24a514ed-507a-451c-b596-d15448d3868e button.colab-df-convert');\n",
              "        buttonEl.style.display =\n",
              "          google.colab.kernel.accessAllowed ? 'block' : 'none';\n",
              "\n",
              "        async function convertToInteractive(key) {\n",
              "          const element = document.querySelector('#df-24a514ed-507a-451c-b596-d15448d3868e');\n",
              "          const dataTable =\n",
              "            await google.colab.kernel.invokeFunction('convertToInteractive',\n",
              "                                                     [key], {});\n",
              "          if (!dataTable) return;\n",
              "\n",
              "          const docLinkHtml = 'Like what you see? Visit the ' +\n",
              "            '<a target=\"_blank\" href=https://colab.research.google.com/notebooks/data_table.ipynb>data table notebook</a>'\n",
              "            + ' to learn more about interactive tables.';\n",
              "          element.innerHTML = '';\n",
              "          dataTable['output_type'] = 'display_data';\n",
              "          await google.colab.output.renderOutput(dataTable, element);\n",
              "          const docLink = document.createElement('div');\n",
              "          docLink.innerHTML = docLinkHtml;\n",
              "          element.appendChild(docLink);\n",
              "        }\n",
              "      </script>\n",
              "    </div>\n",
              "  </div>\n",
              "  "
            ]
          },
          "metadata": {},
          "execution_count": 3
        }
      ],
      "source": [
        "df.describe().T"
      ]
    },
    {
      "cell_type": "markdown",
      "metadata": {
        "id": "kfRqUnaHeyuJ"
      },
      "source": [
        "### Вывод"
      ]
    },
    {
      "cell_type": "markdown",
      "metadata": {
        "id": "wBwYHVwUeyuJ"
      },
      "source": [
        "Наша база данных содержит 22 столбца и 23 699 строк. Наша основная задача - научиться определять стоимость квартиры, т.е. переменную last_price по всем остальным независимым признакам. Имеющимися инструментами предсказывать значение last_price мы не сможем, однако мы выполним предварительный анализ: определим,что в наибольшей степени влияет на цену и каков характер этой зависимости.\n",
        "Полных дубликатов база не содержит (проверили через `df.duplicated().sum()`). Поэтому начнём работу с пропущенных данных, их достаточно много."
      ]
    },
    {
      "cell_type": "markdown",
      "metadata": {
        "id": "JMiEKvKjeyuK"
      },
      "source": [
        "## Предобработка данных"
      ]
    },
    {
      "cell_type": "markdown",
      "metadata": {
        "id": "xCIJR0VdfarJ"
      },
      "source": [
        "Почти половина базы квартир не имеет данных о высоте потолков ('ceiling_height'). Это важная для анализа переменная, однако пропущенные данные разнятся по всем остальным признакам. Если бы, например, у нас отсутствовала высота потолков у квартир одной площади или географии, данные можно было бы попытаться заполнить. Кроме того, высота потолков зависит от типа серии постройки дома, а этих данных в базе нет. По имеющимся данным заполнить высоту потолков будет ненадёжно, поэтому оставим пропуски в высоте потолков как есть. По той же причине оставим пропуски как есть в переменных этажности дома ('floors_total'), населённого пункта ('locality_name') и количества дней продажи квартиры ('days_exposition').\n",
        "\n",
        "А вот пропуски в жилой площади квартиры можно восстановить. Посмотрим на связь общей площади и жилой."
      ]
    },
    {
      "cell_type": "code",
      "execution_count": 4,
      "metadata": {
        "colab": {
          "base_uri": "https://localhost:8080/",
          "height": 476
        },
        "id": "zA2DNn1DeyuL",
        "outputId": "7faf49d6-3d9d-4839-c3b1-2198acd630c9"
      },
      "outputs": [
        {
          "output_type": "execute_result",
          "data": {
            "text/plain": [
              "0.9395373338721491"
            ]
          },
          "metadata": {},
          "execution_count": 4
        },
        {
          "output_type": "display_data",
          "data": {
            "text/plain": [
              "<Figure size 720x504 with 1 Axes>"
            ],
            "image/png": "[encoded data removed]"
          },
          "metadata": {
            "needs_background": "light"
          }
        }
      ],
      "source": [
        "df.plot(\n",
        "        x='total_area',\n",
        "        y='living_area',\n",
        "        kind='scatter',\n",
        "        figsize=(10,7),\n",
        "        title='Связь переменной общей и жилой площади',\n",
        "        color='purple',\n",
        "        alpha=0.2)\n",
        "df['total_area'].corr(df['living_area'])"
      ]
    },
    {
      "cell_type": "markdown",
      "metadata": {
        "id": "n7-F3o5tnc-0"
      },
      "source": [
        "Коэффициент корреляции крайне высокий, жилая площадь определяется общей. Очистим обе переменные от менее 1% крайне высоких значений и рассчитаем пропущенные значения жилой площади через общую."
      ]
    },
    {
      "cell_type": "markdown",
      "metadata": {
        "id": "uMqDCcEjBYt3"
      },
      "source": [
        "В переменной жилой площади квартиры есть выбросы:"
      ]
    },
    {
      "cell_type": "code",
      "execution_count": 5,
      "metadata": {
        "colab": {
          "base_uri": "https://localhost:8080/",
          "height": 458
        },
        "id": "Eyhxhe1wBe0d",
        "outputId": "d086bdc8-beec-45ff-f8f2-487bcb3a51e4"
      },
      "outputs": [
        {
          "output_type": "display_data",
          "data": {
            "text/plain": [
              "<Figure size 720x504 with 1 Axes>"
            ],
            "image/png": "[encoded data removed]"
          },
          "metadata": {
            "needs_background": "light"
          }
        }
      ],
      "source": [
        "plt.title('Частотное распределение признака жилой площади во всём массиве')\n",
        "plt.xlabel('Жилая площадь в кв. м.')\n",
        "plt.ylabel('Количество случаев в базе')\n",
        "\n",
        "df['living_area'].hist(bins=30,color='purple',figsize=(10,7))\n",
        "None"
      ]
    },
    {
      "cell_type": "markdown",
      "metadata": {
        "id": "LQ9LQ7vTBucl"
      },
      "source": [
        "Значения встречаются с относительной частотой до 200 метров, далее популярность таких площадей сомнительна. Визуализируем разброс данных диаграммой размаха."
      ]
    },
    {
      "cell_type": "code",
      "execution_count": 6,
      "metadata": {
        "id": "qQc319wuF1Kw",
        "outputId": "c2bedbd1-263e-48f4-9b77-f60b55e2390d",
        "colab": {
          "base_uri": "https://localhost:8080/",
          "height": 612
        }
      },
      "outputs": [
        {
          "output_type": "execute_result",
          "data": {
            "text/plain": [
              "<matplotlib.axes._subplots.AxesSubplot at 0x7f116afedfd0>"
            ]
          },
          "metadata": {},
          "execution_count": 6
        },
        {
          "output_type": "display_data",
          "data": {
            "text/plain": [
              "<Figure size 576x720 with 1 Axes>"
            ],
            "image/png": "[encoded data removed]"
          },
          "metadata": {
            "needs_background": "light"
          }
        }
      ],
      "source": [
        "df.boxplot(column = 'living_area', fontsize=12, figsize=(8,10))"
      ]
    },
    {
      "cell_type": "markdown",
      "metadata": {
        "id": "dvcEqnamF1Kw"
      },
      "source": [
        "У переменной явно длинный \"хвост\", который можно сократить. Посмотрим на частоту встречаемых значений при площади квартиры от 200 метров."
      ]
    },
    {
      "cell_type": "code",
      "execution_count": 7,
      "metadata": {
        "colab": {
          "base_uri": "https://localhost:8080/",
          "height": 476
        },
        "id": "sxiX2q4ZCJQ-",
        "outputId": "7ae4900e-c935-4ff4-a56f-dc67d73f0e22"
      },
      "outputs": [
        {
          "output_type": "execute_result",
          "data": {
            "text/plain": [
              "31"
            ]
          },
          "metadata": {},
          "execution_count": 7
        },
        {
          "output_type": "display_data",
          "data": {
            "text/plain": [
              "<Figure size 720x504 with 1 Axes>"
            ],
            "image/png": "[encoded data removed]"
          },
          "metadata": {
            "needs_background": "light"
          }
        }
      ],
      "source": [
        "plt.title('Частотное распределение признака жилой площади в квартирах более 200 кв.м.')\n",
        "plt.xlabel('Жилая площадь в кв. м.')\n",
        "plt.ylabel('Количество случаев в базе')\n",
        "\n",
        "df.query(\"living_area > 200\")['living_area'].hist(bins=30,color='purple',figsize=(10,7))\n",
        "df.query(\"living_area > 200\")['living_area'].count()"
      ]
    },
    {
      "cell_type": "markdown",
      "metadata": {
        "id": "1OExRl0HqrJi"
      },
      "source": [
        "Квартиры с жилой площадью от 200 метров встречаются редко, всего 31 кейс. Их стоимость будет зависеть не от средних показателей рынка, а от прочих факторов (дизайн-проект, амбиции собственника, желание быстро продать недвижимость), заменим эти данные на пропуски."
      ]
    },
    {
      "cell_type": "code",
      "execution_count": 8,
      "metadata": {
        "colab": {
          "base_uri": "https://localhost:8080/",
          "height": 476
        },
        "id": "LVNx_F8mxX9q",
        "outputId": "e488a15b-b9a9-4e18-a909-6d6d880da829"
      },
      "outputs": [
        {
          "output_type": "execute_result",
          "data": {
            "text/plain": [
              "<matplotlib.axes._subplots.AxesSubplot at 0x7f116a99e5d0>"
            ]
          },
          "metadata": {},
          "execution_count": 8
        },
        {
          "output_type": "display_data",
          "data": {
            "text/plain": [
              "<Figure size 720x504 with 1 Axes>"
            ],
            "image/png": "[encoded data removed]"
          },
          "metadata": {
            "needs_background": "light"
          }
        }
      ],
      "source": [
        "df['living_area'] = df.query(\"living_area <= 200\")['living_area']\n",
        "\n",
        "plt.title('Частотное распределение признака жилой площади во всём массиве (обновлено)')\n",
        "plt.xlabel('Жилая площадь в кв. м.')\n",
        "plt.ylabel('Количество случаев в базе')\n",
        "df['living_area'].hist(bins=30,color='purple',figsize=(10,7))"
      ]
    },
    {
      "cell_type": "markdown",
      "metadata": {
        "id": "mVV3EmO0F1Kz"
      },
      "source": [
        "Посмотрим, как теперь изменился разброс данных на диаграмме размаха."
      ]
    },
    {
      "cell_type": "code",
      "execution_count": 9,
      "metadata": {
        "id": "BNTM5N-BF1Kz",
        "outputId": "62d6ea55-2618-4197-a4a7-4880bb642aad",
        "colab": {
          "base_uri": "https://localhost:8080/",
          "height": 612
        }
      },
      "outputs": [
        {
          "output_type": "execute_result",
          "data": {
            "text/plain": [
              "<matplotlib.axes._subplots.AxesSubplot at 0x7f116a856410>"
            ]
          },
          "metadata": {},
          "execution_count": 9
        },
        {
          "output_type": "display_data",
          "data": {
            "text/plain": [
              "<Figure size 576x720 with 1 Axes>"
            ],
            "image/png": "[encoded data removed]"
          },
          "metadata": {
            "needs_background": "light"
          }
        }
      ],
      "source": [
        "df.boxplot(column = 'living_area', fontsize=12, figsize=(8,10))"
      ]
    },
    {
      "cell_type": "markdown",
      "metadata": {
        "id": "f6p4NmvMKnUw"
      },
      "source": [
        "Квартили и медиана остались на месте, значит, мы несущественно поменяли основные показатели базы.\n",
        "\n",
        "Аналогично поступим с общей площадью."
      ]
    },
    {
      "cell_type": "code",
      "execution_count": 10,
      "metadata": {
        "colab": {
          "base_uri": "https://localhost:8080/",
          "height": 459
        },
        "id": "NOWkKlV2KvXd",
        "outputId": "9f59d347-9a4e-41e9-c495-8990b4cf4e35"
      },
      "outputs": [
        {
          "output_type": "display_data",
          "data": {
            "text/plain": [
              "<Figure size 720x504 with 1 Axes>"
            ],
            "image/png": "[encoded data removed]"
          },
          "metadata": {
            "needs_background": "light"
          }
        }
      ],
      "source": [
        "plt.title('Частотное распределение признака общей площади во всём массиве')\n",
        "plt.xlabel('Общая площадь в кв. м.')\n",
        "plt.ylabel('Количество случаев в базе')\n",
        "\n",
        "df['total_area'].hist(bins=30,color='purple',figsize=(10,7))\n",
        "None"
      ]
    },
    {
      "cell_type": "markdown",
      "metadata": {
        "id": "DjUBSj9bK5Tl"
      },
      "source": [
        "Посмотрим на квартиры общей площадью от 300 метров:"
      ]
    },
    {
      "cell_type": "code",
      "execution_count": 11,
      "metadata": {
        "colab": {
          "base_uri": "https://localhost:8080/",
          "height": 476
        },
        "id": "qs0iP_lqK2QN",
        "outputId": "f10cdade-a12e-4d24-95dd-3ac7620af3c0"
      },
      "outputs": [
        {
          "output_type": "execute_result",
          "data": {
            "text/plain": [
              "61"
            ]
          },
          "metadata": {},
          "execution_count": 11
        },
        {
          "output_type": "display_data",
          "data": {
            "text/plain": [
              "<Figure size 720x504 with 1 Axes>"
            ],
            "image/png": "[encoded data removed]"
          },
          "metadata": {
            "needs_background": "light"
          }
        }
      ],
      "source": [
        "plt.title('Частотное распределение признака общей площади в квартирах более 300 кв.м.')\n",
        "plt.xlabel('Общая площадь в кв. м.')\n",
        "plt.ylabel('Количество случаев в базе')\n",
        "\n",
        "df.query(\"total_area > 300\")['total_area'].hist(bins=30,color='purple',figsize=(10,7))\n",
        "df.query(\"total_area > 300\")['total_area'].count()"
      ]
    },
    {
      "cell_type": "markdown",
      "metadata": {
        "id": "6UbCBkuAMCVS"
      },
      "source": [
        "Опустим эти данные для более корректных средних показателей."
      ]
    },
    {
      "cell_type": "code",
      "execution_count": 12,
      "metadata": {
        "colab": {
          "base_uri": "https://localhost:8080/",
          "height": 459
        },
        "id": "m7xM9L7KMHub",
        "outputId": "3ac2cb27-777b-4c58-ed51-5f5bcd598375"
      },
      "outputs": [
        {
          "output_type": "display_data",
          "data": {
            "text/plain": [
              "<Figure size 720x504 with 1 Axes>"
            ],
            "image/png": "[encoded data removed]"
          },
          "metadata": {
            "needs_background": "light"
          }
        }
      ],
      "source": [
        "df['total_area'] = df.query(\"total_area <= 300\")['total_area']\n",
        "\n",
        "plt.title('Частотное распределение признака общей площади во всей базе (обновлено)')\n",
        "plt.xlabel('Общая площадь в кв. м.')\n",
        "plt.ylabel('Количество случаев в базе')\n",
        "\n",
        "df['total_area'].hist(bins=30,color='purple',figsize=(10,7))\n",
        "None"
      ]
    },
    {
      "cell_type": "markdown",
      "metadata": {
        "id": "pkggSxt-MVxk"
      },
      "source": [
        "Ещё раз взглянем на диаграмму рассеивания."
      ]
    },
    {
      "cell_type": "code",
      "execution_count": 13,
      "metadata": {
        "colab": {
          "base_uri": "https://localhost:8080/",
          "height": 476
        },
        "id": "LrWhCkePMaVL",
        "outputId": "bda977ab-4d92-469c-c435-ad646befc549"
      },
      "outputs": [
        {
          "output_type": "execute_result",
          "data": {
            "text/plain": [
              "0.9338405945192771"
            ]
          },
          "metadata": {},
          "execution_count": 13
        },
        {
          "output_type": "display_data",
          "data": {
            "text/plain": [
              "<Figure size 720x504 with 1 Axes>"
            ],
            "image/png": "[encoded data removed]"
          },
          "metadata": {
            "needs_background": "light"
          }
        }
      ],
      "source": [
        "df.plot(\n",
        "        x='total_area',\n",
        "        y='living_area',\n",
        "        kind='scatter',\n",
        "        figsize=(10,7),\n",
        "        title='Связь переменной общей и жилой площади (обновлено)',\n",
        "        color='purple',\n",
        "        alpha=0.2)\n",
        "df['total_area'].corr(df['living_area'])"
      ]
    },
    {
      "cell_type": "markdown",
      "metadata": {
        "id": "mxW34VkjMrsb"
      },
      "source": [
        "Коэффициент корреляции увеличился. Теперь можно заполнить пропущенные данные переменной жилой площади. Посмотрим на переменную."
      ]
    },
    {
      "cell_type": "code",
      "execution_count": 14,
      "metadata": {
        "colab": {
          "base_uri": "https://localhost:8080/"
        },
        "id": "MBKqIiTP2vMe",
        "outputId": "b6cf2bce-cf08-435e-bfa0-b16fa1014506"
      },
      "outputs": [
        {
          "output_type": "execute_result",
          "data": {
            "text/plain": [
              "count    21765.000000\n",
              "mean        34.126513\n",
              "std         20.124531\n",
              "min          2.000000\n",
              "25%         18.600000\n",
              "50%         30.000000\n",
              "75%         42.200000\n",
              "max        200.000000\n",
              "Name: living_area, dtype: float64"
            ]
          },
          "metadata": {},
          "execution_count": 14
        }
      ],
      "source": [
        "df['living_area'].describe()"
      ]
    },
    {
      "cell_type": "markdown",
      "metadata": {
        "id": "1aytQ7UNF1K5"
      },
      "source": [
        "Выведем на экран первые несколько строк с пропущенными данными, чтобы проверить, не имеют ли они принципиальных отличий."
      ]
    },
    {
      "cell_type": "code",
      "execution_count": 15,
      "metadata": {
        "id": "SbugkQUeF1K5",
        "outputId": "4ba977f3-4300-4b7a-cde0-c1b2311bf9d2",
        "colab": {
          "base_uri": "https://localhost:8080/",
          "height": 661
        }
      },
      "outputs": [
        {
          "output_type": "execute_result",
          "data": {
            "text/plain": [
              "       total_images  last_price  total_area first_day_exposition  rooms  \\\n",
              "3                 0  64900000.0      159.00  2015-07-24T00:00:00      3   \n",
              "7                 5   7915000.0       71.60  2019-04-18T00:00:00      2   \n",
              "30               12   2200000.0       32.80  2018-02-19T00:00:00      1   \n",
              "37               10   1990000.0       45.80  2017-10-28T00:00:00      2   \n",
              "44               13   5350000.0       40.00  2018-11-18T00:00:00      1   \n",
              "...             ...         ...         ...                  ...    ...   \n",
              "23642            14   5950000.0       80.30  2018-07-03T00:00:00      3   \n",
              "23663            12   6400000.0       88.00  2018-01-12T00:00:00      4   \n",
              "23670             9   2450000.0       45.60  2018-02-08T00:00:00      1   \n",
              "23679             0   2500000.0       35.00  2017-12-08T00:00:00      1   \n",
              "23697            13  11475000.0       76.75  2017-03-28T00:00:00      2   \n",
              "\n",
              "       ceiling_height  floors_total  living_area  floor is_apartment  ...  \\\n",
              "3                 NaN          14.0          NaN      9          NaN  ...   \n",
              "7                 NaN          24.0          NaN     22          NaN  ...   \n",
              "30                NaN           9.0          NaN      2          NaN  ...   \n",
              "37               2.50           5.0          NaN      1          NaN  ...   \n",
              "44                NaN          22.0          NaN      3          NaN  ...   \n",
              "...               ...           ...          ...    ...          ...  ...   \n",
              "23642            2.70          12.0          NaN      5          NaN  ...   \n",
              "23663            2.55          10.0          NaN      1          NaN  ...   \n",
              "23670            2.80           9.0          NaN      2          NaN  ...   \n",
              "23679             NaN           9.0          NaN      4          NaN  ...   \n",
              "23697            3.00          17.0          NaN     12          NaN  ...   \n",
              "\n",
              "       kitchen_area  balcony                        locality_name  \\\n",
              "3               NaN      0.0                      Санкт-Петербург   \n",
              "7              18.9      2.0                      Санкт-Петербург   \n",
              "30              NaN      NaN                             Коммунар   \n",
              "37              NaN      NaN  поселок городского типа Красный Бор   \n",
              "44              NaN      1.0                      Санкт-Петербург   \n",
              "...             ...      ...                                  ...   \n",
              "23642           NaN      NaN                              Колпино   \n",
              "23663           NaN      NaN                      Санкт-Петербург   \n",
              "23670           NaN      NaN     поселок городского типа Синявино   \n",
              "23679           NaN      NaN                         Сосновый Бор   \n",
              "23697          23.3      2.0                      Санкт-Петербург   \n",
              "\n",
              "       airports_nearest cityCenters_nearest  parks_around3000  parks_nearest  \\\n",
              "3               28098.0              6800.0               2.0           84.0   \n",
              "7               23982.0             11634.0               0.0            NaN   \n",
              "30                  NaN                 NaN               NaN            NaN   \n",
              "37                  NaN                 NaN               NaN            NaN   \n",
              "44              30471.0             11603.0               1.0          620.0   \n",
              "...                 ...                 ...               ...            ...   \n",
              "23642           27933.0             33719.0               0.0            NaN   \n",
              "23663           33642.0             13943.0               0.0            NaN   \n",
              "23670               NaN                 NaN               NaN            NaN   \n",
              "23679               NaN                 NaN               NaN            NaN   \n",
              "23697           39140.0             10364.0               2.0          173.0   \n",
              "\n",
              "       ponds_around3000  ponds_nearest  days_exposition  \n",
              "3                   3.0          234.0            424.0  \n",
              "7                   0.0            NaN              NaN  \n",
              "30                  NaN            NaN             63.0  \n",
              "37                  NaN            NaN            196.0  \n",
              "44                  1.0         1152.0              NaN  \n",
              "...                 ...            ...              ...  \n",
              "23642               2.0          562.0             60.0  \n",
              "23663               2.0          844.0             59.0  \n",
              "23670               NaN            NaN             45.0  \n",
              "23679               NaN            NaN             45.0  \n",
              "23697               3.0          196.0            602.0  \n",
              "\n",
              "[1934 rows x 22 columns]"
            ],
            "text/html": [
              "\n",
              "  <div id=\"df-eaeee7a9-7eb2-4cc1-b77f-2585f81b8bcd\">\n",
              "    <div class=\"colab-df-container\">\n",
              "      <div>\n",
              "<style scoped>\n",
              "    .dataframe tbody tr th:only-of-type {\n",
              "        vertical-align: middle;\n",
              "    }\n",
              "\n",
              "    .dataframe tbody tr th {\n",
              "        vertical-align: top;\n",
              "    }\n",
              "\n",
              "    .dataframe thead th {\n",
              "        text-align: right;\n",
              "    }\n",
              "</style>\n",
              "<table border=\"1\" class=\"dataframe\">\n",
              "  <thead>\n",
              "    <tr style=\"text-align: right;\">\n",
              "      <th></th>\n",
              "      <th>total_images</th>\n",
              "      <th>last_price</th>\n",
              "      <th>total_area</th>\n",
              "      <th>first_day_exposition</th>\n",
              "      <th>rooms</th>\n",
              "      <th>ceiling_height</th>\n",
              "      <th>floors_total</th>\n",
              "      <th>living_area</th>\n",
              "      <th>floor</th>\n",
              "      <th>is_apartment</th>\n",
              "      <th>...</th>\n",
              "      <th>kitchen_area</th>\n",
              "      <th>balcony</th>\n",
              "      <th>locality_name</th>\n",
              "      <th>airports_nearest</th>\n",
              "      <th>cityCenters_nearest</th>\n",
              "      <th>parks_around3000</th>\n",
              "      <th>parks_nearest</th>\n",
              "      <th>ponds_around3000</th>\n",
              "      <th>ponds_nearest</th>\n",
              "      <th>days_exposition</th>\n",
              "    </tr>\n",
              "  </thead>\n",
              "  <tbody>\n",
              "    <tr>\n",
              "      <th>3</th>\n",
              "      <td>0</td>\n",
              "      <td>64900000.0</td>\n",
              "      <td>159.00</td>\n",
              "      <td>2015-07-24T00:00:00</td>\n",
              "      <td>3</td>\n",
              "      <td>NaN</td>\n",
              "      <td>14.0</td>\n",
              "      <td>NaN</td>\n",
              "      <td>9</td>\n",
              "      <td>NaN</td>\n",
              "      <td>...</td>\n",
              "      <td>NaN</td>\n",
              "      <td>0.0</td>\n",
              "      <td>Санкт-Петербург</td>\n",
              "      <td>28098.0</td>\n",
              "      <td>6800.0</td>\n",
              "      <td>2.0</td>\n",
              "      <td>84.0</td>\n",
              "      <td>3.0</td>\n",
              "      <td>234.0</td>\n",
              "      <td>424.0</td>\n",
              "    </tr>\n",
              "    <tr>\n",
              "      <th>7</th>\n",
              "      <td>5</td>\n",
              "      <td>7915000.0</td>\n",
              "      <td>71.60</td>\n",
              "      <td>2019-04-18T00:00:00</td>\n",
              "      <td>2</td>\n",
              "      <td>NaN</td>\n",
              "      <td>24.0</td>\n",
              "      <td>NaN</td>\n",
              "      <td>22</td>\n",
              "      <td>NaN</td>\n",
              "      <td>...</td>\n",
              "      <td>18.9</td>\n",
              "      <td>2.0</td>\n",
              "      <td>Санкт-Петербург</td>\n",
              "      <td>23982.0</td>\n",
              "      <td>11634.0</td>\n",
              "      <td>0.0</td>\n",
              "      <td>NaN</td>\n",
              "      <td>0.0</td>\n",
              "      <td>NaN</td>\n",
              "      <td>NaN</td>\n",
              "    </tr>\n",
              "    <tr>\n",
              "      <th>30</th>\n",
              "      <td>12</td>\n",
              "      <td>2200000.0</td>\n",
              "      <td>32.80</td>\n",
              "      <td>2018-02-19T00:00:00</td>\n",
              "      <td>1</td>\n",
              "      <td>NaN</td>\n",
              "      <td>9.0</td>\n",
              "      <td>NaN</td>\n",
              "      <td>2</td>\n",
              "      <td>NaN</td>\n",
              "      <td>...</td>\n",
              "      <td>NaN</td>\n",
              "      <td>NaN</td>\n",
              "      <td>Коммунар</td>\n",
              "      <td>NaN</td>\n",
              "      <td>NaN</td>\n",
              "      <td>NaN</td>\n",
              "      <td>NaN</td>\n",
              "      <td>NaN</td>\n",
              "      <td>NaN</td>\n",
              "      <td>63.0</td>\n",
              "    </tr>\n",
              "    <tr>\n",
              "      <th>37</th>\n",
              "      <td>10</td>\n",
              "      <td>1990000.0</td>\n",
              "      <td>45.80</td>\n",
              "      <td>2017-10-28T00:00:00</td>\n",
              "      <td>2</td>\n",
              "      <td>2.50</td>\n",
              "      <td>5.0</td>\n",
              "      <td>NaN</td>\n",
              "      <td>1</td>\n",
              "      <td>NaN</td>\n",
              "      <td>...</td>\n",
              "      <td>NaN</td>\n",
              "      <td>NaN</td>\n",
              "      <td>поселок городского типа Красный Бор</td>\n",
              "      <td>NaN</td>\n",
              "      <td>NaN</td>\n",
              "      <td>NaN</td>\n",
              "      <td>NaN</td>\n",
              "      <td>NaN</td>\n",
              "      <td>NaN</td>\n",
              "      <td>196.0</td>\n",
              "    </tr>\n",
              "    <tr>\n",
              "      <th>44</th>\n",
              "      <td>13</td>\n",
              "      <td>5350000.0</td>\n",
              "      <td>40.00</td>\n",
              "      <td>2018-11-18T00:00:00</td>\n",
              "      <td>1</td>\n",
              "      <td>NaN</td>\n",
              "      <td>22.0</td>\n",
              "      <td>NaN</td>\n",
              "      <td>3</td>\n",
              "      <td>NaN</td>\n",
              "      <td>...</td>\n",
              "      <td>NaN</td>\n",
              "      <td>1.0</td>\n",
              "      <td>Санкт-Петербург</td>\n",
              "      <td>30471.0</td>\n",
              "      <td>11603.0</td>\n",
              "      <td>1.0</td>\n",
              "      <td>620.0</td>\n",
              "      <td>1.0</td>\n",
              "      <td>1152.0</td>\n",
              "      <td>NaN</td>\n",
              "    </tr>\n",
              "    <tr>\n",
              "      <th>...</th>\n",
              "      <td>...</td>\n",
              "      <td>...</td>\n",
              "      <td>...</td>\n",
              "      <td>...</td>\n",
              "      <td>...</td>\n",
              "      <td>...</td>\n",
              "      <td>...</td>\n",
              "      <td>...</td>\n",
              "      <td>...</td>\n",
              "      <td>...</td>\n",
              "      <td>...</td>\n",
              "      <td>...</td>\n",
              "      <td>...</td>\n",
              "      <td>...</td>\n",
              "      <td>...</td>\n",
              "      <td>...</td>\n",
              "      <td>...</td>\n",
              "      <td>...</td>\n",
              "      <td>...</td>\n",
              "      <td>...</td>\n",
              "      <td>...</td>\n",
              "    </tr>\n",
              "    <tr>\n",
              "      <th>23642</th>\n",
              "      <td>14</td>\n",
              "      <td>5950000.0</td>\n",
              "      <td>80.30</td>\n",
              "      <td>2018-07-03T00:00:00</td>\n",
              "      <td>3</td>\n",
              "      <td>2.70</td>\n",
              "      <td>12.0</td>\n",
              "      <td>NaN</td>\n",
              "      <td>5</td>\n",
              "      <td>NaN</td>\n",
              "      <td>...</td>\n",
              "      <td>NaN</td>\n",
              "      <td>NaN</td>\n",
              "      <td>Колпино</td>\n",
              "      <td>27933.0</td>\n",
              "      <td>33719.0</td>\n",
              "      <td>0.0</td>\n",
              "      <td>NaN</td>\n",
              "      <td>2.0</td>\n",
              "      <td>562.0</td>\n",
              "      <td>60.0</td>\n",
              "    </tr>\n",
              "    <tr>\n",
              "      <th>23663</th>\n",
              "      <td>12</td>\n",
              "      <td>6400000.0</td>\n",
              "      <td>88.00</td>\n",
              "      <td>2018-01-12T00:00:00</td>\n",
              "      <td>4</td>\n",
              "      <td>2.55</td>\n",
              "      <td>10.0</td>\n",
              "      <td>NaN</td>\n",
              "      <td>1</td>\n",
              "      <td>NaN</td>\n",
              "      <td>...</td>\n",
              "      <td>NaN</td>\n",
              "      <td>NaN</td>\n",
              "      <td>Санкт-Петербург</td>\n",
              "      <td>33642.0</td>\n",
              "      <td>13943.0</td>\n",
              "      <td>0.0</td>\n",
              "      <td>NaN</td>\n",
              "      <td>2.0</td>\n",
              "      <td>844.0</td>\n",
              "      <td>59.0</td>\n",
              "    </tr>\n",
              "    <tr>\n",
              "      <th>23670</th>\n",
              "      <td>9</td>\n",
              "      <td>2450000.0</td>\n",
              "      <td>45.60</td>\n",
              "      <td>2018-02-08T00:00:00</td>\n",
              "      <td>1</td>\n",
              "      <td>2.80</td>\n",
              "      <td>9.0</td>\n",
              "      <td>NaN</td>\n",
              "      <td>2</td>\n",
              "      <td>NaN</td>\n",
              "      <td>...</td>\n",
              "      <td>NaN</td>\n",
              "      <td>NaN</td>\n",
              "      <td>поселок городского типа Синявино</td>\n",
              "      <td>NaN</td>\n",
              "      <td>NaN</td>\n",
              "      <td>NaN</td>\n",
              "      <td>NaN</td>\n",
              "      <td>NaN</td>\n",
              "      <td>NaN</td>\n",
              "      <td>45.0</td>\n",
              "    </tr>\n",
              "    <tr>\n",
              "      <th>23679</th>\n",
              "      <td>0</td>\n",
              "      <td>2500000.0</td>\n",
              "      <td>35.00</td>\n",
              "      <td>2017-12-08T00:00:00</td>\n",
              "      <td>1</td>\n",
              "      <td>NaN</td>\n",
              "      <td>9.0</td>\n",
              "      <td>NaN</td>\n",
              "      <td>4</td>\n",
              "      <td>NaN</td>\n",
              "      <td>...</td>\n",
              "      <td>NaN</td>\n",
              "      <td>NaN</td>\n",
              "      <td>Сосновый Бор</td>\n",
              "      <td>NaN</td>\n",
              "      <td>NaN</td>\n",
              "      <td>NaN</td>\n",
              "      <td>NaN</td>\n",
              "      <td>NaN</td>\n",
              "      <td>NaN</td>\n",
              "      <td>45.0</td>\n",
              "    </tr>\n",
              "    <tr>\n",
              "      <th>23697</th>\n",
              "      <td>13</td>\n",
              "      <td>11475000.0</td>\n",
              "      <td>76.75</td>\n",
              "      <td>2017-03-28T00:00:00</td>\n",
              "      <td>2</td>\n",
              "      <td>3.00</td>\n",
              "      <td>17.0</td>\n",
              "      <td>NaN</td>\n",
              "      <td>12</td>\n",
              "      <td>NaN</td>\n",
              "      <td>...</td>\n",
              "      <td>23.3</td>\n",
              "      <td>2.0</td>\n",
              "      <td>Санкт-Петербург</td>\n",
              "      <td>39140.0</td>\n",
              "      <td>10364.0</td>\n",
              "      <td>2.0</td>\n",
              "      <td>173.0</td>\n",
              "      <td>3.0</td>\n",
              "      <td>196.0</td>\n",
              "      <td>602.0</td>\n",
              "    </tr>\n",
              "  </tbody>\n",
              "</table>\n",
              "<p>1934 rows × 22 columns</p>\n",
              "</div>\n",
              "      <button class=\"colab-df-convert\" onclick=\"convertToInteractive('df-eaeee7a9-7eb2-4cc1-b77f-2585f81b8bcd')\"\n",
              "              title=\"Convert this dataframe to an interactive table.\"\n",
              "              style=\"display:none;\">\n",
              "        \n",
              "  <svg xmlns=\"http://www.w3.org/2000/svg\" height=\"24px\"viewBox=\"0 0 24 24\"\n",
              "       width=\"24px\">\n",
              "    <path d=\"M0 0h24v24H0V0z\" fill=\"none\"/>\n",
              "    <path d=\"M18.56 5.44l.94 2.06.94-2.06 2.06-.94-2.06-.94-.94-2.06-.94 2.06-2.06.94zm-11 1L8.5 8.5l.94-2.06 2.06-.94-2.06-.94L8.5 2.5l-.94 2.06-2.06.94zm10 10l.94 2.06.94-2.06 2.06-.94-2.06-.94-.94-2.06-.94 2.06-2.06.94z\"/><path d=\"M17.41 7.96l-1.37-1.37c-.4-.4-.92-.59-1.43-.59-.52 0-1.04.2-1.43.59L10.3 9.45l-7.72 7.72c-.78.78-.78 2.05 0 2.83L4 21.41c.39.39.9.59 1.41.59.51 0 1.02-.2 1.41-.59l7.78-7.78 2.81-2.81c.8-.78.8-2.07 0-2.86zM5.41 20L4 18.59l7.72-7.72 1.47 1.35L5.41 20z\"/>\n",
              "  </svg>\n",
              "      </button>\n",
              "      \n",
              "  <style>\n",
              "    .colab-df-container {\n",
              "      display:flex;\n",
              "      flex-wrap:wrap;\n",
              "      gap: 12px;\n",
              "    }\n",
              "\n",
              "    .colab-df-convert {\n",
              "      background-color: #E8F0FE;\n",
              "      border: none;\n",
              "      border-radius: 50%;\n",
              "      cursor: pointer;\n",
              "      display: none;\n",
              "      fill: #1967D2;\n",
              "      height: 32px;\n",
              "      padding: 0 0 0 0;\n",
              "      width: 32px;\n",
              "    }\n",
              "\n",
              "    .colab-df-convert:hover {\n",
              "      background-color: #E2EBFA;\n",
              "      box-shadow: 0px 1px 2px rgba(60, 64, 67, 0.3), 0px 1px 3px 1px rgba(60, 64, 67, 0.15);\n",
              "      fill: #174EA6;\n",
              "    }\n",
              "\n",
              "    [theme=dark] .colab-df-convert {\n",
              "      background-color: #3B4455;\n",
              "      fill: #D2E3FC;\n",
              "    }\n",
              "\n",
              "    [theme=dark] .colab-df-convert:hover {\n",
              "      background-color: #434B5C;\n",
              "      box-shadow: 0px 1px 3px 1px rgba(0, 0, 0, 0.15);\n",
              "      filter: drop-shadow(0px 1px 2px rgba(0, 0, 0, 0.3));\n",
              "      fill: #FFFFFF;\n",
              "    }\n",
              "  </style>\n",
              "\n",
              "      <script>\n",
              "        const buttonEl =\n",
              "          document.querySelector('#df-eaeee7a9-7eb2-4cc1-b77f-2585f81b8bcd button.colab-df-convert');\n",
              "        buttonEl.style.display =\n",
              "          google.colab.kernel.accessAllowed ? 'block' : 'none';\n",
              "\n",
              "        async function convertToInteractive(key) {\n",
              "          const element = document.querySelector('#df-eaeee7a9-7eb2-4cc1-b77f-2585f81b8bcd');\n",
              "          const dataTable =\n",
              "            await google.colab.kernel.invokeFunction('convertToInteractive',\n",
              "                                                     [key], {});\n",
              "          if (!dataTable) return;\n",
              "\n",
              "          const docLinkHtml = 'Like what you see? Visit the ' +\n",
              "            '<a target=\"_blank\" href=https://colab.research.google.com/notebooks/data_table.ipynb>data table notebook</a>'\n",
              "            + ' to learn more about interactive tables.';\n",
              "          element.innerHTML = '';\n",
              "          dataTable['output_type'] = 'display_data';\n",
              "          await google.colab.output.renderOutput(dataTable, element);\n",
              "          const docLink = document.createElement('div');\n",
              "          docLink.innerHTML = docLinkHtml;\n",
              "          element.appendChild(docLink);\n",
              "        }\n",
              "      </script>\n",
              "    </div>\n",
              "  </div>\n",
              "  "
            ]
          },
          "metadata": {},
          "execution_count": 15
        }
      ],
      "source": [
        "df[df['living_area'].isnull()]"
      ]
    },
    {
      "cell_type": "markdown",
      "metadata": {
        "id": "YfrV7LsyF1K6"
      },
      "source": [
        "Принципиально данные не отличаются. Посмотрим, как доля жилой площади зависит от количества комнат."
      ]
    },
    {
      "cell_type": "code",
      "execution_count": 16,
      "metadata": {
        "colab": {
          "base_uri": "https://localhost:8080/",
          "height": 649
        },
        "id": "qaOJaPb9M_i6",
        "outputId": "8c2a3d71-4791-40b9-c231-8ddacd3587ef"
      },
      "outputs": [
        {
          "output_type": "stream",
          "name": "stderr",
          "text": [
            "/usr/local/lib/python3.7/dist-packages/ipykernel_launcher.py:1: FutureWarning: Indexing with multiple keys (implicitly converted to a tuple of keys) will be deprecated, use a list instead.\n",
            "  \"\"\"Entry point for launching an IPython kernel.\n"
          ]
        },
        {
          "output_type": "execute_result",
          "data": {
            "text/plain": [
              "       total_area  living_area  living_area_rate\n",
              "rooms                                           \n",
              "0          26.025       18.000          0.691643\n",
              "1          36.530       17.600          0.481796\n",
              "2          53.000       30.500          0.575472\n",
              "3          73.000       45.000          0.616438\n",
              "4          99.000       63.500          0.641414\n",
              "5         144.500       91.200          0.631142\n",
              "6         180.000      123.435          0.685750\n",
              "7         201.500      131.000          0.650124\n",
              "8         229.500      160.000          0.697168\n",
              "9         249.950      160.600          0.642529\n",
              "10        272.600      161.400          0.592076\n",
              "11        188.900      133.900          0.708841\n",
              "12            NaN          NaN               NaN\n",
              "14        245.400      168.300          0.685819\n",
              "15            NaN          NaN               NaN\n",
              "16        270.000      180.000          0.666667\n",
              "19            NaN          NaN               NaN"
            ],
            "text/html": [
              "\n",
              "  <div id=\"df-0d3d582d-6162-4c0c-b181-766409959bbd\">\n",
              "    <div class=\"colab-df-container\">\n",
              "      <div>\n",
              "<style scoped>\n",
              "    .dataframe tbody tr th:only-of-type {\n",
              "        vertical-align: middle;\n",
              "    }\n",
              "\n",
              "    .dataframe tbody tr th {\n",
              "        vertical-align: top;\n",
              "    }\n",
              "\n",
              "    .dataframe thead th {\n",
              "        text-align: right;\n",
              "    }\n",
              "</style>\n",
              "<table border=\"1\" class=\"dataframe\">\n",
              "  <thead>\n",
              "    <tr style=\"text-align: right;\">\n",
              "      <th></th>\n",
              "      <th>total_area</th>\n",
              "      <th>living_area</th>\n",
              "      <th>living_area_rate</th>\n",
              "    </tr>\n",
              "    <tr>\n",
              "      <th>rooms</th>\n",
              "      <th></th>\n",
              "      <th></th>\n",
              "      <th></th>\n",
              "    </tr>\n",
              "  </thead>\n",
              "  <tbody>\n",
              "    <tr>\n",
              "      <th>0</th>\n",
              "      <td>26.025</td>\n",
              "      <td>18.000</td>\n",
              "      <td>0.691643</td>\n",
              "    </tr>\n",
              "    <tr>\n",
              "      <th>1</th>\n",
              "      <td>36.530</td>\n",
              "      <td>17.600</td>\n",
              "      <td>0.481796</td>\n",
              "    </tr>\n",
              "    <tr>\n",
              "      <th>2</th>\n",
              "      <td>53.000</td>\n",
              "      <td>30.500</td>\n",
              "      <td>0.575472</td>\n",
              "    </tr>\n",
              "    <tr>\n",
              "      <th>3</th>\n",
              "      <td>73.000</td>\n",
              "      <td>45.000</td>\n",
              "      <td>0.616438</td>\n",
              "    </tr>\n",
              "    <tr>\n",
              "      <th>4</th>\n",
              "      <td>99.000</td>\n",
              "      <td>63.500</td>\n",
              "      <td>0.641414</td>\n",
              "    </tr>\n",
              "    <tr>\n",
              "      <th>5</th>\n",
              "      <td>144.500</td>\n",
              "      <td>91.200</td>\n",
              "      <td>0.631142</td>\n",
              "    </tr>\n",
              "    <tr>\n",
              "      <th>6</th>\n",
              "      <td>180.000</td>\n",
              "      <td>123.435</td>\n",
              "      <td>0.685750</td>\n",
              "    </tr>\n",
              "    <tr>\n",
              "      <th>7</th>\n",
              "      <td>201.500</td>\n",
              "      <td>131.000</td>\n",
              "      <td>0.650124</td>\n",
              "    </tr>\n",
              "    <tr>\n",
              "      <th>8</th>\n",
              "      <td>229.500</td>\n",
              "      <td>160.000</td>\n",
              "      <td>0.697168</td>\n",
              "    </tr>\n",
              "    <tr>\n",
              "      <th>9</th>\n",
              "      <td>249.950</td>\n",
              "      <td>160.600</td>\n",
              "      <td>0.642529</td>\n",
              "    </tr>\n",
              "    <tr>\n",
              "      <th>10</th>\n",
              "      <td>272.600</td>\n",
              "      <td>161.400</td>\n",
              "      <td>0.592076</td>\n",
              "    </tr>\n",
              "    <tr>\n",
              "      <th>11</th>\n",
              "      <td>188.900</td>\n",
              "      <td>133.900</td>\n",
              "      <td>0.708841</td>\n",
              "    </tr>\n",
              "    <tr>\n",
              "      <th>12</th>\n",
              "      <td>NaN</td>\n",
              "      <td>NaN</td>\n",
              "      <td>NaN</td>\n",
              "    </tr>\n",
              "    <tr>\n",
              "      <th>14</th>\n",
              "      <td>245.400</td>\n",
              "      <td>168.300</td>\n",
              "      <td>0.685819</td>\n",
              "    </tr>\n",
              "    <tr>\n",
              "      <th>15</th>\n",
              "      <td>NaN</td>\n",
              "      <td>NaN</td>\n",
              "      <td>NaN</td>\n",
              "    </tr>\n",
              "    <tr>\n",
              "      <th>16</th>\n",
              "      <td>270.000</td>\n",
              "      <td>180.000</td>\n",
              "      <td>0.666667</td>\n",
              "    </tr>\n",
              "    <tr>\n",
              "      <th>19</th>\n",
              "      <td>NaN</td>\n",
              "      <td>NaN</td>\n",
              "      <td>NaN</td>\n",
              "    </tr>\n",
              "  </tbody>\n",
              "</table>\n",
              "</div>\n",
              "      <button class=\"colab-df-convert\" onclick=\"convertToInteractive('df-0d3d582d-6162-4c0c-b181-766409959bbd')\"\n",
              "              title=\"Convert this dataframe to an interactive table.\"\n",
              "              style=\"display:none;\">\n",
              "        \n",
              "  <svg xmlns=\"http://www.w3.org/2000/svg\" height=\"24px\"viewBox=\"0 0 24 24\"\n",
              "       width=\"24px\">\n",
              "    <path d=\"M0 0h24v24H0V0z\" fill=\"none\"/>\n",
              "    <path d=\"M18.56 5.44l.94 2.06.94-2.06 2.06-.94-2.06-.94-.94-2.06-.94 2.06-2.06.94zm-11 1L8.5 8.5l.94-2.06 2.06-.94-2.06-.94L8.5 2.5l-.94 2.06-2.06.94zm10 10l.94 2.06.94-2.06 2.06-.94-2.06-.94-.94-2.06-.94 2.06-2.06.94z\"/><path d=\"M17.41 7.96l-1.37-1.37c-.4-.4-.92-.59-1.43-.59-.52 0-1.04.2-1.43.59L10.3 9.45l-7.72 7.72c-.78.78-.78 2.05 0 2.83L4 21.41c.39.39.9.59 1.41.59.51 0 1.02-.2 1.41-.59l7.78-7.78 2.81-2.81c.8-.78.8-2.07 0-2.86zM5.41 20L4 18.59l7.72-7.72 1.47 1.35L5.41 20z\"/>\n",
              "  </svg>\n",
              "      </button>\n",
              "      \n",
              "  <style>\n",
              "    .colab-df-container {\n",
              "      display:flex;\n",
              "      flex-wrap:wrap;\n",
              "      gap: 12px;\n",
              "    }\n",
              "\n",
              "    .colab-df-convert {\n",
              "      background-color: #E8F0FE;\n",
              "      border: none;\n",
              "      border-radius: 50%;\n",
              "      cursor: pointer;\n",
              "      display: none;\n",
              "      fill: #1967D2;\n",
              "      height: 32px;\n",
              "      padding: 0 0 0 0;\n",
              "      width: 32px;\n",
              "    }\n",
              "\n",
              "    .colab-df-convert:hover {\n",
              "      background-color: #E2EBFA;\n",
              "      box-shadow: 0px 1px 2px rgba(60, 64, 67, 0.3), 0px 1px 3px 1px rgba(60, 64, 67, 0.15);\n",
              "      fill: #174EA6;\n",
              "    }\n",
              "\n",
              "    [theme=dark] .colab-df-convert {\n",
              "      background-color: #3B4455;\n",
              "      fill: #D2E3FC;\n",
              "    }\n",
              "\n",
              "    [theme=dark] .colab-df-convert:hover {\n",
              "      background-color: #434B5C;\n",
              "      box-shadow: 0px 1px 3px 1px rgba(0, 0, 0, 0.15);\n",
              "      filter: drop-shadow(0px 1px 2px rgba(0, 0, 0, 0.3));\n",
              "      fill: #FFFFFF;\n",
              "    }\n",
              "  </style>\n",
              "\n",
              "      <script>\n",
              "        const buttonEl =\n",
              "          document.querySelector('#df-0d3d582d-6162-4c0c-b181-766409959bbd button.colab-df-convert');\n",
              "        buttonEl.style.display =\n",
              "          google.colab.kernel.accessAllowed ? 'block' : 'none';\n",
              "\n",
              "        async function convertToInteractive(key) {\n",
              "          const element = document.querySelector('#df-0d3d582d-6162-4c0c-b181-766409959bbd');\n",
              "          const dataTable =\n",
              "            await google.colab.kernel.invokeFunction('convertToInteractive',\n",
              "                                                     [key], {});\n",
              "          if (!dataTable) return;\n",
              "\n",
              "          const docLinkHtml = 'Like what you see? Visit the ' +\n",
              "            '<a target=\"_blank\" href=https://colab.research.google.com/notebooks/data_table.ipynb>data table notebook</a>'\n",
              "            + ' to learn more about interactive tables.';\n",
              "          element.innerHTML = '';\n",
              "          dataTable['output_type'] = 'display_data';\n",
              "          await google.colab.output.renderOutput(dataTable, element);\n",
              "          const docLink = document.createElement('div');\n",
              "          docLink.innerHTML = docLinkHtml;\n",
              "          element.appendChild(docLink);\n",
              "        }\n",
              "      </script>\n",
              "    </div>\n",
              "  </div>\n",
              "  "
            ]
          },
          "metadata": {},
          "execution_count": 16
        }
      ],
      "source": [
        "median_areas_by_rooms = df.groupby('rooms')['total_area', 'living_area'].median()\n",
        "median_areas_by_rooms['living_area_rate'] = median_areas_by_rooms['living_area'] / median_areas_by_rooms['total_area'] \n",
        "median_areas_by_rooms"
      ]
    },
    {
      "cell_type": "markdown",
      "metadata": {
        "id": "v14ykdtVO85B"
      },
      "source": [
        "Чем больше комнат, тем выше доля жилой площади. Разница этой доли в зависимости от числа комнат явно прослеживается. Вычислим пропущенные значения жилой площади от общей площади квартиры с учётом количества комнат."
      ]
    },
    {
      "cell_type": "code",
      "execution_count": 17,
      "metadata": {
        "colab": {
          "base_uri": "https://localhost:8080/"
        },
        "id": "k9Wb8D3-PgS9",
        "outputId": "5b2f2538-7eca-45e2-f6af-f61f10f3de67"
      },
      "outputs": [
        {
          "output_type": "execute_result",
          "data": {
            "text/plain": [
              "count    23659.000000\n",
              "mean        34.228354\n",
              "std         20.360221\n",
              "min          2.000000\n",
              "25%         18.700000\n",
              "50%         30.000000\n",
              "75%         42.200000\n",
              "max        200.000000\n",
              "Name: living_area, dtype: float64"
            ]
          },
          "metadata": {},
          "execution_count": 17
        }
      ],
      "source": [
        "#Переводим в датафрейм предыдущую таблицу, чтобы соединить её с нашей основной базой банных\n",
        "default_living_area_rate_by_rooms = pd.DataFrame(data=median_areas_by_rooms, columns = ['living_area_rate'])\n",
        "#Задаём в основной базе данных индекс, \n",
        "#соответствующий числу комнат, чтобы при объединении по числу комнат подставлялись значения доли жилой площади\n",
        "df = df.set_index('rooms', drop = False)\n",
        "#Добавляем столбец с долями жилой площади, вычисленными для каждого размера квартиры по числу комнат\n",
        "df['default_living_area_rate_by_rooms'] = default_living_area_rate_by_rooms['living_area_rate']\n",
        "#Меняем индексы основной базы данных обратно\n",
        "df = df.reset_index(drop = True)\n",
        "#Для каждого количества комнат есть вычисленная доля жилой площади.\n",
        "#Умножив её на общую площадь, мы восстанавливаем пропущенные значения жилой площади\n",
        "df['living_area'] = df['living_area'].fillna(df['default_living_area_rate_by_rooms']*df['total_area'])\n",
        "#Смотрим ещё раз на восстановленную переменную\n",
        "df['living_area'].describe()"
      ]
    },
    {
      "cell_type": "markdown",
      "metadata": {
        "id": "NCD446bdF1K-"
      },
      "source": [
        "Описательные статистики переменной жилой площади практически не изменились, а пропуски заполнились.\n",
        "\n",
        "Проверим полученные данные. Посчитаем, в скольки случаях сумма жилой площади и кухни больше общей площади."
      ]
    },
    {
      "cell_type": "code",
      "execution_count": 18,
      "metadata": {
        "id": "Im4q9r7aF1K-",
        "outputId": "a3826383-888b-4673-a044-5b2e76ce9aa6",
        "colab": {
          "base_uri": "https://localhost:8080/",
          "height": 424
        }
      },
      "outputs": [
        {
          "output_type": "execute_result",
          "data": {
            "text/plain": [
              "       kitchen_area  living_area  total_area  if_sum_area_wrong\n",
              "184            6.20        26.10       30.20               True\n",
              "545            5.00        20.00       23.80               True\n",
              "551            9.28        30.55       31.59               True\n",
              "601            7.00        48.30       53.70               True\n",
              "696           23.43        23.43       34.69               True\n",
              "...             ...          ...         ...                ...\n",
              "21824          8.60        38.00       44.00               True\n",
              "21868          8.00        30.60       34.30               True\n",
              "21915         32.40        62.00       91.40               True\n",
              "21956          8.00        44.00       46.00               True\n",
              "23202         13.04        63.00       67.92               True\n",
              "\n",
              "[73 rows x 4 columns]"
            ],
            "text/html": [
              "\n",
              "  <div id=\"df-d65caf6e-2e8b-4bc4-9e70-a583ee4c9ce3\">\n",
              "    <div class=\"colab-df-container\">\n",
              "      <div>\n",
              "<style scoped>\n",
              "    .dataframe tbody tr th:only-of-type {\n",
              "        vertical-align: middle;\n",
              "    }\n",
              "\n",
              "    .dataframe tbody tr th {\n",
              "        vertical-align: top;\n",
              "    }\n",
              "\n",
              "    .dataframe thead th {\n",
              "        text-align: right;\n",
              "    }\n",
              "</style>\n",
              "<table border=\"1\" class=\"dataframe\">\n",
              "  <thead>\n",
              "    <tr style=\"text-align: right;\">\n",
              "      <th></th>\n",
              "      <th>kitchen_area</th>\n",
              "      <th>living_area</th>\n",
              "      <th>total_area</th>\n",
              "      <th>if_sum_area_wrong</th>\n",
              "    </tr>\n",
              "  </thead>\n",
              "  <tbody>\n",
              "    <tr>\n",
              "      <th>184</th>\n",
              "      <td>6.20</td>\n",
              "      <td>26.10</td>\n",
              "      <td>30.20</td>\n",
              "      <td>True</td>\n",
              "    </tr>\n",
              "    <tr>\n",
              "      <th>545</th>\n",
              "      <td>5.00</td>\n",
              "      <td>20.00</td>\n",
              "      <td>23.80</td>\n",
              "      <td>True</td>\n",
              "    </tr>\n",
              "    <tr>\n",
              "      <th>551</th>\n",
              "      <td>9.28</td>\n",
              "      <td>30.55</td>\n",
              "      <td>31.59</td>\n",
              "      <td>True</td>\n",
              "    </tr>\n",
              "    <tr>\n",
              "      <th>601</th>\n",
              "      <td>7.00</td>\n",
              "      <td>48.30</td>\n",
              "      <td>53.70</td>\n",
              "      <td>True</td>\n",
              "    </tr>\n",
              "    <tr>\n",
              "      <th>696</th>\n",
              "      <td>23.43</td>\n",
              "      <td>23.43</td>\n",
              "      <td>34.69</td>\n",
              "      <td>True</td>\n",
              "    </tr>\n",
              "    <tr>\n",
              "      <th>...</th>\n",
              "      <td>...</td>\n",
              "      <td>...</td>\n",
              "      <td>...</td>\n",
              "      <td>...</td>\n",
              "    </tr>\n",
              "    <tr>\n",
              "      <th>21824</th>\n",
              "      <td>8.60</td>\n",
              "      <td>38.00</td>\n",
              "      <td>44.00</td>\n",
              "      <td>True</td>\n",
              "    </tr>\n",
              "    <tr>\n",
              "      <th>21868</th>\n",
              "      <td>8.00</td>\n",
              "      <td>30.60</td>\n",
              "      <td>34.30</td>\n",
              "      <td>True</td>\n",
              "    </tr>\n",
              "    <tr>\n",
              "      <th>21915</th>\n",
              "      <td>32.40</td>\n",
              "      <td>62.00</td>\n",
              "      <td>91.40</td>\n",
              "      <td>True</td>\n",
              "    </tr>\n",
              "    <tr>\n",
              "      <th>21956</th>\n",
              "      <td>8.00</td>\n",
              "      <td>44.00</td>\n",
              "      <td>46.00</td>\n",
              "      <td>True</td>\n",
              "    </tr>\n",
              "    <tr>\n",
              "      <th>23202</th>\n",
              "      <td>13.04</td>\n",
              "      <td>63.00</td>\n",
              "      <td>67.92</td>\n",
              "      <td>True</td>\n",
              "    </tr>\n",
              "  </tbody>\n",
              "</table>\n",
              "<p>73 rows × 4 columns</p>\n",
              "</div>\n",
              "      <button class=\"colab-df-convert\" onclick=\"convertToInteractive('df-d65caf6e-2e8b-4bc4-9e70-a583ee4c9ce3')\"\n",
              "              title=\"Convert this dataframe to an interactive table.\"\n",
              "              style=\"display:none;\">\n",
              "        \n",
              "  <svg xmlns=\"http://www.w3.org/2000/svg\" height=\"24px\"viewBox=\"0 0 24 24\"\n",
              "       width=\"24px\">\n",
              "    <path d=\"M0 0h24v24H0V0z\" fill=\"none\"/>\n",
              "    <path d=\"M18.56 5.44l.94 2.06.94-2.06 2.06-.94-2.06-.94-.94-2.06-.94 2.06-2.06.94zm-11 1L8.5 8.5l.94-2.06 2.06-.94-2.06-.94L8.5 2.5l-.94 2.06-2.06.94zm10 10l.94 2.06.94-2.06 2.06-.94-2.06-.94-.94-2.06-.94 2.06-2.06.94z\"/><path d=\"M17.41 7.96l-1.37-1.37c-.4-.4-.92-.59-1.43-.59-.52 0-1.04.2-1.43.59L10.3 9.45l-7.72 7.72c-.78.78-.78 2.05 0 2.83L4 21.41c.39.39.9.59 1.41.59.51 0 1.02-.2 1.41-.59l7.78-7.78 2.81-2.81c.8-.78.8-2.07 0-2.86zM5.41 20L4 18.59l7.72-7.72 1.47 1.35L5.41 20z\"/>\n",
              "  </svg>\n",
              "      </button>\n",
              "      \n",
              "  <style>\n",
              "    .colab-df-container {\n",
              "      display:flex;\n",
              "      flex-wrap:wrap;\n",
              "      gap: 12px;\n",
              "    }\n",
              "\n",
              "    .colab-df-convert {\n",
              "      background-color: #E8F0FE;\n",
              "      border: none;\n",
              "      border-radius: 50%;\n",
              "      cursor: pointer;\n",
              "      display: none;\n",
              "      fill: #1967D2;\n",
              "      height: 32px;\n",
              "      padding: 0 0 0 0;\n",
              "      width: 32px;\n",
              "    }\n",
              "\n",
              "    .colab-df-convert:hover {\n",
              "      background-color: #E2EBFA;\n",
              "      box-shadow: 0px 1px 2px rgba(60, 64, 67, 0.3), 0px 1px 3px 1px rgba(60, 64, 67, 0.15);\n",
              "      fill: #174EA6;\n",
              "    }\n",
              "\n",
              "    [theme=dark] .colab-df-convert {\n",
              "      background-color: #3B4455;\n",
              "      fill: #D2E3FC;\n",
              "    }\n",
              "\n",
              "    [theme=dark] .colab-df-convert:hover {\n",
              "      background-color: #434B5C;\n",
              "      box-shadow: 0px 1px 3px 1px rgba(0, 0, 0, 0.15);\n",
              "      filter: drop-shadow(0px 1px 2px rgba(0, 0, 0, 0.3));\n",
              "      fill: #FFFFFF;\n",
              "    }\n",
              "  </style>\n",
              "\n",
              "      <script>\n",
              "        const buttonEl =\n",
              "          document.querySelector('#df-d65caf6e-2e8b-4bc4-9e70-a583ee4c9ce3 button.colab-df-convert');\n",
              "        buttonEl.style.display =\n",
              "          google.colab.kernel.accessAllowed ? 'block' : 'none';\n",
              "\n",
              "        async function convertToInteractive(key) {\n",
              "          const element = document.querySelector('#df-d65caf6e-2e8b-4bc4-9e70-a583ee4c9ce3');\n",
              "          const dataTable =\n",
              "            await google.colab.kernel.invokeFunction('convertToInteractive',\n",
              "                                                     [key], {});\n",
              "          if (!dataTable) return;\n",
              "\n",
              "          const docLinkHtml = 'Like what you see? Visit the ' +\n",
              "            '<a target=\"_blank\" href=https://colab.research.google.com/notebooks/data_table.ipynb>data table notebook</a>'\n",
              "            + ' to learn more about interactive tables.';\n",
              "          element.innerHTML = '';\n",
              "          dataTable['output_type'] = 'display_data';\n",
              "          await google.colab.output.renderOutput(dataTable, element);\n",
              "          const docLink = document.createElement('div');\n",
              "          docLink.innerHTML = docLinkHtml;\n",
              "          element.appendChild(docLink);\n",
              "        }\n",
              "      </script>\n",
              "    </div>\n",
              "  </div>\n",
              "  "
            ]
          },
          "metadata": {},
          "execution_count": 18
        }
      ],
      "source": [
        "df['if_sum_area_wrong'] = (df['living_area'] + df['kitchen_area']) > df['total_area']\n",
        "df.query(\"if_sum_area_wrong == True\")[['kitchen_area','living_area','total_area','if_sum_area_wrong']]"
      ]
    },
    {
      "cell_type": "markdown",
      "metadata": {
        "id": "l9EjKUEKF1K-"
      },
      "source": [
        "Мы заменили почти 2 тысячи значений, в 64 обнаружены ошибки. Однако если сравнить эти ошибочные кейсы построчно с теми, в которых были пропуски жилой площади выше, мы увидим, что эти ошибки существовали и до замены. Т.е. ошибки возникли не вследствие заполнения пропущенных данных, они были в базе.\n",
        "\n",
        "На примере первых пяти и последних пяти строк мы видим, что разница в должной площади и в том, что заполнено пользователем несущественна.\n",
        "Также 64 ошибочных кейса - крайне малый объем от имеющихся данных в базе.\n",
        "Кроме того, т.к. ошибки существовали ещё до заполнения пропусков, мы не знаем, в какой переменной ошибка - в площади кухни, площади жилой кухни или в общей площади квартиры.\n",
        "\n",
        "На этом основании мы оставим данные без изменений."
      ]
    },
    {
      "cell_type": "markdown",
      "metadata": {
        "id": "O4vs4VSJzYNo"
      },
      "source": [
        "Аналогично можно было бы поступить с переменной площади кухни, однако достаточно сильной корреляции этой переменной ни с общей площадью, ни с другими переменными в базе не найдено:"
      ]
    },
    {
      "cell_type": "code",
      "execution_count": 19,
      "metadata": {
        "colab": {
          "base_uri": "https://localhost:8080/"
        },
        "id": "kcWOa6sv1vwK",
        "outputId": "1c095e00-809f-43b2-84f3-66323eea4203"
      },
      "outputs": [
        {
          "output_type": "execute_result",
          "data": {
            "text/plain": [
              "total_images                         0.104756\n",
              "last_price                           0.519869\n",
              "total_area                           0.587369\n",
              "rooms                                0.269945\n",
              "ceiling_height                       0.087641\n",
              "floors_total                         0.163944\n",
              "living_area                          0.393163\n",
              "floor                                0.135531\n",
              "studio                                    NaN\n",
              "open_plan                                 NaN\n",
              "kitchen_area                         1.000000\n",
              "balcony                              0.098634\n",
              "airports_nearest                     0.008200\n",
              "cityCenters_nearest                 -0.190049\n",
              "parks_around3000                     0.087503\n",
              "parks_nearest                        0.029641\n",
              "ponds_around3000                     0.150148\n",
              "ponds_nearest                       -0.105223\n",
              "days_exposition                      0.100586\n",
              "default_living_area_rate_by_rooms    0.187522\n",
              "if_sum_area_wrong                    0.059669\n",
              "Name: kitchen_area, dtype: float64"
            ]
          },
          "metadata": {},
          "execution_count": 19
        }
      ],
      "source": [
        "df.corr()['kitchen_area']"
      ]
    },
    {
      "cell_type": "markdown",
      "metadata": {
        "id": "J7uytcT42h9x"
      },
      "source": [
        "Единственная тесно связанная переменная - общая площадь квартиры, однако коэффициент 0,6 скорее свидетельствует о средней связи, чем о сильной. Чем больше квартира, тем больше кухня, однако если площадь квартиры растёт существенно, кухня увеличиваться не будет. Т.к. переменная площади кухни не играет существенной роли в наших расчётах, оставим пропуски как есть. В переменных статуса апартаментов ('is_apartment') и наличия балкона ('balcony') можно с высокой долей вероятности предположить, что пропущенные данные означают отсутствие данного признака. Статус апартаментов в принципе встречается крайне редко:"
      ]
    },
    {
      "cell_type": "code",
      "execution_count": 20,
      "metadata": {
        "colab": {
          "base_uri": "https://localhost:8080/"
        },
        "id": "nT3rzf2_z7GO",
        "outputId": "6aa4f9ab-005b-4e19-e9f1-73bf7543f5aa"
      },
      "outputs": [
        {
          "output_type": "execute_result",
          "data": {
            "text/plain": [
              "False    2725\n",
              "True       50\n",
              "Name: is_apartment, dtype: int64"
            ]
          },
          "metadata": {},
          "execution_count": 20
        }
      ],
      "source": [
        "df['is_apartment'].value_counts()"
      ]
    },
    {
      "cell_type": "markdown",
      "metadata": {
        "id": "x_fvxZ1w7xos"
      },
      "source": [
        "Заполним пропущенные данные значениями 'False'."
      ]
    },
    {
      "cell_type": "code",
      "execution_count": 21,
      "metadata": {
        "colab": {
          "base_uri": "https://localhost:8080/"
        },
        "id": "pLxpExz01WU-",
        "outputId": "c9ebbc22-4105-4947-e70f-498753339fab"
      },
      "outputs": [
        {
          "output_type": "execute_result",
          "data": {
            "text/plain": [
              "False    23649\n",
              "True        50\n",
              "Name: is_apartment, dtype: int64"
            ]
          },
          "metadata": {},
          "execution_count": 21
        }
      ],
      "source": [
        "df['is_apartment'] = df['is_apartment'].fillna(False)\n",
        "df['is_apartment'].value_counts()"
      ]
    },
    {
      "cell_type": "markdown",
      "metadata": {
        "id": "8T8NOFsa81BJ"
      },
      "source": [
        "Посмотрим на переменную наличия балконов, какие значения она принимает."
      ]
    },
    {
      "cell_type": "code",
      "execution_count": 22,
      "metadata": {
        "colab": {
          "base_uri": "https://localhost:8080/"
        },
        "id": "Meo_Ri7o86bP",
        "outputId": "01852a5c-d9aa-4a72-f338-eafbe96608fc"
      },
      "outputs": [
        {
          "output_type": "execute_result",
          "data": {
            "text/plain": [
              "1.0    4195\n",
              "0.0    3758\n",
              "2.0    3659\n",
              "5.0     304\n",
              "4.0     183\n",
              "3.0      81\n",
              "Name: balcony, dtype: int64"
            ]
          },
          "metadata": {},
          "execution_count": 22
        }
      ],
      "source": [
        "df['balcony'].value_counts()"
      ]
    },
    {
      "cell_type": "markdown",
      "metadata": {
        "id": "TVvcz95v91LJ"
      },
      "source": [
        "Выше мы видели, что здесь пропущено больше половины значений в базе. Если мы решим, что пропуск значения - это 0 балконов, получится, что балконов нет в 64% случаев (суммируя их с теми кейсами, по которым указан именно 0 балконов). на 02.10. в сервисе Яндекс.Недвижимость в Санкт-Петербурге продаётся 37 тысяч квартир, из них 11 тысяч - с балконом или лоджией. Цифра кажется заниженной, однако это может быть распространённой практикой среди пользователей - не указывать наличие балкона при размещении объявления даже если он есть. Т.к. мы будем определять цену глазами пользователя, то мы можем принять эти условия и перекодировать пропущенные значения в нулевые."
      ]
    },
    {
      "cell_type": "code",
      "execution_count": 23,
      "metadata": {
        "colab": {
          "base_uri": "https://localhost:8080/"
        },
        "id": "pG2R43za-O48",
        "outputId": "024efc35-eabf-4d21-b4ae-22b28f7120cb"
      },
      "outputs": [
        {
          "output_type": "execute_result",
          "data": {
            "text/plain": [
              "0.0    15277\n",
              "1.0     4195\n",
              "2.0     3659\n",
              "5.0      304\n",
              "4.0      183\n",
              "3.0       81\n",
              "Name: balcony, dtype: int64"
            ]
          },
          "metadata": {},
          "execution_count": 23
        }
      ],
      "source": [
        "df['balcony'] = df['balcony'].fillna(0)\n",
        "df['balcony'].value_counts()"
      ]
    },
    {
      "cell_type": "markdown",
      "metadata": {
        "id": "U_EBEqlMPkyF"
      },
      "source": [
        "В переменных расстояния до аэропорта, расстояния до центра города, а также наличия парков и водоёмов в радиусе пропуски связаны с расположением объектов недвижимости преимущественно в пригороде.\n"
      ]
    },
    {
      "cell_type": "code",
      "execution_count": 24,
      "metadata": {
        "colab": {
          "base_uri": "https://localhost:8080/"
        },
        "id": "YVfR5rqs9I1O",
        "outputId": "99c8e776-f230-4bf7-f357-ce021586497d"
      },
      "outputs": [
        {
          "output_type": "stream",
          "name": "stdout",
          "text": [
            "Доля объектов в Санкт-Петербурге во всей базе: 0.66\n",
            "Доля объектов в Санкт-Петербурге среди пропусков по расстоянию до аэропорта: 0.02\n",
            "Доля объектов в Санкт-Петербурге среди пропусков по расстоянию до центра: 0.01\n",
            "Доля объектов в Санкт-Петербурге среди пропусков по количеству парков в радиусе 3 км: 0.01\n",
            "Доля объектов в Санкт-Петербурге среди пропусков по количеству водоёмов в радиусе 3 км: 0.01\n"
          ]
        }
      ],
      "source": [
        "print('Доля объектов в Санкт-Петербурге во всей базе: {:.2f}'\n",
        "      .format(df.query(\"locality_name == 'Санкт-Петербург'\")['locality_name'].count()/df['locality_name'].count()))\n",
        "\n",
        "print('Доля объектов в Санкт-Петербурге среди пропусков по расстоянию до аэропорта: {:.2f}'\n",
        "      .format(df.query(\"locality_name == 'Санкт-Петербург'\")['airports_nearest'].isna().sum()/df['airports_nearest'].isna().sum()))\n",
        "\n",
        "print('Доля объектов в Санкт-Петербурге среди пропусков по расстоянию до центра: {:.2f}'\n",
        "      .format(df.query(\"locality_name == 'Санкт-Петербург'\")['cityCenters_nearest'].isna().sum()/df['cityCenters_nearest'].isna().sum()))\n",
        "\n",
        "print('Доля объектов в Санкт-Петербурге среди пропусков по количеству парков в радиусе 3 км: {:.2f}'\n",
        "      .format(df.query(\"locality_name == 'Санкт-Петербург'\")['parks_around3000'].isna().sum()/df['parks_around3000'].isna().sum()))\n",
        "\n",
        "print('Доля объектов в Санкт-Петербурге среди пропусков по количеству водоёмов в радиусе 3 км: {:.2f}'\n",
        "      .format(df.query(\"locality_name == 'Санкт-Петербург'\")['ponds_around3000'].isna().sum()/df['ponds_around3000'].isna().sum()))"
      ]
    },
    {
      "cell_type": "markdown",
      "metadata": {
        "id": "nYLRcI1JL9U1"
      },
      "source": [
        "Пропуски логичны, т.к. эти расстояния для объектов в области сложно оценить и они имеют меньшее значение. Также в области мало как таковых парков и городских водоёмов, однако есть естественные лесопарковые зоны и водоёмы, расстояния до которых, как правило крайне короткие, поэтому нет смысла оценивать их отдельно. Оставим пропуски как есть. Посмотрим на характер пропусов переменной расстояния до водоёма."
      ]
    },
    {
      "cell_type": "code",
      "execution_count": 25,
      "metadata": {
        "colab": {
          "base_uri": "https://localhost:8080/"
        },
        "id": "K8HZd1YUD04R",
        "outputId": "66fe4ea8-2c45-46ef-ab9b-4b272fe3f421"
      },
      "outputs": [
        {
          "output_type": "stream",
          "name": "stdout",
          "text": [
            "ponds_around3000\n",
            "0.0      NaN\n",
            "1.0    593.0\n",
            "2.0    437.0\n",
            "3.0    305.0\n",
            "Name: ponds_nearest, dtype: float64\n"
          ]
        },
        {
          "output_type": "execute_result",
          "data": {
            "text/plain": [
              "count    9110.000000\n",
              "mean      517.980900\n",
              "std       277.720643\n",
              "min        13.000000\n",
              "25%       294.000000\n",
              "50%       502.000000\n",
              "75%       729.000000\n",
              "max      1344.000000\n",
              "Name: ponds_nearest, dtype: float64"
            ]
          },
          "metadata": {},
          "execution_count": 25
        }
      ],
      "source": [
        "print(df.groupby('ponds_around3000')['ponds_nearest'].median())\n",
        "df['ponds_nearest'].describe()"
      ]
    },
    {
      "cell_type": "markdown",
      "metadata": {
        "id": "fm8n4wT-Uuhb"
      },
      "source": [
        "\n",
        "Если в радиусе 3 км нет прудов, расстояние не указывалось. Аналогично с переменными расстояния до парков, опустим этот этап, восстанавливать данные здесь мы также не будем, т.к. пропуски имеют смысл.\n"
      ]
    },
    {
      "cell_type": "code",
      "execution_count": 26,
      "metadata": {
        "colab": {
          "base_uri": "https://localhost:8080/"
        },
        "id": "OJdmyXHoV55g",
        "outputId": "5d7089f3-e213-436c-b8ea-a3051a4a11f1"
      },
      "outputs": [
        {
          "output_type": "stream",
          "name": "stdout",
          "text": [
            "<class 'pandas.core.frame.DataFrame'>\n",
            "RangeIndex: 23699 entries, 0 to 23698\n",
            "Data columns (total 24 columns):\n",
            " #   Column                             Non-Null Count  Dtype  \n",
            "---  ------                             --------------  -----  \n",
            " 0   total_images                       23699 non-null  int64  \n",
            " 1   last_price                         23699 non-null  float64\n",
            " 2   total_area                         23638 non-null  float64\n",
            " 3   first_day_exposition               23699 non-null  object \n",
            " 4   rooms                              23699 non-null  int64  \n",
            " 5   ceiling_height                     14504 non-null  float64\n",
            " 6   floors_total                       23613 non-null  float64\n",
            " 7   living_area                        23659 non-null  float64\n",
            " 8   floor                              23699 non-null  int64  \n",
            " 9   is_apartment                       23699 non-null  bool   \n",
            " 10  studio                             23699 non-null  bool   \n",
            " 11  open_plan                          23699 non-null  bool   \n",
            " 12  kitchen_area                       21421 non-null  float64\n",
            " 13  balcony                            23699 non-null  float64\n",
            " 14  locality_name                      23650 non-null  object \n",
            " 15  airports_nearest                   18157 non-null  float64\n",
            " 16  cityCenters_nearest                18180 non-null  float64\n",
            " 17  parks_around3000                   18181 non-null  float64\n",
            " 18  parks_nearest                      8079 non-null   float64\n",
            " 19  ponds_around3000                   18181 non-null  float64\n",
            " 20  ponds_nearest                      9110 non-null   float64\n",
            " 21  days_exposition                    20518 non-null  float64\n",
            " 22  default_living_area_rate_by_rooms  23696 non-null  float64\n",
            " 23  if_sum_area_wrong                  23699 non-null  bool   \n",
            "dtypes: bool(4), float64(15), int64(3), object(2)\n",
            "memory usage: 3.7+ MB\n"
          ]
        }
      ],
      "source": [
        "df.info()"
      ]
    },
    {
      "cell_type": "markdown",
      "metadata": {
        "id": "ClIZsMfRXTMo"
      },
      "source": [
        "Итак, мы обработали все пропуски в таблице. Нам нужно будет работать с переменной даты публикации объявления не как с текстом, а как с датой. Переведём этот столбец таблицы в соответствующий формат."
      ]
    },
    {
      "cell_type": "code",
      "execution_count": 27,
      "metadata": {
        "id": "iTKx8kBDLRyK"
      },
      "outputs": [],
      "source": [
        "df['first_day_exposition'] = pd.to_datetime(df['first_day_exposition'])"
      ]
    },
    {
      "cell_type": "markdown",
      "metadata": {
        "id": "jEYScU8mNot-"
      },
      "source": [
        "### Вывод\n",
        "\n",
        "Мы удалили выбросы в переменных общей и жилой площади. Восстановили ряд пропущенных данных переменной жилой площади и заполнили нулями данные об отсутствующих балконах и об отсутствии статуса апартаментов у объекта недвижимости."
      ]
    },
    {
      "cell_type": "markdown",
      "metadata": {
        "id": "Q14-AoL7eyuN"
      },
      "source": [
        "## Расчёты и добавление результатов в таблицу"
      ]
    },
    {
      "cell_type": "markdown",
      "metadata": {
        "id": "u_pGzP_EOdaW"
      },
      "source": [
        "Рассчитаем цену квадратного метра позже."
      ]
    },
    {
      "cell_type": "markdown",
      "metadata": {
        "id": "uUnM2Bz8RrA3"
      },
      "source": [
        "Вычленим день недели, месяц и год публикации объявления для дальнейшего анализа."
      ]
    },
    {
      "cell_type": "code",
      "execution_count": 28,
      "metadata": {
        "colab": {
          "base_uri": "https://localhost:8080/",
          "height": 424
        },
        "id": "ICkYyF6GR9Zx",
        "outputId": "56921051-dd64-49da-b86b-cbf7c10cc8e4"
      },
      "outputs": [
        {
          "output_type": "execute_result",
          "data": {
            "text/plain": [
              "       year_exposition  month_exposition  weekday_exposition  \\\n",
              "0                 2019                 3                   3   \n",
              "1                 2018                12                   1   \n",
              "2                 2015                 8                   3   \n",
              "3                 2015                 7                   4   \n",
              "4                 2018                 6                   1   \n",
              "...                ...               ...                 ...   \n",
              "23694             2017                 3                   1   \n",
              "23695             2018                 1                   0   \n",
              "23696             2018                 2                   6   \n",
              "23697             2017                 3                   1   \n",
              "23698             2017                 7                   4   \n",
              "\n",
              "      first_day_exposition  \n",
              "0               2019-03-07  \n",
              "1               2018-12-04  \n",
              "2               2015-08-20  \n",
              "3               2015-07-24  \n",
              "4               2018-06-19  \n",
              "...                    ...  \n",
              "23694           2017-03-21  \n",
              "23695           2018-01-15  \n",
              "23696           2018-02-11  \n",
              "23697           2017-03-28  \n",
              "23698           2017-07-21  \n",
              "\n",
              "[23699 rows x 4 columns]"
            ],
            "text/html": [
              "\n",
              "  <div id=\"df-76b2ac3e-f4ce-4c9b-bf9d-d74b29507233\">\n",
              "    <div class=\"colab-df-container\">\n",
              "      <div>\n",
              "<style scoped>\n",
              "    .dataframe tbody tr th:only-of-type {\n",
              "        vertical-align: middle;\n",
              "    }\n",
              "\n",
              "    .dataframe tbody tr th {\n",
              "        vertical-align: top;\n",
              "    }\n",
              "\n",
              "    .dataframe thead th {\n",
              "        text-align: right;\n",
              "    }\n",
              "</style>\n",
              "<table border=\"1\" class=\"dataframe\">\n",
              "  <thead>\n",
              "    <tr style=\"text-align: right;\">\n",
              "      <th></th>\n",
              "      <th>year_exposition</th>\n",
              "      <th>month_exposition</th>\n",
              "      <th>weekday_exposition</th>\n",
              "      <th>first_day_exposition</th>\n",
              "    </tr>\n",
              "  </thead>\n",
              "  <tbody>\n",
              "    <tr>\n",
              "      <th>0</th>\n",
              "      <td>2019</td>\n",
              "      <td>3</td>\n",
              "      <td>3</td>\n",
              "      <td>2019-03-07</td>\n",
              "    </tr>\n",
              "    <tr>\n",
              "      <th>1</th>\n",
              "      <td>2018</td>\n",
              "      <td>12</td>\n",
              "      <td>1</td>\n",
              "      <td>2018-12-04</td>\n",
              "    </tr>\n",
              "    <tr>\n",
              "      <th>2</th>\n",
              "      <td>2015</td>\n",
              "      <td>8</td>\n",
              "      <td>3</td>\n",
              "      <td>2015-08-20</td>\n",
              "    </tr>\n",
              "    <tr>\n",
              "      <th>3</th>\n",
              "      <td>2015</td>\n",
              "      <td>7</td>\n",
              "      <td>4</td>\n",
              "      <td>2015-07-24</td>\n",
              "    </tr>\n",
              "    <tr>\n",
              "      <th>4</th>\n",
              "      <td>2018</td>\n",
              "      <td>6</td>\n",
              "      <td>1</td>\n",
              "      <td>2018-06-19</td>\n",
              "    </tr>\n",
              "    <tr>\n",
              "      <th>...</th>\n",
              "      <td>...</td>\n",
              "      <td>...</td>\n",
              "      <td>...</td>\n",
              "      <td>...</td>\n",
              "    </tr>\n",
              "    <tr>\n",
              "      <th>23694</th>\n",
              "      <td>2017</td>\n",
              "      <td>3</td>\n",
              "      <td>1</td>\n",
              "      <td>2017-03-21</td>\n",
              "    </tr>\n",
              "    <tr>\n",
              "      <th>23695</th>\n",
              "      <td>2018</td>\n",
              "      <td>1</td>\n",
              "      <td>0</td>\n",
              "      <td>2018-01-15</td>\n",
              "    </tr>\n",
              "    <tr>\n",
              "      <th>23696</th>\n",
              "      <td>2018</td>\n",
              "      <td>2</td>\n",
              "      <td>6</td>\n",
              "      <td>2018-02-11</td>\n",
              "    </tr>\n",
              "    <tr>\n",
              "      <th>23697</th>\n",
              "      <td>2017</td>\n",
              "      <td>3</td>\n",
              "      <td>1</td>\n",
              "      <td>2017-03-28</td>\n",
              "    </tr>\n",
              "    <tr>\n",
              "      <th>23698</th>\n",
              "      <td>2017</td>\n",
              "      <td>7</td>\n",
              "      <td>4</td>\n",
              "      <td>2017-07-21</td>\n",
              "    </tr>\n",
              "  </tbody>\n",
              "</table>\n",
              "<p>23699 rows × 4 columns</p>\n",
              "</div>\n",
              "      <button class=\"colab-df-convert\" onclick=\"convertToInteractive('df-76b2ac3e-f4ce-4c9b-bf9d-d74b29507233')\"\n",
              "              title=\"Convert this dataframe to an interactive table.\"\n",
              "              style=\"display:none;\">\n",
              "        \n",
              "  <svg xmlns=\"http://www.w3.org/2000/svg\" height=\"24px\"viewBox=\"0 0 24 24\"\n",
              "       width=\"24px\">\n",
              "    <path d=\"M0 0h24v24H0V0z\" fill=\"none\"/>\n",
              "    <path d=\"M18.56 5.44l.94 2.06.94-2.06 2.06-.94-2.06-.94-.94-2.06-.94 2.06-2.06.94zm-11 1L8.5 8.5l.94-2.06 2.06-.94-2.06-.94L8.5 2.5l-.94 2.06-2.06.94zm10 10l.94 2.06.94-2.06 2.06-.94-2.06-.94-.94-2.06-.94 2.06-2.06.94z\"/><path d=\"M17.41 7.96l-1.37-1.37c-.4-.4-.92-.59-1.43-.59-.52 0-1.04.2-1.43.59L10.3 9.45l-7.72 7.72c-.78.78-.78 2.05 0 2.83L4 21.41c.39.39.9.59 1.41.59.51 0 1.02-.2 1.41-.59l7.78-7.78 2.81-2.81c.8-.78.8-2.07 0-2.86zM5.41 20L4 18.59l7.72-7.72 1.47 1.35L5.41 20z\"/>\n",
              "  </svg>\n",
              "      </button>\n",
              "      \n",
              "  <style>\n",
              "    .colab-df-container {\n",
              "      display:flex;\n",
              "      flex-wrap:wrap;\n",
              "      gap: 12px;\n",
              "    }\n",
              "\n",
              "    .colab-df-convert {\n",
              "      background-color: #E8F0FE;\n",
              "      border: none;\n",
              "      border-radius: 50%;\n",
              "      cursor: pointer;\n",
              "      display: none;\n",
              "      fill: #1967D2;\n",
              "      height: 32px;\n",
              "      padding: 0 0 0 0;\n",
              "      width: 32px;\n",
              "    }\n",
              "\n",
              "    .colab-df-convert:hover {\n",
              "      background-color: #E2EBFA;\n",
              "      box-shadow: 0px 1px 2px rgba(60, 64, 67, 0.3), 0px 1px 3px 1px rgba(60, 64, 67, 0.15);\n",
              "      fill: #174EA6;\n",
              "    }\n",
              "\n",
              "    [theme=dark] .colab-df-convert {\n",
              "      background-color: #3B4455;\n",
              "      fill: #D2E3FC;\n",
              "    }\n",
              "\n",
              "    [theme=dark] .colab-df-convert:hover {\n",
              "      background-color: #434B5C;\n",
              "      box-shadow: 0px 1px 3px 1px rgba(0, 0, 0, 0.15);\n",
              "      filter: drop-shadow(0px 1px 2px rgba(0, 0, 0, 0.3));\n",
              "      fill: #FFFFFF;\n",
              "    }\n",
              "  </style>\n",
              "\n",
              "      <script>\n",
              "        const buttonEl =\n",
              "          document.querySelector('#df-76b2ac3e-f4ce-4c9b-bf9d-d74b29507233 button.colab-df-convert');\n",
              "        buttonEl.style.display =\n",
              "          google.colab.kernel.accessAllowed ? 'block' : 'none';\n",
              "\n",
              "        async function convertToInteractive(key) {\n",
              "          const element = document.querySelector('#df-76b2ac3e-f4ce-4c9b-bf9d-d74b29507233');\n",
              "          const dataTable =\n",
              "            await google.colab.kernel.invokeFunction('convertToInteractive',\n",
              "                                                     [key], {});\n",
              "          if (!dataTable) return;\n",
              "\n",
              "          const docLinkHtml = 'Like what you see? Visit the ' +\n",
              "            '<a target=\"_blank\" href=https://colab.research.google.com/notebooks/data_table.ipynb>data table notebook</a>'\n",
              "            + ' to learn more about interactive tables.';\n",
              "          element.innerHTML = '';\n",
              "          dataTable['output_type'] = 'display_data';\n",
              "          await google.colab.output.renderOutput(dataTable, element);\n",
              "          const docLink = document.createElement('div');\n",
              "          docLink.innerHTML = docLinkHtml;\n",
              "          element.appendChild(docLink);\n",
              "        }\n",
              "      </script>\n",
              "    </div>\n",
              "  </div>\n",
              "  "
            ]
          },
          "metadata": {},
          "execution_count": 28
        }
      ],
      "source": [
        "df['weekday_exposition'] = df['first_day_exposition'].dt.weekday\n",
        "df['month_exposition'] = df['first_day_exposition'].dt.month\n",
        "df['year_exposition'] = df['first_day_exposition'].dt.year\n",
        "df.loc[:,['year_exposition','month_exposition','weekday_exposition', 'first_day_exposition']]"
      ]
    },
    {
      "cell_type": "markdown",
      "metadata": {
        "id": "bqY4xiXcKTbz"
      },
      "source": [
        "В первых и последних строках есть данные об объявлениях за период с 2015 по 2019 год. Посмотрим на наполнение групп по годам:"
      ]
    },
    {
      "cell_type": "code",
      "execution_count": 29,
      "metadata": {
        "colab": {
          "base_uri": "https://localhost:8080/"
        },
        "id": "DqrXVC-fKhkh",
        "outputId": "3d5b8633-b8cb-4f98-88e6-a2d04ef799cc"
      },
      "outputs": [
        {
          "output_type": "execute_result",
          "data": {
            "text/plain": [
              "2018    8519\n",
              "2017    8190\n",
              "2019    2879\n",
              "2016    2783\n",
              "2015    1191\n",
              "2014     137\n",
              "Name: year_exposition, dtype: int64"
            ]
          },
          "metadata": {},
          "execution_count": 29
        }
      ],
      "source": [
        "df['year_exposition'].value_counts()"
      ]
    },
    {
      "cell_type": "markdown",
      "metadata": {
        "id": "JhtpIcGlKtXP"
      },
      "source": [
        "Данных за 2014 год мало, чтобы делать валидные выводы об этом периоде. 2014 год был кризисным и ситуация на конец периода будет существенно отличаться. Кроме того, у нас есть инсайд о том, что рынок недвижимости \"живёт\" 3-4 года, для выводов о 2019 годе данные за 2014-й будут непоказательны. На этом основании удалим данные за 2014 год. "
      ]
    },
    {
      "cell_type": "code",
      "execution_count": 30,
      "metadata": {
        "id": "tIFbgppILi24"
      },
      "outputs": [],
      "source": [
        "df = df.query(\"year_exposition > 2014\")"
      ]
    },
    {
      "cell_type": "markdown",
      "metadata": {
        "id": "WRudAajvZF6h"
      },
      "source": [
        "Этаж квартиры, как правило, не имеет особого значения. Для покупателя имеет значение три класса - первый, последний или другой этаж. Перекодируем этаж, создав соответствующее правило."
      ]
    },
    {
      "cell_type": "code",
      "execution_count": 31,
      "metadata": {
        "colab": {
          "base_uri": "https://localhost:8080/",
          "height": 363
        },
        "id": "YH-WXwHyZ2nH",
        "outputId": "c5729fc1-f968-430b-d444-2d4052ee8b1c"
      },
      "outputs": [
        {
          "output_type": "execute_result",
          "data": {
            "text/plain": [
              "       floor  floors_total floor_grouped\n",
              "6351      10          25.0        другой\n",
              "7412      14          26.0        другой\n",
              "19826      2           4.0        другой\n",
              "4399       1           3.0        первый\n",
              "9751       4          10.0        другой\n",
              "8434       4           5.0        другой\n",
              "9469       6           6.0     последний\n",
              "252       11          16.0        другой\n",
              "11625      8           9.0        другой\n",
              "18780      2          17.0        другой"
            ],
            "text/html": [
              "\n",
              "  <div id=\"df-e4ef6139-ff27-4399-b555-5655845f3e0f\">\n",
              "    <div class=\"colab-df-container\">\n",
              "      <div>\n",
              "<style scoped>\n",
              "    .dataframe tbody tr th:only-of-type {\n",
              "        vertical-align: middle;\n",
              "    }\n",
              "\n",
              "    .dataframe tbody tr th {\n",
              "        vertical-align: top;\n",
              "    }\n",
              "\n",
              "    .dataframe thead th {\n",
              "        text-align: right;\n",
              "    }\n",
              "</style>\n",
              "<table border=\"1\" class=\"dataframe\">\n",
              "  <thead>\n",
              "    <tr style=\"text-align: right;\">\n",
              "      <th></th>\n",
              "      <th>floor</th>\n",
              "      <th>floors_total</th>\n",
              "      <th>floor_grouped</th>\n",
              "    </tr>\n",
              "  </thead>\n",
              "  <tbody>\n",
              "    <tr>\n",
              "      <th>6351</th>\n",
              "      <td>10</td>\n",
              "      <td>25.0</td>\n",
              "      <td>другой</td>\n",
              "    </tr>\n",
              "    <tr>\n",
              "      <th>7412</th>\n",
              "      <td>14</td>\n",
              "      <td>26.0</td>\n",
              "      <td>другой</td>\n",
              "    </tr>\n",
              "    <tr>\n",
              "      <th>19826</th>\n",
              "      <td>2</td>\n",
              "      <td>4.0</td>\n",
              "      <td>другой</td>\n",
              "    </tr>\n",
              "    <tr>\n",
              "      <th>4399</th>\n",
              "      <td>1</td>\n",
              "      <td>3.0</td>\n",
              "      <td>первый</td>\n",
              "    </tr>\n",
              "    <tr>\n",
              "      <th>9751</th>\n",
              "      <td>4</td>\n",
              "      <td>10.0</td>\n",
              "      <td>другой</td>\n",
              "    </tr>\n",
              "    <tr>\n",
              "      <th>8434</th>\n",
              "      <td>4</td>\n",
              "      <td>5.0</td>\n",
              "      <td>другой</td>\n",
              "    </tr>\n",
              "    <tr>\n",
              "      <th>9469</th>\n",
              "      <td>6</td>\n",
              "      <td>6.0</td>\n",
              "      <td>последний</td>\n",
              "    </tr>\n",
              "    <tr>\n",
              "      <th>252</th>\n",
              "      <td>11</td>\n",
              "      <td>16.0</td>\n",
              "      <td>другой</td>\n",
              "    </tr>\n",
              "    <tr>\n",
              "      <th>11625</th>\n",
              "      <td>8</td>\n",
              "      <td>9.0</td>\n",
              "      <td>другой</td>\n",
              "    </tr>\n",
              "    <tr>\n",
              "      <th>18780</th>\n",
              "      <td>2</td>\n",
              "      <td>17.0</td>\n",
              "      <td>другой</td>\n",
              "    </tr>\n",
              "  </tbody>\n",
              "</table>\n",
              "</div>\n",
              "      <button class=\"colab-df-convert\" onclick=\"convertToInteractive('df-e4ef6139-ff27-4399-b555-5655845f3e0f')\"\n",
              "              title=\"Convert this dataframe to an interactive table.\"\n",
              "              style=\"display:none;\">\n",
              "        \n",
              "  <svg xmlns=\"http://www.w3.org/2000/svg\" height=\"24px\"viewBox=\"0 0 24 24\"\n",
              "       width=\"24px\">\n",
              "    <path d=\"M0 0h24v24H0V0z\" fill=\"none\"/>\n",
              "    <path d=\"M18.56 5.44l.94 2.06.94-2.06 2.06-.94-2.06-.94-.94-2.06-.94 2.06-2.06.94zm-11 1L8.5 8.5l.94-2.06 2.06-.94-2.06-.94L8.5 2.5l-.94 2.06-2.06.94zm10 10l.94 2.06.94-2.06 2.06-.94-2.06-.94-.94-2.06-.94 2.06-2.06.94z\"/><path d=\"M17.41 7.96l-1.37-1.37c-.4-.4-.92-.59-1.43-.59-.52 0-1.04.2-1.43.59L10.3 9.45l-7.72 7.72c-.78.78-.78 2.05 0 2.83L4 21.41c.39.39.9.59 1.41.59.51 0 1.02-.2 1.41-.59l7.78-7.78 2.81-2.81c.8-.78.8-2.07 0-2.86zM5.41 20L4 18.59l7.72-7.72 1.47 1.35L5.41 20z\"/>\n",
              "  </svg>\n",
              "      </button>\n",
              "      \n",
              "  <style>\n",
              "    .colab-df-container {\n",
              "      display:flex;\n",
              "      flex-wrap:wrap;\n",
              "      gap: 12px;\n",
              "    }\n",
              "\n",
              "    .colab-df-convert {\n",
              "      background-color: #E8F0FE;\n",
              "      border: none;\n",
              "      border-radius: 50%;\n",
              "      cursor: pointer;\n",
              "      display: none;\n",
              "      fill: #1967D2;\n",
              "      height: 32px;\n",
              "      padding: 0 0 0 0;\n",
              "      width: 32px;\n",
              "    }\n",
              "\n",
              "    .colab-df-convert:hover {\n",
              "      background-color: #E2EBFA;\n",
              "      box-shadow: 0px 1px 2px rgba(60, 64, 67, 0.3), 0px 1px 3px 1px rgba(60, 64, 67, 0.15);\n",
              "      fill: #174EA6;\n",
              "    }\n",
              "\n",
              "    [theme=dark] .colab-df-convert {\n",
              "      background-color: #3B4455;\n",
              "      fill: #D2E3FC;\n",
              "    }\n",
              "\n",
              "    [theme=dark] .colab-df-convert:hover {\n",
              "      background-color: #434B5C;\n",
              "      box-shadow: 0px 1px 3px 1px rgba(0, 0, 0, 0.15);\n",
              "      filter: drop-shadow(0px 1px 2px rgba(0, 0, 0, 0.3));\n",
              "      fill: #FFFFFF;\n",
              "    }\n",
              "  </style>\n",
              "\n",
              "      <script>\n",
              "        const buttonEl =\n",
              "          document.querySelector('#df-e4ef6139-ff27-4399-b555-5655845f3e0f button.colab-df-convert');\n",
              "        buttonEl.style.display =\n",
              "          google.colab.kernel.accessAllowed ? 'block' : 'none';\n",
              "\n",
              "        async function convertToInteractive(key) {\n",
              "          const element = document.querySelector('#df-e4ef6139-ff27-4399-b555-5655845f3e0f');\n",
              "          const dataTable =\n",
              "            await google.colab.kernel.invokeFunction('convertToInteractive',\n",
              "                                                     [key], {});\n",
              "          if (!dataTable) return;\n",
              "\n",
              "          const docLinkHtml = 'Like what you see? Visit the ' +\n",
              "            '<a target=\"_blank\" href=https://colab.research.google.com/notebooks/data_table.ipynb>data table notebook</a>'\n",
              "            + ' to learn more about interactive tables.';\n",
              "          element.innerHTML = '';\n",
              "          dataTable['output_type'] = 'display_data';\n",
              "          await google.colab.output.renderOutput(dataTable, element);\n",
              "          const docLink = document.createElement('div');\n",
              "          docLink.innerHTML = docLinkHtml;\n",
              "          element.appendChild(docLink);\n",
              "        }\n",
              "      </script>\n",
              "    </div>\n",
              "  </div>\n",
              "  "
            ]
          },
          "metadata": {},
          "execution_count": 31
        }
      ],
      "source": [
        "def floor_group(row):\n",
        "\n",
        "    floor = row['floor']\n",
        "    floors_total = row['floors_total']\n",
        "\n",
        "    if floor != floors_total:\n",
        "        if floor == 1:\n",
        "            return 'первый'\n",
        "        if floor > 1:\n",
        "            return 'другой'\n",
        "            \n",
        "    return 'последний' \n",
        "\n",
        "df ['floor_grouped'] = df.apply(floor_group, axis=1)\n",
        "df.loc[:,['floor','floors_total','floor_grouped']].sample(10)"
      ]
    },
    {
      "cell_type": "markdown",
      "metadata": {
        "id": "7SHEjt8MeZTf"
      },
      "source": [
        "Перекодировка прошла успешно. Метод .sample() выбран, т.к. ни среди первых, ни среди последних строк не встречается последнего этажа. Далее нам нужны переменные доли жилой площади в общей и доли площади квартиры в общей площади."
      ]
    },
    {
      "cell_type": "code",
      "execution_count": 32,
      "metadata": {
        "colab": {
          "base_uri": "https://localhost:8080/",
          "height": 424
        },
        "id": "IDfAbhZTfmIR",
        "outputId": "d9d8abb7-77ed-4a4e-da3d-e6ce337f12e1"
      },
      "outputs": [
        {
          "output_type": "execute_result",
          "data": {
            "text/plain": [
              "       living_area_rate  kitchen_area_rate  living_area  total_area  \\\n",
              "0              0.472222           0.231481    51.000000      108.00   \n",
              "1              0.460396           0.272277    18.600000       40.40   \n",
              "2              0.612500           0.148214    34.300000       56.00   \n",
              "3              0.616438                NaN    98.013699      159.00   \n",
              "4              0.320000           0.410000    32.000000      100.00   \n",
              "...                 ...                ...          ...         ...   \n",
              "23694          0.547792           0.103356    73.300000      133.81   \n",
              "23695          0.644068           0.144068    38.000000       59.00   \n",
              "23696          0.523810                NaN    29.700000       56.70   \n",
              "23697          0.575472           0.303583    44.167453       76.75   \n",
              "23698          0.380805           0.278638    12.300000       32.30   \n",
              "\n",
              "       kitchen_area  \n",
              "0             25.00  \n",
              "1             11.00  \n",
              "2              8.30  \n",
              "3               NaN  \n",
              "4             41.00  \n",
              "...             ...  \n",
              "23694         13.83  \n",
              "23695          8.50  \n",
              "23696           NaN  \n",
              "23697         23.30  \n",
              "23698          9.00  \n",
              "\n",
              "[23562 rows x 5 columns]"
            ],
            "text/html": [
              "\n",
              "  <div id=\"df-016a4b8a-f860-41e1-9ee7-5d5a001fb0b3\">\n",
              "    <div class=\"colab-df-container\">\n",
              "      <div>\n",
              "<style scoped>\n",
              "    .dataframe tbody tr th:only-of-type {\n",
              "        vertical-align: middle;\n",
              "    }\n",
              "\n",
              "    .dataframe tbody tr th {\n",
              "        vertical-align: top;\n",
              "    }\n",
              "\n",
              "    .dataframe thead th {\n",
              "        text-align: right;\n",
              "    }\n",
              "</style>\n",
              "<table border=\"1\" class=\"dataframe\">\n",
              "  <thead>\n",
              "    <tr style=\"text-align: right;\">\n",
              "      <th></th>\n",
              "      <th>living_area_rate</th>\n",
              "      <th>kitchen_area_rate</th>\n",
              "      <th>living_area</th>\n",
              "      <th>total_area</th>\n",
              "      <th>kitchen_area</th>\n",
              "    </tr>\n",
              "  </thead>\n",
              "  <tbody>\n",
              "    <tr>\n",
              "      <th>0</th>\n",
              "      <td>0.472222</td>\n",
              "      <td>0.231481</td>\n",
              "      <td>51.000000</td>\n",
              "      <td>108.00</td>\n",
              "      <td>25.00</td>\n",
              "    </tr>\n",
              "    <tr>\n",
              "      <th>1</th>\n",
              "      <td>0.460396</td>\n",
              "      <td>0.272277</td>\n",
              "      <td>18.600000</td>\n",
              "      <td>40.40</td>\n",
              "      <td>11.00</td>\n",
              "    </tr>\n",
              "    <tr>\n",
              "      <th>2</th>\n",
              "      <td>0.612500</td>\n",
              "      <td>0.148214</td>\n",
              "      <td>34.300000</td>\n",
              "      <td>56.00</td>\n",
              "      <td>8.30</td>\n",
              "    </tr>\n",
              "    <tr>\n",
              "      <th>3</th>\n",
              "      <td>0.616438</td>\n",
              "      <td>NaN</td>\n",
              "      <td>98.013699</td>\n",
              "      <td>159.00</td>\n",
              "      <td>NaN</td>\n",
              "    </tr>\n",
              "    <tr>\n",
              "      <th>4</th>\n",
              "      <td>0.320000</td>\n",
              "      <td>0.410000</td>\n",
              "      <td>32.000000</td>\n",
              "      <td>100.00</td>\n",
              "      <td>41.00</td>\n",
              "    </tr>\n",
              "    <tr>\n",
              "      <th>...</th>\n",
              "      <td>...</td>\n",
              "      <td>...</td>\n",
              "      <td>...</td>\n",
              "      <td>...</td>\n",
              "      <td>...</td>\n",
              "    </tr>\n",
              "    <tr>\n",
              "      <th>23694</th>\n",
              "      <td>0.547792</td>\n",
              "      <td>0.103356</td>\n",
              "      <td>73.300000</td>\n",
              "      <td>133.81</td>\n",
              "      <td>13.83</td>\n",
              "    </tr>\n",
              "    <tr>\n",
              "      <th>23695</th>\n",
              "      <td>0.644068</td>\n",
              "      <td>0.144068</td>\n",
              "      <td>38.000000</td>\n",
              "      <td>59.00</td>\n",
              "      <td>8.50</td>\n",
              "    </tr>\n",
              "    <tr>\n",
              "      <th>23696</th>\n",
              "      <td>0.523810</td>\n",
              "      <td>NaN</td>\n",
              "      <td>29.700000</td>\n",
              "      <td>56.70</td>\n",
              "      <td>NaN</td>\n",
              "    </tr>\n",
              "    <tr>\n",
              "      <th>23697</th>\n",
              "      <td>0.575472</td>\n",
              "      <td>0.303583</td>\n",
              "      <td>44.167453</td>\n",
              "      <td>76.75</td>\n",
              "      <td>23.30</td>\n",
              "    </tr>\n",
              "    <tr>\n",
              "      <th>23698</th>\n",
              "      <td>0.380805</td>\n",
              "      <td>0.278638</td>\n",
              "      <td>12.300000</td>\n",
              "      <td>32.30</td>\n",
              "      <td>9.00</td>\n",
              "    </tr>\n",
              "  </tbody>\n",
              "</table>\n",
              "<p>23562 rows × 5 columns</p>\n",
              "</div>\n",
              "      <button class=\"colab-df-convert\" onclick=\"convertToInteractive('df-016a4b8a-f860-41e1-9ee7-5d5a001fb0b3')\"\n",
              "              title=\"Convert this dataframe to an interactive table.\"\n",
              "              style=\"display:none;\">\n",
              "        \n",
              "  <svg xmlns=\"http://www.w3.org/2000/svg\" height=\"24px\"viewBox=\"0 0 24 24\"\n",
              "       width=\"24px\">\n",
              "    <path d=\"M0 0h24v24H0V0z\" fill=\"none\"/>\n",
              "    <path d=\"M18.56 5.44l.94 2.06.94-2.06 2.06-.94-2.06-.94-.94-2.06-.94 2.06-2.06.94zm-11 1L8.5 8.5l.94-2.06 2.06-.94-2.06-.94L8.5 2.5l-.94 2.06-2.06.94zm10 10l.94 2.06.94-2.06 2.06-.94-2.06-.94-.94-2.06-.94 2.06-2.06.94z\"/><path d=\"M17.41 7.96l-1.37-1.37c-.4-.4-.92-.59-1.43-.59-.52 0-1.04.2-1.43.59L10.3 9.45l-7.72 7.72c-.78.78-.78 2.05 0 2.83L4 21.41c.39.39.9.59 1.41.59.51 0 1.02-.2 1.41-.59l7.78-7.78 2.81-2.81c.8-.78.8-2.07 0-2.86zM5.41 20L4 18.59l7.72-7.72 1.47 1.35L5.41 20z\"/>\n",
              "  </svg>\n",
              "      </button>\n",
              "      \n",
              "  <style>\n",
              "    .colab-df-container {\n",
              "      display:flex;\n",
              "      flex-wrap:wrap;\n",
              "      gap: 12px;\n",
              "    }\n",
              "\n",
              "    .colab-df-convert {\n",
              "      background-color: #E8F0FE;\n",
              "      border: none;\n",
              "      border-radius: 50%;\n",
              "      cursor: pointer;\n",
              "      display: none;\n",
              "      fill: #1967D2;\n",
              "      height: 32px;\n",
              "      padding: 0 0 0 0;\n",
              "      width: 32px;\n",
              "    }\n",
              "\n",
              "    .colab-df-convert:hover {\n",
              "      background-color: #E2EBFA;\n",
              "      box-shadow: 0px 1px 2px rgba(60, 64, 67, 0.3), 0px 1px 3px 1px rgba(60, 64, 67, 0.15);\n",
              "      fill: #174EA6;\n",
              "    }\n",
              "\n",
              "    [theme=dark] .colab-df-convert {\n",
              "      background-color: #3B4455;\n",
              "      fill: #D2E3FC;\n",
              "    }\n",
              "\n",
              "    [theme=dark] .colab-df-convert:hover {\n",
              "      background-color: #434B5C;\n",
              "      box-shadow: 0px 1px 3px 1px rgba(0, 0, 0, 0.15);\n",
              "      filter: drop-shadow(0px 1px 2px rgba(0, 0, 0, 0.3));\n",
              "      fill: #FFFFFF;\n",
              "    }\n",
              "  </style>\n",
              "\n",
              "      <script>\n",
              "        const buttonEl =\n",
              "          document.querySelector('#df-016a4b8a-f860-41e1-9ee7-5d5a001fb0b3 button.colab-df-convert');\n",
              "        buttonEl.style.display =\n",
              "          google.colab.kernel.accessAllowed ? 'block' : 'none';\n",
              "\n",
              "        async function convertToInteractive(key) {\n",
              "          const element = document.querySelector('#df-016a4b8a-f860-41e1-9ee7-5d5a001fb0b3');\n",
              "          const dataTable =\n",
              "            await google.colab.kernel.invokeFunction('convertToInteractive',\n",
              "                                                     [key], {});\n",
              "          if (!dataTable) return;\n",
              "\n",
              "          const docLinkHtml = 'Like what you see? Visit the ' +\n",
              "            '<a target=\"_blank\" href=https://colab.research.google.com/notebooks/data_table.ipynb>data table notebook</a>'\n",
              "            + ' to learn more about interactive tables.';\n",
              "          element.innerHTML = '';\n",
              "          dataTable['output_type'] = 'display_data';\n",
              "          await google.colab.output.renderOutput(dataTable, element);\n",
              "          const docLink = document.createElement('div');\n",
              "          docLink.innerHTML = docLinkHtml;\n",
              "          element.appendChild(docLink);\n",
              "        }\n",
              "      </script>\n",
              "    </div>\n",
              "  </div>\n",
              "  "
            ]
          },
          "metadata": {},
          "execution_count": 32
        }
      ],
      "source": [
        "df['living_area_rate'] = df['living_area'] / df['total_area']\n",
        "df['kitchen_area_rate'] = df['kitchen_area'] / df['total_area']\n",
        "\n",
        "df.loc[:,['living_area_rate','kitchen_area_rate','living_area','total_area','kitchen_area']]"
      ]
    },
    {
      "cell_type": "markdown",
      "metadata": {
        "id": "3CPRqjomiSQA"
      },
      "source": [
        "### Вывод\n",
        "Мы добавили новые данные в таблицу:\n",
        "\n",
        "\n",
        "*   день недели, месяц и год публикации объявления;\n",
        "*   этаж квартиры; варианты — первый, последний, другой;\n",
        "*   соотношение жилой и общей площади, а также отношение площади кухни к общей."
      ]
    },
    {
      "cell_type": "markdown",
      "metadata": {
        "id": "AZ9psv05eyuQ"
      },
      "source": [
        "## Исследовательский анализ данных"
      ]
    },
    {
      "cell_type": "markdown",
      "metadata": {
        "id": "qWhWWuMxUXL2"
      },
      "source": [
        "### Задача: проанализировать основные переменные в отдельности"
      ]
    },
    {
      "cell_type": "markdown",
      "metadata": {
        "id": "sDr3tiu4kSLs"
      },
      "source": [
        "Посмотрим на переменную площади квартиры."
      ]
    },
    {
      "cell_type": "code",
      "execution_count": 33,
      "metadata": {
        "colab": {
          "base_uri": "https://localhost:8080/",
          "height": 459
        },
        "id": "B2oSHDE4eyuS",
        "outputId": "ac9f413e-e771-4a36-8544-b32a0ae5f912"
      },
      "outputs": [
        {
          "output_type": "display_data",
          "data": {
            "text/plain": [
              "<Figure size 720x504 with 1 Axes>"
            ],
            "image/png": "[encoded data removed]"
          },
          "metadata": {
            "needs_background": "light"
          }
        }
      ],
      "source": [
        "plt.title('Частотное распределение признака общей площади во всей базе (обновлено)')\n",
        "plt.xlabel('Общая площадь в кв. м.')\n",
        "plt.ylabel('Количество случаев в базе')\n",
        "\n",
        "df['total_area'].hist(bins=30,color='purple',figsize=(10,7))\n",
        "None"
      ]
    },
    {
      "cell_type": "markdown",
      "metadata": {
        "id": "-04-5RkQk7Wa"
      },
      "source": [
        "Переменная имеет Пуассоновское распределение. Мы уже удаляли выбросы, максимальная площадь - 300 квардатных метров. Наиболее распространённая площадь примерно равна 50 квадратным метрам. Других пиков на графике нет, что также говорит о корректности собранных данных. Далее переменная стоимости квартиры."
      ]
    },
    {
      "cell_type": "code",
      "execution_count": 34,
      "metadata": {
        "colab": {
          "base_uri": "https://localhost:8080/",
          "height": 459
        },
        "id": "6ig21V-JlpoD",
        "outputId": "af570130-fd1c-4788-d492-812a7f868e84"
      },
      "outputs": [
        {
          "output_type": "display_data",
          "data": {
            "text/plain": [
              "<Figure size 720x504 with 1 Axes>"
            ],
            "image/png": "[encoded data removed]"
          },
          "metadata": {
            "needs_background": "light"
          }
        }
      ],
      "source": [
        "plt.title('Частотное распределение признака стоимости квартиры во всей базе')\n",
        "plt.xlabel('Общая стоимость квартиры, в сотнях млн. руб.')\n",
        "plt.ylabel('Количество случаев в базе')\n",
        "\n",
        "df['last_price'].hist(bins=30,color='purple',figsize=(10,7))\n",
        "None"
      ]
    },
    {
      "cell_type": "markdown",
      "metadata": {
        "id": "fUTh9Tdkl59b"
      },
      "source": [
        "У переменной очень длинный \"хвост\", максимум стоимости находится в районе 800 млн. руб. Посмотрим, можно ли удалить данные 1% наблюдений так, чтобы это существенно сократило правую часть графика. Удалить такие данные мы можем, т.к. стоимость крайне дорогих квартир определяется прочими факторами, которых нет в базе (как правило, стоимость ремонта и престижность ЖК)."
      ]
    },
    {
      "cell_type": "code",
      "execution_count": 35,
      "metadata": {
        "colab": {
          "base_uri": "https://localhost:8080/"
        },
        "id": "-d5D8SWymgSh",
        "outputId": "7474c9cb-61b7-4ac3-c4b3-702232f0ed0a"
      },
      "outputs": [
        {
          "output_type": "execute_result",
          "data": {
            "text/plain": [
              "count    2.356200e+04\n",
              "mean     6.509304e+06\n",
              "std      1.086884e+07\n",
              "min      1.219000e+04\n",
              "50%      4.615000e+06\n",
              "99%      3.549939e+07\n",
              "max      7.630000e+08\n",
              "Name: last_price, dtype: float64"
            ]
          },
          "metadata": {},
          "execution_count": 35
        }
      ],
      "source": [
        "df['last_price'].describe(percentiles=[.99])"
      ]
    },
    {
      "cell_type": "markdown",
      "metadata": {
        "id": "ICtV-VUGnZOX"
      },
      "source": [
        "Признаем \"выбросами\" стоимость квартир от 36 млн. руб. и удалим эти данные."
      ]
    },
    {
      "cell_type": "code",
      "execution_count": 36,
      "metadata": {
        "colab": {
          "base_uri": "https://localhost:8080/",
          "height": 459
        },
        "id": "HsbZmihHniNW",
        "outputId": "71d0791b-73a6-46c3-88fb-18ae1657876e"
      },
      "outputs": [
        {
          "output_type": "display_data",
          "data": {
            "text/plain": [
              "<Figure size 720x504 with 1 Axes>"
            ],
            "image/png": "[encoded data removed]"
          },
          "metadata": {
            "needs_background": "light"
          }
        }
      ],
      "source": [
        "df = df.query(\"last_price < 36000000\")\n",
        "\n",
        "plt.title('Частотное распределение признака стоимости квартиры во всей базе')\n",
        "plt.xlabel('Общая стоимость квартиры, в десятках млн. руб.')\n",
        "plt.ylabel('Количество случаев в базе')\n",
        "df['last_price'].hist(bins=30,color='purple',figsize=(10,7))\n",
        "None"
      ]
    },
    {
      "cell_type": "markdown",
      "metadata": {
        "id": "GpwVQGGvp5Hq"
      },
      "source": [
        "Распределение также скорее Пуассоновское, чем нормальное. Пик графика, то есть мода, находится в районе 5 млн. руб. Теперь можно корректно рассчитать цену квадратного метра и добавить его в таблицу."
      ]
    },
    {
      "cell_type": "code",
      "execution_count": 37,
      "metadata": {
        "colab": {
          "base_uri": "https://localhost:8080/"
        },
        "id": "Q-nuwkd-twzQ",
        "outputId": "e5616e91-a225-429c-ca39-ac7d920ed235"
      },
      "outputs": [
        {
          "output_type": "execute_result",
          "data": {
            "text/plain": [
              "4859     848484.848485\n",
              "17172    848484.848485\n",
              "21238    640422.350472\n",
              "22869    600000.000000\n",
              "16732    467914.438503\n",
              "10377    440000.000000\n",
              "10654    401881.720430\n",
              "9694     392354.124748\n",
              "15004    388888.888889\n",
              "18645    387500.000000\n",
              "14741    387096.774194\n",
              "8062     379609.544469\n",
              "6825     358974.358974\n",
              "10193    355555.555556\n",
              "4713     355555.555556\n",
              "16562    351491.790148\n",
              "8712     350070.257611\n",
              "22948    345000.000000\n",
              "9183     339900.000000\n",
              "22635    339805.285118\n",
              "Name: price_per_sqrm, dtype: float64"
            ]
          },
          "metadata": {},
          "execution_count": 37
        }
      ],
      "source": [
        "df['price_per_sqrm'] = df['last_price'] / df['total_area']\n",
        "df['price_per_sqrm'].sort_values(ascending = False).head(20)"
      ]
    },
    {
      "cell_type": "markdown",
      "metadata": {
        "id": "7dY_wwc-_dc1"
      },
      "source": [
        "Всего 20 максимальных значений получившейся переменной увеличивают максимум почти в 3 раза. Уберём всё, что больше 340 тыс. за 1 кв. м, т.к. начиная с этого значения переменная убывает достаточно плавно."
      ]
    },
    {
      "cell_type": "code",
      "execution_count": 38,
      "metadata": {
        "colab": {
          "base_uri": "https://localhost:8080/",
          "height": 459
        },
        "id": "X2WuUwzoAlRH",
        "outputId": "4bdc7817-de31-44f6-86b7-2c95ed1891d6"
      },
      "outputs": [
        {
          "output_type": "display_data",
          "data": {
            "text/plain": [
              "<Figure size 720x504 with 1 Axes>"
            ],
            "image/png": "[encoded data removed]"
          },
          "metadata": {
            "needs_background": "light"
          }
        }
      ],
      "source": [
        "plt.title('Частотное распределение признака стоимости 1 кв.м. жилой недвижимости во всей базе')\n",
        "plt.xlabel('Стоимость 1 кв. м. в рублях')\n",
        "plt.ylabel('Количество случаев в базе')\n",
        "\n",
        "df = df.query(\"price_per_sqrm < 340000\")\n",
        "df['price_per_sqrm'].hist(bins=30,color='purple',figsize=(10,7))\n",
        "None"
      ]
    },
    {
      "cell_type": "markdown",
      "metadata": {
        "id": "TT0zbnMgtryu"
      },
      "source": [
        "Полученное распределение внешне похоже на нормальное. При желании покупи квартиры в Санкт-Петербурге и окрестностях, стоит ориентироваться на 100 т.р. за 1 квадратный метр. Перейдём к переменной числа комнат."
      ]
    },
    {
      "cell_type": "code",
      "execution_count": 39,
      "metadata": {
        "colab": {
          "base_uri": "https://localhost:8080/",
          "height": 459
        },
        "id": "aUPQojlAqp3a",
        "outputId": "34a7ae0f-9400-45fe-e991-8e9576db1bab"
      },
      "outputs": [
        {
          "output_type": "display_data",
          "data": {
            "text/plain": [
              "<Figure size 720x504 with 1 Axes>"
            ],
            "image/png": "[encoded data removed]"
          },
          "metadata": {
            "needs_background": "light"
          }
        }
      ],
      "source": [
        "plt.title('Частотное распределение признака количества комнат в квартирах во всей базе')\n",
        "plt.xlabel('Количество комнат')\n",
        "plt.ylabel('Количество случаев в базе')\n",
        "\n",
        "df['rooms'].hist(bins=20,color='purple',figsize=(10,7))\n",
        "None"
      ]
    },
    {
      "cell_type": "markdown",
      "metadata": {
        "id": "BFE6SaDGq0cM"
      },
      "source": [
        "Здесь также можно избавиться от крайне больших особняков и ограничить количество комнат десятью, т.к. при большем количестве цена формируется нерыночными механизмами. Тем более ранее мы видели, что у этих многокомнатных объектов часто отсутствуют важные данные о площади. Вполне возможно, это случайно попавшие в базу объекты коммерческой недвижимости."
      ]
    },
    {
      "cell_type": "code",
      "execution_count": 40,
      "metadata": {
        "colab": {
          "base_uri": "https://localhost:8080/",
          "height": 458
        },
        "id": "dCjEVUjQr8sY",
        "outputId": "22fba95f-02b9-41a4-f1d2-b54cdedff40b"
      },
      "outputs": [
        {
          "output_type": "display_data",
          "data": {
            "text/plain": [
              "<Figure size 720x504 with 1 Axes>"
            ],
            "image/png": "[encoded data removed]"
          },
          "metadata": {
            "needs_background": "light"
          }
        }
      ],
      "source": [
        "df = df.query(\"rooms <= 10\")\n",
        "plt.title('Частотное распределение признака количества комнат в квартирах до 10 комнат')\n",
        "plt.xlabel('Количество комнат')\n",
        "plt.ylabel('Количество случаев в базе')\n",
        "\n",
        "df['rooms'].hist(color='purple',figsize=(10,7))\n",
        "None"
      ]
    },
    {
      "cell_type": "markdown",
      "metadata": {
        "id": "9i7qMnyWyJju"
      },
      "source": [
        "Мы знаем о том, что число некоторых комнат указано как 0, в основном это студии (где также пропущена и площадь кухни), также это могут быть выставленные на продажу доли в квартирах, поэтому удалять мы их не будем. Больше всего продаётся однокомнатных квартир, что соответствует действительности, однако популярность двухкомнатных квартир сравнима. Посмотрим на переменную высоты потолков."
      ]
    },
    {
      "cell_type": "code",
      "execution_count": 41,
      "metadata": {
        "colab": {
          "base_uri": "https://localhost:8080/",
          "height": 459
        },
        "id": "06cXlucIyknW",
        "outputId": "dd49cd65-a62c-495d-f563-7ca3eefc4b34"
      },
      "outputs": [
        {
          "output_type": "display_data",
          "data": {
            "text/plain": [
              "<Figure size 720x504 with 1 Axes>"
            ],
            "image/png": "[encoded data removed]"
          },
          "metadata": {
            "needs_background": "light"
          }
        }
      ],
      "source": [
        "plt.title('Частотное распределение признака высоты потолков во всей базе')\n",
        "plt.xlabel('Высота потолков в метрах')\n",
        "plt.ylabel('Количество случаев в базе')\n",
        "\n",
        "df['ceiling_height'].hist(bins=20,color='purple',figsize=(10,7))\n",
        "None"
      ]
    },
    {
      "cell_type": "markdown",
      "metadata": {
        "id": "pKmLtYvtyvur"
      },
      "source": [
        "Вряд ли можно жить в жилом помещении, высота потолков которого более 5 метров, посмотрим, сколько таких значений."
      ]
    },
    {
      "cell_type": "code",
      "execution_count": 42,
      "metadata": {
        "colab": {
          "base_uri": "https://localhost:8080/"
        },
        "id": "O69pyvezy584",
        "outputId": "1bb82783-6a75-49b9-d7b4-d566c709276e"
      },
      "outputs": [
        {
          "output_type": "execute_result",
          "data": {
            "text/plain": [
              "30"
            ]
          },
          "metadata": {},
          "execution_count": 42
        }
      ],
      "source": [
        "df.query(\"ceiling_height > 5\")['ceiling_height'].count()"
      ]
    },
    {
      "cell_type": "markdown",
      "metadata": {
        "id": "GvICqJBTzQ5W"
      },
      "source": [
        "Это крайне малая доля базы, можно от них избавиться."
      ]
    },
    {
      "cell_type": "code",
      "execution_count": 43,
      "metadata": {
        "colab": {
          "base_uri": "https://localhost:8080/",
          "height": 458
        },
        "id": "O5QlKq9kzW3w",
        "outputId": "866d9ac0-077c-4905-e4fd-e382745fc0c8"
      },
      "outputs": [
        {
          "output_type": "display_data",
          "data": {
            "text/plain": [
              "<Figure size 720x504 with 1 Axes>"
            ],
            "image/png": "[encoded data removed]"
          },
          "metadata": {
            "needs_background": "light"
          }
        }
      ],
      "source": [
        "df = df.query(\"ceiling_height <= 5\")\n",
        "\n",
        "plt.title('Частотное распределение признака высоты потолков в квартирах высотой до 5 м')\n",
        "plt.xlabel('Высота потолков в метрах')\n",
        "plt.ylabel('Количество случаев в базе')\n",
        "\n",
        "df['ceiling_height'].hist(color='purple',figsize=(10,7))\n",
        "None"
      ]
    },
    {
      "cell_type": "markdown",
      "metadata": {
        "id": "ZSm0tLhl2yAt"
      },
      "source": [
        "Также в соответствии с [СНиП](https://47.mchs.gov.ru/deyatelnost/stranicy-s-glavnoy/zakonodatelstvo/normativno-pravovye-dokumenty-po-pozharnoy-bezopasnosti/snip-31-01-2003-zdaniya-zhilye-mnogokvartirnye) высота потолка не может быть менее 2,5 м, эти квартиры тоже удалим."
      ]
    },
    {
      "cell_type": "code",
      "execution_count": 44,
      "metadata": {
        "colab": {
          "base_uri": "https://localhost:8080/",
          "height": 459
        },
        "id": "s4YOEz7p3Axd",
        "outputId": "f4a95890-29eb-460e-d7dd-a08c067cb2bf"
      },
      "outputs": [
        {
          "output_type": "display_data",
          "data": {
            "text/plain": [
              "<Figure size 720x504 with 1 Axes>"
            ],
            "image/png": "[encoded data removed]"
          },
          "metadata": {
            "needs_background": "light"
          }
        }
      ],
      "source": [
        "df = df.query(\"ceiling_height >= 2.5\")\n",
        "\n",
        "plt.title('Частотное распределение признака высоты потолков во всей базе (обновлено)')\n",
        "plt.xlabel('Высота потолков в метрах')\n",
        "plt.ylabel('Количество случаев в базе')\n",
        "\n",
        "df['ceiling_height'].hist(color='purple',figsize=(10,7))\n",
        "None"
      ]
    },
    {
      "cell_type": "markdown",
      "metadata": {
        "id": "_O6IVFMJ3JTD"
      },
      "source": [
        "Собственно, 2,5 и есть самое распространённое значение в базе."
      ]
    },
    {
      "cell_type": "markdown",
      "metadata": {
        "id": "ciAzsTRPcXS7"
      },
      "source": [
        "#### Вывод"
      ]
    },
    {
      "cell_type": "markdown",
      "metadata": {
        "id": "v8vcr5kecaCU"
      },
      "source": [
        "Если вы в 2015-2019 году покупали квартиру в Санкт-Петербурге, то вероятнее всего, это была \"двушка\" 50 метров за 5 млн. руб. со стандартной высотой потолков."
      ]
    },
    {
      "cell_type": "markdown",
      "metadata": {
        "id": "zJvn1eThbLCl"
      },
      "source": [
        "### Задача: проанализировать переменную длительности продажи квартиры"
      ]
    },
    {
      "cell_type": "code",
      "execution_count": 45,
      "metadata": {
        "colab": {
          "base_uri": "https://localhost:8080/",
          "height": 458
        },
        "id": "we3BC1PBABRo",
        "outputId": "1e77e2ae-8522-4e15-ca86-cf3c43854c3f"
      },
      "outputs": [
        {
          "output_type": "display_data",
          "data": {
            "text/plain": [
              "<Figure size 720x504 with 1 Axes>"
            ],
            "image/png": "[encoded data removed]"
          },
          "metadata": {
            "needs_background": "light"
          }
        }
      ],
      "source": [
        "plt.title('Частотное распределение признака длительности продажи квартиры')\n",
        "plt.xlabel('Длительность продажи в днях')\n",
        "plt.ylabel('Количество случаев в базе')\n",
        "\n",
        "df['days_exposition'].hist(bins=30,color='purple',figsize=(10,7))\n",
        "None"
      ]
    },
    {
      "cell_type": "markdown",
      "metadata": {
        "id": "GoxpIMe-BIYG"
      },
      "source": [
        "У переменной длинный \"хвост\" справа, однако эти значения (продажа до 5 лет) вряд ли можно признать выбросами, т.к. они убывают достаточно плавно:"
      ]
    },
    {
      "cell_type": "code",
      "execution_count": 46,
      "metadata": {
        "colab": {
          "base_uri": "https://localhost:8080/"
        },
        "id": "89Ku7D6TBj_p",
        "outputId": "83d18722-4ba5-4249-af1f-4b89dc424636"
      },
      "outputs": [
        {
          "output_type": "execute_result",
          "data": {
            "text/plain": [
              "20969    1512.0\n",
              "14093    1497.0\n",
              "19123    1485.0\n",
              "4736     1477.0\n",
              "6006     1452.0\n",
              "9555     1434.0\n",
              "14873    1430.0\n",
              "11985    1417.0\n",
              "3725     1395.0\n",
              "12047    1375.0\n",
              "12209    1363.0\n",
              "11421    1362.0\n",
              "17930    1361.0\n",
              "9501     1355.0\n",
              "12487    1350.0\n",
              "21755    1349.0\n",
              "17759    1346.0\n",
              "7020     1344.0\n",
              "749      1336.0\n",
              "22455    1334.0\n",
              "Name: days_exposition, dtype: float64"
            ]
          },
          "metadata": {},
          "execution_count": 46
        }
      ],
      "source": [
        "df['days_exposition'].sort_values(ascending = False).head(20)"
      ]
    },
    {
      "cell_type": "code",
      "execution_count": 47,
      "metadata": {
        "colab": {
          "base_uri": "https://localhost:8080/"
        },
        "id": "IeC0dbKjB9Z4",
        "outputId": "f565abc3-cb36-4bab-e7f5-39299a269e5e"
      },
      "outputs": [
        {
          "output_type": "execute_result",
          "data": {
            "text/plain": [
              "count    11773.000000\n",
              "mean       185.445851\n",
              "std        221.247764\n",
              "min          1.000000\n",
              "25%         45.000000\n",
              "50%        102.000000\n",
              "75%        240.000000\n",
              "max       1512.000000\n",
              "Name: days_exposition, dtype: float64"
            ]
          },
          "metadata": {},
          "execution_count": 47
        }
      ],
      "source": [
        "df['days_exposition'].describe()"
      ]
    },
    {
      "cell_type": "markdown",
      "metadata": {
        "id": "fhzDjOCFF1Lb"
      },
      "source": [
        "Посмотрим на квартиры, которые продаются быстрее, чем за 3 месяца. Возможно, они чем-то отличаются."
      ]
    },
    {
      "cell_type": "code",
      "execution_count": 48,
      "metadata": {
        "id": "tOqVKytrF1Lb",
        "outputId": "f77ff205-8845-4814-b25f-4ea0fa69dc46",
        "colab": {
          "base_uri": "https://localhost:8080/",
          "height": 459
        }
      },
      "outputs": [
        {
          "output_type": "display_data",
          "data": {
            "text/plain": [
              "<Figure size 720x504 with 1 Axes>"
            ],
            "image/png": "[encoded data removed]"
          },
          "metadata": {
            "needs_background": "light"
          }
        }
      ],
      "source": [
        "plt.title('Частотное распределение признака длительности продажи квартиры для квартир, проданных быстрее, чем за 100 дней')\n",
        "plt.xlabel('Длительность продажи в днях')\n",
        "plt.ylabel('Количество случаев в базе')\n",
        "\n",
        "df.query(\"days_exposition <= 100\")['days_exposition'].hist(bins=30,color='purple',figsize=(10,7))\n",
        "None"
      ]
    },
    {
      "cell_type": "code",
      "execution_count": 49,
      "metadata": {
        "id": "0giwSYSrF1Lb",
        "outputId": "5e7d645b-e94c-4605-b9aa-0c6ae93d780a",
        "colab": {
          "base_uri": "https://localhost:8080/",
          "height": 363
        }
      },
      "outputs": [
        {
          "output_type": "execute_result",
          "data": {
            "text/plain": [
              "                     fast_sold_data  slow_sold_data\n",
              "total_area                       49              55\n",
              "rooms                             2               2\n",
              "ceiling_height                    3               3\n",
              "last_price                  4500000         4840000\n",
              "parks_around3000                  0               0\n",
              "floor                             4               4\n",
              "ponds_around3000                  0               0\n",
              "cityCenters_nearest           13277           12866\n",
              "price_per_sqrm                96572           93600\n",
              "is_apartment                      0               0"
            ],
            "text/html": [
              "\n",
              "  <div id=\"df-13ae97a8-085b-437e-b2dc-e0c475ab6b40\">\n",
              "    <div class=\"colab-df-container\">\n",
              "      <div>\n",
              "<style scoped>\n",
              "    .dataframe tbody tr th:only-of-type {\n",
              "        vertical-align: middle;\n",
              "    }\n",
              "\n",
              "    .dataframe tbody tr th {\n",
              "        vertical-align: top;\n",
              "    }\n",
              "\n",
              "    .dataframe thead th {\n",
              "        text-align: right;\n",
              "    }\n",
              "</style>\n",
              "<table border=\"1\" class=\"dataframe\">\n",
              "  <thead>\n",
              "    <tr style=\"text-align: right;\">\n",
              "      <th></th>\n",
              "      <th>fast_sold_data</th>\n",
              "      <th>slow_sold_data</th>\n",
              "    </tr>\n",
              "  </thead>\n",
              "  <tbody>\n",
              "    <tr>\n",
              "      <th>total_area</th>\n",
              "      <td>49</td>\n",
              "      <td>55</td>\n",
              "    </tr>\n",
              "    <tr>\n",
              "      <th>rooms</th>\n",
              "      <td>2</td>\n",
              "      <td>2</td>\n",
              "    </tr>\n",
              "    <tr>\n",
              "      <th>ceiling_height</th>\n",
              "      <td>3</td>\n",
              "      <td>3</td>\n",
              "    </tr>\n",
              "    <tr>\n",
              "      <th>last_price</th>\n",
              "      <td>4500000</td>\n",
              "      <td>4840000</td>\n",
              "    </tr>\n",
              "    <tr>\n",
              "      <th>parks_around3000</th>\n",
              "      <td>0</td>\n",
              "      <td>0</td>\n",
              "    </tr>\n",
              "    <tr>\n",
              "      <th>floor</th>\n",
              "      <td>4</td>\n",
              "      <td>4</td>\n",
              "    </tr>\n",
              "    <tr>\n",
              "      <th>ponds_around3000</th>\n",
              "      <td>0</td>\n",
              "      <td>0</td>\n",
              "    </tr>\n",
              "    <tr>\n",
              "      <th>cityCenters_nearest</th>\n",
              "      <td>13277</td>\n",
              "      <td>12866</td>\n",
              "    </tr>\n",
              "    <tr>\n",
              "      <th>price_per_sqrm</th>\n",
              "      <td>96572</td>\n",
              "      <td>93600</td>\n",
              "    </tr>\n",
              "    <tr>\n",
              "      <th>is_apartment</th>\n",
              "      <td>0</td>\n",
              "      <td>0</td>\n",
              "    </tr>\n",
              "  </tbody>\n",
              "</table>\n",
              "</div>\n",
              "      <button class=\"colab-df-convert\" onclick=\"convertToInteractive('df-13ae97a8-085b-437e-b2dc-e0c475ab6b40')\"\n",
              "              title=\"Convert this dataframe to an interactive table.\"\n",
              "              style=\"display:none;\">\n",
              "        \n",
              "  <svg xmlns=\"http://www.w3.org/2000/svg\" height=\"24px\"viewBox=\"0 0 24 24\"\n",
              "       width=\"24px\">\n",
              "    <path d=\"M0 0h24v24H0V0z\" fill=\"none\"/>\n",
              "    <path d=\"M18.56 5.44l.94 2.06.94-2.06 2.06-.94-2.06-.94-.94-2.06-.94 2.06-2.06.94zm-11 1L8.5 8.5l.94-2.06 2.06-.94-2.06-.94L8.5 2.5l-.94 2.06-2.06.94zm10 10l.94 2.06.94-2.06 2.06-.94-2.06-.94-.94-2.06-.94 2.06-2.06.94z\"/><path d=\"M17.41 7.96l-1.37-1.37c-.4-.4-.92-.59-1.43-.59-.52 0-1.04.2-1.43.59L10.3 9.45l-7.72 7.72c-.78.78-.78 2.05 0 2.83L4 21.41c.39.39.9.59 1.41.59.51 0 1.02-.2 1.41-.59l7.78-7.78 2.81-2.81c.8-.78.8-2.07 0-2.86zM5.41 20L4 18.59l7.72-7.72 1.47 1.35L5.41 20z\"/>\n",
              "  </svg>\n",
              "      </button>\n",
              "      \n",
              "  <style>\n",
              "    .colab-df-container {\n",
              "      display:flex;\n",
              "      flex-wrap:wrap;\n",
              "      gap: 12px;\n",
              "    }\n",
              "\n",
              "    .colab-df-convert {\n",
              "      background-color: #E8F0FE;\n",
              "      border: none;\n",
              "      border-radius: 50%;\n",
              "      cursor: pointer;\n",
              "      display: none;\n",
              "      fill: #1967D2;\n",
              "      height: 32px;\n",
              "      padding: 0 0 0 0;\n",
              "      width: 32px;\n",
              "    }\n",
              "\n",
              "    .colab-df-convert:hover {\n",
              "      background-color: #E2EBFA;\n",
              "      box-shadow: 0px 1px 2px rgba(60, 64, 67, 0.3), 0px 1px 3px 1px rgba(60, 64, 67, 0.15);\n",
              "      fill: #174EA6;\n",
              "    }\n",
              "\n",
              "    [theme=dark] .colab-df-convert {\n",
              "      background-color: #3B4455;\n",
              "      fill: #D2E3FC;\n",
              "    }\n",
              "\n",
              "    [theme=dark] .colab-df-convert:hover {\n",
              "      background-color: #434B5C;\n",
              "      box-shadow: 0px 1px 3px 1px rgba(0, 0, 0, 0.15);\n",
              "      filter: drop-shadow(0px 1px 2px rgba(0, 0, 0, 0.3));\n",
              "      fill: #FFFFFF;\n",
              "    }\n",
              "  </style>\n",
              "\n",
              "      <script>\n",
              "        const buttonEl =\n",
              "          document.querySelector('#df-13ae97a8-085b-437e-b2dc-e0c475ab6b40 button.colab-df-convert');\n",
              "        buttonEl.style.display =\n",
              "          google.colab.kernel.accessAllowed ? 'block' : 'none';\n",
              "\n",
              "        async function convertToInteractive(key) {\n",
              "          const element = document.querySelector('#df-13ae97a8-085b-437e-b2dc-e0c475ab6b40');\n",
              "          const dataTable =\n",
              "            await google.colab.kernel.invokeFunction('convertToInteractive',\n",
              "                                                     [key], {});\n",
              "          if (!dataTable) return;\n",
              "\n",
              "          const docLinkHtml = 'Like what you see? Visit the ' +\n",
              "            '<a target=\"_blank\" href=https://colab.research.google.com/notebooks/data_table.ipynb>data table notebook</a>'\n",
              "            + ' to learn more about interactive tables.';\n",
              "          element.innerHTML = '';\n",
              "          dataTable['output_type'] = 'display_data';\n",
              "          await google.colab.output.renderOutput(dataTable, element);\n",
              "          const docLink = document.createElement('div');\n",
              "          docLink.innerHTML = docLinkHtml;\n",
              "          element.appendChild(docLink);\n",
              "        }\n",
              "      </script>\n",
              "    </div>\n",
              "  </div>\n",
              "  "
            ]
          },
          "metadata": {},
          "execution_count": 49
        }
      ],
      "source": [
        "fast_sold_description = (df.query('days_exposition <= 100')[\n",
        "    ['total_area', 'rooms', 'ceiling_height', 'last_price', 'parks_around3000', 'floor',\n",
        "     'ponds_around3000', 'cityCenters_nearest', 'price_per_sqrm', 'is_apartment']\n",
        "    ].median().round(decimals=0).astype(int))\n",
        "\n",
        "df_fast_sold_description = pd.DataFrame(data=fast_sold_description, columns = ['fast_sold_data'])\n",
        "\n",
        "slow_sold_description = (df.query('days_exposition > 100')[\n",
        "    ['total_area', 'rooms', 'ceiling_height', 'last_price', 'parks_around3000', 'floor',\n",
        "     'ponds_around3000', 'cityCenters_nearest', 'price_per_sqrm', 'is_apartment']\n",
        "    ].median().round(decimals=0).astype(int))\n",
        "\n",
        "df_slow_sold_description = pd.DataFrame(data=slow_sold_description, columns = ['slow_sold_data'])\n",
        "\n",
        "df_sale_speed_difference_data = pd.merge(df_fast_sold_description,\n",
        "                                         df_slow_sold_description,\n",
        "                                         left_index=True,\n",
        "                                         right_index=True)\n",
        "df_sale_speed_difference_data"
      ]
    },
    {
      "cell_type": "markdown",
      "metadata": {
        "id": "m5mSL0oAF1Lc"
      },
      "source": [
        "Выбиваются квартиры, проданные за 45 и 60 дней соответственно. Стоит уточнить характер этой переменной у инженера данных. Вполне возможно, что существенная часть объявлений размещается агентствами. 45 и 60 дней похоже на срок заключения договора, внутри которого агентство обязуется набрать определенную базу желающих посмотреть данную квартиру. Однако такая ситуация скорее характерна для провинции, чем для северной столицы. Таким образом, квартиры могут быть ещё не проданы, но объявления снимаются с продажи.\n",
        "\n",
        "Тем не менее, если предположить, что это действительные данные, и срок размещения объявления и есть срок продажи, то мы увидим принципиальные различия между быстро и медленно продающимися квартирами.\n",
        "\n",
        "- Быстрее продаются квартиры меньшей площадью (49 кв. м. против 55 в остальной базе),\n",
        "- Квартиры, проданные меньше, чем за 3 месяца, были на 7% дешевле,\n",
        "\n",
        "Т.к. это в срденем меньшие и более дешёвые квартиры, это оказываются квартиры более удалённые от центра, хотя разница небольшая."
      ]
    },
    {
      "cell_type": "markdown",
      "metadata": {
        "id": "ck50r0M2b2OL"
      },
      "source": [
        "#### Вывод"
      ]
    },
    {
      "cell_type": "markdown",
      "metadata": {
        "id": "xumnbwStb7Jt"
      },
      "source": [
        "В среднем квартира продаётся за полгода (189 дней). Если квартира продаётся за полтора месяца, это можно считать удачей, т.к. 75% всех квартир продаётся дольше. С 50% вероятностью квартира может продасться за 103 дня и быстрее. Больше всего на срок влияет цена квартиры (абсолютная): квартиры, проданные быстрее, чем за 3 месяца, были на 7% дешевле, соответственно, это были квартиры меньшей площадью (49 кв.м.) и дальше от центра (13,2 км. в среднем). Если квартира не продалась за 8 месяцев, стоит снизить цену или хотя бы сравнить её с калькулятором, который мы сможем разработать в будущем, т.к. только четверть квартир продаётся за это время или дольше.\n"
      ]
    },
    {
      "cell_type": "markdown",
      "metadata": {
        "id": "YJ6t5X4kUI1f"
      },
      "source": [
        "### Задача определить, какие факторы больше всего влияют на стоимость квартиры"
      ]
    },
    {
      "cell_type": "markdown",
      "metadata": {
        "id": "uxP3oAxMUPnV"
      },
      "source": [
        "Приступим к изучению основной переменной - стоимости квартиры."
      ]
    },
    {
      "cell_type": "code",
      "execution_count": 50,
      "metadata": {
        "colab": {
          "base_uri": "https://localhost:8080/"
        },
        "id": "7Ie-ZFrAHK48",
        "outputId": "94aa5ae7-1610-4463-db2a-5a2f477288a3"
      },
      "outputs": [
        {
          "output_type": "execute_result",
          "data": {
            "text/plain": [
              "total_images                         0.144694\n",
              "last_price                           1.000000\n",
              "total_area                           0.803091\n",
              "rooms                                0.531492\n",
              "ceiling_height                       0.505542\n",
              "floors_total                         0.076278\n",
              "living_area                          0.707986\n",
              "floor                                0.082321\n",
              "is_apartment                         0.019301\n",
              "studio                              -0.047050\n",
              "open_plan                           -0.015100\n",
              "kitchen_area                         0.601034\n",
              "balcony                              0.024273\n",
              "airports_nearest                    -0.038602\n",
              "cityCenters_nearest                 -0.345842\n",
              "parks_around3000                     0.200275\n",
              "parks_nearest                        0.030692\n",
              "ponds_around3000                     0.198435\n",
              "ponds_nearest                       -0.134715\n",
              "days_exposition                      0.124424\n",
              "default_living_area_rate_by_rooms    0.435411\n",
              "if_sum_area_wrong                   -0.009320\n",
              "weekday_exposition                  -0.023242\n",
              "month_exposition                    -0.005410\n",
              "year_exposition                     -0.039168\n",
              "living_area_rate                     0.033151\n",
              "kitchen_area_rate                   -0.116043\n",
              "price_per_sqrm                       0.665751\n",
              "Name: last_price, dtype: float64"
            ]
          },
          "metadata": {},
          "execution_count": 50
        }
      ],
      "source": [
        "df.corr()['last_price']"
      ]
    },
    {
      "cell_type": "markdown",
      "metadata": {
        "id": "bwfWX2TVHiLF"
      },
      "source": [
        "Вполне ожидаемо цена в основном зависит от переменных площадей: общей площади, жилой площади и площади кухни. Корреляция с общей площадью наиболее сильная почти 0,8. Именно поэтому стоит освободить переменную стоимости от влияния площади и использовать для дальнейшего анализа стоимость квадратного метра.\n",
        "\n",
        "Интересно, что корреляция общей стоимости с количеством комнат средняя. Предположим, что нам мешают нулевые значения, а также слабая связь стоимости и количества комнат, когда их больше 4. Объединим число комнат от 5 до 10 в одну категорию и оставим их в категории номер 5, чтобы переменная осталась порядковой."
      ]
    },
    {
      "cell_type": "code",
      "execution_count": 51,
      "metadata": {
        "colab": {
          "base_uri": "https://localhost:8080/"
        },
        "id": "EBtfHgDiIbl0",
        "outputId": "f16dd981-7e9f-45b5-b93f-e46af7188c76"
      },
      "outputs": [
        {
          "output_type": "stream",
          "name": "stdout",
          "text": [
            "       rooms_grouped  rooms\n",
            "1617               5      5\n",
            "12179              3      3\n",
            "11528              2      2\n",
            "9846               5      5\n",
            "10522              1      1\n",
            "4483               1      1\n",
            "17455              2      2\n",
            "11005              2      2\n",
            "7134               1      1\n",
            "12702              2      2\n"
          ]
        },
        {
          "output_type": "execute_result",
          "data": {
            "text/plain": [
              "0.5195352283736524"
            ]
          },
          "metadata": {},
          "execution_count": 51
        }
      ],
      "source": [
        "df['rooms_grouped'] = df['rooms'].map({0:0, 1:1, 2:2, 3:3, 4:4, 5:5, 6:5, 7:5, 8:5, 9:5, 10:5})\n",
        "print(df.loc[:,['rooms_grouped','rooms']].sample(10))\n",
        "df.corr()['rooms_grouped']['last_price']"
      ]
    },
    {
      "cell_type": "markdown",
      "metadata": {
        "id": "IoVRWYQmJV4H"
      },
      "source": [
        "Коэффициент корреляции даже уменьшился. Когда однокомнатная квартира в центре превышает стоимость трёхкомнатной на окраине, это вполне возможно. Количество комнат - не лучшая переменная для подсчёта коэффициента корреляции ввиду небольшой вариативности, посмотрим вручную, как отличаются цены на квартиры в зависимости от количества комнат."
      ]
    },
    {
      "cell_type": "code",
      "execution_count": 52,
      "metadata": {
        "colab": {
          "base_uri": "https://localhost:8080/",
          "height": 459
        },
        "id": "SoqS_JiOJuqR",
        "outputId": "6c39335e-1d69-426e-a98b-996c19efc4d1"
      },
      "outputs": [
        {
          "output_type": "display_data",
          "data": {
            "text/plain": [
              "<Figure size 720x504 with 1 Axes>"
            ],
            "image/png": "[encoded data removed]"
          },
          "metadata": {
            "needs_background": "light"
          }
        }
      ],
      "source": [
        "(df.groupby('rooms_grouped')['last_price']\n",
        "    .median()\n",
        "    .plot(\n",
        "        color='purple',\n",
        "        figsize=(10,7),\n",
        "        title='Связь переменной количества комнат и стоимости квартир',\n",
        "        linewidth=3,\n",
        "        style='-o'))\n",
        "None"
      ]
    },
    {
      "cell_type": "markdown",
      "metadata": {
        "id": "EKPzlbSTK-Pi"
      },
      "source": [
        "Очевидно, что однокомнатная квартира стоит в среднем в 2 раза дешевле трехкомнатной, логика прослеживается. Перейдём к более логичной для анализа переменной стоимости квадратного метра жилья."
      ]
    },
    {
      "cell_type": "code",
      "execution_count": 53,
      "metadata": {
        "colab": {
          "base_uri": "https://localhost:8080/",
          "height": 459
        },
        "id": "yljCN6U4OjLh",
        "outputId": "fd778df9-367c-46c1-c6db-269f59445827"
      },
      "outputs": [
        {
          "output_type": "display_data",
          "data": {
            "text/plain": [
              "<Figure size 720x504 with 1 Axes>"
            ],
            "image/png": "[encoded data removed]"
          },
          "metadata": {
            "needs_background": "light"
          }
        }
      ],
      "source": [
        "(df.groupby('rooms_grouped')['price_per_sqrm']\n",
        "    .median()\n",
        "    .plot(\n",
        "        color='purple',\n",
        "        figsize=(10,7),\n",
        "        title='Связь переменной количества комнат и стоимости квадратного метра',\n",
        "        linewidth=3,\n",
        "        style='-o'))\n",
        "None"
      ]
    },
    {
      "cell_type": "markdown",
      "metadata": {
        "id": "7nRW2_fCnSaa"
      },
      "source": [
        "Самые дорогие метры - в студиях (0 комнат) и однокомнатных квартирах. Цена метра снижается по мере увеличения числа комнат, однако, когда комнат становится 4 и более, за счёт перехода такой недвижимости в категорию \"элитного\" жилья цена метра вновь становится выше. Именно поэтому коэффициент корреляции был не очень высоким. Далее посмотрим на этаж."
      ]
    },
    {
      "cell_type": "code",
      "execution_count": 54,
      "metadata": {
        "colab": {
          "base_uri": "https://localhost:8080/",
          "height": 506
        },
        "id": "Aca8umTyq6Pj",
        "outputId": "62184cdd-6f4a-4976-8708-12288c007092"
      },
      "outputs": [
        {
          "output_type": "display_data",
          "data": {
            "text/plain": [
              "<Figure size 720x504 with 1 Axes>"
            ],
            "image/png": "[encoded data removed]"
          },
          "metadata": {
            "needs_background": "light"
          }
        }
      ],
      "source": [
        "(df.groupby('floor_grouped')['price_per_sqrm']\n",
        "    .median()\n",
        "    .plot(\n",
        "        kind = 'bar',\n",
        "        color='purple',\n",
        "        figsize=(10,7),\n",
        "        title='Связь переменной этажа и стоимости квадратного метра',\n",
        "    ))\n",
        "None"
      ]
    },
    {
      "cell_type": "markdown",
      "metadata": {
        "id": "x3EcyXI8rP8F"
      },
      "source": [
        "Решение купить первый этаж может сэкономить пятую часть бюджета. Последний этаж сохранит десятую часть бюджета. Посмотрим на переменную удалённости от центра."
      ]
    },
    {
      "cell_type": "code",
      "execution_count": 55,
      "metadata": {
        "colab": {
          "base_uri": "https://localhost:8080/",
          "height": 459
        },
        "id": "3dDfVKt4rqtL",
        "outputId": "8e124a77-afcf-4a88-b2c1-a10afe9937ab"
      },
      "outputs": [
        {
          "output_type": "display_data",
          "data": {
            "text/plain": [
              "<Figure size 720x504 with 1 Axes>"
            ],
            "image/png": "[encoded data removed]"
          },
          "metadata": {
            "needs_background": "light"
          }
        }
      ],
      "source": [
        "df.plot(\n",
        "    x='cityCenters_nearest',\n",
        "    y='price_per_sqrm',\n",
        "    kind = 'scatter',\n",
        "    color='purple',\n",
        "    figsize=(10,7),\n",
        "    alpha=0.05,\n",
        "    title='Связь переменной удаленности от центра и стоимости квадратного метра')\n",
        "None"
      ]
    },
    {
      "cell_type": "markdown",
      "metadata": {
        "id": "gd0HayjNBmxy"
      },
      "source": [
        "Петербург - старый город, даже в радиусе 10 км от центра можно найти как дешёвое жильё, так и дорогое. Однако обратное будет неверно. Дорогое жилье сосредоточено в центре.\n",
        "\n",
        "Для анализа стоимости жилья за квадратный метр и даты размещения нам подойдут линейные графики. Посмотрим на день недели размещения."
      ]
    },
    {
      "cell_type": "code",
      "execution_count": 56,
      "metadata": {
        "colab": {
          "base_uri": "https://localhost:8080/",
          "height": 459
        },
        "id": "L9eVOlc_Mttv",
        "outputId": "6bd66e70-bfbe-4a0b-da76-5dc7a180a834"
      },
      "outputs": [
        {
          "output_type": "display_data",
          "data": {
            "text/plain": [
              "<Figure size 720x504 with 1 Axes>"
            ],
            "image/png": "[encoded data removed]"
          },
          "metadata": {
            "needs_background": "light"
          }
        }
      ],
      "source": [
        "(df.groupby('weekday_exposition')['price_per_sqrm']\n",
        "    .median()\n",
        "    .plot(\n",
        "        ylim = [0,100000],\n",
        "        color='purple',\n",
        "        figsize=(10,7),\n",
        "        title='Связь переменной дня недели публикации и стоимости квадратного метра',\n",
        "        linewidth=3,\n",
        "        style='-o'))\n",
        "None"
      ]
    },
    {
      "cell_type": "markdown",
      "metadata": {
        "id": "QwrZb5BjG84i"
      },
      "source": [
        "Квартиры чуть дороже часто публикуются в начале недели, подешевле - в конце, однако в целом среднее менятеся очень несущественно.\n",
        "\n",
        "Также не меняется цена в зависимости от месяца размещения объявления."
      ]
    },
    {
      "cell_type": "code",
      "execution_count": 57,
      "metadata": {
        "colab": {
          "base_uri": "https://localhost:8080/",
          "height": 459
        },
        "id": "41VCOs6sIAFj",
        "outputId": "537f7db1-fbb5-4372-e9b7-dae44a672218"
      },
      "outputs": [
        {
          "output_type": "display_data",
          "data": {
            "text/plain": [
              "<Figure size 720x504 with 1 Axes>"
            ],
            "image/png": "[encoded data removed]"
          },
          "metadata": {
            "needs_background": "light"
          }
        }
      ],
      "source": [
        "(df.groupby('month_exposition')['price_per_sqrm']\n",
        "    .median()\n",
        "    .plot(\n",
        "        ylim = [0,100000],\n",
        "        color='purple',\n",
        "        figsize=(10,7),\n",
        "        title='Связь переменной месяца публикации и стоимости квадратного метра',\n",
        "        linewidth=3,\n",
        "        style='-o'))\n",
        "None"
      ]
    },
    {
      "cell_type": "markdown",
      "metadata": {
        "id": "b1-oiQWWI1eS"
      },
      "source": [
        "Но наверняка цены будут расти с течением времени:"
      ]
    },
    {
      "cell_type": "code",
      "execution_count": 58,
      "metadata": {
        "colab": {
          "base_uri": "https://localhost:8080/",
          "height": 459
        },
        "id": "LMBGFX0cI7p9",
        "outputId": "26f7ac00-0972-4688-d2fb-5fe26c9b2b34"
      },
      "outputs": [
        {
          "output_type": "display_data",
          "data": {
            "text/plain": [
              "<Figure size 720x504 with 1 Axes>"
            ],
            "image/png": "[encoded data removed]"
          },
          "metadata": {
            "needs_background": "light"
          }
        }
      ],
      "source": [
        "(df.groupby('year_exposition')['price_per_sqrm']\n",
        "    .median()\n",
        "    .plot(\n",
        "        ylim = [0,120000],\n",
        "        color='purple',\n",
        "        figsize=(10,7),\n",
        "        title='Связь переменной года публикации и стоимости квадратного метра',\n",
        "        linewidth=3,\n",
        "        style='-o'))\n",
        "None"
      ]
    },
    {
      "cell_type": "markdown",
      "metadata": {
        "id": "N77auduaJJTH"
      },
      "source": [
        "За 5 лет исследования рынок изменился. Начиная с 2015 года рынок восстанавливается после кризиса, цены растут, причём за 2018-2019 год они выросли наиболее существенно, инфляция составила порядка 10%."
      ]
    },
    {
      "cell_type": "markdown",
      "metadata": {
        "id": "1blZlMhAMeuX"
      },
      "source": [
        "#### Вывод\n",
        "\n",
        "Среди проанализиорванных факторов наибольшее влияние на цену оказывает площадь квартиры. А на цену за квадратный метр - количество комнат в квартире. Из неочевидных результатов - дорогие квартиры в основном расположены в центре, однако и в центре, и на окраинах достаточно много предложений по средней и цене ниже среднерыночной. Если согласиться на последний этаж, можно сэкономить 10% бюджета, на первый - 20%. Средняя цена за квадратный метр находится на уровне 100 тыс. руб. Если покупка актуальна, не стоит её откладывать, т.к. цены растут, например, за последний в исследовании год - примерно на 10%."
      ]
    },
    {
      "cell_type": "markdown",
      "metadata": {
        "id": "3w54JacxVGYO"
      },
      "source": [
        "### Задача определить топ-10 населённых пунктов по стоимости недвижимости"
      ]
    },
    {
      "cell_type": "markdown",
      "metadata": {
        "id": "Im8K25piVWX3"
      },
      "source": [
        "Выделим топ 10 населённых пунктов по количеству объявлений и посчитаем средние цены за квадратный метр в них."
      ]
    },
    {
      "cell_type": "code",
      "execution_count": 59,
      "metadata": {
        "colab": {
          "base_uri": "https://localhost:8080/",
          "height": 394
        },
        "id": "6FJiqxIEXvG-",
        "outputId": "6965ecbd-343a-4ecd-a85a-ae3f6eaceb77"
      },
      "outputs": [
        {
          "output_type": "execute_result",
          "data": {
            "text/plain": [
              "                   count           mean\n",
              "locality_name                          \n",
              "Санкт-Петербург     9823  111604.533335\n",
              "Всеволожск           268   67469.035977\n",
              "Пушкин               228  103818.823275\n",
              "посёлок Шушары       217   79538.627641\n",
              "Колпино              201   75949.002224\n",
              "посёлок Мурино       198   87369.004392\n",
              "Гатчина              148   70024.959358\n",
              "Петергоф             143   85126.692969\n",
              "посёлок Парголово    136   90977.423171\n",
              "Сестрорецк           128  102547.804592"
            ],
            "text/html": [
              "\n",
              "  <div id=\"df-8706af52-ccc2-4c88-8383-48615f17bce3\">\n",
              "    <div class=\"colab-df-container\">\n",
              "      <div>\n",
              "<style scoped>\n",
              "    .dataframe tbody tr th:only-of-type {\n",
              "        vertical-align: middle;\n",
              "    }\n",
              "\n",
              "    .dataframe tbody tr th {\n",
              "        vertical-align: top;\n",
              "    }\n",
              "\n",
              "    .dataframe thead th {\n",
              "        text-align: right;\n",
              "    }\n",
              "</style>\n",
              "<table border=\"1\" class=\"dataframe\">\n",
              "  <thead>\n",
              "    <tr style=\"text-align: right;\">\n",
              "      <th></th>\n",
              "      <th>count</th>\n",
              "      <th>mean</th>\n",
              "    </tr>\n",
              "    <tr>\n",
              "      <th>locality_name</th>\n",
              "      <th></th>\n",
              "      <th></th>\n",
              "    </tr>\n",
              "  </thead>\n",
              "  <tbody>\n",
              "    <tr>\n",
              "      <th>Санкт-Петербург</th>\n",
              "      <td>9823</td>\n",
              "      <td>111604.533335</td>\n",
              "    </tr>\n",
              "    <tr>\n",
              "      <th>Всеволожск</th>\n",
              "      <td>268</td>\n",
              "      <td>67469.035977</td>\n",
              "    </tr>\n",
              "    <tr>\n",
              "      <th>Пушкин</th>\n",
              "      <td>228</td>\n",
              "      <td>103818.823275</td>\n",
              "    </tr>\n",
              "    <tr>\n",
              "      <th>посёлок Шушары</th>\n",
              "      <td>217</td>\n",
              "      <td>79538.627641</td>\n",
              "    </tr>\n",
              "    <tr>\n",
              "      <th>Колпино</th>\n",
              "      <td>201</td>\n",
              "      <td>75949.002224</td>\n",
              "    </tr>\n",
              "    <tr>\n",
              "      <th>посёлок Мурино</th>\n",
              "      <td>198</td>\n",
              "      <td>87369.004392</td>\n",
              "    </tr>\n",
              "    <tr>\n",
              "      <th>Гатчина</th>\n",
              "      <td>148</td>\n",
              "      <td>70024.959358</td>\n",
              "    </tr>\n",
              "    <tr>\n",
              "      <th>Петергоф</th>\n",
              "      <td>143</td>\n",
              "      <td>85126.692969</td>\n",
              "    </tr>\n",
              "    <tr>\n",
              "      <th>посёлок Парголово</th>\n",
              "      <td>136</td>\n",
              "      <td>90977.423171</td>\n",
              "    </tr>\n",
              "    <tr>\n",
              "      <th>Сестрорецк</th>\n",
              "      <td>128</td>\n",
              "      <td>102547.804592</td>\n",
              "    </tr>\n",
              "  </tbody>\n",
              "</table>\n",
              "</div>\n",
              "      <button class=\"colab-df-convert\" onclick=\"convertToInteractive('df-8706af52-ccc2-4c88-8383-48615f17bce3')\"\n",
              "              title=\"Convert this dataframe to an interactive table.\"\n",
              "              style=\"display:none;\">\n",
              "        \n",
              "  <svg xmlns=\"http://www.w3.org/2000/svg\" height=\"24px\"viewBox=\"0 0 24 24\"\n",
              "       width=\"24px\">\n",
              "    <path d=\"M0 0h24v24H0V0z\" fill=\"none\"/>\n",
              "    <path d=\"M18.56 5.44l.94 2.06.94-2.06 2.06-.94-2.06-.94-.94-2.06-.94 2.06-2.06.94zm-11 1L8.5 8.5l.94-2.06 2.06-.94-2.06-.94L8.5 2.5l-.94 2.06-2.06.94zm10 10l.94 2.06.94-2.06 2.06-.94-2.06-.94-.94-2.06-.94 2.06-2.06.94z\"/><path d=\"M17.41 7.96l-1.37-1.37c-.4-.4-.92-.59-1.43-.59-.52 0-1.04.2-1.43.59L10.3 9.45l-7.72 7.72c-.78.78-.78 2.05 0 2.83L4 21.41c.39.39.9.59 1.41.59.51 0 1.02-.2 1.41-.59l7.78-7.78 2.81-2.81c.8-.78.8-2.07 0-2.86zM5.41 20L4 18.59l7.72-7.72 1.47 1.35L5.41 20z\"/>\n",
              "  </svg>\n",
              "      </button>\n",
              "      \n",
              "  <style>\n",
              "    .colab-df-container {\n",
              "      display:flex;\n",
              "      flex-wrap:wrap;\n",
              "      gap: 12px;\n",
              "    }\n",
              "\n",
              "    .colab-df-convert {\n",
              "      background-color: #E8F0FE;\n",
              "      border: none;\n",
              "      border-radius: 50%;\n",
              "      cursor: pointer;\n",
              "      display: none;\n",
              "      fill: #1967D2;\n",
              "      height: 32px;\n",
              "      padding: 0 0 0 0;\n",
              "      width: 32px;\n",
              "    }\n",
              "\n",
              "    .colab-df-convert:hover {\n",
              "      background-color: #E2EBFA;\n",
              "      box-shadow: 0px 1px 2px rgba(60, 64, 67, 0.3), 0px 1px 3px 1px rgba(60, 64, 67, 0.15);\n",
              "      fill: #174EA6;\n",
              "    }\n",
              "\n",
              "    [theme=dark] .colab-df-convert {\n",
              "      background-color: #3B4455;\n",
              "      fill: #D2E3FC;\n",
              "    }\n",
              "\n",
              "    [theme=dark] .colab-df-convert:hover {\n",
              "      background-color: #434B5C;\n",
              "      box-shadow: 0px 1px 3px 1px rgba(0, 0, 0, 0.15);\n",
              "      filter: drop-shadow(0px 1px 2px rgba(0, 0, 0, 0.3));\n",
              "      fill: #FFFFFF;\n",
              "    }\n",
              "  </style>\n",
              "\n",
              "      <script>\n",
              "        const buttonEl =\n",
              "          document.querySelector('#df-8706af52-ccc2-4c88-8383-48615f17bce3 button.colab-df-convert');\n",
              "        buttonEl.style.display =\n",
              "          google.colab.kernel.accessAllowed ? 'block' : 'none';\n",
              "\n",
              "        async function convertToInteractive(key) {\n",
              "          const element = document.querySelector('#df-8706af52-ccc2-4c88-8383-48615f17bce3');\n",
              "          const dataTable =\n",
              "            await google.colab.kernel.invokeFunction('convertToInteractive',\n",
              "                                                     [key], {});\n",
              "          if (!dataTable) return;\n",
              "\n",
              "          const docLinkHtml = 'Like what you see? Visit the ' +\n",
              "            '<a target=\"_blank\" href=https://colab.research.google.com/notebooks/data_table.ipynb>data table notebook</a>'\n",
              "            + ' to learn more about interactive tables.';\n",
              "          element.innerHTML = '';\n",
              "          dataTable['output_type'] = 'display_data';\n",
              "          await google.colab.output.renderOutput(dataTable, element);\n",
              "          const docLink = document.createElement('div');\n",
              "          docLink.innerHTML = docLinkHtml;\n",
              "          element.appendChild(docLink);\n",
              "        }\n",
              "      </script>\n",
              "    </div>\n",
              "  </div>\n",
              "  "
            ]
          },
          "metadata": {},
          "execution_count": 59
        }
      ],
      "source": [
        "(pd.pivot_table(df, index='locality_name', values='price_per_sqrm', aggfunc={'count','mean'})\n",
        "    .sort_values(by = 'count', ascending=False)\n",
        "    .head(10))"
      ]
    },
    {
      "cell_type": "markdown",
      "metadata": {
        "id": "JnQxgTHgdfVQ"
      },
      "source": [
        "#### Вывод\n"
      ]
    },
    {
      "cell_type": "markdown",
      "metadata": {
        "id": "-3bnHO_adEux"
      },
      "source": [
        "В Санктр-Петербурге нельзя говорить о существовании агломерации. В ближайших населённых пунктах продается в десятки раз меньше объектов недвижимости.\n",
        "\n",
        "Дороже всего квадратный метр в самом Санкт-Петербурге. Близок к нему по ценам туристический Пушкин и Сестрорецк. А вот переехав во Всеволожск или Гатчину, можно сэкономить треть бюджета."
      ]
    },
    {
      "cell_type": "markdown",
      "metadata": {
        "id": "vmALEn5aeLs7"
      },
      "source": [
        "### Задача: определить, какая область входит в понятие \"центра\" Санкт-Петербурга"
      ]
    },
    {
      "cell_type": "markdown",
      "metadata": {
        "id": "CegxaA3YefXQ"
      },
      "source": [
        "Есть центр города в границах муниципального деления. А есть центр в представлении самих жителей города. И он должен довольно резко выделяться по стоимости квадратного метра, попробуем это проверить.\n",
        "\n",
        "Создадим отдельный датафрейм."
      ]
    },
    {
      "cell_type": "code",
      "execution_count": 60,
      "metadata": {
        "colab": {
          "base_uri": "https://localhost:8080/"
        },
        "id": "Lkw2O-X9gaG7",
        "outputId": "a89585ae-6d4a-4d94-bb35-422436cc02d2"
      },
      "outputs": [
        {
          "output_type": "execute_result",
          "data": {
            "text/plain": [
              "(9823, 32)"
            ]
          },
          "metadata": {},
          "execution_count": 60
        }
      ],
      "source": [
        "df_spb = df.query(\"locality_name == 'Санкт-Петербург'\")\n",
        "df_spb.shape"
      ]
    },
    {
      "cell_type": "markdown",
      "metadata": {
        "id": "gpb7mA5phREH"
      },
      "source": [
        "Петербуржских квартир 9823 в базе, это мы помним по предыдущей задаче, значит данные отобраны верно. Переведём расстояние до центра в километры и округлим до целых."
      ]
    },
    {
      "cell_type": "code",
      "execution_count": 61,
      "metadata": {
        "colab": {
          "base_uri": "https://localhost:8080/"
        },
        "id": "3T23Wtz6i963",
        "outputId": "5a8e269f-b5c1-4721-8030-6078dbc86454"
      },
      "outputs": [
        {
          "output_type": "stream",
          "name": "stderr",
          "text": [
            "/usr/local/lib/python3.7/dist-packages/ipykernel_launcher.py:1: SettingWithCopyWarning: \n",
            "A value is trying to be set on a copy of a slice from a DataFrame.\n",
            "Try using .loc[row_indexer,col_indexer] = value instead\n",
            "\n",
            "See the caveats in the documentation: https://pandas.pydata.org/pandas-docs/stable/user_guide/indexing.html#returning-a-view-versus-a-copy\n",
            "  \"\"\"Entry point for launching an IPython kernel.\n"
          ]
        }
      ],
      "source": [
        "df_spb['cityCenters_nearest_rounded_km'] = df_spb['cityCenters_nearest']/1000"
      ]
    },
    {
      "cell_type": "markdown",
      "metadata": {
        "id": "CNFLsUt0uX9s"
      },
      "source": [
        "Округлим полученные значения и посмотрим на наполняемость групп."
      ]
    },
    {
      "cell_type": "code",
      "execution_count": 62,
      "metadata": {
        "colab": {
          "base_uri": "https://localhost:8080/"
        },
        "id": "KtlQVN7Vua8S",
        "outputId": "09ed6157-633c-46c1-a026-4bf67d4e6694"
      },
      "outputs": [
        {
          "output_type": "stream",
          "name": "stderr",
          "text": [
            "/usr/local/lib/python3.7/dist-packages/ipykernel_launcher.py:1: SettingWithCopyWarning: \n",
            "A value is trying to be set on a copy of a slice from a DataFrame.\n",
            "Try using .loc[row_indexer,col_indexer] = value instead\n",
            "\n",
            "See the caveats in the documentation: https://pandas.pydata.org/pandas-docs/stable/user_guide/indexing.html#returning-a-view-versus-a-copy\n",
            "  \"\"\"Entry point for launching an IPython kernel.\n"
          ]
        },
        {
          "output_type": "execute_result",
          "data": {
            "text/plain": [
              "15.0    1028\n",
              "12.0    1027\n",
              "13.0     938\n",
              "14.0     842\n",
              "16.0     805\n",
              "11.0     722\n",
              "17.0     543\n",
              "5.0      543\n",
              "10.0     479\n",
              "4.0      436\n",
              "9.0      384\n",
              "8.0      384\n",
              "6.0      334\n",
              "7.0      236\n",
              "3.0      230\n",
              "2.0      197\n",
              "18.0     142\n",
              "1.0      120\n",
              "22.0     104\n",
              "19.0      97\n",
              "21.0      75\n",
              "23.0      58\n",
              "20.0      24\n",
              "0.0       15\n",
              "26.0      15\n",
              "25.0       8\n",
              "24.0       5\n",
              "29.0       5\n",
              "27.0       1\n",
              "28.0       1\n",
              "Name: cityCenters_nearest_rounded_km, dtype: int64"
            ]
          },
          "metadata": {},
          "execution_count": 62
        }
      ],
      "source": [
        "df_spb['cityCenters_nearest_rounded_km'] = df_spb['cityCenters_nearest_rounded_km'].round(0)\n",
        "df_spb['cityCenters_nearest_rounded_km'].value_counts()"
      ]
    },
    {
      "cell_type": "markdown",
      "metadata": {
        "id": "nhjC-HI1uhNp"
      },
      "source": [
        "Есть смысл объединить всё, что равно и больше 18 км в одну категорию, чтобы наполняемость групп была сравнима.\n"
      ]
    },
    {
      "cell_type": "code",
      "execution_count": 63,
      "metadata": {
        "colab": {
          "base_uri": "https://localhost:8080/"
        },
        "id": "AAB4EUo1yw4h",
        "outputId": "069303b8-0aa5-4214-a033-701aa121637c"
      },
      "outputs": [
        {
          "output_type": "stream",
          "name": "stderr",
          "text": [
            "/usr/local/lib/python3.7/dist-packages/ipykernel_launcher.py:31: SettingWithCopyWarning: \n",
            "A value is trying to be set on a copy of a slice from a DataFrame.\n",
            "Try using .loc[row_indexer,col_indexer] = value instead\n",
            "\n",
            "See the caveats in the documentation: https://pandas.pydata.org/pandas-docs/stable/user_guide/indexing.html#returning-a-view-versus-a-copy\n"
          ]
        }
      ],
      "source": [
        "df_spb['cityCenters_nearest_rounded_km_grouped'] = df_spb['cityCenters_nearest_rounded_km'].map({\n",
        "    1:1,\n",
        "    2:2,\n",
        "    3:3,\n",
        "    4:4,\n",
        "    5:5,\n",
        "    6:6,\n",
        "    7:7,\n",
        "    8:8,\n",
        "    9:9,\n",
        "    10:10,\n",
        "    11:11,\n",
        "    12:12,\n",
        "    13:13,\n",
        "    14:14,\n",
        "    15:15,\n",
        "    16:16,\n",
        "    17:17,\n",
        "    18:18,\n",
        "    19:18,\n",
        "    20:18,\n",
        "    21:18,\n",
        "    22:18,\n",
        "    23:18,\n",
        "    24:18,\n",
        "    25:18,\n",
        "    26:18,\n",
        "    27:18,\n",
        "    28:18,\n",
        "    29:18,\n",
        "    30:18})"
      ]
    },
    {
      "cell_type": "markdown",
      "metadata": {
        "id": "xacGegtHysQO"
      },
      "source": [
        "Построим график зависимости средней цены за квадратный метр от расстояния до центра в километрах."
      ]
    },
    {
      "cell_type": "code",
      "execution_count": 64,
      "metadata": {
        "colab": {
          "base_uri": "https://localhost:8080/",
          "height": 459
        },
        "id": "yWuQmKNyuouc",
        "outputId": "22e8e48b-731f-4a62-b885-f53b641abd41"
      },
      "outputs": [
        {
          "output_type": "display_data",
          "data": {
            "text/plain": [
              "<Figure size 720x504 with 1 Axes>"
            ],
            "image/png": "[encoded data removed]"
          },
          "metadata": {
            "needs_background": "light"
          }
        }
      ],
      "source": [
        "(df_spb.groupby('cityCenters_nearest_rounded_km_grouped')['price_per_sqrm']\n",
        "    .mean()\n",
        "    .plot(\n",
        "        color='purple',\n",
        "        ylim = [0,140000],\n",
        "        figsize=(10,7),\n",
        "        title='Связь переменной удалённости от центра и стоимости квадратного метра',\n",
        "        linewidth=3,\n",
        "        style='-o'))\n",
        "None"
      ]
    },
    {
      "cell_type": "markdown",
      "metadata": {
        "id": "_UMjJDN2udlb"
      },
      "source": [
        "#### Вывод"
      ]
    },
    {
      "cell_type": "markdown",
      "metadata": {
        "id": "KPR7VicV0YYT"
      },
      "source": [
        "Если считать, что \"провал\" на графике на уровне 3 км вызван тем, что в этом районе расположен старый фонд по низкой цене,то уровень цены за квадратный метр меняется несущественно до отметки в 7 км. Далее, на уровне 8 и 9 километров падение драматичное. Таким образом, можно определить, что психологическая отметка удалённости от центра, при которой собственники считают, что можно повысить стоимость за расположение в сердце города, находится на уровне 7 км."
      ]
    },
    {
      "cell_type": "markdown",
      "metadata": {
        "id": "1V7HFUOE1PJh"
      },
      "source": [
        "### Задача определить, чем квартиры в центре отличаются помимо стоимости"
      ]
    },
    {
      "cell_type": "markdown",
      "metadata": {
        "id": "k9oVf38f1p2t"
      },
      "source": [
        "Посмотрим на основные характеристики квартир в центре (center_data) и вне центра (noncenter_data). Выбраны медианы вместо средних, т.к. мы очень аккуратно чистили данные от выбросов и средние по-прежнему существенно выше медиан."
      ]
    },
    {
      "cell_type": "code",
      "execution_count": 65,
      "metadata": {
        "colab": {
          "base_uri": "https://localhost:8080/",
          "height": 300
        },
        "id": "BfcuYLew2uCc",
        "outputId": "bd89fc77-ac69-4c50-d3e3-999449e1d82c"
      },
      "outputs": [
        {
          "output_type": "execute_result",
          "data": {
            "text/plain": [
              "                    center_data  noncenter_data\n",
              "total_area            77.000000       51.000000\n",
              "rooms                  3.000000        2.000000\n",
              "ceiling_height         3.000000        2.600000\n",
              "floors_total           5.000000       10.000000\n",
              "parks_around3000       1.000000        0.000000\n",
              "ponds_around3000       1.000000        0.000000\n",
              "days_exposition      140.000000       89.000000\n",
              "price_per_sqrm    119815.668203   102537.313433"
            ],
            "text/html": [
              "\n",
              "  <div id=\"df-c74abd46-8c24-491f-a488-f4497eb2f088\">\n",
              "    <div class=\"colab-df-container\">\n",
              "      <div>\n",
              "<style scoped>\n",
              "    .dataframe tbody tr th:only-of-type {\n",
              "        vertical-align: middle;\n",
              "    }\n",
              "\n",
              "    .dataframe tbody tr th {\n",
              "        vertical-align: top;\n",
              "    }\n",
              "\n",
              "    .dataframe thead th {\n",
              "        text-align: right;\n",
              "    }\n",
              "</style>\n",
              "<table border=\"1\" class=\"dataframe\">\n",
              "  <thead>\n",
              "    <tr style=\"text-align: right;\">\n",
              "      <th></th>\n",
              "      <th>center_data</th>\n",
              "      <th>noncenter_data</th>\n",
              "    </tr>\n",
              "  </thead>\n",
              "  <tbody>\n",
              "    <tr>\n",
              "      <th>total_area</th>\n",
              "      <td>77.000000</td>\n",
              "      <td>51.000000</td>\n",
              "    </tr>\n",
              "    <tr>\n",
              "      <th>rooms</th>\n",
              "      <td>3.000000</td>\n",
              "      <td>2.000000</td>\n",
              "    </tr>\n",
              "    <tr>\n",
              "      <th>ceiling_height</th>\n",
              "      <td>3.000000</td>\n",
              "      <td>2.600000</td>\n",
              "    </tr>\n",
              "    <tr>\n",
              "      <th>floors_total</th>\n",
              "      <td>5.000000</td>\n",
              "      <td>10.000000</td>\n",
              "    </tr>\n",
              "    <tr>\n",
              "      <th>parks_around3000</th>\n",
              "      <td>1.000000</td>\n",
              "      <td>0.000000</td>\n",
              "    </tr>\n",
              "    <tr>\n",
              "      <th>ponds_around3000</th>\n",
              "      <td>1.000000</td>\n",
              "      <td>0.000000</td>\n",
              "    </tr>\n",
              "    <tr>\n",
              "      <th>days_exposition</th>\n",
              "      <td>140.000000</td>\n",
              "      <td>89.000000</td>\n",
              "    </tr>\n",
              "    <tr>\n",
              "      <th>price_per_sqrm</th>\n",
              "      <td>119815.668203</td>\n",
              "      <td>102537.313433</td>\n",
              "    </tr>\n",
              "  </tbody>\n",
              "</table>\n",
              "</div>\n",
              "      <button class=\"colab-df-convert\" onclick=\"convertToInteractive('df-c74abd46-8c24-491f-a488-f4497eb2f088')\"\n",
              "              title=\"Convert this dataframe to an interactive table.\"\n",
              "              style=\"display:none;\">\n",
              "        \n",
              "  <svg xmlns=\"http://www.w3.org/2000/svg\" height=\"24px\"viewBox=\"0 0 24 24\"\n",
              "       width=\"24px\">\n",
              "    <path d=\"M0 0h24v24H0V0z\" fill=\"none\"/>\n",
              "    <path d=\"M18.56 5.44l.94 2.06.94-2.06 2.06-.94-2.06-.94-.94-2.06-.94 2.06-2.06.94zm-11 1L8.5 8.5l.94-2.06 2.06-.94-2.06-.94L8.5 2.5l-.94 2.06-2.06.94zm10 10l.94 2.06.94-2.06 2.06-.94-2.06-.94-.94-2.06-.94 2.06-2.06.94z\"/><path d=\"M17.41 7.96l-1.37-1.37c-.4-.4-.92-.59-1.43-.59-.52 0-1.04.2-1.43.59L10.3 9.45l-7.72 7.72c-.78.78-.78 2.05 0 2.83L4 21.41c.39.39.9.59 1.41.59.51 0 1.02-.2 1.41-.59l7.78-7.78 2.81-2.81c.8-.78.8-2.07 0-2.86zM5.41 20L4 18.59l7.72-7.72 1.47 1.35L5.41 20z\"/>\n",
              "  </svg>\n",
              "      </button>\n",
              "      \n",
              "  <style>\n",
              "    .colab-df-container {\n",
              "      display:flex;\n",
              "      flex-wrap:wrap;\n",
              "      gap: 12px;\n",
              "    }\n",
              "\n",
              "    .colab-df-convert {\n",
              "      background-color: #E8F0FE;\n",
              "      border: none;\n",
              "      border-radius: 50%;\n",
              "      cursor: pointer;\n",
              "      display: none;\n",
              "      fill: #1967D2;\n",
              "      height: 32px;\n",
              "      padding: 0 0 0 0;\n",
              "      width: 32px;\n",
              "    }\n",
              "\n",
              "    .colab-df-convert:hover {\n",
              "      background-color: #E2EBFA;\n",
              "      box-shadow: 0px 1px 2px rgba(60, 64, 67, 0.3), 0px 1px 3px 1px rgba(60, 64, 67, 0.15);\n",
              "      fill: #174EA6;\n",
              "    }\n",
              "\n",
              "    [theme=dark] .colab-df-convert {\n",
              "      background-color: #3B4455;\n",
              "      fill: #D2E3FC;\n",
              "    }\n",
              "\n",
              "    [theme=dark] .colab-df-convert:hover {\n",
              "      background-color: #434B5C;\n",
              "      box-shadow: 0px 1px 3px 1px rgba(0, 0, 0, 0.15);\n",
              "      filter: drop-shadow(0px 1px 2px rgba(0, 0, 0, 0.3));\n",
              "      fill: #FFFFFF;\n",
              "    }\n",
              "  </style>\n",
              "\n",
              "      <script>\n",
              "        const buttonEl =\n",
              "          document.querySelector('#df-c74abd46-8c24-491f-a488-f4497eb2f088 button.colab-df-convert');\n",
              "        buttonEl.style.display =\n",
              "          google.colab.kernel.accessAllowed ? 'block' : 'none';\n",
              "\n",
              "        async function convertToInteractive(key) {\n",
              "          const element = document.querySelector('#df-c74abd46-8c24-491f-a488-f4497eb2f088');\n",
              "          const dataTable =\n",
              "            await google.colab.kernel.invokeFunction('convertToInteractive',\n",
              "                                                     [key], {});\n",
              "          if (!dataTable) return;\n",
              "\n",
              "          const docLinkHtml = 'Like what you see? Visit the ' +\n",
              "            '<a target=\"_blank\" href=https://colab.research.google.com/notebooks/data_table.ipynb>data table notebook</a>'\n",
              "            + ' to learn more about interactive tables.';\n",
              "          element.innerHTML = '';\n",
              "          dataTable['output_type'] = 'display_data';\n",
              "          await google.colab.output.renderOutput(dataTable, element);\n",
              "          const docLink = document.createElement('div');\n",
              "          docLink.innerHTML = docLinkHtml;\n",
              "          element.appendChild(docLink);\n",
              "        }\n",
              "      </script>\n",
              "    </div>\n",
              "  </div>\n",
              "  "
            ]
          },
          "metadata": {},
          "execution_count": 65
        }
      ],
      "source": [
        "center_description = (df_spb.query('cityCenters_nearest_rounded_km <=7')[\n",
        "    ['total_area', 'rooms', 'ceiling_height', 'floors_total', 'parks_around3000',\n",
        "     'ponds_around3000', 'days_exposition', 'price_per_sqrm']\n",
        "    ].median())\n",
        "\n",
        "df_center_description = pd.DataFrame(data=center_description, columns = ['center_data'])\n",
        "\n",
        "noncenter_description = (df_spb.query('cityCenters_nearest_rounded_km >7')[\n",
        "    ['total_area', 'rooms', 'ceiling_height', 'floors_total','parks_around3000',\n",
        "     'ponds_around3000', 'days_exposition', 'price_per_sqrm']\n",
        "    ].median())\n",
        "\n",
        "df_noncenter_description = pd.DataFrame(data=noncenter_description, columns = ['noncenter_data'])\n",
        "\n",
        "df_center_difference_data = pd.merge(df_center_description, df_noncenter_description, left_index=True, right_index=True)\n",
        "df_center_difference_data"
      ]
    },
    {
      "cell_type": "markdown",
      "metadata": {
        "id": "8dOayy3q_H3e"
      },
      "source": [
        "#### Вывод"
      ]
    },
    {
      "cell_type": "markdown",
      "metadata": {
        "id": "uo0T-WRI-4v9"
      },
      "source": [
        "Различия принципиальны. Итак, в центре много больших квартир, поэтому средние (медианные) площади больше. Также в центре популярны трёхкомнатные квартиры, когда вне центра - двухкомнатные. Высота потолков в центральных районах также ближе к 3 метрам, а на окраинах - стандартные 2,50. В центре малоэтажная застройка, на окраинах дома большей этажностью. Покупая квартиру в центре, вокрук, скорее всего, будут и парки, и водоёмы, чего не скажешь о картирах на окраинах. Но и стоят квартиры в центре дороже на 20% за квадратный метр, что с учётом больших площадей даёт рост общей сторимости в 2 раза, поэтому продаются дольше - 4-5 месяцев в среднем, когда на окраинах предложения уходят за 3 месяца."
      ]
    },
    {
      "cell_type": "markdown",
      "metadata": {
        "id": "unLTMaNReyuT"
      },
      "source": [
        "## Общий вывод"
      ]
    },
    {
      "cell_type": "markdown",
      "metadata": {
        "id": "5fhFCrcdeyuU"
      },
      "source": [
        "Мы подготовили базу для построения модели расчёта стоимости квартиры в зависимости от значений оцифрованных параметров.\n",
        "\n",
        "При построении данной модели предлагается в качестве зависимой переменной взять цену за квадратный метр.\n",
        "\n",
        "В качестве независимых переменных в первую очередь следует обратить внимание на следующие параметры:\n",
        "1. Количество комнат: самый дорогой \"метр\" - в однокомнатных квартирах (102,3 т.р.), самый дешёвый - в трёхкомнатных (90,5 т.р.)\n",
        "2. Факт расположения квартиры в радиусе 7 км от центра (в этом случае квартира стоит 119,8 т.р. за кв. м. в самом Санкт-Петербурге, в противном - 102.5 т.р. за кв.м.)\n",
        "3. Факт расположения квартиры на первом этаже (стоит 83,4 т.р. за кв.м.), на последнем этаже (по 89,2 т.р. за кв.м.) или на другом (по 99,8 т.р. за кв.м.)\n",
        "\n",
        "Также стоит помнить, что для квартир в городе будет играть роль инфраструктура в пешей доступности (парки, водоёмы, расстояние до аэропорта). Для квартир в пригороде эти параметры не будут иметь значение.\n",
        "\n",
        "Помимо этого мы выяснили особенности города. Т.к. город построен давно, и в центре, и на окраинах есть большое количество предложений по среднерыночной цене и цене ниже рынка. Однако наиболее дорогое жильё расположено в основном в центре. В центре больше квартир с высокими потолками и большей площади, чем на окраинах."
      ]
    }
  ],
  "metadata": {
    "ExecuteTimeLog": [
      {
        "duration": 948,
        "start_time": "2021-10-05T17:30:41.058Z"
      },
      {
        "duration": 826,
        "start_time": "2021-10-05T17:30:41.186Z"
      },
      {
        "duration": 819,
        "start_time": "2021-10-05T17:30:41.195Z"
      },
      {
        "duration": 784,
        "start_time": "2021-10-05T17:30:41.231Z"
      },
      {
        "duration": 776,
        "start_time": "2021-10-05T17:30:41.241Z"
      },
      {
        "duration": 767,
        "start_time": "2021-10-05T17:30:41.251Z"
      },
      {
        "duration": 756,
        "start_time": "2021-10-05T17:30:41.264Z"
      },
      {
        "duration": 752,
        "start_time": "2021-10-05T17:30:41.269Z"
      },
      {
        "duration": 745,
        "start_time": "2021-10-05T17:30:41.277Z"
      },
      {
        "duration": 741,
        "start_time": "2021-10-05T17:30:41.283Z"
      },
      {
        "duration": 734,
        "start_time": "2021-10-05T17:30:41.291Z"
      },
      {
        "duration": 729,
        "start_time": "2021-10-05T17:30:41.298Z"
      },
      {
        "duration": 725,
        "start_time": "2021-10-05T17:30:41.303Z"
      },
      {
        "duration": 718,
        "start_time": "2021-10-05T17:30:41.312Z"
      },
      {
        "duration": 712,
        "start_time": "2021-10-05T17:30:41.319Z"
      },
      {
        "duration": 709,
        "start_time": "2021-10-05T17:30:41.324Z"
      },
      {
        "duration": 705,
        "start_time": "2021-10-05T17:30:41.329Z"
      },
      {
        "duration": 700,
        "start_time": "2021-10-05T17:30:41.336Z"
      },
      {
        "duration": 690,
        "start_time": "2021-10-05T17:30:41.347Z"
      },
      {
        "duration": 686,
        "start_time": "2021-10-05T17:30:41.352Z"
      },
      {
        "duration": 681,
        "start_time": "2021-10-05T17:30:41.359Z"
      },
      {
        "duration": 677,
        "start_time": "2021-10-05T17:30:41.364Z"
      },
      {
        "duration": 561,
        "start_time": "2021-10-05T17:30:41.482Z"
      },
      {
        "duration": 556,
        "start_time": "2021-10-05T17:30:41.488Z"
      },
      {
        "duration": 553,
        "start_time": "2021-10-05T17:30:41.493Z"
      },
      {
        "duration": 550,
        "start_time": "2021-10-05T17:30:41.497Z"
      },
      {
        "duration": 476,
        "start_time": "2021-10-05T17:30:41.573Z"
      },
      {
        "duration": 471,
        "start_time": "2021-10-05T17:30:41.579Z"
      },
      {
        "duration": 465,
        "start_time": "2021-10-05T17:30:41.586Z"
      },
      {
        "duration": 458,
        "start_time": "2021-10-05T17:30:41.594Z"
      },
      {
        "duration": 461,
        "start_time": "2021-10-05T17:30:41.600Z"
      },
      {
        "duration": 458,
        "start_time": "2021-10-05T17:30:41.605Z"
      },
      {
        "duration": 433,
        "start_time": "2021-10-05T17:30:41.631Z"
      },
      {
        "duration": 430,
        "start_time": "2021-10-05T17:30:41.636Z"
      },
      {
        "duration": 425,
        "start_time": "2021-10-05T17:30:41.642Z"
      },
      {
        "duration": 422,
        "start_time": "2021-10-05T17:30:41.646Z"
      },
      {
        "duration": 417,
        "start_time": "2021-10-05T17:30:41.652Z"
      },
      {
        "duration": 373,
        "start_time": "2021-10-05T17:30:41.698Z"
      },
      {
        "duration": 369,
        "start_time": "2021-10-05T17:30:41.703Z"
      },
      {
        "duration": 359,
        "start_time": "2021-10-05T17:30:41.714Z"
      },
      {
        "duration": 357,
        "start_time": "2021-10-05T17:30:41.718Z"
      },
      {
        "duration": 353,
        "start_time": "2021-10-05T17:30:41.723Z"
      },
      {
        "duration": 349,
        "start_time": "2021-10-05T17:30:41.728Z"
      },
      {
        "duration": 348,
        "start_time": "2021-10-05T17:30:41.731Z"
      },
      {
        "duration": 343,
        "start_time": "2021-10-05T17:30:41.737Z"
      },
      {
        "duration": 338,
        "start_time": "2021-10-05T17:30:41.743Z"
      },
      {
        "duration": 335,
        "start_time": "2021-10-05T17:30:41.748Z"
      },
      {
        "duration": 331,
        "start_time": "2021-10-05T17:30:41.754Z"
      },
      {
        "duration": 325,
        "start_time": "2021-10-05T17:30:41.761Z"
      },
      {
        "duration": 322,
        "start_time": "2021-10-05T17:30:41.765Z"
      },
      {
        "duration": 320,
        "start_time": "2021-10-05T17:30:41.769Z"
      },
      {
        "duration": 316,
        "start_time": "2021-10-05T17:30:41.774Z"
      },
      {
        "duration": 311,
        "start_time": "2021-10-05T17:30:41.780Z"
      },
      {
        "duration": 308,
        "start_time": "2021-10-05T17:30:41.784Z"
      },
      {
        "duration": 300,
        "start_time": "2021-10-05T17:30:41.793Z"
      },
      {
        "duration": 297,
        "start_time": "2021-10-05T17:30:41.798Z"
      },
      {
        "duration": 293,
        "start_time": "2021-10-05T17:30:41.803Z"
      },
      {
        "duration": 289,
        "start_time": "2021-10-05T17:30:41.808Z"
      },
      {
        "duration": 1242,
        "start_time": "2021-10-05T18:18:14.191Z"
      },
      {
        "duration": 895,
        "start_time": "2021-10-05T18:18:20.939Z"
      },
      {
        "duration": 527,
        "start_time": "2021-10-05T18:18:21.836Z"
      },
      {
        "duration": 506,
        "start_time": "2021-10-05T18:18:22.367Z"
      },
      {
        "duration": 512,
        "start_time": "2021-10-05T18:18:22.876Z"
      },
      {
        "duration": 555,
        "start_time": "2021-10-05T18:18:23.390Z"
      },
      {
        "duration": 526,
        "start_time": "2021-10-05T18:18:23.947Z"
      },
      {
        "duration": 499,
        "start_time": "2021-10-05T18:18:24.476Z"
      },
      {
        "duration": 923,
        "start_time": "2021-10-05T18:18:24.980Z"
      },
      {
        "duration": 68,
        "start_time": "2021-10-05T18:18:25.906Z"
      },
      {
        "duration": 23,
        "start_time": "2021-10-05T18:18:25.977Z"
      },
      {
        "duration": 91,
        "start_time": "2021-10-05T18:18:26.002Z"
      },
      {
        "duration": 209,
        "start_time": "2021-10-05T18:18:26.096Z"
      },
      {
        "duration": 73,
        "start_time": "2021-10-05T18:18:26.307Z"
      },
      {
        "duration": 12,
        "start_time": "2021-10-05T18:18:26.382Z"
      },
      {
        "duration": 66,
        "start_time": "2021-10-05T18:18:26.397Z"
      },
      {
        "duration": 9,
        "start_time": "2021-10-05T18:18:26.465Z"
      },
      {
        "duration": 115,
        "start_time": "2021-10-05T18:18:26.476Z"
      },
      {
        "duration": 74,
        "start_time": "2021-10-05T18:18:26.594Z"
      },
      {
        "duration": 14,
        "start_time": "2021-10-05T18:18:26.673Z"
      },
      {
        "duration": 17,
        "start_time": "2021-10-05T18:18:26.690Z"
      },
      {
        "duration": 91,
        "start_time": "2021-10-05T18:18:26.709Z"
      },
      {
        "duration": 66,
        "start_time": "2021-10-05T18:18:26.803Z"
      },
      {
        "duration": 17,
        "start_time": "2021-10-05T18:18:26.879Z"
      },
      {
        "duration": 951,
        "start_time": "2021-10-05T18:18:26.899Z"
      },
      {
        "duration": 36,
        "start_time": "2021-10-05T18:18:27.852Z"
      },
      {
        "duration": 839,
        "start_time": "2021-10-05T18:18:27.891Z"
      },
      {
        "duration": 496,
        "start_time": "2021-10-05T18:18:28.733Z"
      },
      {
        "duration": 31,
        "start_time": "2021-10-05T18:18:29.232Z"
      },
      {
        "duration": 541,
        "start_time": "2021-10-05T18:18:29.267Z"
      },
      {
        "duration": 13,
        "start_time": "2021-10-05T18:18:29.810Z"
      },
      {
        "duration": 579,
        "start_time": "2021-10-05T18:18:29.826Z"
      },
      {
        "duration": 587,
        "start_time": "2021-10-05T18:18:30.407Z"
      },
      {
        "duration": 454,
        "start_time": "2021-10-05T18:18:30.997Z"
      },
      {
        "duration": 564,
        "start_time": "2021-10-05T18:18:31.463Z"
      },
      {
        "duration": 10,
        "start_time": "2021-10-05T18:18:32.030Z"
      },
      {
        "duration": 514,
        "start_time": "2021-10-05T18:18:32.042Z"
      },
      {
        "duration": 456,
        "start_time": "2021-10-05T18:18:32.563Z"
      },
      {
        "duration": 543,
        "start_time": "2021-10-05T18:18:33.022Z"
      },
      {
        "duration": 14,
        "start_time": "2021-10-05T18:18:33.569Z"
      },
      {
        "duration": 39,
        "start_time": "2021-10-05T18:18:33.587Z"
      },
      {
        "duration": 84,
        "start_time": "2021-10-05T18:18:33.630Z"
      },
      {
        "duration": 97,
        "start_time": "2021-10-05T18:18:33.716Z"
      },
      {
        "duration": 833,
        "start_time": "2021-10-05T18:18:33.815Z"
      },
      {
        "duration": 796,
        "start_time": "2021-10-05T18:18:33.856Z"
      },
      {
        "duration": 793,
        "start_time": "2021-10-05T18:18:33.869Z"
      },
      {
        "duration": 789,
        "start_time": "2021-10-05T18:18:33.875Z"
      },
      {
        "duration": 784,
        "start_time": "2021-10-05T18:18:33.882Z"
      },
      {
        "duration": 775,
        "start_time": "2021-10-05T18:18:33.892Z"
      },
      {
        "duration": 770,
        "start_time": "2021-10-05T18:18:33.899Z"
      },
      {
        "duration": 766,
        "start_time": "2021-10-05T18:18:33.905Z"
      },
      {
        "duration": 762,
        "start_time": "2021-10-05T18:18:33.910Z"
      },
      {
        "duration": 753,
        "start_time": "2021-10-05T18:18:33.922Z"
      },
      {
        "duration": 747,
        "start_time": "2021-10-05T18:18:33.929Z"
      },
      {
        "duration": 742,
        "start_time": "2021-10-05T18:18:33.936Z"
      },
      {
        "duration": 732,
        "start_time": "2021-10-05T18:18:33.947Z"
      },
      {
        "duration": 727,
        "start_time": "2021-10-05T18:18:33.954Z"
      },
      {
        "duration": 702,
        "start_time": "2021-10-05T18:46:41.467Z"
      },
      {
        "duration": 755,
        "start_time": "2021-10-05T18:46:41.418Z"
      },
      {
        "duration": 742,
        "start_time": "2021-10-05T18:46:41.432Z"
      },
      {
        "duration": 729,
        "start_time": "2021-10-05T18:46:41.446Z"
      },
      {
        "duration": 715,
        "start_time": "2021-10-05T18:46:41.461Z"
      },
      {
        "duration": 702,
        "start_time": "2021-10-05T18:46:41.476Z"
      },
      {
        "duration": 695,
        "start_time": "2021-10-05T18:46:41.484Z"
      },
      {
        "duration": 687,
        "start_time": "2021-10-05T18:46:41.494Z"
      },
      {
        "duration": 675,
        "start_time": "2021-10-05T18:46:41.507Z"
      },
      {
        "duration": 666,
        "start_time": "2021-10-05T18:46:41.517Z"
      },
      {
        "duration": 649,
        "start_time": "2021-10-05T18:46:41.536Z"
      },
      {
        "duration": 636,
        "start_time": "2021-10-05T18:46:41.550Z"
      },
      {
        "duration": 620,
        "start_time": "2021-10-05T18:46:41.568Z"
      },
      {
        "duration": 626,
        "start_time": "2021-10-05T18:49:37.408Z"
      },
      {
        "duration": 684,
        "start_time": "2021-10-05T18:49:38.138Z"
      },
      {
        "duration": 711,
        "start_time": "2021-10-05T18:49:39.180Z"
      },
      {
        "duration": 795,
        "start_time": "2021-10-05T18:49:40.228Z"
      },
      {
        "duration": 656,
        "start_time": "2021-10-05T18:49:41.044Z"
      },
      {
        "duration": 32,
        "start_time": "2021-10-05T18:49:44.088Z"
      },
      {
        "duration": 13,
        "start_time": "2021-10-05T18:50:02.980Z"
      },
      {
        "duration": 7,
        "start_time": "2021-10-05T18:50:03.680Z"
      },
      {
        "duration": 12,
        "start_time": "2021-10-05T18:50:04.272Z"
      },
      {
        "duration": 11,
        "start_time": "2021-10-05T18:50:05.316Z"
      },
      {
        "duration": 1132,
        "start_time": "2021-10-05T18:50:06.352Z"
      },
      {
        "duration": 31,
        "start_time": "2021-10-05T18:50:09.260Z"
      },
      {
        "duration": 4,
        "start_time": "2021-10-06T03:14:42.225Z"
      }
    ],
    "colab": {
      "collapsed_sections": [
        "Rod3IBAVeyuH",
        "JMiEKvKjeyuK",
        "jEYScU8mNot-",
        "Q14-AoL7eyuN",
        "3CPRqjomiSQA",
        "qWhWWuMxUXL2",
        "zJvn1eThbLCl",
        "YJ6t5X4kUI1f",
        "1blZlMhAMeuX",
        "3w54JacxVGYO",
        "vmALEn5aeLs7",
        "1V7HFUOE1PJh",
        "unLTMaNReyuT"
      ],
      "name": "DariaNika_stats&EDA_real_estate.ipynb",
      "provenance": []
    },
    "kernelspec": {
      "display_name": "Python 3 (ipykernel)",
      "language": "python",
      "name": "python3"
    },
    "language_info": {
      "codemirror_mode": {
        "name": "ipython",
        "version": 3
      },
      "file_extension": ".py",
      "mimetype": "text/x-python",
      "name": "python",
      "nbconvert_exporter": "python",
      "pygments_lexer": "ipython3",
      "version": "3.9.5"
    },
    "toc": {
      "base_numbering": 1,
      "nav_menu": {},
      "number_sections": true,
      "sideBar": true,
      "skip_h1_title": true,
      "title_cell": "Содержание",
      "title_sidebar": "Contents",
      "toc_cell": true,
      "toc_position": {
        "height": "calc(100% - 180px)",
        "left": "10px",
        "top": "150px",
        "width": "302.391px"
      },
      "toc_section_display": true,
      "toc_window_display": true
    }
  },
  "nbformat": 4,
  "nbformat_minor": 0
}